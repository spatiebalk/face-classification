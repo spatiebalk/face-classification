{
 "cells": [
  {
   "cell_type": "code",
   "execution_count": 1,
   "metadata": {},
   "outputs": [],
   "source": [
    "from os.path import join, isfile\n",
    "from os import listdir\n",
    "from PIL import Image\n",
    "\n",
    "import numpy as np"
   ]
  },
  {
   "cell_type": "code",
   "execution_count": 31,
   "metadata": {},
   "outputs": [
    {
     "name": "stdout",
     "output_type": "stream",
     "text": [
      "[0, -2, 1, -1]\n",
      "[0, 1]\n",
      "[-2, -1]\n"
     ]
    }
   ],
   "source": [
    "a = list(range(-3, 0))\n",
    "a.reverse()\n",
    "b = list(range(0, 4))\n",
    "c = zip(b, a)\n",
    "print(np.array(list(zip(list(range(0, int(float(age)/3.0))), list(range(int(float(age)/-3.0), 0))))).flatten().tolist())\n",
    "print(list(range(0, int(float(age)/3.0))))\n",
    "print( list(range(int(float(age)/-3.0), 0))) "
   ]
  },
  {
   "cell_type": "code",
   "execution_count": 33,
   "metadata": {},
   "outputs": [
    {
     "name": "stdout",
     "output_type": "stream",
     "text": [
      "[0, -1, 1, -2]\n"
     ]
    }
   ],
   "source": [
    "def get_list_age_dif(age_syn):\n",
    "    age_dif = int(float(age_syn)/3.0)\n",
    "    a = list(range(-age_dif, 0))\n",
    "    a.reverse()\n",
    "    b = list(range(0, age_dif + 1))\n",
    "    c = list(zip(b, a))\n",
    "    \n",
    "    return np.array(c).flatten().tolist()\n",
    "\n",
    "print(get_list_age_dif(6))"
   ]
  },
  {
   "cell_type": "raw",
   "metadata": {},
   "source": [
    "save everything as .jpg \n",
    "make complete_pipeline work\n",
    "\n",
    "duplicate everything without results to do kdv-22qq11"
   ]
  },
  {
   "cell_type": "code",
   "execution_count": 7,
   "metadata": {},
   "outputs": [],
   "source": [
    "#ADNP:\n",
    "dirr = r\"H:\\Genetica Projecten\\Facial Recognition\\Studenten en Onderzoekers\\Fien\\22q11\\22q11-all-photos\"\n",
    "dirr2 = r\"H:\\Genetica Projecten\\Facial Recognition\\Studenten en Onderzoekers\\Fien\\22q11\\22q11-all-photos-2\"\n",
    "\n",
    "files = [f for f in listdir(dirr) if not 'Thumbs.db' in f]\n",
    "\n",
    "for f in files:\n",
    "    im = Image.open(join(dirr, f))\n",
    "    im = im.convert(\"RGB\")\n",
    "    f = f.replace(\"JPG\", \"jpg\").replace(\"png\", \"jpg\")\n",
    "    im.save(join(dirr2, f))\n"
   ]
  },
  {
   "cell_type": "code",
   "execution_count": null,
   "metadata": {},
   "outputs": [],
   "source": []
  }
 ],
 "metadata": {
  "kernelspec": {
   "display_name": "Python 3",
   "language": "python",
   "name": "python3"
  },
  "language_info": {
   "codemirror_mode": {
    "name": "ipython",
    "version": 3
   },
   "file_extension": ".py",
   "mimetype": "text/x-python",
   "name": "python",
   "nbconvert_exporter": "python",
   "pygments_lexer": "ipython3",
   "version": "3.6.10"
  }
 },
 "nbformat": 4,
 "nbformat_minor": 4
}
