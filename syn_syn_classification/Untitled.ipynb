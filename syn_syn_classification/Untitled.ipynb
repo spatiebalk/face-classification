{
 "cells": [
  {
   "cell_type": "code",
   "execution_count": null,
   "metadata": {},
   "outputs": [],
   "source": [
    "#control selection figures\n",
    "\n",
    "\n",
    "hybrid_controls = [[0, 13, 18, 14, 10, 27, 13, 31, 12, 10, 9, 27],\n",
    "                   [0, 0, 10, 13, 12, 14, 9, 19, 8, 7, 7, 16],\n",
    "                   [0, 0, 0, 15, 11, 23, 10, 28, 13, 10, 7, 18],\n",
    "                   [0, 0, 0, 0, 12, 16, 10, 18, 11, 10, 6, 18]\n",
    "                   []\n",
    "                   []\n",
    "                   []\n",
    "                   []\n",
    "                   []\n",
    "                   []\n",
    "                   []\n",
    "                   []]"
   ]
  }
 ],
 "metadata": {
  "kernelspec": {
   "display_name": "Python 3",
   "language": "python",
   "name": "python3"
  },
  "language_info": {
   "codemirror_mode": {
    "name": "ipython",
    "version": 3
   },
   "file_extension": ".py",
   "mimetype": "text/x-python",
   "name": "python",
   "nbconvert_exporter": "python",
   "pygments_lexer": "ipython3",
   "version": "3.6.10"
  }
 },
 "nbformat": 4,
 "nbformat_minor": 4
}
