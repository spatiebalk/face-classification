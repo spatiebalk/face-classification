{
 "cells": [
  {
   "cell_type": "code",
   "execution_count": 1,
   "metadata": {},
   "outputs": [],
   "source": [
    "import time\n",
    "from itertools import combinations"
   ]
  },
  {
   "cell_type": "code",
   "execution_count": 2,
   "metadata": {},
   "outputs": [
    {
     "name": "stderr",
     "output_type": "stream",
     "text": [
      "Using TensorFlow backend.\n"
     ]
    }
   ],
   "source": [
    "import ID_control_selection\n",
    "import save_representations\n",
    "import classifiers_general"
   ]
  },
  {
   "cell_type": "code",
   "execution_count": 3,
   "metadata": {},
   "outputs": [
    {
     "name": "stdout",
     "output_type": "stream",
     "text": [
      "[('DYRK1A', 'WAC'), ('DYRK1A', 'YY1'), ('DYRK1A', 'KDVS'), ('EHMT1', 'FBXO11'), ('EHMT1', 'SON'), ('EHMT1', 'WAC'), ('EHMT1', 'YY1'), ('EHMT1', 'KDVS'), ('FBXO11', 'SON'), ('FBXO11', 'WAC'), ('FBXO11', 'YY1'), ('FBXO11', 'KDVS'), ('SON', 'WAC'), ('SON', 'YY1'), ('SON', 'KDVS'), ('WAC', 'YY1'), ('WAC', 'KDVS'), ('YY1', 'KDVS')]\n"
     ]
    }
   ],
   "source": [
    "GENERAL_DIR = r\"H:\\Genetica Projecten\\Facial Recognition\\Studenten en Onderzoekers\\Fien\" \n",
    "syn_list = ['ADNP', 'ANKRD11', 'CDK13', 'DEAF1', 'DYRK1A', 'EHMT1', 'FBXO11', 'SON', 'WAC', 'YY1', 'KDVS']\n",
    "syn_combs = list(combinations(syn_list, 2))\n",
    "print(syn_combs[-18:])"
   ]
  },
  {
   "cell_type": "raw",
   "metadata": {},
   "source": [
    "# alll syn_syn combinations\n",
    "start = time.time()\n",
    "trial_nr = 1\n",
    "syn_combs = list(combinations(syn_list, 2))\n",
    "\n",
    "for (syn, control) in syn_combs[-18:]:\n",
    "\n",
    "    # step 1: for each syndrome select fitting controls (age/gender), randomly if there are multiple suitable controls\n",
    "    ID_control_selection.main(GENERAL_DIR, syn, control, trial_nr)\n",
    "\n",
    "    # step 2: for each syndrome save the representation of the patient and control group to seperate csv files\n",
    "    save_representations.main(GENERAL_DIR, syn, control)\n",
    "\n",
    "    # # step 3: for each syndrome, try 5 classifiers and 8 different data combinations, save the results to a txt\n",
    "    classifiers_general.main(GENERAL_DIR, syn, control, trial_nr)\n",
    "    \n",
    "end = time.time()\n",
    "    \n",
    "    "
   ]
  },
  {
   "cell_type": "code",
   "execution_count": 4,
   "metadata": {},
   "outputs": [
    {
     "name": "stdout",
     "output_type": "stream",
     "text": [
      "Syndrome that will be classified: 22q11 with controls: KDVS \n",
      "\n",
      "\n",
      "0: Classifying data with deepface representation\n",
      "\n",
      "\n"
     ]
    },
    {
     "name": "stderr",
     "output_type": "stream",
     "text": [
      "\r",
      "  0%|                                                    | 0/5 [00:00<?, ?it/s]"
     ]
    },
    {
     "name": "stdout",
     "output_type": "stream",
     "text": [
      "Data shape: (84, 4096) and labels shape: (84,)\n",
      "Amount of negatives: 42 and positives: 42\n"
     ]
    },
    {
     "name": "stderr",
     "output_type": "stream",
     "text": [
      "100%|████████████████████████████████████████████| 5/5 [00:12<00:00,  2.48s/it]\n",
      "100%|████████████████████████████████████████████| 4/4 [01:05<00:00, 16.29s/it]\n",
      "100%|████████████████████████████████████████████| 4/4 [00:09<00:00,  2.34s/it]\n",
      "100%|████████████████████████████████████████████| 4/4 [02:14<00:00, 33.51s/it]\n",
      "100%|████████████████████████████████████████████| 4/4 [01:14<00:00, 18.70s/it]\n"
     ]
    },
    {
     "name": "stdout",
     "output_type": "stream",
     "text": [
      "1: Classifying data with dlib representation\n",
      "\n",
      "\n"
     ]
    },
    {
     "name": "stderr",
     "output_type": "stream",
     "text": [
      "\r",
      "  0%|                                                    | 0/5 [00:00<?, ?it/s]"
     ]
    },
    {
     "name": "stdout",
     "output_type": "stream",
     "text": [
      "Data shape: (84, 2277) and labels shape: (84,)\n",
      "Amount of negatives: 42 and positives: 42\n"
     ]
    },
    {
     "name": "stderr",
     "output_type": "stream",
     "text": [
      "100%|████████████████████████████████████████████| 5/5 [00:05<00:00,  1.00s/it]\n",
      "100%|████████████████████████████████████████████| 4/4 [00:38<00:00,  9.57s/it]\n",
      "100%|████████████████████████████████████████████| 4/4 [00:10<00:00,  2.69s/it]\n",
      "100%|████████████████████████████████████████████| 4/4 [03:21<00:00, 50.30s/it]\n",
      "100%|████████████████████████████████████████████| 4/4 [01:37<00:00, 24.40s/it]\n"
     ]
    },
    {
     "name": "stdout",
     "output_type": "stream",
     "text": [
      "2: Classifying data with all deepface+dlib representations\n",
      "\n",
      "\n"
     ]
    },
    {
     "name": "stderr",
     "output_type": "stream",
     "text": [
      "\r",
      "  0%|                                                    | 0/5 [00:00<?, ?it/s]"
     ]
    },
    {
     "name": "stdout",
     "output_type": "stream",
     "text": [
      "Data shape: (84, 6373) and labels shape: (84,)\n",
      "Amount of negatives: 42 and positives: 42\n"
     ]
    },
    {
     "name": "stderr",
     "output_type": "stream",
     "text": [
      "100%|████████████████████████████████████████████| 5/5 [00:16<00:00,  3.24s/it]\n",
      "100%|████████████████████████████████████████████| 4/4 [01:41<00:00, 25.32s/it]\n",
      "100%|████████████████████████████████████████████| 4/4 [00:11<00:00,  2.91s/it]\n",
      "100%|████████████████████████████████████████████| 4/4 [05:28<00:00, 82.20s/it]\n",
      "100%|████████████████████████████████████████████| 4/4 [02:44<00:00, 41.14s/it]\n"
     ]
    },
    {
     "name": "stdout",
     "output_type": "stream",
     "text": [
      "7: Classifying data with openface+cfps representation\n",
      "\n",
      "\n"
     ]
    },
    {
     "name": "stderr",
     "output_type": "stream",
     "text": [
      "\r",
      "  0%|                                                    | 0/5 [00:00<?, ?it/s]"
     ]
    },
    {
     "name": "stdout",
     "output_type": "stream",
     "text": [
      "Data shape: (78, 468) and labels shape: (78,)\n",
      "Amount of negatives: 39 and positives: 39\n"
     ]
    },
    {
     "name": "stderr",
     "output_type": "stream",
     "text": [
      "100%|████████████████████████████████████████████| 5/5 [00:01<00:00,  3.61it/s]\n",
      "100%|████████████████████████████████████████████| 4/4 [00:05<00:00,  1.45s/it]\n",
      "100%|████████████████████████████████████████████| 4/4 [00:07<00:00,  1.81s/it]\n",
      "100%|████████████████████████████████████████████| 4/4 [00:34<00:00,  8.62s/it]\n",
      "100%|████████████████████████████████████████████| 4/4 [00:22<00:00,  5.51s/it]\n"
     ]
    },
    {
     "name": "stdout",
     "output_type": "stream",
     "text": [
      "8: Classifying data with facereader representation\n",
      "\n",
      "\n"
     ]
    },
    {
     "name": "stderr",
     "output_type": "stream",
     "text": [
      " 40%|█████████████████▌                          | 2/5 [00:00<00:00, 10.36it/s]"
     ]
    },
    {
     "name": "stdout",
     "output_type": "stream",
     "text": [
      "Data shape: (56, 93) and labels shape: (56,)\n",
      "Amount of negatives: 28 and positives: 28\n"
     ]
    },
    {
     "name": "stderr",
     "output_type": "stream",
     "text": [
      "100%|████████████████████████████████████████████| 5/5 [00:00<00:00, 10.39it/s]\n",
      "100%|████████████████████████████████████████████| 4/4 [00:00<00:00,  6.88it/s]\n",
      "100%|████████████████████████████████████████████| 4/4 [00:04<00:00,  1.11s/it]\n",
      "100%|████████████████████████████████████████████| 4/4 [00:05<00:00,  1.30s/it]\n",
      "100%|████████████████████████████████████████████| 4/4 [00:06<00:00,  1.63s/it]"
     ]
    },
    {
     "name": "stdout",
     "output_type": "stream",
     "text": [
      "Done running classifiers_general.py\n",
      "Complete pipeline took 0.38 hours\n"
     ]
    },
    {
     "name": "stderr",
     "output_type": "stream",
     "text": [
      "\n"
     ]
    }
   ],
   "source": [
    "# one specific syn combination\n",
    "\n",
    "syn = '22q11'\n",
    "control = 'KDVS'\n",
    "trial_nr = 2\n",
    "\n",
    "start = time.time()\n",
    "\n",
    "# step 1: for each syndrome select fitting controls (age/gender), randomly if there are multiple suitable controls\n",
    "#ID_control_selection.main(GENERAL_DIR, syn, control, trial_nr)\n",
    "\n",
    "# step 2: for each syndrome save the representation of the patient and control group to seperate csv files\n",
    "#save_representations.main(GENERAL_DIR, syn, control)\n",
    "\n",
    "# # step 3: for each syndrome, try 5 classifiers and 8 different data combinations, save the results to a txt\n",
    "classifiers_general.main(GENERAL_DIR, syn, control, trial_nr)\n",
    "\n",
    "end = time.time()\n",
    "\n",
    "print(\"Complete pipeline took {:.2f} hours\".format((end-start)/3600)) # about 10 hours\n",
    "\n"
   ]
  },
  {
   "cell_type": "code",
   "execution_count": null,
   "metadata": {},
   "outputs": [],
   "source": []
  }
 ],
 "metadata": {
  "kernelspec": {
   "display_name": "Python 3",
   "language": "python",
   "name": "python3"
  },
  "language_info": {
   "codemirror_mode": {
    "name": "ipython",
    "version": 3
   },
   "file_extension": ".py",
   "mimetype": "text/x-python",
   "name": "python",
   "nbconvert_exporter": "python",
   "pygments_lexer": "ipython3",
   "version": "3.6.10"
  }
 },
 "nbformat": 4,
 "nbformat_minor": 4
}
