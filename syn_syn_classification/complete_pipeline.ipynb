{
 "cells": [
  {
   "cell_type": "code",
   "execution_count": 1,
   "metadata": {},
   "outputs": [],
   "source": [
    "import time"
   ]
  },
  {
   "cell_type": "code",
   "execution_count": 2,
   "metadata": {},
   "outputs": [
    {
     "name": "stderr",
     "output_type": "stream",
     "text": [
      "Using TensorFlow backend.\n"
     ]
    }
   ],
   "source": [
    "import ID_control_selection\n",
    "import save_representations\n",
    "import classifiers_general"
   ]
  },
  {
   "cell_type": "code",
   "execution_count": null,
   "metadata": {},
   "outputs": [
    {
     "name": "stdout",
     "output_type": "stream",
     "text": [
      "Syndrome that will be classified: 22q11 with controls: KDVS \n",
      "\n",
      "\n",
      "0: Classifying data with deepface representation\n",
      "\n",
      "\n"
     ]
    },
    {
     "name": "stderr",
     "output_type": "stream",
     "text": [
      "\r",
      "  0%|                                                    | 0/1 [00:00<?, ?it/s]"
     ]
    },
    {
     "name": "stdout",
     "output_type": "stream",
     "text": [
      "Data shape: (84, 4096) and labels shape: (84,)\n",
      "Amount of negatives: 42 and positives: 42\n"
     ]
    },
    {
     "name": "stderr",
     "output_type": "stream",
     "text": [
      "100%|████████████████████████████████████████████| 1/1 [00:02<00:00,  2.48s/it]\n",
      "100%|████████████████████████████████████████████| 1/1 [00:15<00:00, 15.35s/it]\n",
      "100%|████████████████████████████████████████████| 1/1 [00:01<00:00,  1.43s/it]\n",
      "  0%|                                                    | 0/1 [00:00<?, ?it/s]"
     ]
    }
   ],
   "source": [
    "# entire pipeline\n",
    "# ANKRD11 is done\n",
    "\n",
    "GENERAL_DIR = r\"H:\\Genetica Projecten\\Facial Recognition\\Studenten en Onderzoekers\\Fien\" \n",
    "#syn_list =  ['ADNP', 'ANKRD11', 'CDK13', 'DEAF1', 'DYRK1A', 'EHMT1', 'FBXO11', 'SON', 'WAC', 'YY1', 'KDVS'] # SPOP\n",
    "syn = '22q11'\n",
    "control = 'KDVS'\n",
    "\n",
    "trial_nr = 6\n",
    "\n",
    "start = time.time()\n",
    "\n",
    "# step 1: for each syndrome select fitting controls (age/gender), randomly if there are multiple suitable controls\n",
    "#ID_control_selection.main(GENERAL_DIR, syn, control, trial_nr)\n",
    "\n",
    "# step 2: for each syndrome save the representation of the patient and control group to seperate csv files\n",
    "#save_representations.main(GENERAL_DIR, syn, control)\n",
    "\n",
    "# # step 3: for each syndrome, try 5 classifiers and 8 different data combinations, save the results to a txt\n",
    "classifiers_general.main(GENERAL_DIR, syn, control, trial_nr)\n",
    "\n",
    "end = time.time()\n",
    "\n",
    "print(\"Complete pipeline took {:.2f} hours\".format((end-start)/3600)) # about 10 hours\n",
    "\n"
   ]
  },
  {
   "cell_type": "code",
   "execution_count": null,
   "metadata": {},
   "outputs": [],
   "source": [
    "#ID control selection + save_representations takes 0.5  "
   ]
  },
  {
   "cell_type": "raw",
   "metadata": {},
   "source": [
    "# sy_name_Database\n",
    "\n",
    "for all syn\n",
    "\n",
    "    containn names without jpg, but exact file name,\n",
    "    ages as integer\n",
    "    only rows for existing images \n",
    "    \n",
    "    run ID cntrol\n",
    "    \n",
    "    run save rep\n",
    "    \n",
    "    run classifiers and check data shape everywhere\n",
    "    \n",
    "    \n",
    "    control openface/cfps file whether same name is present for file names \n",
    "\n",
    "\n",
    "\n",
    "\n",
    "then run facereader again\n",
    "\n",
    "\n"
   ]
  },
  {
   "cell_type": "raw",
   "metadata": {},
   "source": [
    "# data van 222 qqqlll zoeken check\n",
    "# control selection hierop aanpassen check\n",
    "# save representations hierop aanpassen CHECK\n",
    "# classifiers ook --> duidelijk wat 0 en wat 1 is CHECK HAHA, is nu aan het runnen\n",
    "\n",
    "\n",
    "\n",
    "\n"
   ]
  }
 ],
 "metadata": {
  "kernelspec": {
   "display_name": "Python 3",
   "language": "python",
   "name": "python3"
  },
  "language_info": {
   "codemirror_mode": {
    "name": "ipython",
    "version": 3
   },
   "file_extension": ".py",
   "mimetype": "text/x-python",
   "name": "python",
   "nbconvert_exporter": "python",
   "pygments_lexer": "ipython3",
   "version": "3.6.10"
  }
 },
 "nbformat": 4,
 "nbformat_minor": 4
}
