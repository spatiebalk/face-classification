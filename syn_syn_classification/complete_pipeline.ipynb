{
 "cells": [
  {
   "cell_type": "code",
   "execution_count": 1,
   "metadata": {},
   "outputs": [],
   "source": [
    "import time\n",
    "from itertools import combinations"
   ]
  },
  {
   "cell_type": "code",
   "execution_count": 2,
   "metadata": {},
   "outputs": [
    {
     "name": "stderr",
     "output_type": "stream",
     "text": [
      "Using TensorFlow backend.\n"
     ]
    }
   ],
   "source": [
    "import ID_control_selection\n",
    "import save_representations\n",
    "import classifiers_general"
   ]
  },
  {
   "cell_type": "code",
   "execution_count": 3,
   "metadata": {},
   "outputs": [],
   "source": [
    "GENERAL_DIR = r\"H:\\Genetica Projecten\\Facial Recognition\\Studenten en Onderzoekers\\Fien\" \n",
    "syn_list = ['ADNP', 'ANKRD11', 'CDK13', 'DEAF1', 'DYRK1A', 'EHMT1', 'FBXO11', 'SON', 'WAC', 'YY1', 'KDVS']"
   ]
  },
  {
   "cell_type": "code",
   "execution_count": null,
   "metadata": {},
   "outputs": [
    {
     "name": "stdout",
     "output_type": "stream",
     "text": [
      "Selecting controls for trial 1 \n",
      "for syndrom: ADNP and control: ANKRD11\n",
      "there are (33, 3) patients\n",
      "For patient ADNP_1_2, gender: m, age: 0\n",
      "No match found within 1 and -1 years\n",
      "For patient ADNP_20, gender: f, age: 6\n",
      "No match found within 1 and -1 years\n",
      "For patient ADNP_23, gender: m, age: 5\n",
      "No match found within 1 and -1 years\n",
      "For patient ADNP_26, gender: m, age: 5\n",
      "No match found within 1 and -1 years\n",
      "For patient ADNP_27, gender: f, age: 5\n",
      "No match found within 1 and -1 years\n",
      "For patient ADNP_31, gender: f, age: 3\n",
      "No match found within 1 and -1 years\n",
      "For patient ADNP_36_1, gender: f, age: 0\n",
      "No match found within 1 and -1 years\n",
      "For patient ADNP_44, gender: f, age: 6\n",
      "No match found within 1 and -1 years\n",
      "For patient ADNP_49, gender: f, age: 2\n",
      "No match found within 1 and -1 years\n",
      "For patient ADNP_55, gender: f, age: 2\n",
      "No match found within 1 and -1 years\n",
      "For patient ADNP_56, gender: m, age: 2\n",
      "No match found within 1 and -1 years\n",
      "For patient ADNP_58, gender: f, age: 3\n",
      "No match found within 1 and -1 years\n",
      "For patient ADNP_59, gender: m, age: 3\n",
      "No match found within 1 and -1 years\n",
      "For patient ADNP_65, gender: m, age: 3\n",
      "No match found within 1 and -1 years\n",
      "For patient ADNP_67, gender: f, age: 4\n",
      "No match found within 1 and -1 years\n",
      "For patient ADNP_70, gender: f, age: 3\n",
      "No match found within 1 and -1 years\n",
      "For patient ADNP_77_1, gender: m, age: 1\n",
      "No match found within 1 and -1 years\n",
      "For patient ADNP_79_1, gender: f, age: 0\n",
      "No match found within 1 and -1 years\n",
      "Done finding all ID controls.\n",
      "Syndrome ADNP \n",
      "Shape of patient data (15, 3), shape of ANKRD11 control data (15, 3)\n",
      "Done running ID_control_selection.py\n",
      "\n",
      "openface\n",
      "Syn_files: 15, ID_files: 15\n",
      "Syn_reps: 15, ID_reps: 13\n",
      "Done with saving all openface representations for ADNP-ANKRD11.\n",
      "\n",
      "cfps\n",
      "Syn_files: 15, ID_files: 15\n",
      "Syn_reps: 15, ID_reps: 13\n",
      "Done with saving all cfps representations for ADNP-ANKRD11.\n",
      "\n",
      "deepface\n",
      "Syn_list: 15, ID_list: 15\n",
      "Syn_reps: 15, ID_reps: 15\n",
      "Done with saving all deepface representations for ADNP-ANKRD11.\n",
      "\n",
      "dlib\n",
      "Syn_list: 15, ID_list: 15\n",
      "No face found\n",
      "H:\\Genetica Projecten\\Facial Recognition\\Studenten en Onderzoekers\\Fien\\ADNP-ANKRD11\\ADNP-patients\\ADNP_50.jpg\n",
      "Syn_reps: 15, ID_reps: 15\n",
      "Done with saving all dlib representations for ADNP-ANKRD11.\n",
      "\n",
      "facereader\n",
      "Syn_list: 15, ID_list: 15\n",
      "Syn_reps: 15, ID_reps: 30\n",
      "Done with saving all facereader representations for ADNP-ANKRD11.\n",
      "Done running save_representations.py\n",
      "Syndrome that will be classified: ADNP with controls: ANKRD11 \n",
      "\n",
      "\n",
      "0: Classifying data with deepface representation\n",
      "\n",
      "\n"
     ]
    },
    {
     "name": "stderr",
     "output_type": "stream",
     "text": [
      "100%|████████████████████████████████████████████| 1/1 [00:00<00:00,  5.97it/s]\n",
      "  0%|                                                    | 0/1 [00:00<?, ?it/s]"
     ]
    },
    {
     "name": "stdout",
     "output_type": "stream",
     "text": [
      "Data shape: (30, 4096) and labels shape: (30,)\n",
      "Amount of negatives: 15 and positives: 15\n"
     ]
    },
    {
     "name": "stderr",
     "output_type": "stream",
     "text": [
      "100%|████████████████████████████████████████████| 1/1 [00:00<00:00,  1.21it/s]\n",
      "100%|████████████████████████████████████████████| 1/1 [00:00<00:00,  2.44it/s]\n",
      "100%|████████████████████████████████████████████| 1/1 [00:01<00:00,  1.73s/it]\n",
      "100%|████████████████████████████████████████████| 1/1 [00:01<00:00,  1.31s/it]\n",
      "  0%|                                                    | 0/1 [00:00<?, ?it/s]"
     ]
    },
    {
     "name": "stdout",
     "output_type": "stream",
     "text": [
      "1: Classifying data with dlib representation\n",
      "\n",
      "\n",
      "Data shape: (28, 2277) and labels shape: (28,)\n",
      "Amount of negatives: 14 and positives: 14\n"
     ]
    },
    {
     "name": "stderr",
     "output_type": "stream",
     "text": [
      "100%|████████████████████████████████████████████| 1/1 [00:00<00:00, 14.93it/s]\n",
      "100%|████████████████████████████████████████████| 1/1 [00:00<00:00,  2.72it/s]\n",
      "100%|████████████████████████████████████████████| 1/1 [00:00<00:00,  2.98it/s]\n",
      "100%|████████████████████████████████████████████| 1/1 [00:02<00:00,  2.08s/it]\n",
      "100%|████████████████████████████████████████████| 1/1 [00:01<00:00,  1.49s/it]\n",
      "  0%|                                                    | 0/1 [00:00<?, ?it/s]"
     ]
    },
    {
     "name": "stdout",
     "output_type": "stream",
     "text": [
      "2: Classifying data with all deepface+dlib representations\n",
      "\n",
      "\n",
      "Data shape: (28, 6373) and labels shape: (28,)\n",
      "Amount of negatives: 14 and positives: 14\n"
     ]
    },
    {
     "name": "stderr",
     "output_type": "stream",
     "text": [
      "100%|████████████████████████████████████████████| 1/1 [00:00<00:00,  4.97it/s]\n",
      "100%|████████████████████████████████████████████| 1/1 [00:01<00:00,  1.07s/it]\n",
      "100%|████████████████████████████████████████████| 1/1 [00:00<00:00,  2.52it/s]\n",
      "100%|████████████████████████████████████████████| 1/1 [00:03<00:00,  3.34s/it]\n",
      "100%|████████████████████████████████████████████| 1/1 [00:02<00:00,  2.32s/it]\n"
     ]
    },
    {
     "name": "stdout",
     "output_type": "stream",
     "text": [
      "7: Classifying data with openface+cfps representation\n",
      "\n",
      "\n"
     ]
    },
    {
     "name": "stderr",
     "output_type": "stream",
     "text": [
      "100%|████████████████████████████████████████████| 1/1 [00:00<00:00, 13.30it/s]\n",
      "100%|████████████████████████████████████████████| 1/1 [00:00<00:00, 12.23it/s]\n",
      "  0%|                                                    | 0/1 [00:00<?, ?it/s]"
     ]
    },
    {
     "name": "stdout",
     "output_type": "stream",
     "text": [
      "Data shape: (26, 468) and labels shape: (26,)\n",
      "Amount of negatives: 13 and positives: 13\n"
     ]
    },
    {
     "name": "stderr",
     "output_type": "stream",
     "text": [
      "100%|████████████████████████████████████████████| 1/1 [00:00<00:00,  3.45it/s]\n",
      "100%|████████████████████████████████████████████| 1/1 [00:00<00:00,  2.37it/s]\n",
      "100%|████████████████████████████████████████████| 1/1 [00:00<00:00,  1.90it/s]\n",
      "100%|███████████████████████████████████████████| 1/1 [00:00<00:00, 166.67it/s]"
     ]
    },
    {
     "name": "stdout",
     "output_type": "stream",
     "text": [
      "8: Classifying data with facereader representation\n",
      "\n",
      "\n",
      "Data shape: (14, 93) and labels shape: (14,)\n",
      "Amount of negatives: 7 and positives: 7\n"
     ]
    },
    {
     "name": "stderr",
     "output_type": "stream",
     "text": [
      "\n",
      "100%|████████████████████████████████████████████| 1/1 [00:00<00:00, 71.43it/s]\n",
      "100%|████████████████████████████████████████████| 1/1 [00:00<00:00,  5.69it/s]\n",
      "100%|████████████████████████████████████████████| 1/1 [00:00<00:00, 13.66it/s]\n",
      "100%|████████████████████████████████████████████| 1/1 [00:00<00:00,  5.66it/s]\n"
     ]
    },
    {
     "name": "stdout",
     "output_type": "stream",
     "text": [
      "Done running classifiers_general.py\n",
      "Selecting controls for trial 1 \n",
      "for syndrom: ADNP and control: CDK13\n",
      "there are (33, 3) patients\n",
      "For patient ADNP_1_2, gender: m, age: 0\n",
      "No match found within 1 and -1 years\n",
      "For patient ADNP_12_1, gender: m, age: 4\n",
      "No match found within 1 and -1 years\n",
      "For patient ADNP_21, gender: m, age: 5\n",
      "No match found within 1 and -1 years\n",
      "For patient ADNP_23, gender: m, age: 5\n",
      "No match found within 1 and -1 years\n",
      "For patient ADNP_26, gender: m, age: 5\n",
      "No match found within 1 and -1 years\n",
      "For patient ADNP_36_1, gender: f, age: 0\n",
      "No match found within 1 and -1 years\n",
      "For patient ADNP_39, gender: f, age: 35\n",
      "No match found within 10 and -10 years\n",
      "For patient ADNP_40, gender: f, age: 25\n",
      "No match found within 7 and -7 years\n",
      "For patient ADNP_50, gender: m, age: 2\n",
      "No match found within 1 and -1 years\n",
      "For patient ADNP_56, gender: m, age: 2\n",
      "No match found within 1 and -1 years\n",
      "For patient ADNP_59, gender: m, age: 3\n",
      "No match found within 1 and -1 years\n",
      "For patient ADNP_65, gender: m, age: 3\n",
      "No match found within 1 and -1 years\n",
      "For patient ADNP_67, gender: f, age: 4\n",
      "No match found within 1 and -1 years\n",
      "For patient ADNP_77_1, gender: m, age: 1\n",
      "No match found within 1 and -1 years\n",
      "For patient ADNP_79_1, gender: f, age: 0\n",
      "No match found within 1 and -1 years\n",
      "Done finding all ID controls.\n",
      "Syndrome ADNP \n",
      "Shape of patient data (18, 3), shape of CDK13 control data (18, 3)\n",
      "Done running ID_control_selection.py\n",
      "\n",
      "openface\n",
      "Syn_files: 18, ID_files: 18\n",
      "Syn_reps: 18, ID_reps: 18\n",
      "Done with saving all openface representations for ADNP-CDK13.\n",
      "\n",
      "cfps\n",
      "Syn_files: 18, ID_files: 18\n",
      "Syn_reps: 18, ID_reps: 18\n",
      "Done with saving all cfps representations for ADNP-CDK13.\n",
      "\n",
      "deepface\n",
      "Syn_list: 18, ID_list: 18\n",
      "Syn_reps: 18, ID_reps: 18\n",
      "Done with saving all deepface representations for ADNP-CDK13.\n",
      "\n",
      "dlib\n",
      "Syn_list: 18, ID_list: 18\n",
      "No face found\n",
      "H:\\Genetica Projecten\\Facial Recognition\\Studenten en Onderzoekers\\Fien\\ADNP-CDK13\\ADNP-patients\\ADNP_49.jpg\n",
      "Syn_reps: 18, ID_reps: 18\n",
      "Done with saving all dlib representations for ADNP-CDK13.\n",
      "\n",
      "facereader\n",
      "Syn_list: 18, ID_list: 18\n",
      "Syn_reps: 18, ID_reps: 18\n",
      "Done with saving all facereader representations for ADNP-CDK13.\n",
      "Done running save_representations.py\n",
      "Syndrome that will be classified: ADNP with controls: CDK13 \n",
      "\n",
      "\n",
      "0: Classifying data with deepface representation\n",
      "\n",
      "\n"
     ]
    },
    {
     "name": "stderr",
     "output_type": "stream",
     "text": [
      "\r",
      "  0%|                                                    | 0/1 [00:00<?, ?it/s]"
     ]
    },
    {
     "name": "stdout",
     "output_type": "stream",
     "text": [
      "Data shape: (36, 4096) and labels shape: (36,)\n",
      "Amount of negatives: 18 and positives: 18\n"
     ]
    },
    {
     "name": "stderr",
     "output_type": "stream",
     "text": [
      "100%|████████████████████████████████████████████| 1/1 [00:00<00:00,  4.47it/s]\n",
      "100%|████████████████████████████████████████████| 1/1 [00:01<00:00,  1.44s/it]\n",
      "100%|████████████████████████████████████████████| 1/1 [00:00<00:00,  1.94it/s]\n",
      "100%|████████████████████████████████████████████| 1/1 [00:02<00:00,  2.57s/it]\n",
      "100%|████████████████████████████████████████████| 1/1 [00:01<00:00,  1.83s/it]\n"
     ]
    },
    {
     "name": "stdout",
     "output_type": "stream",
     "text": [
      "1: Classifying data with dlib representation\n",
      "\n",
      "\n",
      "Data shape: (34, 2277) and labels shape: (34,)\n",
      "Amount of negatives: 17 and positives: 17\n"
     ]
    },
    {
     "name": "stderr",
     "output_type": "stream",
     "text": [
      "100%|████████████████████████████████████████████| 1/1 [00:00<00:00,  8.26it/s]\n",
      "100%|████████████████████████████████████████████| 1/1 [00:00<00:00,  1.51it/s]\n",
      "100%|████████████████████████████████████████████| 1/1 [00:00<00:00,  2.40it/s]\n",
      "100%|████████████████████████████████████████████| 1/1 [00:02<00:00,  2.93s/it]\n",
      "100%|████████████████████████████████████████████| 1/1 [00:02<00:00,  2.20s/it]\n"
     ]
    },
    {
     "name": "stdout",
     "output_type": "stream",
     "text": [
      "2: Classifying data with all deepface+dlib representations\n",
      "\n",
      "\n",
      "Data shape: (34, 6373) and labels shape: (34,)"
     ]
    },
    {
     "name": "stderr",
     "output_type": "stream",
     "text": [
      "\r",
      "  0%|                                                    | 0/1 [00:00<?, ?it/s]"
     ]
    },
    {
     "name": "stdout",
     "output_type": "stream",
     "text": [
      "\n",
      "Amount of negatives: 17 and positives: 17\n"
     ]
    },
    {
     "name": "stderr",
     "output_type": "stream",
     "text": [
      "100%|████████████████████████████████████████████| 1/1 [00:00<00:00,  3.47it/s]\n",
      "100%|████████████████████████████████████████████| 1/1 [00:01<00:00,  1.89s/it]\n",
      "100%|████████████████████████████████████████████| 1/1 [00:00<00:00,  1.96it/s]\n",
      "100%|████████████████████████████████████████████| 1/1 [00:05<00:00,  5.40s/it]\n",
      "100%|████████████████████████████████████████████| 1/1 [00:03<00:00,  3.47s/it]\n"
     ]
    },
    {
     "name": "stdout",
     "output_type": "stream",
     "text": [
      "7: Classifying data with openface+cfps representation\n",
      "\n",
      "\n"
     ]
    },
    {
     "name": "stderr",
     "output_type": "stream",
     "text": [
      "100%|████████████████████████████████████████████| 1/1 [00:00<00:00, 13.19it/s]\n",
      "  0%|                                                    | 0/1 [00:00<?, ?it/s]"
     ]
    },
    {
     "name": "stdout",
     "output_type": "stream",
     "text": [
      "Data shape: (36, 468) and labels shape: (36,)\n",
      "Amount of negatives: 18 and positives: 18\n"
     ]
    },
    {
     "name": "stderr",
     "output_type": "stream",
     "text": [
      "100%|████████████████████████████████████████████| 1/1 [00:00<00:00,  7.01it/s]\n",
      "100%|████████████████████████████████████████████| 1/1 [00:00<00:00,  2.31it/s]\n",
      "100%|████████████████████████████████████████████| 1/1 [00:00<00:00,  1.15it/s]\n",
      "100%|████████████████████████████████████████████| 1/1 [00:00<00:00,  1.17it/s]\n"
     ]
    },
    {
     "name": "stdout",
     "output_type": "stream",
     "text": [
      "8: Classifying data with facereader representation\n",
      "\n",
      "\n",
      "Done running classifiers_general.py\n",
      "Selecting controls for trial 1 \n",
      "for syndrom: ADNP and control: DEAF1\n",
      "there are (33, 3) patients\n",
      "For patient ADNP_1_2, gender: m, age: 0\n",
      "No match found within 1 and -1 years\n",
      "For patient ADNP_21, gender: m, age: 5\n",
      "No match found within 1 and -1 years\n",
      "For patient ADNP_23, gender: m, age: 5\n",
      "No match found within 1 and -1 years\n",
      "For patient ADNP_26, gender: m, age: 5\n",
      "No match found within 1 and -1 years\n",
      "For patient ADNP_36_1, gender: f, age: 0\n",
      "No match found within 1 and -1 years\n",
      "For patient ADNP_39, gender: f, age: 35\n",
      "No match found within 10 and -10 years\n",
      "For patient ADNP_40, gender: f, age: 25\n",
      "No match found within 7 and -7 years\n",
      "For patient ADNP_44, gender: f, age: 6\n",
      "No match found within 1 and -1 years\n",
      "For patient ADNP_49, gender: f, age: 2\n",
      "No match found within 1 and -1 years\n",
      "For patient ADNP_50, gender: m, age: 2\n",
      "No match found within 1 and -1 years\n",
      "For patient ADNP_55, gender: f, age: 2\n",
      "No match found within 1 and -1 years\n",
      "For patient ADNP_56, gender: m, age: 2\n",
      "No match found within 1 and -1 years\n",
      "For patient ADNP_58, gender: f, age: 3\n",
      "No match found within 1 and -1 years\n",
      "For patient ADNP_59, gender: m, age: 3\n",
      "No match found within 1 and -1 years\n",
      "For patient ADNP_65, gender: m, age: 3\n",
      "No match found within 1 and -1 years\n",
      "For patient ADNP_67, gender: f, age: 4\n",
      "No match found within 1 and -1 years\n",
      "For patient ADNP_70, gender: f, age: 3\n",
      "No match found within 1 and -1 years\n",
      "For patient ADNP_77_1, gender: m, age: 1\n",
      "No match found within 1 and -1 years\n",
      "For patient ADNP_79_1, gender: f, age: 0\n",
      "No match found within 1 and -1 years\n",
      "Done finding all ID controls.\n",
      "Syndrome ADNP \n",
      "Shape of patient data (14, 3), shape of DEAF1 control data (14, 3)\n",
      "Done running ID_control_selection.py\n",
      "\n",
      "openface\n",
      "Syn_files: 14, ID_files: 14\n",
      "Syn_reps: 14, ID_reps: 14\n",
      "Done with saving all openface representations for ADNP-DEAF1.\n",
      "\n",
      "cfps\n",
      "Syn_files: 14, ID_files: 14\n",
      "Syn_reps: 14, ID_reps: 14\n",
      "Done with saving all cfps representations for ADNP-DEAF1.\n",
      "\n",
      "deepface\n",
      "Syn_list: 14, ID_list: 14\n",
      "Syn_reps: 14, ID_reps: 14\n",
      "Done with saving all deepface representations for ADNP-DEAF1.\n",
      "\n",
      "dlib\n",
      "Syn_list: 14, ID_list: 14\n",
      "Syn_reps: 14, ID_reps: 14\n",
      "Done with saving all dlib representations for ADNP-DEAF1.\n",
      "\n",
      "facereader\n",
      "Syn_list: 14, ID_list: 14\n",
      "Syn_reps: 14, ID_reps: 14\n",
      "Done with saving all facereader representations for ADNP-DEAF1.\n",
      "Done running save_representations.py\n",
      "Syndrome that will be classified: ADNP with controls: DEAF1 \n",
      "\n",
      "\n",
      "0: Classifying data with deepface representation\n",
      "\n",
      "\n"
     ]
    },
    {
     "name": "stderr",
     "output_type": "stream",
     "text": [
      "100%|████████████████████████████████████████████| 1/1 [00:00<00:00,  7.34it/s]\n",
      "  0%|                                                    | 0/1 [00:00<?, ?it/s]"
     ]
    },
    {
     "name": "stdout",
     "output_type": "stream",
     "text": [
      "Data shape: (28, 4096) and labels shape: (28,)\n",
      "Amount of negatives: 14 and positives: 14\n"
     ]
    },
    {
     "name": "stderr",
     "output_type": "stream",
     "text": [
      "100%|████████████████████████████████████████████| 1/1 [00:00<00:00,  1.50it/s]\n",
      "100%|████████████████████████████████████████████| 1/1 [00:00<00:00,  2.60it/s]\n",
      "100%|████████████████████████████████████████████| 1/1 [00:01<00:00,  1.40s/it]\n",
      "100%|████████████████████████████████████████████| 1/1 [00:01<00:00,  1.21s/it]\n",
      "  0%|                                                    | 0/1 [00:00<?, ?it/s]"
     ]
    },
    {
     "name": "stdout",
     "output_type": "stream",
     "text": [
      "1: Classifying data with dlib representation\n",
      "\n",
      "\n",
      "Data shape: (28, 2277) and labels shape: (28,)\n",
      "Amount of negatives: 14 and positives: 14\n"
     ]
    },
    {
     "name": "stderr",
     "output_type": "stream",
     "text": [
      "100%|████████████████████████████████████████████| 1/1 [00:00<00:00, 14.12it/s]\n",
      "100%|████████████████████████████████████████████| 1/1 [00:00<00:00,  2.74it/s]\n",
      "100%|████████████████████████████████████████████| 1/1 [00:00<00:00,  2.99it/s]\n",
      "100%|████████████████████████████████████████████| 1/1 [00:02<00:00,  2.08s/it]\n",
      "100%|████████████████████████████████████████████| 1/1 [00:01<00:00,  1.50s/it]\n",
      "  0%|                                                    | 0/1 [00:00<?, ?it/s]"
     ]
    },
    {
     "name": "stdout",
     "output_type": "stream",
     "text": [
      "2: Classifying data with all deepface+dlib representations\n",
      "\n",
      "\n",
      "Data shape: (28, 6373) and labels shape: (28,)\n",
      "Amount of negatives: 14 and positives: 14\n"
     ]
    },
    {
     "name": "stderr",
     "output_type": "stream",
     "text": [
      "100%|████████████████████████████████████████████| 1/1 [00:00<00:00,  5.01it/s]\n",
      "100%|████████████████████████████████████████████| 1/1 [00:01<00:00,  1.07s/it]\n",
      "100%|████████████████████████████████████████████| 1/1 [00:00<00:00,  2.61it/s]\n",
      "100%|████████████████████████████████████████████| 1/1 [00:03<00:00,  3.24s/it]\n",
      "100%|████████████████████████████████████████████| 1/1 [00:02<00:00,  2.36s/it]\n"
     ]
    },
    {
     "name": "stdout",
     "output_type": "stream",
     "text": [
      "7: Classifying data with openface+cfps representation\n",
      "\n",
      "\n"
     ]
    },
    {
     "name": "stderr",
     "output_type": "stream",
     "text": [
      "100%|████████████████████████████████████████████| 1/1 [00:00<00:00, 35.71it/s]\n",
      "100%|████████████████████████████████████████████| 1/1 [00:00<00:00, 10.22it/s]\n",
      "  0%|                                                    | 0/1 [00:00<?, ?it/s]"
     ]
    },
    {
     "name": "stdout",
     "output_type": "stream",
     "text": [
      "Data shape: (28, 468) and labels shape: (28,)\n",
      "Amount of negatives: 14 and positives: 14\n"
     ]
    },
    {
     "name": "stderr",
     "output_type": "stream",
     "text": [
      "100%|████████████████████████████████████████████| 1/1 [00:00<00:00,  2.98it/s]\n",
      "100%|████████████████████████████████████████████| 1/1 [00:00<00:00,  1.93it/s]\n",
      "100%|████████████████████████████████████████████| 1/1 [00:00<00:00,  1.73it/s]\n",
      "100%|██████████████████████████████████████████| 1/1 [00:00<00:00, 1000.07it/s]\n",
      "100%|████████████████████████████████████████████| 1/1 [00:00<00:00, 76.92it/s]"
     ]
    },
    {
     "name": "stdout",
     "output_type": "stream",
     "text": [
      "8: Classifying data with facereader representation\n",
      "\n",
      "\n",
      "Data shape: (14, 93) and labels shape: (14,)\n",
      "Amount of negatives: 7 and positives: 7\n"
     ]
    },
    {
     "name": "stderr",
     "output_type": "stream",
     "text": [
      "\n",
      "100%|████████████████████████████████████████████| 1/1 [00:00<00:00,  5.91it/s]\n",
      "100%|████████████████████████████████████████████| 1/1 [00:00<00:00, 13.85it/s]\n",
      "100%|████████████████████████████████████████████| 1/1 [00:00<00:00,  5.67it/s]\n"
     ]
    },
    {
     "name": "stdout",
     "output_type": "stream",
     "text": [
      "Done running classifiers_general.py\n",
      "Selecting controls for trial 1 \n",
      "for syndrom: ADNP and control: DYRK1A\n",
      "there are (33, 3) patients\n",
      "For patient ADNP_2, gender: f, age: 3\n",
      "No match found within 1 and -1 years\n",
      "For patient ADNP_4, gender: m, age: 5\n",
      "No match found within 1 and -1 years\n",
      "For patient ADNP_10, gender: m, age: 5\n",
      "No match found within 1 and -1 years\n",
      "For patient ADNP_20, gender: f, age: 6\n",
      "No match found within 1 and -1 years\n",
      "For patient ADNP_21, gender: m, age: 5\n",
      "No match found within 1 and -1 years\n",
      "For patient ADNP_23, gender: m, age: 5\n",
      "No match found within 1 and -1 years\n",
      "For patient ADNP_26, gender: m, age: 5\n",
      "No match found within 1 and -1 years\n",
      "For patient ADNP_27, gender: f, age: 5\n",
      "No match found within 1 and -1 years\n",
      "For patient ADNP_31, gender: f, age: 3\n",
      "No match found within 1 and -1 years\n",
      "For patient ADNP_39, gender: f, age: 35\n",
      "No match found within 10 and -10 years\n",
      "For patient ADNP_44, gender: f, age: 6\n",
      "No match found within 1 and -1 years\n",
      "For patient ADNP_45, gender: m, age: 2\n",
      "No match found within 1 and -1 years\n",
      "For patient ADNP_49, gender: f, age: 2\n",
      "No match found within 1 and -1 years\n",
      "For patient ADNP_50, gender: m, age: 2\n",
      "No match found within 1 and -1 years\n",
      "For patient ADNP_55, gender: f, age: 2\n",
      "No match found within 1 and -1 years\n",
      "For patient ADNP_56, gender: m, age: 2\n",
      "No match found within 1 and -1 years\n",
      "For patient ADNP_58, gender: f, age: 3\n",
      "No match found within 1 and -1 years\n",
      "For patient ADNP_59, gender: m, age: 3\n",
      "No match found within 1 and -1 years\n",
      "For patient ADNP_65, gender: m, age: 3\n",
      "No match found within 1 and -1 years\n",
      "For patient ADNP_67, gender: f, age: 4\n",
      "No match found within 1 and -1 years\n",
      "For patient ADNP_70, gender: f, age: 3\n",
      "No match found within 1 and -1 years\n",
      "For patient ADNP_77_1, gender: m, age: 1\n",
      "No match found within 1 and -1 years\n",
      "For patient ADNP_79_1, gender: f, age: 0\n",
      "No match found within 1 and -1 years\n",
      "Done finding all ID controls.\n",
      "Syndrome ADNP \n",
      "Shape of patient data (10, 3), shape of DYRK1A control data (10, 3)\n",
      "Done running ID_control_selection.py\n",
      "\n",
      "openface\n",
      "Syn_files: 10, ID_files: 10\n",
      "Syn_reps: 10, ID_reps: 10\n",
      "Done with saving all openface representations for ADNP-DYRK1A.\n",
      "\n",
      "cfps\n",
      "Syn_files: 10, ID_files: 10\n",
      "Syn_reps: 10, ID_reps: 10\n",
      "Done with saving all cfps representations for ADNP-DYRK1A.\n",
      "\n",
      "deepface\n",
      "Syn_list: 10, ID_list: 10\n",
      "Syn_reps: 10, ID_reps: 10\n",
      "Done with saving all deepface representations for ADNP-DYRK1A.\n",
      "\n",
      "dlib\n",
      "Syn_list: 10, ID_list: 10\n",
      "No face found\n",
      "H:\\Genetica Projecten\\Facial Recognition\\Studenten en Onderzoekers\\Fien\\ADNP-DYRK1A\\ADNP-selected-DYRK1A-controls\\DYRK1A_7.jpg\n",
      "Syn_reps: 10, ID_reps: 10\n",
      "Done with saving all dlib representations for ADNP-DYRK1A.\n",
      "\n",
      "facereader\n",
      "Syn_list: 10, ID_list: 10\n",
      "Syn_reps: 10, ID_reps: 10\n",
      "Done with saving all facereader representations for ADNP-DYRK1A.\n",
      "Done running save_representations.py\n",
      "Syndrome that will be classified: ADNP with controls: DYRK1A \n",
      "\n",
      "\n",
      "0: Classifying data with deepface representation\n",
      "\n",
      "\n"
     ]
    },
    {
     "name": "stderr",
     "output_type": "stream",
     "text": [
      "100%|████████████████████████████████████████████| 1/1 [00:00<00:00, 11.71it/s]\n",
      "  0%|                                                    | 0/1 [00:00<?, ?it/s]"
     ]
    },
    {
     "name": "stdout",
     "output_type": "stream",
     "text": [
      "Data shape: (20, 4096) and labels shape: (20,)\n",
      "Amount of negatives: 10 and positives: 10\n"
     ]
    },
    {
     "name": "stderr",
     "output_type": "stream",
     "text": [
      "100%|████████████████████████████████████████████| 1/1 [00:00<00:00,  4.04it/s]\n",
      "100%|████████████████████████████████████████████| 1/1 [00:00<00:00,  4.40it/s]\n",
      "100%|████████████████████████████████████████████| 1/1 [00:00<00:00,  1.46it/s]\n",
      "100%|████████████████████████████████████████████| 1/1 [00:00<00:00,  1.46it/s]\n",
      "100%|████████████████████████████████████████████| 1/1 [00:00<00:00, 19.53it/s]\n",
      "  0%|                                                    | 0/1 [00:00<?, ?it/s]"
     ]
    },
    {
     "name": "stdout",
     "output_type": "stream",
     "text": [
      "1: Classifying data with dlib representation\n",
      "\n",
      "\n",
      "Data shape: (18, 2277) and labels shape: (18,)\n",
      "Amount of negatives: 9 and positives: 9\n"
     ]
    },
    {
     "name": "stderr",
     "output_type": "stream",
     "text": [
      "100%|████████████████████████████████████████████| 1/1 [00:00<00:00,  8.53it/s]\n",
      "100%|████████████████████████████████████████████| 1/1 [00:00<00:00,  4.84it/s]\n",
      "100%|████████████████████████████████████████████| 1/1 [00:00<00:00,  1.43it/s]\n",
      "100%|████████████████████████████████████████████| 1/1 [00:00<00:00,  1.65it/s]\n",
      "100%|████████████████████████████████████████████| 1/1 [00:00<00:00,  9.96it/s]"
     ]
    },
    {
     "name": "stdout",
     "output_type": "stream",
     "text": [
      "2: Classifying data with all deepface+dlib representations\n",
      "\n",
      "\n",
      "Data shape: (18, 6373) and labels shape: (18,)\n",
      "Amount of negatives: 9 and positives: 9\n"
     ]
    },
    {
     "name": "stderr",
     "output_type": "stream",
     "text": [
      "100%|████████████████████████████████████████████| 1/1 [00:00<00:00,  9.96it/s]\n",
      "100%|████████████████████████████████████████████| 1/1 [00:00<00:00,  3.47it/s]\n",
      "100%|████████████████████████████████████████████| 1/1 [00:00<00:00,  4.25it/s]\n",
      "100%|████████████████████████████████████████████| 1/1 [00:01<00:00,  1.16s/it]\n",
      "100%|████████████████████████████████████████████| 1/1 [00:00<00:00,  1.19it/s]\n",
      "  0%|                                                    | 0/1 [00:00<?, ?it/s]"
     ]
    },
    {
     "name": "stdout",
     "output_type": "stream",
     "text": [
      "7: Classifying data with openface+cfps representation\n",
      "\n",
      "\n",
      "Data shape: (20, 468) and labels shape: (20,)\n",
      "Amount of negatives: 10 and positives: 10\n"
     ]
    },
    {
     "name": "stderr",
     "output_type": "stream",
     "text": [
      "100%|████████████████████████████████████████████| 1/1 [00:00<00:00, 40.00it/s]\n",
      "100%|████████████████████████████████████████████| 1/1 [00:00<00:00, 23.26it/s]\n",
      "100%|████████████████████████████████████████████| 1/1 [00:00<00:00,  3.93it/s]\n",
      "100%|████████████████████████████████████████████| 1/1 [00:00<00:00,  4.04it/s]\n",
      "100%|████████████████████████████████████████████| 1/1 [00:00<00:00,  2.67it/s]\n",
      "100%|████████████████████████████████████████████| 1/1 [00:00<00:00, 60.24it/s]\n",
      "100%|████████████████████████████████████████████████████| 1/1 [00:00<?, ?it/s]\n",
      "  0%|                                                    | 0/1 [00:00<?, ?it/s]"
     ]
    },
    {
     "name": "stdout",
     "output_type": "stream",
     "text": [
      "8: Classifying data with facereader representation\n",
      "\n",
      "\n",
      "Data shape: (10, 93) and labels shape: (10,)\n",
      "Amount of negatives: 5 and positives: 5\n"
     ]
    },
    {
     "name": "stderr",
     "output_type": "stream",
     "text": [
      "100%|████████████████████████████████████████████| 1/1 [00:00<00:00,  8.62it/s]\n",
      "100%|████████████████████████████████████████████| 1/1 [00:00<00:00, 20.00it/s]\n",
      "100%|████████████████████████████████████████████| 1/1 [00:00<00:00, 17.86it/s]\n"
     ]
    },
    {
     "name": "stdout",
     "output_type": "stream",
     "text": [
      "Done running classifiers_general.py\n",
      "Selecting controls for trial 1 \n",
      "for syndrom: ADNP and control: EHMT1\n",
      "there are (33, 3) patients\n",
      "For patient ADNP_21, gender: m, age: 5\n",
      "No match found within 1 and -1 years\n",
      "For patient ADNP_23, gender: m, age: 5\n",
      "No match found within 1 and -1 years\n",
      "For patient ADNP_26, gender: m, age: 5\n",
      "No match found within 1 and -1 years\n",
      "For patient ADNP_58, gender: f, age: 3\n",
      "No match found within 1 and -1 years\n",
      "For patient ADNP_67, gender: f, age: 4\n",
      "No match found within 1 and -1 years\n",
      "For patient ADNP_70, gender: f, age: 3\n",
      "No match found within 1 and -1 years\n",
      "Done finding all ID controls.\n",
      "Syndrome ADNP \n",
      "Shape of patient data (27, 3), shape of EHMT1 control data (27, 3)\n",
      "Done running ID_control_selection.py\n",
      "\n",
      "openface\n",
      "Syn_files: 27, ID_files: 27\n",
      "Syn_reps: 27, ID_reps: 27\n",
      "Done with saving all openface representations for ADNP-EHMT1.\n",
      "\n",
      "cfps\n",
      "Syn_files: 27, ID_files: 27\n",
      "Syn_reps: 27, ID_reps: 27\n",
      "Done with saving all cfps representations for ADNP-EHMT1.\n",
      "\n",
      "deepface\n",
      "Syn_list: 27, ID_list: 27\n",
      "Syn_reps: 27, ID_reps: 27\n",
      "Done with saving all deepface representations for ADNP-EHMT1.\n",
      "\n",
      "dlib\n",
      "Syn_list: 27, ID_list: 27\n",
      "No face found\n",
      "H:\\Genetica Projecten\\Facial Recognition\\Studenten en Onderzoekers\\Fien\\ADNP-EHMT1\\ADNP-patients\\ADNP_49.jpg\n",
      "No face found\n",
      "H:\\Genetica Projecten\\Facial Recognition\\Studenten en Onderzoekers\\Fien\\ADNP-EHMT1\\ADNP-patients\\ADNP_50.jpg\n",
      "Syn_reps: 27, ID_reps: 27\n",
      "Done with saving all dlib representations for ADNP-EHMT1.\n",
      "\n",
      "facereader\n",
      "Syn_list: 27, ID_list: 27\n",
      "Syn_reps: 27, ID_reps: 27\n",
      "Done with saving all facereader representations for ADNP-EHMT1.\n",
      "Done running save_representations.py\n",
      "Syndrome that will be classified: ADNP with controls: EHMT1 \n",
      "\n",
      "\n",
      "0: Classifying data with deepface representation\n",
      "\n",
      "\n"
     ]
    },
    {
     "name": "stderr",
     "output_type": "stream",
     "text": [
      "\r",
      "  0%|                                                    | 0/1 [00:00<?, ?it/s]"
     ]
    },
    {
     "name": "stdout",
     "output_type": "stream",
     "text": [
      "Data shape: (54, 4096) and labels shape: (54,)\n",
      "Amount of negatives: 27 and positives: 27\n"
     ]
    },
    {
     "name": "stderr",
     "output_type": "stream",
     "text": [
      "100%|████████████████████████████████████████████| 1/1 [00:00<00:00,  2.04it/s]\n",
      "100%|████████████████████████████████████████████| 1/1 [00:04<00:00,  4.74s/it]\n",
      "100%|████████████████████████████████████████████| 1/1 [00:00<00:00,  1.26it/s]\n",
      "100%|████████████████████████████████████████████| 1/1 [00:06<00:00,  6.51s/it]\n",
      "100%|████████████████████████████████████████████| 1/1 [00:03<00:00,  3.80s/it]\n"
     ]
    },
    {
     "name": "stdout",
     "output_type": "stream",
     "text": [
      "1: Classifying data with dlib representation\n",
      "\n",
      "\n"
     ]
    },
    {
     "name": "stderr",
     "output_type": "stream",
     "text": [
      "\r",
      "  0%|                                                    | 0/1 [00:00<?, ?it/s]"
     ]
    },
    {
     "name": "stdout",
     "output_type": "stream",
     "text": [
      "Data shape: (50, 2277) and labels shape: (50,)\n",
      "Amount of negatives: 25 and positives: 25\n"
     ]
    },
    {
     "name": "stderr",
     "output_type": "stream",
     "text": [
      "100%|████████████████████████████████████████████| 1/1 [00:00<00:00,  4.92it/s]\n",
      "100%|████████████████████████████████████████████| 1/1 [00:02<00:00,  2.03s/it]\n",
      "100%|████████████████████████████████████████████| 1/1 [00:00<00:00,  1.38it/s]\n",
      "100%|████████████████████████████████████████████| 1/1 [00:08<00:00,  8.02s/it]\n",
      "100%|████████████████████████████████████████████| 1/1 [00:04<00:00,  4.71s/it]\n"
     ]
    },
    {
     "name": "stdout",
     "output_type": "stream",
     "text": [
      "2: Classifying data with all deepface+dlib representations\n",
      "\n",
      "\n"
     ]
    },
    {
     "name": "stderr",
     "output_type": "stream",
     "text": [
      "\r",
      "  0%|                                                    | 0/1 [00:00<?, ?it/s]"
     ]
    },
    {
     "name": "stdout",
     "output_type": "stream",
     "text": [
      "Data shape: (50, 6373) and labels shape: (50,)\n",
      "Amount of negatives: 25 and positives: 25\n"
     ]
    },
    {
     "name": "stderr",
     "output_type": "stream",
     "text": [
      "100%|████████████████████████████████████████████| 1/1 [00:00<00:00,  1.78it/s]\n",
      "100%|████████████████████████████████████████████| 1/1 [00:05<00:00,  5.91s/it]\n",
      "100%|████████████████████████████████████████████| 1/1 [00:00<00:00,  1.16it/s]\n",
      "100%|████████████████████████████████████████████| 1/1 [00:12<00:00, 12.97s/it]\n",
      "  0%|                                                    | 0/1 [00:00<?, ?it/s]"
     ]
    }
   ],
   "source": [
    "# alll syn_syn combinations\n",
    "start = time.time()\n",
    "trial_nr = 1\n",
    "syn_combs = list(combinations(syn_list, 2))\n",
    "\n",
    "for (syn, control) in syn_combs:\n",
    "\n",
    "    # step 1: for each syndrome select fitting controls (age/gender), randomly if there are multiple suitable controls\n",
    "    ID_control_selection.main(GENERAL_DIR, syn, control, trial_nr)\n",
    "\n",
    "    # step 2: for each syndrome save the representation of the patient and control group to seperate csv files\n",
    "    save_representations.main(GENERAL_DIR, syn, control)\n",
    "\n",
    "    # # step 3: for each syndrome, try 5 classifiers and 8 different data combinations, save the results to a txt\n",
    "    classifiers_general.main(GENERAL_DIR, syn, control, trial_nr)\n",
    "    \n",
    "end = time.time()\n",
    "    \n",
    "    "
   ]
  },
  {
   "cell_type": "raw",
   "metadata": {},
   "source": [
    "# one specific syn combination\n",
    "\n",
    "syn = '22q11'\n",
    "control = 'KDVS'\n",
    "trial_nr = 6\n",
    "\n",
    "start = time.time()\n",
    "\n",
    "# step 1: for each syndrome select fitting controls (age/gender), randomly if there are multiple suitable controls\n",
    "#ID_control_selection.main(GENERAL_DIR, syn, control, trial_nr)\n",
    "\n",
    "# step 2: for each syndrome save the representation of the patient and control group to seperate csv files\n",
    "#save_representations.main(GENERAL_DIR, syn, control)\n",
    "\n",
    "# # step 3: for each syndrome, try 5 classifiers and 8 different data combinations, save the results to a txt\n",
    "classifiers_general.main(GENERAL_DIR, syn, control, trial_nr)\n",
    "\n",
    "end = time.time()\n",
    "\n",
    "print(\"Complete pipeline took {:.2f} hours\".format((end-start)/3600)) # about 10 hours\n",
    "\n"
   ]
  },
  {
   "cell_type": "code",
   "execution_count": null,
   "metadata": {},
   "outputs": [],
   "source": [
    "print(list(range(0,2+1)))"
   ]
  },
  {
   "cell_type": "code",
   "execution_count": null,
   "metadata": {},
   "outputs": [],
   "source": []
  }
 ],
 "metadata": {
  "kernelspec": {
   "display_name": "Python 3",
   "language": "python",
   "name": "python3"
  },
  "language_info": {
   "codemirror_mode": {
    "name": "ipython",
    "version": 3
   },
   "file_extension": ".py",
   "mimetype": "text/x-python",
   "name": "python",
   "nbconvert_exporter": "python",
   "pygments_lexer": "ipython3",
   "version": "3.6.10"
  }
 },
 "nbformat": 4,
 "nbformat_minor": 4
}
