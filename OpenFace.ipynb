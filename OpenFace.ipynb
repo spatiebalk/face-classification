{
 "cells": [
  {
   "cell_type": "markdown",
   "metadata": {},
   "source": [
    "## OpenFace representation"
   ]
  },
  {
   "cell_type": "code",
   "execution_count": 9,
   "metadata": {},
   "outputs": [],
   "source": [
    "import time\n",
    "start = time.time()\n",
    "\n",
    "import argparse\n",
    "import cv2\n",
    "import itertools\n",
    "import os\n",
    "import numpy as np\n",
    "np.set_printoptions(precision=2)\n",
    "import openface\n",
    "import dlib"
   ]
  },
  {
   "cell_type": "code",
   "execution_count": 10,
   "metadata": {},
   "outputs": [
    {
     "name": "stdout",
     "output_type": "stream",
     "text": [
      "Argument parsing and loading libraries took 0.241365909576 seconds.\n",
      "Loading the dlib and OpenFace models took 3.3763730526 seconds.\n"
     ]
    }
   ],
   "source": [
    "# From https://github.com/cmusatyalab/openface/blob/master/demos/compare.py\n",
    "\n",
    "imgs = [] # input images\n",
    "dlibFacePredictor = \"/home/fien/openface/models/dlib/shape_predictor_68_face_landmarks.dat\"\n",
    "networkModel = \"/home/fien/openface/models/openface/nn4.small2.v1.t7\"\n",
    "imgDim = 96\n",
    "verbose = True\n",
    "\n",
    "if verbose:\n",
    "    print(\"Argument parsing and loading libraries took {} seconds.\".format(\n",
    "        time.time() - start))\n",
    "\n",
    "start = time.time()\n",
    "align = openface.AlignDlib(dlibFacePredictor)\n",
    "net = openface.TorchNeuralNet(networkModel, imgDim)\n",
    "   \n",
    "if verbose:\n",
    "    print(\"Loading the dlib and OpenFace models took {} seconds.\".format(\n",
    "        time.time() - start))"
   ]
  },
  {
   "cell_type": "code",
   "execution_count": 63,
   "metadata": {},
   "outputs": [],
   "source": [
    "# This function opens an image, detects and aligns a face.\n",
    "# Then the face is put through the OpenFace Neural Network to result in a 128-dimensional representation\n",
    "def getRep(imgPath):\n",
    "    if verbose:\n",
    "        print(\"Processing {}.\".format(imgPath))\n",
    "    bgrImg = cv2.imread(imgPath)\n",
    "    if bgrImg is None:\n",
    "        raise Exception(\"Unable to load image: {}\".format(imgPath))\n",
    "    rgbImg = cv2.cvtColor(bgrImg, cv2.COLOR_BGR2RGB)\n",
    "\n",
    "    if verbose:\n",
    "        print(\"  + Original size: {}\".format(rgbImg.shape))\n",
    "\n",
    "    start = time.time()\n",
    "    bb = align.getLargestFaceBoundingBox(rgbImg)\n",
    "    if bb is None:\n",
    "        raise Exception(\"Unable to find a face: {}\".format(imgPath))\n",
    "    if verbose:\n",
    "        print(\"  + Face detection took {} seconds.\".format(time.time() - start))\n",
    "\n",
    "    start = time.time()\n",
    "    alignedFace = align.align(imgDim, rgbImg, bb,\n",
    "                              landmarkIndices=openface.AlignDlib.OUTER_EYES_AND_NOSE)\n",
    "    if alignedFace is None:\n",
    "        raise Exception(\"Unable to align image: {}\".format(imgPath))\n",
    "    if verbose:\n",
    "        print(\"  + Face alignment took {} seconds.\".format(time.time() - start))\n",
    "\n",
    "    start = time.time()\n",
    "    rep = net.forward(alignedFace) \n",
    "    \n",
    "    if verbose:\n",
    "        print(\"  + OpenFace forward pass took {} seconds.\".format(time.time() - start))\n",
    "        print(\"Representation:\")\n",
    "        print(rep)\n",
    "        print(\"-----\\n\")\n",
    "    return rep"
   ]
  },
  {
   "cell_type": "markdown",
   "metadata": {},
   "source": [
    "## Comparison of 2 random faces"
   ]
  },
  {
   "cell_type": "code",
   "execution_count": 62,
   "metadata": {},
   "outputs": [
    {
     "name": "stdout",
     "output_type": "stream",
     "text": [
      "Comparing faces/women/woman1.jpg with faces/women/woman2.jpg.\n",
      "  + Squared l2 distance between representations: 0.644\n"
     ]
    }
   ],
   "source": [
    "img1 = \"faces/women/woman1.jpg\"\n",
    "img2 = \"faces/women/woman2.jpg\"\n",
    "\n",
    "d = getRep(img1) - getRep(img2)\n",
    "print(\"Comparing {} with {}.\".format(img1, img2))\n",
    "print(\"  + Squared l2 distance between representations: {:0.3f}\".format(np.dot(d, d)))"
   ]
  },
  {
   "cell_type": "markdown",
   "metadata": {},
   "source": [
    "## Dimension reduction"
   ]
  },
  {
   "cell_type": "code",
   "execution_count": 28,
   "metadata": {},
   "outputs": [],
   "source": [
    "verbose = False"
   ]
  },
  {
   "cell_type": "code",
   "execution_count": 34,
   "metadata": {},
   "outputs": [
    {
     "name": "stdout",
     "output_type": "stream",
     "text": [
      "(20, 128)\n",
      "(20,)\n",
      "(20, 128)\n",
      "(20,)\n"
     ]
    }
   ],
   "source": [
    "# load data\n",
    "women = [] \n",
    "women_directory = \"/home/fien/Documents/thesis/face-classification/faces/women\"\n",
    "\n",
    "for image in os.listdir(women_directory):\n",
    "    women.append(getRep(women_directory + \"/\" + image).tolist())\n",
    "    \n",
    "print(np.array(women).shape)\n",
    "\n",
    "women_labels = np.zeros(20)\n",
    "print(women_labels.shape)\n",
    "\n",
    "    \n",
    "men = [] \n",
    "men_directory = \"/home/fien/Documents/thesis/face-classification/faces/men\"\n",
    "\n",
    "for image in os.listdir(men_directory):\n",
    "    men.append(getRep(men_directory + \"/\" + image).tolist())\n",
    "    \n",
    "print(np.array(men).shape)\n",
    "\n",
    "men_labels = np.ones(20)\n",
    "print(men_labels.shape)"
   ]
  },
  {
   "cell_type": "code",
   "execution_count": 41,
   "metadata": {},
   "outputs": [
    {
     "name": "stdout",
     "output_type": "stream",
     "text": [
      "(40, 128)\n",
      "(40,)\n"
     ]
    }
   ],
   "source": [
    "data = women + men \n",
    "labels = women_labels.tolist() + men_labels.tolist()\n",
    "print(np.array(data).shape)\n",
    "print(np.array(labels).shape)"
   ]
  },
  {
   "cell_type": "code",
   "execution_count": 76,
   "metadata": {},
   "outputs": [
    {
     "data": {
      "image/png": "[encoded data removed]",
      "text/plain": [
       "<Figure size 864x432 with 2 Axes>"
      ]
     },
     "metadata": {
      "needs_background": "light"
     },
     "output_type": "display_data"
    }
   ],
   "source": [
    "from sklearn.manifold import TSNE\n",
    "from sklearn.decomposition import PCA\n",
    "%matplotlib inline\n",
    "import matplotlib.pyplot as plt\n",
    "\n",
    "plt.figure(figsize=(12,6))\n",
    "plt.plot([1,2])\n",
    "\n",
    "# visualize data in tnse (men/women)\n",
    "X = data\n",
    "X_embedded = TSNE(n_components=2, init='pca').fit_transform(X)\n",
    "\n",
    "plt.subplot(121)\n",
    "unique = list(set(labels))\n",
    "colors = [plt.cm.jet(float(i)/max(unique)) for i in unique]\n",
    "for i, u in enumerate(unique):\n",
    "    xi = [X_embedded[j, 0] for j  in range(len(X_embedded[:,0])) if labels[j] == u]\n",
    "    yi = [X_embedded[j, 1] for j  in range(len(X_embedded[:,1])) if labels[j] == u]\n",
    "    plt.scatter(xi, yi, c=colors[i], label=str(u))\n",
    "plt.legend()\n",
    "plt.title(\"t-sne\")\n",
    "\n",
    "# visualize data in pca (men/women)\n",
    "X = data\n",
    "X_embedded = PCA(n_components=2).fit_transform(X)\n",
    "\n",
    "plt.subplot(122)\n",
    "unique = list(set(labels))\n",
    "colors = [plt.cm.jet(float(i)/max(unique)) for i in unique]\n",
    "for i, u in enumerate(unique):\n",
    "    xi = [X_embedded[j, 0] for j  in range(len(X_embedded[:,0])) if labels[j] == u]\n",
    "    yi = [X_embedded[j, 1] for j  in range(len(X_embedded[:,1])) if labels[j] == u]\n",
    "    plt.scatter(xi, yi, c=colors[i], label=str(u))\n",
    "plt.legend()\n",
    "plt.title(\"pca\")\n",
    "\n",
    "plt.show()"
   ]
  },
  {
   "cell_type": "markdown",
   "metadata": {},
   "source": [
    "## k-NN classifier"
   ]
  },
  {
   "cell_type": "code",
   "execution_count": null,
   "metadata": {},
   "outputs": [],
   "source": []
  }
 ],
 "metadata": {
  "kernelspec": {
   "display_name": "Python 2",
   "language": "python",
   "name": "python2"
  },
  "language_info": {
   "codemirror_mode": {
    "name": "ipython",
    "version": 2
   },
   "file_extension": ".py",
   "mimetype": "text/x-python",
   "name": "python",
   "nbconvert_exporter": "python",
   "pygments_lexer": "ipython2",
   "version": "2.7.17"
  }
 },
 "nbformat": 4,
 "nbformat_minor": 4
}
