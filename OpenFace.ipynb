{
 "cells": [
  {
   "cell_type": "markdown",
   "metadata": {},
   "source": [
    "## OpenFace representation\n",
    "In this notebook the OpenFace model will be loaded, which is an implementation of Google's FaceNet, but then trained on a combination of different public data sets. Putting an image of a face through the model leads to a 128-dimensional feature representation.\n",
    "\n",
    "Sample data from the website https://generated.photos/faces will be used to demonstrate a binary classification task, namely classifying whether a face belongs to a man or a woman. Although this task is relatively easy, this small data set (20 men and 20 women) is used to build a pipeline before the real data is available. "
   ]
  },
  {
   "cell_type": "code",
<<<<<<< HEAD
   "execution_count": null,
=======
   "execution_count": 1,
>>>>>>> 744b55dacd8e284b4f7aaa8396818e65959bef61
   "metadata": {},
   "outputs": [],
   "source": [
    "import time\n",
    "start = time.time()\n",
    "\n",
    "import argparse\n",
    "import cv2\n",
    "import itertools\n",
    "import os\n",
    "import numpy as np\n",
    "np.set_printoptions(precision=2)\n",
    "import openface\n",
    "import dlib"
   ]
  },
  {
   "cell_type": "code",
   "execution_count": 2,
   "metadata": {},
   "outputs": [],
   "source": [
    "# From https://github.com/cmusatyalab/openface/blob/master/demos/compare.py\n",
    "\n",
    "imgs = [] # input images\n",
    "\n",
    "dlibFacePredictor = \"/home/fien/openface/models/dlib/shape_predictor_68_face_landmarks.dat\"\n",
    "networkModel = \"/home/fien/openface/models/openface/nn4.small2.v1.t7\"\n",
    "\n",
    "imgDim = 96\n",
    "verbose = False\n",
    "\n",
    "if verbose:\n",
    "    print(\"Argument parsing and loading libraries took {} seconds.\".format(\n",
    "        time.time() - start))\n",
    "\n",
    "start = time.time()\n",
    "align = openface.AlignDlib(dlibFacePredictor)\n",
    "net = openface.TorchNeuralNet(networkModel, imgDim)\n",
    "   \n",
    "if verbose:\n",
    "    print(\"Loading the dlib and OpenFace models took {} seconds.\".format(\n",
    "        time.time() - start))"
   ]
  },
  {
   "cell_type": "code",
   "execution_count": 3,
   "metadata": {},
   "outputs": [],
   "source": [
    "# This function opens an image, detects and aligns a face.\n",
    "# Then the face is put through the OpenFace Neural Network to result in a 128-dimensional representation\n",
    "def getRep(imgPath):\n",
    "    if verbose:\n",
    "        print(\"Processing {}.\".format(imgPath))\n",
    "    bgrImg = cv2.imread(imgPath)\n",
    "    if bgrImg is None:\n",
    "        raise Exception(\"Unable to load image: {}\".format(imgPath))\n",
    "    rgbImg = cv2.cvtColor(bgrImg, cv2.COLOR_BGR2RGB)\n",
    "\n",
    "    if verbose:\n",
    "        print(\"  + Original size: {}\".format(rgbImg.shape))\n",
    "\n",
    "    start = time.time()\n",
    "    bb = align.getLargestFaceBoundingBox(rgbImg)\n",
    "    if bb is None:\n",
    "        raise Exception(\"Unable to find a face: {}\".format(imgPath))\n",
    "    if verbose:\n",
    "        print(\"  + Face detection took {} seconds.\".format(time.time() - start))\n",
    "\n",
    "    start = time.time()\n",
    "    alignedFace = align.align(imgDim, rgbImg, bb,\n",
    "                              landmarkIndices=openface.AlignDlib.OUTER_EYES_AND_NOSE)\n",
    "    if alignedFace is None:\n",
    "        raise Exception(\"Unable to align image: {}\".format(imgPath))\n",
    "    if verbose:\n",
    "        print(\"  + Face alignment took {} seconds.\".format(time.time() - start))\n",
    "\n",
    "    start = time.time()\n",
    "    rep = net.forward(alignedFace) \n",
    "    \n",
    "    if verbose:\n",
    "        print(\"  + OpenFace forward pass took {} seconds.\".format(time.time() - start))\n",
    "        print(\"Representation:\")\n",
    "        print(rep)\n",
    "        print(\"-----\\n\")\n",
    "    return rep"
   ]
  },
  {
   "cell_type": "code",
   "execution_count": 4,
   "metadata": {},
   "outputs": [
    {
     "name": "stdout",
     "output_type": "stream",
     "text": [
      "Shape of women faces data (72, 128) and the shape of the labels (72,)\n",
      "Shape of men faces data (383, 128) and the shape of the labels (383,)\n"
     ]
    }
   ],
   "source": [
    "# load data\n",
    "kdv = [] \n",
    "kdv_directory = \"/media/sf_Fien/dataset-Roos-KdV\"\n",
    "\n",
    "for image in os.listdir(kdv_directory):\n",
    "    if \".jpg\" in image:\n",
    "        kdv.append(getRep(kdv_directory + \"/\" + image).tolist())\n",
    "\n",
    "kdv_labels = np.ones(len(kdv))\n",
    "print(\"Shape of women faces data \" + str(np.array(kdv).shape) + \" and the shape of the labels \" + str(kdv_labels.shape))\n",
    "    \n",
    "ID = [] \n",
    "ID_directory = \"/media/sf_Fien/ID controls\"\n",
    "\n",
    "for image in os.listdir(ID_directory):\n",
    "    if \".JPG\" in image:\n",
    "        ID.append(getRep(ID_directory + \"/\" + image).tolist())\n",
    "\n",
    "ID_labels = np.zeros(len(ID))\n",
    "print(\"Shape of men faces data \" + str(np.array(ID).shape) + \" and the shape of the labels \" + str(ID_labels.shape))\n"
   ]
  },
  {
   "cell_type": "markdown",
   "metadata": {},
   "source": [
    "## Comparison of 2 random faces"
   ]
  },
  {
   "cell_type": "raw",
   "metadata": {},
   "source": [
    "img1 = \"sample_data/women/woman1.jpg\"\n",
    "img2 = \"sample_data/women/woman2.jpg\"\n",
    "\n",
    "d = getRep(img1) - getRep(img2)\n",
    "print(\"Comparing {} with {}.\".format(img1, img2))\n",
    "print(\"  + Squared l2 distance between representations: {:0.3f}\".format(np.dot(d, d)))"
   ]
  },
  {
   "cell_type": "markdown",
   "metadata": {},
   "source": [
    "## Dimension reduction"
   ]
  },
  {
   "cell_type": "markdown",
   "metadata": {},
   "source": [
    "Currently, a face is represented with 128 features (see example above). For visualisation it would be beneficial, if the dimensions are reduced to 2. This is commonly done with either pca or t-sne, which both work slightly different, with a preference for t-sne as this usually performs better (also a somewhat more recent method)."
   ]
  },
  {
   "cell_type": "code",
   "execution_count": 6,
   "metadata": {},
   "outputs": [],
   "source": [
    "verbose = False"
   ]
  },
  {
   "cell_type": "code",
   "execution_count": 5,
   "metadata": {},
   "outputs": [
    {
     "name": "stdout",
     "output_type": "stream",
     "text": [
      "Shape of the concatenated data (455, 128)\n",
      "Shape of the concatenated labels (455,)\n"
     ]
    }
   ],
   "source": [
    "data = kdv + ID \n",
    "labels = kdv_labels.tolist() + ID_labels.tolist()\n",
    "print(\"Shape of the concatenated data \" + str(np.array(data).shape))\n",
    "print(\"Shape of the concatenated labels \" + str(np.array(labels).shape))"
   ]
  },
  {
   "cell_type": "code",
   "execution_count": 6,
   "metadata": {},
   "outputs": [
    {
     "data": {
      "image/png": "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\n",
      "text/plain": [
       "<Figure size 864x432 with 2 Axes>"
      ]
     },
     "metadata": {
      "needs_background": "light"
     },
     "output_type": "display_data"
    }
   ],
   "source": [
    "from sklearn.manifold import TSNE\n",
    "from sklearn.decomposition import PCA\n",
    "%matplotlib inline\n",
    "import matplotlib.pyplot as plt\n",
    "\n",
    "plt.figure(figsize=(12,6))\n",
    "plt.plot([1,2])\n",
    "\n",
    "# visualize data in tnse (men/women)\n",
    "X_embedded_tsne = TSNE(n_components=2, init='pca').fit_transform(data)\n",
    "\n",
    "plt.subplot(121)\n",
    "unique = list(set(labels))\n",
    "colors = [plt.cm.jet(float(i)/max(unique)) for i in unique]\n",
    "for i, u in enumerate(unique):\n",
    "    xi = [X_embedded_tsne[j, 0] for j  in range(len(X_embedded_tsne[:,0])) if labels[j] == u]\n",
    "    yi = [X_embedded_tsne[j, 1] for j  in range(len(X_embedded_tsne[:,1])) if labels[j] == u]\n",
    "    plt.scatter(xi, yi, c=colors[i], label=str(u))\n",
    "plt.legend()\n",
    "plt.title(\"t-sne\")\n",
    "\n",
    "# visualize data in pca (men/women)\n",
    "X_embedded_pca = PCA(n_components=2).fit_transform(data)\n",
    "\n",
    "plt.subplot(122)\n",
    "unique = list(set(labels))\n",
    "colors = [plt.cm.jet(float(i)/max(unique)) for i in unique]\n",
    "for i, u in enumerate(unique):\n",
    "    xi = [X_embedded_pca[j, 0] for j  in range(len(X_embedded_pca[:,0])) if labels[j] == u]\n",
    "    yi = [X_embedded_pca[j, 1] for j  in range(len(X_embedded_pca[:,1])) if labels[j] == u]\n",
    "    plt.scatter(xi, yi, c=colors[i], label=str(u))\n",
    "plt.legend()\n",
    "plt.title(\"pca\")\n",
    "\n",
    "plt.show()"
   ]
  },
  {
   "cell_type": "markdown",
   "metadata": {},
   "source": [
    "# k-Nearest Neighbors (k-NN)"
   ]
  },
  {
   "cell_type": "markdown",
   "metadata": {},
   "source": [
    "A k-Nearest Neighbor classifier is applied to either the 128-dimensional raw face representations and the 2-dimensional reduced face representations as a result of tsne. "
   ]
  },
  {
   "cell_type": "code",
   "execution_count": 7,
   "metadata": {},
   "outputs": [],
   "source": [
    "from sklearn.model_selection import train_test_split\n",
    "from sklearn.neighbors import KNeighborsClassifier"
   ]
  },
  {
   "cell_type": "markdown",
   "metadata": {},
   "source": [
    "#### k-NN using 128-dimensional face representation"
   ]
  },
  {
   "cell_type": "code",
   "execution_count": 14,
   "metadata": {},
   "outputs": [
    {
     "name": "stdout",
     "output_type": "stream",
     "text": [
      "0.7994505494505495\n",
      "Classifying everything as ID would give 383/455 = 0.841758241758\n"
     ]
    }
   ],
   "source": [
    "X_train, X_test, y_train, y_test = train_test_split(data, labels, test_size=0.8, random_state=42)\n",
    "\n",
    "knn = KNeighborsClassifier(n_neighbors=3)\n",
    "knn.fit(X_train, y_train)\n",
    "print(knn.score(X_test, y_test))\n",
    "\n",
    "percentage = float(len(ID))/(float(len(kdv)) + float(len(ID)))\n",
    "print(\"Classifying everything as ID would give {}/{} = {}\".format(len(ID), (len(kdv) + len(ID)), percentage))"
   ]
  },
  {
   "cell_type": "markdown",
   "metadata": {},
   "source": [
    "#### k-NN using 2-dimensional face representation"
   ]
  },
  {
   "cell_type": "code",
   "execution_count": 9,
   "metadata": {},
   "outputs": [
    {
     "data": {
      "text/plain": [
       "0.8159340659340659"
      ]
     },
     "execution_count": 9,
     "metadata": {},
     "output_type": "execute_result"
    }
   ],
   "source": [
    "X_train_tsne, X_test_tsne, y_train_tsne, y_test_tsne = train_test_split(X_embedded_tsne, labels, test_size=0.8, random_state=42)\n",
    "\n",
    "knn_tsne = KNeighborsClassifier(n_neighbors=3)\n",
    "knn_tsne.fit(X_train_tsne, y_train_tsne)\n",
    "knn_tsne.score(X_test_tsne, y_test_tsne)"
   ]
  },
  {
   "cell_type": "markdown",
   "metadata": {},
   "source": [
    "As this binary classification task is trivial, it is seen that even with 20 percent of the training data (8 images) both face representations (original of 128 dimensions and the reduced of 2 dimensions) almost perform perfectly. "
   ]
  },
  {
   "cell_type": "markdown",
   "metadata": {},
   "source": [
    "# Support Vector Machine (SVM)"
   ]
  },
  {
   "cell_type": "markdown",
   "metadata": {},
   "source": [
    "C-Support Vector Classification is applied with a radial Basis Function (RBF) kernel (default kernel). A kernel is used in a SVM to map a data set that is not linearly separable to a higher dimension such that it is linearly separable. "
   ]
  },
  {
   "cell_type": "code",
   "execution_count": 15,
   "metadata": {},
   "outputs": [],
   "source": [
    "from sklearn import svm"
   ]
  },
  {
   "cell_type": "code",
   "execution_count": 16,
   "metadata": {},
   "outputs": [
    {
     "name": "stderr",
     "output_type": "stream",
     "text": [
      "/home/fien/anaconda3/envs/openface/lib/python2.7/site-packages/sklearn/svm/base.py:196: FutureWarning: The default value of gamma will change from 'auto' to 'scale' in version 0.22 to account better for unscaled features. Set gamma explicitly to 'auto' or 'scale' to avoid this warning.\n",
      "  \"avoid this warning.\", FutureWarning)\n"
     ]
    },
    {
     "data": {
      "text/plain": [
       "0.8406593406593407"
      ]
     },
     "execution_count": 16,
     "metadata": {},
     "output_type": "execute_result"
    }
   ],
   "source": [
    "svm_model = svm.SVC()\n",
    "svm_model.fit(X_train, y_train)\n",
    "svm_model.score(X_test, y_test)"
   ]
  },
  {
   "cell_type": "markdown",
   "metadata": {},
   "source": [
    "# Linear Discrimant Analysis (LDA)"
   ]
  },
  {
   "cell_type": "markdown",
   "metadata": {},
   "source": [
    "Classifier with a linear decision boundary. \"Generated by fitting class conditional densities to the data and using Bayes’ rule. The model fits a Gaussian density to each class, assuming that all classes share the same covariance matrix.\" from  [scikit-learn documentation](https://scikit-learn.org/stable/modules/generated/sklearn.discriminant_analysis.LinearDiscriminantAnalysis.html) "
   ]
  },
  {
   "cell_type": "code",
   "execution_count": 17,
   "metadata": {},
   "outputs": [],
   "source": [
    "from sklearn.discriminant_analysis import LinearDiscriminantAnalysis"
   ]
  },
  {
   "cell_type": "code",
   "execution_count": 18,
   "metadata": {},
   "outputs": [
    {
     "name": "stderr",
     "output_type": "stream",
     "text": [
      "/home/fien/anaconda3/envs/openface/lib/python2.7/site-packages/sklearn/discriminant_analysis.py:388: UserWarning: Variables are collinear.\n",
      "  warnings.warn(\"Variables are collinear.\")\n"
     ]
    },
    {
     "data": {
      "text/plain": [
       "0.7307692307692307"
      ]
     },
     "execution_count": 18,
     "metadata": {},
     "output_type": "execute_result"
    }
   ],
   "source": [
    "lda_model = LinearDiscriminantAnalysis()\n",
    "lda_model.fit(X_train, y_train)\n",
    "lda_model.score(X_test, y_test)"
   ]
  },
  {
   "cell_type": "code",
   "execution_count": null,
   "metadata": {},
   "outputs": [],
   "source": []
  }
 ],
 "metadata": {
  "kernelspec": {
   "display_name": "Python 3",
   "language": "python",
   "name": "python3"
  },
  "language_info": {
   "codemirror_mode": {
    "name": "ipython",
    "version": 2
   },
   "file_extension": ".py",
   "mimetype": "text/x-python",
   "name": "python",
   "nbconvert_exporter": "python",
   "pygments_lexer": "ipython2",
<<<<<<< HEAD
   "version": "2.7.16"
=======
   "version": "2.7.15"
>>>>>>> 744b55dacd8e284b4f7aaa8396818e65959bef61
  }
 },
 "nbformat": 4,
 "nbformat_minor": 4
}
