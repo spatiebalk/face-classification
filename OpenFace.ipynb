{
 "cells": [
  {
   "cell_type": "markdown",
   "metadata": {},
   "source": [
    "## OpenFace representation"
   ]
  },
  {
   "cell_type": "code",
   "execution_count": 2,
   "metadata": {},
   "outputs": [],
   "source": [
    "import time\n",
    "start = time.time()\n",
    "\n",
    "import argparse\n",
    "import cv2\n",
    "import itertools\n",
    "import os\n",
    "import numpy as np\n",
    "np.set_printoptions(precision=2)\n",
    "import openface\n",
    "import dlib"
   ]
  },
  {
   "cell_type": "code",
   "execution_count": 3,
   "metadata": {},
   "outputs": [
    {
     "name": "stdout",
     "output_type": "stream",
     "text": [
      "Argument parsing and loading libraries took 0.627757787704 seconds.\n",
      "Loading the dlib and OpenFace models took 5.0898668766 seconds.\n"
     ]
    }
   ],
   "source": [
    "# From https://github.com/cmusatyalab/openface/blob/master/demos/compare.py\n",
    "\n",
    "imgs = [] # input images\n",
    "dlibFacePredictor = \"/home/fien/openface/models/dlib/shape_predictor_68_face_landmarks.dat\"\n",
    "networkModel = \"/home/fien/openface/models/openface/nn4.small2.v1.t7\"\n",
    "imgDim = 96\n",
    "verbose = True\n",
    "\n",
    "if verbose:\n",
    "    print(\"Argument parsing and loading libraries took {} seconds.\".format(\n",
    "        time.time() - start))\n",
    "\n",
    "start = time.time()\n",
    "align = openface.AlignDlib(dlibFacePredictor)\n",
    "net = openface.TorchNeuralNet(networkModel, imgDim)\n",
    "   \n",
    "if verbose:\n",
    "    print(\"Loading the dlib and OpenFace models took {} seconds.\".format(\n",
    "        time.time() - start))"
   ]
  },
  {
   "cell_type": "code",
   "execution_count": 4,
   "metadata": {},
   "outputs": [],
   "source": [
    "# This function opens an image, detects and aligns a face.\n",
    "# Then the face is put through the OpenFace Neural Network to result in a 128-dimensional representation\n",
    "def getRep(imgPath):\n",
    "    if verbose:\n",
    "        print(\"Processing {}.\".format(imgPath))\n",
    "    bgrImg = cv2.imread(imgPath)\n",
    "    if bgrImg is None:\n",
    "        raise Exception(\"Unable to load image: {}\".format(imgPath))\n",
    "    rgbImg = cv2.cvtColor(bgrImg, cv2.COLOR_BGR2RGB)\n",
    "\n",
    "    if verbose:\n",
    "        print(\"  + Original size: {}\".format(rgbImg.shape))\n",
    "\n",
    "    start = time.time()\n",
    "    bb = align.getLargestFaceBoundingBox(rgbImg)\n",
    "    if bb is None:\n",
    "        raise Exception(\"Unable to find a face: {}\".format(imgPath))\n",
    "    if verbose:\n",
    "        print(\"  + Face detection took {} seconds.\".format(time.time() - start))\n",
    "\n",
    "    start = time.time()\n",
    "    alignedFace = align.align(imgDim, rgbImg, bb,\n",
    "                              landmarkIndices=openface.AlignDlib.OUTER_EYES_AND_NOSE)\n",
    "    if alignedFace is None:\n",
    "        raise Exception(\"Unable to align image: {}\".format(imgPath))\n",
    "    if verbose:\n",
    "        print(\"  + Face alignment took {} seconds.\".format(time.time() - start))\n",
    "\n",
    "    start = time.time()\n",
    "    rep = net.forward(alignedFace) \n",
    "    \n",
    "    if verbose:\n",
    "        print(\"  + OpenFace forward pass took {} seconds.\".format(time.time() - start))\n",
    "        print(\"Representation:\")\n",
    "        print(rep)\n",
    "        print(\"-----\\n\")\n",
    "    return rep"
   ]
  },
  {
   "cell_type": "markdown",
   "metadata": {},
   "source": [
    "## Comparison of 2 random faces"
   ]
  },
  {
   "cell_type": "code",
   "execution_count": 5,
   "metadata": {},
   "outputs": [
    {
     "name": "stdout",
     "output_type": "stream",
     "text": [
      "Processing faces/women/woman1.jpg.\n",
      "  + Original size: (512, 512, 3)\n",
      "  + Face detection took 0.773123025894 seconds.\n",
      "  + Face alignment took 0.0378291606903 seconds.\n",
      "  + OpenFace forward pass took 0.149989128113 seconds.\n",
      "Representation:\n",
      "[ 0.07 -0.11  0.04  0.   -0.02  0.03 -0.    0.06 -0.02 -0.12  0.1   0.1\n",
      "  0.07 -0.08 -0.07  0.08 -0.19 -0.13 -0.19  0.17  0.07 -0.03  0.08 -0.05\n",
      " -0.12  0.06  0.03 -0.04 -0.07 -0.06 -0.1   0.08  0.02  0.18 -0.16  0.02\n",
      " -0.04  0.09 -0.06  0.07  0.05 -0.16 -0.02 -0.04 -0.04 -0.08  0.02 -0.03\n",
      " -0.07  0.2  -0.02 -0.06 -0.16  0.16  0.1  -0.08 -0.03 -0.04 -0.11  0.1\n",
      " -0.04 -0.04  0.06  0.03  0.02 -0.01 -0.05  0.03 -0.01  0.03 -0.09 -0.03\n",
      " -0.    0.15  0.11 -0.03  0.11 -0.04 -0.05  0.1   0.07 -0.19  0.03 -0.02\n",
      " -0.14  0.13  0.09  0.03 -0.02  0.08  0.11 -0.15 -0.1   0.09 -0.12  0.07\n",
      " -0.08 -0.03  0.08  0.02 -0.01 -0.06 -0.08  0.07  0.15  0.04 -0.06  0.2\n",
      " -0.04 -0.15 -0.12  0.13 -0.02  0.01  0.06  0.03  0.1   0.08  0.06  0.16\n",
      "  0.02  0.03  0.08  0.08  0.05  0.01  0.1   0.06]\n",
      "-----\n",
      "\n",
      "Processing faces/women/woman2.jpg.\n",
      "  + Original size: (512, 512, 3)\n",
      "  + Face detection took 0.249126911163 seconds.\n",
      "  + Face alignment took 0.0190939903259 seconds.\n",
      "  + OpenFace forward pass took 0.131195068359 seconds.\n",
      "Representation:\n",
      "[-1.78e-02 -5.93e-02  4.52e-02  3.25e-02 -1.54e-02 -4.77e-02  2.66e-02\n",
      " -4.56e-03 -7.28e-02 -2.68e-02  9.81e-02  9.77e-02  1.01e-01  4.32e-02\n",
      " -1.73e-01  3.77e-02 -1.56e-01  2.45e-02 -1.70e-01  1.67e-01  1.12e-01\n",
      " -2.20e-01  9.30e-02  7.49e-02 -4.33e-02 -3.12e-02  2.66e-03  3.29e-02\n",
      " -1.33e-02  6.17e-03 -1.49e-01 -5.40e-02 -4.87e-03  5.76e-02 -1.73e-01\n",
      " -1.46e-02 -2.17e-01  8.87e-02 -1.42e-01  2.14e-02 -4.23e-02 -8.05e-02\n",
      " -1.21e-02  2.73e-02 -5.41e-02 -1.11e-01  7.97e-03 -2.82e-02 -5.67e-02\n",
      "  1.26e-01  2.06e-02 -6.09e-02 -1.77e-01  5.53e-02  8.70e-02 -1.12e-02\n",
      " -3.24e-02  8.94e-02  9.98e-03  4.63e-02  2.70e-02  2.62e-02  9.01e-02\n",
      "  1.20e-01  4.23e-02  2.38e-02 -1.25e-01 -3.33e-03 -1.00e-01  6.51e-02\n",
      " -1.06e-02  3.70e-02  6.94e-02  7.79e-02  7.29e-02  1.89e-02  1.06e-01\n",
      " -1.66e-02 -2.63e-03 -8.51e-05 -4.21e-02 -2.03e-01  2.18e-02 -2.33e-02\n",
      " -2.11e-01  1.00e-01  5.29e-02  3.41e-02  4.64e-02  1.64e-03  1.46e-03\n",
      " -1.27e-01  9.79e-03 -6.57e-04 -6.54e-02 -1.44e-02 -1.31e-01  3.05e-02\n",
      "  9.53e-02  9.55e-03  2.66e-02  9.72e-03 -1.97e-02  5.55e-02  1.36e-01\n",
      "  8.69e-02 -5.03e-02  1.76e-01  3.29e-02 -2.17e-01 -9.75e-02  1.39e-01\n",
      "  3.89e-02  6.63e-02  1.62e-02  9.13e-02  7.42e-02  1.85e-01  5.42e-02\n",
      "  1.64e-01 -1.23e-01 -4.99e-02 -1.09e-01 -7.77e-03 -6.30e-02  1.54e-01\n",
      " -2.74e-02  5.20e-02]\n",
      "-----\n",
      "\n",
      "Comparing faces/women/woman1.jpg with faces/women/woman2.jpg.\n",
      "  + Squared l2 distance between representations: 0.644\n"
     ]
    }
   ],
   "source": [
    "img1 = \"faces/women/woman1.jpg\"\n",
    "img2 = \"faces/women/woman2.jpg\"\n",
    "\n",
    "d = getRep(img1) - getRep(img2)\n",
    "print(\"Comparing {} with {}.\".format(img1, img2))\n",
    "print(\"  + Squared l2 distance between representations: {:0.3f}\".format(np.dot(d, d)))"
   ]
  },
  {
   "cell_type": "markdown",
   "metadata": {},
   "source": [
    "## Dimension reduction"
   ]
  },
  {
   "cell_type": "code",
   "execution_count": 6,
   "metadata": {},
   "outputs": [],
   "source": [
    "verbose = False"
   ]
  },
  {
   "cell_type": "code",
   "execution_count": 7,
   "metadata": {},
   "outputs": [
    {
     "name": "stdout",
     "output_type": "stream",
     "text": [
      "(20, 128)\n",
      "(20,)\n",
      "(20, 128)\n",
      "(20,)\n"
     ]
    }
   ],
   "source": [
    "# load data\n",
    "women = [] \n",
    "women_directory = \"/home/fien/Documents/thesis/face-classification/faces/women\"\n",
    "\n",
    "for image in os.listdir(women_directory):\n",
    "    women.append(getRep(women_directory + \"/\" + image).tolist())\n",
    "    \n",
    "print(np.array(women).shape)\n",
    "\n",
    "women_labels = np.zeros(20)\n",
    "print(women_labels.shape)\n",
    "\n",
    "    \n",
    "men = [] \n",
    "men_directory = \"/home/fien/Documents/thesis/face-classification/faces/men\"\n",
    "\n",
    "for image in os.listdir(men_directory):\n",
    "    men.append(getRep(men_directory + \"/\" + image).tolist())\n",
    "    \n",
    "print(np.array(men).shape)\n",
    "\n",
    "men_labels = np.ones(20)\n",
    "print(men_labels.shape)"
   ]
  },
  {
   "cell_type": "code",
   "execution_count": 8,
   "metadata": {},
   "outputs": [
    {
     "name": "stdout",
     "output_type": "stream",
     "text": [
      "(40, 128)\n",
      "(40,)\n"
     ]
    }
   ],
   "source": [
    "data = women + men \n",
    "labels = women_labels.tolist() + men_labels.tolist()\n",
    "print(np.array(data).shape)\n",
    "print(np.array(labels).shape)"
   ]
  },
  {
   "cell_type": "code",
   "execution_count": 23,
   "metadata": {},
   "outputs": [
    {
     "data": {
      "image/png": "[encoded data removed]",
      "text/plain": [
       "<Figure size 864x432 with 2 Axes>"
      ]
     },
     "metadata": {
      "needs_background": "light"
     },
     "output_type": "display_data"
    }
   ],
   "source": [
    "from sklearn.manifold import TSNE\n",
    "from sklearn.decomposition import PCA\n",
    "%matplotlib inline\n",
    "import matplotlib.pyplot as plt\n",
    "\n",
    "plt.figure(figsize=(12,6))\n",
    "plt.plot([1,2])\n",
    "\n",
    "# visualize data in tnse (men/women)\n",
    "X_embedded_tsne = TSNE(n_components=2, init='pca').fit_transform(data)\n",
    "\n",
    "plt.subplot(121)\n",
    "unique = list(set(labels))\n",
    "colors = [plt.cm.jet(float(i)/max(unique)) for i in unique]\n",
    "for i, u in enumerate(unique):\n",
    "    xi = [X_embedded_tsne[j, 0] for j  in range(len(X_embedded_tsne[:,0])) if labels[j] == u]\n",
    "    yi = [X_embedded_tsne[j, 1] for j  in range(len(X_embedded_tsne[:,1])) if labels[j] == u]\n",
    "    plt.scatter(xi, yi, c=colors[i], label=str(u))\n",
    "plt.legend()\n",
    "plt.title(\"t-sne\")\n",
    "\n",
    "# visualize data in pca (men/women)\n",
    "X_embedded_pca = PCA(n_components=2).fit_transform(data)\n",
    "\n",
    "plt.subplot(122)\n",
    "unique = list(set(labels))\n",
    "colors = [plt.cm.jet(float(i)/max(unique)) for i in unique]\n",
    "for i, u in enumerate(unique):\n",
    "    xi = [X_embedded_pca[j, 0] for j  in range(len(X_embedded_pca[:,0])) if labels[j] == u]\n",
    "    yi = [X_embedded_pca[j, 1] for j  in range(len(X_embedded_pca[:,1])) if labels[j] == u]\n",
    "    plt.scatter(xi, yi, c=colors[i], label=str(u))\n",
    "plt.legend()\n",
    "plt.title(\"pca\")\n",
    "\n",
    "plt.show()"
   ]
  },
  {
   "cell_type": "markdown",
   "metadata": {},
   "source": [
    "## k-NN classifier"
   ]
  },
  {
   "cell_type": "code",
   "execution_count": 20,
   "metadata": {},
   "outputs": [],
   "source": [
    "from sklearn.model_selection import train_test_split\n",
    "X_train, X_test, y_train, y_test = train_test_split(data, labels, test_size=0.8, random_state=42)"
   ]
  },
  {
   "cell_type": "code",
   "execution_count": 21,
   "metadata": {},
   "outputs": [
    {
     "name": "stdout",
     "output_type": "stream",
     "text": [
      "(8, 128)\n"
     ]
    }
   ],
   "source": [
    "print(np.array(X_train).shape)"
   ]
  },
  {
   "cell_type": "code",
   "execution_count": 22,
   "metadata": {},
   "outputs": [
    {
     "data": {
      "text/plain": [
       "0.96875"
      ]
     },
     "execution_count": 22,
     "metadata": {},
     "output_type": "execute_result"
    }
   ],
   "source": [
    "from sklearn.neighbors import KNeighborsClassifier\n",
    "knn = KNeighborsClassifier(n_neighbors=3)\n",
    "knn.fit(X_train, y_train)\n",
    "knn.score(X_test, y_test)"
   ]
  },
  {
   "cell_type": "code",
   "execution_count": 24,
   "metadata": {},
   "outputs": [
    {
     "data": {
      "text/plain": [
       "0.9375"
      ]
     },
     "execution_count": 24,
     "metadata": {},
     "output_type": "execute_result"
    }
   ],
   "source": [
    "X_train_tsne, X_test_tsne, y_train_tsne, y_test_tsne = train_test_split(X_embedded_tsne, labels, test_size=0.8, random_state=42)\n",
    "\n",
    "knn_tsne = KNeighborsClassifier(n_neighbors=3)\n",
    "knn_tsne.fit(X_train_tsne, y_train_tsne)\n",
    "knn_tsne.score(X_test_tsne, y_test_tsne)"
   ]
  },
  {
   "cell_type": "code",
   "execution_count": null,
   "metadata": {},
   "outputs": [],
   "source": []
  }
 ],
 "metadata": {
  "kernelspec": {
   "display_name": "Python 2",
   "language": "python",
   "name": "python2"
  },
  "language_info": {
   "codemirror_mode": {
    "name": "ipython",
    "version": 2
   },
   "file_extension": ".py",
   "mimetype": "text/x-python",
   "name": "python",
   "nbconvert_exporter": "python",
   "pygments_lexer": "ipython2",
   "version": "2.7.17"
  }
 },
 "nbformat": 4,
 "nbformat_minor": 4
}
