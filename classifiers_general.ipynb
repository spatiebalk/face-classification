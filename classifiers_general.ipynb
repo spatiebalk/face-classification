{
 "cells": [
  {
   "cell_type": "markdown",
   "metadata": {},
   "source": [
    "### Trying different classifiers on data of syndromic patients and ID controls\n",
    "Overview of this notebook:\n",
    "\n",
    "First the deepface representations of the cropped images are read in from an Excel file. The data is then plotted by using either t-sne or PCA for dimension reduction. It is clear that there aren't two clear clusters.\n",
    "\n",
    "In the rest of the notebook the following classifiers are tested: k-NN, SVM, Random Forest, Gradient Boosting, AdaBoost, Gaussian Naive Bayes. In the end also an ensemble of all these methods or some of them is tried. None outperforming the Gradient Boosting classifier. \n",
    "\n",
    "To normalize the data either Normalizer (unit form) or StandardScaler (z = (x - mean)/std) is used, without any specific difference in performance yet.  "
   ]
  },
  {
   "cell_type": "code",
   "execution_count": 1,
   "metadata": {},
   "outputs": [],
   "source": [
    "import pandas as pd\n",
    "import numpy as np\n",
    "import csv\n",
    "from tqdm import tqdm\n",
    "import itertools\n",
    "from sklearn.model_selection import cross_val_score, LeaveOneOut\n",
    "from sklearn.neighbors import KNeighborsClassifier\n",
    "from sklearn.preprocessing import Normalizer, StandardScaler\n",
    "from sklearn.ensemble import GradientBoostingClassifier, RandomForestClassifier, VotingClassifier, AdaBoostClassifier\n",
    "from sklearn.svm import SVC\n",
    "from sklearn.tree import DecisionTreeClassifier\n",
    "from sklearn.naive_bayes import GaussianNB\n",
    "from sklearn.metrics import roc_auc_score, accuracy_score, confusion_matrix, roc_curve\n",
    "from sklearn.manifold import TSNE\n",
    "from sklearn.decomposition import PCA\n",
    "%matplotlib inline\n",
    "import matplotlib.pyplot as plt\n",
    "from datetime import date\n",
    "from os.path import join, isfile\n",
    "from os import listdir\n",
    "import time\n",
    "import seaborn as sns"
   ]
  },
  {
   "cell_type": "code",
   "execution_count": 2,
   "metadata": {},
   "outputs": [],
   "source": [
    "def read_rep(syn_name, syn_csv, ID_csv, data_dir):\n",
    "    \n",
    "    # open directories\n",
    "    syn_dir = data_dir+\"\\\\{}-patients\".format(syn_name)\n",
    "    ID_dir = data_dir+ \"\\\\{}-selected-ID-controls\".format(syn_name)\n",
    "\n",
    "    # get list of filenames\n",
    "    files_syn = [f for f in listdir(syn_dir) if (isfile(join(syn_dir, f))) and \".jpg\" in f]\n",
    "    files_ID = [f for f in listdir(ID_dir) if (isfile(join(ID_dir, f))) and (\".jpg\" in f or \".JPG\" in f) ]\n",
    "    \n",
    "    data = []\n",
    "    labels = []\n",
    "\n",
    "    for i, csv_file in enumerate([ID_csv, syn_csv]):\n",
    "        with open (csv_file, newline='') as file:\n",
    "            reader = csv.reader(file, delimiter=',')\n",
    "            for row in reader:\n",
    "                if row[0] in files_syn or row[0] in files_ID:\n",
    "                    rep = list(map(float, row[1:]))\n",
    "                    data.append(rep)\n",
    "                    labels.append(i)\n",
    "\n",
    "    return np.array(data), np.array(labels)"
   ]
  },
  {
   "cell_type": "code",
   "execution_count": 3,
   "metadata": {},
   "outputs": [],
   "source": [
    "def read_rep2(syn_name, syn_csv, ID_csv, data_dir):\n",
    "    \n",
    "    # open directories\n",
    "    syn_dir = data_dir+\"\\\\{}-patients\".format(syn_name)\n",
    "    ID_dir = data_dir+ \"\\\\{}-selected-ID-controls\".format(syn_name)\n",
    "\n",
    "    # get list of filenames\n",
    "    files_syn = [f for f in listdir(syn_dir) if (isfile(join(syn_dir, f))) and \".jpg\" in f]\n",
    "    files_ID = [f for f in listdir(ID_dir) if (isfile(join(ID_dir, f))) and (\".jpg\" in f or \".JPG\" in f) ]\n",
    "    \n",
    "    data = []\n",
    "    labels = []\n",
    "\n",
    "    for i, csv_file in enumerate([ID_csv, syn_csv]):\n",
    "        with open (csv_file, newline='') as file:\n",
    "            reader = csv.reader(file, delimiter=',')\n",
    "            for row in reader:\n",
    "                if row[0] in files_syn or row[0] + \".jpg\" in files_ID or row[0] + \".JPG\" in files_ID:\n",
    "                    rep = list(map(float, row[1:]))\n",
    "                    data.append(row)\n",
    "                    labels.append(i)\n",
    "    \n",
    "    return np.array(data), np.array(labels)"
   ]
  },
  {
   "cell_type": "code",
   "execution_count": 4,
   "metadata": {},
   "outputs": [],
   "source": [
    "def plot_pca_tsne(data, labels, lowest_age = -1, highest_age = -1):\n",
    "    plt.figure(figsize=(12,6))\n",
    "    plt.plot([1,2])\n",
    "\n",
    "    # visualize data in tnse (men/women)\n",
    "    X_embedded_tsne = TSNE(n_components=2, init='pca').fit_transform(data)\n",
    "\n",
    "    plt.subplot(121)\n",
    "    unique = list(set(labels))\n",
    "    colors = [plt.cm.jet(float(i)/max(unique)) for i in unique]\n",
    "    for i, u in enumerate(unique):\n",
    "        xi = [X_embedded_tsne[j, 0] for j  in range(len(X_embedded_tsne[:,0])) if labels[j] == u]\n",
    "        yi = [X_embedded_tsne[j, 1] for j  in range(len(X_embedded_tsne[:,1])) if labels[j] == u]\n",
    "        plt.scatter(xi, yi, c=[colors[i]], label=str(u))\n",
    "    plt.legend()\n",
    "    plt.title(\"t-sne for age range {}-{}\".format(lowest_age, highest_age))\n",
    "\n",
    "    # visualize data in pca (men/women)\n",
    "    X_embedded_pca = PCA(n_components=2).fit_transform(data)\n",
    "\n",
    "    plt.subplot(122)\n",
    "    unique = list(set(labels))\n",
    "    colors = [plt.cm.jet(float(i)/max(unique)) for i in unique]\n",
    "    for i, u in enumerate(unique):\n",
    "        xi = [X_embedded_pca[j, 0] for j  in range(len(X_embedded_pca[:,0])) if labels[j] == u]\n",
    "        yi = [X_embedded_pca[j, 1] for j  in range(len(X_embedded_pca[:,1])) if labels[j] == u]\n",
    "        plt.scatter(xi, yi, c=[colors[i]], label=str(u))\n",
    "    plt.legend()\n",
    "    plt.title(\"pca for age range{}-{}\".format(lowest_age, highest_age))\n",
    "\n",
    "    plt.show()"
   ]
  },
  {
   "cell_type": "code",
   "execution_count": 5,
   "metadata": {},
   "outputs": [],
   "source": [
    "def plot_roc_curve(y_true, y_pred): \n",
    "    fpr, tpr, thresholds = roc_curve(y_true, y_pred)\n",
    "    plt.figure(1, figsize=(12,6))\n",
    "    roc_auc = roc_auc_score(y_true, y_pred)\n",
    "    plt.plot(fpr, tpr, lw=2, alpha=0.5, label='LOOCV ROC (AUC = %0.2f)' % (roc_auc))\n",
    "    plt.plot([0, 1], [0, 1], linestyle='--', lw=2, color='k', label='Chance level', alpha=.8)\n",
    "    plt.xlim([-0.05, 1.05])\n",
    "    plt.ylim([-0.05, 1.05])\n",
    "    plt.xlabel('False Positive Rate')\n",
    "    plt.ylabel('True Positive Rate')\n",
    "    plt.title('Receiver operating characteristic example')\n",
    "    plt.legend(loc=\"lower right\")\n",
    "    plt.grid()\n",
    "    plt.show()"
   ]
  },
  {
   "cell_type": "code",
   "execution_count": 6,
   "metadata": {},
   "outputs": [],
   "source": [
    "def normalize(data, i):\n",
    "\n",
    "    if i == 0:\n",
    "        return data\n",
    "    \n",
    "    if i == 1:\n",
    "        return Normalizer().fit_transform(data)\n",
    "        \n",
    "    if i == 2:\n",
    "        return StandardScaler().fit_transform(data)"
   ]
  },
  {
   "cell_type": "markdown",
   "metadata": {},
   "source": [
    "### Method 1: k-NN"
   ]
  },
  {
   "cell_type": "code",
   "execution_count": 7,
   "metadata": {},
   "outputs": [],
   "source": [
    "def knn_classifier(data, labels):\n",
    "    k_values = [3,5,7,9,11,13,15]\n",
    "    best_aroc = 0\n",
    "    best_k = 0\n",
    "\n",
    "    for k in tqdm(k_values):\n",
    "        # can't have more neighbors than samples\n",
    "        if k < data.shape[0]:\n",
    "            for i in [0, 1, 2]:\n",
    "                data = normalize(data, i) \n",
    "                all_y, all_probs, all_preds = [], [], [] \n",
    "                loo = LeaveOneOut()\n",
    "\n",
    "                # leave one out split and make prediction\n",
    "                for train, test in loo.split(data):\n",
    "                    all_y.append(labels[test])\n",
    "                    model = KNeighborsClassifier(n_neighbors=k, weights='distance')\n",
    "                    model = model.fit(data[train], labels[train])                \n",
    "                    all_probs.append(model.predict_proba(data[test].reshape(1, -1))[:,1])\n",
    "                    all_preds.append(model.predict(data[test].reshape(1, -1)))\n",
    "\n",
    "                # based on all predictions make aroc curve and confusion matrix\n",
    "                aroc = roc_auc_score(all_y, all_probs)\n",
    "                tn, fp, fn, tp = confusion_matrix(all_y, all_preds).ravel()\n",
    "                spec = tn / (tn+fp)  \n",
    "                sens = tp / (tp+fn)\n",
    "\n",
    "                if aroc > best_aroc:\n",
    "                    best_aroc, best_spec, best_sens, best_norm = aroc, spec, sens, i \n",
    "                    best_k = k\n",
    "                \n",
    "    return best_k, best_norm, best_aroc, best_spec, best_sens"
   ]
  },
  {
   "cell_type": "markdown",
   "metadata": {},
   "source": [
    "### Method 2: SVM"
   ]
  },
  {
   "cell_type": "code",
   "execution_count": 8,
   "metadata": {},
   "outputs": [],
   "source": [
    "def svm_classifier(data, labels):\n",
    "    kernels = ['linear', 'poly', 'rbf', 'sigmoid']\n",
    "    best_aroc = 0\n",
    "    best_kernel = None\n",
    "\n",
    "    for k in tqdm(kernels):\n",
    "        for i in [0, 1, 2]:\n",
    "            \n",
    "            data = normalize(data, i) \n",
    "            all_y, all_probs, all_preds = [], [], [] \n",
    "            loo = LeaveOneOut()\n",
    "            \n",
    "            # leave one out split and make prediction\n",
    "            for train, test in loo.split(data):\n",
    "                all_y.append(labels[test])\n",
    "                model = SVC(kernel=k, probability=True)\n",
    "                model = model.fit(data[train], labels[train])\n",
    "                all_probs.append(model.predict_proba(data[test].reshape(1, -1))[:,1])\n",
    "                all_preds.append(model.predict(data[test].reshape(1, -1)))\n",
    "\n",
    "            # based on all predictions make aroc curve and confusion matrix\n",
    "            aroc = roc_auc_score(all_y, all_probs)\n",
    "            tn, fp, fn, tp = confusion_matrix(all_y, all_preds).ravel()\n",
    "            spec = tn / (tn+fp)  \n",
    "            sens = tp / (tp+fn)\n",
    "               \n",
    "            if aroc > best_aroc:\n",
    "                best_aroc, best_spec, best_sens, best_norm = aroc, spec, sens, i \n",
    "                best_kernel = k\n",
    "                \n",
    "    return best_kernel, best_norm, best_aroc, best_spec, best_sens"
   ]
  },
  {
   "cell_type": "markdown",
   "metadata": {},
   "source": [
    "### Method 3: Random Forest"
   ]
  },
  {
   "cell_type": "code",
   "execution_count": 9,
   "metadata": {},
   "outputs": [],
   "source": [
    "def rf_classifier(data, labels):\n",
    "    best_aroc = 0\n",
    "    estimators = [5, 10, 20] #, 40, 60, 80]\n",
    "    best_estimator_rf = 0\n",
    "    best_norm = -1\n",
    "\n",
    "    for est in tqdm(estimators):\n",
    "        for i in [0, 1, 2]:\n",
    "            \n",
    "            data = normalize(data, i) \n",
    "            all_y, all_probs, all_preds = [], [], [] \n",
    "            loo = LeaveOneOut()\n",
    "            \n",
    "            # leave one out split and make prediction\n",
    "            for train, test in loo.split(data):\n",
    "                all_y.append(labels[test])\n",
    "                model = RandomForestClassifier(n_estimators=est)\n",
    "                model = model.fit(data[train], labels[train])\n",
    "                all_probs.append(model.predict_proba(data[test].reshape(1, -1))[:,1])\n",
    "                all_preds.append(model.predict(data[test].reshape(1, -1)))\n",
    "\n",
    "            # based on all predictions make aroc curve and confusion matrix\n",
    "            aroc = roc_auc_score(all_y, all_probs)\n",
    "            tn, fp, fn, tp = confusion_matrix(all_y, all_preds).ravel()\n",
    "            spec = tn / (tn+fp)  \n",
    "            sens = tp / (tp+fn)\n",
    "               \n",
    "            if aroc > best_aroc:\n",
    "                best_aroc, best_spec, best_sens, best_norm = aroc, spec, sens, i \n",
    "                best_estimator_rf = est\n",
    "    \n",
    "    return best_estimator_rf, best_norm, best_aroc, best_spec, best_sens"
   ]
  },
  {
   "cell_type": "markdown",
   "metadata": {},
   "source": [
    "### Method 4: Gradient Boosting classifier"
   ]
  },
  {
   "cell_type": "code",
   "execution_count": 10,
   "metadata": {},
   "outputs": [],
   "source": [
    "def gr_classifier(data, labels):\n",
    "    best_aroc = 0\n",
    "    estimators = [5, 10, 20] #, 40, 60, 80]\n",
    "    best_estimator_gr = 0\n",
    "    best_norm = -1\n",
    "\n",
    "    for est in tqdm(estimators):\n",
    "        for i in [0, 1, 2]:\n",
    "            \n",
    "            data = normalize(data, i) \n",
    "            all_y, all_probs, all_preds = [], [], [] \n",
    "            loo = LeaveOneOut()\n",
    "            \n",
    "            # leave one out split and make prediction\n",
    "            for train, test in loo.split(data):\n",
    "                all_y.append(labels[test])\n",
    "                model = GradientBoostingClassifier(n_estimators=est)\n",
    "                model = model.fit(data[train], labels[train])\n",
    "                all_probs.append(model.predict_proba(data[test].reshape(1, -1))[:,1])\n",
    "                all_preds.append(model.predict(data[test].reshape(1, -1)))\n",
    "\n",
    "            # based on all predictions make aroc curve and confusion matrix\n",
    "            aroc = roc_auc_score(all_y, all_probs)\n",
    "            tn, fp, fn, tp = confusion_matrix(all_y, all_preds).ravel()\n",
    "            spec = tn / (tn+fp)  \n",
    "            sens = tp / (tp+fn)\n",
    "               \n",
    "            if aroc > best_aroc:\n",
    "                best_aroc, best_spec, best_sens, best_norm = aroc, spec, sens, i \n",
    "                best_estimator_gr = est\n",
    "                \n",
    "#             if best_aroc > 0.8:\n",
    "#                 print(\"tn {}, fp {}, fn {}, tp {}\".format(tn, fp, fn, tp))\n",
    "#                 print(\"aroc: {} , spec: {}, sens: {}\".format(best_aroc, spec, sens))\n",
    "#                 print(\"trees: {}, norm: {}\".format(best_estimator_gr, best_norm))\n",
    "#                 conf_matrix = [[tp, fp],\n",
    "#                              [fn, tn]]\n",
    "#                 df_cm = pd.DataFrame(conf_matrix, index = [\"Syn_pred\", \"Control_pred\"], columns = [\"Syn\", \"Control\"])\n",
    "#                 plt.figure(figsize = (6, 6))\n",
    "#                 sns_heat = sns.heatmap(df_cm, annot=True)\n",
    "#                 plt.show()                \n",
    "                \n",
    "                                \n",
    "    return best_estimator_gr, best_norm, best_aroc, best_spec, best_sens"
   ]
  },
  {
   "cell_type": "markdown",
   "metadata": {},
   "source": [
    "### Method 5: AdaBoost"
   ]
  },
  {
   "cell_type": "code",
   "execution_count": 11,
   "metadata": {},
   "outputs": [],
   "source": [
    "def ada_classifier(data, labels):\n",
    "    best_aroc = 0\n",
    "    estimators = [5, 10, 20 ] #, 40, 60, 80]\n",
    "    best_estimator_ada = 0\n",
    "    best_norm = -1\n",
    "\n",
    "    for est in tqdm(estimators):\n",
    "        for i in [0,1, 2]:\n",
    "            \n",
    "            data = normalize(data, i) \n",
    "            all_y, all_probs, all_preds = [], [], [] \n",
    "            loo = LeaveOneOut()\n",
    "            \n",
    "            # leave one out split and make prediction\n",
    "            for train, test in loo.split(data):\n",
    "                all_y.append(labels[test])\n",
    "                model = AdaBoostClassifier(n_estimators=est)\n",
    "                model = model.fit(data[train], labels[train])\n",
    "                all_probs.append(model.predict_proba(data[test].reshape(1, -1))[:,1])\n",
    "                all_preds.append(model.predict(data[test].reshape(1, -1)))\n",
    "\n",
    "            # based on all predictions make aroc curve and confusion matrix\n",
    "            aroc = roc_auc_score(all_y, all_probs)\n",
    "            tn, fp, fn, tp = confusion_matrix(all_y, all_preds).ravel()\n",
    "            spec = tn / (tn+fp)  \n",
    "            sens = tp / (tp+fn)\n",
    "               \n",
    "            if aroc > best_aroc:\n",
    "                best_aroc, best_spec, best_sens, best_norm = aroc, spec, sens, i \n",
    "                best_estimator_ada = est\n",
    "                \n",
    "    return best_estimator_ada, best_norm, best_aroc, best_spec, best_sens"
   ]
  },
  {
   "cell_type": "code",
   "execution_count": 12,
   "metadata": {},
   "outputs": [],
   "source": [
    "def concatenate(syn_name, data_dir, data_combination, nr_feats): \n",
    "\n",
    "    method = \"deepface\"\n",
    "    syn_csv = data_dir+\"\\\\representations\\{}-patients-{}.csv\".format(syn_name, method)\n",
    "    ID_csv  = data_dir+\"\\\\representations\\ID-controls-{}.csv\".format(method)\n",
    "    data_df, labels_df = read_rep(syn_name, syn_csv, ID_csv, data_dir)\n",
    "    \n",
    "    method = \"dlib\"\n",
    "    syn_csv = data_dir+\"\\\\representations\\{}-patients-{}.csv\".format(syn_name, method)\n",
    "    ID_csv  = data_dir+\"\\\\representations\\ID-controls-{}.csv\".format(method)\n",
    "    data_dlib, labels_dlib = read_rep(syn_name, syn_csv, ID_csv, data_dir)\n",
    "\n",
    "    \n",
    "    if data_combination == 0: # or data_combination == 2 or data_combination == 3:\n",
    "        # only deepface\n",
    "        data = data_df\n",
    "        labels = labels_df\n",
    "    \n",
    "    if data_combination == 1: # or data_combination == 2:\n",
    "        # only dlib\n",
    "        data, labels  = [], []\n",
    "        for index, dlib_i in enumerate(data_dlib):\n",
    "            if not all(v == 0 for v in dlib_i):\n",
    "                #only if a face is found\n",
    "                data.append(dlib_i) # concatenation of 4096 deepface + 2210 dlib\n",
    "                labels.append(labels_dlib[index])\n",
    "                \n",
    "                \n",
    "    if data_combination == 2 or data_combination == 3 or data_combination == 4:# or data_combination == 3 or data_combination == 4:\n",
    "        # deepface + dlib (all features) \n",
    "        data, labels  = [], []\n",
    "        for index, (df_i, dlib_i) in enumerate(zip(data_df, data_dlib)):\n",
    "            if not all(v == 0 for v in dlib_i):\n",
    "                #only if a face is found \n",
    "                if not isinstance(df_i, list):\n",
    "                    df_i = df_i.tolist()\n",
    "                if not isinstance(dlib_i, list):\n",
    "                    dlib_i = dlib_i.tolist()  \n",
    "                    \n",
    "                data.append(df_i+dlib_i) # concatenation of 4096 deepface + 2210 dlib\n",
    "                labels.append(labels_df[index])\n",
    "                \n",
    "                                               \n",
    "    if data_combination == 3:\n",
    "        # deepface + dlib (x most important features)\n",
    "        # data, labels are already filled from the above if statement\n",
    "                                               \n",
    "        # using a Random Forest the x most important features are used                                   \n",
    "        forest = RandomForestClassifier(n_estimators=10,random_state=0) # 10 has been found with best aroc scores\n",
    "        forest.fit(data, labels)\n",
    "        importances = forest.feature_importances_\n",
    "        std = np.std([tree.feature_importances_ for tree in forest.estimators_],axis=0)\n",
    "        indices = np.argsort(importances)[::-1]\n",
    "        indices = indices[0:nr_feats] \n",
    "\n",
    "        data2 = []\n",
    "        for row in data:\n",
    "            data2.append(np.array(row)[indices])                                \n",
    "        data = data2\n",
    "\n",
    "                                               \n",
    "    nr_comps = 0\n",
    "    if data_combination == 4:\n",
    "        # pca components that explain > 0.9 variance\n",
    "        for i in range(0, np.array(data).shape[0]):\n",
    "            pca = PCA(n_components=i)\n",
    "            components = pca.fit_transform(data)    \n",
    "            if sum(pca.explained_variance_ratio_) > 0.9:\n",
    "                nr_comps = i\n",
    "        \n",
    "        pca = PCA(n_components=nr_comps)\n",
    "        data = pca.fit_transform(data)       \n",
    "        \n",
    "    \n",
    "    if data_combination == 5 or data_combination == 7:\n",
    "        # openface \n",
    "        method = \"openface\"\n",
    "        syn_csv = data_dir+\"\\\\representations\\{}-patients-{}.csv\".format(syn_name, method)\n",
    "        ID_csv  = data_dir+\"\\\\representations\\ID-controls-{}.csv\".format(method)\n",
    "        data_openface, labels_openface = read_rep2(syn_name, syn_csv, ID_csv, data_dir)\n",
    "        \n",
    "        data = []\n",
    "        openface_names = data_openface[:,0]\n",
    "        data_openface = np.array(data_openface)[:, 1:]\n",
    "        for openface_i in data_openface:\n",
    "            rep = [float(i) for i in openface_i.tolist()]\n",
    "            data.append(rep)\n",
    "\n",
    "        labels = np.array(labels_openface)\n",
    "        \n",
    "        \n",
    "    if data_combination == 6 or data_combination == 7:\n",
    "        # cfps        \n",
    "        method = \"cfps\"\n",
    "        syn_csv = data_dir+\"\\\\representations\\{}-patients-{}.csv\".format(syn_name, method)\n",
    "        ID_csv  = data_dir+\"\\\\representations\\ID-controls-{}.csv\".format(method)\n",
    "        data_cfps, labels_cfps = read_rep2(syn_name, syn_csv, ID_csv, data_dir)\n",
    "        \n",
    "        data = []\n",
    "        cfps_names = data_cfps[:,0]\n",
    "        data_cfps = np.array(data_cfps)[:, 1:]\n",
    "        \n",
    "        for cfps_i in data_cfps:\n",
    "            rep = [float(i) for i in cfps_i.tolist()]\n",
    "            data.append(rep)\n",
    "            \n",
    "        labels = np.array(labels_cfps)\n",
    "\n",
    "        \n",
    "    if data_combination == 7:\n",
    "        # openface + cfps \n",
    "           \n",
    "        matches = [i==j for i, j in zip(openface_names, cfps_names)]\n",
    "        \n",
    "        data, labels  = [], []\n",
    "        for index, (openface_i, cfps_i) in enumerate(zip(data_openface, data_cfps)):\n",
    "            if(matches[index]):\n",
    "                if not isinstance(openface_i, list):\n",
    "                    openface_i = openface_i.tolist()\n",
    "                if not isinstance(cfps_i, list):\n",
    "                    cfps_i = cfps_i.tolist()  \n",
    "                    \n",
    "                rep_list = openface_i+cfps_i\n",
    "                rep = [float(i) for i in rep_list]\n",
    "                data.append(rep) # concatenation of 128 openface + 340 cfps\n",
    "                labels.append(labels_openface[index].astype(np.float64))\n",
    "     \n",
    "            \n",
    "    \n",
    "    if data_combination == 8:\n",
    "        # facereader\n",
    "        method = \"facereader\"\n",
    "        syn_csv = data_dir+\"\\\\representations\\{}-patients-{}.csv\".format(syn_name, method)  \n",
    "        ID_csv  = data_dir+\"\\\\representations\\ID-controls-{}.csv\".format(method)\n",
    "\n",
    "        data_fr, labels_fr = read_rep(syn_name, syn_csv, ID_csv, data_dir)      \n",
    "        \n",
    "        data, labels  = [], []\n",
    "        for index, fr_i in enumerate(data_fr):\n",
    "            if not all(v == 0 for v in fr_i):\n",
    "                data.append(fr_i)\n",
    "                labels.append(labels_fr[index])\n",
    "    \n",
    "    return 0, np.array(data), np.array(labels)\n",
    "    "
   ]
  },
  {
   "cell_type": "code",
   "execution_count": null,
   "metadata": {},
   "outputs": [],
   "source": []
  },
  {
   "cell_type": "code",
   "execution_count": 13,
   "metadata": {},
   "outputs": [],
   "source": [
    "def get_header(data_combination, nr_feats):\n",
    "    if data_combination == 0:\n",
    "        return \"0: Classifying data with deepface representation\\n\\n\"\n",
    "        \n",
    "    if data_combination == 1:\n",
    "        return\"1: Classifying data with dlib representation\\n\\n\"\n",
    "            \n",
    "    if data_combination == 2:\n",
    "        return \"2: Classifying data with all deepface+dlib representations\\n\\n\"\n",
    "            \n",
    "    if data_combination == 3:\n",
    "        return \"3: Classifying data with the {} most important features of deepface-dlib representations\\n\\n\".format(nr_feats)\n",
    "        \n",
    "    if data_combination == 4:\n",
    "        return \"4: Classifying data with PCA components of deepface-dlib representation\\n\"\n",
    "    \n",
    "    if data_combination == 5:\n",
    "        return \"5: Classifying data with openface representation\\n\\n\"\n",
    "    \n",
    "    if data_combination == 6:\n",
    "        return \"6: Classifying data with cfps representation\\n\\n\"\n",
    "    \n",
    "    if data_combination == 7:\n",
    "        return \"7: Classifying data with openface+cfps representation\\n\\n\"\n",
    "    \n",
    "    if data_combination == 8:\n",
    "        return \"8: Classifying data with facereader representation\\n\\n\""
   ]
  },
  {
   "cell_type": "code",
   "execution_count": 14,
   "metadata": {},
   "outputs": [
    {
     "name": "stdout",
     "output_type": "stream",
     "text": [
      "Syndrome that will be classified: KDVS \n",
      "\n",
      "\n",
      "0: Classifying data with deepface representation\n",
      "\n",
      "\n"
     ]
    },
    {
     "name": "stderr",
     "output_type": "stream",
     "text": [
      "\r",
      "  0%|                                                    | 0/7 [00:00<?, ?it/s]"
     ]
    },
    {
     "name": "stdout",
     "output_type": "stream",
     "text": [
      "Data shape: (148, 4096) and labels shape: (148,)\n"
     ]
    },
    {
     "name": "stderr",
     "output_type": "stream",
     "text": [
      "100%|████████████████████████████████████████████| 7/7 [03:35<00:00, 30.79s/it]\n",
      "100%|███████████████████████████████████████████| 4/4 [18:01<00:00, 270.36s/it]\n",
      "100%|████████████████████████████████████████████| 3/3 [00:45<00:00, 15.19s/it]\n",
      "100%|███████████████████████████████████████████| 3/3 [19:58<00:00, 399.61s/it]\n",
      "100%|███████████████████████████████████████████| 3/3 [09:56<00:00, 198.93s/it]\n"
     ]
    },
    {
     "name": "stdout",
     "output_type": "stream",
     "text": [
      "1: Classifying data with dlib representation\n",
      "\n",
      "\n"
     ]
    },
    {
     "name": "stderr",
     "output_type": "stream",
     "text": [
      "\r",
      "  0%|                                                    | 0/7 [00:00<?, ?it/s]"
     ]
    },
    {
     "name": "stdout",
     "output_type": "stream",
     "text": [
      "Data shape: (146, 2210) and labels shape: (146,)\n"
     ]
    },
    {
     "name": "stderr",
     "output_type": "stream",
     "text": [
      "100%|████████████████████████████████████████████| 7/7 [01:30<00:00, 12.88s/it]\n",
      "100%|███████████████████████████████████████████| 4/4 [09:03<00:00, 135.99s/it]\n",
      "100%|████████████████████████████████████████████| 3/3 [00:42<00:00, 14.02s/it]\n",
      "100%|███████████████████████████████████████████| 3/3 [15:03<00:00, 301.17s/it]\n",
      "100%|███████████████████████████████████████████| 3/3 [07:16<00:00, 145.63s/it]\n"
     ]
    },
    {
     "name": "stdout",
     "output_type": "stream",
     "text": [
      "2: Classifying data with all deepface+dlib representations\n",
      "\n",
      "\n"
     ]
    },
    {
     "name": "stderr",
     "output_type": "stream",
     "text": [
      "\r",
      "  0%|                                                    | 0/7 [00:00<?, ?it/s]"
     ]
    },
    {
     "name": "stdout",
     "output_type": "stream",
     "text": [
      "Data shape: (146, 6306) and labels shape: (146,)\n"
     ]
    },
    {
     "name": "stderr",
     "output_type": "stream",
     "text": [
      "100%|████████████████████████████████████████████| 7/7 [04:37<00:00, 39.65s/it]\n",
      "100%|███████████████████████████████████████████| 4/4 [26:40<00:00, 400.15s/it]\n",
      "100%|████████████████████████████████████████████| 3/3 [00:57<00:00, 19.30s/it]\n",
      "100%|███████████████████████████████████████████| 3/3 [35:05<00:00, 701.89s/it]\n",
      "100%|███████████████████████████████████████████| 3/3 [16:57<00:00, 339.25s/it]\n"
     ]
    },
    {
     "name": "stdout",
     "output_type": "stream",
     "text": [
      "3: Classifying data with the 300 most important features of deepface-dlib representations\n",
      "\n",
      "\n"
     ]
    },
    {
     "name": "stderr",
     "output_type": "stream",
     "text": [
      "\r",
      "  0%|                                                    | 0/7 [00:00<?, ?it/s]"
     ]
    },
    {
     "name": "stdout",
     "output_type": "stream",
     "text": [
      "Data shape: (146, 300) and labels shape: (146,)\n"
     ]
    },
    {
     "name": "stderr",
     "output_type": "stream",
     "text": [
      "100%|████████████████████████████████████████████| 7/7 [00:16<00:00,  2.38s/it]\n",
      "100%|████████████████████████████████████████████| 4/4 [01:10<00:00, 17.58s/it]\n",
      "100%|████████████████████████████████████████████| 3/3 [00:24<00:00,  8.04s/it]\n",
      "100%|████████████████████████████████████████████| 3/3 [01:47<00:00, 35.93s/it]\n",
      "100%|████████████████████████████████████████████| 3/3 [01:03<00:00, 21.14s/it]\n"
     ]
    },
    {
     "name": "stdout",
     "output_type": "stream",
     "text": [
      "4: Classifying data with PCA components of deepface-dlib representation\n",
      "\n"
     ]
    },
    {
     "name": "stderr",
     "output_type": "stream",
     "text": [
      "\r",
      "  0%|                                                    | 0/7 [00:00<?, ?it/s]"
     ]
    },
    {
     "name": "stdout",
     "output_type": "stream",
     "text": [
      "Data shape: (146, 145) and labels shape: (146,)\n"
     ]
    },
    {
     "name": "stderr",
     "output_type": "stream",
     "text": [
      "100%|████████████████████████████████████████████| 7/7 [00:10<00:00,  1.45s/it]\n",
      "100%|████████████████████████████████████████████| 4/4 [00:35<00:00,  8.99s/it]\n",
      "100%|████████████████████████████████████████████| 3/3 [00:22<00:00,  7.57s/it]\n",
      "100%|████████████████████████████████████████████| 3/3 [01:07<00:00, 22.39s/it]\n",
      "100%|████████████████████████████████████████████| 3/3 [00:44<00:00, 14.87s/it]\n"
     ]
    },
    {
     "name": "stdout",
     "output_type": "stream",
     "text": [
      "5: Classifying data with openface representation\n",
      "\n",
      "\n"
     ]
    },
    {
     "name": "stderr",
     "output_type": "stream",
     "text": [
      "\r",
      "  0%|                                                    | 0/7 [00:00<?, ?it/s]"
     ]
    },
    {
     "name": "stdout",
     "output_type": "stream",
     "text": [
      "Data shape: (138, 128) and labels shape: (138,)\n"
     ]
    },
    {
     "name": "stderr",
     "output_type": "stream",
     "text": [
      "100%|████████████████████████████████████████████| 7/7 [00:08<00:00,  1.24s/it]\n",
      "100%|████████████████████████████████████████████| 4/4 [00:25<00:00,  6.32s/it]\n",
      "100%|████████████████████████████████████████████| 3/3 [00:19<00:00,  6.65s/it]\n",
      "100%|████████████████████████████████████████████| 3/3 [00:52<00:00, 17.63s/it]\n",
      "100%|████████████████████████████████████████████| 3/3 [00:37<00:00, 12.65s/it]\n"
     ]
    },
    {
     "name": "stdout",
     "output_type": "stream",
     "text": [
      "6: Classifying data with cfps representation\n",
      "\n",
      "\n"
     ]
    },
    {
     "name": "stderr",
     "output_type": "stream",
     "text": [
      "\r",
      "  0%|                                                    | 0/7 [00:00<?, ?it/s]"
     ]
    },
    {
     "name": "stdout",
     "output_type": "stream",
     "text": [
      "Data shape: (138, 340) and labels shape: (138,)\n"
     ]
    },
    {
     "name": "stderr",
     "output_type": "stream",
     "text": [
      "100%|████████████████████████████████████████████| 7/7 [00:15<00:00,  2.25s/it]\n",
      "100%|████████████████████████████████████████████| 4/4 [01:07<00:00, 16.81s/it]\n",
      "100%|████████████████████████████████████████████| 3/3 [00:22<00:00,  7.66s/it]\n",
      "100%|████████████████████████████████████████████| 3/3 [02:07<00:00, 42.61s/it]\n",
      "100%|████████████████████████████████████████████| 3/3 [01:11<00:00, 23.76s/it]\n"
     ]
    },
    {
     "name": "stdout",
     "output_type": "stream",
     "text": [
      "7: Classifying data with openface+cfps representation\n",
      "\n",
      "\n"
     ]
    },
    {
     "name": "stderr",
     "output_type": "stream",
     "text": [
      "\r",
      "  0%|                                                    | 0/7 [00:00<?, ?it/s]"
     ]
    },
    {
     "name": "stdout",
     "output_type": "stream",
     "text": [
      "Data shape: (138, 468) and labels shape: (138,)\n"
     ]
    },
    {
     "name": "stderr",
     "output_type": "stream",
     "text": [
      "100%|████████████████████████████████████████████| 7/7 [00:20<00:00,  2.87s/it]\n",
      "100%|████████████████████████████████████████████| 4/4 [01:30<00:00, 22.55s/it]\n",
      "100%|████████████████████████████████████████████| 3/3 [00:23<00:00,  7.98s/it]\n",
      "100%|████████████████████████████████████████████| 3/3 [02:52<00:00, 57.64s/it]\n",
      "100%|████████████████████████████████████████████| 3/3 [01:31<00:00, 30.65s/it]\n"
     ]
    },
    {
     "name": "stdout",
     "output_type": "stream",
     "text": [
      "8: Classifying data with facereader representation\n",
      "\n",
      "\n"
     ]
    },
    {
     "name": "stderr",
     "output_type": "stream",
     "text": [
      "\r",
      "  0%|                                                    | 0/7 [00:00<?, ?it/s]"
     ]
    },
    {
     "name": "stdout",
     "output_type": "stream",
     "text": [
      "Data shape: (123, 93) and labels shape: (123,)\n"
     ]
    },
    {
     "name": "stderr",
     "output_type": "stream",
     "text": [
      "100%|████████████████████████████████████████████| 7/7 [00:06<00:00,  1.10it/s]\n",
      "100%|████████████████████████████████████████████| 4/4 [00:14<00:00,  3.55s/it]\n",
      "100%|████████████████████████████████████████████| 3/3 [00:16<00:00,  5.54s/it]\n",
      "100%|████████████████████████████████████████████| 3/3 [00:32<00:00, 10.85s/it]\n",
      "100%|████████████████████████████████████████████| 3/3 [00:27<00:00,  9.11s/it]\n"
     ]
    },
    {
     "name": "stdout",
     "output_type": "stream",
     "text": [
      "Syndrome that will be classified: ADNP \n",
      "\n",
      "\n",
      "0: Classifying data with deepface representation\n",
      "\n",
      "\n"
     ]
    },
    {
     "name": "stderr",
     "output_type": "stream",
     "text": [
      "\r",
      "  0%|                                                    | 0/7 [00:00<?, ?it/s]"
     ]
    },
    {
     "name": "stdout",
     "output_type": "stream",
     "text": [
      "Data shape: (54, 4096) and labels shape: (54,)\n"
     ]
    },
    {
     "name": "stderr",
     "output_type": "stream",
     "text": [
      "100%|████████████████████████████████████████████| 7/7 [00:09<00:00,  1.31s/it]\n",
      "100%|████████████████████████████████████████████| 4/4 [00:56<00:00, 14.21s/it]\n",
      "100%|████████████████████████████████████████████| 3/3 [00:08<00:00,  2.74s/it]\n",
      "100%|████████████████████████████████████████████| 3/3 [01:45<00:00, 35.05s/it]\n",
      "100%|████████████████████████████████████████████| 3/3 [01:07<00:00, 22.44s/it]\n"
     ]
    },
    {
     "name": "stdout",
     "output_type": "stream",
     "text": [
      "1: Classifying data with dlib representation\n",
      "\n",
      "\n"
     ]
    },
    {
     "name": "stderr",
     "output_type": "stream",
     "text": [
      "\r",
      "  0%|                                                    | 0/7 [00:00<?, ?it/s]"
     ]
    },
    {
     "name": "stdout",
     "output_type": "stream",
     "text": [
      "Data shape: (53, 2210) and labels shape: (53,)\n"
     ]
    },
    {
     "name": "stderr",
     "output_type": "stream",
     "text": [
      "100%|████████████████████████████████████████████| 7/7 [00:04<00:00,  1.60it/s]\n",
      "100%|████████████████████████████████████████████| 4/4 [00:27<00:00,  6.89s/it]\n",
      "100%|████████████████████████████████████████████| 3/3 [00:07<00:00,  2.56s/it]\n",
      "100%|████████████████████████████████████████████| 3/3 [01:39<00:00, 33.01s/it]\n",
      "100%|████████████████████████████████████████████| 3/3 [00:52<00:00, 17.64s/it]\n"
     ]
    },
    {
     "name": "stdout",
     "output_type": "stream",
     "text": [
      "2: Classifying data with all deepface+dlib representations\n",
      "\n",
      "\n"
     ]
    },
    {
     "name": "stderr",
     "output_type": "stream",
     "text": [
      "\r",
      "  0%|                                                    | 0/7 [00:00<?, ?it/s]"
     ]
    },
    {
     "name": "stdout",
     "output_type": "stream",
     "text": [
      "Data shape: (53, 6306) and labels shape: (53,)\n"
     ]
    },
    {
     "name": "stderr",
     "output_type": "stream",
     "text": [
      "100%|████████████████████████████████████████████| 7/7 [00:12<00:00,  1.75s/it]\n",
      "100%|████████████████████████████████████████████| 4/4 [01:20<00:00, 20.24s/it]\n",
      "100%|████████████████████████████████████████████| 3/3 [00:09<00:00,  3.09s/it]\n",
      "100%|████████████████████████████████████████████| 3/3 [03:08<00:00, 62.97s/it]\n",
      "100%|████████████████████████████████████████████| 3/3 [01:58<00:00, 39.35s/it]\n"
     ]
    },
    {
     "name": "stdout",
     "output_type": "stream",
     "text": [
      "3: Classifying data with the 300 most important features of deepface-dlib representations\n",
      "\n",
      "\n"
     ]
    },
    {
     "name": "stderr",
     "output_type": "stream",
     "text": [
      "\r",
      "  0%|                                                    | 0/7 [00:00<?, ?it/s]"
     ]
    },
    {
     "name": "stdout",
     "output_type": "stream",
     "text": [
      "Data shape: (53, 300) and labels shape: (53,)\n"
     ]
    },
    {
     "name": "stderr",
     "output_type": "stream",
     "text": [
      "100%|████████████████████████████████████████████| 7/7 [00:02<00:00,  3.27it/s]\n",
      "100%|████████████████████████████████████████████| 4/4 [00:03<00:00,  1.05it/s]\n",
      "100%|████████████████████████████████████████████| 3/3 [00:06<00:00,  2.10s/it]\n",
      "100%|████████████████████████████████████████████| 3/3 [00:11<00:00,  3.82s/it]\n",
      "100%|████████████████████████████████████████████| 3/3 [00:11<00:00,  3.74s/it]\n"
     ]
    },
    {
     "name": "stdout",
     "output_type": "stream",
     "text": [
      "4: Classifying data with PCA components of deepface-dlib representation\n",
      "\n"
     ]
    },
    {
     "name": "stderr",
     "output_type": "stream",
     "text": [
      "\r",
      "  0%|                                                    | 0/7 [00:00<?, ?it/s]"
     ]
    },
    {
     "name": "stdout",
     "output_type": "stream",
     "text": [
      "Data shape: (53, 52) and labels shape: (53,)\n"
     ]
    },
    {
     "name": "stderr",
     "output_type": "stream",
     "text": [
      "100%|████████████████████████████████████████████| 7/7 [00:01<00:00,  3.90it/s]\n",
      "100%|████████████████████████████████████████████| 4/4 [00:01<00:00,  3.59it/s]\n",
      "100%|████████████████████████████████████████████| 3/3 [00:06<00:00,  2.03s/it]\n",
      "100%|████████████████████████████████████████████| 3/3 [00:04<00:00,  1.66s/it]\n",
      "100%|████████████████████████████████████████████| 3/3 [00:07<00:00,  2.59s/it]\n"
     ]
    },
    {
     "name": "stdout",
     "output_type": "stream",
     "text": [
      "5: Classifying data with openface representation\n",
      "\n",
      "\n"
     ]
    },
    {
     "name": "stderr",
     "output_type": "stream",
     "text": [
      "\r",
      "  0%|                                                    | 0/7 [00:00<?, ?it/s]"
     ]
    },
    {
     "name": "stdout",
     "output_type": "stream",
     "text": [
      "Data shape: (46, 128) and labels shape: (46,)\n"
     ]
    },
    {
     "name": "stderr",
     "output_type": "stream",
     "text": [
      "100%|████████████████████████████████████████████| 7/7 [00:01<00:00,  4.30it/s]\n",
      "100%|████████████████████████████████████████████| 4/4 [00:01<00:00,  2.98it/s]\n",
      "100%|████████████████████████████████████████████| 3/3 [00:05<00:00,  1.78s/it]\n",
      "100%|████████████████████████████████████████████| 3/3 [00:06<00:00,  2.06s/it]\n",
      "100%|████████████████████████████████████████████| 3/3 [00:07<00:00,  2.58s/it]\n"
     ]
    },
    {
     "name": "stdout",
     "output_type": "stream",
     "text": [
      "6: Classifying data with cfps representation\n",
      "\n",
      "\n"
     ]
    },
    {
     "name": "stderr",
     "output_type": "stream",
     "text": [
      "\r",
      "  0%|                                                    | 0/7 [00:00<?, ?it/s]"
     ]
    },
    {
     "name": "stdout",
     "output_type": "stream",
     "text": [
      "Data shape: (46, 340) and labels shape: (46,)\n"
     ]
    },
    {
     "name": "stderr",
     "output_type": "stream",
     "text": [
      "100%|████████████████████████████████████████████| 7/7 [00:01<00:00,  3.84it/s]\n",
      "100%|████████████████████████████████████████████| 4/4 [00:03<00:00,  1.33it/s]\n",
      "100%|████████████████████████████████████████████| 3/3 [00:05<00:00,  1.84s/it]\n",
      "100%|████████████████████████████████████████████| 3/3 [00:12<00:00,  4.05s/it]\n",
      "100%|████████████████████████████████████████████| 3/3 [00:10<00:00,  3.65s/it]\n"
     ]
    },
    {
     "name": "stdout",
     "output_type": "stream",
     "text": [
      "7: Classifying data with openface+cfps representation\n",
      "\n",
      "\n"
     ]
    },
    {
     "name": "stderr",
     "output_type": "stream",
     "text": [
      "\r",
      "  0%|                                                    | 0/7 [00:00<?, ?it/s]"
     ]
    },
    {
     "name": "stdout",
     "output_type": "stream",
     "text": [
      "Data shape: (46, 468) and labels shape: (46,)\n"
     ]
    },
    {
     "name": "stderr",
     "output_type": "stream",
     "text": [
      "100%|████████████████████████████████████████████| 7/7 [00:01<00:00,  3.54it/s]\n",
      "100%|████████████████████████████████████████████| 4/4 [00:03<00:00,  1.01it/s]\n",
      "100%|████████████████████████████████████████████| 3/3 [00:05<00:00,  1.86s/it]\n",
      "100%|████████████████████████████████████████████| 3/3 [00:16<00:00,  5.42s/it]\n",
      "100%|████████████████████████████████████████████| 3/3 [00:13<00:00,  4.35s/it]\n"
     ]
    },
    {
     "name": "stdout",
     "output_type": "stream",
     "text": [
      "8: Classifying data with facereader representation\n",
      "\n",
      "\n"
     ]
    },
    {
     "name": "stderr",
     "output_type": "stream",
     "text": [
      " 14%|██████▎                                     | 1/7 [00:00<00:01,  5.32it/s]"
     ]
    },
    {
     "name": "stdout",
     "output_type": "stream",
     "text": [
      "Data shape: (37, 93) and labels shape: (37,)\n"
     ]
    },
    {
     "name": "stderr",
     "output_type": "stream",
     "text": [
      "100%|████████████████████████████████████████████| 7/7 [00:01<00:00,  5.43it/s]\n",
      "100%|████████████████████████████████████████████| 4/4 [00:00<00:00,  5.71it/s]\n",
      "100%|████████████████████████████████████████████| 3/3 [00:04<00:00,  1.39s/it]\n",
      "100%|████████████████████████████████████████████| 3/3 [00:03<00:00,  1.19s/it]\n",
      "100%|████████████████████████████████████████████| 3/3 [00:05<00:00,  1.86s/it]\n"
     ]
    },
    {
     "name": "stdout",
     "output_type": "stream",
     "text": [
      "Syndrome that will be classified: ANKRD11 \n",
      "\n",
      "\n",
      "0: Classifying data with deepface representation\n",
      "\n",
      "\n"
     ]
    },
    {
     "name": "stderr",
     "output_type": "stream",
     "text": [
      "\r",
      "  0%|                                                    | 0/7 [00:00<?, ?it/s]"
     ]
    },
    {
     "name": "stdout",
     "output_type": "stream",
     "text": [
      "Data shape: (48, 4096) and labels shape: (48,)\n"
     ]
    },
    {
     "name": "stderr",
     "output_type": "stream",
     "text": [
      "100%|████████████████████████████████████████████| 7/7 [00:07<00:00,  1.06s/it]\n",
      "100%|████████████████████████████████████████████| 4/4 [00:40<00:00, 10.06s/it]\n",
      "100%|████████████████████████████████████████████| 3/3 [00:06<00:00,  2.31s/it]\n",
      "100%|████████████████████████████████████████████| 3/3 [01:26<00:00, 28.82s/it]\n",
      "100%|████████████████████████████████████████████| 3/3 [00:51<00:00, 17.31s/it]\n"
     ]
    },
    {
     "name": "stdout",
     "output_type": "stream",
     "text": [
      "1: Classifying data with dlib representation\n",
      "\n",
      "\n"
     ]
    },
    {
     "name": "stderr",
     "output_type": "stream",
     "text": [
      "\r",
      "  0%|                                                    | 0/7 [00:00<?, ?it/s]"
     ]
    },
    {
     "name": "stdout",
     "output_type": "stream",
     "text": [
      "Data shape: (48, 2210) and labels shape: (48,)\n"
     ]
    },
    {
     "name": "stderr",
     "output_type": "stream",
     "text": [
      "100%|████████████████████████████████████████████| 7/7 [00:03<00:00,  1.83it/s]\n",
      "100%|████████████████████████████████████████████| 4/4 [00:20<00:00,  5.01s/it]\n",
      "100%|████████████████████████████████████████████| 3/3 [00:06<00:00,  2.22s/it]\n",
      "100%|████████████████████████████████████████████| 3/3 [01:21<00:00, 27.14s/it]\n",
      "100%|████████████████████████████████████████████| 3/3 [00:43<00:00, 14.46s/it]\n"
     ]
    },
    {
     "name": "stdout",
     "output_type": "stream",
     "text": [
      "2: Classifying data with all deepface+dlib representations\n",
      "\n",
      "\n"
     ]
    },
    {
     "name": "stderr",
     "output_type": "stream",
     "text": [
      "\r",
      "  0%|                                                    | 0/7 [00:00<?, ?it/s]"
     ]
    },
    {
     "name": "stdout",
     "output_type": "stream",
     "text": [
      "Data shape: (48, 6306) and labels shape: (48,)\n"
     ]
    },
    {
     "name": "stderr",
     "output_type": "stream",
     "text": [
      "100%|████████████████████████████████████████████| 7/7 [00:10<00:00,  1.45s/it]\n",
      "100%|████████████████████████████████████████████| 4/4 [01:00<00:00, 15.02s/it]\n",
      "100%|████████████████████████████████████████████| 3/3 [00:07<00:00,  2.65s/it]\n",
      "100%|████████████████████████████████████████████| 3/3 [02:39<00:00, 53.22s/it]\n",
      "100%|████████████████████████████████████████████| 3/3 [01:34<00:00, 31.64s/it]\n"
     ]
    },
    {
     "name": "stdout",
     "output_type": "stream",
     "text": [
      "3: Classifying data with the 300 most important features of deepface-dlib representations\n",
      "\n",
      "\n"
     ]
    },
    {
     "name": "stderr",
     "output_type": "stream",
     "text": [
      "\r",
      "  0%|                                                    | 0/7 [00:00<?, ?it/s]"
     ]
    },
    {
     "name": "stdout",
     "output_type": "stream",
     "text": [
      "Data shape: (48, 300) and labels shape: (48,)\n"
     ]
    },
    {
     "name": "stderr",
     "output_type": "stream",
     "text": [
      "100%|████████████████████████████████████████████| 7/7 [00:01<00:00,  3.64it/s]\n",
      "100%|████████████████████████████████████████████| 4/4 [00:02<00:00,  1.39it/s]\n",
      "100%|████████████████████████████████████████████| 3/3 [00:05<00:00,  1.88s/it]\n",
      "100%|████████████████████████████████████████████| 3/3 [00:09<00:00,  3.04s/it]\n",
      "100%|████████████████████████████████████████████| 3/3 [00:09<00:00,  3.21s/it]\n"
     ]
    },
    {
     "name": "stdout",
     "output_type": "stream",
     "text": [
      "4: Classifying data with PCA components of deepface-dlib representation\n",
      "\n"
     ]
    },
    {
     "name": "stderr",
     "output_type": "stream",
     "text": [
      "\r",
      "  0%|                                                    | 0/7 [00:00<?, ?it/s]"
     ]
    },
    {
     "name": "stdout",
     "output_type": "stream",
     "text": [
      "Data shape: (48, 47) and labels shape: (48,)\n"
     ]
    },
    {
     "name": "stderr",
     "output_type": "stream",
     "text": [
      "100%|████████████████████████████████████████████| 7/7 [00:01<00:00,  4.08it/s]\n",
      "100%|████████████████████████████████████████████| 4/4 [00:00<00:00,  4.52it/s]\n",
      "100%|████████████████████████████████████████████| 3/3 [00:05<00:00,  1.82s/it]\n",
      "100%|████████████████████████████████████████████| 3/3 [00:03<00:00,  1.33s/it]\n",
      "100%|████████████████████████████████████████████| 3/3 [00:06<00:00,  2.27s/it]\n"
     ]
    },
    {
     "name": "stdout",
     "output_type": "stream",
     "text": [
      "5: Classifying data with openface representation\n",
      "\n",
      "\n"
     ]
    },
    {
     "name": "stderr",
     "output_type": "stream",
     "text": [
      "\r",
      "  0%|                                                    | 0/7 [00:00<?, ?it/s]"
     ]
    },
    {
     "name": "stdout",
     "output_type": "stream",
     "text": [
      "Data shape: (42, 128) and labels shape: (42,)\n"
     ]
    },
    {
     "name": "stderr",
     "output_type": "stream",
     "text": [
      "100%|████████████████████████████████████████████| 7/7 [00:01<00:00,  4.73it/s]\n",
      "100%|████████████████████████████████████████████| 4/4 [00:01<00:00,  3.70it/s]\n",
      "100%|████████████████████████████████████████████| 3/3 [00:04<00:00,  1.62s/it]\n",
      "100%|████████████████████████████████████████████| 3/3 [00:04<00:00,  1.66s/it]\n",
      "100%|████████████████████████████████████████████| 3/3 [00:06<00:00,  2.31s/it]\n"
     ]
    },
    {
     "name": "stdout",
     "output_type": "stream",
     "text": [
      "6: Classifying data with cfps representation\n",
      "\n",
      "\n"
     ]
    },
    {
     "name": "stderr",
     "output_type": "stream",
     "text": [
      " 14%|██████▎                                     | 1/7 [00:00<00:01,  5.83it/s]"
     ]
    },
    {
     "name": "stdout",
     "output_type": "stream",
     "text": [
      "Data shape: (30, 340) and labels shape: (30,)\n"
     ]
    },
    {
     "name": "stderr",
     "output_type": "stream",
     "text": [
      "100%|████████████████████████████████████████████| 7/7 [00:01<00:00,  6.23it/s]\n",
      "100%|████████████████████████████████████████████| 4/4 [00:01<00:00,  3.96it/s]\n",
      "100%|████████████████████████████████████████████| 3/3 [00:03<00:00,  1.15s/it]\n",
      "100%|████████████████████████████████████████████| 3/3 [00:04<00:00,  1.62s/it]\n",
      "100%|████████████████████████████████████████████| 3/3 [00:05<00:00,  1.96s/it]\n"
     ]
    },
    {
     "name": "stdout",
     "output_type": "stream",
     "text": [
      "7: Classifying data with openface+cfps representation\n",
      "\n",
      "\n",
      "8: Classifying data with facereader representation\n",
      "\n",
      "\n"
     ]
    },
    {
     "name": "stderr",
     "output_type": "stream",
     "text": [
      "\r",
      "  0%|                                                    | 0/7 [00:00<?, ?it/s]"
     ]
    },
    {
     "name": "stdout",
     "output_type": "stream",
     "text": [
      "Data shape: (42, 93) and labels shape: (42,)\n"
     ]
    },
    {
     "name": "stderr",
     "output_type": "stream",
     "text": [
      "100%|████████████████████████████████████████████| 7/7 [00:01<00:00,  4.78it/s]\n",
      "100%|████████████████████████████████████████████| 4/4 [00:00<00:00,  4.46it/s]\n",
      "100%|████████████████████████████████████████████| 3/3 [00:04<00:00,  1.59s/it]\n",
      "100%|████████████████████████████████████████████| 3/3 [00:04<00:00,  1.46s/it]\n",
      "100%|████████████████████████████████████████████| 3/3 [00:06<00:00,  2.16s/it]\n"
     ]
    },
    {
     "name": "stdout",
     "output_type": "stream",
     "text": [
      "Syndrome that will be classified: CDK13 \n",
      "\n",
      "\n",
      "0: Classifying data with deepface representation\n",
      "\n",
      "\n"
     ]
    },
    {
     "name": "stderr",
     "output_type": "stream",
     "text": [
      "\r",
      "  0%|                                                    | 0/7 [00:00<?, ?it/s]"
     ]
    },
    {
     "name": "stdout",
     "output_type": "stream",
     "text": [
      "Data shape: (58, 4096) and labels shape: (58,)\n"
     ]
    },
    {
     "name": "stderr",
     "output_type": "stream",
     "text": [
      "100%|████████████████████████████████████████████| 7/7 [00:10<00:00,  1.47s/it]\n",
      "100%|████████████████████████████████████████████| 4/4 [01:09<00:00, 17.32s/it]\n",
      "100%|████████████████████████████████████████████| 3/3 [00:08<00:00,  2.96s/it]\n",
      "100%|████████████████████████████████████████████| 3/3 [02:12<00:00, 44.27s/it]\n",
      "100%|████████████████████████████████████████████| 3/3 [01:18<00:00, 26.00s/it]\n"
     ]
    },
    {
     "name": "stdout",
     "output_type": "stream",
     "text": [
      "1: Classifying data with dlib representation\n",
      "\n",
      "\n"
     ]
    },
    {
     "name": "stderr",
     "output_type": "stream",
     "text": [
      "\r",
      "  0%|                                                    | 0/7 [00:00<?, ?it/s]"
     ]
    },
    {
     "name": "stdout",
     "output_type": "stream",
     "text": [
      "Data shape: (57, 2210) and labels shape: (57,)\n"
     ]
    },
    {
     "name": "stderr",
     "output_type": "stream",
     "text": [
      "100%|████████████████████████████████████████████| 7/7 [00:04<00:00,  1.42it/s]\n",
      "100%|████████████████████████████████████████████| 4/4 [00:31<00:00,  7.93s/it]\n",
      "100%|████████████████████████████████████████████| 3/3 [00:08<00:00,  2.76s/it]\n",
      "100%|████████████████████████████████████████████| 3/3 [01:53<00:00, 37.87s/it]\n",
      "100%|████████████████████████████████████████████| 3/3 [01:00<00:00, 20.33s/it]\n"
     ]
    },
    {
     "name": "stdout",
     "output_type": "stream",
     "text": [
      "2: Classifying data with all deepface+dlib representations\n",
      "\n",
      "\n"
     ]
    },
    {
     "name": "stderr",
     "output_type": "stream",
     "text": [
      "\r",
      "  0%|                                                    | 0/7 [00:00<?, ?it/s]"
     ]
    },
    {
     "name": "stdout",
     "output_type": "stream",
     "text": [
      "Data shape: (57, 6306) and labels shape: (57,)\n"
     ]
    },
    {
     "name": "stderr",
     "output_type": "stream",
     "text": [
      "100%|████████████████████████████████████████████| 7/7 [00:13<00:00,  1.95s/it]\n",
      "100%|████████████████████████████████████████████| 4/4 [01:39<00:00, 24.80s/it]\n",
      "100%|████████████████████████████████████████████| 3/3 [00:10<00:00,  3.38s/it]\n",
      "100%|████████████████████████████████████████████| 3/3 [03:35<00:00, 71.68s/it]\n",
      "100%|████████████████████████████████████████████| 3/3 [02:17<00:00, 45.80s/it]\n"
     ]
    },
    {
     "name": "stdout",
     "output_type": "stream",
     "text": [
      "3: Classifying data with the 300 most important features of deepface-dlib representations\n",
      "\n",
      "\n"
     ]
    },
    {
     "name": "stderr",
     "output_type": "stream",
     "text": [
      "\r",
      "  0%|                                                    | 0/7 [00:00<?, ?it/s]"
     ]
    },
    {
     "name": "stdout",
     "output_type": "stream",
     "text": [
      "Data shape: (57, 300) and labels shape: (57,)\n"
     ]
    },
    {
     "name": "stderr",
     "output_type": "stream",
     "text": [
      "100%|████████████████████████████████████████████| 7/7 [00:02<00:00,  3.03it/s]\n",
      "100%|████████████████████████████████████████████| 4/4 [00:04<00:00,  1.15s/it]\n",
      "100%|████████████████████████████████████████████| 3/3 [00:06<00:00,  2.26s/it]\n",
      "100%|████████████████████████████████████████████| 3/3 [00:12<00:00,  4.24s/it]\n",
      "100%|████████████████████████████████████████████| 3/3 [00:12<00:00,  4.20s/it]\n"
     ]
    },
    {
     "name": "stdout",
     "output_type": "stream",
     "text": [
      "4: Classifying data with PCA components of deepface-dlib representation\n",
      "\n"
     ]
    },
    {
     "name": "stderr",
     "output_type": "stream",
     "text": [
      "\r",
      "  0%|                                                    | 0/7 [00:00<?, ?it/s]"
     ]
    },
    {
     "name": "stdout",
     "output_type": "stream",
     "text": [
      "Data shape: (57, 56) and labels shape: (57,)\n"
     ]
    },
    {
     "name": "stderr",
     "output_type": "stream",
     "text": [
      "100%|████████████████████████████████████████████| 7/7 [00:01<00:00,  3.56it/s]\n",
      "100%|████████████████████████████████████████████| 4/4 [00:01<00:00,  2.90it/s]\n",
      "100%|████████████████████████████████████████████| 3/3 [00:06<00:00,  2.20s/it]\n",
      "100%|████████████████████████████████████████████| 3/3 [00:05<00:00,  1.71s/it]\n",
      "100%|████████████████████████████████████████████| 3/3 [00:08<00:00,  2.86s/it]\n"
     ]
    },
    {
     "name": "stdout",
     "output_type": "stream",
     "text": [
      "5: Classifying data with openface representation\n",
      "\n",
      "\n"
     ]
    },
    {
     "name": "stderr",
     "output_type": "stream",
     "text": [
      "\r",
      "  0%|                                                    | 0/7 [00:00<?, ?it/s]"
     ]
    },
    {
     "name": "stdout",
     "output_type": "stream",
     "text": [
      "Data shape: (38, 128) and labels shape: (38,)\n"
     ]
    },
    {
     "name": "stderr",
     "output_type": "stream",
     "text": [
      "100%|████████████████████████████████████████████| 7/7 [00:01<00:00,  5.18it/s]\n",
      "100%|████████████████████████████████████████████| 4/4 [00:00<00:00,  4.53it/s]\n",
      "100%|████████████████████████████████████████████| 3/3 [00:04<00:00,  1.44s/it]\n",
      "100%|████████████████████████████████████████████| 3/3 [00:04<00:00,  1.44s/it]\n",
      "100%|████████████████████████████████████████████| 3/3 [00:06<00:00,  2.03s/it]\n"
     ]
    },
    {
     "name": "stdout",
     "output_type": "stream",
     "text": [
      "6: Classifying data with cfps representation\n",
      "\n",
      "\n"
     ]
    },
    {
     "name": "stderr",
     "output_type": "stream",
     "text": [
      "\r",
      "  0%|                                                    | 0/7 [00:00<?, ?it/s]"
     ]
    },
    {
     "name": "stdout",
     "output_type": "stream",
     "text": [
      "Data shape: (38, 340) and labels shape: (38,)\n"
     ]
    },
    {
     "name": "stderr",
     "output_type": "stream",
     "text": [
      "100%|████████████████████████████████████████████| 7/7 [00:01<00:00,  4.74it/s]\n",
      "100%|████████████████████████████████████████████| 4/4 [00:01<00:00,  2.18it/s]\n",
      "100%|████████████████████████████████████████████| 3/3 [00:04<00:00,  1.50s/it]\n",
      "100%|████████████████████████████████████████████| 3/3 [00:08<00:00,  2.85s/it]\n",
      "100%|████████████████████████████████████████████| 3/3 [00:08<00:00,  2.78s/it]\n"
     ]
    },
    {
     "name": "stdout",
     "output_type": "stream",
     "text": [
      "7: Classifying data with openface+cfps representation\n",
      "\n",
      "\n"
     ]
    },
    {
     "name": "stderr",
     "output_type": "stream",
     "text": [
      "\r",
      "  0%|                                                    | 0/7 [00:00<?, ?it/s]"
     ]
    },
    {
     "name": "stdout",
     "output_type": "stream",
     "text": [
      "Data shape: (38, 468) and labels shape: (38,)\n"
     ]
    },
    {
     "name": "stderr",
     "output_type": "stream",
     "text": [
      "100%|████████████████████████████████████████████| 7/7 [00:01<00:00,  4.43it/s]\n",
      "100%|████████████████████████████████████████████| 4/4 [00:02<00:00,  1.66it/s]\n",
      "100%|████████████████████████████████████████████| 3/3 [00:04<00:00,  1.50s/it]\n",
      "100%|████████████████████████████████████████████| 3/3 [00:10<00:00,  3.57s/it]\n",
      "100%|████████████████████████████████████████████| 3/3 [00:09<00:00,  3.21s/it]\n"
     ]
    },
    {
     "name": "stdout",
     "output_type": "stream",
     "text": [
      "8: Classifying data with facereader representation\n",
      "\n",
      "\n"
     ]
    },
    {
     "name": "stderr",
     "output_type": "stream",
     "text": [
      "\r",
      "  0%|                                                    | 0/7 [00:00<?, ?it/s]"
     ]
    },
    {
     "name": "stdout",
     "output_type": "stream",
     "text": [
      "Data shape: (41, 93) and labels shape: (41,)\n"
     ]
    },
    {
     "name": "stderr",
     "output_type": "stream",
     "text": [
      "100%|████████████████████████████████████████████| 7/7 [00:01<00:00,  4.89it/s]\n",
      "100%|████████████████████████████████████████████| 4/4 [00:00<00:00,  4.61it/s]\n",
      "100%|████████████████████████████████████████████| 3/3 [00:04<00:00,  1.56s/it]\n",
      "100%|████████████████████████████████████████████| 3/3 [00:03<00:00,  1.31s/it]\n",
      "100%|████████████████████████████████████████████| 3/3 [00:06<00:00,  2.10s/it]\n"
     ]
    },
    {
     "name": "stdout",
     "output_type": "stream",
     "text": [
      "Syndrome that will be classified: DEAF1 \n",
      "\n",
      "\n",
      "0: Classifying data with deepface representation\n",
      "\n",
      "\n"
     ]
    },
    {
     "name": "stderr",
     "output_type": "stream",
     "text": [
      "\r",
      "  0%|                                                    | 0/7 [00:00<?, ?it/s]"
     ]
    },
    {
     "name": "stdout",
     "output_type": "stream",
     "text": [
      "Data shape: (40, 4096) and labels shape: (40,)\n"
     ]
    },
    {
     "name": "stderr",
     "output_type": "stream",
     "text": [
      "100%|████████████████████████████████████████████| 7/7 [00:05<00:00,  1.31it/s]\n",
      "100%|████████████████████████████████████████████| 4/4 [00:23<00:00,  5.79s/it]\n",
      "100%|████████████████████████████████████████████| 3/3 [00:05<00:00,  1.84s/it]\n",
      "100%|████████████████████████████████████████████| 3/3 [00:56<00:00, 18.89s/it]\n",
      "100%|████████████████████████████████████████████| 3/3 [00:36<00:00, 12.19s/it]\n"
     ]
    },
    {
     "name": "stdout",
     "output_type": "stream",
     "text": [
      "1: Classifying data with dlib representation\n",
      "\n",
      "\n"
     ]
    },
    {
     "name": "stderr",
     "output_type": "stream",
     "text": [
      "\r",
      "  0%|                                                    | 0/7 [00:00<?, ?it/s]"
     ]
    },
    {
     "name": "stdout",
     "output_type": "stream",
     "text": [
      "Data shape: (40, 2210) and labels shape: (40,)\n"
     ]
    },
    {
     "name": "stderr",
     "output_type": "stream",
     "text": [
      "100%|████████████████████████████████████████████| 7/7 [00:02<00:00,  2.39it/s]\n",
      "100%|████████████████████████████████████████████| 4/4 [00:11<00:00,  2.80s/it]\n",
      "100%|████████████████████████████████████████████| 3/3 [00:05<00:00,  1.76s/it]\n",
      "100%|████████████████████████████████████████████| 3/3 [00:50<00:00, 16.92s/it]\n",
      "100%|████████████████████████████████████████████| 3/3 [00:30<00:00, 10.02s/it]\n"
     ]
    },
    {
     "name": "stdout",
     "output_type": "stream",
     "text": [
      "2: Classifying data with all deepface+dlib representations\n",
      "\n",
      "\n"
     ]
    },
    {
     "name": "stderr",
     "output_type": "stream",
     "text": [
      "\r",
      "  0%|                                                    | 0/7 [00:00<?, ?it/s]"
     ]
    },
    {
     "name": "stdout",
     "output_type": "stream",
     "text": [
      "Data shape: (40, 6306) and labels shape: (40,)\n"
     ]
    },
    {
     "name": "stderr",
     "output_type": "stream",
     "text": [
      "100%|████████████████████████████████████████████| 7/7 [00:07<00:00,  1.04s/it]\n",
      "100%|████████████████████████████████████████████| 4/4 [00:34<00:00,  8.69s/it]\n",
      "100%|████████████████████████████████████████████| 3/3 [00:06<00:00,  2.02s/it]\n",
      "100%|████████████████████████████████████████████| 3/3 [01:43<00:00, 34.35s/it]\n",
      "100%|████████████████████████████████████████████| 3/3 [01:02<00:00, 20.85s/it]\n"
     ]
    },
    {
     "name": "stdout",
     "output_type": "stream",
     "text": [
      "3: Classifying data with the 300 most important features of deepface-dlib representations\n",
      "\n",
      "\n"
     ]
    },
    {
     "name": "stderr",
     "output_type": "stream",
     "text": [
      "\r",
      "  0%|                                                    | 0/7 [00:00<?, ?it/s]"
     ]
    },
    {
     "name": "stdout",
     "output_type": "stream",
     "text": [
      "Data shape: (40, 300) and labels shape: (40,)\n"
     ]
    },
    {
     "name": "stderr",
     "output_type": "stream",
     "text": [
      "100%|████████████████████████████████████████████| 7/7 [00:01<00:00,  4.46it/s]\n",
      "100%|████████████████████████████████████████████| 4/4 [00:01<00:00,  2.22it/s]\n",
      "100%|████████████████████████████████████████████| 3/3 [00:04<00:00,  1.53s/it]\n",
      "100%|████████████████████████████████████████████| 3/3 [00:06<00:00,  2.04s/it]\n",
      "100%|████████████████████████████████████████████| 3/3 [00:07<00:00,  2.48s/it]\n"
     ]
    },
    {
     "name": "stdout",
     "output_type": "stream",
     "text": [
      "4: Classifying data with PCA components of deepface-dlib representation\n",
      "\n"
     ]
    },
    {
     "name": "stderr",
     "output_type": "stream",
     "text": [
      "\r",
      "  0%|                                                    | 0/7 [00:00<?, ?it/s]"
     ]
    },
    {
     "name": "stdout",
     "output_type": "stream",
     "text": [
      "Data shape: (40, 39) and labels shape: (40,)\n"
     ]
    },
    {
     "name": "stderr",
     "output_type": "stream",
     "text": [
      "100%|████████████████████████████████████████████| 7/7 [00:01<00:00,  5.11it/s]\n",
      "100%|████████████████████████████████████████████| 4/4 [00:00<00:00,  6.71it/s]\n",
      "100%|████████████████████████████████████████████| 3/3 [00:04<00:00,  1.49s/it]\n",
      "100%|████████████████████████████████████████████| 3/3 [00:02<00:00,  1.03it/s]\n",
      "100%|████████████████████████████████████████████| 3/3 [00:05<00:00,  1.81s/it]\n"
     ]
    },
    {
     "name": "stdout",
     "output_type": "stream",
     "text": [
      "5: Classifying data with openface representation\n",
      "\n",
      "\n"
     ]
    },
    {
     "name": "stderr",
     "output_type": "stream",
     "text": [
      " 14%|██████▎                                     | 1/7 [00:00<00:01,  5.64it/s]"
     ]
    },
    {
     "name": "stdout",
     "output_type": "stream",
     "text": [
      "Data shape: (34, 128) and labels shape: (34,)\n"
     ]
    },
    {
     "name": "stderr",
     "output_type": "stream",
     "text": [
      "100%|████████████████████████████████████████████| 7/7 [00:01<00:00,  5.79it/s]\n",
      "100%|████████████████████████████████████████████| 4/4 [00:00<00:00,  5.70it/s]\n",
      "100%|████████████████████████████████████████████| 3/3 [00:03<00:00,  1.28s/it]\n",
      "100%|████████████████████████████████████████████| 3/3 [00:03<00:00,  1.20s/it]\n",
      "100%|████████████████████████████████████████████| 3/3 [00:05<00:00,  1.79s/it]\n"
     ]
    },
    {
     "name": "stdout",
     "output_type": "stream",
     "text": [
      "6: Classifying data with cfps representation\n",
      "\n",
      "\n"
     ]
    },
    {
     "name": "stderr",
     "output_type": "stream",
     "text": [
      " 14%|██████▎                                     | 1/7 [00:00<00:01,  5.56it/s]"
     ]
    },
    {
     "name": "stdout",
     "output_type": "stream",
     "text": [
      "Data shape: (34, 340) and labels shape: (34,)\n"
     ]
    },
    {
     "name": "stderr",
     "output_type": "stream",
     "text": [
      "100%|████████████████████████████████████████████| 7/7 [00:01<00:00,  5.34it/s]\n",
      "100%|████████████████████████████████████████████| 4/4 [00:01<00:00,  2.91it/s]\n",
      "100%|████████████████████████████████████████████| 3/3 [00:03<00:00,  1.31s/it]\n",
      "100%|████████████████████████████████████████████| 3/3 [00:06<00:00,  2.24s/it]\n",
      "100%|████████████████████████████████████████████| 3/3 [00:07<00:00,  2.35s/it]\n"
     ]
    },
    {
     "name": "stdout",
     "output_type": "stream",
     "text": [
      "7: Classifying data with openface+cfps representation\n",
      "\n",
      "\n"
     ]
    },
    {
     "name": "stderr",
     "output_type": "stream",
     "text": [
      " 14%|██████▎                                     | 1/7 [00:00<00:01,  5.06it/s]"
     ]
    },
    {
     "name": "stdout",
     "output_type": "stream",
     "text": [
      "Data shape: (34, 468) and labels shape: (34,)\n"
     ]
    },
    {
     "name": "stderr",
     "output_type": "stream",
     "text": [
      "100%|████████████████████████████████████████████| 7/7 [00:01<00:00,  5.01it/s]\n",
      "100%|████████████████████████████████████████████| 4/4 [00:01<00:00,  2.22it/s]\n",
      "100%|████████████████████████████████████████████| 3/3 [00:03<00:00,  1.32s/it]\n",
      "100%|████████████████████████████████████████████| 3/3 [00:08<00:00,  2.71s/it]\n",
      "100%|████████████████████████████████████████████| 3/3 [00:08<00:00,  2.71s/it]\n"
     ]
    },
    {
     "name": "stdout",
     "output_type": "stream",
     "text": [
      "8: Classifying data with facereader representation\n",
      "\n",
      "\n"
     ]
    },
    {
     "name": "stderr",
     "output_type": "stream",
     "text": [
      " 14%|██████▎                                     | 1/7 [00:00<00:01,  5.80it/s]"
     ]
    },
    {
     "name": "stdout",
     "output_type": "stream",
     "text": [
      "Data shape: (33, 93) and labels shape: (33,)\n"
     ]
    },
    {
     "name": "stderr",
     "output_type": "stream",
     "text": [
      "100%|████████████████████████████████████████████| 7/7 [00:01<00:00,  6.06it/s]\n",
      "100%|████████████████████████████████████████████| 4/4 [00:00<00:00,  7.04it/s]\n",
      "100%|████████████████████████████████████████████| 3/3 [00:03<00:00,  1.26s/it]\n",
      "100%|████████████████████████████████████████████| 3/3 [00:02<00:00,  1.04it/s]\n",
      "100%|████████████████████████████████████████████| 3/3 [00:04<00:00,  1.64s/it]\n"
     ]
    },
    {
     "name": "stdout",
     "output_type": "stream",
     "text": [
      "Syndrome that will be classified: DYRK1A \n",
      "\n",
      "\n",
      "0: Classifying data with deepface representation\n",
      "\n",
      "\n"
     ]
    },
    {
     "name": "stderr",
     "output_type": "stream",
     "text": [
      "\r",
      "  0%|                                                    | 0/7 [00:00<?, ?it/s]"
     ]
    },
    {
     "name": "stdout",
     "output_type": "stream",
     "text": [
      "Data shape: (30, 4096) and labels shape: (30,)\n"
     ]
    },
    {
     "name": "stderr",
     "output_type": "stream",
     "text": [
      "100%|████████████████████████████████████████████| 7/7 [00:02<00:00,  2.50it/s]\n",
      "100%|████████████████████████████████████████████| 4/4 [00:09<00:00,  2.49s/it]\n",
      "100%|████████████████████████████████████████████| 3/3 [00:03<00:00,  1.25s/it]\n",
      "100%|████████████████████████████████████████████| 3/3 [00:25<00:00,  8.38s/it]\n",
      "100%|████████████████████████████████████████████| 3/3 [00:20<00:00,  6.80s/it]\n"
     ]
    },
    {
     "name": "stdout",
     "output_type": "stream",
     "text": [
      "1: Classifying data with dlib representation\n",
      "\n",
      "\n"
     ]
    },
    {
     "name": "stderr",
     "output_type": "stream",
     "text": [
      "\r",
      "  0%|                                                    | 0/7 [00:00<?, ?it/s]"
     ]
    },
    {
     "name": "stdout",
     "output_type": "stream",
     "text": [
      "Data shape: (29, 2210) and labels shape: (29,)\n"
     ]
    },
    {
     "name": "stderr",
     "output_type": "stream",
     "text": [
      "100%|████████████████████████████████████████████| 7/7 [00:01<00:00,  4.06it/s]\n",
      "100%|████████████████████████████████████████████| 4/4 [00:04<00:00,  1.11s/it]\n",
      "100%|████████████████████████████████████████████| 3/3 [00:03<00:00,  1.20s/it]\n",
      "100%|████████████████████████████████████████████| 3/3 [00:22<00:00,  7.52s/it]\n",
      "100%|████████████████████████████████████████████| 3/3 [00:16<00:00,  5.40s/it]\n"
     ]
    },
    {
     "name": "stdout",
     "output_type": "stream",
     "text": [
      "2: Classifying data with all deepface+dlib representations\n",
      "\n",
      "\n"
     ]
    },
    {
     "name": "stderr",
     "output_type": "stream",
     "text": [
      "\r",
      "  0%|                                                    | 0/7 [00:00<?, ?it/s]"
     ]
    },
    {
     "name": "stdout",
     "output_type": "stream",
     "text": [
      "Data shape: (29, 6306) and labels shape: (29,)\n"
     ]
    },
    {
     "name": "stderr",
     "output_type": "stream",
     "text": [
      "100%|████████████████████████████████████████████| 7/7 [00:03<00:00,  1.79it/s]\n",
      "100%|████████████████████████████████████████████| 4/4 [00:14<00:00,  3.60s/it]\n",
      "100%|████████████████████████████████████████████| 3/3 [00:04<00:00,  1.34s/it]\n",
      "100%|████████████████████████████████████████████| 3/3 [00:41<00:00, 13.85s/it]\n",
      "100%|████████████████████████████████████████████| 3/3 [00:31<00:00, 10.45s/it]\n"
     ]
    },
    {
     "name": "stdout",
     "output_type": "stream",
     "text": [
      "3: Classifying data with the 300 most important features of deepface-dlib representations\n",
      "\n",
      "\n"
     ]
    },
    {
     "name": "stderr",
     "output_type": "stream",
     "text": [
      " 14%|██████▎                                     | 1/7 [00:00<00:00,  6.68it/s]"
     ]
    },
    {
     "name": "stdout",
     "output_type": "stream",
     "text": [
      "Data shape: (29, 300) and labels shape: (29,)\n"
     ]
    },
    {
     "name": "stderr",
     "output_type": "stream",
     "text": [
      "100%|████████████████████████████████████████████| 7/7 [00:01<00:00,  6.55it/s]\n",
      "100%|████████████████████████████████████████████| 4/4 [00:00<00:00,  4.65it/s]\n",
      "100%|████████████████████████████████████████████| 3/3 [00:03<00:00,  1.09s/it]\n",
      "100%|████████████████████████████████████████████| 3/3 [00:03<00:00,  1.00s/it]\n",
      "100%|████████████████████████████████████████████| 3/3 [00:04<00:00,  1.62s/it]\n"
     ]
    },
    {
     "name": "stdout",
     "output_type": "stream",
     "text": [
      "4: Classifying data with PCA components of deepface-dlib representation\n",
      "\n"
     ]
    },
    {
     "name": "stderr",
     "output_type": "stream",
     "text": [
      " 14%|██████▎                                     | 1/7 [00:00<00:00,  7.10it/s]"
     ]
    },
    {
     "name": "stdout",
     "output_type": "stream",
     "text": [
      "Data shape: (29, 28) and labels shape: (29,)\n"
     ]
    },
    {
     "name": "stderr",
     "output_type": "stream",
     "text": [
      "100%|████████████████████████████████████████████| 7/7 [00:00<00:00,  7.19it/s]\n",
      "100%|████████████████████████████████████████████| 4/4 [00:00<00:00, 11.78it/s]\n",
      "100%|████████████████████████████████████████████| 3/3 [00:03<00:00,  1.07s/it]\n",
      "100%|████████████████████████████████████████████| 3/3 [00:01<00:00,  1.77it/s]\n",
      "100%|████████████████████████████████████████████| 3/3 [00:03<00:00,  1.26s/it]\n"
     ]
    },
    {
     "name": "stdout",
     "output_type": "stream",
     "text": [
      "5: Classifying data with openface representation\n",
      "\n",
      "\n"
     ]
    },
    {
     "name": "stderr",
     "output_type": "stream",
     "text": [
      " 14%|██████▎                                     | 1/7 [00:00<00:00,  7.74it/s]"
     ]
    },
    {
     "name": "stdout",
     "output_type": "stream",
     "text": [
      "Data shape: (22, 128) and labels shape: (22,)\n"
     ]
    },
    {
     "name": "stderr",
     "output_type": "stream",
     "text": [
      "100%|████████████████████████████████████████████| 7/7 [00:00<00:00,  9.56it/s]\n",
      "100%|████████████████████████████████████████████| 4/4 [00:00<00:00, 12.22it/s]\n",
      "100%|████████████████████████████████████████████| 3/3 [00:02<00:00,  1.23it/s]\n",
      "100%|████████████████████████████████████████████| 3/3 [00:01<00:00,  1.84it/s]\n",
      "100%|████████████████████████████████████████████| 3/3 [00:03<00:00,  1.09s/it]\n"
     ]
    },
    {
     "name": "stdout",
     "output_type": "stream",
     "text": [
      "6: Classifying data with cfps representation\n",
      "\n",
      "\n"
     ]
    },
    {
     "name": "stderr",
     "output_type": "stream",
     "text": [
      " 14%|██████▎                                     | 1/7 [00:00<00:00,  7.72it/s]"
     ]
    },
    {
     "name": "stdout",
     "output_type": "stream",
     "text": [
      "Data shape: (22, 340) and labels shape: (22,)\n"
     ]
    },
    {
     "name": "stderr",
     "output_type": "stream",
     "text": [
      "100%|████████████████████████████████████████████| 7/7 [00:00<00:00,  9.04it/s]\n",
      "100%|████████████████████████████████████████████| 4/4 [00:00<00:00,  7.94it/s]\n",
      "100%|████████████████████████████████████████████| 3/3 [00:02<00:00,  1.22it/s]\n",
      "100%|████████████████████████████████████████████| 3/3 [00:02<00:00,  1.16it/s]\n",
      "100%|████████████████████████████████████████████| 3/3 [00:03<00:00,  1.28s/it]\n"
     ]
    },
    {
     "name": "stdout",
     "output_type": "stream",
     "text": [
      "7: Classifying data with openface+cfps representation\n",
      "\n",
      "\n"
     ]
    },
    {
     "name": "stderr",
     "output_type": "stream",
     "text": [
      " 14%|██████▎                                     | 1/7 [00:00<00:00,  7.32it/s]"
     ]
    },
    {
     "name": "stdout",
     "output_type": "stream",
     "text": [
      "Data shape: (22, 468) and labels shape: (22,)\n"
     ]
    },
    {
     "name": "stderr",
     "output_type": "stream",
     "text": [
      "100%|████████████████████████████████████████████| 7/7 [00:00<00:00,  8.52it/s]\n",
      "100%|████████████████████████████████████████████| 4/4 [00:00<00:00,  6.52it/s]\n",
      "100%|████████████████████████████████████████████| 3/3 [00:02<00:00,  1.21it/s]\n",
      "100%|████████████████████████████████████████████| 3/3 [00:03<00:00,  1.06s/it]\n",
      "100%|████████████████████████████████████████████| 3/3 [00:04<00:00,  1.44s/it]\n"
     ]
    },
    {
     "name": "stdout",
     "output_type": "stream",
     "text": [
      "8: Classifying data with facereader representation\n",
      "\n",
      "\n"
     ]
    },
    {
     "name": "stderr",
     "output_type": "stream",
     "text": [
      " 14%|██████▎                                     | 1/7 [00:00<00:00,  6.53it/s]"
     ]
    },
    {
     "name": "stdout",
     "output_type": "stream",
     "text": [
      "Data shape: (24, 93) and labels shape: (24,)\n"
     ]
    },
    {
     "name": "stderr",
     "output_type": "stream",
     "text": [
      "100%|████████████████████████████████████████████| 7/7 [00:00<00:00,  8.52it/s]\n",
      "100%|████████████████████████████████████████████| 4/4 [00:00<00:00, 12.78it/s]\n",
      "100%|████████████████████████████████████████████| 3/3 [00:02<00:00,  1.13it/s]\n",
      "100%|████████████████████████████████████████████| 3/3 [00:01<00:00,  1.73it/s]\n",
      "100%|████████████████████████████████████████████| 3/3 [00:03<00:00,  1.12s/it]\n"
     ]
    },
    {
     "name": "stdout",
     "output_type": "stream",
     "text": [
      "Syndrome that will be classified: EHMT1 \n",
      "\n",
      "\n",
      "0: Classifying data with deepface representation\n",
      "\n",
      "\n"
     ]
    },
    {
     "name": "stderr",
     "output_type": "stream",
     "text": [
      "\r",
      "  0%|                                                    | 0/7 [00:00<?, ?it/s]"
     ]
    },
    {
     "name": "stdout",
     "output_type": "stream",
     "text": [
      "Data shape: (76, 4096) and labels shape: (76,)\n"
     ]
    },
    {
     "name": "stderr",
     "output_type": "stream",
     "text": [
      "100%|████████████████████████████████████████████| 7/7 [00:36<00:00,  5.20s/it]\n",
      "100%|████████████████████████████████████████████| 4/4 [02:31<00:00, 37.98s/it]\n",
      "100%|████████████████████████████████████████████| 3/3 [00:13<00:00,  4.57s/it]\n",
      "100%|████████████████████████████████████████████| 3/3 [04:17<00:00, 85.98s/it]\n",
      "100%|████████████████████████████████████████████| 3/3 [02:23<00:00, 47.96s/it]\n"
     ]
    },
    {
     "name": "stdout",
     "output_type": "stream",
     "text": [
      "1: Classifying data with dlib representation\n",
      "\n",
      "\n"
     ]
    },
    {
     "name": "stderr",
     "output_type": "stream",
     "text": [
      "\r",
      "  0%|                                                    | 0/7 [00:00<?, ?it/s]"
     ]
    },
    {
     "name": "stdout",
     "output_type": "stream",
     "text": [
      "Data shape: (76, 2210) and labels shape: (76,)\n"
     ]
    },
    {
     "name": "stderr",
     "output_type": "stream",
     "text": [
      "100%|████████████████████████████████████████████| 7/7 [00:17<00:00,  2.49s/it]\n",
      "100%|████████████████████████████████████████████| 4/4 [01:05<00:00, 16.28s/it]\n",
      "100%|████████████████████████████████████████████| 3/3 [00:12<00:00,  4.23s/it]\n",
      "100%|████████████████████████████████████████████| 3/3 [03:37<00:00, 72.44s/it]\n",
      "100%|████████████████████████████████████████████| 3/3 [01:49<00:00, 36.39s/it]\n"
     ]
    },
    {
     "name": "stdout",
     "output_type": "stream",
     "text": [
      "2: Classifying data with all deepface+dlib representations\n",
      "\n",
      "\n"
     ]
    },
    {
     "name": "stderr",
     "output_type": "stream",
     "text": [
      "\r",
      "  0%|                                                    | 0/7 [00:00<?, ?it/s]"
     ]
    },
    {
     "name": "stdout",
     "output_type": "stream",
     "text": [
      "Data shape: (76, 6306) and labels shape: (76,)\n"
     ]
    },
    {
     "name": "stderr",
     "output_type": "stream",
     "text": [
      "100%|████████████████████████████████████████████| 7/7 [00:50<00:00,  7.15s/it]\n",
      "100%|████████████████████████████████████████████| 4/4 [03:45<00:00, 56.39s/it]\n",
      "100%|████████████████████████████████████████████| 3/3 [00:16<00:00,  5.40s/it]\n",
      "100%|███████████████████████████████████████████| 3/3 [07:46<00:00, 155.55s/it]\n",
      "100%|████████████████████████████████████████████| 3/3 [04:12<00:00, 84.03s/it]\n"
     ]
    },
    {
     "name": "stdout",
     "output_type": "stream",
     "text": [
      "3: Classifying data with the 300 most important features of deepface-dlib representations\n",
      "\n",
      "\n"
     ]
    },
    {
     "name": "stderr",
     "output_type": "stream",
     "text": [
      "\r",
      "  0%|                                                    | 0/7 [00:00<?, ?it/s]"
     ]
    },
    {
     "name": "stdout",
     "output_type": "stream",
     "text": [
      "Data shape: (76, 300) and labels shape: (76,)\n"
     ]
    },
    {
     "name": "stderr",
     "output_type": "stream",
     "text": [
      "100%|████████████████████████████████████████████| 7/7 [00:04<00:00,  1.53it/s]\n",
      "100%|████████████████████████████████████████████| 4/4 [00:10<00:00,  2.53s/it]\n",
      "100%|████████████████████████████████████████████| 3/3 [00:09<00:00,  3.19s/it]\n",
      "100%|████████████████████████████████████████████| 3/3 [00:24<00:00,  8.01s/it]\n",
      "100%|████████████████████████████████████████████| 3/3 [00:19<00:00,  6.54s/it]\n"
     ]
    },
    {
     "name": "stdout",
     "output_type": "stream",
     "text": [
      "4: Classifying data with PCA components of deepface-dlib representation\n",
      "\n"
     ]
    },
    {
     "name": "stderr",
     "output_type": "stream",
     "text": [
      "\r",
      "  0%|                                                    | 0/7 [00:00<?, ?it/s]"
     ]
    },
    {
     "name": "stdout",
     "output_type": "stream",
     "text": [
      "Data shape: (76, 75) and labels shape: (76,)\n"
     ]
    },
    {
     "name": "stderr",
     "output_type": "stream",
     "text": [
      "100%|████████████████████████████████████████████| 7/7 [00:02<00:00,  2.35it/s]\n",
      "100%|████████████████████████████████████████████| 4/4 [00:03<00:00,  1.24it/s]\n",
      "100%|████████████████████████████████████████████| 3/3 [00:09<00:00,  3.07s/it]\n",
      "100%|████████████████████████████████████████████| 3/3 [00:11<00:00,  3.72s/it]\n",
      "100%|████████████████████████████████████████████| 3/3 [00:13<00:00,  4.35s/it]\n"
     ]
    },
    {
     "name": "stdout",
     "output_type": "stream",
     "text": [
      "5: Classifying data with openface representation\n",
      "\n",
      "\n"
     ]
    },
    {
     "name": "stderr",
     "output_type": "stream",
     "text": [
      " 14%|██████▎                                     | 1/7 [00:00<00:00,  6.05it/s]"
     ]
    },
    {
     "name": "stdout",
     "output_type": "stream",
     "text": [
      "Data shape: (30, 128) and labels shape: (30,)\n"
     ]
    },
    {
     "name": "stderr",
     "output_type": "stream",
     "text": [
      "100%|████████████████████████████████████████████| 7/7 [00:01<00:00,  6.66it/s]\n",
      "100%|████████████████████████████████████████████| 4/4 [00:00<00:00,  7.09it/s]\n",
      "100%|████████████████████████████████████████████| 3/3 [00:03<00:00,  1.12s/it]\n",
      "100%|████████████████████████████████████████████| 3/3 [00:02<00:00,  1.03it/s]\n",
      "100%|████████████████████████████████████████████| 3/3 [00:04<00:00,  1.52s/it]\n"
     ]
    },
    {
     "name": "stdout",
     "output_type": "stream",
     "text": [
      "6: Classifying data with cfps representation\n",
      "\n",
      "\n"
     ]
    },
    {
     "name": "stderr",
     "output_type": "stream",
     "text": [
      " 14%|██████▎                                     | 1/7 [00:00<00:01,  5.97it/s]"
     ]
    },
    {
     "name": "stdout",
     "output_type": "stream",
     "text": [
      "Data shape: (30, 340) and labels shape: (30,)\n"
     ]
    },
    {
     "name": "stderr",
     "output_type": "stream",
     "text": [
      "100%|████████████████████████████████████████████| 7/7 [00:01<00:00,  6.16it/s]\n",
      "100%|████████████████████████████████████████████| 4/4 [00:01<00:00,  3.96it/s]\n",
      "100%|████████████████████████████████████████████| 3/3 [00:03<00:00,  1.15s/it]\n",
      "100%|████████████████████████████████████████████| 3/3 [00:05<00:00,  1.72s/it]\n",
      "100%|████████████████████████████████████████████| 3/3 [00:05<00:00,  1.96s/it]\n"
     ]
    },
    {
     "name": "stdout",
     "output_type": "stream",
     "text": [
      "7: Classifying data with openface+cfps representation\n",
      "\n",
      "\n"
     ]
    },
    {
     "name": "stderr",
     "output_type": "stream",
     "text": [
      " 14%|██████▎                                     | 1/7 [00:00<00:00,  6.08it/s]"
     ]
    },
    {
     "name": "stdout",
     "output_type": "stream",
     "text": [
      "Data shape: (30, 468) and labels shape: (30,)\n"
     ]
    },
    {
     "name": "stderr",
     "output_type": "stream",
     "text": [
      "100%|████████████████████████████████████████████| 7/7 [00:01<00:00,  5.98it/s]\n",
      "100%|████████████████████████████████████████████| 4/4 [00:01<00:00,  3.11it/s]\n",
      "100%|████████████████████████████████████████████| 3/3 [00:03<00:00,  1.16s/it]\n",
      "100%|████████████████████████████████████████████| 3/3 [00:06<00:00,  2.17s/it]\n",
      "100%|████████████████████████████████████████████| 3/3 [00:06<00:00,  2.27s/it]\n"
     ]
    },
    {
     "name": "stdout",
     "output_type": "stream",
     "text": [
      "8: Classifying data with facereader representation\n",
      "\n",
      "\n"
     ]
    },
    {
     "name": "stderr",
     "output_type": "stream",
     "text": [
      "\r",
      "  0%|                                                    | 0/7 [00:00<?, ?it/s]"
     ]
    },
    {
     "name": "stdout",
     "output_type": "stream",
     "text": [
      "Data shape: (49, 93) and labels shape: (49,)\n"
     ]
    },
    {
     "name": "stderr",
     "output_type": "stream",
     "text": [
      "100%|████████████████████████████████████████████| 7/7 [00:01<00:00,  4.10it/s]\n",
      "100%|████████████████████████████████████████████| 4/4 [00:01<00:00,  3.17it/s]\n",
      "100%|████████████████████████████████████████████| 3/3 [00:05<00:00,  1.88s/it]\n",
      "100%|████████████████████████████████████████████| 3/3 [00:05<00:00,  1.95s/it]\n",
      "100%|████████████████████████████████████████████| 3/3 [00:07<00:00,  2.62s/it]\n"
     ]
    },
    {
     "name": "stdout",
     "output_type": "stream",
     "text": [
      "Syndrome that will be classified: FBXO11 \n",
      "\n",
      "\n",
      "0: Classifying data with deepface representation\n",
      "\n",
      "\n"
     ]
    },
    {
     "name": "stderr",
     "output_type": "stream",
     "text": [
      "\r",
      "  0%|                                                    | 0/7 [00:00<?, ?it/s]"
     ]
    },
    {
     "name": "stdout",
     "output_type": "stream",
     "text": [
      "Data shape: (36, 4096) and labels shape: (36,)\n"
     ]
    },
    {
     "name": "stderr",
     "output_type": "stream",
     "text": [
      "100%|████████████████████████████████████████████| 7/7 [00:04<00:00,  1.55it/s]\n",
      "100%|████████████████████████████████████████████| 4/4 [00:17<00:00,  4.40s/it]\n",
      "100%|████████████████████████████████████████████| 3/3 [00:04<00:00,  1.64s/it]\n",
      "100%|████████████████████████████████████████████| 3/3 [00:45<00:00, 15.20s/it]\n",
      "100%|████████████████████████████████████████████| 3/3 [00:29<00:00,  9.96s/it]\n"
     ]
    },
    {
     "name": "stdout",
     "output_type": "stream",
     "text": [
      "1: Classifying data with dlib representation\n",
      "\n",
      "\n"
     ]
    },
    {
     "name": "stderr",
     "output_type": "stream",
     "text": [
      "\r",
      "  0%|                                                    | 0/7 [00:00<?, ?it/s]"
     ]
    },
    {
     "name": "stdout",
     "output_type": "stream",
     "text": [
      "Data shape: (36, 2210) and labels shape: (36,)\n"
     ]
    },
    {
     "name": "stderr",
     "output_type": "stream",
     "text": [
      "100%|████████████████████████████████████████████| 7/7 [00:02<00:00,  2.84it/s]\n",
      "100%|████████████████████████████████████████████| 4/4 [00:08<00:00,  2.04s/it]\n",
      "100%|████████████████████████████████████████████| 3/3 [00:04<00:00,  1.55s/it]\n",
      "100%|████████████████████████████████████████████| 3/3 [00:40<00:00, 13.50s/it]\n",
      "100%|████████████████████████████████████████████| 3/3 [00:24<00:00,  8.20s/it]\n"
     ]
    },
    {
     "name": "stdout",
     "output_type": "stream",
     "text": [
      "2: Classifying data with all deepface+dlib representations\n",
      "\n",
      "\n"
     ]
    },
    {
     "name": "stderr",
     "output_type": "stream",
     "text": [
      "\r",
      "  0%|                                                    | 0/7 [00:00<?, ?it/s]"
     ]
    },
    {
     "name": "stdout",
     "output_type": "stream",
     "text": [
      "Data shape: (36, 6306) and labels shape: (36,)\n"
     ]
    },
    {
     "name": "stderr",
     "output_type": "stream",
     "text": [
      "100%|████████████████████████████████████████████| 7/7 [00:06<00:00,  1.14it/s]\n",
      "100%|████████████████████████████████████████████| 4/4 [00:26<00:00,  6.74s/it]\n",
      "100%|████████████████████████████████████████████| 3/3 [00:05<00:00,  1.80s/it]\n",
      "100%|████████████████████████████████████████████| 3/3 [01:22<00:00, 27.63s/it]\n",
      "100%|████████████████████████████████████████████| 3/3 [00:50<00:00, 16.87s/it]\n"
     ]
    },
    {
     "name": "stdout",
     "output_type": "stream",
     "text": [
      "3: Classifying data with the 300 most important features of deepface-dlib representations\n",
      "\n",
      "\n"
     ]
    },
    {
     "name": "stderr",
     "output_type": "stream",
     "text": [
      " 14%|██████▎                                     | 1/7 [00:00<00:01,  5.21it/s]"
     ]
    },
    {
     "name": "stdout",
     "output_type": "stream",
     "text": [
      "Data shape: (36, 300) and labels shape: (36,)\n"
     ]
    },
    {
     "name": "stderr",
     "output_type": "stream",
     "text": [
      "100%|████████████████████████████████████████████| 7/7 [00:01<00:00,  5.04it/s]\n",
      "100%|████████████████████████████████████████████| 4/4 [00:01<00:00,  2.78it/s]\n",
      "100%|████████████████████████████████████████████| 3/3 [00:04<00:00,  1.38s/it]\n",
      "100%|████████████████████████████████████████████| 3/3 [00:05<00:00,  1.85s/it]\n",
      "100%|████████████████████████████████████████████| 3/3 [00:06<00:00,  2.18s/it]\n"
     ]
    },
    {
     "name": "stdout",
     "output_type": "stream",
     "text": [
      "4: Classifying data with PCA components of deepface-dlib representation\n",
      "\n"
     ]
    },
    {
     "name": "stderr",
     "output_type": "stream",
     "text": [
      "\r",
      "  0%|                                                    | 0/7 [00:00<?, ?it/s]"
     ]
    },
    {
     "name": "stdout",
     "output_type": "stream",
     "text": [
      "Data shape: (36, 35) and labels shape: (36,)\n"
     ]
    },
    {
     "name": "stderr",
     "output_type": "stream",
     "text": [
      "100%|████████████████████████████████████████████| 7/7 [00:01<00:00,  5.64it/s]\n",
      "100%|████████████████████████████████████████████| 4/4 [00:00<00:00,  8.49it/s]\n",
      "100%|████████████████████████████████████████████| 3/3 [00:04<00:00,  1.34s/it]\n",
      "100%|████████████████████████████████████████████| 3/3 [00:02<00:00,  1.23it/s]\n",
      "100%|████████████████████████████████████████████| 3/3 [00:04<00:00,  1.61s/it]\n"
     ]
    },
    {
     "name": "stdout",
     "output_type": "stream",
     "text": [
      "5: Classifying data with openface representation\n",
      "\n",
      "\n"
     ]
    },
    {
     "name": "stderr",
     "output_type": "stream",
     "text": [
      " 14%|██████▎                                     | 1/7 [00:00<00:01,  5.83it/s]"
     ]
    },
    {
     "name": "stdout",
     "output_type": "stream",
     "text": [
      "Data shape: (32, 128) and labels shape: (32,)\n"
     ]
    },
    {
     "name": "stderr",
     "output_type": "stream",
     "text": [
      "100%|████████████████████████████████████████████| 7/7 [00:01<00:00,  6.33it/s]\n",
      "100%|████████████████████████████████████████████| 4/4 [00:00<00:00,  6.17it/s]\n",
      "100%|████████████████████████████████████████████| 3/3 [00:03<00:00,  1.20s/it]\n",
      "100%|████████████████████████████████████████████| 3/3 [00:03<00:00,  1.15s/it]\n",
      "100%|████████████████████████████████████████████| 3/3 [00:04<00:00,  1.64s/it]\n"
     ]
    },
    {
     "name": "stdout",
     "output_type": "stream",
     "text": [
      "6: Classifying data with cfps representation\n",
      "\n",
      "\n"
     ]
    },
    {
     "name": "stderr",
     "output_type": "stream",
     "text": [
      " 14%|██████▎                                     | 1/7 [00:00<00:00,  6.12it/s]"
     ]
    },
    {
     "name": "stdout",
     "output_type": "stream",
     "text": [
      "Data shape: (32, 340) and labels shape: (32,)\n"
     ]
    },
    {
     "name": "stderr",
     "output_type": "stream",
     "text": [
      "100%|████████████████████████████████████████████| 7/7 [00:01<00:00,  5.84it/s]\n",
      "100%|████████████████████████████████████████████| 4/4 [00:01<00:00,  3.35it/s]\n",
      "100%|████████████████████████████████████████████| 3/3 [00:03<00:00,  1.23s/it]\n",
      "100%|████████████████████████████████████████████| 3/3 [00:05<00:00,  1.99s/it]\n",
      "100%|████████████████████████████████████████████| 3/3 [00:06<00:00,  2.15s/it]\n"
     ]
    },
    {
     "name": "stdout",
     "output_type": "stream",
     "text": [
      "7: Classifying data with openface+cfps representation\n",
      "\n",
      "\n"
     ]
    },
    {
     "name": "stderr",
     "output_type": "stream",
     "text": [
      " 14%|██████▎                                     | 1/7 [00:00<00:01,  5.35it/s]"
     ]
    },
    {
     "name": "stdout",
     "output_type": "stream",
     "text": [
      "Data shape: (32, 468) and labels shape: (32,)\n"
     ]
    },
    {
     "name": "stderr",
     "output_type": "stream",
     "text": [
      "100%|████████████████████████████████████████████| 7/7 [00:01<00:00,  5.57it/s]\n",
      "100%|████████████████████████████████████████████| 4/4 [00:01<00:00,  2.63it/s]\n",
      "100%|████████████████████████████████████████████| 3/3 [00:03<00:00,  1.24s/it]\n",
      "100%|████████████████████████████████████████████| 3/3 [00:07<00:00,  2.50s/it]\n",
      "100%|████████████████████████████████████████████| 3/3 [00:07<00:00,  2.46s/it]\n"
     ]
    },
    {
     "name": "stdout",
     "output_type": "stream",
     "text": [
      "8: Classifying data with facereader representation\n",
      "\n",
      "\n"
     ]
    },
    {
     "name": "stderr",
     "output_type": "stream",
     "text": [
      " 14%|██████▎                                     | 1/7 [00:00<00:00,  6.18it/s]"
     ]
    },
    {
     "name": "stdout",
     "output_type": "stream",
     "text": [
      "Data shape: (33, 93) and labels shape: (33,)\n"
     ]
    },
    {
     "name": "stderr",
     "output_type": "stream",
     "text": [
      "100%|████████████████████████████████████████████| 7/7 [00:01<00:00,  6.03it/s]\n",
      "100%|████████████████████████████████████████████| 4/4 [00:00<00:00,  7.04it/s]\n",
      "100%|████████████████████████████████████████████| 3/3 [00:03<00:00,  1.24s/it]\n",
      "100%|████████████████████████████████████████████| 3/3 [00:02<00:00,  1.06it/s]\n",
      "100%|████████████████████████████████████████████| 3/3 [00:04<00:00,  1.63s/it]\n"
     ]
    },
    {
     "name": "stdout",
     "output_type": "stream",
     "text": [
      "Syndrome that will be classified: SON \n",
      "\n",
      "\n",
      "0: Classifying data with deepface representation\n",
      "\n",
      "\n"
     ]
    },
    {
     "name": "stderr",
     "output_type": "stream",
     "text": [
      "\r",
      "  0%|                                                    | 0/7 [00:00<?, ?it/s]"
     ]
    },
    {
     "name": "stdout",
     "output_type": "stream",
     "text": [
      "Data shape: (38, 4096) and labels shape: (38,)\n"
     ]
    },
    {
     "name": "stderr",
     "output_type": "stream",
     "text": [
      "100%|████████████████████████████████████████████| 7/7 [00:04<00:00,  1.44it/s]\n",
      "100%|████████████████████████████████████████████| 4/4 [00:20<00:00,  5.10s/it]\n",
      "100%|████████████████████████████████████████████| 3/3 [00:05<00:00,  1.73s/it]\n",
      "100%|████████████████████████████████████████████| 3/3 [00:45<00:00, 15.14s/it]\n",
      "100%|████████████████████████████████████████████| 3/3 [00:33<00:00, 11.02s/it]\n"
     ]
    },
    {
     "name": "stdout",
     "output_type": "stream",
     "text": [
      "1: Classifying data with dlib representation\n",
      "\n",
      "\n"
     ]
    },
    {
     "name": "stderr",
     "output_type": "stream",
     "text": [
      "\r",
      "  0%|                                                    | 0/7 [00:00<?, ?it/s]"
     ]
    },
    {
     "name": "stdout",
     "output_type": "stream",
     "text": [
      "Data shape: (38, 2210) and labels shape: (38,)\n"
     ]
    },
    {
     "name": "stderr",
     "output_type": "stream",
     "text": [
      "100%|████████████████████████████████████████████| 7/7 [00:02<00:00,  2.65it/s]\n",
      "100%|████████████████████████████████████████████| 4/4 [00:09<00:00,  2.41s/it]\n",
      "100%|████████████████████████████████████████████| 3/3 [00:04<00:00,  1.66s/it]\n",
      "100%|████████████████████████████████████████████| 3/3 [00:45<00:00, 15.30s/it]\n",
      "100%|████████████████████████████████████████████| 3/3 [00:27<00:00,  9.08s/it]\n"
     ]
    },
    {
     "name": "stdout",
     "output_type": "stream",
     "text": [
      "2: Classifying data with all deepface+dlib representations\n",
      "\n",
      "\n"
     ]
    },
    {
     "name": "stderr",
     "output_type": "stream",
     "text": [
      "\r",
      "  0%|                                                    | 0/7 [00:00<?, ?it/s]"
     ]
    },
    {
     "name": "stdout",
     "output_type": "stream",
     "text": [
      "Data shape: (38, 6306) and labels shape: (38,)\n"
     ]
    },
    {
     "name": "stderr",
     "output_type": "stream",
     "text": [
      "100%|████████████████████████████████████████████| 7/7 [00:06<00:00,  1.05it/s]\n",
      "100%|████████████████████████████████████████████| 4/4 [00:31<00:00,  7.86s/it]\n",
      "100%|████████████████████████████████████████████| 3/3 [00:05<00:00,  1.92s/it]\n",
      "100%|████████████████████████████████████████████| 3/3 [01:24<00:00, 28.11s/it]\n",
      "100%|████████████████████████████████████████████| 3/3 [00:56<00:00, 18.83s/it]\n"
     ]
    },
    {
     "name": "stdout",
     "output_type": "stream",
     "text": [
      "3: Classifying data with the 300 most important features of deepface-dlib representations\n",
      "\n",
      "\n"
     ]
    },
    {
     "name": "stderr",
     "output_type": "stream",
     "text": [
      "\r",
      "  0%|                                                    | 0/7 [00:00<?, ?it/s]"
     ]
    },
    {
     "name": "stdout",
     "output_type": "stream",
     "text": [
      "Data shape: (38, 300) and labels shape: (38,)\n"
     ]
    },
    {
     "name": "stderr",
     "output_type": "stream",
     "text": [
      "100%|████████████████████████████████████████████| 7/7 [00:01<00:00,  4.70it/s]\n",
      "100%|████████████████████████████████████████████| 4/4 [00:01<00:00,  2.47it/s]\n",
      "100%|████████████████████████████████████████████| 3/3 [00:04<00:00,  1.46s/it]\n",
      "100%|████████████████████████████████████████████| 3/3 [00:05<00:00,  1.85s/it]\n",
      "100%|████████████████████████████████████████████| 3/3 [00:06<00:00,  2.32s/it]\n"
     ]
    },
    {
     "name": "stdout",
     "output_type": "stream",
     "text": [
      "4: Classifying data with PCA components of deepface-dlib representation\n",
      "\n"
     ]
    },
    {
     "name": "stderr",
     "output_type": "stream",
     "text": [
      "\r",
      "  0%|                                                    | 0/7 [00:00<?, ?it/s]"
     ]
    },
    {
     "name": "stdout",
     "output_type": "stream",
     "text": [
      "Data shape: (38, 37) and labels shape: (38,)\n"
     ]
    },
    {
     "name": "stderr",
     "output_type": "stream",
     "text": [
      "100%|████████████████████████████████████████████| 7/7 [00:01<00:00,  5.44it/s]\n",
      "100%|████████████████████████████████████████████| 4/4 [00:00<00:00,  7.45it/s]\n",
      "100%|████████████████████████████████████████████| 3/3 [00:04<00:00,  1.41s/it]\n",
      "100%|████████████████████████████████████████████| 3/3 [00:02<00:00,  1.13it/s]\n",
      "100%|████████████████████████████████████████████| 3/3 [00:05<00:00,  1.73s/it]\n"
     ]
    },
    {
     "name": "stdout",
     "output_type": "stream",
     "text": [
      "5: Classifying data with openface representation\n",
      "\n",
      "\n"
     ]
    },
    {
     "name": "stderr",
     "output_type": "stream",
     "text": [
      "\r",
      "  0%|                                                    | 0/7 [00:00<?, ?it/s]"
     ]
    },
    {
     "name": "stdout",
     "output_type": "stream",
     "text": [
      "Data shape: (38, 128) and labels shape: (38,)\n"
     ]
    },
    {
     "name": "stderr",
     "output_type": "stream",
     "text": [
      "100%|████████████████████████████████████████████| 7/7 [00:01<00:00,  5.17it/s]\n",
      "100%|████████████████████████████████████████████| 4/4 [00:00<00:00,  4.30it/s]\n",
      "100%|████████████████████████████████████████████| 3/3 [00:04<00:00,  1.45s/it]\n",
      "100%|████████████████████████████████████████████| 3/3 [00:04<00:00,  1.49s/it]\n",
      "100%|████████████████████████████████████████████| 3/3 [00:06<00:00,  2.05s/it]\n"
     ]
    },
    {
     "name": "stdout",
     "output_type": "stream",
     "text": [
      "6: Classifying data with cfps representation\n",
      "\n",
      "\n"
     ]
    },
    {
     "name": "stderr",
     "output_type": "stream",
     "text": [
      "\r",
      "  0%|                                                    | 0/7 [00:00<?, ?it/s]"
     ]
    },
    {
     "name": "stdout",
     "output_type": "stream",
     "text": [
      "Data shape: (38, 340) and labels shape: (38,)\n"
     ]
    },
    {
     "name": "stderr",
     "output_type": "stream",
     "text": [
      "100%|████████████████████████████████████████████| 7/7 [00:01<00:00,  4.75it/s]\n",
      "100%|████████████████████████████████████████████| 4/4 [00:01<00:00,  2.20it/s]\n",
      "100%|████████████████████████████████████████████| 3/3 [00:04<00:00,  1.47s/it]\n",
      "100%|████████████████████████████████████████████| 3/3 [00:08<00:00,  2.86s/it]\n",
      "100%|████████████████████████████████████████████| 3/3 [00:08<00:00,  2.74s/it]\n"
     ]
    },
    {
     "name": "stdout",
     "output_type": "stream",
     "text": [
      "7: Classifying data with openface+cfps representation\n",
      "\n",
      "\n"
     ]
    },
    {
     "name": "stderr",
     "output_type": "stream",
     "text": [
      "\r",
      "  0%|                                                    | 0/7 [00:00<?, ?it/s]"
     ]
    },
    {
     "name": "stdout",
     "output_type": "stream",
     "text": [
      "Data shape: (38, 468) and labels shape: (38,)\n"
     ]
    },
    {
     "name": "stderr",
     "output_type": "stream",
     "text": [
      "100%|████████████████████████████████████████████| 7/7 [00:01<00:00,  4.44it/s]\n",
      "100%|████████████████████████████████████████████| 4/4 [00:02<00:00,  1.66it/s]\n",
      "100%|████████████████████████████████████████████| 3/3 [00:04<00:00,  1.50s/it]\n",
      "100%|████████████████████████████████████████████| 3/3 [00:11<00:00,  3.77s/it]\n",
      "100%|████████████████████████████████████████████| 3/3 [00:09<00:00,  3.21s/it]\n"
     ]
    },
    {
     "name": "stdout",
     "output_type": "stream",
     "text": [
      "8: Classifying data with facereader representation\n",
      "\n",
      "\n"
     ]
    },
    {
     "name": "stderr",
     "output_type": "stream",
     "text": [
      " 14%|██████▎                                     | 1/7 [00:00<00:00,  6.48it/s]"
     ]
    },
    {
     "name": "stdout",
     "output_type": "stream",
     "text": [
      "Data shape: (29, 93) and labels shape: (29,)\n"
     ]
    },
    {
     "name": "stderr",
     "output_type": "stream",
     "text": [
      "100%|████████████████████████████████████████████| 7/7 [00:00<00:00,  7.07it/s]\n",
      "100%|████████████████████████████████████████████| 4/4 [00:00<00:00,  9.20it/s]\n",
      "100%|████████████████████████████████████████████| 3/3 [00:03<00:00,  1.08s/it]\n",
      "100%|████████████████████████████████████████████| 3/3 [00:02<00:00,  1.26it/s]\n",
      "100%|████████████████████████████████████████████| 3/3 [00:04<00:00,  1.39s/it]\n"
     ]
    },
    {
     "name": "stdout",
     "output_type": "stream",
     "text": [
      "Syndrome that will be classified: WAC \n",
      "\n",
      "\n",
      "0: Classifying data with deepface representation\n",
      "\n",
      "\n"
     ]
    },
    {
     "name": "stderr",
     "output_type": "stream",
     "text": [
      "\r",
      "  0%|                                                    | 0/7 [00:00<?, ?it/s]"
     ]
    },
    {
     "name": "stdout",
     "output_type": "stream",
     "text": [
      "Data shape: (28, 4096) and labels shape: (28,)\n"
     ]
    },
    {
     "name": "stderr",
     "output_type": "stream",
     "text": [
      "100%|████████████████████████████████████████████| 7/7 [00:02<00:00,  2.77it/s]\n",
      "100%|████████████████████████████████████████████| 4/4 [00:08<00:00,  2.04s/it]\n",
      "100%|████████████████████████████████████████████| 3/3 [00:03<00:00,  1.14s/it]\n",
      "100%|████████████████████████████████████████████| 3/3 [00:18<00:00,  6.22s/it]\n",
      "100%|████████████████████████████████████████████| 3/3 [00:04<00:00,  1.34s/it]\n"
     ]
    },
    {
     "name": "stdout",
     "output_type": "stream",
     "text": [
      "1: Classifying data with dlib representation\n",
      "\n",
      "\n"
     ]
    },
    {
     "name": "stderr",
     "output_type": "stream",
     "text": [
      "\r",
      "  0%|                                                    | 0/7 [00:00<?, ?it/s]"
     ]
    },
    {
     "name": "stdout",
     "output_type": "stream",
     "text": [
      "Data shape: (28, 2210) and labels shape: (28,)\n"
     ]
    },
    {
     "name": "stderr",
     "output_type": "stream",
     "text": [
      "100%|████████████████████████████████████████████| 7/7 [00:01<00:00,  4.48it/s]\n",
      "100%|████████████████████████████████████████████| 4/4 [00:03<00:00,  1.08it/s]\n",
      "100%|████████████████████████████████████████████| 3/3 [00:03<00:00,  1.13s/it]\n",
      "100%|████████████████████████████████████████████| 3/3 [00:18<00:00,  6.22s/it]\n",
      "100%|████████████████████████████████████████████| 3/3 [00:15<00:00,  5.04s/it]\n"
     ]
    },
    {
     "name": "stdout",
     "output_type": "stream",
     "text": [
      "2: Classifying data with all deepface+dlib representations\n",
      "\n",
      "\n"
     ]
    },
    {
     "name": "stderr",
     "output_type": "stream",
     "text": [
      "\r",
      "  0%|                                                    | 0/7 [00:00<?, ?it/s]"
     ]
    },
    {
     "name": "stdout",
     "output_type": "stream",
     "text": [
      "Data shape: (28, 6306) and labels shape: (28,)\n"
     ]
    },
    {
     "name": "stderr",
     "output_type": "stream",
     "text": [
      "100%|████████████████████████████████████████████| 7/7 [00:03<00:00,  2.08it/s]\n",
      "100%|████████████████████████████████████████████| 4/4 [00:12<00:00,  3.21s/it]\n",
      "100%|████████████████████████████████████████████| 3/3 [00:03<00:00,  1.27s/it]\n",
      "100%|████████████████████████████████████████████| 3/3 [00:39<00:00, 13.16s/it]\n",
      "100%|████████████████████████████████████████████| 3/3 [00:28<00:00,  9.43s/it]\n"
     ]
    },
    {
     "name": "stdout",
     "output_type": "stream",
     "text": [
      "3: Classifying data with the 300 most important features of deepface-dlib representations\n",
      "\n",
      "\n"
     ]
    },
    {
     "name": "stderr",
     "output_type": "stream",
     "text": [
      " 14%|██████▎                                     | 1/7 [00:00<00:01,  5.48it/s]"
     ]
    },
    {
     "name": "stdout",
     "output_type": "stream",
     "text": [
      "Data shape: (28, 300) and labels shape: (28,)\n"
     ]
    },
    {
     "name": "stderr",
     "output_type": "stream",
     "text": [
      "100%|████████████████████████████████████████████| 7/7 [00:01<00:00,  6.75it/s]\n",
      "100%|████████████████████████████████████████████| 4/4 [00:00<00:00,  5.24it/s]\n",
      "100%|████████████████████████████████████████████| 3/3 [00:03<00:00,  1.05s/it]\n",
      "100%|████████████████████████████████████████████| 3/3 [00:02<00:00,  1.02it/s]\n",
      "100%|████████████████████████████████████████████| 3/3 [00:04<00:00,  1.54s/it]\n"
     ]
    },
    {
     "name": "stdout",
     "output_type": "stream",
     "text": [
      "4: Classifying data with PCA components of deepface-dlib representation\n",
      "\n"
     ]
    },
    {
     "name": "stderr",
     "output_type": "stream",
     "text": [
      " 14%|██████▎                                     | 1/7 [00:00<00:00,  6.98it/s]"
     ]
    },
    {
     "name": "stdout",
     "output_type": "stream",
     "text": [
      "Data shape: (28, 27) and labels shape: (28,)\n"
     ]
    },
    {
     "name": "stderr",
     "output_type": "stream",
     "text": [
      "100%|████████████████████████████████████████████| 7/7 [00:00<00:00,  7.55it/s]\n",
      "100%|████████████████████████████████████████████| 4/4 [00:00<00:00, 12.58it/s]\n",
      "100%|████████████████████████████████████████████| 3/3 [00:03<00:00,  1.03s/it]\n",
      "100%|████████████████████████████████████████████| 3/3 [00:01<00:00,  1.96it/s]\n",
      "100%|████████████████████████████████████████████| 3/3 [00:03<00:00,  1.20s/it]\n"
     ]
    },
    {
     "name": "stdout",
     "output_type": "stream",
     "text": [
      "5: Classifying data with openface representation\n",
      "\n",
      "\n"
     ]
    },
    {
     "name": "stderr",
     "output_type": "stream",
     "text": [
      "100%|████████████████████████████████████████████| 7/7 [00:00<00:00, 33.37it/s]"
     ]
    },
    {
     "name": "stdout",
     "output_type": "stream",
     "text": [
      "Data shape: (10, 128) and labels shape: (10,)\n"
     ]
    },
    {
     "name": "stderr",
     "output_type": "stream",
     "text": [
      "\n",
      "100%|████████████████████████████████████████████| 4/4 [00:00<00:00, 39.68it/s]\n",
      "100%|████████████████████████████████████████████| 3/3 [00:01<00:00,  2.69it/s]\n",
      "100%|████████████████████████████████████████████| 3/3 [00:00<00:00,  6.56it/s]\n",
      "100%|████████████████████████████████████████████| 3/3 [00:00<00:00, 16.74it/s]\n"
     ]
    },
    {
     "name": "stdout",
     "output_type": "stream",
     "text": [
      "6: Classifying data with cfps representation\n",
      "\n",
      "\n"
     ]
    },
    {
     "name": "stderr",
     "output_type": "stream",
     "text": [
      " 29%|████████████▌                               | 2/7 [00:00<00:00, 17.39it/s]"
     ]
    },
    {
     "name": "stdout",
     "output_type": "stream",
     "text": [
      "Data shape: (10, 340) and labels shape: (10,)\n"
     ]
    },
    {
     "name": "stderr",
     "output_type": "stream",
     "text": [
      "100%|████████████████████████████████████████████| 7/7 [00:00<00:00, 35.11it/s]\n",
      "100%|████████████████████████████████████████████| 4/4 [00:00<00:00, 34.07it/s]\n",
      "100%|████████████████████████████████████████████| 3/3 [00:01<00:00,  2.68it/s]\n",
      "100%|████████████████████████████████████████████| 3/3 [00:00<00:00,  5.02it/s]\n",
      "100%|████████████████████████████████████████████| 3/3 [00:00<00:00, 16.20it/s]\n",
      "  0%|                                                    | 0/7 [00:00<?, ?it/s]"
     ]
    },
    {
     "name": "stdout",
     "output_type": "stream",
     "text": [
      "7: Classifying data with openface+cfps representation\n",
      "\n",
      "\n",
      "Data shape: (10, 468) and labels shape: (10,)\n"
     ]
    },
    {
     "name": "stderr",
     "output_type": "stream",
     "text": [
      "100%|████████████████████████████████████████████| 7/7 [00:00<00:00, 33.21it/s]\n",
      "100%|████████████████████████████████████████████| 4/4 [00:00<00:00, 34.84it/s]\n",
      "100%|████████████████████████████████████████████| 3/3 [00:01<00:00,  2.61it/s]\n",
      "100%|████████████████████████████████████████████| 3/3 [00:00<00:00,  4.73it/s]\n",
      "100%|████████████████████████████████████████████| 3/3 [00:00<00:00, 16.03it/s]\n"
     ]
    },
    {
     "name": "stdout",
     "output_type": "stream",
     "text": [
      "8: Classifying data with facereader representation\n",
      "\n",
      "\n"
     ]
    },
    {
     "name": "stderr",
     "output_type": "stream",
     "text": [
      " 14%|██████▎                                     | 1/7 [00:00<00:00,  7.69it/s]"
     ]
    },
    {
     "name": "stdout",
     "output_type": "stream",
     "text": [
      "Data shape: (23, 93) and labels shape: (23,)\n"
     ]
    },
    {
     "name": "stderr",
     "output_type": "stream",
     "text": [
      "100%|████████████████████████████████████████████| 7/7 [00:00<00:00,  8.97it/s]\n",
      "100%|████████████████████████████████████████████| 4/4 [00:00<00:00, 13.50it/s]\n",
      "100%|████████████████████████████████████████████| 3/3 [00:02<00:00,  1.18it/s]\n",
      "100%|████████████████████████████████████████████| 3/3 [00:01<00:00,  1.95it/s]\n",
      "100%|████████████████████████████████████████████| 3/3 [00:03<00:00,  1.07s/it]\n"
     ]
    },
    {
     "name": "stdout",
     "output_type": "stream",
     "text": [
      "Syndrome that will be classified: YY1 \n",
      "\n",
      "\n",
      "0: Classifying data with deepface representation\n",
      "\n",
      "\n"
     ]
    },
    {
     "name": "stderr",
     "output_type": "stream",
     "text": [
      "\r",
      "  0%|                                                    | 0/7 [00:00<?, ?it/s]"
     ]
    },
    {
     "name": "stdout",
     "output_type": "stream",
     "text": [
      "Data shape: (24, 4096) and labels shape: (24,)\n"
     ]
    },
    {
     "name": "stderr",
     "output_type": "stream",
     "text": [
      "100%|████████████████████████████████████████████| 7/7 [00:01<00:00,  4.10it/s]\n",
      "100%|████████████████████████████████████████████| 4/4 [00:04<00:00,  1.18s/it]\n",
      "100%|████████████████████████████████████████████| 3/3 [00:02<00:00,  1.03it/s]\n",
      "100%|████████████████████████████████████████████| 3/3 [00:15<00:00,  5.00s/it]\n",
      "100%|████████████████████████████████████████████| 3/3 [00:11<00:00,  3.84s/it]\n"
     ]
    },
    {
     "name": "stdout",
     "output_type": "stream",
     "text": [
      "1: Classifying data with dlib representation\n",
      "\n",
      "\n"
     ]
    },
    {
     "name": "stderr",
     "output_type": "stream",
     "text": [
      "\r",
      "  0%|                                                    | 0/7 [00:00<?, ?it/s]"
     ]
    },
    {
     "name": "stdout",
     "output_type": "stream",
     "text": [
      "Data shape: (24, 2210) and labels shape: (24,)\n"
     ]
    },
    {
     "name": "stderr",
     "output_type": "stream",
     "text": [
      "100%|████████████████████████████████████████████| 7/7 [00:01<00:00,  5.57it/s]\n",
      "100%|████████████████████████████████████████████| 4/4 [00:02<00:00,  1.56it/s]\n",
      "100%|████████████████████████████████████████████| 3/3 [00:02<00:00,  1.05it/s]\n",
      "100%|████████████████████████████████████████████| 3/3 [00:14<00:00,  4.97s/it]\n",
      "100%|████████████████████████████████████████████| 3/3 [00:11<00:00,  3.80s/it]\n"
     ]
    },
    {
     "name": "stdout",
     "output_type": "stream",
     "text": [
      "2: Classifying data with all deepface+dlib representations\n",
      "\n",
      "\n"
     ]
    },
    {
     "name": "stderr",
     "output_type": "stream",
     "text": [
      "\r",
      "  0%|                                                    | 0/7 [00:00<?, ?it/s]"
     ]
    },
    {
     "name": "stdout",
     "output_type": "stream",
     "text": [
      "Data shape: (24, 6306) and labels shape: (24,)\n"
     ]
    },
    {
     "name": "stderr",
     "output_type": "stream",
     "text": [
      "100%|████████████████████████████████████████████| 7/7 [00:02<00:00,  2.85it/s]\n",
      "100%|████████████████████████████████████████████| 4/4 [00:08<00:00,  2.02s/it]\n",
      "100%|████████████████████████████████████████████| 3/3 [00:03<00:00,  1.05s/it]\n",
      "100%|████████████████████████████████████████████| 3/3 [00:27<00:00,  9.30s/it]\n",
      "100%|████████████████████████████████████████████| 3/3 [00:19<00:00,  6.33s/it]\n"
     ]
    },
    {
     "name": "stdout",
     "output_type": "stream",
     "text": [
      "3: Classifying data with the 300 most important features of deepface-dlib representations\n",
      "\n",
      "\n"
     ]
    },
    {
     "name": "stderr",
     "output_type": "stream",
     "text": [
      " 14%|██████▎                                     | 1/7 [00:00<00:00,  7.51it/s]"
     ]
    },
    {
     "name": "stdout",
     "output_type": "stream",
     "text": [
      "Data shape: (24, 300) and labels shape: (24,)\n"
     ]
    },
    {
     "name": "stderr",
     "output_type": "stream",
     "text": [
      "100%|████████████████████████████████████████████| 7/7 [00:00<00:00,  8.38it/s]\n",
      "100%|████████████████████████████████████████████| 4/4 [00:00<00:00,  7.10it/s]\n",
      "100%|████████████████████████████████████████████| 3/3 [00:02<00:00,  1.13it/s]\n",
      "100%|████████████████████████████████████████████| 3/3 [00:02<00:00,  1.30it/s]\n",
      "100%|████████████████████████████████████████████| 3/3 [00:03<00:00,  1.27s/it]\n"
     ]
    },
    {
     "name": "stdout",
     "output_type": "stream",
     "text": [
      "4: Classifying data with PCA components of deepface-dlib representation\n",
      "\n"
     ]
    },
    {
     "name": "stderr",
     "output_type": "stream",
     "text": [
      " 14%|██████▎                                     | 1/7 [00:00<00:00,  7.74it/s]"
     ]
    },
    {
     "name": "stdout",
     "output_type": "stream",
     "text": [
      "Data shape: (24, 23) and labels shape: (24,)\n"
     ]
    },
    {
     "name": "stderr",
     "output_type": "stream",
     "text": [
      "100%|████████████████████████████████████████████| 7/7 [00:00<00:00,  8.87it/s]\n",
      "100%|████████████████████████████████████████████| 4/4 [00:00<00:00, 15.65it/s]\n",
      "100%|████████████████████████████████████████████| 3/3 [00:02<00:00,  1.13it/s]\n",
      "100%|████████████████████████████████████████████| 3/3 [00:01<00:00,  2.34it/s]\n",
      "100%|████████████████████████████████████████████| 3/3 [00:03<00:00,  1.02s/it]\n"
     ]
    },
    {
     "name": "stdout",
     "output_type": "stream",
     "text": [
      "5: Classifying data with openface representation\n",
      "\n",
      "\n"
     ]
    },
    {
     "name": "stderr",
     "output_type": "stream",
     "text": [
      "100%|████████████████████████████████████████████| 7/7 [00:00<00:00,  8.76it/s]\n",
      "100%|████████████████████████████████████████████| 4/4 [00:00<00:00, 10.89it/s]\n",
      "100%|████████████████████████████████████████████| 3/3 [00:02<00:00,  1.12it/s]\n",
      "100%|████████████████████████████████████████████| 3/3 [00:02<00:00,  1.49it/s]\n",
      "100%|████████████████████████████████████████████| 3/3 [00:03<00:00,  1.18s/it]\n"
     ]
    },
    {
     "name": "stdout",
     "output_type": "stream",
     "text": [
      "Data shape: (24, 128) and labels shape: (24,)\n",
      "6: Classifying data with cfps representation\n",
      "\n",
      "\n"
     ]
    },
    {
     "name": "stderr",
     "output_type": "stream",
     "text": [
      " 14%|██████▎                                     | 1/7 [00:00<00:00,  7.78it/s]"
     ]
    },
    {
     "name": "stdout",
     "output_type": "stream",
     "text": [
      "Data shape: (24, 340) and labels shape: (24,)\n"
     ]
    },
    {
     "name": "stderr",
     "output_type": "stream",
     "text": [
      "100%|████████████████████████████████████████████| 7/7 [00:00<00:00,  8.43it/s]\n",
      "100%|████████████████████████████████████████████| 4/4 [00:00<00:00,  6.53it/s]\n",
      "100%|████████████████████████████████████████████| 3/3 [00:02<00:00,  1.11it/s]\n",
      "100%|████████████████████████████████████████████| 3/3 [00:02<00:00,  1.05it/s]\n",
      "100%|████████████████████████████████████████████| 3/3 [00:04<00:00,  1.38s/it]\n"
     ]
    },
    {
     "name": "stdout",
     "output_type": "stream",
     "text": [
      "7: Classifying data with openface+cfps representation\n",
      "\n",
      "\n",
      "Data shape: (24, 468) and labels shape: (24,)\n"
     ]
    },
    {
     "name": "stderr",
     "output_type": "stream",
     "text": [
      "100%|████████████████████████████████████████████| 7/7 [00:00<00:00,  8.10it/s]\n",
      "100%|████████████████████████████████████████████| 4/4 [00:00<00:00,  5.31it/s]\n",
      "100%|████████████████████████████████████████████| 3/3 [00:02<00:00,  1.10it/s]\n",
      "100%|████████████████████████████████████████████| 3/3 [00:03<00:00,  1.18s/it]\n",
      "100%|████████████████████████████████████████████| 3/3 [00:04<00:00,  1.56s/it]\n"
     ]
    },
    {
     "name": "stdout",
     "output_type": "stream",
     "text": [
      "8: Classifying data with facereader representation\n",
      "\n",
      "\n"
     ]
    },
    {
     "name": "stderr",
     "output_type": "stream",
     "text": [
      " 14%|██████▎                                     | 1/7 [00:00<00:00,  7.44it/s]"
     ]
    },
    {
     "name": "stdout",
     "output_type": "stream",
     "text": [
      "Data shape: (20, 93) and labels shape: (20,)\n"
     ]
    },
    {
     "name": "stderr",
     "output_type": "stream",
     "text": [
      "100%|████████████████████████████████████████████| 7/7 [00:00<00:00, 10.56it/s]\n",
      "100%|████████████████████████████████████████████| 4/4 [00:00<00:00, 16.86it/s]\n",
      "100%|████████████████████████████████████████████| 3/3 [00:02<00:00,  1.35it/s]\n",
      "100%|████████████████████████████████████████████| 3/3 [00:01<00:00,  2.39it/s]\n",
      "100%|████████████████████████████████████████████| 3/3 [00:02<00:00,  1.06it/s]"
     ]
    },
    {
     "name": "stdout",
     "output_type": "stream",
     "text": [
      "done running main file\n"
     ]
    },
    {
     "name": "stderr",
     "output_type": "stream",
     "text": [
      "\n"
     ]
    }
   ],
   "source": [
    "def main(GENERAL_DIR, syn_list, trial_nr):    \n",
    "    \n",
    "    #trial_nr = 4\n",
    "    \n",
    "    #syn_list = ['KDVS','ADNP', 'ANKRD11', 'CDK13', 'DEAF1', 'DYRK1A', 'EHMT1', 'FBXO11', 'SON', 'WAC', 'YY1']  # SPOP\n",
    "    \n",
    "    for syn_name in syn_list:\n",
    "        \n",
    "        today = date.today()\n",
    "        start = time.time()\n",
    "\n",
    "        data_dir = GENERAL_DIR + \"\\\\{}\".format(syn_name) \n",
    "        results_file = open(\"results/{}/{}-results-run-{}-{}.txt\".format(syn_name, syn_name, trial_nr, today), \"w\")\n",
    "        results_file.write(\"Syndrome that will be classified: {} \\n\\n\".format(syn_name))\n",
    "        print(\"Syndrome that will be classified: {} \\n\\n\".format(syn_name))\n",
    "\n",
    "        nr_feats = 300\n",
    "\n",
    "        for data_combination in [0,1, 2, 3, 4, 5, 6, 7, 8]: \n",
    "\n",
    "            results_file.write(get_header(data_combination, nr_feats))\n",
    "            print(get_header(data_combination, nr_feats))            \n",
    "\n",
    "            nr_comps, data, labels = concatenate(syn_name, data_dir, data_combination, nr_feats) \n",
    "            \n",
    "            if labels.tolist().count(1) <= 3:\n",
    "                results_file.write(\"NO RESULTS as there are {} patients and {} controls with a representation\\n\\n\".format(labels.tolist().count(1), labels.tolist().count(0)))\n",
    "                continue\n",
    "            \n",
    "            print(\"Data shape: {} and labels shape: {}\".format(data.shape, labels.shape))\n",
    "            \n",
    "            results_file.write(\"Shape of data: {} patients, {} controls, {} features \\n\\n\".format(labels.tolist().count(1), labels.tolist().count(0), data.shape[1]))                          \n",
    "            if data_combination == 4:\n",
    "                results_file.write(\"Nr of pca components used: {}\\n\\n\".format(nr_comps))\n",
    "\n",
    "            # plot representation\n",
    "            # plot_pca_tsne(data, labels, low_age, high_age)\n",
    "\n",
    "            results_file.write(\"CLASSIFIER RESULTS for {} patients and controls \\n\".format(syn_name))\n",
    "\n",
    "            k, knn_norm, knn_aroc, knn_spec, knn_sens = knn_classifier(data, labels)\n",
    "            results_file.write(\"knn classifier (k = {}), normalize : {} \\n    AROC: {:.4f}, spec: {:.4f}, sens: {:.4f}\\n\".format(k, knn_norm, knn_aroc, knn_spec, knn_sens))\n",
    "\n",
    "            kernel, svm_norm, svm_aroc, svm_spec, svm_sens = svm_classifier(data, labels)\n",
    "            results_file.write(\"svm classifier (k = {}), normalize : {} \\n    AROC: {:.4f}, spec: {:.4f}, sens: {:.4f}\\n\".format(kernel, svm_norm, svm_aroc, svm_spec, svm_sens))\n",
    "\n",
    "            n_trees_rf, rf_norm, rf_aroc, rf_spec, rf_sens = rf_classifier(data, labels)\n",
    "            results_file.write(\"Random Forest classifier (trees = {}), normalize : {} \\n    AROC: {:.4f}, spec: {:.4f}, sens: {:.4f}\\n\".format(n_trees_rf, rf_norm, rf_aroc, rf_spec, rf_sens))\n",
    "\n",
    "            n_trees_gr, gr_norm, gr_aroc, gr_spec, gr_sens = gr_classifier(data, labels)\n",
    "            results_file.write(\"Gradient Boost classifier (trees = {}), normalize : {} \\n    AROC: {:.4f}, spec: {:.4f}, sens: {:.4f}\\n\".format(n_trees_gr, gr_norm, gr_aroc, gr_spec, gr_sens))\n",
    "\n",
    "            n_trees_ada, ada_norm, ada_aroc, ada_spec, ada_sens = ada_classifier(data, labels)\n",
    "            results_file.write(\"Ada Boost classifier (trees = {}), normalize : {} \\n    AROC: {:.4f}, spec: {:.4f}, sens: {:.4f}\\n\".format(n_trees_ada, ada_norm, ada_aroc, ada_spec, ada_sens))\n",
    "\n",
    "            results_file.write(\"\\n\")\n",
    "\n",
    "        end = time.time()\n",
    "        results_file.write(\"Running this whole file took {:.2f} hours\".format((end-start)/3600.00))\n",
    "        results_file.close()\n",
    "        \n",
    "    print(\"done running main file\")\n",
    "    \n",
    "#main(trial_nr)\n",
    "    "
   ]
  },
  {
   "cell_type": "markdown",
   "metadata": {},
   "source": [
    "### Method 7: VotingClassifier with GridSearch"
   ]
  },
  {
   "cell_type": "markdown",
   "metadata": {},
   "source": [
    "https://www.kaggle.com/rmferg/soft-voting-classifier\n",
    "from sklearn.model_selection import train_test_split, GridSearchCV\n",
    "\n",
    "X_train, X_test, y_train, y_test = train_test_split(data, labels, test_size=0.1, random_state=1)\n",
    "\n",
    "sc = StandardScaler()\n",
    "sc.fit(X_train)\n",
    "X_train_std = sc.transform(X_train)\n",
    "X_test_std = sc.transform(X_test)"
   ]
  },
  {
   "cell_type": "markdown",
   "metadata": {},
   "source": [
    "import time\n",
    "t0 = time.clock()\n",
    "\n",
    "tree = DecisionTreeClassifier(random_state=1)\n",
    "svm = SVC(probability=True, kernel='rbf')\n",
    "knn = KNeighborsClassifier(p=2, metric='minkowski')\n",
    "nb = GaussianNB()\n",
    "eclf = VotingClassifier(estimators=[('tree', tree), ('svm', svm), ('knn', knn),('nb', nb)], voting='soft')\n",
    "\n",
    "param_range10 = [.001, .01, 1, 10, 100]\n",
    "param_range1 = list(range(3, 8))\n",
    "param_grid = [{'svm__C':param_range10, 'svm__gamma':param_range10, 'tree__max_depth':param_range1, \n",
    "               'knn__n_neighbors':param_range1}]\n",
    "\n",
    "gs = GridSearchCV(estimator=eclf, param_grid=param_grid, scoring='accuracy', cv=5)\n",
    "gs = gs.fit(X_train_std, y_train)\n",
    "\n",
    "print('Best accuracy score: %.3f \\nBest parameters: %s' % (gs.best_score_, gs.best_params_))\n",
    "\n",
    "clf = gs.best_estimator_\n",
    "clf.fit(X_train_std, y_train)\n",
    "t1 = time.clock()\n",
    "print('Running time: %.3f' % (t1-t0))"
   ]
  },
  {
   "cell_type": "markdown",
   "metadata": {},
   "source": [
    "from sklearn.metrics import confusion_matrix\n",
    "\n",
    "y_pred = clf.predict(X_test_std)\n",
    "print('ROC AUC: %.3f \\nAccuracy: %.3f \\nConfusion Matrix:' % (roc_auc_score(y_true=y_test, y_score=y_pred),\n",
    "                                         accuracy_score(y_true=y_test, y_pred=y_pred)))\n",
    "print(confusion_matrix(y_true=y_test, y_pred=y_pred))"
   ]
  },
  {
   "cell_type": "markdown",
   "metadata": {},
   "source": [
    "### Method 7: Ensemble method"
   ]
  },
  {
   "cell_type": "code",
   "execution_count": 15,
   "metadata": {},
   "outputs": [],
   "source": [
    "def ensemble_classifiers(k, kernel, n_trees_rf, n_trees_gr, n_trees_ada, data, labels):\n",
    "    knn = KNeighborsClassifier(n_neighbors=k, weights='distance')\n",
    "    svm = SVC(kernel=kernel, probability=True)\n",
    "    random_forest = RandomForestClassifier(n_estimators=n_trees_rf) \n",
    "    gr_clf = GradientBoostingClassifier(n_estimators=n_trees_gr, learning_rate=1.0, max_depth=1, random_state=0)\n",
    "    ada_clf = AdaBoostClassifier(n_estimators=n_trees_ada, random_state=0)\n",
    "    nb = GaussianNB()\n",
    "\n",
    "    classifiers = [('knn', knn), ('svm', svm),('gr_clf', gr_clf), ('random_forest', random_forest), ('nb', nb), ('ada_clf', ada_clf)]\n",
    "    \n",
    "    cv = int(len(labels)/2)\n",
    "\n",
    "    classifier_combinations = []\n",
    "    for L in range(1, len(classifiers)+1):\n",
    "        for subset in itertools.combinations(classifiers, L):\n",
    "            classifier_combinations.append(subset)\n",
    "    \n",
    "    best_ensemble_acc = 0\n",
    "    best_classifier_com = None\n",
    "    best_norm = -1\n",
    "    best_vote = None\n",
    "\n",
    "    for classifier_com in classifier_combinations:\n",
    "    #for classifier_com in tqdm(classifier_combinations):\n",
    "        \n",
    "        for normalize in [0, 1, 2]:\n",
    "            for vote_sort in ['soft', 'hard']:\n",
    "\n",
    "                weights = np.ones(len(classifier_com)).tolist()\n",
    "                ensemble_clf = VotingClassifier(estimators=classifier_com,\n",
    "                                        voting=vote_sort,\n",
    "                                        weights=weights)\n",
    "                \n",
    "                            \n",
    "                mean_acc = cross_val_classifier(ensemble_clf, data, labels, normalize)\n",
    "                \n",
    "                clf_string = \"\"\n",
    "                for clf in classifier_com:\n",
    "                    clf_string  = clf_string + \" \" + clf[0]\n",
    "                    \n",
    "                print(\"Ensemble: {}\".format(clf_string))\n",
    "                print(\"With accuracy: {}\".format(mean_acc))\n",
    "                \n",
    "                if mean_acc > best_ensemble_acc:\n",
    "                    best_ensemble_acc = mean_acc\n",
    "                    best_norm = normalize\n",
    "                    best_vote = vote_sort\n",
    "                    best_classifier_com = classifier_com\n",
    "    \n",
    "    return best_ensemble_acc, best_classifier_com, best_vote, best_norm"
   ]
  }
 ],
 "metadata": {
  "kernelspec": {
   "display_name": "Python 3",
   "language": "python",
   "name": "python3"
  },
  "language_info": {
   "codemirror_mode": {
    "name": "ipython",
    "version": 3
   },
   "file_extension": ".py",
   "mimetype": "text/x-python",
   "name": "python",
   "nbconvert_exporter": "python",
   "pygments_lexer": "ipython3",
   "version": "3.6.10"
  }
 },
 "nbformat": 4,
 "nbformat_minor": 4
}
