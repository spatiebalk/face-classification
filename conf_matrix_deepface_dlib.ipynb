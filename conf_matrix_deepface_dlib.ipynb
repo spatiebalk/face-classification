{
 "cells": [
  {
   "cell_type": "code",
   "execution_count": 1,
   "metadata": {},
   "outputs": [],
   "source": [
    "import pandas as pd\n",
    "import numpy as np\n",
    "import csv\n",
    "from tqdm import tqdm\n",
    "import itertools\n",
    "from sklearn.model_selection import cross_val_score, LeaveOneOut\n",
    "from sklearn.preprocessing import Normalizer, StandardScaler\n",
    "from sklearn.ensemble import GradientBoostingClassifier\n",
    "from sklearn.metrics import roc_auc_score, accuracy_score, confusion_matrix, roc_curve\n",
    "%matplotlib inline\n",
    "import matplotlib.pyplot as plt\n",
    "from datetime import date\n",
    "from os.path import join, isfile\n",
    "from os import listdir\n",
    "import time\n",
    "import seaborn as sns"
   ]
  },
  {
   "cell_type": "code",
   "execution_count": 2,
   "metadata": {},
   "outputs": [],
   "source": [
    "def read_rep(kdv_csv, ID_csv, low_age, high_age, data_dir):\n",
    "    \n",
    "    # open directories\n",
    "    kdv_dir = data_dir+\"\\\\kdv-patients-age-group-\"+str(low_age) + \"-\" + str(high_age)\n",
    "    ID_dir = data_dir+ \"\\\\kdv-selected-ID-controls-age-group-\"+str(low_age) + \"-\" + str(high_age)\n",
    "\n",
    "    # get list of filenames\n",
    "    files_kdv = [f for f in listdir(kdv_dir) if (isfile(join(kdv_dir, f)) & (\"crop_sized.jpg\" in f))]\n",
    "    files_ID = [f for f in listdir(ID_dir) if (isfile(join(ID_dir, f)) & (\"crop_sized.JPG\" in f))]\n",
    "    \n",
    "    data = []\n",
    "    labels = []\n",
    "\n",
    "    for i, csv_file in enumerate([ID_csv, kdv_csv]):\n",
    "        with open (csv_file, newline='') as file:\n",
    "            reader = csv.reader(file, delimiter=',')\n",
    "            for row in reader:\n",
    "                if row[0] in files_kdv or row[0] in files_ID:\n",
    "                    rep = list(map(float, row[1:]))\n",
    "                    data.append(rep)\n",
    "                    labels.append(i)\n",
    "    \n",
    "    return np.array(data), np.array(labels)"
   ]
  },
  {
   "cell_type": "code",
   "execution_count": 3,
   "metadata": {},
   "outputs": [],
   "source": [
    "def normalize(data, i):\n",
    "\n",
    "    if i == 0:\n",
    "        return data\n",
    "    \n",
    "    if i == 1:\n",
    "        return Normalizer().fit_transform(data)\n",
    "        \n",
    "    if i == 2:\n",
    "        return StandardScaler().fit_transform(data)"
   ]
  },
  {
   "cell_type": "markdown",
   "metadata": {},
   "source": [
    "### Method 4: Gradient Boosting classifier"
   ]
  },
  {
   "cell_type": "code",
   "execution_count": 4,
   "metadata": {},
   "outputs": [],
   "source": [
    "def gr_classifier(data, labels):\n",
    "    best_aroc = 0\n",
    "    estimators = [20] #, 40, 60, 80]\n",
    "    best_estimator_gr = 0\n",
    "    best_norm = -1\n",
    "\n",
    "    for est in tqdm(estimators):\n",
    "        for i in [1, 2]:\n",
    "            \n",
    "            data = normalize(data, i) \n",
    "            all_y, all_probs, all_preds = [], [], [] \n",
    "            loo = LeaveOneOut()\n",
    "            \n",
    "            # leave one out split and make prediction\n",
    "            for train, test in loo.split(data):\n",
    "                all_y.append(labels[test])\n",
    "                model = GradientBoostingClassifier(n_estimators=est)\n",
    "                model = model.fit(data[train], labels[train])\n",
    "                all_probs.append(model.predict_proba(data[test].reshape(1, -1))[:,1])\n",
    "                all_preds.append(model.predict(data[test].reshape(1, -1)))\n",
    "\n",
    "            # based on all predictions make aroc curve and confusion matrix\n",
    "            aroc = roc_auc_score(all_y, all_probs)\n",
    "            tn, fp, fn, tp = confusion_matrix(all_y, all_preds).ravel()\n",
    "            spec = tn / (tn+fp)  \n",
    "            sens = tp / (tp+fn)\n",
    "               \n",
    "            if aroc > best_aroc:\n",
    "                best_aroc, best_spec, best_sens, best_norm = aroc, spec, sens, i \n",
    "                best_estimator_gr = est\n",
    "                \n",
    "            if best_aroc > 0.8:\n",
    "                print(\"tn {}, fp {}, fn {}, tp {}\".format(tn, fp, fn, tp))\n",
    "                print(\"aroc: {}\".format(aroc))\n",
    "                print(\"best_aroc: {} , spec: {}, sens: {}\".format(best_aroc, spec, sens))\n",
    "                print(\"trees: {}, norm: {}\".format(best_estimator_gr, best_norm))\n",
    "                conf_matrix = [[tp, fp],\n",
    "                             [fn, tn]]\n",
    "                df_cm = pd.DataFrame(conf_matrix, index = [\"Kdvs_pred\", \"Control_pred\"], columns = [\"Kdvs\", \"Control\"])\n",
    "                plt.figure(figsize = (6, 6))\n",
    "                sns_heat = sns.heatmap(df_cm, annot=True)\n",
    "                plt.show()                \n",
    "                \n",
    "                                \n",
    "    return best_estimator_gr, best_norm, best_aroc, best_spec, best_sens"
   ]
  },
  {
   "cell_type": "code",
   "execution_count": 5,
   "metadata": {},
   "outputs": [],
   "source": [
    "def concatenate(data_df, labels_df, data_dlib, labels_dlib, data_combination, nr_feats):\n",
    "    # assert data has same shape and labels are exactly the same\n",
    "    assert data_df.shape[0] == data_dlib.shape[0]\n",
    "    assert labels_df.shape == labels_dlib.shape\n",
    "    match = [True for i, j in zip(labels_df, labels_dlib) if i == j]\n",
    "    assert False not in match\n",
    "\n",
    "    if data_combination == 2 or data_combination == 3 or data_combination == 4:\n",
    "        # deepface + dlib (all features) \n",
    "        data, labels  = [], []\n",
    "        for index, (df_i, dlib_i) in enumerate(zip(data_df, data_dlib)):\n",
    "            if len(dlib_i) == 2210: #3110: \n",
    "                #only if a face is found (otherwise there a fewer zeros)\n",
    "                data.append(df_i.tolist()+dlib_i) # concatenation of 4096 deepface + 2210 dlib\n",
    "                labels.append(labels_df[index])\n",
    "    \n",
    "    return 0, np.array(data), np.array(labels)\n",
    "    "
   ]
  },
  {
   "cell_type": "code",
   "execution_count": 6,
   "metadata": {},
   "outputs": [
    {
     "name": "stderr",
     "output_type": "stream",
     "text": [
      "\r",
      "  0%|                                                    | 0/1 [00:00<?, ?it/s]"
     ]
    },
    {
     "name": "stdout",
     "output_type": "stream",
     "text": [
      "tn 50, fp 20, fn 15, tp 51\n",
      "aroc: 0.821861471861472\n",
      "best_aroc: 0.821861471861472 , spec: 0.7142857142857143, sens: 0.7727272727272727\n",
      "trees: 20, norm: 1\n"
     ]
    },
    {
     "data": {
      "image/png": "[encoded data removed]",
      "text/plain": [
       "<Figure size 432x432 with 2 Axes>"
      ]
     },
     "metadata": {
      "needs_background": "light"
     },
     "output_type": "display_data"
    },
    {
     "name": "stdout",
     "output_type": "stream",
     "text": [
      "tn 50, fp 20, fn 17, tp 49\n",
      "aroc: 0.8365800865800865\n",
      "best_aroc: 0.8365800865800865 , spec: 0.7142857142857143, sens: 0.7424242424242424\n",
      "trees: 20, norm: 2\n"
     ]
    },
    {
     "data": {
      "image/png": "[encoded data removed]",
      "text/plain": [
       "<Figure size 432x432 with 2 Axes>"
      ]
     },
     "metadata": {
      "needs_background": "light"
     },
     "output_type": "display_data"
    },
    {
     "name": "stderr",
     "output_type": "stream",
     "text": [
      "100%|███████████████████████████████████████████| 1/1 [07:53<00:00, 473.84s/it]"
     ]
    },
    {
     "name": "stdout",
     "output_type": "stream",
     "text": [
      "done running main file\n"
     ]
    },
    {
     "name": "stderr",
     "output_type": "stream",
     "text": [
      "\n"
     ]
    }
   ],
   "source": [
    "def main():    \n",
    "\n",
    "    data_dir = r\"H:\\Genetica Projecten\\Facial Recognition\\Studenten en Onderzoekers\\Fien\\kdv\" \n",
    "\n",
    "    data_combination =  2\n",
    "    low_age = 1\n",
    "    high_age = 40\n",
    "    \n",
    "    method = \"dlib\"\n",
    "    kdv_csv = data_dir+\"\\\\representations\\kdv-patients-\"+method+\".csv\"  \n",
    "    ID_csv  = data_dir+\"\\\\representations\\ID-controls-\"+method+\".csv\"\n",
    "    data_dlib, labels_dlib = read_rep(kdv_csv, ID_csv, low_age, high_age, data_dir)\n",
    "\n",
    "    method = \"deepface\"\n",
    "    kdv_csv = data_dir+\"\\\\representations\\kdv-patients-\"+method+\".csv\"  \n",
    "    ID_csv  = data_dir+\"\\\\representations\\ID-controls-\"+method+\".csv\"\n",
    "    data_df, labels_df = read_rep(kdv_csv, ID_csv, low_age, high_age, data_dir)\n",
    "\n",
    "    # data, labels depend on data_combination\n",
    "    nr_comps, data, labels = concatenate(data_df, labels_df, data_dlib, labels_dlib, data_combination, 0)\n",
    "    n_trees_gr, gr_norm, gr_aroc, gr_spec, gr_sens = gr_classifier(data, labels)\n",
    "\n",
    "    print(\"done running main file\")\n",
    "    \n",
    "main()\n",
    "    "
   ]
  },
  {
   "cell_type": "code",
   "execution_count": null,
   "metadata": {},
   "outputs": [],
   "source": []
  }
 ],
 "metadata": {
  "kernelspec": {
   "display_name": "Python 3",
   "language": "python",
   "name": "python3"
  },
  "language_info": {
   "codemirror_mode": {
    "name": "ipython",
    "version": 3
   },
   "file_extension": ".py",
   "mimetype": "text/x-python",
   "name": "python",
   "nbconvert_exporter": "python",
   "pygments_lexer": "ipython3",
   "version": "3.6.10"
  }
 },
 "nbformat": 4,
 "nbformat_minor": 4
}
