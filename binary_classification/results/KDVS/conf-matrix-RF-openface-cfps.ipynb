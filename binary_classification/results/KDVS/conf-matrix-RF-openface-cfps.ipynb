{
 "cells": [
  {
   "cell_type": "code",
   "execution_count": 1,
   "metadata": {},
   "outputs": [],
   "source": [
    "import pandas as pd\n",
    "import numpy as np\n",
    "import csv\n",
    "from tqdm import tqdm\n",
    "import itertools\n",
    "from sklearn.model_selection import cross_val_score, LeaveOneOut\n",
    "from sklearn.neighbors import KNeighborsClassifier\n",
    "from sklearn.preprocessing import Normalizer, StandardScaler\n",
    "from sklearn.ensemble import GradientBoostingClassifier, RandomForestClassifier, VotingClassifier, AdaBoostClassifier\n",
    "from sklearn.svm import SVC\n",
    "from sklearn.tree import DecisionTreeClassifier\n",
    "from sklearn.naive_bayes import GaussianNB\n",
    "from sklearn.metrics import roc_auc_score, accuracy_score, confusion_matrix, roc_curve\n",
    "from sklearn.manifold import TSNE\n",
    "from sklearn.decomposition import PCA\n",
    "%matplotlib inline\n",
    "import matplotlib.pyplot as plt\n",
    "from datetime import date\n",
    "from os.path import join, isfile\n",
    "from os import listdir\n",
    "import time\n",
    "from sklearn.model_selection import train_test_split\n",
    "from sklearn.metrics import confusion_matrix\n",
    "from sklearn.metrics import plot_confusion_matrix\n",
    "import seaborn as sns"
   ]
  },
  {
   "cell_type": "code",
   "execution_count": 2,
   "metadata": {},
   "outputs": [],
   "source": [
    "def read_rep(kdv_csv, ID_csv, low_age, high_age, data_dir):\n",
    "    \n",
    "    # open directories\n",
    "    kdv_dir = data_dir+\"\\\\kdv-patients-age-group-\"+str(low_age) + \"-\" + str(high_age)\n",
    "    ID_dir = data_dir+ \"\\\\kdv-selected-ID-controls-age-group-\"+str(low_age) + \"-\" + str(high_age)\n",
    "\n",
    "    # get list of filenames\n",
    "    files_kdv = [f for f in listdir(kdv_dir) if (isfile(join(kdv_dir, f)) & (\"crop_sized.jpg\" in f))]\n",
    "    files_ID = [f for f in listdir(ID_dir) if (isfile(join(ID_dir, f)) & (\"crop_sized.JPG\" in f))]\n",
    "    \n",
    "    data = []\n",
    "    labels = []\n",
    "\n",
    "    for i, csv_file in enumerate([ID_csv, kdv_csv]):\n",
    "        with open (csv_file, newline='') as file:\n",
    "            reader = csv.reader(file, delimiter=',')\n",
    "            for row in reader:\n",
    "                if row[0] in files_kdv or row[0] in files_ID:\n",
    "                    rep = list(map(float, row[1:]))\n",
    "                    data.append(row)\n",
    "                    labels.append(i)\n",
    "    \n",
    "    return np.array(data), np.array(labels)"
   ]
  },
  {
   "cell_type": "code",
   "execution_count": 3,
   "metadata": {},
   "outputs": [],
   "source": [
    "def plot_pca_tsne(data, labels, lowest_age = -1, highest_age = -1):\n",
    "    plt.figure(figsize=(12,6))\n",
    "    plt.plot([1,2])\n",
    "\n",
    "    # visualize data in tnse (men/women)\n",
    "    X_embedded_tsne = TSNE(n_components=2, init='pca').fit_transform(data)\n",
    "\n",
    "    plt.subplot(121)\n",
    "    unique = list(set(labels))\n",
    "    colors = [plt.cm.jet(float(i)/max(unique)) for i in unique]\n",
    "    for i, u in enumerate(unique):\n",
    "        xi = [X_embedded_tsne[j, 0] for j  in range(len(X_embedded_tsne[:,0])) if labels[j] == u]\n",
    "        yi = [X_embedded_tsne[j, 1] for j  in range(len(X_embedded_tsne[:,1])) if labels[j] == u]\n",
    "        plt.scatter(xi, yi, c=[colors[i]], label=str(u))\n",
    "    plt.legend()\n",
    "    plt.title(\"t-sne for age range {}-{}\".format(lowest_age, highest_age))\n",
    "\n",
    "    # visualize data in pca (men/women)\n",
    "    X_embedded_pca = PCA(n_components=2).fit_transform(data)\n",
    "\n",
    "    plt.subplot(122)\n",
    "    unique = list(set(labels))\n",
    "    colors = [plt.cm.jet(float(i)/max(unique)) for i in unique]\n",
    "    for i, u in enumerate(unique):\n",
    "        xi = [X_embedded_pca[j, 0] for j  in range(len(X_embedded_pca[:,0])) if labels[j] == u]\n",
    "        yi = [X_embedded_pca[j, 1] for j  in range(len(X_embedded_pca[:,1])) if labels[j] == u]\n",
    "        plt.scatter(xi, yi, c=[colors[i]], label=str(u))\n",
    "    plt.legend()\n",
    "    plt.title(\"pca for age range{}-{}\".format(lowest_age, highest_age))\n",
    "\n",
    "    plt.show()"
   ]
  },
  {
   "cell_type": "code",
   "execution_count": 4,
   "metadata": {},
   "outputs": [],
   "source": [
    "def plot_roc_curve(y_true, y_pred): \n",
    "    fpr, tpr, thresholds = roc_curve(y_true, y_pred)\n",
    "    plt.figure(1, figsize=(12,6))\n",
    "    roc_auc = roc_auc_score(y_true, y_pred)\n",
    "    plt.plot(fpr, tpr, lw=2, alpha=0.5, label='LOOCV ROC (AUC = %0.2f)' % (roc_auc))\n",
    "    plt.plot([0, 1], [0, 1], linestyle='--', lw=2, color='k', label='Chance level', alpha=.8)\n",
    "    plt.xlim([-0.05, 1.05])\n",
    "    plt.ylim([-0.05, 1.05])\n",
    "    plt.xlabel('False Positive Rate')\n",
    "    plt.ylabel('True Positive Rate')\n",
    "    plt.title('Receiver operating characteristic example')\n",
    "    plt.legend(loc=\"lower right\")\n",
    "    plt.grid()\n",
    "    plt.show()"
   ]
  },
  {
   "cell_type": "code",
   "execution_count": 5,
   "metadata": {},
   "outputs": [],
   "source": [
    "def normalize(data, i):\n",
    "\n",
    "    if i == 0:\n",
    "        return data\n",
    "    \n",
    "    if i == 1:\n",
    "        return Normalizer().fit_transform(data)\n",
    "        \n",
    "    if i == 2:\n",
    "        return StandardScaler().fit_transform(data)\n",
    "        "
   ]
  },
  {
   "cell_type": "markdown",
   "metadata": {},
   "source": [
    "### SVM"
   ]
  },
  {
   "cell_type": "code",
   "execution_count": 6,
   "metadata": {},
   "outputs": [],
   "source": [
    "def svm_classifier_conf_matrix(data, labels, k, norm):\n",
    "\n",
    "            \n",
    "    data = normalize(data, norm) \n",
    "    all_y, all_probs, all_preds = [], [], [] \n",
    "    \n",
    "    loo = LeaveOneOut()\n",
    "\n",
    "    # leave one out split and make prediction\n",
    "    for train, test in loo.split(data):\n",
    "        all_y.append(labels[test])\n",
    "        model = SVC(kernel=k, probability=True)\n",
    "        model = model.fit(data[train], labels[train])\n",
    "        all_probs.append(model.predict_proba(data[test].reshape(1, -1))[:,1])\n",
    "        all_preds.append(model.predict(data[test].reshape(1, -1)))\n",
    "\n",
    "    # based on all predictions make aroc curve and confusion matrix\n",
    "    aroc = roc_auc_score(all_y, all_probs)\n",
    "    tn, fp, fn, tp = confusion_matrix(all_y, all_preds).ravel()\n",
    "    spec = tn / (tn+fp)  \n",
    "    sens = tp / (tp+fn)\n",
    "\n",
    "                \n",
    "    return tn, fp, fn, tp, aroc"
   ]
  },
  {
   "cell_type": "code",
   "execution_count": 7,
   "metadata": {},
   "outputs": [],
   "source": [
    "def concatenate(data_df, labels_df, data_dlib, labels_dlib, data_combination, nr_feats):\n",
    "    # assert data has same shape and labels are exactly the same\n",
    "    assert data_df.shape[0] == data_dlib.shape[0]\n",
    "    assert labels_df.shape == labels_dlib.shape\n",
    "    match = [i == j for i, j in zip(labels_df, labels_dlib)]\n",
    "    assert False not in match\n",
    "                \n",
    "                \n",
    "    if data_combination == 7:\n",
    "        # openface + cfps \n",
    "        openface_data = data_df[:,1:] # openface\n",
    "        cfps_data = data_dlib[:,1:] # cfps\n",
    "        labels_openface = labels_dlib\n",
    "        \n",
    "        openface_names = data_df[:,0]\n",
    "        cfps_names = data_dlib[:,0]\n",
    "\n",
    "        \n",
    "        matches = [i==j for i, j in zip(openface_names, cfps_names)]\n",
    "\n",
    "        data, labels  = [], []\n",
    "        if False not in matches:\n",
    "            for index, (openface_i, cfps_i) in enumerate(zip(openface_data, cfps_data)):\n",
    "                rep_list = openface_i.tolist()+cfps_i.tolist()\n",
    "                rep = [float(i) for i in rep_list]\n",
    "                data.append(rep) # concatenation of 128 openface + 340 cfps\n",
    "                labels.append(labels_openface[index].astype(np.float64))\n",
    "        else:\n",
    "            print(\"Not the same image names for openface and cfps representation.\")\n",
    "\n",
    "   \n",
    "    return 0, np.array(data), np.array(labels)\n",
    "    "
   ]
  },
  {
   "cell_type": "code",
   "execution_count": 12,
   "metadata": {},
   "outputs": [
    {
     "name": "stdout",
     "output_type": "stream",
     "text": [
      "Aroc: 0.8280936454849499\n",
      "Specificity: 0.782608695652174\n",
      "Sensitivity: 0.6923076923076923\n"
     ]
    },
    {
     "data": {
      "image/png": "[encoded data removed]",
      "text/plain": [
       "<Figure size 432x432 with 2 Axes>"
      ]
     },
     "metadata": {
      "needs_background": "light"
     },
     "output_type": "display_data"
    }
   ],
   "source": [
    "def main():    \n",
    "\n",
    "    data_dir = r\"H:\\Genetica Projecten\\Facial Recognition\\Studenten en Onderzoekers\\Fien\\kdv\" \n",
    "    \n",
    "    low_age = 1\n",
    "    high_age = 40\n",
    "\n",
    "    method = \"openface\"\n",
    "    kdv_csv = data_dir+\"\\\\representations\\kdv-patients-\"+method+\".csv\"  \n",
    "    ID_csv  = data_dir+\"\\\\representations\\ID-controls-\"+method+\".csv\"\n",
    "    data_openface, labels_openface = read_rep(kdv_csv, ID_csv, low_age, high_age, data_dir)\n",
    "\n",
    "    method = \"cfps\"\n",
    "    kdv_csv = data_dir+\"\\\\representations\\kdv-patients-\"+method+\".csv\"  \n",
    "    ID_csv  = data_dir+\"\\\\representations\\ID-controls-\"+method+\".csv\"\n",
    "    data_cfps, labels_cfps = read_rep(kdv_csv, ID_csv, low_age, high_age, data_dir)\n",
    "\n",
    "\n",
    "    nr_comps, data, labels = concatenate(data_openface, labels_openface, data_cfps, labels_cfps, 7, 0)\n",
    "   \n",
    "    kernel = 'sigmoid'\n",
    "    normalize = 1\n",
    "    \n",
    "    tn, fp, fn, tp, aroc = svm_classifier_conf_matrix(data, labels, kernel, normalize)\n",
    "    spec = tn / (tn+fp)  \n",
    "    sens = tp / (tp+fn)\n",
    "\n",
    "    print(\"Aroc: {}\".format(aroc))\n",
    "    print(\"Specificity: {}\".format(spec))\n",
    "    print(\"Sensitivity: {}\".format(sens))\n",
    "    \n",
    "    \n",
    "    conf_matrix = [[tp, fp],\n",
    "             [fn, tn]]\n",
    "    df_cm = pd.DataFrame(conf_matrix, index = [\"Kdvs_pred\", \"Control_pred\"],\n",
    "                      columns = [\"Kdvs\", \"Control\"])\n",
    "    plt.figure(figsize = (6, 6))\n",
    "    sns_heat = sns.heatmap(df_cm, annot=True)\n",
    "    plt.show()\n",
    "\n",
    "\n",
    "    \n",
    "main()\n",
    "    "
   ]
  },
  {
   "cell_type": "code",
   "execution_count": null,
   "metadata": {},
   "outputs": [],
   "source": []
  },
  {
   "cell_type": "code",
   "execution_count": null,
   "metadata": {},
   "outputs": [],
   "source": []
  }
 ],
 "metadata": {
  "kernelspec": {
   "display_name": "Python 3",
   "language": "python",
   "name": "python3"
  },
  "language_info": {
   "codemirror_mode": {
    "name": "ipython",
    "version": 3
   },
   "file_extension": ".py",
   "mimetype": "text/x-python",
   "name": "python",
   "nbconvert_exporter": "python",
   "pygments_lexer": "ipython3",
   "version": "3.6.10"
  }
 },
 "nbformat": 4,
 "nbformat_minor": 4
}
