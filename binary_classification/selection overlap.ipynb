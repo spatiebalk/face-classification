{
 "cells": [
  {
   "cell_type": "markdown",
   "metadata": {},
   "source": [
    "## Compare ID control selection between 1 and 2 "
   ]
  },
  {
   "cell_type": "code",
   "execution_count": 1,
   "metadata": {},
   "outputs": [],
   "source": [
    "def get_controls(path):\n",
    "    f = open(path, \"r\")\n",
    "    \n",
    "    text = f.readline()\n",
    "    \n",
    "    while 'Control' not in text:\n",
    "        text = f.readline()\n",
    "        \n",
    "    text = f.readline()\n",
    "\n",
    "    controls = []\n",
    "    while '.jpg' in text:\n",
    "        controls.append(text.replace('\\n', ''))\n",
    "        text = f.readline()\n",
    "    \n",
    "    return controls"
   ]
  },
  {
   "cell_type": "code",
   "execution_count": 2,
   "metadata": {},
   "outputs": [],
   "source": [
    "def intersection(lst1, lst2): \n",
    "    return list(set(lst1) & set(lst2)) "
   ]
  },
  {
   "cell_type": "code",
   "execution_count": 13,
   "metadata": {},
   "outputs": [
    {
     "name": "stdout",
     "output_type": "stream",
     "text": [
      "22q11: total amount of controls 45\n",
      "22q11: Unique controls trial 1: 25\n",
      "22q11: Unique controls trial 2: 25\n",
      "22q11: Unique controls trial 3: 25\n",
      "\n",
      "\n"
     ]
    }
   ],
   "source": [
    "path = 'results'\n",
    "syn_list =  ['22q11'] #['ADNP','ANKRD11', 'CDK13', 'DEAF1', 'DYRK1A', 'EHMT1', 'FBXO11','KDVS', 'SON', 'WAC', 'YY1']\n",
    "\n",
    "for syn in syn_list:\n",
    "    \n",
    "    path1 = 'results/{}/{}-selection-info-run-1.txt'.format(syn, syn)    \n",
    "    path2 = 'results/{}/{}-selection-info-run-2.txt'.format(syn, syn)    \n",
    "    path3 = 'results/{}/{}-selection-info-run-3.txt'.format(syn, syn)    \n",
    "\n",
    "    controls1 = get_controls(path1)\n",
    "    controls2 = get_controls(path2)\n",
    "    controls3 = get_controls(path3)\n",
    "    print(\"{}: total amount of controls {}\".format(syn, len(controls1)))\n",
    "    assert len(controls1) == len(controls2) == len(controls3)\n",
    "\n",
    "    overlap12 = intersection(controls1, controls2) \n",
    "    overlap23 = intersection(controls2, controls3)\n",
    "    overlap13 = intersection(controls1, controls3)\n",
    "    \n",
    "    \n",
    "    unique1 = list((set(controls1) - set(overlap12)) - set(overlap13))\n",
    "    unique2 = list((set(controls2) - set(overlap12)) - set(overlap23))\n",
    "    unique3 = list((set(controls3) - set(overlap23)) - set(overlap13))\n",
    "\n",
    "    \n",
    "    print(\"{}: Unique controls trial 1: {}\".format(syn, len(unique1)))\n",
    "    print(\"{}: Unique controls trial 2: {}\".format(syn, len(unique2)))\n",
    "    print(\"{}: Unique controls trial 3: {}\".format(syn, len(unique3)))\n",
    "    print(\"\\n\")\n",
    "    \n",
    "    "
   ]
  },
  {
   "cell_type": "code",
   "execution_count": null,
   "metadata": {},
   "outputs": [],
   "source": []
  }
 ],
 "metadata": {
  "kernelspec": {
   "display_name": "Python 3",
   "language": "python",
   "name": "python3"
  },
  "language_info": {
   "codemirror_mode": {
    "name": "ipython",
    "version": 3
   },
   "file_extension": ".py",
   "mimetype": "text/x-python",
   "name": "python",
   "nbconvert_exporter": "python",
   "pygments_lexer": "ipython3",
   "version": "3.6.10"
  }
 },
 "nbformat": 4,
 "nbformat_minor": 4
}
