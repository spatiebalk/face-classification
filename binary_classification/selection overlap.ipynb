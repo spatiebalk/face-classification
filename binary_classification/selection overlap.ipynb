{
 "cells": [
  {
   "cell_type": "markdown",
   "metadata": {},
   "source": [
    "## Compare ID control selection between 1 and 2 "
   ]
  },
  {
   "cell_type": "code",
   "execution_count": 10,
   "metadata": {},
   "outputs": [],
   "source": [
    "def get_controls(path):\n",
    "    f = open(path, \"r\")\n",
    "    \n",
    "    text = f.readline()\n",
    "    \n",
    "    while 'Control' not in text:\n",
    "        text = f.readline()\n",
    "        \n",
    "    text = f.readline()\n",
    "\n",
    "    controls = []\n",
    "    while '.jpg' in text:\n",
    "        controls.append(text.replace('\\n', ''))\n",
    "        text = f.readline()\n",
    "    \n",
    "    return controls"
   ]
  },
  {
   "cell_type": "code",
   "execution_count": 12,
   "metadata": {},
   "outputs": [],
   "source": [
    "def intersection(lst1, lst2): \n",
    "    return list(set(lst1) & set(lst2)) "
   ]
  },
  {
   "cell_type": "code",
   "execution_count": 20,
   "metadata": {},
   "outputs": [
    {
     "name": "stdout",
     "output_type": "stream",
     "text": [
      "ADNP: Percentage of overlap 15.15%\n",
      "ANKRD11: Percentage of overlap 24.00%\n",
      "CDK13: Percentage of overlap 20.00%\n",
      "DEAF1: Percentage of overlap 26.32%\n",
      "DYRK1A: Percentage of overlap 12.50%\n",
      "EHMT1: Percentage of overlap 35.90%\n",
      "FBXO11: Percentage of overlap 17.65%\n",
      "KDVS: Percentage of overlap 26.67%\n",
      "SON: Percentage of overlap 11.11%\n",
      "WAC: Percentage of overlap 16.67%\n",
      "YY1: Percentage of overlap 40.00%\n"
     ]
    }
   ],
   "source": [
    "path = 'results'\n",
    "syn_list =  ['ADNP','ANKRD11', 'CDK13', 'DEAF1', 'DYRK1A', 'EHMT1', 'FBXO11','KDVS', 'SON', 'WAC', 'YY1']\n",
    "\n",
    "for syn in syn_list:\n",
    "    \n",
    "    path1 = 'results/{}/{}-selection-info-run-1.txt'.format(syn, syn)    \n",
    "    path2 = 'results/{}/{}-selection-info-run-2.txt'.format(syn, syn)    \n",
    "    path3 = 'results/{}/{}-selection-info-run-3.txt'.format(syn, syn)    \n",
    "\n",
    "    controls1 = get_controls(path1)\n",
    "    controls2 = get_controls(path2)\n",
    "    controls3 = get_controls(path3)\n",
    "    \n",
    "    assert len(controls1) == len(controls2) == len(controls3)\n",
    "\n",
    "    overlap = intersection(intersection(controls1, controls2), controls3)\n",
    "\n",
    "    print(\"{}: Percentage of overlap {:.2f}%\".format(syn, (len(overlap)/len(controls1) * 100 )))\n",
    "    "
   ]
  },
  {
   "cell_type": "code",
   "execution_count": null,
   "metadata": {},
   "outputs": [],
   "source": []
  }
 ],
 "metadata": {
  "kernelspec": {
   "display_name": "Python 3",
   "language": "python",
   "name": "python3"
  },
  "language_info": {
   "codemirror_mode": {
    "name": "ipython",
    "version": 3
   },
   "file_extension": ".py",
   "mimetype": "text/x-python",
   "name": "python",
   "nbconvert_exporter": "python",
   "pygments_lexer": "ipython3",
   "version": "3.6.10"
  }
 },
 "nbformat": 4,
 "nbformat_minor": 4
}
