{
 "cells": [
  {
   "cell_type": "code",
   "execution_count": 1,
   "metadata": {},
   "outputs": [],
   "source": [
    "import time"
   ]
  },
  {
   "cell_type": "code",
   "execution_count": 2,
   "metadata": {},
   "outputs": [
    {
     "name": "stderr",
     "output_type": "stream",
     "text": [
      "Using TensorFlow backend.\n"
     ]
    }
   ],
   "source": [
    "import ID_control_selection\n",
    "import save_representations\n",
    "import classifiers_general"
   ]
  },
  {
   "cell_type": "code",
   "execution_count": null,
   "metadata": {},
   "outputs": [
    {
     "name": "stderr",
     "output_type": "stream",
     "text": [
      "\r",
      "  0%|                                                   | 0/11 [00:00<?, ?it/s]"
     ]
    },
    {
     "name": "stdout",
     "output_type": "stream",
     "text": [
      "Selecting controls for trial 7 \n",
      "for syndroms: ['ADNP', 'ANKRD11', 'CDK13', 'DEAF1', 'DYRK1A', 'EHMT1', 'FBXO11', 'SON', 'WAC', 'YY1', 'KDVS']\n",
      "there are (33, 3) patients\n",
      "Done finding all ID controls.\n",
      "Syndrome ADNP \n",
      "Shape of patient data (33, 3), shape of control data (33, 3)\n"
     ]
    },
    {
     "name": "stderr",
     "output_type": "stream",
     "text": [
      "\r",
      "  9%|███▉                                       | 1/11 [00:09<01:32,  9.24s/it]"
     ]
    },
    {
     "name": "stdout",
     "output_type": "stream",
     "text": [
      "there are (25, 3) patients\n",
      "Done finding all ID controls.\n",
      "Syndrome ANKRD11 \n",
      "Shape of patient data (25, 3), shape of control data (25, 3)\n"
     ]
    },
    {
     "name": "stderr",
     "output_type": "stream",
     "text": [
      "\r",
      " 18%|███████▊                                   | 2/11 [00:15<01:14,  8.31s/it]"
     ]
    },
    {
     "name": "stdout",
     "output_type": "stream",
     "text": [
      "there are (30, 3) patients\n",
      "Done finding all ID controls.\n",
      "Syndrome CDK13 \n",
      "Shape of patient data (30, 3), shape of control data (30, 3)\n"
     ]
    },
    {
     "name": "stderr",
     "output_type": "stream",
     "text": [
      "\r",
      " 27%|███████████▋                               | 3/11 [00:23<01:05,  8.17s/it]"
     ]
    },
    {
     "name": "stdout",
     "output_type": "stream",
     "text": [
      "there are (19, 3) patients\n",
      "Done finding all ID controls.\n",
      "Syndrome DEAF1 \n",
      "Shape of patient data (19, 3), shape of control data (19, 3)\n"
     ]
    },
    {
     "name": "stderr",
     "output_type": "stream",
     "text": [
      "\r",
      " 36%|███████████████▋                           | 4/11 [00:27<00:49,  7.09s/it]"
     ]
    },
    {
     "name": "stdout",
     "output_type": "stream",
     "text": [
      "there are (16, 3) patients\n",
      "Done finding all ID controls.\n",
      "Syndrome DYRK1A \n",
      "Shape of patient data (16, 3), shape of control data (16, 3)\n"
     ]
    },
    {
     "name": "stderr",
     "output_type": "stream",
     "text": [
      "\r",
      " 45%|███████████████████▌                       | 5/11 [00:31<00:36,  6.11s/it]"
     ]
    },
    {
     "name": "stdout",
     "output_type": "stream",
     "text": [
      "there are (39, 3) patients\n",
      "Done finding all ID controls.\n",
      "Syndrome EHMT1 \n",
      "Shape of patient data (39, 3), shape of control data (39, 3)\n"
     ]
    },
    {
     "name": "stderr",
     "output_type": "stream",
     "text": [
      "\r",
      " 55%|███████████████████████▍                   | 6/11 [00:40<00:35,  7.09s/it]"
     ]
    },
    {
     "name": "stdout",
     "output_type": "stream",
     "text": [
      "there are (17, 3) patients\n",
      "Done finding all ID controls.\n",
      "Syndrome FBXO11 \n",
      "Shape of patient data (17, 3), shape of control data (17, 3)\n"
     ]
    },
    {
     "name": "stderr",
     "output_type": "stream",
     "text": [
      "\r",
      " 64%|███████████████████████████▎               | 7/11 [00:51<00:32,  8.02s/it]"
     ]
    },
    {
     "name": "stdout",
     "output_type": "stream",
     "text": [
      "there are (18, 3) patients\n",
      "Done finding all ID controls.\n",
      "Syndrome SON \n",
      "Shape of patient data (18, 3), shape of control data (18, 3)\n"
     ]
    },
    {
     "name": "stderr",
     "output_type": "stream",
     "text": [
      "\r",
      " 73%|███████████████████████████████▎           | 8/11 [00:56<00:21,  7.29s/it]"
     ]
    },
    {
     "name": "stdout",
     "output_type": "stream",
     "text": [
      "there are (12, 3) patients\n",
      "Done finding all ID controls.\n",
      "Syndrome WAC \n",
      "Shape of patient data (12, 3), shape of control data (12, 3)\n"
     ]
    },
    {
     "name": "stderr",
     "output_type": "stream",
     "text": [
      "\r",
      " 82%|███████████████████████████████████▏       | 9/11 [00:59<00:11,  5.94s/it]"
     ]
    },
    {
     "name": "stdout",
     "output_type": "stream",
     "text": [
      "there are (10, 3) patients\n",
      "Done finding all ID controls.\n",
      "Syndrome YY1 \n",
      "Shape of patient data (10, 3), shape of control data (10, 3)\n"
     ]
    },
    {
     "name": "stderr",
     "output_type": "stream",
     "text": [
      "\r",
      " 91%|██████████████████████████████████████▏   | 10/11 [01:02<00:04,  4.98s/it]"
     ]
    },
    {
     "name": "stdout",
     "output_type": "stream",
     "text": [
      "there are (75, 3) patients\n",
      "Done finding all ID controls.\n",
      "Syndrome KDVS \n",
      "Shape of patient data (75, 3), shape of control data (75, 3)\n"
     ]
    },
    {
     "name": "stderr",
     "output_type": "stream",
     "text": [
      "100%|██████████████████████████████████████████| 11/11 [01:51<00:00, 10.12s/it]\n",
      "  0%|                                                   | 0/11 [00:00<?, ?it/s]"
     ]
    },
    {
     "name": "stdout",
     "output_type": "stream",
     "text": [
      "Done running ID_control_selection.py\n",
      "\n",
      "openface\n",
      "Syn_files: 33, ID_files: 33\n",
      "Syn_reps: 33, ID_reps: 33\n",
      "Done with saving all openface representations for ADNP.\n",
      "\n",
      "cfps\n",
      "Syn_files: 33, ID_files: 33\n",
      "Syn_reps: 33, ID_reps: 33\n",
      "Done with saving all cfps representations for ADNP.\n",
      "\n",
      "deepface\n",
      "Syn_list: 33, ID_list: 33\n",
      "Syn_reps: 33, ID_reps: 33\n",
      "Done with saving all deepface representations for ADNP.\n",
      "\n",
      "dlib\n",
      "Syn_list: 33, ID_list: 33\n",
      "No face found\n",
      "H:\\Genetica Projecten\\Facial Recognition\\Studenten en Onderzoekers\\Fien\\ADNP\\ADNP-patients\\ADNP_49.jpg\n",
      "No face found\n",
      "H:\\Genetica Projecten\\Facial Recognition\\Studenten en Onderzoekers\\Fien\\ADNP\\ADNP-patients\\ADNP_50.jpg\n",
      "Syn_reps: 33, ID_reps: 33\n"
     ]
    },
    {
     "name": "stderr",
     "output_type": "stream",
     "text": [
      "\r",
      "  9%|███▉                                       | 1/11 [01:05<10:59, 65.98s/it]"
     ]
    },
    {
     "name": "stdout",
     "output_type": "stream",
     "text": [
      "Done with saving all dlib representations for ADNP.\n",
      "\n",
      "facereader\n",
      "Syn_list: 33, ID_list: 33\n",
      "Syn_reps: 33, ID_reps: 33\n",
      "Done with saving all facereader representations for ADNP.\n",
      "\n",
      "openface\n",
      "Syn_files: 25, ID_files: 25\n",
      "Syn_reps: 21, ID_reps: 25\n",
      "Done with saving all openface representations for ANKRD11.\n",
      "\n",
      "cfps\n",
      "Syn_files: 25, ID_files: 25\n",
      "Syn_reps: 22, ID_reps: 25\n",
      "Done with saving all cfps representations for ANKRD11.\n",
      "\n",
      "deepface\n",
      "Syn_list: 25, ID_list: 25\n",
      "Syn_reps: 25, ID_reps: 25\n",
      "Done with saving all deepface representations for ANKRD11.\n",
      "\n",
      "dlib\n",
      "Syn_list: 25, ID_list: 25\n",
      "Syn_reps: 25, ID_reps: 25\n"
     ]
    },
    {
     "name": "stderr",
     "output_type": "stream",
     "text": [
      "\r",
      " 18%|███████▊                                   | 2/11 [02:07<09:41, 64.62s/it]"
     ]
    },
    {
     "name": "stdout",
     "output_type": "stream",
     "text": [
      "Done with saving all dlib representations for ANKRD11.\n",
      "\n",
      "facereader\n",
      "Syn_list: 25, ID_list: 25\n",
      "Syn_reps: 50, ID_reps: 25\n",
      "Done with saving all facereader representations for ANKRD11.\n",
      "\n",
      "openface\n",
      "Syn_files: 30, ID_files: 30\n",
      "Syn_reps: 30, ID_reps: 30\n",
      "Done with saving all openface representations for CDK13.\n",
      "\n",
      "cfps\n",
      "Syn_files: 30, ID_files: 30\n",
      "Syn_reps: 30, ID_reps: 30\n",
      "Done with saving all cfps representations for CDK13.\n",
      "\n",
      "deepface\n",
      "Syn_list: 30, ID_list: 30\n",
      "Syn_reps: 30, ID_reps: 30\n",
      "Done with saving all deepface representations for CDK13.\n",
      "\n",
      "dlib\n",
      "Syn_list: 30, ID_list: 30\n",
      "No face found\n",
      "H:\\Genetica Projecten\\Facial Recognition\\Studenten en Onderzoekers\\Fien\\CDK13\\CDK13-patients\\CDK13_41.jpg\n",
      "Syn_reps: 30, ID_reps: 30\n"
     ]
    },
    {
     "name": "stderr",
     "output_type": "stream",
     "text": [
      "\r",
      " 27%|███████████▋                               | 3/11 [03:12<08:36, 64.61s/it]"
     ]
    },
    {
     "name": "stdout",
     "output_type": "stream",
     "text": [
      "Done with saving all dlib representations for CDK13.\n",
      "\n",
      "facereader\n",
      "Syn_list: 30, ID_list: 30\n",
      "Syn_reps: 30, ID_reps: 30\n",
      "Done with saving all facereader representations for CDK13.\n",
      "\n",
      "openface\n",
      "Syn_files: 19, ID_files: 19\n",
      "Syn_reps: 19, ID_reps: 19\n",
      "Done with saving all openface representations for DEAF1.\n",
      "\n",
      "cfps\n",
      "Syn_files: 19, ID_files: 19\n",
      "Syn_reps: 19, ID_reps: 19\n",
      "Done with saving all cfps representations for DEAF1.\n",
      "\n",
      "deepface\n",
      "Syn_list: 19, ID_list: 19\n",
      "Syn_reps: 19, ID_reps: 19\n",
      "Done with saving all deepface representations for DEAF1.\n",
      "\n",
      "dlib\n",
      "Syn_list: 19, ID_list: 19\n",
      "Syn_reps: 19, ID_reps: 19\n"
     ]
    },
    {
     "name": "stderr",
     "output_type": "stream",
     "text": [
      "\r",
      " 36%|███████████████▋                           | 4/11 [04:09<07:18, 62.58s/it]"
     ]
    },
    {
     "name": "stdout",
     "output_type": "stream",
     "text": [
      "Done with saving all dlib representations for DEAF1.\n",
      "\n",
      "facereader\n",
      "Syn_list: 19, ID_list: 19\n",
      "Syn_reps: 19, ID_reps: 19\n",
      "Done with saving all facereader representations for DEAF1.\n",
      "\n",
      "openface\n",
      "Syn_files: 16, ID_files: 16\n",
      "Syn_reps: 16, ID_reps: 16\n",
      "Done with saving all openface representations for DYRK1A.\n",
      "\n",
      "cfps\n",
      "Syn_files: 16, ID_files: 16\n",
      "Syn_reps: 16, ID_reps: 16\n",
      "Done with saving all cfps representations for DYRK1A.\n",
      "\n",
      "deepface\n",
      "Syn_list: 16, ID_list: 16\n",
      "Syn_reps: 16, ID_reps: 16\n",
      "Done with saving all deepface representations for DYRK1A.\n",
      "\n",
      "dlib\n",
      "Syn_list: 16, ID_list: 16\n",
      "No face found\n",
      "H:\\Genetica Projecten\\Facial Recognition\\Studenten en Onderzoekers\\Fien\\DYRK1A\\DYRK1A-patients\\DYRK1A_7.jpg\n",
      "Syn_reps: 16, ID_reps: 16\n"
     ]
    },
    {
     "name": "stderr",
     "output_type": "stream",
     "text": [
      "\r",
      " 45%|███████████████████▌                       | 5/11 [05:06<06:05, 60.86s/it]"
     ]
    },
    {
     "name": "stdout",
     "output_type": "stream",
     "text": [
      "Done with saving all dlib representations for DYRK1A.\n",
      "\n",
      "facereader\n",
      "Syn_list: 16, ID_list: 16\n",
      "Syn_reps: 16, ID_reps: 16\n",
      "Done with saving all facereader representations for DYRK1A.\n",
      "\n",
      "openface\n",
      "Syn_files: 39, ID_files: 39\n",
      "Syn_reps: 39, ID_reps: 38\n",
      "Done with saving all openface representations for EHMT1.\n",
      "\n",
      "cfps\n",
      "Syn_files: 39, ID_files: 39\n",
      "Syn_reps: 39, ID_reps: 38\n",
      "Done with saving all cfps representations for EHMT1.\n",
      "\n",
      "deepface\n",
      "Syn_list: 39, ID_list: 39\n",
      "Syn_reps: 39, ID_reps: 39\n",
      "Done with saving all deepface representations for EHMT1.\n",
      "\n",
      "dlib\n",
      "Syn_list: 39, ID_list: 39\n",
      "Syn_reps: 39, ID_reps: 39\n"
     ]
    },
    {
     "name": "stderr",
     "output_type": "stream",
     "text": [
      "\r",
      " 55%|███████████████████████▍                   | 6/11 [06:17<05:19, 63.80s/it]"
     ]
    },
    {
     "name": "stdout",
     "output_type": "stream",
     "text": [
      "Done with saving all dlib representations for EHMT1.\n",
      "\n",
      "facereader\n",
      "Syn_list: 39, ID_list: 39\n",
      "Syn_reps: 39, ID_reps: 39\n",
      "Done with saving all facereader representations for EHMT1.\n",
      "\n",
      "openface\n",
      "Syn_files: 17, ID_files: 17\n",
      "Syn_reps: 17, ID_reps: 17\n",
      "Done with saving all openface representations for FBXO11.\n",
      "\n",
      "cfps\n",
      "Syn_files: 17, ID_files: 17\n",
      "Syn_reps: 17, ID_reps: 17\n",
      "Done with saving all cfps representations for FBXO11.\n",
      "\n",
      "deepface\n",
      "Syn_list: 17, ID_list: 17\n",
      "Syn_reps: 17, ID_reps: 17\n",
      "Done with saving all deepface representations for FBXO11.\n",
      "\n",
      "dlib\n",
      "Syn_list: 17, ID_list: 17\n",
      "Syn_reps: 17, ID_reps: 17\n"
     ]
    },
    {
     "name": "stderr",
     "output_type": "stream",
     "text": [
      "\r",
      " 64%|███████████████████████████▎               | 7/11 [07:23<04:17, 64.42s/it]"
     ]
    },
    {
     "name": "stdout",
     "output_type": "stream",
     "text": [
      "Done with saving all dlib representations for FBXO11.\n",
      "\n",
      "facereader\n",
      "Syn_list: 17, ID_list: 17\n",
      "Syn_reps: 17, ID_reps: 17\n",
      "Done with saving all facereader representations for FBXO11.\n",
      "\n",
      "openface\n",
      "Syn_files: 18, ID_files: 18\n",
      "Syn_reps: 18, ID_reps: 18\n",
      "Done with saving all openface representations for SON.\n",
      "\n",
      "cfps\n",
      "Syn_files: 18, ID_files: 18\n",
      "Syn_reps: 18, ID_reps: 18\n",
      "Done with saving all cfps representations for SON.\n",
      "\n",
      "deepface\n",
      "Syn_list: 18, ID_list: 18\n",
      "Syn_reps: 18, ID_reps: 18\n",
      "Done with saving all deepface representations for SON.\n",
      "\n",
      "dlib\n",
      "Syn_list: 18, ID_list: 18\n",
      "Syn_reps: 18, ID_reps: 18\n"
     ]
    },
    {
     "name": "stderr",
     "output_type": "stream",
     "text": [
      "\r",
      " 73%|███████████████████████████████▎           | 8/11 [08:27<03:13, 64.41s/it]"
     ]
    },
    {
     "name": "stdout",
     "output_type": "stream",
     "text": [
      "Done with saving all dlib representations for SON.\n",
      "\n",
      "facereader\n",
      "Syn_list: 18, ID_list: 18\n",
      "Syn_reps: 18, ID_reps: 18\n",
      "Done with saving all facereader representations for SON.\n",
      "\n",
      "openface\n",
      "Syn_files: 12, ID_files: 12\n",
      "Syn_reps: 12, ID_reps: 12\n",
      "Done with saving all openface representations for WAC.\n",
      "\n",
      "cfps\n",
      "Syn_files: 12, ID_files: 12\n",
      "Syn_reps: 12, ID_reps: 12\n",
      "Done with saving all cfps representations for WAC.\n",
      "\n",
      "deepface\n",
      "Syn_list: 12, ID_list: 12\n",
      "Syn_reps: 12, ID_reps: 12\n",
      "Done with saving all deepface representations for WAC.\n",
      "\n",
      "dlib\n",
      "Syn_list: 12, ID_list: 12\n",
      "Syn_reps: 12, ID_reps: 12\n"
     ]
    },
    {
     "name": "stderr",
     "output_type": "stream",
     "text": [
      "\r",
      " 82%|███████████████████████████████████▏       | 9/11 [09:26<02:05, 62.61s/it]"
     ]
    },
    {
     "name": "stdout",
     "output_type": "stream",
     "text": [
      "Done with saving all dlib representations for WAC.\n",
      "\n",
      "facereader\n",
      "Syn_list: 12, ID_list: 12\n",
      "Syn_reps: 12, ID_reps: 12\n",
      "Done with saving all facereader representations for WAC.\n",
      "\n",
      "openface\n",
      "Syn_files: 10, ID_files: 10\n",
      "Syn_reps: 10, ID_reps: 10\n",
      "Done with saving all openface representations for YY1.\n",
      "\n",
      "cfps\n",
      "Syn_files: 10, ID_files: 10\n",
      "Syn_reps: 10, ID_reps: 10\n",
      "Done with saving all cfps representations for YY1.\n",
      "\n",
      "deepface\n",
      "Syn_list: 10, ID_list: 10\n",
      "Syn_reps: 10, ID_reps: 10\n",
      "Done with saving all deepface representations for YY1.\n",
      "\n",
      "dlib\n",
      "Syn_list: 10, ID_list: 10\n",
      "Syn_reps: 10, ID_reps: 10\n"
     ]
    },
    {
     "name": "stderr",
     "output_type": "stream",
     "text": [
      "\r",
      " 91%|██████████████████████████████████████▏   | 10/11 [10:26<01:02, 62.07s/it]"
     ]
    },
    {
     "name": "stdout",
     "output_type": "stream",
     "text": [
      "Done with saving all dlib representations for YY1.\n",
      "\n",
      "facereader\n",
      "Syn_list: 10, ID_list: 10\n",
      "Syn_reps: 10, ID_reps: 10\n",
      "Done with saving all facereader representations for YY1.\n",
      "\n",
      "openface\n",
      "Syn_files: 75, ID_files: 75\n",
      "Syn_reps: 70, ID_reps: 74\n",
      "Done with saving all openface representations for KDVS.\n",
      "\n",
      "cfps\n",
      "Syn_files: 75, ID_files: 75\n",
      "Syn_reps: 70, ID_reps: 74\n",
      "Done with saving all cfps representations for KDVS.\n",
      "\n",
      "deepface\n",
      "Syn_list: 75, ID_list: 75\n",
      "Syn_reps: 75, ID_reps: 75\n",
      "Done with saving all deepface representations for KDVS.\n",
      "\n",
      "dlib\n",
      "Syn_list: 75, ID_list: 75\n",
      "No face found\n",
      "H:\\Genetica Projecten\\Facial Recognition\\Studenten en Onderzoekers\\Fien\\KDVS\\KDVS-patients\\KDVS_25.jpg\n",
      "No face found\n",
      "H:\\Genetica Projecten\\Facial Recognition\\Studenten en Onderzoekers\\Fien\\KDVS\\KDVS-patients\\KDVS_34.jpg\n",
      "Syn_reps: 75, ID_reps: 75\n",
      "Done with saving all dlib representations for KDVS.\n",
      "\n",
      "facereader\n",
      "Syn_list: 75, ID_list: 75\n",
      "Syn_reps: 75, ID_reps: 75\n"
     ]
    },
    {
     "name": "stderr",
     "output_type": "stream",
     "text": [
      "100%|██████████████████████████████████████████| 11/11 [12:25<00:00, 67.74s/it]"
     ]
    },
    {
     "name": "stdout",
     "output_type": "stream",
     "text": [
      "Done with saving all facereader representations for KDVS.\n",
      "Done running save_representations.py\n",
      "Syndrome that will be classified: ADNP \n",
      "\n",
      "\n",
      "0: Classifying data with deepface representation\n",
      "\n",
      "\n"
     ]
    },
    {
     "name": "stderr",
     "output_type": "stream",
     "text": [
      "\n",
      "  0%|                                                    | 0/1 [00:00<?, ?it/s]"
     ]
    },
    {
     "name": "stdout",
     "output_type": "stream",
     "text": [
      "Data shape: (66, 4096) and labels shape: (66,)\n",
      "Amount of negatives: 33 and positives: 33\n"
     ]
    },
    {
     "name": "stderr",
     "output_type": "stream",
     "text": [
      "100%|████████████████████████████████████████████| 1/1 [00:01<00:00,  1.61s/it]\n",
      "100%|████████████████████████████████████████████| 1/1 [00:07<00:00,  7.31s/it]\n",
      "100%|████████████████████████████████████████████| 1/1 [00:01<00:00,  1.05s/it]\n",
      "100%|████████████████████████████████████████████| 1/1 [00:09<00:00,  9.86s/it]\n",
      "100%|████████████████████████████████████████████| 1/1 [00:06<00:00,  6.27s/it]\n"
     ]
    },
    {
     "name": "stdout",
     "output_type": "stream",
     "text": [
      "1: Classifying data with dlib representation\n",
      "\n",
      "\n"
     ]
    },
    {
     "name": "stderr",
     "output_type": "stream",
     "text": [
      "\r",
      "  0%|                                                    | 0/1 [00:00<?, ?it/s]"
     ]
    },
    {
     "name": "stdout",
     "output_type": "stream",
     "text": [
      "Data shape: (62, 2277) and labels shape: (62,)\n",
      "Amount of negatives: 31 and positives: 31\n"
     ]
    },
    {
     "name": "stderr",
     "output_type": "stream",
     "text": [
      "100%|████████████████████████████████████████████| 1/1 [00:00<00:00,  1.68it/s]\n",
      "100%|████████████████████████████████████████████| 1/1 [00:03<00:00,  3.94s/it]\n",
      "100%|████████████████████████████████████████████| 1/1 [00:01<00:00,  1.00s/it]\n",
      "100%|████████████████████████████████████████████| 1/1 [00:14<00:00, 14.04s/it]\n",
      "100%|████████████████████████████████████████████| 1/1 [00:07<00:00,  7.11s/it]\n"
     ]
    },
    {
     "name": "stdout",
     "output_type": "stream",
     "text": [
      "2: Classifying data with all deepface+dlib representations\n",
      "\n",
      "\n"
     ]
    },
    {
     "name": "stderr",
     "output_type": "stream",
     "text": [
      "\r",
      "  0%|                                                    | 0/1 [00:00<?, ?it/s]"
     ]
    },
    {
     "name": "stdout",
     "output_type": "stream",
     "text": [
      "Data shape: (62, 6373) and labels shape: (62,)\n",
      "Amount of negatives: 31 and positives: 31\n"
     ]
    },
    {
     "name": "stderr",
     "output_type": "stream",
     "text": [
      "100%|████████████████████████████████████████████| 1/1 [00:01<00:00,  1.81s/it]\n",
      "100%|████████████████████████████████████████████| 1/1 [00:09<00:00,  9.76s/it]\n",
      "100%|████████████████████████████████████████████| 1/1 [00:01<00:00,  1.14s/it]\n",
      "100%|████████████████████████████████████████████| 1/1 [00:19<00:00, 19.47s/it]\n",
      "100%|████████████████████████████████████████████| 1/1 [00:12<00:00, 12.04s/it]\n"
     ]
    },
    {
     "name": "stdout",
     "output_type": "stream",
     "text": [
      "7: Classifying data with openface+cfps representation\n",
      "\n",
      "\n"
     ]
    },
    {
     "name": "stderr",
     "output_type": "stream",
     "text": [
      "\r",
      "  0%|                                                    | 0/1 [00:00<?, ?it/s]"
     ]
    },
    {
     "name": "stdout",
     "output_type": "stream",
     "text": [
      "Data shape: (66, 468) and labels shape: (66,)\n",
      "Amount of negatives: 33 and positives: 33\n"
     ]
    },
    {
     "name": "stderr",
     "output_type": "stream",
     "text": [
      "100%|████████████████████████████████████████████| 1/1 [00:00<00:00,  4.27it/s]\n",
      "100%|████████████████████████████████████████████| 1/1 [00:00<00:00,  1.27it/s]\n",
      "100%|████████████████████████████████████████████| 1/1 [00:00<00:00,  1.16it/s]\n",
      "100%|████████████████████████████████████████████| 1/1 [00:03<00:00,  3.30s/it]\n",
      "100%|████████████████████████████████████████████| 1/1 [00:02<00:00,  2.27s/it]\n"
     ]
    },
    {
     "name": "stdout",
     "output_type": "stream",
     "text": [
      "8: Classifying data with facereader representation\n",
      "\n",
      "\n"
     ]
    },
    {
     "name": "stderr",
     "output_type": "stream",
     "text": [
      "100%|████████████████████████████████████████████| 1/1 [00:00<00:00, 34.96it/s]\n",
      "100%|████████████████████████████████████████████| 1/1 [00:00<00:00, 32.26it/s]\n",
      "  0%|                                                    | 0/1 [00:00<?, ?it/s]"
     ]
    },
    {
     "name": "stdout",
     "output_type": "stream",
     "text": [
      "Data shape: (26, 93) and labels shape: (26,)\n",
      "Amount of negatives: 13 and positives: 13\n"
     ]
    },
    {
     "name": "stderr",
     "output_type": "stream",
     "text": [
      "100%|████████████████████████████████████████████| 1/1 [00:00<00:00,  3.24it/s]\n",
      "100%|████████████████████████████████████████████| 1/1 [00:00<00:00,  5.43it/s]\n",
      "100%|████████████████████████████████████████████| 1/1 [00:00<00:00,  2.69it/s]\n"
     ]
    },
    {
     "name": "stdout",
     "output_type": "stream",
     "text": [
      "Syndrome that will be classified: ANKRD11 \n",
      "\n",
      "\n",
      "0: Classifying data with deepface representation\n",
      "\n",
      "\n"
     ]
    },
    {
     "name": "stderr",
     "output_type": "stream",
     "text": [
      "\r",
      "  0%|                                                    | 0/1 [00:00<?, ?it/s]"
     ]
    },
    {
     "name": "stdout",
     "output_type": "stream",
     "text": [
      "Data shape: (50, 4096) and labels shape: (50,)\n",
      "Amount of negatives: 25 and positives: 25\n"
     ]
    },
    {
     "name": "stderr",
     "output_type": "stream",
     "text": [
      "100%|████████████████████████████████████████████| 1/1 [00:00<00:00,  2.35it/s]\n",
      "100%|████████████████████████████████████████████| 1/1 [00:03<00:00,  3.37s/it]\n",
      "100%|████████████████████████████████████████████| 1/1 [00:00<00:00,  1.40it/s]\n",
      "100%|████████████████████████████████████████████| 1/1 [00:05<00:00,  5.07s/it]\n",
      "100%|████████████████████████████████████████████| 1/1 [00:03<00:00,  3.48s/it]\n"
     ]
    },
    {
     "name": "stdout",
     "output_type": "stream",
     "text": [
      "1: Classifying data with dlib representation\n",
      "\n",
      "\n"
     ]
    },
    {
     "name": "stderr",
     "output_type": "stream",
     "text": [
      "\r",
      "  0%|                                                    | 0/1 [00:00<?, ?it/s]"
     ]
    },
    {
     "name": "stdout",
     "output_type": "stream",
     "text": [
      "Data shape: (50, 2277) and labels shape: (50,)\n",
      "Amount of negatives: 25 and positives: 25\n"
     ]
    },
    {
     "name": "stderr",
     "output_type": "stream",
     "text": [
      "100%|████████████████████████████████████████████| 1/1 [00:00<00:00,  4.82it/s]\n",
      "100%|████████████████████████████████████████████| 1/1 [00:02<00:00,  2.04s/it]\n",
      "100%|████████████████████████████████████████████| 1/1 [00:00<00:00,  1.38it/s]\n",
      "100%|████████████████████████████████████████████| 1/1 [00:08<00:00,  8.13s/it]\n",
      "100%|████████████████████████████████████████████| 1/1 [00:04<00:00,  4.68s/it]\n"
     ]
    },
    {
     "name": "stdout",
     "output_type": "stream",
     "text": [
      "2: Classifying data with all deepface+dlib representations\n",
      "\n",
      "\n"
     ]
    },
    {
     "name": "stderr",
     "output_type": "stream",
     "text": [
      "\r",
      "  0%|                                                    | 0/1 [00:00<?, ?it/s]"
     ]
    },
    {
     "name": "stdout",
     "output_type": "stream",
     "text": [
      "Data shape: (50, 6373) and labels shape: (50,)\n",
      "Amount of negatives: 25 and positives: 25\n"
     ]
    },
    {
     "name": "stderr",
     "output_type": "stream",
     "text": [
      "100%|████████████████████████████████████████████| 1/1 [00:00<00:00,  1.73it/s]\n",
      "100%|████████████████████████████████████████████| 1/1 [00:05<00:00,  5.20s/it]\n",
      "100%|████████████████████████████████████████████| 1/1 [00:00<00:00,  1.18it/s]\n",
      "100%|████████████████████████████████████████████| 1/1 [00:12<00:00, 12.33s/it]\n",
      "100%|████████████████████████████████████████████| 1/1 [00:07<00:00,  7.80s/it]\n"
     ]
    },
    {
     "name": "stdout",
     "output_type": "stream",
     "text": [
      "7: Classifying data with openface+cfps representation\n",
      "\n",
      "\n"
     ]
    },
    {
     "name": "stderr",
     "output_type": "stream",
     "text": [
      "100%|████████████████████████████████████████████| 1/1 [00:00<00:00, 11.85it/s]\n",
      "  0%|                                                    | 0/1 [00:00<?, ?it/s]"
     ]
    },
    {
     "name": "stdout",
     "output_type": "stream",
     "text": [
      "Data shape: (42, 468) and labels shape: (42,)\n",
      "Amount of negatives: 21 and positives: 21\n"
     ]
    },
    {
     "name": "stderr",
     "output_type": "stream",
     "text": [
      "100%|████████████████████████████████████████████| 1/1 [00:00<00:00,  4.04it/s]\n",
      "100%|████████████████████████████████████████████| 1/1 [00:00<00:00,  1.97it/s]\n",
      "100%|████████████████████████████████████████████| 1/1 [00:01<00:00,  1.11s/it]\n",
      "100%|████████████████████████████████████████████| 1/1 [00:01<00:00,  1.09s/it]\n"
     ]
    },
    {
     "name": "stdout",
     "output_type": "stream",
     "text": [
      "8: Classifying data with facereader representation\n",
      "\n",
      "\n"
     ]
    },
    {
     "name": "stderr",
     "output_type": "stream",
     "text": [
      "100%|████████████████████████████████████████████| 1/1 [00:00<00:00, 12.56it/s]\n",
      "100%|████████████████████████████████████████████| 1/1 [00:00<00:00, 31.06it/s]\n",
      "  0%|                                                    | 0/1 [00:00<?, ?it/s]"
     ]
    },
    {
     "name": "stdout",
     "output_type": "stream",
     "text": [
      "Data shape: (38, 93) and labels shape: (38,)\n",
      "Amount of negatives: 19 and positives: 19\n"
     ]
    },
    {
     "name": "stderr",
     "output_type": "stream",
     "text": [
      "100%|████████████████████████████████████████████| 1/1 [00:00<00:00,  2.23it/s]\n",
      "100%|████████████████████████████████████████████| 1/1 [00:00<00:00,  2.72it/s]\n",
      "100%|████████████████████████████████████████████| 1/1 [00:00<00:00,  1.76it/s]\n"
     ]
    },
    {
     "name": "stdout",
     "output_type": "stream",
     "text": [
      "Syndrome that will be classified: CDK13 \n",
      "\n",
      "\n",
      "0: Classifying data with deepface representation\n",
      "\n",
      "\n"
     ]
    },
    {
     "name": "stderr",
     "output_type": "stream",
     "text": [
      "\r",
      "  0%|                                                    | 0/1 [00:00<?, ?it/s]"
     ]
    },
    {
     "name": "stdout",
     "output_type": "stream",
     "text": [
      "Data shape: (60, 4096) and labels shape: (60,)\n",
      "Amount of negatives: 30 and positives: 30\n"
     ]
    },
    {
     "name": "stderr",
     "output_type": "stream",
     "text": [
      "100%|████████████████████████████████████████████| 1/1 [00:00<00:00,  1.74it/s]\n",
      "100%|████████████████████████████████████████████| 1/1 [00:05<00:00,  5.81s/it]\n",
      "100%|████████████████████████████████████████████| 1/1 [00:00<00:00,  1.11it/s]\n",
      "100%|████████████████████████████████████████████| 1/1 [00:08<00:00,  8.25s/it]\n",
      "100%|████████████████████████████████████████████| 1/1 [00:04<00:00,  4.90s/it]\n"
     ]
    },
    {
     "name": "stdout",
     "output_type": "stream",
     "text": [
      "1: Classifying data with dlib representation\n",
      "\n",
      "\n"
     ]
    },
    {
     "name": "stderr",
     "output_type": "stream",
     "text": [
      "\r",
      "  0%|                                                    | 0/1 [00:00<?, ?it/s]"
     ]
    },
    {
     "name": "stdout",
     "output_type": "stream",
     "text": [
      "Data shape: (58, 2277) and labels shape: (58,)\n",
      "Amount of negatives: 29 and positives: 29\n"
     ]
    },
    {
     "name": "stderr",
     "output_type": "stream",
     "text": [
      "100%|████████████████████████████████████████████| 1/1 [00:00<00:00,  4.28it/s]\n",
      "100%|████████████████████████████████████████████| 1/1 [00:03<00:00,  3.23s/it]\n",
      "100%|████████████████████████████████████████████| 1/1 [00:00<00:00,  1.05it/s]\n",
      "100%|████████████████████████████████████████████| 1/1 [00:12<00:00, 12.07s/it]\n",
      "100%|████████████████████████████████████████████| 1/1 [00:06<00:00,  6.25s/it]\n"
     ]
    },
    {
     "name": "stdout",
     "output_type": "stream",
     "text": [
      "2: Classifying data with all deepface+dlib representations\n",
      "\n",
      "\n"
     ]
    },
    {
     "name": "stderr",
     "output_type": "stream",
     "text": [
      "\r",
      "  0%|                                                    | 0/1 [00:00<?, ?it/s]"
     ]
    },
    {
     "name": "stdout",
     "output_type": "stream",
     "text": [
      "Data shape: (58, 6373) and labels shape: (58,)\n",
      "Amount of negatives: 29 and positives: 29\n"
     ]
    },
    {
     "name": "stderr",
     "output_type": "stream",
     "text": [
      "100%|████████████████████████████████████████████| 1/1 [00:00<00:00,  1.35it/s]\n",
      "100%|████████████████████████████████████████████| 1/1 [00:08<00:00,  8.38s/it]\n",
      "100%|████████████████████████████████████████████| 1/1 [00:01<00:00,  1.06s/it]\n",
      "100%|████████████████████████████████████████████| 1/1 [00:19<00:00, 19.13s/it]\n",
      "100%|████████████████████████████████████████████| 1/1 [00:10<00:00, 10.64s/it]\n"
     ]
    },
    {
     "name": "stdout",
     "output_type": "stream",
     "text": [
      "7: Classifying data with openface+cfps representation\n",
      "\n",
      "\n"
     ]
    },
    {
     "name": "stderr",
     "output_type": "stream",
     "text": [
      "100%|████████████████████████████████████████████| 1/1 [00:00<00:00,  6.68it/s]\n",
      "  0%|                                                    | 0/1 [00:00<?, ?it/s]"
     ]
    },
    {
     "name": "stdout",
     "output_type": "stream",
     "text": [
      "Data shape: (60, 468) and labels shape: (60,)\n",
      "Amount of negatives: 30 and positives: 30\n"
     ]
    },
    {
     "name": "stderr",
     "output_type": "stream",
     "text": [
      "100%|████████████████████████████████████████████| 1/1 [00:00<00:00,  1.54it/s]\n",
      "100%|████████████████████████████████████████████| 1/1 [00:00<00:00,  1.35it/s]\n",
      "100%|████████████████████████████████████████████| 1/1 [00:02<00:00,  2.70s/it]\n",
      "100%|████████████████████████████████████████████| 1/1 [00:01<00:00,  1.94s/it]\n"
     ]
    },
    {
     "name": "stdout",
     "output_type": "stream",
     "text": [
      "8: Classifying data with facereader representation\n",
      "\n",
      "\n"
     ]
    },
    {
     "name": "stderr",
     "output_type": "stream",
     "text": [
      "100%|████████████████████████████████████████████| 1/1 [00:00<00:00, 18.12it/s]\n",
      "100%|████████████████████████████████████████████| 1/1 [00:00<00:00, 37.03it/s]\n",
      "  0%|                                                    | 0/1 [00:00<?, ?it/s]"
     ]
    },
    {
     "name": "stdout",
     "output_type": "stream",
     "text": [
      "Data shape: (34, 93) and labels shape: (34,)\n",
      "Amount of negatives: 17 and positives: 17\n"
     ]
    },
    {
     "name": "stderr",
     "output_type": "stream",
     "text": [
      "100%|████████████████████████████████████████████| 1/1 [00:00<00:00,  2.47it/s]\n",
      "100%|████████████████████████████████████████████| 1/1 [00:00<00:00,  3.16it/s]\n",
      "100%|████████████████████████████████████████████| 1/1 [00:00<00:00,  2.05it/s]\n"
     ]
    },
    {
     "name": "stdout",
     "output_type": "stream",
     "text": [
      "Syndrome that will be classified: DEAF1 \n",
      "\n",
      "\n",
      "0: Classifying data with deepface representation\n",
      "\n",
      "\n"
     ]
    },
    {
     "name": "stderr",
     "output_type": "stream",
     "text": [
      "\r",
      "  0%|                                                    | 0/1 [00:00<?, ?it/s]"
     ]
    },
    {
     "name": "stdout",
     "output_type": "stream",
     "text": [
      "Data shape: (38, 4096) and labels shape: (38,)\n",
      "Amount of negatives: 19 and positives: 19\n"
     ]
    },
    {
     "name": "stderr",
     "output_type": "stream",
     "text": [
      "100%|████████████████████████████████████████████| 1/1 [00:00<00:00,  3.63it/s]\n",
      "100%|████████████████████████████████████████████| 1/1 [00:01<00:00,  1.54s/it]\n",
      "100%|████████████████████████████████████████████| 1/1 [00:00<00:00,  1.92it/s]\n",
      "100%|████████████████████████████████████████████| 1/1 [00:02<00:00,  3.00s/it]\n",
      "100%|████████████████████████████████████████████| 1/1 [00:02<00:00,  2.13s/it]\n"
     ]
    },
    {
     "name": "stdout",
     "output_type": "stream",
     "text": [
      "1: Classifying data with dlib representation\n",
      "\n",
      "\n",
      "Data shape: (38, 2277) and labels shape: (38,)\n",
      "Amount of negatives: 19 and positives: 19\n"
     ]
    },
    {
     "name": "stderr",
     "output_type": "stream",
     "text": [
      "100%|████████████████████████████████████████████| 1/1 [00:00<00:00,  7.27it/s]\n",
      "100%|████████████████████████████████████████████| 1/1 [00:00<00:00,  1.20it/s]\n",
      "100%|████████████████████████████████████████████| 1/1 [00:00<00:00,  2.04it/s]\n",
      "100%|████████████████████████████████████████████| 1/1 [00:04<00:00,  4.26s/it]\n",
      "100%|████████████████████████████████████████████| 1/1 [00:02<00:00,  2.72s/it]\n"
     ]
    },
    {
     "name": "stdout",
     "output_type": "stream",
     "text": [
      "2: Classifying data with all deepface+dlib representations\n",
      "\n",
      "\n"
     ]
    },
    {
     "name": "stderr",
     "output_type": "stream",
     "text": [
      "\r",
      "  0%|                                                    | 0/1 [00:00<?, ?it/s]"
     ]
    },
    {
     "name": "stdout",
     "output_type": "stream",
     "text": [
      "Data shape: (38, 6373) and labels shape: (38,)\n",
      "Amount of negatives: 19 and positives: 19\n"
     ]
    },
    {
     "name": "stderr",
     "output_type": "stream",
     "text": [
      "100%|████████████████████████████████████████████| 1/1 [00:00<00:00,  2.89it/s]\n",
      "100%|████████████████████████████████████████████| 1/1 [00:02<00:00,  2.36s/it]\n",
      "100%|████████████████████████████████████████████| 1/1 [00:00<00:00,  1.74it/s]\n",
      "100%|████████████████████████████████████████████| 1/1 [00:06<00:00,  6.93s/it]\n",
      "100%|████████████████████████████████████████████| 1/1 [00:04<00:00,  4.33s/it]\n"
     ]
    },
    {
     "name": "stdout",
     "output_type": "stream",
     "text": [
      "7: Classifying data with openface+cfps representation\n",
      "\n",
      "\n"
     ]
    },
    {
     "name": "stderr",
     "output_type": "stream",
     "text": [
      "100%|████████████████████████████████████████████| 1/1 [00:00<00:00, 11.85it/s]\n",
      "  0%|                                                    | 0/1 [00:00<?, ?it/s]"
     ]
    },
    {
     "name": "stdout",
     "output_type": "stream",
     "text": [
      "Data shape: (38, 468) and labels shape: (38,)\n",
      "Amount of negatives: 19 and positives: 19\n"
     ]
    },
    {
     "name": "stderr",
     "output_type": "stream",
     "text": [
      "100%|████████████████████████████████████████████| 1/1 [00:00<00:00,  5.04it/s]\n",
      "100%|████████████████████████████████████████████| 1/1 [00:00<00:00,  2.25it/s]\n",
      "100%|████████████████████████████████████████████| 1/1 [00:01<00:00,  1.01s/it]\n",
      "100%|████████████████████████████████████████████| 1/1 [00:00<00:00,  1.07it/s]\n"
     ]
    },
    {
     "name": "stdout",
     "output_type": "stream",
     "text": [
      "8: Classifying data with facereader representation\n",
      "\n",
      "\n"
     ]
    },
    {
     "name": "stderr",
     "output_type": "stream",
     "text": [
      "100%|████████████████████████████████████████████| 1/1 [00:00<00:00, 16.78it/s]\n",
      "100%|████████████████████████████████████████████| 1/1 [00:00<00:00, 83.33it/s]\n",
      "  0%|                                                    | 0/1 [00:00<?, ?it/s]"
     ]
    },
    {
     "name": "stdout",
     "output_type": "stream",
     "text": [
      "Data shape: (30, 93) and labels shape: (30,)\n",
      "Amount of negatives: 15 and positives: 15\n"
     ]
    },
    {
     "name": "stderr",
     "output_type": "stream",
     "text": [
      "100%|████████████████████████████████████████████| 1/1 [00:00<00:00,  2.78it/s]\n",
      "100%|████████████████████████████████████████████| 1/1 [00:00<00:00,  4.04it/s]\n",
      "100%|████████████████████████████████████████████| 1/1 [00:00<00:00,  2.29it/s]\n"
     ]
    },
    {
     "name": "stdout",
     "output_type": "stream",
     "text": [
      "Syndrome that will be classified: DYRK1A \n",
      "\n",
      "\n",
      "0: Classifying data with deepface representation\n",
      "\n",
      "\n"
     ]
    },
    {
     "name": "stderr",
     "output_type": "stream",
     "text": [
      "100%|████████████████████████████████████████████| 1/1 [00:00<00:00,  5.49it/s]"
     ]
    },
    {
     "name": "stdout",
     "output_type": "stream",
     "text": [
      "Data shape: (32, 4096) and labels shape: (32,)\n",
      "Amount of negatives: 16 and positives: 16\n"
     ]
    },
    {
     "name": "stderr",
     "output_type": "stream",
     "text": [
      "100%|████████████████████████████████████████████| 1/1 [00:00<00:00,  5.49it/s]\n",
      "100%|████████████████████████████████████████████| 1/1 [00:00<00:00,  1.00it/s]\n",
      "100%|████████████████████████████████████████████| 1/1 [00:00<00:00,  2.37it/s]\n",
      "100%|████████████████████████████████████████████| 1/1 [00:02<00:00,  2.10s/it]\n",
      "100%|████████████████████████████████████████████| 1/1 [00:01<00:00,  1.54s/it]\n",
      "  0%|                                                    | 0/1 [00:00<?, ?it/s]"
     ]
    },
    {
     "name": "stdout",
     "output_type": "stream",
     "text": [
      "1: Classifying data with dlib representation\n",
      "\n",
      "\n",
      "Data shape: (30, 2277) and labels shape: (30,)\n",
      "Amount of negatives: 15 and positives: 15\n"
     ]
    },
    {
     "name": "stderr",
     "output_type": "stream",
     "text": [
      "100%|████████████████████████████████████████████| 1/1 [00:00<00:00,  9.42it/s]\n",
      "100%|████████████████████████████████████████████| 1/1 [00:00<00:00,  2.35it/s]\n",
      "100%|████████████████████████████████████████████| 1/1 [00:00<00:00,  2.70it/s]\n",
      "100%|████████████████████████████████████████████| 1/1 [00:02<00:00,  2.49s/it]\n",
      "100%|████████████████████████████████████████████| 1/1 [00:01<00:00,  1.72s/it]\n"
     ]
    },
    {
     "name": "stdout",
     "output_type": "stream",
     "text": [
      "2: Classifying data with all deepface+dlib representations\n",
      "\n",
      "\n",
      "Data shape: (30, 6373) and labels shape: (30,)\n",
      "Amount of negatives: 15 and positives: 15\n"
     ]
    },
    {
     "name": "stderr",
     "output_type": "stream",
     "text": [
      "100%|████████████████████████████████████████████| 1/1 [00:00<00:00,  4.40it/s]\n",
      "100%|████████████████████████████████████████████| 1/1 [00:01<00:00,  1.31s/it]\n",
      "100%|████████████████████████████████████████████| 1/1 [00:00<00:00,  2.25it/s]\n",
      "100%|████████████████████████████████████████████| 1/1 [00:04<00:00,  4.16s/it]\n",
      "100%|████████████████████████████████████████████| 1/1 [00:02<00:00,  2.72s/it]\n"
     ]
    },
    {
     "name": "stdout",
     "output_type": "stream",
     "text": [
      "7: Classifying data with openface+cfps representation\n",
      "\n",
      "\n"
     ]
    },
    {
     "name": "stderr",
     "output_type": "stream",
     "text": [
      "100%|████████████████████████████████████████████| 1/1 [00:00<00:00, 15.10it/s]\n",
      "100%|████████████████████████████████████████████| 1/1 [00:00<00:00,  7.72it/s]"
     ]
    },
    {
     "name": "stdout",
     "output_type": "stream",
     "text": [
      "Data shape: (32, 468) and labels shape: (32,)\n",
      "Amount of negatives: 16 and positives: 16\n"
     ]
    },
    {
     "name": "stderr",
     "output_type": "stream",
     "text": [
      "100%|████████████████████████████████████████████| 1/1 [00:00<00:00,  7.72it/s]\n",
      "100%|████████████████████████████████████████████| 1/1 [00:00<00:00,  2.62it/s]\n",
      "100%|████████████████████████████████████████████| 1/1 [00:00<00:00,  1.47it/s]\n",
      "100%|████████████████████████████████████████████| 1/1 [00:00<00:00,  1.37it/s]\n"
     ]
    },
    {
     "name": "stdout",
     "output_type": "stream",
     "text": [
      "8: Classifying data with facereader representation\n",
      "\n",
      "\n"
     ]
    },
    {
     "name": "stderr",
     "output_type": "stream",
     "text": [
      "100%|████████████████████████████████████████████| 1/1 [00:00<00:00, 76.92it/s]\n",
      "100%|████████████████████████████████████████████| 1/1 [00:00<00:00, 47.61it/s]\n",
      "  0%|                                                    | 0/1 [00:00<?, ?it/s]"
     ]
    },
    {
     "name": "stdout",
     "output_type": "stream",
     "text": [
      "Data shape: (20, 93) and labels shape: (20,)\n",
      "Amount of negatives: 10 and positives: 10\n"
     ]
    },
    {
     "name": "stderr",
     "output_type": "stream",
     "text": [
      "100%|████████████████████████████████████████████| 1/1 [00:00<00:00,  4.01it/s]\n",
      "100%|████████████████████████████████████████████| 1/1 [00:00<00:00,  7.58it/s]\n",
      "100%|████████████████████████████████████████████| 1/1 [00:00<00:00,  3.66it/s]\n"
     ]
    },
    {
     "name": "stdout",
     "output_type": "stream",
     "text": [
      "Syndrome that will be classified: EHMT1 \n",
      "\n",
      "\n",
      "0: Classifying data with deepface representation\n",
      "\n",
      "\n"
     ]
    },
    {
     "name": "stderr",
     "output_type": "stream",
     "text": [
      "\r",
      "  0%|                                                    | 0/1 [00:00<?, ?it/s]"
     ]
    },
    {
     "name": "stdout",
     "output_type": "stream",
     "text": [
      "Data shape: (78, 4096) and labels shape: (78,)\n",
      "Amount of negatives: 39 and positives: 39\n"
     ]
    },
    {
     "name": "stderr",
     "output_type": "stream",
     "text": [
      "100%|████████████████████████████████████████████| 1/1 [00:02<00:00,  2.15s/it]\n",
      "100%|████████████████████████████████████████████| 1/1 [00:10<00:00, 10.61s/it]\n",
      "100%|████████████████████████████████████████████| 1/1 [00:01<00:00,  1.29s/it]\n",
      "100%|████████████████████████████████████████████| 1/1 [00:13<00:00, 13.65s/it]\n",
      "100%|████████████████████████████████████████████| 1/1 [00:08<00:00,  8.57s/it]\n"
     ]
    },
    {
     "name": "stdout",
     "output_type": "stream",
     "text": [
      "1: Classifying data with dlib representation\n",
      "\n",
      "\n"
     ]
    },
    {
     "name": "stderr",
     "output_type": "stream",
     "text": [
      "\r",
      "  0%|                                                    | 0/1 [00:00<?, ?it/s]"
     ]
    },
    {
     "name": "stdout",
     "output_type": "stream",
     "text": [
      "Data shape: (78, 2277) and labels shape: (78,)\n",
      "Amount of negatives: 39 and positives: 39\n"
     ]
    },
    {
     "name": "stderr",
     "output_type": "stream",
     "text": [
      "100%|████████████████████████████████████████████| 1/1 [00:00<00:00,  1.13it/s]\n",
      "100%|████████████████████████████████████████████| 1/1 [00:07<00:00,  7.72s/it]\n",
      "100%|████████████████████████████████████████████| 1/1 [00:01<00:00,  1.32s/it]\n",
      "100%|████████████████████████████████████████████| 1/1 [00:21<00:00, 21.19s/it]\n",
      "100%|████████████████████████████████████████████| 1/1 [00:11<00:00, 11.42s/it]\n"
     ]
    },
    {
     "name": "stdout",
     "output_type": "stream",
     "text": [
      "2: Classifying data with all deepface+dlib representations\n",
      "\n",
      "\n"
     ]
    },
    {
     "name": "stderr",
     "output_type": "stream",
     "text": [
      "\r",
      "  0%|                                                    | 0/1 [00:00<?, ?it/s]"
     ]
    },
    {
     "name": "stdout",
     "output_type": "stream",
     "text": [
      "Data shape: (78, 6373) and labels shape: (78,)\n",
      "Amount of negatives: 39 and positives: 39\n"
     ]
    },
    {
     "name": "stderr",
     "output_type": "stream",
     "text": [
      "100%|████████████████████████████████████████████| 1/1 [00:02<00:00,  2.82s/it]\n",
      "100%|████████████████████████████████████████████| 1/1 [00:16<00:00, 16.50s/it]\n",
      "100%|████████████████████████████████████████████| 1/1 [00:01<00:00,  1.60s/it]\n",
      "100%|████████████████████████████████████████████| 1/1 [00:34<00:00, 34.32s/it]\n",
      "100%|████████████████████████████████████████████| 1/1 [00:18<00:00, 18.88s/it]\n"
     ]
    },
    {
     "name": "stdout",
     "output_type": "stream",
     "text": [
      "7: Classifying data with openface+cfps representation\n",
      "\n",
      "\n"
     ]
    },
    {
     "name": "stderr",
     "output_type": "stream",
     "text": [
      "\r",
      "  0%|                                                    | 0/1 [00:00<?, ?it/s]"
     ]
    },
    {
     "name": "stdout",
     "output_type": "stream",
     "text": [
      "Data shape: (76, 468) and labels shape: (76,)\n",
      "Amount of negatives: 38 and positives: 38\n"
     ]
    },
    {
     "name": "stderr",
     "output_type": "stream",
     "text": [
      "100%|████████████████████████████████████████████| 1/1 [00:00<00:00,  3.68it/s]\n",
      "100%|████████████████████████████████████████████| 1/1 [00:01<00:00,  1.10s/it]\n",
      "100%|████████████████████████████████████████████| 1/1 [00:01<00:00,  1.01s/it]\n",
      "100%|████████████████████████████████████████████| 1/1 [00:04<00:00,  4.37s/it]\n",
      "100%|████████████████████████████████████████████| 1/1 [00:02<00:00,  2.90s/it]\n"
     ]
    },
    {
     "name": "stdout",
     "output_type": "stream",
     "text": [
      "8: Classifying data with facereader representation\n",
      "\n",
      "\n"
     ]
    },
    {
     "name": "stderr",
     "output_type": "stream",
     "text": [
      "100%|████████████████████████████████████████████| 1/1 [00:00<00:00, 30.12it/s]\n",
      "100%|███████████████████████████████████████████| 1/1 [00:00<00:00, 142.86it/s]\n",
      "  0%|                                                    | 0/1 [00:00<?, ?it/s]"
     ]
    },
    {
     "name": "stdout",
     "output_type": "stream",
     "text": [
      "Data shape: (28, 93) and labels shape: (28,)\n",
      "Amount of negatives: 14 and positives: 14\n"
     ]
    },
    {
     "name": "stderr",
     "output_type": "stream",
     "text": [
      "100%|████████████████████████████████████████████| 1/1 [00:00<00:00,  2.91it/s]\n",
      "100%|████████████████████████████████████████████| 1/1 [00:00<00:00,  4.98it/s]\n",
      "100%|████████████████████████████████████████████| 1/1 [00:00<00:00,  2.48it/s]\n"
     ]
    },
    {
     "name": "stdout",
     "output_type": "stream",
     "text": [
      "Syndrome that will be classified: FBXO11 \n",
      "\n",
      "\n",
      "0: Classifying data with deepface representation\n",
      "\n",
      "\n"
     ]
    },
    {
     "name": "stderr",
     "output_type": "stream",
     "text": [
      "\r",
      "  0%|                                                    | 0/1 [00:00<?, ?it/s]"
     ]
    },
    {
     "name": "stdout",
     "output_type": "stream",
     "text": [
      "Data shape: (34, 4096) and labels shape: (34,)\n",
      "Amount of negatives: 17 and positives: 17\n"
     ]
    },
    {
     "name": "stderr",
     "output_type": "stream",
     "text": [
      "100%|████████████████████████████████████████████| 1/1 [00:00<00:00,  4.67it/s]\n",
      "100%|████████████████████████████████████████████| 1/1 [00:01<00:00,  1.23s/it]\n",
      "100%|████████████████████████████████████████████| 1/1 [00:00<00:00,  2.13it/s]\n",
      "100%|████████████████████████████████████████████| 1/1 [00:02<00:00,  2.43s/it]\n",
      "100%|████████████████████████████████████████████| 1/1 [00:01<00:00,  1.78s/it]\n",
      "  0%|                                                    | 0/1 [00:00<?, ?it/s]"
     ]
    },
    {
     "name": "stdout",
     "output_type": "stream",
     "text": [
      "1: Classifying data with dlib representation\n",
      "\n",
      "\n",
      "Data shape: (34, 2277) and labels shape: (34,)\n",
      "Amount of negatives: 17 and positives: 17\n"
     ]
    },
    {
     "name": "stderr",
     "output_type": "stream",
     "text": [
      "100%|████████████████████████████████████████████| 1/1 [00:00<00:00,  8.40it/s]\n",
      "100%|████████████████████████████████████████████| 1/1 [00:00<00:00,  1.54it/s]\n",
      "100%|████████████████████████████████████████████| 1/1 [00:00<00:00,  2.31it/s]\n",
      "100%|████████████████████████████████████████████| 1/1 [00:03<00:00,  3.32s/it]\n",
      "100%|████████████████████████████████████████████| 1/1 [00:02<00:00,  2.19s/it]\n"
     ]
    },
    {
     "name": "stdout",
     "output_type": "stream",
     "text": [
      "2: Classifying data with all deepface+dlib representations\n",
      "\n",
      "\n"
     ]
    },
    {
     "name": "stderr",
     "output_type": "stream",
     "text": [
      "\r",
      "  0%|                                                    | 0/1 [00:00<?, ?it/s]"
     ]
    },
    {
     "name": "stdout",
     "output_type": "stream",
     "text": [
      "Data shape: (34, 6373) and labels shape: (34,)\n",
      "Amount of negatives: 17 and positives: 17\n"
     ]
    },
    {
     "name": "stderr",
     "output_type": "stream",
     "text": [
      "100%|████████████████████████████████████████████| 1/1 [00:00<00:00,  3.64it/s]\n",
      "100%|████████████████████████████████████████████| 1/1 [00:01<00:00,  1.89s/it]\n",
      "100%|████████████████████████████████████████████| 1/1 [00:00<00:00,  1.90it/s]\n",
      "100%|████████████████████████████████████████████| 1/1 [00:05<00:00,  5.56s/it]\n",
      "100%|████████████████████████████████████████████| 1/1 [00:03<00:00,  3.51s/it]\n"
     ]
    },
    {
     "name": "stdout",
     "output_type": "stream",
     "text": [
      "7: Classifying data with openface+cfps representation\n",
      "\n",
      "\n"
     ]
    },
    {
     "name": "stderr",
     "output_type": "stream",
     "text": [
      "100%|████████████████████████████████████████████| 1/1 [00:00<00:00, 14.75it/s]\n",
      "  0%|                                                    | 0/1 [00:00<?, ?it/s]"
     ]
    },
    {
     "name": "stdout",
     "output_type": "stream",
     "text": [
      "Data shape: (34, 468) and labels shape: (34,)\n",
      "Amount of negatives: 17 and positives: 17\n"
     ]
    },
    {
     "name": "stderr",
     "output_type": "stream",
     "text": [
      "100%|████████████████████████████████████████████| 1/1 [00:00<00:00,  7.66it/s]\n",
      "100%|████████████████████████████████████████████| 1/1 [00:00<00:00,  2.42it/s]\n",
      "100%|████████████████████████████████████████████| 1/1 [00:00<00:00,  1.34it/s]\n",
      "100%|████████████████████████████████████████████| 1/1 [00:00<00:00,  1.28it/s]\n"
     ]
    },
    {
     "name": "stdout",
     "output_type": "stream",
     "text": [
      "8: Classifying data with facereader representation\n",
      "\n",
      "\n",
      "Data shape: (30, 93) and labels shape: (30,)\n",
      "Amount of negatives: 15 and positives: 15\n"
     ]
    },
    {
     "name": "stderr",
     "output_type": "stream",
     "text": [
      "100%|████████████████████████████████████████████| 1/1 [00:00<00:00, 41.67it/s]\n",
      "100%|████████████████████████████████████████████| 1/1 [00:00<00:00, 26.32it/s]\n",
      "100%|████████████████████████████████████████████| 1/1 [00:00<00:00,  2.80it/s]\n",
      "100%|████████████████████████████████████████████| 1/1 [00:00<00:00,  3.93it/s]\n",
      "100%|████████████████████████████████████████████| 1/1 [00:00<00:00,  2.36it/s]\n"
     ]
    },
    {
     "name": "stdout",
     "output_type": "stream",
     "text": [
      "Syndrome that will be classified: SON \n",
      "\n",
      "\n",
      "0: Classifying data with deepface representation\n",
      "\n",
      "\n"
     ]
    },
    {
     "name": "stderr",
     "output_type": "stream",
     "text": [
      "\r",
      "  0%|                                                    | 0/1 [00:00<?, ?it/s]"
     ]
    },
    {
     "name": "stdout",
     "output_type": "stream",
     "text": [
      "Data shape: (36, 4096) and labels shape: (36,)\n",
      "Amount of negatives: 18 and positives: 18\n"
     ]
    },
    {
     "name": "stderr",
     "output_type": "stream",
     "text": [
      "100%|████████████████████████████████████████████| 1/1 [00:00<00:00,  4.75it/s]\n",
      "100%|████████████████████████████████████████████| 1/1 [00:01<00:00,  1.42s/it]\n",
      "100%|████████████████████████████████████████████| 1/1 [00:00<00:00,  1.98it/s]\n",
      "100%|████████████████████████████████████████████| 1/1 [00:02<00:00,  2.74s/it]\n",
      "100%|████████████████████████████████████████████| 1/1 [00:01<00:00,  1.92s/it]\n",
      "  0%|                                                    | 0/1 [00:00<?, ?it/s]"
     ]
    },
    {
     "name": "stdout",
     "output_type": "stream",
     "text": [
      "1: Classifying data with dlib representation\n",
      "\n",
      "\n",
      "Data shape: (36, 2277) and labels shape: (36,)\n",
      "Amount of negatives: 18 and positives: 18\n"
     ]
    },
    {
     "name": "stderr",
     "output_type": "stream",
     "text": [
      "100%|████████████████████████████████████████████| 1/1 [00:00<00:00,  8.22it/s]\n",
      "100%|████████████████████████████████████████████| 1/1 [00:00<00:00,  1.41it/s]\n",
      "100%|████████████████████████████████████████████| 1/1 [00:00<00:00,  2.22it/s]\n",
      "100%|████████████████████████████████████████████| 1/1 [00:03<00:00,  3.93s/it]\n",
      "100%|████████████████████████████████████████████| 1/1 [00:02<00:00,  2.44s/it]\n"
     ]
    },
    {
     "name": "stdout",
     "output_type": "stream",
     "text": [
      "2: Classifying data with all deepface+dlib representations\n",
      "\n",
      "\n"
     ]
    },
    {
     "name": "stderr",
     "output_type": "stream",
     "text": [
      "100%|████████████████████████████████████████████| 1/1 [00:00<00:00,  3.22it/s]\n",
      "100%|████████████████████████████████████████████| 1/1 [00:02<00:00,  2.16s/it]\n",
      "100%|████████████████████████████████████████████| 1/1 [00:00<00:00,  1.78it/s]\n",
      "100%|████████████████████████████████████████████| 1/1 [00:06<00:00,  6.35s/it]\n",
      "100%|████████████████████████████████████████████| 1/1 [00:03<00:00,  3.87s/it]\n"
     ]
    },
    {
     "name": "stdout",
     "output_type": "stream",
     "text": [
      "Data shape: (36, 6373) and labels shape: (36,)\n",
      "Amount of negatives: 18 and positives: 18\n",
      "7: Classifying data with openface+cfps representation\n",
      "\n",
      "\n"
     ]
    },
    {
     "name": "stderr",
     "output_type": "stream",
     "text": [
      "100%|████████████████████████████████████████████| 1/1 [00:00<00:00, 13.02it/s]\n",
      "  0%|                                                    | 0/1 [00:00<?, ?it/s]"
     ]
    },
    {
     "name": "stdout",
     "output_type": "stream",
     "text": [
      "Data shape: (36, 468) and labels shape: (36,)\n",
      "Amount of negatives: 18 and positives: 18\n"
     ]
    },
    {
     "name": "stderr",
     "output_type": "stream",
     "text": [
      "100%|████████████████████████████████████████████| 1/1 [00:00<00:00,  6.55it/s]\n",
      "100%|████████████████████████████████████████████| 1/1 [00:00<00:00,  2.35it/s]\n",
      "100%|████████████████████████████████████████████| 1/1 [00:00<00:00,  1.13it/s]\n",
      "100%|████████████████████████████████████████████| 1/1 [00:00<00:00,  1.15it/s]\n"
     ]
    },
    {
     "name": "stdout",
     "output_type": "stream",
     "text": [
      "8: Classifying data with facereader representation\n",
      "\n",
      "\n"
     ]
    },
    {
     "name": "stderr",
     "output_type": "stream",
     "text": [
      "100%|████████████████████████████████████████████| 1/1 [00:00<00:00, 83.33it/s]\n",
      "100%|████████████████████████████████████████████| 1/1 [00:00<00:00, 41.67it/s]\n",
      "  0%|                                                    | 0/1 [00:00<?, ?it/s]"
     ]
    },
    {
     "name": "stdout",
     "output_type": "stream",
     "text": [
      "Data shape: (22, 93) and labels shape: (22,)\n",
      "Amount of negatives: 11 and positives: 11\n"
     ]
    },
    {
     "name": "stderr",
     "output_type": "stream",
     "text": [
      "100%|████████████████████████████████████████████| 1/1 [00:00<00:00,  3.77it/s]\n",
      "100%|████████████████████████████████████████████| 1/1 [00:00<00:00,  6.13it/s]\n",
      "100%|████████████████████████████████████████████| 1/1 [00:00<00:00,  3.28it/s]\n"
     ]
    },
    {
     "name": "stdout",
     "output_type": "stream",
     "text": [
      "Syndrome that will be classified: WAC \n",
      "\n",
      "\n",
      "0: Classifying data with deepface representation\n",
      "\n",
      "\n"
     ]
    },
    {
     "name": "stderr",
     "output_type": "stream",
     "text": [
      "100%|████████████████████████████████████████████| 1/1 [00:00<00:00,  8.65it/s]\n",
      "  0%|                                                    | 0/1 [00:00<?, ?it/s]"
     ]
    },
    {
     "name": "stdout",
     "output_type": "stream",
     "text": [
      "Data shape: (24, 4096) and labels shape: (24,)\n",
      "Amount of negatives: 12 and positives: 12\n"
     ]
    },
    {
     "name": "stderr",
     "output_type": "stream",
     "text": [
      "100%|████████████████████████████████████████████| 1/1 [00:00<00:00,  2.58it/s]\n",
      "100%|████████████████████████████████████████████| 1/1 [00:00<00:00,  3.32it/s]\n",
      "100%|████████████████████████████████████████████| 1/1 [00:01<00:00,  1.00s/it]\n",
      "100%|████████████████████████████████████████████| 1/1 [00:00<00:00,  1.06it/s]\n",
      "100%|████████████████████████████████████████████| 1/1 [00:00<00:00, 14.33it/s]"
     ]
    },
    {
     "name": "stdout",
     "output_type": "stream",
     "text": [
      "1: Classifying data with dlib representation\n",
      "\n",
      "\n",
      "Data shape: (24, 2277) and labels shape: (24,)\n",
      "Amount of negatives: 12 and positives: 12\n"
     ]
    },
    {
     "name": "stderr",
     "output_type": "stream",
     "text": [
      "\n",
      "100%|████████████████████████████████████████████| 1/1 [00:00<00:00,  4.40it/s]\n",
      "100%|████████████████████████████████████████████| 1/1 [00:00<00:00,  3.42it/s]\n",
      "100%|████████████████████████████████████████████| 1/1 [00:01<00:00,  1.30s/it]\n",
      "100%|████████████████████████████████████████████| 1/1 [00:01<00:00,  1.14s/it]\n",
      "  0%|                                                    | 0/1 [00:00<?, ?it/s]"
     ]
    },
    {
     "name": "stdout",
     "output_type": "stream",
     "text": [
      "2: Classifying data with all deepface+dlib representations\n",
      "\n",
      "\n",
      "Data shape: (24, 6373) and labels shape: (24,)\n",
      "Amount of negatives: 12 and positives: 12\n"
     ]
    },
    {
     "name": "stderr",
     "output_type": "stream",
     "text": [
      "100%|████████████████████████████████████████████| 1/1 [00:00<00:00,  6.53it/s]\n",
      "100%|████████████████████████████████████████████| 1/1 [00:00<00:00,  1.48it/s]\n",
      "100%|████████████████████████████████████████████| 1/1 [00:00<00:00,  3.09it/s]\n",
      "100%|████████████████████████████████████████████| 1/1 [00:02<00:00,  2.24s/it]\n",
      "100%|████████████████████████████████████████████| 1/1 [00:01<00:00,  1.76s/it]\n"
     ]
    },
    {
     "name": "stdout",
     "output_type": "stream",
     "text": [
      "7: Classifying data with openface+cfps representation\n",
      "\n",
      "\n"
     ]
    },
    {
     "name": "stderr",
     "output_type": "stream",
     "text": [
      "100%|████████████████████████████████████████████| 1/1 [00:00<00:00, 27.03it/s]\n",
      "100%|████████████████████████████████████████████| 1/1 [00:00<00:00, 15.58it/s]\n",
      "  0%|                                                    | 0/1 [00:00<?, ?it/s]"
     ]
    },
    {
     "name": "stdout",
     "output_type": "stream",
     "text": [
      "Data shape: (24, 468) and labels shape: (24,)\n",
      "Amount of negatives: 12 and positives: 12\n"
     ]
    },
    {
     "name": "stderr",
     "output_type": "stream",
     "text": [
      "100%|████████████████████████████████████████████| 1/1 [00:00<00:00,  3.45it/s]\n",
      "100%|████████████████████████████████████████████| 1/1 [00:00<00:00,  2.68it/s]\n",
      "100%|████████████████████████████████████████████| 1/1 [00:00<00:00,  2.10it/s]\n",
      "100%|████████████████████████████████████████████| 1/1 [00:00<00:00, 76.92it/s]"
     ]
    },
    {
     "name": "stdout",
     "output_type": "stream",
     "text": [
      "8: Classifying data with facereader representation\n",
      "\n",
      "\n",
      "Data shape: (20, 93) and labels shape: (20,)\n",
      "Amount of negatives: 10 and positives: 10\n"
     ]
    },
    {
     "name": "stderr",
     "output_type": "stream",
     "text": [
      "\n",
      "100%|████████████████████████████████████████████| 1/1 [00:00<00:00, 50.00it/s]\n",
      "100%|████████████████████████████████████████████| 1/1 [00:00<00:00,  4.18it/s]\n",
      "100%|████████████████████████████████████████████| 1/1 [00:00<00:00,  8.06it/s]\n",
      "100%|████████████████████████████████████████████| 1/1 [00:00<00:00,  4.40it/s]\n"
     ]
    },
    {
     "name": "stdout",
     "output_type": "stream",
     "text": [
      "Syndrome that will be classified: YY1 \n",
      "\n",
      "\n",
      "0: Classifying data with deepface representation\n",
      "\n",
      "\n"
     ]
    },
    {
     "name": "stderr",
     "output_type": "stream",
     "text": [
      "100%|████████████████████████████████████████████| 1/1 [00:00<00:00,  8.87it/s]\n",
      "  0%|                                                    | 0/1 [00:00<?, ?it/s]"
     ]
    },
    {
     "name": "stdout",
     "output_type": "stream",
     "text": [
      "Data shape: (20, 4096) and labels shape: (20,)\n",
      "Amount of negatives: 10 and positives: 10\n"
     ]
    },
    {
     "name": "stderr",
     "output_type": "stream",
     "text": [
      "100%|████████████████████████████████████████████| 1/1 [00:00<00:00,  4.06it/s]\n",
      "100%|████████████████████████████████████████████| 1/1 [00:00<00:00,  4.12it/s]\n",
      "100%|████████████████████████████████████████████| 1/1 [00:00<00:00,  1.60it/s]\n",
      "100%|████████████████████████████████████████████| 1/1 [00:00<00:00,  1.91it/s]\n",
      "100%|████████████████████████████████████████████| 1/1 [00:00<00:00, 14.54it/s]\n",
      "  0%|                                                    | 0/1 [00:00<?, ?it/s]"
     ]
    },
    {
     "name": "stdout",
     "output_type": "stream",
     "text": [
      "1: Classifying data with dlib representation\n",
      "\n",
      "\n",
      "Data shape: (20, 2277) and labels shape: (20,)\n",
      "Amount of negatives: 10 and positives: 10\n"
     ]
    },
    {
     "name": "stderr",
     "output_type": "stream",
     "text": [
      "100%|████████████████████████████████████████████| 1/1 [00:00<00:00,  7.69it/s]\n",
      "100%|████████████████████████████████████████████| 1/1 [00:00<00:00,  4.14it/s]\n",
      "100%|████████████████████████████████████████████| 1/1 [00:00<00:00,  1.49it/s]\n",
      "100%|████████████████████████████████████████████| 1/1 [00:00<00:00,  9.49it/s]\n",
      "  0%|                                                    | 0/1 [00:00<?, ?it/s]"
     ]
    },
    {
     "name": "stdout",
     "output_type": "stream",
     "text": [
      "2: Classifying data with all deepface+dlib representations\n",
      "\n",
      "\n",
      "Data shape: (20, 6373) and labels shape: (20,)\n",
      "Amount of negatives: 10 and positives: 10\n"
     ]
    },
    {
     "name": "stderr",
     "output_type": "stream",
     "text": [
      "100%|████████████████████████████████████████████| 1/1 [00:00<00:00,  9.82it/s]\n",
      "100%|████████████████████████████████████████████| 1/1 [00:00<00:00,  2.43it/s]\n",
      "100%|████████████████████████████████████████████| 1/1 [00:00<00:00,  3.60it/s]\n",
      "100%|████████████████████████████████████████████| 1/1 [00:01<00:00,  1.38s/it]\n",
      "100%|████████████████████████████████████████████| 1/1 [00:00<00:00,  1.11it/s]\n",
      "  0%|                                                    | 0/1 [00:00<?, ?it/s]"
     ]
    },
    {
     "name": "stdout",
     "output_type": "stream",
     "text": [
      "7: Classifying data with openface+cfps representation\n",
      "\n",
      "\n",
      "Data shape: (20, 468) and labels shape: (20,)\n",
      "Amount of negatives: 10 and positives: 10\n"
     ]
    },
    {
     "name": "stderr",
     "output_type": "stream",
     "text": [
      "100%|████████████████████████████████████████████| 1/1 [00:00<00:00, 83.33it/s]\n",
      "100%|████████████████████████████████████████████| 1/1 [00:00<00:00, 22.22it/s]\n",
      "100%|████████████████████████████████████████████| 1/1 [00:00<00:00,  4.00it/s]\n",
      "100%|████████████████████████████████████████████| 1/1 [00:00<00:00,  4.02it/s]\n",
      "100%|████████████████████████████████████████████| 1/1 [00:00<00:00,  2.80it/s]\n",
      "100%|██████████████████████████████████████████| 1/1 [00:00<00:00, 1000.07it/s]\n",
      "100%|████████████████████████████████████████████| 1/1 [00:00<00:00, 66.67it/s]"
     ]
    },
    {
     "name": "stdout",
     "output_type": "stream",
     "text": [
      "8: Classifying data with facereader representation\n",
      "\n",
      "\n",
      "Data shape: (14, 93) and labels shape: (14,)\n",
      "Amount of negatives: 7 and positives: 7\n"
     ]
    },
    {
     "name": "stderr",
     "output_type": "stream",
     "text": [
      "\n",
      "100%|████████████████████████████████████████████| 1/1 [00:00<00:00,  5.61it/s]\n",
      "100%|████████████████████████████████████████████| 1/1 [00:00<00:00, 11.39it/s]\n",
      "100%|████████████████████████████████████████████| 1/1 [00:00<00:00,  5.64it/s]\n"
     ]
    },
    {
     "name": "stdout",
     "output_type": "stream",
     "text": [
      "Syndrome that will be classified: KDVS \n",
      "\n",
      "\n",
      "0: Classifying data with deepface representation\n",
      "\n",
      "\n"
     ]
    },
    {
     "name": "stderr",
     "output_type": "stream",
     "text": [
      "\r",
      "  0%|                                                    | 0/1 [00:00<?, ?it/s]"
     ]
    },
    {
     "name": "stdout",
     "output_type": "stream",
     "text": [
      "Data shape: (150, 4096) and labels shape: (150,)\n",
      "Amount of negatives: 75 and positives: 75\n"
     ]
    },
    {
     "name": "stderr",
     "output_type": "stream",
     "text": [
      "100%|████████████████████████████████████████████| 1/1 [00:12<00:00, 12.10s/it]\n",
      "100%|████████████████████████████████████████████| 1/1 [01:25<00:00, 85.58s/it]\n",
      "100%|████████████████████████████████████████████| 1/1 [00:03<00:00,  3.66s/it]\n",
      "  0%|                                                    | 0/1 [00:00<?, ?it/s]"
     ]
    }
   ],
   "source": [
    "# entire pipeline\n",
    "# ANKRD11 is done\n",
    "\n",
    "GENERAL_DIR = r\"H:\\Genetica Projecten\\Facial Recognition\\Studenten en Onderzoekers\\Fien\" \n",
    "syn_list =  ['ADNP', 'ANKRD11', 'CDK13', 'DEAF1', 'DYRK1A', 'EHMT1', 'FBXO11', 'SON', 'WAC', 'YY1', 'KDVS'] # SPOP\n",
    "\n",
    "# ['ADNP', 'ANKRD11', 'CDK13', 'DEAF1', 'DYRK1A', 'EHMT1', 'FBXO11', 'SON', 'WAC', 'YY1', 'KDVS'] # SPOP\n",
    "trial_nr = 6\n",
    "\n",
    "start = time.time()\n",
    "for trial_nr in [7,8]: # , 7, 8]:\n",
    "    # step 1: for each syndrome select fitting controls (age/gender), randomly if there are multiple suitable controls\n",
    "    ID_control_selection.main(GENERAL_DIR, syn_list, trial_nr)\n",
    "\n",
    "    # step 2: for each syndrome save the representation of the patient and control group to seperate csv files\n",
    "    save_representations.main(GENERAL_DIR, syn_list)\n",
    "\n",
    "    # # step 3: for each syndrome, try 5 classifiers and 8 different data combinations, save the results to a txt\n",
    "    classifiers_general.main(GENERAL_DIR, syn_list, trial_nr)\n",
    "\n",
    "end = time.time()\n",
    "\n",
    "print(\"Complete pipeline took {:.2f} hours\".format((end-start)/3600)) # about 10 hours\n",
    "\n"
   ]
  },
  {
   "cell_type": "code",
   "execution_count": null,
   "metadata": {},
   "outputs": [],
   "source": [
    "#ID control selection + save_representations takes 0.5  "
   ]
  },
  {
   "cell_type": "raw",
   "metadata": {},
   "source": [
    "# sy_name_Database\n",
    "\n",
    "for all syn\n",
    "\n",
    "    containn names without jpg, but exact file name,\n",
    "    ages as integer\n",
    "    only rows for existing images \n",
    "    \n",
    "    run ID cntrol\n",
    "    \n",
    "    run save rep\n",
    "    \n",
    "    run classifiers and check data shape everywhere\n",
    "    \n",
    "    \n",
    "    control openface/cfps file whether same name is present for file names \n",
    "\n",
    "\n",
    "\n",
    "\n",
    "then run facereader again\n",
    "\n",
    "\n"
   ]
  },
  {
   "cell_type": "raw",
   "metadata": {},
   "source": [
    "done\n",
    "ADNP\n",
    "ANKRD11\n",
    "CDK13\n",
    "\n",
    "\n",
    "\n"
   ]
  }
 ],
 "metadata": {
  "kernelspec": {
   "display_name": "Python 3",
   "language": "python",
   "name": "python3"
  },
  "language_info": {
   "codemirror_mode": {
    "name": "ipython",
    "version": 3
   },
   "file_extension": ".py",
   "mimetype": "text/x-python",
   "name": "python",
   "nbconvert_exporter": "python",
   "pygments_lexer": "ipython3",
   "version": "3.6.10"
  }
 },
 "nbformat": 4,
 "nbformat_minor": 4
}
