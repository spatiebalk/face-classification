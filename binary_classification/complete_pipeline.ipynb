{
 "cells": [
  {
   "cell_type": "code",
   "execution_count": 1,
   "metadata": {},
   "outputs": [],
   "source": [
    "import time"
   ]
  },
  {
   "cell_type": "code",
   "execution_count": 2,
   "metadata": {},
   "outputs": [],
   "source": [
    "import ID_control_selection\n",
    "import save_representations\n",
    "#import classifiers_general"
   ]
  },
  {
   "cell_type": "code",
   "execution_count": null,
   "metadata": {},
   "outputs": [
    {
     "name": "stderr",
     "output_type": "stream",
     "text": [
      "\r",
      "  0%|                                                   | 0/11 [00:00<?, ?it/s]"
     ]
    },
    {
     "name": "stdout",
     "output_type": "stream",
     "text": [
      "Selecting controls for trial 1 \n",
      "for syndroms: ['ADNP', 'ANKRD11', 'CDK13', 'DEAF1', 'DYRK1A', 'EHMT1', 'FBXO11', 'SON', 'WAC', 'YY1', 'KDVS']\n",
      "there are (33, 3) patients\n",
      "Done finding all ID controls.\n",
      "Syndrome ADNP \n",
      "Shape of patient data (33, 3), shape of control data (33, 3)\n"
     ]
    },
    {
     "name": "stderr",
     "output_type": "stream",
     "text": [
      "\r",
      "  9%|███▉                                       | 1/11 [00:15<02:31, 15.18s/it]"
     ]
    },
    {
     "name": "stdout",
     "output_type": "stream",
     "text": [
      "there are (25, 3) patients\n",
      "Done finding all ID controls.\n",
      "Syndrome ANKRD11 \n",
      "Shape of patient data (25, 3), shape of control data (25, 3)\n"
     ]
    }
   ],
   "source": [
    "# entire pipeline\n",
    "# ANKRD11 is done\n",
    "\n",
    "GENERAL_DIR = r\"H:\\Genetica Projecten\\Facial Recognition\\Studenten en Onderzoekers\\Fien\" \n",
    "syn_list =  ['ADNP', 'ANKRD11', 'CDK13', 'DEAF1', 'DYRK1A', 'EHMT1', 'FBXO11', 'SON', 'WAC', 'YY1', 'KDVS']\n",
    "\n",
    "trial_nr = 1\n",
    "\n",
    "start = time.time()\n",
    "for trial_nr in [1]:\n",
    "    # step 1:select fitting controls (age/gender), randomly if there are multiple suitable controls\n",
    "    ID_control_selection.main(GENERAL_DIR, syn_list, trial_nr)\n",
    "\n",
    "    # step 2: save the representation of the patient and control group to seperate csv files\n",
    "    save_representations.main(GENERAL_DIR, syn_list)\n",
    "\n",
    "    # step 3:  try 5 classifiers and 8 different data combinations, save the results to a txt\n",
    "    #classifiers_general.main(GENERAL_DIR, syn_list, trial_nr)\n",
    "\n",
    "end = time.time()\n",
    "\n",
    "print(\"Complete pipeline took {:.2f} hours\".format((end-start)/3600)) # about 10 hours\n",
    "\n"
   ]
  }
 ],
 "metadata": {
  "kernelspec": {
   "display_name": "Python 3",
   "language": "python",
   "name": "python3"
  },
  "language_info": {
   "codemirror_mode": {
    "name": "ipython",
    "version": 3
   },
   "file_extension": ".py",
   "mimetype": "text/x-python",
   "name": "python",
   "nbconvert_exporter": "python",
   "pygments_lexer": "ipython3",
   "version": "3.6.10"
  }
 },
 "nbformat": 4,
 "nbformat_minor": 4
}
