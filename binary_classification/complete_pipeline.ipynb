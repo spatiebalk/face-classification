{
 "cells": [
  {
   "cell_type": "code",
   "execution_count": 1,
   "metadata": {},
   "outputs": [],
   "source": [
    "import time"
   ]
  },
  {
   "cell_type": "code",
   "execution_count": 2,
   "metadata": {},
   "outputs": [
    {
     "name": "stderr",
     "output_type": "stream",
     "text": [
      "Using TensorFlow backend.\n"
     ]
    }
   ],
   "source": [
    "import ID_control_selection\n",
    "import save_representations\n",
    "import classifiers_general"
   ]
  },
  {
   "cell_type": "code",
   "execution_count": 3,
   "metadata": {},
   "outputs": [
    {
     "name": "stderr",
     "output_type": "stream",
     "text": [
      "\r",
      "  0%|                                                   | 0/11 [00:00<?, ?it/s]"
     ]
    },
    {
     "name": "stdout",
     "output_type": "stream",
     "text": [
      "Selecting controls for trial 1 \n",
      "for syndroms: ['ADNP', 'ANKRD11', 'CDK13', 'DEAF1', 'DYRK1A', 'EHMT1', 'FBXO11', 'SON', 'WAC', 'YY1', 'KDVS']\n",
      "there are (33, 3) patients\n",
      "Done finding all ID controls.\n",
      "Syndrome ADNP \n",
      "Shape of patient data (33, 3), shape of control data (33, 3)\n"
     ]
    },
    {
     "name": "stderr",
     "output_type": "stream",
     "text": [
      "\r",
      "  9%|███▉                                       | 1/11 [00:11<01:53, 11.36s/it]"
     ]
    },
    {
     "name": "stdout",
     "output_type": "stream",
     "text": [
      "there are (25, 3) patients\n",
      "Done finding all ID controls.\n",
      "Syndrome ANKRD11 \n",
      "Shape of patient data (25, 3), shape of control data (25, 3)\n"
     ]
    },
    {
     "name": "stderr",
     "output_type": "stream",
     "text": [
      "\r",
      " 18%|███████▊                                   | 2/11 [00:18<01:30, 10.10s/it]"
     ]
    },
    {
     "name": "stdout",
     "output_type": "stream",
     "text": [
      "there are (30, 3) patients\n",
      "Done finding all ID controls.\n",
      "Syndrome CDK13 \n",
      "Shape of patient data (30, 3), shape of control data (30, 3)\n"
     ]
    },
    {
     "name": "stderr",
     "output_type": "stream",
     "text": [
      "\r",
      " 27%|███████████▋                               | 3/11 [00:26<01:15,  9.49s/it]"
     ]
    },
    {
     "name": "stdout",
     "output_type": "stream",
     "text": [
      "there are (19, 3) patients\n",
      "Done finding all ID controls.\n",
      "Syndrome DEAF1 \n",
      "Shape of patient data (19, 3), shape of control data (19, 3)\n"
     ]
    },
    {
     "name": "stderr",
     "output_type": "stream",
     "text": [
      "\r",
      " 36%|███████████████▋                           | 4/11 [00:31<00:57,  8.20s/it]"
     ]
    },
    {
     "name": "stdout",
     "output_type": "stream",
     "text": [
      "there are (16, 3) patients\n",
      "Done finding all ID controls.\n",
      "Syndrome DYRK1A \n",
      "Shape of patient data (16, 3), shape of control data (16, 3)\n"
     ]
    },
    {
     "name": "stderr",
     "output_type": "stream",
     "text": [
      "\r",
      " 45%|███████████████████▌                       | 5/11 [00:36<00:42,  7.05s/it]"
     ]
    },
    {
     "name": "stdout",
     "output_type": "stream",
     "text": [
      "there are (39, 3) patients\n",
      "Done finding all ID controls.\n",
      "Syndrome EHMT1 \n",
      "Shape of patient data (39, 3), shape of control data (39, 3)\n"
     ]
    },
    {
     "name": "stderr",
     "output_type": "stream",
     "text": [
      "\r",
      " 55%|███████████████████████▍                   | 6/11 [00:46<00:40,  8.18s/it]"
     ]
    },
    {
     "name": "stdout",
     "output_type": "stream",
     "text": [
      "there are (17, 3) patients\n",
      "Done finding all ID controls.\n",
      "Syndrome FBXO11 \n",
      "Shape of patient data (17, 3), shape of control data (17, 3)\n"
     ]
    },
    {
     "name": "stderr",
     "output_type": "stream",
     "text": [
      "\r",
      " 64%|███████████████████████████▎               | 7/11 [00:56<00:34,  8.64s/it]"
     ]
    },
    {
     "name": "stdout",
     "output_type": "stream",
     "text": [
      "there are (18, 3) patients\n",
      "Done finding all ID controls.\n",
      "Syndrome SON \n",
      "Shape of patient data (18, 3), shape of control data (18, 3)\n"
     ]
    },
    {
     "name": "stderr",
     "output_type": "stream",
     "text": [
      "\r",
      " 73%|███████████████████████████████▎           | 8/11 [01:01<00:22,  7.54s/it]"
     ]
    },
    {
     "name": "stdout",
     "output_type": "stream",
     "text": [
      "there are (12, 3) patients\n",
      "Done finding all ID controls.\n",
      "Syndrome WAC \n",
      "Shape of patient data (12, 3), shape of control data (12, 3)\n"
     ]
    },
    {
     "name": "stderr",
     "output_type": "stream",
     "text": [
      "\r",
      " 82%|███████████████████████████████████▏       | 9/11 [01:04<00:12,  6.23s/it]"
     ]
    },
    {
     "name": "stdout",
     "output_type": "stream",
     "text": [
      "there are (10, 3) patients\n",
      "Done finding all ID controls.\n",
      "Syndrome YY1 \n",
      "Shape of patient data (10, 3), shape of control data (10, 3)\n"
     ]
    },
    {
     "name": "stderr",
     "output_type": "stream",
     "text": [
      "\r",
      " 91%|██████████████████████████████████████▏   | 10/11 [01:07<00:05,  5.29s/it]"
     ]
    },
    {
     "name": "stdout",
     "output_type": "stream",
     "text": [
      "there are (75, 3) patients\n",
      "Done finding all ID controls.\n",
      "Syndrome KDVS \n",
      "Shape of patient data (75, 3), shape of control data (75, 3)\n"
     ]
    },
    {
     "name": "stderr",
     "output_type": "stream",
     "text": [
      "100%|██████████████████████████████████████████| 11/11 [01:58<00:00, 10.77s/it]\n",
      "  0%|                                                   | 0/11 [00:00<?, ?it/s]"
     ]
    },
    {
     "name": "stdout",
     "output_type": "stream",
     "text": [
      "Done running ID_control_selection.py\n",
      "\n",
      "facereader-landmarks\n",
      "Syn_list: 33, ID_list: 33\n",
      "Syn_reps: 33, ID_reps: 33\n"
     ]
    },
    {
     "name": "stderr",
     "output_type": "stream",
     "text": [
      "\r",
      "  9%|███▊                                      | 1/11 [03:06<31:06, 186.63s/it]"
     ]
    },
    {
     "name": "stdout",
     "output_type": "stream",
     "text": [
      "Done with saving all facereader-landmark-distances representations for ADNP.\n",
      "\n",
      "facereader-landmarks\n",
      "Syn_list: 25, ID_list: 25\n",
      "Syn_reps: 50, ID_reps: 25\n"
     ]
    },
    {
     "name": "stderr",
     "output_type": "stream",
     "text": [
      "\r",
      " 18%|███████▋                                  | 2/11 [06:12<27:57, 186.35s/it]"
     ]
    },
    {
     "name": "stdout",
     "output_type": "stream",
     "text": [
      "Done with saving all facereader-landmark-distances representations for ANKRD11.\n",
      "\n",
      "facereader-landmarks\n",
      "Syn_list: 30, ID_list: 30\n",
      "Syn_reps: 30, ID_reps: 30\n"
     ]
    },
    {
     "name": "stderr",
     "output_type": "stream",
     "text": [
      "\r",
      " 27%|███████████▍                              | 3/11 [09:14<24:40, 185.09s/it]"
     ]
    },
    {
     "name": "stdout",
     "output_type": "stream",
     "text": [
      "Done with saving all facereader-landmark-distances representations for CDK13.\n",
      "\n",
      "facereader-landmarks\n",
      "Syn_list: 19, ID_list: 19\n",
      "Syn_reps: 19, ID_reps: 19\n"
     ]
    },
    {
     "name": "stderr",
     "output_type": "stream",
     "text": [
      "\r",
      " 36%|███████████████▎                          | 4/11 [12:11<21:19, 182.81s/it]"
     ]
    },
    {
     "name": "stdout",
     "output_type": "stream",
     "text": [
      "Done with saving all facereader-landmark-distances representations for DEAF1.\n",
      "\n",
      "facereader-landmarks\n",
      "Syn_list: 16, ID_list: 16\n",
      "Syn_reps: 16, ID_reps: 16\n"
     ]
    },
    {
     "name": "stderr",
     "output_type": "stream",
     "text": [
      "\r",
      " 45%|███████████████████                       | 5/11 [15:06<18:02, 180.38s/it]"
     ]
    },
    {
     "name": "stdout",
     "output_type": "stream",
     "text": [
      "Done with saving all facereader-landmark-distances representations for DYRK1A.\n",
      "\n",
      "facereader-landmarks\n",
      "Syn_list: 39, ID_list: 39\n",
      "Syn_reps: 39, ID_reps: 39\n"
     ]
    },
    {
     "name": "stderr",
     "output_type": "stream",
     "text": [
      "\r",
      " 55%|██████████████████████▉                   | 6/11 [18:10<15:06, 181.35s/it]"
     ]
    },
    {
     "name": "stdout",
     "output_type": "stream",
     "text": [
      "Done with saving all facereader-landmark-distances representations for EHMT1.\n",
      "\n",
      "facereader-landmarks\n",
      "Syn_list: 17, ID_list: 17\n",
      "Syn_reps: 17, ID_reps: 17\n"
     ]
    },
    {
     "name": "stderr",
     "output_type": "stream",
     "text": [
      "\r",
      " 64%|██████████████████████████▋               | 7/11 [21:07<12:00, 180.25s/it]"
     ]
    },
    {
     "name": "stdout",
     "output_type": "stream",
     "text": [
      "Done with saving all facereader-landmark-distances representations for FBXO11.\n",
      "\n",
      "facereader-landmarks\n",
      "Syn_list: 18, ID_list: 18\n",
      "Syn_reps: 18, ID_reps: 18\n"
     ]
    },
    {
     "name": "stderr",
     "output_type": "stream",
     "text": [
      "\r",
      " 73%|██████████████████████████████▌           | 8/11 [24:04<08:57, 179.06s/it]"
     ]
    },
    {
     "name": "stdout",
     "output_type": "stream",
     "text": [
      "Done with saving all facereader-landmark-distances representations for SON.\n",
      "\n",
      "facereader-landmarks\n",
      "Syn_list: 12, ID_list: 12\n",
      "Syn_reps: 12, ID_reps: 12\n"
     ]
    },
    {
     "name": "stderr",
     "output_type": "stream",
     "text": [
      "\r",
      " 82%|██████████████████████████████████▎       | 9/11 [26:57<05:54, 177.43s/it]"
     ]
    },
    {
     "name": "stdout",
     "output_type": "stream",
     "text": [
      "Done with saving all facereader-landmark-distances representations for WAC.\n",
      "\n",
      "facereader-landmarks\n",
      "Syn_list: 10, ID_list: 10\n",
      "Syn_reps: 10, ID_reps: 10\n"
     ]
    },
    {
     "name": "stderr",
     "output_type": "stream",
     "text": [
      "\r",
      " 91%|█████████████████████████████████████▎   | 10/11 [29:43<02:53, 173.90s/it]"
     ]
    },
    {
     "name": "stdout",
     "output_type": "stream",
     "text": [
      "Done with saving all facereader-landmark-distances representations for YY1.\n",
      "\n",
      "facereader-landmarks\n",
      "Syn_list: 75, ID_list: 75\n",
      "Syn_reps: 75, ID_reps: 75\n"
     ]
    },
    {
     "name": "stderr",
     "output_type": "stream",
     "text": [
      "100%|█████████████████████████████████████████| 11/11 [33:09<00:00, 180.89s/it]"
     ]
    },
    {
     "name": "stdout",
     "output_type": "stream",
     "text": [
      "Done with saving all facereader-landmark-distances representations for KDVS.\n",
      "Done running save_representations.py\n",
      "Syndrome that will be classified: ADNP \n",
      "\n",
      "\n",
      "9: Classifying data with facereader-landmarks-distance representation\n",
      "\n",
      "\n"
     ]
    },
    {
     "name": "stderr",
     "output_type": "stream",
     "text": [
      "\n",
      "  0%|                                                    | 0/1 [00:00<?, ?it/s]"
     ]
    },
    {
     "name": "stdout",
     "output_type": "stream",
     "text": [
      "Data shape: (24, 129795) and labels shape: (24,)\n",
      "Amount of negatives: 12 and positives: 12\n"
     ]
    },
    {
     "name": "stderr",
     "output_type": "stream",
     "text": [
      "100%|████████████████████████████████████████████| 1/1 [01:22<00:00, 82.38s/it]\n"
     ]
    },
    {
     "name": "stdout",
     "output_type": "stream",
     "text": [
      "Syndrome that will be classified: ANKRD11 \n",
      "\n",
      "\n",
      "9: Classifying data with facereader-landmarks-distance representation\n",
      "\n",
      "\n"
     ]
    },
    {
     "name": "stderr",
     "output_type": "stream",
     "text": [
      "\r",
      "  0%|                                                    | 0/1 [00:00<?, ?it/s]"
     ]
    },
    {
     "name": "stdout",
     "output_type": "stream",
     "text": [
      "Data shape: (34, 129795) and labels shape: (34,)\n",
      "Amount of negatives: 17 and positives: 17\n"
     ]
    },
    {
     "name": "stderr",
     "output_type": "stream",
     "text": [
      "100%|███████████████████████████████████████████| 1/1 [03:01<00:00, 181.19s/it]\n"
     ]
    },
    {
     "name": "stdout",
     "output_type": "stream",
     "text": [
      "Syndrome that will be classified: CDK13 \n",
      "\n",
      "\n",
      "9: Classifying data with facereader-landmarks-distance representation\n",
      "\n",
      "\n"
     ]
    },
    {
     "name": "stderr",
     "output_type": "stream",
     "text": [
      "\r",
      "  0%|                                                    | 0/1 [00:00<?, ?it/s]"
     ]
    },
    {
     "name": "stdout",
     "output_type": "stream",
     "text": [
      "Data shape: (32, 129795) and labels shape: (32,)\n",
      "Amount of negatives: 16 and positives: 16\n"
     ]
    },
    {
     "name": "stderr",
     "output_type": "stream",
     "text": [
      "100%|███████████████████████████████████████████| 1/1 [03:05<00:00, 185.68s/it]\n"
     ]
    },
    {
     "name": "stdout",
     "output_type": "stream",
     "text": [
      "Syndrome that will be classified: DEAF1 \n",
      "\n",
      "\n",
      "9: Classifying data with facereader-landmarks-distance representation\n",
      "\n",
      "\n"
     ]
    },
    {
     "name": "stderr",
     "output_type": "stream",
     "text": [
      "\r",
      "  0%|                                                    | 0/1 [00:00<?, ?it/s]"
     ]
    },
    {
     "name": "stdout",
     "output_type": "stream",
     "text": [
      "Data shape: (32, 129795) and labels shape: (32,)\n",
      "Amount of negatives: 16 and positives: 16\n"
     ]
    },
    {
     "name": "stderr",
     "output_type": "stream",
     "text": [
      "100%|███████████████████████████████████████████| 1/1 [03:08<00:00, 188.18s/it]\n"
     ]
    },
    {
     "name": "stdout",
     "output_type": "stream",
     "text": [
      "Syndrome that will be classified: DYRK1A \n",
      "\n",
      "\n",
      "9: Classifying data with facereader-landmarks-distance representation\n",
      "\n",
      "\n"
     ]
    },
    {
     "name": "stderr",
     "output_type": "stream",
     "text": [
      "\r",
      "  0%|                                                    | 0/1 [00:00<?, ?it/s]"
     ]
    },
    {
     "name": "stdout",
     "output_type": "stream",
     "text": [
      "Data shape: (20, 129795) and labels shape: (20,)\n",
      "Amount of negatives: 10 and positives: 10\n"
     ]
    },
    {
     "name": "stderr",
     "output_type": "stream",
     "text": [
      "100%|████████████████████████████████████████████| 1/1 [00:52<00:00, 52.08s/it]\n"
     ]
    },
    {
     "name": "stdout",
     "output_type": "stream",
     "text": [
      "Syndrome that will be classified: EHMT1 \n",
      "\n",
      "\n",
      "9: Classifying data with facereader-landmarks-distance representation\n",
      "\n",
      "\n"
     ]
    },
    {
     "name": "stderr",
     "output_type": "stream",
     "text": [
      "\r",
      "  0%|                                                    | 0/1 [00:00<?, ?it/s]"
     ]
    },
    {
     "name": "stdout",
     "output_type": "stream",
     "text": [
      "Data shape: (28, 129795) and labels shape: (28,)\n",
      "Amount of negatives: 14 and positives: 14\n"
     ]
    },
    {
     "name": "stderr",
     "output_type": "stream",
     "text": [
      "100%|███████████████████████████████████████████| 1/1 [02:12<00:00, 132.23s/it]\n"
     ]
    },
    {
     "name": "stdout",
     "output_type": "stream",
     "text": [
      "Syndrome that will be classified: FBXO11 \n",
      "\n",
      "\n",
      "9: Classifying data with facereader-landmarks-distance representation\n",
      "\n",
      "\n"
     ]
    },
    {
     "name": "stderr",
     "output_type": "stream",
     "text": [
      "\r",
      "  0%|                                                    | 0/1 [00:00<?, ?it/s]"
     ]
    },
    {
     "name": "stdout",
     "output_type": "stream",
     "text": [
      "Data shape: (26, 129795) and labels shape: (26,)\n",
      "Amount of negatives: 13 and positives: 13\n"
     ]
    },
    {
     "name": "stderr",
     "output_type": "stream",
     "text": [
      "100%|███████████████████████████████████████████| 1/1 [01:47<00:00, 107.70s/it]\n"
     ]
    },
    {
     "name": "stdout",
     "output_type": "stream",
     "text": [
      "Syndrome that will be classified: SON \n",
      "\n",
      "\n",
      "9: Classifying data with facereader-landmarks-distance representation\n",
      "\n",
      "\n"
     ]
    },
    {
     "name": "stderr",
     "output_type": "stream",
     "text": [
      "\r",
      "  0%|                                                    | 0/1 [00:00<?, ?it/s]"
     ]
    },
    {
     "name": "stdout",
     "output_type": "stream",
     "text": [
      "Data shape: (22, 129795) and labels shape: (22,)\n",
      "Amount of negatives: 11 and positives: 11\n"
     ]
    },
    {
     "name": "stderr",
     "output_type": "stream",
     "text": [
      "100%|████████████████████████████████████████████| 1/1 [01:10<00:00, 70.20s/it]\n"
     ]
    },
    {
     "name": "stdout",
     "output_type": "stream",
     "text": [
      "Syndrome that will be classified: WAC \n",
      "\n",
      "\n",
      "9: Classifying data with facereader-landmarks-distance representation\n",
      "\n",
      "\n"
     ]
    },
    {
     "name": "stderr",
     "output_type": "stream",
     "text": [
      "\r",
      "  0%|                                                    | 0/1 [00:00<?, ?it/s]"
     ]
    },
    {
     "name": "stdout",
     "output_type": "stream",
     "text": [
      "Data shape: (16, 129795) and labels shape: (16,)\n",
      "Amount of negatives: 8 and positives: 8\n"
     ]
    },
    {
     "name": "stderr",
     "output_type": "stream",
     "text": [
      "100%|████████████████████████████████████████████| 1/1 [00:25<00:00, 25.22s/it]\n"
     ]
    },
    {
     "name": "stdout",
     "output_type": "stream",
     "text": [
      "Syndrome that will be classified: YY1 \n",
      "\n",
      "\n",
      "9: Classifying data with facereader-landmarks-distance representation\n",
      "\n",
      "\n"
     ]
    },
    {
     "name": "stderr",
     "output_type": "stream",
     "text": [
      "\r",
      "  0%|                                                    | 0/1 [00:00<?, ?it/s]"
     ]
    },
    {
     "name": "stdout",
     "output_type": "stream",
     "text": [
      "Data shape: (10, 129795) and labels shape: (10,)\n",
      "Amount of negatives: 5 and positives: 5\n"
     ]
    },
    {
     "name": "stderr",
     "output_type": "stream",
     "text": [
      "100%|████████████████████████████████████████████| 1/1 [00:07<00:00,  7.63s/it]\n"
     ]
    },
    {
     "name": "stdout",
     "output_type": "stream",
     "text": [
      "Syndrome that will be classified: KDVS \n",
      "\n",
      "\n",
      "9: Classifying data with facereader-landmarks-distance representation\n",
      "\n",
      "\n"
     ]
    },
    {
     "name": "stderr",
     "output_type": "stream",
     "text": [
      "\r",
      "  0%|                                                    | 0/1 [00:00<?, ?it/s]"
     ]
    },
    {
     "name": "stdout",
     "output_type": "stream",
     "text": [
      "Data shape: (110, 129795) and labels shape: (110,)\n",
      "Amount of negatives: 55 and positives: 55\n"
     ]
    },
    {
     "name": "stderr",
     "output_type": "stream",
     "text": [
      "100%|██████████████████████████████████████████| 1/1 [54:09<00:00, 3249.64s/it]"
     ]
    },
    {
     "name": "stdout",
     "output_type": "stream",
     "text": [
      "Done running classifiers_general.py\n",
      "Complete pipeline took 1.84 hours\n"
     ]
    },
    {
     "name": "stderr",
     "output_type": "stream",
     "text": [
      "\n"
     ]
    }
   ],
   "source": [
    "# entire pipeline\n",
    "# ANKRD11 is done\n",
    "\n",
    "GENERAL_DIR = r\"H:\\Genetica Projecten\\Facial Recognition\\Studenten en Onderzoekers\\Fien\" \n",
    "syn_list =  ['ADNP', 'ANKRD11', 'CDK13', 'DEAF1', 'DYRK1A', 'EHMT1', 'FBXO11', 'SON', 'WAC', 'YY1', 'KDVS']\n",
    "\n",
    "trial_nr = 1\n",
    "\n",
    "start = time.time()\n",
    "for trial_nr in [1]:# 7,8]: # , 7, 8]:\n",
    "    # step 1: for each syndrome select fitting controls (age/gender), randomly if there are multiple suitable controls\n",
    "    ID_control_selection.main(GENERAL_DIR, syn_list, trial_nr)\n",
    "\n",
    "    # step 2: for each syndrome save the representation of the patient and control group to seperate csv files\n",
    "    save_representations.main(GENERAL_DIR, syn_list)\n",
    "\n",
    "    # # step 3: for each syndrome, try 5 classifiers and 8 different data combinations, save the results to a txt\n",
    "    classifiers_general.main(GENERAL_DIR, syn_list, trial_nr)\n",
    "\n",
    "end = time.time()\n",
    "\n",
    "print(\"Complete pipeline took {:.2f} hours\".format((end-start)/3600)) # about 10 hours\n",
    "\n"
   ]
  },
  {
   "cell_type": "code",
   "execution_count": 4,
   "metadata": {},
   "outputs": [],
   "source": [
    "#ID control selection + save_representations takes 0.5  "
   ]
  },
  {
   "cell_type": "raw",
   "metadata": {},
   "source": [
    "# sy_name_Database\n",
    "\n",
    "for all syn\n",
    "\n",
    "    containn names without jpg, but exact file name,\n",
    "    ages as integer\n",
    "    only rows for existing images \n",
    "    \n",
    "    run ID cntrol\n",
    "    \n",
    "    run save rep\n",
    "    \n",
    "    run classifiers and check data shape everywhere\n",
    "    \n",
    "    \n",
    "    control openface/cfps file whether same name is present for file names \n",
    "\n",
    "\n",
    "\n",
    "\n",
    "then run facereader again\n",
    "\n",
    "\n"
   ]
  },
  {
   "cell_type": "raw",
   "metadata": {},
   "source": [
    "done\n",
    "ADNP\n",
    "ANKRD11\n",
    "CDK13\n",
    "\n",
    "\n",
    "\n"
   ]
  }
 ],
 "metadata": {
  "kernelspec": {
   "display_name": "Python 3",
   "language": "python",
   "name": "python3"
  },
  "language_info": {
   "codemirror_mode": {
    "name": "ipython",
    "version": 3
   },
   "file_extension": ".py",
   "mimetype": "text/x-python",
   "name": "python",
   "nbconvert_exporter": "python",
   "pygments_lexer": "ipython3",
   "version": "3.6.10"
  }
 },
 "nbformat": 4,
 "nbformat_minor": 4
}
