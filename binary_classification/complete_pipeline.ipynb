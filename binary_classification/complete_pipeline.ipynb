{
 "cells": [
  {
   "cell_type": "code",
   "execution_count": 1,
   "metadata": {},
   "outputs": [],
   "source": [
    "import time"
   ]
  },
  {
   "cell_type": "code",
   "execution_count": 2,
   "metadata": {},
   "outputs": [],
   "source": [
    "import ID_control_selection\n",
    "#import save_representations\n",
    "#import classifiers_general"
   ]
  },
  {
   "cell_type": "code",
   "execution_count": null,
   "metadata": {},
   "outputs": [
    {
     "name": "stdout",
     "output_type": "stream",
     "text": [
      "Selecting controls for trial 1 \n",
      "for syndroms: ['ADNP', 'ANKRD11', 'CDK13', 'DEAF1', 'DYRK1A', 'EHMT1', 'FBXO11', 'KDVS', 'SON', 'WAC', 'YY1']\n",
      "\n",
      "Syndrome ADNP \n",
      "Shape of patient data (33, 3), shape of found control data (33, 3)\n",
      "Syndrome ANKRD11 \n",
      "Shape of patient data (25, 3), shape of found control data (25, 3)\n",
      "Syndrome CDK13 \n",
      "Shape of patient data (30, 3), shape of found control data (30, 3)\n",
      "Syndrome DEAF1 \n",
      "Shape of patient data (19, 3), shape of found control data (19, 3)\n",
      "Syndrome DYRK1A \n",
      "Shape of patient data (16, 3), shape of found control data (16, 3)\n",
      "Syndrome EHMT1 \n",
      "Shape of patient data (39, 3), shape of found control data (39, 3)\n",
      "Syndrome FBXO11 \n",
      "Shape of patient data (17, 3), shape of found control data (17, 3)\n",
      "Syndrome KDVS \n",
      "Shape of patient data (75, 3), shape of found control data (75, 3)\n"
     ]
    }
   ],
   "source": [
    "# entire pipeline\n",
    "# ANKRD11 is done\n",
    "\n",
    "GENERAL_DIR = r\"H:\\Genetica Projecten\\Facial Recognition\\Studenten en Onderzoekers\\Fien\" \n",
    "syn_list =  ['ADNP', 'ANKRD11', 'CDK13', 'DEAF1', 'DYRK1A', 'EHMT1', 'FBXO11','KDVS', 'SON', 'WAC', 'YY1']\n",
    "\n",
    "trial_nr = 1\n",
    "\n",
    "start = time.time()\n",
    "for trial in [1]:\n",
    "    # step 1:select fitting controls (age/gender), randomly if there are multiple suitable controls\n",
    "    ID_control_selection.main(GENERAL_DIR, syn_list, trial)\n",
    "\n",
    "    # step 2: save the representation of the patient and control group to seperate csv files\n",
    "    #save_representations.main(GENERAL_DIR, syn_list)\n",
    "\n",
    "    # step 3:  try 5 classifiers and 8 different data combinations, save the results to a txt\n",
    "    #classifiers_general.main(GENERAL_DIR, syn_list, trial_nr)\n",
    "\n",
    "end = time.time()\n",
    "\n",
    "print(\"Complete pipeline took {:.2f} hours\".format((end-start)/3600)) \n",
    "\n"
   ]
  },
  {
   "cell_type": "raw",
   "metadata": {},
   "source": [
    "from os import listdir\n",
    "from os.path import join\n",
    "import cv2"
   ]
  },
  {
   "cell_type": "raw",
   "metadata": {},
   "source": [
    "path_patient = r\"H:\\Genetica Projecten\\Facial Recognition\\Studenten en Onderzoekers\\Fien\\ADNP\\ADNP-patients\"\n",
    "patients = [join(path_patient, f) for f in listdir(path_patient)]"
   ]
  },
  {
   "cell_type": "raw",
   "metadata": {},
   "source": [
    "for filename in patients:\n",
    "    img = cv2.imread(filename)   \n",
    "    print(img.shape)\n",
    "    grayscale_image = cv2.cvtColor(img, cv2.COLOR_BGR2GRAY)\n",
    "\n",
    "    face_cascade = cv2.CascadeClassifier(r'C:\\MyPrograms\\Anaconda3\\pkgs\\opencv-3.3.1-py36h20b85fd_1\\Library\\etc\\haarcascades\\haarcascade_frontalface_alt.xml')\n",
    "    detected_faces = face_cascade.detectMultiScale(grayscale_image)\n",
    "    \n",
    "    for (column, row, width, height) in detected_faces:\n",
    "        cv2.rectangle(\n",
    "            img,\n",
    "            (column, row),\n",
    "            (column + width, row + height),\n",
    "            (0, 255, 0),\n",
    "            2\n",
    "        )\n",
    "        \n",
    "    cv2.imshow('Image', img)\n",
    "    cv2.waitKey(0)\n",
    "    cv2.destroyAllWindows()\n",
    "\n",
    "    "
   ]
  },
  {
   "cell_type": "code",
   "execution_count": null,
   "metadata": {},
   "outputs": [],
   "source": []
  }
 ],
 "metadata": {
  "kernelspec": {
   "display_name": "Python 3",
   "language": "python",
   "name": "python3"
  },
  "language_info": {
   "codemirror_mode": {
    "name": "ipython",
    "version": 3
   },
   "file_extension": ".py",
   "mimetype": "text/x-python",
   "name": "python",
   "nbconvert_exporter": "python",
   "pygments_lexer": "ipython3",
   "version": "3.6.10"
  }
 },
 "nbformat": 4,
 "nbformat_minor": 4
}
