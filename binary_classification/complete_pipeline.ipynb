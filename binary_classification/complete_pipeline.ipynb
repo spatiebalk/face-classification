{
 "cells": [
  {
   "cell_type": "code",
   "execution_count": 1,
   "metadata": {},
   "outputs": [],
   "source": [
    "import time"
   ]
  },
  {
   "cell_type": "code",
   "execution_count": 2,
   "metadata": {},
   "outputs": [
    {
     "name": "stderr",
     "output_type": "stream",
     "text": [
      "Using TensorFlow backend.\n"
     ]
    }
   ],
   "source": [
    "import ID_control_selection\n",
    "import save_representations\n",
    "import classifiers_general"
   ]
  },
  {
   "cell_type": "code",
   "execution_count": 3,
   "metadata": {},
   "outputs": [
    {
     "name": "stderr",
     "output_type": "stream",
     "text": [
      "\r",
      "  0%|                                                   | 0/11 [00:00<?, ?it/s]"
     ]
    },
    {
     "name": "stdout",
     "output_type": "stream",
     "text": [
      "Selecting controls for trial 1 \n",
      "for syndroms: ['ADNP', 'ANKRD11', 'CDK13', 'DEAF1', 'DYRK1A', 'EHMT1', 'FBXO11', 'SON', 'WAC', 'YY1', 'KDVS']\n",
      "there are (33, 3) patients\n",
      "Done finding all ID controls.\n",
      "Syndrome ADNP \n",
      "Shape of patient data (33, 3), shape of control data (33, 3)\n"
     ]
    },
    {
     "name": "stderr",
     "output_type": "stream",
     "text": [
      "\r",
      "  9%|███▉                                       | 1/11 [00:14<02:25, 14.53s/it]"
     ]
    },
    {
     "name": "stdout",
     "output_type": "stream",
     "text": [
      "there are (25, 3) patients\n",
      "Done finding all ID controls.\n",
      "Syndrome ANKRD11 \n",
      "Shape of patient data (25, 3), shape of control data (25, 3)\n"
     ]
    },
    {
     "name": "stderr",
     "output_type": "stream",
     "text": [
      "\r",
      " 18%|███████▊                                   | 2/11 [00:23<01:55, 12.80s/it]"
     ]
    },
    {
     "name": "stdout",
     "output_type": "stream",
     "text": [
      "there are (30, 3) patients\n",
      "Done finding all ID controls.\n",
      "Syndrome CDK13 \n",
      "Shape of patient data (30, 3), shape of control data (30, 3)\n"
     ]
    },
    {
     "name": "stderr",
     "output_type": "stream",
     "text": [
      "\r",
      " 27%|███████████▋                               | 3/11 [00:42<01:57, 14.74s/it]"
     ]
    },
    {
     "name": "stdout",
     "output_type": "stream",
     "text": [
      "there are (19, 3) patients\n",
      "Done finding all ID controls.\n",
      "Syndrome DEAF1 \n",
      "Shape of patient data (19, 3), shape of control data (19, 3)\n"
     ]
    },
    {
     "name": "stderr",
     "output_type": "stream",
     "text": [
      "\r",
      " 36%|███████████████▋                           | 4/11 [00:53<01:35, 13.62s/it]"
     ]
    },
    {
     "name": "stdout",
     "output_type": "stream",
     "text": [
      "there are (16, 3) patients\n",
      "Done finding all ID controls.\n",
      "Syndrome DYRK1A \n",
      "Shape of patient data (16, 3), shape of control data (16, 3)\n"
     ]
    },
    {
     "name": "stderr",
     "output_type": "stream",
     "text": [
      "\r",
      " 45%|███████████████████▌                       | 5/11 [01:03<01:14, 12.39s/it]"
     ]
    },
    {
     "name": "stdout",
     "output_type": "stream",
     "text": [
      "there are (39, 3) patients\n",
      "Done finding all ID controls.\n",
      "Syndrome EHMT1 \n",
      "Shape of patient data (39, 3), shape of control data (39, 3)\n"
     ]
    },
    {
     "name": "stderr",
     "output_type": "stream",
     "text": [
      "\r",
      " 55%|███████████████████████▍                   | 6/11 [01:25<01:17, 15.42s/it]"
     ]
    },
    {
     "name": "stdout",
     "output_type": "stream",
     "text": [
      "there are (17, 3) patients\n",
      "Done finding all ID controls.\n",
      "Syndrome FBXO11 \n",
      "Shape of patient data (17, 3), shape of control data (17, 3)\n"
     ]
    },
    {
     "name": "stderr",
     "output_type": "stream",
     "text": [
      "\r",
      " 64%|███████████████████████████▎               | 7/11 [01:47<01:09, 17.39s/it]"
     ]
    },
    {
     "name": "stdout",
     "output_type": "stream",
     "text": [
      "there are (18, 3) patients\n",
      "Done finding all ID controls.\n",
      "Syndrome SON \n",
      "Shape of patient data (18, 3), shape of control data (18, 3)\n"
     ]
    },
    {
     "name": "stderr",
     "output_type": "stream",
     "text": [
      "\r",
      " 73%|███████████████████████████████▎           | 8/11 [01:58<00:46, 15.58s/it]"
     ]
    },
    {
     "name": "stdout",
     "output_type": "stream",
     "text": [
      "there are (12, 3) patients\n",
      "Done finding all ID controls.\n",
      "Syndrome WAC \n",
      "Shape of patient data (12, 3), shape of control data (12, 3)\n"
     ]
    },
    {
     "name": "stderr",
     "output_type": "stream",
     "text": [
      "\r",
      " 82%|███████████████████████████████████▏       | 9/11 [02:06<00:26, 13.22s/it]"
     ]
    },
    {
     "name": "stdout",
     "output_type": "stream",
     "text": [
      "there are (10, 3) patients\n",
      "Done finding all ID controls.\n",
      "Syndrome YY1 \n",
      "Shape of patient data (10, 3), shape of control data (10, 3)\n"
     ]
    },
    {
     "name": "stderr",
     "output_type": "stream",
     "text": [
      "\r",
      " 91%|██████████████████████████████████████▏   | 10/11 [02:14<00:11, 11.60s/it]"
     ]
    },
    {
     "name": "stdout",
     "output_type": "stream",
     "text": [
      "there are (75, 3) patients\n",
      "Done finding all ID controls.\n",
      "Syndrome KDVS \n",
      "Shape of patient data (75, 3), shape of control data (75, 3)\n"
     ]
    },
    {
     "name": "stderr",
     "output_type": "stream",
     "text": [
      "100%|██████████████████████████████████████████| 11/11 [03:18<00:00, 18.06s/it]\n",
      "  0%|                                                   | 0/11 [00:00<?, ?it/s]"
     ]
    },
    {
     "name": "stdout",
     "output_type": "stream",
     "text": [
      "Done running ID_control_selection.py\n",
      "WARNING:tensorflow:From C:\\MyPrograms\\Anaconda3\\envs\\ai-thesis\\lib\\site-packages\\tensorflow\\python\\ops\\resource_variable_ops.py:435: colocate_with (from tensorflow.python.framework.ops) is deprecated and will be removed in a future version.\n",
      "Instructions for updating:\n",
      "Colocations handled automatically by placer.\n",
      "Syn_list: 33, ID_list: 33\n",
      "Syn_reps: 33, ID_reps: 33\n"
     ]
    },
    {
     "name": "stderr",
     "output_type": "stream",
     "text": [
      "\r",
      "  9%|███▊                                      | 1/11 [02:29<24:57, 149.74s/it]"
     ]
    },
    {
     "name": "stdout",
     "output_type": "stream",
     "text": [
      "Done with saving all deepface representations for ADNP.\n",
      "Syn_list: 25, ID_list: 25\n",
      "Syn_reps: 25, ID_reps: 25\n"
     ]
    },
    {
     "name": "stderr",
     "output_type": "stream",
     "text": [
      "\r",
      " 18%|███████▋                                  | 2/11 [03:55<19:35, 130.59s/it]"
     ]
    },
    {
     "name": "stdout",
     "output_type": "stream",
     "text": [
      "Done with saving all deepface representations for ANKRD11.\n",
      "Syn_list: 30, ID_list: 30\n",
      "Syn_reps: 30, ID_reps: 30\n"
     ]
    },
    {
     "name": "stderr",
     "output_type": "stream",
     "text": [
      "\r",
      " 27%|███████████▍                              | 3/11 [06:03<17:18, 129.82s/it]"
     ]
    },
    {
     "name": "stdout",
     "output_type": "stream",
     "text": [
      "Done with saving all deepface representations for CDK13.\n",
      "Syn_list: 19, ID_list: 19\n",
      "Syn_reps: 19, ID_reps: 19\n"
     ]
    },
    {
     "name": "stderr",
     "output_type": "stream",
     "text": [
      "\r",
      " 36%|███████████████▎                          | 4/11 [08:03<14:46, 126.67s/it]"
     ]
    },
    {
     "name": "stdout",
     "output_type": "stream",
     "text": [
      "Done with saving all deepface representations for DEAF1.\n",
      "Syn_list: 16, ID_list: 16\n",
      "Syn_reps: 16, ID_reps: 16\n"
     ]
    },
    {
     "name": "stderr",
     "output_type": "stream",
     "text": [
      "\r",
      " 45%|███████████████████                       | 5/11 [09:33<11:34, 115.80s/it]"
     ]
    },
    {
     "name": "stdout",
     "output_type": "stream",
     "text": [
      "Done with saving all deepface representations for DYRK1A.\n",
      "Syn_list: 39, ID_list: 39\n",
      "Syn_reps: 39, ID_reps: 39\n"
     ]
    },
    {
     "name": "stderr",
     "output_type": "stream",
     "text": [
      "\r",
      " 55%|██████████████████████▉                   | 6/11 [12:16<10:49, 129.85s/it]"
     ]
    },
    {
     "name": "stdout",
     "output_type": "stream",
     "text": [
      "Done with saving all deepface representations for EHMT1.\n",
      "Syn_list: 17, ID_list: 17\n",
      "Syn_reps: 17, ID_reps: 17\n"
     ]
    },
    {
     "name": "stderr",
     "output_type": "stream",
     "text": [
      "\r",
      " 64%|██████████████████████████▋               | 7/11 [13:52<07:58, 119.67s/it]"
     ]
    },
    {
     "name": "stdout",
     "output_type": "stream",
     "text": [
      "Done with saving all deepface representations for FBXO11.\n",
      "Syn_list: 18, ID_list: 18\n",
      "Syn_reps: 18, ID_reps: 18\n"
     ]
    },
    {
     "name": "stderr",
     "output_type": "stream",
     "text": [
      "\r",
      " 73%|██████████████████████████████▌           | 8/11 [16:14<06:19, 126.40s/it]"
     ]
    },
    {
     "name": "stdout",
     "output_type": "stream",
     "text": [
      "Done with saving all deepface representations for SON.\n",
      "Syn_list: 12, ID_list: 12\n",
      "Syn_reps: 12, ID_reps: 12\n",
      "Done with saving all deepface representations for WAC.\n"
     ]
    },
    {
     "name": "stderr",
     "output_type": "stream",
     "text": [
      "\r",
      " 82%|██████████████████████████████████▎       | 9/11 [18:36<04:22, 131.30s/it]"
     ]
    },
    {
     "name": "stdout",
     "output_type": "stream",
     "text": [
      "Syn_list: 10, ID_list: 10\n"
     ]
    },
    {
     "name": "stderr",
     "output_type": "stream",
     "text": [
      "\r",
      " 91%|█████████████████████████████████████▎   | 10/11 [20:05<01:58, 118.36s/it]"
     ]
    },
    {
     "name": "stdout",
     "output_type": "stream",
     "text": [
      "Syn_reps: 10, ID_reps: 10\n",
      "Done with saving all deepface representations for YY1.\n",
      "Syn_list: 75, ID_list: 75\n",
      "Syn_reps: 75, ID_reps: 75\n"
     ]
    },
    {
     "name": "stderr",
     "output_type": "stream",
     "text": [
      "100%|█████████████████████████████████████████| 11/11 [25:59<00:00, 141.80s/it]"
     ]
    },
    {
     "name": "stdout",
     "output_type": "stream",
     "text": [
      "Done with saving all deepface representations for KDVS.\n",
      "Done running save_representations.py\n",
      "Syndrome that will be classified: ADNP \n",
      "\n",
      "\n",
      "0: Classifying data with deepface representation\n",
      "\n",
      "\n"
     ]
    },
    {
     "name": "stderr",
     "output_type": "stream",
     "text": [
      "\n",
      "  0%|                                                    | 0/1 [00:00<?, ?it/s]"
     ]
    },
    {
     "name": "stdout",
     "output_type": "stream",
     "text": [
      "Data shape: (66, 4096) and labels shape: (66,)\n",
      "Amount of negatives: 33 and positives: 33\n"
     ]
    },
    {
     "name": "stderr",
     "output_type": "stream",
     "text": [
      "100%|████████████████████████████████████████████| 1/1 [00:30<00:00, 30.10s/it]\n"
     ]
    },
    {
     "name": "stdout",
     "output_type": "stream",
     "text": [
      "Syndrome that will be classified: ANKRD11 \n",
      "\n",
      "\n",
      "0: Classifying data with deepface representation\n",
      "\n",
      "\n"
     ]
    },
    {
     "name": "stderr",
     "output_type": "stream",
     "text": [
      "\r",
      "  0%|                                                    | 0/1 [00:00<?, ?it/s]"
     ]
    },
    {
     "name": "stdout",
     "output_type": "stream",
     "text": [
      "Data shape: (50, 4096) and labels shape: (50,)\n",
      "Amount of negatives: 25 and positives: 25\n"
     ]
    },
    {
     "name": "stderr",
     "output_type": "stream",
     "text": [
      "100%|████████████████████████████████████████████| 1/1 [00:16<00:00, 16.19s/it]\n"
     ]
    },
    {
     "name": "stdout",
     "output_type": "stream",
     "text": [
      "Syndrome that will be classified: CDK13 \n",
      "\n",
      "\n",
      "0: Classifying data with deepface representation\n",
      "\n",
      "\n"
     ]
    },
    {
     "name": "stderr",
     "output_type": "stream",
     "text": [
      "\r",
      "  0%|                                                    | 0/1 [00:00<?, ?it/s]"
     ]
    },
    {
     "name": "stdout",
     "output_type": "stream",
     "text": [
      "Data shape: (60, 4096) and labels shape: (60,)\n",
      "Amount of negatives: 30 and positives: 30\n"
     ]
    },
    {
     "name": "stderr",
     "output_type": "stream",
     "text": [
      "100%|████████████████████████████████████████████| 1/1 [00:25<00:00, 25.22s/it]\n"
     ]
    },
    {
     "name": "stdout",
     "output_type": "stream",
     "text": [
      "Syndrome that will be classified: DEAF1 \n",
      "\n",
      "\n",
      "0: Classifying data with deepface representation\n",
      "\n",
      "\n"
     ]
    },
    {
     "name": "stderr",
     "output_type": "stream",
     "text": [
      "\r",
      "  0%|                                                    | 0/1 [00:00<?, ?it/s]"
     ]
    },
    {
     "name": "stdout",
     "output_type": "stream",
     "text": [
      "Data shape: (38, 4096) and labels shape: (38,)\n",
      "Amount of negatives: 19 and positives: 19\n"
     ]
    },
    {
     "name": "stderr",
     "output_type": "stream",
     "text": [
      "100%|████████████████████████████████████████████| 1/1 [00:08<00:00,  8.18s/it]\n"
     ]
    },
    {
     "name": "stdout",
     "output_type": "stream",
     "text": [
      "Syndrome that will be classified: DYRK1A \n",
      "\n",
      "\n",
      "0: Classifying data with deepface representation\n",
      "\n",
      "\n"
     ]
    },
    {
     "name": "stderr",
     "output_type": "stream",
     "text": [
      "\r",
      "  0%|                                                    | 0/1 [00:00<?, ?it/s]"
     ]
    },
    {
     "name": "stdout",
     "output_type": "stream",
     "text": [
      "Data shape: (32, 4096) and labels shape: (32,)\n",
      "Amount of negatives: 16 and positives: 16\n"
     ]
    },
    {
     "name": "stderr",
     "output_type": "stream",
     "text": [
      "100%|████████████████████████████████████████████| 1/1 [00:02<00:00,  2.44s/it]\n"
     ]
    },
    {
     "name": "stdout",
     "output_type": "stream",
     "text": [
      "Syndrome that will be classified: EHMT1 \n",
      "\n",
      "\n",
      "0: Classifying data with deepface representation\n",
      "\n",
      "\n"
     ]
    },
    {
     "name": "stderr",
     "output_type": "stream",
     "text": [
      "\r",
      "  0%|                                                    | 0/1 [00:00<?, ?it/s]"
     ]
    },
    {
     "name": "stdout",
     "output_type": "stream",
     "text": [
      "Data shape: (78, 4096) and labels shape: (78,)\n",
      "Amount of negatives: 39 and positives: 39\n"
     ]
    },
    {
     "name": "stderr",
     "output_type": "stream",
     "text": [
      "100%|████████████████████████████████████████████| 1/1 [00:16<00:00, 16.29s/it]\n"
     ]
    },
    {
     "name": "stdout",
     "output_type": "stream",
     "text": [
      "Syndrome that will be classified: FBXO11 \n",
      "\n",
      "\n",
      "0: Classifying data with deepface representation\n",
      "\n",
      "\n"
     ]
    },
    {
     "name": "stderr",
     "output_type": "stream",
     "text": [
      "\r",
      "  0%|                                                    | 0/1 [00:00<?, ?it/s]"
     ]
    },
    {
     "name": "stdout",
     "output_type": "stream",
     "text": [
      "Data shape: (34, 4096) and labels shape: (34,)\n",
      "Amount of negatives: 17 and positives: 17\n"
     ]
    },
    {
     "name": "stderr",
     "output_type": "stream",
     "text": [
      "100%|████████████████████████████████████████████| 1/1 [00:02<00:00,  2.70s/it]\n"
     ]
    },
    {
     "name": "stdout",
     "output_type": "stream",
     "text": [
      "Syndrome that will be classified: SON \n",
      "\n",
      "\n",
      "0: Classifying data with deepface representation\n",
      "\n",
      "\n"
     ]
    },
    {
     "name": "stderr",
     "output_type": "stream",
     "text": [
      "\r",
      "  0%|                                                    | 0/1 [00:00<?, ?it/s]"
     ]
    },
    {
     "name": "stdout",
     "output_type": "stream",
     "text": [
      "Data shape: (36, 4096) and labels shape: (36,)\n",
      "Amount of negatives: 18 and positives: 18\n"
     ]
    },
    {
     "name": "stderr",
     "output_type": "stream",
     "text": [
      "100%|████████████████████████████████████████████| 1/1 [00:03<00:00,  3.21s/it]\n"
     ]
    },
    {
     "name": "stdout",
     "output_type": "stream",
     "text": [
      "Syndrome that will be classified: WAC \n",
      "\n",
      "\n",
      "0: Classifying data with deepface representation\n",
      "\n",
      "\n"
     ]
    },
    {
     "name": "stderr",
     "output_type": "stream",
     "text": [
      "\r",
      "  0%|                                                    | 0/1 [00:00<?, ?it/s]"
     ]
    },
    {
     "name": "stdout",
     "output_type": "stream",
     "text": [
      "Data shape: (24, 4096) and labels shape: (24,)\n",
      "Amount of negatives: 12 and positives: 12\n"
     ]
    },
    {
     "name": "stderr",
     "output_type": "stream",
     "text": [
      "100%|████████████████████████████████████████████| 1/1 [00:01<00:00,  1.07s/it]\n"
     ]
    },
    {
     "name": "stdout",
     "output_type": "stream",
     "text": [
      "Syndrome that will be classified: YY1 \n",
      "\n",
      "\n",
      "0: Classifying data with deepface representation\n",
      "\n",
      "\n"
     ]
    },
    {
     "name": "stderr",
     "output_type": "stream",
     "text": [
      "\r",
      "  0%|                                                    | 0/1 [00:00<?, ?it/s]"
     ]
    },
    {
     "name": "stdout",
     "output_type": "stream",
     "text": [
      "Data shape: (20, 4096) and labels shape: (20,)\n",
      "Amount of negatives: 10 and positives: 10\n"
     ]
    },
    {
     "name": "stderr",
     "output_type": "stream",
     "text": [
      "100%|████████████████████████████████████████████| 1/1 [00:00<00:00,  1.52it/s]\n"
     ]
    },
    {
     "name": "stdout",
     "output_type": "stream",
     "text": [
      "Syndrome that will be classified: KDVS \n",
      "\n",
      "\n",
      "0: Classifying data with deepface representation\n",
      "\n",
      "\n"
     ]
    },
    {
     "name": "stderr",
     "output_type": "stream",
     "text": [
      "\r",
      "  0%|                                                    | 0/1 [00:00<?, ?it/s]"
     ]
    },
    {
     "name": "stdout",
     "output_type": "stream",
     "text": [
      "Data shape: (150, 4096) and labels shape: (150,)\n",
      "Amount of negatives: 75 and positives: 75\n"
     ]
    },
    {
     "name": "stderr",
     "output_type": "stream",
     "text": [
      "100%|████████████████████████████████████████████| 1/1 [01:33<00:00, 94.00s/it]\n"
     ]
    },
    {
     "name": "stdout",
     "output_type": "stream",
     "text": [
      "Done running classifiers_general.py\n",
      "Complete pipeline took 0.55 hours\n"
     ]
    }
   ],
   "source": [
    "# entire pipeline\n",
    "# ANKRD11 is done\n",
    "\n",
    "GENERAL_DIR = r\"H:\\Genetica Projecten\\Facial Recognition\\Studenten en Onderzoekers\\Fien\" \n",
    "syn_list =  ['ADNP', 'ANKRD11', 'CDK13', 'DEAF1', 'DYRK1A', 'EHMT1', 'FBXO11', 'SON', 'WAC', 'YY1', 'KDVS']\n",
    "\n",
    "trial_nr = 1\n",
    "\n",
    "start = time.time()\n",
    "for trial_nr in [1]:\n",
    "    # step 1: for each syndrome select fitting controls (age/gender), randomly if there are multiple suitable controls\n",
    "    ID_control_selection.main(GENERAL_DIR, syn_list, trial_nr)\n",
    "\n",
    "    # step 2: for each syndrome save the representation of the patient and control group to seperate csv files\n",
    "    save_representations.main(GENERAL_DIR, syn_list)\n",
    "\n",
    "    # # step 3: for each syndrome, try 5 classifiers and 8 different data combinations, save the results to a txt\n",
    "    classifiers_general.main(GENERAL_DIR, syn_list, trial_nr)\n",
    "\n",
    "end = time.time()\n",
    "\n",
    "print(\"Complete pipeline took {:.2f} hours\".format((end-start)/3600)) # about 10 hours\n",
    "\n"
   ]
  },
  {
   "cell_type": "code",
   "execution_count": 4,
   "metadata": {},
   "outputs": [],
   "source": [
    "#ID control selection + save_representations takes 0.5  "
   ]
  },
  {
   "cell_type": "raw",
   "metadata": {},
   "source": [
    "# sy_name_Database\n",
    "\n",
    "for all syn\n",
    "\n",
    "    containn names without jpg, but exact file name,\n",
    "    ages as integer\n",
    "    only rows for existing images \n",
    "    \n",
    "    run ID cntrol\n",
    "    \n",
    "    run save rep\n",
    "    \n",
    "    run classifiers and check data shape everywhere\n",
    "    \n",
    "    \n",
    "    control openface/cfps file whether same name is present for file names \n",
    "\n",
    "\n",
    "\n",
    "\n",
    "then run facereader again\n",
    "\n",
    "\n"
   ]
  },
  {
   "cell_type": "raw",
   "metadata": {},
   "source": [
    "done\n",
    "ADNP\n",
    "ANKRD11\n",
    "CDK13\n",
    "\n",
    "\n",
    "\n"
   ]
  }
 ],
 "metadata": {
  "kernelspec": {
   "display_name": "Python 3",
   "language": "python",
   "name": "python3"
  },
  "language_info": {
   "codemirror_mode": {
    "name": "ipython",
    "version": 3
   },
   "file_extension": ".py",
   "mimetype": "text/x-python",
   "name": "python",
   "nbconvert_exporter": "python",
   "pygments_lexer": "ipython3",
   "version": "3.7.7"
  }
 },
 "nbformat": 4,
 "nbformat_minor": 4
}
