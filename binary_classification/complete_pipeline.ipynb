{
 "cells": [
  {
   "cell_type": "code",
   "execution_count": 1,
   "metadata": {},
   "outputs": [],
   "source": [
    "import time"
   ]
  },
  {
   "cell_type": "code",
   "execution_count": 2,
   "metadata": {},
   "outputs": [
    {
     "name": "stderr",
     "output_type": "stream",
     "text": [
      "Using TensorFlow backend.\n"
     ]
    }
   ],
   "source": [
    "import ID_control_selection\n",
    "import save_representations\n",
    "import classifiers_general"
   ]
  },
  {
   "cell_type": "code",
   "execution_count": 3,
   "metadata": {},
   "outputs": [
    {
     "name": "stdout",
     "output_type": "stream",
     "text": [
      "Syndrome that will be classified: ADNP \n",
      "\n",
      "\n",
      "9: Classifying data with facereader-landmarks-distance representation\n",
      "\n",
      "\n"
     ]
    },
    {
     "name": "stderr",
     "output_type": "stream",
     "text": [
      "\r",
      "  0%|                                                    | 0/1 [00:00<?, ?it/s]"
     ]
    },
    {
     "name": "stdout",
     "output_type": "stream",
     "text": [
      "Data shape: (26, 129795) and labels shape: (26,)\n",
      "Amount of negatives: 13 and positives: 13\n"
     ]
    },
    {
     "name": "stderr",
     "output_type": "stream",
     "text": [
      "100%|████████████████████████████████████████████| 1/1 [01:37<00:00, 97.89s/it]\n"
     ]
    },
    {
     "name": "stdout",
     "output_type": "stream",
     "text": [
      "Syndrome that will be classified: ANKRD11 \n",
      "\n",
      "\n",
      "9: Classifying data with facereader-landmarks-distance representation\n",
      "\n",
      "\n"
     ]
    },
    {
     "name": "stderr",
     "output_type": "stream",
     "text": [
      "\r",
      "  0%|                                                    | 0/1 [00:00<?, ?it/s]"
     ]
    },
    {
     "name": "stdout",
     "output_type": "stream",
     "text": [
      "Data shape: (38, 129795) and labels shape: (38,)\n",
      "Amount of negatives: 19 and positives: 19\n"
     ]
    },
    {
     "name": "stderr",
     "output_type": "stream",
     "text": [
      "100%|███████████████████████████████████████████| 1/1 [04:02<00:00, 242.46s/it]\n"
     ]
    },
    {
     "name": "stdout",
     "output_type": "stream",
     "text": [
      "Syndrome that will be classified: CDK13 \n",
      "\n",
      "\n",
      "9: Classifying data with facereader-landmarks-distance representation\n",
      "\n",
      "\n"
     ]
    },
    {
     "name": "stderr",
     "output_type": "stream",
     "text": [
      "\r",
      "  0%|                                                    | 0/1 [00:00<?, ?it/s]"
     ]
    },
    {
     "name": "stdout",
     "output_type": "stream",
     "text": [
      "Data shape: (34, 129795) and labels shape: (34,)\n",
      "Amount of negatives: 17 and positives: 17\n"
     ]
    },
    {
     "name": "stderr",
     "output_type": "stream",
     "text": [
      "100%|███████████████████████████████████████████| 1/1 [03:11<00:00, 191.41s/it]\n"
     ]
    },
    {
     "name": "stdout",
     "output_type": "stream",
     "text": [
      "Syndrome that will be classified: DEAF1 \n",
      "\n",
      "\n",
      "9: Classifying data with facereader-landmarks-distance representation\n",
      "\n",
      "\n"
     ]
    },
    {
     "name": "stderr",
     "output_type": "stream",
     "text": [
      "\r",
      "  0%|                                                    | 0/1 [00:00<?, ?it/s]"
     ]
    },
    {
     "name": "stdout",
     "output_type": "stream",
     "text": [
      "Data shape: (30, 129795) and labels shape: (30,)\n",
      "Amount of negatives: 15 and positives: 15\n"
     ]
    },
    {
     "name": "stderr",
     "output_type": "stream",
     "text": [
      "100%|███████████████████████████████████████████| 1/1 [02:31<00:00, 151.04s/it]\n"
     ]
    },
    {
     "name": "stdout",
     "output_type": "stream",
     "text": [
      "Syndrome that will be classified: DYRK1A \n",
      "\n",
      "\n",
      "9: Classifying data with facereader-landmarks-distance representation\n",
      "\n",
      "\n"
     ]
    },
    {
     "name": "stderr",
     "output_type": "stream",
     "text": [
      "\r",
      "  0%|                                                    | 0/1 [00:00<?, ?it/s]"
     ]
    },
    {
     "name": "stdout",
     "output_type": "stream",
     "text": [
      "Data shape: (20, 129795) and labels shape: (20,)\n",
      "Amount of negatives: 10 and positives: 10\n"
     ]
    },
    {
     "name": "stderr",
     "output_type": "stream",
     "text": [
      "100%|████████████████████████████████████████████| 1/1 [00:48<00:00, 48.47s/it]\n"
     ]
    },
    {
     "name": "stdout",
     "output_type": "stream",
     "text": [
      "Syndrome that will be classified: EHMT1 \n",
      "\n",
      "\n",
      "9: Classifying data with facereader-landmarks-distance representation\n",
      "\n",
      "\n"
     ]
    },
    {
     "name": "stderr",
     "output_type": "stream",
     "text": [
      "\r",
      "  0%|                                                    | 0/1 [00:00<?, ?it/s]"
     ]
    },
    {
     "name": "stdout",
     "output_type": "stream",
     "text": [
      "Data shape: (28, 129795) and labels shape: (28,)\n",
      "Amount of negatives: 14 and positives: 14\n"
     ]
    },
    {
     "name": "stderr",
     "output_type": "stream",
     "text": [
      "100%|███████████████████████████████████████████| 1/1 [01:55<00:00, 115.43s/it]\n"
     ]
    },
    {
     "name": "stdout",
     "output_type": "stream",
     "text": [
      "Syndrome that will be classified: FBXO11 \n",
      "\n",
      "\n",
      "9: Classifying data with facereader-landmarks-distance representation\n",
      "\n",
      "\n"
     ]
    },
    {
     "name": "stderr",
     "output_type": "stream",
     "text": [
      "\r",
      "  0%|                                                    | 0/1 [00:00<?, ?it/s]"
     ]
    },
    {
     "name": "stdout",
     "output_type": "stream",
     "text": [
      "Data shape: (30, 129795) and labels shape: (30,)\n",
      "Amount of negatives: 15 and positives: 15\n"
     ]
    },
    {
     "name": "stderr",
     "output_type": "stream",
     "text": [
      "100%|███████████████████████████████████████████| 1/1 [02:20<00:00, 140.19s/it]\n"
     ]
    },
    {
     "name": "stdout",
     "output_type": "stream",
     "text": [
      "Syndrome that will be classified: SON \n",
      "\n",
      "\n",
      "9: Classifying data with facereader-landmarks-distance representation\n",
      "\n",
      "\n"
     ]
    },
    {
     "name": "stderr",
     "output_type": "stream",
     "text": [
      "\r",
      "  0%|                                                    | 0/1 [00:00<?, ?it/s]"
     ]
    },
    {
     "name": "stdout",
     "output_type": "stream",
     "text": [
      "Data shape: (22, 129795) and labels shape: (22,)\n",
      "Amount of negatives: 11 and positives: 11\n"
     ]
    },
    {
     "name": "stderr",
     "output_type": "stream",
     "text": [
      "100%|████████████████████████████████████████████| 1/1 [00:52<00:00, 52.04s/it]\n"
     ]
    },
    {
     "name": "stdout",
     "output_type": "stream",
     "text": [
      "Syndrome that will be classified: WAC \n",
      "\n",
      "\n",
      "9: Classifying data with facereader-landmarks-distance representation\n",
      "\n",
      "\n"
     ]
    },
    {
     "name": "stderr",
     "output_type": "stream",
     "text": [
      "\r",
      "  0%|                                                    | 0/1 [00:00<?, ?it/s]"
     ]
    },
    {
     "name": "stdout",
     "output_type": "stream",
     "text": [
      "Data shape: (20, 129795) and labels shape: (20,)\n",
      "Amount of negatives: 10 and positives: 10\n"
     ]
    },
    {
     "name": "stderr",
     "output_type": "stream",
     "text": [
      "100%|████████████████████████████████████████████| 1/1 [00:40<00:00, 40.00s/it]\n"
     ]
    },
    {
     "name": "stdout",
     "output_type": "stream",
     "text": [
      "Syndrome that will be classified: YY1 \n",
      "\n",
      "\n",
      "9: Classifying data with facereader-landmarks-distance representation\n",
      "\n",
      "\n"
     ]
    },
    {
     "name": "stderr",
     "output_type": "stream",
     "text": [
      "\r",
      "  0%|                                                    | 0/1 [00:00<?, ?it/s]"
     ]
    },
    {
     "name": "stdout",
     "output_type": "stream",
     "text": [
      "Data shape: (14, 129795) and labels shape: (14,)\n",
      "Amount of negatives: 7 and positives: 7\n"
     ]
    },
    {
     "name": "stderr",
     "output_type": "stream",
     "text": [
      "100%|████████████████████████████████████████████| 1/1 [00:16<00:00, 16.60s/it]\n"
     ]
    },
    {
     "name": "stdout",
     "output_type": "stream",
     "text": [
      "Syndrome that will be classified: KDVS \n",
      "\n",
      "\n",
      "9: Classifying data with facereader-landmarks-distance representation\n",
      "\n",
      "\n"
     ]
    },
    {
     "name": "stderr",
     "output_type": "stream",
     "text": [
      "\r",
      "  0%|                                                    | 0/1 [00:00<?, ?it/s]"
     ]
    },
    {
     "name": "stdout",
     "output_type": "stream",
     "text": [
      "Data shape: (102, 129795) and labels shape: (102,)\n",
      "Amount of negatives: 51 and positives: 51\n"
     ]
    },
    {
     "name": "stderr",
     "output_type": "stream",
     "text": [
      "100%|██████████████████████████████████████████| 1/1 [45:16<00:00, 2716.90s/it]"
     ]
    },
    {
     "name": "stdout",
     "output_type": "stream",
     "text": [
      "Done running classifiers_general.py\n",
      "Complete pipeline took 1.11 hours\n"
     ]
    },
    {
     "name": "stderr",
     "output_type": "stream",
     "text": [
      "\n"
     ]
    }
   ],
   "source": [
    "# entire pipeline\n",
    "# ANKRD11 is done\n",
    "\n",
    "GENERAL_DIR = r\"H:\\Genetica Projecten\\Facial Recognition\\Studenten en Onderzoekers\\Fien\" \n",
    "syn_list =  ['ADNP', 'ANKRD11', 'CDK13', 'DEAF1', 'DYRK1A', 'EHMT1', 'FBXO11', 'SON', 'WAC', 'YY1', 'KDVS']\n",
    "\n",
    "trial_nr = 1\n",
    "\n",
    "start = time.time()\n",
    "for trial_nr in [1]:# 7,8]: # , 7, 8]:\n",
    "    # step 1: for each syndrome select fitting controls (age/gender), randomly if there are multiple suitable controls\n",
    "    #ID_control_selection.main(GENERAL_DIR, syn_list, trial_nr)\n",
    "\n",
    "    # step 2: for each syndrome save the representation of the patient and control group to seperate csv files\n",
    "    #save_representations.main(GENERAL_DIR, syn_list)\n",
    "\n",
    "    # # step 3: for each syndrome, try 5 classifiers and 8 different data combinations, save the results to a txt\n",
    "    classifiers_general.main(GENERAL_DIR, syn_list, trial_nr)\n",
    "\n",
    "end = time.time()\n",
    "\n",
    "print(\"Complete pipeline took {:.2f} hours\".format((end-start)/3600)) # about 10 hours\n",
    "\n"
   ]
  },
  {
   "cell_type": "code",
   "execution_count": 4,
   "metadata": {},
   "outputs": [],
   "source": [
    "#ID control selection + save_representations takes 0.5  "
   ]
  },
  {
   "cell_type": "raw",
   "metadata": {},
   "source": [
    "# sy_name_Database\n",
    "\n",
    "for all syn\n",
    "\n",
    "    containn names without jpg, but exact file name,\n",
    "    ages as integer\n",
    "    only rows for existing images \n",
    "    \n",
    "    run ID cntrol\n",
    "    \n",
    "    run save rep\n",
    "    \n",
    "    run classifiers and check data shape everywhere\n",
    "    \n",
    "    \n",
    "    control openface/cfps file whether same name is present for file names \n",
    "\n",
    "\n",
    "\n",
    "\n",
    "then run facereader again\n",
    "\n",
    "\n"
   ]
  },
  {
   "cell_type": "raw",
   "metadata": {},
   "source": [
    "done\n",
    "ADNP\n",
    "ANKRD11\n",
    "CDK13\n",
    "\n",
    "\n",
    "\n"
   ]
  }
 ],
 "metadata": {
  "kernelspec": {
   "display_name": "Python 3",
   "language": "python",
   "name": "python3"
  },
  "language_info": {
   "codemirror_mode": {
    "name": "ipython",
    "version": 3
   },
   "file_extension": ".py",
   "mimetype": "text/x-python",
   "name": "python",
   "nbconvert_exporter": "python",
   "pygments_lexer": "ipython3",
   "version": "3.6.10"
  }
 },
 "nbformat": 4,
 "nbformat_minor": 4
}
