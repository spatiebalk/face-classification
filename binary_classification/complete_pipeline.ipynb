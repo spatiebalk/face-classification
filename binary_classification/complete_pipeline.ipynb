{
 "cells": [
  {
   "cell_type": "code",
   "execution_count": 1,
   "metadata": {},
   "outputs": [],
   "source": [
    "import time"
   ]
  },
  {
   "cell_type": "code",
   "execution_count": 5,
   "metadata": {},
   "outputs": [],
   "source": [
    "import ID_control_selection\n",
    "import save_representations\n",
    "#import classifiers_general"
   ]
  },
  {
   "cell_type": "code",
   "execution_count": 6,
   "metadata": {},
   "outputs": [
    {
     "name": "stdout",
     "output_type": "stream",
     "text": [
      "ADNP\n",
      "\n",
      "openface and cfps\n",
      "Syn_files: 33, ID_files: 33\n",
      "Syn_reps: 33, ID_reps: 33\n",
      "Syn_files: 33, ID_files: 33\n",
      "Syn_reps: 33, ID_reps: 33\n",
      "Done with saving all openface and cfps representations for ADNP.\n",
      "ANKRD11\n",
      "\n",
      "openface and cfps\n",
      "Syn_files: 25, ID_files: 25\n",
      "Syn_reps: 21, ID_reps: 25\n",
      "Syn_files: 25, ID_files: 25\n",
      "Syn_reps: 22, ID_reps: 25\n",
      "Done with saving all openface and cfps representations for ANKRD11.\n",
      "CDK13\n",
      "\n",
      "openface and cfps\n",
      "Syn_files: 30, ID_files: 30\n",
      "Syn_reps: 30, ID_reps: 30\n",
      "Syn_files: 30, ID_files: 30\n",
      "Syn_reps: 30, ID_reps: 30\n",
      "Done with saving all openface and cfps representations for CDK13.\n",
      "DEAF1\n",
      "\n",
      "openface and cfps\n",
      "Syn_files: 19, ID_files: 19\n",
      "Syn_reps: 19, ID_reps: 19\n",
      "Syn_files: 19, ID_files: 19\n",
      "Syn_reps: 19, ID_reps: 19\n",
      "Done with saving all openface and cfps representations for DEAF1.\n",
      "DYRK1A\n",
      "\n",
      "openface and cfps\n",
      "Syn_files: 16, ID_files: 16\n",
      "Syn_reps: 16, ID_reps: 16\n",
      "Syn_files: 16, ID_files: 16\n",
      "Syn_reps: 16, ID_reps: 16\n",
      "Done with saving all openface and cfps representations for DYRK1A.\n",
      "EHMT1\n",
      "\n",
      "openface and cfps\n",
      "Syn_files: 39, ID_files: 39\n",
      "Syn_reps: 39, ID_reps: 39\n",
      "Syn_files: 39, ID_files: 39\n",
      "Syn_reps: 39, ID_reps: 39\n",
      "Done with saving all openface and cfps representations for EHMT1.\n",
      "FBXO11\n",
      "\n",
      "openface and cfps\n",
      "Syn_files: 17, ID_files: 17\n",
      "Syn_reps: 17, ID_reps: 17\n",
      "Syn_files: 17, ID_files: 17\n",
      "Syn_reps: 17, ID_reps: 17\n",
      "Done with saving all openface and cfps representations for FBXO11.\n",
      "KDVS\n",
      "\n",
      "openface and cfps\n",
      "Syn_files: 75, ID_files: 75\n",
      "Syn_reps: 70, ID_reps: 74\n",
      "Syn_files: 75, ID_files: 75\n",
      "Syn_reps: 70, ID_reps: 74\n",
      "Done with saving all openface and cfps representations for KDVS.\n",
      "SON\n",
      "\n",
      "openface and cfps\n",
      "Syn_files: 18, ID_files: 18\n",
      "Syn_reps: 18, ID_reps: 18\n",
      "Syn_files: 18, ID_files: 18\n",
      "Syn_reps: 18, ID_reps: 18\n",
      "Done with saving all openface and cfps representations for SON.\n",
      "WAC\n",
      "\n",
      "openface and cfps\n",
      "Syn_files: 12, ID_files: 12\n",
      "Syn_reps: 12, ID_reps: 12\n",
      "Syn_files: 12, ID_files: 12\n",
      "Syn_reps: 12, ID_reps: 12\n",
      "Done with saving all openface and cfps representations for WAC.\n",
      "YY1\n",
      "\n",
      "openface and cfps\n",
      "Syn_files: 10, ID_files: 10\n",
      "Syn_reps: 10, ID_reps: 10\n",
      "Syn_files: 10, ID_files: 10\n",
      "Syn_reps: 10, ID_reps: 10\n",
      "Done with saving all openface and cfps representations for YY1.\n",
      "Done running save_representations.py\n",
      "Complete pipeline took 0.02 hours\n"
     ]
    }
   ],
   "source": [
    "# entire pipeline\n",
    "# ANKRD11 is done\n",
    "\n",
    "GENERAL_DIR = r\"H:\\Genetica Projecten\\Facial Recognition\\Studenten en Onderzoekers\\Fien\" \n",
    "syn_list =  ['ADNP', 'ANKRD11', 'CDK13', 'DEAF1', 'DYRK1A', 'EHMT1', 'FBXO11','KDVS', 'SON', 'WAC', 'YY1']\n",
    "\n",
    "trial_nr = 1\n",
    "\n",
    "start = time.time()\n",
    "for trial in [1]:\n",
    "    # step 1:select fitting controls (age/gender), randomly if there are multiple suitable controls\n",
    "    #ID_control_selection.main(GENERAL_DIR, syn_list, trial)\n",
    "\n",
    "    # step 2: save the representation of the patient and control group to seperate csv files\n",
    "    save_representations.main(GENERAL_DIR, syn_list)\n",
    "\n",
    "    # step 3:  try 5 classifiers and 8 different data combinations, save the results to a txt\n",
    "    #classifiers_general.main(GENERAL_DIR, syn_list, trial_nr)\n",
    "\n",
    "end = time.time()\n",
    "\n",
    "print(\"Complete pipeline took {:.2f} hours\".format((end-start)/3600)) \n",
    "\n"
   ]
  },
  {
   "cell_type": "raw",
   "metadata": {},
   "source": [
    "from os import listdir\n",
    "from os.path import join\n",
    "import cv2"
   ]
  },
  {
   "cell_type": "raw",
   "metadata": {},
   "source": [
    "path_patient = r\"H:\\Genetica Projecten\\Facial Recognition\\Studenten en Onderzoekers\\Fien\\ADNP\\ADNP-patients\"\n",
    "patients = [join(path_patient, f) for f in listdir(path_patient)]"
   ]
  },
  {
   "cell_type": "raw",
   "metadata": {},
   "source": [
    "for filename in patients:\n",
    "    img = cv2.imread(filename)   \n",
    "    print(img.shape)\n",
    "    grayscale_image = cv2.cvtColor(img, cv2.COLOR_BGR2GRAY)\n",
    "\n",
    "    face_cascade = cv2.CascadeClassifier(r'C:\\MyPrograms\\Anaconda3\\pkgs\\opencv-3.3.1-py36h20b85fd_1\\Library\\etc\\haarcascades\\haarcascade_frontalface_alt.xml')\n",
    "    detected_faces = face_cascade.detectMultiScale(grayscale_image)\n",
    "    \n",
    "    for (column, row, width, height) in detected_faces:\n",
    "        cv2.rectangle(\n",
    "            img,\n",
    "            (column, row),\n",
    "            (column + width, row + height),\n",
    "            (0, 255, 0),\n",
    "            2\n",
    "        )\n",
    "        \n",
    "    cv2.imshow('Image', img)\n",
    "    cv2.waitKey(0)\n",
    "    cv2.destroyAllWindows()\n",
    "\n",
    "    "
   ]
  },
  {
   "cell_type": "code",
   "execution_count": null,
   "metadata": {},
   "outputs": [],
   "source": []
  }
 ],
 "metadata": {
  "kernelspec": {
   "display_name": "Python 3",
   "language": "python",
   "name": "python3"
  },
  "language_info": {
   "codemirror_mode": {
    "name": "ipython",
    "version": 3
   },
   "file_extension": ".py",
   "mimetype": "text/x-python",
   "name": "python",
   "nbconvert_exporter": "python",
   "pygments_lexer": "ipython3",
   "version": "3.6.10"
  }
 },
 "nbformat": 4,
 "nbformat_minor": 4
}
