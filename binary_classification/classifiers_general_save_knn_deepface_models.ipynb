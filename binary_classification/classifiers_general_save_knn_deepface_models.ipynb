{
 "cells": [
  {
   "cell_type": "markdown",
   "metadata": {},
   "source": [
    "### Trying different classifiers on data of syndromic patients and ID controls\n",
    "Overview of this notebook:\n",
    "\n",
    "First the deepface representations of the cropped images are read in from an Excel file. The data is then plotted by using either t-sne or PCA for dimension reduction. It is clear that there aren't two clear clusters.\n",
    "\n",
    "In the rest of the notebook the following classifiers are tested: k-NN, SVM, Random Forest, Gradient Boosting, AdaBoost, Gaussian Naive Bayes. In the end also an ensemble of all these methods or some of them is tried. None outperforming the Gradient Boosting classifier. \n",
    "\n",
    "To normalize the data either Normalizer (unit form) or StandardScaler (z = (x - mean)/std) is used, without any specific difference in performance yet.  "
   ]
  },
  {
   "cell_type": "code",
   "execution_count": 1,
   "metadata": {},
   "outputs": [],
   "source": [
    "import pandas as pd\n",
    "import numpy as np\n",
    "import csv\n",
    "from tqdm import tqdm\n",
    "import itertools\n",
    "from sklearn.model_selection import cross_val_score, LeaveOneOut\n",
    "from sklearn.neighbors import KNeighborsClassifier\n",
    "from sklearn.preprocessing import Normalizer, StandardScaler\n",
    "from sklearn.ensemble import GradientBoostingClassifier, RandomForestClassifier, VotingClassifier, AdaBoostClassifier\n",
    "from sklearn.svm import SVC\n",
    "from sklearn.tree import DecisionTreeClassifier\n",
    "from sklearn.naive_bayes import GaussianNB\n",
    "from sklearn.metrics import roc_auc_score, accuracy_score, confusion_matrix, roc_curve\n",
    "from sklearn.manifold import TSNE\n",
    "from sklearn.decomposition import PCA\n",
    "%matplotlib inline\n",
    "import matplotlib.pyplot as plt\n",
    "from datetime import date\n",
    "from os.path import join, isfile\n",
    "from os import listdir\n",
    "import time\n",
    "import seaborn as sns"
   ]
  },
  {
   "cell_type": "code",
   "execution_count": 2,
   "metadata": {},
   "outputs": [],
   "source": [
    "def read_rep(syn_name, syn_csv, ID_csv, data_dir):\n",
    "    \n",
    "    # open directories\n",
    "    syn_dir = data_dir+\"\\\\{}-patients\".format(syn_name)\n",
    "    ID_dir = data_dir+ \"\\\\{}-selected-ID-controls\".format(syn_name)\n",
    "\n",
    "    # get list of filenames\n",
    "    files_syn = [f for f in listdir(syn_dir) if (isfile(join(syn_dir, f))) and \".jpg\" in f]\n",
    "    files_ID = [f for f in listdir(ID_dir) if (isfile(join(ID_dir, f))) and \".jpg\" in f]\n",
    "    \n",
    "    data, labels, indices_to_drop = [], [], []\n",
    "\n",
    "    data_syn = []\n",
    "    with open (syn_csv, newline='') as file:\n",
    "        reader = csv.reader(file, delimiter=',')\n",
    "        for index, row in enumerate(reader):\n",
    "            if row[0] in files_syn: \n",
    "                rep = list(map(float, row[1:]))\n",
    "                data_syn.append(rep)\n",
    "                if all(v == 0 for v in rep):\n",
    "                    indices_to_drop.append(index)\n",
    "                    \n",
    "    data_ID = []                    \n",
    "    with open (ID_csv, newline='') as file:\n",
    "        reader = csv.reader(file, delimiter=',')\n",
    "        for index, row in enumerate(reader):\n",
    "            if row[0] in files_ID:\n",
    "                rep = list(map(float, row[1:]))\n",
    "                data_ID.append(rep)\n",
    "                if all(v == 0 for v in rep):\n",
    "                    indices_to_drop.append(index)\n",
    "    \n",
    "\n",
    "    for index, (syn_item, ID_item) in enumerate(zip(data_syn, data_ID)):\n",
    "        if index not in indices_to_drop:\n",
    "            data.append(syn_item)\n",
    "            labels.append(1)\n",
    "            data.append(ID_item)\n",
    "            labels.append(0)\n",
    "\n",
    "    return np.array(data), np.array(labels)"
   ]
  },
  {
   "cell_type": "code",
   "execution_count": 3,
   "metadata": {},
   "outputs": [],
   "source": [
    "def read_rep2(syn_name, syn_csv, ID_csv, data_dir):\n",
    "    \n",
    "    # open directories\n",
    "    syn_dir = data_dir+\"\\\\{}-patients\".format(syn_name)\n",
    "    ID_dir = data_dir+ \"\\\\{}-selected-ID-controls\".format(syn_name)\n",
    "\n",
    "    # get list of filenames\n",
    "    files_syn = [f for f in listdir(syn_dir) if (isfile(join(syn_dir, f))) and \".jpg\" in f]\n",
    "    files_ID = [f for f in listdir(ID_dir) if (isfile(join(ID_dir, f))) and (\".jpg\" in f or \".JPG\" in f) ]\n",
    "    \n",
    "    data = []\n",
    "    labels = []\n",
    "\n",
    "    for i, csv_file in enumerate([ID_csv, syn_csv]):\n",
    "        with open (csv_file, newline='') as file:\n",
    "            reader = csv.reader(file, delimiter=',')\n",
    "            for row in reader:\n",
    "                if row[0] in files_syn or row[0] + \".jpg\" in files_ID or row[0] + \".JPG\" in files_ID:\n",
    "                    rep = list(map(float, row[1:]))\n",
    "                    data.append(row)\n",
    "                    labels.append(i)\n",
    "    \n",
    "    return np.array(data), np.array(labels)"
   ]
  },
  {
   "cell_type": "code",
   "execution_count": 4,
   "metadata": {},
   "outputs": [],
   "source": [
    "def normalize(data, i):\n",
    "    \n",
    "    if i == 1:\n",
    "        return Normalizer().fit_transform(data)\n"
   ]
  },
  {
   "cell_type": "code",
   "execution_count": 5,
   "metadata": {},
   "outputs": [],
   "source": [
    "def concatenate(syn_name, data_dir, data_combination, nr_feats): \n",
    "\n",
    "    method = \"deepface\"\n",
    "    syn_csv = data_dir+\"\\\\representations\\{}-patients-{}.csv\".format(syn_name, method)\n",
    "    ID_csv  = data_dir+\"\\\\representations\\ID-controls-{}.csv\".format(method)\n",
    "    data_df, labels_df = read_rep(syn_name, syn_csv, ID_csv, data_dir)\n",
    "    \n",
    "    if data_combination == 0: # or data_combination == 2 or data_combination == 3:\n",
    "        # only deepface\n",
    "        data = data_df\n",
    "        labels = labels_df\n",
    "    \n",
    "    return 0, np.array(data), np.array(labels)  "
   ]
  },
  {
   "cell_type": "code",
   "execution_count": null,
   "metadata": {},
   "outputs": [],
   "source": []
  },
  {
   "cell_type": "code",
   "execution_count": 6,
   "metadata": {},
   "outputs": [],
   "source": [
    "def get_header(data_combination, nr_feats):\n",
    "    if data_combination == 0:\n",
    "        return \"0: Classifying data with deepface representation\\n\\n\""
   ]
  },
  {
   "cell_type": "code",
   "execution_count": 7,
   "metadata": {},
   "outputs": [
    {
     "name": "stdout",
     "output_type": "stream",
     "text": [
      "Syndrome that will be classified: ADNP \n",
      "\n",
      "\n",
      "Data shape: (66, 4096) and labels shape: (66,)\n",
      "Syndrome that will be classified: ANKRD11 \n",
      "\n",
      "\n",
      "Data shape: (50, 4096) and labels shape: (50,)\n",
      "Syndrome that will be classified: DEAF1 \n",
      "\n",
      "\n",
      "Data shape: (38, 4096) and labels shape: (38,)\n",
      "Syndrome that will be classified: DYRK1A \n",
      "\n",
      "\n",
      "Data shape: (32, 4096) and labels shape: (32,)\n"
     ]
    }
   ],
   "source": [
    "import pickle5 as pickle\n",
    "\n",
    "def main():    \n",
    "        \n",
    "    GENERAL_DIR = r\"H:\\Genetica Projecten\\Facial Recognition\\Studenten en Onderzoekers\\Fien\" \n",
    "\n",
    "    syn_list = ['ADNP', 'ANKRD11', 'DEAF1', 'DYRK1A']  \n",
    "\n",
    "    for syn_name in syn_list:      \n",
    "\n",
    "        data_dir = GENERAL_DIR + \"\\\\{}\".format(syn_name) \n",
    "        print(\"Syndrome that will be classified: {} \\n\\n\".format(syn_name))\n",
    "\n",
    "        nr_comps, data, labels = concatenate(syn_name, data_dir, 0, 0) \n",
    "        data = normalize(data, 1) \n",
    "\n",
    "        print(\"Data shape: {} and labels shape: {}\".format(data.shape, labels.shape))\n",
    "\n",
    "        model = KNeighborsClassifier(n_neighbors=3, weights='distance')\n",
    "        model.fit(data, labels)   \n",
    "        \n",
    "        knnpickle = open(r'C:\\Users\\manz616236\\Documents\\face-classification\\web_application\\models\\knn-deepface-{}'.format(syn_name), 'wb') \n",
    "        pickle.dump(model, knnpickle)                     \n",
    "            \n",
    "main()\n",
    "    "
   ]
  },
  {
   "cell_type": "code",
   "execution_count": null,
   "metadata": {},
   "outputs": [],
   "source": []
  }
 ],
 "metadata": {
  "kernelspec": {
   "display_name": "Python 3",
   "language": "python",
   "name": "python3"
  },
  "language_info": {
   "codemirror_mode": {
    "name": "ipython",
    "version": 3
   },
   "file_extension": ".py",
   "mimetype": "text/x-python",
   "name": "python",
   "nbconvert_exporter": "python",
   "pygments_lexer": "ipython3",
   "version": "3.7.7"
  }
 },
 "nbformat": 4,
 "nbformat_minor": 4
}
