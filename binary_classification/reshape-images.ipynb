{
 "cells": [
  {
   "cell_type": "code",
   "execution_count": 1,
   "metadata": {},
   "outputs": [],
   "source": [
    "# alle images in syndroom files/control files, maak ze vierkant!!!!!"
   ]
  },
  {
   "cell_type": "code",
   "execution_count": 1,
   "metadata": {},
   "outputs": [],
   "source": [
    "import numpy as np\n",
    "from os import path, listdir\n",
    "from os.path import isfile, join\n",
    "import cv2\n",
    "import matplotlib.pyplot as plt\n",
    "%matplotlib inline\n",
    "from tqdm import tqdm"
   ]
  },
  {
   "cell_type": "code",
   "execution_count": 8,
   "metadata": {},
   "outputs": [
    {
     "name": "stderr",
     "output_type": "stream",
     "text": [
      "100%|████████████████████████████████████████████| 1/1 [00:01<00:00,  1.87s/it]\n"
     ]
    }
   ],
   "source": [
    "GENERAL_DIR = r\"H:\\Genetica Projecten\\Facial Recognition\\Studenten en Onderzoekers\\Fien\" \n",
    "syn_list =  ['YY1'] #,'ANKRD11', 'CDK13', 'DEAF1', 'DYRK1A', 'EHMT1', 'FBXO11','KDVS', 'SON', 'WAC', 'YY1']\n",
    "# vanaf ehmt1 weer checken en knippen\n",
    "# controles zijn al gecheckt\n",
    "for syn in tqdm(syn_list):\n",
    "    syn_dir = GENERAL_DIR + \"\\\\{}\\{}-all-photos\".format(syn, syn)\n",
    "    files_syn = [f for f in listdir(syn_dir) if (isfile(join(syn_dir, f)))and \".jpg\" in f]\n",
    "        \n",
    "    for filename in files_syn:  \n",
    "        im = cv2.imread(join(syn_dir, filename))\n",
    "        \n",
    "        (height, width, channels) = im.shape\n",
    "\n",
    "        if width != height:\n",
    "            \n",
    "            if width < height:\n",
    "                half  = int((height - width) / 2)\n",
    "                im = cv2.copyMakeBorder(im, 0, 0, half, half, cv2.BORDER_REPLICATE) \n",
    "            else:\n",
    "                half  = int((width - height) / 2)\n",
    "                im = cv2.copyMakeBorder(im, half, half, 0, 0, cv2.BORDER_REPLICATE) \n",
    "        \n",
    "        \n",
    "            cv2.imwrite(join(syn_dir, filename), im)    "
   ]
  },
  {
   "cell_type": "code",
   "execution_count": 6,
   "metadata": {},
   "outputs": [],
   "source": [
    "GENERAL_DIR = r\"H:\\Genetica Projecten\\Facial Recognition\\Studenten en Onderzoekers\\Fien\" \n",
    "\n",
    "ID_dir = GENERAL_DIR + \"\\\\ID-controls\"\n",
    "files_syn = [f for f in listdir(ID_dir) if (isfile(join(ID_dir, f)))and \".jpg\" in f]\n",
    "\n",
    "for filename in files_syn:  \n",
    "    im = cv2.imread(join(ID_dir, filename))\n",
    "\n",
    "    (height, width, channels) = im.shape\n",
    "\n",
    "    if width != height:\n",
    "\n",
    "        if width < height:\n",
    "            half  = int((height - width) / 2)\n",
    "            im = cv2.copyMakeBorder(im, 0, 0, half, half, cv2.BORDER_REPLICATE) \n",
    "        else:\n",
    "            half  = int((width - height) / 2)\n",
    "            im = cv2.copyMakeBorder(im, half, half, 0, 0, cv2.BORDER_REPLICATE) \n",
    "\n",
    "\n",
    "        cv2.imwrite(join(ID_dir, filename), im)    "
   ]
  },
  {
   "cell_type": "code",
   "execution_count": null,
   "metadata": {},
   "outputs": [],
   "source": []
  }
 ],
 "metadata": {
  "kernelspec": {
   "display_name": "Python 3",
   "language": "python",
   "name": "python3"
  },
  "language_info": {
   "codemirror_mode": {
    "name": "ipython",
    "version": 3
   },
   "file_extension": ".py",
   "mimetype": "text/x-python",
   "name": "python",
   "nbconvert_exporter": "python",
   "pygments_lexer": "ipython3",
   "version": "3.6.10"
  }
 },
 "nbformat": 4,
 "nbformat_minor": 4
}
