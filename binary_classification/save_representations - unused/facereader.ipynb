{
 "cells": [
  {
   "cell_type": "code",
   "execution_count": 1,
   "metadata": {},
   "outputs": [
    {
     "name": "stdout",
     "output_type": "stream",
     "text": [
      "True\n"
     ]
    }
   ],
   "source": [
    "import clr\n",
    "\n",
    "from os.path import isfile\n",
    "\n",
    "print(isfile(\"\\\\Users\\\\manz616236\\\\Documents\\\\FaceReaderSDK\\\\FaceReaderSDK.dll\"))\n",
    "clr.AddReference(\"\\\\Users\\\\manz616236\\\\Documents\\\\FaceReaderSDK\\\\FaceReaderSDK.dll\")\n",
    "\n",
    "from VicarVision import FaceReader\n",
    "clr.AddReference('System.Drawing')\n",
    "from System import Drawing\n",
    "import json\n",
    "import glob\n",
    "from os import listdir\n",
    "from os.path import join, isfile\n",
    "FR = FaceReader.FaceReaderSDK(\"0CF99D\")\n",
    "import numpy as np\n",
    "import csv\n",
    "from tqdm import tqdm\n",
    "from collections.abc import Mapping"
   ]
  },
  {
   "cell_type": "markdown",
   "metadata": {},
   "source": [
    "### Read in all syndromic files and make the rep, save the rep to one big csv file\n"
   ]
  },
  {
   "cell_type": "raw",
   "metadata": {},
   "source": [
    "GENERAL_DIR = r\"H:\\Genetica Projecten\\Facial Recognition\\Studenten en Onderzoekers\\Fien\"\n",
    "syn_list = ['ADNP'] #, 'ANKRD11', 'CDK13', 'DEAF1', 'DYRK1A', 'EHMT1', 'FBXO11', 'SON', 'WAC', 'YY1', 'KDVS']\n",
    "\n",
    "syn_rep = []\n",
    "\n",
    "# for each syndrome\n",
    "for syn_name in syn_list:\n",
    "    syn_dir = GENERAL_DIR + \"\\\\{}\\\\{}-all-photos\".format(syn_name, syn_name)\n",
    "\n",
    "    # get list of filenames\n",
    "    files_syn = [f for f in listdir(syn_dir) if (isfile(join(syn_dir, f)) and \".jpg\" in f)]\n",
    "        \n",
    "    # for every image of this syndrome\n",
    "    for filename in tqdm(files_syn): \n",
    "        \n",
    "        # open file\n",
    "        FR.GrabCredits(1)        \n",
    "        bitmap = Drawing.Bitmap(join(syn_dir, filename))\n",
    "        try:\n",
    "            result = (FR.AnalyzeFace(bitmap))\n",
    "            result = json.loads(result.ToJson())\n",
    "        except:\n",
    "            print(\"An exception occurred\")\n",
    "            result = 'error'\n",
    "            syn_rep.append([filename] + np.zeros(93).tolist())\n",
    "\n",
    "        if isinstance(result, Mapping):\n",
    "            if result['FaceAnalyzed']:\n",
    "                print(result)\n",
    "                syn_rep.append([filename] + result['FaceVector'])  \n",
    "            else:\n",
    "                syn_rep.append([filename] + np.zeros(93).tolist())\n",
    "\n",
    "                ## read in landmarks as (510, 3)\n",
    "#                 landmarks = []\n",
    "#                 landmarks_dict = result['Landmarks3D']\n",
    "#                 for item in landmarks_dict:\n",
    "#                     landmarks.append([item['X'], item['Y'], item['Z']])\n",
    "#                 landmarks = np.array(landmarks)\n",
    "#                 print(landmarks.shape)\n",
    "\n",
    "# location to save representation\n",
    "csv_file_syn = GENERAL_DIR + \"\\\\features_facereader_patient_groups.csv\"\n",
    "\n",
    "# save representation of kdv patients\n",
    "with open(csv_file_syn, \"w\", newline=\"\") as f:\n",
    "    writer = csv.writer(f)\n",
    "    writer.writerows(syn_rep)\n",
    "    \n",
    "print(\"done writing\")"
   ]
  },
  {
   "cell_type": "markdown",
   "metadata": {},
   "source": [
    "### Read in all syndromic files and make the rep, save the rep to one big csv file\n"
   ]
  },
  {
   "cell_type": "raw",
   "metadata": {},
   "source": [
    "GENERAL_DIR = r\"H:\\Genetica Projecten\\Facial Recognition\\Studenten en Onderzoekers\\Fien\"\n",
    "\n",
    "ID_rep = []\n",
    "\n",
    "ID_dir = GENERAL_DIR + \"\\\\ID-controls\"\n",
    "\n",
    "# get list of filenames\n",
    "files_ID = [f for f in listdir(ID_dir) if (isfile(join(ID_dir, f)) and (\".jpg\" in f or \".JPG\" in f))]\n",
    "\n",
    "# for every image of this syndrome\n",
    "for filename in files_ID: \n",
    "\n",
    "    # open file\n",
    "    FR.GrabCredits(1)        \n",
    "    bitmap = Drawing.Bitmap(join(ID_dir, filename))\n",
    "    try:\n",
    "        result = (FR.AnalyzeFace(bitmap))\n",
    "        result = json.loads(result.ToJson())\n",
    "    except:\n",
    "        print(\"An exception occurred\")\n",
    "        result = 'error'\n",
    "        ID_rep.append([filename] + np.zeros(93).tolist())\n",
    "\n",
    "    if isinstance(result, Mapping):\n",
    "        if result['FaceAnalyzed']:\n",
    "            ID_rep.append([filename] + result['FaceVector'])  \n",
    "        else:\n",
    "            ID_rep.append([filename] + np.zeros(93).tolist())\n",
    "\n",
    "#        ID_rep.append([0,0,0,0,0,0])\n",
    "        \n",
    "print(len(files_ID))\n",
    "\n",
    "# location to save representation\n",
    "csv_file_ID = GENERAL_DIR + \"\\\\features_facereader_all_controls.csv\"\n",
    "\n",
    "\n",
    "# save representation of kdv patients\n",
    "with open(csv_file_ID, \"w\", newline=\"\") as f:\n",
    "    writer = csv.writer(f)\n",
    "    writer.writerows(ID_rep)\n",
    "\n",
    "print(\"done writing\")"
   ]
  },
  {
   "cell_type": "code",
   "execution_count": null,
   "metadata": {},
   "outputs": [],
   "source": []
  }
 ],
 "metadata": {
  "kernelspec": {
   "display_name": "Python 3",
   "language": "python",
   "name": "python3"
  },
  "language_info": {
   "codemirror_mode": {
    "name": "ipython",
    "version": 3
   },
   "file_extension": ".py",
   "mimetype": "text/x-python",
   "name": "python",
   "nbconvert_exporter": "python",
   "pygments_lexer": "ipython3",
   "version": "3.6.10"
  }
 },
 "nbformat": 4,
 "nbformat_minor": 4
}
