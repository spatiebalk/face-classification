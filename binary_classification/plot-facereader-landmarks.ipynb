{
 "cells": [
  {
   "cell_type": "code",
   "execution_count": 6,
   "metadata": {},
   "outputs": [],
   "source": [
    "from os.path import join, isfile\n",
    "from os import listdir\n",
    "from PIL import Image\n",
    "import numpy as np\n",
    "import matplotlib as mpl\n",
    "from mpl_toolkits.mplot3d import Axes3D\n",
    "import numpy as np\n",
    "import matplotlib.pyplot as plt\n",
    "import csv\n",
    "import itertools\n",
    "from scipy.spatial import distance\n",
    "from sklearn.ensemble import RandomForestClassifier"
   ]
  },
  {
   "cell_type": "code",
   "execution_count": 7,
   "metadata": {},
   "outputs": [],
   "source": [
    "import classifiers_general"
   ]
  },
  {
   "cell_type": "code",
   "execution_count": 8,
   "metadata": {},
   "outputs": [],
   "source": [
    "def get_distances(keypoints):\n",
    "    feats = []\n",
    "    combs = [comb for comb in itertools.combinations([*range(0, len(keypoints))], 2)]\n",
    "    for comb in combs:\n",
    "        a = comb[0]\n",
    "        b = comb[1]\n",
    "        \n",
    "        feats.append(distance.euclidean(keypoints[a], keypoints[b]))\n",
    "    \n",
    "    return feats"
   ]
  },
  {
   "cell_type": "markdown",
   "metadata": {},
   "source": [
    "## From landmark to all distances for syndromic files"
   ]
  },
  {
   "cell_type": "raw",
   "metadata": {},
   "source": [
    "GENERAL_DIR = r\"H:\\Genetica Projecten\\Facial Recognition\\Studenten en Onderzoekers\\Fien\"\n",
    "file = GENERAL_DIR+ \"\\\\features_facereader_landmarks_patient_groups.csv\"\n",
    "\n",
    "syn_rep = []\n",
    "\n",
    "with open(file, newline='') as csvfile:\n",
    "    reader = csv.reader(csvfile, delimiter=',')\n",
    "    for row in reader:\n",
    "        landmarks = []\n",
    "        i = 1\n",
    "        while i < len(row[1:]):\n",
    "            landmarks.append((float(row[i]), float(row[i+1]), float(row[i+2])))\n",
    "            i+=3    \n",
    "            \n",
    "        feats = get_distances(landmarks)\n",
    "        syn_rep.append([row[0]] + feats)\n",
    "        \n",
    "# location to save representation\n",
    "csv_file_syn = GENERAL_DIR+ \"\\\\features_facereader_landmarks_distances_patient_groups.csv\"\n",
    "\n",
    "# save representation of kdv patients\n",
    "with open(csv_file_syn, \"w\", newline=\"\") as f:\n",
    "    writer = csv.writer(f)\n",
    "    writer.writerows(syn_rep)"
   ]
  },
  {
   "cell_type": "markdown",
   "metadata": {},
   "source": [
    "## From landmark to all distances for control files"
   ]
  },
  {
   "cell_type": "raw",
   "metadata": {},
   "source": [
    "GENERAL_DIR = r\"H:\\Genetica Projecten\\Facial Recognition\\Studenten en Onderzoekers\\Fien\"\n",
    "file = GENERAL_DIR+ \"\\\\features_facereader_landmarks_all_controls.csv\"\n",
    "\n",
    "ID_rep = []\n",
    "\n",
    "with open(file, newline='') as csvfile:\n",
    "    reader = csv.reader(csvfile, delimiter=',')\n",
    "    for row in reader:\n",
    "        landmarks = []\n",
    "        i = 1\n",
    "        while i < len(row[1:]):\n",
    "            landmarks.append((float(row[i]), float(row[i+1]), float(row[i+2])))\n",
    "            i+=3    \n",
    "            \n",
    "        feats = get_distances(landmarks)\n",
    "        ID_rep.append([row[0]] + feats)\n",
    "        \n",
    "# location to save representation\n",
    "csv_file_ID = GENERAL_DIR+ \"\\\\features_facereader_landmarks_distances_all_controls.csv\"\n",
    "\n",
    "# save representation of kdv patients\n",
    "with open(csv_file_ID, \"w\", newline=\"\") as f:\n",
    "    writer = csv.writer(f)\n",
    "    writer.writerows(ID_rep)"
   ]
  },
  {
   "cell_type": "code",
   "execution_count": 9,
   "metadata": {},
   "outputs": [],
   "source": [
    "def get_important_features(syn_name, data_dir, data_combination, nr_feats): \n",
    "\n",
    "    if data_combination == 9: # facereader landmarks\n",
    "        method = \"facereader-landmarks-distances\"\n",
    "        syn_csv = data_dir+\"\\\\representations\\{}-patients-{}.csv\".format(syn_name, method)\n",
    "        ID_csv  = data_dir+\"\\\\representations\\ID-controls-{}.csv\".format(method)\n",
    "        data_fr, labels_fr = classifiers_general.read_rep(syn_name, syn_csv, ID_csv, data_dir)\n",
    "\n",
    "        data, labels  = [], []\n",
    "        for index, data_i in enumerate(data_fr):\n",
    "            if not all(v == 0 for v in data_i):\n",
    "                data.append(data_i) \n",
    "                labels.append(labels_fr[index])\n",
    "                \n",
    "        forest = RandomForestClassifier(n_estimators=10,random_state=0) # 10 has been found with best aroc scores\n",
    "        forest.fit(data, labels)\n",
    "        importances = forest.feature_importances_\n",
    "        std = np.std([tree.feature_importances_ for tree in forest.estimators_],axis=0)\n",
    "        indices = np.argsort(importances)[::-1]\n",
    "        important_indices = indices[0:nr_feats] \n",
    "        \n",
    "        print(sum(importances[important_indices]))\n",
    "\n",
    "        data2 = []\n",
    "        for row in data:\n",
    "            data2.append(np.array(row)[important_indices])                                \n",
    "        data = data2\n",
    "                \n",
    "    return np.array(data), np.array(labels),important_indices\n",
    "\n",
    "def get_keypoints_from_indices(indices):\n",
    "\n",
    "    combs = [comb for comb in itertools.combinations([*range(0, 510)], 2)]\n",
    "    keypoints = []\n",
    "    for index, comb in enumerate(combs):\n",
    "        if index in indices:\n",
    "                      \n",
    "            a = comb[0]\n",
    "            b = comb[1]\n",
    "            keypoints.append([a, b])\n",
    "        \n",
    "    return keypoints"
   ]
  },
  {
   "cell_type": "code",
   "execution_count": 10,
   "metadata": {},
   "outputs": [],
   "source": [
    "def fr_plot(patient, GENERAL_DIR):\n",
    "    face_x = []\n",
    "    face_y = []\n",
    "    face_z = []\n",
    "\n",
    "    \n",
    "    file = GENERAL_DIR + \"\\\\features_facereader_landmarks_patient_groups.csv\"\n",
    "    print(file)\n",
    "    with open(file, newline='') as csvfile:\n",
    "        reader = csv.reader(csvfile, delimiter=',')\n",
    "        for row in reader:\n",
    "            if patient in row[0]:\n",
    "                print(row[0])\n",
    "                indexed_keypoints = []\n",
    "                i = 1\n",
    "                while i < len(row[1:]):\n",
    "                    indexed_keypoints.append([float(row[i]), float(row[i+1]), float(row[i+2])])\n",
    "                    face_x.append(float(row[i]))\n",
    "                    face_y.append(float(row[i+1]))\n",
    "                    face_z.append(float(row[i+2]))\n",
    "                    i+=3    \n",
    "                break\n",
    "    face_x = np.array(face_x)\n",
    "    face_y = np.array(face_y)\n",
    "    face_z = np.array(face_z)\n",
    "    return face_x, face_y, face_z, indexed_keypoints"
   ]
  },
  {
   "cell_type": "code",
   "execution_count": 11,
   "metadata": {},
   "outputs": [],
   "source": [
    "def get_patient_keypoints(important_keypoints, indexed_keypoints):\n",
    "    \n",
    "    keypoints3D = []\n",
    "        \n",
    "    for [a, b] in important_keypoints:\n",
    "        \n",
    "        keypoints3D.append([indexed_keypoints[a], indexed_keypoints[b]])\n",
    "        \n",
    "        \n",
    "    return keypoints3D"
   ]
  },
  {
   "cell_type": "code",
   "execution_count": 13,
   "metadata": {},
   "outputs": [
    {
     "name": "stdout",
     "output_type": "stream",
     "text": [
      "H:\\Genetica Projecten\\Facial Recognition\\Studenten en Onderzoekers\\Fien\\features_facereader_landmarks_patient_groups.csv\n",
      "KDVS_1.jpg\n"
     ]
    }
   ],
   "source": [
    "syn_name = 'KDVS'\n",
    "patient = 'KDVS_1.jpg'\n",
    "GENERAL_DIR = r\"H:\\Genetica Projecten\\Facial Recognition\\Studenten en Onderzoekers\\Fien\"\n",
    "\n",
    "x, y, z, indexed_keypoints = fr_plot(patient, GENERAL_DIR)\n",
    "\n",
    "data_dir = GENERAL_DIR + \"\\\\{}\".format(syn_name) \n",
    "nr_feats = 10\n",
    "\n",
    "# _, _, indices = get_important_features(syn_name, data_dir, 9, nr_feats)\n",
    "# important_keypoints = get_keypoints_from_indices(indices)\n",
    "# keypoints_3d = get_patient_keypoints(important_keypoints, indexed_keypoints)\n",
    "\n"
   ]
  },
  {
   "cell_type": "code",
   "execution_count": 14,
   "metadata": {},
   "outputs": [
    {
     "ename": "ModuleNotFoundError",
     "evalue": "No module named 'plotly'",
     "output_type": "error",
     "traceback": [
      "\u001b[1;31m---------------------------------------------------------------------------\u001b[0m",
      "\u001b[1;31mModuleNotFoundError\u001b[0m                       Traceback (most recent call last)",
      "\u001b[1;32m<ipython-input-14-554d43e23bbe>\u001b[0m in \u001b[0;36m<module>\u001b[1;34m\u001b[0m\n\u001b[0;32m      1\u001b[0m \u001b[0mget_ipython\u001b[0m\u001b[1;33m(\u001b[0m\u001b[1;33m)\u001b[0m\u001b[1;33m.\u001b[0m\u001b[0mrun_line_magic\u001b[0m\u001b[1;33m(\u001b[0m\u001b[1;34m'matplotlib'\u001b[0m\u001b[1;33m,\u001b[0m \u001b[1;34m'notebook'\u001b[0m\u001b[1;33m)\u001b[0m\u001b[1;33m\u001b[0m\u001b[1;33m\u001b[0m\u001b[0m\n\u001b[1;32m----> 2\u001b[1;33m \u001b[1;32mimport\u001b[0m \u001b[0mplotly\u001b[0m\u001b[1;33m.\u001b[0m\u001b[0mgraph_objects\u001b[0m \u001b[1;32mas\u001b[0m \u001b[0mgo\u001b[0m\u001b[1;33m\u001b[0m\u001b[1;33m\u001b[0m\u001b[0m\n\u001b[0m\u001b[0;32m      3\u001b[0m \u001b[1;32mfrom\u001b[0m \u001b[0mscipy\u001b[0m\u001b[1;33m.\u001b[0m\u001b[0mspatial\u001b[0m \u001b[1;32mimport\u001b[0m \u001b[0mDelaunay\u001b[0m\u001b[1;33m\u001b[0m\u001b[1;33m\u001b[0m\u001b[0m\n\u001b[0;32m      4\u001b[0m \u001b[1;33m\u001b[0m\u001b[0m\n\u001b[0;32m      5\u001b[0m \u001b[0mfig\u001b[0m \u001b[1;33m=\u001b[0m \u001b[0mplt\u001b[0m\u001b[1;33m.\u001b[0m\u001b[0mfigure\u001b[0m\u001b[1;33m(\u001b[0m\u001b[0mfigsize\u001b[0m\u001b[1;33m=\u001b[0m\u001b[1;33m(\u001b[0m\u001b[1;36m12\u001b[0m\u001b[1;33m,\u001b[0m\u001b[1;36m12\u001b[0m\u001b[1;33m)\u001b[0m\u001b[1;33m)\u001b[0m\u001b[1;33m\u001b[0m\u001b[1;33m\u001b[0m\u001b[0m\n",
      "\u001b[1;31mModuleNotFoundError\u001b[0m: No module named 'plotly'"
     ]
    }
   ],
   "source": [
    "%matplotlib notebook\n",
    "import plotly.graph_objects as go\n",
    "from scipy.spatial import Delaunay\n",
    "\n",
    "fig = plt.figure(figsize=(12,12))\n",
    "ax = fig.gca(projection='3d')\n",
    "ax.scatter(x, z, y, s = 5, label=patient)\n",
    "\n",
    "item = 1\n",
    "# for [[a, b, c], [x, y, z]] in keypoints_3d:\n",
    "#     ax.plot([a,x], [c, z], [b,y], label = item)\n",
    "#     item += 1\n",
    "\n",
    "ax.legend()\n",
    "plt.show()\n"
   ]
  },
  {
   "cell_type": "code",
   "execution_count": null,
   "metadata": {},
   "outputs": [],
   "source": [
    "# pts3d = np.vstack((x, y, z)).T\n",
    "# pts2d = pts3d[:, :2]\n",
    "# tri =   Delaunay(pts2d)\n",
    "# i, j, k = tri.simplices.T  #tri.simplices (faces) is an array of integers of shape (no_triangles, 3)\n",
    "\n",
    "# fig = go.Figure(go.Mesh3d(x=x, y=y, z=z,\n",
    "#                           i=i, j=j, k=k,#intensity=z, \n",
    "#                           #colorscale='matter_r', \n",
    "#                           flatshading=True))\n",
    "# fig.show()"
   ]
  },
  {
   "cell_type": "code",
   "execution_count": null,
   "metadata": {},
   "outputs": [],
   "source": []
  }
 ],
 "metadata": {
  "kernelspec": {
   "display_name": "Python 3",
   "language": "python",
   "name": "python3"
  },
  "language_info": {
   "codemirror_mode": {
    "name": "ipython",
    "version": 3
   },
   "file_extension": ".py",
   "mimetype": "text/x-python",
   "name": "python",
   "nbconvert_exporter": "python",
   "pygments_lexer": "ipython3",
   "version": "3.7.7"
  }
 },
 "nbformat": 4,
 "nbformat_minor": 4
}
