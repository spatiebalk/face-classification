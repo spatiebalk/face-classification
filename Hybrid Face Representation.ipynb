{
 "cells": [
  {
   "cell_type": "code",
   "execution_count": 1,
   "metadata": {},
   "outputs": [],
   "source": [
    "# Hybrid model van Roos namaken\n",
    "# Combinatie van OpenFace (FaceNet) en CFPS\n",
    "\n",
    "\n",
    "# Face representatie uit gezichten halen\n",
    "\n",
    "\n",
    "# Test set uit Labelled Faces in the Wild voor pipeline\n",
    "\n"
   ]
  },
  {
   "cell_type": "code",
   "execution_count": 1,
   "metadata": {},
   "outputs": [],
   "source": [
    "import time\n",
    "\n",
    "start = time.time()\n",
    "\n",
    "import argparse\n",
    "import cv2\n",
    "import itertools\n",
    "import os\n",
    "\n",
    "import numpy as np\n",
    "np.set_printoptions(precision=2)\n",
    "\n",
    "import openface\n",
    "import dlib"
   ]
  },
  {
   "cell_type": "code",
   "execution_count": 2,
   "metadata": {},
   "outputs": [
    {
     "name": "stdout",
     "output_type": "stream",
     "text": [
      "Argument parsing and loading libraries took 35.308371067 seconds.\n",
      "True\n"
     ]
    }
   ],
   "source": [
    "# From https://github.com/cmusatyalab/openface/blob/master/demos/compare.py\n",
    "\n",
    "# fileDir = r\"C:\\Users\\Fien\\Documents\\Universiteit\\M2\\AI-Thesis\\openface\" # os.path.dirname(os.path.realpath(__file__))\n",
    "# modelDir = os.path.join(fileDir, '\\models')\n",
    "# dlibModelDir = os.path.join(modelDir, '\\dlib')\n",
    "# openfaceModelDir = os.path.join(modelDir, '\\openface')\n",
    "# modelDir = r\"C:\\Users\\Fien\\Documents\\Universiteit\\M2\\AI-Thesis\\openface\\models\"\n",
    "# dlibModelDir = r\"C:\\Users\\Fien\\Documents\\Universiteit\\M2\\AI-Thesis\\openface\\models\\dlib\"\n",
    "# openfaceModelDir = r\"C:\\Users\\Fien\\Documents\\Universiteit\\M2\\AI-Thesis\\openface\\models\\openface\"\n",
    "\n",
    "imgs = [] # input images\n",
    "dlibFacePredictor = \"/home/fien/openface/models/dlib/shape_predictor_68_face_landmarks.dat\"\n",
    "networkModel = \"/home/fien/openface/models/openface/nn4.small2.v1.t7\"\n",
    "# networkModel = os.path.join(openfaceModelDir, \"/openface.nn4.small2.v1.t7\")\n",
    "# networkModel = r\"C:\\Users\\Fien\\Documents\\Universiteit\\M2\\AI-Thesis\\openface\\models\\openface\\openface.nn4.small2.v1.t7\"\n",
    "\n",
    "imgDim = 96\n",
    "verbose = True\n",
    "\n",
    "if verbose:\n",
    "    print(\"Argument parsing and loading libraries took {} seconds.\".format(\n",
    "        time.time() - start))\n",
    "\n",
    "start = time.time()\n",
    "align = openface.AlignDlib(dlibFacePredictor)\n",
    "net = openface.TorchNeuralNet(networkModel, imgDim)\n",
    "   \n",
    "    \n",
    "if verbose:\n",
    "    print(\"Loading the dlib and OpenFace models took {} seconds.\".format(\n",
    "        time.time() - start))"
   ]
  },
  {
   "cell_type": "code",
   "execution_count": 3,
   "metadata": {},
   "outputs": [],
   "source": [
    "def getRep(imgPath):\n",
    "    if verbose:\n",
    "        print(\"Processing {}.\".format(imgPath))\n",
    "    bgrImg = cv2.imread(imgPath)\n",
    "    if bgrImg is None:\n",
    "        raise Exception(\"Unable to load image: {}\".format(imgPath))\n",
    "    rgbImg = cv2.cvtColor(bgrImg, cv2.COLOR_BGR2RGB)\n",
    "\n",
    "    if verbose:\n",
    "        print(\"  + Original size: {}\".format(rgbImg.shape))\n",
    "\n",
    "    start = time.time()\n",
    "    bb = align.getLargestFaceBoundingBox(rgbImg)\n",
    "    if bb is None:\n",
    "        raise Exception(\"Unable to find a face: {}\".format(imgPath))\n",
    "    if verbose:\n",
    "        print(\"  + Face detection took {} seconds.\".format(time.time() - start))\n",
    "\n",
    "    start = time.time()\n",
    "    alignedFace = align.align(args.imgDim, rgbImg, bb,\n",
    "                              landmarkIndices=openface.AlignDlib.OUTER_EYES_AND_NOSE)\n",
    "    if alignedFace is None:\n",
    "        raise Exception(\"Unable to align image: {}\".format(imgPath))\n",
    "    if verbose:\n",
    "        print(\"  + Face alignment took {} seconds.\".format(time.time() - start))\n",
    "\n",
    "    start = time.time()\n",
    "    rep = net.forward(alignedFace)\n",
    "    if verbose:\n",
    "        print(\"  + OpenFace forward pass took {} seconds.\".format(time.time() - start))\n",
    "        print(\"Representation:\")\n",
    "        print(rep)\n",
    "        print(\"-----\\n\")\n",
    "    return rep"
   ]
  },
  {
   "cell_type": "code",
   "execution_count": null,
   "metadata": {},
   "outputs": [],
   "source": [
    "img1 = \n",
    "img2 = \n",
    "\n",
    "for (img1, img2) in itertools.combinations(args.imgs, 2):\n",
    "    d = getRep(img1) - getRep(img2)\n",
    "    print(\"Comparing {} with {}.\".format(img1, img2))\n",
    "    print(\n",
    "        \"  + Squared l2 distance between representations: {:0.3f}\".format(np.dot(d, d)))"
   ]
  },
  {
   "cell_type": "code",
   "execution_count": null,
   "metadata": {},
   "outputs": [],
   "source": []
  }
 ],
 "metadata": {
  "kernelspec": {
   "display_name": "Python 2",
   "language": "python",
   "name": "python2"
  },
  "language_info": {
   "codemirror_mode": {
    "name": "ipython",
    "version": 2
   },
   "file_extension": ".py",
   "mimetype": "text/x-python",
   "name": "python",
   "nbconvert_exporter": "python",
   "pygments_lexer": "ipython2",
   "version": "2.7.17"
  }
 },
 "nbformat": 4,
 "nbformat_minor": 4
}
