{
 "cells": [
  {
   "cell_type": "code",
   "execution_count": 1,
   "metadata": {},
   "outputs": [],
   "source": [
    "import time"
   ]
  },
  {
   "cell_type": "code",
   "execution_count": 2,
   "metadata": {},
   "outputs": [
    {
     "name": "stderr",
     "output_type": "stream",
     "text": [
      "Using TensorFlow backend.\n"
     ]
    }
   ],
   "source": [
    "import ID_control_selection\n",
    "import save_representations\n",
    "import classifiers_general"
   ]
  },
  {
   "cell_type": "code",
   "execution_count": 3,
   "metadata": {},
   "outputs": [
    {
     "name": "stdout",
     "output_type": "stream",
     "text": [
      "Complete pipeline took 0.00 hours\n"
     ]
    }
   ],
   "source": [
    "# entire pipeline\n",
    "\n",
    "\n",
    "GENERAL_DIR = r\"H:\\Genetica Projecten\\Facial Recognition\\Studenten en Onderzoekers\\Fien\" \n",
    "syn_list = ['KDVS','ADNP', 'ANKRD11', 'CDK13', 'DEAF1', 'DYRK1A', 'EHMT1', 'FBXO11', 'SON', 'WAC', 'YY1']  # SPOP\n",
    "\n",
    "trial_nr = 5\n",
    "\n",
    "start = time.time()\n",
    "\n",
    "# step 1: for each syndrome select fitting controls (age/gender), randomly if there are multiple suitable controls\n",
    "ID_control_selection.main(GENERAL_DIR, syn_list, trial_nr)\n",
    "\n",
    "# step 2: for each syndrome save the representation of the patient and control group to seperate csv files\n",
    "save_representations.main(GENERAL_DIR, syn_list)\n",
    "\n",
    "# step 3: for each syndrome, try 5 classifiers and 8 different data combinations, save the results to a txt\n",
    "classifiers_general.main(GENERAL_DIR, syn_list, trial_nr)\n",
    "\n",
    "end = time.time()\n",
    "\n",
    "print(\"Complete pipeline took {:.2f} hours\".format((end-start)/3600))\n",
    "\n"
   ]
  }
 ],
 "metadata": {
  "kernelspec": {
   "display_name": "Python 3",
   "language": "python",
   "name": "python3"
  },
  "language_info": {
   "codemirror_mode": {
    "name": "ipython",
    "version": 3
   },
   "file_extension": ".py",
   "mimetype": "text/x-python",
   "name": "python",
   "nbconvert_exporter": "python",
   "pygments_lexer": "ipython3",
   "version": "3.6.10"
  }
 },
 "nbformat": 4,
 "nbformat_minor": 4
}
