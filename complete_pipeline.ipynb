{
 "cells": [
  {
   "cell_type": "code",
   "execution_count": 1,
   "metadata": {},
   "outputs": [],
   "source": [
    "import time"
   ]
  },
  {
   "cell_type": "code",
   "execution_count": 2,
   "metadata": {},
   "outputs": [
    {
     "name": "stderr",
     "output_type": "stream",
     "text": [
      "Using TensorFlow backend.\n"
     ]
    }
   ],
   "source": [
    "import ID_control_selection\n",
    "import save_representations\n",
    "import classifiers_general"
   ]
  },
  {
   "cell_type": "code",
   "execution_count": 3,
   "metadata": {},
   "outputs": [
    {
     "name": "stderr",
     "output_type": "stream",
     "text": [
      "\r",
      "  0%|                                                   | 0/11 [00:00<?, ?it/s]"
     ]
    },
    {
     "name": "stdout",
     "output_type": "stream",
     "text": [
      "Selecting controls for trial 5 \n",
      "for syndromens: ['KDVS', 'ADNP', 'ANKRD11', 'CDK13', 'DEAF1', 'DYRK1A', 'EHMT1', 'FBXO11', 'SON', 'WAC', 'YY1']\n",
      "For patient KDVS_22, gender: F, age: 46\n",
      "No match found within 6 and -6 years\n",
      "Done finding all ID controls.\n",
      "Syndrome KDVS \n",
      "Shape of patient data (74, 3), shape of control data (74, 4)\n",
      "Done saving ID files.\n",
      "Done saving syndrome files.\n"
     ]
    },
    {
     "name": "stderr",
     "output_type": "stream",
     "text": [
      "\r",
      "  9%|███▉                                       | 1/11 [01:05<10:59, 65.94s/it]"
     ]
    },
    {
     "name": "stdout",
     "output_type": "stream",
     "text": [
      "For patient ADNP_39, gender: F, age: 85.0\n",
      "No match found within 6 and -6 years\n",
      "Done finding all ID controls.\n",
      "Syndrome ADNP \n",
      "Shape of patient data (27, 3), shape of control data (27, 4)\n",
      "Done saving ID files.\n"
     ]
    },
    {
     "name": "stderr",
     "output_type": "stream",
     "text": [
      "\r",
      " 18%|███████▊                                   | 2/11 [01:17<07:27, 49.68s/it]"
     ]
    },
    {
     "name": "stdout",
     "output_type": "stream",
     "text": [
      "Done saving syndrome files.\n",
      "For patient ANKRD11_19, gender: F, age: 38.0\n",
      "No match found within 6 and -6 years\n",
      "Done finding all ID controls.\n",
      "Syndrome ANKRD11 \n",
      "Shape of patient data (24, 3), shape of control data (24, 4)\n",
      "Done saving ID files.\n"
     ]
    },
    {
     "name": "stderr",
     "output_type": "stream",
     "text": [
      "\r",
      " 27%|███████████▋                               | 3/11 [01:35<05:20, 40.10s/it]"
     ]
    },
    {
     "name": "stdout",
     "output_type": "stream",
     "text": [
      "Done saving syndrome files.\n",
      "Done finding all ID controls.\n",
      "Syndrome CDK13 \n",
      "Shape of patient data (29, 3), shape of control data (29, 4)\n",
      "Done saving ID files.\n"
     ]
    },
    {
     "name": "stderr",
     "output_type": "stream",
     "text": [
      "\r",
      " 36%|███████████████▋                           | 4/11 [01:43<03:32, 30.37s/it]"
     ]
    },
    {
     "name": "stdout",
     "output_type": "stream",
     "text": [
      "Done saving syndrome files.\n",
      "Done finding all ID controls.\n",
      "Syndrome DEAF1 \n",
      "Shape of patient data (20, 3), shape of control data (20, 4)\n",
      "Done saving ID files.\n"
     ]
    },
    {
     "name": "stderr",
     "output_type": "stream",
     "text": [
      "\r",
      " 45%|███████████████████▌                       | 5/11 [01:48<02:17, 22.84s/it]"
     ]
    },
    {
     "name": "stdout",
     "output_type": "stream",
     "text": [
      "Done saving syndrome files.\n",
      "Done finding all ID controls.\n",
      "Syndrome DYRK1A \n",
      "Shape of patient data (15, 3), shape of control data (15, 4)\n",
      "Done saving ID files.\n"
     ]
    },
    {
     "name": "stderr",
     "output_type": "stream",
     "text": [
      "\r",
      " 55%|███████████████████████▍                   | 6/11 [01:53<01:27, 17.54s/it]"
     ]
    },
    {
     "name": "stdout",
     "output_type": "stream",
     "text": [
      "Done saving syndrome files.\n",
      "For patient EHMT1_20, gender: F, age: 41.0\n",
      "No match found within 6 and -6 years\n",
      "Done finding all ID controls.\n",
      "Syndrome EHMT1 \n",
      "Shape of patient data (38, 3), shape of control data (38, 4)\n",
      "Done saving ID files.\n"
     ]
    },
    {
     "name": "stderr",
     "output_type": "stream",
     "text": [
      "\r",
      " 64%|███████████████████████████▎               | 7/11 [02:15<01:14, 18.75s/it]"
     ]
    },
    {
     "name": "stdout",
     "output_type": "stream",
     "text": [
      "Done saving syndrome files.\n",
      "For patient FBXO11_7, gender: Female, age: 7.0\n",
      "No match found within 6 and -6 years\n",
      "Done finding all ID controls.\n",
      "Syndrome FBXO11 \n",
      "Shape of patient data (18, 3), shape of control data (18, 4)\n",
      "Done saving ID files.\n"
     ]
    },
    {
     "name": "stderr",
     "output_type": "stream",
     "text": [
      "\r",
      " 73%|███████████████████████████████▎           | 8/11 [02:37<00:59, 19.77s/it]"
     ]
    },
    {
     "name": "stdout",
     "output_type": "stream",
     "text": [
      "Done saving syndrome files.\n",
      "Done finding all ID controls.\n",
      "Syndrome SON \n",
      "Shape of patient data (19, 3), shape of control data (19, 4)\n",
      "Done saving ID files.\n"
     ]
    },
    {
     "name": "stderr",
     "output_type": "stream",
     "text": [
      "\r",
      " 82%|███████████████████████████████████▏       | 9/11 [02:54<00:37, 18.95s/it]"
     ]
    },
    {
     "name": "stdout",
     "output_type": "stream",
     "text": [
      "Done saving syndrome files.\n",
      "Done finding all ID controls.\n",
      "Syndrome WAC \n",
      "Shape of patient data (14, 3), shape of control data (14, 4)\n",
      "Done saving ID files.\n"
     ]
    },
    {
     "name": "stderr",
     "output_type": "stream",
     "text": [
      "\r",
      " 91%|██████████████████████████████████████▏   | 10/11 [03:09<00:17, 17.89s/it]"
     ]
    },
    {
     "name": "stdout",
     "output_type": "stream",
     "text": [
      "Done saving syndrome files.\n",
      "Done finding all ID controls.\n",
      "Syndrome YY1 \n",
      "Shape of patient data (12, 3), shape of control data (12, 4)\n",
      "Done saving ID files.\n"
     ]
    },
    {
     "name": "stderr",
     "output_type": "stream",
     "text": [
      "100%|██████████████████████████████████████████| 11/11 [03:24<00:00, 18.60s/it]\n",
      "  0%|                                                   | 0/11 [00:00<?, ?it/s]"
     ]
    },
    {
     "name": "stdout",
     "output_type": "stream",
     "text": [
      "Done saving syndrome files.\n",
      "Done running ID_control_selection.py\n",
      "Syn_reps: 69, ID_reps: 69\n",
      "Done with saving all openface representations for KDVS.\n",
      "Syn_reps: 69, ID_reps: 69\n",
      "Done with saving all cfps representations for KDVS.\n",
      "Syn_reps: 74, ID_reps: 74\n",
      "Done with saving all deepface representations for KDVS.\n",
      "No face found\n",
      "H:\\Genetica Projecten\\Facial Recognition\\Studenten en Onderzoekers\\Fien\\KDVS\\KDVS-patients\\KDVS_25.jpg\n",
      "No face found\n",
      "H:\\Genetica Projecten\\Facial Recognition\\Studenten en Onderzoekers\\Fien\\KDVS\\KDVS-patients\\KDVS_34.jpg\n",
      "Syn_reps: 74, ID_reps: 74\n",
      "Done with saving all dlib representations for KDVS.\n",
      "Syn_reps: 74, ID_reps: 74\n"
     ]
    },
    {
     "name": "stderr",
     "output_type": "stream",
     "text": [
      "\r",
      "  9%|███▊                                      | 1/11 [01:49<18:11, 109.20s/it]"
     ]
    },
    {
     "name": "stdout",
     "output_type": "stream",
     "text": [
      "Done with saving all facereader representations for KDVS.\n",
      "Syn_reps: 23, ID_reps: 23\n",
      "Done with saving all openface representations for ADNP.\n",
      "Syn_reps: 23, ID_reps: 23\n",
      "Done with saving all cfps representations for ADNP.\n",
      "Syn_reps: 27, ID_reps: 27\n",
      "Done with saving all deepface representations for ADNP.\n",
      "No face found\n",
      "H:\\Genetica Projecten\\Facial Recognition\\Studenten en Onderzoekers\\Fien\\ADNP\\ADNP-patients\\ADNP_50.jpg\n",
      "Syn_reps: 27, ID_reps: 27\n"
     ]
    },
    {
     "name": "stderr",
     "output_type": "stream",
     "text": [
      "\r",
      " 18%|███████▊                                   | 2/11 [02:55<14:27, 96.42s/it]"
     ]
    },
    {
     "name": "stdout",
     "output_type": "stream",
     "text": [
      "Done with saving all dlib representations for ADNP.\n",
      "Syn_reps: 27, ID_reps: 27\n",
      "Done with saving all facereader representations for ADNP.\n",
      "Syn_reps: 21, ID_reps: 21\n",
      "Done with saving all openface representations for ANKRD11.\n",
      "Syn_reps: 15, ID_reps: 15\n",
      "Done with saving all cfps representations for ANKRD11.\n",
      "Syn_reps: 24, ID_reps: 24\n",
      "Done with saving all deepface representations for ANKRD11.\n",
      "Syn_reps: 24, ID_reps: 24\n"
     ]
    },
    {
     "name": "stderr",
     "output_type": "stream",
     "text": [
      "\r",
      " 27%|███████████▋                               | 3/11 [04:02<11:39, 87.49s/it]"
     ]
    },
    {
     "name": "stdout",
     "output_type": "stream",
     "text": [
      "Done with saving all dlib representations for ANKRD11.\n",
      "Syn_reps: 24, ID_reps: 24\n",
      "Done with saving all facereader representations for ANKRD11.\n",
      "Syn_reps: 19, ID_reps: 19\n",
      "Done with saving all openface representations for CDK13.\n",
      "Syn_reps: 19, ID_reps: 19\n",
      "Done with saving all cfps representations for CDK13.\n",
      "Syn_reps: 29, ID_reps: 29\n",
      "Done with saving all deepface representations for CDK13.\n",
      "No face found\n",
      "H:\\Genetica Projecten\\Facial Recognition\\Studenten en Onderzoekers\\Fien\\CDK13\\CDK13-patients\\CDK13_41.jpg\n",
      "Syn_reps: 29, ID_reps: 29\n"
     ]
    },
    {
     "name": "stderr",
     "output_type": "stream",
     "text": [
      "\r",
      " 36%|███████████████▋                           | 4/11 [05:10<09:32, 81.74s/it]"
     ]
    },
    {
     "name": "stdout",
     "output_type": "stream",
     "text": [
      "Done with saving all dlib representations for CDK13.\n",
      "Syn_reps: 29, ID_reps: 29\n",
      "Done with saving all facereader representations for CDK13.\n",
      "Syn_reps: 17, ID_reps: 17\n",
      "Done with saving all openface representations for DEAF1.\n",
      "Syn_reps: 17, ID_reps: 17\n",
      "Done with saving all cfps representations for DEAF1.\n",
      "Syn_reps: 20, ID_reps: 20\n",
      "Done with saving all deepface representations for DEAF1.\n",
      "Syn_reps: 20, ID_reps: 20\n"
     ]
    },
    {
     "name": "stderr",
     "output_type": "stream",
     "text": [
      "\r",
      " 45%|███████████████████▌                       | 5/11 [06:13<07:35, 75.92s/it]"
     ]
    },
    {
     "name": "stdout",
     "output_type": "stream",
     "text": [
      "Done with saving all dlib representations for DEAF1.\n",
      "Syn_reps: 20, ID_reps: 20\n",
      "Done with saving all facereader representations for DEAF1.\n",
      "Syn_reps: 11, ID_reps: 11\n",
      "Done with saving all openface representations for DYRK1A.\n",
      "Syn_reps: 11, ID_reps: 11\n",
      "Done with saving all cfps representations for DYRK1A.\n",
      "Syn_reps: 15, ID_reps: 15\n",
      "Done with saving all deepface representations for DYRK1A.\n",
      "No face found\n",
      "H:\\Genetica Projecten\\Facial Recognition\\Studenten en Onderzoekers\\Fien\\DYRK1A\\DYRK1A-patients\\DYRK1A_7.jpg\n",
      "Syn_reps: 15, ID_reps: 15\n"
     ]
    },
    {
     "name": "stderr",
     "output_type": "stream",
     "text": [
      "\r",
      " 55%|███████████████████████▍                   | 6/11 [07:12<05:55, 71.09s/it]"
     ]
    },
    {
     "name": "stdout",
     "output_type": "stream",
     "text": [
      "Done with saving all dlib representations for DYRK1A.\n",
      "Syn_reps: 15, ID_reps: 15\n",
      "Done with saving all facereader representations for DYRK1A.\n",
      "Syn_reps: 15, ID_reps: 15\n",
      "Done with saving all openface representations for EHMT1.\n",
      "Syn_reps: 15, ID_reps: 15\n",
      "Done with saving all cfps representations for EHMT1.\n",
      "Syn_reps: 38, ID_reps: 38\n",
      "Done with saving all deepface representations for EHMT1.\n",
      "Syn_reps: 38, ID_reps: 38\n"
     ]
    },
    {
     "name": "stderr",
     "output_type": "stream",
     "text": [
      "\r",
      " 64%|███████████████████████████▎               | 7/11 [08:25<04:45, 71.49s/it]"
     ]
    },
    {
     "name": "stdout",
     "output_type": "stream",
     "text": [
      "Done with saving all dlib representations for EHMT1.\n",
      "Syn_reps: 38, ID_reps: 38\n",
      "Done with saving all facereader representations for EHMT1.\n",
      "Syn_reps: 16, ID_reps: 16\n",
      "Done with saving all openface representations for FBXO11.\n",
      "Syn_reps: 16, ID_reps: 16\n",
      "Done with saving all cfps representations for FBXO11.\n",
      "Syn_reps: 18, ID_reps: 18\n",
      "Done with saving all deepface representations for FBXO11.\n",
      "Syn_reps: 18, ID_reps: 18\n"
     ]
    },
    {
     "name": "stderr",
     "output_type": "stream",
     "text": [
      "\r",
      " 73%|███████████████████████████████▎           | 8/11 [09:30<03:28, 69.47s/it]"
     ]
    },
    {
     "name": "stdout",
     "output_type": "stream",
     "text": [
      "Done with saving all dlib representations for FBXO11.\n",
      "Syn_reps: 18, ID_reps: 18\n",
      "Done with saving all facereader representations for FBXO11.\n",
      "Syn_reps: 19, ID_reps: 19\n",
      "Done with saving all openface representations for SON.\n",
      "Syn_reps: 19, ID_reps: 19\n",
      "Done with saving all cfps representations for SON.\n",
      "Syn_reps: 19, ID_reps: 19\n",
      "Done with saving all deepface representations for SON.\n",
      "Syn_reps: 19, ID_reps: 19\n"
     ]
    },
    {
     "name": "stderr",
     "output_type": "stream",
     "text": [
      "\r",
      " 82%|███████████████████████████████████▏       | 9/11 [10:32<02:14, 67.49s/it]"
     ]
    },
    {
     "name": "stdout",
     "output_type": "stream",
     "text": [
      "Done with saving all dlib representations for SON.\n",
      "Syn_reps: 19, ID_reps: 19\n",
      "Done with saving all facereader representations for SON.\n",
      "Syn_reps: 5, ID_reps: 5\n",
      "Done with saving all openface representations for WAC.\n",
      "Syn_reps: 5, ID_reps: 5\n",
      "Done with saving all cfps representations for WAC.\n",
      "Syn_reps: 14, ID_reps: 14\n",
      "Done with saving all deepface representations for WAC.\n",
      "Syn_reps: 14, ID_reps: 14\n"
     ]
    },
    {
     "name": "stderr",
     "output_type": "stream",
     "text": [
      "\r",
      " 91%|██████████████████████████████████████▏   | 10/11 [11:37<01:06, 66.53s/it]"
     ]
    },
    {
     "name": "stdout",
     "output_type": "stream",
     "text": [
      "Done with saving all dlib representations for WAC.\n",
      "Syn_reps: 14, ID_reps: 14\n",
      "Done with saving all facereader representations for WAC.\n",
      "Syn_reps: 12, ID_reps: 12\n",
      "Done with saving all openface representations for YY1.\n",
      "Syn_reps: 12, ID_reps: 12\n",
      "Done with saving all cfps representations for YY1.\n",
      "Syn_reps: 12, ID_reps: 12\n",
      "Done with saving all deepface representations for YY1.\n",
      "Syn_reps: 12, ID_reps: 12\n"
     ]
    },
    {
     "name": "stderr",
     "output_type": "stream",
     "text": [
      "100%|██████████████████████████████████████████| 11/11 [12:38<00:00, 68.97s/it]"
     ]
    },
    {
     "name": "stdout",
     "output_type": "stream",
     "text": [
      "Done with saving all dlib representations for YY1.\n",
      "Syn_reps: 12, ID_reps: 12\n",
      "Done with saving all facereader representations for YY1.\n",
      "Done running save_representations.py\n",
      "Syndrome that will be classified: KDVS \n",
      "\n",
      "\n",
      "0: Classifying data with deepface representation\n",
      "\n",
      "\n"
     ]
    },
    {
     "name": "stderr",
     "output_type": "stream",
     "text": [
      "\n",
      "  0%|                                                    | 0/5 [00:00<?, ?it/s]"
     ]
    },
    {
     "name": "stdout",
     "output_type": "stream",
     "text": [
      "Data shape: (148, 4096) and labels shape: (148,)\n"
     ]
    },
    {
     "name": "stderr",
     "output_type": "stream",
     "text": [
      "100%|████████████████████████████████████████████| 5/5 [02:28<00:00, 29.72s/it]\n",
      "100%|███████████████████████████████████████████| 4/4 [18:02<00:00, 270.56s/it]\n",
      "100%|████████████████████████████████████████████| 4/4 [01:34<00:00, 23.66s/it]\n",
      "100%|███████████████████████████████████████████| 4/4 [46:25<00:00, 696.41s/it]\n",
      "100%|███████████████████████████████████████████| 4/4 [22:52<00:00, 343.22s/it]\n"
     ]
    },
    {
     "name": "stdout",
     "output_type": "stream",
     "text": [
      "1: Classifying data with dlib representation\n",
      "\n",
      "\n"
     ]
    },
    {
     "name": "stderr",
     "output_type": "stream",
     "text": [
      "\r",
      "  0%|                                                    | 0/5 [00:00<?, ?it/s]"
     ]
    },
    {
     "name": "stdout",
     "output_type": "stream",
     "text": [
      "Data shape: (146, 2210) and labels shape: (146,)\n"
     ]
    },
    {
     "name": "stderr",
     "output_type": "stream",
     "text": [
      "100%|████████████████████████████████████████████| 5/5 [01:04<00:00, 12.91s/it]\n",
      "100%|███████████████████████████████████████████| 4/4 [09:00<00:00, 135.18s/it]\n",
      "100%|████████████████████████████████████████████| 4/4 [01:27<00:00, 21.85s/it]\n",
      "100%|███████████████████████████████████████████| 4/4 [32:29<00:00, 487.26s/it]\n",
      "100%|███████████████████████████████████████████| 4/4 [15:39<00:00, 234.89s/it]\n"
     ]
    },
    {
     "name": "stdout",
     "output_type": "stream",
     "text": [
      "2: Classifying data with all deepface+dlib representations\n",
      "\n",
      "\n"
     ]
    },
    {
     "name": "stderr",
     "output_type": "stream",
     "text": [
      "\r",
      "  0%|                                                    | 0/5 [00:00<?, ?it/s]"
     ]
    },
    {
     "name": "stdout",
     "output_type": "stream",
     "text": [
      "Data shape: (146, 6306) and labels shape: (146,)\n"
     ]
    },
    {
     "name": "stderr",
     "output_type": "stream",
     "text": [
      "100%|████████████████████████████████████████████| 5/5 [03:21<00:00, 40.34s/it]\n",
      "100%|███████████████████████████████████████████| 4/4 [26:25<00:00, 396.35s/it]\n",
      "100%|████████████████████████████████████████████| 4/4 [02:00<00:00, 30.15s/it]\n",
      "100%|████████████████████████████████████████| 4/4 [1:18:33<00:00, 1178.38s/it]\n",
      "100%|███████████████████████████████████████████| 4/4 [37:55<00:00, 568.99s/it]\n"
     ]
    },
    {
     "name": "stdout",
     "output_type": "stream",
     "text": [
      "3: Classifying data with the 300 most important features of deepface-dlib representations\n",
      "\n",
      "\n"
     ]
    },
    {
     "name": "stderr",
     "output_type": "stream",
     "text": [
      "\r",
      "  0%|                                                    | 0/5 [00:00<?, ?it/s]"
     ]
    },
    {
     "name": "stdout",
     "output_type": "stream",
     "text": [
      "Data shape: (146, 300) and labels shape: (146,)\n"
     ]
    },
    {
     "name": "stderr",
     "output_type": "stream",
     "text": [
      "100%|████████████████████████████████████████████| 5/5 [00:12<00:00,  2.43s/it]\n",
      "100%|████████████████████████████████████████████| 4/4 [01:10<00:00, 17.68s/it]\n",
      "100%|████████████████████████████████████████████| 4/4 [00:49<00:00, 12.41s/it]\n",
      "100%|████████████████████████████████████████████| 4/4 [04:02<00:00, 60.54s/it]\n",
      "100%|████████████████████████████████████████████| 4/4 [02:22<00:00, 35.52s/it]\n"
     ]
    },
    {
     "name": "stdout",
     "output_type": "stream",
     "text": [
      "4: Classifying data with PCA components of deepface-dlib representation\n",
      "\n"
     ]
    },
    {
     "name": "stderr",
     "output_type": "stream",
     "text": [
      "\r",
      "  0%|                                                    | 0/5 [00:00<?, ?it/s]"
     ]
    },
    {
     "name": "stdout",
     "output_type": "stream",
     "text": [
      "Data shape: (146, 145) and labels shape: (146,)\n"
     ]
    },
    {
     "name": "stderr",
     "output_type": "stream",
     "text": [
      "100%|████████████████████████████████████████████| 5/5 [00:07<00:00,  1.46s/it]\n",
      "100%|████████████████████████████████████████████| 4/4 [00:36<00:00,  9.05s/it]\n",
      "100%|████████████████████████████████████████████| 4/4 [00:47<00:00, 11.78s/it]\n",
      "100%|████████████████████████████████████████████| 4/4 [02:22<00:00, 35.64s/it]\n",
      "100%|████████████████████████████████████████████| 4/4 [01:36<00:00, 24.20s/it]\n"
     ]
    },
    {
     "name": "stdout",
     "output_type": "stream",
     "text": [
      "5: Classifying data with openface representation\n",
      "\n",
      "\n"
     ]
    },
    {
     "name": "stderr",
     "output_type": "stream",
     "text": [
      "\r",
      "  0%|                                                    | 0/5 [00:00<?, ?it/s]"
     ]
    },
    {
     "name": "stdout",
     "output_type": "stream",
     "text": [
      "Data shape: (138, 128) and labels shape: (138,)\n"
     ]
    },
    {
     "name": "stderr",
     "output_type": "stream",
     "text": [
      "100%|████████████████████████████████████████████| 5/5 [00:06<00:00,  1.25s/it]\n",
      "100%|████████████████████████████████████████████| 4/4 [00:25<00:00,  6.34s/it]\n",
      "100%|████████████████████████████████████████████| 4/4 [00:41<00:00, 10.43s/it]\n",
      "100%|████████████████████████████████████████████| 4/4 [01:53<00:00, 28.29s/it]\n",
      "100%|████████████████████████████████████████████| 4/4 [01:22<00:00, 20.51s/it]\n"
     ]
    },
    {
     "name": "stdout",
     "output_type": "stream",
     "text": [
      "6: Classifying data with cfps representation\n",
      "\n",
      "\n"
     ]
    },
    {
     "name": "stderr",
     "output_type": "stream",
     "text": [
      "\r",
      "  0%|                                                    | 0/5 [00:00<?, ?it/s]"
     ]
    },
    {
     "name": "stdout",
     "output_type": "stream",
     "text": [
      "Data shape: (138, 340) and labels shape: (138,)\n"
     ]
    },
    {
     "name": "stderr",
     "output_type": "stream",
     "text": [
      "100%|████████████████████████████████████████████| 5/5 [00:11<00:00,  2.26s/it]\n",
      "100%|████████████████████████████████████████████| 4/4 [01:07<00:00, 16.83s/it]\n",
      "100%|████████████████████████████████████████████| 4/4 [00:47<00:00, 11.98s/it]\n",
      "100%|████████████████████████████████████████████| 4/4 [04:34<00:00, 68.55s/it]\n",
      "100%|████████████████████████████████████████████| 4/4 [02:35<00:00, 38.93s/it]\n"
     ]
    },
    {
     "name": "stdout",
     "output_type": "stream",
     "text": [
      "7: Classifying data with openface+cfps representation\n",
      "\n",
      "\n"
     ]
    },
    {
     "name": "stderr",
     "output_type": "stream",
     "text": [
      "\r",
      "  0%|                                                    | 0/5 [00:00<?, ?it/s]"
     ]
    },
    {
     "name": "stdout",
     "output_type": "stream",
     "text": [
      "Data shape: (138, 468) and labels shape: (138,)\n"
     ]
    },
    {
     "name": "stderr",
     "output_type": "stream",
     "text": [
      "100%|████████████████████████████████████████████| 5/5 [00:14<00:00,  2.88s/it]\n",
      "100%|████████████████████████████████████████████| 4/4 [01:30<00:00, 22.55s/it]\n",
      "100%|████████████████████████████████████████████| 4/4 [00:50<00:00, 12.58s/it]\n",
      "100%|████████████████████████████████████████████| 4/4 [06:11<00:00, 92.87s/it]\n",
      "100%|████████████████████████████████████████████| 4/4 [03:18<00:00, 49.67s/it]\n"
     ]
    },
    {
     "name": "stdout",
     "output_type": "stream",
     "text": [
      "8: Classifying data with facereader representation\n",
      "\n",
      "\n"
     ]
    },
    {
     "name": "stderr",
     "output_type": "stream",
     "text": [
      "\r",
      "  0%|                                                    | 0/5 [00:00<?, ?it/s]"
     ]
    },
    {
     "name": "stdout",
     "output_type": "stream",
     "text": [
      "Data shape: (130, 93) and labels shape: (130,)\n"
     ]
    },
    {
     "name": "stderr",
     "output_type": "stream",
     "text": [
      "100%|████████████████████████████████████████████| 5/5 [00:04<00:00,  1.00it/s]\n",
      "100%|████████████████████████████████████████████| 4/4 [00:17<00:00,  4.28s/it]\n",
      "100%|████████████████████████████████████████████| 4/4 [00:37<00:00,  9.38s/it]\n",
      "100%|████████████████████████████████████████████| 4/4 [01:17<00:00, 19.30s/it]\n",
      "100%|████████████████████████████████████████████| 4/4 [01:04<00:00, 16.19s/it]\n"
     ]
    },
    {
     "name": "stdout",
     "output_type": "stream",
     "text": [
      "Syndrome that will be classified: ADNP \n",
      "\n",
      "\n",
      "0: Classifying data with deepface representation\n",
      "\n",
      "\n"
     ]
    },
    {
     "name": "stderr",
     "output_type": "stream",
     "text": [
      "\r",
      "  0%|                                                    | 0/5 [00:00<?, ?it/s]"
     ]
    },
    {
     "name": "stdout",
     "output_type": "stream",
     "text": [
      "Data shape: (54, 4096) and labels shape: (54,)\n"
     ]
    },
    {
     "name": "stderr",
     "output_type": "stream",
     "text": [
      "100%|████████████████████████████████████████████| 5/5 [00:06<00:00,  1.33s/it]\n",
      "100%|████████████████████████████████████████████| 4/4 [00:56<00:00, 14.04s/it]\n",
      "100%|████████████████████████████████████████████| 4/4 [00:16<00:00,  4.21s/it]\n",
      "100%|████████████████████████████████████████████| 4/4 [04:05<00:00, 61.33s/it]\n",
      "100%|████████████████████████████████████████████| 4/4 [02:33<00:00, 38.44s/it]\n"
     ]
    },
    {
     "name": "stdout",
     "output_type": "stream",
     "text": [
      "1: Classifying data with dlib representation\n",
      "\n",
      "\n"
     ]
    },
    {
     "name": "stderr",
     "output_type": "stream",
     "text": [
      "\r",
      "  0%|                                                    | 0/5 [00:00<?, ?it/s]"
     ]
    },
    {
     "name": "stdout",
     "output_type": "stream",
     "text": [
      "Data shape: (53, 2210) and labels shape: (53,)\n"
     ]
    },
    {
     "name": "stderr",
     "output_type": "stream",
     "text": [
      "100%|████████████████████████████████████████████| 5/5 [00:03<00:00,  1.59it/s]\n",
      "100%|████████████████████████████████████████████| 4/4 [00:27<00:00,  6.84s/it]\n",
      "100%|████████████████████████████████████████████| 4/4 [00:15<00:00,  3.97s/it]\n",
      "100%|████████████████████████████████████████████| 4/4 [03:22<00:00, 50.73s/it]\n",
      "100%|████████████████████████████████████████████| 4/4 [01:53<00:00, 28.31s/it]\n"
     ]
    },
    {
     "name": "stdout",
     "output_type": "stream",
     "text": [
      "2: Classifying data with all deepface+dlib representations\n",
      "\n",
      "\n"
     ]
    },
    {
     "name": "stderr",
     "output_type": "stream",
     "text": [
      "\r",
      "  0%|                                                    | 0/5 [00:00<?, ?it/s]"
     ]
    },
    {
     "name": "stdout",
     "output_type": "stream",
     "text": [
      "Data shape: (53, 6306) and labels shape: (53,)\n"
     ]
    },
    {
     "name": "stderr",
     "output_type": "stream",
     "text": [
      "100%|████████████████████████████████████████████| 5/5 [00:08<00:00,  1.76s/it]\n",
      "100%|████████████████████████████████████████████| 4/4 [01:20<00:00, 20.14s/it]\n",
      "100%|████████████████████████████████████████████| 4/4 [00:18<00:00,  4.64s/it]\n",
      "100%|███████████████████████████████████████████| 4/4 [06:59<00:00, 104.78s/it]\n",
      "100%|████████████████████████████████████████████| 4/4 [04:24<00:00, 66.01s/it]\n"
     ]
    },
    {
     "name": "stdout",
     "output_type": "stream",
     "text": [
      "3: Classifying data with the 300 most important features of deepface-dlib representations\n",
      "\n",
      "\n"
     ]
    },
    {
     "name": "stderr",
     "output_type": "stream",
     "text": [
      "\r",
      "  0%|                                                    | 0/5 [00:00<?, ?it/s]"
     ]
    },
    {
     "name": "stdout",
     "output_type": "stream",
     "text": [
      "Data shape: (53, 300) and labels shape: (53,)\n"
     ]
    },
    {
     "name": "stderr",
     "output_type": "stream",
     "text": [
      "100%|████████████████████████████████████████████| 5/5 [00:01<00:00,  3.20it/s]\n",
      "100%|████████████████████████████████████████████| 4/4 [00:03<00:00,  1.04it/s]\n",
      "100%|████████████████████████████████████████████| 4/4 [00:12<00:00,  3.25s/it]\n",
      "100%|████████████████████████████████████████████| 4/4 [00:25<00:00,  6.31s/it]\n",
      "100%|████████████████████████████████████████████| 4/4 [00:25<00:00,  6.31s/it]\n"
     ]
    },
    {
     "name": "stdout",
     "output_type": "stream",
     "text": [
      "4: Classifying data with PCA components of deepface-dlib representation\n",
      "\n"
     ]
    },
    {
     "name": "stderr",
     "output_type": "stream",
     "text": [
      "\r",
      "  0%|                                                    | 0/5 [00:00<?, ?it/s]"
     ]
    },
    {
     "name": "stdout",
     "output_type": "stream",
     "text": [
      "Data shape: (53, 52) and labels shape: (53,)\n"
     ]
    },
    {
     "name": "stderr",
     "output_type": "stream",
     "text": [
      "100%|████████████████████████████████████████████| 5/5 [00:01<00:00,  3.83it/s]\n",
      "100%|████████████████████████████████████████████| 4/4 [00:01<00:00,  3.58it/s]\n",
      "100%|████████████████████████████████████████████| 4/4 [00:12<00:00,  3.14s/it]\n",
      "100%|████████████████████████████████████████████| 4/4 [00:10<00:00,  2.62s/it]\n",
      "100%|████████████████████████████████████████████| 4/4 [00:16<00:00,  4.10s/it]\n"
     ]
    },
    {
     "name": "stdout",
     "output_type": "stream",
     "text": [
      "5: Classifying data with openface representation\n",
      "\n",
      "\n"
     ]
    },
    {
     "name": "stderr",
     "output_type": "stream",
     "text": [
      "\r",
      "  0%|                                                    | 0/5 [00:00<?, ?it/s]"
     ]
    },
    {
     "name": "stdout",
     "output_type": "stream",
     "text": [
      "Data shape: (46, 128) and labels shape: (46,)\n"
     ]
    },
    {
     "name": "stderr",
     "output_type": "stream",
     "text": [
      "100%|████████████████████████████████████████████| 5/5 [00:01<00:00,  4.25it/s]\n",
      "100%|████████████████████████████████████████████| 4/4 [00:01<00:00,  2.87it/s]\n",
      "100%|████████████████████████████████████████████| 4/4 [00:11<00:00,  2.76s/it]\n",
      "100%|████████████████████████████████████████████| 4/4 [00:13<00:00,  3.26s/it]\n",
      "100%|████████████████████████████████████████████| 4/4 [00:16<00:00,  4.18s/it]\n"
     ]
    },
    {
     "name": "stdout",
     "output_type": "stream",
     "text": [
      "6: Classifying data with cfps representation\n",
      "\n",
      "\n"
     ]
    },
    {
     "name": "stderr",
     "output_type": "stream",
     "text": [
      "\r",
      "  0%|                                                    | 0/5 [00:00<?, ?it/s]"
     ]
    },
    {
     "name": "stdout",
     "output_type": "stream",
     "text": [
      "Data shape: (46, 340) and labels shape: (46,)\n"
     ]
    },
    {
     "name": "stderr",
     "output_type": "stream",
     "text": [
      "100%|████████████████████████████████████████████| 5/5 [00:01<00:00,  3.77it/s]\n",
      "100%|████████████████████████████████████████████| 4/4 [00:03<00:00,  1.32it/s]\n",
      "100%|████████████████████████████████████████████| 4/4 [00:11<00:00,  2.86s/it]\n",
      "100%|████████████████████████████████████████████| 4/4 [00:25<00:00,  6.43s/it]\n",
      "100%|████████████████████████████████████████████| 4/4 [00:23<00:00,  5.99s/it]\n"
     ]
    },
    {
     "name": "stdout",
     "output_type": "stream",
     "text": [
      "7: Classifying data with openface+cfps representation\n",
      "\n",
      "\n"
     ]
    },
    {
     "name": "stderr",
     "output_type": "stream",
     "text": [
      "\r",
      "  0%|                                                    | 0/5 [00:00<?, ?it/s]"
     ]
    },
    {
     "name": "stdout",
     "output_type": "stream",
     "text": [
      "Data shape: (46, 468) and labels shape: (46,)\n"
     ]
    },
    {
     "name": "stderr",
     "output_type": "stream",
     "text": [
      "100%|████████████████████████████████████████████| 5/5 [00:01<00:00,  3.49it/s]\n",
      "100%|████████████████████████████████████████████| 4/4 [00:03<00:00,  1.00it/s]\n",
      "100%|████████████████████████████████████████████| 4/4 [00:11<00:00,  2.90s/it]\n",
      "100%|████████████████████████████████████████████| 4/4 [00:34<00:00,  8.69s/it]\n",
      "100%|████████████████████████████████████████████| 4/4 [00:28<00:00,  7.17s/it]\n"
     ]
    },
    {
     "name": "stdout",
     "output_type": "stream",
     "text": [
      "8: Classifying data with facereader representation\n",
      "\n",
      "\n"
     ]
    },
    {
     "name": "stderr",
     "output_type": "stream",
     "text": [
      " 20%|████████▊                                   | 1/5 [00:00<00:00,  5.43it/s]"
     ]
    },
    {
     "name": "stdout",
     "output_type": "stream",
     "text": [
      "Data shape: (37, 93) and labels shape: (37,)\n"
     ]
    },
    {
     "name": "stderr",
     "output_type": "stream",
     "text": [
      "100%|████████████████████████████████████████████| 5/5 [00:00<00:00,  5.44it/s]\n",
      "100%|████████████████████████████████████████████| 4/4 [00:00<00:00,  5.86it/s]\n",
      "100%|████████████████████████████████████████████| 4/4 [00:08<00:00,  2.15s/it]\n",
      "100%|████████████████████████████████████████████| 4/4 [00:07<00:00,  1.85s/it]\n",
      "100%|████████████████████████████████████████████| 4/4 [00:11<00:00,  2.96s/it]\n"
     ]
    },
    {
     "name": "stdout",
     "output_type": "stream",
     "text": [
      "Syndrome that will be classified: ANKRD11 \n",
      "\n",
      "\n",
      "0: Classifying data with deepface representation\n",
      "\n",
      "\n"
     ]
    },
    {
     "name": "stderr",
     "output_type": "stream",
     "text": [
      "\r",
      "  0%|                                                    | 0/5 [00:00<?, ?it/s]"
     ]
    },
    {
     "name": "stdout",
     "output_type": "stream",
     "text": [
      "Data shape: (48, 4096) and labels shape: (48,)\n"
     ]
    },
    {
     "name": "stderr",
     "output_type": "stream",
     "text": [
      "100%|████████████████████████████████████████████| 5/5 [00:05<00:00,  1.07s/it]\n",
      "100%|████████████████████████████████████████████| 4/4 [00:39<00:00,  9.90s/it]\n",
      "100%|████████████████████████████████████████████| 4/4 [00:14<00:00,  3.56s/it]\n",
      "100%|████████████████████████████████████████████| 4/4 [03:10<00:00, 47.53s/it]\n",
      "100%|████████████████████████████████████████████| 4/4 [01:59<00:00, 29.95s/it]\n"
     ]
    },
    {
     "name": "stdout",
     "output_type": "stream",
     "text": [
      "1: Classifying data with dlib representation\n",
      "\n",
      "\n"
     ]
    },
    {
     "name": "stderr",
     "output_type": "stream",
     "text": [
      "\r",
      "  0%|                                                    | 0/5 [00:00<?, ?it/s]"
     ]
    },
    {
     "name": "stdout",
     "output_type": "stream",
     "text": [
      "Data shape: (48, 2210) and labels shape: (48,)\n"
     ]
    },
    {
     "name": "stderr",
     "output_type": "stream",
     "text": [
      "100%|████████████████████████████████████████████| 5/5 [00:02<00:00,  1.85it/s]\n",
      "100%|████████████████████████████████████████████| 4/4 [00:20<00:00,  5.08s/it]\n",
      "100%|████████████████████████████████████████████| 4/4 [00:13<00:00,  3.43s/it]\n",
      "100%|████████████████████████████████████████████| 4/4 [02:33<00:00, 38.27s/it]\n",
      "100%|████████████████████████████████████████████| 4/4 [01:33<00:00, 23.32s/it]\n"
     ]
    },
    {
     "name": "stdout",
     "output_type": "stream",
     "text": [
      "2: Classifying data with all deepface+dlib representations\n",
      "\n",
      "\n"
     ]
    },
    {
     "name": "stderr",
     "output_type": "stream",
     "text": [
      "\r",
      "  0%|                                                    | 0/5 [00:00<?, ?it/s]"
     ]
    },
    {
     "name": "stdout",
     "output_type": "stream",
     "text": [
      "Data shape: (48, 6306) and labels shape: (48,)\n"
     ]
    },
    {
     "name": "stderr",
     "output_type": "stream",
     "text": [
      "100%|████████████████████████████████████████████| 5/5 [00:07<00:00,  1.51s/it]\n",
      "100%|████████████████████████████████████████████| 4/4 [01:00<00:00, 15.02s/it]\n",
      "100%|████████████████████████████████████████████| 4/4 [00:16<00:00,  4.05s/it]\n",
      "100%|████████████████████████████████████████████| 4/4 [06:13<00:00, 93.40s/it]\n",
      "100%|████████████████████████████████████████████| 4/4 [03:31<00:00, 52.79s/it]\n"
     ]
    },
    {
     "name": "stdout",
     "output_type": "stream",
     "text": [
      "3: Classifying data with the 300 most important features of deepface-dlib representations\n",
      "\n",
      "\n"
     ]
    },
    {
     "name": "stderr",
     "output_type": "stream",
     "text": [
      "\r",
      "  0%|                                                    | 0/5 [00:00<?, ?it/s]"
     ]
    },
    {
     "name": "stdout",
     "output_type": "stream",
     "text": [
      "Data shape: (48, 300) and labels shape: (48,)\n"
     ]
    },
    {
     "name": "stderr",
     "output_type": "stream",
     "text": [
      "100%|████████████████████████████████████████████| 5/5 [00:01<00:00,  3.60it/s]\n",
      "100%|████████████████████████████████████████████| 4/4 [00:02<00:00,  1.36it/s]\n",
      "100%|████████████████████████████████████████████| 4/4 [00:11<00:00,  2.89s/it]\n",
      "100%|████████████████████████████████████████████| 4/4 [00:20<00:00,  5.14s/it]\n",
      "100%|████████████████████████████████████████████| 4/4 [00:21<00:00,  5.39s/it]\n"
     ]
    },
    {
     "name": "stdout",
     "output_type": "stream",
     "text": [
      "4: Classifying data with PCA components of deepface-dlib representation\n",
      "\n"
     ]
    },
    {
     "name": "stderr",
     "output_type": "stream",
     "text": [
      "\r",
      "  0%|                                                    | 0/5 [00:00<?, ?it/s]"
     ]
    },
    {
     "name": "stdout",
     "output_type": "stream",
     "text": [
      "Data shape: (48, 47) and labels shape: (48,)\n"
     ]
    },
    {
     "name": "stderr",
     "output_type": "stream",
     "text": [
      "100%|████████████████████████████████████████████| 5/5 [00:01<00:00,  4.16it/s]\n",
      "100%|████████████████████████████████████████████| 4/4 [00:00<00:00,  4.61it/s]\n",
      "100%|████████████████████████████████████████████| 4/4 [00:11<00:00,  2.80s/it]\n",
      "100%|████████████████████████████████████████████| 4/4 [00:08<00:00,  2.11s/it]\n",
      "100%|████████████████████████████████████████████| 4/4 [00:14<00:00,  3.60s/it]\n"
     ]
    },
    {
     "name": "stdout",
     "output_type": "stream",
     "text": [
      "5: Classifying data with openface representation\n",
      "\n",
      "\n"
     ]
    },
    {
     "name": "stderr",
     "output_type": "stream",
     "text": [
      "\r",
      "  0%|                                                    | 0/5 [00:00<?, ?it/s]"
     ]
    },
    {
     "name": "stdout",
     "output_type": "stream",
     "text": [
      "Data shape: (42, 128) and labels shape: (42,)\n"
     ]
    },
    {
     "name": "stderr",
     "output_type": "stream",
     "text": [
      "100%|████████████████████████████████████████████| 5/5 [00:01<00:00,  4.72it/s]\n",
      "100%|████████████████████████████████████████████| 4/4 [00:01<00:00,  3.59it/s]\n",
      "100%|████████████████████████████████████████████| 4/4 [00:09<00:00,  2.48s/it]\n",
      "100%|████████████████████████████████████████████| 4/4 [00:10<00:00,  2.59s/it]\n",
      "100%|████████████████████████████████████████████| 4/4 [00:14<00:00,  3.73s/it]\n"
     ]
    },
    {
     "name": "stdout",
     "output_type": "stream",
     "text": [
      "6: Classifying data with cfps representation\n",
      "\n",
      "\n"
     ]
    },
    {
     "name": "stderr",
     "output_type": "stream",
     "text": [
      " 20%|████████▊                                   | 1/5 [00:00<00:00,  6.35it/s]"
     ]
    },
    {
     "name": "stdout",
     "output_type": "stream",
     "text": [
      "Data shape: (30, 340) and labels shape: (30,)\n"
     ]
    },
    {
     "name": "stderr",
     "output_type": "stream",
     "text": [
      "100%|████████████████████████████████████████████| 5/5 [00:00<00:00,  6.06it/s]\n",
      "100%|████████████████████████████████████████████| 4/4 [00:01<00:00,  3.89it/s]\n",
      "100%|████████████████████████████████████████████| 4/4 [00:07<00:00,  1.78s/it]\n",
      "100%|████████████████████████████████████████████| 4/4 [00:10<00:00,  2.58s/it]\n",
      "100%|████████████████████████████████████████████| 4/4 [00:12<00:00,  3.19s/it]\n"
     ]
    },
    {
     "name": "stdout",
     "output_type": "stream",
     "text": [
      "7: Classifying data with openface+cfps representation\n",
      "\n",
      "\n",
      "8: Classifying data with facereader representation\n",
      "\n",
      "\n"
     ]
    },
    {
     "name": "stderr",
     "output_type": "stream",
     "text": [
      " 20%|████████▊                                   | 1/5 [00:00<00:00,  5.09it/s]"
     ]
    },
    {
     "name": "stdout",
     "output_type": "stream",
     "text": [
      "Data shape: (42, 93) and labels shape: (42,)\n"
     ]
    },
    {
     "name": "stderr",
     "output_type": "stream",
     "text": [
      "100%|████████████████████████████████████████████| 5/5 [00:01<00:00,  4.78it/s]\n",
      "100%|████████████████████████████████████████████| 4/4 [00:00<00:00,  4.28it/s]\n",
      "100%|████████████████████████████████████████████| 4/4 [00:09<00:00,  2.48s/it]\n",
      "100%|████████████████████████████████████████████| 4/4 [00:09<00:00,  2.30s/it]\n",
      "100%|████████████████████████████████████████████| 4/4 [00:13<00:00,  3.46s/it]\n"
     ]
    },
    {
     "name": "stdout",
     "output_type": "stream",
     "text": [
      "Syndrome that will be classified: CDK13 \n",
      "\n",
      "\n",
      "0: Classifying data with deepface representation\n",
      "\n",
      "\n"
     ]
    },
    {
     "name": "stderr",
     "output_type": "stream",
     "text": [
      "\r",
      "  0%|                                                    | 0/5 [00:00<?, ?it/s]"
     ]
    },
    {
     "name": "stdout",
     "output_type": "stream",
     "text": [
      "Data shape: (58, 4096) and labels shape: (58,)\n"
     ]
    },
    {
     "name": "stderr",
     "output_type": "stream",
     "text": [
      "100%|████████████████████████████████████████████| 5/5 [00:07<00:00,  1.48s/it]\n",
      "100%|████████████████████████████████████████████| 4/4 [01:09<00:00, 17.31s/it]\n",
      "100%|████████████████████████████████████████████| 4/4 [00:18<00:00,  4.67s/it]\n",
      "100%|████████████████████████████████████████████| 4/4 [05:15<00:00, 78.87s/it]\n",
      "100%|████████████████████████████████████████████| 4/4 [03:00<00:00, 45.10s/it]\n"
     ]
    },
    {
     "name": "stdout",
     "output_type": "stream",
     "text": [
      "1: Classifying data with dlib representation\n",
      "\n",
      "\n"
     ]
    },
    {
     "name": "stderr",
     "output_type": "stream",
     "text": [
      "\r",
      "  0%|                                                    | 0/5 [00:00<?, ?it/s]"
     ]
    },
    {
     "name": "stdout",
     "output_type": "stream",
     "text": [
      "Data shape: (57, 2210) and labels shape: (57,)\n"
     ]
    },
    {
     "name": "stderr",
     "output_type": "stream",
     "text": [
      "100%|████████████████████████████████████████████| 5/5 [00:03<00:00,  1.42it/s]\n",
      "100%|████████████████████████████████████████████| 4/4 [00:30<00:00,  7.69s/it]\n",
      "100%|████████████████████████████████████████████| 4/4 [00:16<00:00,  4.22s/it]\n",
      "100%|████████████████████████████████████████████| 4/4 [03:43<00:00, 55.75s/it]\n",
      "100%|████████████████████████████████████████████| 4/4 [02:12<00:00, 33.00s/it]\n"
     ]
    },
    {
     "name": "stdout",
     "output_type": "stream",
     "text": [
      "2: Classifying data with all deepface+dlib representations\n",
      "\n",
      "\n"
     ]
    },
    {
     "name": "stderr",
     "output_type": "stream",
     "text": [
      "\r",
      "  0%|                                                    | 0/5 [00:00<?, ?it/s]"
     ]
    },
    {
     "name": "stdout",
     "output_type": "stream",
     "text": [
      "Data shape: (57, 6306) and labels shape: (57,)\n"
     ]
    },
    {
     "name": "stderr",
     "output_type": "stream",
     "text": [
      "100%|████████████████████████████████████████████| 5/5 [00:10<00:00,  2.04s/it]\n",
      "100%|████████████████████████████████████████████| 4/4 [01:39<00:00, 24.83s/it]\n",
      "100%|████████████████████████████████████████████| 4/4 [00:20<00:00,  5.17s/it]\n",
      "100%|███████████████████████████████████████████| 4/4 [08:24<00:00, 126.07s/it]\n",
      "100%|████████████████████████████████████████████| 4/4 [05:08<00:00, 77.09s/it]\n"
     ]
    },
    {
     "name": "stdout",
     "output_type": "stream",
     "text": [
      "3: Classifying data with the 300 most important features of deepface-dlib representations\n",
      "\n",
      "\n"
     ]
    },
    {
     "name": "stderr",
     "output_type": "stream",
     "text": [
      "\r",
      "  0%|                                                    | 0/5 [00:00<?, ?it/s]"
     ]
    },
    {
     "name": "stdout",
     "output_type": "stream",
     "text": [
      "Data shape: (57, 300) and labels shape: (57,)\n"
     ]
    },
    {
     "name": "stderr",
     "output_type": "stream",
     "text": [
      "100%|████████████████████████████████████████████| 5/5 [00:01<00:00,  2.95it/s]\n",
      "100%|████████████████████████████████████████████| 4/4 [00:04<00:00,  1.15s/it]\n",
      "100%|████████████████████████████████████████████| 4/4 [00:14<00:00,  3.54s/it]\n",
      "100%|████████████████████████████████████████████| 4/4 [00:30<00:00,  7.67s/it]\n",
      "100%|████████████████████████████████████████████| 4/4 [00:28<00:00,  7.04s/it]\n"
     ]
    },
    {
     "name": "stdout",
     "output_type": "stream",
     "text": [
      "4: Classifying data with PCA components of deepface-dlib representation\n",
      "\n"
     ]
    },
    {
     "name": "stderr",
     "output_type": "stream",
     "text": [
      "\r",
      "  0%|                                                    | 0/5 [00:00<?, ?it/s]"
     ]
    },
    {
     "name": "stdout",
     "output_type": "stream",
     "text": [
      "Data shape: (57, 56) and labels shape: (57,)\n"
     ]
    },
    {
     "name": "stderr",
     "output_type": "stream",
     "text": [
      "100%|████████████████████████████████████████████| 5/5 [00:01<00:00,  3.39it/s]\n",
      "100%|████████████████████████████████████████████| 4/4 [00:01<00:00,  2.97it/s]\n",
      "100%|████████████████████████████████████████████| 4/4 [00:13<00:00,  3.41s/it]\n",
      "100%|████████████████████████████████████████████| 4/4 [00:11<00:00,  2.87s/it]\n",
      "100%|████████████████████████████████████████████| 4/4 [00:18<00:00,  4.56s/it]\n"
     ]
    },
    {
     "name": "stdout",
     "output_type": "stream",
     "text": [
      "5: Classifying data with openface representation\n",
      "\n",
      "\n"
     ]
    },
    {
     "name": "stderr",
     "output_type": "stream",
     "text": [
      " 20%|████████▊                                   | 1/5 [00:00<00:00,  5.62it/s]"
     ]
    },
    {
     "name": "stdout",
     "output_type": "stream",
     "text": [
      "Data shape: (38, 128) and labels shape: (38,)\n"
     ]
    },
    {
     "name": "stderr",
     "output_type": "stream",
     "text": [
      "100%|████████████████████████████████████████████| 5/5 [00:00<00:00,  5.21it/s]\n",
      "100%|████████████████████████████████████████████| 4/4 [00:00<00:00,  4.43it/s]\n",
      "100%|████████████████████████████████████████████| 4/4 [00:08<00:00,  2.25s/it]\n",
      "100%|████████████████████████████████████████████| 4/4 [00:09<00:00,  2.26s/it]\n",
      "100%|████████████████████████████████████████████| 4/4 [00:13<00:00,  3.29s/it]\n"
     ]
    },
    {
     "name": "stdout",
     "output_type": "stream",
     "text": [
      "6: Classifying data with cfps representation\n",
      "\n",
      "\n"
     ]
    },
    {
     "name": "stderr",
     "output_type": "stream",
     "text": [
      "\r",
      "  0%|                                                    | 0/5 [00:00<?, ?it/s]"
     ]
    },
    {
     "name": "stdout",
     "output_type": "stream",
     "text": [
      "Data shape: (38, 340) and labels shape: (38,)\n"
     ]
    },
    {
     "name": "stderr",
     "output_type": "stream",
     "text": [
      "100%|████████████████████████████████████████████| 5/5 [00:01<00:00,  4.68it/s]\n",
      "100%|████████████████████████████████████████████| 4/4 [00:01<00:00,  2.14it/s]\n",
      "100%|████████████████████████████████████████████| 4/4 [00:09<00:00,  2.31s/it]\n",
      "100%|████████████████████████████████████████████| 4/4 [00:18<00:00,  4.52s/it]\n",
      "100%|████████████████████████████████████████████| 4/4 [00:18<00:00,  4.55s/it]\n"
     ]
    },
    {
     "name": "stdout",
     "output_type": "stream",
     "text": [
      "7: Classifying data with openface+cfps representation\n",
      "\n",
      "\n"
     ]
    },
    {
     "name": "stderr",
     "output_type": "stream",
     "text": [
      "\r",
      "  0%|                                                    | 0/5 [00:00<?, ?it/s]"
     ]
    },
    {
     "name": "stdout",
     "output_type": "stream",
     "text": [
      "Data shape: (38, 468) and labels shape: (38,)\n"
     ]
    },
    {
     "name": "stderr",
     "output_type": "stream",
     "text": [
      "100%|████████████████████████████████████████████| 5/5 [00:01<00:00,  4.30it/s]\n",
      "100%|████████████████████████████████████████████| 4/4 [00:02<00:00,  1.66it/s]\n",
      "100%|████████████████████████████████████████████| 4/4 [00:09<00:00,  2.33s/it]\n",
      "100%|████████████████████████████████████████████| 4/4 [00:22<00:00,  5.68s/it]\n",
      "100%|████████████████████████████████████████████| 4/4 [00:21<00:00,  5.26s/it]\n"
     ]
    },
    {
     "name": "stdout",
     "output_type": "stream",
     "text": [
      "8: Classifying data with facereader representation\n",
      "\n",
      "\n"
     ]
    },
    {
     "name": "stderr",
     "output_type": "stream",
     "text": [
      "\r",
      "  0%|                                                    | 0/5 [00:00<?, ?it/s]"
     ]
    },
    {
     "name": "stdout",
     "output_type": "stream",
     "text": [
      "Data shape: (42, 93) and labels shape: (42,)\n"
     ]
    },
    {
     "name": "stderr",
     "output_type": "stream",
     "text": [
      "100%|████████████████████████████████████████████| 5/5 [00:01<00:00,  4.76it/s]\n",
      "100%|████████████████████████████████████████████| 4/4 [00:00<00:00,  4.05it/s]\n",
      "100%|████████████████████████████████████████████| 4/4 [00:09<00:00,  2.48s/it]\n",
      "100%|████████████████████████████████████████████| 4/4 [00:09<00:00,  2.26s/it]\n",
      "100%|████████████████████████████████████████████| 4/4 [00:13<00:00,  3.50s/it]\n"
     ]
    },
    {
     "name": "stdout",
     "output_type": "stream",
     "text": [
      "Syndrome that will be classified: DEAF1 \n",
      "\n",
      "\n",
      "0: Classifying data with deepface representation\n",
      "\n",
      "\n"
     ]
    },
    {
     "name": "stderr",
     "output_type": "stream",
     "text": [
      "\r",
      "  0%|                                                    | 0/5 [00:00<?, ?it/s]"
     ]
    },
    {
     "name": "stdout",
     "output_type": "stream",
     "text": [
      "Data shape: (40, 4096) and labels shape: (40,)\n"
     ]
    },
    {
     "name": "stderr",
     "output_type": "stream",
     "text": [
      "100%|████████████████████████████████████████████| 5/5 [00:03<00:00,  1.28it/s]\n",
      "100%|████████████████████████████████████████████| 4/4 [00:23<00:00,  5.88s/it]\n",
      "100%|████████████████████████████████████████████| 4/4 [00:11<00:00,  2.85s/it]\n",
      "100%|████████████████████████████████████████████| 4/4 [02:04<00:00, 31.03s/it]\n",
      "100%|████████████████████████████████████████████| 4/4 [01:24<00:00, 21.11s/it]\n"
     ]
    },
    {
     "name": "stdout",
     "output_type": "stream",
     "text": [
      "1: Classifying data with dlib representation\n",
      "\n",
      "\n"
     ]
    },
    {
     "name": "stderr",
     "output_type": "stream",
     "text": [
      "\r",
      "  0%|                                                    | 0/5 [00:00<?, ?it/s]"
     ]
    },
    {
     "name": "stdout",
     "output_type": "stream",
     "text": [
      "Data shape: (40, 2210) and labels shape: (40,)\n"
     ]
    },
    {
     "name": "stderr",
     "output_type": "stream",
     "text": [
      "100%|████████████████████████████████████████████| 5/5 [00:02<00:00,  2.43it/s]\n",
      "100%|████████████████████████████████████████████| 4/4 [00:11<00:00,  2.76s/it]\n",
      "100%|████████████████████████████████████████████| 4/4 [00:10<00:00,  2.75s/it]\n",
      "100%|████████████████████████████████████████████| 4/4 [01:46<00:00, 26.64s/it]\n",
      "100%|████████████████████████████████████████████| 4/4 [01:06<00:00, 16.51s/it]\n"
     ]
    },
    {
     "name": "stdout",
     "output_type": "stream",
     "text": [
      "2: Classifying data with all deepface+dlib representations\n",
      "\n",
      "\n"
     ]
    },
    {
     "name": "stderr",
     "output_type": "stream",
     "text": [
      "\r",
      "  0%|                                                    | 0/5 [00:00<?, ?it/s]"
     ]
    },
    {
     "name": "stdout",
     "output_type": "stream",
     "text": [
      "Data shape: (40, 6306) and labels shape: (40,)\n"
     ]
    },
    {
     "name": "stderr",
     "output_type": "stream",
     "text": [
      "100%|████████████████████████████████████████████| 5/5 [00:05<00:00,  1.07s/it]\n",
      "100%|████████████████████████████████████████████| 4/4 [00:34<00:00,  8.73s/it]\n",
      "100%|████████████████████████████████████████████| 4/4 [00:12<00:00,  3.10s/it]\n",
      "100%|████████████████████████████████████████████| 4/4 [03:41<00:00, 55.47s/it]\n",
      "100%|████████████████████████████████████████████| 4/4 [02:21<00:00, 35.33s/it]\n"
     ]
    },
    {
     "name": "stdout",
     "output_type": "stream",
     "text": [
      "3: Classifying data with the 300 most important features of deepface-dlib representations\n",
      "\n",
      "\n"
     ]
    },
    {
     "name": "stderr",
     "output_type": "stream",
     "text": [
      "\r",
      "  0%|                                                    | 0/5 [00:00<?, ?it/s]"
     ]
    },
    {
     "name": "stdout",
     "output_type": "stream",
     "text": [
      "Data shape: (40, 300) and labels shape: (40,)\n"
     ]
    },
    {
     "name": "stderr",
     "output_type": "stream",
     "text": [
      "100%|████████████████████████████████████████████| 5/5 [00:01<00:00,  4.40it/s]\n",
      "100%|████████████████████████████████████████████| 4/4 [00:01<00:00,  2.18it/s]\n",
      "100%|████████████████████████████████████████████| 4/4 [00:09<00:00,  2.39s/it]\n",
      "100%|████████████████████████████████████████████| 4/4 [00:13<00:00,  3.41s/it]\n",
      "100%|████████████████████████████████████████████| 4/4 [00:16<00:00,  4.16s/it]\n"
     ]
    },
    {
     "name": "stdout",
     "output_type": "stream",
     "text": [
      "4: Classifying data with PCA components of deepface-dlib representation\n",
      "\n"
     ]
    },
    {
     "name": "stderr",
     "output_type": "stream",
     "text": [
      "\r",
      "  0%|                                                    | 0/5 [00:00<?, ?it/s]"
     ]
    },
    {
     "name": "stdout",
     "output_type": "stream",
     "text": [
      "Data shape: (40, 39) and labels shape: (40,)\n"
     ]
    },
    {
     "name": "stderr",
     "output_type": "stream",
     "text": [
      "100%|████████████████████████████████████████████| 5/5 [00:00<00:00,  5.02it/s]\n",
      "100%|████████████████████████████████████████████| 4/4 [00:00<00:00,  6.63it/s]\n",
      "100%|████████████████████████████████████████████| 4/4 [00:09<00:00,  2.31s/it]\n",
      "100%|████████████████████████████████████████████| 4/4 [00:06<00:00,  1.52s/it]\n",
      "100%|████████████████████████████████████████████| 4/4 [00:11<00:00,  2.91s/it]\n"
     ]
    },
    {
     "name": "stdout",
     "output_type": "stream",
     "text": [
      "5: Classifying data with openface representation\n",
      "\n",
      "\n"
     ]
    },
    {
     "name": "stderr",
     "output_type": "stream",
     "text": [
      " 20%|████████▊                                   | 1/5 [00:00<00:00,  5.80it/s]"
     ]
    },
    {
     "name": "stdout",
     "output_type": "stream",
     "text": [
      "Data shape: (34, 128) and labels shape: (34,)\n"
     ]
    },
    {
     "name": "stderr",
     "output_type": "stream",
     "text": [
      "100%|████████████████████████████████████████████| 5/5 [00:00<00:00,  5.74it/s]\n",
      "100%|████████████████████████████████████████████| 4/4 [00:00<00:00,  5.46it/s]\n",
      "100%|████████████████████████████████████████████| 4/4 [00:07<00:00,  1.98s/it]\n",
      "100%|████████████████████████████████████████████| 4/4 [00:07<00:00,  1.89s/it]\n",
      "100%|████████████████████████████████████████████| 4/4 [00:11<00:00,  2.87s/it]\n"
     ]
    },
    {
     "name": "stdout",
     "output_type": "stream",
     "text": [
      "6: Classifying data with cfps representation\n",
      "\n",
      "\n"
     ]
    },
    {
     "name": "stderr",
     "output_type": "stream",
     "text": [
      " 20%|████████▊                                   | 1/5 [00:00<00:00,  5.46it/s]"
     ]
    },
    {
     "name": "stdout",
     "output_type": "stream",
     "text": [
      "Data shape: (34, 340) and labels shape: (34,)\n"
     ]
    },
    {
     "name": "stderr",
     "output_type": "stream",
     "text": [
      "100%|████████████████████████████████████████████| 5/5 [00:00<00:00,  5.27it/s]\n",
      "100%|████████████████████████████████████████████| 4/4 [00:01<00:00,  2.88it/s]\n",
      "100%|████████████████████████████████████████████| 4/4 [00:08<00:00,  2.03s/it]\n",
      "100%|████████████████████████████████████████████| 4/4 [00:14<00:00,  3.59s/it]\n",
      "100%|████████████████████████████████████████████| 4/4 [00:15<00:00,  3.83s/it]\n"
     ]
    },
    {
     "name": "stdout",
     "output_type": "stream",
     "text": [
      "7: Classifying data with openface+cfps representation\n",
      "\n",
      "\n"
     ]
    },
    {
     "name": "stderr",
     "output_type": "stream",
     "text": [
      "\r",
      "  0%|                                                    | 0/5 [00:00<?, ?it/s]"
     ]
    },
    {
     "name": "stdout",
     "output_type": "stream",
     "text": [
      "Data shape: (34, 468) and labels shape: (34,)\n"
     ]
    },
    {
     "name": "stderr",
     "output_type": "stream",
     "text": [
      "100%|████████████████████████████████████████████| 5/5 [00:01<00:00,  4.84it/s]\n",
      "100%|████████████████████████████████████████████| 4/4 [00:01<00:00,  2.20it/s]\n",
      "100%|████████████████████████████████████████████| 4/4 [00:08<00:00,  2.05s/it]\n",
      "100%|████████████████████████████████████████████| 4/4 [00:17<00:00,  4.27s/it]\n",
      "100%|████████████████████████████████████████████| 4/4 [00:17<00:00,  4.49s/it]\n"
     ]
    },
    {
     "name": "stdout",
     "output_type": "stream",
     "text": [
      "8: Classifying data with facereader representation\n",
      "\n",
      "\n"
     ]
    },
    {
     "name": "stderr",
     "output_type": "stream",
     "text": [
      " 20%|████████▊                                   | 1/5 [00:00<00:00,  5.80it/s]"
     ]
    },
    {
     "name": "stdout",
     "output_type": "stream",
     "text": [
      "Data shape: (35, 93) and labels shape: (35,)\n"
     ]
    },
    {
     "name": "stderr",
     "output_type": "stream",
     "text": [
      "100%|████████████████████████████████████████████| 5/5 [00:00<00:00,  5.74it/s]\n",
      "100%|████████████████████████████████████████████| 4/4 [00:00<00:00,  6.31it/s]\n",
      "100%|████████████████████████████████████████████| 4/4 [00:08<00:00,  2.03s/it]\n",
      "100%|████████████████████████████████████████████| 4/4 [00:06<00:00,  1.64s/it]\n",
      "100%|████████████████████████████████████████████| 4/4 [00:11<00:00,  2.77s/it]\n"
     ]
    },
    {
     "name": "stdout",
     "output_type": "stream",
     "text": [
      "Syndrome that will be classified: DYRK1A \n",
      "\n",
      "\n",
      "0: Classifying data with deepface representation\n",
      "\n",
      "\n"
     ]
    },
    {
     "name": "stderr",
     "output_type": "stream",
     "text": [
      "\r",
      "  0%|                                                    | 0/5 [00:00<?, ?it/s]"
     ]
    },
    {
     "name": "stdout",
     "output_type": "stream",
     "text": [
      "Data shape: (30, 4096) and labels shape: (30,)\n"
     ]
    },
    {
     "name": "stderr",
     "output_type": "stream",
     "text": [
      "100%|████████████████████████████████████████████| 5/5 [00:02<00:00,  2.28it/s]\n",
      "100%|████████████████████████████████████████████| 4/4 [00:09<00:00,  2.48s/it]\n",
      "100%|████████████████████████████████████████████| 4/4 [00:07<00:00,  1.95s/it]\n",
      "100%|████████████████████████████████████████████| 4/4 [00:57<00:00, 14.34s/it]\n",
      "100%|████████████████████████████████████████████| 4/4 [00:47<00:00, 11.84s/it]\n"
     ]
    },
    {
     "name": "stdout",
     "output_type": "stream",
     "text": [
      "1: Classifying data with dlib representation\n",
      "\n",
      "\n"
     ]
    },
    {
     "name": "stderr",
     "output_type": "stream",
     "text": [
      "\r",
      "  0%|                                                    | 0/5 [00:00<?, ?it/s]"
     ]
    },
    {
     "name": "stdout",
     "output_type": "stream",
     "text": [
      "Data shape: (29, 2210) and labels shape: (29,)\n"
     ]
    },
    {
     "name": "stderr",
     "output_type": "stream",
     "text": [
      "100%|████████████████████████████████████████████| 5/5 [00:01<00:00,  3.79it/s]\n",
      "100%|████████████████████████████████████████████| 4/4 [00:04<00:00,  1.12s/it]\n",
      "100%|████████████████████████████████████████████| 4/4 [00:07<00:00,  1.85s/it]\n",
      "100%|████████████████████████████████████████████| 4/4 [00:49<00:00, 12.44s/it]\n",
      "100%|████████████████████████████████████████████| 4/4 [00:35<00:00,  8.89s/it]\n"
     ]
    },
    {
     "name": "stdout",
     "output_type": "stream",
     "text": [
      "2: Classifying data with all deepface+dlib representations\n",
      "\n",
      "\n"
     ]
    },
    {
     "name": "stderr",
     "output_type": "stream",
     "text": [
      "\r",
      "  0%|                                                    | 0/5 [00:00<?, ?it/s]"
     ]
    },
    {
     "name": "stdout",
     "output_type": "stream",
     "text": [
      "Data shape: (29, 6306) and labels shape: (29,)\n"
     ]
    },
    {
     "name": "stderr",
     "output_type": "stream",
     "text": [
      "100%|████████████████████████████████████████████| 5/5 [00:03<00:00,  1.66it/s]\n",
      "100%|████████████████████████████████████████████| 4/4 [00:14<00:00,  3.54s/it]\n",
      "100%|████████████████████████████████████████████| 4/4 [00:08<00:00,  2.05s/it]\n",
      "100%|████████████████████████████████████████████| 4/4 [01:34<00:00, 23.53s/it]\n",
      "100%|████████████████████████████████████████████| 4/4 [01:13<00:00, 18.27s/it]\n"
     ]
    },
    {
     "name": "stdout",
     "output_type": "stream",
     "text": [
      "3: Classifying data with the 300 most important features of deepface-dlib representations\n",
      "\n",
      "\n"
     ]
    },
    {
     "name": "stderr",
     "output_type": "stream",
     "text": [
      " 20%|████████▊                                   | 1/5 [00:00<00:00,  6.59it/s]"
     ]
    },
    {
     "name": "stdout",
     "output_type": "stream",
     "text": [
      "Data shape: (29, 300) and labels shape: (29,)\n"
     ]
    },
    {
     "name": "stderr",
     "output_type": "stream",
     "text": [
      "100%|████████████████████████████████████████████| 5/5 [00:00<00:00,  6.19it/s]\n",
      "100%|████████████████████████████████████████████| 4/4 [00:00<00:00,  4.58it/s]\n",
      "100%|████████████████████████████████████████████| 4/4 [00:06<00:00,  1.69s/it]\n",
      "100%|████████████████████████████████████████████| 4/4 [00:06<00:00,  1.65s/it]\n",
      "100%|████████████████████████████████████████████| 4/4 [00:10<00:00,  2.69s/it]\n"
     ]
    },
    {
     "name": "stdout",
     "output_type": "stream",
     "text": [
      "4: Classifying data with PCA components of deepface-dlib representation\n",
      "\n"
     ]
    },
    {
     "name": "stderr",
     "output_type": "stream",
     "text": [
      " 20%|████████▊                                   | 1/5 [00:00<00:00,  7.15it/s]"
     ]
    },
    {
     "name": "stdout",
     "output_type": "stream",
     "text": [
      "Data shape: (29, 28) and labels shape: (29,)\n"
     ]
    },
    {
     "name": "stderr",
     "output_type": "stream",
     "text": [
      "100%|████████████████████████████████████████████| 5/5 [00:00<00:00,  6.93it/s]\n",
      "100%|████████████████████████████████████████████| 4/4 [00:00<00:00, 11.51it/s]\n",
      "100%|████████████████████████████████████████████| 4/4 [00:06<00:00,  1.68s/it]\n",
      "100%|████████████████████████████████████████████| 4/4 [00:03<00:00,  1.17it/s]\n",
      "100%|████████████████████████████████████████████| 4/4 [00:07<00:00,  1.98s/it]\n"
     ]
    },
    {
     "name": "stdout",
     "output_type": "stream",
     "text": [
      "5: Classifying data with openface representation\n",
      "\n",
      "\n"
     ]
    },
    {
     "name": "stderr",
     "output_type": "stream",
     "text": [
      "\r",
      "  0%|                                                    | 0/5 [00:00<?, ?it/s]"
     ]
    },
    {
     "name": "stdout",
     "output_type": "stream",
     "text": [
      "Data shape: (22, 128) and labels shape: (22,)\n"
     ]
    },
    {
     "name": "stderr",
     "output_type": "stream",
     "text": [
      "100%|████████████████████████████████████████████| 5/5 [00:00<00:00,  9.35it/s]\n",
      "100%|████████████████████████████████████████████| 4/4 [00:00<00:00, 13.50it/s]\n",
      "100%|████████████████████████████████████████████| 4/4 [00:05<00:00,  1.25s/it]\n",
      "100%|████████████████████████████████████████████| 4/4 [00:03<00:00,  1.21it/s]\n",
      "100%|████████████████████████████████████████████| 4/4 [00:06<00:00,  1.67s/it]\n"
     ]
    },
    {
     "name": "stdout",
     "output_type": "stream",
     "text": [
      "6: Classifying data with cfps representation\n",
      "\n",
      "\n"
     ]
    },
    {
     "name": "stderr",
     "output_type": "stream",
     "text": [
      " 20%|████████▊                                   | 1/5 [00:00<00:00,  8.70it/s]"
     ]
    },
    {
     "name": "stdout",
     "output_type": "stream",
     "text": [
      "Data shape: (22, 340) and labels shape: (22,)\n"
     ]
    },
    {
     "name": "stderr",
     "output_type": "stream",
     "text": [
      "100%|████████████████████████████████████████████| 5/5 [00:00<00:00,  8.58it/s]\n",
      "100%|████████████████████████████████████████████| 4/4 [00:00<00:00,  7.77it/s]\n",
      "100%|████████████████████████████████████████████| 4/4 [00:05<00:00,  1.27s/it]\n",
      "100%|████████████████████████████████████████████| 4/4 [00:05<00:00,  1.35s/it]\n",
      "100%|████████████████████████████████████████████| 4/4 [00:08<00:00,  2.07s/it]\n"
     ]
    },
    {
     "name": "stdout",
     "output_type": "stream",
     "text": [
      "7: Classifying data with openface+cfps representation\n",
      "\n",
      "\n"
     ]
    },
    {
     "name": "stderr",
     "output_type": "stream",
     "text": [
      " 20%|████████▊                                   | 1/5 [00:00<00:00,  8.16it/s]"
     ]
    },
    {
     "name": "stdout",
     "output_type": "stream",
     "text": [
      "Data shape: (22, 468) and labels shape: (22,)\n"
     ]
    },
    {
     "name": "stderr",
     "output_type": "stream",
     "text": [
      "100%|████████████████████████████████████████████| 5/5 [00:00<00:00,  8.56it/s]\n",
      "100%|████████████████████████████████████████████| 4/4 [00:00<00:00,  6.43it/s]\n",
      "100%|████████████████████████████████████████████| 4/4 [00:05<00:00,  1.29s/it]\n",
      "100%|████████████████████████████████████████████| 4/4 [00:06<00:00,  1.68s/it]\n",
      "100%|████████████████████████████████████████████| 4/4 [00:09<00:00,  2.33s/it]\n"
     ]
    },
    {
     "name": "stdout",
     "output_type": "stream",
     "text": [
      "8: Classifying data with facereader representation\n",
      "\n",
      "\n"
     ]
    },
    {
     "name": "stderr",
     "output_type": "stream",
     "text": [
      " 20%|████████▊                                   | 1/5 [00:00<00:00,  8.77it/s]"
     ]
    },
    {
     "name": "stdout",
     "output_type": "stream",
     "text": [
      "Data shape: (23, 93) and labels shape: (23,)\n"
     ]
    },
    {
     "name": "stderr",
     "output_type": "stream",
     "text": [
      "100%|████████████████████████████████████████████| 5/5 [00:00<00:00,  8.86it/s]\n",
      "100%|████████████████████████████████████████████| 4/4 [00:00<00:00, 13.32it/s]\n",
      "100%|████████████████████████████████████████████| 4/4 [00:05<00:00,  1.31s/it]\n",
      "100%|████████████████████████████████████████████| 4/4 [00:03<00:00,  1.19it/s]\n",
      "100%|████████████████████████████████████████████| 4/4 [00:06<00:00,  1.71s/it]\n"
     ]
    },
    {
     "name": "stdout",
     "output_type": "stream",
     "text": [
      "Syndrome that will be classified: EHMT1 \n",
      "\n",
      "\n",
      "0: Classifying data with deepface representation\n",
      "\n",
      "\n"
     ]
    },
    {
     "name": "stderr",
     "output_type": "stream",
     "text": [
      "\r",
      "  0%|                                                    | 0/5 [00:00<?, ?it/s]"
     ]
    },
    {
     "name": "stdout",
     "output_type": "stream",
     "text": [
      "Data shape: (76, 4096) and labels shape: (76,)\n"
     ]
    },
    {
     "name": "stderr",
     "output_type": "stream",
     "text": [
      "100%|████████████████████████████████████████████| 5/5 [00:26<00:00,  5.30s/it]\n",
      "100%|████████████████████████████████████████████| 4/4 [02:30<00:00, 37.62s/it]\n",
      "100%|████████████████████████████████████████████| 4/4 [00:27<00:00,  6.95s/it]\n",
      "100%|███████████████████████████████████████████| 4/4 [09:24<00:00, 141.14s/it]\n",
      "100%|████████████████████████████████████████████| 4/4 [05:27<00:00, 81.92s/it]\n"
     ]
    },
    {
     "name": "stdout",
     "output_type": "stream",
     "text": [
      "1: Classifying data with dlib representation\n",
      "\n",
      "\n"
     ]
    },
    {
     "name": "stderr",
     "output_type": "stream",
     "text": [
      "\r",
      "  0%|                                                    | 0/5 [00:00<?, ?it/s]"
     ]
    },
    {
     "name": "stdout",
     "output_type": "stream",
     "text": [
      "Data shape: (76, 2210) and labels shape: (76,)\n"
     ]
    },
    {
     "name": "stderr",
     "output_type": "stream",
     "text": [
      "100%|████████████████████████████████████████████| 5/5 [00:12<00:00,  2.53s/it]\n",
      "100%|████████████████████████████████████████████| 4/4 [01:03<00:00, 15.99s/it]\n",
      "100%|████████████████████████████████████████████| 4/4 [00:25<00:00,  6.43s/it]\n",
      "100%|███████████████████████████████████████████| 4/4 [07:40<00:00, 115.12s/it]\n",
      "100%|████████████████████████████████████████████| 4/4 [03:54<00:00, 58.64s/it]\n"
     ]
    },
    {
     "name": "stdout",
     "output_type": "stream",
     "text": [
      "2: Classifying data with all deepface+dlib representations\n",
      "\n",
      "\n"
     ]
    },
    {
     "name": "stderr",
     "output_type": "stream",
     "text": [
      "\r",
      "  0%|                                                    | 0/5 [00:00<?, ?it/s]"
     ]
    },
    {
     "name": "stdout",
     "output_type": "stream",
     "text": [
      "Data shape: (76, 6306) and labels shape: (76,)\n"
     ]
    },
    {
     "name": "stderr",
     "output_type": "stream",
     "text": [
      "100%|████████████████████████████████████████████| 5/5 [00:36<00:00,  7.28s/it]\n",
      "100%|████████████████████████████████████████████| 4/4 [03:42<00:00, 55.60s/it]\n",
      "100%|████████████████████████████████████████████| 4/4 [00:32<00:00,  8.09s/it]\n",
      "100%|███████████████████████████████████████████| 4/4 [17:02<00:00, 255.71s/it]\n",
      "100%|███████████████████████████████████████████| 4/4 [09:18<00:00, 139.68s/it]\n"
     ]
    },
    {
     "name": "stdout",
     "output_type": "stream",
     "text": [
      "3: Classifying data with the 300 most important features of deepface-dlib representations\n",
      "\n",
      "\n"
     ]
    },
    {
     "name": "stderr",
     "output_type": "stream",
     "text": [
      "\r",
      "  0%|                                                    | 0/5 [00:00<?, ?it/s]"
     ]
    },
    {
     "name": "stdout",
     "output_type": "stream",
     "text": [
      "Data shape: (76, 300) and labels shape: (76,)\n"
     ]
    },
    {
     "name": "stderr",
     "output_type": "stream",
     "text": [
      "100%|████████████████████████████████████████████| 5/5 [00:03<00:00,  1.50it/s]\n",
      "100%|████████████████████████████████████████████| 4/4 [00:10<00:00,  2.54s/it]\n",
      "100%|████████████████████████████████████████████| 4/4 [00:19<00:00,  4.98s/it]\n",
      "100%|████████████████████████████████████████████| 4/4 [00:56<00:00, 14.00s/it]\n",
      "100%|████████████████████████████████████████████| 4/4 [00:43<00:00, 10.95s/it]\n"
     ]
    },
    {
     "name": "stdout",
     "output_type": "stream",
     "text": [
      "4: Classifying data with PCA components of deepface-dlib representation\n",
      "\n"
     ]
    },
    {
     "name": "stderr",
     "output_type": "stream",
     "text": [
      "\r",
      "  0%|                                                    | 0/5 [00:00<?, ?it/s]"
     ]
    },
    {
     "name": "stdout",
     "output_type": "stream",
     "text": [
      "Data shape: (76, 75) and labels shape: (76,)\n"
     ]
    },
    {
     "name": "stderr",
     "output_type": "stream",
     "text": [
      "100%|████████████████████████████████████████████| 5/5 [00:02<00:00,  2.22it/s]\n",
      "100%|████████████████████████████████████████████| 4/4 [00:03<00:00,  1.26it/s]\n",
      "100%|████████████████████████████████████████████| 4/4 [00:19<00:00,  4.76s/it]\n",
      "100%|████████████████████████████████████████████| 4/4 [00:23<00:00,  5.88s/it]\n",
      "100%|████████████████████████████████████████████| 4/4 [00:28<00:00,  7.01s/it]\n"
     ]
    },
    {
     "name": "stdout",
     "output_type": "stream",
     "text": [
      "5: Classifying data with openface representation\n",
      "\n",
      "\n"
     ]
    },
    {
     "name": "stderr",
     "output_type": "stream",
     "text": [
      " 20%|████████▊                                   | 1/5 [00:00<00:00,  6.68it/s]"
     ]
    },
    {
     "name": "stdout",
     "output_type": "stream",
     "text": [
      "Data shape: (30, 128) and labels shape: (30,)\n"
     ]
    },
    {
     "name": "stderr",
     "output_type": "stream",
     "text": [
      "100%|████████████████████████████████████████████| 5/5 [00:00<00:00,  6.67it/s]\n",
      "100%|████████████████████████████████████████████| 4/4 [00:00<00:00,  6.84it/s]\n",
      "100%|████████████████████████████████████████████| 4/4 [00:06<00:00,  1.74s/it]\n",
      "100%|████████████████████████████████████████████| 4/4 [00:06<00:00,  1.52s/it]\n",
      "100%|████████████████████████████████████████████| 4/4 [00:09<00:00,  2.43s/it]\n"
     ]
    },
    {
     "name": "stdout",
     "output_type": "stream",
     "text": [
      "6: Classifying data with cfps representation\n",
      "\n",
      "\n"
     ]
    },
    {
     "name": "stderr",
     "output_type": "stream",
     "text": [
      " 20%|████████▊                                   | 1/5 [00:00<00:00,  6.27it/s]"
     ]
    },
    {
     "name": "stdout",
     "output_type": "stream",
     "text": [
      "Data shape: (30, 340) and labels shape: (30,)\n"
     ]
    },
    {
     "name": "stderr",
     "output_type": "stream",
     "text": [
      "100%|████████████████████████████████████████████| 5/5 [00:00<00:00,  5.95it/s]\n",
      "100%|████████████████████████████████████████████| 4/4 [00:01<00:00,  3.89it/s]\n",
      "100%|████████████████████████████████████████████| 4/4 [00:07<00:00,  1.77s/it]\n",
      "100%|████████████████████████████████████████████| 4/4 [00:11<00:00,  2.77s/it]\n",
      "100%|████████████████████████████████████████████| 4/4 [00:12<00:00,  3.18s/it]\n"
     ]
    },
    {
     "name": "stdout",
     "output_type": "stream",
     "text": [
      "7: Classifying data with openface+cfps representation\n",
      "\n",
      "\n"
     ]
    },
    {
     "name": "stderr",
     "output_type": "stream",
     "text": [
      " 20%|████████▊                                   | 1/5 [00:00<00:00,  5.71it/s]"
     ]
    },
    {
     "name": "stdout",
     "output_type": "stream",
     "text": [
      "Data shape: (30, 468) and labels shape: (30,)\n"
     ]
    },
    {
     "name": "stderr",
     "output_type": "stream",
     "text": [
      "100%|████████████████████████████████████████████| 5/5 [00:00<00:00,  5.71it/s]\n",
      "100%|████████████████████████████████████████████| 4/4 [00:01<00:00,  3.06it/s]\n",
      "100%|████████████████████████████████████████████| 4/4 [00:07<00:00,  1.79s/it]\n",
      "100%|████████████████████████████████████████████| 4/4 [00:13<00:00,  3.42s/it]\n",
      "100%|████████████████████████████████████████████| 4/4 [00:14<00:00,  3.66s/it]\n"
     ]
    },
    {
     "name": "stdout",
     "output_type": "stream",
     "text": [
      "8: Classifying data with facereader representation\n",
      "\n",
      "\n"
     ]
    },
    {
     "name": "stderr",
     "output_type": "stream",
     "text": [
      "\r",
      "  0%|                                                    | 0/5 [00:00<?, ?it/s]"
     ]
    },
    {
     "name": "stdout",
     "output_type": "stream",
     "text": [
      "Data shape: (51, 93) and labels shape: (51,)\n"
     ]
    },
    {
     "name": "stderr",
     "output_type": "stream",
     "text": [
      "100%|████████████████████████████████████████████| 5/5 [00:01<00:00,  3.90it/s]\n",
      "100%|████████████████████████████████████████████| 4/4 [00:01<00:00,  2.95it/s]\n",
      "100%|████████████████████████████████████████████| 4/4 [00:12<00:00,  3.03s/it]\n",
      "100%|████████████████████████████████████████████| 4/4 [00:12<00:00,  3.22s/it]\n",
      "100%|████████████████████████████████████████████| 4/4 [00:17<00:00,  4.42s/it]\n"
     ]
    },
    {
     "name": "stdout",
     "output_type": "stream",
     "text": [
      "Syndrome that will be classified: FBXO11 \n",
      "\n",
      "\n",
      "0: Classifying data with deepface representation\n",
      "\n",
      "\n"
     ]
    },
    {
     "name": "stderr",
     "output_type": "stream",
     "text": [
      "\r",
      "  0%|                                                    | 0/5 [00:00<?, ?it/s]"
     ]
    },
    {
     "name": "stdout",
     "output_type": "stream",
     "text": [
      "Data shape: (36, 4096) and labels shape: (36,)\n"
     ]
    },
    {
     "name": "stderr",
     "output_type": "stream",
     "text": [
      "100%|████████████████████████████████████████████| 5/5 [00:03<00:00,  1.53it/s]\n",
      "100%|████████████████████████████████████████████| 4/4 [00:17<00:00,  4.41s/it]\n",
      "100%|████████████████████████████████████████████| 4/4 [00:10<00:00,  2.51s/it]\n",
      "100%|████████████████████████████████████████████| 4/4 [01:35<00:00, 23.90s/it]\n",
      "100%|████████████████████████████████████████████| 4/4 [01:07<00:00, 16.95s/it]\n"
     ]
    },
    {
     "name": "stdout",
     "output_type": "stream",
     "text": [
      "1: Classifying data with dlib representation\n",
      "\n",
      "\n"
     ]
    },
    {
     "name": "stderr",
     "output_type": "stream",
     "text": [
      "\r",
      "  0%|                                                    | 0/5 [00:00<?, ?it/s]"
     ]
    },
    {
     "name": "stdout",
     "output_type": "stream",
     "text": [
      "Data shape: (36, 2210) and labels shape: (36,)\n"
     ]
    },
    {
     "name": "stderr",
     "output_type": "stream",
     "text": [
      "100%|████████████████████████████████████████████| 5/5 [00:01<00:00,  2.80it/s]\n",
      "100%|████████████████████████████████████████████| 4/4 [00:08<00:00,  2.05s/it]\n",
      "100%|████████████████████████████████████████████| 4/4 [00:09<00:00,  2.39s/it]\n",
      "100%|████████████████████████████████████████████| 4/4 [01:26<00:00, 21.60s/it]\n",
      "100%|████████████████████████████████████████████| 4/4 [00:52<00:00, 13.21s/it]\n"
     ]
    },
    {
     "name": "stdout",
     "output_type": "stream",
     "text": [
      "2: Classifying data with all deepface+dlib representations\n",
      "\n",
      "\n"
     ]
    },
    {
     "name": "stderr",
     "output_type": "stream",
     "text": [
      "\r",
      "  0%|                                                    | 0/5 [00:00<?, ?it/s]"
     ]
    },
    {
     "name": "stdout",
     "output_type": "stream",
     "text": [
      "Data shape: (36, 6306) and labels shape: (36,)\n"
     ]
    },
    {
     "name": "stderr",
     "output_type": "stream",
     "text": [
      "100%|████████████████████████████████████████████| 5/5 [00:04<00:00,  1.14it/s]\n",
      "100%|████████████████████████████████████████████| 4/4 [00:27<00:00,  6.80s/it]\n",
      "100%|████████████████████████████████████████████| 4/4 [00:10<00:00,  2.74s/it]\n",
      "100%|████████████████████████████████████████████| 4/4 [02:45<00:00, 41.33s/it]\n",
      "100%|████████████████████████████████████████████| 4/4 [01:52<00:00, 28.09s/it]\n"
     ]
    },
    {
     "name": "stdout",
     "output_type": "stream",
     "text": [
      "3: Classifying data with the 300 most important features of deepface-dlib representations\n",
      "\n",
      "\n"
     ]
    },
    {
     "name": "stderr",
     "output_type": "stream",
     "text": [
      "\r",
      "  0%|                                                    | 0/5 [00:00<?, ?it/s]"
     ]
    },
    {
     "name": "stdout",
     "output_type": "stream",
     "text": [
      "Data shape: (36, 300) and labels shape: (36,)\n"
     ]
    },
    {
     "name": "stderr",
     "output_type": "stream",
     "text": [
      "100%|████████████████████████████████████████████| 5/5 [00:01<00:00,  4.91it/s]\n",
      "100%|████████████████████████████████████████████| 4/4 [00:01<00:00,  2.66it/s]\n",
      "100%|████████████████████████████████████████████| 4/4 [00:08<00:00,  2.15s/it]\n",
      "100%|████████████████████████████████████████████| 4/4 [00:12<00:00,  3.09s/it]\n",
      "100%|████████████████████████████████████████████| 4/4 [00:14<00:00,  3.64s/it]\n"
     ]
    },
    {
     "name": "stdout",
     "output_type": "stream",
     "text": [
      "4: Classifying data with PCA components of deepface-dlib representation\n",
      "\n"
     ]
    },
    {
     "name": "stderr",
     "output_type": "stream",
     "text": [
      " 20%|████████▊                                   | 1/5 [00:00<00:00,  5.75it/s]"
     ]
    },
    {
     "name": "stdout",
     "output_type": "stream",
     "text": [
      "Data shape: (36, 35) and labels shape: (36,)\n"
     ]
    },
    {
     "name": "stderr",
     "output_type": "stream",
     "text": [
      "100%|████████████████████████████████████████████| 5/5 [00:00<00:00,  5.73it/s]\n",
      "100%|████████████████████████████████████████████| 4/4 [00:00<00:00,  8.21it/s]\n",
      "100%|████████████████████████████████████████████| 4/4 [00:08<00:00,  2.06s/it]\n",
      "100%|████████████████████████████████████████████| 4/4 [00:05<00:00,  1.31s/it]\n",
      "100%|████████████████████████████████████████████| 4/4 [00:10<00:00,  2.55s/it]\n"
     ]
    },
    {
     "name": "stdout",
     "output_type": "stream",
     "text": [
      "5: Classifying data with openface representation\n",
      "\n",
      "\n"
     ]
    },
    {
     "name": "stderr",
     "output_type": "stream",
     "text": [
      " 20%|████████▊                                   | 1/5 [00:00<00:00,  6.01it/s]"
     ]
    },
    {
     "name": "stdout",
     "output_type": "stream",
     "text": [
      "Data shape: (32, 128) and labels shape: (32,)\n"
     ]
    },
    {
     "name": "stderr",
     "output_type": "stream",
     "text": [
      "100%|████████████████████████████████████████████| 5/5 [00:00<00:00,  6.13it/s]\n",
      "100%|████████████████████████████████████████████| 4/4 [00:00<00:00,  6.00it/s]\n",
      "100%|████████████████████████████████████████████| 4/4 [00:07<00:00,  1.87s/it]\n",
      "100%|████████████████████████████████████████████| 4/4 [00:07<00:00,  1.75s/it]\n",
      "100%|████████████████████████████████████████████| 4/4 [00:10<00:00,  2.64s/it]\n"
     ]
    },
    {
     "name": "stdout",
     "output_type": "stream",
     "text": [
      "6: Classifying data with cfps representation\n",
      "\n",
      "\n"
     ]
    },
    {
     "name": "stderr",
     "output_type": "stream",
     "text": [
      " 20%|████████▊                                   | 1/5 [00:00<00:00,  5.78it/s]"
     ]
    },
    {
     "name": "stdout",
     "output_type": "stream",
     "text": [
      "Data shape: (32, 340) and labels shape: (32,)\n"
     ]
    },
    {
     "name": "stderr",
     "output_type": "stream",
     "text": [
      "100%|████████████████████████████████████████████| 5/5 [00:00<00:00,  5.68it/s]\n",
      "100%|████████████████████████████████████████████| 4/4 [00:01<00:00,  3.33it/s]\n",
      "100%|████████████████████████████████████████████| 4/4 [00:07<00:00,  1.91s/it]\n",
      "100%|████████████████████████████████████████████| 4/4 [00:12<00:00,  3.14s/it]\n",
      "100%|████████████████████████████████████████████| 4/4 [00:14<00:00,  3.52s/it]\n"
     ]
    },
    {
     "name": "stdout",
     "output_type": "stream",
     "text": [
      "7: Classifying data with openface+cfps representation\n",
      "\n",
      "\n"
     ]
    },
    {
     "name": "stderr",
     "output_type": "stream",
     "text": [
      " 20%|████████▊                                   | 1/5 [00:00<00:00,  5.39it/s]"
     ]
    },
    {
     "name": "stdout",
     "output_type": "stream",
     "text": [
      "Data shape: (32, 468) and labels shape: (32,)\n"
     ]
    },
    {
     "name": "stderr",
     "output_type": "stream",
     "text": [
      "100%|████████████████████████████████████████████| 5/5 [00:00<00:00,  5.34it/s]\n",
      "100%|████████████████████████████████████████████| 4/4 [00:01<00:00,  2.58it/s]\n",
      "100%|████████████████████████████████████████████| 4/4 [00:07<00:00,  1.92s/it]\n",
      "100%|████████████████████████████████████████████| 4/4 [00:15<00:00,  3.96s/it]\n",
      "100%|████████████████████████████████████████████| 4/4 [00:16<00:00,  4.00s/it]\n"
     ]
    },
    {
     "name": "stdout",
     "output_type": "stream",
     "text": [
      "8: Classifying data with facereader representation\n",
      "\n",
      "\n"
     ]
    },
    {
     "name": "stderr",
     "output_type": "stream",
     "text": [
      " 20%|████████▊                                   | 1/5 [00:00<00:00,  6.39it/s]"
     ]
    },
    {
     "name": "stdout",
     "output_type": "stream",
     "text": [
      "Data shape: (34, 93) and labels shape: (34,)\n"
     ]
    },
    {
     "name": "stderr",
     "output_type": "stream",
     "text": [
      "100%|████████████████████████████████████████████| 5/5 [00:00<00:00,  5.97it/s]\n",
      "100%|████████████████████████████████████████████| 4/4 [00:00<00:00,  6.64it/s]\n",
      "100%|████████████████████████████████████████████| 4/4 [00:07<00:00,  1.97s/it]\n",
      "100%|████████████████████████████████████████████| 4/4 [00:06<00:00,  1.66s/it]\n",
      "100%|████████████████████████████████████████████| 4/4 [00:10<00:00,  2.66s/it]\n"
     ]
    },
    {
     "name": "stdout",
     "output_type": "stream",
     "text": [
      "Syndrome that will be classified: SON \n",
      "\n",
      "\n",
      "0: Classifying data with deepface representation\n",
      "\n",
      "\n"
     ]
    },
    {
     "name": "stderr",
     "output_type": "stream",
     "text": [
      "\r",
      "  0%|                                                    | 0/5 [00:00<?, ?it/s]"
     ]
    },
    {
     "name": "stdout",
     "output_type": "stream",
     "text": [
      "Data shape: (38, 4096) and labels shape: (38,)\n"
     ]
    },
    {
     "name": "stderr",
     "output_type": "stream",
     "text": [
      "100%|████████████████████████████████████████████| 5/5 [00:03<00:00,  1.39it/s]\n",
      "100%|████████████████████████████████████████████| 4/4 [00:20<00:00,  5.06s/it]\n",
      "100%|████████████████████████████████████████████| 4/4 [00:10<00:00,  2.68s/it]\n",
      "100%|████████████████████████████████████████████| 4/4 [01:51<00:00, 27.76s/it]\n",
      "100%|████████████████████████████████████████████| 4/4 [01:15<00:00, 18.93s/it]\n"
     ]
    },
    {
     "name": "stdout",
     "output_type": "stream",
     "text": [
      "1: Classifying data with dlib representation\n",
      "\n",
      "\n"
     ]
    },
    {
     "name": "stderr",
     "output_type": "stream",
     "text": [
      "\r",
      "  0%|                                                    | 0/5 [00:00<?, ?it/s]"
     ]
    },
    {
     "name": "stdout",
     "output_type": "stream",
     "text": [
      "Data shape: (38, 2210) and labels shape: (38,)\n"
     ]
    },
    {
     "name": "stderr",
     "output_type": "stream",
     "text": [
      "100%|████████████████████████████████████████████| 5/5 [00:01<00:00,  2.60it/s]\n",
      "100%|████████████████████████████████████████████| 4/4 [00:09<00:00,  2.36s/it]\n",
      "100%|████████████████████████████████████████████| 4/4 [00:10<00:00,  2.57s/it]\n",
      "100%|████████████████████████████████████████████| 4/4 [01:36<00:00, 24.19s/it]\n",
      "100%|████████████████████████████████████████████| 4/4 [00:58<00:00, 14.71s/it]\n"
     ]
    },
    {
     "name": "stdout",
     "output_type": "stream",
     "text": [
      "2: Classifying data with all deepface+dlib representations\n",
      "\n",
      "\n"
     ]
    },
    {
     "name": "stderr",
     "output_type": "stream",
     "text": [
      "\r",
      "  0%|                                                    | 0/5 [00:00<?, ?it/s]"
     ]
    },
    {
     "name": "stdout",
     "output_type": "stream",
     "text": [
      "Data shape: (38, 6306) and labels shape: (38,)\n"
     ]
    },
    {
     "name": "stderr",
     "output_type": "stream",
     "text": [
      "100%|████████████████████████████████████████████| 5/5 [00:04<00:00,  1.04it/s]\n",
      "100%|████████████████████████████████████████████| 4/4 [00:30<00:00,  7.75s/it]\n",
      "100%|████████████████████████████████████████████| 4/4 [00:11<00:00,  2.91s/it]\n",
      "100%|████████████████████████████████████████████| 4/4 [03:15<00:00, 48.88s/it]\n",
      "100%|████████████████████████████████████████████| 4/4 [02:05<00:00, 31.38s/it]\n"
     ]
    },
    {
     "name": "stdout",
     "output_type": "stream",
     "text": [
      "3: Classifying data with the 300 most important features of deepface-dlib representations\n",
      "\n",
      "\n"
     ]
    },
    {
     "name": "stderr",
     "output_type": "stream",
     "text": [
      "\r",
      "  0%|                                                    | 0/5 [00:00<?, ?it/s]"
     ]
    },
    {
     "name": "stdout",
     "output_type": "stream",
     "text": [
      "Data shape: (38, 300) and labels shape: (38,)\n"
     ]
    },
    {
     "name": "stderr",
     "output_type": "stream",
     "text": [
      "100%|████████████████████████████████████████████| 5/5 [00:01<00:00,  4.34it/s]\n",
      "100%|████████████████████████████████████████████| 4/4 [00:01<00:00,  2.41it/s]\n",
      "100%|████████████████████████████████████████████| 4/4 [00:09<00:00,  2.26s/it]\n",
      "100%|████████████████████████████████████████████| 4/4 [00:13<00:00,  3.32s/it]\n",
      "100%|████████████████████████████████████████████| 4/4 [00:15<00:00,  3.85s/it]\n"
     ]
    },
    {
     "name": "stdout",
     "output_type": "stream",
     "text": [
      "4: Classifying data with PCA components of deepface-dlib representation\n",
      "\n"
     ]
    },
    {
     "name": "stderr",
     "output_type": "stream",
     "text": [
      "\r",
      "  0%|                                                    | 0/5 [00:00<?, ?it/s]"
     ]
    },
    {
     "name": "stdout",
     "output_type": "stream",
     "text": [
      "Data shape: (38, 37) and labels shape: (38,)\n"
     ]
    },
    {
     "name": "stderr",
     "output_type": "stream",
     "text": [
      "100%|████████████████████████████████████████████| 5/5 [00:00<00:00,  5.43it/s]\n",
      "100%|████████████████████████████████████████████| 4/4 [00:00<00:00,  7.34it/s]\n",
      "100%|████████████████████████████████████████████| 4/4 [00:08<00:00,  2.19s/it]\n",
      "100%|████████████████████████████████████████████| 4/4 [00:05<00:00,  1.39s/it]\n",
      "100%|████████████████████████████████████████████| 4/4 [00:10<00:00,  2.72s/it]\n"
     ]
    },
    {
     "name": "stdout",
     "output_type": "stream",
     "text": [
      "5: Classifying data with openface representation\n",
      "\n",
      "\n"
     ]
    },
    {
     "name": "stderr",
     "output_type": "stream",
     "text": [
      " 20%|████████▊                                   | 1/5 [00:00<00:00,  5.73it/s]"
     ]
    },
    {
     "name": "stdout",
     "output_type": "stream",
     "text": [
      "Data shape: (38, 128) and labels shape: (38,)\n"
     ]
    },
    {
     "name": "stderr",
     "output_type": "stream",
     "text": [
      "100%|████████████████████████████████████████████| 5/5 [00:00<00:00,  5.26it/s]\n",
      "100%|████████████████████████████████████████████| 4/4 [00:00<00:00,  4.22it/s]\n",
      "100%|████████████████████████████████████████████| 4/4 [00:08<00:00,  2.24s/it]\n",
      "100%|████████████████████████████████████████████| 4/4 [00:09<00:00,  2.39s/it]\n",
      "100%|████████████████████████████████████████████| 4/4 [00:13<00:00,  3.28s/it]\n"
     ]
    },
    {
     "name": "stdout",
     "output_type": "stream",
     "text": [
      "6: Classifying data with cfps representation\n",
      "\n",
      "\n"
     ]
    },
    {
     "name": "stderr",
     "output_type": "stream",
     "text": [
      "\r",
      "  0%|                                                    | 0/5 [00:00<?, ?it/s]"
     ]
    },
    {
     "name": "stdout",
     "output_type": "stream",
     "text": [
      "Data shape: (38, 340) and labels shape: (38,)\n"
     ]
    },
    {
     "name": "stderr",
     "output_type": "stream",
     "text": [
      "100%|████████████████████████████████████████████| 5/5 [00:01<00:00,  4.67it/s]\n",
      "100%|████████████████████████████████████████████| 4/4 [00:01<00:00,  2.16it/s]\n",
      "100%|████████████████████████████████████████████| 4/4 [00:09<00:00,  2.30s/it]\n",
      "100%|████████████████████████████████████████████| 4/4 [00:18<00:00,  4.57s/it]\n",
      "100%|████████████████████████████████████████████| 4/4 [00:17<00:00,  4.47s/it]\n"
     ]
    },
    {
     "name": "stdout",
     "output_type": "stream",
     "text": [
      "7: Classifying data with openface+cfps representation\n",
      "\n",
      "\n"
     ]
    },
    {
     "name": "stderr",
     "output_type": "stream",
     "text": [
      "\r",
      "  0%|                                                    | 0/5 [00:00<?, ?it/s]"
     ]
    },
    {
     "name": "stdout",
     "output_type": "stream",
     "text": [
      "Data shape: (38, 468) and labels shape: (38,)\n"
     ]
    },
    {
     "name": "stderr",
     "output_type": "stream",
     "text": [
      "100%|████████████████████████████████████████████| 5/5 [00:01<00:00,  4.33it/s]\n",
      "100%|████████████████████████████████████████████| 4/4 [00:02<00:00,  1.65it/s]\n",
      "100%|████████████████████████████████████████████| 4/4 [00:09<00:00,  2.33s/it]\n",
      "100%|████████████████████████████████████████████| 4/4 [00:23<00:00,  5.93s/it]\n",
      "100%|████████████████████████████████████████████| 4/4 [00:20<00:00,  5.24s/it]\n"
     ]
    },
    {
     "name": "stdout",
     "output_type": "stream",
     "text": [
      "8: Classifying data with facereader representation\n",
      "\n",
      "\n"
     ]
    },
    {
     "name": "stderr",
     "output_type": "stream",
     "text": [
      " 20%|████████▊                                   | 1/5 [00:00<00:00,  7.08it/s]"
     ]
    },
    {
     "name": "stdout",
     "output_type": "stream",
     "text": [
      "Data shape: (29, 93) and labels shape: (29,)\n"
     ]
    },
    {
     "name": "stderr",
     "output_type": "stream",
     "text": [
      "100%|████████████████████████████████████████████| 5/5 [00:00<00:00,  6.91it/s]\n",
      "100%|████████████████████████████████████████████| 4/4 [00:00<00:00,  8.85it/s]\n",
      "100%|████████████████████████████████████████████| 4/4 [00:06<00:00,  1.66s/it]\n",
      "100%|████████████████████████████████████████████| 4/4 [00:04<00:00,  1.22s/it]\n",
      "100%|████████████████████████████████████████████| 4/4 [00:08<00:00,  2.21s/it]\n"
     ]
    },
    {
     "name": "stdout",
     "output_type": "stream",
     "text": [
      "Syndrome that will be classified: WAC \n",
      "\n",
      "\n",
      "0: Classifying data with deepface representation\n",
      "\n",
      "\n"
     ]
    },
    {
     "name": "stderr",
     "output_type": "stream",
     "text": [
      "\r",
      "  0%|                                                    | 0/5 [00:00<?, ?it/s]"
     ]
    },
    {
     "name": "stdout",
     "output_type": "stream",
     "text": [
      "Data shape: (28, 4096) and labels shape: (28,)\n"
     ]
    },
    {
     "name": "stderr",
     "output_type": "stream",
     "text": [
      "100%|████████████████████████████████████████████| 5/5 [00:01<00:00,  2.52it/s]\n",
      "100%|████████████████████████████████████████████| 4/4 [00:08<00:00,  2.07s/it]\n",
      "100%|████████████████████████████████████████████| 4/4 [00:07<00:00,  1.80s/it]\n",
      "100%|████████████████████████████████████████████| 4/4 [00:43<00:00, 10.77s/it]\n",
      "100%|████████████████████████████████████████████| 4/4 [00:11<00:00,  2.81s/it]\n"
     ]
    },
    {
     "name": "stdout",
     "output_type": "stream",
     "text": [
      "1: Classifying data with dlib representation\n",
      "\n",
      "\n"
     ]
    },
    {
     "name": "stderr",
     "output_type": "stream",
     "text": [
      "\r",
      "  0%|                                                    | 0/5 [00:00<?, ?it/s]"
     ]
    },
    {
     "name": "stdout",
     "output_type": "stream",
     "text": [
      "Data shape: (28, 2210) and labels shape: (28,)\n"
     ]
    },
    {
     "name": "stderr",
     "output_type": "stream",
     "text": [
      "100%|████████████████████████████████████████████| 5/5 [00:01<00:00,  3.98it/s]\n",
      "100%|████████████████████████████████████████████| 4/4 [00:03<00:00,  1.12it/s]\n",
      "100%|████████████████████████████████████████████| 4/4 [00:06<00:00,  1.74s/it]\n",
      "100%|████████████████████████████████████████████| 4/4 [00:38<00:00,  9.65s/it]\n",
      "100%|████████████████████████████████████████████| 4/4 [00:32<00:00,  8.15s/it]\n"
     ]
    },
    {
     "name": "stdout",
     "output_type": "stream",
     "text": [
      "2: Classifying data with all deepface+dlib representations\n",
      "\n",
      "\n"
     ]
    },
    {
     "name": "stderr",
     "output_type": "stream",
     "text": [
      "\r",
      "  0%|                                                    | 0/5 [00:00<?, ?it/s]"
     ]
    },
    {
     "name": "stdout",
     "output_type": "stream",
     "text": [
      "Data shape: (28, 6306) and labels shape: (28,)\n"
     ]
    },
    {
     "name": "stderr",
     "output_type": "stream",
     "text": [
      "100%|████████████████████████████████████████████| 5/5 [00:02<00:00,  1.76it/s]\n",
      "100%|████████████████████████████████████████████| 4/4 [00:12<00:00,  3.19s/it]\n",
      "100%|████████████████████████████████████████████| 4/4 [00:07<00:00,  1.94s/it]\n",
      "100%|████████████████████████████████████████████| 4/4 [01:27<00:00, 21.87s/it]\n",
      "100%|████████████████████████████████████████████| 4/4 [01:06<00:00, 16.67s/it]\n"
     ]
    },
    {
     "name": "stdout",
     "output_type": "stream",
     "text": [
      "3: Classifying data with the 300 most important features of deepface-dlib representations\n",
      "\n",
      "\n"
     ]
    },
    {
     "name": "stderr",
     "output_type": "stream",
     "text": [
      " 20%|████████▊                                   | 1/5 [00:00<00:00,  6.02it/s]"
     ]
    },
    {
     "name": "stdout",
     "output_type": "stream",
     "text": [
      "Data shape: (28, 300) and labels shape: (28,)\n"
     ]
    },
    {
     "name": "stderr",
     "output_type": "stream",
     "text": [
      "100%|████████████████████████████████████████████| 5/5 [00:00<00:00,  6.39it/s]\n",
      "100%|████████████████████████████████████████████| 4/4 [00:00<00:00,  4.90it/s]\n",
      "100%|████████████████████████████████████████████| 4/4 [00:06<00:00,  1.62s/it]\n",
      "100%|████████████████████████████████████████████| 4/4 [00:06<00:00,  1.65s/it]\n",
      "100%|████████████████████████████████████████████| 4/4 [00:10<00:00,  2.56s/it]\n"
     ]
    },
    {
     "name": "stdout",
     "output_type": "stream",
     "text": [
      "4: Classifying data with PCA components of deepface-dlib representation\n",
      "\n"
     ]
    },
    {
     "name": "stderr",
     "output_type": "stream",
     "text": [
      " 20%|████████▊                                   | 1/5 [00:00<00:00,  7.42it/s]"
     ]
    },
    {
     "name": "stdout",
     "output_type": "stream",
     "text": [
      "Data shape: (28, 27) and labels shape: (28,)\n"
     ]
    },
    {
     "name": "stderr",
     "output_type": "stream",
     "text": [
      "100%|████████████████████████████████████████████| 5/5 [00:00<00:00,  7.19it/s]\n",
      "100%|████████████████████████████████████████████| 4/4 [00:00<00:00, 13.06it/s]\n",
      "100%|████████████████████████████████████████████| 4/4 [00:06<00:00,  1.59s/it]\n",
      "100%|████████████████████████████████████████████| 4/4 [00:03<00:00,  1.24it/s]\n",
      "100%|████████████████████████████████████████████| 4/4 [00:07<00:00,  1.93s/it]\n"
     ]
    },
    {
     "name": "stdout",
     "output_type": "stream",
     "text": [
      "5: Classifying data with openface representation\n",
      "\n",
      "\n"
     ]
    },
    {
     "name": "stderr",
     "output_type": "stream",
     "text": [
      "100%|████████████████████████████████████████████| 5/5 [00:00<00:00, 27.06it/s]"
     ]
    },
    {
     "name": "stdout",
     "output_type": "stream",
     "text": [
      "Data shape: (10, 128) and labels shape: (10,)\n"
     ]
    },
    {
     "name": "stderr",
     "output_type": "stream",
     "text": [
      "\n",
      "100%|████████████████████████████████████████████| 4/4 [00:00<00:00, 40.65it/s]\n",
      "100%|████████████████████████████████████████████| 4/4 [00:02<00:00,  1.78it/s]\n",
      "100%|████████████████████████████████████████████| 4/4 [00:00<00:00,  4.31it/s]\n",
      "100%|████████████████████████████████████████████| 4/4 [00:00<00:00, 16.63it/s]\n",
      "  0%|                                                    | 0/5 [00:00<?, ?it/s]"
     ]
    },
    {
     "name": "stdout",
     "output_type": "stream",
     "text": [
      "6: Classifying data with cfps representation\n",
      "\n",
      "\n",
      "Data shape: (10, 340) and labels shape: (10,)\n"
     ]
    },
    {
     "name": "stderr",
     "output_type": "stream",
     "text": [
      "100%|████████████████████████████████████████████| 5/5 [00:00<00:00, 25.00it/s]\n",
      "100%|████████████████████████████████████████████| 4/4 [00:00<00:00, 30.86it/s]\n",
      "100%|████████████████████████████████████████████| 4/4 [00:02<00:00,  1.77it/s]\n",
      "100%|████████████████████████████████████████████| 4/4 [00:01<00:00,  3.29it/s]\n",
      "100%|████████████████████████████████████████████| 4/4 [00:00<00:00, 16.01it/s]\n",
      "  0%|                                                    | 0/5 [00:00<?, ?it/s]"
     ]
    },
    {
     "name": "stdout",
     "output_type": "stream",
     "text": [
      "7: Classifying data with openface+cfps representation\n",
      "\n",
      "\n",
      "Data shape: (10, 468) and labels shape: (10,)\n"
     ]
    },
    {
     "name": "stderr",
     "output_type": "stream",
     "text": [
      "100%|████████████████████████████████████████████| 5/5 [00:00<00:00, 24.73it/s]\n",
      "100%|████████████████████████████████████████████| 4/4 [00:00<00:00, 31.65it/s]\n",
      "100%|████████████████████████████████████████████| 4/4 [00:02<00:00,  1.73it/s]\n",
      "100%|████████████████████████████████████████████| 4/4 [00:01<00:00,  3.00it/s]\n",
      "100%|████████████████████████████████████████████| 4/4 [00:00<00:00, 14.83it/s]\n",
      "  0%|                                                    | 0/5 [00:00<?, ?it/s]"
     ]
    },
    {
     "name": "stdout",
     "output_type": "stream",
     "text": [
      "8: Classifying data with facereader representation\n",
      "\n",
      "\n",
      "Data shape: (22, 93) and labels shape: (22,)\n"
     ]
    },
    {
     "name": "stderr",
     "output_type": "stream",
     "text": [
      "100%|████████████████████████████████████████████| 5/5 [00:00<00:00,  9.11it/s]\n",
      "100%|████████████████████████████████████████████| 4/4 [00:00<00:00, 14.25it/s]\n",
      "100%|████████████████████████████████████████████| 4/4 [00:05<00:00,  1.25s/it]\n",
      "100%|████████████████████████████████████████████| 4/4 [00:02<00:00,  1.44it/s]\n",
      "100%|████████████████████████████████████████████| 4/4 [00:06<00:00,  1.54s/it]\n"
     ]
    },
    {
     "name": "stdout",
     "output_type": "stream",
     "text": [
      "Syndrome that will be classified: YY1 \n",
      "\n",
      "\n",
      "0: Classifying data with deepface representation\n",
      "\n",
      "\n"
     ]
    },
    {
     "name": "stderr",
     "output_type": "stream",
     "text": [
      "\r",
      "  0%|                                                    | 0/5 [00:00<?, ?it/s]"
     ]
    },
    {
     "name": "stdout",
     "output_type": "stream",
     "text": [
      "Data shape: (24, 4096) and labels shape: (24,)\n"
     ]
    },
    {
     "name": "stderr",
     "output_type": "stream",
     "text": [
      "100%|████████████████████████████████████████████| 5/5 [00:01<00:00,  3.50it/s]\n",
      "100%|████████████████████████████████████████████| 4/4 [00:04<00:00,  1.19s/it]\n",
      "100%|████████████████████████████████████████████| 4/4 [00:06<00:00,  1.50s/it]\n",
      "100%|████████████████████████████████████████████| 4/4 [00:35<00:00,  8.77s/it]\n",
      "100%|████████████████████████████████████████████| 4/4 [00:29<00:00,  7.49s/it]\n"
     ]
    },
    {
     "name": "stdout",
     "output_type": "stream",
     "text": [
      "1: Classifying data with dlib representation\n",
      "\n",
      "\n"
     ]
    },
    {
     "name": "stderr",
     "output_type": "stream",
     "text": [
      " 20%|████████▊                                   | 1/5 [00:00<00:00,  5.22it/s]"
     ]
    },
    {
     "name": "stdout",
     "output_type": "stream",
     "text": [
      "Data shape: (24, 2210) and labels shape: (24,)\n"
     ]
    },
    {
     "name": "stderr",
     "output_type": "stream",
     "text": [
      "100%|████████████████████████████████████████████| 5/5 [00:00<00:00,  5.28it/s]\n",
      "100%|████████████████████████████████████████████| 4/4 [00:02<00:00,  1.57it/s]\n",
      "100%|████████████████████████████████████████████| 4/4 [00:05<00:00,  1.48s/it]\n",
      "100%|████████████████████████████████████████████| 4/4 [00:28<00:00,  7.11s/it]\n",
      "100%|████████████████████████████████████████████| 4/4 [00:23<00:00,  5.84s/it]\n"
     ]
    },
    {
     "name": "stdout",
     "output_type": "stream",
     "text": [
      "2: Classifying data with all deepface+dlib representations\n",
      "\n",
      "\n"
     ]
    },
    {
     "name": "stderr",
     "output_type": "stream",
     "text": [
      "\r",
      "  0%|                                                    | 0/5 [00:00<?, ?it/s]"
     ]
    },
    {
     "name": "stdout",
     "output_type": "stream",
     "text": [
      "Data shape: (24, 6306) and labels shape: (24,)\n"
     ]
    },
    {
     "name": "stderr",
     "output_type": "stream",
     "text": [
      "100%|████████████████████████████████████████████| 5/5 [00:02<00:00,  2.48it/s]\n",
      "100%|████████████████████████████████████████████| 4/4 [00:08<00:00,  2.06s/it]\n",
      "100%|████████████████████████████████████████████| 4/4 [00:06<00:00,  1.60s/it]\n",
      "100%|████████████████████████████████████████████| 4/4 [01:02<00:00, 15.66s/it]\n",
      "100%|████████████████████████████████████████████| 4/4 [00:46<00:00, 11.60s/it]\n"
     ]
    },
    {
     "name": "stdout",
     "output_type": "stream",
     "text": [
      "3: Classifying data with the 300 most important features of deepface-dlib representations\n",
      "\n",
      "\n"
     ]
    },
    {
     "name": "stderr",
     "output_type": "stream",
     "text": [
      " 20%|████████▊                                   | 1/5 [00:00<00:00,  7.62it/s]"
     ]
    },
    {
     "name": "stdout",
     "output_type": "stream",
     "text": [
      "Data shape: (24, 300) and labels shape: (24,)\n"
     ]
    },
    {
     "name": "stderr",
     "output_type": "stream",
     "text": [
      "100%|████████████████████████████████████████████| 5/5 [00:00<00:00,  7.71it/s]\n",
      "100%|████████████████████████████████████████████| 4/4 [00:00<00:00,  7.08it/s]\n",
      "100%|████████████████████████████████████████████| 4/4 [00:05<00:00,  1.39s/it]\n",
      "100%|████████████████████████████████████████████| 4/4 [00:04<00:00,  1.17s/it]\n",
      "100%|████████████████████████████████████████████| 4/4 [00:07<00:00,  1.99s/it]\n"
     ]
    },
    {
     "name": "stdout",
     "output_type": "stream",
     "text": [
      "4: Classifying data with PCA components of deepface-dlib representation\n",
      "\n"
     ]
    },
    {
     "name": "stderr",
     "output_type": "stream",
     "text": [
      " 20%|████████▊                                   | 1/5 [00:00<00:00,  7.40it/s]"
     ]
    },
    {
     "name": "stdout",
     "output_type": "stream",
     "text": [
      "Data shape: (24, 23) and labels shape: (24,)\n"
     ]
    },
    {
     "name": "stderr",
     "output_type": "stream",
     "text": [
      "100%|████████████████████████████████████████████| 5/5 [00:00<00:00,  8.31it/s]\n",
      "100%|████████████████████████████████████████████| 4/4 [00:00<00:00, 15.03it/s]\n",
      "100%|████████████████████████████████████████████| 4/4 [00:05<00:00,  1.35s/it]\n",
      "100%|████████████████████████████████████████████| 4/4 [00:02<00:00,  1.61it/s]\n",
      "100%|████████████████████████████████████████████| 4/4 [00:06<00:00,  1.61s/it]\n"
     ]
    },
    {
     "name": "stdout",
     "output_type": "stream",
     "text": [
      "5: Classifying data with openface representation\n",
      "\n",
      "\n"
     ]
    },
    {
     "name": "stderr",
     "output_type": "stream",
     "text": [
      " 20%|████████▊                                   | 1/5 [00:00<00:00,  8.88it/s]"
     ]
    },
    {
     "name": "stdout",
     "output_type": "stream",
     "text": [
      "Data shape: (24, 128) and labels shape: (24,)\n"
     ]
    },
    {
     "name": "stderr",
     "output_type": "stream",
     "text": [
      "100%|████████████████████████████████████████████| 5/5 [00:00<00:00,  8.61it/s]\n",
      "100%|████████████████████████████████████████████| 4/4 [00:00<00:00, 10.88it/s]\n",
      "100%|████████████████████████████████████████████| 4/4 [00:05<00:00,  1.37s/it]\n",
      "100%|████████████████████████████████████████████| 4/4 [00:04<00:00,  1.02s/it]\n",
      "100%|████████████████████████████████████████████| 4/4 [00:07<00:00,  1.85s/it]\n"
     ]
    },
    {
     "name": "stdout",
     "output_type": "stream",
     "text": [
      "6: Classifying data with cfps representation\n",
      "\n",
      "\n"
     ]
    },
    {
     "name": "stderr",
     "output_type": "stream",
     "text": [
      " 20%|████████▊                                   | 1/5 [00:00<00:00,  7.66it/s]"
     ]
    },
    {
     "name": "stdout",
     "output_type": "stream",
     "text": [
      "Data shape: (24, 340) and labels shape: (24,)\n"
     ]
    },
    {
     "name": "stderr",
     "output_type": "stream",
     "text": [
      "100%|████████████████████████████████████████████| 5/5 [00:00<00:00,  7.53it/s]\n",
      "100%|████████████████████████████████████████████| 4/4 [00:00<00:00,  6.50it/s]\n",
      "100%|████████████████████████████████████████████| 4/4 [00:05<00:00,  1.40s/it]\n",
      "100%|████████████████████████████████████████████| 4/4 [00:06<00:00,  1.52s/it]\n",
      "100%|████████████████████████████████████████████| 4/4 [00:09<00:00,  2.25s/it]\n"
     ]
    },
    {
     "name": "stdout",
     "output_type": "stream",
     "text": [
      "7: Classifying data with openface+cfps representation\n",
      "\n",
      "\n"
     ]
    },
    {
     "name": "stderr",
     "output_type": "stream",
     "text": [
      " 20%|████████▊                                   | 1/5 [00:00<00:00,  8.28it/s]"
     ]
    },
    {
     "name": "stdout",
     "output_type": "stream",
     "text": [
      "Data shape: (24, 468) and labels shape: (24,)\n"
     ]
    },
    {
     "name": "stderr",
     "output_type": "stream",
     "text": [
      "100%|████████████████████████████████████████████| 5/5 [00:00<00:00,  7.30it/s]\n",
      "100%|████████████████████████████████████████████| 4/4 [00:00<00:00,  5.14it/s]\n",
      "100%|████████████████████████████████████████████| 4/4 [00:05<00:00,  1.40s/it]\n",
      "100%|████████████████████████████████████████████| 4/4 [00:07<00:00,  1.88s/it]\n",
      "100%|████████████████████████████████████████████| 4/4 [00:10<00:00,  2.52s/it]\n"
     ]
    },
    {
     "name": "stdout",
     "output_type": "stream",
     "text": [
      "8: Classifying data with facereader representation\n",
      "\n",
      "\n"
     ]
    },
    {
     "name": "stderr",
     "output_type": "stream",
     "text": [
      " 20%|████████▊                                   | 1/5 [00:00<00:00,  8.04it/s]"
     ]
    },
    {
     "name": "stdout",
     "output_type": "stream",
     "text": [
      "Data shape: (20, 93) and labels shape: (20,)\n"
     ]
    },
    {
     "name": "stderr",
     "output_type": "stream",
     "text": [
      "100%|████████████████████████████████████████████| 5/5 [00:00<00:00, 10.29it/s]\n",
      "100%|████████████████████████████████████████████| 4/4 [00:00<00:00, 15.86it/s]\n",
      "100%|████████████████████████████████████████████| 4/4 [00:04<00:00,  1.14s/it]\n",
      "100%|████████████████████████████████████████████| 4/4 [00:02<00:00,  1.54it/s]\n",
      "100%|████████████████████████████████████████████| 4/4 [00:05<00:00,  1.45s/it]"
     ]
    },
    {
     "name": "stdout",
     "output_type": "stream",
     "text": [
      "Done running classifiers_general.py\n",
      "Complete pipeline took 9.92 hours\n"
     ]
    },
    {
     "name": "stderr",
     "output_type": "stream",
     "text": [
      "\n"
     ]
    }
   ],
   "source": [
    "# entire pipeline\n",
    "\n",
    "\n",
    "GENERAL_DIR = r\"H:\\Genetica Projecten\\Facial Recognition\\Studenten en Onderzoekers\\Fien\" \n",
    "syn_list = ['KDVS','ADNP', 'ANKRD11', 'CDK13', 'DEAF1', 'DYRK1A', 'EHMT1', 'FBXO11', 'SON', 'WAC', 'YY1']  # SPOP\n",
    "\n",
    "trial_nr = 5\n",
    "\n",
    "start = time.time()\n",
    "\n",
    "# step 1: for each syndrome select fitting controls (age/gender), randomly if there are multiple suitable controls\n",
    "ID_control_selection.main(GENERAL_DIR, syn_list, trial_nr)\n",
    "\n",
    "# step 2: for each syndrome save the representation of the patient and control group to seperate csv files\n",
    "save_representations.main(GENERAL_DIR, syn_list)\n",
    "\n",
    "# step 3: for each syndrome, try 5 classifiers and 8 different data combinations, save the results to a txt\n",
    "classifiers_general.main(GENERAL_DIR, syn_list, trial_nr)\n",
    "\n",
    "end = time.time()\n",
    "\n",
    "print(\"Complete pipeline took {:.2f} hours\".format((end-start)/3600)) # about 10 hours\n",
    "\n"
   ]
  }
 ],
 "metadata": {
  "kernelspec": {
   "display_name": "Python 3",
   "language": "python",
   "name": "python3"
  },
  "language_info": {
   "codemirror_mode": {
    "name": "ipython",
    "version": 3
   },
   "file_extension": ".py",
   "mimetype": "text/x-python",
   "name": "python",
   "nbconvert_exporter": "python",
   "pygments_lexer": "ipython3",
   "version": "3.6.10"
  }
 },
 "nbformat": 4,
 "nbformat_minor": 4
}
