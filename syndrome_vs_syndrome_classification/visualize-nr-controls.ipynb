{
 "cells": [
  {
   "cell_type": "markdown",
   "metadata": {},
   "source": [
    "# Visualize controls\n",
    "This notebook visualizes the amount of controls used for the syndrome vs. syndrome classification, per model."
   ]
  },
  {
   "cell_type": "code",
   "execution_count": null,
   "metadata": {},
   "outputs": [],
   "source": [
    "import seaborn as sn\n",
    "import pandas as pd\n",
    "import matplotlib.pyplot as plt"
   ]
  },
  {
   "cell_type": "code",
   "execution_count": null,
   "metadata": {},
   "outputs": [],
   "source": [
    "import sys\n",
    "sys.path.append(\"..\")\n",
    "from global_variables import syn_list"
   ]
  },
  {
   "cell_type": "code",
   "execution_count": null,
   "metadata": {},
   "outputs": [],
   "source": [
    "hybrid_controls = [[0, 13, 18, 14, 10, 27, 13, 31, 12, 10, 9, 27],\n",
    "                   [0, 0, 10, 13, 12, 14, 9, 19, 8, 7, 7, 16],\n",
    "                   [0, 0, 0, 15, 11, 23, 10, 28, 13, 10, 7, 18],\n",
    "                   [0, 0, 0, 0, 12, 16, 10, 18, 11, 10, 6, 18],\n",
    "                   [0, 0, 0, 0, 0, 14, 8, 14, 9, 6, 6, 15],\n",
    "                   [0, 0, 0, 0, 0, 0, 13, 35, 14, 12, 10, 32],\n",
    "                   [0, 0, 0, 0, 0, 0, 0, 16, 10, 4, 4, 17],\n",
    "                   [0, 0, 0, 0, 0, 0, 0, 0, 17, 11, 9, 39],\n",
    "                   [0, 0, 0, 0, 0, 0, 0, 0, 0, 8, 7, 14],\n",
    "                   [0, 0, 0, 0, 0, 0, 0, 0, 0, 0, 5, 10],\n",
    "                   [0, 0, 0, 0, 0, 0, 0, 0, 0, 0, 0, 10],\n",
    "                   [0, 0, 0, 0, 0, 0, 0, 0, 0, 0, 0, 0]]\n",
    "\n",
    "\n",
    "df_cm = pd.DataFrame(hybrid_controls, syn_list, syn_list)\n",
    "plt.figure(figsize = (10,7), dpi=400)\n",
    "plt.title(\"Selected controls for Model 5\")\n",
    "sn.heatmap(df_cm, annot=True)\n",
    "plt.savefig(\"results/hybrid-controls.png\")"
   ]
  },
  {
   "cell_type": "code",
   "execution_count": null,
   "metadata": {},
   "outputs": [],
   "source": [
    "deepface_controls = [[0, 15, 18, 14, 10, 27, 13, 32, 12, 10, 9, 27],\n",
    "                   [0, 0, 13, 15, 15, 18, 11, 23, 11, 8, 9, 20],\n",
    "                   [0, 0, 0, 15, 11, 23, 10, 29, 13, 10, 7, 18],\n",
    "                   [0, 0, 0, 0, 12, 16, 10, 19, 11, 10, 6, 18],\n",
    "                   [0, 0, 0, 0, 0, 14, 8, 16, 9, 7, 7, 15],\n",
    "                   [0, 0, 0, 0, 0, 0, 13, 38, 14, 12, 10, 32],\n",
    "                   [0, 0, 0, 0, 0, 0, 0, 17, 10, 4, 4, 17],\n",
    "                   [0, 0, 0, 0, 0, 0, 0, 0, 18, 12, 10, 42],\n",
    "                   [0, 0, 0, 0, 0, 0, 0, 0, 0, 8, 7, 14],\n",
    "                   [0, 0, 0, 0, 0, 0, 0, 0, 0, 0, 5, 10],\n",
    "                   [0, 0, 0, 0, 0, 0, 0, 0, 0, 0, 0, 10],\n",
    "                   [0, 0, 0, 0, 0, 0, 0, 0, 0, 0, 0, 0]]\n",
    "\n",
    "df_cm = pd.DataFrame(deepface_controls, syn_list, syn_list)\n",
    "plt.figure(figsize = (10,7), dpi=400)\n",
    "plt.title(\"Selected controls for Model 1\")\n",
    "sn.heatmap(df_cm, annot=True)\n",
    "plt.savefig(\"results/deepface-controls.png\")"
   ]
  },
  {
   "cell_type": "code",
   "execution_count": null,
   "metadata": {},
   "outputs": [],
   "source": [
    "ensemble_controls = [[0, 8, 3, 7, 5, 5, 5, 10, 6, 4, 4, 6],\n",
    "                   [0, 0, 5, 10, 6, 8, 7, 13, 7, 5, 5, 9],\n",
    "                   [0, 0, 0, 6, 4, 7, 4, 14, 4, 5, 3, 1],\n",
    "                   [0, 0, 0, 0, 6, 7, 8, 14, 5, 8, 5, 6],\n",
    "                   [0, 0, 0, 0, 0, 4, 4, 8, 3, 5, 3, 6],\n",
    "                   [0, 0, 0, 0, 0, 0, 3, 13, 2, 4, 4, 6],                    \n",
    "                   [0, 0, 0, 0, 0, 0, 0, 11, 7, 4, 3, 6],                    \n",
    "                   [0, 0, 0, 0, 0, 0, 0, 0, 10, 8, 7, 17],\n",
    "                   [0, 0, 0, 0, 0, 0, 0, 0, 0, 4, 3, 1],\n",
    "                   [0, 0, 0, 0, 0, 0, 0, 0, 0, 0, 3, 4],\n",
    "                   [0, 0, 0, 0, 0, 0, 0, 0, 0, 0, 0, 1],\n",
    "                   [0, 0, 0, 0, 0, 0, 0, 0, 0, 0, 0, 0]]\n",
    "\n",
    "df_cm = pd.DataFrame(ensemble_controls, syn_list, syn_list)\n",
    "plt.figure(figsize = (10,7), dpi=400)\n",
    "plt.title(\"Selected controls for Model 2, 3 and 4\")\n",
    "sn.heatmap(df_cm, annot=True)\n",
    "plt.savefig(\"results/ensemble-controls.png\")"
   ]
  },
  {
   "cell_type": "code",
   "execution_count": null,
   "metadata": {},
   "outputs": [],
   "source": []
  }
 ],
 "metadata": {
  "kernelspec": {
   "display_name": "Python 3",
   "language": "python",
   "name": "python3"
  },
  "language_info": {
   "codemirror_mode": {
    "name": "ipython",
    "version": 3
   },
   "file_extension": ".py",
   "mimetype": "text/x-python",
   "name": "python",
   "nbconvert_exporter": "python",
   "pygments_lexer": "ipython3",
   "version": "3.8.1"
  }
 },
 "nbformat": 4,
 "nbformat_minor": 4
}
