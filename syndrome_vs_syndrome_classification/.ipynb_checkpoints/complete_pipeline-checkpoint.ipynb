{
 "cells": [
  {
   "cell_type": "markdown",
   "metadata": {},
   "source": [
    "# Complete pipeline\n",
    "This notebook runs 2 different scripts. It first selects the controls and then saves the representations. By giving the trial nr, you can seperate the results for each trial to see whether the results are consistent. The images aren't saved for each trial but overwritten, and an overview of the selected controls (and all patients) is saved so it can be reconstructed. After this notebook, the notebook classifiers_general should be run to get the results of the models."
   ]
  },
  {
   "cell_type": "code",
   "execution_count": null,
   "metadata": {},
   "outputs": [],
   "source": [
    "import ID_control_selection\n",
    "import save_representations\n",
    "import time\n",
    "from itertools import combinations"
   ]
  },
  {
   "cell_type": "code",
   "execution_count": null,
   "metadata": {},
   "outputs": [],
   "source": [
    "import sys\n",
    "sys.path.append(\"..\")\n",
    "from global_variables import GENERAL_DIR, syn_list"
   ]
  },
  {
   "cell_type": "code",
   "execution_count": null,
   "metadata": {},
   "outputs": [],
   "source": [
    "syn_combs_og = list(combinations(syn_list, 2))\n",
    "\n",
    "# saving the representations needs to happen in 3 batches, otherwise a memory exhaustion error occurs\n",
    "#syn_combs = syn_combs_og[:22]\n",
    "#syn_combs = syn_combs_og[22:44]\n",
    "syn_combs = syn_combs_og[44:]"
   ]
  },
  {
   "cell_type": "code",
   "execution_count": null,
   "metadata": {},
   "outputs": [],
   "source": [
    "trial_nr = 2\n",
    "start = time.time()\n",
    "\n",
    "for (syn, control) in syn_combs:\n",
    "\n",
    "    # step 1: for each syndrome select fitting controls (age/gender),\n",
    "    ID_control_selection.main(GENERAL_DIR, syn, control, trial_nr)\n",
    "\n",
    "    # step 2: for each syndrome save the representation of the patient and control group to seperate csv files\n",
    "    #save_representations.main(GENERAL_DIR, syn, control) # needs to be run in two trials as otherwise a memory error exists \n",
    "    \n",
    "    # step 3: \n",
    "    # manually run classifiers_general_ensemble_3_models_syn_vs_syn.ipynb, can be made into a function later \n",
    "    \n",
    "end = time.time()\n",
    "print(\"Complete pipeline took {:.2f} hours\".format((end-start)/3600)) "
   ]
  }
 ],
 "metadata": {
  "kernelspec": {
   "display_name": "Python 3",
   "language": "python",
   "name": "python3"
  },
  "language_info": {
   "codemirror_mode": {
    "name": "ipython",
    "version": 3
   },
   "file_extension": ".py",
   "mimetype": "text/x-python",
   "name": "python",
   "nbconvert_exporter": "python",
   "pygments_lexer": "ipython3",
   "version": "3.8.1"
  }
 },
 "nbformat": 4,
 "nbformat_minor": 4
}
