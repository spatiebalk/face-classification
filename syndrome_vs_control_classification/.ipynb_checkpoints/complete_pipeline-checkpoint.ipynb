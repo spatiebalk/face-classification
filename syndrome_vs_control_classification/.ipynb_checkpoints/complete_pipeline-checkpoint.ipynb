{
 "cells": [
  {
   "cell_type": "markdown",
   "metadata": {},
   "source": [
    "# Complete pipeline\n",
    "This notebook runs 3 different scripts. It first selects the controls, then saves the representation and finally calls the classifier script which saves the results. By giving the trial nr, you can seperate the results for each trial to see whether the results are consistent. The images aren't saved for each trial but overwritten, and an overview of the selected controls (and all patients) is saved so it can be reconstructed."
   ]
  },
  {
   "cell_type": "code",
   "execution_count": null,
   "metadata": {},
   "outputs": [],
   "source": [
    "import ID_control_selection\n",
    "import save_representations\n",
    "import classifiers_ensemble\n",
    "import time"
   ]
  },
  {
   "cell_type": "code",
   "execution_count": null,
   "metadata": {},
   "outputs": [],
   "source": [
    "import sys\n",
    "sys.path.append(\"..\")\n",
    "from global_variables import GENERAL_DIR, syn_list"
   ]
  },
  {
   "cell_type": "code",
   "execution_count": null,
   "metadata": {},
   "outputs": [],
   "source": [
    "trial = 4 # needs to be changed manually, running this in a for loop leads to a memory exhaustion error\n",
    "\n",
    "start = time.time()\n",
    "\n",
    "# step 1: select fitting controls (age/gender), randomly if there are multiple suitable controls\n",
    "ID_control_selection.main(GENERAL_DIR, syn_list, trial)\n",
    "\n",
    "# step 2: save the representation of the patient and control group to seperate csv files\n",
    "save_representations.main(GENERAL_DIR, syn_list)\n",
    "\n",
    "# step 3: run the 5 different models and save the results\n",
    "classifiers_ensemble.main(GENERAL_DIR, syn_list, trial)\n",
    "\n",
    "end = time.time()\n",
    "print(\"Complete pipeline took {:.2f} hours\".format((end-start)/3600)) "
   ]
  }
 ],
 "metadata": {
  "kernelspec": {
   "display_name": "Python 3",
   "language": "python",
   "name": "python3"
  },
  "language_info": {
   "codemirror_mode": {
    "name": "ipython",
    "version": 3
   },
   "file_extension": ".py",
   "mimetype": "text/x-python",
   "name": "python",
   "nbconvert_exporter": "python",
   "pygments_lexer": "ipython3",
   "version": "3.8.1"
  }
 },
 "nbformat": 4,
 "nbformat_minor": 4
}
