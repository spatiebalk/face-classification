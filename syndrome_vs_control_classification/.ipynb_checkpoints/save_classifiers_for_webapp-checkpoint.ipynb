{
 "cells": [
  {
   "cell_type": "markdown",
   "metadata": {},
   "source": [
    "# Save classifiers for web application\n",
    "This notebook saves some classifiers to be able to use them in the web app. The k-NN classifier of Model 1 is saved, the trained PointNet model of Model 2 is saved and the Random Forest of Model 3 is saved. "
   ]
  },
  {
   "cell_type": "code",
   "execution_count": 1,
   "metadata": {},
   "outputs": [],
   "source": [
    "import numpy as np\n",
    "import csv\n",
    "from sklearn.model_selection import cross_val_score, LeaveOneOut\n",
    "from sklearn.neighbors import KNeighborsClassifier\n",
    "from sklearn.preprocessing import Normalizer\n",
    "from sklearn.ensemble import RandomForestClassifier\n",
    "from os.path import join, isfile\n",
    "from os import listdir\n",
    "from statistics import mode\n",
    "import pickle5 as pickle"
   ]
  },
  {
   "cell_type": "code",
   "execution_count": 2,
   "metadata": {},
   "outputs": [],
   "source": [
    "import pointnet_model"
   ]
  },
  {
   "cell_type": "code",
   "execution_count": null,
   "metadata": {},
   "outputs": [],
   "source": [
    "import sys\n",
    "sys.path.append(\"..\")\n",
    "from global_variables import GENERAL_DIR, LOCAL_DIR, syn_list"
   ]
  },
  {
   "cell_type": "code",
   "execution_count": 3,
   "metadata": {},
   "outputs": [],
   "source": [
    "def read_rep(syn_name, syn_csv, ID_csv, data_dir):\n",
    "    \n",
    "    # open directories\n",
    "    syn_dir = data_dir+\"\\\\{}-patients\".format(syn_name)\n",
    "    ID_dir = data_dir+ \"\\\\{}-selected-ID-controls\".format(syn_name)\n",
    "\n",
    "    # get list of filenames\n",
    "    files_syn = [f for f in listdir(syn_dir) if (isfile(join(syn_dir, f))) and \".jpg\" in f]\n",
    "    files_ID = [f for f in listdir(ID_dir) if (isfile(join(ID_dir, f))) and \".jpg\" in f]\n",
    "    \n",
    "    data_syn, data_ID, labels_syn, labels_ID = [], [], [], []\n",
    "\n",
    "    with open (syn_csv, newline='') as file:\n",
    "        reader = csv.reader(file, delimiter=',')\n",
    "        for index, row in enumerate(reader):\n",
    "            if row[0] in files_syn: \n",
    "                rep = list(map(float, row[1:]))\n",
    "                data_syn.append(rep)\n",
    "                labels_syn.append(1)\n",
    "\n",
    "    with open (ID_csv, newline='') as file:\n",
    "        reader = csv.reader(file, delimiter=',')\n",
    "        for index, row in enumerate(reader):\n",
    "            if row[0] in files_ID:\n",
    "                rep = list(map(float, row[1:]))\n",
    "                data_ID.append(rep)\n",
    "                labels_ID.append(0)\n",
    "\n",
    "    return np.array(data_syn), np.array(data_ID), np.array(labels_syn), np.array(labels_ID)"
   ]
  },
  {
   "cell_type": "code",
   "execution_count": 4,
   "metadata": {},
   "outputs": [],
   "source": [
    "def read_rep_landmarks(syn_name, syn_csv, ID_csv, data_dir):\n",
    "    \n",
    "    # open directories\n",
    "    syn_dir = data_dir+\"\\\\{}-patients\".format(syn_name)\n",
    "    ID_dir = data_dir+ \"\\\\{}-selected-ID-controls\".format(syn_name)\n",
    "\n",
    "    # get list of filenames\n",
    "    files_syn = [f for f in listdir(syn_dir) if (isfile(join(syn_dir, f))) and \".jpg\" in f]\n",
    "    files_ID = [f for f in listdir(ID_dir) if (isfile(join(ID_dir, f))) and \".jpg\" in f]\n",
    "\n",
    "    data_syn, data_ID, labels_syn, labels_ID = [], [], [], []\n",
    "\n",
    "    with open (syn_csv, newline='') as file:\n",
    "        reader = csv.reader(file, delimiter=',')\n",
    "        for index, row in enumerate(reader):\n",
    "            if row[0] in files_syn:\n",
    "                rep = []\n",
    "                i = 1\n",
    "                while i < len(row[1:]):\n",
    "                    rep.append([float(row[i]), float(row[i+1]), float(row[i+2])])\n",
    "                    i+=3                       \n",
    "                data_syn.append(rep)\n",
    "                labels_syn.append(1)\n",
    "\n",
    "    with open (ID_csv, newline='') as file:\n",
    "        reader = csv.reader(file, delimiter=',')\n",
    "        for index, row in enumerate(reader):\n",
    "            if row[0] in files_ID:\n",
    "                rep = []\n",
    "                i = 1\n",
    "                while i < len(row[1:]):\n",
    "                    rep.append([float(row[i]), float(row[i+1]), float(row[i+2])])\n",
    "                    i+=3                       \n",
    "                data_ID.append(rep)\n",
    "                labels_ID.append(0)\n",
    "\n",
    "    return np.array(data_syn), np.array(data_ID), np.array(labels_syn), np.array(labels_ID)"
   ]
  },
  {
   "cell_type": "code",
   "execution_count": 5,
   "metadata": {},
   "outputs": [],
   "source": [
    "def normalize(data_1, data_2, data_3):\n",
    "    data_1 = Normalizer().fit_transform(data_1)\n",
    "    data_2 = Normalizer().fit_transform(data_2)\n",
    "    data_3 = Normalizer().fit_transform(data_3)\n",
    "    return data_1, data_2, data_3"
   ]
  },
  {
   "cell_type": "code",
   "execution_count": 6,
   "metadata": {},
   "outputs": [],
   "source": [
    "def load_data(syn, GENERAL_DIR, data_dir): \n",
    "\n",
    "    method = \"deepface\"\n",
    "    syn_csv = data_dir+\"\\\\representations\\{}-patients-{}.csv\".format(syn, method)\n",
    "    ID_csv  = data_dir+\"\\\\representations\\ID-controls-{}.csv\".format(method)\n",
    "    data_syn_df, data_ID_df, labels_syn_df, labels_ID_df = read_rep(syn, syn_csv, ID_csv, data_dir)\n",
    "    \n",
    "    method = \"facereader-landmarks\"\n",
    "    syn_csv = GENERAL_DIR+ \"\\\\features_facereader_landmarks_patient_groups.csv\"\n",
    "    ID_csv = GENERAL_DIR+ \"\\\\features_facereader_landmarks_all_controls.csv\" \n",
    "    data_syn_fr, data_ID_fr, _, _ = read_rep_landmarks(syn, syn_csv, ID_csv, data_dir)    \n",
    "    \n",
    "    method = \"facereader-landmarks-distances\"\n",
    "    syn_csv = GENERAL_DIR+ \"\\\\features_facereader_landmarks_distances_patient_groups_left_right.csv\"\n",
    "    ID_csv = GENERAL_DIR+ \"\\\\features_facereader_landmarks_distances_all_controls_left_right.csv\"    \n",
    "    data_syn_dis, data_ID_dis, _,  _ = read_rep(syn, syn_csv, ID_csv, data_dir)  \n",
    "    \n",
    "    indices_to_keep = []\n",
    "    for index, rep in enumerate(data_syn_dis):\n",
    "        if not all(v == 0 for v in data_syn_dis[index]) and not all(v == 0 for v in data_ID_dis[index]):\n",
    "            indices_to_keep.append(index)\n",
    "                \n",
    "    # all deepface data\n",
    "    data_df = data_syn_df.tolist() + data_ID_df.tolist()\n",
    "    labels_df = labels_syn_df.tolist() + labels_ID_df.tolist()\n",
    "    \n",
    "    # only deepface (that also has a facereader rep)\n",
    "    data_syn_df_drop = data_syn_df[indices_to_keep]\n",
    "    data_ID_df_drop = data_ID_df[indices_to_keep]\n",
    "    data_df_drop = data_syn_df_drop.tolist() + data_ID_df_drop.tolist()\n",
    "    \n",
    "    # facereader landmarks \n",
    "    data_syn_fr = data_syn_fr[indices_to_keep]\n",
    "    data_ID_fr = data_ID_fr[indices_to_keep]\n",
    "    data_fr = data_syn_fr.tolist() + data_ID_fr.tolist()\n",
    "    \n",
    "    # only distance with facereader rep\n",
    "    data_syn_dis = data_syn_dis[indices_to_keep]\n",
    "    data_ID_dis = data_ID_dis[indices_to_keep]\n",
    "    data_dis = data_syn_dis.tolist() + data_ID_dis.tolist()\n",
    "    \n",
    "    # labels with facereader rep\n",
    "    labels_syn_df = labels_syn_df[indices_to_keep]\n",
    "    labels_ID_df = labels_ID_df[indices_to_keep]\n",
    "    labels = labels_syn_df.tolist() + labels_ID_df.tolist() \n",
    "\n",
    "    return np.array(data_df), np.array(data_df_drop), np.array(data_fr), np.array(data_dis), np.array(labels_df), np.array(labels)"
   ]
  },
  {
   "cell_type": "code",
   "execution_count": 7,
   "metadata": {},
   "outputs": [],
   "source": [
    "def save_knn(syn, data, labels):        \n",
    "    model = KNeighborsClassifier(n_neighbors=3, weights='distance')\n",
    "    model.fit(data, labels)\n",
    "    pickle.dump(model, open(LOCAL_DIR + \"\\web_application\\models\\knn-deepface-{}\".format(syn), 'wb'))"
   ]
  },
  {
   "cell_type": "code",
   "execution_count": 8,
   "metadata": {},
   "outputs": [],
   "source": [
    "def save_pointnet(syn, data, labels):    \n",
    "    model = pointnet_model.generate_model()\n",
    "    model.fit(x=data, y=labels, batch_size=BATCH_SIZE, epochs=4, shuffle=True)\n",
    "    path = LOCAL_DIR + \"\\web_application\\models\\pointnet-{}.ckpt\".format(syn)\n",
    "    model.save_weights(path)"
   ]
  },
  {
   "cell_type": "code",
   "execution_count": 9,
   "metadata": {},
   "outputs": [],
   "source": [
    "def save_randomforest(syn, data, labels):\n",
    "    model = RandomForestClassifier(n_estimators=10)\n",
    "    model.fit(data, labels)\n",
    "    pickle.dump(model, open(LOCAL_DIR + \"\\web_application\\models\\randomforest-{}\"\".format(syn), 'wb'))"
   ]
  },
  {
   "cell_type": "code",
   "execution_count": 10,
   "metadata": {},
   "outputs": [],
   "source": [
    "BATCH_SIZE = 8\n",
    "\n",
    "for syn in syn_list:\n",
    "    \n",
    "    data_dir = GENERAL_DIR + \"\\\\{}\".format(syn) \n",
    "    data_df_all, data_df, data_fr, data_dis, labels_df_all, labels = load_data(syn, GENERAL_DIR, data_dir)    \n",
    "    data_df_all, data_df, data_dis = normalize(data_df_all, data_df, data_dis)   \n",
    "    \n",
    "    # DEEPFACE - KNN - all\n",
    "    save_knn(syn, data_df_all, labels_df_all)\n",
    "           \n",
    "    # POINTNET \n",
    "    save_pointnet(syn, data_fr, labels)\n",
    "\n",
    "    # RANDOM FOREST \n",
    "    save_randomforest(syn, data_dis, labels)"
   ]
  },
  {
   "cell_type": "code",
   "execution_count": null,
   "metadata": {},
   "outputs": [],
   "source": []
  }
 ],
 "metadata": {
  "kernelspec": {
   "display_name": "Python 3",
   "language": "python",
   "name": "python3"
  },
  "language_info": {
   "codemirror_mode": {
    "name": "ipython",
    "version": 3
   },
   "file_extension": ".py",
   "mimetype": "text/x-python",
   "name": "python",
   "nbconvert_exporter": "python",
   "pygments_lexer": "ipython3",
   "version": "3.8.1"
  }
 },
 "nbformat": 4,
 "nbformat_minor": 4
}
