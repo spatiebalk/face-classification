{
 "cells": [
  {
   "cell_type": "markdown",
   "metadata": {},
   "source": [
    "# FaceReader representations\n",
    "This notebook gets the FaceReader representations for all the syndromic and control images and saves them to two csv files."
   ]
  },
  {
   "cell_type": "code",
   "execution_count": null,
   "metadata": {},
   "outputs": [],
   "source": [
    "import clr\n",
    "from os.path import isfile\n",
    "import json\n",
    "import glob\n",
    "from os import listdir\n",
    "from os.path import join, isfile\n",
    "import numpy as np\n",
    "import csv\n",
    "from tqdm import tqdm\n",
    "from collections.abc import Mapping"
   ]
  },
  {
   "cell_type": "code",
   "execution_count": null,
   "metadata": {},
   "outputs": [],
   "source": [
    "import sys\n",
    "sys.path.append(\"..\")\n",
    "from global_variables import GENERAL_DIR, syn_list, SDK_ref, license, LEFT, RIGHT\n",
    "\n",
    "clr.AddReference(SDK_ref)\n",
    "from VicarVision import FaceReader\n",
    "clr.AddReference('System.Drawing')\n",
    "from System import Drawing\n",
    "FR = FaceReader.FaceReaderSDK(license)"
   ]
  },
  {
   "cell_type": "markdown",
   "metadata": {},
   "source": [
    "Read in all syndromic image and save the landmark representation to one csv file."
   ]
  },
  {
   "cell_type": "code",
   "execution_count": null,
   "metadata": {},
   "outputs": [],
   "source": [
    "syn_rep = []\n",
    "\n",
    "# for each syndrome\n",
    "for syn_name in syn_list:\n",
    "    syn_dir = GENERAL_DIR + \"\\\\{}\\\\{}-all-photos\".format(syn_name, syn_name)\n",
    "\n",
    "    # get list of filenames\n",
    "    files_syn = [f for f in listdir(syn_dir) if (isfile(join(syn_dir, f)) and \".jpg\" in f)]\n",
    "        \n",
    "    # for every image of this syndrome\n",
    "    for filename in tqdm(files_syn): \n",
    "        \n",
    "        # open file\n",
    "        FR.GrabCredits(1)        \n",
    "        bitmap = Drawing.Bitmap(join(syn_dir, filename))\n",
    "        try:\n",
    "            result = (FR.AnalyzeFace(bitmap))\n",
    "            result = json.loads(result.ToJson())\n",
    "        except:\n",
    "            print(\"An exception occurred\")\n",
    "            result = 'error'\n",
    "            syn_rep.append([filename] + np.zeros(510*3).tolist())\n",
    "            \n",
    "        if isinstance(result, Mapping):\n",
    "            if result['FaceAnalyzed']:\n",
    "                landmarks = []\n",
    "                landmarks_dict = result['Landmarks3D']\n",
    "                for item in landmarks_dict:\n",
    "                    landmarks.append(item['X'])\n",
    "                    landmarks.append(item['Y'])\n",
    "                    landmarks.append(item['Z'])\n",
    "                syn_rep.append([filename] + landmarks)\n",
    "            else:\n",
    "                syn_rep.append([filename] + np.zeros(510*3).tolist())"
   ]
  },
  {
   "cell_type": "raw",
   "metadata": {},
   "source": [
    "# location to save representation\n",
    "csv_file_syn = GENERAL_DIR + \"\\\\features_facereader_landmarks_2.csv\"\n",
    "\n",
    "# save representation \n",
    "with open(csv_file_syn, \"w\", newline=\"\") as f:\n",
    "    writer = csv.writer(f)\n",
    "    writer.writerows(syn_rep)\n",
    "    \n",
    "print(\"done writing\")"
   ]
  },
  {
   "cell_type": "markdown",
   "metadata": {},
   "source": [
    "Read in all control images and save the landmark representation to one csv file."
   ]
  },
  {
   "cell_type": "code",
   "execution_count": null,
   "metadata": {},
   "outputs": [],
   "source": [
    "ID_rep = []\n",
    "ID_dir = GENERAL_DIR + \"\\\\ID-controls\"\n",
    "\n",
    "# get list of filenames\n",
    "files_ID = [f for f in listdir(ID_dir) if (isfile(join(ID_dir, f)) and \".jpg\" in f)]\n",
    "\n",
    "# for every image of this syndrome\n",
    "for filename in files_ID: \n",
    "\n",
    "    # open file\n",
    "    FR.GrabCredits(1)        \n",
    "    bitmap = Drawing.Bitmap(join(ID_dir, filename))\n",
    "    try:\n",
    "        result = (FR.AnalyzeFace(bitmap))\n",
    "        result = json.loads(result.ToJson())\n",
    "    except:\n",
    "        print(\"An exception occurred\")\n",
    "        result = 'error'\n",
    "        ID_rep.append([filename] + np.zeros(510*3).tolist())\n",
    "\n",
    "    if isinstance(result, Mapping):\n",
    "        if result['FaceAnalyzed']:\n",
    "            landmarks = []\n",
    "            landmarks_dict = result['Landmarks3D']\n",
    "            for item in landmarks_dict:\n",
    "                landmarks.append(item['X'])\n",
    "                landmarks.append(item['Y'])\n",
    "                landmarks.append(item['Z'])\n",
    "            ID_rep.append([filename] + landmarks)\n",
    "        else:\n",
    "            ID_rep.append([filename] + np.zeros(510*3).tolist())"
   ]
  },
  {
   "cell_type": "raw",
   "metadata": {},
   "source": [
    "# location to save representation\n",
    "csv_file_ID = GENERAL_DIR + \"\\\\features_facereader_all_controls_2.csv\"\n",
    "\n",
    "# save representation \n",
    "with open(csv_file_ID, \"w\", newline=\"\") as f:\n",
    "    writer = csv.writer(f)\n",
    "    writer.writerows(ID_rep)\n",
    "\n",
    "print(\"done writing\")"
   ]
  }
 ],
 "metadata": {
  "kernelspec": {
   "display_name": "Python 3",
   "language": "python",
   "name": "python3"
  },
  "language_info": {
   "codemirror_mode": {
    "name": "ipython",
    "version": 3
   },
   "file_extension": ".py",
   "mimetype": "text/x-python",
   "name": "python",
   "nbconvert_exporter": "python",
   "pygments_lexer": "ipython3",
   "version": "3.8.1"
  }
 },
 "nbformat": 4,
 "nbformat_minor": 4
}
