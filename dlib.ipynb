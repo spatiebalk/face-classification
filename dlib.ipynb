{
 "cells": [
  {
   "cell_type": "code",
   "execution_count": 36,
   "metadata": {},
   "outputs": [],
   "source": [
    "## conda install -c conda-forge dlib\n",
    "import numpy as np\n",
    "import argparse\n",
    "import cv2\n",
    "import dlib\n",
    "import imutils\n",
    "import matplotlib.pyplot as plt\n",
    "from os import listdir\n",
    "from os.path import join, isfile\n",
    "import csv\n",
    "import itertools"
   ]
  },
  {
   "cell_type": "code",
   "execution_count": 37,
   "metadata": {},
   "outputs": [],
   "source": [
    "def rect_to_bb(rect):\n",
    "    # take a bounding predicted by dlib and convert it\n",
    "    # to the format (x, y, w, h) as we would normally do\n",
    "    # with OpenCV\n",
    "    \n",
    "    x = rect.left()\n",
    "    y = rect.top()\n",
    "    w = rect.right() - x\n",
    "    h = rect.bottom() - y\n",
    "    \n",
    "    return (x, y, w, h)"
   ]
  },
  {
   "cell_type": "code",
   "execution_count": 38,
   "metadata": {},
   "outputs": [],
   "source": [
    "def shape_to_np(shape, dtype=\"int\"):\n",
    "    coords = np.zeros((68, 2), dtype=dtype)\n",
    "    \n",
    "    # loop over the 68 facial landmarks and convert them\n",
    "    # to a 2-tuple of (x, y)-coordinates\n",
    "    for i in range(0, 68):\n",
    "        coords[i] = (shape.part(i).x, shape.part(i).y)\n",
    "\n",
    "    return coords"
   ]
  },
  {
   "cell_type": "raw",
   "metadata": {},
   "source": [
    "def extract_features(keypoints): # just 11 features\n",
    "    assert keypoints.shape == (68,2)\n",
    "    \n",
    "    extr_points = []\n",
    "    feats = []\n",
    "    \n",
    "    extr_points.append(keypoints[0])\n",
    "    extr_points.append(keypoints[16])\n",
    "    \n",
    "    # width head\n",
    "    denom = np.linalg.norm(keypoints[0]-keypoints[16])\n",
    "    \n",
    "    # adding points for visualization\n",
    "    extr_points.append(keypoints[36])\n",
    "    extr_points.append(keypoints[39])\n",
    "    extr_points.append(keypoints[42])\n",
    "    extr_points.append(keypoints[45])\n",
    "    extr_points.append(keypoints[27])\n",
    "    extr_points.append(keypoints[8])\n",
    "    extr_points.append(keypoints[48])\n",
    "    extr_points.append(keypoints[54])\n",
    "    extr_points.append(keypoints[31])\n",
    "    extr_points.append(keypoints[35])\n",
    "    extr_points.append(keypoints[33])\n",
    "    extr_points.append(keypoints[51])\n",
    "    extr_points.append(keypoints[57])\n",
    "    \n",
    "    # eyes\n",
    "    dist_eyes = np.linalg.norm(keypoints[39]-keypoints[42])\n",
    "    width_eye_l = np.linalg.norm(keypoints[36]-keypoints[39])\n",
    "    width_eye_r = np.linalg.norm(keypoints[42]-keypoints[45])\n",
    "    dist_eye_l = np.linalg.norm(keypoints[36]-keypoints[27])\n",
    "    dist_eye_r = np.linalg.norm(keypoints[27]-keypoints[45])\n",
    "    \n",
    "    feats.append(dist_eyes/denom)\n",
    "    feats.append(width_eye_l/denom)\n",
    "    feats.append(width_eye_r/denom)\n",
    "    feats.append(dist_eye_l/denom)\n",
    "    feats.append(dist_eye_r/denom)\n",
    "    \n",
    "    #head\n",
    "    len_head = np.linalg.norm(keypoints[27]-keypoints[8])\n",
    "    len_nose = np.linalg.norm(keypoints[27]-keypoints[33])\n",
    "    width_nose = np.linalg.norm(keypoints[31]-keypoints[35])\n",
    "    dist_nose_lips = np.linalg.norm(keypoints[33]-keypoints[51])\n",
    "    dist_lips_chin = np.linalg.norm(keypoints[57]-keypoints[8])\n",
    "    width_lips = np.linalg.norm(keypoints[48]-keypoints[54])\n",
    "    \n",
    "    feats.append(len_head/denom)\n",
    "    feats.append(len_nose/denom)\n",
    "    feats.append(width_nose/denom)\n",
    "    feats.append(dist_nose_lips/denom)\n",
    "    feats.append(dist_lips_chin/denom)\n",
    "    feats.append(width_lips/denom)\n",
    "        \n",
    "    return extr_points, feats"
   ]
  },
  {
   "cell_type": "code",
   "execution_count": 58,
   "metadata": {},
   "outputs": [],
   "source": [
    "def extract_features(keypoints): ## all possible combinations instead of 11 \n",
    "    assert keypoints.shape == (68,2)\n",
    "    feats = []\n",
    "    denom = np.linalg.norm(keypoints[0]-keypoints[16])\n",
    "    \n",
    "    combs = [comb for comb in itertools.combinations([*range(0, len(keypoints)-1)], 2)]\n",
    "    for comb in combs:\n",
    "        a = comb[0]\n",
    "        b = comb[1]\n",
    "        \n",
    "        if not (a ==0 and b == 16):\n",
    "            feats.append(np.linalg.norm(keypoints[a]-keypoints[b])/denom)\n",
    "            \n",
    "    return [], feats"
   ]
  },
  {
   "cell_type": "code",
   "execution_count": 59,
   "metadata": {},
   "outputs": [],
   "source": [
    "def get_features(path):\n",
    "    # load the input image, resize it, and convert it to grayscale\n",
    "    image = cv2.imread(path)\n",
    "    image = imutils.resize(image, width=500)\n",
    "    gray = cv2.cvtColor(image, cv2.COLOR_BGR2GRAY)\n",
    "\n",
    "    # detect faces in the grayscale image\n",
    "    rects = detector(gray, 1)\n",
    "    for (i, rect) in enumerate(rects):\n",
    "        \n",
    "        shape = predictor(gray, rect)\n",
    "        shape = shape_to_np(shape)\n",
    "\n",
    "        keypoints, feats = extract_features(shape)\n",
    "    \n",
    "        return feats\n",
    "    print(\"No face found\")\n",
    "    print(path)\n",
    "    return np.zeros(11).tolist()"
   ]
  },
  {
   "cell_type": "raw",
   "metadata": {},
   "source": [
    "# loop over the face detections\n",
    "for (i, rect) in enumerate(rects):\n",
    "    # determine the facial landmarks for the face region, then\n",
    "    # convert the facial landmark (x, y)-coordinates to a NumPy\n",
    "    # array\n",
    "    shape = predictor(gray, rect)\n",
    "    shape = shape_to_np(shape)\n",
    "    \n",
    "    keypoints, feats = extract_features(shape)\n",
    "\n",
    "    # convert dlib's rectangle to a OpenCV-style bounding box\n",
    "    # [i.e., (x, y, w, h)], then draw the face bounding box\n",
    "    (x, y, w, h) = rect_to_bb(rect)\n",
    "    cv2.rectangle(image, (x, y), (x + w, y + h), (0, 255, 0), 2)\n",
    "    \n",
    "    # show the face number\n",
    "    # cv2.putText(image, \"Face #{}\".format(i + 1), (x - 10, y - 10),\n",
    "        #cv2.FONT_HERSHEY_SIMPLEX, 0.5, (0, 255, 0), 2)\n",
    "    \n",
    "    # loop over the (x, y)-coordinates for the facial landmarks\n",
    "    # and draw them on the image\n",
    "    for (x, y) in keypoints:\n",
    "        cv2.circle(image, (x, y), 1, (0, 0, 255), -1)\n",
    "        \n",
    "# show the output image with the face detections + facial landmarks\n",
    "# plt.imshow(image)\n",
    "cv2.imshow(\"Output\", image)\n",
    "cv2.waitKey(0)"
   ]
  },
  {
   "cell_type": "markdown",
   "metadata": {},
   "source": [
    "## Saving all images with this representation"
   ]
  },
  {
   "cell_type": "code",
   "execution_count": 60,
   "metadata": {},
   "outputs": [],
   "source": [
    "detector = dlib.get_frontal_face_detector()\n",
    "path_to_shape_predictor = \"models/shape_predictor_68_face_landmarks.dat\"\n",
    "predictor = dlib.shape_predictor(path_to_shape_predictor)"
   ]
  },
  {
   "cell_type": "code",
   "execution_count": 76,
   "metadata": {},
   "outputs": [],
   "source": [
    "lowest_age = 17\n",
    "highest_age = 40"
   ]
  },
  {
   "cell_type": "code",
   "execution_count": 77,
   "metadata": {},
   "outputs": [
    {
     "name": "stdout",
     "output_type": "stream",
     "text": [
      "9\n",
      "9\n"
     ]
    }
   ],
   "source": [
    "# open directories\n",
    "kdv_dir = r\"H:\\Genetica Projecten\\Facial Recognition\\Studenten en Onderzoekers\\Fien\\kdv-patients-age-group-\"+str(lowest_age) + \"-\" + str(highest_age)\n",
    "ID_dir = r\"H:\\Genetica Projecten\\Facial Recognition\\Studenten en Onderzoekers\\Fien\\kdv-selected-ID-controls-age-group-\"+str(lowest_age) + \"-\" + str(highest_age)\n",
    "\n",
    "# get list of filenames\n",
    "files_kdv = [f for f in listdir(kdv_dir) if (isfile(join(kdv_dir, f)) & (\"crop_sized.jpg\" in f))]\n",
    "files_ID = [f for f in listdir(ID_dir) if (isfile(join(ID_dir, f)) & (\"crop_sized.JPG\" in f))]\n",
    "\n",
    "print(len(files_kdv))\n",
    "print(len(files_ID))"
   ]
  },
  {
   "cell_type": "code",
   "execution_count": 78,
   "metadata": {},
   "outputs": [
    {
     "name": "stdout",
     "output_type": "stream",
     "text": [
      "No face found\n",
      "H:\\Genetica Projecten\\Facial Recognition\\Studenten en Onderzoekers\\Fien\\kdv-patients-age-group-17-40\\kdvs_52_crop_sized.jpg\n",
      "Done with saving all dlib representations.\n"
     ]
    }
   ],
   "source": [
    "kdv_rep = []\n",
    "ID_rep = []\n",
    "\n",
    "# for each kdv image save deepface rep as list:\n",
    "for filename in files_kdv:\n",
    "    feats = get_features(join(kdv_dir, filename))\n",
    "    kdv_rep.append([filename] + feats)  \n",
    "\n",
    "# for each ID image save deepface rep as list:\n",
    "for filename in files_ID:\n",
    "    feats = get_features(join(ID_dir, filename))\n",
    "    ID_rep.append([filename] + feats)  \n",
    "\n",
    "# location to save representation\n",
    "csv_file_kdv = r\"H:\\Genetica Projecten\\Facial Recognition\\Studenten en Onderzoekers\\Fien\\representations\\kdv-patients-dlib-cropped-age-group-\"+str(lowest_age) + \"-\" + str(highest_age)+\".csv\"\n",
    "csv_file_ID = r\"H:\\Genetica Projecten\\Facial Recognition\\Studenten en Onderzoekers\\Fien\\representations\\ID-controls-dlib-cropped-age-group-\"+str(lowest_age) + \"-\" + str(highest_age)+\".csv\"\n",
    "\n",
    "# save representation of kdv patients\n",
    "with open(csv_file_kdv, \"w\", newline=\"\") as f:\n",
    "    writer = csv.writer(f)\n",
    "    writer.writerows(kdv_rep)\n",
    "\n",
    "# save representation of ID controls\n",
    "with open(csv_file_ID, \"w\", newline=\"\") as f:\n",
    "    writer = csv.writer(f)\n",
    "    writer.writerows(ID_rep)\n",
    "\n",
    "print(\"Done with saving all dlib representations.\")"
   ]
  },
  {
   "cell_type": "code",
   "execution_count": null,
   "metadata": {},
   "outputs": [],
   "source": []
  }
 ],
 "metadata": {
  "kernelspec": {
   "display_name": "Python 3",
   "language": "python",
   "name": "python3"
  },
  "language_info": {
   "codemirror_mode": {
    "name": "ipython",
    "version": 3
   },
   "file_extension": ".py",
   "mimetype": "text/x-python",
   "name": "python",
   "nbconvert_exporter": "python",
   "pygments_lexer": "ipython3",
   "version": "3.7.7"
  }
 },
 "nbformat": 4,
 "nbformat_minor": 4
}
