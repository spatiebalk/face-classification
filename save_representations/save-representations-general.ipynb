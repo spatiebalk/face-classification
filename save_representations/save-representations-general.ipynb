{
 "cells": [
  {
   "cell_type": "markdown",
   "metadata": {},
   "source": [
    "### Save representations\n",
    "This script calculated the representations of several syndromes and their controls. \n",
    "\n",
    "The deepface, dlib, openface and cfps representations are saved in a csv. "
   ]
  },
  {
   "cell_type": "code",
   "execution_count": 1,
   "metadata": {},
   "outputs": [
    {
     "name": "stderr",
     "output_type": "stream",
     "text": [
      "Using TensorFlow backend.\n"
     ]
    }
   ],
   "source": [
    "import pandas\n",
    "import csv \n",
    "from os.path import join, isfile\n",
    "from os import listdir, path\n",
    "import pandas as pd\n",
    "import xlrd\n",
    "import numpy as np\n",
    "import keras\n",
    "from PIL import Image \n",
    "from keras.models import Model\n",
    "import tensorflow\n",
    "from tqdm import tqdm\n",
    "import dlib\n"
   ]
  },
  {
   "cell_type": "code",
   "execution_count": 2,
   "metadata": {},
   "outputs": [],
   "source": [
    "import cfps_openface\n",
    "import deepface\n",
    "import dlib_landmarks\n",
    "import facereader"
   ]
  },
  {
   "cell_type": "code",
   "execution_count": 4,
   "metadata": {},
   "outputs": [
    {
     "name": "stdout",
     "output_type": "stream",
     "text": [
      "Syn_reps: 74, ID_reps: 74\n",
      "Done with saving all facereader representations for KDVS.\n",
      "Syn_reps: 27, ID_reps: 27\n",
      "Done with saving all facereader representations for ADNP.\n",
      "Syn_reps: 24, ID_reps: 24\n",
      "Done with saving all facereader representations for ANKRD11.\n",
      "Syn_reps: 29, ID_reps: 29\n",
      "Done with saving all facereader representations for CDK13.\n",
      "Syn_reps: 20, ID_reps: 20\n",
      "Done with saving all facereader representations for DEAF1.\n",
      "Syn_reps: 15, ID_reps: 15\n",
      "Done with saving all facereader representations for DYRK1A.\n",
      "Syn_reps: 38, ID_reps: 38\n",
      "Done with saving all facereader representations for EHMT1.\n",
      "Syn_reps: 18, ID_reps: 18\n",
      "Done with saving all facereader representations for FBXO11.\n",
      "Syn_reps: 19, ID_reps: 19\n",
      "Done with saving all facereader representations for SON.\n",
      "Syn_reps: 14, ID_reps: 14\n",
      "Done with saving all facereader representations for WAC.\n",
      "Syn_reps: 12, ID_reps: 12\n",
      "Done with saving all facereader representations for YY1.\n",
      "Done saving all the representations for all the 11 syndromes\n"
     ]
    }
   ],
   "source": [
    "syn_list = ['KDVS','ADNP', 'ANKRD11', 'CDK13', 'DEAF1', 'DYRK1A', 'EHMT1', 'FBXO11', 'SON', 'WAC', 'YY1']\n",
    "GENERAL_DIR = r\"H:\\Genetica Projecten\\Facial Recognition\\Studenten en Onderzoekers\\Fien\"\n",
    "# TRIAL 3\n",
    "for syn in syn_list:\n",
    "    \n",
    "#     # openface\n",
    "#     cfps_openface.openface_cfps_reps(GENERAL_DIR, \"openface\", syn)\n",
    "    \n",
    "#     # cfps\n",
    "#     cfps_openface.openface_cfps_reps(GENERAL_DIR, \"cfps\", syn)\n",
    "    \n",
    "#     # deepface\n",
    "#     deepface.deepface_reps(GENERAL_DIR, syn)\n",
    "     \n",
    "#     # dlib\n",
    "#     dlib_landmarks.dlib_landmarks_reps(GENERAL_DIR, syn)\n",
    "    \n",
    "    # facereader\n",
    "    facereader.facereader_reps(GENERAL_DIR, syn) \n",
    "    \n",
    "print(\"Done saving all the representations for all the {} syndromes\".format(len(syn_list)))\n",
    "    "
   ]
  },
  {
   "cell_type": "code",
   "execution_count": null,
   "metadata": {},
   "outputs": [],
   "source": []
  }
 ],
 "metadata": {
  "kernelspec": {
   "display_name": "Python 3",
   "language": "python",
   "name": "python3"
  },
  "language_info": {
   "codemirror_mode": {
    "name": "ipython",
    "version": 3
   },
   "file_extension": ".py",
   "mimetype": "text/x-python",
   "name": "python",
   "nbconvert_exporter": "python",
   "pygments_lexer": "ipython3",
   "version": "3.6.10"
  }
 },
 "nbformat": 4,
 "nbformat_minor": 4
}
