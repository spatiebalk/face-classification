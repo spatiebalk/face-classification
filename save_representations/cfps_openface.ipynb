{
 "cells": [
  {
   "cell_type": "code",
   "execution_count": 1,
   "metadata": {},
   "outputs": [],
   "source": [
    "#imports\n",
    "import pandas\n",
    "import csv \n",
    "from os.path import join, isfile\n",
    "from os import listdir\n",
    "import pandas as pd\n",
    "import xlrd\n",
    "import numpy as np"
   ]
  },
  {
   "cell_type": "code",
   "execution_count": 2,
   "metadata": {},
   "outputs": [],
   "source": [
    "#method = \"openface\" \n",
    "method = \"cfps\""
   ]
  },
  {
   "cell_type": "code",
   "execution_count": 3,
   "metadata": {},
   "outputs": [],
   "source": [
    "syn_name = \"YY1\""
   ]
  },
  {
   "cell_type": "code",
   "execution_count": 4,
   "metadata": {},
   "outputs": [],
   "source": [
    "# main\n",
    "data_dir = r\"H:\\Genetica Projecten\\Facial Recognition\\Studenten en Onderzoekers\\Fien\"\n",
    "age_ranges = [[1, 100]] #[[1, 3], [4, 16], [17, 40]]\n",
    "syn_rep = []\n",
    "ID_rep = []\n",
    "\n",
    "    \n",
    "for [low_age, high_age] in age_ranges:\n",
    "    \n",
    "    # open directories\n",
    "    syn_dir = data_dir + \"\\{}\\{}-patients\".format(syn_name, syn_name)\n",
    "    ID_dir = data_dir + \"\\{}\\{}-selected-ID-controls\".format(syn_name, syn_name)\n",
    "\n",
    "    # get list of filenames\n",
    "    files_syn = [f for f in listdir(syn_dir) if (isfile(join(syn_dir, f)))and syn_name in f]\n",
    "    files_ID = [f for f in listdir(ID_dir) if (isfile(join(ID_dir, f))) and \".JPG\" in f or \".jpg\" in f]\n",
    "    \n",
    "    syn_xlsx = data_dir + \"\\\\features_\"+method+\"_patient_groups.xlsx\"\n",
    "    df_reps = pd.read_excel(syn_xlsx)\n",
    "    counter = 0\n",
    "        \n",
    "    ##############\n",
    "    \n",
    "    ID_xlsx = data_dir + \"\\\\features_\"+method+\"_all_controls.xlsx\"\n",
    "    df_ID = pd.read_excel(ID_xlsx)\n",
    "    \n",
    "    for (index_rep, row_rep), (index_ID, row_ID) in zip(df_reps.iterrows(), df_ID.iterrows()):\n",
    "        \n",
    "        filename = row_rep.iloc[0]\n",
    "        # check if row is about kdv patient\n",
    "        if syn_name in filename:\n",
    "            # check if that kdv patient is in the current list\n",
    "            filename = filename + \".jpg\"\n",
    "            if filename in files_syn:\n",
    "                rep_syn = row_rep.iloc[5:].tolist()\n",
    "                syn_rep.append([filename] + rep_syn)\n",
    "\n",
    "                rep_ID = row_ID.iloc[5:].tolist()\n",
    "                ID_rep.append([filename] + rep_ID)    \n",
    "            \n",
    "#     for index, row in df_ID.iterrows():\n",
    "#         filename = row.iloc[0]\n",
    "        \n",
    "#         if filename +\".jpg\" in files_ID or filename + \".JPG\" in files_ID:\n",
    "#             rep = row.iloc[5:].tolist()\n",
    "#             ID_rep.append([filename] + rep)\n",
    "#             counter2+=1\n",
    "        \n",
    "#     if len(files_ID) != counter2:\n",
    "#         print(\"Pictures of controls without {} representation: {}\".format(method, len(files_ID)-counter2))"
   ]
  },
  {
   "cell_type": "raw",
   "metadata": {},
   "source": [
    "    for index_rep, row_rep, index_ID, row_ID in zip(df_reps.iterrows(), df_ID.iterrows()):\n",
    "        filename = row.iloc[0]\n",
    "        # check if row is about kdv patient\n",
    "        if syn_name in filename:\n",
    "            # check if that kdv patient is in the current list\n",
    "            filename = filename + \".jpg\"\n",
    "            if filename in files_syn:\n",
    "                rep = row.iloc[5:].tolist()\n",
    "                syn_rep.append([filename] + rep)\n",
    "\n",
    "    \n",
    "        \n",
    "    ID_xlsx = data_dir + \"\\\\features_\"+method+\"_all_controls.xlsx\"\n",
    "    df_ID = pd.read_excel(ID_xlsx)\n",
    "    counter2 = 0\n",
    "    \n",
    "    for index, row in df_ID.iterrows():\n",
    "        filename = row.iloc[0]\n",
    "        # check if row is about kdv patient\n",
    "        #filename = filename + \"_crop_sized.JPG\"\n",
    "        # check if that kdv patient is in the current list\n",
    "        if filename +\".jpg\" in files_ID or filename + \".JPG\" in files_ID:\n",
    "            rep = row.iloc[5:].tolist()\n",
    "            ID_rep.append([filename] + rep)\n",
    "            counter2+=1"
   ]
  },
  {
   "cell_type": "code",
   "execution_count": 5,
   "metadata": {},
   "outputs": [
    {
     "name": "stdout",
     "output_type": "stream",
     "text": [
      "12\n",
      "12\n"
     ]
    }
   ],
   "source": [
    "print(len(syn_rep))\n",
    "print(len(ID_rep))"
   ]
  },
  {
   "cell_type": "code",
   "execution_count": 6,
   "metadata": {},
   "outputs": [
    {
     "name": "stdout",
     "output_type": "stream",
     "text": [
      "Done with saving all cfps representations.\n"
     ]
    }
   ],
   "source": [
    "# location to save representation\n",
    "csv_file_syn = data_dir+ \"\\\\{}\\\\representations\\{}-patients-{}.csv\".format(syn_name, syn_name, method)\n",
    "csv_file_ID = data_dir+ \"\\\\{}\\\\representations\\ID-controls-{}.csv\".format(syn_name, method)\n",
    "\n",
    "# save representation of kdv patients\n",
    "with open(csv_file_syn, \"w\", newline=\"\") as f:\n",
    "    writer = csv.writer(f)\n",
    "    writer.writerows(syn_rep)\n",
    "\n",
    "# save representation of ID controls\n",
    "with open(csv_file_ID, \"w\", newline=\"\") as f:\n",
    "    writer = csv.writer(f)\n",
    "    writer.writerows(ID_rep)\n",
    "\n",
    "print(\"Done with saving all {} representations.\".format(method))"
   ]
  },
  {
   "cell_type": "code",
   "execution_count": null,
   "metadata": {},
   "outputs": [],
   "source": []
  },
  {
   "cell_type": "code",
   "execution_count": null,
   "metadata": {},
   "outputs": [],
   "source": []
  }
 ],
 "metadata": {
  "kernelspec": {
   "display_name": "Python 3",
   "language": "python",
   "name": "python3"
  },
  "language_info": {
   "codemirror_mode": {
    "name": "ipython",
    "version": 3
   },
   "file_extension": ".py",
   "mimetype": "text/x-python",
   "name": "python",
   "nbconvert_exporter": "python",
   "pygments_lexer": "ipython3",
   "version": "3.6.10"
  }
 },
 "nbformat": 4,
 "nbformat_minor": 4
}
