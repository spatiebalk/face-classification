{
 "cells": [
  {
   "cell_type": "code",
   "execution_count": 45,
   "metadata": {},
   "outputs": [],
   "source": [
    "#imports\n",
    "import pandas\n",
    "import csv \n",
    "from os.path import join, isfile\n",
    "from os import listdir\n",
    "import pandas as pd\n",
    "import xlrd\n",
    "import numpy as np"
   ]
  },
  {
   "cell_type": "code",
   "execution_count": 50,
   "metadata": {},
   "outputs": [],
   "source": [
    "method = \"cfps\" #\"openface\" #\"cfps\""
   ]
  },
  {
   "cell_type": "code",
   "execution_count": 52,
   "metadata": {},
   "outputs": [
    {
     "name": "stdout",
     "output_type": "stream",
     "text": [
      "Pictures of kdv patients without cfps representation: 1\n",
      "Pictures of kdv patients without cfps representation: 3\n",
      "Pictures of controls without cfps representation: 1\n",
      "Pictures of kdv patients without cfps representation: 1\n"
     ]
    }
   ],
   "source": [
    "# main\n",
    "\n",
    "data_dir = r\"H:\\Genetica Projecten\\Facial Recognition\\Studenten en Onderzoekers\\Fien\"\n",
    "age_ranges = [[1, 3], [4, 16], [17, 40]]\n",
    "kdv_rep = []\n",
    "ID_rep = []\n",
    "\n",
    "    \n",
    "for [low_age, high_age] in age_ranges:\n",
    "    \n",
    "    # open directories\n",
    "    kdv_dir = data_dir + \"\\kdv\\kdv-patients-age-group-\"+str(low_age) + \"-\" + str(high_age)\n",
    "    ID_dir = data_dir + \"\\kdv\\kdv-selected-ID-controls-age-group-\"+str(low_age) + \"-\" + str(high_age)\n",
    "\n",
    "    # get list of filenames\n",
    "    files_kdv = [f for f in listdir(kdv_dir) if (isfile(join(kdv_dir, f)) & (\"crop_sized.jpg\" in f))]\n",
    "    files_ID = [f for f in listdir(ID_dir) if (isfile(join(ID_dir, f)) & (\"crop_sized.JPG\" in f))]\n",
    "\n",
    "\n",
    "    kdv_xlsx = data_dir + \"\\\\features_\"+method+\"_patient_groups.xlsx\"\n",
    "    df_kdv = pd.read_excel(kdv_xlsx)\n",
    "    counter = 0\n",
    "        \n",
    "    for index, row in df_kdv.iterrows():\n",
    "        filename = row.iloc[0]\n",
    "        # check if row is about kdv patient\n",
    "        if \"kdv\" in filename:\n",
    "            filename = filename.replace(\"small_\", \"\") + \"_crop_sized.jpg\"\n",
    "            # check if that kdv patient is in the current list\n",
    "            if filename in files_kdv:\n",
    "                rep = row.iloc[5:].tolist()\n",
    "                kdv_rep.append([filename] + rep)\n",
    "                counter+=1\n",
    "                \n",
    "    if len(files_kdv) != counter:\n",
    "        print(\"Pictures of kdv patients without {} representation: {}\".format(method, len(files_kdv)-counter))\n",
    "\n",
    "    \n",
    "        \n",
    "    ID_xlsx = data_dir + \"\\\\features_\"+method+\"_all_controls.xlsx\"\n",
    "    df_ID = pd.read_excel(ID_xlsx)\n",
    "    counter2 = 0\n",
    "    \n",
    "    for index, row in df_ID.iterrows():\n",
    "        filename = row.iloc[0]\n",
    "        # check if row is about kdv patient\n",
    "        filename = filename + \"_crop_sized.JPG\"\n",
    "        # check if that kdv patient is in the current list\n",
    "        if filename in files_ID:\n",
    "            rep = row.iloc[5:].tolist()\n",
    "            ID_rep.append([filename] + rep)\n",
    "            counter2+=1\n",
    "        \n",
    "    if len(files_ID) != counter2:\n",
    "        print(\"Pictures of controls without {} representation: {}\".format(method, len(files_ID)-counter2))"
   ]
  },
  {
   "cell_type": "code",
   "execution_count": 53,
   "metadata": {},
   "outputs": [
    {
     "name": "stdout",
     "output_type": "stream",
     "text": [
      "Done with saving all cfps representations.\n"
     ]
    }
   ],
   "source": [
    "# location to save representation\n",
    "csv_file_kdv = data_dir+ \"\\\\kdv\\\\representations\\kdv-patients-\"+method+\".csv\"\n",
    "csv_file_ID = data_dir+ \"\\\\kdv\\\\representations\\ID-controls-\"+method+\".csv\"\n",
    "\n",
    "# save representation of kdv patients\n",
    "with open(csv_file_kdv, \"w\", newline=\"\") as f:\n",
    "    writer = csv.writer(f)\n",
    "    writer.writerows(kdv_rep)\n",
    "\n",
    "# save representation of ID controls\n",
    "with open(csv_file_ID, \"w\", newline=\"\") as f:\n",
    "    writer = csv.writer(f)\n",
    "    writer.writerows(ID_rep)\n",
    "\n",
    "print(\"Done with saving all {} representations.\".format(method))"
   ]
  },
  {
   "cell_type": "code",
   "execution_count": null,
   "metadata": {},
   "outputs": [],
   "source": []
  }
 ],
 "metadata": {
  "kernelspec": {
   "display_name": "Python 3",
   "language": "python",
   "name": "python3"
  },
  "language_info": {
   "codemirror_mode": {
    "name": "ipython",
    "version": 3
   },
   "file_extension": ".py",
   "mimetype": "text/x-python",
   "name": "python",
   "nbconvert_exporter": "python",
   "pygments_lexer": "ipython3",
   "version": "3.6.10"
  }
 },
 "nbformat": 4,
 "nbformat_minor": 4
}
