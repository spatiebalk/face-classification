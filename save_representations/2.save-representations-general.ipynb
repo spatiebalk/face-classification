{
 "cells": [
  {
   "cell_type": "markdown",
   "metadata": {},
   "source": [
    "### Save representations\n",
    "This script calculated the representations of several syndromes and their controls. \n",
    "\n",
    "The deepface, dlib, openface and cfps representations are saved in a csv. "
   ]
  },
  {
   "cell_type": "code",
   "execution_count": 1,
   "metadata": {},
   "outputs": [
    {
     "name": "stderr",
     "output_type": "stream",
     "text": [
      "Using TensorFlow backend.\n"
     ]
    }
   ],
   "source": [
    "import pandas\n",
    "import csv \n",
    "from os.path import join, isfile\n",
    "from os import listdir, path\n",
    "import pandas as pd\n",
    "import xlrd\n",
    "import numpy as np\n",
    "import keras\n",
    "from PIL import Image \n",
    "from keras.models import Model\n",
    "import tensorflow\n",
    "from tqdm import tqdm\n",
    "import dlib\n"
   ]
  },
  {
   "cell_type": "code",
   "execution_count": 2,
   "metadata": {},
   "outputs": [],
   "source": [
    "import cfps_openface\n",
    "import deepface\n",
    "import dlib_landmarks\n",
    "import facereader"
   ]
  },
  {
   "cell_type": "code",
   "execution_count": 3,
   "metadata": {},
   "outputs": [
    {
     "name": "stdout",
     "output_type": "stream",
     "text": [
      "Syn_reps: 69, ID_reps: 69\n",
      "Done with saving all openface representations for KDVS.\n",
      "Syn_reps: 69, ID_reps: 69\n",
      "Done with saving all cfps representations for KDVS.\n"
     ]
    },
    {
     "name": "stderr",
     "output_type": "stream",
     "text": [
      "\r",
      "  0%|                                                   | 0/74 [00:00<?, ?it/s]"
     ]
    },
    {
     "name": "stdout",
     "output_type": "stream",
     "text": [
      "Model: \"model_1\"\n",
      "_________________________________________________________________\n",
      "Layer (type)                 Output Shape              Param #   \n",
      "=================================================================\n",
      "I0 (InputLayer)              (None, 152, 152, 3)       0         \n",
      "_________________________________________________________________\n",
      "C1 (Conv2D)                  (None, 142, 142, 32)      11648     \n",
      "_________________________________________________________________\n",
      "M2 (MaxPooling2D)            (None, 71, 71, 32)        0         \n",
      "_________________________________________________________________\n",
      "C3 (Conv2D)                  (None, 63, 63, 16)        41488     \n",
      "_________________________________________________________________\n",
      "L4 (LocallyConnected2D)      (None, 55, 55, 16)        62774800  \n",
      "_________________________________________________________________\n",
      "L5 (LocallyConnected2D)      (None, 25, 25, 16)        7850000   \n",
      "_________________________________________________________________\n",
      "L6 (LocallyConnected2D)      (None, 21, 21, 16)        2829456   \n",
      "_________________________________________________________________\n",
      "F0 (Flatten)                 (None, 7056)              0         \n",
      "_________________________________________________________________\n",
      "F7 (Dense)                   (None, 4096)              28905472  \n",
      "_________________________________________________________________\n",
      "D0 (Dropout)                 (None, 4096)              0         \n",
      "=================================================================\n",
      "Total params: 102,412,864\n",
      "Trainable params: 102,412,864\n",
      "Non-trainable params: 0\n",
      "_________________________________________________________________\n"
     ]
    },
    {
     "name": "stderr",
     "output_type": "stream",
     "text": [
      "100%|██████████████████████████████████████████| 74/74 [00:43<00:00,  1.70it/s]\n",
      "100%|██████████████████████████████████████████| 74/74 [00:07<00:00,  9.55it/s]\n"
     ]
    },
    {
     "name": "stdout",
     "output_type": "stream",
     "text": [
      "Syn_reps: 74, ID_reps: 74\n",
      "Done with saving all deepface representations for KDVS.\n",
      "No face found\n",
      "H:\\Genetica Projecten\\Facial Recognition\\Studenten en Onderzoekers\\Fien\\KDVS\\KDVS-patients\\KDVS_25.jpg\n",
      "No face found\n",
      "H:\\Genetica Projecten\\Facial Recognition\\Studenten en Onderzoekers\\Fien\\KDVS\\KDVS-patients\\KDVS_34.jpg\n",
      "Syn_reps: 74, ID_reps: 74\n",
      "Done with saving all dlib representations for KDVS.\n",
      "Syn_reps: 74, ID_reps: 74\n",
      "Done with saving all facereader representations for KDVS.\n",
      "Syn_reps: 23, ID_reps: 23\n",
      "Done with saving all openface representations for ADNP.\n",
      "Syn_reps: 23, ID_reps: 23\n",
      "Done with saving all cfps representations for ADNP.\n"
     ]
    },
    {
     "name": "stderr",
     "output_type": "stream",
     "text": [
      "\r",
      "  0%|                                                   | 0/27 [00:00<?, ?it/s]"
     ]
    },
    {
     "name": "stdout",
     "output_type": "stream",
     "text": [
      "Model: \"model_2\"\n",
      "_________________________________________________________________\n",
      "Layer (type)                 Output Shape              Param #   \n",
      "=================================================================\n",
      "I0 (InputLayer)              (None, 152, 152, 3)       0         \n",
      "_________________________________________________________________\n",
      "C1 (Conv2D)                  (None, 142, 142, 32)      11648     \n",
      "_________________________________________________________________\n",
      "M2 (MaxPooling2D)            (None, 71, 71, 32)        0         \n",
      "_________________________________________________________________\n",
      "C3 (Conv2D)                  (None, 63, 63, 16)        41488     \n",
      "_________________________________________________________________\n",
      "L4 (LocallyConnected2D)      (None, 55, 55, 16)        62774800  \n",
      "_________________________________________________________________\n",
      "L5 (LocallyConnected2D)      (None, 25, 25, 16)        7850000   \n",
      "_________________________________________________________________\n",
      "L6 (LocallyConnected2D)      (None, 21, 21, 16)        2829456   \n",
      "_________________________________________________________________\n",
      "F0 (Flatten)                 (None, 7056)              0         \n",
      "_________________________________________________________________\n",
      "F7 (Dense)                   (None, 4096)              28905472  \n",
      "_________________________________________________________________\n",
      "D0 (Dropout)                 (None, 4096)              0         \n",
      "=================================================================\n",
      "Total params: 102,412,864\n",
      "Trainable params: 102,412,864\n",
      "Non-trainable params: 0\n",
      "_________________________________________________________________\n"
     ]
    },
    {
     "name": "stderr",
     "output_type": "stream",
     "text": [
      "100%|██████████████████████████████████████████| 27/27 [00:27<00:00,  1.00s/it]\n",
      "100%|██████████████████████████████████████████| 27/27 [00:02<00:00,  9.86it/s]\n"
     ]
    },
    {
     "name": "stdout",
     "output_type": "stream",
     "text": [
      "Syn_reps: 27, ID_reps: 27\n",
      "Done with saving all deepface representations for ADNP.\n",
      "No face found\n",
      "H:\\Genetica Projecten\\Facial Recognition\\Studenten en Onderzoekers\\Fien\\ADNP\\ADNP-patients\\ADNP_50.jpg\n",
      "Syn_reps: 27, ID_reps: 27\n",
      "Done with saving all dlib representations for ADNP.\n",
      "Syn_reps: 27, ID_reps: 27\n",
      "Done with saving all facereader representations for ADNP.\n",
      "Syn_reps: 21, ID_reps: 21\n",
      "Done with saving all openface representations for ANKRD11.\n",
      "Syn_reps: 15, ID_reps: 15\n",
      "Done with saving all cfps representations for ANKRD11.\n"
     ]
    },
    {
     "name": "stderr",
     "output_type": "stream",
     "text": [
      "\r",
      "  0%|                                                   | 0/24 [00:00<?, ?it/s]"
     ]
    },
    {
     "name": "stdout",
     "output_type": "stream",
     "text": [
      "Model: \"model_3\"\n",
      "_________________________________________________________________\n",
      "Layer (type)                 Output Shape              Param #   \n",
      "=================================================================\n",
      "I0 (InputLayer)              (None, 152, 152, 3)       0         \n",
      "_________________________________________________________________\n",
      "C1 (Conv2D)                  (None, 142, 142, 32)      11648     \n",
      "_________________________________________________________________\n",
      "M2 (MaxPooling2D)            (None, 71, 71, 32)        0         \n",
      "_________________________________________________________________\n",
      "C3 (Conv2D)                  (None, 63, 63, 16)        41488     \n",
      "_________________________________________________________________\n",
      "L4 (LocallyConnected2D)      (None, 55, 55, 16)        62774800  \n",
      "_________________________________________________________________\n",
      "L5 (LocallyConnected2D)      (None, 25, 25, 16)        7850000   \n",
      "_________________________________________________________________\n",
      "L6 (LocallyConnected2D)      (None, 21, 21, 16)        2829456   \n",
      "_________________________________________________________________\n",
      "F0 (Flatten)                 (None, 7056)              0         \n",
      "_________________________________________________________________\n",
      "F7 (Dense)                   (None, 4096)              28905472  \n",
      "_________________________________________________________________\n",
      "D0 (Dropout)                 (None, 4096)              0         \n",
      "=================================================================\n",
      "Total params: 102,412,864\n",
      "Trainable params: 102,412,864\n",
      "Non-trainable params: 0\n",
      "_________________________________________________________________\n"
     ]
    },
    {
     "name": "stderr",
     "output_type": "stream",
     "text": [
      "100%|██████████████████████████████████████████| 24/24 [00:26<00:00,  1.11s/it]\n",
      "100%|██████████████████████████████████████████| 24/24 [00:02<00:00,  9.99it/s]\n"
     ]
    },
    {
     "name": "stdout",
     "output_type": "stream",
     "text": [
      "Syn_reps: 24, ID_reps: 24\n",
      "Done with saving all deepface representations for ANKRD11.\n",
      "Syn_reps: 24, ID_reps: 24\n",
      "Done with saving all dlib representations for ANKRD11.\n",
      "Syn_reps: 24, ID_reps: 24\n",
      "Done with saving all facereader representations for ANKRD11.\n",
      "Syn_reps: 19, ID_reps: 19\n",
      "Done with saving all openface representations for CDK13.\n",
      "Syn_reps: 19, ID_reps: 19\n",
      "Done with saving all cfps representations for CDK13.\n"
     ]
    },
    {
     "name": "stderr",
     "output_type": "stream",
     "text": [
      "\r",
      "  0%|                                                   | 0/29 [00:00<?, ?it/s]"
     ]
    },
    {
     "name": "stdout",
     "output_type": "stream",
     "text": [
      "Model: \"model_4\"\n",
      "_________________________________________________________________\n",
      "Layer (type)                 Output Shape              Param #   \n",
      "=================================================================\n",
      "I0 (InputLayer)              (None, 152, 152, 3)       0         \n",
      "_________________________________________________________________\n",
      "C1 (Conv2D)                  (None, 142, 142, 32)      11648     \n",
      "_________________________________________________________________\n",
      "M2 (MaxPooling2D)            (None, 71, 71, 32)        0         \n",
      "_________________________________________________________________\n",
      "C3 (Conv2D)                  (None, 63, 63, 16)        41488     \n",
      "_________________________________________________________________\n",
      "L4 (LocallyConnected2D)      (None, 55, 55, 16)        62774800  \n",
      "_________________________________________________________________\n",
      "L5 (LocallyConnected2D)      (None, 25, 25, 16)        7850000   \n",
      "_________________________________________________________________\n",
      "L6 (LocallyConnected2D)      (None, 21, 21, 16)        2829456   \n",
      "_________________________________________________________________\n",
      "F0 (Flatten)                 (None, 7056)              0         \n",
      "_________________________________________________________________\n",
      "F7 (Dense)                   (None, 4096)              28905472  \n",
      "_________________________________________________________________\n",
      "D0 (Dropout)                 (None, 4096)              0         \n",
      "=================================================================\n",
      "Total params: 102,412,864\n",
      "Trainable params: 102,412,864\n",
      "Non-trainable params: 0\n",
      "_________________________________________________________________\n"
     ]
    },
    {
     "name": "stderr",
     "output_type": "stream",
     "text": [
      "100%|██████████████████████████████████████████| 29/29 [00:26<00:00,  1.10it/s]\n",
      "100%|██████████████████████████████████████████| 29/29 [00:03<00:00,  9.29it/s]\n"
     ]
    },
    {
     "name": "stdout",
     "output_type": "stream",
     "text": [
      "Syn_reps: 29, ID_reps: 29\n",
      "Done with saving all deepface representations for CDK13.\n",
      "No face found\n",
      "H:\\Genetica Projecten\\Facial Recognition\\Studenten en Onderzoekers\\Fien\\CDK13\\CDK13-patients\\CDK13_41.jpg\n",
      "Syn_reps: 29, ID_reps: 29\n",
      "Done with saving all dlib representations for CDK13.\n",
      "Syn_reps: 29, ID_reps: 29\n",
      "Done with saving all facereader representations for CDK13.\n",
      "Syn_reps: 17, ID_reps: 17\n",
      "Done with saving all openface representations for DEAF1.\n",
      "Syn_reps: 17, ID_reps: 17\n",
      "Done with saving all cfps representations for DEAF1.\n"
     ]
    },
    {
     "name": "stderr",
     "output_type": "stream",
     "text": [
      "\r",
      "  0%|                                                   | 0/20 [00:00<?, ?it/s]"
     ]
    },
    {
     "name": "stdout",
     "output_type": "stream",
     "text": [
      "Model: \"model_5\"\n",
      "_________________________________________________________________\n",
      "Layer (type)                 Output Shape              Param #   \n",
      "=================================================================\n",
      "I0 (InputLayer)              (None, 152, 152, 3)       0         \n",
      "_________________________________________________________________\n",
      "C1 (Conv2D)                  (None, 142, 142, 32)      11648     \n",
      "_________________________________________________________________\n",
      "M2 (MaxPooling2D)            (None, 71, 71, 32)        0         \n",
      "_________________________________________________________________\n",
      "C3 (Conv2D)                  (None, 63, 63, 16)        41488     \n",
      "_________________________________________________________________\n",
      "L4 (LocallyConnected2D)      (None, 55, 55, 16)        62774800  \n",
      "_________________________________________________________________\n",
      "L5 (LocallyConnected2D)      (None, 25, 25, 16)        7850000   \n",
      "_________________________________________________________________\n",
      "L6 (LocallyConnected2D)      (None, 21, 21, 16)        2829456   \n",
      "_________________________________________________________________\n",
      "F0 (Flatten)                 (None, 7056)              0         \n",
      "_________________________________________________________________\n",
      "F7 (Dense)                   (None, 4096)              28905472  \n",
      "_________________________________________________________________\n",
      "D0 (Dropout)                 (None, 4096)              0         \n",
      "=================================================================\n",
      "Total params: 102,412,864\n",
      "Trainable params: 102,412,864\n",
      "Non-trainable params: 0\n",
      "_________________________________________________________________\n"
     ]
    },
    {
     "name": "stderr",
     "output_type": "stream",
     "text": [
      "100%|██████████████████████████████████████████| 20/20 [00:25<00:00,  1.27s/it]\n",
      "100%|██████████████████████████████████████████| 20/20 [00:02<00:00,  8.57it/s]\n"
     ]
    },
    {
     "name": "stdout",
     "output_type": "stream",
     "text": [
      "Syn_reps: 20, ID_reps: 20\n",
      "Done with saving all deepface representations for DEAF1.\n",
      "Syn_reps: 20, ID_reps: 20\n",
      "Done with saving all dlib representations for DEAF1.\n",
      "Syn_reps: 20, ID_reps: 20\n",
      "Done with saving all facereader representations for DEAF1.\n",
      "Syn_reps: 11, ID_reps: 11\n",
      "Done with saving all openface representations for DYRK1A.\n",
      "Syn_reps: 11, ID_reps: 11\n",
      "Done with saving all cfps representations for DYRK1A.\n"
     ]
    },
    {
     "name": "stderr",
     "output_type": "stream",
     "text": [
      "\r",
      "  0%|                                                   | 0/15 [00:00<?, ?it/s]"
     ]
    },
    {
     "name": "stdout",
     "output_type": "stream",
     "text": [
      "Model: \"model_6\"\n",
      "_________________________________________________________________\n",
      "Layer (type)                 Output Shape              Param #   \n",
      "=================================================================\n",
      "I0 (InputLayer)              (None, 152, 152, 3)       0         \n",
      "_________________________________________________________________\n",
      "C1 (Conv2D)                  (None, 142, 142, 32)      11648     \n",
      "_________________________________________________________________\n",
      "M2 (MaxPooling2D)            (None, 71, 71, 32)        0         \n",
      "_________________________________________________________________\n",
      "C3 (Conv2D)                  (None, 63, 63, 16)        41488     \n",
      "_________________________________________________________________\n",
      "L4 (LocallyConnected2D)      (None, 55, 55, 16)        62774800  \n",
      "_________________________________________________________________\n",
      "L5 (LocallyConnected2D)      (None, 25, 25, 16)        7850000   \n",
      "_________________________________________________________________\n",
      "L6 (LocallyConnected2D)      (None, 21, 21, 16)        2829456   \n",
      "_________________________________________________________________\n",
      "F0 (Flatten)                 (None, 7056)              0         \n",
      "_________________________________________________________________\n",
      "F7 (Dense)                   (None, 4096)              28905472  \n",
      "_________________________________________________________________\n",
      "D0 (Dropout)                 (None, 4096)              0         \n",
      "=================================================================\n",
      "Total params: 102,412,864\n",
      "Trainable params: 102,412,864\n",
      "Non-trainable params: 0\n",
      "_________________________________________________________________\n"
     ]
    },
    {
     "name": "stderr",
     "output_type": "stream",
     "text": [
      "100%|██████████████████████████████████████████| 15/15 [00:24<00:00,  1.63s/it]\n",
      "100%|██████████████████████████████████████████| 15/15 [00:01<00:00,  9.63it/s]\n"
     ]
    },
    {
     "name": "stdout",
     "output_type": "stream",
     "text": [
      "Syn_reps: 15, ID_reps: 15\n",
      "Done with saving all deepface representations for DYRK1A.\n",
      "No face found\n",
      "H:\\Genetica Projecten\\Facial Recognition\\Studenten en Onderzoekers\\Fien\\DYRK1A\\DYRK1A-patients\\DYRK1A_7.jpg\n",
      "Syn_reps: 15, ID_reps: 15\n",
      "Done with saving all dlib representations for DYRK1A.\n",
      "Syn_reps: 15, ID_reps: 15\n",
      "Done with saving all facereader representations for DYRK1A.\n",
      "Syn_reps: 15, ID_reps: 15\n",
      "Done with saving all openface representations for EHMT1.\n",
      "Syn_reps: 15, ID_reps: 15\n",
      "Done with saving all cfps representations for EHMT1.\n"
     ]
    },
    {
     "name": "stderr",
     "output_type": "stream",
     "text": [
      "\r",
      "  0%|                                                   | 0/38 [00:00<?, ?it/s]"
     ]
    },
    {
     "name": "stdout",
     "output_type": "stream",
     "text": [
      "Model: \"model_7\"\n",
      "_________________________________________________________________\n",
      "Layer (type)                 Output Shape              Param #   \n",
      "=================================================================\n",
      "I0 (InputLayer)              (None, 152, 152, 3)       0         \n",
      "_________________________________________________________________\n",
      "C1 (Conv2D)                  (None, 142, 142, 32)      11648     \n",
      "_________________________________________________________________\n",
      "M2 (MaxPooling2D)            (None, 71, 71, 32)        0         \n",
      "_________________________________________________________________\n",
      "C3 (Conv2D)                  (None, 63, 63, 16)        41488     \n",
      "_________________________________________________________________\n",
      "L4 (LocallyConnected2D)      (None, 55, 55, 16)        62774800  \n",
      "_________________________________________________________________\n",
      "L5 (LocallyConnected2D)      (None, 25, 25, 16)        7850000   \n",
      "_________________________________________________________________\n",
      "L6 (LocallyConnected2D)      (None, 21, 21, 16)        2829456   \n",
      "_________________________________________________________________\n",
      "F0 (Flatten)                 (None, 7056)              0         \n",
      "_________________________________________________________________\n",
      "F7 (Dense)                   (None, 4096)              28905472  \n",
      "_________________________________________________________________\n",
      "D0 (Dropout)                 (None, 4096)              0         \n",
      "=================================================================\n",
      "Total params: 102,412,864\n",
      "Trainable params: 102,412,864\n",
      "Non-trainable params: 0\n",
      "_________________________________________________________________\n"
     ]
    },
    {
     "name": "stderr",
     "output_type": "stream",
     "text": [
      "100%|██████████████████████████████████████████| 38/38 [00:26<00:00,  1.41it/s]\n",
      "100%|██████████████████████████████████████████| 38/38 [00:04<00:00,  8.52it/s]\n"
     ]
    },
    {
     "name": "stdout",
     "output_type": "stream",
     "text": [
      "Syn_reps: 38, ID_reps: 38\n",
      "Done with saving all deepface representations for EHMT1.\n",
      "Syn_reps: 38, ID_reps: 38\n",
      "Done with saving all dlib representations for EHMT1.\n",
      "Syn_reps: 38, ID_reps: 38\n",
      "Done with saving all facereader representations for EHMT1.\n",
      "Syn_reps: 16, ID_reps: 16\n",
      "Done with saving all openface representations for FBXO11.\n",
      "Syn_reps: 16, ID_reps: 16\n",
      "Done with saving all cfps representations for FBXO11.\n"
     ]
    },
    {
     "name": "stderr",
     "output_type": "stream",
     "text": [
      "\r",
      "  0%|                                                   | 0/18 [00:00<?, ?it/s]"
     ]
    },
    {
     "name": "stdout",
     "output_type": "stream",
     "text": [
      "Model: \"model_8\"\n",
      "_________________________________________________________________\n",
      "Layer (type)                 Output Shape              Param #   \n",
      "=================================================================\n",
      "I0 (InputLayer)              (None, 152, 152, 3)       0         \n",
      "_________________________________________________________________\n",
      "C1 (Conv2D)                  (None, 142, 142, 32)      11648     \n",
      "_________________________________________________________________\n",
      "M2 (MaxPooling2D)            (None, 71, 71, 32)        0         \n",
      "_________________________________________________________________\n",
      "C3 (Conv2D)                  (None, 63, 63, 16)        41488     \n",
      "_________________________________________________________________\n",
      "L4 (LocallyConnected2D)      (None, 55, 55, 16)        62774800  \n",
      "_________________________________________________________________\n",
      "L5 (LocallyConnected2D)      (None, 25, 25, 16)        7850000   \n",
      "_________________________________________________________________\n",
      "L6 (LocallyConnected2D)      (None, 21, 21, 16)        2829456   \n",
      "_________________________________________________________________\n",
      "F0 (Flatten)                 (None, 7056)              0         \n",
      "_________________________________________________________________\n",
      "F7 (Dense)                   (None, 4096)              28905472  \n",
      "_________________________________________________________________\n",
      "D0 (Dropout)                 (None, 4096)              0         \n",
      "=================================================================\n",
      "Total params: 102,412,864\n",
      "Trainable params: 102,412,864\n",
      "Non-trainable params: 0\n",
      "_________________________________________________________________\n"
     ]
    },
    {
     "name": "stderr",
     "output_type": "stream",
     "text": [
      "100%|██████████████████████████████████████████| 18/18 [00:27<00:00,  1.53s/it]\n",
      "100%|██████████████████████████████████████████| 18/18 [00:02<00:00,  8.19it/s]\n"
     ]
    },
    {
     "name": "stdout",
     "output_type": "stream",
     "text": [
      "Syn_reps: 18, ID_reps: 18\n",
      "Done with saving all deepface representations for FBXO11.\n",
      "Syn_reps: 18, ID_reps: 18\n",
      "Done with saving all dlib representations for FBXO11.\n",
      "Syn_reps: 18, ID_reps: 18\n",
      "Done with saving all facereader representations for FBXO11.\n",
      "Syn_reps: 19, ID_reps: 19\n",
      "Done with saving all openface representations for SON.\n",
      "Syn_reps: 19, ID_reps: 19\n",
      "Done with saving all cfps representations for SON.\n"
     ]
    },
    {
     "name": "stderr",
     "output_type": "stream",
     "text": [
      "\r",
      "  0%|                                                   | 0/19 [00:00<?, ?it/s]"
     ]
    },
    {
     "name": "stdout",
     "output_type": "stream",
     "text": [
      "Model: \"model_9\"\n",
      "_________________________________________________________________\n",
      "Layer (type)                 Output Shape              Param #   \n",
      "=================================================================\n",
      "I0 (InputLayer)              (None, 152, 152, 3)       0         \n",
      "_________________________________________________________________\n",
      "C1 (Conv2D)                  (None, 142, 142, 32)      11648     \n",
      "_________________________________________________________________\n",
      "M2 (MaxPooling2D)            (None, 71, 71, 32)        0         \n",
      "_________________________________________________________________\n",
      "C3 (Conv2D)                  (None, 63, 63, 16)        41488     \n",
      "_________________________________________________________________\n",
      "L4 (LocallyConnected2D)      (None, 55, 55, 16)        62774800  \n",
      "_________________________________________________________________\n",
      "L5 (LocallyConnected2D)      (None, 25, 25, 16)        7850000   \n",
      "_________________________________________________________________\n",
      "L6 (LocallyConnected2D)      (None, 21, 21, 16)        2829456   \n",
      "_________________________________________________________________\n",
      "F0 (Flatten)                 (None, 7056)              0         \n",
      "_________________________________________________________________\n",
      "F7 (Dense)                   (None, 4096)              28905472  \n",
      "_________________________________________________________________\n",
      "D0 (Dropout)                 (None, 4096)              0         \n",
      "=================================================================\n",
      "Total params: 102,412,864\n",
      "Trainable params: 102,412,864\n",
      "Non-trainable params: 0\n",
      "_________________________________________________________________\n"
     ]
    },
    {
     "name": "stderr",
     "output_type": "stream",
     "text": [
      "100%|██████████████████████████████████████████| 19/19 [00:25<00:00,  1.36s/it]\n",
      "100%|██████████████████████████████████████████| 19/19 [00:01<00:00,  9.78it/s]\n"
     ]
    },
    {
     "name": "stdout",
     "output_type": "stream",
     "text": [
      "Syn_reps: 19, ID_reps: 19\n",
      "Done with saving all deepface representations for SON.\n",
      "Syn_reps: 19, ID_reps: 19\n",
      "Done with saving all dlib representations for SON.\n",
      "Syn_reps: 19, ID_reps: 19\n",
      "Done with saving all facereader representations for SON.\n",
      "Syn_reps: 5, ID_reps: 5\n",
      "Done with saving all openface representations for WAC.\n",
      "Syn_reps: 5, ID_reps: 5\n",
      "Done with saving all cfps representations for WAC.\n"
     ]
    },
    {
     "name": "stderr",
     "output_type": "stream",
     "text": [
      "\r",
      "  0%|                                                   | 0/14 [00:00<?, ?it/s]"
     ]
    },
    {
     "name": "stdout",
     "output_type": "stream",
     "text": [
      "Model: \"model_10\"\n",
      "_________________________________________________________________\n",
      "Layer (type)                 Output Shape              Param #   \n",
      "=================================================================\n",
      "I0 (InputLayer)              (None, 152, 152, 3)       0         \n",
      "_________________________________________________________________\n",
      "C1 (Conv2D)                  (None, 142, 142, 32)      11648     \n",
      "_________________________________________________________________\n",
      "M2 (MaxPooling2D)            (None, 71, 71, 32)        0         \n",
      "_________________________________________________________________\n",
      "C3 (Conv2D)                  (None, 63, 63, 16)        41488     \n",
      "_________________________________________________________________\n",
      "L4 (LocallyConnected2D)      (None, 55, 55, 16)        62774800  \n",
      "_________________________________________________________________\n",
      "L5 (LocallyConnected2D)      (None, 25, 25, 16)        7850000   \n",
      "_________________________________________________________________\n",
      "L6 (LocallyConnected2D)      (None, 21, 21, 16)        2829456   \n",
      "_________________________________________________________________\n",
      "F0 (Flatten)                 (None, 7056)              0         \n",
      "_________________________________________________________________\n",
      "F7 (Dense)                   (None, 4096)              28905472  \n",
      "_________________________________________________________________\n",
      "D0 (Dropout)                 (None, 4096)              0         \n",
      "=================================================================\n",
      "Total params: 102,412,864\n",
      "Trainable params: 102,412,864\n",
      "Non-trainable params: 0\n",
      "_________________________________________________________________\n"
     ]
    },
    {
     "name": "stderr",
     "output_type": "stream",
     "text": [
      "100%|██████████████████████████████████████████| 14/14 [00:24<00:00,  1.75s/it]\n",
      "100%|██████████████████████████████████████████| 14/14 [00:01<00:00,  9.49it/s]\n"
     ]
    },
    {
     "name": "stdout",
     "output_type": "stream",
     "text": [
      "Syn_reps: 14, ID_reps: 14\n",
      "Done with saving all deepface representations for WAC.\n",
      "Syn_reps: 14, ID_reps: 14\n",
      "Done with saving all dlib representations for WAC.\n",
      "Syn_reps: 14, ID_reps: 14\n",
      "Done with saving all facereader representations for WAC.\n",
      "Syn_reps: 12, ID_reps: 12\n",
      "Done with saving all openface representations for YY1.\n",
      "Syn_reps: 12, ID_reps: 12\n",
      "Done with saving all cfps representations for YY1.\n"
     ]
    },
    {
     "name": "stderr",
     "output_type": "stream",
     "text": [
      "\r",
      "  0%|                                                   | 0/12 [00:00<?, ?it/s]"
     ]
    },
    {
     "name": "stdout",
     "output_type": "stream",
     "text": [
      "Model: \"model_11\"\n",
      "_________________________________________________________________\n",
      "Layer (type)                 Output Shape              Param #   \n",
      "=================================================================\n",
      "I0 (InputLayer)              (None, 152, 152, 3)       0         \n",
      "_________________________________________________________________\n",
      "C1 (Conv2D)                  (None, 142, 142, 32)      11648     \n",
      "_________________________________________________________________\n",
      "M2 (MaxPooling2D)            (None, 71, 71, 32)        0         \n",
      "_________________________________________________________________\n",
      "C3 (Conv2D)                  (None, 63, 63, 16)        41488     \n",
      "_________________________________________________________________\n",
      "L4 (LocallyConnected2D)      (None, 55, 55, 16)        62774800  \n",
      "_________________________________________________________________\n",
      "L5 (LocallyConnected2D)      (None, 25, 25, 16)        7850000   \n",
      "_________________________________________________________________\n",
      "L6 (LocallyConnected2D)      (None, 21, 21, 16)        2829456   \n",
      "_________________________________________________________________\n",
      "F0 (Flatten)                 (None, 7056)              0         \n",
      "_________________________________________________________________\n",
      "F7 (Dense)                   (None, 4096)              28905472  \n",
      "_________________________________________________________________\n",
      "D0 (Dropout)                 (None, 4096)              0         \n",
      "=================================================================\n",
      "Total params: 102,412,864\n",
      "Trainable params: 102,412,864\n",
      "Non-trainable params: 0\n",
      "_________________________________________________________________\n"
     ]
    },
    {
     "name": "stderr",
     "output_type": "stream",
     "text": [
      "100%|██████████████████████████████████████████| 12/12 [00:26<00:00,  2.23s/it]\n",
      "100%|██████████████████████████████████████████| 12/12 [00:01<00:00,  9.56it/s]\n"
     ]
    },
    {
     "name": "stdout",
     "output_type": "stream",
     "text": [
      "Syn_reps: 12, ID_reps: 12\n",
      "Done with saving all deepface representations for YY1.\n",
      "Syn_reps: 12, ID_reps: 12\n",
      "Done with saving all dlib representations for YY1.\n",
      "Syn_reps: 12, ID_reps: 12\n",
      "Done with saving all facereader representations for YY1.\n",
      "Done saving all the representations for all the 11 syndromes\n"
     ]
    }
   ],
   "source": [
    "syn_list = ['KDVS','ADNP', 'ANKRD11', 'CDK13', 'DEAF1', 'DYRK1A', 'EHMT1', 'FBXO11', 'SON', 'WAC', 'YY1']\n",
    "GENERAL_DIR = r\"H:\\Genetica Projecten\\Facial Recognition\\Studenten en Onderzoekers\\Fien\"\n",
    "# TRIAL 4\n",
    "for syn in syn_list:\n",
    "    \n",
    "    # openface\n",
    "    cfps_openface.openface_cfps_reps(GENERAL_DIR, \"openface\", syn)\n",
    "    \n",
    "    # cfps\n",
    "    cfps_openface.openface_cfps_reps(GENERAL_DIR, \"cfps\", syn)\n",
    "    \n",
    "    # deepface\n",
    "    deepface.deepface_reps(GENERAL_DIR, syn)\n",
    "     \n",
    "    # dlib\n",
    "    dlib_landmarks.dlib_landmarks_reps(GENERAL_DIR, syn)\n",
    "    \n",
    "    # facereader\n",
    "    facereader.facereader_reps(GENERAL_DIR, syn) \n",
    "    \n",
    "print(\"\\nDone saving all the representations for all the {} syndromes\".format(len(syn_list)))\n",
    "    "
   ]
  },
  {
   "cell_type": "code",
   "execution_count": null,
   "metadata": {},
   "outputs": [],
   "source": []
  }
 ],
 "metadata": {
  "kernelspec": {
   "display_name": "Python 3",
   "language": "python",
   "name": "python3"
  },
  "language_info": {
   "codemirror_mode": {
    "name": "ipython",
    "version": 3
   },
   "file_extension": ".py",
   "mimetype": "text/x-python",
   "name": "python",
   "nbconvert_exporter": "python",
   "pygments_lexer": "ipython3",
   "version": "3.6.10"
  }
 },
 "nbformat": 4,
 "nbformat_minor": 4
}
