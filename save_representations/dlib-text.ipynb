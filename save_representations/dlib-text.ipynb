{
 "cells": [
  {
   "cell_type": "code",
   "execution_count": 1,
   "metadata": {},
   "outputs": [],
   "source": [
    "## pip install cmake; pip install dlib\n",
    "import numpy as np\n",
    "import argparse\n",
    "import cv2\n",
    "import dlib\n",
    "import imutils\n",
    "import matplotlib.pyplot as plt\n",
    "from os import listdir\n",
    "from os.path import join, isfile\n",
    "import csv\n",
    "import itertools"
   ]
  },
  {
   "cell_type": "code",
   "execution_count": 2,
   "metadata": {},
   "outputs": [],
   "source": [
    "def rect_to_bb(rect):\n",
    "    \n",
    "    x = rect.left()\n",
    "    y = rect.top()\n",
    "    w = rect.right() - x\n",
    "    h = rect.bottom() - y\n",
    "    \n",
    "    return (x, y, w, h)"
   ]
  },
  {
   "cell_type": "code",
   "execution_count": 3,
   "metadata": {},
   "outputs": [],
   "source": [
    "def shape_to_np(shape, dtype=\"int\"):\n",
    "    coords = np.zeros((68, 2), dtype=dtype)\n",
    "\n",
    "    for i in range(0, 68):\n",
    "        coords[i] = (shape.part(i).x, shape.part(i).y)\n",
    "\n",
    "    return coords"
   ]
  },
  {
   "cell_type": "raw",
   "metadata": {},
   "source": [
    "def extract_features(keypoints): ## all possible combinations instead of 11 \n",
    "    assert keypoints.shape == (68,2)\n",
    "    feats = []\n",
    "    denom = np.linalg.norm(keypoints[0]-keypoints[16])\n",
    "    \n",
    "    combs = [comb for comb in itertools.combinations([*range(0, len(keypoints)-1)], 2)]\n",
    "    \n",
    "    best_features = []\n",
    "    #indices = [152, 164, 358, 1168, 1184, 1186, 1188, 1279, 1281, 1346, 1359, 1400, 1808, 2116]\n",
    "    #print(\"AMount of combinations: {}\".format(len(combs)))\n",
    "    for comb in combs:\n",
    "        a = comb[0]\n",
    "        b = comb[1]\n",
    "        \n",
    "        if not (a ==0 and b == 16):\n",
    "            feats.append(np.linalg.norm(keypoints[a]-keypoints[b])/denom)\n",
    "        \n",
    "#         if(len(feats)-1 in indices):\n",
    "#             print(\"Feature {} is from points {} {}\".format((len(feats)-1), a+1, b+1))\n",
    "# #             print(len(feats) - 1)\n",
    "# #             print((a,b))\n",
    "#             best_features.append((a,b))\n",
    "            \n",
    "#     print(best_features)\n",
    "    return [], feats\n"
   ]
  },
  {
   "cell_type": "code",
   "execution_count": 4,
   "metadata": {},
   "outputs": [],
   "source": [
    "def extract_features(image, keypoints, text): ## all possible combinations instead of 11 \n",
    "    assert keypoints.shape == (68,2)\n",
    "    feats = []\n",
    "    denom = np.linalg.norm(keypoints[0]-keypoints[16])\n",
    "    \n",
    "    combs = [comb for comb in itertools.combinations([*range(0, len(keypoints)-1)], 2)]\n",
    "    for comb in combs:\n",
    "        a = comb[0]\n",
    "        b = comb[1]\n",
    "        \n",
    "        if not (a ==0 and b == 16):\n",
    "            feats.append(np.linalg.norm(keypoints[a]-keypoints[b])/denom)\n",
    "    \n",
    "    px_size = 20\n",
    "    text_feats = texture_feature(image, keypoints, px_size)    \n",
    "    text_feats = [x / 255 for x in text_feats]\n",
    "    if text:\n",
    "        return [], feats+text_feats\n",
    "    else:\n",
    "        return [], feats\n",
    "\n",
    "def texture_feature(image, keypoints, px_size):\n",
    "    \n",
    "    indices = [36, 39, 42, 45, 31, 33, 35, 48, 54]\n",
    "    features = []\n",
    "\n",
    "    for i in indices:\n",
    "        keypoint = keypoints[i]\n",
    "        (x, y) = keypoint\n",
    "        small_image = image[y-px_size:y+px_size+1, x-px_size:x+px_size+1]\n",
    "\n",
    "        median = cv2.medianBlur(small_image, 5)\n",
    "        resized = cv2.resize(median, (10,10), interpolation = cv2.INTER_AREA)\n",
    "\n",
    "        features.append(resized)\n",
    "\n",
    "    return np.array(features).flatten().tolist()"
   ]
  },
  {
   "cell_type": "code",
   "execution_count": 5,
   "metadata": {},
   "outputs": [],
   "source": [
    "def get_features(path, text):\n",
    "    # load the input image, resize it, and convert it to grayscale\n",
    "\n",
    "    image = cv2.imread(path)\n",
    "    image = imutils.resize(image, width=500)\n",
    "    image = cv2.cvtColor(image, cv2.COLOR_BGR2GRAY)\n",
    "\n",
    "    # detect faces in the grayscale image\n",
    "    rects = detector(image, 1)\n",
    "    for (i, rect) in enumerate(rects):\n",
    "        \n",
    "        shape = predictor(image, rect)\n",
    "        shape = shape_to_np(shape)\n",
    "\n",
    "        keypoints, feats = extract_features(image, shape, text)\n",
    "    \n",
    "        return feats\n",
    "    print(\"No face found\")\n",
    "    print(path)\n",
    "    return np.zeros(11).tolist()"
   ]
  },
  {
   "cell_type": "raw",
   "metadata": {},
   "source": [
    "for (i, rect) in enumerate(rects):\n",
    "    shape = predictor(gray, rect)\n",
    "    shape = shape_to_np(shape)\n",
    "    \n",
    "    keypoints, feats = extract_features(shape)\n",
    "    \n",
    "    (x, y, w, h) = rect_to_bb(rect)\n",
    "    cv2.rectangle(image, (x, y), (x + w, y + h), (0, 255, 0), 2\n",
    "    # cv2.putText(image, \"Face #{}\".format(i + 1), (x - 10, y - 10),\n",
    "        #cv2.FONT_HERSHEY_SIMPLEX, 0.5, (0, 255, 0), 2)\n",
    "\n",
    "    for (x, y) in keypoints:\n",
    "        cv2.circle(image, (x, y), 1, (0, 0, 255), -1)\n",
    "\n",
    "cv2.imshow(\"Output\", image)\n",
    "cv2.waitKey(0)"
   ]
  },
  {
   "cell_type": "markdown",
   "metadata": {},
   "source": [
    "## Saving all images with this representation"
   ]
  },
  {
   "cell_type": "code",
   "execution_count": 6,
   "metadata": {},
   "outputs": [],
   "source": [
    "detector = dlib.get_frontal_face_detector()\n",
    "path_to_shape_predictor = r\"C:/Users/manz616236/Documents/face-classification/models/shape_predictor_68_face_landmarks.dat\"\n",
    "predictor = dlib.shape_predictor(path_to_shape_predictor)"
   ]
  },
  {
   "cell_type": "code",
   "execution_count": 7,
   "metadata": {},
   "outputs": [],
   "source": [
    "# if text == True, then dlib-text features are generated and otherwise just dlib\n",
    "text = False"
   ]
  },
  {
   "cell_type": "code",
   "execution_count": 8,
   "metadata": {},
   "outputs": [
    {
     "name": "stdout",
     "output_type": "stream",
     "text": [
      "19\n",
      "19\n"
     ]
    }
   ],
   "source": [
    "syn_name = \"SON\"\n",
    "\n",
    "data_dir = r\"H:\\Genetica Projecten\\Facial Recognition\\Studenten en Onderzoekers\\Fien\\{}\".format(syn_name)\n",
    "age_ranges = [[1, 100]] # [[1, 3], [4, 16], [17, 40]]\n",
    "syn_rep = []\n",
    "ID_rep = []\n",
    "\n",
    "    \n",
    "for [low_age, high_age] in age_ranges:\n",
    "    \n",
    "    # open directories\n",
    "    #kdv_dir = data_dir + \"\\kdv-patients-age-group-\"+str(low_age) + \"-\" + str(high_age)\n",
    "    #ID_dir = data_dir + \"\\kdv-selected-ID-controls-age-group-\"+str(low_age) + \"-\" + str(high_age)\n",
    "    \n",
    "    syn_dir = data_dir + \"\\{}-patients\".format(syn_name)\n",
    "    ID_dir = data_dir + \"\\{}-selected-ID-controls\".format(syn_name)\n",
    "    \n",
    "    # get list of filenames\n",
    "    files_syn = [f for f in listdir(syn_dir) if (isfile(join(syn_dir, f)))and syn_name in f]\n",
    "    files_ID = [f for f in listdir(ID_dir) if (isfile(join(ID_dir, f))) and \".JPG\" in f or \".jpg\" in f]\n",
    "    \n",
    "\n",
    "    print(len(files_syn))\n",
    "    print(len(files_ID))\n",
    "\n",
    "    # for each kdv image save deepface rep as list:\n",
    "    for filename in files_syn:\n",
    "        feats = get_features(join(syn_dir, filename), text)\n",
    "        syn_rep.append([filename] + feats) \n",
    "\n",
    "\n",
    "    # for each ID image save deepface rep as list:\n",
    "    for filename in files_ID:\n",
    "        feats = get_features(join(ID_dir, filename), text)\n",
    "        ID_rep.append([filename] + feats)  "
   ]
  },
  {
   "cell_type": "code",
   "execution_count": 9,
   "metadata": {},
   "outputs": [
    {
     "name": "stdout",
     "output_type": "stream",
     "text": [
      "19\n",
      "19\n"
     ]
    }
   ],
   "source": [
    "print(len(syn_rep))\n",
    "print(len(ID_rep))"
   ]
  },
  {
   "cell_type": "code",
   "execution_count": 10,
   "metadata": {},
   "outputs": [
    {
     "name": "stdout",
     "output_type": "stream",
     "text": [
      "Done with saving all dlib representations.\n"
     ]
    }
   ],
   "source": [
    "if text:\n",
    "    method = \"dlib-text\"\n",
    "\n",
    "else:\n",
    "    method = \"dlib\"\n",
    "    \n",
    "# location to save representation\n",
    "csv_file_syn = r\"H:\\Genetica Projecten\\Facial Recognition\\Studenten en Onderzoekers\\Fien\\{}\\representations\\{}-patients-{}.csv\".format(syn_name, syn_name, method)\n",
    "csv_file_ID = r\"H:\\Genetica Projecten\\Facial Recognition\\Studenten en Onderzoekers\\Fien\\{}\\representations\\ID-controls-{}.csv\".format(syn_name, method)\n",
    "\n",
    "# save representation of kdv patients\n",
    "with open(csv_file_syn, \"w\", newline=\"\") as f:\n",
    "    writer = csv.writer(f)\n",
    "    writer.writerows(syn_rep)\n",
    "\n",
    "# save representation of ID controls\n",
    "with open(csv_file_ID, \"w\", newline=\"\") as f:\n",
    "    writer = csv.writer(f)\n",
    "    writer.writerows(ID_rep)\n",
    "\n",
    "print(\"Done with saving all {} representations.\".format(method))\n"
   ]
  },
  {
   "cell_type": "code",
   "execution_count": null,
   "metadata": {},
   "outputs": [],
   "source": []
  }
 ],
 "metadata": {
  "kernelspec": {
   "display_name": "Python 3",
   "language": "python",
   "name": "python3"
  },
  "language_info": {
   "codemirror_mode": {
    "name": "ipython",
    "version": 3
   },
   "file_extension": ".py",
   "mimetype": "text/x-python",
   "name": "python",
   "nbconvert_exporter": "python",
   "pygments_lexer": "ipython3",
   "version": "3.6.10"
  }
 },
 "nbformat": 4,
 "nbformat_minor": 4
}
