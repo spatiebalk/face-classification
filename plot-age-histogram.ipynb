{
 "cells": [
  {
   "cell_type": "code",
   "execution_count": 10,
   "metadata": {},
   "outputs": [],
   "source": [
    "import pandas as pd\n",
    "import matplotlib.pyplot as plt"
   ]
  },
  {
   "cell_type": "code",
   "execution_count": 13,
   "metadata": {},
   "outputs": [
    {
     "data": {
      "image/png": "[encoded data removed]",
      "text/plain": [
       "<Figure size 432x288 with 1 Axes>"
      ]
     },
     "metadata": {
      "needs_background": "light"
     },
     "output_type": "display_data"
    }
   ],
   "source": [
    "syn_list = ['ADNP', 'ANKRD11', 'CDK13', 'DEAF1', 'DYRK1A', 'EHMT1', 'FBXO11', 'SON', 'SPOP', 'WAC', 'YY1']\n",
    "\n",
    "\n",
    "for syn_name in syn_list:\n",
    "    \n",
    "    # open excel file\n",
    "    info_file = r\"H:\\Genetica Projecten\\Facial Recognition\\Studenten en Onderzoekers\\Fien\\{}\\{}_patients_info.xlsx\".format(syn_name, syn_name)\n",
    "    \n",
    "    # extract all ages\n",
    "    ages = df_info.age.values\n",
    "\n",
    "    # make histogram\n",
    "    plt.hist(ages)\n",
    "    plt.title(\"Ages of {} patients\".format(syn_name))\n",
    "    \n",
    "    # save in results file\n",
    "    plt.savefig(\"results\\{}\\{}-age-hist.jpg\".format(syn_name, syn_name))\n",
    "\n",
    "    "
   ]
  },
  {
   "cell_type": "code",
   "execution_count": null,
   "metadata": {},
   "outputs": [],
   "source": []
  }
 ],
 "metadata": {
  "kernelspec": {
   "display_name": "Python 3",
   "language": "python",
   "name": "python3"
  },
  "language_info": {
   "codemirror_mode": {
    "name": "ipython",
    "version": 3
   },
   "file_extension": ".py",
   "mimetype": "text/x-python",
   "name": "python",
   "nbconvert_exporter": "python",
   "pygments_lexer": "ipython3",
   "version": "3.6.10"
  }
 },
 "nbformat": 4,
 "nbformat_minor": 4
}
