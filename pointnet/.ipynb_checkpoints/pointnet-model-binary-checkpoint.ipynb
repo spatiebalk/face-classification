{
 "cells": [
  {
   "cell_type": "code",
   "execution_count": 1,
   "metadata": {},
   "outputs": [],
   "source": [
    "from os import listdir\n",
    "from os.path import join, isfile\n",
    "import numpy as np #1.16.4 otherwise futurewarning tensorflow\n",
    "import tensorflow as tf\n",
    "from tensorflow import keras\n",
    "from tensorflow.keras import layers\n",
    "import matplotlib.pyplot as plt\n",
    "import csv\n",
    "from tqdm import tqdm\n",
    "from sklearn.model_selection import LeaveOneOut\n",
    "import cv2\n",
    "from sklearn.metrics import roc_auc_score, confusion_matrix"
   ]
  },
  {
   "cell_type": "code",
   "execution_count": 2,
   "metadata": {},
   "outputs": [],
   "source": [
    "NUM_CLASSES = 2\n",
    "BATCH_SIZE = 8\n",
    "NUM_POINTS = 270"
   ]
  },
  {
   "cell_type": "markdown",
   "metadata": {},
   "source": [
    "# Data"
   ]
  },
  {
   "cell_type": "code",
   "execution_count": 3,
   "metadata": {},
   "outputs": [],
   "source": [
    "def load_data(syn):\n",
    "    \n",
    "    # files with representations\n",
    "    GENERAL_DIR = r\"H:\\Genetica Projecten\\Facial Recognition\\Studenten en Onderzoekers\\Fien\" \n",
    "    syn_csv = GENERAL_DIR+ \"\\\\features_facereader_landmarks_patient_groups.csv\"\n",
    "    ID_csv = GENERAL_DIR+ \"\\\\features_facereader_landmarks_all_controls.csv\"\n",
    "    \n",
    "    # open directories\n",
    "    syn_dir = GENERAL_DIR+\"\\\\{}\\\\{}-patients\".format(syn, syn)\n",
    "    ID_dir = GENERAL_DIR+ \"\\\\{}\\\\{}-selected-ID-controls\".format(syn, syn)\n",
    "\n",
    "    # get list of filenames\n",
    "    files_syn = [f for f in listdir(syn_dir) if (isfile(join(syn_dir, f))) and \".jpg\" in f]\n",
    "    files_ID = [f for f in listdir(ID_dir) if (isfile(join(ID_dir, f))) and \".jpg\" in f]\n",
    "    \n",
    "    data, labels, dat_syn, data_ID = [], [], [], []\n",
    "\n",
    "    with open (syn_csv, newline='') as file:\n",
    "        reader = csv.reader(file, delimiter=',')\n",
    "        for index, row in enumerate(reader):\n",
    "            if row[0] in files_syn:                 \n",
    "                fr_rep = [float(f) for f in row[1:]]\n",
    "                rep = []\n",
    "                i = 1\n",
    "                while i < len(row[1:]):\n",
    "                    rep.append([float(row[i]), float(row[i+1]), float(row[i+2])])\n",
    "                    i+=3                       \n",
    "                data_syn.append(rep)\n",
    "                \n",
    "    with open (ID_csv, newline='') as file:\n",
    "        reader = csv.reader(file, delimiter=',')\n",
    "        for index, row in enumerate(reader):\n",
    "            if row[0] in files_ID:                 \n",
    "                fr_rep = [float(f) for f in row[1:]]\n",
    "                rep = []\n",
    "                i = 1\n",
    "                while i < len(row[1:]):\n",
    "                    rep.append([float(row[i]), float(row[i+1]), float(row[i+2])])\n",
    "                    i+=3                       \n",
    "                data_ID.append(rep)\n",
    "\n",
    "    for index, (syn_item, ID_item) in enumerate(zip(data_syn, data_ID)):\n",
    "        if len(syn_item) == 510 and len(ID_item) == 510:               \n",
    "            data.append(syn_item)\n",
    "            labels.append(1)\n",
    "            data.append(ID_item)\n",
    "            labels.append(0)\n",
    "\n",
    "    return np.array(data), np.array(labels)"
   ]
  },
  {
   "cell_type": "code",
   "execution_count": 4,
   "metadata": {},
   "outputs": [],
   "source": [
    "def augment(points, label):\n",
    "    points += tf.random.uniform(points.shape, -0.005, 0.005, dtype=tf.float64)\n",
    "    points = tf.random.shuffle(points)\n",
    "    return points, label"
   ]
  },
  {
   "cell_type": "code",
   "execution_count": 5,
   "metadata": {},
   "outputs": [],
   "source": [
    "def  split_data(data, left, right):\n",
    "    \n",
    "    data_left, data_right  = [], []\n",
    "    for index, row in enumerate(data):\n",
    "        \n",
    "        rep_left, rep_right = [], []\n",
    "        \n",
    "        for p, [x, y, z] in enumerate(row):\n",
    "            \n",
    "            if p in left:\n",
    "                rep_left.append([x, y, z])\n",
    "\n",
    "            elif p in right:\n",
    "                rep_right.append([x, y, z])\n",
    "            else:\n",
    "                print(\"Error\")\n",
    "                \n",
    "        data_left.append(rep_left)\n",
    "        data_right.append(rep_right)\n",
    "        \n",
    "    return np.array(data_left), np.array(data_right)"
   ]
  },
  {
   "cell_type": "markdown",
   "metadata": {},
   "source": [
    "# Model"
   ]
  },
  {
   "cell_type": "code",
   "execution_count": 6,
   "metadata": {},
   "outputs": [],
   "source": [
    "def conv_bn(x, filters):\n",
    "    x = layers.Conv1D(filters, kernel_size=1, padding='valid')(x)\n",
    "    x = layers.BatchNormalization(momentum=0.0)(x)\n",
    "    return layers.Activation(\"relu\")(x)\n",
    "\n",
    "def dense_bn(x, filters):\n",
    "    x = layers.Dense(filters)(x)\n",
    "    x = layers.BatchNormalization(momentum=0.0)(x)\n",
    "    return layers.Activation(\"relu\")(x)"
   ]
  },
  {
   "cell_type": "code",
   "execution_count": 7,
   "metadata": {},
   "outputs": [],
   "source": [
    "class OrthogonalRegularizer(keras.regularizers.Regularizer):\n",
    "    def __init__(self, num_features, l2reg=0.001):\n",
    "        self.num_features = num_features\n",
    "        self.l2reg = l2reg\n",
    "        self.eye = tf.eye(num_features)\n",
    "        \n",
    "    def __call__(self, x):\n",
    "        x = tf.reshape(x, (-1, self.num_features, self.num_features))\n",
    "        xxt = tf.tensordot(x, x, axes=(2,2))\n",
    "        xxt = tf.reshape(xxt, (-1, self.num_features, self.num_features))\n",
    "        return tf.reduce_sum(self.l2reg * tf.square(xxt - self.eye))"
   ]
  },
  {
   "cell_type": "code",
   "execution_count": 8,
   "metadata": {},
   "outputs": [],
   "source": [
    "def tnet(inputs, num_features):\n",
    "    bias = keras.initializers.Constant(np.eye(num_features).flatten())\n",
    "    reg = OrthogonalRegularizer(num_features)\n",
    "    \n",
    "    x = conv_bn(inputs, 32)\n",
    "    x = conv_bn(x, 64)\n",
    "    x = conv_bn(x, 512)\n",
    "    x = layers.GlobalMaxPooling1D()(x)\n",
    "    x = dense_bn(x, 256)\n",
    "    x = dense_bn(x, 128)\n",
    "    x = layers.Dense(\n",
    "        num_features * num_features, \n",
    "        kernel_initializer=\"zeros\",\n",
    "        bias_initializer=bias,\n",
    "        activity_regularizer=reg)(x)\n",
    "    \n",
    "    feat_T = layers.Reshape((num_features, num_features))(x)\n",
    "    \n",
    "    return layers.Dot(axes=(2,1))([inputs, feat_T])"
   ]
  },
  {
   "cell_type": "code",
   "execution_count": 9,
   "metadata": {},
   "outputs": [],
   "source": [
    "def generate_model():\n",
    "\n",
    "    inputs = keras.Input(shape=(NUM_POINTS, 3))\n",
    "    x = tnet(inputs, 3)\n",
    "    x = conv_bn(x, 32)\n",
    "    x = conv_bn(x, 32)\n",
    "    x = tnet(x, 32)\n",
    "    x = conv_bn(x, 32)\n",
    "    x = conv_bn(x, 64)\n",
    "    x = conv_bn(x, 512)\n",
    "    x = layers.GlobalMaxPooling1D()(x)\n",
    "    x = dense_bn(x, 256)\n",
    "    x = layers.Dropout(rate=0.3)(x)\n",
    "    x = dense_bn(x, 128)\n",
    "    x = layers.Dropout(rate=0.3)(x)\n",
    "\n",
    "    outputs = layers.Dense(NUM_CLASSES, activation=\"softmax\")(x)\n",
    "    model = keras.Model(inputs=inputs, outputs=outputs, name=\"pointnet\")\n",
    "\n",
    "    model.compile(\n",
    "        loss=\"sparse_categorical_crossentropy\",\n",
    "        optimizer=keras.optimizers.Adam(lr=0.001),\n",
    "        metrics=[\"sparse_categorical_accuracy\"])\n",
    "    \n",
    "    return model"
   ]
  },
  {
   "cell_type": "code",
   "execution_count": 10,
   "metadata": {},
   "outputs": [],
   "source": [
    "left = [0, 1, 2, 3, 4, 5, 6, 7, 8, 18, 19, 20, 21, 22, 23, 24, 25, 26, 27, 28, 29, 30, 31, 32, 33, 34, 35, 36, 37, 38, 39, 40, 41, 42, 43, 44, 45, 46, 47, 48, 49, 50, 51, 52, 53, 54, 55, 56, 57, 58, 59, 60, 61, 62, 63, 64, 65, 66, 67, 68, 69, 70, 71, 72, 73, 74, 75, 76, 77, 78, 79, 80, 144, 145, 146, 147, 148, 149, 150, 151, 152, 153, 154, 155, 156, 157, 158, 159, 160, 161, 162, 163, 164, 165, 166, 167, 168, 169, 170, 171, 172, 173, 174, 175, 176, 177, 178, 179, 180, 181, 182, 183, 184, 185, 186, 187, 188, 189, 190, 191, 192, 193, 194, 195, 196, 197, 198, 199, 200, 201, 202, 203, 204, 205, 206, 207, 208, 209, 210, 211, 212, 213, 214, 215, 216, 217, 218, 219, 220, 221, 222, 223, 224, 225, 226, 227, 228, 229, 230, 231, 232, 233, 234, 235, 236, 237, 238, 239, 240, 241, 242, 243, 244, 245, 246, 247, 248, 249, 250, 251, 252, 253, 254, 255, 256, 257, 258, 259, 260, 261, 262, 263, 264, 265, 266, 267, 268, 269, 270, 271, 272, 273, 274, 275, 276, 277, 278, 279, 280, 281, 282, 283, 284, 285, 286, 287, 288, 289, 290, 291, 292, 293, 294, 295, 296, 297, 298, 299, 300, 301, 302, 303, 304, 305, 306, 307, 308, 309, 310, 311, 312, 313, 314, 315, 316, 317, 318, 319, 320, 321, 322, 323, 324, 325, 326, 327, 328, 329, 330, 331, 332, 333, 334, 335, 336, 337, 338, 339, 340, 341]\n",
    "right = [9, 10, 11, 12, 13, 14, 15, 16, 17, 81, 82, 83, 84, 85, 86, 87, 88, 89, 90, 91, 92, 93, 94, 95, 96, 97, 98, 99, 100, 101, 102, 103, 104, 105, 106, 107, 108, 109, 110, 111, 112, 113, 114, 115, 116, 117, 118, 119, 120, 121, 122, 123, 124, 125, 126, 127, 128, 129, 130, 131, 132, 133, 134, 135, 136, 137, 138, 139, 140, 141, 142, 143, 157, 158, 168, 173, 174, 190, 191, 205, 210, 213, 217, 262, 263, 269, 278, 281, 282, 284, 288, 292, 294, 295, 296, 297, 298, 299, 302, 304, 305, 306, 342, 343, 344, 345, 346, 347, 348, 349, 350, 351, 352, 353, 354, 355, 356, 357, 358, 359, 360, 361, 362, 363, 364, 365, 366, 367, 368, 369, 370, 371, 372, 373, 374, 375, 376, 377, 378, 379, 380, 381, 382, 383, 384, 385, 386, 387, 388, 389, 390, 391, 392, 393, 394, 395, 396, 397, 398, 399, 400, 401, 402, 403, 404, 405, 406, 407, 408, 409, 410, 411, 412, 413, 414, 415, 416, 417, 418, 419, 420, 421, 422, 423, 424, 425, 426, 427, 428, 429, 430, 431, 432, 433, 434, 435, 436, 437, 438, 439, 440, 441, 442, 443, 444, 445, 446, 447, 448, 449, 450, 451, 452, 453, 454, 455, 456, 457, 458, 459, 460, 461, 462, 463, 464, 465, 466, 467, 468, 469, 470, 471, 472, 473, 474, 475, 476, 477, 478, 479, 480, 481, 482, 483, 484, 485, 486, 487, 488, 489, 490, 491, 492, 493, 494, 495, 496, 497, 498, 499, 500, 501, 502, 503, 504, 505, 506, 507, 508, 509]"
   ]
  },
  {
   "cell_type": "code",
   "execution_count": 11,
   "metadata": {},
   "outputs": [
    {
     "data": {
      "application/javascript": [
       "/* Put everything inside the global mpl namespace */\n",
       "window.mpl = {};\n",
       "\n",
       "\n",
       "mpl.get_websocket_type = function() {\n",
       "    if (typeof(WebSocket) !== 'undefined') {\n",
       "        return WebSocket;\n",
       "    } else if (typeof(MozWebSocket) !== 'undefined') {\n",
       "        return MozWebSocket;\n",
       "    } else {\n",
       "        alert('Your browser does not have WebSocket support. ' +\n",
       "              'Please try Chrome, Safari or Firefox ≥ 6. ' +\n",
       "              'Firefox 4 and 5 are also supported but you ' +\n",
       "              'have to enable WebSockets in about:config.');\n",
       "    };\n",
       "}\n",
       "\n",
       "mpl.figure = function(figure_id, websocket, ondownload, parent_element) {\n",
       "    this.id = figure_id;\n",
       "\n",
       "    this.ws = websocket;\n",
       "\n",
       "    this.supports_binary = (this.ws.binaryType != undefined);\n",
       "\n",
       "    if (!this.supports_binary) {\n",
       "        var warnings = document.getElementById(\"mpl-warnings\");\n",
       "        if (warnings) {\n",
       "            warnings.style.display = 'block';\n",
       "            warnings.textContent = (\n",
       "                \"This browser does not support binary websocket messages. \" +\n",
       "                    \"Performance may be slow.\");\n",
       "        }\n",
       "    }\n",
       "\n",
       "    this.imageObj = new Image();\n",
       "\n",
       "    this.context = undefined;\n",
       "    this.message = undefined;\n",
       "    this.canvas = undefined;\n",
       "    this.rubberband_canvas = undefined;\n",
       "    this.rubberband_context = undefined;\n",
       "    this.format_dropdown = undefined;\n",
       "\n",
       "    this.image_mode = 'full';\n",
       "\n",
       "    this.root = $('<div/>');\n",
       "    this._root_extra_style(this.root)\n",
       "    this.root.attr('style', 'display: inline-block');\n",
       "\n",
       "    $(parent_element).append(this.root);\n",
       "\n",
       "    this._init_header(this);\n",
       "    this._init_canvas(this);\n",
       "    this._init_toolbar(this);\n",
       "\n",
       "    var fig = this;\n",
       "\n",
       "    this.waiting = false;\n",
       "\n",
       "    this.ws.onopen =  function () {\n",
       "            fig.send_message(\"supports_binary\", {value: fig.supports_binary});\n",
       "            fig.send_message(\"send_image_mode\", {});\n",
       "            if (mpl.ratio != 1) {\n",
       "                fig.send_message(\"set_dpi_ratio\", {'dpi_ratio': mpl.ratio});\n",
       "            }\n",
       "            fig.send_message(\"refresh\", {});\n",
       "        }\n",
       "\n",
       "    this.imageObj.onload = function() {\n",
       "            if (fig.image_mode == 'full') {\n",
       "                // Full images could contain transparency (where diff images\n",
       "                // almost always do), so we need to clear the canvas so that\n",
       "                // there is no ghosting.\n",
       "                fig.context.clearRect(0, 0, fig.canvas.width, fig.canvas.height);\n",
       "            }\n",
       "            fig.context.drawImage(fig.imageObj, 0, 0);\n",
       "        };\n",
       "\n",
       "    this.imageObj.onunload = function() {\n",
       "        fig.ws.close();\n",
       "    }\n",
       "\n",
       "    this.ws.onmessage = this._make_on_message_function(this);\n",
       "\n",
       "    this.ondownload = ondownload;\n",
       "}\n",
       "\n",
       "mpl.figure.prototype._init_header = function() {\n",
       "    var titlebar = $(\n",
       "        '<div class=\"ui-dialog-titlebar ui-widget-header ui-corner-all ' +\n",
       "        'ui-helper-clearfix\"/>');\n",
       "    var titletext = $(\n",
       "        '<div class=\"ui-dialog-title\" style=\"width: 100%; ' +\n",
       "        'text-align: center; padding: 3px;\"/>');\n",
       "    titlebar.append(titletext)\n",
       "    this.root.append(titlebar);\n",
       "    this.header = titletext[0];\n",
       "}\n",
       "\n",
       "\n",
       "\n",
       "mpl.figure.prototype._canvas_extra_style = function(canvas_div) {\n",
       "\n",
       "}\n",
       "\n",
       "\n",
       "mpl.figure.prototype._root_extra_style = function(canvas_div) {\n",
       "\n",
       "}\n",
       "\n",
       "mpl.figure.prototype._init_canvas = function() {\n",
       "    var fig = this;\n",
       "\n",
       "    var canvas_div = $('<div/>');\n",
       "\n",
       "    canvas_div.attr('style', 'position: relative; clear: both; outline: 0');\n",
       "\n",
       "    function canvas_keyboard_event(event) {\n",
       "        return fig.key_event(event, event['data']);\n",
       "    }\n",
       "\n",
       "    canvas_div.keydown('key_press', canvas_keyboard_event);\n",
       "    canvas_div.keyup('key_release', canvas_keyboard_event);\n",
       "    this.canvas_div = canvas_div\n",
       "    this._canvas_extra_style(canvas_div)\n",
       "    this.root.append(canvas_div);\n",
       "\n",
       "    var canvas = $('<canvas/>');\n",
       "    canvas.addClass('mpl-canvas');\n",
       "    canvas.attr('style', \"left: 0; top: 0; z-index: 0; outline: 0\")\n",
       "\n",
       "    this.canvas = canvas[0];\n",
       "    this.context = canvas[0].getContext(\"2d\");\n",
       "\n",
       "    var backingStore = this.context.backingStorePixelRatio ||\n",
       "\tthis.context.webkitBackingStorePixelRatio ||\n",
       "\tthis.context.mozBackingStorePixelRatio ||\n",
       "\tthis.context.msBackingStorePixelRatio ||\n",
       "\tthis.context.oBackingStorePixelRatio ||\n",
       "\tthis.context.backingStorePixelRatio || 1;\n",
       "\n",
       "    mpl.ratio = (window.devicePixelRatio || 1) / backingStore;\n",
       "\n",
       "    var rubberband = $('<canvas/>');\n",
       "    rubberband.attr('style', \"position: absolute; left: 0; top: 0; z-index: 1;\")\n",
       "\n",
       "    var pass_mouse_events = true;\n",
       "\n",
       "    canvas_div.resizable({\n",
       "        start: function(event, ui) {\n",
       "            pass_mouse_events = false;\n",
       "        },\n",
       "        resize: function(event, ui) {\n",
       "            fig.request_resize(ui.size.width, ui.size.height);\n",
       "        },\n",
       "        stop: function(event, ui) {\n",
       "            pass_mouse_events = true;\n",
       "            fig.request_resize(ui.size.width, ui.size.height);\n",
       "        },\n",
       "    });\n",
       "\n",
       "    function mouse_event_fn(event) {\n",
       "        if (pass_mouse_events)\n",
       "            return fig.mouse_event(event, event['data']);\n",
       "    }\n",
       "\n",
       "    rubberband.mousedown('button_press', mouse_event_fn);\n",
       "    rubberband.mouseup('button_release', mouse_event_fn);\n",
       "    // Throttle sequential mouse events to 1 every 20ms.\n",
       "    rubberband.mousemove('motion_notify', mouse_event_fn);\n",
       "\n",
       "    rubberband.mouseenter('figure_enter', mouse_event_fn);\n",
       "    rubberband.mouseleave('figure_leave', mouse_event_fn);\n",
       "\n",
       "    canvas_div.on(\"wheel\", function (event) {\n",
       "        event = event.originalEvent;\n",
       "        event['data'] = 'scroll'\n",
       "        if (event.deltaY < 0) {\n",
       "            event.step = 1;\n",
       "        } else {\n",
       "            event.step = -1;\n",
       "        }\n",
       "        mouse_event_fn(event);\n",
       "    });\n",
       "\n",
       "    canvas_div.append(canvas);\n",
       "    canvas_div.append(rubberband);\n",
       "\n",
       "    this.rubberband = rubberband;\n",
       "    this.rubberband_canvas = rubberband[0];\n",
       "    this.rubberband_context = rubberband[0].getContext(\"2d\");\n",
       "    this.rubberband_context.strokeStyle = \"#000000\";\n",
       "\n",
       "    this._resize_canvas = function(width, height) {\n",
       "        // Keep the size of the canvas, canvas container, and rubber band\n",
       "        // canvas in synch.\n",
       "        canvas_div.css('width', width)\n",
       "        canvas_div.css('height', height)\n",
       "\n",
       "        canvas.attr('width', width * mpl.ratio);\n",
       "        canvas.attr('height', height * mpl.ratio);\n",
       "        canvas.attr('style', 'width: ' + width + 'px; height: ' + height + 'px;');\n",
       "\n",
       "        rubberband.attr('width', width);\n",
       "        rubberband.attr('height', height);\n",
       "    }\n",
       "\n",
       "    // Set the figure to an initial 600x600px, this will subsequently be updated\n",
       "    // upon first draw.\n",
       "    this._resize_canvas(600, 600);\n",
       "\n",
       "    // Disable right mouse context menu.\n",
       "    $(this.rubberband_canvas).bind(\"contextmenu\",function(e){\n",
       "        return false;\n",
       "    });\n",
       "\n",
       "    function set_focus () {\n",
       "        canvas.focus();\n",
       "        canvas_div.focus();\n",
       "    }\n",
       "\n",
       "    window.setTimeout(set_focus, 100);\n",
       "}\n",
       "\n",
       "mpl.figure.prototype._init_toolbar = function() {\n",
       "    var fig = this;\n",
       "\n",
       "    var nav_element = $('<div/>');\n",
       "    nav_element.attr('style', 'width: 100%');\n",
       "    this.root.append(nav_element);\n",
       "\n",
       "    // Define a callback function for later on.\n",
       "    function toolbar_event(event) {\n",
       "        return fig.toolbar_button_onclick(event['data']);\n",
       "    }\n",
       "    function toolbar_mouse_event(event) {\n",
       "        return fig.toolbar_button_onmouseover(event['data']);\n",
       "    }\n",
       "\n",
       "    for(var toolbar_ind in mpl.toolbar_items) {\n",
       "        var name = mpl.toolbar_items[toolbar_ind][0];\n",
       "        var tooltip = mpl.toolbar_items[toolbar_ind][1];\n",
       "        var image = mpl.toolbar_items[toolbar_ind][2];\n",
       "        var method_name = mpl.toolbar_items[toolbar_ind][3];\n",
       "\n",
       "        if (!name) {\n",
       "            // put a spacer in here.\n",
       "            continue;\n",
       "        }\n",
       "        var button = $('<button/>');\n",
       "        button.addClass('ui-button ui-widget ui-state-default ui-corner-all ' +\n",
       "                        'ui-button-icon-only');\n",
       "        button.attr('role', 'button');\n",
       "        button.attr('aria-disabled', 'false');\n",
       "        button.click(method_name, toolbar_event);\n",
       "        button.mouseover(tooltip, toolbar_mouse_event);\n",
       "\n",
       "        var icon_img = $('<span/>');\n",
       "        icon_img.addClass('ui-button-icon-primary ui-icon');\n",
       "        icon_img.addClass(image);\n",
       "        icon_img.addClass('ui-corner-all');\n",
       "\n",
       "        var tooltip_span = $('<span/>');\n",
       "        tooltip_span.addClass('ui-button-text');\n",
       "        tooltip_span.html(tooltip);\n",
       "\n",
       "        button.append(icon_img);\n",
       "        button.append(tooltip_span);\n",
       "\n",
       "        nav_element.append(button);\n",
       "    }\n",
       "\n",
       "    var fmt_picker_span = $('<span/>');\n",
       "\n",
       "    var fmt_picker = $('<select/>');\n",
       "    fmt_picker.addClass('mpl-toolbar-option ui-widget ui-widget-content');\n",
       "    fmt_picker_span.append(fmt_picker);\n",
       "    nav_element.append(fmt_picker_span);\n",
       "    this.format_dropdown = fmt_picker[0];\n",
       "\n",
       "    for (var ind in mpl.extensions) {\n",
       "        var fmt = mpl.extensions[ind];\n",
       "        var option = $(\n",
       "            '<option/>', {selected: fmt === mpl.default_extension}).html(fmt);\n",
       "        fmt_picker.append(option);\n",
       "    }\n",
       "\n",
       "    // Add hover states to the ui-buttons\n",
       "    $( \".ui-button\" ).hover(\n",
       "        function() { $(this).addClass(\"ui-state-hover\");},\n",
       "        function() { $(this).removeClass(\"ui-state-hover\");}\n",
       "    );\n",
       "\n",
       "    var status_bar = $('<span class=\"mpl-message\"/>');\n",
       "    nav_element.append(status_bar);\n",
       "    this.message = status_bar[0];\n",
       "}\n",
       "\n",
       "mpl.figure.prototype.request_resize = function(x_pixels, y_pixels) {\n",
       "    // Request matplotlib to resize the figure. Matplotlib will then trigger a resize in the client,\n",
       "    // which will in turn request a refresh of the image.\n",
       "    this.send_message('resize', {'width': x_pixels, 'height': y_pixels});\n",
       "}\n",
       "\n",
       "mpl.figure.prototype.send_message = function(type, properties) {\n",
       "    properties['type'] = type;\n",
       "    properties['figure_id'] = this.id;\n",
       "    this.ws.send(JSON.stringify(properties));\n",
       "}\n",
       "\n",
       "mpl.figure.prototype.send_draw_message = function() {\n",
       "    if (!this.waiting) {\n",
       "        this.waiting = true;\n",
       "        this.ws.send(JSON.stringify({type: \"draw\", figure_id: this.id}));\n",
       "    }\n",
       "}\n",
       "\n",
       "\n",
       "mpl.figure.prototype.handle_save = function(fig, msg) {\n",
       "    var format_dropdown = fig.format_dropdown;\n",
       "    var format = format_dropdown.options[format_dropdown.selectedIndex].value;\n",
       "    fig.ondownload(fig, format);\n",
       "}\n",
       "\n",
       "\n",
       "mpl.figure.prototype.handle_resize = function(fig, msg) {\n",
       "    var size = msg['size'];\n",
       "    if (size[0] != fig.canvas.width || size[1] != fig.canvas.height) {\n",
       "        fig._resize_canvas(size[0], size[1]);\n",
       "        fig.send_message(\"refresh\", {});\n",
       "    };\n",
       "}\n",
       "\n",
       "mpl.figure.prototype.handle_rubberband = function(fig, msg) {\n",
       "    var x0 = msg['x0'] / mpl.ratio;\n",
       "    var y0 = (fig.canvas.height - msg['y0']) / mpl.ratio;\n",
       "    var x1 = msg['x1'] / mpl.ratio;\n",
       "    var y1 = (fig.canvas.height - msg['y1']) / mpl.ratio;\n",
       "    x0 = Math.floor(x0) + 0.5;\n",
       "    y0 = Math.floor(y0) + 0.5;\n",
       "    x1 = Math.floor(x1) + 0.5;\n",
       "    y1 = Math.floor(y1) + 0.5;\n",
       "    var min_x = Math.min(x0, x1);\n",
       "    var min_y = Math.min(y0, y1);\n",
       "    var width = Math.abs(x1 - x0);\n",
       "    var height = Math.abs(y1 - y0);\n",
       "\n",
       "    fig.rubberband_context.clearRect(\n",
       "        0, 0, fig.canvas.width / mpl.ratio, fig.canvas.height / mpl.ratio);\n",
       "\n",
       "    fig.rubberband_context.strokeRect(min_x, min_y, width, height);\n",
       "}\n",
       "\n",
       "mpl.figure.prototype.handle_figure_label = function(fig, msg) {\n",
       "    // Updates the figure title.\n",
       "    fig.header.textContent = msg['label'];\n",
       "}\n",
       "\n",
       "mpl.figure.prototype.handle_cursor = function(fig, msg) {\n",
       "    var cursor = msg['cursor'];\n",
       "    switch(cursor)\n",
       "    {\n",
       "    case 0:\n",
       "        cursor = 'pointer';\n",
       "        break;\n",
       "    case 1:\n",
       "        cursor = 'default';\n",
       "        break;\n",
       "    case 2:\n",
       "        cursor = 'crosshair';\n",
       "        break;\n",
       "    case 3:\n",
       "        cursor = 'move';\n",
       "        break;\n",
       "    }\n",
       "    fig.rubberband_canvas.style.cursor = cursor;\n",
       "}\n",
       "\n",
       "mpl.figure.prototype.handle_message = function(fig, msg) {\n",
       "    fig.message.textContent = msg['message'];\n",
       "}\n",
       "\n",
       "mpl.figure.prototype.handle_draw = function(fig, msg) {\n",
       "    // Request the server to send over a new figure.\n",
       "    fig.send_draw_message();\n",
       "}\n",
       "\n",
       "mpl.figure.prototype.handle_image_mode = function(fig, msg) {\n",
       "    fig.image_mode = msg['mode'];\n",
       "}\n",
       "\n",
       "mpl.figure.prototype.updated_canvas_event = function() {\n",
       "    // Called whenever the canvas gets updated.\n",
       "    this.send_message(\"ack\", {});\n",
       "}\n",
       "\n",
       "// A function to construct a web socket function for onmessage handling.\n",
       "// Called in the figure constructor.\n",
       "mpl.figure.prototype._make_on_message_function = function(fig) {\n",
       "    return function socket_on_message(evt) {\n",
       "        if (evt.data instanceof Blob) {\n",
       "            /* FIXME: We get \"Resource interpreted as Image but\n",
       "             * transferred with MIME type text/plain:\" errors on\n",
       "             * Chrome.  But how to set the MIME type?  It doesn't seem\n",
       "             * to be part of the websocket stream */\n",
       "            evt.data.type = \"image/png\";\n",
       "\n",
       "            /* Free the memory for the previous frames */\n",
       "            if (fig.imageObj.src) {\n",
       "                (window.URL || window.webkitURL).revokeObjectURL(\n",
       "                    fig.imageObj.src);\n",
       "            }\n",
       "\n",
       "            fig.imageObj.src = (window.URL || window.webkitURL).createObjectURL(\n",
       "                evt.data);\n",
       "            fig.updated_canvas_event();\n",
       "            fig.waiting = false;\n",
       "            return;\n",
       "        }\n",
       "        else if (typeof evt.data === 'string' && evt.data.slice(0, 21) == \"data:image/png;base64\") {\n",
       "            fig.imageObj.src = evt.data;\n",
       "            fig.updated_canvas_event();\n",
       "            fig.waiting = false;\n",
       "            return;\n",
       "        }\n",
       "\n",
       "        var msg = JSON.parse(evt.data);\n",
       "        var msg_type = msg['type'];\n",
       "\n",
       "        // Call the  \"handle_{type}\" callback, which takes\n",
       "        // the figure and JSON message as its only arguments.\n",
       "        try {\n",
       "            var callback = fig[\"handle_\" + msg_type];\n",
       "        } catch (e) {\n",
       "            console.log(\"No handler for the '\" + msg_type + \"' message type: \", msg);\n",
       "            return;\n",
       "        }\n",
       "\n",
       "        if (callback) {\n",
       "            try {\n",
       "                // console.log(\"Handling '\" + msg_type + \"' message: \", msg);\n",
       "                callback(fig, msg);\n",
       "            } catch (e) {\n",
       "                console.log(\"Exception inside the 'handler_\" + msg_type + \"' callback:\", e, e.stack, msg);\n",
       "            }\n",
       "        }\n",
       "    };\n",
       "}\n",
       "\n",
       "// from http://stackoverflow.com/questions/1114465/getting-mouse-location-in-canvas\n",
       "mpl.findpos = function(e) {\n",
       "    //this section is from http://www.quirksmode.org/js/events_properties.html\n",
       "    var targ;\n",
       "    if (!e)\n",
       "        e = window.event;\n",
       "    if (e.target)\n",
       "        targ = e.target;\n",
       "    else if (e.srcElement)\n",
       "        targ = e.srcElement;\n",
       "    if (targ.nodeType == 3) // defeat Safari bug\n",
       "        targ = targ.parentNode;\n",
       "\n",
       "    // jQuery normalizes the pageX and pageY\n",
       "    // pageX,Y are the mouse positions relative to the document\n",
       "    // offset() returns the position of the element relative to the document\n",
       "    var x = e.pageX - $(targ).offset().left;\n",
       "    var y = e.pageY - $(targ).offset().top;\n",
       "\n",
       "    return {\"x\": x, \"y\": y};\n",
       "};\n",
       "\n",
       "/*\n",
       " * return a copy of an object with only non-object keys\n",
       " * we need this to avoid circular references\n",
       " * http://stackoverflow.com/a/24161582/3208463\n",
       " */\n",
       "function simpleKeys (original) {\n",
       "  return Object.keys(original).reduce(function (obj, key) {\n",
       "    if (typeof original[key] !== 'object')\n",
       "        obj[key] = original[key]\n",
       "    return obj;\n",
       "  }, {});\n",
       "}\n",
       "\n",
       "mpl.figure.prototype.mouse_event = function(event, name) {\n",
       "    var canvas_pos = mpl.findpos(event)\n",
       "\n",
       "    if (name === 'button_press')\n",
       "    {\n",
       "        this.canvas.focus();\n",
       "        this.canvas_div.focus();\n",
       "    }\n",
       "\n",
       "    var x = canvas_pos.x * mpl.ratio;\n",
       "    var y = canvas_pos.y * mpl.ratio;\n",
       "\n",
       "    this.send_message(name, {x: x, y: y, button: event.button,\n",
       "                             step: event.step,\n",
       "                             guiEvent: simpleKeys(event)});\n",
       "\n",
       "    /* This prevents the web browser from automatically changing to\n",
       "     * the text insertion cursor when the button is pressed.  We want\n",
       "     * to control all of the cursor setting manually through the\n",
       "     * 'cursor' event from matplotlib */\n",
       "    event.preventDefault();\n",
       "    return false;\n",
       "}\n",
       "\n",
       "mpl.figure.prototype._key_event_extra = function(event, name) {\n",
       "    // Handle any extra behaviour associated with a key event\n",
       "}\n",
       "\n",
       "mpl.figure.prototype.key_event = function(event, name) {\n",
       "\n",
       "    // Prevent repeat events\n",
       "    if (name == 'key_press')\n",
       "    {\n",
       "        if (event.which === this._key)\n",
       "            return;\n",
       "        else\n",
       "            this._key = event.which;\n",
       "    }\n",
       "    if (name == 'key_release')\n",
       "        this._key = null;\n",
       "\n",
       "    var value = '';\n",
       "    if (event.ctrlKey && event.which != 17)\n",
       "        value += \"ctrl+\";\n",
       "    if (event.altKey && event.which != 18)\n",
       "        value += \"alt+\";\n",
       "    if (event.shiftKey && event.which != 16)\n",
       "        value += \"shift+\";\n",
       "\n",
       "    value += 'k';\n",
       "    value += event.which.toString();\n",
       "\n",
       "    this._key_event_extra(event, name);\n",
       "\n",
       "    this.send_message(name, {key: value,\n",
       "                             guiEvent: simpleKeys(event)});\n",
       "    return false;\n",
       "}\n",
       "\n",
       "mpl.figure.prototype.toolbar_button_onclick = function(name) {\n",
       "    if (name == 'download') {\n",
       "        this.handle_save(this, null);\n",
       "    } else {\n",
       "        this.send_message(\"toolbar_button\", {name: name});\n",
       "    }\n",
       "};\n",
       "\n",
       "mpl.figure.prototype.toolbar_button_onmouseover = function(tooltip) {\n",
       "    this.message.textContent = tooltip;\n",
       "};\n",
       "mpl.toolbar_items = [[\"Home\", \"Reset original view\", \"fa fa-home icon-home\", \"home\"], [\"Back\", \"Back to previous view\", \"fa fa-arrow-left icon-arrow-left\", \"back\"], [\"Forward\", \"Forward to next view\", \"fa fa-arrow-right icon-arrow-right\", \"forward\"], [\"\", \"\", \"\", \"\"], [\"Pan\", \"Pan axes with left mouse, zoom with right\", \"fa fa-arrows icon-move\", \"pan\"], [\"Zoom\", \"Zoom to rectangle\", \"fa fa-square-o icon-check-empty\", \"zoom\"], [\"\", \"\", \"\", \"\"], [\"Download\", \"Download plot\", \"fa fa-floppy-o icon-save\", \"download\"]];\n",
       "\n",
       "mpl.extensions = [\"eps\", \"jpeg\", \"pdf\", \"png\", \"ps\", \"raw\", \"svg\", \"tif\"];\n",
       "\n",
       "mpl.default_extension = \"png\";var comm_websocket_adapter = function(comm) {\n",
       "    // Create a \"websocket\"-like object which calls the given IPython comm\n",
       "    // object with the appropriate methods. Currently this is a non binary\n",
       "    // socket, so there is still some room for performance tuning.\n",
       "    var ws = {};\n",
       "\n",
       "    ws.close = function() {\n",
       "        comm.close()\n",
       "    };\n",
       "    ws.send = function(m) {\n",
       "        //console.log('sending', m);\n",
       "        comm.send(m);\n",
       "    };\n",
       "    // Register the callback with on_msg.\n",
       "    comm.on_msg(function(msg) {\n",
       "        //console.log('receiving', msg['content']['data'], msg);\n",
       "        // Pass the mpl event to the overridden (by mpl) onmessage function.\n",
       "        ws.onmessage(msg['content']['data'])\n",
       "    });\n",
       "    return ws;\n",
       "}\n",
       "\n",
       "mpl.mpl_figure_comm = function(comm, msg) {\n",
       "    // This is the function which gets called when the mpl process\n",
       "    // starts-up an IPython Comm through the \"matplotlib\" channel.\n",
       "\n",
       "    var id = msg.content.data.id;\n",
       "    // Get hold of the div created by the display call when the Comm\n",
       "    // socket was opened in Python.\n",
       "    var element = $(\"#\" + id);\n",
       "    var ws_proxy = comm_websocket_adapter(comm)\n",
       "\n",
       "    function ondownload(figure, format) {\n",
       "        window.open(figure.imageObj.src);\n",
       "    }\n",
       "\n",
       "    var fig = new mpl.figure(id, ws_proxy,\n",
       "                           ondownload,\n",
       "                           element.get(0));\n",
       "\n",
       "    // Call onopen now - mpl needs it, as it is assuming we've passed it a real\n",
       "    // web socket which is closed, not our websocket->open comm proxy.\n",
       "    ws_proxy.onopen();\n",
       "\n",
       "    fig.parent_element = element.get(0);\n",
       "    fig.cell_info = mpl.find_output_cell(\"<div id='\" + id + \"'></div>\");\n",
       "    if (!fig.cell_info) {\n",
       "        console.error(\"Failed to find cell for figure\", id, fig);\n",
       "        return;\n",
       "    }\n",
       "\n",
       "    var output_index = fig.cell_info[2]\n",
       "    var cell = fig.cell_info[0];\n",
       "\n",
       "};\n",
       "\n",
       "mpl.figure.prototype.handle_close = function(fig, msg) {\n",
       "    var width = fig.canvas.width/mpl.ratio\n",
       "    fig.root.unbind('remove')\n",
       "\n",
       "    // Update the output cell to use the data from the current canvas.\n",
       "    fig.push_to_output();\n",
       "    var dataURL = fig.canvas.toDataURL();\n",
       "    // Re-enable the keyboard manager in IPython - without this line, in FF,\n",
       "    // the notebook keyboard shortcuts fail.\n",
       "    IPython.keyboard_manager.enable()\n",
       "    $(fig.parent_element).html('<img src=\"' + dataURL + '\" width=\"' + width + '\">');\n",
       "    fig.close_ws(fig, msg);\n",
       "}\n",
       "\n",
       "mpl.figure.prototype.close_ws = function(fig, msg){\n",
       "    fig.send_message('closing', msg);\n",
       "    // fig.ws.close()\n",
       "}\n",
       "\n",
       "mpl.figure.prototype.push_to_output = function(remove_interactive) {\n",
       "    // Turn the data on the canvas into data in the output cell.\n",
       "    var width = this.canvas.width/mpl.ratio\n",
       "    var dataURL = this.canvas.toDataURL();\n",
       "    this.cell_info[1]['text/html'] = '<img src=\"' + dataURL + '\" width=\"' + width + '\">';\n",
       "}\n",
       "\n",
       "mpl.figure.prototype.updated_canvas_event = function() {\n",
       "    // Tell IPython that the notebook contents must change.\n",
       "    IPython.notebook.set_dirty(true);\n",
       "    this.send_message(\"ack\", {});\n",
       "    var fig = this;\n",
       "    // Wait a second, then push the new image to the DOM so\n",
       "    // that it is saved nicely (might be nice to debounce this).\n",
       "    setTimeout(function () { fig.push_to_output() }, 1000);\n",
       "}\n",
       "\n",
       "mpl.figure.prototype._init_toolbar = function() {\n",
       "    var fig = this;\n",
       "\n",
       "    var nav_element = $('<div/>');\n",
       "    nav_element.attr('style', 'width: 100%');\n",
       "    this.root.append(nav_element);\n",
       "\n",
       "    // Define a callback function for later on.\n",
       "    function toolbar_event(event) {\n",
       "        return fig.toolbar_button_onclick(event['data']);\n",
       "    }\n",
       "    function toolbar_mouse_event(event) {\n",
       "        return fig.toolbar_button_onmouseover(event['data']);\n",
       "    }\n",
       "\n",
       "    for(var toolbar_ind in mpl.toolbar_items){\n",
       "        var name = mpl.toolbar_items[toolbar_ind][0];\n",
       "        var tooltip = mpl.toolbar_items[toolbar_ind][1];\n",
       "        var image = mpl.toolbar_items[toolbar_ind][2];\n",
       "        var method_name = mpl.toolbar_items[toolbar_ind][3];\n",
       "\n",
       "        if (!name) { continue; };\n",
       "\n",
       "        var button = $('<button class=\"btn btn-default\" href=\"#\" title=\"' + name + '\"><i class=\"fa ' + image + ' fa-lg\"></i></button>');\n",
       "        button.click(method_name, toolbar_event);\n",
       "        button.mouseover(tooltip, toolbar_mouse_event);\n",
       "        nav_element.append(button);\n",
       "    }\n",
       "\n",
       "    // Add the status bar.\n",
       "    var status_bar = $('<span class=\"mpl-message\" style=\"text-align:right; float: right;\"/>');\n",
       "    nav_element.append(status_bar);\n",
       "    this.message = status_bar[0];\n",
       "\n",
       "    // Add the close button to the window.\n",
       "    var buttongrp = $('<div class=\"btn-group inline pull-right\"></div>');\n",
       "    var button = $('<button class=\"btn btn-mini btn-primary\" href=\"#\" title=\"Stop Interaction\"><i class=\"fa fa-power-off icon-remove icon-large\"></i></button>');\n",
       "    button.click(function (evt) { fig.handle_close(fig, {}); } );\n",
       "    button.mouseover('Stop Interaction', toolbar_mouse_event);\n",
       "    buttongrp.append(button);\n",
       "    var titlebar = this.root.find($('.ui-dialog-titlebar'));\n",
       "    titlebar.prepend(buttongrp);\n",
       "}\n",
       "\n",
       "mpl.figure.prototype._root_extra_style = function(el){\n",
       "    var fig = this\n",
       "    el.on(\"remove\", function(){\n",
       "\tfig.close_ws(fig, {});\n",
       "    });\n",
       "}\n",
       "\n",
       "mpl.figure.prototype._canvas_extra_style = function(el){\n",
       "    // this is important to make the div 'focusable\n",
       "    el.attr('tabindex', 0)\n",
       "    // reach out to IPython and tell the keyboard manager to turn it's self\n",
       "    // off when our div gets focus\n",
       "\n",
       "    // location in version 3\n",
       "    if (IPython.notebook.keyboard_manager) {\n",
       "        IPython.notebook.keyboard_manager.register_events(el);\n",
       "    }\n",
       "    else {\n",
       "        // location in version 2\n",
       "        IPython.keyboard_manager.register_events(el);\n",
       "    }\n",
       "\n",
       "}\n",
       "\n",
       "mpl.figure.prototype._key_event_extra = function(event, name) {\n",
       "    var manager = IPython.notebook.keyboard_manager;\n",
       "    if (!manager)\n",
       "        manager = IPython.keyboard_manager;\n",
       "\n",
       "    // Check for shift+enter\n",
       "    if (event.shiftKey && event.which == 13) {\n",
       "        this.canvas_div.blur();\n",
       "        // select the cell after this one\n",
       "        var index = IPython.notebook.find_cell_index(this.cell_info[0]);\n",
       "        IPython.notebook.select(index + 1);\n",
       "    }\n",
       "}\n",
       "\n",
       "mpl.figure.prototype.handle_save = function(fig, msg) {\n",
       "    fig.ondownload(fig, null);\n",
       "}\n",
       "\n",
       "\n",
       "mpl.find_output_cell = function(html_output) {\n",
       "    // Return the cell and output element which can be found *uniquely* in the notebook.\n",
       "    // Note - this is a bit hacky, but it is done because the \"notebook_saving.Notebook\"\n",
       "    // IPython event is triggered only after the cells have been serialised, which for\n",
       "    // our purposes (turning an active figure into a static one), is too late.\n",
       "    var cells = IPython.notebook.get_cells();\n",
       "    var ncells = cells.length;\n",
       "    for (var i=0; i<ncells; i++) {\n",
       "        var cell = cells[i];\n",
       "        if (cell.cell_type === 'code'){\n",
       "            for (var j=0; j<cell.output_area.outputs.length; j++) {\n",
       "                var data = cell.output_area.outputs[j];\n",
       "                if (data.data) {\n",
       "                    // IPython >= 3 moved mimebundle to data attribute of output\n",
       "                    data = data.data;\n",
       "                }\n",
       "                if (data['text/html'] == html_output) {\n",
       "                    return [cell, data, j];\n",
       "                }\n",
       "            }\n",
       "        }\n",
       "    }\n",
       "}\n",
       "\n",
       "// Register the function which deals with the matplotlib target/channel.\n",
       "// The kernel may be null if the page has been refreshed.\n",
       "if (IPython.notebook.kernel != null) {\n",
       "    IPython.notebook.kernel.comm_manager.register_target('matplotlib', mpl.mpl_figure_comm);\n",
       "}\n"
      ],
      "text/plain": [
       "<IPython.core.display.Javascript object>"
      ]
     },
     "metadata": {},
     "output_type": "display_data"
    },
    {
     "data": {
      "text/html": [
       "<div id='36a37c6d-558e-436b-bcd0-64e69f1b025d'></div>"
      ],
      "text/plain": [
       "<IPython.core.display.HTML object>"
      ]
     },
     "metadata": {},
     "output_type": "display_data"
    },
    {
     "name": "stderr",
     "output_type": "stream",
     "text": [
      "C:\\Program Files\\Anaconda3\\envs\\tensorflow\\lib\\site-packages\\ipykernel_launcher.py:20: MatplotlibDeprecationWarning: Using a string of single character colors as a color sequence is deprecated. Use an explicit list instead.\n"
     ]
    }
   ],
   "source": [
    "%matplotlib notebook\n",
    "from matplotlib import pyplot\n",
    "from pylab import figure\n",
    "from mpl_toolkits.mplot3d import Axes3D\n",
    "\n",
    "syn = 'ADNP'\n",
    "data, labels = load_data(syn)\n",
    "data_left, data_right = split_data(data, left, right)\n",
    "\n",
    "fig = figure(figsize=(10,10))\n",
    "ax = Axes3D(fig)\n",
    "\n",
    "for p in data_left[0]: \n",
    "    ax.scatter(p[0], p[1], p[2], color='b') \n",
    "    \n",
    "for p in data_right[0]: \n",
    "    ax.scatter(p[0], p[1], p[2], color='') \n",
    "    \n",
    "ax.set_xlabel('x')\n",
    "ax.set_ylabel('y')\n",
    "ax.set_zlabel('z')\n",
    "pyplot.show()"
   ]
  },
  {
   "cell_type": "markdown",
   "metadata": {},
   "source": [
    "# Training"
   ]
  },
  {
   "cell_type": "code",
   "execution_count": 12,
   "metadata": {},
   "outputs": [
    {
     "name": "stderr",
     "output_type": "stream",
     "text": [
      "\r",
      "0it [00:00, ?it/s]"
     ]
    },
    {
     "name": "stdout",
     "output_type": "stream",
     "text": [
      "Epoch 1/10\n",
      "3/3 [==============================] - 0s 71ms/step - loss: 1.2407 - sparse_categorical_accuracy: 0.6522\n",
      "Epoch 2/10\n",
      "3/3 [==============================] - 0s 73ms/step - loss: 1.0803 - sparse_categorical_accuracy: 0.6522\n",
      "Epoch 3/10\n",
      "3/3 [==============================] - 0s 78ms/step - loss: 0.9699 - sparse_categorical_accuracy: 0.8261\n",
      "Epoch 4/10\n",
      "3/3 [==============================] - 0s 72ms/step - loss: 0.8949 - sparse_categorical_accuracy: 0.9565\n",
      "Epoch 5/10\n",
      "3/3 [==============================] - 0s 85ms/step - loss: 0.9538 - sparse_categorical_accuracy: 0.9130\n",
      "Epoch 6/10\n",
      "3/3 [==============================] - 0s 79ms/step - loss: 0.7509 - sparse_categorical_accuracy: 1.0000\n",
      "Epoch 7/10\n",
      "3/3 [==============================] - 0s 73ms/step - loss: 1.0630 - sparse_categorical_accuracy: 0.9565\n",
      "Epoch 8/10\n",
      "3/3 [==============================] - 0s 80ms/step - loss: 0.7781 - sparse_categorical_accuracy: 0.9130\n",
      "Epoch 9/10\n",
      "3/3 [==============================] - 0s 72ms/step - loss: 0.5427 - sparse_categorical_accuracy: 1.0000\n",
      "Epoch 10/10\n",
      "3/3 [==============================] - 0s 68ms/step - loss: 0.7649 - sparse_categorical_accuracy: 0.9130\n"
     ]
    },
    {
     "name": "stderr",
     "output_type": "stream",
     "text": [
      "\r",
      "1it [00:08,  8.70s/it]"
     ]
    },
    {
     "name": "stdout",
     "output_type": "stream",
     "text": [
      "Epoch 1/10\n",
      "3/3 [==============================] - 0s 68ms/step - loss: 1.3425 - sparse_categorical_accuracy: 0.5652\n",
      "Epoch 2/10\n",
      "3/3 [==============================] - 0s 74ms/step - loss: 1.0363 - sparse_categorical_accuracy: 0.7826\n",
      "Epoch 3/10\n",
      "3/3 [==============================] - 0s 67ms/step - loss: 1.0755 - sparse_categorical_accuracy: 0.7826\n",
      "Epoch 4/10\n",
      "3/3 [==============================] - 0s 75ms/step - loss: 0.9941 - sparse_categorical_accuracy: 0.8696\n",
      "Epoch 5/10\n",
      "3/3 [==============================] - 0s 71ms/step - loss: 0.9457 - sparse_categorical_accuracy: 0.9565\n",
      "Epoch 6/10\n",
      "3/3 [==============================] - 0s 82ms/step - loss: 0.9326 - sparse_categorical_accuracy: 0.8696\n",
      "Epoch 7/10\n",
      "3/3 [==============================] - 0s 78ms/step - loss: 0.8556 - sparse_categorical_accuracy: 0.9130\n",
      "Epoch 8/10\n",
      "3/3 [==============================] - 0s 79ms/step - loss: 1.0984 - sparse_categorical_accuracy: 0.8261\n",
      "Epoch 9/10\n",
      "3/3 [==============================] - 0s 74ms/step - loss: 0.6758 - sparse_categorical_accuracy: 0.9130\n",
      "Epoch 10/10\n",
      "3/3 [==============================] - 0s 70ms/step - loss: 0.5930 - sparse_categorical_accuracy: 0.9565\n"
     ]
    },
    {
     "name": "stderr",
     "output_type": "stream",
     "text": [
      "\r",
      "2it [00:17,  8.59s/it]"
     ]
    },
    {
     "name": "stdout",
     "output_type": "stream",
     "text": [
      "Epoch 1/10\n",
      "3/3 [==============================] - 0s 81ms/step - loss: 1.4138 - sparse_categorical_accuracy: 0.4348\n",
      "Epoch 2/10\n",
      "3/3 [==============================] - 0s 79ms/step - loss: 1.0545 - sparse_categorical_accuracy: 0.7826\n",
      "Epoch 3/10\n",
      "3/3 [==============================] - 0s 77ms/step - loss: 0.9745 - sparse_categorical_accuracy: 0.9130\n",
      "Epoch 4/10\n",
      "3/3 [==============================] - 0s 80ms/step - loss: 1.2099 - sparse_categorical_accuracy: 0.8261\n",
      "Epoch 5/10\n",
      "3/3 [==============================] - 0s 80ms/step - loss: 1.3218 - sparse_categorical_accuracy: 0.8696\n",
      "Epoch 6/10\n",
      "3/3 [==============================] - 0s 84ms/step - loss: 1.3265 - sparse_categorical_accuracy: 0.8261\n",
      "Epoch 7/10\n",
      "3/3 [==============================] - 0s 76ms/step - loss: 0.9638 - sparse_categorical_accuracy: 0.8261\n",
      "Epoch 8/10\n",
      "3/3 [==============================] - 0s 84ms/step - loss: 0.7893 - sparse_categorical_accuracy: 0.9565\n",
      "Epoch 9/10\n",
      "3/3 [==============================] - 0s 82ms/step - loss: 0.7872 - sparse_categorical_accuracy: 0.9130\n",
      "Epoch 10/10\n",
      "3/3 [==============================] - 0s 78ms/step - loss: 0.7051 - sparse_categorical_accuracy: 0.9130\n"
     ]
    },
    {
     "name": "stderr",
     "output_type": "stream",
     "text": [
      "\r",
      "3it [00:25,  8.56s/it]"
     ]
    },
    {
     "name": "stdout",
     "output_type": "stream",
     "text": [
      "Epoch 1/10\n",
      "3/3 [==============================] - 0s 81ms/step - loss: 1.3028 - sparse_categorical_accuracy: 0.6522\n",
      "Epoch 2/10\n",
      "3/3 [==============================] - 0s 77ms/step - loss: 1.0178 - sparse_categorical_accuracy: 0.7826\n",
      "Epoch 3/10\n",
      "3/3 [==============================] - 0s 73ms/step - loss: 1.3026 - sparse_categorical_accuracy: 0.7826\n",
      "Epoch 4/10\n",
      "3/3 [==============================] - 0s 83ms/step - loss: 0.9549 - sparse_categorical_accuracy: 0.9130\n",
      "Epoch 5/10\n",
      "3/3 [==============================] - 0s 76ms/step - loss: 0.8623 - sparse_categorical_accuracy: 1.0000\n",
      "Epoch 6/10\n",
      "3/3 [==============================] - 0s 72ms/step - loss: 0.8003 - sparse_categorical_accuracy: 1.0000\n",
      "Epoch 7/10\n",
      "3/3 [==============================] - 0s 81ms/step - loss: 0.8196 - sparse_categorical_accuracy: 0.9565\n",
      "Epoch 8/10\n",
      "3/3 [==============================] - 0s 79ms/step - loss: 0.7377 - sparse_categorical_accuracy: 0.8696\n",
      "Epoch 9/10\n",
      "3/3 [==============================] - 0s 73ms/step - loss: 1.0185 - sparse_categorical_accuracy: 0.8261\n",
      "Epoch 10/10\n",
      "3/3 [==============================] - 0s 87ms/step - loss: 0.6028 - sparse_categorical_accuracy: 0.9565\n"
     ]
    },
    {
     "name": "stderr",
     "output_type": "stream",
     "text": [
      "\r",
      "4it [00:34,  8.55s/it]"
     ]
    },
    {
     "name": "stdout",
     "output_type": "stream",
     "text": [
      "Epoch 1/10\n",
      "3/3 [==============================] - 0s 74ms/step - loss: 1.3322 - sparse_categorical_accuracy: 0.6522\n",
      "Epoch 2/10\n",
      "3/3 [==============================] - 0s 77ms/step - loss: 1.0784 - sparse_categorical_accuracy: 0.8261\n",
      "Epoch 3/10\n",
      "3/3 [==============================] - 0s 78ms/step - loss: 1.1789 - sparse_categorical_accuracy: 0.8261\n",
      "Epoch 4/10\n",
      "3/3 [==============================] - 0s 81ms/step - loss: 1.1142 - sparse_categorical_accuracy: 0.8261\n",
      "Epoch 5/10\n",
      "3/3 [==============================] - 0s 82ms/step - loss: 1.0260 - sparse_categorical_accuracy: 0.9130\n",
      "Epoch 6/10\n",
      "3/3 [==============================] - 0s 74ms/step - loss: 0.9873 - sparse_categorical_accuracy: 0.9130\n",
      "Epoch 7/10\n",
      "3/3 [==============================] - 0s 81ms/step - loss: 1.1191 - sparse_categorical_accuracy: 0.7826\n",
      "Epoch 8/10\n",
      "3/3 [==============================] - 0s 72ms/step - loss: 0.8419 - sparse_categorical_accuracy: 0.8696\n",
      "Epoch 9/10\n",
      "3/3 [==============================] - 0s 70ms/step - loss: 1.0419 - sparse_categorical_accuracy: 0.8696\n",
      "Epoch 10/10\n",
      "3/3 [==============================] - 0s 79ms/step - loss: 0.6922 - sparse_categorical_accuracy: 0.9565\n"
     ]
    },
    {
     "name": "stderr",
     "output_type": "stream",
     "text": [
      "\r",
      "5it [00:42,  8.60s/it]"
     ]
    },
    {
     "name": "stdout",
     "output_type": "stream",
     "text": [
      "Epoch 1/10\n",
      "3/3 [==============================] - 0s 77ms/step - loss: 1.2258 - sparse_categorical_accuracy: 0.6087\n",
      "Epoch 2/10\n",
      "3/3 [==============================] - 0s 79ms/step - loss: 1.1935 - sparse_categorical_accuracy: 0.8261\n",
      "Epoch 3/10\n",
      "3/3 [==============================] - 0s 79ms/step - loss: 1.0223 - sparse_categorical_accuracy: 0.8696\n",
      "Epoch 4/10\n",
      "3/3 [==============================] - 0s 73ms/step - loss: 1.4525 - sparse_categorical_accuracy: 0.7826\n",
      "Epoch 5/10\n",
      "3/3 [==============================] - 0s 84ms/step - loss: 1.2324 - sparse_categorical_accuracy: 0.9130\n",
      "Epoch 6/10\n",
      "3/3 [==============================] - 0s 73ms/step - loss: 1.0179 - sparse_categorical_accuracy: 0.9130\n",
      "Epoch 7/10\n",
      "3/3 [==============================] - 0s 73ms/step - loss: 1.0306 - sparse_categorical_accuracy: 0.9130\n",
      "Epoch 8/10\n",
      "3/3 [==============================] - 0s 84ms/step - loss: 0.7090 - sparse_categorical_accuracy: 0.9565\n",
      "Epoch 9/10\n",
      "3/3 [==============================] - 0s 82ms/step - loss: 0.6163 - sparse_categorical_accuracy: 0.9565\n",
      "Epoch 10/10\n",
      "3/3 [==============================] - 0s 78ms/step - loss: 0.5372 - sparse_categorical_accuracy: 1.0000\n"
     ]
    },
    {
     "name": "stderr",
     "output_type": "stream",
     "text": [
      "\r",
      "6it [00:51,  8.54s/it]"
     ]
    },
    {
     "name": "stdout",
     "output_type": "stream",
     "text": [
      "Epoch 1/10\n",
      "3/3 [==============================] - 0s 78ms/step - loss: 1.5987 - sparse_categorical_accuracy: 0.4348\n",
      "Epoch 2/10\n",
      "3/3 [==============================] - 0s 89ms/step - loss: 1.4513 - sparse_categorical_accuracy: 0.7391\n",
      "Epoch 3/10\n",
      "3/3 [==============================] - 0s 80ms/step - loss: 1.0558 - sparse_categorical_accuracy: 0.8261\n",
      "Epoch 4/10\n",
      "3/3 [==============================] - 0s 73ms/step - loss: 1.2317 - sparse_categorical_accuracy: 0.8696\n",
      "Epoch 5/10\n",
      "3/3 [==============================] - 0s 83ms/step - loss: 1.2610 - sparse_categorical_accuracy: 0.8261\n",
      "Epoch 6/10\n",
      "3/3 [==============================] - 0s 74ms/step - loss: 1.2740 - sparse_categorical_accuracy: 0.8261\n",
      "Epoch 7/10\n",
      "3/3 [==============================] - 0s 78ms/step - loss: 0.9630 - sparse_categorical_accuracy: 0.8696\n",
      "Epoch 8/10\n",
      "3/3 [==============================] - 0s 78ms/step - loss: 0.8021 - sparse_categorical_accuracy: 0.8696\n",
      "Epoch 9/10\n",
      "3/3 [==============================] - 0s 74ms/step - loss: 0.6743 - sparse_categorical_accuracy: 0.9565\n",
      "Epoch 10/10\n",
      "3/3 [==============================] - 0s 76ms/step - loss: 0.8309 - sparse_categorical_accuracy: 0.9130\n"
     ]
    },
    {
     "name": "stderr",
     "output_type": "stream",
     "text": [
      "\r",
      "7it [00:59,  8.52s/it]"
     ]
    },
    {
     "name": "stdout",
     "output_type": "stream",
     "text": [
      "Epoch 1/10\n",
      "3/3 [==============================] - 0s 86ms/step - loss: 0.9495 - sparse_categorical_accuracy: 0.7826\n",
      "Epoch 2/10\n",
      "3/3 [==============================] - 0s 78ms/step - loss: 0.8587 - sparse_categorical_accuracy: 0.9565\n",
      "Epoch 3/10\n",
      "3/3 [==============================] - 0s 82ms/step - loss: 0.8166 - sparse_categorical_accuracy: 1.0000\n",
      "Epoch 4/10\n",
      "3/3 [==============================] - 0s 82ms/step - loss: 0.7729 - sparse_categorical_accuracy: 1.0000\n",
      "Epoch 5/10\n",
      "3/3 [==============================] - 0s 89ms/step - loss: 0.8488 - sparse_categorical_accuracy: 0.9130\n",
      "Epoch 6/10\n",
      "3/3 [==============================] - 0s 77ms/step - loss: 0.6719 - sparse_categorical_accuracy: 0.9565\n",
      "Epoch 7/10\n",
      "3/3 [==============================] - 0s 84ms/step - loss: 0.8339 - sparse_categorical_accuracy: 0.9130\n",
      "Epoch 8/10\n",
      "3/3 [==============================] - 0s 85ms/step - loss: 0.8024 - sparse_categorical_accuracy: 0.8696\n",
      "Epoch 9/10\n",
      "3/3 [==============================] - 0s 87ms/step - loss: 0.7077 - sparse_categorical_accuracy: 0.8261\n",
      "Epoch 10/10\n",
      "3/3 [==============================] - 0s 82ms/step - loss: 0.8322 - sparse_categorical_accuracy: 0.8261\n"
     ]
    },
    {
     "name": "stderr",
     "output_type": "stream",
     "text": [
      "\r",
      "8it [01:08,  8.49s/it]"
     ]
    },
    {
     "name": "stdout",
     "output_type": "stream",
     "text": [
      "Epoch 1/10\n",
      "3/3 [==============================] - 0s 82ms/step - loss: 1.5526 - sparse_categorical_accuracy: 0.5652\n",
      "Epoch 2/10\n",
      "3/3 [==============================] - 0s 80ms/step - loss: 1.0107 - sparse_categorical_accuracy: 0.8261\n",
      "Epoch 3/10\n",
      "3/3 [==============================] - 0s 80ms/step - loss: 0.8948 - sparse_categorical_accuracy: 0.9130\n",
      "Epoch 4/10\n",
      "3/3 [==============================] - 0s 84ms/step - loss: 0.8906 - sparse_categorical_accuracy: 0.9565\n",
      "Epoch 5/10\n",
      "3/3 [==============================] - 0s 89ms/step - loss: 0.8131 - sparse_categorical_accuracy: 0.9565\n",
      "Epoch 6/10\n",
      "3/3 [==============================] - 0s 87ms/step - loss: 0.6836 - sparse_categorical_accuracy: 1.0000\n",
      "Epoch 7/10\n",
      "3/3 [==============================] - 0s 89ms/step - loss: 1.6933 - sparse_categorical_accuracy: 0.7826\n",
      "Epoch 8/10\n",
      "3/3 [==============================] - 0s 90ms/step - loss: 0.8974 - sparse_categorical_accuracy: 0.8696\n",
      "Epoch 9/10\n",
      "3/3 [==============================] - 0s 86ms/step - loss: 0.6525 - sparse_categorical_accuracy: 0.9130\n",
      "Epoch 10/10\n",
      "3/3 [==============================] - 0s 88ms/step - loss: 0.7157 - sparse_categorical_accuracy: 0.9130\n"
     ]
    },
    {
     "name": "stderr",
     "output_type": "stream",
     "text": [
      "\r",
      "9it [01:16,  8.56s/it]"
     ]
    },
    {
     "name": "stdout",
     "output_type": "stream",
     "text": [
      "Epoch 1/10\n",
      "3/3 [==============================] - 0s 84ms/step - loss: 1.2591 - sparse_categorical_accuracy: 0.6087\n",
      "Epoch 2/10\n",
      "3/3 [==============================] - 0s 82ms/step - loss: 0.9727 - sparse_categorical_accuracy: 0.8261\n",
      "Epoch 3/10\n",
      "3/3 [==============================] - 0s 83ms/step - loss: 1.1404 - sparse_categorical_accuracy: 0.8261\n",
      "Epoch 4/10\n",
      "3/3 [==============================] - 0s 83ms/step - loss: 1.1736 - sparse_categorical_accuracy: 0.8696\n",
      "Epoch 5/10\n",
      "3/3 [==============================] - 0s 87ms/step - loss: 0.8901 - sparse_categorical_accuracy: 0.9565\n",
      "Epoch 6/10\n",
      "3/3 [==============================] - 0s 86ms/step - loss: 0.8141 - sparse_categorical_accuracy: 1.0000\n",
      "Epoch 7/10\n",
      "3/3 [==============================] - 0s 86ms/step - loss: 0.7481 - sparse_categorical_accuracy: 0.9565\n",
      "Epoch 8/10\n",
      "3/3 [==============================] - 0s 84ms/step - loss: 0.6992 - sparse_categorical_accuracy: 0.9565\n",
      "Epoch 9/10\n",
      "3/3 [==============================] - 0s 83ms/step - loss: 0.9575 - sparse_categorical_accuracy: 0.8261\n",
      "Epoch 10/10\n",
      "3/3 [==============================] - 0s 84ms/step - loss: 0.5877 - sparse_categorical_accuracy: 0.9565\n"
     ]
    },
    {
     "name": "stderr",
     "output_type": "stream",
     "text": [
      "\r",
      "10it [01:25,  8.57s/it]"
     ]
    },
    {
     "name": "stdout",
     "output_type": "stream",
     "text": [
      "Epoch 1/10\n",
      "3/3 [==============================] - 0s 82ms/step - loss: 1.3121 - sparse_categorical_accuracy: 0.6087\n",
      "Epoch 2/10\n",
      "3/3 [==============================] - 0s 77ms/step - loss: 1.0600 - sparse_categorical_accuracy: 0.8261\n",
      "Epoch 3/10\n",
      "3/3 [==============================] - 0s 77ms/step - loss: 1.2142 - sparse_categorical_accuracy: 0.8261\n",
      "Epoch 4/10\n",
      "3/3 [==============================] - 0s 83ms/step - loss: 1.0940 - sparse_categorical_accuracy: 0.9565\n",
      "Epoch 5/10\n",
      "3/3 [==============================] - 0s 83ms/step - loss: 1.2996 - sparse_categorical_accuracy: 0.8261\n",
      "Epoch 6/10\n",
      "3/3 [==============================] - 0s 86ms/step - loss: 1.0505 - sparse_categorical_accuracy: 0.9565\n",
      "Epoch 7/10\n",
      "3/3 [==============================] - 0s 82ms/step - loss: 0.8846 - sparse_categorical_accuracy: 0.9130\n",
      "Epoch 8/10\n",
      "3/3 [==============================] - 0s 82ms/step - loss: 0.7162 - sparse_categorical_accuracy: 1.0000\n",
      "Epoch 9/10\n",
      "3/3 [==============================] - 0s 83ms/step - loss: 0.7664 - sparse_categorical_accuracy: 0.9565\n",
      "Epoch 10/10\n",
      "3/3 [==============================] - 0s 88ms/step - loss: 0.5604 - sparse_categorical_accuracy: 1.0000\n"
     ]
    },
    {
     "name": "stderr",
     "output_type": "stream",
     "text": [
      "\r",
      "11it [01:33,  8.48s/it]"
     ]
    },
    {
     "name": "stdout",
     "output_type": "stream",
     "text": [
      "Epoch 1/10\n",
      "3/3 [==============================] - 0s 77ms/step - loss: 1.0952 - sparse_categorical_accuracy: 0.6957\n",
      "Epoch 2/10\n",
      "3/3 [==============================] - 0s 79ms/step - loss: 0.9858 - sparse_categorical_accuracy: 0.7826\n",
      "Epoch 3/10\n",
      "3/3 [==============================] - 0s 73ms/step - loss: 0.9885 - sparse_categorical_accuracy: 0.8696\n",
      "Epoch 4/10\n",
      "3/3 [==============================] - 0s 84ms/step - loss: 1.0531 - sparse_categorical_accuracy: 0.7826\n",
      "Epoch 5/10\n",
      "3/3 [==============================] - 0s 78ms/step - loss: 0.9055 - sparse_categorical_accuracy: 0.8696\n",
      "Epoch 6/10\n",
      "3/3 [==============================] - 0s 83ms/step - loss: 0.9529 - sparse_categorical_accuracy: 0.8696\n",
      "Epoch 7/10\n",
      "3/3 [==============================] - 0s 78ms/step - loss: 1.1935 - sparse_categorical_accuracy: 0.7826\n",
      "Epoch 8/10\n",
      "3/3 [==============================] - 0s 67ms/step - loss: 0.8334 - sparse_categorical_accuracy: 0.8261\n",
      "Epoch 9/10\n",
      "3/3 [==============================] - 0s 95ms/step - loss: 0.6224 - sparse_categorical_accuracy: 0.9565\n",
      "Epoch 10/10\n",
      "3/3 [==============================] - 0s 81ms/step - loss: 0.9087 - sparse_categorical_accuracy: 0.8696\n"
     ]
    },
    {
     "name": "stderr",
     "output_type": "stream",
     "text": [
      "\r",
      "12it [01:42,  8.57s/it]"
     ]
    },
    {
     "name": "stdout",
     "output_type": "stream",
     "text": [
      "Epoch 1/10\n",
      "3/3 [==============================] - 0s 73ms/step - loss: 1.4440 - sparse_categorical_accuracy: 0.4783\n",
      "Epoch 2/10\n",
      "3/3 [==============================] - 0s 78ms/step - loss: 1.0212 - sparse_categorical_accuracy: 0.7826\n",
      "Epoch 3/10\n",
      "3/3 [==============================] - 0s 77ms/step - loss: 0.7604 - sparse_categorical_accuracy: 1.0000\n",
      "Epoch 4/10\n",
      "3/3 [==============================] - 0s 86ms/step - loss: 1.3109 - sparse_categorical_accuracy: 0.8261\n",
      "Epoch 5/10\n",
      "3/3 [==============================] - 0s 78ms/step - loss: 0.8378 - sparse_categorical_accuracy: 0.9565\n",
      "Epoch 6/10\n",
      "3/3 [==============================] - 0s 72ms/step - loss: 0.8165 - sparse_categorical_accuracy: 0.9565\n",
      "Epoch 7/10\n",
      "3/3 [==============================] - 0s 85ms/step - loss: 0.9339 - sparse_categorical_accuracy: 0.8261\n",
      "Epoch 8/10\n",
      "3/3 [==============================] - 0s 70ms/step - loss: 0.6101 - sparse_categorical_accuracy: 0.9565\n",
      "Epoch 9/10\n",
      "3/3 [==============================] - 0s 83ms/step - loss: 0.6668 - sparse_categorical_accuracy: 0.9130\n",
      "Epoch 10/10\n",
      "3/3 [==============================] - 0s 81ms/step - loss: 0.6154 - sparse_categorical_accuracy: 0.8696\n"
     ]
    },
    {
     "name": "stderr",
     "output_type": "stream",
     "text": [
      "\r",
      "13it [01:50,  8.57s/it]"
     ]
    },
    {
     "name": "stdout",
     "output_type": "stream",
     "text": [
      "Epoch 1/10\n",
      "3/3 [==============================] - 0s 79ms/step - loss: 1.6504 - sparse_categorical_accuracy: 0.4783\n",
      "Epoch 2/10\n",
      "3/3 [==============================] - 0s 77ms/step - loss: 1.0849 - sparse_categorical_accuracy: 0.8261\n",
      "Epoch 3/10\n",
      "3/3 [==============================] - 0s 85ms/step - loss: 1.3169 - sparse_categorical_accuracy: 0.6957\n",
      "Epoch 4/10\n",
      "3/3 [==============================] - 0s 73ms/step - loss: 1.1678 - sparse_categorical_accuracy: 0.7826\n",
      "Epoch 5/10\n",
      "3/3 [==============================] - 0s 75ms/step - loss: 1.5856 - sparse_categorical_accuracy: 0.6957\n",
      "Epoch 6/10\n",
      "3/3 [==============================] - 0s 72ms/step - loss: 1.2411 - sparse_categorical_accuracy: 0.7391\n",
      "Epoch 7/10\n",
      "3/3 [==============================] - 0s 88ms/step - loss: 1.3676 - sparse_categorical_accuracy: 0.7826\n",
      "Epoch 8/10\n",
      "3/3 [==============================] - 0s 71ms/step - loss: 0.9665 - sparse_categorical_accuracy: 0.8696\n",
      "Epoch 9/10\n",
      "3/3 [==============================] - 0s 74ms/step - loss: 1.2743 - sparse_categorical_accuracy: 0.7826\n",
      "Epoch 10/10\n",
      "3/3 [==============================] - 0s 71ms/step - loss: 0.7765 - sparse_categorical_accuracy: 0.9130\n"
     ]
    },
    {
     "name": "stderr",
     "output_type": "stream",
     "text": [
      "\r",
      "14it [01:59,  8.51s/it]"
     ]
    },
    {
     "name": "stdout",
     "output_type": "stream",
     "text": [
      "Epoch 1/10\n",
      "3/3 [==============================] - 0s 78ms/step - loss: 1.9065 - sparse_categorical_accuracy: 0.4348\n",
      "Epoch 2/10\n",
      "3/3 [==============================] - 0s 68ms/step - loss: 1.5638 - sparse_categorical_accuracy: 0.6522\n",
      "Epoch 3/10\n",
      "3/3 [==============================] - 0s 73ms/step - loss: 1.2144 - sparse_categorical_accuracy: 0.7826\n",
      "Epoch 4/10\n",
      "3/3 [==============================] - 0s 83ms/step - loss: 1.1597 - sparse_categorical_accuracy: 0.9130\n",
      "Epoch 5/10\n",
      "3/3 [==============================] - 0s 77ms/step - loss: 1.2854 - sparse_categorical_accuracy: 0.9130\n",
      "Epoch 6/10\n",
      "3/3 [==============================] - 0s 90ms/step - loss: 1.1306 - sparse_categorical_accuracy: 0.9130\n",
      "Epoch 7/10\n",
      "3/3 [==============================] - 0s 83ms/step - loss: 0.8633 - sparse_categorical_accuracy: 1.0000\n",
      "Epoch 8/10\n",
      "3/3 [==============================] - 0s 88ms/step - loss: 1.1058 - sparse_categorical_accuracy: 0.8696\n",
      "Epoch 9/10\n",
      "3/3 [==============================] - 0s 73ms/step - loss: 0.9273 - sparse_categorical_accuracy: 0.9130\n",
      "Epoch 10/10\n",
      "3/3 [==============================] - 0s 75ms/step - loss: 0.6976 - sparse_categorical_accuracy: 0.9130\n"
     ]
    },
    {
     "name": "stderr",
     "output_type": "stream",
     "text": [
      "\r",
      "15it [02:08,  8.58s/it]"
     ]
    },
    {
     "name": "stdout",
     "output_type": "stream",
     "text": [
      "Epoch 1/10\n",
      "3/3 [==============================] - 0s 77ms/step - loss: 1.5117 - sparse_categorical_accuracy: 0.3913\n",
      "Epoch 2/10\n",
      "3/3 [==============================] - 0s 78ms/step - loss: 0.9522 - sparse_categorical_accuracy: 0.8696\n",
      "Epoch 3/10\n",
      "3/3 [==============================] - 0s 82ms/step - loss: 1.0930 - sparse_categorical_accuracy: 0.7826\n",
      "Epoch 4/10\n",
      "3/3 [==============================] - 0s 73ms/step - loss: 1.1323 - sparse_categorical_accuracy: 0.8696\n",
      "Epoch 5/10\n",
      "3/3 [==============================] - 0s 82ms/step - loss: 0.9545 - sparse_categorical_accuracy: 1.0000\n",
      "Epoch 6/10\n",
      "3/3 [==============================] - 0s 79ms/step - loss: 0.9445 - sparse_categorical_accuracy: 0.9565\n",
      "Epoch 7/10\n",
      "3/3 [==============================] - 0s 77ms/step - loss: 0.8653 - sparse_categorical_accuracy: 0.9565\n",
      "Epoch 8/10\n",
      "3/3 [==============================] - 0s 78ms/step - loss: 0.8122 - sparse_categorical_accuracy: 0.9565\n",
      "Epoch 9/10\n",
      "3/3 [==============================] - 0s 82ms/step - loss: 0.6152 - sparse_categorical_accuracy: 1.0000\n",
      "Epoch 10/10\n",
      "3/3 [==============================] - 0s 77ms/step - loss: 0.9883 - sparse_categorical_accuracy: 0.9130\n"
     ]
    },
    {
     "name": "stderr",
     "output_type": "stream",
     "text": [
      "\r",
      "16it [02:16,  8.57s/it]"
     ]
    },
    {
     "name": "stdout",
     "output_type": "stream",
     "text": [
      "Epoch 1/10\n",
      "3/3 [==============================] - 0s 74ms/step - loss: 1.1593 - sparse_categorical_accuracy: 0.6522\n",
      "Epoch 2/10\n",
      "3/3 [==============================] - 0s 81ms/step - loss: 1.2587 - sparse_categorical_accuracy: 0.6957\n",
      "Epoch 3/10\n",
      "3/3 [==============================] - 0s 76ms/step - loss: 1.1173 - sparse_categorical_accuracy: 0.8261\n",
      "Epoch 4/10\n",
      "3/3 [==============================] - 0s 73ms/step - loss: 0.9395 - sparse_categorical_accuracy: 0.9565\n",
      "Epoch 5/10\n",
      "3/3 [==============================] - 0s 75ms/step - loss: 0.9745 - sparse_categorical_accuracy: 0.9130\n",
      "Epoch 6/10\n",
      "3/3 [==============================] - 0s 79ms/step - loss: 0.8638 - sparse_categorical_accuracy: 0.9130\n",
      "Epoch 7/10\n",
      "3/3 [==============================] - 0s 83ms/step - loss: 1.0335 - sparse_categorical_accuracy: 0.8261\n",
      "Epoch 8/10\n",
      "3/3 [==============================] - 0s 77ms/step - loss: 0.8942 - sparse_categorical_accuracy: 0.7826\n",
      "Epoch 9/10\n",
      "3/3 [==============================] - 0s 72ms/step - loss: 0.9011 - sparse_categorical_accuracy: 0.7826\n",
      "Epoch 10/10\n",
      "3/3 [==============================] - 0s 78ms/step - loss: 0.8909 - sparse_categorical_accuracy: 0.8261\n"
     ]
    },
    {
     "name": "stderr",
     "output_type": "stream",
     "text": [
      "\r",
      "17it [02:25,  8.61s/it]"
     ]
    },
    {
     "name": "stdout",
     "output_type": "stream",
     "text": [
      "Epoch 1/10\n",
      "3/3 [==============================] - 0s 77ms/step - loss: 1.2882 - sparse_categorical_accuracy: 0.5652\n",
      "Epoch 2/10\n",
      "3/3 [==============================] - 0s 78ms/step - loss: 0.9918 - sparse_categorical_accuracy: 0.8261\n",
      "Epoch 3/10\n",
      "3/3 [==============================] - 0s 82ms/step - loss: 0.9191 - sparse_categorical_accuracy: 0.9565\n",
      "Epoch 4/10\n",
      "3/3 [==============================] - 0s 73ms/step - loss: 1.0251 - sparse_categorical_accuracy: 0.9565\n",
      "Epoch 5/10\n",
      "3/3 [==============================] - 0s 74ms/step - loss: 1.3312 - sparse_categorical_accuracy: 0.7826\n",
      "Epoch 6/10\n",
      "3/3 [==============================] - 0s 78ms/step - loss: 0.9981 - sparse_categorical_accuracy: 0.9130\n",
      "Epoch 7/10\n",
      "3/3 [==============================] - 0s 75ms/step - loss: 0.8218 - sparse_categorical_accuracy: 0.9565\n",
      "Epoch 8/10\n",
      "3/3 [==============================] - 0s 78ms/step - loss: 1.1639 - sparse_categorical_accuracy: 0.8261\n",
      "Epoch 9/10\n",
      "3/3 [==============================] - 0s 80ms/step - loss: 0.6372 - sparse_categorical_accuracy: 1.0000\n",
      "Epoch 10/10\n",
      "3/3 [==============================] - 0s 73ms/step - loss: 0.9633 - sparse_categorical_accuracy: 0.8261\n"
     ]
    },
    {
     "name": "stderr",
     "output_type": "stream",
     "text": [
      "\r",
      "18it [02:33,  8.54s/it]"
     ]
    },
    {
     "name": "stdout",
     "output_type": "stream",
     "text": [
      "Epoch 1/10\n",
      "3/3 [==============================] - 0s 82ms/step - loss: 1.1978 - sparse_categorical_accuracy: 0.5652\n",
      "Epoch 2/10\n",
      "3/3 [==============================] - 0s 78ms/step - loss: 0.7960 - sparse_categorical_accuracy: 0.9565\n",
      "Epoch 3/10\n",
      "3/3 [==============================] - 0s 88ms/step - loss: 0.9751 - sparse_categorical_accuracy: 0.9130\n",
      "Epoch 4/10\n",
      "3/3 [==============================] - 0s 79ms/step - loss: 0.9266 - sparse_categorical_accuracy: 0.9565\n",
      "Epoch 5/10\n",
      "3/3 [==============================] - 0s 72ms/step - loss: 1.1396 - sparse_categorical_accuracy: 0.9130\n",
      "Epoch 6/10\n",
      "3/3 [==============================] - 0s 83ms/step - loss: 0.7833 - sparse_categorical_accuracy: 0.9565\n",
      "Epoch 7/10\n",
      "3/3 [==============================] - 0s 69ms/step - loss: 0.7488 - sparse_categorical_accuracy: 0.9130\n",
      "Epoch 8/10\n",
      "3/3 [==============================] - 0s 83ms/step - loss: 0.7709 - sparse_categorical_accuracy: 0.9565\n",
      "Epoch 9/10\n",
      "3/3 [==============================] - 0s 79ms/step - loss: 0.5348 - sparse_categorical_accuracy: 1.0000\n",
      "Epoch 10/10\n",
      "3/3 [==============================] - 0s 71ms/step - loss: 0.5198 - sparse_categorical_accuracy: 0.9565\n"
     ]
    },
    {
     "name": "stderr",
     "output_type": "stream",
     "text": [
      "\r",
      "19it [02:42,  8.62s/it]"
     ]
    },
    {
     "name": "stdout",
     "output_type": "stream",
     "text": [
      "Epoch 1/10\n",
      "3/3 [==============================] - 0s 72ms/step - loss: 1.1176 - sparse_categorical_accuracy: 0.7826\n",
      "Epoch 2/10\n",
      "3/3 [==============================] - 0s 73ms/step - loss: 1.0075 - sparse_categorical_accuracy: 0.8696\n",
      "Epoch 3/10\n",
      "3/3 [==============================] - 0s 83ms/step - loss: 1.0565 - sparse_categorical_accuracy: 0.8696\n",
      "Epoch 4/10\n",
      "3/3 [==============================] - 0s 83ms/step - loss: 0.9921 - sparse_categorical_accuracy: 0.9565\n",
      "Epoch 5/10\n",
      "3/3 [==============================] - 0s 73ms/step - loss: 1.2433 - sparse_categorical_accuracy: 0.8696\n",
      "Epoch 6/10\n",
      "3/3 [==============================] - 0s 78ms/step - loss: 0.8800 - sparse_categorical_accuracy: 0.9565\n",
      "Epoch 7/10\n",
      "3/3 [==============================] - 0s 73ms/step - loss: 0.7817 - sparse_categorical_accuracy: 1.0000\n",
      "Epoch 8/10\n",
      "3/3 [==============================] - 0s 78ms/step - loss: 0.8372 - sparse_categorical_accuracy: 0.9130\n",
      "Epoch 9/10\n",
      "3/3 [==============================] - 0s 73ms/step - loss: 0.7086 - sparse_categorical_accuracy: 0.9130\n",
      "Epoch 10/10\n",
      "3/3 [==============================] - 0s 78ms/step - loss: 0.8865 - sparse_categorical_accuracy: 0.8696\n"
     ]
    },
    {
     "name": "stderr",
     "output_type": "stream",
     "text": [
      "\r",
      "20it [02:50,  8.56s/it]"
     ]
    },
    {
     "name": "stdout",
     "output_type": "stream",
     "text": [
      "Epoch 1/10\n",
      "3/3 [==============================] - 0s 79ms/step - loss: 0.9741 - sparse_categorical_accuracy: 0.6957\n",
      "Epoch 2/10\n",
      "3/3 [==============================] - 0s 88ms/step - loss: 0.9141 - sparse_categorical_accuracy: 0.9130\n",
      "Epoch 3/10\n",
      "3/3 [==============================] - 0s 87ms/step - loss: 1.2009 - sparse_categorical_accuracy: 0.7826\n",
      "Epoch 4/10\n",
      "3/3 [==============================] - 0s 84ms/step - loss: 1.3682 - sparse_categorical_accuracy: 0.7391\n",
      "Epoch 5/10\n",
      "3/3 [==============================] - 0s 83ms/step - loss: 1.1510 - sparse_categorical_accuracy: 0.7826\n",
      "Epoch 6/10\n",
      "3/3 [==============================] - 0s 85ms/step - loss: 0.9708 - sparse_categorical_accuracy: 0.8696\n",
      "Epoch 7/10\n",
      "3/3 [==============================] - 0s 85ms/step - loss: 0.9465 - sparse_categorical_accuracy: 0.8696\n",
      "Epoch 8/10\n",
      "3/3 [==============================] - 0s 85ms/step - loss: 0.8618 - sparse_categorical_accuracy: 0.9130\n",
      "Epoch 9/10\n",
      "3/3 [==============================] - 0s 92ms/step - loss: 1.1874 - sparse_categorical_accuracy: 0.8261\n",
      "Epoch 10/10\n",
      "3/3 [==============================] - 0s 87ms/step - loss: 1.2371 - sparse_categorical_accuracy: 0.7826\n"
     ]
    },
    {
     "name": "stderr",
     "output_type": "stream",
     "text": [
      "\r",
      "21it [02:59,  8.69s/it]"
     ]
    },
    {
     "name": "stdout",
     "output_type": "stream",
     "text": [
      "Epoch 1/10\n",
      "3/3 [==============================] - 0s 71ms/step - loss: 1.1037 - sparse_categorical_accuracy: 0.6957\n",
      "Epoch 2/10\n",
      "3/3 [==============================] - 0s 81ms/step - loss: 1.1095 - sparse_categorical_accuracy: 0.6522\n",
      "Epoch 3/10\n",
      "3/3 [==============================] - 0s 85ms/step - loss: 1.1743 - sparse_categorical_accuracy: 0.7391\n",
      "Epoch 4/10\n",
      "3/3 [==============================] - 0s 77ms/step - loss: 0.9923 - sparse_categorical_accuracy: 0.8696\n",
      "Epoch 5/10\n",
      "3/3 [==============================] - 0s 73ms/step - loss: 0.7956 - sparse_categorical_accuracy: 1.0000\n",
      "Epoch 6/10\n",
      "3/3 [==============================] - 0s 77ms/step - loss: 0.9424 - sparse_categorical_accuracy: 0.9130\n",
      "Epoch 7/10\n",
      "3/3 [==============================] - 0s 73ms/step - loss: 0.6203 - sparse_categorical_accuracy: 1.0000\n",
      "Epoch 8/10\n",
      "3/3 [==============================] - 0s 79ms/step - loss: 0.8762 - sparse_categorical_accuracy: 0.9130\n",
      "Epoch 9/10\n",
      "3/3 [==============================] - 0s 78ms/step - loss: 0.8239 - sparse_categorical_accuracy: 0.8696\n",
      "Epoch 10/10\n",
      "3/3 [==============================] - 0s 73ms/step - loss: 0.9807 - sparse_categorical_accuracy: 0.7826\n"
     ]
    },
    {
     "name": "stderr",
     "output_type": "stream",
     "text": [
      "\r",
      "22it [03:08,  8.63s/it]"
     ]
    },
    {
     "name": "stdout",
     "output_type": "stream",
     "text": [
      "Epoch 1/10\n",
      "3/3 [==============================] - 0s 72ms/step - loss: 1.1085 - sparse_categorical_accuracy: 0.8261\n",
      "Epoch 2/10\n",
      "3/3 [==============================] - 0s 74ms/step - loss: 1.3673 - sparse_categorical_accuracy: 0.6087\n",
      "Epoch 3/10\n",
      "3/3 [==============================] - 0s 74ms/step - loss: 0.9248 - sparse_categorical_accuracy: 0.9565\n",
      "Epoch 4/10\n",
      "3/3 [==============================] - 0s 76ms/step - loss: 1.2232 - sparse_categorical_accuracy: 0.8696\n",
      "Epoch 5/10\n",
      "3/3 [==============================] - 0s 76ms/step - loss: 1.0178 - sparse_categorical_accuracy: 0.9130\n",
      "Epoch 6/10\n",
      "3/3 [==============================] - 0s 82ms/step - loss: 0.9641 - sparse_categorical_accuracy: 0.9130\n",
      "Epoch 7/10\n",
      "3/3 [==============================] - 0s 77ms/step - loss: 1.0509 - sparse_categorical_accuracy: 0.8696\n",
      "Epoch 8/10\n",
      "3/3 [==============================] - 0s 73ms/step - loss: 0.7430 - sparse_categorical_accuracy: 1.0000\n",
      "Epoch 9/10\n",
      "3/3 [==============================] - 0s 81ms/step - loss: 0.7090 - sparse_categorical_accuracy: 0.9130\n",
      "Epoch 10/10\n",
      "3/3 [==============================] - 0s 72ms/step - loss: 0.5689 - sparse_categorical_accuracy: 1.0000\n"
     ]
    },
    {
     "name": "stderr",
     "output_type": "stream",
     "text": [
      "\r",
      "23it [03:17,  8.67s/it]"
     ]
    },
    {
     "name": "stdout",
     "output_type": "stream",
     "text": [
      "Epoch 1/10\n",
      "3/3 [==============================] - 0s 77ms/step - loss: 1.1845 - sparse_categorical_accuracy: 0.6957\n",
      "Epoch 2/10\n",
      "3/3 [==============================] - 0s 76ms/step - loss: 1.2284 - sparse_categorical_accuracy: 0.6957\n",
      "Epoch 3/10\n",
      "3/3 [==============================] - 0s 74ms/step - loss: 1.0004 - sparse_categorical_accuracy: 0.8261\n",
      "Epoch 4/10\n",
      "3/3 [==============================] - 0s 78ms/step - loss: 1.0296 - sparse_categorical_accuracy: 0.8261\n",
      "Epoch 5/10\n",
      "3/3 [==============================] - 0s 73ms/step - loss: 0.9599 - sparse_categorical_accuracy: 0.9565\n",
      "Epoch 6/10\n",
      "3/3 [==============================] - 0s 79ms/step - loss: 1.1792 - sparse_categorical_accuracy: 0.9130\n",
      "Epoch 7/10\n",
      "3/3 [==============================] - 0s 77ms/step - loss: 1.0434 - sparse_categorical_accuracy: 0.8261\n",
      "Epoch 8/10\n",
      "3/3 [==============================] - 0s 80ms/step - loss: 0.9821 - sparse_categorical_accuracy: 0.8696\n",
      "Epoch 9/10\n",
      "3/3 [==============================] - 0s 87ms/step - loss: 0.8492 - sparse_categorical_accuracy: 0.8696\n",
      "Epoch 10/10\n",
      "3/3 [==============================] - 0s 78ms/step - loss: 0.6514 - sparse_categorical_accuracy: 1.0000\n"
     ]
    },
    {
     "name": "stderr",
     "output_type": "stream",
     "text": [
      "24it [03:25,  8.57s/it]\n",
      "0it [00:00, ?it/s]"
     ]
    },
    {
     "name": "stdout",
     "output_type": "stream",
     "text": [
      "Epoch 1/10\n",
      "WARNING:tensorflow:Model was constructed with shape (None, 270, 3) for input Tensor(\"input_25:0\", shape=(None, 270, 3), dtype=float32), but it was called on an input with incompatible shape (None, 240, 3).\n",
      "WARNING:tensorflow:Model was constructed with shape (None, 270, 3) for input Tensor(\"input_25:0\", shape=(None, 270, 3), dtype=float32), but it was called on an input with incompatible shape (None, 240, 3).\n",
      "3/3 [==============================] - 0s 66ms/step - loss: 1.3574 - sparse_categorical_accuracy: 0.5652\n",
      "Epoch 2/10\n",
      "3/3 [==============================] - 0s 62ms/step - loss: 1.0006 - sparse_categorical_accuracy: 0.7826\n",
      "Epoch 3/10\n",
      "3/3 [==============================] - 0s 66ms/step - loss: 1.2496 - sparse_categorical_accuracy: 0.8261\n",
      "Epoch 4/10\n",
      "3/3 [==============================] - 0s 61ms/step - loss: 0.9566 - sparse_categorical_accuracy: 0.9565\n",
      "Epoch 5/10\n",
      "3/3 [==============================] - 0s 73ms/step - loss: 1.1729 - sparse_categorical_accuracy: 0.8261\n",
      "Epoch 6/10\n",
      "3/3 [==============================] - 0s 63ms/step - loss: 1.1881 - sparse_categorical_accuracy: 0.7391\n",
      "Epoch 7/10\n",
      "3/3 [==============================] - 0s 72ms/step - loss: 0.8290 - sparse_categorical_accuracy: 1.0000\n",
      "Epoch 8/10\n",
      "3/3 [==============================] - 0s 66ms/step - loss: 0.8872 - sparse_categorical_accuracy: 0.9130\n",
      "Epoch 9/10\n",
      "3/3 [==============================] - 0s 68ms/step - loss: 0.8228 - sparse_categorical_accuracy: 0.8696\n",
      "Epoch 10/10\n",
      "3/3 [==============================] - 0s 69ms/step - loss: 0.6040 - sparse_categorical_accuracy: 0.9565\n",
      "WARNING:tensorflow:Model was constructed with shape (None, 270, 3) for input Tensor(\"input_25:0\", shape=(None, 270, 3), dtype=float32), but it was called on an input with incompatible shape (None, 240, 3).\n"
     ]
    },
    {
     "name": "stderr",
     "output_type": "stream",
     "text": [
      "\r",
      "1it [00:07,  7.97s/it]"
     ]
    },
    {
     "name": "stdout",
     "output_type": "stream",
     "text": [
      "Epoch 1/10\n",
      "WARNING:tensorflow:Model was constructed with shape (None, 270, 3) for input Tensor(\"input_26:0\", shape=(None, 270, 3), dtype=float32), but it was called on an input with incompatible shape (None, 240, 3).\n",
      "WARNING:tensorflow:Model was constructed with shape (None, 270, 3) for input Tensor(\"input_26:0\", shape=(None, 270, 3), dtype=float32), but it was called on an input with incompatible shape (None, 240, 3).\n",
      "3/3 [==============================] - 0s 71ms/step - loss: 1.0834 - sparse_categorical_accuracy: 0.7391\n",
      "Epoch 2/10\n",
      "3/3 [==============================] - 0s 71ms/step - loss: 0.9528 - sparse_categorical_accuracy: 0.8261\n",
      "Epoch 3/10\n",
      "3/3 [==============================] - 0s 77ms/step - loss: 0.9584 - sparse_categorical_accuracy: 0.9565\n",
      "Epoch 4/10\n",
      "3/3 [==============================] - 0s 66ms/step - loss: 0.9474 - sparse_categorical_accuracy: 0.9565\n",
      "Epoch 5/10\n",
      "3/3 [==============================] - 0s 72ms/step - loss: 0.8507 - sparse_categorical_accuracy: 0.8696\n",
      "Epoch 6/10\n",
      "3/3 [==============================] - 0s 68ms/step - loss: 1.0176 - sparse_categorical_accuracy: 0.8261\n",
      "Epoch 7/10\n",
      "3/3 [==============================] - 0s 70ms/step - loss: 0.5985 - sparse_categorical_accuracy: 1.0000\n",
      "Epoch 8/10\n",
      "3/3 [==============================] - 0s 79ms/step - loss: 0.5722 - sparse_categorical_accuracy: 1.0000\n",
      "Epoch 9/10\n",
      "3/3 [==============================] - 0s 73ms/step - loss: 0.6541 - sparse_categorical_accuracy: 0.9565\n",
      "Epoch 10/10\n",
      "3/3 [==============================] - 0s 59ms/step - loss: 0.6975 - sparse_categorical_accuracy: 0.9565\n",
      "WARNING:tensorflow:Model was constructed with shape (None, 270, 3) for input Tensor(\"input_26:0\", shape=(None, 270, 3), dtype=float32), but it was called on an input with incompatible shape (None, 240, 3).\n"
     ]
    },
    {
     "name": "stderr",
     "output_type": "stream",
     "text": [
      "\r",
      "2it [00:16,  8.10s/it]"
     ]
    },
    {
     "name": "stdout",
     "output_type": "stream",
     "text": [
      "Epoch 1/10\n",
      "WARNING:tensorflow:Model was constructed with shape (None, 270, 3) for input Tensor(\"input_27:0\", shape=(None, 270, 3), dtype=float32), but it was called on an input with incompatible shape (None, 240, 3).\n",
      "WARNING:tensorflow:Model was constructed with shape (None, 270, 3) for input Tensor(\"input_27:0\", shape=(None, 270, 3), dtype=float32), but it was called on an input with incompatible shape (None, 240, 3).\n",
      "3/3 [==============================] - 0s 62ms/step - loss: 1.0051 - sparse_categorical_accuracy: 0.7826\n",
      "Epoch 2/10\n",
      "3/3 [==============================] - 0s 70ms/step - loss: 0.9487 - sparse_categorical_accuracy: 0.7826\n",
      "Epoch 3/10\n",
      "3/3 [==============================] - 0s 68ms/step - loss: 1.3034 - sparse_categorical_accuracy: 0.7391\n",
      "Epoch 4/10\n",
      "3/3 [==============================] - 0s 62ms/step - loss: 1.2774 - sparse_categorical_accuracy: 0.8261\n",
      "Epoch 5/10\n",
      "3/3 [==============================] - 0s 63ms/step - loss: 0.9915 - sparse_categorical_accuracy: 0.9130\n",
      "Epoch 6/10\n",
      "3/3 [==============================] - 0s 68ms/step - loss: 0.9571 - sparse_categorical_accuracy: 0.8696\n",
      "Epoch 7/10\n",
      "3/3 [==============================] - 0s 74ms/step - loss: 0.8860 - sparse_categorical_accuracy: 0.9565\n",
      "Epoch 8/10\n",
      "3/3 [==============================] - 0s 71ms/step - loss: 0.7957 - sparse_categorical_accuracy: 0.9130\n",
      "Epoch 9/10\n",
      "3/3 [==============================] - 0s 62ms/step - loss: 0.7262 - sparse_categorical_accuracy: 0.9130\n",
      "Epoch 10/10\n",
      "3/3 [==============================] - 0s 72ms/step - loss: 0.5347 - sparse_categorical_accuracy: 1.0000\n",
      "WARNING:tensorflow:Model was constructed with shape (None, 270, 3) for input Tensor(\"input_27:0\", shape=(None, 270, 3), dtype=float32), but it was called on an input with incompatible shape (None, 240, 3).\n"
     ]
    },
    {
     "name": "stderr",
     "output_type": "stream",
     "text": [
      "\r",
      "3it [00:24,  8.03s/it]"
     ]
    },
    {
     "name": "stdout",
     "output_type": "stream",
     "text": [
      "Epoch 1/10\n",
      "WARNING:tensorflow:Model was constructed with shape (None, 270, 3) for input Tensor(\"input_28:0\", shape=(None, 270, 3), dtype=float32), but it was called on an input with incompatible shape (None, 240, 3).\n",
      "WARNING:tensorflow:Model was constructed with shape (None, 270, 3) for input Tensor(\"input_28:0\", shape=(None, 270, 3), dtype=float32), but it was called on an input with incompatible shape (None, 240, 3).\n",
      "3/3 [==============================] - 0s 69ms/step - loss: 1.3521 - sparse_categorical_accuracy: 0.5652\n",
      "Epoch 2/10\n",
      "3/3 [==============================] - 0s 66ms/step - loss: 1.0712 - sparse_categorical_accuracy: 0.8261\n",
      "Epoch 3/10\n",
      "3/3 [==============================] - 0s 65ms/step - loss: 1.1066 - sparse_categorical_accuracy: 0.8261\n",
      "Epoch 4/10\n",
      "3/3 [==============================] - 0s 68ms/step - loss: 0.9226 - sparse_categorical_accuracy: 1.0000\n",
      "Epoch 5/10\n",
      "3/3 [==============================] - 0s 62ms/step - loss: 1.0230 - sparse_categorical_accuracy: 0.9130\n",
      "Epoch 6/10\n",
      "3/3 [==============================] - 0s 67ms/step - loss: 0.9366 - sparse_categorical_accuracy: 0.9565\n",
      "Epoch 7/10\n",
      "3/3 [==============================] - 0s 67ms/step - loss: 1.0568 - sparse_categorical_accuracy: 0.8261\n",
      "Epoch 8/10\n",
      "3/3 [==============================] - 0s 62ms/step - loss: 0.7298 - sparse_categorical_accuracy: 0.9130\n",
      "Epoch 9/10\n",
      "3/3 [==============================] - 0s 68ms/step - loss: 0.7595 - sparse_categorical_accuracy: 0.9565\n",
      "Epoch 10/10\n",
      "3/3 [==============================] - 0s 75ms/step - loss: 0.6679 - sparse_categorical_accuracy: 0.8261\n",
      "WARNING:tensorflow:Model was constructed with shape (None, 270, 3) for input Tensor(\"input_28:0\", shape=(None, 270, 3), dtype=float32), but it was called on an input with incompatible shape (None, 240, 3).\n"
     ]
    },
    {
     "name": "stderr",
     "output_type": "stream",
     "text": [
      "\r",
      "4it [00:32,  8.13s/it]"
     ]
    },
    {
     "name": "stdout",
     "output_type": "stream",
     "text": [
      "Epoch 1/10\n",
      "WARNING:tensorflow:Model was constructed with shape (None, 270, 3) for input Tensor(\"input_29:0\", shape=(None, 270, 3), dtype=float32), but it was called on an input with incompatible shape (None, 240, 3).\n",
      "WARNING:tensorflow:Model was constructed with shape (None, 270, 3) for input Tensor(\"input_29:0\", shape=(None, 270, 3), dtype=float32), but it was called on an input with incompatible shape (None, 240, 3).\n",
      "3/3 [==============================] - 0s 75ms/step - loss: 1.3341 - sparse_categorical_accuracy: 0.6522\n",
      "Epoch 2/10\n",
      "3/3 [==============================] - 0s 65ms/step - loss: 1.0279 - sparse_categorical_accuracy: 0.7826\n",
      "Epoch 3/10\n",
      "3/3 [==============================] - 0s 64ms/step - loss: 1.0659 - sparse_categorical_accuracy: 0.9130\n",
      "Epoch 4/10\n",
      "3/3 [==============================] - 0s 60ms/step - loss: 1.2618 - sparse_categorical_accuracy: 0.8696\n",
      "Epoch 5/10\n",
      "3/3 [==============================] - 0s 61ms/step - loss: 1.0637 - sparse_categorical_accuracy: 0.8261\n",
      "Epoch 6/10\n",
      "3/3 [==============================] - 0s 61ms/step - loss: 0.7580 - sparse_categorical_accuracy: 1.0000\n",
      "Epoch 7/10\n",
      "3/3 [==============================] - 0s 71ms/step - loss: 0.6718 - sparse_categorical_accuracy: 1.0000\n",
      "Epoch 8/10\n",
      "3/3 [==============================] - 0s 68ms/step - loss: 0.9212 - sparse_categorical_accuracy: 0.8696\n",
      "Epoch 9/10\n",
      "3/3 [==============================] - 0s 69ms/step - loss: 0.5419 - sparse_categorical_accuracy: 1.0000\n",
      "Epoch 10/10\n",
      "3/3 [==============================] - 0s 64ms/step - loss: 0.5668 - sparse_categorical_accuracy: 1.0000\n",
      "WARNING:tensorflow:Model was constructed with shape (None, 270, 3) for input Tensor(\"input_29:0\", shape=(None, 270, 3), dtype=float32), but it was called on an input with incompatible shape (None, 240, 3).\n"
     ]
    },
    {
     "name": "stderr",
     "output_type": "stream",
     "text": [
      "\r",
      "5it [00:40,  8.08s/it]"
     ]
    },
    {
     "name": "stdout",
     "output_type": "stream",
     "text": [
      "Epoch 1/10\n",
      "WARNING:tensorflow:Model was constructed with shape (None, 270, 3) for input Tensor(\"input_30:0\", shape=(None, 270, 3), dtype=float32), but it was called on an input with incompatible shape (None, 240, 3).\n",
      "WARNING:tensorflow:Model was constructed with shape (None, 270, 3) for input Tensor(\"input_30:0\", shape=(None, 270, 3), dtype=float32), but it was called on an input with incompatible shape (None, 240, 3).\n",
      "3/3 [==============================] - 0s 72ms/step - loss: 1.4035 - sparse_categorical_accuracy: 0.5652\n",
      "Epoch 2/10\n",
      "3/3 [==============================] - 0s 68ms/step - loss: 0.9385 - sparse_categorical_accuracy: 0.7826\n",
      "Epoch 3/10\n",
      "3/3 [==============================] - 0s 60ms/step - loss: 0.8200 - sparse_categorical_accuracy: 0.9565\n",
      "Epoch 4/10\n",
      "3/3 [==============================] - 0s 73ms/step - loss: 1.3048 - sparse_categorical_accuracy: 0.7826\n",
      "Epoch 5/10\n",
      "3/3 [==============================] - 0s 63ms/step - loss: 1.2481 - sparse_categorical_accuracy: 0.7826\n",
      "Epoch 6/10\n",
      "3/3 [==============================] - 0s 67ms/step - loss: 1.1227 - sparse_categorical_accuracy: 0.8261\n",
      "Epoch 7/10\n",
      "3/3 [==============================] - 0s 62ms/step - loss: 0.8572 - sparse_categorical_accuracy: 0.9130\n",
      "Epoch 8/10\n",
      "3/3 [==============================] - 0s 65ms/step - loss: 0.9513 - sparse_categorical_accuracy: 0.8261\n",
      "Epoch 9/10\n",
      "3/3 [==============================] - 0s 67ms/step - loss: 0.8460 - sparse_categorical_accuracy: 0.9130\n",
      "Epoch 10/10\n",
      "3/3 [==============================] - 0s 67ms/step - loss: 0.7393 - sparse_categorical_accuracy: 0.9130\n",
      "WARNING:tensorflow:Model was constructed with shape (None, 270, 3) for input Tensor(\"input_30:0\", shape=(None, 270, 3), dtype=float32), but it was called on an input with incompatible shape (None, 240, 3).\n"
     ]
    },
    {
     "name": "stderr",
     "output_type": "stream",
     "text": [
      "\r",
      "6it [00:48,  8.04s/it]"
     ]
    },
    {
     "name": "stdout",
     "output_type": "stream",
     "text": [
      "Epoch 1/10\n",
      "WARNING:tensorflow:Model was constructed with shape (None, 270, 3) for input Tensor(\"input_31:0\", shape=(None, 270, 3), dtype=float32), but it was called on an input with incompatible shape (None, 240, 3).\n",
      "WARNING:tensorflow:Model was constructed with shape (None, 270, 3) for input Tensor(\"input_31:0\", shape=(None, 270, 3), dtype=float32), but it was called on an input with incompatible shape (None, 240, 3).\n",
      "3/3 [==============================] - 0s 68ms/step - loss: 1.4422 - sparse_categorical_accuracy: 0.5217\n",
      "Epoch 2/10\n",
      "3/3 [==============================] - 0s 72ms/step - loss: 0.8707 - sparse_categorical_accuracy: 0.9130\n",
      "Epoch 3/10\n",
      "3/3 [==============================] - 0s 68ms/step - loss: 0.9486 - sparse_categorical_accuracy: 0.9130\n",
      "Epoch 4/10\n",
      "3/3 [==============================] - 0s 58ms/step - loss: 0.8831 - sparse_categorical_accuracy: 0.9565\n",
      "Epoch 5/10\n",
      "3/3 [==============================] - 0s 68ms/step - loss: 0.8398 - sparse_categorical_accuracy: 1.0000\n",
      "Epoch 6/10\n",
      "3/3 [==============================] - 0s 68ms/step - loss: 0.6923 - sparse_categorical_accuracy: 1.0000\n",
      "Epoch 7/10\n",
      "3/3 [==============================] - 0s 67ms/step - loss: 0.7250 - sparse_categorical_accuracy: 0.9130\n",
      "Epoch 8/10\n",
      "3/3 [==============================] - 0s 75ms/step - loss: 0.5681 - sparse_categorical_accuracy: 1.0000\n",
      "Epoch 9/10\n",
      "3/3 [==============================] - 0s 62ms/step - loss: 0.8650 - sparse_categorical_accuracy: 0.8696\n",
      "Epoch 10/10\n",
      "3/3 [==============================] - 0s 68ms/step - loss: 0.6412 - sparse_categorical_accuracy: 0.9130\n",
      "WARNING:tensorflow:Model was constructed with shape (None, 270, 3) for input Tensor(\"input_31:0\", shape=(None, 270, 3), dtype=float32), but it was called on an input with incompatible shape (None, 240, 3).\n"
     ]
    },
    {
     "name": "stderr",
     "output_type": "stream",
     "text": [
      "\r",
      "7it [00:57,  8.17s/it]"
     ]
    },
    {
     "name": "stdout",
     "output_type": "stream",
     "text": [
      "Epoch 1/10\n",
      "WARNING:tensorflow:Model was constructed with shape (None, 270, 3) for input Tensor(\"input_32:0\", shape=(None, 270, 3), dtype=float32), but it was called on an input with incompatible shape (None, 240, 3).\n",
      "WARNING:tensorflow:Model was constructed with shape (None, 270, 3) for input Tensor(\"input_32:0\", shape=(None, 270, 3), dtype=float32), but it was called on an input with incompatible shape (None, 240, 3).\n",
      "3/3 [==============================] - 0s 59ms/step - loss: 1.2728 - sparse_categorical_accuracy: 0.4783\n",
      "Epoch 2/10\n",
      "3/3 [==============================] - 0s 79ms/step - loss: 0.8968 - sparse_categorical_accuracy: 0.9130\n",
      "Epoch 3/10\n",
      "3/3 [==============================] - 0s 73ms/step - loss: 1.1961 - sparse_categorical_accuracy: 0.9130\n",
      "Epoch 4/10\n",
      "3/3 [==============================] - 0s 68ms/step - loss: 1.1167 - sparse_categorical_accuracy: 0.9565\n",
      "Epoch 5/10\n",
      "3/3 [==============================] - 0s 67ms/step - loss: 0.8629 - sparse_categorical_accuracy: 0.9565\n",
      "Epoch 6/10\n",
      "3/3 [==============================] - 0s 68ms/step - loss: 0.7239 - sparse_categorical_accuracy: 0.9565\n",
      "Epoch 7/10\n",
      "3/3 [==============================] - 0s 70ms/step - loss: 0.7061 - sparse_categorical_accuracy: 0.9130\n",
      "Epoch 8/10\n",
      "3/3 [==============================] - 0s 81ms/step - loss: 0.5735 - sparse_categorical_accuracy: 0.9565\n",
      "Epoch 9/10\n",
      "3/3 [==============================] - 0s 70ms/step - loss: 0.5113 - sparse_categorical_accuracy: 0.9565\n",
      "Epoch 10/10\n",
      "3/3 [==============================] - 0s 65ms/step - loss: 0.5029 - sparse_categorical_accuracy: 0.9565\n",
      "WARNING:tensorflow:Model was constructed with shape (None, 270, 3) for input Tensor(\"input_32:0\", shape=(None, 270, 3), dtype=float32), but it was called on an input with incompatible shape (None, 240, 3).\n"
     ]
    },
    {
     "name": "stderr",
     "output_type": "stream",
     "text": [
      "\r",
      "8it [01:05,  8.18s/it]"
     ]
    },
    {
     "name": "stdout",
     "output_type": "stream",
     "text": [
      "Epoch 1/10\n",
      "WARNING:tensorflow:Model was constructed with shape (None, 270, 3) for input Tensor(\"input_33:0\", shape=(None, 270, 3), dtype=float32), but it was called on an input with incompatible shape (None, 240, 3).\n",
      "WARNING:tensorflow:Model was constructed with shape (None, 270, 3) for input Tensor(\"input_33:0\", shape=(None, 270, 3), dtype=float32), but it was called on an input with incompatible shape (None, 240, 3).\n",
      "3/3 [==============================] - 0s 66ms/step - loss: 1.3982 - sparse_categorical_accuracy: 0.5652\n",
      "Epoch 2/10\n",
      "3/3 [==============================] - 0s 74ms/step - loss: 1.0159 - sparse_categorical_accuracy: 0.7391\n",
      "Epoch 3/10\n",
      "3/3 [==============================] - 0s 65ms/step - loss: 1.1331 - sparse_categorical_accuracy: 0.7826\n",
      "Epoch 4/10\n",
      "3/3 [==============================] - 0s 69ms/step - loss: 1.0747 - sparse_categorical_accuracy: 0.8696\n",
      "Epoch 5/10\n",
      "3/3 [==============================] - 0s 67ms/step - loss: 0.9328 - sparse_categorical_accuracy: 1.0000\n",
      "Epoch 6/10\n",
      "3/3 [==============================] - 0s 67ms/step - loss: 0.9801 - sparse_categorical_accuracy: 0.9565\n",
      "Epoch 7/10\n",
      "3/3 [==============================] - 0s 84ms/step - loss: 0.9501 - sparse_categorical_accuracy: 0.9130\n",
      "Epoch 8/10\n",
      "3/3 [==============================] - 0s 60ms/step - loss: 0.8734 - sparse_categorical_accuracy: 0.9565\n",
      "Epoch 9/10\n",
      "3/3 [==============================] - 0s 70ms/step - loss: 0.8672 - sparse_categorical_accuracy: 0.8696\n",
      "Epoch 10/10\n",
      "3/3 [==============================] - 0s 70ms/step - loss: 0.6053 - sparse_categorical_accuracy: 0.9565\n",
      "WARNING:tensorflow:Model was constructed with shape (None, 270, 3) for input Tensor(\"input_33:0\", shape=(None, 270, 3), dtype=float32), but it was called on an input with incompatible shape (None, 240, 3).\n"
     ]
    },
    {
     "name": "stderr",
     "output_type": "stream",
     "text": [
      "\r",
      "9it [01:13,  8.16s/it]"
     ]
    },
    {
     "name": "stdout",
     "output_type": "stream",
     "text": [
      "Epoch 1/10\n",
      "WARNING:tensorflow:Model was constructed with shape (None, 270, 3) for input Tensor(\"input_34:0\", shape=(None, 270, 3), dtype=float32), but it was called on an input with incompatible shape (None, 240, 3).\n",
      "WARNING:tensorflow:Model was constructed with shape (None, 270, 3) for input Tensor(\"input_34:0\", shape=(None, 270, 3), dtype=float32), but it was called on an input with incompatible shape (None, 240, 3).\n",
      "3/3 [==============================] - 0s 75ms/step - loss: 1.3800 - sparse_categorical_accuracy: 0.6087\n",
      "Epoch 2/10\n",
      "3/3 [==============================] - 0s 69ms/step - loss: 1.0480 - sparse_categorical_accuracy: 0.7391\n",
      "Epoch 3/10\n",
      "3/3 [==============================] - 0s 66ms/step - loss: 1.1368 - sparse_categorical_accuracy: 0.8261\n",
      "Epoch 4/10\n",
      "3/3 [==============================] - 0s 69ms/step - loss: 1.0737 - sparse_categorical_accuracy: 0.7826\n",
      "Epoch 5/10\n",
      "3/3 [==============================] - 0s 68ms/step - loss: 1.0979 - sparse_categorical_accuracy: 0.8261\n",
      "Epoch 6/10\n",
      "3/3 [==============================] - 0s 71ms/step - loss: 0.8225 - sparse_categorical_accuracy: 0.9565\n",
      "Epoch 7/10\n",
      "3/3 [==============================] - 0s 66ms/step - loss: 0.7935 - sparse_categorical_accuracy: 0.9130\n",
      "Epoch 8/10\n",
      "3/3 [==============================] - 0s 58ms/step - loss: 0.8415 - sparse_categorical_accuracy: 0.8696\n",
      "Epoch 9/10\n",
      "3/3 [==============================] - 0s 68ms/step - loss: 0.8566 - sparse_categorical_accuracy: 0.7826\n",
      "Epoch 10/10\n",
      "3/3 [==============================] - 0s 62ms/step - loss: 0.6136 - sparse_categorical_accuracy: 0.9565\n",
      "WARNING:tensorflow:Model was constructed with shape (None, 270, 3) for input Tensor(\"input_34:0\", shape=(None, 270, 3), dtype=float32), but it was called on an input with incompatible shape (None, 240, 3).\n"
     ]
    },
    {
     "name": "stderr",
     "output_type": "stream",
     "text": [
      "\r",
      "10it [01:21,  8.25s/it]"
     ]
    },
    {
     "name": "stdout",
     "output_type": "stream",
     "text": [
      "Epoch 1/10\n",
      "WARNING:tensorflow:Model was constructed with shape (None, 270, 3) for input Tensor(\"input_35:0\", shape=(None, 270, 3), dtype=float32), but it was called on an input with incompatible shape (None, 240, 3).\n",
      "WARNING:tensorflow:Model was constructed with shape (None, 270, 3) for input Tensor(\"input_35:0\", shape=(None, 270, 3), dtype=float32), but it was called on an input with incompatible shape (None, 240, 3).\n",
      "3/3 [==============================] - 0s 67ms/step - loss: 1.3292 - sparse_categorical_accuracy: 0.5217\n",
      "Epoch 2/10\n",
      "3/3 [==============================] - 0s 67ms/step - loss: 0.8817 - sparse_categorical_accuracy: 0.9130\n",
      "Epoch 3/10\n",
      "3/3 [==============================] - 0s 68ms/step - loss: 1.0950 - sparse_categorical_accuracy: 0.8261\n",
      "Epoch 4/10\n",
      "3/3 [==============================] - 0s 66ms/step - loss: 1.6445 - sparse_categorical_accuracy: 0.6087\n",
      "Epoch 5/10\n",
      "3/3 [==============================] - 0s 66ms/step - loss: 1.2054 - sparse_categorical_accuracy: 0.8261\n",
      "Epoch 6/10\n",
      "3/3 [==============================] - 0s 71ms/step - loss: 1.1204 - sparse_categorical_accuracy: 0.8261\n",
      "Epoch 7/10\n",
      "3/3 [==============================] - 0s 75ms/step - loss: 0.9451 - sparse_categorical_accuracy: 0.9130\n",
      "Epoch 8/10\n",
      "3/3 [==============================] - 0s 73ms/step - loss: 0.7879 - sparse_categorical_accuracy: 0.9565\n",
      "Epoch 9/10\n",
      "3/3 [==============================] - 0s 68ms/step - loss: 0.8627 - sparse_categorical_accuracy: 0.8696\n",
      "Epoch 10/10\n",
      "3/3 [==============================] - 0s 68ms/step - loss: 1.1605 - sparse_categorical_accuracy: 0.7391\n",
      "WARNING:tensorflow:Model was constructed with shape (None, 270, 3) for input Tensor(\"input_35:0\", shape=(None, 270, 3), dtype=float32), but it was called on an input with incompatible shape (None, 240, 3).\n"
     ]
    },
    {
     "name": "stderr",
     "output_type": "stream",
     "text": [
      "\r",
      "11it [01:29,  8.21s/it]"
     ]
    },
    {
     "name": "stdout",
     "output_type": "stream",
     "text": [
      "Epoch 1/10\n",
      "WARNING:tensorflow:Model was constructed with shape (None, 270, 3) for input Tensor(\"input_36:0\", shape=(None, 270, 3), dtype=float32), but it was called on an input with incompatible shape (None, 240, 3).\n",
      "WARNING:tensorflow:Model was constructed with shape (None, 270, 3) for input Tensor(\"input_36:0\", shape=(None, 270, 3), dtype=float32), but it was called on an input with incompatible shape (None, 240, 3).\n",
      "3/3 [==============================] - 0s 66ms/step - loss: 1.1522 - sparse_categorical_accuracy: 0.6522\n",
      "Epoch 2/10\n",
      "3/3 [==============================] - 0s 62ms/step - loss: 0.9974 - sparse_categorical_accuracy: 0.8261\n",
      "Epoch 3/10\n",
      "3/3 [==============================] - 0s 68ms/step - loss: 0.9399 - sparse_categorical_accuracy: 0.8696\n",
      "Epoch 4/10\n",
      "3/3 [==============================] - 0s 68ms/step - loss: 1.0208 - sparse_categorical_accuracy: 0.9130\n",
      "Epoch 5/10\n",
      "3/3 [==============================] - 0s 69ms/step - loss: 0.7895 - sparse_categorical_accuracy: 1.0000\n",
      "Epoch 6/10\n",
      "3/3 [==============================] - 0s 67ms/step - loss: 0.7511 - sparse_categorical_accuracy: 0.9565\n",
      "Epoch 7/10\n",
      "3/3 [==============================] - 0s 61ms/step - loss: 0.9405 - sparse_categorical_accuracy: 0.8696\n",
      "Epoch 8/10\n",
      "3/3 [==============================] - 0s 66ms/step - loss: 0.6695 - sparse_categorical_accuracy: 0.9130\n",
      "Epoch 9/10\n",
      "3/3 [==============================] - 0s 67ms/step - loss: 0.5480 - sparse_categorical_accuracy: 1.0000\n",
      "Epoch 10/10\n",
      "3/3 [==============================] - 0s 67ms/step - loss: 0.5064 - sparse_categorical_accuracy: 1.0000\n",
      "WARNING:tensorflow:Model was constructed with shape (None, 270, 3) for input Tensor(\"input_36:0\", shape=(None, 270, 3), dtype=float32), but it was called on an input with incompatible shape (None, 240, 3).\n"
     ]
    },
    {
     "name": "stderr",
     "output_type": "stream",
     "text": [
      "\r",
      "12it [01:37,  8.14s/it]"
     ]
    },
    {
     "name": "stdout",
     "output_type": "stream",
     "text": [
      "Epoch 1/10\n",
      "WARNING:tensorflow:Model was constructed with shape (None, 270, 3) for input Tensor(\"input_37:0\", shape=(None, 270, 3), dtype=float32), but it was called on an input with incompatible shape (None, 240, 3).\n",
      "WARNING:tensorflow:Model was constructed with shape (None, 270, 3) for input Tensor(\"input_37:0\", shape=(None, 270, 3), dtype=float32), but it was called on an input with incompatible shape (None, 240, 3).\n",
      "3/3 [==============================] - 0s 70ms/step - loss: 1.3608 - sparse_categorical_accuracy: 0.5217\n",
      "Epoch 2/10\n",
      "3/3 [==============================] - 0s 67ms/step - loss: 1.0339 - sparse_categorical_accuracy: 0.7391\n",
      "Epoch 3/10\n",
      "3/3 [==============================] - 0s 78ms/step - loss: 1.0569 - sparse_categorical_accuracy: 0.8261\n",
      "Epoch 4/10\n",
      "3/3 [==============================] - 0s 61ms/step - loss: 0.8396 - sparse_categorical_accuracy: 1.0000\n",
      "Epoch 5/10\n",
      "3/3 [==============================] - 0s 68ms/step - loss: 0.9187 - sparse_categorical_accuracy: 0.8696\n",
      "Epoch 6/10\n",
      "3/3 [==============================] - 0s 69ms/step - loss: 0.7330 - sparse_categorical_accuracy: 0.9565\n",
      "Epoch 7/10\n",
      "3/3 [==============================] - 0s 65ms/step - loss: 0.9410 - sparse_categorical_accuracy: 0.9130\n",
      "Epoch 8/10\n",
      "3/3 [==============================] - 0s 68ms/step - loss: 0.6257 - sparse_categorical_accuracy: 1.0000\n",
      "Epoch 9/10\n",
      "3/3 [==============================] - 0s 68ms/step - loss: 0.5347 - sparse_categorical_accuracy: 0.9565\n",
      "Epoch 10/10\n",
      "3/3 [==============================] - 0s 63ms/step - loss: 0.5444 - sparse_categorical_accuracy: 0.9130\n",
      "WARNING:tensorflow:Model was constructed with shape (None, 270, 3) for input Tensor(\"input_37:0\", shape=(None, 270, 3), dtype=float32), but it was called on an input with incompatible shape (None, 240, 3).\n"
     ]
    },
    {
     "name": "stderr",
     "output_type": "stream",
     "text": [
      "\r",
      "13it [01:46,  8.26s/it]"
     ]
    },
    {
     "name": "stdout",
     "output_type": "stream",
     "text": [
      "Epoch 1/10\n",
      "WARNING:tensorflow:Model was constructed with shape (None, 270, 3) for input Tensor(\"input_38:0\", shape=(None, 270, 3), dtype=float32), but it was called on an input with incompatible shape (None, 240, 3).\n",
      "WARNING:tensorflow:Model was constructed with shape (None, 270, 3) for input Tensor(\"input_38:0\", shape=(None, 270, 3), dtype=float32), but it was called on an input with incompatible shape (None, 240, 3).\n",
      "3/3 [==============================] - 0s 63ms/step - loss: 0.9174 - sparse_categorical_accuracy: 0.8696\n",
      "Epoch 2/10\n",
      "3/3 [==============================] - 0s 69ms/step - loss: 0.9750 - sparse_categorical_accuracy: 0.8261\n",
      "Epoch 3/10\n",
      "3/3 [==============================] - 0s 64ms/step - loss: 0.9978 - sparse_categorical_accuracy: 0.9130\n",
      "Epoch 4/10\n",
      "3/3 [==============================] - 0s 68ms/step - loss: 1.0370 - sparse_categorical_accuracy: 0.9130\n",
      "Epoch 5/10\n",
      "3/3 [==============================] - 0s 63ms/step - loss: 1.1517 - sparse_categorical_accuracy: 0.7826\n",
      "Epoch 6/10\n",
      "3/3 [==============================] - 0s 78ms/step - loss: 0.8988 - sparse_categorical_accuracy: 0.9130\n",
      "Epoch 7/10\n",
      "3/3 [==============================] - 0s 68ms/step - loss: 0.9258 - sparse_categorical_accuracy: 0.9565\n",
      "Epoch 8/10\n",
      "3/3 [==============================] - 0s 78ms/step - loss: 0.6525 - sparse_categorical_accuracy: 1.0000\n",
      "Epoch 9/10\n",
      "3/3 [==============================] - 0s 71ms/step - loss: 1.0907 - sparse_categorical_accuracy: 0.8261\n",
      "Epoch 10/10\n",
      "3/3 [==============================] - 0s 68ms/step - loss: 0.5688 - sparse_categorical_accuracy: 0.9565\n",
      "WARNING:tensorflow:Model was constructed with shape (None, 270, 3) for input Tensor(\"input_38:0\", shape=(None, 270, 3), dtype=float32), but it was called on an input with incompatible shape (None, 240, 3).\n"
     ]
    },
    {
     "name": "stderr",
     "output_type": "stream",
     "text": [
      "\r",
      "14it [01:54,  8.23s/it]"
     ]
    },
    {
     "name": "stdout",
     "output_type": "stream",
     "text": [
      "Epoch 1/10\n",
      "WARNING:tensorflow:Model was constructed with shape (None, 270, 3) for input Tensor(\"input_39:0\", shape=(None, 270, 3), dtype=float32), but it was called on an input with incompatible shape (None, 240, 3).\n",
      "WARNING:tensorflow:Model was constructed with shape (None, 270, 3) for input Tensor(\"input_39:0\", shape=(None, 270, 3), dtype=float32), but it was called on an input with incompatible shape (None, 240, 3).\n",
      "3/3 [==============================] - 0s 65ms/step - loss: 1.4378 - sparse_categorical_accuracy: 0.6087\n",
      "Epoch 2/10\n",
      "3/3 [==============================] - 0s 74ms/step - loss: 1.1688 - sparse_categorical_accuracy: 0.7391\n",
      "Epoch 3/10\n",
      "3/3 [==============================] - 0s 65ms/step - loss: 1.1183 - sparse_categorical_accuracy: 0.6957\n",
      "Epoch 4/10\n",
      "3/3 [==============================] - 0s 82ms/step - loss: 1.1805 - sparse_categorical_accuracy: 0.7826\n",
      "Epoch 5/10\n",
      "3/3 [==============================] - 0s 68ms/step - loss: 1.1043 - sparse_categorical_accuracy: 0.7826\n",
      "Epoch 6/10\n",
      "3/3 [==============================] - 0s 62ms/step - loss: 0.9703 - sparse_categorical_accuracy: 0.8696\n",
      "Epoch 7/10\n",
      "3/3 [==============================] - 0s 78ms/step - loss: 1.0932 - sparse_categorical_accuracy: 0.8696\n",
      "Epoch 8/10\n",
      "3/3 [==============================] - 0s 58ms/step - loss: 0.8169 - sparse_categorical_accuracy: 0.9565\n",
      "Epoch 9/10\n",
      "3/3 [==============================] - 0s 71ms/step - loss: 0.8611 - sparse_categorical_accuracy: 0.9130\n",
      "Epoch 10/10\n",
      "3/3 [==============================] - 0s 67ms/step - loss: 0.5905 - sparse_categorical_accuracy: 1.0000\n",
      "WARNING:tensorflow:Model was constructed with shape (None, 270, 3) for input Tensor(\"input_39:0\", shape=(None, 270, 3), dtype=float32), but it was called on an input with incompatible shape (None, 240, 3).\n"
     ]
    },
    {
     "name": "stderr",
     "output_type": "stream",
     "text": [
      "\r",
      "15it [02:02,  8.22s/it]"
     ]
    },
    {
     "name": "stdout",
     "output_type": "stream",
     "text": [
      "Epoch 1/10\n",
      "WARNING:tensorflow:Model was constructed with shape (None, 270, 3) for input Tensor(\"input_40:0\", shape=(None, 270, 3), dtype=float32), but it was called on an input with incompatible shape (None, 240, 3).\n",
      "WARNING:tensorflow:Model was constructed with shape (None, 270, 3) for input Tensor(\"input_40:0\", shape=(None, 270, 3), dtype=float32), but it was called on an input with incompatible shape (None, 240, 3).\n",
      "3/3 [==============================] - 0s 64ms/step - loss: 1.2837 - sparse_categorical_accuracy: 0.5652\n",
      "Epoch 2/10\n",
      "3/3 [==============================] - 0s 67ms/step - loss: 1.0103 - sparse_categorical_accuracy: 0.7391\n",
      "Epoch 3/10\n",
      "3/3 [==============================] - 0s 56ms/step - loss: 0.9351 - sparse_categorical_accuracy: 0.9565\n",
      "Epoch 4/10\n",
      "3/3 [==============================] - 0s 70ms/step - loss: 1.0273 - sparse_categorical_accuracy: 0.9565\n",
      "Epoch 5/10\n",
      "3/3 [==============================] - 0s 63ms/step - loss: 0.9379 - sparse_categorical_accuracy: 0.9565\n",
      "Epoch 6/10\n",
      "3/3 [==============================] - 0s 68ms/step - loss: 0.8129 - sparse_categorical_accuracy: 0.9130\n",
      "Epoch 7/10\n",
      "3/3 [==============================] - 0s 73ms/step - loss: 0.8929 - sparse_categorical_accuracy: 0.9130\n",
      "Epoch 8/10\n",
      "3/3 [==============================] - 0s 73ms/step - loss: 0.7351 - sparse_categorical_accuracy: 0.9565\n",
      "Epoch 9/10\n",
      "3/3 [==============================] - 0s 66ms/step - loss: 0.9557 - sparse_categorical_accuracy: 0.9130\n",
      "Epoch 10/10\n",
      "3/3 [==============================] - 0s 66ms/step - loss: 0.5155 - sparse_categorical_accuracy: 1.0000\n",
      "WARNING:tensorflow:Model was constructed with shape (None, 270, 3) for input Tensor(\"input_40:0\", shape=(None, 270, 3), dtype=float32), but it was called on an input with incompatible shape (None, 240, 3).\n"
     ]
    },
    {
     "name": "stderr",
     "output_type": "stream",
     "text": [
      "\r",
      "16it [02:11,  8.32s/it]"
     ]
    },
    {
     "name": "stdout",
     "output_type": "stream",
     "text": [
      "Epoch 1/10\n",
      "WARNING:tensorflow:Model was constructed with shape (None, 270, 3) for input Tensor(\"input_41:0\", shape=(None, 270, 3), dtype=float32), but it was called on an input with incompatible shape (None, 240, 3).\n",
      "WARNING:tensorflow:Model was constructed with shape (None, 270, 3) for input Tensor(\"input_41:0\", shape=(None, 270, 3), dtype=float32), but it was called on an input with incompatible shape (None, 240, 3).\n",
      "3/3 [==============================] - 0s 72ms/step - loss: 1.4224 - sparse_categorical_accuracy: 0.5217\n",
      "Epoch 2/10\n",
      "3/3 [==============================] - 0s 68ms/step - loss: 1.0615 - sparse_categorical_accuracy: 0.7826\n",
      "Epoch 3/10\n",
      "3/3 [==============================] - 0s 65ms/step - loss: 1.6419 - sparse_categorical_accuracy: 0.6522\n",
      "Epoch 4/10\n",
      "3/3 [==============================] - 0s 65ms/step - loss: 1.3744 - sparse_categorical_accuracy: 0.7391\n",
      "Epoch 5/10\n",
      "3/3 [==============================] - 0s 69ms/step - loss: 1.0588 - sparse_categorical_accuracy: 0.9565\n",
      "Epoch 6/10\n",
      "3/3 [==============================] - 0s 70ms/step - loss: 0.9972 - sparse_categorical_accuracy: 0.9565\n",
      "Epoch 7/10\n",
      "3/3 [==============================] - 0s 70ms/step - loss: 0.9330 - sparse_categorical_accuracy: 0.8696\n",
      "Epoch 8/10\n",
      "3/3 [==============================] - 0s 70ms/step - loss: 0.7153 - sparse_categorical_accuracy: 0.9565\n",
      "Epoch 9/10\n",
      "3/3 [==============================] - 0s 62ms/step - loss: 0.7548 - sparse_categorical_accuracy: 0.9565\n",
      "Epoch 10/10\n",
      "3/3 [==============================] - 0s 74ms/step - loss: 1.0268 - sparse_categorical_accuracy: 0.8696\n",
      "WARNING:tensorflow:Model was constructed with shape (None, 270, 3) for input Tensor(\"input_41:0\", shape=(None, 270, 3), dtype=float32), but it was called on an input with incompatible shape (None, 240, 3).\n"
     ]
    },
    {
     "name": "stderr",
     "output_type": "stream",
     "text": [
      "\r",
      "17it [02:19,  8.25s/it]"
     ]
    },
    {
     "name": "stdout",
     "output_type": "stream",
     "text": [
      "Epoch 1/10\n",
      "WARNING:tensorflow:Model was constructed with shape (None, 270, 3) for input Tensor(\"input_42:0\", shape=(None, 270, 3), dtype=float32), but it was called on an input with incompatible shape (None, 240, 3).\n",
      "WARNING:tensorflow:Model was constructed with shape (None, 270, 3) for input Tensor(\"input_42:0\", shape=(None, 270, 3), dtype=float32), but it was called on an input with incompatible shape (None, 240, 3).\n",
      "3/3 [==============================] - 0s 68ms/step - loss: 1.2655 - sparse_categorical_accuracy: 0.4783\n",
      "Epoch 2/10\n",
      "3/3 [==============================] - 0s 60ms/step - loss: 1.1282 - sparse_categorical_accuracy: 0.6087\n",
      "Epoch 3/10\n",
      "3/3 [==============================] - 0s 66ms/step - loss: 1.1305 - sparse_categorical_accuracy: 0.8261\n",
      "Epoch 4/10\n",
      "3/3 [==============================] - 0s 62ms/step - loss: 1.0606 - sparse_categorical_accuracy: 0.8696\n",
      "Epoch 5/10\n",
      "3/3 [==============================] - 0s 74ms/step - loss: 1.0302 - sparse_categorical_accuracy: 0.9130\n",
      "Epoch 6/10\n",
      "3/3 [==============================] - 0s 63ms/step - loss: 0.8675 - sparse_categorical_accuracy: 0.9565\n",
      "Epoch 7/10\n",
      "3/3 [==============================] - 0s 68ms/step - loss: 1.0687 - sparse_categorical_accuracy: 0.7391\n",
      "Epoch 8/10\n",
      "3/3 [==============================] - 0s 68ms/step - loss: 0.9433 - sparse_categorical_accuracy: 0.9130\n",
      "Epoch 9/10\n",
      "3/3 [==============================] - 0s 67ms/step - loss: 0.9298 - sparse_categorical_accuracy: 0.8261\n",
      "Epoch 10/10\n",
      "3/3 [==============================] - 0s 65ms/step - loss: 0.7053 - sparse_categorical_accuracy: 0.9565\n",
      "WARNING:tensorflow:Model was constructed with shape (None, 270, 3) for input Tensor(\"input_42:0\", shape=(None, 270, 3), dtype=float32), but it was called on an input with incompatible shape (None, 240, 3).\n"
     ]
    },
    {
     "name": "stderr",
     "output_type": "stream",
     "text": [
      "\r",
      "18it [02:27,  8.18s/it]"
     ]
    },
    {
     "name": "stdout",
     "output_type": "stream",
     "text": [
      "Epoch 1/10\n",
      "WARNING:tensorflow:Model was constructed with shape (None, 270, 3) for input Tensor(\"input_43:0\", shape=(None, 270, 3), dtype=float32), but it was called on an input with incompatible shape (None, 240, 3).\n",
      "WARNING:tensorflow:Model was constructed with shape (None, 270, 3) for input Tensor(\"input_43:0\", shape=(None, 270, 3), dtype=float32), but it was called on an input with incompatible shape (None, 240, 3).\n",
      "3/3 [==============================] - 0s 66ms/step - loss: 1.1984 - sparse_categorical_accuracy: 0.5652\n",
      "Epoch 2/10\n",
      "3/3 [==============================] - 0s 68ms/step - loss: 1.2042 - sparse_categorical_accuracy: 0.6087\n",
      "Epoch 3/10\n",
      "3/3 [==============================] - 0s 68ms/step - loss: 1.0810 - sparse_categorical_accuracy: 0.7826\n",
      "Epoch 4/10\n",
      "3/3 [==============================] - 0s 63ms/step - loss: 0.9029 - sparse_categorical_accuracy: 1.0000\n",
      "Epoch 5/10\n",
      "3/3 [==============================] - 0s 63ms/step - loss: 1.0285 - sparse_categorical_accuracy: 0.9565\n",
      "Epoch 6/10\n",
      "3/3 [==============================] - 0s 67ms/step - loss: 1.0091 - sparse_categorical_accuracy: 0.9130\n",
      "Epoch 7/10\n",
      "3/3 [==============================] - 0s 62ms/step - loss: 0.7130 - sparse_categorical_accuracy: 1.0000\n",
      "Epoch 8/10\n",
      "3/3 [==============================] - 0s 67ms/step - loss: 0.6549 - sparse_categorical_accuracy: 1.0000\n",
      "Epoch 9/10\n",
      "3/3 [==============================] - 0s 65ms/step - loss: 0.5711 - sparse_categorical_accuracy: 1.0000\n",
      "Epoch 10/10\n",
      "3/3 [==============================] - 0s 66ms/step - loss: 0.5315 - sparse_categorical_accuracy: 1.0000\n",
      "WARNING:tensorflow:Model was constructed with shape (None, 270, 3) for input Tensor(\"input_43:0\", shape=(None, 270, 3), dtype=float32), but it was called on an input with incompatible shape (None, 240, 3).\n"
     ]
    },
    {
     "name": "stderr",
     "output_type": "stream",
     "text": [
      "\r",
      "19it [02:35,  8.12s/it]"
     ]
    },
    {
     "name": "stdout",
     "output_type": "stream",
     "text": [
      "Epoch 1/10\n",
      "WARNING:tensorflow:Model was constructed with shape (None, 270, 3) for input Tensor(\"input_44:0\", shape=(None, 270, 3), dtype=float32), but it was called on an input with incompatible shape (None, 240, 3).\n",
      "WARNING:tensorflow:Model was constructed with shape (None, 270, 3) for input Tensor(\"input_44:0\", shape=(None, 270, 3), dtype=float32), but it was called on an input with incompatible shape (None, 240, 3).\n",
      "3/3 [==============================] - 0s 69ms/step - loss: 1.1363 - sparse_categorical_accuracy: 0.5652\n",
      "Epoch 2/10\n",
      "3/3 [==============================] - 0s 64ms/step - loss: 0.8526 - sparse_categorical_accuracy: 0.9565\n",
      "Epoch 3/10\n",
      "3/3 [==============================] - 0s 66ms/step - loss: 1.0345 - sparse_categorical_accuracy: 0.9565\n",
      "Epoch 4/10\n",
      "3/3 [==============================] - 0s 60ms/step - loss: 0.8646 - sparse_categorical_accuracy: 0.9565\n",
      "Epoch 5/10\n",
      "3/3 [==============================] - 0s 75ms/step - loss: 1.0167 - sparse_categorical_accuracy: 0.8696\n",
      "Epoch 6/10\n",
      "3/3 [==============================] - 0s 66ms/step - loss: 0.7558 - sparse_categorical_accuracy: 0.9565\n",
      "Epoch 7/10\n",
      "3/3 [==============================] - 0s 69ms/step - loss: 0.8095 - sparse_categorical_accuracy: 0.9565\n",
      "Epoch 8/10\n",
      "3/3 [==============================] - 0s 63ms/step - loss: 0.7249 - sparse_categorical_accuracy: 0.9130\n",
      "Epoch 9/10\n",
      "3/3 [==============================] - 0s 67ms/step - loss: 0.7015 - sparse_categorical_accuracy: 0.8696\n",
      "Epoch 10/10\n",
      "3/3 [==============================] - 0s 70ms/step - loss: 0.7557 - sparse_categorical_accuracy: 0.8696\n",
      "WARNING:tensorflow:Model was constructed with shape (None, 270, 3) for input Tensor(\"input_44:0\", shape=(None, 270, 3), dtype=float32), but it was called on an input with incompatible shape (None, 240, 3).\n"
     ]
    },
    {
     "name": "stderr",
     "output_type": "stream",
     "text": [
      "\r",
      "20it [02:44,  8.29s/it]"
     ]
    },
    {
     "name": "stdout",
     "output_type": "stream",
     "text": [
      "Epoch 1/10\n",
      "WARNING:tensorflow:Model was constructed with shape (None, 270, 3) for input Tensor(\"input_45:0\", shape=(None, 270, 3), dtype=float32), but it was called on an input with incompatible shape (None, 240, 3).\n",
      "WARNING:tensorflow:Model was constructed with shape (None, 270, 3) for input Tensor(\"input_45:0\", shape=(None, 270, 3), dtype=float32), but it was called on an input with incompatible shape (None, 240, 3).\n",
      "3/3 [==============================] - 0s 62ms/step - loss: 1.6375 - sparse_categorical_accuracy: 0.6087\n",
      "Epoch 2/10\n",
      "3/3 [==============================] - 0s 67ms/step - loss: 1.0950 - sparse_categorical_accuracy: 0.7826\n",
      "Epoch 3/10\n",
      "3/3 [==============================] - 0s 69ms/step - loss: 1.0063 - sparse_categorical_accuracy: 0.8261\n",
      "Epoch 4/10\n",
      "3/3 [==============================] - 0s 70ms/step - loss: 1.0074 - sparse_categorical_accuracy: 0.9565\n",
      "Epoch 5/10\n",
      "3/3 [==============================] - 0s 66ms/step - loss: 0.7798 - sparse_categorical_accuracy: 0.9565\n",
      "Epoch 6/10\n",
      "3/3 [==============================] - 0s 63ms/step - loss: 1.1823 - sparse_categorical_accuracy: 0.8261\n",
      "Epoch 7/10\n",
      "3/3 [==============================] - 0s 62ms/step - loss: 0.7950 - sparse_categorical_accuracy: 0.8696\n",
      "Epoch 8/10\n",
      "3/3 [==============================] - 0s 75ms/step - loss: 0.7812 - sparse_categorical_accuracy: 0.9130\n",
      "Epoch 9/10\n",
      "3/3 [==============================] - 0s 61ms/step - loss: 0.7288 - sparse_categorical_accuracy: 0.9130\n",
      "Epoch 10/10\n",
      "3/3 [==============================] - 0s 62ms/step - loss: 0.6855 - sparse_categorical_accuracy: 0.9130\n",
      "WARNING:tensorflow:Model was constructed with shape (None, 270, 3) for input Tensor(\"input_45:0\", shape=(None, 270, 3), dtype=float32), but it was called on an input with incompatible shape (None, 240, 3).\n"
     ]
    },
    {
     "name": "stderr",
     "output_type": "stream",
     "text": [
      "\r",
      "21it [02:52,  8.23s/it]"
     ]
    },
    {
     "name": "stdout",
     "output_type": "stream",
     "text": [
      "Epoch 1/10\n",
      "WARNING:tensorflow:Model was constructed with shape (None, 270, 3) for input Tensor(\"input_46:0\", shape=(None, 270, 3), dtype=float32), but it was called on an input with incompatible shape (None, 240, 3).\n",
      "WARNING:tensorflow:Model was constructed with shape (None, 270, 3) for input Tensor(\"input_46:0\", shape=(None, 270, 3), dtype=float32), but it was called on an input with incompatible shape (None, 240, 3).\n",
      "3/3 [==============================] - 0s 66ms/step - loss: 1.3130 - sparse_categorical_accuracy: 0.4348\n",
      "Epoch 2/10\n",
      "3/3 [==============================] - 0s 66ms/step - loss: 1.4697 - sparse_categorical_accuracy: 0.6087\n",
      "Epoch 3/10\n",
      "3/3 [==============================] - 0s 72ms/step - loss: 1.1230 - sparse_categorical_accuracy: 0.8261\n",
      "Epoch 4/10\n",
      "3/3 [==============================] - 0s 68ms/step - loss: 1.1556 - sparse_categorical_accuracy: 0.8261\n",
      "Epoch 5/10\n",
      "3/3 [==============================] - 0s 64ms/step - loss: 0.9993 - sparse_categorical_accuracy: 0.9565\n",
      "Epoch 6/10\n",
      "3/3 [==============================] - 0s 68ms/step - loss: 1.2782 - sparse_categorical_accuracy: 0.8261\n",
      "Epoch 7/10\n",
      "3/3 [==============================] - 0s 72ms/step - loss: 0.7926 - sparse_categorical_accuracy: 1.0000\n",
      "Epoch 8/10\n",
      "3/3 [==============================] - 0s 68ms/step - loss: 0.7571 - sparse_categorical_accuracy: 0.9130\n",
      "Epoch 9/10\n",
      "3/3 [==============================] - 0s 69ms/step - loss: 0.6142 - sparse_categorical_accuracy: 0.9565\n",
      "Epoch 10/10\n",
      "3/3 [==============================] - 0s 63ms/step - loss: 0.6202 - sparse_categorical_accuracy: 0.9565\n",
      "WARNING:tensorflow:Model was constructed with shape (None, 270, 3) for input Tensor(\"input_46:0\", shape=(None, 270, 3), dtype=float32), but it was called on an input with incompatible shape (None, 240, 3).\n"
     ]
    },
    {
     "name": "stderr",
     "output_type": "stream",
     "text": [
      "\r",
      "22it [03:00,  8.19s/it]"
     ]
    },
    {
     "name": "stdout",
     "output_type": "stream",
     "text": [
      "Epoch 1/10\n",
      "WARNING:tensorflow:Model was constructed with shape (None, 270, 3) for input Tensor(\"input_47:0\", shape=(None, 270, 3), dtype=float32), but it was called on an input with incompatible shape (None, 240, 3).\n",
      "WARNING:tensorflow:Model was constructed with shape (None, 270, 3) for input Tensor(\"input_47:0\", shape=(None, 270, 3), dtype=float32), but it was called on an input with incompatible shape (None, 240, 3).\n",
      "3/3 [==============================] - 0s 60ms/step - loss: 1.0491 - sparse_categorical_accuracy: 0.6957\n",
      "Epoch 2/10\n",
      "3/3 [==============================] - 0s 68ms/step - loss: 0.8544 - sparse_categorical_accuracy: 0.9130\n",
      "Epoch 3/10\n",
      "3/3 [==============================] - 0s 66ms/step - loss: 1.4278 - sparse_categorical_accuracy: 0.7826\n",
      "Epoch 4/10\n",
      "3/3 [==============================] - 0s 62ms/step - loss: 1.0710 - sparse_categorical_accuracy: 0.8696\n",
      "Epoch 5/10\n",
      "3/3 [==============================] - 0s 65ms/step - loss: 1.2894 - sparse_categorical_accuracy: 0.7391\n",
      "Epoch 6/10\n",
      "3/3 [==============================] - 0s 66ms/step - loss: 0.9323 - sparse_categorical_accuracy: 0.9565\n",
      "Epoch 7/10\n",
      "3/3 [==============================] - 0s 62ms/step - loss: 0.7538 - sparse_categorical_accuracy: 0.9130\n",
      "Epoch 8/10\n",
      "3/3 [==============================] - 0s 69ms/step - loss: 0.9123 - sparse_categorical_accuracy: 0.8696\n",
      "Epoch 9/10\n",
      "3/3 [==============================] - 0s 68ms/step - loss: 0.9641 - sparse_categorical_accuracy: 0.9130\n",
      "Epoch 10/10\n",
      "3/3 [==============================] - 0s 69ms/step - loss: 0.7573 - sparse_categorical_accuracy: 0.7826\n",
      "WARNING:tensorflow:Model was constructed with shape (None, 270, 3) for input Tensor(\"input_47:0\", shape=(None, 270, 3), dtype=float32), but it was called on an input with incompatible shape (None, 240, 3).\n"
     ]
    },
    {
     "name": "stderr",
     "output_type": "stream",
     "text": [
      "\r",
      "23it [03:08,  8.33s/it]"
     ]
    },
    {
     "name": "stdout",
     "output_type": "stream",
     "text": [
      "Epoch 1/10\n",
      "WARNING:tensorflow:Model was constructed with shape (None, 270, 3) for input Tensor(\"input_48:0\", shape=(None, 270, 3), dtype=float32), but it was called on an input with incompatible shape (None, 240, 3).\n",
      "WARNING:tensorflow:Model was constructed with shape (None, 270, 3) for input Tensor(\"input_48:0\", shape=(None, 270, 3), dtype=float32), but it was called on an input with incompatible shape (None, 240, 3).\n",
      "3/3 [==============================] - 0s 64ms/step - loss: 1.3399 - sparse_categorical_accuracy: 0.5652\n",
      "Epoch 2/10\n",
      "3/3 [==============================] - 0s 63ms/step - loss: 1.0170 - sparse_categorical_accuracy: 0.8261\n",
      "Epoch 3/10\n",
      "3/3 [==============================] - 0s 64ms/step - loss: 0.9809 - sparse_categorical_accuracy: 0.9130\n",
      "Epoch 4/10\n",
      "3/3 [==============================] - 0s 71ms/step - loss: 1.0500 - sparse_categorical_accuracy: 0.9130\n",
      "Epoch 5/10\n",
      "3/3 [==============================] - 0s 68ms/step - loss: 1.0458 - sparse_categorical_accuracy: 0.8261\n",
      "Epoch 6/10\n",
      "3/3 [==============================] - 0s 67ms/step - loss: 1.0147 - sparse_categorical_accuracy: 0.9130\n",
      "Epoch 7/10\n",
      "3/3 [==============================] - 0s 68ms/step - loss: 0.7476 - sparse_categorical_accuracy: 0.9565\n",
      "Epoch 8/10\n",
      "3/3 [==============================] - 0s 69ms/step - loss: 0.7082 - sparse_categorical_accuracy: 0.9565\n",
      "Epoch 9/10\n",
      "3/3 [==============================] - 0s 66ms/step - loss: 0.6006 - sparse_categorical_accuracy: 1.0000\n",
      "Epoch 10/10\n",
      "3/3 [==============================] - 0s 68ms/step - loss: 0.7380 - sparse_categorical_accuracy: 0.8696\n",
      "WARNING:tensorflow:Model was constructed with shape (None, 270, 3) for input Tensor(\"input_48:0\", shape=(None, 270, 3), dtype=float32), but it was called on an input with incompatible shape (None, 240, 3).\n"
     ]
    },
    {
     "name": "stderr",
     "output_type": "stream",
     "text": [
      "24it [03:16,  8.21s/it]\n",
      "0it [00:00, ?it/s]"
     ]
    },
    {
     "name": "stdout",
     "output_type": "stream",
     "text": [
      "Epoch 1/10\n",
      "5/5 [==============================] - 0s 88ms/step - loss: 1.2528 - sparse_categorical_accuracy: 0.6216\n",
      "Epoch 2/10\n",
      "5/5 [==============================] - 0s 88ms/step - loss: 1.0671 - sparse_categorical_accuracy: 0.8649\n",
      "Epoch 3/10\n",
      "5/5 [==============================] - 0s 97ms/step - loss: 1.0654 - sparse_categorical_accuracy: 0.9189\n",
      "Epoch 4/10\n",
      "5/5 [==============================] - 0s 88ms/step - loss: 0.8802 - sparse_categorical_accuracy: 0.9730\n",
      "Epoch 5/10\n",
      "5/5 [==============================] - 0s 83ms/step - loss: 0.7751 - sparse_categorical_accuracy: 0.9730\n",
      "Epoch 6/10\n",
      "5/5 [==============================] - 0s 88ms/step - loss: 0.6916 - sparse_categorical_accuracy: 0.9189\n",
      "Epoch 7/10\n",
      "5/5 [==============================] - 0s 89ms/step - loss: 0.8108 - sparse_categorical_accuracy: 0.8919\n",
      "Epoch 8/10\n",
      "5/5 [==============================] - 0s 88ms/step - loss: 0.8472 - sparse_categorical_accuracy: 0.8378\n",
      "Epoch 9/10\n",
      "5/5 [==============================] - 0s 89ms/step - loss: 0.6560 - sparse_categorical_accuracy: 0.8378\n",
      "Epoch 10/10\n",
      "5/5 [==============================] - 0s 94ms/step - loss: 0.5954 - sparse_categorical_accuracy: 0.9189\n"
     ]
    },
    {
     "name": "stderr",
     "output_type": "stream",
     "text": [
      "\r",
      "1it [00:10, 10.67s/it]"
     ]
    },
    {
     "name": "stdout",
     "output_type": "stream",
     "text": [
      "Epoch 1/10\n",
      "5/5 [==============================] - 0s 91ms/step - loss: 1.1037 - sparse_categorical_accuracy: 0.7297\n",
      "Epoch 2/10\n",
      "5/5 [==============================] - 0s 93ms/step - loss: 1.0846 - sparse_categorical_accuracy: 0.7568\n",
      "Epoch 3/10\n",
      "5/5 [==============================] - 0s 89ms/step - loss: 1.2805 - sparse_categorical_accuracy: 0.8378\n",
      "Epoch 4/10\n",
      "5/5 [==============================] - 0s 95ms/step - loss: 0.9132 - sparse_categorical_accuracy: 0.9459\n",
      "Epoch 5/10\n",
      "5/5 [==============================] - 0s 89ms/step - loss: 0.8281 - sparse_categorical_accuracy: 0.9459\n",
      "Epoch 6/10\n",
      "5/5 [==============================] - 0s 91ms/step - loss: 0.9713 - sparse_categorical_accuracy: 0.8378\n",
      "Epoch 7/10\n",
      "5/5 [==============================] - 0s 89ms/step - loss: 0.7560 - sparse_categorical_accuracy: 0.8919\n",
      "Epoch 8/10\n",
      "5/5 [==============================] - 0s 91ms/step - loss: 0.7725 - sparse_categorical_accuracy: 0.8649\n",
      "Epoch 9/10\n",
      "5/5 [==============================] - 0s 89ms/step - loss: 0.8355 - sparse_categorical_accuracy: 0.8108\n",
      "Epoch 10/10\n",
      "5/5 [==============================] - 0s 89ms/step - loss: 0.5889 - sparse_categorical_accuracy: 0.9459\n"
     ]
    },
    {
     "name": "stderr",
     "output_type": "stream",
     "text": [
      "\r",
      "2it [00:21, 10.66s/it]"
     ]
    },
    {
     "name": "stdout",
     "output_type": "stream",
     "text": [
      "Epoch 1/10\n",
      "5/5 [==============================] - 0s 92ms/step - loss: 1.0552 - sparse_categorical_accuracy: 0.7568\n",
      "Epoch 2/10\n",
      "5/5 [==============================] - 0s 90ms/step - loss: 0.9696 - sparse_categorical_accuracy: 0.8649\n",
      "Epoch 3/10\n",
      "5/5 [==============================] - 0s 90ms/step - loss: 0.9169 - sparse_categorical_accuracy: 0.9730\n",
      "Epoch 4/10\n",
      "5/5 [==============================] - 0s 91ms/step - loss: 1.1762 - sparse_categorical_accuracy: 0.8378\n",
      "Epoch 5/10\n",
      "5/5 [==============================] - 0s 90ms/step - loss: 0.9165 - sparse_categorical_accuracy: 0.8649\n",
      "Epoch 6/10\n",
      "5/5 [==============================] - 0s 90ms/step - loss: 1.1887 - sparse_categorical_accuracy: 0.7568\n",
      "Epoch 7/10\n",
      "5/5 [==============================] - 0s 91ms/step - loss: 1.3065 - sparse_categorical_accuracy: 0.6486\n",
      "Epoch 8/10\n",
      "5/5 [==============================] - 0s 92ms/step - loss: 0.7923 - sparse_categorical_accuracy: 0.8919\n",
      "Epoch 9/10\n",
      "5/5 [==============================] - 0s 94ms/step - loss: 0.8609 - sparse_categorical_accuracy: 0.8108\n",
      "Epoch 10/10\n",
      "5/5 [==============================] - 0s 92ms/step - loss: 0.6542 - sparse_categorical_accuracy: 0.8919\n"
     ]
    },
    {
     "name": "stderr",
     "output_type": "stream",
     "text": [
      "\r",
      "3it [00:32, 10.87s/it]"
     ]
    },
    {
     "name": "stdout",
     "output_type": "stream",
     "text": [
      "Epoch 1/10\n",
      "5/5 [==============================] - 0s 91ms/step - loss: 1.1755 - sparse_categorical_accuracy: 0.5946\n",
      "Epoch 2/10\n",
      "5/5 [==============================] - 0s 96ms/step - loss: 1.0125 - sparse_categorical_accuracy: 0.8378\n",
      "Epoch 3/10\n",
      "5/5 [==============================] - 0s 92ms/step - loss: 1.1563 - sparse_categorical_accuracy: 0.8108\n",
      "Epoch 4/10\n",
      "5/5 [==============================] - 0s 93ms/step - loss: 1.0581 - sparse_categorical_accuracy: 0.9459\n",
      "Epoch 5/10\n",
      "5/5 [==============================] - 0s 93ms/step - loss: 0.9749 - sparse_categorical_accuracy: 0.9189\n",
      "Epoch 6/10\n",
      "5/5 [==============================] - 0s 92ms/step - loss: 0.9525 - sparse_categorical_accuracy: 0.8378\n",
      "Epoch 7/10\n",
      "5/5 [==============================] - 0s 94ms/step - loss: 0.6556 - sparse_categorical_accuracy: 0.9189\n",
      "Epoch 8/10\n",
      "5/5 [==============================] - 0s 96ms/step - loss: 0.7700 - sparse_categorical_accuracy: 0.8649\n",
      "Epoch 9/10\n",
      "5/5 [==============================] - 0s 91ms/step - loss: 0.7961 - sparse_categorical_accuracy: 0.7838\n",
      "Epoch 10/10\n",
      "5/5 [==============================] - 0s 92ms/step - loss: 0.7226 - sparse_categorical_accuracy: 0.8919\n"
     ]
    },
    {
     "name": "stderr",
     "output_type": "stream",
     "text": [
      "\r",
      "4it [00:43, 10.85s/it]"
     ]
    },
    {
     "name": "stdout",
     "output_type": "stream",
     "text": [
      "Epoch 1/10\n",
      "5/5 [==============================] - 0s 88ms/step - loss: 1.2972 - sparse_categorical_accuracy: 0.6216\n",
      "Epoch 2/10\n",
      "5/5 [==============================] - 0s 88ms/step - loss: 1.2225 - sparse_categorical_accuracy: 0.8649\n",
      "Epoch 3/10\n",
      "5/5 [==============================] - 0s 90ms/step - loss: 1.0251 - sparse_categorical_accuracy: 0.9730\n",
      "Epoch 4/10\n",
      "5/5 [==============================] - 0s 87ms/step - loss: 0.8765 - sparse_categorical_accuracy: 0.9730\n",
      "Epoch 5/10\n",
      "5/5 [==============================] - 0s 91ms/step - loss: 1.5711 - sparse_categorical_accuracy: 0.7838\n",
      "Epoch 6/10\n",
      "5/5 [==============================] - 0s 93ms/step - loss: 0.8699 - sparse_categorical_accuracy: 0.8919\n",
      "Epoch 7/10\n",
      "5/5 [==============================] - 0s 84ms/step - loss: 1.0187 - sparse_categorical_accuracy: 0.7838\n",
      "Epoch 8/10\n",
      "5/5 [==============================] - 0s 88ms/step - loss: 0.7781 - sparse_categorical_accuracy: 0.8649\n",
      "Epoch 9/10\n",
      "5/5 [==============================] - 0s 91ms/step - loss: 0.7198 - sparse_categorical_accuracy: 0.8919\n",
      "Epoch 10/10\n",
      "5/5 [==============================] - 0s 91ms/step - loss: 0.8953 - sparse_categorical_accuracy: 0.8378\n"
     ]
    },
    {
     "name": "stderr",
     "output_type": "stream",
     "text": [
      "\r",
      "5it [00:54, 10.80s/it]"
     ]
    },
    {
     "name": "stdout",
     "output_type": "stream",
     "text": [
      "Epoch 1/10\n",
      "5/5 [==============================] - 0s 91ms/step - loss: 1.2255 - sparse_categorical_accuracy: 0.6486\n",
      "Epoch 2/10\n",
      "5/5 [==============================] - 0s 88ms/step - loss: 0.9597 - sparse_categorical_accuracy: 0.8919\n",
      "Epoch 3/10\n",
      "5/5 [==============================] - 0s 91ms/step - loss: 1.1026 - sparse_categorical_accuracy: 0.9189\n",
      "Epoch 4/10\n",
      "5/5 [==============================] - 0s 89ms/step - loss: 0.9784 - sparse_categorical_accuracy: 0.9189\n",
      "Epoch 5/10\n",
      "5/5 [==============================] - 0s 85ms/step - loss: 0.8105 - sparse_categorical_accuracy: 0.8919\n",
      "Epoch 6/10\n",
      "5/5 [==============================] - 0s 99ms/step - loss: 0.6887 - sparse_categorical_accuracy: 0.8919\n",
      "Epoch 7/10\n",
      "5/5 [==============================] - 0s 88ms/step - loss: 0.6870 - sparse_categorical_accuracy: 0.9189\n",
      "Epoch 8/10\n",
      "5/5 [==============================] - 0s 90ms/step - loss: 0.4973 - sparse_categorical_accuracy: 1.0000\n",
      "Epoch 9/10\n",
      "5/5 [==============================] - 0s 89ms/step - loss: 0.5141 - sparse_categorical_accuracy: 0.9459\n",
      "Epoch 10/10\n",
      "5/5 [==============================] - 0s 89ms/step - loss: 0.9564 - sparse_categorical_accuracy: 0.8649\n"
     ]
    },
    {
     "name": "stderr",
     "output_type": "stream",
     "text": [
      "\r",
      "6it [01:04, 10.79s/it]"
     ]
    },
    {
     "name": "stdout",
     "output_type": "stream",
     "text": [
      "Epoch 1/10\n",
      "5/5 [==============================] - 0s 90ms/step - loss: 1.2694 - sparse_categorical_accuracy: 0.6216\n",
      "Epoch 2/10\n",
      "5/5 [==============================] - 0s 96ms/step - loss: 1.1375 - sparse_categorical_accuracy: 0.8108\n",
      "Epoch 3/10\n",
      "5/5 [==============================] - 0s 89ms/step - loss: 1.2373 - sparse_categorical_accuracy: 0.8378\n",
      "Epoch 4/10\n",
      "5/5 [==============================] - 0s 90ms/step - loss: 1.1507 - sparse_categorical_accuracy: 0.8649\n",
      "Epoch 5/10\n",
      "5/5 [==============================] - 0s 89ms/step - loss: 0.9022 - sparse_categorical_accuracy: 0.8649\n",
      "Epoch 6/10\n",
      "5/5 [==============================] - 0s 92ms/step - loss: 0.9827 - sparse_categorical_accuracy: 0.8378\n",
      "Epoch 7/10\n",
      "5/5 [==============================] - 0s 93ms/step - loss: 0.9564 - sparse_categorical_accuracy: 0.7568\n",
      "Epoch 8/10\n",
      "5/5 [==============================] - 0s 89ms/step - loss: 0.8132 - sparse_categorical_accuracy: 0.8919\n",
      "Epoch 9/10\n",
      "5/5 [==============================] - 0s 87ms/step - loss: 0.6879 - sparse_categorical_accuracy: 0.9189\n",
      "Epoch 10/10\n",
      "5/5 [==============================] - 0s 90ms/step - loss: 0.6908 - sparse_categorical_accuracy: 0.8649\n"
     ]
    },
    {
     "name": "stderr",
     "output_type": "stream",
     "text": [
      "\r",
      "7it [01:16, 10.94s/it]"
     ]
    },
    {
     "name": "stdout",
     "output_type": "stream",
     "text": [
      "Epoch 1/10\n",
      "5/5 [==============================] - 0s 92ms/step - loss: 1.3437 - sparse_categorical_accuracy: 0.6216\n",
      "Epoch 2/10\n",
      "5/5 [==============================] - 0s 92ms/step - loss: 1.1209 - sparse_categorical_accuracy: 0.8108\n",
      "Epoch 3/10\n",
      "5/5 [==============================] - 0s 89ms/step - loss: 1.0913 - sparse_categorical_accuracy: 0.8919\n",
      "Epoch 4/10\n",
      "5/5 [==============================] - 0s 85ms/step - loss: 0.9781 - sparse_categorical_accuracy: 0.8378\n",
      "Epoch 5/10\n",
      "5/5 [==============================] - 0s 94ms/step - loss: 1.1133 - sparse_categorical_accuracy: 0.7838\n",
      "Epoch 6/10\n",
      "5/5 [==============================] - 0s 86ms/step - loss: 0.7084 - sparse_categorical_accuracy: 0.9730\n",
      "Epoch 7/10\n",
      "5/5 [==============================] - 0s 86ms/step - loss: 0.8353 - sparse_categorical_accuracy: 0.8649\n",
      "Epoch 8/10\n",
      "5/5 [==============================] - 0s 90ms/step - loss: 0.5367 - sparse_categorical_accuracy: 0.9730\n",
      "Epoch 9/10\n",
      "5/5 [==============================] - 0s 90ms/step - loss: 0.7399 - sparse_categorical_accuracy: 0.8108\n",
      "Epoch 10/10\n",
      "5/5 [==============================] - 0s 90ms/step - loss: 0.6947 - sparse_categorical_accuracy: 0.8649\n"
     ]
    },
    {
     "name": "stderr",
     "output_type": "stream",
     "text": [
      "\r",
      "8it [01:27, 10.90s/it]"
     ]
    },
    {
     "name": "stdout",
     "output_type": "stream",
     "text": [
      "Epoch 1/10\n",
      "5/5 [==============================] - 0s 89ms/step - loss: 1.3368 - sparse_categorical_accuracy: 0.5676\n",
      "Epoch 2/10\n",
      "5/5 [==============================] - 0s 88ms/step - loss: 1.1717 - sparse_categorical_accuracy: 0.8108\n",
      "Epoch 3/10\n",
      "5/5 [==============================] - 0s 91ms/step - loss: 1.0959 - sparse_categorical_accuracy: 0.8378\n",
      "Epoch 4/10\n",
      "5/5 [==============================] - 0s 87ms/step - loss: 1.1502 - sparse_categorical_accuracy: 0.8378\n",
      "Epoch 5/10\n",
      "5/5 [==============================] - 0s 89ms/step - loss: 1.1330 - sparse_categorical_accuracy: 0.9189\n",
      "Epoch 6/10\n",
      "5/5 [==============================] - 0s 91ms/step - loss: 0.8255 - sparse_categorical_accuracy: 0.9189\n",
      "Epoch 7/10\n",
      "5/5 [==============================] - 0s 90ms/step - loss: 0.9064 - sparse_categorical_accuracy: 0.8108\n",
      "Epoch 8/10\n",
      "5/5 [==============================] - 0s 88ms/step - loss: 0.9288 - sparse_categorical_accuracy: 0.8919\n",
      "Epoch 9/10\n",
      "5/5 [==============================] - 0s 89ms/step - loss: 0.8140 - sparse_categorical_accuracy: 0.7838\n",
      "Epoch 10/10\n",
      "5/5 [==============================] - 0s 93ms/step - loss: 0.8317 - sparse_categorical_accuracy: 0.8378\n"
     ]
    },
    {
     "name": "stderr",
     "output_type": "stream",
     "text": [
      "\r",
      "9it [01:37, 10.83s/it]"
     ]
    },
    {
     "name": "stdout",
     "output_type": "stream",
     "text": [
      "Epoch 1/10\n",
      "5/5 [==============================] - 0s 88ms/step - loss: 1.0602 - sparse_categorical_accuracy: 0.7838\n",
      "Epoch 2/10\n",
      "5/5 [==============================] - 0s 90ms/step - loss: 1.0626 - sparse_categorical_accuracy: 0.8649\n",
      "Epoch 3/10\n",
      "5/5 [==============================] - 0s 91ms/step - loss: 1.0252 - sparse_categorical_accuracy: 0.8108\n",
      "Epoch 4/10\n",
      "5/5 [==============================] - 0s 89ms/step - loss: 1.3429 - sparse_categorical_accuracy: 0.7838\n",
      "Epoch 5/10\n",
      "5/5 [==============================] - 0s 89ms/step - loss: 1.0352 - sparse_categorical_accuracy: 0.8919\n",
      "Epoch 6/10\n",
      "5/5 [==============================] - 0s 91ms/step - loss: 1.0715 - sparse_categorical_accuracy: 0.8649\n",
      "Epoch 7/10\n",
      "5/5 [==============================] - 0s 90ms/step - loss: 0.6387 - sparse_categorical_accuracy: 0.9459\n",
      "Epoch 8/10\n",
      "5/5 [==============================] - 0s 89ms/step - loss: 0.5880 - sparse_categorical_accuracy: 0.9730\n",
      "Epoch 9/10\n",
      "5/5 [==============================] - 0s 90ms/step - loss: 0.6052 - sparse_categorical_accuracy: 0.9189\n",
      "Epoch 10/10\n",
      "5/5 [==============================] - 0s 86ms/step - loss: 0.7111 - sparse_categorical_accuracy: 0.8649\n"
     ]
    },
    {
     "name": "stderr",
     "output_type": "stream",
     "text": [
      "\r",
      "10it [01:48, 10.79s/it]"
     ]
    },
    {
     "name": "stdout",
     "output_type": "stream",
     "text": [
      "Epoch 1/10\n",
      "5/5 [==============================] - 0s 91ms/step - loss: 1.1754 - sparse_categorical_accuracy: 0.6216\n",
      "Epoch 2/10\n",
      "5/5 [==============================] - 0s 90ms/step - loss: 1.3098 - sparse_categorical_accuracy: 0.7297\n",
      "Epoch 3/10\n",
      "5/5 [==============================] - 0s 90ms/step - loss: 1.1417 - sparse_categorical_accuracy: 0.8919\n",
      "Epoch 4/10\n",
      "5/5 [==============================] - 0s 89ms/step - loss: 1.0629 - sparse_categorical_accuracy: 0.8919\n",
      "Epoch 5/10\n",
      "5/5 [==============================] - 0s 91ms/step - loss: 1.0394 - sparse_categorical_accuracy: 0.8649\n",
      "Epoch 6/10\n",
      "5/5 [==============================] - 0s 93ms/step - loss: 0.7433 - sparse_categorical_accuracy: 0.8919\n",
      "Epoch 7/10\n",
      "5/5 [==============================] - 0s 87ms/step - loss: 0.6966 - sparse_categorical_accuracy: 0.8649\n",
      "Epoch 8/10\n",
      "5/5 [==============================] - 0s 93ms/step - loss: 0.5769 - sparse_categorical_accuracy: 0.9730\n",
      "Epoch 9/10\n",
      "5/5 [==============================] - 0s 89ms/step - loss: 0.5475 - sparse_categorical_accuracy: 0.9730\n",
      "Epoch 10/10\n",
      "5/5 [==============================] - 0s 85ms/step - loss: 0.4751 - sparse_categorical_accuracy: 0.9459\n"
     ]
    },
    {
     "name": "stderr",
     "output_type": "stream",
     "text": [
      "\r",
      "11it [01:59, 10.96s/it]"
     ]
    },
    {
     "name": "stdout",
     "output_type": "stream",
     "text": [
      "Epoch 1/10\n",
      "5/5 [==============================] - 0s 90ms/step - loss: 1.0681 - sparse_categorical_accuracy: 0.7568\n",
      "Epoch 2/10\n",
      "5/5 [==============================] - 0s 89ms/step - loss: 1.1296 - sparse_categorical_accuracy: 0.8108\n",
      "Epoch 3/10\n",
      "5/5 [==============================] - 0s 94ms/step - loss: 1.2977 - sparse_categorical_accuracy: 0.8378\n",
      "Epoch 4/10\n",
      "5/5 [==============================] - 0s 89ms/step - loss: 0.8933 - sparse_categorical_accuracy: 0.9730\n",
      "Epoch 5/10\n",
      "5/5 [==============================] - 0s 91ms/step - loss: 0.8344 - sparse_categorical_accuracy: 0.9189\n",
      "Epoch 6/10\n",
      "5/5 [==============================] - 0s 93ms/step - loss: 0.5587 - sparse_categorical_accuracy: 0.9730\n",
      "Epoch 7/10\n",
      "5/5 [==============================] - 0s 88ms/step - loss: 0.6851 - sparse_categorical_accuracy: 0.8378\n",
      "Epoch 8/10\n",
      "5/5 [==============================] - 0s 90ms/step - loss: 0.9154 - sparse_categorical_accuracy: 0.8378\n",
      "Epoch 9/10\n",
      "5/5 [==============================] - 0s 89ms/step - loss: 0.8324 - sparse_categorical_accuracy: 0.7838\n",
      "Epoch 10/10\n",
      "5/5 [==============================] - 0s 90ms/step - loss: 0.5354 - sparse_categorical_accuracy: 0.9459\n"
     ]
    },
    {
     "name": "stderr",
     "output_type": "stream",
     "text": [
      "\r",
      "12it [02:10, 10.89s/it]"
     ]
    },
    {
     "name": "stdout",
     "output_type": "stream",
     "text": [
      "Epoch 1/10\n",
      "5/5 [==============================] - 0s 88ms/step - loss: 1.1394 - sparse_categorical_accuracy: 0.6757\n",
      "Epoch 2/10\n",
      "5/5 [==============================] - 0s 91ms/step - loss: 1.2453 - sparse_categorical_accuracy: 0.7838\n",
      "Epoch 3/10\n",
      "5/5 [==============================] - 0s 89ms/step - loss: 0.9770 - sparse_categorical_accuracy: 0.9189\n",
      "Epoch 4/10\n",
      "5/5 [==============================] - 0s 89ms/step - loss: 1.1335 - sparse_categorical_accuracy: 0.8378\n",
      "Epoch 5/10\n",
      "5/5 [==============================] - 0s 87ms/step - loss: 1.0123 - sparse_categorical_accuracy: 0.8378\n",
      "Epoch 6/10\n",
      "5/5 [==============================] - 0s 92ms/step - loss: 0.6583 - sparse_categorical_accuracy: 0.9730\n",
      "Epoch 7/10\n",
      "5/5 [==============================] - 0s 90ms/step - loss: 0.9633 - sparse_categorical_accuracy: 0.8378\n",
      "Epoch 8/10\n",
      "5/5 [==============================] - 0s 91ms/step - loss: 0.7678 - sparse_categorical_accuracy: 0.8649\n",
      "Epoch 9/10\n",
      "5/5 [==============================] - 0s 89ms/step - loss: 0.8483 - sparse_categorical_accuracy: 0.7838\n",
      "Epoch 10/10\n",
      "5/5 [==============================] - 0s 91ms/step - loss: 0.7346 - sparse_categorical_accuracy: 0.8108\n"
     ]
    },
    {
     "name": "stderr",
     "output_type": "stream",
     "text": [
      "\r",
      "13it [02:21, 10.85s/it]"
     ]
    },
    {
     "name": "stdout",
     "output_type": "stream",
     "text": [
      "Epoch 1/10\n",
      "5/5 [==============================] - 0s 89ms/step - loss: 1.1976 - sparse_categorical_accuracy: 0.7027\n",
      "Epoch 2/10\n",
      "5/5 [==============================] - 0s 88ms/step - loss: 1.1627 - sparse_categorical_accuracy: 0.8108\n",
      "Epoch 3/10\n",
      "5/5 [==============================] - 0s 88ms/step - loss: 0.8871 - sparse_categorical_accuracy: 0.9730\n",
      "Epoch 4/10\n",
      "5/5 [==============================] - 0s 90ms/step - loss: 1.4963 - sparse_categorical_accuracy: 0.7568\n",
      "Epoch 5/10\n",
      "5/5 [==============================] - 0s 89ms/step - loss: 1.1651 - sparse_categorical_accuracy: 0.8919\n",
      "Epoch 6/10\n",
      "5/5 [==============================] - 0s 91ms/step - loss: 0.7450 - sparse_categorical_accuracy: 0.9459\n",
      "Epoch 7/10\n",
      "5/5 [==============================] - 0s 88ms/step - loss: 1.0122 - sparse_categorical_accuracy: 0.8649\n",
      "Epoch 8/10\n",
      "5/5 [==============================] - 0s 83ms/step - loss: 0.8369 - sparse_categorical_accuracy: 0.9459\n",
      "Epoch 9/10\n",
      "5/5 [==============================] - 0s 88ms/step - loss: 0.8295 - sparse_categorical_accuracy: 0.8649\n",
      "Epoch 10/10\n",
      "5/5 [==============================] - 0s 87ms/step - loss: 0.5651 - sparse_categorical_accuracy: 0.9730\n"
     ]
    },
    {
     "name": "stderr",
     "output_type": "stream",
     "text": [
      "\r",
      "14it [02:31, 10.80s/it]"
     ]
    },
    {
     "name": "stdout",
     "output_type": "stream",
     "text": [
      "Epoch 1/10\n",
      "5/5 [==============================] - 0s 87ms/step - loss: 1.0473 - sparse_categorical_accuracy: 0.7297\n",
      "Epoch 2/10\n",
      "5/5 [==============================] - 0s 88ms/step - loss: 1.1242 - sparse_categorical_accuracy: 0.8108\n",
      "Epoch 3/10\n",
      "5/5 [==============================] - 0s 88ms/step - loss: 1.3481 - sparse_categorical_accuracy: 0.7838\n",
      "Epoch 4/10\n",
      "5/5 [==============================] - 0s 91ms/step - loss: 1.0199 - sparse_categorical_accuracy: 0.9459\n",
      "Epoch 5/10\n",
      "5/5 [==============================] - 0s 92ms/step - loss: 0.9265 - sparse_categorical_accuracy: 0.8919\n",
      "Epoch 6/10\n",
      "5/5 [==============================] - 0s 91ms/step - loss: 0.9641 - sparse_categorical_accuracy: 0.7838\n",
      "Epoch 7/10\n",
      "5/5 [==============================] - 0s 90ms/step - loss: 0.9540 - sparse_categorical_accuracy: 0.8108\n",
      "Epoch 8/10\n",
      "5/5 [==============================] - 0s 87ms/step - loss: 0.7040 - sparse_categorical_accuracy: 0.8919\n",
      "Epoch 9/10\n",
      "5/5 [==============================] - 0s 90ms/step - loss: 0.7196 - sparse_categorical_accuracy: 0.8919\n",
      "Epoch 10/10\n",
      "5/5 [==============================] - 0s 87ms/step - loss: 0.6843 - sparse_categorical_accuracy: 0.8919\n"
     ]
    },
    {
     "name": "stderr",
     "output_type": "stream",
     "text": [
      "\r",
      "15it [02:42, 10.81s/it]"
     ]
    },
    {
     "name": "stdout",
     "output_type": "stream",
     "text": [
      "Epoch 1/10\n",
      "5/5 [==============================] - 0s 84ms/step - loss: 1.0921 - sparse_categorical_accuracy: 0.7027\n",
      "Epoch 2/10\n",
      "5/5 [==============================] - 0s 94ms/step - loss: 1.0446 - sparse_categorical_accuracy: 0.8919\n",
      "Epoch 3/10\n",
      "5/5 [==============================] - 0s 90ms/step - loss: 0.9240 - sparse_categorical_accuracy: 0.9459\n",
      "Epoch 4/10\n",
      "5/5 [==============================] - 0s 85ms/step - loss: 1.0785 - sparse_categorical_accuracy: 0.8378\n",
      "Epoch 5/10\n",
      "5/5 [==============================] - 0s 91ms/step - loss: 0.7088 - sparse_categorical_accuracy: 0.9459\n",
      "Epoch 6/10\n",
      "5/5 [==============================] - 0s 85ms/step - loss: 0.5893 - sparse_categorical_accuracy: 0.9459\n",
      "Epoch 7/10\n",
      "5/5 [==============================] - 0s 90ms/step - loss: 0.6628 - sparse_categorical_accuracy: 0.9189\n",
      "Epoch 8/10\n",
      "5/5 [==============================] - 0s 91ms/step - loss: 0.7745 - sparse_categorical_accuracy: 0.8649\n",
      "Epoch 9/10\n",
      "5/5 [==============================] - 0s 91ms/step - loss: 0.7199 - sparse_categorical_accuracy: 0.8649\n",
      "Epoch 10/10\n",
      "5/5 [==============================] - 0s 91ms/step - loss: 0.9872 - sparse_categorical_accuracy: 0.8108\n"
     ]
    },
    {
     "name": "stderr",
     "output_type": "stream",
     "text": [
      "\r",
      "16it [02:54, 10.97s/it]"
     ]
    },
    {
     "name": "stdout",
     "output_type": "stream",
     "text": [
      "Epoch 1/10\n",
      "5/5 [==============================] - 0s 88ms/step - loss: 1.2095 - sparse_categorical_accuracy: 0.7027\n",
      "Epoch 2/10\n",
      "5/5 [==============================] - 0s 88ms/step - loss: 1.1718 - sparse_categorical_accuracy: 0.7568\n",
      "Epoch 3/10\n",
      "5/5 [==============================] - 0s 91ms/step - loss: 0.9359 - sparse_categorical_accuracy: 0.9189\n",
      "Epoch 4/10\n",
      "5/5 [==============================] - 0s 90ms/step - loss: 0.9994 - sparse_categorical_accuracy: 0.8919\n",
      "Epoch 5/10\n",
      "5/5 [==============================] - 0s 90ms/step - loss: 0.7499 - sparse_categorical_accuracy: 0.9189\n",
      "Epoch 6/10\n",
      "5/5 [==============================] - 0s 90ms/step - loss: 0.4933 - sparse_categorical_accuracy: 1.0000\n",
      "Epoch 7/10\n",
      "5/5 [==============================] - 0s 88ms/step - loss: 0.7376 - sparse_categorical_accuracy: 0.8919\n",
      "Epoch 8/10\n",
      "5/5 [==============================] - 0s 92ms/step - loss: 0.5157 - sparse_categorical_accuracy: 0.9459\n",
      "Epoch 9/10\n",
      "5/5 [==============================] - 0s 89ms/step - loss: 0.5208 - sparse_categorical_accuracy: 0.9730\n",
      "Epoch 10/10\n",
      "5/5 [==============================] - 0s 88ms/step - loss: 0.4684 - sparse_categorical_accuracy: 0.9730\n"
     ]
    },
    {
     "name": "stderr",
     "output_type": "stream",
     "text": [
      "\r",
      "17it [03:04, 10.90s/it]"
     ]
    },
    {
     "name": "stdout",
     "output_type": "stream",
     "text": [
      "Epoch 1/10\n",
      "5/5 [==============================] - 0s 91ms/step - loss: 1.0931 - sparse_categorical_accuracy: 0.7568\n",
      "Epoch 2/10\n",
      "5/5 [==============================] - 0s 97ms/step - loss: 0.8972 - sparse_categorical_accuracy: 0.9189\n",
      "Epoch 3/10\n",
      "5/5 [==============================] - 0s 94ms/step - loss: 1.2979 - sparse_categorical_accuracy: 0.8649\n",
      "Epoch 4/10\n",
      "5/5 [==============================] - 0s 97ms/step - loss: 0.8943 - sparse_categorical_accuracy: 0.8919\n",
      "Epoch 5/10\n",
      "5/5 [==============================] - 0s 90ms/step - loss: 0.7118 - sparse_categorical_accuracy: 0.9459\n",
      "Epoch 6/10\n",
      "5/5 [==============================] - 0s 86ms/step - loss: 1.2026 - sparse_categorical_accuracy: 0.7838\n",
      "Epoch 7/10\n",
      "5/5 [==============================] - 0s 90ms/step - loss: 0.6731 - sparse_categorical_accuracy: 0.8649\n",
      "Epoch 8/10\n",
      "5/5 [==============================] - 0s 89ms/step - loss: 0.7996 - sparse_categorical_accuracy: 0.7838\n",
      "Epoch 9/10\n",
      "5/5 [==============================] - 0s 90ms/step - loss: 0.6324 - sparse_categorical_accuracy: 0.9459\n",
      "Epoch 10/10\n",
      "5/5 [==============================] - 0s 85ms/step - loss: 0.6323 - sparse_categorical_accuracy: 0.9189\n"
     ]
    },
    {
     "name": "stderr",
     "output_type": "stream",
     "text": [
      "\r",
      "18it [03:15, 10.90s/it]"
     ]
    },
    {
     "name": "stdout",
     "output_type": "stream",
     "text": [
      "Epoch 1/10\n",
      "5/5 [==============================] - 0s 86ms/step - loss: 1.3000 - sparse_categorical_accuracy: 0.5405\n",
      "Epoch 2/10\n",
      "5/5 [==============================] - 0s 87ms/step - loss: 1.2489 - sparse_categorical_accuracy: 0.8378\n",
      "Epoch 3/10\n",
      "5/5 [==============================] - 0s 88ms/step - loss: 1.1846 - sparse_categorical_accuracy: 0.8649\n",
      "Epoch 4/10\n",
      "5/5 [==============================] - 0s 89ms/step - loss: 1.2121 - sparse_categorical_accuracy: 0.8919\n",
      "Epoch 5/10\n",
      "5/5 [==============================] - 0s 92ms/step - loss: 0.8496 - sparse_categorical_accuracy: 0.9730\n",
      "Epoch 6/10\n",
      "5/5 [==============================] - 0s 91ms/step - loss: 0.7275 - sparse_categorical_accuracy: 0.9730\n",
      "Epoch 7/10\n",
      "5/5 [==============================] - 0s 87ms/step - loss: 0.6271 - sparse_categorical_accuracy: 0.9730\n",
      "Epoch 8/10\n",
      "5/5 [==============================] - 0s 89ms/step - loss: 0.5328 - sparse_categorical_accuracy: 0.9730\n",
      "Epoch 9/10\n",
      "5/5 [==============================] - 0s 88ms/step - loss: 0.7128 - sparse_categorical_accuracy: 0.8649\n",
      "Epoch 10/10\n",
      "5/5 [==============================] - 0s 91ms/step - loss: 0.6974 - sparse_categorical_accuracy: 0.8649\n"
     ]
    },
    {
     "name": "stderr",
     "output_type": "stream",
     "text": [
      "\r",
      "19it [03:26, 10.84s/it]"
     ]
    },
    {
     "name": "stdout",
     "output_type": "stream",
     "text": [
      "Epoch 1/10\n",
      "5/5 [==============================] - 0s 91ms/step - loss: 1.0642 - sparse_categorical_accuracy: 0.7297\n",
      "Epoch 2/10\n",
      "5/5 [==============================] - 0s 91ms/step - loss: 0.9093 - sparse_categorical_accuracy: 0.9730\n",
      "Epoch 3/10\n",
      "5/5 [==============================] - 0s 88ms/step - loss: 1.3391 - sparse_categorical_accuracy: 0.8108\n",
      "Epoch 4/10\n",
      "5/5 [==============================] - 0s 83ms/step - loss: 1.0178 - sparse_categorical_accuracy: 0.8649\n",
      "Epoch 5/10\n",
      "5/5 [==============================] - 0s 90ms/step - loss: 1.0233 - sparse_categorical_accuracy: 0.8108\n",
      "Epoch 6/10\n",
      "5/5 [==============================] - 0s 88ms/step - loss: 0.7839 - sparse_categorical_accuracy: 0.8649\n",
      "Epoch 7/10\n",
      "5/5 [==============================] - 0s 89ms/step - loss: 0.7720 - sparse_categorical_accuracy: 0.8649\n",
      "Epoch 8/10\n",
      "5/5 [==============================] - 0s 93ms/step - loss: 0.6180 - sparse_categorical_accuracy: 0.9189\n",
      "Epoch 9/10\n",
      "5/5 [==============================] - 0s 88ms/step - loss: 0.8611 - sparse_categorical_accuracy: 0.8649\n",
      "Epoch 10/10\n",
      "5/5 [==============================] - 0s 91ms/step - loss: 0.5893 - sparse_categorical_accuracy: 0.9189\n"
     ]
    },
    {
     "name": "stderr",
     "output_type": "stream",
     "text": [
      "\r",
      "20it [03:37, 10.81s/it]"
     ]
    },
    {
     "name": "stdout",
     "output_type": "stream",
     "text": [
      "Epoch 1/10\n",
      "5/5 [==============================] - 0s 87ms/step - loss: 1.1141 - sparse_categorical_accuracy: 0.7568\n",
      "Epoch 2/10\n",
      "5/5 [==============================] - 0s 91ms/step - loss: 1.3060 - sparse_categorical_accuracy: 0.7297\n",
      "Epoch 3/10\n",
      "5/5 [==============================] - 0s 88ms/step - loss: 1.2850 - sparse_categorical_accuracy: 0.7838\n",
      "Epoch 4/10\n",
      "5/5 [==============================] - 0s 90ms/step - loss: 1.0214 - sparse_categorical_accuracy: 0.8649\n",
      "Epoch 5/10\n",
      "5/5 [==============================] - 0s 89ms/step - loss: 1.3539 - sparse_categorical_accuracy: 0.7297\n",
      "Epoch 6/10\n",
      "5/5 [==============================] - 0s 91ms/step - loss: 0.8700 - sparse_categorical_accuracy: 0.8378\n",
      "Epoch 7/10\n",
      "5/5 [==============================] - 0s 91ms/step - loss: 0.9854 - sparse_categorical_accuracy: 0.7838\n",
      "Epoch 8/10\n",
      "5/5 [==============================] - 0s 92ms/step - loss: 0.6843 - sparse_categorical_accuracy: 0.9459\n",
      "Epoch 9/10\n",
      "5/5 [==============================] - 0s 89ms/step - loss: 0.6449 - sparse_categorical_accuracy: 0.8649\n",
      "Epoch 10/10\n",
      "5/5 [==============================] - 0s 92ms/step - loss: 0.6075 - sparse_categorical_accuracy: 0.9459\n"
     ]
    },
    {
     "name": "stderr",
     "output_type": "stream",
     "text": [
      "\r",
      "21it [03:48, 11.07s/it]"
     ]
    },
    {
     "name": "stdout",
     "output_type": "stream",
     "text": [
      "Epoch 1/10\n",
      "5/5 [==============================] - 0s 89ms/step - loss: 1.3555 - sparse_categorical_accuracy: 0.5946\n",
      "Epoch 2/10\n",
      "5/5 [==============================] - 0s 93ms/step - loss: 1.1098 - sparse_categorical_accuracy: 0.8649\n",
      "Epoch 3/10\n",
      "5/5 [==============================] - 0s 90ms/step - loss: 1.3383 - sparse_categorical_accuracy: 0.7568\n",
      "Epoch 4/10\n",
      "5/5 [==============================] - 0s 86ms/step - loss: 1.1321 - sparse_categorical_accuracy: 0.8919\n",
      "Epoch 5/10\n",
      "5/5 [==============================] - 0s 91ms/step - loss: 0.9895 - sparse_categorical_accuracy: 0.8108\n",
      "Epoch 6/10\n",
      "5/5 [==============================] - 0s 91ms/step - loss: 0.9595 - sparse_categorical_accuracy: 0.8649\n",
      "Epoch 7/10\n",
      "5/5 [==============================] - 0s 93ms/step - loss: 1.0568 - sparse_categorical_accuracy: 0.8378\n",
      "Epoch 8/10\n",
      "5/5 [==============================] - 0s 88ms/step - loss: 0.8050 - sparse_categorical_accuracy: 0.8108\n",
      "Epoch 9/10\n",
      "5/5 [==============================] - 0s 89ms/step - loss: 0.8502 - sparse_categorical_accuracy: 0.8108\n",
      "Epoch 10/10\n",
      "5/5 [==============================] - 0s 89ms/step - loss: 0.5735 - sparse_categorical_accuracy: 0.8919\n"
     ]
    },
    {
     "name": "stderr",
     "output_type": "stream",
     "text": [
      "\r",
      "22it [03:59, 10.99s/it]"
     ]
    },
    {
     "name": "stdout",
     "output_type": "stream",
     "text": [
      "Epoch 1/10\n",
      "5/5 [==============================] - 0s 86ms/step - loss: 1.2192 - sparse_categorical_accuracy: 0.7027\n",
      "Epoch 2/10\n",
      "5/5 [==============================] - 0s 91ms/step - loss: 1.2424 - sparse_categorical_accuracy: 0.8378\n",
      "Epoch 3/10\n",
      "5/5 [==============================] - 0s 88ms/step - loss: 1.2101 - sparse_categorical_accuracy: 0.8378\n",
      "Epoch 4/10\n",
      "5/5 [==============================] - 0s 91ms/step - loss: 1.0394 - sparse_categorical_accuracy: 0.8378\n",
      "Epoch 5/10\n",
      "5/5 [==============================] - 0s 91ms/step - loss: 0.8885 - sparse_categorical_accuracy: 0.8649\n",
      "Epoch 6/10\n",
      "5/5 [==============================] - 0s 89ms/step - loss: 0.7974 - sparse_categorical_accuracy: 0.8378\n",
      "Epoch 7/10\n",
      "5/5 [==============================] - 0s 87ms/step - loss: 0.6728 - sparse_categorical_accuracy: 0.8378\n",
      "Epoch 8/10\n",
      "5/5 [==============================] - 0s 91ms/step - loss: 0.7291 - sparse_categorical_accuracy: 0.8919\n",
      "Epoch 9/10\n",
      "5/5 [==============================] - 0s 90ms/step - loss: 0.9310 - sparse_categorical_accuracy: 0.8378\n",
      "Epoch 10/10\n",
      "5/5 [==============================] - 0s 85ms/step - loss: 0.7206 - sparse_categorical_accuracy: 0.8378\n"
     ]
    },
    {
     "name": "stderr",
     "output_type": "stream",
     "text": [
      "\r",
      "23it [04:10, 10.97s/it]"
     ]
    },
    {
     "name": "stdout",
     "output_type": "stream",
     "text": [
      "Epoch 1/10\n",
      "5/5 [==============================] - 0s 92ms/step - loss: 1.2119 - sparse_categorical_accuracy: 0.6757\n",
      "Epoch 2/10\n",
      "5/5 [==============================] - 0s 87ms/step - loss: 0.7744 - sparse_categorical_accuracy: 1.0000\n",
      "Epoch 3/10\n",
      "5/5 [==============================] - 0s 91ms/step - loss: 0.9462 - sparse_categorical_accuracy: 0.9459\n",
      "Epoch 4/10\n",
      "5/5 [==============================] - 0s 91ms/step - loss: 1.1683 - sparse_categorical_accuracy: 0.8108\n",
      "Epoch 5/10\n",
      "5/5 [==============================] - 0s 94ms/step - loss: 1.1323 - sparse_categorical_accuracy: 0.8378\n",
      "Epoch 6/10\n",
      "5/5 [==============================] - 0s 89ms/step - loss: 0.9523 - sparse_categorical_accuracy: 0.8919\n",
      "Epoch 7/10\n",
      "5/5 [==============================] - 0s 90ms/step - loss: 0.7289 - sparse_categorical_accuracy: 0.9189\n",
      "Epoch 8/10\n",
      "5/5 [==============================] - 0s 89ms/step - loss: 0.9257 - sparse_categorical_accuracy: 0.7838\n",
      "Epoch 9/10\n",
      "5/5 [==============================] - 0s 91ms/step - loss: 0.6199 - sparse_categorical_accuracy: 0.9459\n",
      "Epoch 10/10\n",
      "5/5 [==============================] - 0s 88ms/step - loss: 0.6444 - sparse_categorical_accuracy: 0.9459\n"
     ]
    },
    {
     "name": "stderr",
     "output_type": "stream",
     "text": [
      "\r",
      "24it [04:21, 10.92s/it]"
     ]
    },
    {
     "name": "stdout",
     "output_type": "stream",
     "text": [
      "Epoch 1/10\n",
      "5/5 [==============================] - 0s 91ms/step - loss: 1.2463 - sparse_categorical_accuracy: 0.6757\n",
      "Epoch 2/10\n",
      "5/5 [==============================] - 0s 90ms/step - loss: 1.1484 - sparse_categorical_accuracy: 0.7838\n",
      "Epoch 3/10\n",
      "5/5 [==============================] - 0s 86ms/step - loss: 1.1135 - sparse_categorical_accuracy: 0.8919\n",
      "Epoch 4/10\n",
      "5/5 [==============================] - 0s 86ms/step - loss: 1.3574 - sparse_categorical_accuracy: 0.7027\n",
      "Epoch 5/10\n",
      "5/5 [==============================] - 0s 90ms/step - loss: 1.1077 - sparse_categorical_accuracy: 0.7568\n",
      "Epoch 6/10\n",
      "5/5 [==============================] - 0s 91ms/step - loss: 0.9508 - sparse_categorical_accuracy: 0.7297\n",
      "Epoch 7/10\n",
      "5/5 [==============================] - 0s 88ms/step - loss: 0.7608 - sparse_categorical_accuracy: 0.8919\n",
      "Epoch 8/10\n",
      "5/5 [==============================] - 0s 90ms/step - loss: 0.8419 - sparse_categorical_accuracy: 0.8108\n",
      "Epoch 9/10\n",
      "5/5 [==============================] - 0s 91ms/step - loss: 0.5777 - sparse_categorical_accuracy: 0.9189\n",
      "Epoch 10/10\n",
      "5/5 [==============================] - 0s 88ms/step - loss: 0.9585 - sparse_categorical_accuracy: 0.8378\n"
     ]
    },
    {
     "name": "stderr",
     "output_type": "stream",
     "text": [
      "\r",
      "25it [04:32, 10.89s/it]"
     ]
    },
    {
     "name": "stdout",
     "output_type": "stream",
     "text": [
      "Epoch 1/10\n",
      "5/5 [==============================] - 0s 91ms/step - loss: 1.1105 - sparse_categorical_accuracy: 0.7027\n",
      "Epoch 2/10\n",
      "5/5 [==============================] - 0s 88ms/step - loss: 1.1254 - sparse_categorical_accuracy: 0.8919\n",
      "Epoch 3/10\n",
      "5/5 [==============================] - 0s 90ms/step - loss: 0.9919 - sparse_categorical_accuracy: 0.9459\n",
      "Epoch 4/10\n",
      "5/5 [==============================] - 1s 107ms/step - loss: 0.7914 - sparse_categorical_accuracy: 0.9730\n",
      "Epoch 5/10\n",
      "5/5 [==============================] - 0s 96ms/step - loss: 0.7815 - sparse_categorical_accuracy: 0.9459\n",
      "Epoch 6/10\n",
      "5/5 [==============================] - 0s 89ms/step - loss: 0.8603 - sparse_categorical_accuracy: 0.9189\n",
      "Epoch 7/10\n",
      "5/5 [==============================] - 0s 91ms/step - loss: 0.7353 - sparse_categorical_accuracy: 0.8649\n",
      "Epoch 8/10\n",
      "5/5 [==============================] - 0s 86ms/step - loss: 0.7392 - sparse_categorical_accuracy: 0.9189\n",
      "Epoch 9/10\n",
      "5/5 [==============================] - 0s 89ms/step - loss: 0.8410 - sparse_categorical_accuracy: 0.8378\n",
      "Epoch 10/10\n",
      "5/5 [==============================] - 0s 86ms/step - loss: 0.7290 - sparse_categorical_accuracy: 0.8919\n"
     ]
    },
    {
     "name": "stderr",
     "output_type": "stream",
     "text": [
      "\r",
      "26it [04:44, 11.18s/it]"
     ]
    },
    {
     "name": "stdout",
     "output_type": "stream",
     "text": [
      "Epoch 1/10\n",
      "5/5 [==============================] - 0s 89ms/step - loss: 1.2222 - sparse_categorical_accuracy: 0.6757\n",
      "Epoch 2/10\n",
      "5/5 [==============================] - 0s 90ms/step - loss: 1.2821 - sparse_categorical_accuracy: 0.7568\n",
      "Epoch 3/10\n",
      "5/5 [==============================] - 0s 93ms/step - loss: 1.5344 - sparse_categorical_accuracy: 0.7297\n",
      "Epoch 4/10\n",
      "5/5 [==============================] - 0s 90ms/step - loss: 1.5937 - sparse_categorical_accuracy: 0.7838\n",
      "Epoch 5/10\n",
      "5/5 [==============================] - 0s 89ms/step - loss: 1.0930 - sparse_categorical_accuracy: 0.8919\n",
      "Epoch 6/10\n",
      "5/5 [==============================] - 0s 93ms/step - loss: 0.9574 - sparse_categorical_accuracy: 0.8649\n",
      "Epoch 7/10\n",
      "5/5 [==============================] - 0s 92ms/step - loss: 0.7131 - sparse_categorical_accuracy: 0.9459\n",
      "Epoch 8/10\n",
      "5/5 [==============================] - 0s 96ms/step - loss: 0.6312 - sparse_categorical_accuracy: 0.9730\n",
      "Epoch 9/10\n",
      "5/5 [==============================] - 0s 86ms/step - loss: 1.1848 - sparse_categorical_accuracy: 0.7838\n",
      "Epoch 10/10\n",
      "5/5 [==============================] - 0s 94ms/step - loss: 0.9907 - sparse_categorical_accuracy: 0.8378\n"
     ]
    },
    {
     "name": "stderr",
     "output_type": "stream",
     "text": [
      "\r",
      "27it [04:55, 11.14s/it]"
     ]
    },
    {
     "name": "stdout",
     "output_type": "stream",
     "text": [
      "Epoch 1/10\n",
      "5/5 [==============================] - 0s 90ms/step - loss: 1.0891 - sparse_categorical_accuracy: 0.7568\n",
      "Epoch 2/10\n",
      "5/5 [==============================] - 0s 89ms/step - loss: 1.0139 - sparse_categorical_accuracy: 0.9189\n",
      "Epoch 3/10\n",
      "5/5 [==============================] - 0s 90ms/step - loss: 1.0669 - sparse_categorical_accuracy: 0.9189\n",
      "Epoch 4/10\n",
      "5/5 [==============================] - 0s 94ms/step - loss: 0.7418 - sparse_categorical_accuracy: 0.9730\n",
      "Epoch 5/10\n",
      "5/5 [==============================] - 0s 89ms/step - loss: 0.7219 - sparse_categorical_accuracy: 0.9730\n",
      "Epoch 6/10\n",
      "5/5 [==============================] - 0s 91ms/step - loss: 0.9265 - sparse_categorical_accuracy: 0.8108\n",
      "Epoch 7/10\n",
      "5/5 [==============================] - 0s 88ms/step - loss: 0.6270 - sparse_categorical_accuracy: 0.8919\n",
      "Epoch 8/10\n",
      "5/5 [==============================] - 0s 91ms/step - loss: 0.6979 - sparse_categorical_accuracy: 0.8919\n",
      "Epoch 9/10\n",
      "5/5 [==============================] - 0s 91ms/step - loss: 0.6687 - sparse_categorical_accuracy: 0.8919\n",
      "Epoch 10/10\n",
      "5/5 [==============================] - 0s 91ms/step - loss: 0.6150 - sparse_categorical_accuracy: 0.9459\n"
     ]
    },
    {
     "name": "stderr",
     "output_type": "stream",
     "text": [
      "\r",
      "28it [05:06, 11.07s/it]"
     ]
    },
    {
     "name": "stdout",
     "output_type": "stream",
     "text": [
      "Epoch 1/10\n",
      "5/5 [==============================] - 0s 85ms/step - loss: 1.0978 - sparse_categorical_accuracy: 0.8108\n",
      "Epoch 2/10\n",
      "5/5 [==============================] - 0s 91ms/step - loss: 1.1808 - sparse_categorical_accuracy: 0.8378\n",
      "Epoch 3/10\n",
      "5/5 [==============================] - 1s 105ms/step - loss: 1.1640 - sparse_categorical_accuracy: 0.8378\n",
      "Epoch 4/10\n",
      "5/5 [==============================] - 0s 89ms/step - loss: 0.8575 - sparse_categorical_accuracy: 0.8919\n",
      "Epoch 5/10\n",
      "5/5 [==============================] - 0s 89ms/step - loss: 0.9180 - sparse_categorical_accuracy: 0.8919\n",
      "Epoch 6/10\n",
      "5/5 [==============================] - 0s 92ms/step - loss: 1.2369 - sparse_categorical_accuracy: 0.8108\n",
      "Epoch 7/10\n",
      "5/5 [==============================] - 0s 92ms/step - loss: 0.7849 - sparse_categorical_accuracy: 0.9189\n",
      "Epoch 8/10\n",
      "5/5 [==============================] - 0s 85ms/step - loss: 0.7102 - sparse_categorical_accuracy: 0.8919\n",
      "Epoch 9/10\n",
      "5/5 [==============================] - 0s 91ms/step - loss: 0.4558 - sparse_categorical_accuracy: 1.0000\n",
      "Epoch 10/10\n",
      "5/5 [==============================] - 0s 91ms/step - loss: 0.4521 - sparse_categorical_accuracy: 0.9730\n"
     ]
    },
    {
     "name": "stderr",
     "output_type": "stream",
     "text": [
      "\r",
      "29it [05:17, 11.06s/it]"
     ]
    },
    {
     "name": "stdout",
     "output_type": "stream",
     "text": [
      "Epoch 1/10\n",
      "5/5 [==============================] - 0s 86ms/step - loss: 1.0279 - sparse_categorical_accuracy: 0.7297\n",
      "Epoch 2/10\n",
      "5/5 [==============================] - 0s 88ms/step - loss: 1.1181 - sparse_categorical_accuracy: 0.8919\n",
      "Epoch 3/10\n",
      "5/5 [==============================] - 0s 91ms/step - loss: 1.1855 - sparse_categorical_accuracy: 0.8108\n",
      "Epoch 4/10\n",
      "5/5 [==============================] - 0s 91ms/step - loss: 1.3050 - sparse_categorical_accuracy: 0.7568\n",
      "Epoch 5/10\n",
      "5/5 [==============================] - 0s 91ms/step - loss: 0.7804 - sparse_categorical_accuracy: 0.9189\n",
      "Epoch 6/10\n",
      "5/5 [==============================] - 0s 91ms/step - loss: 0.7246 - sparse_categorical_accuracy: 0.8919\n",
      "Epoch 7/10\n",
      "5/5 [==============================] - 0s 94ms/step - loss: 0.8365 - sparse_categorical_accuracy: 0.8919\n",
      "Epoch 8/10\n",
      "5/5 [==============================] - 0s 91ms/step - loss: 0.6627 - sparse_categorical_accuracy: 0.8649\n",
      "Epoch 9/10\n",
      "5/5 [==============================] - 0s 88ms/step - loss: 0.8395 - sparse_categorical_accuracy: 0.8649\n",
      "Epoch 10/10\n",
      "5/5 [==============================] - 0s 89ms/step - loss: 0.9995 - sparse_categorical_accuracy: 0.6216\n"
     ]
    },
    {
     "name": "stderr",
     "output_type": "stream",
     "text": [
      "\r",
      "30it [05:27, 11.01s/it]"
     ]
    },
    {
     "name": "stdout",
     "output_type": "stream",
     "text": [
      "Epoch 1/10\n",
      "5/5 [==============================] - 0s 89ms/step - loss: 1.4780 - sparse_categorical_accuracy: 0.6216\n",
      "Epoch 2/10\n",
      "5/5 [==============================] - 0s 94ms/step - loss: 1.0997 - sparse_categorical_accuracy: 0.7838\n",
      "Epoch 3/10\n",
      "5/5 [==============================] - 0s 89ms/step - loss: 1.4803 - sparse_categorical_accuracy: 0.8108\n",
      "Epoch 4/10\n",
      "5/5 [==============================] - 0s 89ms/step - loss: 1.2866 - sparse_categorical_accuracy: 0.8108\n",
      "Epoch 5/10\n",
      "5/5 [==============================] - 0s 94ms/step - loss: 0.9909 - sparse_categorical_accuracy: 0.8649\n",
      "Epoch 6/10\n",
      "5/5 [==============================] - 0s 88ms/step - loss: 0.9229 - sparse_categorical_accuracy: 0.8378\n",
      "Epoch 7/10\n",
      "5/5 [==============================] - 0s 87ms/step - loss: 0.8966 - sparse_categorical_accuracy: 0.7838\n",
      "Epoch 8/10\n",
      "5/5 [==============================] - 0s 90ms/step - loss: 0.7892 - sparse_categorical_accuracy: 0.7838\n",
      "Epoch 9/10\n",
      "5/5 [==============================] - 0s 89ms/step - loss: 0.8688 - sparse_categorical_accuracy: 0.7297\n",
      "Epoch 10/10\n",
      "5/5 [==============================] - 0s 85ms/step - loss: 0.8632 - sparse_categorical_accuracy: 0.7838\n"
     ]
    },
    {
     "name": "stderr",
     "output_type": "stream",
     "text": [
      "\r",
      "31it [05:38, 10.96s/it]"
     ]
    },
    {
     "name": "stdout",
     "output_type": "stream",
     "text": [
      "Epoch 1/10\n",
      "5/5 [==============================] - 0s 88ms/step - loss: 0.9072 - sparse_categorical_accuracy: 0.8378\n",
      "Epoch 2/10\n",
      "5/5 [==============================] - 0s 91ms/step - loss: 0.9943 - sparse_categorical_accuracy: 0.8378\n",
      "Epoch 3/10\n",
      "5/5 [==============================] - 0s 91ms/step - loss: 0.7450 - sparse_categorical_accuracy: 1.0000\n",
      "Epoch 4/10\n",
      "5/5 [==============================] - 0s 91ms/step - loss: 1.0553 - sparse_categorical_accuracy: 0.9189\n",
      "Epoch 5/10\n",
      "5/5 [==============================] - 0s 92ms/step - loss: 1.0641 - sparse_categorical_accuracy: 0.8649\n",
      "Epoch 6/10\n",
      "5/5 [==============================] - 0s 89ms/step - loss: 0.7972 - sparse_categorical_accuracy: 0.8378\n",
      "Epoch 7/10\n",
      "5/5 [==============================] - 0s 84ms/step - loss: 0.8660 - sparse_categorical_accuracy: 0.9189\n",
      "Epoch 8/10\n",
      "5/5 [==============================] - 0s 90ms/step - loss: 0.7118 - sparse_categorical_accuracy: 0.8919\n",
      "Epoch 9/10\n",
      "5/5 [==============================] - 0s 89ms/step - loss: 0.5818 - sparse_categorical_accuracy: 0.9189\n",
      "Epoch 10/10\n",
      "5/5 [==============================] - 0s 90ms/step - loss: 0.5696 - sparse_categorical_accuracy: 0.9189\n"
     ]
    },
    {
     "name": "stderr",
     "output_type": "stream",
     "text": [
      "\r",
      "32it [05:50, 11.17s/it]"
     ]
    },
    {
     "name": "stdout",
     "output_type": "stream",
     "text": [
      "Epoch 1/10\n",
      "5/5 [==============================] - 0s 88ms/step - loss: 1.0378 - sparse_categorical_accuracy: 0.6486\n",
      "Epoch 2/10\n",
      "5/5 [==============================] - 0s 90ms/step - loss: 0.9756 - sparse_categorical_accuracy: 0.8919\n",
      "Epoch 3/10\n",
      "5/5 [==============================] - 0s 91ms/step - loss: 0.8034 - sparse_categorical_accuracy: 0.9730\n",
      "Epoch 4/10\n",
      "5/5 [==============================] - 0s 92ms/step - loss: 0.8616 - sparse_categorical_accuracy: 0.9189\n",
      "Epoch 5/10\n",
      "5/5 [==============================] - 0s 87ms/step - loss: 0.6698 - sparse_categorical_accuracy: 0.9189\n",
      "Epoch 6/10\n",
      "5/5 [==============================] - 0s 94ms/step - loss: 0.7038 - sparse_categorical_accuracy: 0.9189\n",
      "Epoch 7/10\n",
      "5/5 [==============================] - 0s 92ms/step - loss: 0.9004 - sparse_categorical_accuracy: 0.8649\n",
      "Epoch 8/10\n",
      "5/5 [==============================] - 0s 88ms/step - loss: 0.5357 - sparse_categorical_accuracy: 0.9730\n",
      "Epoch 9/10\n",
      "5/5 [==============================] - 0s 91ms/step - loss: 0.5110 - sparse_categorical_accuracy: 0.9730\n",
      "Epoch 10/10\n",
      "5/5 [==============================] - 0s 88ms/step - loss: 0.7310 - sparse_categorical_accuracy: 0.8919\n"
     ]
    },
    {
     "name": "stderr",
     "output_type": "stream",
     "text": [
      "\r",
      "33it [06:01, 11.11s/it]"
     ]
    },
    {
     "name": "stdout",
     "output_type": "stream",
     "text": [
      "Epoch 1/10\n",
      "5/5 [==============================] - 0s 88ms/step - loss: 1.3130 - sparse_categorical_accuracy: 0.5946\n",
      "Epoch 2/10\n",
      "5/5 [==============================] - 0s 89ms/step - loss: 0.9029 - sparse_categorical_accuracy: 0.9189\n",
      "Epoch 3/10\n",
      "5/5 [==============================] - 0s 91ms/step - loss: 1.3693 - sparse_categorical_accuracy: 0.7568\n",
      "Epoch 4/10\n",
      "5/5 [==============================] - 0s 91ms/step - loss: 0.8137 - sparse_categorical_accuracy: 0.9730\n",
      "Epoch 5/10\n",
      "5/5 [==============================] - 0s 91ms/step - loss: 0.9016 - sparse_categorical_accuracy: 0.9189\n",
      "Epoch 6/10\n",
      "5/5 [==============================] - 0s 88ms/step - loss: 0.8719 - sparse_categorical_accuracy: 0.8378\n",
      "Epoch 7/10\n",
      "5/5 [==============================] - 0s 91ms/step - loss: 0.7139 - sparse_categorical_accuracy: 0.9189\n",
      "Epoch 8/10\n",
      "5/5 [==============================] - 0s 86ms/step - loss: 0.5324 - sparse_categorical_accuracy: 0.9730\n",
      "Epoch 9/10\n",
      "5/5 [==============================] - 0s 89ms/step - loss: 0.6947 - sparse_categorical_accuracy: 0.8919\n",
      "Epoch 10/10\n",
      "5/5 [==============================] - 0s 89ms/step - loss: 0.5757 - sparse_categorical_accuracy: 0.9459\n"
     ]
    },
    {
     "name": "stderr",
     "output_type": "stream",
     "text": [
      "\r",
      "34it [06:12, 11.09s/it]"
     ]
    },
    {
     "name": "stdout",
     "output_type": "stream",
     "text": [
      "Epoch 1/10\n",
      "5/5 [==============================] - 0s 95ms/step - loss: 1.0578 - sparse_categorical_accuracy: 0.7568\n",
      "Epoch 2/10\n",
      "5/5 [==============================] - 0s 87ms/step - loss: 1.0587 - sparse_categorical_accuracy: 0.8919\n",
      "Epoch 3/10\n",
      "5/5 [==============================] - 0s 88ms/step - loss: 1.1579 - sparse_categorical_accuracy: 0.9189\n",
      "Epoch 4/10\n",
      "5/5 [==============================] - 0s 90ms/step - loss: 1.1042 - sparse_categorical_accuracy: 0.8649\n",
      "Epoch 5/10\n",
      "5/5 [==============================] - 0s 90ms/step - loss: 1.4374 - sparse_categorical_accuracy: 0.7297\n",
      "Epoch 6/10\n",
      "5/5 [==============================] - 0s 92ms/step - loss: 0.8808 - sparse_categorical_accuracy: 0.8108\n",
      "Epoch 7/10\n",
      "5/5 [==============================] - 0s 91ms/step - loss: 0.7338 - sparse_categorical_accuracy: 0.8649\n",
      "Epoch 8/10\n",
      "5/5 [==============================] - 0s 90ms/step - loss: 0.7846 - sparse_categorical_accuracy: 0.8108\n",
      "Epoch 9/10\n",
      "5/5 [==============================] - 0s 91ms/step - loss: 0.7107 - sparse_categorical_accuracy: 0.8919\n",
      "Epoch 10/10\n",
      "5/5 [==============================] - 0s 89ms/step - loss: 0.7640 - sparse_categorical_accuracy: 0.8919\n"
     ]
    },
    {
     "name": "stderr",
     "output_type": "stream",
     "text": [
      "\r",
      "35it [06:23, 11.04s/it]"
     ]
    },
    {
     "name": "stdout",
     "output_type": "stream",
     "text": [
      "Epoch 1/10\n",
      "5/5 [==============================] - 0s 85ms/step - loss: 1.0417 - sparse_categorical_accuracy: 0.6757\n",
      "Epoch 2/10\n",
      "5/5 [==============================] - 0s 91ms/step - loss: 0.9426 - sparse_categorical_accuracy: 0.8649\n",
      "Epoch 3/10\n",
      "5/5 [==============================] - 0s 89ms/step - loss: 0.8076 - sparse_categorical_accuracy: 0.9730\n",
      "Epoch 4/10\n",
      "5/5 [==============================] - 0s 88ms/step - loss: 0.8686 - sparse_categorical_accuracy: 0.8919\n",
      "Epoch 5/10\n",
      "5/5 [==============================] - 0s 90ms/step - loss: 0.7679 - sparse_categorical_accuracy: 0.9189\n",
      "Epoch 6/10\n",
      "5/5 [==============================] - 0s 94ms/step - loss: 0.5286 - sparse_categorical_accuracy: 1.0000\n",
      "Epoch 7/10\n",
      "5/5 [==============================] - 0s 88ms/step - loss: 0.4548 - sparse_categorical_accuracy: 1.0000\n",
      "Epoch 8/10\n",
      "5/5 [==============================] - 0s 86ms/step - loss: 0.4008 - sparse_categorical_accuracy: 1.0000\n",
      "Epoch 9/10\n",
      "5/5 [==============================] - 0s 90ms/step - loss: 0.4019 - sparse_categorical_accuracy: 0.9730\n",
      "Epoch 10/10\n",
      "5/5 [==============================] - 0s 90ms/step - loss: 1.1009 - sparse_categorical_accuracy: 0.8649\n"
     ]
    },
    {
     "name": "stderr",
     "output_type": "stream",
     "text": [
      "\r",
      "36it [06:34, 10.99s/it]"
     ]
    },
    {
     "name": "stdout",
     "output_type": "stream",
     "text": [
      "Epoch 1/10\n",
      "5/5 [==============================] - 0s 83ms/step - loss: 1.2415 - sparse_categorical_accuracy: 0.5946\n",
      "Epoch 2/10\n",
      "5/5 [==============================] - 0s 91ms/step - loss: 1.3350 - sparse_categorical_accuracy: 0.7838\n",
      "Epoch 3/10\n",
      "5/5 [==============================] - 0s 95ms/step - loss: 1.1790 - sparse_categorical_accuracy: 0.8378\n",
      "Epoch 4/10\n",
      "5/5 [==============================] - 0s 86ms/step - loss: 0.9622 - sparse_categorical_accuracy: 0.8919\n",
      "Epoch 5/10\n",
      "5/5 [==============================] - 0s 89ms/step - loss: 0.8686 - sparse_categorical_accuracy: 0.8649\n",
      "Epoch 6/10\n",
      "5/5 [==============================] - 0s 91ms/step - loss: 0.7828 - sparse_categorical_accuracy: 0.8378\n",
      "Epoch 7/10\n",
      "5/5 [==============================] - 0s 91ms/step - loss: 0.5056 - sparse_categorical_accuracy: 1.0000\n",
      "Epoch 8/10\n",
      "5/5 [==============================] - 0s 91ms/step - loss: 0.5218 - sparse_categorical_accuracy: 0.9459\n",
      "Epoch 9/10\n",
      "5/5 [==============================] - 0s 90ms/step - loss: 0.5448 - sparse_categorical_accuracy: 0.9189\n",
      "Epoch 10/10\n",
      "5/5 [==============================] - 0s 89ms/step - loss: 1.0499 - sparse_categorical_accuracy: 0.7838\n"
     ]
    },
    {
     "name": "stderr",
     "output_type": "stream",
     "text": [
      "\r",
      "37it [06:45, 10.98s/it]"
     ]
    },
    {
     "name": "stdout",
     "output_type": "stream",
     "text": [
      "Epoch 1/10\n",
      "5/5 [==============================] - 0s 91ms/step - loss: 1.4078 - sparse_categorical_accuracy: 0.5135\n",
      "Epoch 2/10\n",
      "5/5 [==============================] - 0s 90ms/step - loss: 1.0068 - sparse_categorical_accuracy: 0.8649\n",
      "Epoch 3/10\n",
      "5/5 [==============================] - 0s 90ms/step - loss: 1.3807 - sparse_categorical_accuracy: 0.8108\n",
      "Epoch 4/10\n",
      "5/5 [==============================] - 0s 91ms/step - loss: 0.9913 - sparse_categorical_accuracy: 0.8919\n",
      "Epoch 5/10\n",
      "5/5 [==============================] - 0s 96ms/step - loss: 1.1442 - sparse_categorical_accuracy: 0.8919\n",
      "Epoch 6/10\n",
      "5/5 [==============================] - 0s 90ms/step - loss: 0.7999 - sparse_categorical_accuracy: 0.9189\n",
      "Epoch 7/10\n",
      "5/5 [==============================] - 0s 91ms/step - loss: 0.7338 - sparse_categorical_accuracy: 0.8919\n",
      "Epoch 8/10\n",
      "5/5 [==============================] - 0s 91ms/step - loss: 0.7170 - sparse_categorical_accuracy: 0.8649\n",
      "Epoch 9/10\n",
      "5/5 [==============================] - 0s 87ms/step - loss: 0.6543 - sparse_categorical_accuracy: 0.8919\n",
      "Epoch 10/10\n",
      "5/5 [==============================] - 0s 93ms/step - loss: 0.7334 - sparse_categorical_accuracy: 0.8108\n"
     ]
    },
    {
     "name": "stderr",
     "output_type": "stream",
     "text": [
      "38it [06:57, 10.98s/it]\n",
      "0it [00:00, ?it/s]"
     ]
    },
    {
     "name": "stdout",
     "output_type": "stream",
     "text": [
      "Epoch 1/10\n",
      "WARNING:tensorflow:Model was constructed with shape (None, 270, 3) for input Tensor(\"input_87:0\", shape=(None, 270, 3), dtype=float32), but it was called on an input with incompatible shape (None, 240, 3).\n",
      "WARNING:tensorflow:Model was constructed with shape (None, 270, 3) for input Tensor(\"input_87:0\", shape=(None, 270, 3), dtype=float32), but it was called on an input with incompatible shape (None, 240, 3).\n",
      "5/5 [==============================] - 0s 76ms/step - loss: 1.1907 - sparse_categorical_accuracy: 0.7297\n",
      "Epoch 2/10\n",
      "5/5 [==============================] - 0s 77ms/step - loss: 0.9313 - sparse_categorical_accuracy: 0.9189\n",
      "Epoch 3/10\n",
      "5/5 [==============================] - 0s 78ms/step - loss: 0.8141 - sparse_categorical_accuracy: 0.9730\n",
      "Epoch 4/10\n",
      "5/5 [==============================] - 0s 80ms/step - loss: 0.8763 - sparse_categorical_accuracy: 0.8919\n",
      "Epoch 5/10\n",
      "5/5 [==============================] - 0s 81ms/step - loss: 0.8749 - sparse_categorical_accuracy: 0.8919\n",
      "Epoch 6/10\n",
      "5/5 [==============================] - 0s 79ms/step - loss: 0.7685 - sparse_categorical_accuracy: 0.8919\n",
      "Epoch 7/10\n",
      "5/5 [==============================] - 0s 80ms/step - loss: 0.8925 - sparse_categorical_accuracy: 0.8649\n",
      "Epoch 8/10\n",
      "5/5 [==============================] - 0s 78ms/step - loss: 0.7684 - sparse_categorical_accuracy: 0.8378\n",
      "Epoch 9/10\n",
      "5/5 [==============================] - 0s 80ms/step - loss: 0.6901 - sparse_categorical_accuracy: 0.9459\n",
      "Epoch 10/10\n",
      "5/5 [==============================] - 0s 82ms/step - loss: 0.8141 - sparse_categorical_accuracy: 0.8919\n",
      "WARNING:tensorflow:Model was constructed with shape (None, 270, 3) for input Tensor(\"input_87:0\", shape=(None, 270, 3), dtype=float32), but it was called on an input with incompatible shape (None, 240, 3).\n"
     ]
    },
    {
     "name": "stderr",
     "output_type": "stream",
     "text": [
      "\r",
      "1it [00:10, 10.28s/it]"
     ]
    },
    {
     "name": "stdout",
     "output_type": "stream",
     "text": [
      "Epoch 1/10\n",
      "WARNING:tensorflow:Model was constructed with shape (None, 270, 3) for input Tensor(\"input_88:0\", shape=(None, 270, 3), dtype=float32), but it was called on an input with incompatible shape (None, 240, 3).\n",
      "WARNING:tensorflow:Model was constructed with shape (None, 270, 3) for input Tensor(\"input_88:0\", shape=(None, 270, 3), dtype=float32), but it was called on an input with incompatible shape (None, 240, 3).\n",
      "5/5 [==============================] - 0s 78ms/step - loss: 1.2301 - sparse_categorical_accuracy: 0.7027\n",
      "Epoch 2/10\n",
      "5/5 [==============================] - 0s 83ms/step - loss: 1.1492 - sparse_categorical_accuracy: 0.7838\n",
      "Epoch 3/10\n",
      "5/5 [==============================] - 0s 79ms/step - loss: 0.8900 - sparse_categorical_accuracy: 0.8649\n",
      "Epoch 4/10\n",
      "5/5 [==============================] - 0s 73ms/step - loss: 1.2378 - sparse_categorical_accuracy: 0.8108\n",
      "Epoch 5/10\n",
      "5/5 [==============================] - 0s 77ms/step - loss: 0.8912 - sparse_categorical_accuracy: 0.8649\n",
      "Epoch 6/10\n",
      "5/5 [==============================] - 0s 75ms/step - loss: 0.6838 - sparse_categorical_accuracy: 0.9189\n",
      "Epoch 7/10\n",
      "5/5 [==============================] - 0s 80ms/step - loss: 0.7079 - sparse_categorical_accuracy: 0.9189\n",
      "Epoch 8/10\n",
      "5/5 [==============================] - 0s 74ms/step - loss: 0.9079 - sparse_categorical_accuracy: 0.7838\n",
      "Epoch 9/10\n",
      "5/5 [==============================] - 0s 77ms/step - loss: 0.8056 - sparse_categorical_accuracy: 0.8649\n",
      "Epoch 10/10\n",
      "5/5 [==============================] - 0s 78ms/step - loss: 0.7168 - sparse_categorical_accuracy: 0.9189\n",
      "WARNING:tensorflow:Model was constructed with shape (None, 270, 3) for input Tensor(\"input_88:0\", shape=(None, 270, 3), dtype=float32), but it was called on an input with incompatible shape (None, 240, 3).\n"
     ]
    },
    {
     "name": "stderr",
     "output_type": "stream",
     "text": [
      "\r",
      "2it [00:20, 10.27s/it]"
     ]
    },
    {
     "name": "stdout",
     "output_type": "stream",
     "text": [
      "Epoch 1/10\n",
      "WARNING:tensorflow:Model was constructed with shape (None, 270, 3) for input Tensor(\"input_89:0\", shape=(None, 270, 3), dtype=float32), but it was called on an input with incompatible shape (None, 240, 3).\n",
      "WARNING:tensorflow:Model was constructed with shape (None, 270, 3) for input Tensor(\"input_89:0\", shape=(None, 270, 3), dtype=float32), but it was called on an input with incompatible shape (None, 240, 3).\n",
      "5/5 [==============================] - 0s 77ms/step - loss: 1.1978 - sparse_categorical_accuracy: 0.6486\n",
      "Epoch 2/10\n",
      "5/5 [==============================] - 0s 80ms/step - loss: 1.1573 - sparse_categorical_accuracy: 0.7838\n",
      "Epoch 3/10\n",
      "5/5 [==============================] - 0s 76ms/step - loss: 1.1402 - sparse_categorical_accuracy: 0.8649\n",
      "Epoch 4/10\n",
      "5/5 [==============================] - 0s 80ms/step - loss: 1.1123 - sparse_categorical_accuracy: 0.8649\n",
      "Epoch 5/10\n",
      "5/5 [==============================] - 0s 79ms/step - loss: 1.0761 - sparse_categorical_accuracy: 0.9189\n",
      "Epoch 6/10\n",
      "5/5 [==============================] - 0s 76ms/step - loss: 1.0390 - sparse_categorical_accuracy: 0.8108\n",
      "Epoch 7/10\n",
      "5/5 [==============================] - 0s 78ms/step - loss: 1.1002 - sparse_categorical_accuracy: 0.6757\n",
      "Epoch 8/10\n",
      "5/5 [==============================] - 0s 76ms/step - loss: 0.6785 - sparse_categorical_accuracy: 0.9189\n",
      "Epoch 9/10\n",
      "5/5 [==============================] - 0s 79ms/step - loss: 0.5971 - sparse_categorical_accuracy: 0.9189\n",
      "Epoch 10/10\n",
      "5/5 [==============================] - 0s 75ms/step - loss: 0.6066 - sparse_categorical_accuracy: 0.9459\n",
      "WARNING:tensorflow:Model was constructed with shape (None, 270, 3) for input Tensor(\"input_89:0\", shape=(None, 270, 3), dtype=float32), but it was called on an input with incompatible shape (None, 240, 3).\n"
     ]
    },
    {
     "name": "stderr",
     "output_type": "stream",
     "text": [
      "\r",
      "3it [00:30, 10.25s/it]"
     ]
    },
    {
     "name": "stdout",
     "output_type": "stream",
     "text": [
      "Epoch 1/10\n",
      "WARNING:tensorflow:Model was constructed with shape (None, 270, 3) for input Tensor(\"input_90:0\", shape=(None, 270, 3), dtype=float32), but it was called on an input with incompatible shape (None, 240, 3).\n",
      "WARNING:tensorflow:Model was constructed with shape (None, 270, 3) for input Tensor(\"input_90:0\", shape=(None, 270, 3), dtype=float32), but it was called on an input with incompatible shape (None, 240, 3).\n",
      "5/5 [==============================] - 0s 77ms/step - loss: 1.4407 - sparse_categorical_accuracy: 0.6216\n",
      "Epoch 2/10\n",
      "5/5 [==============================] - 0s 76ms/step - loss: 1.4792 - sparse_categorical_accuracy: 0.7297\n",
      "Epoch 3/10\n",
      "5/5 [==============================] - 0s 75ms/step - loss: 1.3070 - sparse_categorical_accuracy: 0.8649\n",
      "Epoch 4/10\n",
      "5/5 [==============================] - 0s 77ms/step - loss: 1.1405 - sparse_categorical_accuracy: 0.8919\n",
      "Epoch 5/10\n",
      "5/5 [==============================] - 0s 77ms/step - loss: 0.8435 - sparse_categorical_accuracy: 0.8919\n",
      "Epoch 6/10\n",
      "5/5 [==============================] - 0s 79ms/step - loss: 0.9207 - sparse_categorical_accuracy: 0.8649\n",
      "Epoch 7/10\n",
      "5/5 [==============================] - 0s 82ms/step - loss: 0.7740 - sparse_categorical_accuracy: 0.8378\n",
      "Epoch 8/10\n",
      "5/5 [==============================] - 0s 77ms/step - loss: 0.7043 - sparse_categorical_accuracy: 0.8378\n",
      "Epoch 9/10\n",
      "5/5 [==============================] - 0s 76ms/step - loss: 0.7410 - sparse_categorical_accuracy: 0.8378\n",
      "Epoch 10/10\n",
      "5/5 [==============================] - 0s 76ms/step - loss: 0.9365 - sparse_categorical_accuracy: 0.8649\n",
      "WARNING:tensorflow:Model was constructed with shape (None, 270, 3) for input Tensor(\"input_90:0\", shape=(None, 270, 3), dtype=float32), but it was called on an input with incompatible shape (None, 240, 3).\n"
     ]
    },
    {
     "name": "stderr",
     "output_type": "stream",
     "text": [
      "\r",
      "4it [00:40, 10.23s/it]"
     ]
    },
    {
     "name": "stdout",
     "output_type": "stream",
     "text": [
      "Epoch 1/10\n",
      "WARNING:tensorflow:Model was constructed with shape (None, 270, 3) for input Tensor(\"input_91:0\", shape=(None, 270, 3), dtype=float32), but it was called on an input with incompatible shape (None, 240, 3).\n",
      "WARNING:tensorflow:Model was constructed with shape (None, 270, 3) for input Tensor(\"input_91:0\", shape=(None, 270, 3), dtype=float32), but it was called on an input with incompatible shape (None, 240, 3).\n",
      "5/5 [==============================] - 0s 75ms/step - loss: 1.1892 - sparse_categorical_accuracy: 0.6216\n",
      "Epoch 2/10\n",
      "5/5 [==============================] - 0s 79ms/step - loss: 1.0185 - sparse_categorical_accuracy: 0.9459\n",
      "Epoch 3/10\n",
      "5/5 [==============================] - 0s 75ms/step - loss: 0.9552 - sparse_categorical_accuracy: 1.0000\n",
      "Epoch 4/10\n",
      "5/5 [==============================] - 0s 78ms/step - loss: 0.7747 - sparse_categorical_accuracy: 1.0000\n",
      "Epoch 5/10\n",
      "5/5 [==============================] - 0s 78ms/step - loss: 0.8635 - sparse_categorical_accuracy: 0.8919\n",
      "Epoch 6/10\n",
      "5/5 [==============================] - 0s 74ms/step - loss: 0.8552 - sparse_categorical_accuracy: 0.9189\n",
      "Epoch 7/10\n",
      "5/5 [==============================] - 0s 73ms/step - loss: 0.8865 - sparse_categorical_accuracy: 0.8649\n",
      "Epoch 8/10\n",
      "5/5 [==============================] - 0s 76ms/step - loss: 0.6837 - sparse_categorical_accuracy: 0.9189\n",
      "Epoch 9/10\n",
      "5/5 [==============================] - 0s 74ms/step - loss: 0.7521 - sparse_categorical_accuracy: 0.8919\n",
      "Epoch 10/10\n",
      "5/5 [==============================] - 0s 76ms/step - loss: 0.8645 - sparse_categorical_accuracy: 0.9189\n",
      "WARNING:tensorflow:Model was constructed with shape (None, 270, 3) for input Tensor(\"input_91:0\", shape=(None, 270, 3), dtype=float32), but it was called on an input with incompatible shape (None, 240, 3).\n"
     ]
    },
    {
     "name": "stderr",
     "output_type": "stream",
     "text": [
      "\r",
      "5it [00:51, 10.22s/it]"
     ]
    },
    {
     "name": "stdout",
     "output_type": "stream",
     "text": [
      "Epoch 1/10\n",
      "WARNING:tensorflow:Model was constructed with shape (None, 270, 3) for input Tensor(\"input_92:0\", shape=(None, 270, 3), dtype=float32), but it was called on an input with incompatible shape (None, 240, 3).\n",
      "WARNING:tensorflow:Model was constructed with shape (None, 270, 3) for input Tensor(\"input_92:0\", shape=(None, 270, 3), dtype=float32), but it was called on an input with incompatible shape (None, 240, 3).\n",
      "5/5 [==============================] - 0s 82ms/step - loss: 1.2771 - sparse_categorical_accuracy: 0.5946\n",
      "Epoch 2/10\n",
      "5/5 [==============================] - 0s 81ms/step - loss: 1.3866 - sparse_categorical_accuracy: 0.7027\n",
      "Epoch 3/10\n",
      "5/5 [==============================] - 0s 82ms/step - loss: 1.3168 - sparse_categorical_accuracy: 0.7568\n",
      "Epoch 4/10\n",
      "5/5 [==============================] - 0s 80ms/step - loss: 1.4054 - sparse_categorical_accuracy: 0.7568\n",
      "Epoch 5/10\n",
      "5/5 [==============================] - 0s 81ms/step - loss: 0.9997 - sparse_categorical_accuracy: 0.8378\n",
      "Epoch 6/10\n",
      "5/5 [==============================] - 0s 83ms/step - loss: 0.9453 - sparse_categorical_accuracy: 0.7568\n",
      "Epoch 7/10\n",
      "5/5 [==============================] - 0s 80ms/step - loss: 1.0217 - sparse_categorical_accuracy: 0.7838\n",
      "Epoch 8/10\n",
      "5/5 [==============================] - 0s 83ms/step - loss: 0.7362 - sparse_categorical_accuracy: 0.8649\n",
      "Epoch 9/10\n",
      "5/5 [==============================] - 0s 81ms/step - loss: 1.1231 - sparse_categorical_accuracy: 0.7568\n",
      "Epoch 10/10\n",
      "5/5 [==============================] - 0s 82ms/step - loss: 0.7194 - sparse_categorical_accuracy: 0.8378\n",
      "WARNING:tensorflow:Model was constructed with shape (None, 270, 3) for input Tensor(\"input_92:0\", shape=(None, 270, 3), dtype=float32), but it was called on an input with incompatible shape (None, 240, 3).\n"
     ]
    },
    {
     "name": "stderr",
     "output_type": "stream",
     "text": [
      "\r",
      "6it [01:02, 10.60s/it]"
     ]
    },
    {
     "name": "stdout",
     "output_type": "stream",
     "text": [
      "Epoch 1/10\n",
      "WARNING:tensorflow:Model was constructed with shape (None, 270, 3) for input Tensor(\"input_93:0\", shape=(None, 270, 3), dtype=float32), but it was called on an input with incompatible shape (None, 240, 3).\n",
      "WARNING:tensorflow:Model was constructed with shape (None, 270, 3) for input Tensor(\"input_93:0\", shape=(None, 270, 3), dtype=float32), but it was called on an input with incompatible shape (None, 240, 3).\n",
      "5/5 [==============================] - 0s 79ms/step - loss: 1.2005 - sparse_categorical_accuracy: 0.6757\n",
      "Epoch 2/10\n",
      "5/5 [==============================] - 0s 79ms/step - loss: 1.1330 - sparse_categorical_accuracy: 0.7027\n",
      "Epoch 3/10\n",
      "5/5 [==============================] - 0s 84ms/step - loss: 1.2571 - sparse_categorical_accuracy: 0.8378\n",
      "Epoch 4/10\n",
      "5/5 [==============================] - 0s 82ms/step - loss: 0.8302 - sparse_categorical_accuracy: 0.8649\n",
      "Epoch 5/10\n",
      "5/5 [==============================] - 0s 81ms/step - loss: 0.8564 - sparse_categorical_accuracy: 0.8649\n",
      "Epoch 6/10\n",
      "5/5 [==============================] - 0s 80ms/step - loss: 0.8714 - sparse_categorical_accuracy: 0.7838\n",
      "Epoch 7/10\n",
      "5/5 [==============================] - 0s 82ms/step - loss: 0.5706 - sparse_categorical_accuracy: 0.9189\n",
      "Epoch 8/10\n",
      "5/5 [==============================] - 0s 80ms/step - loss: 0.6004 - sparse_categorical_accuracy: 0.9189\n",
      "Epoch 9/10\n",
      "5/5 [==============================] - 0s 79ms/step - loss: 0.4705 - sparse_categorical_accuracy: 0.9459\n",
      "Epoch 10/10\n",
      "5/5 [==============================] - 0s 81ms/step - loss: 0.8221 - sparse_categorical_accuracy: 0.8649\n",
      "WARNING:tensorflow:Model was constructed with shape (None, 270, 3) for input Tensor(\"input_93:0\", shape=(None, 270, 3), dtype=float32), but it was called on an input with incompatible shape (None, 240, 3).\n"
     ]
    },
    {
     "name": "stderr",
     "output_type": "stream",
     "text": [
      "\r",
      "7it [01:13, 10.56s/it]"
     ]
    },
    {
     "name": "stdout",
     "output_type": "stream",
     "text": [
      "Epoch 1/10\n",
      "WARNING:tensorflow:Model was constructed with shape (None, 270, 3) for input Tensor(\"input_94:0\", shape=(None, 270, 3), dtype=float32), but it was called on an input with incompatible shape (None, 240, 3).\n",
      "WARNING:tensorflow:Model was constructed with shape (None, 270, 3) for input Tensor(\"input_94:0\", shape=(None, 270, 3), dtype=float32), but it was called on an input with incompatible shape (None, 240, 3).\n",
      "5/5 [==============================] - ETA: 0s - loss: 1.4537 - sparse_categorical_accuracy: 0.593 - 0s 74ms/step - loss: 1.4454 - sparse_categorical_accuracy: 0.6216\n",
      "Epoch 2/10\n",
      "5/5 [==============================] - 0s 77ms/step - loss: 0.8908 - sparse_categorical_accuracy: 0.9459\n",
      "Epoch 3/10\n",
      "5/5 [==============================] - 0s 79ms/step - loss: 0.8365 - sparse_categorical_accuracy: 0.9730\n",
      "Epoch 4/10\n",
      "5/5 [==============================] - 0s 80ms/step - loss: 0.8738 - sparse_categorical_accuracy: 0.9459\n",
      "Epoch 5/10\n",
      "5/5 [==============================] - 0s 79ms/step - loss: 0.8192 - sparse_categorical_accuracy: 0.9189\n",
      "Epoch 6/10\n",
      "5/5 [==============================] - 0s 81ms/step - loss: 0.7000 - sparse_categorical_accuracy: 0.9189\n",
      "Epoch 7/10\n",
      "5/5 [==============================] - 0s 78ms/step - loss: 0.7365 - sparse_categorical_accuracy: 0.8919\n",
      "Epoch 8/10\n",
      "5/5 [==============================] - 0s 83ms/step - loss: 0.5823 - sparse_categorical_accuracy: 0.9189\n",
      "Epoch 9/10\n",
      "5/5 [==============================] - 0s 83ms/step - loss: 0.5610 - sparse_categorical_accuracy: 0.9189\n",
      "Epoch 10/10\n",
      "5/5 [==============================] - 0s 78ms/step - loss: 1.0931 - sparse_categorical_accuracy: 0.8649\n",
      "WARNING:tensorflow:Model was constructed with shape (None, 270, 3) for input Tensor(\"input_94:0\", shape=(None, 270, 3), dtype=float32), but it was called on an input with incompatible shape (None, 240, 3).\n"
     ]
    },
    {
     "name": "stderr",
     "output_type": "stream",
     "text": [
      "\r",
      "8it [01:23, 10.54s/it]"
     ]
    },
    {
     "name": "stdout",
     "output_type": "stream",
     "text": [
      "Epoch 1/10\n",
      "WARNING:tensorflow:Model was constructed with shape (None, 270, 3) for input Tensor(\"input_95:0\", shape=(None, 270, 3), dtype=float32), but it was called on an input with incompatible shape (None, 240, 3).\n",
      "WARNING:tensorflow:Model was constructed with shape (None, 270, 3) for input Tensor(\"input_95:0\", shape=(None, 270, 3), dtype=float32), but it was called on an input with incompatible shape (None, 240, 3).\n",
      "5/5 [==============================] - 0s 80ms/step - loss: 1.1166 - sparse_categorical_accuracy: 0.6757\n",
      "Epoch 2/10\n",
      "5/5 [==============================] - 0s 79ms/step - loss: 1.0187 - sparse_categorical_accuracy: 0.9459\n",
      "Epoch 3/10\n",
      "5/5 [==============================] - 0s 79ms/step - loss: 1.2344 - sparse_categorical_accuracy: 0.8108\n",
      "Epoch 4/10\n",
      "5/5 [==============================] - 0s 80ms/step - loss: 0.8296 - sparse_categorical_accuracy: 0.9189\n",
      "Epoch 5/10\n",
      "5/5 [==============================] - 0s 80ms/step - loss: 0.7455 - sparse_categorical_accuracy: 0.9189\n",
      "Epoch 6/10\n",
      "5/5 [==============================] - 0s 84ms/step - loss: 0.6845 - sparse_categorical_accuracy: 0.9459\n",
      "Epoch 7/10\n",
      "5/5 [==============================] - 0s 85ms/step - loss: 0.8046 - sparse_categorical_accuracy: 0.8919\n",
      "Epoch 8/10\n",
      "5/5 [==============================] - 0s 83ms/step - loss: 0.9036 - sparse_categorical_accuracy: 0.8108\n",
      "Epoch 9/10\n",
      "5/5 [==============================] - 0s 79ms/step - loss: 0.5045 - sparse_categorical_accuracy: 0.9730\n",
      "Epoch 10/10\n",
      "5/5 [==============================] - 0s 80ms/step - loss: 0.5606 - sparse_categorical_accuracy: 0.9459\n",
      "WARNING:tensorflow:Model was constructed with shape (None, 270, 3) for input Tensor(\"input_95:0\", shape=(None, 270, 3), dtype=float32), but it was called on an input with incompatible shape (None, 240, 3).\n"
     ]
    },
    {
     "name": "stderr",
     "output_type": "stream",
     "text": [
      "\r",
      "9it [01:33, 10.50s/it]"
     ]
    },
    {
     "name": "stdout",
     "output_type": "stream",
     "text": [
      "Epoch 1/10\n",
      "WARNING:tensorflow:Model was constructed with shape (None, 270, 3) for input Tensor(\"input_96:0\", shape=(None, 270, 3), dtype=float32), but it was called on an input with incompatible shape (None, 240, 3).\n",
      "WARNING:tensorflow:Model was constructed with shape (None, 270, 3) for input Tensor(\"input_96:0\", shape=(None, 270, 3), dtype=float32), but it was called on an input with incompatible shape (None, 240, 3).\n",
      "5/5 [==============================] - 0s 79ms/step - loss: 1.0579 - sparse_categorical_accuracy: 0.7027\n",
      "Epoch 2/10\n",
      "5/5 [==============================] - 0s 81ms/step - loss: 1.2007 - sparse_categorical_accuracy: 0.7838\n",
      "Epoch 3/10\n",
      "5/5 [==============================] - 0s 80ms/step - loss: 1.2682 - sparse_categorical_accuracy: 0.7838\n",
      "Epoch 4/10\n",
      "5/5 [==============================] - 0s 80ms/step - loss: 0.8771 - sparse_categorical_accuracy: 0.9189\n",
      "Epoch 5/10\n",
      "5/5 [==============================] - 0s 83ms/step - loss: 0.8315 - sparse_categorical_accuracy: 0.8919\n",
      "Epoch 6/10\n",
      "5/5 [==============================] - 0s 78ms/step - loss: 0.6930 - sparse_categorical_accuracy: 0.9189\n",
      "Epoch 7/10\n",
      "5/5 [==============================] - 0s 78ms/step - loss: 1.0090 - sparse_categorical_accuracy: 0.8378\n",
      "Epoch 8/10\n",
      "5/5 [==============================] - 0s 81ms/step - loss: 0.5839 - sparse_categorical_accuracy: 0.9189\n",
      "Epoch 9/10\n",
      "5/5 [==============================] - 0s 79ms/step - loss: 0.8259 - sparse_categorical_accuracy: 0.8378\n",
      "Epoch 10/10\n",
      "5/5 [==============================] - 0s 79ms/step - loss: 0.9478 - sparse_categorical_accuracy: 0.7568\n",
      "WARNING:tensorflow:Model was constructed with shape (None, 270, 3) for input Tensor(\"input_96:0\", shape=(None, 270, 3), dtype=float32), but it was called on an input with incompatible shape (None, 240, 3).\n"
     ]
    },
    {
     "name": "stderr",
     "output_type": "stream",
     "text": [
      "\r",
      "10it [01:44, 10.49s/it]"
     ]
    },
    {
     "name": "stdout",
     "output_type": "stream",
     "text": [
      "Epoch 1/10\n",
      "WARNING:tensorflow:Model was constructed with shape (None, 270, 3) for input Tensor(\"input_97:0\", shape=(None, 270, 3), dtype=float32), but it was called on an input with incompatible shape (None, 240, 3).\n",
      "WARNING:tensorflow:Model was constructed with shape (None, 270, 3) for input Tensor(\"input_97:0\", shape=(None, 270, 3), dtype=float32), but it was called on an input with incompatible shape (None, 240, 3).\n",
      "5/5 [==============================] - 0s 77ms/step - loss: 1.1245 - sparse_categorical_accuracy: 0.7568\n",
      "Epoch 2/10\n",
      "5/5 [==============================] - 0s 71ms/step - loss: 1.1149 - sparse_categorical_accuracy: 0.8919\n",
      "Epoch 3/10\n",
      "5/5 [==============================] - 0s 76ms/step - loss: 0.9992 - sparse_categorical_accuracy: 0.9189\n",
      "Epoch 4/10\n",
      "5/5 [==============================] - 0s 78ms/step - loss: 0.8637 - sparse_categorical_accuracy: 0.8919\n",
      "Epoch 5/10\n",
      "5/5 [==============================] - 0s 78ms/step - loss: 0.8612 - sparse_categorical_accuracy: 0.8919\n",
      "Epoch 6/10\n",
      "5/5 [==============================] - 0s 74ms/step - loss: 0.7670 - sparse_categorical_accuracy: 0.8919\n",
      "Epoch 7/10\n",
      "5/5 [==============================] - 0s 76ms/step - loss: 0.7791 - sparse_categorical_accuracy: 0.8649\n",
      "Epoch 8/10\n",
      "5/5 [==============================] - 0s 76ms/step - loss: 0.6735 - sparse_categorical_accuracy: 0.8919\n",
      "Epoch 9/10\n",
      "5/5 [==============================] - 0s 79ms/step - loss: 0.6347 - sparse_categorical_accuracy: 0.8919\n",
      "Epoch 10/10\n",
      "5/5 [==============================] - 0s 76ms/step - loss: 0.6772 - sparse_categorical_accuracy: 0.8919\n",
      "WARNING:tensorflow:Model was constructed with shape (None, 270, 3) for input Tensor(\"input_97:0\", shape=(None, 270, 3), dtype=float32), but it was called on an input with incompatible shape (None, 240, 3).\n"
     ]
    },
    {
     "name": "stderr",
     "output_type": "stream",
     "text": [
      "\r",
      "11it [01:54, 10.41s/it]"
     ]
    },
    {
     "name": "stdout",
     "output_type": "stream",
     "text": [
      "Epoch 1/10\n",
      "WARNING:tensorflow:Model was constructed with shape (None, 270, 3) for input Tensor(\"input_98:0\", shape=(None, 270, 3), dtype=float32), but it was called on an input with incompatible shape (None, 240, 3).\n",
      "WARNING:tensorflow:Model was constructed with shape (None, 270, 3) for input Tensor(\"input_98:0\", shape=(None, 270, 3), dtype=float32), but it was called on an input with incompatible shape (None, 240, 3).\n",
      "5/5 [==============================] - 0s 78ms/step - loss: 1.3971 - sparse_categorical_accuracy: 0.6486\n",
      "Epoch 2/10\n",
      "5/5 [==============================] - 0s 78ms/step - loss: 1.1044 - sparse_categorical_accuracy: 0.8378\n",
      "Epoch 3/10\n",
      "5/5 [==============================] - 0s 79ms/step - loss: 1.2100 - sparse_categorical_accuracy: 0.8919\n",
      "Epoch 4/10\n",
      "5/5 [==============================] - 0s 81ms/step - loss: 1.0811 - sparse_categorical_accuracy: 0.8649\n",
      "Epoch 5/10\n",
      "5/5 [==============================] - ETA: 0s - loss: 1.3962 - sparse_categorical_accuracy: 0.843 - 0s 72ms/step - loss: 1.3548 - sparse_categorical_accuracy: 0.8108\n",
      "Epoch 6/10\n",
      "5/5 [==============================] - 0s 81ms/step - loss: 0.9767 - sparse_categorical_accuracy: 0.8378\n",
      "Epoch 7/10\n",
      "5/5 [==============================] - 0s 80ms/step - loss: 0.7965 - sparse_categorical_accuracy: 0.9189\n",
      "Epoch 8/10\n",
      "5/5 [==============================] - 0s 80ms/step - loss: 0.8159 - sparse_categorical_accuracy: 0.8378\n",
      "Epoch 9/10\n",
      "5/5 [==============================] - 0s 78ms/step - loss: 0.6224 - sparse_categorical_accuracy: 0.9459\n",
      "Epoch 10/10\n",
      "5/5 [==============================] - 0s 79ms/step - loss: 0.5425 - sparse_categorical_accuracy: 0.9730\n",
      "WARNING:tensorflow:Model was constructed with shape (None, 270, 3) for input Tensor(\"input_98:0\", shape=(None, 270, 3), dtype=float32), but it was called on an input with incompatible shape (None, 240, 3).\n"
     ]
    },
    {
     "name": "stderr",
     "output_type": "stream",
     "text": [
      "\r",
      "12it [02:05, 10.68s/it]"
     ]
    },
    {
     "name": "stdout",
     "output_type": "stream",
     "text": [
      "Epoch 1/10\n",
      "WARNING:tensorflow:Model was constructed with shape (None, 270, 3) for input Tensor(\"input_99:0\", shape=(None, 270, 3), dtype=float32), but it was called on an input with incompatible shape (None, 240, 3).\n",
      "WARNING:tensorflow:Model was constructed with shape (None, 270, 3) for input Tensor(\"input_99:0\", shape=(None, 270, 3), dtype=float32), but it was called on an input with incompatible shape (None, 240, 3).\n",
      "5/5 [==============================] - 0s 78ms/step - loss: 1.1342 - sparse_categorical_accuracy: 0.7297\n",
      "Epoch 2/10\n",
      "5/5 [==============================] - 0s 77ms/step - loss: 1.2282 - sparse_categorical_accuracy: 0.7027\n",
      "Epoch 3/10\n",
      "5/5 [==============================] - 0s 80ms/step - loss: 0.8863 - sparse_categorical_accuracy: 0.8919\n",
      "Epoch 4/10\n",
      "5/5 [==============================] - 0s 77ms/step - loss: 1.4133 - sparse_categorical_accuracy: 0.7297\n",
      "Epoch 5/10\n",
      "5/5 [==============================] - 0s 81ms/step - loss: 1.2190 - sparse_categorical_accuracy: 0.7297\n",
      "Epoch 6/10\n",
      "5/5 [==============================] - 0s 75ms/step - loss: 1.0330 - sparse_categorical_accuracy: 0.8108\n",
      "Epoch 7/10\n",
      "5/5 [==============================] - 0s 79ms/step - loss: 0.6677 - sparse_categorical_accuracy: 0.9459\n",
      "Epoch 8/10\n",
      "5/5 [==============================] - 0s 80ms/step - loss: 0.5823 - sparse_categorical_accuracy: 0.9730\n",
      "Epoch 9/10\n",
      "5/5 [==============================] - 0s 83ms/step - loss: 0.6060 - sparse_categorical_accuracy: 0.9459\n",
      "Epoch 10/10\n",
      "5/5 [==============================] - 0s 81ms/step - loss: 0.7912 - sparse_categorical_accuracy: 0.8649\n",
      "WARNING:tensorflow:Model was constructed with shape (None, 270, 3) for input Tensor(\"input_99:0\", shape=(None, 270, 3), dtype=float32), but it was called on an input with incompatible shape (None, 240, 3).\n"
     ]
    },
    {
     "name": "stderr",
     "output_type": "stream",
     "text": [
      "\r",
      "13it [02:16, 10.62s/it]"
     ]
    },
    {
     "name": "stdout",
     "output_type": "stream",
     "text": [
      "Epoch 1/10\n",
      "WARNING:tensorflow:Model was constructed with shape (None, 270, 3) for input Tensor(\"input_100:0\", shape=(None, 270, 3), dtype=float32), but it was called on an input with incompatible shape (None, 240, 3).\n",
      "WARNING:tensorflow:Model was constructed with shape (None, 270, 3) for input Tensor(\"input_100:0\", shape=(None, 270, 3), dtype=float32), but it was called on an input with incompatible shape (None, 240, 3).\n",
      "5/5 [==============================] - 0s 77ms/step - loss: 1.0992 - sparse_categorical_accuracy: 0.6757\n",
      "Epoch 2/10\n",
      "5/5 [==============================] - 0s 78ms/step - loss: 1.0969 - sparse_categorical_accuracy: 0.8649\n",
      "Epoch 3/10\n",
      "5/5 [==============================] - 0s 76ms/step - loss: 0.9054 - sparse_categorical_accuracy: 0.9730\n",
      "Epoch 4/10\n",
      "5/5 [==============================] - 0s 80ms/step - loss: 0.8216 - sparse_categorical_accuracy: 0.9730\n",
      "Epoch 5/10\n",
      "5/5 [==============================] - 0s 76ms/step - loss: 0.8196 - sparse_categorical_accuracy: 0.9459\n",
      "Epoch 6/10\n",
      "5/5 [==============================] - 0s 78ms/step - loss: 0.6402 - sparse_categorical_accuracy: 0.9459\n",
      "Epoch 7/10\n",
      "5/5 [==============================] - 0s 78ms/step - loss: 1.0873 - sparse_categorical_accuracy: 0.8649\n",
      "Epoch 8/10\n",
      "5/5 [==============================] - 0s 76ms/step - loss: 0.6686 - sparse_categorical_accuracy: 0.8108\n",
      "Epoch 9/10\n",
      "5/5 [==============================] - 0s 78ms/step - loss: 0.7339 - sparse_categorical_accuracy: 0.8649\n",
      "Epoch 10/10\n",
      "5/5 [==============================] - 0s 78ms/step - loss: 0.6360 - sparse_categorical_accuracy: 0.9189\n",
      "WARNING:tensorflow:Model was constructed with shape (None, 270, 3) for input Tensor(\"input_100:0\", shape=(None, 270, 3), dtype=float32), but it was called on an input with incompatible shape (None, 240, 3).\n"
     ]
    },
    {
     "name": "stderr",
     "output_type": "stream",
     "text": [
      "\r",
      "14it [02:26, 10.52s/it]"
     ]
    },
    {
     "name": "stdout",
     "output_type": "stream",
     "text": [
      "Epoch 1/10\n",
      "WARNING:tensorflow:Model was constructed with shape (None, 270, 3) for input Tensor(\"input_101:0\", shape=(None, 270, 3), dtype=float32), but it was called on an input with incompatible shape (None, 240, 3).\n",
      "WARNING:tensorflow:Model was constructed with shape (None, 270, 3) for input Tensor(\"input_101:0\", shape=(None, 270, 3), dtype=float32), but it was called on an input with incompatible shape (None, 240, 3).\n",
      "5/5 [==============================] - 0s 75ms/step - loss: 1.5391 - sparse_categorical_accuracy: 0.5946\n",
      "Epoch 2/10\n",
      "5/5 [==============================] - 0s 77ms/step - loss: 1.1930 - sparse_categorical_accuracy: 0.7838\n",
      "Epoch 3/10\n",
      "5/5 [==============================] - 0s 77ms/step - loss: 1.0879 - sparse_categorical_accuracy: 0.8649\n",
      "Epoch 4/10\n",
      "5/5 [==============================] - 0s 77ms/step - loss: 0.9438 - sparse_categorical_accuracy: 0.9189\n",
      "Epoch 5/10\n",
      "5/5 [==============================] - 0s 78ms/step - loss: 1.0942 - sparse_categorical_accuracy: 0.8919\n",
      "Epoch 6/10\n",
      "5/5 [==============================] - 0s 77ms/step - loss: 0.8485 - sparse_categorical_accuracy: 0.9459\n",
      "Epoch 7/10\n",
      "5/5 [==============================] - 0s 76ms/step - loss: 0.6336 - sparse_categorical_accuracy: 0.9189\n",
      "Epoch 8/10\n",
      "5/5 [==============================] - 0s 79ms/step - loss: 0.5881 - sparse_categorical_accuracy: 0.9189\n",
      "Epoch 9/10\n",
      "5/5 [==============================] - 0s 79ms/step - loss: 0.7306 - sparse_categorical_accuracy: 0.8108\n",
      "Epoch 10/10\n",
      "5/5 [==============================] - 0s 78ms/step - loss: 0.6840 - sparse_categorical_accuracy: 0.9189\n",
      "WARNING:tensorflow:Model was constructed with shape (None, 270, 3) for input Tensor(\"input_101:0\", shape=(None, 270, 3), dtype=float32), but it was called on an input with incompatible shape (None, 240, 3).\n"
     ]
    },
    {
     "name": "stderr",
     "output_type": "stream",
     "text": [
      "\r",
      "15it [02:37, 10.46s/it]"
     ]
    },
    {
     "name": "stdout",
     "output_type": "stream",
     "text": [
      "Epoch 1/10\n",
      "WARNING:tensorflow:Model was constructed with shape (None, 270, 3) for input Tensor(\"input_102:0\", shape=(None, 270, 3), dtype=float32), but it was called on an input with incompatible shape (None, 240, 3).\n",
      "WARNING:tensorflow:Model was constructed with shape (None, 270, 3) for input Tensor(\"input_102:0\", shape=(None, 270, 3), dtype=float32), but it was called on an input with incompatible shape (None, 240, 3).\n",
      "5/5 [==============================] - 0s 83ms/step - loss: 1.1187 - sparse_categorical_accuracy: 0.6486\n",
      "Epoch 2/10\n",
      "5/5 [==============================] - 0s 78ms/step - loss: 0.9701 - sparse_categorical_accuracy: 0.9189\n",
      "Epoch 3/10\n",
      "5/5 [==============================] - 0s 78ms/step - loss: 0.8381 - sparse_categorical_accuracy: 0.9730\n",
      "Epoch 4/10\n",
      "5/5 [==============================] - 0s 79ms/step - loss: 0.7029 - sparse_categorical_accuracy: 0.9730\n",
      "Epoch 5/10\n",
      "5/5 [==============================] - 0s 88ms/step - loss: 0.8578 - sparse_categorical_accuracy: 0.9189\n",
      "Epoch 6/10\n",
      "5/5 [==============================] - 0s 79ms/step - loss: 0.4973 - sparse_categorical_accuracy: 1.0000\n",
      "Epoch 7/10\n",
      "5/5 [==============================] - 0s 78ms/step - loss: 0.8017 - sparse_categorical_accuracy: 0.9189\n",
      "Epoch 8/10\n",
      "5/5 [==============================] - 0s 78ms/step - loss: 0.7494 - sparse_categorical_accuracy: 0.8378\n",
      "Epoch 9/10\n",
      "5/5 [==============================] - 0s 83ms/step - loss: 0.7821 - sparse_categorical_accuracy: 0.8649\n",
      "Epoch 10/10\n",
      "5/5 [==============================] - 0s 77ms/step - loss: 0.9705 - sparse_categorical_accuracy: 0.7838\n",
      "WARNING:tensorflow:Model was constructed with shape (None, 270, 3) for input Tensor(\"input_102:0\", shape=(None, 270, 3), dtype=float32), but it was called on an input with incompatible shape (None, 240, 3).\n"
     ]
    },
    {
     "name": "stderr",
     "output_type": "stream",
     "text": [
      "\r",
      "16it [02:47, 10.45s/it]"
     ]
    },
    {
     "name": "stdout",
     "output_type": "stream",
     "text": [
      "Epoch 1/10\n",
      "WARNING:tensorflow:Model was constructed with shape (None, 270, 3) for input Tensor(\"input_103:0\", shape=(None, 270, 3), dtype=float32), but it was called on an input with incompatible shape (None, 240, 3).\n",
      "WARNING:tensorflow:Model was constructed with shape (None, 270, 3) for input Tensor(\"input_103:0\", shape=(None, 270, 3), dtype=float32), but it was called on an input with incompatible shape (None, 240, 3).\n",
      "5/5 [==============================] - 0s 75ms/step - loss: 1.2016 - sparse_categorical_accuracy: 0.7027\n",
      "Epoch 2/10\n",
      "5/5 [==============================] - 0s 85ms/step - loss: 1.1613 - sparse_categorical_accuracy: 0.8108\n",
      "Epoch 3/10\n",
      "5/5 [==============================] - 0s 77ms/step - loss: 0.9771 - sparse_categorical_accuracy: 0.9459\n",
      "Epoch 4/10\n",
      "5/5 [==============================] - 0s 73ms/step - loss: 0.9445 - sparse_categorical_accuracy: 0.9189\n",
      "Epoch 5/10\n",
      "5/5 [==============================] - 0s 77ms/step - loss: 0.7284 - sparse_categorical_accuracy: 0.9459\n",
      "Epoch 6/10\n",
      "5/5 [==============================] - 0s 77ms/step - loss: 0.7022 - sparse_categorical_accuracy: 0.8919\n",
      "Epoch 7/10\n",
      "5/5 [==============================] - 0s 75ms/step - loss: 0.8362 - sparse_categorical_accuracy: 0.8649\n",
      "Epoch 8/10\n",
      "5/5 [==============================] - 0s 78ms/step - loss: 0.5804 - sparse_categorical_accuracy: 0.8649\n",
      "Epoch 9/10\n",
      "5/5 [==============================] - 0s 78ms/step - loss: 0.4461 - sparse_categorical_accuracy: 1.0000\n",
      "Epoch 10/10\n",
      "5/5 [==============================] - 0s 78ms/step - loss: 0.7086 - sparse_categorical_accuracy: 0.9189\n",
      "WARNING:tensorflow:Model was constructed with shape (None, 270, 3) for input Tensor(\"input_103:0\", shape=(None, 270, 3), dtype=float32), but it was called on an input with incompatible shape (None, 240, 3).\n"
     ]
    },
    {
     "name": "stderr",
     "output_type": "stream",
     "text": [
      "\r",
      "17it [02:57, 10.44s/it]"
     ]
    },
    {
     "name": "stdout",
     "output_type": "stream",
     "text": [
      "Epoch 1/10\n",
      "WARNING:tensorflow:Model was constructed with shape (None, 270, 3) for input Tensor(\"input_104:0\", shape=(None, 270, 3), dtype=float32), but it was called on an input with incompatible shape (None, 240, 3).\n",
      "WARNING:tensorflow:Model was constructed with shape (None, 270, 3) for input Tensor(\"input_104:0\", shape=(None, 270, 3), dtype=float32), but it was called on an input with incompatible shape (None, 240, 3).\n",
      "5/5 [==============================] - 0s 75ms/step - loss: 1.5547 - sparse_categorical_accuracy: 0.6216\n",
      "Epoch 2/10\n",
      "5/5 [==============================] - 0s 78ms/step - loss: 1.3451 - sparse_categorical_accuracy: 0.7297\n",
      "Epoch 3/10\n",
      "5/5 [==============================] - 0s 80ms/step - loss: 1.2664 - sparse_categorical_accuracy: 0.8649\n",
      "Epoch 4/10\n",
      "5/5 [==============================] - 0s 76ms/step - loss: 1.1166 - sparse_categorical_accuracy: 0.9459\n",
      "Epoch 5/10\n",
      "5/5 [==============================] - 0s 77ms/step - loss: 0.8517 - sparse_categorical_accuracy: 0.9459\n",
      "Epoch 6/10\n",
      "5/5 [==============================] - 0s 78ms/step - loss: 0.8355 - sparse_categorical_accuracy: 0.9189\n",
      "Epoch 7/10\n",
      "5/5 [==============================] - 0s 77ms/step - loss: 0.5800 - sparse_categorical_accuracy: 0.9730\n",
      "Epoch 8/10\n",
      "5/5 [==============================] - 0s 77ms/step - loss: 0.7477 - sparse_categorical_accuracy: 0.8919\n",
      "Epoch 9/10\n",
      "5/5 [==============================] - 0s 77ms/step - loss: 0.8083 - sparse_categorical_accuracy: 0.8649\n",
      "Epoch 10/10\n",
      "5/5 [==============================] - 0s 76ms/step - loss: 0.7595 - sparse_categorical_accuracy: 0.8919\n",
      "WARNING:tensorflow:Model was constructed with shape (None, 270, 3) for input Tensor(\"input_104:0\", shape=(None, 270, 3), dtype=float32), but it was called on an input with incompatible shape (None, 240, 3).\n"
     ]
    },
    {
     "name": "stderr",
     "output_type": "stream",
     "text": [
      "\r",
      "18it [03:08, 10.39s/it]"
     ]
    },
    {
     "name": "stdout",
     "output_type": "stream",
     "text": [
      "Epoch 1/10\n",
      "WARNING:tensorflow:Model was constructed with shape (None, 270, 3) for input Tensor(\"input_105:0\", shape=(None, 270, 3), dtype=float32), but it was called on an input with incompatible shape (None, 240, 3).\n",
      "WARNING:tensorflow:Model was constructed with shape (None, 270, 3) for input Tensor(\"input_105:0\", shape=(None, 270, 3), dtype=float32), but it was called on an input with incompatible shape (None, 240, 3).\n",
      "5/5 [==============================] - 0s 79ms/step - loss: 1.3479 - sparse_categorical_accuracy: 0.5946\n",
      "Epoch 2/10\n",
      "5/5 [==============================] - 0s 76ms/step - loss: 1.1791 - sparse_categorical_accuracy: 0.7568\n",
      "Epoch 3/10\n",
      "5/5 [==============================] - 0s 78ms/step - loss: 1.3440 - sparse_categorical_accuracy: 0.7838\n",
      "Epoch 4/10\n",
      "5/5 [==============================] - 0s 76ms/step - loss: 1.0501 - sparse_categorical_accuracy: 0.9189\n",
      "Epoch 5/10\n",
      "5/5 [==============================] - 0s 77ms/step - loss: 0.9382 - sparse_categorical_accuracy: 0.8378\n",
      "Epoch 6/10\n",
      "5/5 [==============================] - 0s 72ms/step - loss: 0.7211 - sparse_categorical_accuracy: 0.9459\n",
      "Epoch 7/10\n",
      "5/5 [==============================] - 0s 78ms/step - loss: 0.6022 - sparse_categorical_accuracy: 0.9730\n",
      "Epoch 8/10\n",
      "5/5 [==============================] - 0s 90ms/step - loss: 0.6454 - sparse_categorical_accuracy: 0.9189\n",
      "Epoch 9/10\n",
      "5/5 [==============================] - 0s 80ms/step - loss: 1.0672 - sparse_categorical_accuracy: 0.7838\n",
      "Epoch 10/10\n",
      "5/5 [==============================] - 0s 78ms/step - loss: 0.6042 - sparse_categorical_accuracy: 0.9189\n",
      "WARNING:tensorflow:Model was constructed with shape (None, 270, 3) for input Tensor(\"input_105:0\", shape=(None, 270, 3), dtype=float32), but it was called on an input with incompatible shape (None, 240, 3).\n"
     ]
    },
    {
     "name": "stderr",
     "output_type": "stream",
     "text": [
      "\r",
      "19it [03:19, 10.71s/it]"
     ]
    },
    {
     "name": "stdout",
     "output_type": "stream",
     "text": [
      "Epoch 1/10\n",
      "WARNING:tensorflow:Model was constructed with shape (None, 270, 3) for input Tensor(\"input_106:0\", shape=(None, 270, 3), dtype=float32), but it was called on an input with incompatible shape (None, 240, 3).\n",
      "WARNING:tensorflow:Model was constructed with shape (None, 270, 3) for input Tensor(\"input_106:0\", shape=(None, 270, 3), dtype=float32), but it was called on an input with incompatible shape (None, 240, 3).\n",
      "5/5 [==============================] - 0s 83ms/step - loss: 1.5553 - sparse_categorical_accuracy: 0.5135\n",
      "Epoch 2/10\n",
      "5/5 [==============================] - 0s 78ms/step - loss: 1.1799 - sparse_categorical_accuracy: 0.8108\n",
      "Epoch 3/10\n",
      "5/5 [==============================] - 0s 83ms/step - loss: 1.3523 - sparse_categorical_accuracy: 0.7838\n",
      "Epoch 4/10\n",
      "5/5 [==============================] - 0s 77ms/step - loss: 0.9079 - sparse_categorical_accuracy: 0.9459\n",
      "Epoch 5/10\n",
      "5/5 [==============================] - 0s 82ms/step - loss: 0.7770 - sparse_categorical_accuracy: 0.9459\n",
      "Epoch 6/10\n",
      "5/5 [==============================] - 0s 87ms/step - loss: 0.7325 - sparse_categorical_accuracy: 0.8919\n",
      "Epoch 7/10\n",
      "5/5 [==============================] - 0s 76ms/step - loss: 0.9113 - sparse_categorical_accuracy: 0.8108\n",
      "Epoch 8/10\n",
      "5/5 [==============================] - 0s 84ms/step - loss: 0.6847 - sparse_categorical_accuracy: 0.8649\n",
      "Epoch 9/10\n",
      "5/5 [==============================] - 0s 80ms/step - loss: 0.9935 - sparse_categorical_accuracy: 0.7297\n",
      "Epoch 10/10\n",
      "5/5 [==============================] - 0s 90ms/step - loss: 0.6260 - sparse_categorical_accuracy: 0.8649\n",
      "WARNING:tensorflow:Model was constructed with shape (None, 270, 3) for input Tensor(\"input_106:0\", shape=(None, 270, 3), dtype=float32), but it was called on an input with incompatible shape (None, 240, 3).\n"
     ]
    },
    {
     "name": "stderr",
     "output_type": "stream",
     "text": [
      "\r",
      "20it [03:30, 10.77s/it]"
     ]
    },
    {
     "name": "stdout",
     "output_type": "stream",
     "text": [
      "Epoch 1/10\n",
      "WARNING:tensorflow:Model was constructed with shape (None, 270, 3) for input Tensor(\"input_107:0\", shape=(None, 270, 3), dtype=float32), but it was called on an input with incompatible shape (None, 240, 3).\n",
      "WARNING:tensorflow:Model was constructed with shape (None, 270, 3) for input Tensor(\"input_107:0\", shape=(None, 270, 3), dtype=float32), but it was called on an input with incompatible shape (None, 240, 3).\n",
      "5/5 [==============================] - 0s 78ms/step - loss: 1.1391 - sparse_categorical_accuracy: 0.6757\n",
      "Epoch 2/10\n",
      "5/5 [==============================] - 0s 82ms/step - loss: 0.9818 - sparse_categorical_accuracy: 0.9189\n",
      "Epoch 3/10\n",
      "5/5 [==============================] - 0s 80ms/step - loss: 1.0327 - sparse_categorical_accuracy: 0.9189\n",
      "Epoch 4/10\n",
      "5/5 [==============================] - 0s 82ms/step - loss: 0.7389 - sparse_categorical_accuracy: 1.0000\n",
      "Epoch 5/10\n",
      "5/5 [==============================] - 0s 83ms/step - loss: 0.8207 - sparse_categorical_accuracy: 0.8919\n",
      "Epoch 6/10\n",
      "5/5 [==============================] - 0s 84ms/step - loss: 0.8259 - sparse_categorical_accuracy: 0.8919\n",
      "Epoch 7/10\n",
      "5/5 [==============================] - 0s 82ms/step - loss: 0.6185 - sparse_categorical_accuracy: 0.9189\n",
      "Epoch 8/10\n",
      "5/5 [==============================] - 0s 82ms/step - loss: 0.5289 - sparse_categorical_accuracy: 0.9459\n",
      "Epoch 9/10\n",
      "5/5 [==============================] - 0s 79ms/step - loss: 0.7794 - sparse_categorical_accuracy: 0.8649\n",
      "Epoch 10/10\n",
      "5/5 [==============================] - 0s 82ms/step - loss: 0.5351 - sparse_categorical_accuracy: 0.9189\n",
      "WARNING:tensorflow:Model was constructed with shape (None, 270, 3) for input Tensor(\"input_107:0\", shape=(None, 270, 3), dtype=float32), but it was called on an input with incompatible shape (None, 240, 3).\n"
     ]
    },
    {
     "name": "stderr",
     "output_type": "stream",
     "text": [
      "\r",
      "21it [03:41, 10.93s/it]"
     ]
    },
    {
     "name": "stdout",
     "output_type": "stream",
     "text": [
      "Epoch 1/10\n",
      "WARNING:tensorflow:Model was constructed with shape (None, 270, 3) for input Tensor(\"input_108:0\", shape=(None, 270, 3), dtype=float32), but it was called on an input with incompatible shape (None, 240, 3).\n",
      "WARNING:tensorflow:Model was constructed with shape (None, 270, 3) for input Tensor(\"input_108:0\", shape=(None, 270, 3), dtype=float32), but it was called on an input with incompatible shape (None, 240, 3).\n",
      "5/5 [==============================] - 0s 84ms/step - loss: 1.1667 - sparse_categorical_accuracy: 0.6216\n",
      "Epoch 2/10\n",
      "5/5 [==============================] - 0s 83ms/step - loss: 1.0700 - sparse_categorical_accuracy: 0.8919\n",
      "Epoch 3/10\n",
      "5/5 [==============================] - 0s 80ms/step - loss: 1.3233 - sparse_categorical_accuracy: 0.8108\n",
      "Epoch 4/10\n",
      "5/5 [==============================] - 0s 77ms/step - loss: 0.8876 - sparse_categorical_accuracy: 0.9730\n",
      "Epoch 5/10\n",
      "5/5 [==============================] - 0s 79ms/step - loss: 0.8164 - sparse_categorical_accuracy: 0.8919\n",
      "Epoch 6/10\n",
      "5/5 [==============================] - 0s 83ms/step - loss: 0.6834 - sparse_categorical_accuracy: 0.9459\n",
      "Epoch 7/10\n",
      "5/5 [==============================] - 0s 84ms/step - loss: 0.8072 - sparse_categorical_accuracy: 0.8649\n",
      "Epoch 8/10\n",
      "5/5 [==============================] - 0s 76ms/step - loss: 0.7637 - sparse_categorical_accuracy: 0.9189\n",
      "Epoch 9/10\n",
      "5/5 [==============================] - 0s 78ms/step - loss: 0.8221 - sparse_categorical_accuracy: 0.8378\n",
      "Epoch 10/10\n",
      "5/5 [==============================] - 0s 83ms/step - loss: 0.6009 - sparse_categorical_accuracy: 0.9189\n",
      "WARNING:tensorflow:Model was constructed with shape (None, 270, 3) for input Tensor(\"input_108:0\", shape=(None, 270, 3), dtype=float32), but it was called on an input with incompatible shape (None, 240, 3).\n"
     ]
    },
    {
     "name": "stderr",
     "output_type": "stream",
     "text": [
      "\r",
      "22it [03:52, 10.86s/it]"
     ]
    },
    {
     "name": "stdout",
     "output_type": "stream",
     "text": [
      "Epoch 1/10\n",
      "WARNING:tensorflow:Model was constructed with shape (None, 270, 3) for input Tensor(\"input_109:0\", shape=(None, 270, 3), dtype=float32), but it was called on an input with incompatible shape (None, 240, 3).\n",
      "WARNING:tensorflow:Model was constructed with shape (None, 270, 3) for input Tensor(\"input_109:0\", shape=(None, 270, 3), dtype=float32), but it was called on an input with incompatible shape (None, 240, 3).\n",
      "5/5 [==============================] - 0s 84ms/step - loss: 1.3522 - sparse_categorical_accuracy: 0.5405\n",
      "Epoch 2/10\n",
      "5/5 [==============================] - 1s 103ms/step - loss: 1.2703 - sparse_categorical_accuracy: 0.7027\n",
      "Epoch 3/10\n",
      "5/5 [==============================] - 0s 83ms/step - loss: 1.1518 - sparse_categorical_accuracy: 0.8919\n",
      "Epoch 4/10\n",
      "5/5 [==============================] - 0s 90ms/step - loss: 0.9927 - sparse_categorical_accuracy: 0.9189\n",
      "Epoch 5/10\n",
      "5/5 [==============================] - 0s 80ms/step - loss: 0.7833 - sparse_categorical_accuracy: 0.9189\n",
      "Epoch 6/10\n",
      "5/5 [==============================] - 0s 79ms/step - loss: 0.5908 - sparse_categorical_accuracy: 0.9730\n",
      "Epoch 7/10\n",
      "5/5 [==============================] - 0s 79ms/step - loss: 0.8187 - sparse_categorical_accuracy: 0.9189\n",
      "Epoch 8/10\n",
      "5/5 [==============================] - 0s 82ms/step - loss: 0.5536 - sparse_categorical_accuracy: 0.9459\n",
      "Epoch 9/10\n",
      "5/5 [==============================] - 0s 75ms/step - loss: 0.6804 - sparse_categorical_accuracy: 0.9189\n",
      "Epoch 10/10\n",
      "5/5 [==============================] - 0s 78ms/step - loss: 0.6411 - sparse_categorical_accuracy: 0.9189\n",
      "WARNING:tensorflow:Model was constructed with shape (None, 270, 3) for input Tensor(\"input_109:0\", shape=(None, 270, 3), dtype=float32), but it was called on an input with incompatible shape (None, 240, 3).\n"
     ]
    },
    {
     "name": "stderr",
     "output_type": "stream",
     "text": [
      "\r",
      "23it [04:03, 10.87s/it]"
     ]
    },
    {
     "name": "stdout",
     "output_type": "stream",
     "text": [
      "Epoch 1/10\n",
      "WARNING:tensorflow:Model was constructed with shape (None, 270, 3) for input Tensor(\"input_110:0\", shape=(None, 270, 3), dtype=float32), but it was called on an input with incompatible shape (None, 240, 3).\n",
      "WARNING:tensorflow:Model was constructed with shape (None, 270, 3) for input Tensor(\"input_110:0\", shape=(None, 270, 3), dtype=float32), but it was called on an input with incompatible shape (None, 240, 3).\n",
      "5/5 [==============================] - 0s 80ms/step - loss: 1.1577 - sparse_categorical_accuracy: 0.6486\n",
      "Epoch 2/10\n",
      "5/5 [==============================] - 0s 77ms/step - loss: 1.1872 - sparse_categorical_accuracy: 0.7297\n",
      "Epoch 3/10\n",
      "5/5 [==============================] - 0s 75ms/step - loss: 1.0227 - sparse_categorical_accuracy: 0.8919\n",
      "Epoch 4/10\n",
      "5/5 [==============================] - 0s 75ms/step - loss: 1.0244 - sparse_categorical_accuracy: 0.8919\n",
      "Epoch 5/10\n",
      "5/5 [==============================] - 0s 78ms/step - loss: 1.1023 - sparse_categorical_accuracy: 0.8108\n",
      "Epoch 6/10\n",
      "5/5 [==============================] - 0s 78ms/step - loss: 0.7198 - sparse_categorical_accuracy: 0.9459\n",
      "Epoch 7/10\n",
      "5/5 [==============================] - 0s 77ms/step - loss: 0.9756 - sparse_categorical_accuracy: 0.8108\n",
      "Epoch 8/10\n",
      "5/5 [==============================] - 0s 85ms/step - loss: 0.6951 - sparse_categorical_accuracy: 0.8919\n",
      "Epoch 9/10\n",
      "5/5 [==============================] - 0s 76ms/step - loss: 0.5770 - sparse_categorical_accuracy: 0.9189\n",
      "Epoch 10/10\n",
      "5/5 [==============================] - 0s 77ms/step - loss: 0.5299 - sparse_categorical_accuracy: 0.9459\n",
      "WARNING:tensorflow:Model was constructed with shape (None, 270, 3) for input Tensor(\"input_110:0\", shape=(None, 270, 3), dtype=float32), but it was called on an input with incompatible shape (None, 240, 3).\n"
     ]
    },
    {
     "name": "stderr",
     "output_type": "stream",
     "text": [
      "\r",
      "24it [04:13, 10.78s/it]"
     ]
    },
    {
     "name": "stdout",
     "output_type": "stream",
     "text": [
      "Epoch 1/10\n",
      "WARNING:tensorflow:Model was constructed with shape (None, 270, 3) for input Tensor(\"input_111:0\", shape=(None, 270, 3), dtype=float32), but it was called on an input with incompatible shape (None, 240, 3).\n",
      "WARNING:tensorflow:Model was constructed with shape (None, 270, 3) for input Tensor(\"input_111:0\", shape=(None, 270, 3), dtype=float32), but it was called on an input with incompatible shape (None, 240, 3).\n",
      "5/5 [==============================] - 0s 80ms/step - loss: 1.0878 - sparse_categorical_accuracy: 0.7568\n",
      "Epoch 2/10\n",
      "5/5 [==============================] - 0s 87ms/step - loss: 0.9392 - sparse_categorical_accuracy: 0.8378\n",
      "Epoch 3/10\n",
      "5/5 [==============================] - 0s 98ms/step - loss: 1.1277 - sparse_categorical_accuracy: 0.8649\n",
      "Epoch 4/10\n",
      "5/5 [==============================] - 0s 84ms/step - loss: 1.2482 - sparse_categorical_accuracy: 0.8378\n",
      "Epoch 5/10\n",
      "5/5 [==============================] - 0s 83ms/step - loss: 1.0764 - sparse_categorical_accuracy: 0.7568\n",
      "Epoch 6/10\n",
      "5/5 [==============================] - 0s 87ms/step - loss: 0.9113 - sparse_categorical_accuracy: 0.8919\n",
      "Epoch 7/10\n",
      "5/5 [==============================] - 0s 76ms/step - loss: 0.7027 - sparse_categorical_accuracy: 0.8919\n",
      "Epoch 8/10\n",
      "5/5 [==============================] - 0s 78ms/step - loss: 0.7385 - sparse_categorical_accuracy: 0.8378\n",
      "Epoch 9/10\n",
      "5/5 [==============================] - 0s 77ms/step - loss: 0.6416 - sparse_categorical_accuracy: 0.9189\n",
      "Epoch 10/10\n",
      "5/5 [==============================] - 0s 74ms/step - loss: 0.6123 - sparse_categorical_accuracy: 0.8919\n",
      "WARNING:tensorflow:Model was constructed with shape (None, 270, 3) for input Tensor(\"input_111:0\", shape=(None, 270, 3), dtype=float32), but it was called on an input with incompatible shape (None, 240, 3).\n"
     ]
    },
    {
     "name": "stderr",
     "output_type": "stream",
     "text": [
      "\r",
      "25it [04:25, 10.99s/it]"
     ]
    },
    {
     "name": "stdout",
     "output_type": "stream",
     "text": [
      "Epoch 1/10\n",
      "WARNING:tensorflow:Model was constructed with shape (None, 270, 3) for input Tensor(\"input_112:0\", shape=(None, 270, 3), dtype=float32), but it was called on an input with incompatible shape (None, 240, 3).\n",
      "WARNING:tensorflow:Model was constructed with shape (None, 270, 3) for input Tensor(\"input_112:0\", shape=(None, 270, 3), dtype=float32), but it was called on an input with incompatible shape (None, 240, 3).\n",
      "5/5 [==============================] - 0s 79ms/step - loss: 1.2236 - sparse_categorical_accuracy: 0.6216\n",
      "Epoch 2/10\n",
      "5/5 [==============================] - 0s 80ms/step - loss: 0.9802 - sparse_categorical_accuracy: 0.8378\n",
      "Epoch 3/10\n",
      "5/5 [==============================] - 0s 78ms/step - loss: 1.1830 - sparse_categorical_accuracy: 0.8108\n",
      "Epoch 4/10\n",
      "5/5 [==============================] - 0s 81ms/step - loss: 1.4931 - sparse_categorical_accuracy: 0.7297\n",
      "Epoch 5/10\n",
      "5/5 [==============================] - 0s 79ms/step - loss: 1.0577 - sparse_categorical_accuracy: 0.7838\n",
      "Epoch 6/10\n",
      "5/5 [==============================] - 0s 89ms/step - loss: 0.8319 - sparse_categorical_accuracy: 0.8649\n",
      "Epoch 7/10\n",
      "5/5 [==============================] - 0s 73ms/step - loss: 0.7221 - sparse_categorical_accuracy: 0.9189\n",
      "Epoch 8/10\n",
      "5/5 [==============================] - 0s 79ms/step - loss: 0.7032 - sparse_categorical_accuracy: 0.8649\n",
      "Epoch 9/10\n",
      "5/5 [==============================] - 0s 79ms/step - loss: 0.6587 - sparse_categorical_accuracy: 0.8649\n",
      "Epoch 10/10\n",
      "5/5 [==============================] - 0s 75ms/step - loss: 0.5583 - sparse_categorical_accuracy: 0.9459\n",
      "WARNING:tensorflow:Model was constructed with shape (None, 270, 3) for input Tensor(\"input_112:0\", shape=(None, 270, 3), dtype=float32), but it was called on an input with incompatible shape (None, 240, 3).\n"
     ]
    },
    {
     "name": "stderr",
     "output_type": "stream",
     "text": [
      "\r",
      "26it [04:36, 10.86s/it]"
     ]
    },
    {
     "name": "stdout",
     "output_type": "stream",
     "text": [
      "Epoch 1/10\n",
      "WARNING:tensorflow:Model was constructed with shape (None, 270, 3) for input Tensor(\"input_113:0\", shape=(None, 270, 3), dtype=float32), but it was called on an input with incompatible shape (None, 240, 3).\n",
      "WARNING:tensorflow:Model was constructed with shape (None, 270, 3) for input Tensor(\"input_113:0\", shape=(None, 270, 3), dtype=float32), but it was called on an input with incompatible shape (None, 240, 3).\n",
      "5/5 [==============================] - 0s 77ms/step - loss: 1.1844 - sparse_categorical_accuracy: 0.6757\n",
      "Epoch 2/10\n",
      "5/5 [==============================] - 0s 77ms/step - loss: 1.2499 - sparse_categorical_accuracy: 0.7838\n",
      "Epoch 3/10\n",
      "5/5 [==============================] - 0s 87ms/step - loss: 1.1200 - sparse_categorical_accuracy: 0.8919\n",
      "Epoch 4/10\n",
      "5/5 [==============================] - 0s 84ms/step - loss: 1.0484 - sparse_categorical_accuracy: 0.8919\n",
      "Epoch 5/10\n",
      "5/5 [==============================] - 0s 83ms/step - loss: 0.9609 - sparse_categorical_accuracy: 0.8919\n",
      "Epoch 6/10\n",
      "5/5 [==============================] - 0s 96ms/step - loss: 1.1407 - sparse_categorical_accuracy: 0.8378\n",
      "Epoch 7/10\n",
      "5/5 [==============================] - 0s 80ms/step - loss: 0.7757 - sparse_categorical_accuracy: 0.8919\n",
      "Epoch 8/10\n",
      "5/5 [==============================] - 0s 82ms/step - loss: 0.8231 - sparse_categorical_accuracy: 0.8919\n",
      "Epoch 9/10\n",
      "5/5 [==============================] - 0s 82ms/step - loss: 0.6258 - sparse_categorical_accuracy: 0.9189\n",
      "Epoch 10/10\n",
      "5/5 [==============================] - 0s 82ms/step - loss: 0.6525 - sparse_categorical_accuracy: 0.9459\n",
      "WARNING:tensorflow:Model was constructed with shape (None, 270, 3) for input Tensor(\"input_113:0\", shape=(None, 270, 3), dtype=float32), but it was called on an input with incompatible shape (None, 240, 3).\n"
     ]
    },
    {
     "name": "stderr",
     "output_type": "stream",
     "text": [
      "\r",
      "27it [04:48, 11.21s/it]"
     ]
    },
    {
     "name": "stdout",
     "output_type": "stream",
     "text": [
      "Epoch 1/10\n",
      "WARNING:tensorflow:Model was constructed with shape (None, 270, 3) for input Tensor(\"input_114:0\", shape=(None, 270, 3), dtype=float32), but it was called on an input with incompatible shape (None, 240, 3).\n",
      "WARNING:tensorflow:Model was constructed with shape (None, 270, 3) for input Tensor(\"input_114:0\", shape=(None, 270, 3), dtype=float32), but it was called on an input with incompatible shape (None, 240, 3).\n",
      "5/5 [==============================] - 0s 87ms/step - loss: 0.9818 - sparse_categorical_accuracy: 0.8378\n",
      "Epoch 2/10\n",
      "5/5 [==============================] - 0s 79ms/step - loss: 1.0579 - sparse_categorical_accuracy: 0.7838\n",
      "Epoch 3/10\n",
      "5/5 [==============================] - 0s 80ms/step - loss: 1.0550 - sparse_categorical_accuracy: 0.8919\n",
      "Epoch 4/10\n",
      "5/5 [==============================] - 0s 84ms/step - loss: 0.8720 - sparse_categorical_accuracy: 0.9459\n",
      "Epoch 5/10\n",
      "5/5 [==============================] - 0s 79ms/step - loss: 0.8099 - sparse_categorical_accuracy: 0.9189\n",
      "Epoch 6/10\n",
      "5/5 [==============================] - 0s 89ms/step - loss: 0.6919 - sparse_categorical_accuracy: 0.8919\n",
      "Epoch 7/10\n",
      "5/5 [==============================] - 0s 76ms/step - loss: 0.5142 - sparse_categorical_accuracy: 0.9459\n",
      "Epoch 8/10\n",
      "5/5 [==============================] - 0s 80ms/step - loss: 0.7669 - sparse_categorical_accuracy: 0.8919\n",
      "Epoch 9/10\n",
      "5/5 [==============================] - 0s 81ms/step - loss: 0.6615 - sparse_categorical_accuracy: 0.8919\n",
      "Epoch 10/10\n",
      "5/5 [==============================] - 0s 78ms/step - loss: 0.6227 - sparse_categorical_accuracy: 0.9189\n",
      "WARNING:tensorflow:Model was constructed with shape (None, 270, 3) for input Tensor(\"input_114:0\", shape=(None, 270, 3), dtype=float32), but it was called on an input with incompatible shape (None, 240, 3).\n"
     ]
    },
    {
     "name": "stderr",
     "output_type": "stream",
     "text": [
      "\r",
      "28it [04:59, 11.14s/it]"
     ]
    },
    {
     "name": "stdout",
     "output_type": "stream",
     "text": [
      "Epoch 1/10\n",
      "WARNING:tensorflow:Model was constructed with shape (None, 270, 3) for input Tensor(\"input_115:0\", shape=(None, 270, 3), dtype=float32), but it was called on an input with incompatible shape (None, 240, 3).\n",
      "WARNING:tensorflow:Model was constructed with shape (None, 270, 3) for input Tensor(\"input_115:0\", shape=(None, 270, 3), dtype=float32), but it was called on an input with incompatible shape (None, 240, 3).\n",
      "5/5 [==============================] - 0s 81ms/step - loss: 1.2933 - sparse_categorical_accuracy: 0.5946\n",
      "Epoch 2/10\n",
      "5/5 [==============================] - 0s 80ms/step - loss: 1.2139 - sparse_categorical_accuracy: 0.7838\n",
      "Epoch 3/10\n",
      "5/5 [==============================] - 0s 78ms/step - loss: 1.2459 - sparse_categorical_accuracy: 0.8649\n",
      "Epoch 4/10\n",
      "5/5 [==============================] - 0s 79ms/step - loss: 1.1507 - sparse_categorical_accuracy: 0.7838\n",
      "Epoch 5/10\n",
      "5/5 [==============================] - 0s 78ms/step - loss: 1.1993 - sparse_categorical_accuracy: 0.8378\n",
      "Epoch 6/10\n",
      "5/5 [==============================] - 0s 78ms/step - loss: 1.0751 - sparse_categorical_accuracy: 0.7838\n",
      "Epoch 7/10\n",
      "5/5 [==============================] - 0s 80ms/step - loss: 0.8056 - sparse_categorical_accuracy: 0.9189\n",
      "Epoch 8/10\n",
      "5/5 [==============================] - 0s 81ms/step - loss: 0.8553 - sparse_categorical_accuracy: 0.8649\n",
      "Epoch 9/10\n",
      "5/5 [==============================] - 0s 81ms/step - loss: 0.6328 - sparse_categorical_accuracy: 0.9189\n",
      "Epoch 10/10\n",
      "5/5 [==============================] - 0s 76ms/step - loss: 0.6013 - sparse_categorical_accuracy: 0.8919\n",
      "WARNING:tensorflow:Model was constructed with shape (None, 270, 3) for input Tensor(\"input_115:0\", shape=(None, 270, 3), dtype=float32), but it was called on an input with incompatible shape (None, 240, 3).\n"
     ]
    },
    {
     "name": "stderr",
     "output_type": "stream",
     "text": [
      "\r",
      "29it [05:09, 10.97s/it]"
     ]
    },
    {
     "name": "stdout",
     "output_type": "stream",
     "text": [
      "Epoch 1/10\n",
      "WARNING:tensorflow:Model was constructed with shape (None, 270, 3) for input Tensor(\"input_116:0\", shape=(None, 270, 3), dtype=float32), but it was called on an input with incompatible shape (None, 240, 3).\n",
      "WARNING:tensorflow:Model was constructed with shape (None, 270, 3) for input Tensor(\"input_116:0\", shape=(None, 270, 3), dtype=float32), but it was called on an input with incompatible shape (None, 240, 3).\n",
      "5/5 [==============================] - 0s 87ms/step - loss: 1.0041 - sparse_categorical_accuracy: 0.7838\n",
      "Epoch 2/10\n",
      "5/5 [==============================] - 0s 78ms/step - loss: 1.1264 - sparse_categorical_accuracy: 0.7838\n",
      "Epoch 3/10\n",
      "5/5 [==============================] - 0s 80ms/step - loss: 1.0884 - sparse_categorical_accuracy: 0.8378\n",
      "Epoch 4/10\n",
      "5/5 [==============================] - 0s 77ms/step - loss: 0.8049 - sparse_categorical_accuracy: 0.9189\n",
      "Epoch 5/10\n",
      "5/5 [==============================] - 0s 80ms/step - loss: 0.8669 - sparse_categorical_accuracy: 0.8649\n",
      "Epoch 6/10\n",
      "5/5 [==============================] - 0s 92ms/step - loss: 0.6395 - sparse_categorical_accuracy: 0.9189\n",
      "Epoch 7/10\n",
      "5/5 [==============================] - 0s 77ms/step - loss: 0.6560 - sparse_categorical_accuracy: 0.8919\n",
      "Epoch 8/10\n",
      "5/5 [==============================] - 0s 80ms/step - loss: 0.8553 - sparse_categorical_accuracy: 0.7838\n",
      "Epoch 9/10\n",
      "5/5 [==============================] - 0s 79ms/step - loss: 0.5753 - sparse_categorical_accuracy: 0.9459\n",
      "Epoch 10/10\n",
      "5/5 [==============================] - 0s 78ms/step - loss: 0.6333 - sparse_categorical_accuracy: 0.9459\n",
      "WARNING:tensorflow:Model was constructed with shape (None, 270, 3) for input Tensor(\"input_116:0\", shape=(None, 270, 3), dtype=float32), but it was called on an input with incompatible shape (None, 240, 3).\n"
     ]
    },
    {
     "name": "stderr",
     "output_type": "stream",
     "text": [
      "\r",
      "30it [05:20, 10.87s/it]"
     ]
    },
    {
     "name": "stdout",
     "output_type": "stream",
     "text": [
      "Epoch 1/10\n",
      "WARNING:tensorflow:Model was constructed with shape (None, 270, 3) for input Tensor(\"input_117:0\", shape=(None, 270, 3), dtype=float32), but it was called on an input with incompatible shape (None, 240, 3).\n",
      "WARNING:tensorflow:Model was constructed with shape (None, 270, 3) for input Tensor(\"input_117:0\", shape=(None, 270, 3), dtype=float32), but it was called on an input with incompatible shape (None, 240, 3).\n",
      "5/5 [==============================] - 0s 84ms/step - loss: 1.1102 - sparse_categorical_accuracy: 0.7568\n",
      "Epoch 2/10\n",
      "5/5 [==============================] - 0s 82ms/step - loss: 1.3010 - sparse_categorical_accuracy: 0.7297\n",
      "Epoch 3/10\n",
      "5/5 [==============================] - 0s 80ms/step - loss: 1.2547 - sparse_categorical_accuracy: 0.8378\n",
      "Epoch 4/10\n",
      "5/5 [==============================] - 0s 85ms/step - loss: 0.8561 - sparse_categorical_accuracy: 0.9730\n",
      "Epoch 5/10\n",
      "5/5 [==============================] - 0s 81ms/step - loss: 0.9733 - sparse_categorical_accuracy: 0.8919\n",
      "Epoch 6/10\n",
      "5/5 [==============================] - 0s 87ms/step - loss: 0.6968 - sparse_categorical_accuracy: 0.9459\n",
      "Epoch 7/10\n",
      "5/5 [==============================] - 0s 81ms/step - loss: 0.7538 - sparse_categorical_accuracy: 0.8919\n",
      "Epoch 8/10\n",
      "5/5 [==============================] - 0s 78ms/step - loss: 0.9387 - sparse_categorical_accuracy: 0.7838\n",
      "Epoch 9/10\n",
      "5/5 [==============================] - 0s 84ms/step - loss: 0.7834 - sparse_categorical_accuracy: 0.8108\n",
      "Epoch 10/10\n",
      "5/5 [==============================] - 0s 79ms/step - loss: 0.8059 - sparse_categorical_accuracy: 0.8378\n",
      "WARNING:tensorflow:Model was constructed with shape (None, 270, 3) for input Tensor(\"input_117:0\", shape=(None, 270, 3), dtype=float32), but it was called on an input with incompatible shape (None, 240, 3).\n"
     ]
    },
    {
     "name": "stderr",
     "output_type": "stream",
     "text": [
      "\r",
      "31it [05:30, 10.82s/it]"
     ]
    },
    {
     "name": "stdout",
     "output_type": "stream",
     "text": [
      "Epoch 1/10\n",
      "WARNING:tensorflow:Model was constructed with shape (None, 270, 3) for input Tensor(\"input_118:0\", shape=(None, 270, 3), dtype=float32), but it was called on an input with incompatible shape (None, 240, 3).\n",
      "WARNING:tensorflow:Model was constructed with shape (None, 270, 3) for input Tensor(\"input_118:0\", shape=(None, 270, 3), dtype=float32), but it was called on an input with incompatible shape (None, 240, 3).\n",
      "5/5 [==============================] - 0s 90ms/step - loss: 1.0484 - sparse_categorical_accuracy: 0.7027\n",
      "Epoch 2/10\n",
      "5/5 [==============================] - 0s 84ms/step - loss: 0.9936 - sparse_categorical_accuracy: 0.8919\n",
      "Epoch 3/10\n",
      "5/5 [==============================] - 0s 79ms/step - loss: 0.8029 - sparse_categorical_accuracy: 0.9730\n",
      "Epoch 4/10\n",
      "5/5 [==============================] - 0s 74ms/step - loss: 0.8319 - sparse_categorical_accuracy: 0.9459\n",
      "Epoch 5/10\n",
      "5/5 [==============================] - 0s 80ms/step - loss: 0.7025 - sparse_categorical_accuracy: 0.9459\n",
      "Epoch 6/10\n",
      "5/5 [==============================] - 0s 80ms/step - loss: 0.8501 - sparse_categorical_accuracy: 0.8649\n",
      "Epoch 7/10\n",
      "5/5 [==============================] - 0s 79ms/step - loss: 0.9247 - sparse_categorical_accuracy: 0.8649\n",
      "Epoch 8/10\n",
      "5/5 [==============================] - 0s 79ms/step - loss: 0.4532 - sparse_categorical_accuracy: 1.0000\n",
      "Epoch 9/10\n",
      "5/5 [==============================] - 0s 79ms/step - loss: 0.7665 - sparse_categorical_accuracy: 0.8919\n",
      "Epoch 10/10\n",
      "5/5 [==============================] - 0s 81ms/step - loss: 0.7280 - sparse_categorical_accuracy: 0.8919\n",
      "WARNING:tensorflow:Model was constructed with shape (None, 270, 3) for input Tensor(\"input_118:0\", shape=(None, 270, 3), dtype=float32), but it was called on an input with incompatible shape (None, 240, 3).\n"
     ]
    },
    {
     "name": "stderr",
     "output_type": "stream",
     "text": [
      "\r",
      "32it [05:41, 10.80s/it]"
     ]
    },
    {
     "name": "stdout",
     "output_type": "stream",
     "text": [
      "Epoch 1/10\n",
      "WARNING:tensorflow:Model was constructed with shape (None, 270, 3) for input Tensor(\"input_119:0\", shape=(None, 270, 3), dtype=float32), but it was called on an input with incompatible shape (None, 240, 3).\n",
      "WARNING:tensorflow:Model was constructed with shape (None, 270, 3) for input Tensor(\"input_119:0\", shape=(None, 270, 3), dtype=float32), but it was called on an input with incompatible shape (None, 240, 3).\n",
      "5/5 [==============================] - 0s 80ms/step - loss: 1.4025 - sparse_categorical_accuracy: 0.6486\n",
      "Epoch 2/10\n",
      "5/5 [==============================] - 0s 79ms/step - loss: 1.2371 - sparse_categorical_accuracy: 0.7297\n",
      "Epoch 3/10\n",
      "5/5 [==============================] - 0s 82ms/step - loss: 1.2838 - sparse_categorical_accuracy: 0.8108\n",
      "Epoch 4/10\n",
      "5/5 [==============================] - 0s 75ms/step - loss: 1.2722 - sparse_categorical_accuracy: 0.7838\n",
      "Epoch 5/10\n",
      "5/5 [==============================] - 0s 80ms/step - loss: 1.0562 - sparse_categorical_accuracy: 0.8378\n",
      "Epoch 6/10\n",
      "5/5 [==============================] - 0s 82ms/step - loss: 0.9277 - sparse_categorical_accuracy: 0.8378\n",
      "Epoch 7/10\n",
      "5/5 [==============================] - 0s 83ms/step - loss: 1.1518 - sparse_categorical_accuracy: 0.8108\n",
      "Epoch 8/10\n",
      "5/5 [==============================] - 0s 80ms/step - loss: 0.7264 - sparse_categorical_accuracy: 0.9189\n",
      "Epoch 9/10\n",
      "5/5 [==============================] - 0s 79ms/step - loss: 0.6896 - sparse_categorical_accuracy: 0.8919\n",
      "Epoch 10/10\n",
      "5/5 [==============================] - 0s 77ms/step - loss: 0.7695 - sparse_categorical_accuracy: 0.8378\n",
      "WARNING:tensorflow:Model was constructed with shape (None, 270, 3) for input Tensor(\"input_119:0\", shape=(None, 270, 3), dtype=float32), but it was called on an input with incompatible shape (None, 240, 3).\n"
     ]
    },
    {
     "name": "stderr",
     "output_type": "stream",
     "text": [
      "\r",
      "33it [05:52, 10.77s/it]"
     ]
    },
    {
     "name": "stdout",
     "output_type": "stream",
     "text": [
      "Epoch 1/10\n",
      "WARNING:tensorflow:Model was constructed with shape (None, 270, 3) for input Tensor(\"input_120:0\", shape=(None, 270, 3), dtype=float32), but it was called on an input with incompatible shape (None, 240, 3).\n",
      "WARNING:tensorflow:Model was constructed with shape (None, 270, 3) for input Tensor(\"input_120:0\", shape=(None, 270, 3), dtype=float32), but it was called on an input with incompatible shape (None, 240, 3).\n",
      "5/5 [==============================] - 0s 81ms/step - loss: 1.3313 - sparse_categorical_accuracy: 0.6486\n",
      "Epoch 2/10\n",
      "5/5 [==============================] - 0s 78ms/step - loss: 1.2616 - sparse_categorical_accuracy: 0.7568\n",
      "Epoch 3/10\n",
      "5/5 [==============================] - 0s 81ms/step - loss: 1.1376 - sparse_categorical_accuracy: 0.8919\n",
      "Epoch 4/10\n",
      "5/5 [==============================] - 0s 82ms/step - loss: 1.2322 - sparse_categorical_accuracy: 0.8378\n",
      "Epoch 5/10\n",
      "5/5 [==============================] - 0s 84ms/step - loss: 1.3447 - sparse_categorical_accuracy: 0.8108\n",
      "Epoch 6/10\n",
      "5/5 [==============================] - 0s 77ms/step - loss: 1.2432 - sparse_categorical_accuracy: 0.8378\n",
      "Epoch 7/10\n",
      "5/5 [==============================] - 0s 78ms/step - loss: 0.7882 - sparse_categorical_accuracy: 0.8919\n",
      "Epoch 8/10\n",
      "5/5 [==============================] - 0s 78ms/step - loss: 0.9658 - sparse_categorical_accuracy: 0.8378\n",
      "Epoch 9/10\n",
      "5/5 [==============================] - 0s 81ms/step - loss: 0.7378 - sparse_categorical_accuracy: 0.8919\n",
      "Epoch 10/10\n",
      "5/5 [==============================] - 0s 79ms/step - loss: 1.0558 - sparse_categorical_accuracy: 0.7568\n",
      "WARNING:tensorflow:Model was constructed with shape (None, 270, 3) for input Tensor(\"input_120:0\", shape=(None, 270, 3), dtype=float32), but it was called on an input with incompatible shape (None, 240, 3).\n"
     ]
    },
    {
     "name": "stderr",
     "output_type": "stream",
     "text": [
      "\r",
      "34it [06:03, 10.73s/it]"
     ]
    },
    {
     "name": "stdout",
     "output_type": "stream",
     "text": [
      "Epoch 1/10\n",
      "WARNING:tensorflow:Model was constructed with shape (None, 270, 3) for input Tensor(\"input_121:0\", shape=(None, 270, 3), dtype=float32), but it was called on an input with incompatible shape (None, 240, 3).\n",
      "WARNING:tensorflow:Model was constructed with shape (None, 270, 3) for input Tensor(\"input_121:0\", shape=(None, 270, 3), dtype=float32), but it was called on an input with incompatible shape (None, 240, 3).\n",
      "5/5 [==============================] - 0s 84ms/step - loss: 1.2970 - sparse_categorical_accuracy: 0.4865\n",
      "Epoch 2/10\n",
      "5/5 [==============================] - 0s 77ms/step - loss: 1.2627 - sparse_categorical_accuracy: 0.7568\n",
      "Epoch 3/10\n",
      "5/5 [==============================] - 0s 82ms/step - loss: 1.1392 - sparse_categorical_accuracy: 0.8919\n",
      "Epoch 4/10\n",
      "5/5 [==============================] - 0s 86ms/step - loss: 1.2478 - sparse_categorical_accuracy: 0.8378\n",
      "Epoch 5/10\n",
      "5/5 [==============================] - 0s 84ms/step - loss: 1.2302 - sparse_categorical_accuracy: 0.8108\n",
      "Epoch 6/10\n",
      "5/5 [==============================] - 0s 81ms/step - loss: 0.9868 - sparse_categorical_accuracy: 0.8108\n",
      "Epoch 7/10\n",
      "5/5 [==============================] - 0s 81ms/step - loss: 1.2666 - sparse_categorical_accuracy: 0.7027\n",
      "Epoch 8/10\n",
      "5/5 [==============================] - 0s 82ms/step - loss: 0.8506 - sparse_categorical_accuracy: 0.9189\n",
      "Epoch 9/10\n",
      "5/5 [==============================] - 0s 79ms/step - loss: 0.9972 - sparse_categorical_accuracy: 0.8919\n",
      "Epoch 10/10\n",
      "5/5 [==============================] - 0s 82ms/step - loss: 0.9874 - sparse_categorical_accuracy: 0.7838\n",
      "WARNING:tensorflow:Model was constructed with shape (None, 270, 3) for input Tensor(\"input_121:0\", shape=(None, 270, 3), dtype=float32), but it was called on an input with incompatible shape (None, 240, 3).\n"
     ]
    },
    {
     "name": "stderr",
     "output_type": "stream",
     "text": [
      "\r",
      "35it [06:15, 11.13s/it]"
     ]
    },
    {
     "name": "stdout",
     "output_type": "stream",
     "text": [
      "Epoch 1/10\n",
      "WARNING:tensorflow:Model was constructed with shape (None, 270, 3) for input Tensor(\"input_122:0\", shape=(None, 270, 3), dtype=float32), but it was called on an input with incompatible shape (None, 240, 3).\n",
      "WARNING:tensorflow:Model was constructed with shape (None, 270, 3) for input Tensor(\"input_122:0\", shape=(None, 270, 3), dtype=float32), but it was called on an input with incompatible shape (None, 240, 3).\n",
      "5/5 [==============================] - 0s 89ms/step - loss: 1.1228 - sparse_categorical_accuracy: 0.7297\n",
      "Epoch 2/10\n",
      "5/5 [==============================] - 0s 85ms/step - loss: 1.2669 - sparse_categorical_accuracy: 0.7568\n",
      "Epoch 3/10\n",
      "5/5 [==============================] - 0s 80ms/step - loss: 1.1398 - sparse_categorical_accuracy: 0.7568\n",
      "Epoch 4/10\n",
      "5/5 [==============================] - 0s 82ms/step - loss: 0.9709 - sparse_categorical_accuracy: 0.8649\n",
      "Epoch 5/10\n",
      "5/5 [==============================] - 0s 82ms/step - loss: 0.8963 - sparse_categorical_accuracy: 0.8919\n",
      "Epoch 6/10\n",
      "5/5 [==============================] - 0s 83ms/step - loss: 0.5581 - sparse_categorical_accuracy: 0.9730\n",
      "Epoch 7/10\n",
      "5/5 [==============================] - 0s 81ms/step - loss: 0.6721 - sparse_categorical_accuracy: 0.9459\n",
      "Epoch 8/10\n",
      "5/5 [==============================] - 0s 82ms/step - loss: 0.5254 - sparse_categorical_accuracy: 0.8919\n",
      "Epoch 9/10\n",
      "5/5 [==============================] - 0s 83ms/step - loss: 0.5846 - sparse_categorical_accuracy: 0.9189\n",
      "Epoch 10/10\n",
      "5/5 [==============================] - 0s 81ms/step - loss: 0.6734 - sparse_categorical_accuracy: 0.8919\n",
      "WARNING:tensorflow:Model was constructed with shape (None, 270, 3) for input Tensor(\"input_122:0\", shape=(None, 270, 3), dtype=float32), but it was called on an input with incompatible shape (None, 240, 3).\n"
     ]
    },
    {
     "name": "stderr",
     "output_type": "stream",
     "text": [
      "\r",
      "36it [06:26, 11.11s/it]"
     ]
    },
    {
     "name": "stdout",
     "output_type": "stream",
     "text": [
      "Epoch 1/10\n",
      "WARNING:tensorflow:Model was constructed with shape (None, 270, 3) for input Tensor(\"input_123:0\", shape=(None, 270, 3), dtype=float32), but it was called on an input with incompatible shape (None, 240, 3).\n",
      "WARNING:tensorflow:Model was constructed with shape (None, 270, 3) for input Tensor(\"input_123:0\", shape=(None, 270, 3), dtype=float32), but it was called on an input with incompatible shape (None, 240, 3).\n",
      "5/5 [==============================] - 0s 88ms/step - loss: 1.2185 - sparse_categorical_accuracy: 0.7027\n",
      "Epoch 2/10\n",
      "5/5 [==============================] - 0s 95ms/step - loss: 1.4224 - sparse_categorical_accuracy: 0.7838\n",
      "Epoch 3/10\n",
      "5/5 [==============================] - 0s 96ms/step - loss: 1.1798 - sparse_categorical_accuracy: 0.8108\n",
      "Epoch 4/10\n",
      "5/5 [==============================] - 0s 92ms/step - loss: 1.2310 - sparse_categorical_accuracy: 0.7838\n",
      "Epoch 5/10\n",
      "5/5 [==============================] - 0s 88ms/step - loss: 0.9512 - sparse_categorical_accuracy: 0.7568\n",
      "Epoch 6/10\n",
      "5/5 [==============================] - 0s 98ms/step - loss: 0.7273 - sparse_categorical_accuracy: 0.9459\n",
      "Epoch 7/10\n",
      "5/5 [==============================] - 1s 106ms/step - loss: 0.8480 - sparse_categorical_accuracy: 0.9189\n",
      "Epoch 8/10\n",
      "5/5 [==============================] - 0s 90ms/step - loss: 0.9650 - sparse_categorical_accuracy: 0.8108\n",
      "Epoch 9/10\n",
      "5/5 [==============================] - 0s 91ms/step - loss: 0.8464 - sparse_categorical_accuracy: 0.7838\n",
      "Epoch 10/10\n",
      "5/5 [==============================] - 0s 91ms/step - loss: 0.5363 - sparse_categorical_accuracy: 0.9730\n",
      "WARNING:tensorflow:Model was constructed with shape (None, 270, 3) for input Tensor(\"input_123:0\", shape=(None, 270, 3), dtype=float32), but it was called on an input with incompatible shape (None, 240, 3).\n"
     ]
    },
    {
     "name": "stderr",
     "output_type": "stream",
     "text": [
      "\r",
      "37it [06:38, 11.36s/it]"
     ]
    },
    {
     "name": "stdout",
     "output_type": "stream",
     "text": [
      "Epoch 1/10\n",
      "WARNING:tensorflow:Model was constructed with shape (None, 270, 3) for input Tensor(\"input_124:0\", shape=(None, 270, 3), dtype=float32), but it was called on an input with incompatible shape (None, 240, 3).\n",
      "WARNING:tensorflow:Model was constructed with shape (None, 270, 3) for input Tensor(\"input_124:0\", shape=(None, 270, 3), dtype=float32), but it was called on an input with incompatible shape (None, 240, 3).\n",
      "5/5 [==============================] - 0s 85ms/step - loss: 1.3180 - sparse_categorical_accuracy: 0.5946\n",
      "Epoch 2/10\n",
      "5/5 [==============================] - 0s 78ms/step - loss: 1.1545 - sparse_categorical_accuracy: 0.7838\n",
      "Epoch 3/10\n",
      "5/5 [==============================] - 0s 81ms/step - loss: 1.1492 - sparse_categorical_accuracy: 0.8108\n",
      "Epoch 4/10\n",
      "5/5 [==============================] - 0s 80ms/step - loss: 1.0605 - sparse_categorical_accuracy: 0.8108\n",
      "Epoch 5/10\n",
      "5/5 [==============================] - 0s 92ms/step - loss: 0.8073 - sparse_categorical_accuracy: 0.9189\n",
      "Epoch 6/10\n",
      "5/5 [==============================] - 0s 80ms/step - loss: 0.6432 - sparse_categorical_accuracy: 1.0000\n",
      "Epoch 7/10\n",
      "5/5 [==============================] - 0s 81ms/step - loss: 0.6710 - sparse_categorical_accuracy: 0.9730\n",
      "Epoch 8/10\n",
      "5/5 [==============================] - 0s 78ms/step - loss: 0.8137 - sparse_categorical_accuracy: 0.8649\n",
      "Epoch 9/10\n",
      "5/5 [==============================] - 0s 92ms/step - loss: 0.6462 - sparse_categorical_accuracy: 0.9189\n",
      "Epoch 10/10\n",
      "5/5 [==============================] - 0s 85ms/step - loss: 0.6520 - sparse_categorical_accuracy: 0.9189\n",
      "WARNING:tensorflow:Model was constructed with shape (None, 270, 3) for input Tensor(\"input_124:0\", shape=(None, 270, 3), dtype=float32), but it was called on an input with incompatible shape (None, 240, 3).\n"
     ]
    },
    {
     "name": "stderr",
     "output_type": "stream",
     "text": [
      "38it [06:49, 10.77s/it]\n",
      "0it [00:00, ?it/s]"
     ]
    },
    {
     "name": "stdout",
     "output_type": "stream",
     "text": [
      "Epoch 1/10\n",
      "5/5 [==============================] - 0s 81ms/step - loss: 1.3104 - sparse_categorical_accuracy: 0.5152\n",
      "Epoch 2/10\n",
      "5/5 [==============================] - 0s 81ms/step - loss: 1.1969 - sparse_categorical_accuracy: 0.8182\n",
      "Epoch 3/10\n",
      "5/5 [==============================] - 0s 81ms/step - loss: 1.4227 - sparse_categorical_accuracy: 0.7879\n",
      "Epoch 4/10\n",
      "5/5 [==============================] - 0s 81ms/step - loss: 1.0630 - sparse_categorical_accuracy: 0.8485\n",
      "Epoch 5/10\n",
      "5/5 [==============================] - 0s 78ms/step - loss: 0.9409 - sparse_categorical_accuracy: 0.9091\n",
      "Epoch 6/10\n",
      "5/5 [==============================] - 0s 85ms/step - loss: 1.0260 - sparse_categorical_accuracy: 0.7576\n",
      "Epoch 7/10\n",
      "5/5 [==============================] - 0s 78ms/step - loss: 0.7205 - sparse_categorical_accuracy: 0.8485\n",
      "Epoch 8/10\n",
      "5/5 [==============================] - 0s 90ms/step - loss: 0.7906 - sparse_categorical_accuracy: 0.7879\n",
      "Epoch 9/10\n",
      "5/5 [==============================] - 0s 84ms/step - loss: 1.1015 - sparse_categorical_accuracy: 0.8485\n",
      "Epoch 10/10\n",
      "5/5 [==============================] - 0s 96ms/step - loss: 0.6167 - sparse_categorical_accuracy: 0.9091\n"
     ]
    },
    {
     "name": "stderr",
     "output_type": "stream",
     "text": [
      "\r",
      "1it [00:11, 11.04s/it]"
     ]
    },
    {
     "name": "stdout",
     "output_type": "stream",
     "text": [
      "Epoch 1/10\n",
      "5/5 [==============================] - 0s 81ms/step - loss: 1.3467 - sparse_categorical_accuracy: 0.5758\n",
      "Epoch 2/10\n",
      "5/5 [==============================] - 0s 80ms/step - loss: 1.1201 - sparse_categorical_accuracy: 0.7273\n",
      "Epoch 3/10\n",
      "5/5 [==============================] - 0s 81ms/step - loss: 1.0540 - sparse_categorical_accuracy: 0.8788\n",
      "Epoch 4/10\n",
      "5/5 [==============================] - 0s 81ms/step - loss: 1.0568 - sparse_categorical_accuracy: 0.8485\n",
      "Epoch 5/10\n",
      "5/5 [==============================] - 0s 79ms/step - loss: 0.9787 - sparse_categorical_accuracy: 0.8485\n",
      "Epoch 6/10\n",
      "5/5 [==============================] - 0s 84ms/step - loss: 0.7307 - sparse_categorical_accuracy: 0.9091\n",
      "Epoch 7/10\n",
      "5/5 [==============================] - 0s 82ms/step - loss: 1.1869 - sparse_categorical_accuracy: 0.6667\n",
      "Epoch 8/10\n",
      "5/5 [==============================] - 0s 80ms/step - loss: 0.6908 - sparse_categorical_accuracy: 0.9394\n",
      "Epoch 9/10\n",
      "5/5 [==============================] - 0s 80ms/step - loss: 0.7904 - sparse_categorical_accuracy: 0.8485\n",
      "Epoch 10/10\n",
      "5/5 [==============================] - 0s 81ms/step - loss: 0.8863 - sparse_categorical_accuracy: 0.7273\n"
     ]
    },
    {
     "name": "stderr",
     "output_type": "stream",
     "text": [
      "\r",
      "2it [00:22, 11.13s/it]"
     ]
    },
    {
     "name": "stdout",
     "output_type": "stream",
     "text": [
      "Epoch 1/10\n",
      "5/5 [==============================] - 0s 89ms/step - loss: 1.1233 - sparse_categorical_accuracy: 0.6667\n",
      "Epoch 2/10\n",
      "5/5 [==============================] - 0s 83ms/step - loss: 1.1147 - sparse_categorical_accuracy: 0.8788\n",
      "Epoch 3/10\n",
      "5/5 [==============================] - 0s 84ms/step - loss: 1.1769 - sparse_categorical_accuracy: 0.8485\n",
      "Epoch 4/10\n",
      "5/5 [==============================] - 0s 79ms/step - loss: 1.1675 - sparse_categorical_accuracy: 0.8485\n",
      "Epoch 5/10\n",
      "5/5 [==============================] - 0s 86ms/step - loss: 0.8548 - sparse_categorical_accuracy: 0.9091\n",
      "Epoch 6/10\n",
      "5/5 [==============================] - 0s 84ms/step - loss: 1.2227 - sparse_categorical_accuracy: 0.7576\n",
      "Epoch 7/10\n",
      "5/5 [==============================] - 0s 81ms/step - loss: 0.6974 - sparse_categorical_accuracy: 0.9091\n",
      "Epoch 8/10\n",
      "5/5 [==============================] - 0s 82ms/step - loss: 0.8128 - sparse_categorical_accuracy: 0.8788\n",
      "Epoch 9/10\n",
      "5/5 [==============================] - 0s 81ms/step - loss: 0.9730 - sparse_categorical_accuracy: 0.7273\n",
      "Epoch 10/10\n",
      "5/5 [==============================] - 0s 75ms/step - loss: 1.1719 - sparse_categorical_accuracy: 0.7273\n"
     ]
    },
    {
     "name": "stderr",
     "output_type": "stream",
     "text": [
      "\r",
      "3it [00:33, 11.08s/it]"
     ]
    },
    {
     "name": "stdout",
     "output_type": "stream",
     "text": [
      "Epoch 1/10\n",
      "5/5 [==============================] - 0s 82ms/step - loss: 1.3565 - sparse_categorical_accuracy: 0.5152\n",
      "Epoch 2/10\n",
      "5/5 [==============================] - 0s 79ms/step - loss: 1.4431 - sparse_categorical_accuracy: 0.6061\n",
      "Epoch 3/10\n",
      "5/5 [==============================] - 0s 81ms/step - loss: 1.2554 - sparse_categorical_accuracy: 0.6970\n",
      "Epoch 4/10\n",
      "5/5 [==============================] - 0s 79ms/step - loss: 1.3059 - sparse_categorical_accuracy: 0.7879\n",
      "Epoch 5/10\n",
      "5/5 [==============================] - 0s 81ms/step - loss: 0.9527 - sparse_categorical_accuracy: 0.8182\n",
      "Epoch 6/10\n",
      "5/5 [==============================] - 0s 82ms/step - loss: 0.7986 - sparse_categorical_accuracy: 0.8788\n",
      "Epoch 7/10\n",
      "5/5 [==============================] - 0s 79ms/step - loss: 0.7715 - sparse_categorical_accuracy: 0.9091\n",
      "Epoch 8/10\n",
      "5/5 [==============================] - 0s 80ms/step - loss: 0.8128 - sparse_categorical_accuracy: 0.8485\n",
      "Epoch 9/10\n",
      "5/5 [==============================] - 0s 78ms/step - loss: 0.7188 - sparse_categorical_accuracy: 0.8182\n",
      "Epoch 10/10\n",
      "5/5 [==============================] - 0s 78ms/step - loss: 0.6893 - sparse_categorical_accuracy: 0.8182\n"
     ]
    },
    {
     "name": "stderr",
     "output_type": "stream",
     "text": [
      "\r",
      "4it [00:44, 10.99s/it]"
     ]
    },
    {
     "name": "stdout",
     "output_type": "stream",
     "text": [
      "Epoch 1/10\n",
      "5/5 [==============================] - 0s 81ms/step - loss: 1.5693 - sparse_categorical_accuracy: 0.5455\n",
      "Epoch 2/10\n",
      "5/5 [==============================] - 0s 86ms/step - loss: 1.3804 - sparse_categorical_accuracy: 0.5758\n",
      "Epoch 3/10\n",
      "5/5 [==============================] - 0s 85ms/step - loss: 1.2046 - sparse_categorical_accuracy: 0.7576\n",
      "Epoch 4/10\n",
      "5/5 [==============================] - 0s 84ms/step - loss: 1.0980 - sparse_categorical_accuracy: 0.7576\n",
      "Epoch 5/10\n",
      "5/5 [==============================] - 0s 83ms/step - loss: 1.1469 - sparse_categorical_accuracy: 0.7273\n",
      "Epoch 6/10\n",
      "5/5 [==============================] - 0s 81ms/step - loss: 1.0110 - sparse_categorical_accuracy: 0.8182\n",
      "Epoch 7/10\n",
      "5/5 [==============================] - 0s 80ms/step - loss: 1.0212 - sparse_categorical_accuracy: 0.7273\n",
      "Epoch 8/10\n",
      "5/5 [==============================] - 0s 78ms/step - loss: 0.9048 - sparse_categorical_accuracy: 0.8485\n",
      "Epoch 9/10\n",
      "5/5 [==============================] - 0s 85ms/step - loss: 1.0488 - sparse_categorical_accuracy: 0.8485\n",
      "Epoch 10/10\n",
      "5/5 [==============================] - 0s 85ms/step - loss: 0.7864 - sparse_categorical_accuracy: 0.8182\n"
     ]
    },
    {
     "name": "stderr",
     "output_type": "stream",
     "text": [
      "\r",
      "5it [00:56, 11.38s/it]"
     ]
    },
    {
     "name": "stdout",
     "output_type": "stream",
     "text": [
      "Epoch 1/10\n",
      "5/5 [==============================] - 0s 79ms/step - loss: 1.1902 - sparse_categorical_accuracy: 0.7576\n",
      "Epoch 2/10\n",
      "5/5 [==============================] - 0s 81ms/step - loss: 1.1182 - sparse_categorical_accuracy: 0.9091\n",
      "Epoch 3/10\n",
      "5/5 [==============================] - 0s 89ms/step - loss: 1.3479 - sparse_categorical_accuracy: 0.8182\n",
      "Epoch 4/10\n",
      "5/5 [==============================] - 0s 83ms/step - loss: 0.9702 - sparse_categorical_accuracy: 0.9091\n",
      "Epoch 5/10\n",
      "5/5 [==============================] - 0s 89ms/step - loss: 0.9944 - sparse_categorical_accuracy: 0.8485\n",
      "Epoch 6/10\n",
      "5/5 [==============================] - 0s 81ms/step - loss: 1.1018 - sparse_categorical_accuracy: 0.7576\n",
      "Epoch 7/10\n",
      "5/5 [==============================] - 0s 82ms/step - loss: 0.8536 - sparse_categorical_accuracy: 0.8182\n",
      "Epoch 8/10\n",
      "5/5 [==============================] - 0s 85ms/step - loss: 0.6779 - sparse_categorical_accuracy: 0.8788\n",
      "Epoch 9/10\n",
      "5/5 [==============================] - 0s 82ms/step - loss: 0.6795 - sparse_categorical_accuracy: 0.8788\n",
      "Epoch 10/10\n",
      "5/5 [==============================] - 0s 87ms/step - loss: 0.7439 - sparse_categorical_accuracy: 0.8182\n"
     ]
    },
    {
     "name": "stderr",
     "output_type": "stream",
     "text": [
      "\r",
      "6it [01:07, 11.37s/it]"
     ]
    },
    {
     "name": "stdout",
     "output_type": "stream",
     "text": [
      "Epoch 1/10\n",
      "5/5 [==============================] - 0s 89ms/step - loss: 1.2444 - sparse_categorical_accuracy: 0.5152\n",
      "Epoch 2/10\n",
      "5/5 [==============================] - 0s 88ms/step - loss: 1.3673 - sparse_categorical_accuracy: 0.7273\n",
      "Epoch 3/10\n",
      "5/5 [==============================] - 0s 84ms/step - loss: 1.2703 - sparse_categorical_accuracy: 0.7879\n",
      "Epoch 4/10\n",
      "5/5 [==============================] - 0s 80ms/step - loss: 1.3717 - sparse_categorical_accuracy: 0.7576\n",
      "Epoch 5/10\n",
      "5/5 [==============================] - 0s 84ms/step - loss: 1.0149 - sparse_categorical_accuracy: 0.8485\n",
      "Epoch 6/10\n",
      "5/5 [==============================] - 0s 87ms/step - loss: 0.8583 - sparse_categorical_accuracy: 0.8485\n",
      "Epoch 7/10\n",
      "5/5 [==============================] - 0s 86ms/step - loss: 0.9354 - sparse_categorical_accuracy: 0.7879\n",
      "Epoch 8/10\n",
      "5/5 [==============================] - 0s 82ms/step - loss: 0.7967 - sparse_categorical_accuracy: 0.8788\n",
      "Epoch 9/10\n",
      "5/5 [==============================] - 0s 85ms/step - loss: 0.7149 - sparse_categorical_accuracy: 0.7879\n",
      "Epoch 10/10\n",
      "5/5 [==============================] - 0s 78ms/step - loss: 0.6692 - sparse_categorical_accuracy: 0.8182\n"
     ]
    },
    {
     "name": "stderr",
     "output_type": "stream",
     "text": [
      "\r",
      "7it [01:19, 11.38s/it]"
     ]
    },
    {
     "name": "stdout",
     "output_type": "stream",
     "text": [
      "Epoch 1/10\n",
      "5/5 [==============================] - 0s 87ms/step - loss: 1.3031 - sparse_categorical_accuracy: 0.6364\n",
      "Epoch 2/10\n",
      "5/5 [==============================] - 0s 83ms/step - loss: 1.2185 - sparse_categorical_accuracy: 0.8485\n",
      "Epoch 3/10\n",
      "5/5 [==============================] - 0s 82ms/step - loss: 1.1949 - sparse_categorical_accuracy: 0.8485\n",
      "Epoch 4/10\n",
      "5/5 [==============================] - 0s 83ms/step - loss: 0.9942 - sparse_categorical_accuracy: 0.9394\n",
      "Epoch 5/10\n",
      "5/5 [==============================] - 0s 81ms/step - loss: 1.2029 - sparse_categorical_accuracy: 0.7879\n",
      "Epoch 6/10\n",
      "5/5 [==============================] - 0s 82ms/step - loss: 1.4181 - sparse_categorical_accuracy: 0.7576\n",
      "Epoch 7/10\n",
      "5/5 [==============================] - 0s 87ms/step - loss: 1.0420 - sparse_categorical_accuracy: 0.7879\n",
      "Epoch 8/10\n",
      "5/5 [==============================] - 0s 93ms/step - loss: 0.7911 - sparse_categorical_accuracy: 0.8182\n",
      "Epoch 9/10\n",
      "5/5 [==============================] - 0s 82ms/step - loss: 0.7567 - sparse_categorical_accuracy: 0.8485\n",
      "Epoch 10/10\n",
      "5/5 [==============================] - 0s 80ms/step - loss: 1.0117 - sparse_categorical_accuracy: 0.8182\n"
     ]
    },
    {
     "name": "stderr",
     "output_type": "stream",
     "text": [
      "\r",
      "8it [01:30, 11.34s/it]"
     ]
    },
    {
     "name": "stdout",
     "output_type": "stream",
     "text": [
      "Epoch 1/10\n",
      "5/5 [==============================] - 0s 79ms/step - loss: 1.1587 - sparse_categorical_accuracy: 0.6364\n",
      "Epoch 2/10\n",
      "5/5 [==============================] - 0s 82ms/step - loss: 1.0957 - sparse_categorical_accuracy: 0.7879\n",
      "Epoch 3/10\n",
      "5/5 [==============================] - 0s 82ms/step - loss: 1.1157 - sparse_categorical_accuracy: 0.8485\n",
      "Epoch 4/10\n",
      "5/5 [==============================] - 0s 84ms/step - loss: 1.0014 - sparse_categorical_accuracy: 0.9091\n",
      "Epoch 5/10\n",
      "5/5 [==============================] - 0s 81ms/step - loss: 0.9564 - sparse_categorical_accuracy: 0.8485\n",
      "Epoch 6/10\n",
      "5/5 [==============================] - 0s 79ms/step - loss: 0.7348 - sparse_categorical_accuracy: 0.9697\n",
      "Epoch 7/10\n",
      "5/5 [==============================] - 0s 82ms/step - loss: 0.9644 - sparse_categorical_accuracy: 0.7576\n",
      "Epoch 8/10\n",
      "5/5 [==============================] - 0s 79ms/step - loss: 0.8408 - sparse_categorical_accuracy: 0.8182\n",
      "Epoch 9/10\n",
      "5/5 [==============================] - 0s 82ms/step - loss: 0.8819 - sparse_categorical_accuracy: 0.7879\n",
      "Epoch 10/10\n",
      "5/5 [==============================] - 0s 78ms/step - loss: 0.7829 - sparse_categorical_accuracy: 0.7879\n"
     ]
    },
    {
     "name": "stderr",
     "output_type": "stream",
     "text": [
      "\r",
      "9it [01:41, 11.21s/it]"
     ]
    },
    {
     "name": "stdout",
     "output_type": "stream",
     "text": [
      "Epoch 1/10\n",
      "5/5 [==============================] - 0s 78ms/step - loss: 1.3747 - sparse_categorical_accuracy: 0.5758\n",
      "Epoch 2/10\n",
      "5/5 [==============================] - 0s 78ms/step - loss: 1.1130 - sparse_categorical_accuracy: 0.7879\n",
      "Epoch 3/10\n",
      "5/5 [==============================] - 0s 79ms/step - loss: 1.3962 - sparse_categorical_accuracy: 0.7879\n",
      "Epoch 4/10\n",
      "5/5 [==============================] - 0s 78ms/step - loss: 1.1523 - sparse_categorical_accuracy: 0.7879\n",
      "Epoch 5/10\n",
      "5/5 [==============================] - 0s 75ms/step - loss: 1.0080 - sparse_categorical_accuracy: 0.8485\n",
      "Epoch 6/10\n",
      "5/5 [==============================] - 0s 78ms/step - loss: 0.7977 - sparse_categorical_accuracy: 0.9091\n",
      "Epoch 7/10\n",
      "5/5 [==============================] - 0s 78ms/step - loss: 0.8419 - sparse_categorical_accuracy: 0.8788\n",
      "Epoch 8/10\n",
      "5/5 [==============================] - 0s 77ms/step - loss: 0.5556 - sparse_categorical_accuracy: 0.9697\n",
      "Epoch 9/10\n",
      "5/5 [==============================] - 0s 78ms/step - loss: 0.8899 - sparse_categorical_accuracy: 0.7576\n",
      "Epoch 10/10\n",
      "5/5 [==============================] - 0s 84ms/step - loss: 0.9177 - sparse_categorical_accuracy: 0.7576\n"
     ]
    },
    {
     "name": "stderr",
     "output_type": "stream",
     "text": [
      "\r",
      "10it [01:52, 11.11s/it]"
     ]
    },
    {
     "name": "stdout",
     "output_type": "stream",
     "text": [
      "Epoch 1/10\n",
      "5/5 [==============================] - 0s 75ms/step - loss: 1.5817 - sparse_categorical_accuracy: 0.5455\n",
      "Epoch 2/10\n",
      "5/5 [==============================] - 0s 86ms/step - loss: 1.2493 - sparse_categorical_accuracy: 0.7879\n",
      "Epoch 3/10\n",
      "5/5 [==============================] - 0s 78ms/step - loss: 1.5534 - sparse_categorical_accuracy: 0.7879\n",
      "Epoch 4/10\n",
      "5/5 [==============================] - 0s 79ms/step - loss: 1.4205 - sparse_categorical_accuracy: 0.7273\n",
      "Epoch 5/10\n",
      "5/5 [==============================] - 0s 82ms/step - loss: 1.0885 - sparse_categorical_accuracy: 0.8788\n",
      "Epoch 6/10\n",
      "5/5 [==============================] - 0s 81ms/step - loss: 0.8404 - sparse_categorical_accuracy: 0.9091\n",
      "Epoch 7/10\n",
      "5/5 [==============================] - 0s 83ms/step - loss: 0.8963 - sparse_categorical_accuracy: 0.8182\n",
      "Epoch 8/10\n",
      "5/5 [==============================] - 0s 81ms/step - loss: 1.4171 - sparse_categorical_accuracy: 0.5758\n",
      "Epoch 9/10\n",
      "5/5 [==============================] - 0s 79ms/step - loss: 0.8880 - sparse_categorical_accuracy: 0.8182\n",
      "Epoch 10/10\n",
      "5/5 [==============================] - 0s 78ms/step - loss: 1.1312 - sparse_categorical_accuracy: 0.6667\n"
     ]
    },
    {
     "name": "stderr",
     "output_type": "stream",
     "text": [
      "\r",
      "11it [02:03, 11.06s/it]"
     ]
    },
    {
     "name": "stdout",
     "output_type": "stream",
     "text": [
      "Epoch 1/10\n",
      "5/5 [==============================] - 0s 82ms/step - loss: 1.7417 - sparse_categorical_accuracy: 0.4242\n",
      "Epoch 2/10\n",
      "5/5 [==============================] - 0s 77ms/step - loss: 1.4980 - sparse_categorical_accuracy: 0.6667\n",
      "Epoch 3/10\n",
      "5/5 [==============================] - 0s 76ms/step - loss: 1.7047 - sparse_categorical_accuracy: 0.7273\n",
      "Epoch 4/10\n",
      "5/5 [==============================] - 0s 78ms/step - loss: 1.3918 - sparse_categorical_accuracy: 0.7879\n",
      "Epoch 5/10\n",
      "5/5 [==============================] - 0s 75ms/step - loss: 1.0920 - sparse_categorical_accuracy: 0.8182\n",
      "Epoch 6/10\n",
      "5/5 [==============================] - 0s 83ms/step - loss: 0.7864 - sparse_categorical_accuracy: 0.9697\n",
      "Epoch 7/10\n",
      "5/5 [==============================] - 0s 83ms/step - loss: 0.9372 - sparse_categorical_accuracy: 0.8485\n",
      "Epoch 8/10\n",
      "5/5 [==============================] - 0s 79ms/step - loss: 0.9842 - sparse_categorical_accuracy: 0.8788\n",
      "Epoch 9/10\n",
      "5/5 [==============================] - 0s 88ms/step - loss: 0.9008 - sparse_categorical_accuracy: 0.8485\n",
      "Epoch 10/10\n",
      "5/5 [==============================] - 0s 98ms/step - loss: 0.8790 - sparse_categorical_accuracy: 0.7879\n"
     ]
    },
    {
     "name": "stderr",
     "output_type": "stream",
     "text": [
      "\r",
      "12it [02:14, 11.06s/it]"
     ]
    },
    {
     "name": "stdout",
     "output_type": "stream",
     "text": [
      "Epoch 1/10\n",
      "5/5 [==============================] - 0s 76ms/step - loss: 1.4940 - sparse_categorical_accuracy: 0.3939\n",
      "Epoch 2/10\n",
      "5/5 [==============================] - 0s 79ms/step - loss: 1.3321 - sparse_categorical_accuracy: 0.6970\n",
      "Epoch 3/10\n",
      "5/5 [==============================] - 0s 81ms/step - loss: 1.1774 - sparse_categorical_accuracy: 0.7879\n",
      "Epoch 4/10\n",
      "5/5 [==============================] - 0s 79ms/step - loss: 1.2551 - sparse_categorical_accuracy: 0.7576\n",
      "Epoch 5/10\n",
      "5/5 [==============================] - 0s 81ms/step - loss: 0.9748 - sparse_categorical_accuracy: 0.8788\n",
      "Epoch 6/10\n",
      "5/5 [==============================] - 0s 82ms/step - loss: 0.8810 - sparse_categorical_accuracy: 0.8788\n",
      "Epoch 7/10\n",
      "5/5 [==============================] - 0s 81ms/step - loss: 0.8138 - sparse_categorical_accuracy: 0.8485\n",
      "Epoch 8/10\n",
      "5/5 [==============================] - 0s 79ms/step - loss: 0.7688 - sparse_categorical_accuracy: 0.7879\n",
      "Epoch 9/10\n",
      "5/5 [==============================] - 0s 83ms/step - loss: 0.6991 - sparse_categorical_accuracy: 0.8788\n",
      "Epoch 10/10\n",
      "5/5 [==============================] - 0s 82ms/step - loss: 0.5687 - sparse_categorical_accuracy: 0.9394\n"
     ]
    },
    {
     "name": "stderr",
     "output_type": "stream",
     "text": [
      "\r",
      "13it [02:25, 11.02s/it]"
     ]
    },
    {
     "name": "stdout",
     "output_type": "stream",
     "text": [
      "Epoch 1/10\n",
      "5/5 [==============================] - 0s 82ms/step - loss: 1.0888 - sparse_categorical_accuracy: 0.6970\n",
      "Epoch 2/10\n",
      "5/5 [==============================] - 0s 82ms/step - loss: 1.0730 - sparse_categorical_accuracy: 0.8788\n",
      "Epoch 3/10\n",
      "5/5 [==============================] - 0s 82ms/step - loss: 1.2321 - sparse_categorical_accuracy: 0.9091\n",
      "Epoch 4/10\n",
      "5/5 [==============================] - 0s 78ms/step - loss: 1.1381 - sparse_categorical_accuracy: 0.9091\n",
      "Epoch 5/10\n",
      "5/5 [==============================] - 0s 84ms/step - loss: 0.8964 - sparse_categorical_accuracy: 0.7576\n",
      "Epoch 6/10\n",
      "5/5 [==============================] - 0s 85ms/step - loss: 0.9054 - sparse_categorical_accuracy: 0.8788\n",
      "Epoch 7/10\n",
      "5/5 [==============================] - 0s 85ms/step - loss: 1.1276 - sparse_categorical_accuracy: 0.7273\n",
      "Epoch 8/10\n",
      "5/5 [==============================] - 0s 84ms/step - loss: 0.8290 - sparse_categorical_accuracy: 0.7273\n",
      "Epoch 9/10\n",
      "5/5 [==============================] - 0s 81ms/step - loss: 0.7961 - sparse_categorical_accuracy: 0.8788\n",
      "Epoch 10/10\n",
      "5/5 [==============================] - 0s 86ms/step - loss: 0.6779 - sparse_categorical_accuracy: 0.8788\n"
     ]
    },
    {
     "name": "stderr",
     "output_type": "stream",
     "text": [
      "\r",
      "14it [02:37, 11.50s/it]"
     ]
    },
    {
     "name": "stdout",
     "output_type": "stream",
     "text": [
      "Epoch 1/10\n",
      "5/5 [==============================] - 0s 82ms/step - loss: 1.4206 - sparse_categorical_accuracy: 0.6061\n",
      "Epoch 2/10\n",
      "5/5 [==============================] - 0s 89ms/step - loss: 1.3710 - sparse_categorical_accuracy: 0.6667\n",
      "Epoch 3/10\n",
      "5/5 [==============================] - 0s 89ms/step - loss: 1.3188 - sparse_categorical_accuracy: 0.7273\n",
      "Epoch 4/10\n",
      "5/5 [==============================] - 0s 83ms/step - loss: 1.4030 - sparse_categorical_accuracy: 0.6970\n",
      "Epoch 5/10\n",
      "5/5 [==============================] - 0s 81ms/step - loss: 0.8747 - sparse_categorical_accuracy: 0.8788\n",
      "Epoch 6/10\n",
      "5/5 [==============================] - 0s 84ms/step - loss: 1.0592 - sparse_categorical_accuracy: 0.8485\n",
      "Epoch 7/10\n",
      "5/5 [==============================] - 0s 80ms/step - loss: 1.2866 - sparse_categorical_accuracy: 0.6364\n",
      "Epoch 8/10\n",
      "5/5 [==============================] - 0s 83ms/step - loss: 0.6736 - sparse_categorical_accuracy: 0.9091\n",
      "Epoch 9/10\n",
      "5/5 [==============================] - 0s 82ms/step - loss: 0.8167 - sparse_categorical_accuracy: 0.8182\n",
      "Epoch 10/10\n",
      "5/5 [==============================] - 0s 81ms/step - loss: 0.7304 - sparse_categorical_accuracy: 0.8182\n"
     ]
    },
    {
     "name": "stderr",
     "output_type": "stream",
     "text": [
      "\r",
      "15it [02:48, 11.42s/it]"
     ]
    },
    {
     "name": "stdout",
     "output_type": "stream",
     "text": [
      "Epoch 1/10\n",
      "5/5 [==============================] - 0s 83ms/step - loss: 1.1837 - sparse_categorical_accuracy: 0.7576\n",
      "Epoch 2/10\n",
      "5/5 [==============================] - 0s 83ms/step - loss: 1.3338 - sparse_categorical_accuracy: 0.7879\n",
      "Epoch 3/10\n",
      "5/5 [==============================] - 0s 78ms/step - loss: 1.0536 - sparse_categorical_accuracy: 0.9091\n",
      "Epoch 4/10\n",
      "5/5 [==============================] - 0s 84ms/step - loss: 1.0696 - sparse_categorical_accuracy: 0.8485\n",
      "Epoch 5/10\n",
      "5/5 [==============================] - 0s 87ms/step - loss: 0.9542 - sparse_categorical_accuracy: 0.8485\n",
      "Epoch 6/10\n",
      "5/5 [==============================] - 0s 82ms/step - loss: 1.0869 - sparse_categorical_accuracy: 0.7576\n",
      "Epoch 7/10\n",
      "5/5 [==============================] - 0s 81ms/step - loss: 0.9851 - sparse_categorical_accuracy: 0.6667\n",
      "Epoch 8/10\n",
      "5/5 [==============================] - 0s 82ms/step - loss: 0.9240 - sparse_categorical_accuracy: 0.7879\n",
      "Epoch 9/10\n",
      "5/5 [==============================] - 0s 81ms/step - loss: 0.9563 - sparse_categorical_accuracy: 0.7879\n",
      "Epoch 10/10\n",
      "5/5 [==============================] - 0s 85ms/step - loss: 0.6943 - sparse_categorical_accuracy: 0.8788\n"
     ]
    },
    {
     "name": "stderr",
     "output_type": "stream",
     "text": [
      "\r",
      "16it [03:00, 11.36s/it]"
     ]
    },
    {
     "name": "stdout",
     "output_type": "stream",
     "text": [
      "Epoch 1/10\n",
      "5/5 [==============================] - 0s 79ms/step - loss: 1.4326 - sparse_categorical_accuracy: 0.5455\n",
      "Epoch 2/10\n",
      "5/5 [==============================] - 0s 81ms/step - loss: 1.3081 - sparse_categorical_accuracy: 0.7879\n",
      "Epoch 3/10\n",
      "5/5 [==============================] - 0s 82ms/step - loss: 1.2162 - sparse_categorical_accuracy: 0.8182\n",
      "Epoch 4/10\n",
      "5/5 [==============================] - 0s 78ms/step - loss: 1.7931 - sparse_categorical_accuracy: 0.6667\n",
      "Epoch 5/10\n",
      "5/5 [==============================] - 0s 81ms/step - loss: 0.9483 - sparse_categorical_accuracy: 0.8485\n",
      "Epoch 6/10\n",
      "5/5 [==============================] - 0s 83ms/step - loss: 0.7695 - sparse_categorical_accuracy: 0.8182\n",
      "Epoch 7/10\n",
      "5/5 [==============================] - 0s 81ms/step - loss: 0.8715 - sparse_categorical_accuracy: 0.8485\n",
      "Epoch 8/10\n",
      "5/5 [==============================] - 0s 85ms/step - loss: 0.8066 - sparse_categorical_accuracy: 0.8485\n",
      "Epoch 9/10\n",
      "5/5 [==============================] - 0s 81ms/step - loss: 0.6222 - sparse_categorical_accuracy: 0.9091\n",
      "Epoch 10/10\n",
      "5/5 [==============================] - 0s 78ms/step - loss: 1.1436 - sparse_categorical_accuracy: 0.7576\n"
     ]
    },
    {
     "name": "stderr",
     "output_type": "stream",
     "text": [
      "\r",
      "17it [03:11, 11.28s/it]"
     ]
    },
    {
     "name": "stdout",
     "output_type": "stream",
     "text": [
      "Epoch 1/10\n",
      "5/5 [==============================] - 0s 80ms/step - loss: 1.2691 - sparse_categorical_accuracy: 0.5152\n",
      "Epoch 2/10\n",
      "5/5 [==============================] - 0s 78ms/step - loss: 1.0584 - sparse_categorical_accuracy: 0.8485\n",
      "Epoch 3/10\n",
      "5/5 [==============================] - 0s 80ms/step - loss: 1.2033 - sparse_categorical_accuracy: 0.7576\n",
      "Epoch 4/10\n",
      "5/5 [==============================] - 0s 78ms/step - loss: 1.1304 - sparse_categorical_accuracy: 0.7879\n",
      "Epoch 5/10\n",
      "5/5 [==============================] - 0s 82ms/step - loss: 1.0469 - sparse_categorical_accuracy: 0.7879\n",
      "Epoch 6/10\n",
      "5/5 [==============================] - 0s 85ms/step - loss: 1.0172 - sparse_categorical_accuracy: 0.7576\n",
      "Epoch 7/10\n",
      "5/5 [==============================] - 0s 83ms/step - loss: 0.7565 - sparse_categorical_accuracy: 0.8788\n",
      "Epoch 8/10\n",
      "5/5 [==============================] - 0s 79ms/step - loss: 0.8297 - sparse_categorical_accuracy: 0.8485\n",
      "Epoch 9/10\n",
      "5/5 [==============================] - 0s 79ms/step - loss: 0.8125 - sparse_categorical_accuracy: 0.8788\n",
      "Epoch 10/10\n",
      "5/5 [==============================] - 0s 79ms/step - loss: 0.5625 - sparse_categorical_accuracy: 0.9697\n"
     ]
    },
    {
     "name": "stderr",
     "output_type": "stream",
     "text": [
      "\r",
      "18it [03:22, 11.23s/it]"
     ]
    },
    {
     "name": "stdout",
     "output_type": "stream",
     "text": [
      "Epoch 1/10\n",
      "5/5 [==============================] - 0s 80ms/step - loss: 1.5872 - sparse_categorical_accuracy: 0.5152\n",
      "Epoch 2/10\n",
      "5/5 [==============================] - 0s 83ms/step - loss: 1.1361 - sparse_categorical_accuracy: 0.8485\n",
      "Epoch 3/10\n",
      "5/5 [==============================] - 0s 89ms/step - loss: 1.2851 - sparse_categorical_accuracy: 0.8788\n",
      "Epoch 4/10\n",
      "5/5 [==============================] - 0s 87ms/step - loss: 1.2436 - sparse_categorical_accuracy: 0.7879\n",
      "Epoch 5/10\n",
      "5/5 [==============================] - 0s 81ms/step - loss: 1.1537 - sparse_categorical_accuracy: 0.8485\n",
      "Epoch 6/10\n",
      "5/5 [==============================] - 0s 78ms/step - loss: 0.8300 - sparse_categorical_accuracy: 0.8788\n",
      "Epoch 7/10\n",
      "5/5 [==============================] - 0s 78ms/step - loss: 0.9300 - sparse_categorical_accuracy: 0.8182\n",
      "Epoch 8/10\n",
      "5/5 [==============================] - 0s 78ms/step - loss: 1.1548 - sparse_categorical_accuracy: 0.7576\n",
      "Epoch 9/10\n",
      "5/5 [==============================] - 0s 81ms/step - loss: 0.8396 - sparse_categorical_accuracy: 0.8485\n",
      "Epoch 10/10\n",
      "5/5 [==============================] - 0s 82ms/step - loss: 0.7982 - sparse_categorical_accuracy: 0.8788\n"
     ]
    },
    {
     "name": "stderr",
     "output_type": "stream",
     "text": [
      "\r",
      "19it [03:33, 11.18s/it]"
     ]
    },
    {
     "name": "stdout",
     "output_type": "stream",
     "text": [
      "Epoch 1/10\n",
      "5/5 [==============================] - 0s 84ms/step - loss: 1.1047 - sparse_categorical_accuracy: 0.5758\n",
      "Epoch 2/10\n",
      "5/5 [==============================] - 0s 83ms/step - loss: 1.1531 - sparse_categorical_accuracy: 0.8485\n",
      "Epoch 3/10\n",
      "5/5 [==============================] - 0s 81ms/step - loss: 0.9788 - sparse_categorical_accuracy: 0.9394\n",
      "Epoch 4/10\n",
      "5/5 [==============================] - 0s 82ms/step - loss: 1.0704 - sparse_categorical_accuracy: 0.8182\n",
      "Epoch 5/10\n",
      "5/5 [==============================] - 0s 83ms/step - loss: 0.9532 - sparse_categorical_accuracy: 0.8485\n",
      "Epoch 6/10\n",
      "5/5 [==============================] - 0s 79ms/step - loss: 1.0484 - sparse_categorical_accuracy: 0.7879\n",
      "Epoch 7/10\n",
      "5/5 [==============================] - 0s 83ms/step - loss: 0.7791 - sparse_categorical_accuracy: 0.9394\n",
      "Epoch 8/10\n",
      "5/5 [==============================] - 0s 82ms/step - loss: 0.8016 - sparse_categorical_accuracy: 0.8788\n",
      "Epoch 9/10\n",
      "5/5 [==============================] - 0s 81ms/step - loss: 0.7349 - sparse_categorical_accuracy: 0.9394\n",
      "Epoch 10/10\n",
      "5/5 [==============================] - 0s 81ms/step - loss: 0.7822 - sparse_categorical_accuracy: 0.7879\n"
     ]
    },
    {
     "name": "stderr",
     "output_type": "stream",
     "text": [
      "\r",
      "20it [03:44, 11.12s/it]"
     ]
    },
    {
     "name": "stdout",
     "output_type": "stream",
     "text": [
      "Epoch 1/10\n",
      "5/5 [==============================] - 0s 79ms/step - loss: 1.5678 - sparse_categorical_accuracy: 0.6061\n",
      "Epoch 2/10\n",
      "5/5 [==============================] - 0s 82ms/step - loss: 1.1914 - sparse_categorical_accuracy: 0.8788\n",
      "Epoch 3/10\n",
      "5/5 [==============================] - 0s 82ms/step - loss: 1.2224 - sparse_categorical_accuracy: 0.8485\n",
      "Epoch 4/10\n",
      "5/5 [==============================] - 0s 81ms/step - loss: 1.1061 - sparse_categorical_accuracy: 0.8485\n",
      "Epoch 5/10\n",
      "5/5 [==============================] - 0s 79ms/step - loss: 1.0086 - sparse_categorical_accuracy: 0.8485\n",
      "Epoch 6/10\n",
      "5/5 [==============================] - 0s 79ms/step - loss: 0.8937 - sparse_categorical_accuracy: 0.8485\n",
      "Epoch 7/10\n",
      "5/5 [==============================] - 0s 81ms/step - loss: 0.6929 - sparse_categorical_accuracy: 0.8485\n",
      "Epoch 8/10\n",
      "5/5 [==============================] - 0s 76ms/step - loss: 0.8017 - sparse_categorical_accuracy: 0.7576\n",
      "Epoch 9/10\n",
      "5/5 [==============================] - 0s 79ms/step - loss: 0.6998 - sparse_categorical_accuracy: 0.8485\n",
      "Epoch 10/10\n",
      "5/5 [==============================] - 0s 83ms/step - loss: 0.7583 - sparse_categorical_accuracy: 0.7576\n"
     ]
    },
    {
     "name": "stderr",
     "output_type": "stream",
     "text": [
      "\r",
      "21it [03:55, 11.08s/it]"
     ]
    },
    {
     "name": "stdout",
     "output_type": "stream",
     "text": [
      "Epoch 1/10\n",
      "5/5 [==============================] - 0s 79ms/step - loss: 1.3086 - sparse_categorical_accuracy: 0.6970\n",
      "Epoch 2/10\n",
      "5/5 [==============================] - 0s 79ms/step - loss: 1.3351 - sparse_categorical_accuracy: 0.7879\n",
      "Epoch 3/10\n",
      "5/5 [==============================] - 0s 78ms/step - loss: 1.1237 - sparse_categorical_accuracy: 0.9394\n",
      "Epoch 4/10\n",
      "5/5 [==============================] - 0s 80ms/step - loss: 1.0586 - sparse_categorical_accuracy: 0.8485\n",
      "Epoch 5/10\n",
      "5/5 [==============================] - 0s 82ms/step - loss: 1.1381 - sparse_categorical_accuracy: 0.7273\n",
      "Epoch 6/10\n",
      "5/5 [==============================] - 0s 79ms/step - loss: 1.1322 - sparse_categorical_accuracy: 0.8182\n",
      "Epoch 7/10\n",
      "5/5 [==============================] - 0s 80ms/step - loss: 0.7274 - sparse_categorical_accuracy: 0.8788\n",
      "Epoch 8/10\n",
      "5/5 [==============================] - 0s 83ms/step - loss: 1.1001 - sparse_categorical_accuracy: 0.6970\n",
      "Epoch 9/10\n",
      "5/5 [==============================] - 0s 83ms/step - loss: 0.8251 - sparse_categorical_accuracy: 0.7879\n",
      "Epoch 10/10\n",
      "5/5 [==============================] - 0s 80ms/step - loss: 0.7490 - sparse_categorical_accuracy: 0.8182\n"
     ]
    },
    {
     "name": "stderr",
     "output_type": "stream",
     "text": [
      "\r",
      "22it [04:06, 11.07s/it]"
     ]
    },
    {
     "name": "stdout",
     "output_type": "stream",
     "text": [
      "Epoch 1/10\n",
      "5/5 [==============================] - 0s 76ms/step - loss: 1.3673 - sparse_categorical_accuracy: 0.4848\n",
      "Epoch 2/10\n",
      "5/5 [==============================] - 0s 82ms/step - loss: 1.1574 - sparse_categorical_accuracy: 0.7879\n",
      "Epoch 3/10\n",
      "5/5 [==============================] - 0s 76ms/step - loss: 1.3748 - sparse_categorical_accuracy: 0.8485\n",
      "Epoch 4/10\n",
      "5/5 [==============================] - 0s 77ms/step - loss: 1.1781 - sparse_categorical_accuracy: 0.7879\n",
      "Epoch 5/10\n",
      "5/5 [==============================] - 0s 81ms/step - loss: 0.9060 - sparse_categorical_accuracy: 0.8485\n",
      "Epoch 6/10\n",
      "5/5 [==============================] - 0s 79ms/step - loss: 0.9245 - sparse_categorical_accuracy: 0.7879\n",
      "Epoch 7/10\n",
      "5/5 [==============================] - 0s 85ms/step - loss: 0.8795 - sparse_categorical_accuracy: 0.8182\n",
      "Epoch 8/10\n",
      "5/5 [==============================] - 0s 82ms/step - loss: 0.8426 - sparse_categorical_accuracy: 0.8182\n",
      "Epoch 9/10\n",
      "5/5 [==============================] - 0s 80ms/step - loss: 0.6995 - sparse_categorical_accuracy: 0.8788\n",
      "Epoch 10/10\n",
      "5/5 [==============================] - 0s 81ms/step - loss: 0.6337 - sparse_categorical_accuracy: 0.8788\n"
     ]
    },
    {
     "name": "stderr",
     "output_type": "stream",
     "text": [
      "\r",
      "23it [04:18, 11.44s/it]"
     ]
    },
    {
     "name": "stdout",
     "output_type": "stream",
     "text": [
      "Epoch 1/10\n",
      "5/5 [==============================] - 0s 85ms/step - loss: 1.1742 - sparse_categorical_accuracy: 0.6970\n",
      "Epoch 2/10\n",
      "5/5 [==============================] - 0s 85ms/step - loss: 1.1546 - sparse_categorical_accuracy: 0.8788\n",
      "Epoch 3/10\n",
      "5/5 [==============================] - 0s 85ms/step - loss: 1.2426 - sparse_categorical_accuracy: 0.8485\n",
      "Epoch 4/10\n",
      "5/5 [==============================] - 0s 85ms/step - loss: 0.9837 - sparse_categorical_accuracy: 0.9091\n",
      "Epoch 5/10\n",
      "5/5 [==============================] - 0s 82ms/step - loss: 1.1037 - sparse_categorical_accuracy: 0.8485\n",
      "Epoch 6/10\n",
      "5/5 [==============================] - 0s 84ms/step - loss: 0.7051 - sparse_categorical_accuracy: 0.9394\n",
      "Epoch 7/10\n",
      "5/5 [==============================] - 0s 84ms/step - loss: 0.7263 - sparse_categorical_accuracy: 0.8788\n",
      "Epoch 8/10\n",
      "5/5 [==============================] - 0s 89ms/step - loss: 0.7673 - sparse_categorical_accuracy: 0.8182\n",
      "Epoch 9/10\n",
      "5/5 [==============================] - 0s 86ms/step - loss: 0.5986 - sparse_categorical_accuracy: 0.9091\n",
      "Epoch 10/10\n",
      "5/5 [==============================] - 0s 87ms/step - loss: 0.8133 - sparse_categorical_accuracy: 0.7879\n"
     ]
    },
    {
     "name": "stderr",
     "output_type": "stream",
     "text": [
      "\r",
      "24it [04:30, 11.43s/it]"
     ]
    },
    {
     "name": "stdout",
     "output_type": "stream",
     "text": [
      "Epoch 1/10\n",
      "5/5 [==============================] - 0s 79ms/step - loss: 1.7193 - sparse_categorical_accuracy: 0.6061\n",
      "Epoch 2/10\n",
      "5/5 [==============================] - 0s 86ms/step - loss: 1.3912 - sparse_categorical_accuracy: 0.5758\n",
      "Epoch 3/10\n",
      "5/5 [==============================] - 0s 83ms/step - loss: 1.1904 - sparse_categorical_accuracy: 0.7576\n",
      "Epoch 4/10\n",
      "5/5 [==============================] - 0s 84ms/step - loss: 1.1015 - sparse_categorical_accuracy: 0.8788\n",
      "Epoch 5/10\n",
      "5/5 [==============================] - 0s 84ms/step - loss: 0.8683 - sparse_categorical_accuracy: 0.9091\n",
      "Epoch 6/10\n",
      "5/5 [==============================] - 0s 80ms/step - loss: 0.8479 - sparse_categorical_accuracy: 0.8182\n",
      "Epoch 7/10\n",
      "5/5 [==============================] - 0s 85ms/step - loss: 0.8239 - sparse_categorical_accuracy: 0.8788\n",
      "Epoch 8/10\n",
      "5/5 [==============================] - 0s 82ms/step - loss: 0.8738 - sparse_categorical_accuracy: 0.7879\n",
      "Epoch 9/10\n",
      "5/5 [==============================] - 0s 85ms/step - loss: 0.7675 - sparse_categorical_accuracy: 0.7879\n",
      "Epoch 10/10\n",
      "5/5 [==============================] - 0s 82ms/step - loss: 1.0862 - sparse_categorical_accuracy: 0.7273\n"
     ]
    },
    {
     "name": "stderr",
     "output_type": "stream",
     "text": [
      "\r",
      "25it [04:41, 11.36s/it]"
     ]
    },
    {
     "name": "stdout",
     "output_type": "stream",
     "text": [
      "Epoch 1/10\n",
      "5/5 [==============================] - 0s 83ms/step - loss: 1.1077 - sparse_categorical_accuracy: 0.7273\n",
      "Epoch 2/10\n",
      "5/5 [==============================] - 0s 81ms/step - loss: 1.6839 - sparse_categorical_accuracy: 0.6970\n",
      "Epoch 3/10\n",
      "5/5 [==============================] - 0s 79ms/step - loss: 1.1589 - sparse_categorical_accuracy: 0.9091\n",
      "Epoch 4/10\n",
      "5/5 [==============================] - 0s 85ms/step - loss: 1.0499 - sparse_categorical_accuracy: 0.8788\n",
      "Epoch 5/10\n",
      "5/5 [==============================] - 0s 84ms/step - loss: 1.3158 - sparse_categorical_accuracy: 0.7879\n",
      "Epoch 6/10\n",
      "5/5 [==============================] - 0s 79ms/step - loss: 0.8618 - sparse_categorical_accuracy: 0.9091\n",
      "Epoch 7/10\n",
      "5/5 [==============================] - 0s 84ms/step - loss: 0.8613 - sparse_categorical_accuracy: 0.8788\n",
      "Epoch 8/10\n",
      "5/5 [==============================] - 0s 82ms/step - loss: 0.9697 - sparse_categorical_accuracy: 0.8182\n",
      "Epoch 9/10\n",
      "5/5 [==============================] - 0s 82ms/step - loss: 0.8511 - sparse_categorical_accuracy: 0.8182\n",
      "Epoch 10/10\n",
      "5/5 [==============================] - 0s 85ms/step - loss: 0.7114 - sparse_categorical_accuracy: 0.8788\n"
     ]
    },
    {
     "name": "stderr",
     "output_type": "stream",
     "text": [
      "\r",
      "26it [04:52, 11.31s/it]"
     ]
    },
    {
     "name": "stdout",
     "output_type": "stream",
     "text": [
      "Epoch 1/10\n",
      "5/5 [==============================] - 0s 81ms/step - loss: 1.3749 - sparse_categorical_accuracy: 0.5152\n",
      "Epoch 2/10\n",
      "5/5 [==============================] - 0s 86ms/step - loss: 1.0495 - sparse_categorical_accuracy: 0.7879\n",
      "Epoch 3/10\n",
      "5/5 [==============================] - 0s 86ms/step - loss: 1.4139 - sparse_categorical_accuracy: 0.8182\n",
      "Epoch 4/10\n",
      "5/5 [==============================] - 0s 83ms/step - loss: 1.3207 - sparse_categorical_accuracy: 0.7576\n",
      "Epoch 5/10\n",
      "5/5 [==============================] - 0s 83ms/step - loss: 0.9655 - sparse_categorical_accuracy: 0.9091\n",
      "Epoch 6/10\n",
      "5/5 [==============================] - 0s 84ms/step - loss: 0.9947 - sparse_categorical_accuracy: 0.8182\n",
      "Epoch 7/10\n",
      "5/5 [==============================] - 0s 81ms/step - loss: 0.8110 - sparse_categorical_accuracy: 0.8485\n",
      "Epoch 8/10\n",
      "5/5 [==============================] - 0s 92ms/step - loss: 0.7110 - sparse_categorical_accuracy: 0.8788\n",
      "Epoch 9/10\n",
      "5/5 [==============================] - 0s 88ms/step - loss: 0.9242 - sparse_categorical_accuracy: 0.8485\n",
      "Epoch 10/10\n",
      "5/5 [==============================] - 0s 84ms/step - loss: 0.8285 - sparse_categorical_accuracy: 0.8182\n"
     ]
    },
    {
     "name": "stderr",
     "output_type": "stream",
     "text": [
      "\r",
      "27it [05:04, 11.39s/it]"
     ]
    },
    {
     "name": "stdout",
     "output_type": "stream",
     "text": [
      "Epoch 1/10\n",
      "5/5 [==============================] - 0s 83ms/step - loss: 1.0777 - sparse_categorical_accuracy: 0.6667\n",
      "Epoch 2/10\n",
      "5/5 [==============================] - 0s 80ms/step - loss: 1.0305 - sparse_categorical_accuracy: 0.9091\n",
      "Epoch 3/10\n",
      "5/5 [==============================] - 0s 84ms/step - loss: 1.6101 - sparse_categorical_accuracy: 0.6667\n",
      "Epoch 4/10\n",
      "5/5 [==============================] - 0s 82ms/step - loss: 1.0159 - sparse_categorical_accuracy: 0.8485\n",
      "Epoch 5/10\n",
      "5/5 [==============================] - 0s 84ms/step - loss: 0.9290 - sparse_categorical_accuracy: 0.8182\n",
      "Epoch 6/10\n",
      "5/5 [==============================] - 0s 83ms/step - loss: 1.0917 - sparse_categorical_accuracy: 0.7576\n",
      "Epoch 7/10\n",
      "5/5 [==============================] - 0s 84ms/step - loss: 0.8807 - sparse_categorical_accuracy: 0.8182\n",
      "Epoch 8/10\n",
      "5/5 [==============================] - 0s 83ms/step - loss: 0.7448 - sparse_categorical_accuracy: 0.8485\n",
      "Epoch 9/10\n",
      "5/5 [==============================] - 0s 79ms/step - loss: 0.5998 - sparse_categorical_accuracy: 0.9091\n",
      "Epoch 10/10\n",
      "5/5 [==============================] - 0s 82ms/step - loss: 1.0801 - sparse_categorical_accuracy: 0.7879\n"
     ]
    },
    {
     "name": "stderr",
     "output_type": "stream",
     "text": [
      "\r",
      "28it [05:15, 11.46s/it]"
     ]
    },
    {
     "name": "stdout",
     "output_type": "stream",
     "text": [
      "Epoch 1/10\n",
      "5/5 [==============================] - 0s 82ms/step - loss: 1.1114 - sparse_categorical_accuracy: 0.7273\n",
      "Epoch 2/10\n",
      "5/5 [==============================] - 0s 82ms/step - loss: 1.0265 - sparse_categorical_accuracy: 0.8788\n",
      "Epoch 3/10\n",
      "5/5 [==============================] - 0s 85ms/step - loss: 1.4285 - sparse_categorical_accuracy: 0.7576\n",
      "Epoch 4/10\n",
      "5/5 [==============================] - 0s 86ms/step - loss: 1.1064 - sparse_categorical_accuracy: 0.8485\n",
      "Epoch 5/10\n",
      "5/5 [==============================] - 0s 82ms/step - loss: 1.0509 - sparse_categorical_accuracy: 0.7576\n",
      "Epoch 6/10\n",
      "5/5 [==============================] - 0s 84ms/step - loss: 1.0539 - sparse_categorical_accuracy: 0.8485\n",
      "Epoch 7/10\n",
      "5/5 [==============================] - 0s 81ms/step - loss: 0.8669 - sparse_categorical_accuracy: 0.8788\n",
      "Epoch 8/10\n",
      "5/5 [==============================] - 0s 82ms/step - loss: 0.7741 - sparse_categorical_accuracy: 0.8485\n",
      "Epoch 9/10\n",
      "5/5 [==============================] - 0s 83ms/step - loss: 0.8365 - sparse_categorical_accuracy: 0.8485\n",
      "Epoch 10/10\n",
      "5/5 [==============================] - 0s 87ms/step - loss: 0.7557 - sparse_categorical_accuracy: 0.8788\n"
     ]
    },
    {
     "name": "stderr",
     "output_type": "stream",
     "text": [
      "\r",
      "29it [05:27, 11.43s/it]"
     ]
    },
    {
     "name": "stdout",
     "output_type": "stream",
     "text": [
      "Epoch 1/10\n",
      "5/5 [==============================] - 0s 79ms/step - loss: 1.3978 - sparse_categorical_accuracy: 0.5758\n",
      "Epoch 2/10\n",
      "5/5 [==============================] - 0s 82ms/step - loss: 1.2689 - sparse_categorical_accuracy: 0.6970\n",
      "Epoch 3/10\n",
      "5/5 [==============================] - 0s 85ms/step - loss: 1.2551 - sparse_categorical_accuracy: 0.8485\n",
      "Epoch 4/10\n",
      "5/5 [==============================] - 0s 84ms/step - loss: 1.2147 - sparse_categorical_accuracy: 0.8182\n",
      "Epoch 5/10\n",
      "5/5 [==============================] - 0s 82ms/step - loss: 0.9968 - sparse_categorical_accuracy: 0.7879\n",
      "Epoch 6/10\n",
      "5/5 [==============================] - 0s 84ms/step - loss: 0.9813 - sparse_categorical_accuracy: 0.8788\n",
      "Epoch 7/10\n",
      "5/5 [==============================] - 0s 82ms/step - loss: 0.7522 - sparse_categorical_accuracy: 0.8788\n",
      "Epoch 8/10\n",
      "5/5 [==============================] - 0s 82ms/step - loss: 1.3911 - sparse_categorical_accuracy: 0.7273\n",
      "Epoch 9/10\n",
      "5/5 [==============================] - 0s 84ms/step - loss: 1.0839 - sparse_categorical_accuracy: 0.7576\n",
      "Epoch 10/10\n",
      "5/5 [==============================] - 0s 82ms/step - loss: 1.5294 - sparse_categorical_accuracy: 0.6667\n"
     ]
    },
    {
     "name": "stderr",
     "output_type": "stream",
     "text": [
      "\r",
      "30it [05:38, 11.36s/it]"
     ]
    },
    {
     "name": "stdout",
     "output_type": "stream",
     "text": [
      "Epoch 1/10\n",
      "5/5 [==============================] - 0s 81ms/step - loss: 1.2216 - sparse_categorical_accuracy: 0.6061\n",
      "Epoch 2/10\n",
      "5/5 [==============================] - 0s 82ms/step - loss: 1.2302 - sparse_categorical_accuracy: 0.6970\n",
      "Epoch 3/10\n",
      "5/5 [==============================] - 0s 84ms/step - loss: 0.9558 - sparse_categorical_accuracy: 0.9091\n",
      "Epoch 4/10\n",
      "5/5 [==============================] - 0s 83ms/step - loss: 1.0113 - sparse_categorical_accuracy: 0.8485\n",
      "Epoch 5/10\n",
      "5/5 [==============================] - 0s 82ms/step - loss: 1.0855 - sparse_categorical_accuracy: 0.8182\n",
      "Epoch 6/10\n",
      "5/5 [==============================] - 0s 79ms/step - loss: 0.8239 - sparse_categorical_accuracy: 0.8182\n",
      "Epoch 7/10\n",
      "5/5 [==============================] - 0s 84ms/step - loss: 0.9200 - sparse_categorical_accuracy: 0.8182\n",
      "Epoch 8/10\n",
      "5/5 [==============================] - 0s 79ms/step - loss: 0.6472 - sparse_categorical_accuracy: 0.9091\n",
      "Epoch 9/10\n",
      "5/5 [==============================] - 0s 82ms/step - loss: 1.0302 - sparse_categorical_accuracy: 0.8182\n",
      "Epoch 10/10\n",
      "5/5 [==============================] - 0s 80ms/step - loss: 0.9538 - sparse_categorical_accuracy: 0.8182\n"
     ]
    },
    {
     "name": "stderr",
     "output_type": "stream",
     "text": [
      "\r",
      "31it [05:49, 11.28s/it]"
     ]
    },
    {
     "name": "stdout",
     "output_type": "stream",
     "text": [
      "Epoch 1/10\n",
      "5/5 [==============================] - 0s 82ms/step - loss: 1.1877 - sparse_categorical_accuracy: 0.6970\n",
      "Epoch 2/10\n",
      "5/5 [==============================] - 0s 78ms/step - loss: 1.1292 - sparse_categorical_accuracy: 0.8182\n",
      "Epoch 3/10\n",
      "5/5 [==============================] - 0s 82ms/step - loss: 1.2921 - sparse_categorical_accuracy: 0.7879\n",
      "Epoch 4/10\n",
      "5/5 [==============================] - 0s 80ms/step - loss: 1.1396 - sparse_categorical_accuracy: 0.7879\n",
      "Epoch 5/10\n",
      "5/5 [==============================] - 0s 90ms/step - loss: 1.4452 - sparse_categorical_accuracy: 0.7576\n",
      "Epoch 6/10\n",
      "5/5 [==============================] - 0s 82ms/step - loss: 1.0220 - sparse_categorical_accuracy: 0.6667\n",
      "Epoch 7/10\n",
      "5/5 [==============================] - 0s 88ms/step - loss: 0.8952 - sparse_categorical_accuracy: 0.8485\n",
      "Epoch 8/10\n",
      "5/5 [==============================] - 0s 80ms/step - loss: 0.9632 - sparse_categorical_accuracy: 0.8182\n",
      "Epoch 9/10\n",
      "5/5 [==============================] - 0s 81ms/step - loss: 0.8384 - sparse_categorical_accuracy: 0.8182\n",
      "Epoch 10/10\n",
      "5/5 [==============================] - 0s 80ms/step - loss: 0.7564 - sparse_categorical_accuracy: 0.8182\n"
     ]
    },
    {
     "name": "stderr",
     "output_type": "stream",
     "text": [
      "\r",
      "32it [06:00, 11.26s/it]"
     ]
    },
    {
     "name": "stdout",
     "output_type": "stream",
     "text": [
      "Epoch 1/10\n",
      "5/5 [==============================] - 0s 82ms/step - loss: 1.1363 - sparse_categorical_accuracy: 0.7273\n",
      "Epoch 2/10\n",
      "5/5 [==============================] - 0s 81ms/step - loss: 1.2447 - sparse_categorical_accuracy: 0.8182\n",
      "Epoch 3/10\n",
      "5/5 [==============================] - 0s 83ms/step - loss: 1.1967 - sparse_categorical_accuracy: 0.8485\n",
      "Epoch 4/10\n",
      "5/5 [==============================] - 0s 80ms/step - loss: 0.9855 - sparse_categorical_accuracy: 0.9091\n",
      "Epoch 5/10\n",
      "5/5 [==============================] - 0s 83ms/step - loss: 1.0278 - sparse_categorical_accuracy: 0.7879\n",
      "Epoch 6/10\n",
      "5/5 [==============================] - 0s 84ms/step - loss: 0.7245 - sparse_categorical_accuracy: 0.9091\n",
      "Epoch 7/10\n",
      "5/5 [==============================] - 0s 81ms/step - loss: 1.4098 - sparse_categorical_accuracy: 0.6970\n",
      "Epoch 8/10\n",
      "5/5 [==============================] - 0s 84ms/step - loss: 0.7527 - sparse_categorical_accuracy: 0.8485\n",
      "Epoch 9/10\n",
      "5/5 [==============================] - 0s 81ms/step - loss: 0.8209 - sparse_categorical_accuracy: 0.8182\n",
      "Epoch 10/10\n",
      "5/5 [==============================] - 0s 84ms/step - loss: 0.8391 - sparse_categorical_accuracy: 0.8182\n"
     ]
    },
    {
     "name": "stderr",
     "output_type": "stream",
     "text": [
      "\r",
      "33it [06:11, 11.23s/it]"
     ]
    },
    {
     "name": "stdout",
     "output_type": "stream",
     "text": [
      "Epoch 1/10\n",
      "5/5 [==============================] - 0s 85ms/step - loss: 1.3074 - sparse_categorical_accuracy: 0.5152\n",
      "Epoch 2/10\n",
      "5/5 [==============================] - 0s 84ms/step - loss: 1.2643 - sparse_categorical_accuracy: 0.6667\n",
      "Epoch 3/10\n",
      "5/5 [==============================] - 0s 87ms/step - loss: 1.4248 - sparse_categorical_accuracy: 0.8485\n",
      "Epoch 4/10\n",
      "5/5 [==============================] - 0s 88ms/step - loss: 1.4226 - sparse_categorical_accuracy: 0.6970\n",
      "Epoch 5/10\n",
      "5/5 [==============================] - 0s 88ms/step - loss: 1.2927 - sparse_categorical_accuracy: 0.7273\n",
      "Epoch 6/10\n",
      "5/5 [==============================] - 0s 85ms/step - loss: 0.8369 - sparse_categorical_accuracy: 0.9091\n",
      "Epoch 7/10\n",
      "5/5 [==============================] - 0s 88ms/step - loss: 0.7451 - sparse_categorical_accuracy: 0.9091\n",
      "Epoch 8/10\n",
      "5/5 [==============================] - 0s 88ms/step - loss: 0.7756 - sparse_categorical_accuracy: 0.8182\n",
      "Epoch 9/10\n",
      "5/5 [==============================] - 0s 85ms/step - loss: 1.1476 - sparse_categorical_accuracy: 0.6970\n",
      "Epoch 10/10\n",
      "5/5 [==============================] - 0s 87ms/step - loss: 0.8424 - sparse_categorical_accuracy: 0.7576\n"
     ]
    },
    {
     "name": "stderr",
     "output_type": "stream",
     "text": [
      "34it [06:24, 11.32s/it]\n",
      "0it [00:00, ?it/s]"
     ]
    },
    {
     "name": "stdout",
     "output_type": "stream",
     "text": [
      "Epoch 1/10\n",
      "WARNING:tensorflow:Model was constructed with shape (None, 270, 3) for input Tensor(\"input_159:0\", shape=(None, 270, 3), dtype=float32), but it was called on an input with incompatible shape (None, 240, 3).\n",
      "WARNING:tensorflow:Model was constructed with shape (None, 270, 3) for input Tensor(\"input_159:0\", shape=(None, 270, 3), dtype=float32), but it was called on an input with incompatible shape (None, 240, 3).\n",
      "5/5 [==============================] - 0s 71ms/step - loss: 1.4400 - sparse_categorical_accuracy: 0.6061\n",
      "Epoch 2/10\n",
      "5/5 [==============================] - 0s 75ms/step - loss: 1.0873 - sparse_categorical_accuracy: 0.7576\n",
      "Epoch 3/10\n",
      "5/5 [==============================] - 0s 69ms/step - loss: 1.1011 - sparse_categorical_accuracy: 0.9091\n",
      "Epoch 4/10\n",
      "5/5 [==============================] - 0s 76ms/step - loss: 1.2232 - sparse_categorical_accuracy: 0.8182\n",
      "Epoch 5/10\n",
      "5/5 [==============================] - 0s 71ms/step - loss: 1.0225 - sparse_categorical_accuracy: 0.8182\n",
      "Epoch 6/10\n",
      "5/5 [==============================] - 0s 74ms/step - loss: 0.9715 - sparse_categorical_accuracy: 0.8485\n",
      "Epoch 7/10\n",
      "5/5 [==============================] - 0s 69ms/step - loss: 0.6775 - sparse_categorical_accuracy: 0.9394\n",
      "Epoch 8/10\n",
      "5/5 [==============================] - 0s 74ms/step - loss: 0.6519 - sparse_categorical_accuracy: 0.9091\n",
      "Epoch 9/10\n",
      "5/5 [==============================] - 0s 73ms/step - loss: 0.6625 - sparse_categorical_accuracy: 0.8788\n",
      "Epoch 10/10\n",
      "5/5 [==============================] - 0s 75ms/step - loss: 0.6133 - sparse_categorical_accuracy: 0.8788\n",
      "WARNING:tensorflow:Model was constructed with shape (None, 270, 3) for input Tensor(\"input_159:0\", shape=(None, 270, 3), dtype=float32), but it was called on an input with incompatible shape (None, 240, 3).\n"
     ]
    },
    {
     "name": "stderr",
     "output_type": "stream",
     "text": [
      "\r",
      "1it [00:10, 10.92s/it]"
     ]
    },
    {
     "name": "stdout",
     "output_type": "stream",
     "text": [
      "Epoch 1/10\n",
      "WARNING:tensorflow:Model was constructed with shape (None, 270, 3) for input Tensor(\"input_160:0\", shape=(None, 270, 3), dtype=float32), but it was called on an input with incompatible shape (None, 240, 3).\n",
      "WARNING:tensorflow:Model was constructed with shape (None, 270, 3) for input Tensor(\"input_160:0\", shape=(None, 270, 3), dtype=float32), but it was called on an input with incompatible shape (None, 240, 3).\n",
      "5/5 [==============================] - 0s 73ms/step - loss: 1.3127 - sparse_categorical_accuracy: 0.5152\n",
      "Epoch 2/10\n",
      "5/5 [==============================] - 0s 75ms/step - loss: 1.2523 - sparse_categorical_accuracy: 0.7879\n",
      "Epoch 3/10\n",
      "5/5 [==============================] - 0s 75ms/step - loss: 1.1997 - sparse_categorical_accuracy: 0.8788\n",
      "Epoch 4/10\n",
      "5/5 [==============================] - 0s 75ms/step - loss: 1.1474 - sparse_categorical_accuracy: 0.8485\n",
      "Epoch 5/10\n",
      "5/5 [==============================] - 0s 75ms/step - loss: 1.2547 - sparse_categorical_accuracy: 0.8485\n",
      "Epoch 6/10\n",
      "5/5 [==============================] - 0s 74ms/step - loss: 1.0173 - sparse_categorical_accuracy: 0.7576\n",
      "Epoch 7/10\n",
      "5/5 [==============================] - 0s 72ms/step - loss: 0.9616 - sparse_categorical_accuracy: 0.8182\n",
      "Epoch 8/10\n",
      "5/5 [==============================] - 0s 76ms/step - loss: 0.6781 - sparse_categorical_accuracy: 0.9091\n",
      "Epoch 9/10\n",
      "5/5 [==============================] - 0s 75ms/step - loss: 0.7402 - sparse_categorical_accuracy: 0.8788\n",
      "Epoch 10/10\n",
      "5/5 [==============================] - 0s 73ms/step - loss: 0.7363 - sparse_categorical_accuracy: 0.8485\n",
      "WARNING:tensorflow:Model was constructed with shape (None, 270, 3) for input Tensor(\"input_160:0\", shape=(None, 270, 3), dtype=float32), but it was called on an input with incompatible shape (None, 240, 3).\n"
     ]
    },
    {
     "name": "stderr",
     "output_type": "stream",
     "text": [
      "\r",
      "2it [00:21, 10.87s/it]"
     ]
    },
    {
     "name": "stdout",
     "output_type": "stream",
     "text": [
      "Epoch 1/10\n",
      "WARNING:tensorflow:Model was constructed with shape (None, 270, 3) for input Tensor(\"input_161:0\", shape=(None, 270, 3), dtype=float32), but it was called on an input with incompatible shape (None, 240, 3).\n",
      "WARNING:tensorflow:Model was constructed with shape (None, 270, 3) for input Tensor(\"input_161:0\", shape=(None, 270, 3), dtype=float32), but it was called on an input with incompatible shape (None, 240, 3).\n",
      "5/5 [==============================] - 0s 75ms/step - loss: 1.2304 - sparse_categorical_accuracy: 0.6970\n",
      "Epoch 2/10\n",
      "5/5 [==============================] - 0s 71ms/step - loss: 1.4316 - sparse_categorical_accuracy: 0.6970\n",
      "Epoch 3/10\n",
      "5/5 [==============================] - 0s 74ms/step - loss: 1.2594 - sparse_categorical_accuracy: 0.7879\n",
      "Epoch 4/10\n",
      "5/5 [==============================] - 0s 77ms/step - loss: 1.3189 - sparse_categorical_accuracy: 0.7273\n",
      "Epoch 5/10\n",
      "5/5 [==============================] - 0s 72ms/step - loss: 0.9338 - sparse_categorical_accuracy: 0.8485\n",
      "Epoch 6/10\n",
      "5/5 [==============================] - 0s 72ms/step - loss: 0.9329 - sparse_categorical_accuracy: 0.7879\n",
      "Epoch 7/10\n",
      "5/5 [==============================] - 0s 78ms/step - loss: 0.8081 - sparse_categorical_accuracy: 0.8788\n",
      "Epoch 8/10\n",
      "5/5 [==============================] - 0s 75ms/step - loss: 0.6629 - sparse_categorical_accuracy: 0.8788\n",
      "Epoch 9/10\n",
      "5/5 [==============================] - 0s 78ms/step - loss: 0.7909 - sparse_categorical_accuracy: 0.9091\n",
      "Epoch 10/10\n",
      "5/5 [==============================] - 0s 75ms/step - loss: 1.0415 - sparse_categorical_accuracy: 0.6970\n",
      "WARNING:tensorflow:Model was constructed with shape (None, 270, 3) for input Tensor(\"input_161:0\", shape=(None, 270, 3), dtype=float32), but it was called on an input with incompatible shape (None, 240, 3).\n"
     ]
    },
    {
     "name": "stderr",
     "output_type": "stream",
     "text": [
      "\r",
      "3it [00:32, 10.80s/it]"
     ]
    },
    {
     "name": "stdout",
     "output_type": "stream",
     "text": [
      "Epoch 1/10\n",
      "WARNING:tensorflow:Model was constructed with shape (None, 270, 3) for input Tensor(\"input_162:0\", shape=(None, 270, 3), dtype=float32), but it was called on an input with incompatible shape (None, 240, 3).\n",
      "WARNING:tensorflow:Model was constructed with shape (None, 270, 3) for input Tensor(\"input_162:0\", shape=(None, 270, 3), dtype=float32), but it was called on an input with incompatible shape (None, 240, 3).\n",
      "5/5 [==============================] - 0s 75ms/step - loss: 1.1835 - sparse_categorical_accuracy: 0.6667\n",
      "Epoch 2/10\n",
      "5/5 [==============================] - 0s 73ms/step - loss: 1.2384 - sparse_categorical_accuracy: 0.8788\n",
      "Epoch 3/10\n",
      "5/5 [==============================] - 0s 75ms/step - loss: 1.3572 - sparse_categorical_accuracy: 0.7576\n",
      "Epoch 4/10\n",
      "5/5 [==============================] - 0s 75ms/step - loss: 1.2413 - sparse_categorical_accuracy: 0.8485\n",
      "Epoch 5/10\n",
      "5/5 [==============================] - 0s 73ms/step - loss: 0.9677 - sparse_categorical_accuracy: 0.8485\n",
      "Epoch 6/10\n",
      "5/5 [==============================] - 0s 72ms/step - loss: 1.2009 - sparse_categorical_accuracy: 0.7879\n",
      "Epoch 7/10\n",
      "5/5 [==============================] - 0s 69ms/step - loss: 1.2076 - sparse_categorical_accuracy: 0.6970\n",
      "Epoch 8/10\n",
      "5/5 [==============================] - 0s 72ms/step - loss: 0.9454 - sparse_categorical_accuracy: 0.7879\n",
      "Epoch 9/10\n",
      "5/5 [==============================] - 0s 74ms/step - loss: 0.9466 - sparse_categorical_accuracy: 0.7879\n",
      "Epoch 10/10\n",
      "5/5 [==============================] - 0s 72ms/step - loss: 0.8745 - sparse_categorical_accuracy: 0.7879\n",
      "WARNING:tensorflow:Model was constructed with shape (None, 270, 3) for input Tensor(\"input_162:0\", shape=(None, 270, 3), dtype=float32), but it was called on an input with incompatible shape (None, 240, 3).\n"
     ]
    },
    {
     "name": "stderr",
     "output_type": "stream",
     "text": [
      "\r",
      "4it [00:42, 10.75s/it]"
     ]
    },
    {
     "name": "stdout",
     "output_type": "stream",
     "text": [
      "Epoch 1/10\n",
      "WARNING:tensorflow:Model was constructed with shape (None, 270, 3) for input Tensor(\"input_163:0\", shape=(None, 270, 3), dtype=float32), but it was called on an input with incompatible shape (None, 240, 3).\n",
      "WARNING:tensorflow:Model was constructed with shape (None, 270, 3) for input Tensor(\"input_163:0\", shape=(None, 270, 3), dtype=float32), but it was called on an input with incompatible shape (None, 240, 3).\n",
      "5/5 [==============================] - 0s 72ms/step - loss: 1.2571 - sparse_categorical_accuracy: 0.6970\n",
      "Epoch 2/10\n",
      "5/5 [==============================] - 0s 76ms/step - loss: 1.1398 - sparse_categorical_accuracy: 0.7879\n",
      "Epoch 3/10\n",
      "5/5 [==============================] - 0s 78ms/step - loss: 1.1772 - sparse_categorical_accuracy: 0.8485\n",
      "Epoch 4/10\n",
      "5/5 [==============================] - 0s 76ms/step - loss: 0.9714 - sparse_categorical_accuracy: 0.8788\n",
      "Epoch 5/10\n",
      "5/5 [==============================] - 0s 88ms/step - loss: 0.8330 - sparse_categorical_accuracy: 0.9091\n",
      "Epoch 6/10\n",
      "5/5 [==============================] - 0s 76ms/step - loss: 1.1185 - sparse_categorical_accuracy: 0.8485\n",
      "Epoch 7/10\n",
      "5/5 [==============================] - 0s 78ms/step - loss: 0.9611 - sparse_categorical_accuracy: 0.7576\n",
      "Epoch 8/10\n",
      "5/5 [==============================] - 0s 83ms/step - loss: 0.7195 - sparse_categorical_accuracy: 0.8182\n",
      "Epoch 9/10\n",
      "5/5 [==============================] - 0s 72ms/step - loss: 0.6752 - sparse_categorical_accuracy: 0.9091\n",
      "Epoch 10/10\n",
      "5/5 [==============================] - 0s 76ms/step - loss: 0.7544 - sparse_categorical_accuracy: 0.7879\n",
      "WARNING:tensorflow:Model was constructed with shape (None, 270, 3) for input Tensor(\"input_163:0\", shape=(None, 270, 3), dtype=float32), but it was called on an input with incompatible shape (None, 240, 3).\n"
     ]
    },
    {
     "name": "stderr",
     "output_type": "stream",
     "text": [
      "\r",
      "5it [00:53, 10.78s/it]"
     ]
    },
    {
     "name": "stdout",
     "output_type": "stream",
     "text": [
      "Epoch 1/10\n",
      "WARNING:tensorflow:Model was constructed with shape (None, 270, 3) for input Tensor(\"input_164:0\", shape=(None, 270, 3), dtype=float32), but it was called on an input with incompatible shape (None, 240, 3).\n",
      "WARNING:tensorflow:Model was constructed with shape (None, 270, 3) for input Tensor(\"input_164:0\", shape=(None, 270, 3), dtype=float32), but it was called on an input with incompatible shape (None, 240, 3).\n",
      "5/5 [==============================] - 0s 70ms/step - loss: 1.1717 - sparse_categorical_accuracy: 0.7273\n",
      "Epoch 2/10\n",
      "5/5 [==============================] - 0s 74ms/step - loss: 1.2566 - sparse_categorical_accuracy: 0.7576\n",
      "Epoch 3/10\n",
      "5/5 [==============================] - 0s 77ms/step - loss: 0.9505 - sparse_categorical_accuracy: 0.9697\n",
      "Epoch 4/10\n",
      "5/5 [==============================] - 0s 69ms/step - loss: 1.1828 - sparse_categorical_accuracy: 0.8788\n",
      "Epoch 5/10\n",
      "5/5 [==============================] - 0s 72ms/step - loss: 0.8683 - sparse_categorical_accuracy: 0.9091\n",
      "Epoch 6/10\n",
      "5/5 [==============================] - 0s 69ms/step - loss: 0.7767 - sparse_categorical_accuracy: 0.8788\n",
      "Epoch 7/10\n",
      "5/5 [==============================] - 0s 72ms/step - loss: 0.8483 - sparse_categorical_accuracy: 0.8182\n",
      "Epoch 8/10\n",
      "5/5 [==============================] - 0s 69ms/step - loss: 0.6495 - sparse_categorical_accuracy: 0.8788\n",
      "Epoch 9/10\n",
      "5/5 [==============================] - 0s 75ms/step - loss: 0.7735 - sparse_categorical_accuracy: 0.8485\n",
      "Epoch 10/10\n",
      "5/5 [==============================] - 0s 72ms/step - loss: 0.6725 - sparse_categorical_accuracy: 0.8788\n",
      "WARNING:tensorflow:Model was constructed with shape (None, 270, 3) for input Tensor(\"input_164:0\", shape=(None, 270, 3), dtype=float32), but it was called on an input with incompatible shape (None, 240, 3).\n"
     ]
    },
    {
     "name": "stderr",
     "output_type": "stream",
     "text": [
      "\r",
      "6it [01:04, 10.72s/it]"
     ]
    },
    {
     "name": "stdout",
     "output_type": "stream",
     "text": [
      "Epoch 1/10\n",
      "WARNING:tensorflow:Model was constructed with shape (None, 270, 3) for input Tensor(\"input_165:0\", shape=(None, 270, 3), dtype=float32), but it was called on an input with incompatible shape (None, 240, 3).\n",
      "WARNING:tensorflow:Model was constructed with shape (None, 270, 3) for input Tensor(\"input_165:0\", shape=(None, 270, 3), dtype=float32), but it was called on an input with incompatible shape (None, 240, 3).\n",
      "5/5 [==============================] - 0s 73ms/step - loss: 1.2793 - sparse_categorical_accuracy: 0.5152\n",
      "Epoch 2/10\n",
      "5/5 [==============================] - 0s 72ms/step - loss: 1.1478 - sparse_categorical_accuracy: 0.7576\n",
      "Epoch 3/10\n",
      "5/5 [==============================] - 0s 78ms/step - loss: 1.0988 - sparse_categorical_accuracy: 0.8788\n",
      "Epoch 4/10\n",
      "5/5 [==============================] - 0s 73ms/step - loss: 1.1851 - sparse_categorical_accuracy: 0.7576\n",
      "Epoch 5/10\n",
      "5/5 [==============================] - 0s 72ms/step - loss: 0.8015 - sparse_categorical_accuracy: 0.9394\n",
      "Epoch 6/10\n",
      "5/5 [==============================] - 0s 73ms/step - loss: 1.0024 - sparse_categorical_accuracy: 0.8182\n",
      "Epoch 7/10\n",
      "5/5 [==============================] - 0s 70ms/step - loss: 0.7185 - sparse_categorical_accuracy: 0.9091\n",
      "Epoch 8/10\n",
      "5/5 [==============================] - 0s 72ms/step - loss: 0.8801 - sparse_categorical_accuracy: 0.7576\n",
      "Epoch 9/10\n",
      "5/5 [==============================] - 0s 69ms/step - loss: 0.6718 - sparse_categorical_accuracy: 0.8182\n",
      "Epoch 10/10\n",
      "5/5 [==============================] - 0s 69ms/step - loss: 0.7683 - sparse_categorical_accuracy: 0.8485\n",
      "WARNING:tensorflow:Model was constructed with shape (None, 270, 3) for input Tensor(\"input_165:0\", shape=(None, 270, 3), dtype=float32), but it was called on an input with incompatible shape (None, 240, 3).\n"
     ]
    },
    {
     "name": "stderr",
     "output_type": "stream",
     "text": [
      "\r",
      "7it [01:14, 10.67s/it]"
     ]
    },
    {
     "name": "stdout",
     "output_type": "stream",
     "text": [
      "Epoch 1/10\n",
      "WARNING:tensorflow:Model was constructed with shape (None, 270, 3) for input Tensor(\"input_166:0\", shape=(None, 270, 3), dtype=float32), but it was called on an input with incompatible shape (None, 240, 3).\n",
      "WARNING:tensorflow:Model was constructed with shape (None, 270, 3) for input Tensor(\"input_166:0\", shape=(None, 270, 3), dtype=float32), but it was called on an input with incompatible shape (None, 240, 3).\n",
      "5/5 [==============================] - 0s 70ms/step - loss: 1.1803 - sparse_categorical_accuracy: 0.7273\n",
      "Epoch 2/10\n",
      "5/5 [==============================] - 0s 71ms/step - loss: 1.2326 - sparse_categorical_accuracy: 0.8485\n",
      "Epoch 3/10\n",
      "5/5 [==============================] - 0s 72ms/step - loss: 1.1893 - sparse_categorical_accuracy: 0.8485\n",
      "Epoch 4/10\n",
      "5/5 [==============================] - 0s 73ms/step - loss: 1.1451 - sparse_categorical_accuracy: 0.8485\n",
      "Epoch 5/10\n",
      "5/5 [==============================] - 0s 72ms/step - loss: 0.9302 - sparse_categorical_accuracy: 0.8485\n",
      "Epoch 6/10\n",
      "5/5 [==============================] - 0s 72ms/step - loss: 1.0086 - sparse_categorical_accuracy: 0.7576\n",
      "Epoch 7/10\n",
      "5/5 [==============================] - 0s 69ms/step - loss: 0.7818 - sparse_categorical_accuracy: 0.8485\n",
      "Epoch 8/10\n",
      "5/5 [==============================] - 0s 66ms/step - loss: 0.9481 - sparse_categorical_accuracy: 0.8182\n",
      "Epoch 9/10\n",
      "5/5 [==============================] - 0s 72ms/step - loss: 0.8186 - sparse_categorical_accuracy: 0.8788\n",
      "Epoch 10/10\n",
      "5/5 [==============================] - 0s 69ms/step - loss: 0.7570 - sparse_categorical_accuracy: 0.9091\n",
      "WARNING:tensorflow:Model was constructed with shape (None, 270, 3) for input Tensor(\"input_166:0\", shape=(None, 270, 3), dtype=float32), but it was called on an input with incompatible shape (None, 240, 3).\n"
     ]
    },
    {
     "name": "stderr",
     "output_type": "stream",
     "text": [
      "\r",
      "8it [01:25, 10.62s/it]"
     ]
    },
    {
     "name": "stdout",
     "output_type": "stream",
     "text": [
      "Epoch 1/10\n",
      "WARNING:tensorflow:Model was constructed with shape (None, 270, 3) for input Tensor(\"input_167:0\", shape=(None, 270, 3), dtype=float32), but it was called on an input with incompatible shape (None, 240, 3).\n",
      "WARNING:tensorflow:Model was constructed with shape (None, 270, 3) for input Tensor(\"input_167:0\", shape=(None, 270, 3), dtype=float32), but it was called on an input with incompatible shape (None, 240, 3).\n",
      "5/5 [==============================] - 0s 85ms/step - loss: 1.1414 - sparse_categorical_accuracy: 0.6364\n",
      "Epoch 2/10\n",
      "5/5 [==============================] - 0s 81ms/step - loss: 1.0946 - sparse_categorical_accuracy: 0.8485\n",
      "Epoch 3/10\n",
      "5/5 [==============================] - 0s 78ms/step - loss: 1.1562 - sparse_categorical_accuracy: 0.8485\n",
      "Epoch 4/10\n",
      "5/5 [==============================] - 0s 76ms/step - loss: 1.4017 - sparse_categorical_accuracy: 0.7576\n",
      "Epoch 5/10\n",
      "5/5 [==============================] - 0s 96ms/step - loss: 1.1527 - sparse_categorical_accuracy: 0.7576\n",
      "Epoch 6/10\n",
      "5/5 [==============================] - 0s 75ms/step - loss: 1.1995 - sparse_categorical_accuracy: 0.6970\n",
      "Epoch 7/10\n",
      "5/5 [==============================] - 0s 78ms/step - loss: 1.2852 - sparse_categorical_accuracy: 0.6970\n",
      "Epoch 8/10\n",
      "5/5 [==============================] - 0s 76ms/step - loss: 0.8956 - sparse_categorical_accuracy: 0.7576\n",
      "Epoch 9/10\n",
      "5/5 [==============================] - 0s 78ms/step - loss: 0.8599 - sparse_categorical_accuracy: 0.7273\n",
      "Epoch 10/10\n",
      "5/5 [==============================] - 0s 76ms/step - loss: 0.6596 - sparse_categorical_accuracy: 0.8182\n",
      "WARNING:tensorflow:Model was constructed with shape (None, 270, 3) for input Tensor(\"input_167:0\", shape=(None, 270, 3), dtype=float32), but it was called on an input with incompatible shape (None, 240, 3).\n"
     ]
    },
    {
     "name": "stderr",
     "output_type": "stream",
     "text": [
      "\r",
      "9it [01:36, 10.75s/it]"
     ]
    },
    {
     "name": "stdout",
     "output_type": "stream",
     "text": [
      "Epoch 1/10\n",
      "WARNING:tensorflow:Model was constructed with shape (None, 270, 3) for input Tensor(\"input_168:0\", shape=(None, 270, 3), dtype=float32), but it was called on an input with incompatible shape (None, 240, 3).\n",
      "WARNING:tensorflow:Model was constructed with shape (None, 270, 3) for input Tensor(\"input_168:0\", shape=(None, 270, 3), dtype=float32), but it was called on an input with incompatible shape (None, 240, 3).\n",
      "5/5 [==============================] - 0s 79ms/step - loss: 1.3385 - sparse_categorical_accuracy: 0.6061\n",
      "Epoch 2/10\n",
      "5/5 [==============================] - 0s 76ms/step - loss: 1.4164 - sparse_categorical_accuracy: 0.7576\n",
      "Epoch 3/10\n",
      "5/5 [==============================] - 0s 78ms/step - loss: 1.3002 - sparse_categorical_accuracy: 0.7879\n",
      "Epoch 4/10\n",
      "5/5 [==============================] - 0s 78ms/step - loss: 1.1485 - sparse_categorical_accuracy: 0.8182\n",
      "Epoch 5/10\n",
      "5/5 [==============================] - 0s 75ms/step - loss: 1.2206 - sparse_categorical_accuracy: 0.6970\n",
      "Epoch 6/10\n",
      "5/5 [==============================] - 0s 79ms/step - loss: 1.2969 - sparse_categorical_accuracy: 0.7879\n",
      "Epoch 7/10\n",
      "5/5 [==============================] - 0s 75ms/step - loss: 0.8893 - sparse_categorical_accuracy: 0.7576\n",
      "Epoch 8/10\n",
      "5/5 [==============================] - 0s 78ms/step - loss: 0.8068 - sparse_categorical_accuracy: 0.7879\n",
      "Epoch 9/10\n",
      "5/5 [==============================] - 0s 78ms/step - loss: 0.7736 - sparse_categorical_accuracy: 0.7879\n",
      "Epoch 10/10\n",
      "5/5 [==============================] - 0s 79ms/step - loss: 0.6782 - sparse_categorical_accuracy: 0.7879\n",
      "WARNING:tensorflow:Model was constructed with shape (None, 270, 3) for input Tensor(\"input_168:0\", shape=(None, 270, 3), dtype=float32), but it was called on an input with incompatible shape (None, 240, 3).\n"
     ]
    },
    {
     "name": "stderr",
     "output_type": "stream",
     "text": [
      "\r",
      "10it [01:48, 11.24s/it]"
     ]
    },
    {
     "name": "stdout",
     "output_type": "stream",
     "text": [
      "Epoch 1/10\n",
      "WARNING:tensorflow:Model was constructed with shape (None, 270, 3) for input Tensor(\"input_169:0\", shape=(None, 270, 3), dtype=float32), but it was called on an input with incompatible shape (None, 240, 3).\n",
      "WARNING:tensorflow:Model was constructed with shape (None, 270, 3) for input Tensor(\"input_169:0\", shape=(None, 270, 3), dtype=float32), but it was called on an input with incompatible shape (None, 240, 3).\n",
      "5/5 [==============================] - 0s 78ms/step - loss: 1.2344 - sparse_categorical_accuracy: 0.7576\n",
      "Epoch 2/10\n",
      "5/5 [==============================] - 0s 82ms/step - loss: 1.1777 - sparse_categorical_accuracy: 0.7879\n",
      "Epoch 3/10\n",
      "5/5 [==============================] - 0s 75ms/step - loss: 1.3981 - sparse_categorical_accuracy: 0.7576\n",
      "Epoch 4/10\n",
      "5/5 [==============================] - 0s 80ms/step - loss: 1.0546 - sparse_categorical_accuracy: 0.8788\n",
      "Epoch 5/10\n",
      "5/5 [==============================] - 0s 78ms/step - loss: 1.5615 - sparse_categorical_accuracy: 0.5758\n",
      "Epoch 6/10\n",
      "5/5 [==============================] - 0s 75ms/step - loss: 0.8872 - sparse_categorical_accuracy: 0.8182\n",
      "Epoch 7/10\n",
      "5/5 [==============================] - 0s 75ms/step - loss: 1.0994 - sparse_categorical_accuracy: 0.8182\n",
      "Epoch 8/10\n",
      "5/5 [==============================] - 0s 78ms/step - loss: 0.8521 - sparse_categorical_accuracy: 0.7576\n",
      "Epoch 9/10\n",
      "5/5 [==============================] - 0s 75ms/step - loss: 0.8904 - sparse_categorical_accuracy: 0.8485\n",
      "Epoch 10/10\n",
      "5/5 [==============================] - 0s 75ms/step - loss: 0.7771 - sparse_categorical_accuracy: 0.9091\n",
      "WARNING:tensorflow:Model was constructed with shape (None, 270, 3) for input Tensor(\"input_169:0\", shape=(None, 270, 3), dtype=float32), but it was called on an input with incompatible shape (None, 240, 3).\n"
     ]
    },
    {
     "name": "stderr",
     "output_type": "stream",
     "text": [
      "\r",
      "11it [01:59, 11.18s/it]"
     ]
    },
    {
     "name": "stdout",
     "output_type": "stream",
     "text": [
      "Epoch 1/10\n",
      "WARNING:tensorflow:Model was constructed with shape (None, 270, 3) for input Tensor(\"input_170:0\", shape=(None, 270, 3), dtype=float32), but it was called on an input with incompatible shape (None, 240, 3).\n",
      "WARNING:tensorflow:Model was constructed with shape (None, 270, 3) for input Tensor(\"input_170:0\", shape=(None, 270, 3), dtype=float32), but it was called on an input with incompatible shape (None, 240, 3).\n",
      "5/5 [==============================] - 0s 85ms/step - loss: 1.3550 - sparse_categorical_accuracy: 0.6061\n",
      "Epoch 2/10\n",
      "5/5 [==============================] - 0s 72ms/step - loss: 1.1052 - sparse_categorical_accuracy: 0.8485\n",
      "Epoch 3/10\n",
      "5/5 [==============================] - 0s 73ms/step - loss: 1.1145 - sparse_categorical_accuracy: 0.9091\n",
      "Epoch 4/10\n",
      "5/5 [==============================] - 0s 72ms/step - loss: 1.1596 - sparse_categorical_accuracy: 0.9091\n",
      "Epoch 5/10\n",
      "5/5 [==============================] - 0s 72ms/step - loss: 1.1040 - sparse_categorical_accuracy: 0.8182\n",
      "Epoch 6/10\n",
      "5/5 [==============================] - 0s 75ms/step - loss: 0.9278 - sparse_categorical_accuracy: 0.8485\n",
      "Epoch 7/10\n",
      "5/5 [==============================] - 0s 75ms/step - loss: 0.7705 - sparse_categorical_accuracy: 0.9091\n",
      "Epoch 8/10\n",
      "5/5 [==============================] - 0s 75ms/step - loss: 0.8576 - sparse_categorical_accuracy: 0.8788\n",
      "Epoch 9/10\n",
      "5/5 [==============================] - 0s 72ms/step - loss: 0.6376 - sparse_categorical_accuracy: 0.8485\n",
      "Epoch 10/10\n",
      "5/5 [==============================] - 0s 78ms/step - loss: 1.0320 - sparse_categorical_accuracy: 0.7576\n",
      "WARNING:tensorflow:Model was constructed with shape (None, 270, 3) for input Tensor(\"input_170:0\", shape=(None, 270, 3), dtype=float32), but it was called on an input with incompatible shape (None, 240, 3).\n"
     ]
    },
    {
     "name": "stderr",
     "output_type": "stream",
     "text": [
      "\r",
      "12it [02:10, 11.15s/it]"
     ]
    },
    {
     "name": "stdout",
     "output_type": "stream",
     "text": [
      "Epoch 1/10\n",
      "WARNING:tensorflow:Model was constructed with shape (None, 270, 3) for input Tensor(\"input_171:0\", shape=(None, 270, 3), dtype=float32), but it was called on an input with incompatible shape (None, 240, 3).\n",
      "WARNING:tensorflow:Model was constructed with shape (None, 270, 3) for input Tensor(\"input_171:0\", shape=(None, 270, 3), dtype=float32), but it was called on an input with incompatible shape (None, 240, 3).\n",
      "5/5 [==============================] - 0s 71ms/step - loss: 1.3685 - sparse_categorical_accuracy: 0.6667\n",
      "Epoch 2/10\n",
      "5/5 [==============================] - 0s 75ms/step - loss: 1.3173 - sparse_categorical_accuracy: 0.6970\n",
      "Epoch 3/10\n",
      "5/5 [==============================] - 0s 72ms/step - loss: 1.3478 - sparse_categorical_accuracy: 0.7576\n",
      "Epoch 4/10\n",
      "5/5 [==============================] - 0s 75ms/step - loss: 1.0823 - sparse_categorical_accuracy: 0.9091\n",
      "Epoch 5/10\n",
      "5/5 [==============================] - 0s 76ms/step - loss: 0.9752 - sparse_categorical_accuracy: 0.9091\n",
      "Epoch 6/10\n",
      "5/5 [==============================] - 0s 75ms/step - loss: 1.2274 - sparse_categorical_accuracy: 0.6970\n",
      "Epoch 7/10\n",
      "5/5 [==============================] - 0s 73ms/step - loss: 0.9601 - sparse_categorical_accuracy: 0.7879\n",
      "Epoch 8/10\n",
      "5/5 [==============================] - 0s 75ms/step - loss: 1.2364 - sparse_categorical_accuracy: 0.7576\n",
      "Epoch 9/10\n",
      "5/5 [==============================] - 0s 73ms/step - loss: 0.9675 - sparse_categorical_accuracy: 0.8182\n",
      "Epoch 10/10\n",
      "5/5 [==============================] - 0s 75ms/step - loss: 0.9857 - sparse_categorical_accuracy: 0.7879\n",
      "WARNING:tensorflow:Model was constructed with shape (None, 270, 3) for input Tensor(\"input_171:0\", shape=(None, 270, 3), dtype=float32), but it was called on an input with incompatible shape (None, 240, 3).\n"
     ]
    },
    {
     "name": "stderr",
     "output_type": "stream",
     "text": [
      "\r",
      "13it [02:21, 11.11s/it]"
     ]
    },
    {
     "name": "stdout",
     "output_type": "stream",
     "text": [
      "Epoch 1/10\n",
      "WARNING:tensorflow:Model was constructed with shape (None, 270, 3) for input Tensor(\"input_172:0\", shape=(None, 270, 3), dtype=float32), but it was called on an input with incompatible shape (None, 240, 3).\n",
      "WARNING:tensorflow:Model was constructed with shape (None, 270, 3) for input Tensor(\"input_172:0\", shape=(None, 270, 3), dtype=float32), but it was called on an input with incompatible shape (None, 240, 3).\n",
      "5/5 [==============================] - 0s 73ms/step - loss: 1.1366 - sparse_categorical_accuracy: 0.7273\n",
      "Epoch 2/10\n",
      "5/5 [==============================] - 0s 78ms/step - loss: 1.4555 - sparse_categorical_accuracy: 0.7273\n",
      "Epoch 3/10\n",
      "5/5 [==============================] - 0s 71ms/step - loss: 1.1587 - sparse_categorical_accuracy: 0.8182\n",
      "Epoch 4/10\n",
      "5/5 [==============================] - 0s 75ms/step - loss: 1.0128 - sparse_categorical_accuracy: 0.8788\n",
      "Epoch 5/10\n",
      "5/5 [==============================] - 0s 73ms/step - loss: 1.0782 - sparse_categorical_accuracy: 0.7879\n",
      "Epoch 6/10\n",
      "5/5 [==============================] - 0s 75ms/step - loss: 1.0261 - sparse_categorical_accuracy: 0.6970\n",
      "Epoch 7/10\n",
      "5/5 [==============================] - 0s 72ms/step - loss: 0.6657 - sparse_categorical_accuracy: 0.9394\n",
      "Epoch 8/10\n",
      "5/5 [==============================] - 0s 76ms/step - loss: 1.0830 - sparse_categorical_accuracy: 0.7879\n",
      "Epoch 9/10\n",
      "5/5 [==============================] - 0s 70ms/step - loss: 0.6433 - sparse_categorical_accuracy: 0.9091\n",
      "Epoch 10/10\n",
      "5/5 [==============================] - 0s 77ms/step - loss: 0.8176 - sparse_categorical_accuracy: 0.7879\n",
      "WARNING:tensorflow:Model was constructed with shape (None, 270, 3) for input Tensor(\"input_172:0\", shape=(None, 270, 3), dtype=float32), but it was called on an input with incompatible shape (None, 240, 3).\n"
     ]
    },
    {
     "name": "stderr",
     "output_type": "stream",
     "text": [
      "\r",
      "14it [02:32, 11.05s/it]"
     ]
    },
    {
     "name": "stdout",
     "output_type": "stream",
     "text": [
      "Epoch 1/10\n",
      "WARNING:tensorflow:Model was constructed with shape (None, 270, 3) for input Tensor(\"input_173:0\", shape=(None, 270, 3), dtype=float32), but it was called on an input with incompatible shape (None, 240, 3).\n",
      "WARNING:tensorflow:Model was constructed with shape (None, 270, 3) for input Tensor(\"input_173:0\", shape=(None, 270, 3), dtype=float32), but it was called on an input with incompatible shape (None, 240, 3).\n",
      "5/5 [==============================] - 0s 75ms/step - loss: 1.3311 - sparse_categorical_accuracy: 0.5455\n",
      "Epoch 2/10\n",
      "5/5 [==============================] - 0s 75ms/step - loss: 1.5833 - sparse_categorical_accuracy: 0.6061\n",
      "Epoch 3/10\n",
      "5/5 [==============================] - 0s 72ms/step - loss: 1.6632 - sparse_categorical_accuracy: 0.6970\n",
      "Epoch 4/10\n",
      "5/5 [==============================] - 0s 72ms/step - loss: 1.5939 - sparse_categorical_accuracy: 0.7273\n",
      "Epoch 5/10\n",
      "5/5 [==============================] - 0s 75ms/step - loss: 1.1026 - sparse_categorical_accuracy: 0.8485\n",
      "Epoch 6/10\n",
      "5/5 [==============================] - 0s 76ms/step - loss: 1.0905 - sparse_categorical_accuracy: 0.7273\n",
      "Epoch 7/10\n",
      "5/5 [==============================] - 0s 75ms/step - loss: 0.8915 - sparse_categorical_accuracy: 0.8182\n",
      "Epoch 8/10\n",
      "5/5 [==============================] - 0s 78ms/step - loss: 0.6564 - sparse_categorical_accuracy: 0.9091\n",
      "Epoch 9/10\n",
      "5/5 [==============================] - 0s 79ms/step - loss: 0.7768 - sparse_categorical_accuracy: 0.8485\n",
      "Epoch 10/10\n",
      "5/5 [==============================] - 0s 69ms/step - loss: 1.0612 - sparse_categorical_accuracy: 0.7879\n",
      "WARNING:tensorflow:Model was constructed with shape (None, 270, 3) for input Tensor(\"input_173:0\", shape=(None, 270, 3), dtype=float32), but it was called on an input with incompatible shape (None, 240, 3).\n"
     ]
    },
    {
     "name": "stderr",
     "output_type": "stream",
     "text": [
      "\r",
      "15it [02:43, 10.99s/it]"
     ]
    },
    {
     "name": "stdout",
     "output_type": "stream",
     "text": [
      "Epoch 1/10\n",
      "WARNING:tensorflow:Model was constructed with shape (None, 270, 3) for input Tensor(\"input_174:0\", shape=(None, 270, 3), dtype=float32), but it was called on an input with incompatible shape (None, 240, 3).\n",
      "WARNING:tensorflow:Model was constructed with shape (None, 270, 3) for input Tensor(\"input_174:0\", shape=(None, 270, 3), dtype=float32), but it was called on an input with incompatible shape (None, 240, 3).\n",
      "5/5 [==============================] - 0s 73ms/step - loss: 1.2328 - sparse_categorical_accuracy: 0.6970\n",
      "Epoch 2/10\n",
      "5/5 [==============================] - 0s 76ms/step - loss: 1.1195 - sparse_categorical_accuracy: 0.7879\n",
      "Epoch 3/10\n",
      "5/5 [==============================] - 0s 78ms/step - loss: 1.0805 - sparse_categorical_accuracy: 0.8485\n",
      "Epoch 4/10\n",
      "5/5 [==============================] - 0s 78ms/step - loss: 1.0151 - sparse_categorical_accuracy: 0.9091\n",
      "Epoch 5/10\n",
      "5/5 [==============================] - 0s 73ms/step - loss: 0.9990 - sparse_categorical_accuracy: 0.8788\n",
      "Epoch 6/10\n",
      "5/5 [==============================] - 0s 73ms/step - loss: 1.1015 - sparse_categorical_accuracy: 0.7273\n",
      "Epoch 7/10\n",
      "5/5 [==============================] - 0s 74ms/step - loss: 0.8939 - sparse_categorical_accuracy: 0.8182\n",
      "Epoch 8/10\n",
      "5/5 [==============================] - 0s 76ms/step - loss: 0.8010 - sparse_categorical_accuracy: 0.8485\n",
      "Epoch 9/10\n",
      "5/5 [==============================] - 0s 76ms/step - loss: 1.0756 - sparse_categorical_accuracy: 0.7273\n",
      "Epoch 10/10\n",
      "5/5 [==============================] - 0s 71ms/step - loss: 1.0652 - sparse_categorical_accuracy: 0.7879\n",
      "WARNING:tensorflow:Model was constructed with shape (None, 270, 3) for input Tensor(\"input_174:0\", shape=(None, 270, 3), dtype=float32), but it was called on an input with incompatible shape (None, 240, 3).\n"
     ]
    },
    {
     "name": "stderr",
     "output_type": "stream",
     "text": [
      "\r",
      "16it [02:54, 10.98s/it]"
     ]
    },
    {
     "name": "stdout",
     "output_type": "stream",
     "text": [
      "Epoch 1/10\n",
      "WARNING:tensorflow:Model was constructed with shape (None, 270, 3) for input Tensor(\"input_175:0\", shape=(None, 270, 3), dtype=float32), but it was called on an input with incompatible shape (None, 240, 3).\n",
      "WARNING:tensorflow:Model was constructed with shape (None, 270, 3) for input Tensor(\"input_175:0\", shape=(None, 270, 3), dtype=float32), but it was called on an input with incompatible shape (None, 240, 3).\n",
      "5/5 [==============================] - 0s 76ms/step - loss: 1.2514 - sparse_categorical_accuracy: 0.6970\n",
      "Epoch 2/10\n",
      "5/5 [==============================] - 0s 73ms/step - loss: 1.1147 - sparse_categorical_accuracy: 0.8485\n",
      "Epoch 3/10\n",
      "5/5 [==============================] - 0s 76ms/step - loss: 1.3231 - sparse_categorical_accuracy: 0.8182\n",
      "Epoch 4/10\n",
      "5/5 [==============================] - 0s 74ms/step - loss: 1.3308 - sparse_categorical_accuracy: 0.8182\n",
      "Epoch 5/10\n",
      "5/5 [==============================] - 0s 77ms/step - loss: 0.9640 - sparse_categorical_accuracy: 0.8788\n",
      "Epoch 6/10\n",
      "5/5 [==============================] - 0s 80ms/step - loss: 0.8923 - sparse_categorical_accuracy: 0.8182\n",
      "Epoch 7/10\n",
      "5/5 [==============================] - 0s 78ms/step - loss: 0.7165 - sparse_categorical_accuracy: 0.9091\n",
      "Epoch 8/10\n",
      "5/5 [==============================] - 0s 76ms/step - loss: 0.7779 - sparse_categorical_accuracy: 0.8485\n",
      "Epoch 9/10\n",
      "5/5 [==============================] - 0s 75ms/step - loss: 0.9176 - sparse_categorical_accuracy: 0.8182\n",
      "Epoch 10/10\n",
      "5/5 [==============================] - 0s 72ms/step - loss: 0.7179 - sparse_categorical_accuracy: 0.8485\n",
      "WARNING:tensorflow:Model was constructed with shape (None, 270, 3) for input Tensor(\"input_175:0\", shape=(None, 270, 3), dtype=float32), but it was called on an input with incompatible shape (None, 240, 3).\n"
     ]
    },
    {
     "name": "stderr",
     "output_type": "stream",
     "text": [
      "\r",
      "17it [03:05, 10.99s/it]"
     ]
    },
    {
     "name": "stdout",
     "output_type": "stream",
     "text": [
      "Epoch 1/10\n",
      "WARNING:tensorflow:Model was constructed with shape (None, 270, 3) for input Tensor(\"input_176:0\", shape=(None, 270, 3), dtype=float32), but it was called on an input with incompatible shape (None, 240, 3).\n",
      "WARNING:tensorflow:Model was constructed with shape (None, 270, 3) for input Tensor(\"input_176:0\", shape=(None, 270, 3), dtype=float32), but it was called on an input with incompatible shape (None, 240, 3).\n",
      "5/5 [==============================] - 0s 77ms/step - loss: 1.4644 - sparse_categorical_accuracy: 0.5455\n",
      "Epoch 2/10\n",
      "5/5 [==============================] - 0s 75ms/step - loss: 1.4165 - sparse_categorical_accuracy: 0.6061\n",
      "Epoch 3/10\n",
      "5/5 [==============================] - 0s 72ms/step - loss: 1.3964 - sparse_categorical_accuracy: 0.8182\n",
      "Epoch 4/10\n",
      "5/5 [==============================] - 0s 74ms/step - loss: 1.3064 - sparse_categorical_accuracy: 0.8485\n",
      "Epoch 5/10\n",
      "5/5 [==============================] - 0s 73ms/step - loss: 1.1473 - sparse_categorical_accuracy: 0.8182\n",
      "Epoch 6/10\n",
      "5/5 [==============================] - 0s 72ms/step - loss: 0.8844 - sparse_categorical_accuracy: 0.8788\n",
      "Epoch 7/10\n",
      "5/5 [==============================] - 0s 72ms/step - loss: 0.8829 - sparse_categorical_accuracy: 0.8182\n",
      "Epoch 8/10\n",
      "5/5 [==============================] - 0s 73ms/step - loss: 1.0674 - sparse_categorical_accuracy: 0.7879\n",
      "Epoch 9/10\n",
      "5/5 [==============================] - 0s 70ms/step - loss: 0.9051 - sparse_categorical_accuracy: 0.6970\n",
      "Epoch 10/10\n",
      "5/5 [==============================] - 0s 73ms/step - loss: 0.9700 - sparse_categorical_accuracy: 0.6970\n",
      "WARNING:tensorflow:Model was constructed with shape (None, 270, 3) for input Tensor(\"input_176:0\", shape=(None, 270, 3), dtype=float32), but it was called on an input with incompatible shape (None, 240, 3).\n"
     ]
    },
    {
     "name": "stderr",
     "output_type": "stream",
     "text": [
      "\r",
      "18it [03:16, 10.97s/it]"
     ]
    },
    {
     "name": "stdout",
     "output_type": "stream",
     "text": [
      "Epoch 1/10\n",
      "WARNING:tensorflow:Model was constructed with shape (None, 270, 3) for input Tensor(\"input_177:0\", shape=(None, 270, 3), dtype=float32), but it was called on an input with incompatible shape (None, 240, 3).\n",
      "WARNING:tensorflow:Model was constructed with shape (None, 270, 3) for input Tensor(\"input_177:0\", shape=(None, 270, 3), dtype=float32), but it was called on an input with incompatible shape (None, 240, 3).\n",
      "5/5 [==============================] - 0s 72ms/step - loss: 1.2785 - sparse_categorical_accuracy: 0.6364\n",
      "Epoch 2/10\n",
      "5/5 [==============================] - 0s 72ms/step - loss: 1.4500 - sparse_categorical_accuracy: 0.6970\n",
      "Epoch 3/10\n",
      "5/5 [==============================] - 0s 72ms/step - loss: 1.3817 - sparse_categorical_accuracy: 0.6970\n",
      "Epoch 4/10\n",
      "5/5 [==============================] - 0s 69ms/step - loss: 1.3974 - sparse_categorical_accuracy: 0.6364\n",
      "Epoch 5/10\n",
      "5/5 [==============================] - 0s 72ms/step - loss: 1.2925 - sparse_categorical_accuracy: 0.6970\n",
      "Epoch 6/10\n",
      "5/5 [==============================] - 0s 69ms/step - loss: 1.2333 - sparse_categorical_accuracy: 0.6970\n",
      "Epoch 7/10\n",
      "5/5 [==============================] - 0s 71ms/step - loss: 1.0973 - sparse_categorical_accuracy: 0.7273\n",
      "Epoch 8/10\n",
      "5/5 [==============================] - 0s 72ms/step - loss: 0.7876 - sparse_categorical_accuracy: 0.9091\n",
      "Epoch 9/10\n",
      "5/5 [==============================] - 0s 77ms/step - loss: 0.8083 - sparse_categorical_accuracy: 0.7879\n",
      "Epoch 10/10\n",
      "5/5 [==============================] - 0s 73ms/step - loss: 0.7510 - sparse_categorical_accuracy: 0.8485\n",
      "WARNING:tensorflow:Model was constructed with shape (None, 270, 3) for input Tensor(\"input_177:0\", shape=(None, 270, 3), dtype=float32), but it was called on an input with incompatible shape (None, 240, 3).\n"
     ]
    },
    {
     "name": "stderr",
     "output_type": "stream",
     "text": [
      "\r",
      "19it [03:27, 10.89s/it]"
     ]
    },
    {
     "name": "stdout",
     "output_type": "stream",
     "text": [
      "Epoch 1/10\n",
      "WARNING:tensorflow:Model was constructed with shape (None, 270, 3) for input Tensor(\"input_178:0\", shape=(None, 270, 3), dtype=float32), but it was called on an input with incompatible shape (None, 240, 3).\n",
      "WARNING:tensorflow:Model was constructed with shape (None, 270, 3) for input Tensor(\"input_178:0\", shape=(None, 270, 3), dtype=float32), but it was called on an input with incompatible shape (None, 240, 3).\n",
      "5/5 [==============================] - 0s 72ms/step - loss: 1.2552 - sparse_categorical_accuracy: 0.6970\n",
      "Epoch 2/10\n",
      "5/5 [==============================] - 0s 76ms/step - loss: 1.2475 - sparse_categorical_accuracy: 0.7273\n",
      "Epoch 3/10\n",
      "5/5 [==============================] - 0s 77ms/step - loss: 1.2775 - sparse_categorical_accuracy: 0.8485\n",
      "Epoch 4/10\n",
      "5/5 [==============================] - 0s 76ms/step - loss: 1.0678 - sparse_categorical_accuracy: 0.8485\n",
      "Epoch 5/10\n",
      "5/5 [==============================] - 0s 79ms/step - loss: 0.7282 - sparse_categorical_accuracy: 0.9091\n",
      "Epoch 6/10\n",
      "5/5 [==============================] - 0s 72ms/step - loss: 0.8334 - sparse_categorical_accuracy: 0.8485\n",
      "Epoch 7/10\n",
      "5/5 [==============================] - 0s 71ms/step - loss: 1.1133 - sparse_categorical_accuracy: 0.6970\n",
      "Epoch 8/10\n",
      "5/5 [==============================] - 0s 72ms/step - loss: 1.1615 - sparse_categorical_accuracy: 0.7576\n",
      "Epoch 9/10\n",
      "5/5 [==============================] - 0s 71ms/step - loss: 0.8791 - sparse_categorical_accuracy: 0.8485\n",
      "Epoch 10/10\n",
      "5/5 [==============================] - 0s 70ms/step - loss: 0.8417 - sparse_categorical_accuracy: 0.7576\n",
      "WARNING:tensorflow:Model was constructed with shape (None, 270, 3) for input Tensor(\"input_178:0\", shape=(None, 270, 3), dtype=float32), but it was called on an input with incompatible shape (None, 240, 3).\n"
     ]
    },
    {
     "name": "stderr",
     "output_type": "stream",
     "text": [
      "\r",
      "20it [03:38, 10.88s/it]"
     ]
    },
    {
     "name": "stdout",
     "output_type": "stream",
     "text": [
      "Epoch 1/10\n",
      "WARNING:tensorflow:Model was constructed with shape (None, 270, 3) for input Tensor(\"input_179:0\", shape=(None, 270, 3), dtype=float32), but it was called on an input with incompatible shape (None, 240, 3).\n",
      "WARNING:tensorflow:Model was constructed with shape (None, 270, 3) for input Tensor(\"input_179:0\", shape=(None, 270, 3), dtype=float32), but it was called on an input with incompatible shape (None, 240, 3).\n",
      "5/5 [==============================] - 0s 72ms/step - loss: 1.2428 - sparse_categorical_accuracy: 0.6667\n",
      "Epoch 2/10\n",
      "5/5 [==============================] - 0s 75ms/step - loss: 1.3551 - sparse_categorical_accuracy: 0.7879\n",
      "Epoch 3/10\n",
      "5/5 [==============================] - 0s 73ms/step - loss: 1.1566 - sparse_categorical_accuracy: 0.8788\n",
      "Epoch 4/10\n",
      "5/5 [==============================] - 0s 74ms/step - loss: 1.3785 - sparse_categorical_accuracy: 0.7576\n",
      "Epoch 5/10\n",
      "5/5 [==============================] - 0s 75ms/step - loss: 1.3473 - sparse_categorical_accuracy: 0.7576\n",
      "Epoch 6/10\n",
      "5/5 [==============================] - 0s 73ms/step - loss: 1.1252 - sparse_categorical_accuracy: 0.7576\n",
      "Epoch 7/10\n",
      "5/5 [==============================] - 0s 73ms/step - loss: 0.8700 - sparse_categorical_accuracy: 0.8182\n",
      "Epoch 8/10\n",
      "5/5 [==============================] - 0s 72ms/step - loss: 1.0795 - sparse_categorical_accuracy: 0.8182\n",
      "Epoch 9/10\n",
      "5/5 [==============================] - 0s 69ms/step - loss: 0.6841 - sparse_categorical_accuracy: 0.9091\n",
      "Epoch 10/10\n",
      "5/5 [==============================] - 0s 69ms/step - loss: 0.7839 - sparse_categorical_accuracy: 0.7879\n",
      "WARNING:tensorflow:Model was constructed with shape (None, 270, 3) for input Tensor(\"input_179:0\", shape=(None, 270, 3), dtype=float32), but it was called on an input with incompatible shape (None, 240, 3).\n"
     ]
    },
    {
     "name": "stderr",
     "output_type": "stream",
     "text": [
      "\r",
      "21it [03:49, 10.85s/it]"
     ]
    },
    {
     "name": "stdout",
     "output_type": "stream",
     "text": [
      "Epoch 1/10\n",
      "WARNING:tensorflow:Model was constructed with shape (None, 270, 3) for input Tensor(\"input_180:0\", shape=(None, 270, 3), dtype=float32), but it was called on an input with incompatible shape (None, 240, 3).\n",
      "WARNING:tensorflow:Model was constructed with shape (None, 270, 3) for input Tensor(\"input_180:0\", shape=(None, 270, 3), dtype=float32), but it was called on an input with incompatible shape (None, 240, 3).\n",
      "5/5 [==============================] - 0s 79ms/step - loss: 1.5882 - sparse_categorical_accuracy: 0.5152\n",
      "Epoch 2/10\n",
      "5/5 [==============================] - 0s 78ms/step - loss: 1.1416 - sparse_categorical_accuracy: 0.8182\n",
      "Epoch 3/10\n",
      "5/5 [==============================] - 0s 79ms/step - loss: 1.2502 - sparse_categorical_accuracy: 0.8182\n",
      "Epoch 4/10\n",
      "5/5 [==============================] - 0s 82ms/step - loss: 1.2160 - sparse_categorical_accuracy: 0.8485\n",
      "Epoch 5/10\n",
      "5/5 [==============================] - 0s 79ms/step - loss: 0.9077 - sparse_categorical_accuracy: 0.8788\n",
      "Epoch 6/10\n",
      "5/5 [==============================] - 0s 79ms/step - loss: 1.3444 - sparse_categorical_accuracy: 0.6970\n",
      "Epoch 7/10\n",
      "5/5 [==============================] - 0s 78ms/step - loss: 0.9256 - sparse_categorical_accuracy: 0.7879\n",
      "Epoch 8/10\n",
      "5/5 [==============================] - 0s 79ms/step - loss: 0.8347 - sparse_categorical_accuracy: 0.7576\n",
      "Epoch 9/10\n",
      "5/5 [==============================] - 0s 78ms/step - loss: 0.7562 - sparse_categorical_accuracy: 0.8485\n",
      "Epoch 10/10\n",
      "5/5 [==============================] - 0s 78ms/step - loss: 0.8926 - sparse_categorical_accuracy: 0.7576\n",
      "WARNING:tensorflow:Model was constructed with shape (None, 270, 3) for input Tensor(\"input_180:0\", shape=(None, 270, 3), dtype=float32), but it was called on an input with incompatible shape (None, 240, 3).\n"
     ]
    },
    {
     "name": "stderr",
     "output_type": "stream",
     "text": [
      "\r",
      "22it [04:01, 11.45s/it]"
     ]
    },
    {
     "name": "stdout",
     "output_type": "stream",
     "text": [
      "Epoch 1/10\n",
      "WARNING:tensorflow:Model was constructed with shape (None, 270, 3) for input Tensor(\"input_181:0\", shape=(None, 270, 3), dtype=float32), but it was called on an input with incompatible shape (None, 240, 3).\n",
      "WARNING:tensorflow:Model was constructed with shape (None, 270, 3) for input Tensor(\"input_181:0\", shape=(None, 270, 3), dtype=float32), but it was called on an input with incompatible shape (None, 240, 3).\n",
      "5/5 [==============================] - 0s 79ms/step - loss: 1.3227 - sparse_categorical_accuracy: 0.6364\n",
      "Epoch 2/10\n",
      "5/5 [==============================] - 0s 78ms/step - loss: 1.1836 - sparse_categorical_accuracy: 0.8182\n",
      "Epoch 3/10\n",
      "5/5 [==============================] - 0s 76ms/step - loss: 1.1109 - sparse_categorical_accuracy: 0.9394\n",
      "Epoch 4/10\n",
      "5/5 [==============================] - 0s 76ms/step - loss: 1.1501 - sparse_categorical_accuracy: 0.9091\n",
      "Epoch 5/10\n",
      "5/5 [==============================] - 0s 76ms/step - loss: 0.9602 - sparse_categorical_accuracy: 0.9394\n",
      "Epoch 6/10\n",
      "5/5 [==============================] - 0s 78ms/step - loss: 0.9381 - sparse_categorical_accuracy: 0.9091\n",
      "Epoch 7/10\n",
      "5/5 [==============================] - 0s 75ms/step - loss: 0.7283 - sparse_categorical_accuracy: 0.8788\n",
      "Epoch 8/10\n",
      "5/5 [==============================] - 0s 80ms/step - loss: 1.1604 - sparse_categorical_accuracy: 0.6667\n",
      "Epoch 9/10\n",
      "5/5 [==============================] - 0s 74ms/step - loss: 1.0489 - sparse_categorical_accuracy: 0.7879\n",
      "Epoch 10/10\n",
      "5/5 [==============================] - 0s 79ms/step - loss: 1.1750 - sparse_categorical_accuracy: 0.6667\n",
      "WARNING:tensorflow:Model was constructed with shape (None, 270, 3) for input Tensor(\"input_181:0\", shape=(None, 270, 3), dtype=float32), but it was called on an input with incompatible shape (None, 240, 3).\n"
     ]
    },
    {
     "name": "stderr",
     "output_type": "stream",
     "text": [
      "\r",
      "23it [04:13, 11.37s/it]"
     ]
    },
    {
     "name": "stdout",
     "output_type": "stream",
     "text": [
      "Epoch 1/10\n",
      "WARNING:tensorflow:Model was constructed with shape (None, 270, 3) for input Tensor(\"input_182:0\", shape=(None, 270, 3), dtype=float32), but it was called on an input with incompatible shape (None, 240, 3).\n",
      "WARNING:tensorflow:Model was constructed with shape (None, 270, 3) for input Tensor(\"input_182:0\", shape=(None, 270, 3), dtype=float32), but it was called on an input with incompatible shape (None, 240, 3).\n",
      "5/5 [==============================] - 0s 82ms/step - loss: 1.1228 - sparse_categorical_accuracy: 0.6970\n",
      "Epoch 2/10\n",
      "5/5 [==============================] - 0s 76ms/step - loss: 1.1354 - sparse_categorical_accuracy: 0.7273\n",
      "Epoch 3/10\n",
      "5/5 [==============================] - 0s 78ms/step - loss: 1.4537 - sparse_categorical_accuracy: 0.7879\n",
      "Epoch 4/10\n",
      "5/5 [==============================] - 0s 78ms/step - loss: 1.1249 - sparse_categorical_accuracy: 0.8788\n",
      "Epoch 5/10\n",
      "5/5 [==============================] - 0s 77ms/step - loss: 1.0720 - sparse_categorical_accuracy: 0.7879\n",
      "Epoch 6/10\n",
      "5/5 [==============================] - 0s 77ms/step - loss: 1.1190 - sparse_categorical_accuracy: 0.7879\n",
      "Epoch 7/10\n",
      "5/5 [==============================] - 0s 77ms/step - loss: 1.1909 - sparse_categorical_accuracy: 0.6970\n",
      "Epoch 8/10\n",
      "5/5 [==============================] - 0s 77ms/step - loss: 0.6305 - sparse_categorical_accuracy: 0.9697\n",
      "Epoch 9/10\n",
      "5/5 [==============================] - 0s 78ms/step - loss: 1.1549 - sparse_categorical_accuracy: 0.7576\n",
      "Epoch 10/10\n",
      "5/5 [==============================] - 0s 79ms/step - loss: 0.7618 - sparse_categorical_accuracy: 0.8485\n",
      "WARNING:tensorflow:Model was constructed with shape (None, 270, 3) for input Tensor(\"input_182:0\", shape=(None, 270, 3), dtype=float32), but it was called on an input with incompatible shape (None, 240, 3).\n"
     ]
    },
    {
     "name": "stderr",
     "output_type": "stream",
     "text": [
      "\r",
      "24it [04:24, 11.32s/it]"
     ]
    },
    {
     "name": "stdout",
     "output_type": "stream",
     "text": [
      "Epoch 1/10\n",
      "WARNING:tensorflow:Model was constructed with shape (None, 270, 3) for input Tensor(\"input_183:0\", shape=(None, 270, 3), dtype=float32), but it was called on an input with incompatible shape (None, 240, 3).\n",
      "WARNING:tensorflow:Model was constructed with shape (None, 270, 3) for input Tensor(\"input_183:0\", shape=(None, 270, 3), dtype=float32), but it was called on an input with incompatible shape (None, 240, 3).\n",
      "5/5 [==============================] - 0s 75ms/step - loss: 1.2274 - sparse_categorical_accuracy: 0.6364\n",
      "Epoch 2/10\n",
      "5/5 [==============================] - 0s 78ms/step - loss: 1.1727 - sparse_categorical_accuracy: 0.8182\n",
      "Epoch 3/10\n",
      "5/5 [==============================] - 0s 78ms/step - loss: 1.2621 - sparse_categorical_accuracy: 0.9091\n",
      "Epoch 4/10\n",
      "5/5 [==============================] - 0s 78ms/step - loss: 1.2679 - sparse_categorical_accuracy: 0.8485\n",
      "Epoch 5/10\n",
      "5/5 [==============================] - 0s 83ms/step - loss: 1.0349 - sparse_categorical_accuracy: 0.8788\n",
      "Epoch 6/10\n",
      "5/5 [==============================] - 0s 76ms/step - loss: 1.3099 - sparse_categorical_accuracy: 0.6970\n",
      "Epoch 7/10\n",
      "5/5 [==============================] - 0s 78ms/step - loss: 0.9314 - sparse_categorical_accuracy: 0.7879\n",
      "Epoch 8/10\n",
      "5/5 [==============================] - 0s 73ms/step - loss: 0.9154 - sparse_categorical_accuracy: 0.8788\n",
      "Epoch 9/10\n",
      "5/5 [==============================] - 0s 89ms/step - loss: 0.8521 - sparse_categorical_accuracy: 0.8182\n",
      "Epoch 10/10\n",
      "5/5 [==============================] - 0s 73ms/step - loss: 0.9475 - sparse_categorical_accuracy: 0.8485\n",
      "WARNING:tensorflow:Model was constructed with shape (None, 270, 3) for input Tensor(\"input_183:0\", shape=(None, 270, 3), dtype=float32), but it was called on an input with incompatible shape (None, 240, 3).\n"
     ]
    },
    {
     "name": "stderr",
     "output_type": "stream",
     "text": [
      "\r",
      "25it [04:35, 11.30s/it]"
     ]
    },
    {
     "name": "stdout",
     "output_type": "stream",
     "text": [
      "Epoch 1/10\n",
      "WARNING:tensorflow:Model was constructed with shape (None, 270, 3) for input Tensor(\"input_184:0\", shape=(None, 270, 3), dtype=float32), but it was called on an input with incompatible shape (None, 240, 3).\n",
      "WARNING:tensorflow:Model was constructed with shape (None, 270, 3) for input Tensor(\"input_184:0\", shape=(None, 270, 3), dtype=float32), but it was called on an input with incompatible shape (None, 240, 3).\n",
      "5/5 [==============================] - 0s 74ms/step - loss: 1.2489 - sparse_categorical_accuracy: 0.6061\n",
      "Epoch 2/10\n",
      "5/5 [==============================] - 0s 72ms/step - loss: 1.3941 - sparse_categorical_accuracy: 0.6364\n",
      "Epoch 3/10\n",
      "5/5 [==============================] - 0s 75ms/step - loss: 1.2970 - sparse_categorical_accuracy: 0.7879\n",
      "Epoch 4/10\n",
      "5/5 [==============================] - 0s 75ms/step - loss: 1.2054 - sparse_categorical_accuracy: 0.6970\n",
      "Epoch 5/10\n",
      "5/5 [==============================] - 0s 75ms/step - loss: 0.9572 - sparse_categorical_accuracy: 0.8788\n",
      "Epoch 6/10\n",
      "5/5 [==============================] - 0s 73ms/step - loss: 0.7828 - sparse_categorical_accuracy: 0.8182\n",
      "Epoch 7/10\n",
      "5/5 [==============================] - 0s 78ms/step - loss: 0.8218 - sparse_categorical_accuracy: 0.8788\n",
      "Epoch 8/10\n",
      "5/5 [==============================] - 0s 78ms/step - loss: 0.6080 - sparse_categorical_accuracy: 0.9091\n",
      "Epoch 9/10\n",
      "5/5 [==============================] - 0s 77ms/step - loss: 0.5594 - sparse_categorical_accuracy: 0.9394\n",
      "Epoch 10/10\n",
      "5/5 [==============================] - 0s 76ms/step - loss: 0.8325 - sparse_categorical_accuracy: 0.8485\n",
      "WARNING:tensorflow:Model was constructed with shape (None, 270, 3) for input Tensor(\"input_184:0\", shape=(None, 270, 3), dtype=float32), but it was called on an input with incompatible shape (None, 240, 3).\n"
     ]
    },
    {
     "name": "stderr",
     "output_type": "stream",
     "text": [
      "\r",
      "26it [04:46, 11.23s/it]"
     ]
    },
    {
     "name": "stdout",
     "output_type": "stream",
     "text": [
      "Epoch 1/10\n",
      "WARNING:tensorflow:Model was constructed with shape (None, 270, 3) for input Tensor(\"input_185:0\", shape=(None, 270, 3), dtype=float32), but it was called on an input with incompatible shape (None, 240, 3).\n",
      "WARNING:tensorflow:Model was constructed with shape (None, 270, 3) for input Tensor(\"input_185:0\", shape=(None, 270, 3), dtype=float32), but it was called on an input with incompatible shape (None, 240, 3).\n",
      "5/5 [==============================] - 0s 78ms/step - loss: 1.1899 - sparse_categorical_accuracy: 0.6061\n",
      "Epoch 2/10\n",
      "5/5 [==============================] - 0s 76ms/step - loss: 1.1823 - sparse_categorical_accuracy: 0.7576\n",
      "Epoch 3/10\n",
      "5/5 [==============================] - 0s 79ms/step - loss: 1.4550 - sparse_categorical_accuracy: 0.7576\n",
      "Epoch 4/10\n",
      "5/5 [==============================] - 0s 75ms/step - loss: 1.3976 - sparse_categorical_accuracy: 0.8485\n",
      "Epoch 5/10\n",
      "5/5 [==============================] - 0s 75ms/step - loss: 1.3188 - sparse_categorical_accuracy: 0.7879\n",
      "Epoch 6/10\n",
      "5/5 [==============================] - 0s 73ms/step - loss: 1.1037 - sparse_categorical_accuracy: 0.7879\n",
      "Epoch 7/10\n",
      "5/5 [==============================] - 0s 75ms/step - loss: 0.7875 - sparse_categorical_accuracy: 0.9091\n",
      "Epoch 8/10\n",
      "5/5 [==============================] - 0s 77ms/step - loss: 1.1255 - sparse_categorical_accuracy: 0.7576\n",
      "Epoch 9/10\n",
      "5/5 [==============================] - 0s 77ms/step - loss: 0.6462 - sparse_categorical_accuracy: 0.9091\n",
      "Epoch 10/10\n",
      "5/5 [==============================] - 0s 77ms/step - loss: 0.7969 - sparse_categorical_accuracy: 0.7576\n",
      "WARNING:tensorflow:Model was constructed with shape (None, 270, 3) for input Tensor(\"input_185:0\", shape=(None, 270, 3), dtype=float32), but it was called on an input with incompatible shape (None, 240, 3).\n"
     ]
    },
    {
     "name": "stderr",
     "output_type": "stream",
     "text": [
      "\r",
      "27it [04:57, 11.16s/it]"
     ]
    },
    {
     "name": "stdout",
     "output_type": "stream",
     "text": [
      "Epoch 1/10\n",
      "WARNING:tensorflow:Model was constructed with shape (None, 270, 3) for input Tensor(\"input_186:0\", shape=(None, 270, 3), dtype=float32), but it was called on an input with incompatible shape (None, 240, 3).\n",
      "WARNING:tensorflow:Model was constructed with shape (None, 270, 3) for input Tensor(\"input_186:0\", shape=(None, 270, 3), dtype=float32), but it was called on an input with incompatible shape (None, 240, 3).\n",
      "5/5 [==============================] - 0s 79ms/step - loss: 1.2328 - sparse_categorical_accuracy: 0.7576\n",
      "Epoch 2/10\n",
      "5/5 [==============================] - 0s 73ms/step - loss: 1.2638 - sparse_categorical_accuracy: 0.8182\n",
      "Epoch 3/10\n",
      "5/5 [==============================] - 0s 77ms/step - loss: 1.1907 - sparse_categorical_accuracy: 0.8485\n",
      "Epoch 4/10\n",
      "5/5 [==============================] - 0s 76ms/step - loss: 1.1242 - sparse_categorical_accuracy: 0.8788\n",
      "Epoch 5/10\n",
      "5/5 [==============================] - 0s 78ms/step - loss: 1.1963 - sparse_categorical_accuracy: 0.7879\n",
      "Epoch 6/10\n",
      "5/5 [==============================] - 0s 69ms/step - loss: 0.8676 - sparse_categorical_accuracy: 0.8485\n",
      "Epoch 7/10\n",
      "5/5 [==============================] - 0s 85ms/step - loss: 0.7971 - sparse_categorical_accuracy: 0.8182\n",
      "Epoch 8/10\n",
      "5/5 [==============================] - 0s 75ms/step - loss: 1.0262 - sparse_categorical_accuracy: 0.7576\n",
      "Epoch 9/10\n",
      "5/5 [==============================] - 0s 76ms/step - loss: 1.0898 - sparse_categorical_accuracy: 0.7576\n",
      "Epoch 10/10\n",
      "5/5 [==============================] - 0s 78ms/step - loss: 0.8632 - sparse_categorical_accuracy: 0.8182\n",
      "WARNING:tensorflow:Model was constructed with shape (None, 270, 3) for input Tensor(\"input_186:0\", shape=(None, 270, 3), dtype=float32), but it was called on an input with incompatible shape (None, 240, 3).\n"
     ]
    },
    {
     "name": "stderr",
     "output_type": "stream",
     "text": [
      "\r",
      "28it [05:08, 11.12s/it]"
     ]
    },
    {
     "name": "stdout",
     "output_type": "stream",
     "text": [
      "Epoch 1/10\n",
      "WARNING:tensorflow:Model was constructed with shape (None, 270, 3) for input Tensor(\"input_187:0\", shape=(None, 270, 3), dtype=float32), but it was called on an input with incompatible shape (None, 240, 3).\n",
      "WARNING:tensorflow:Model was constructed with shape (None, 270, 3) for input Tensor(\"input_187:0\", shape=(None, 270, 3), dtype=float32), but it was called on an input with incompatible shape (None, 240, 3).\n",
      "5/5 [==============================] - 0s 75ms/step - loss: 1.2247 - sparse_categorical_accuracy: 0.6364\n",
      "Epoch 2/10\n",
      "5/5 [==============================] - 0s 72ms/step - loss: 1.2495 - sparse_categorical_accuracy: 0.7273\n",
      "Epoch 3/10\n",
      "5/5 [==============================] - 0s 76ms/step - loss: 1.2449 - sparse_categorical_accuracy: 0.8788\n",
      "Epoch 4/10\n",
      "5/5 [==============================] - 0s 75ms/step - loss: 1.0517 - sparse_categorical_accuracy: 0.8485\n",
      "Epoch 5/10\n",
      "5/5 [==============================] - 0s 72ms/step - loss: 0.9208 - sparse_categorical_accuracy: 0.8485\n",
      "Epoch 6/10\n",
      "5/5 [==============================] - 0s 72ms/step - loss: 0.7601 - sparse_categorical_accuracy: 0.9091\n",
      "Epoch 7/10\n",
      "5/5 [==============================] - 0s 75ms/step - loss: 0.7257 - sparse_categorical_accuracy: 0.8788\n",
      "Epoch 8/10\n",
      "5/5 [==============================] - 0s 72ms/step - loss: 0.8178 - sparse_categorical_accuracy: 0.7576\n",
      "Epoch 9/10\n",
      "5/5 [==============================] - 0s 75ms/step - loss: 0.8373 - sparse_categorical_accuracy: 0.9091\n",
      "Epoch 10/10\n",
      "5/5 [==============================] - 0s 77ms/step - loss: 0.8349 - sparse_categorical_accuracy: 0.8485\n",
      "WARNING:tensorflow:Model was constructed with shape (None, 270, 3) for input Tensor(\"input_187:0\", shape=(None, 270, 3), dtype=float32), but it was called on an input with incompatible shape (None, 240, 3).\n"
     ]
    },
    {
     "name": "stderr",
     "output_type": "stream",
     "text": [
      "\r",
      "29it [05:19, 11.07s/it]"
     ]
    },
    {
     "name": "stdout",
     "output_type": "stream",
     "text": [
      "Epoch 1/10\n",
      "WARNING:tensorflow:Model was constructed with shape (None, 270, 3) for input Tensor(\"input_188:0\", shape=(None, 270, 3), dtype=float32), but it was called on an input with incompatible shape (None, 240, 3).\n",
      "WARNING:tensorflow:Model was constructed with shape (None, 270, 3) for input Tensor(\"input_188:0\", shape=(None, 270, 3), dtype=float32), but it was called on an input with incompatible shape (None, 240, 3).\n",
      "5/5 [==============================] - 0s 77ms/step - loss: 1.0534 - sparse_categorical_accuracy: 0.8182\n",
      "Epoch 2/10\n",
      "5/5 [==============================] - 0s 72ms/step - loss: 1.0377 - sparse_categorical_accuracy: 0.8485\n",
      "Epoch 3/10\n",
      "5/5 [==============================] - 0s 75ms/step - loss: 1.3780 - sparse_categorical_accuracy: 0.7576\n",
      "Epoch 4/10\n",
      "5/5 [==============================] - 0s 76ms/step - loss: 1.1947 - sparse_categorical_accuracy: 0.7879\n",
      "Epoch 5/10\n",
      "5/5 [==============================] - 0s 75ms/step - loss: 1.0507 - sparse_categorical_accuracy: 0.8485\n",
      "Epoch 6/10\n",
      "5/5 [==============================] - 0s 72ms/step - loss: 0.9129 - sparse_categorical_accuracy: 0.7576\n",
      "Epoch 7/10\n",
      "5/5 [==============================] - 0s 78ms/step - loss: 0.7774 - sparse_categorical_accuracy: 0.9091\n",
      "Epoch 8/10\n",
      "5/5 [==============================] - 0s 73ms/step - loss: 0.7503 - sparse_categorical_accuracy: 0.8788\n",
      "Epoch 9/10\n",
      "5/5 [==============================] - 0s 75ms/step - loss: 0.6522 - sparse_categorical_accuracy: 0.9394\n",
      "Epoch 10/10\n",
      "5/5 [==============================] - 0s 72ms/step - loss: 0.8106 - sparse_categorical_accuracy: 0.8788\n",
      "WARNING:tensorflow:Model was constructed with shape (None, 270, 3) for input Tensor(\"input_188:0\", shape=(None, 270, 3), dtype=float32), but it was called on an input with incompatible shape (None, 240, 3).\n"
     ]
    },
    {
     "name": "stderr",
     "output_type": "stream",
     "text": [
      "\r",
      "30it [05:30, 11.03s/it]"
     ]
    },
    {
     "name": "stdout",
     "output_type": "stream",
     "text": [
      "Epoch 1/10\n",
      "WARNING:tensorflow:Model was constructed with shape (None, 270, 3) for input Tensor(\"input_189:0\", shape=(None, 270, 3), dtype=float32), but it was called on an input with incompatible shape (None, 240, 3).\n",
      "WARNING:tensorflow:Model was constructed with shape (None, 270, 3) for input Tensor(\"input_189:0\", shape=(None, 270, 3), dtype=float32), but it was called on an input with incompatible shape (None, 240, 3).\n",
      "5/5 [==============================] - 0s 72ms/step - loss: 1.2258 - sparse_categorical_accuracy: 0.6667\n",
      "Epoch 2/10\n",
      "5/5 [==============================] - 0s 69ms/step - loss: 0.9837 - sparse_categorical_accuracy: 0.8788\n",
      "Epoch 3/10\n",
      "5/5 [==============================] - 0s 74ms/step - loss: 1.1432 - sparse_categorical_accuracy: 0.9091\n",
      "Epoch 4/10\n",
      "5/5 [==============================] - 0s 73ms/step - loss: 1.0099 - sparse_categorical_accuracy: 0.8788\n",
      "Epoch 5/10\n",
      "5/5 [==============================] - 0s 75ms/step - loss: 1.0443 - sparse_categorical_accuracy: 0.7879\n",
      "Epoch 6/10\n",
      "5/5 [==============================] - 0s 72ms/step - loss: 0.8732 - sparse_categorical_accuracy: 0.8788\n",
      "Epoch 7/10\n",
      "5/5 [==============================] - 0s 75ms/step - loss: 0.8842 - sparse_categorical_accuracy: 0.8788\n",
      "Epoch 8/10\n",
      "5/5 [==============================] - 0s 77ms/step - loss: 0.8878 - sparse_categorical_accuracy: 0.7273\n",
      "Epoch 9/10\n",
      "5/5 [==============================] - 0s 75ms/step - loss: 0.8181 - sparse_categorical_accuracy: 0.7879\n",
      "Epoch 10/10\n",
      "5/5 [==============================] - 0s 71ms/step - loss: 0.7614 - sparse_categorical_accuracy: 0.7879\n",
      "WARNING:tensorflow:Model was constructed with shape (None, 270, 3) for input Tensor(\"input_189:0\", shape=(None, 270, 3), dtype=float32), but it was called on an input with incompatible shape (None, 240, 3).\n"
     ]
    },
    {
     "name": "stderr",
     "output_type": "stream",
     "text": [
      "\r",
      "31it [05:41, 11.01s/it]"
     ]
    },
    {
     "name": "stdout",
     "output_type": "stream",
     "text": [
      "Epoch 1/10\n",
      "WARNING:tensorflow:Model was constructed with shape (None, 270, 3) for input Tensor(\"input_190:0\", shape=(None, 270, 3), dtype=float32), but it was called on an input with incompatible shape (None, 240, 3).\n",
      "WARNING:tensorflow:Model was constructed with shape (None, 270, 3) for input Tensor(\"input_190:0\", shape=(None, 270, 3), dtype=float32), but it was called on an input with incompatible shape (None, 240, 3).\n",
      "5/5 [==============================] - 0s 76ms/step - loss: 1.7824 - sparse_categorical_accuracy: 0.4545\n",
      "Epoch 2/10\n",
      "5/5 [==============================] - 0s 76ms/step - loss: 1.6697 - sparse_categorical_accuracy: 0.6364\n",
      "Epoch 3/10\n",
      "5/5 [==============================] - 0s 78ms/step - loss: 1.5355 - sparse_categorical_accuracy: 0.7879\n",
      "Epoch 4/10\n",
      "5/5 [==============================] - 0s 70ms/step - loss: 1.6849 - sparse_categorical_accuracy: 0.7879\n",
      "Epoch 5/10\n",
      "5/5 [==============================] - 0s 79ms/step - loss: 1.1193 - sparse_categorical_accuracy: 0.8485\n",
      "Epoch 6/10\n",
      "5/5 [==============================] - 0s 75ms/step - loss: 1.0207 - sparse_categorical_accuracy: 0.7576\n",
      "Epoch 7/10\n",
      "5/5 [==============================] - 0s 75ms/step - loss: 0.9611 - sparse_categorical_accuracy: 0.8182\n",
      "Epoch 8/10\n",
      "5/5 [==============================] - 0s 82ms/step - loss: 0.9002 - sparse_categorical_accuracy: 0.8182\n",
      "Epoch 9/10\n",
      "5/5 [==============================] - 0s 78ms/step - loss: 0.9900 - sparse_categorical_accuracy: 0.7576\n",
      "Epoch 10/10\n",
      "5/5 [==============================] - 0s 75ms/step - loss: 0.9184 - sparse_categorical_accuracy: 0.7879\n",
      "WARNING:tensorflow:Model was constructed with shape (None, 270, 3) for input Tensor(\"input_190:0\", shape=(None, 270, 3), dtype=float32), but it was called on an input with incompatible shape (None, 240, 3).\n"
     ]
    },
    {
     "name": "stderr",
     "output_type": "stream",
     "text": [
      "\r",
      "32it [05:52, 10.99s/it]"
     ]
    },
    {
     "name": "stdout",
     "output_type": "stream",
     "text": [
      "Epoch 1/10\n",
      "WARNING:tensorflow:Model was constructed with shape (None, 270, 3) for input Tensor(\"input_191:0\", shape=(None, 270, 3), dtype=float32), but it was called on an input with incompatible shape (None, 240, 3).\n",
      "WARNING:tensorflow:Model was constructed with shape (None, 270, 3) for input Tensor(\"input_191:0\", shape=(None, 270, 3), dtype=float32), but it was called on an input with incompatible shape (None, 240, 3).\n",
      "5/5 [==============================] - 0s 75ms/step - loss: 1.0909 - sparse_categorical_accuracy: 0.6970\n",
      "Epoch 2/10\n",
      "5/5 [==============================] - 0s 72ms/step - loss: 1.2669 - sparse_categorical_accuracy: 0.6970\n",
      "Epoch 3/10\n",
      "5/5 [==============================] - 0s 72ms/step - loss: 1.2724 - sparse_categorical_accuracy: 0.7576\n",
      "Epoch 4/10\n",
      "5/5 [==============================] - 0s 75ms/step - loss: 1.1557 - sparse_categorical_accuracy: 0.8485\n",
      "Epoch 5/10\n",
      "5/5 [==============================] - 0s 75ms/step - loss: 0.9144 - sparse_categorical_accuracy: 0.9091\n",
      "Epoch 6/10\n",
      "5/5 [==============================] - 0s 76ms/step - loss: 0.9150 - sparse_categorical_accuracy: 0.8485\n",
      "Epoch 7/10\n",
      "5/5 [==============================] - 0s 74ms/step - loss: 0.7518 - sparse_categorical_accuracy: 0.9091\n",
      "Epoch 8/10\n",
      "5/5 [==============================] - 0s 72ms/step - loss: 0.6362 - sparse_categorical_accuracy: 0.9091\n",
      "Epoch 9/10\n",
      "5/5 [==============================] - 0s 75ms/step - loss: 0.8564 - sparse_categorical_accuracy: 0.8485\n",
      "Epoch 10/10\n",
      "5/5 [==============================] - 0s 76ms/step - loss: 0.9318 - sparse_categorical_accuracy: 0.8182\n",
      "WARNING:tensorflow:Model was constructed with shape (None, 270, 3) for input Tensor(\"input_191:0\", shape=(None, 270, 3), dtype=float32), but it was called on an input with incompatible shape (None, 240, 3).\n"
     ]
    },
    {
     "name": "stderr",
     "output_type": "stream",
     "text": [
      "\r",
      "33it [06:03, 10.97s/it]"
     ]
    },
    {
     "name": "stdout",
     "output_type": "stream",
     "text": [
      "Epoch 1/10\n",
      "WARNING:tensorflow:Model was constructed with shape (None, 270, 3) for input Tensor(\"input_192:0\", shape=(None, 270, 3), dtype=float32), but it was called on an input with incompatible shape (None, 240, 3).\n",
      "WARNING:tensorflow:Model was constructed with shape (None, 270, 3) for input Tensor(\"input_192:0\", shape=(None, 270, 3), dtype=float32), but it was called on an input with incompatible shape (None, 240, 3).\n",
      "5/5 [==============================] - 0s 78ms/step - loss: 1.0429 - sparse_categorical_accuracy: 0.7273\n",
      "Epoch 2/10\n",
      "5/5 [==============================] - 0s 82ms/step - loss: 1.0140 - sparse_categorical_accuracy: 0.8182\n",
      "Epoch 3/10\n",
      "5/5 [==============================] - 0s 82ms/step - loss: 1.0063 - sparse_categorical_accuracy: 0.8485\n",
      "Epoch 4/10\n",
      "5/5 [==============================] - 0s 79ms/step - loss: 0.9318 - sparse_categorical_accuracy: 0.8485\n",
      "Epoch 5/10\n",
      "5/5 [==============================] - 0s 78ms/step - loss: 1.0033 - sparse_categorical_accuracy: 0.7879\n",
      "Epoch 6/10\n",
      "5/5 [==============================] - 0s 82ms/step - loss: 0.6688 - sparse_categorical_accuracy: 0.9091\n",
      "Epoch 7/10\n",
      "5/5 [==============================] - 0s 82ms/step - loss: 0.8781 - sparse_categorical_accuracy: 0.8788\n",
      "Epoch 8/10\n",
      "5/5 [==============================] - 0s 76ms/step - loss: 1.1171 - sparse_categorical_accuracy: 0.7576\n",
      "Epoch 9/10\n",
      "5/5 [==============================] - 0s 82ms/step - loss: 0.8430 - sparse_categorical_accuracy: 0.9091\n",
      "Epoch 10/10\n",
      "5/5 [==============================] - 0s 76ms/step - loss: 0.7973 - sparse_categorical_accuracy: 0.9091\n",
      "WARNING:tensorflow:Model was constructed with shape (None, 270, 3) for input Tensor(\"input_192:0\", shape=(None, 270, 3), dtype=float32), but it was called on an input with incompatible shape (None, 240, 3).\n"
     ]
    },
    {
     "name": "stderr",
     "output_type": "stream",
     "text": [
      "34it [06:16, 11.07s/it]\n",
      "0it [00:00, ?it/s]"
     ]
    },
    {
     "name": "stdout",
     "output_type": "stream",
     "text": [
      "Epoch 1/10\n",
      "4/4 [==============================] - 0s 91ms/step - loss: 1.3860 - sparse_categorical_accuracy: 0.6207\n",
      "Epoch 2/10\n",
      "4/4 [==============================] - 0s 98ms/step - loss: 1.1982 - sparse_categorical_accuracy: 0.7241\n",
      "Epoch 3/10\n",
      "4/4 [==============================] - 0s 94ms/step - loss: 1.3324 - sparse_categorical_accuracy: 0.8276\n",
      "Epoch 4/10\n",
      "4/4 [==============================] - 0s 98ms/step - loss: 1.2520 - sparse_categorical_accuracy: 0.7931\n",
      "Epoch 5/10\n",
      "4/4 [==============================] - 0s 94ms/step - loss: 1.1629 - sparse_categorical_accuracy: 0.7241\n",
      "Epoch 6/10\n",
      "4/4 [==============================] - 0s 99ms/step - loss: 1.1465 - sparse_categorical_accuracy: 0.8276\n",
      "Epoch 7/10\n",
      "4/4 [==============================] - 0s 98ms/step - loss: 1.0123 - sparse_categorical_accuracy: 0.8966\n",
      "Epoch 8/10\n",
      "4/4 [==============================] - 0s 94ms/step - loss: 0.8109 - sparse_categorical_accuracy: 0.8966\n",
      "Epoch 9/10\n",
      "4/4 [==============================] - 0s 94ms/step - loss: 1.0004 - sparse_categorical_accuracy: 0.8621\n",
      "Epoch 10/10\n",
      "4/4 [==============================] - 0s 94ms/step - loss: 0.9200 - sparse_categorical_accuracy: 0.8621\n"
     ]
    },
    {
     "name": "stderr",
     "output_type": "stream",
     "text": [
      "\r",
      "1it [00:11, 11.21s/it]"
     ]
    },
    {
     "name": "stdout",
     "output_type": "stream",
     "text": [
      "Epoch 1/10\n",
      "4/4 [==============================] - 0s 108ms/step - loss: 1.5683 - sparse_categorical_accuracy: 0.4483\n",
      "Epoch 2/10\n",
      "4/4 [==============================] - 0s 93ms/step - loss: 1.3530 - sparse_categorical_accuracy: 0.7241\n",
      "Epoch 3/10\n",
      "4/4 [==============================] - 0s 94ms/step - loss: 1.3646 - sparse_categorical_accuracy: 0.7931\n",
      "Epoch 4/10\n",
      "4/4 [==============================] - 0s 91ms/step - loss: 1.6230 - sparse_categorical_accuracy: 0.6897\n",
      "Epoch 5/10\n",
      "4/4 [==============================] - 0s 98ms/step - loss: 1.1367 - sparse_categorical_accuracy: 0.8621\n",
      "Epoch 6/10\n",
      "4/4 [==============================] - 0s 94ms/step - loss: 0.9204 - sparse_categorical_accuracy: 0.9310\n",
      "Epoch 7/10\n",
      "4/4 [==============================] - 0s 100ms/step - loss: 1.0682 - sparse_categorical_accuracy: 0.7931\n",
      "Epoch 8/10\n",
      "4/4 [==============================] - 0s 94ms/step - loss: 0.7943 - sparse_categorical_accuracy: 0.8621\n",
      "Epoch 9/10\n",
      "4/4 [==============================] - 0s 98ms/step - loss: 0.9065 - sparse_categorical_accuracy: 0.8276\n",
      "Epoch 10/10\n",
      "4/4 [==============================] - 0s 94ms/step - loss: 0.8200 - sparse_categorical_accuracy: 0.7931\n"
     ]
    },
    {
     "name": "stderr",
     "output_type": "stream",
     "text": [
      "\r",
      "2it [00:22, 11.27s/it]"
     ]
    },
    {
     "name": "stdout",
     "output_type": "stream",
     "text": [
      "Epoch 1/10\n",
      "4/4 [==============================] - 0s 93ms/step - loss: 0.8558 - sparse_categorical_accuracy: 0.8276\n",
      "Epoch 2/10\n",
      "4/4 [==============================] - 0s 86ms/step - loss: 1.2107 - sparse_categorical_accuracy: 0.7931\n",
      "Epoch 3/10\n",
      "4/4 [==============================] - 0s 94ms/step - loss: 1.1351 - sparse_categorical_accuracy: 0.7931\n",
      "Epoch 4/10\n",
      "4/4 [==============================] - 0s 93ms/step - loss: 1.2447 - sparse_categorical_accuracy: 0.7241\n",
      "Epoch 5/10\n",
      "4/4 [==============================] - 0s 94ms/step - loss: 1.1351 - sparse_categorical_accuracy: 0.7931\n",
      "Epoch 6/10\n",
      "4/4 [==============================] - 0s 92ms/step - loss: 1.3259 - sparse_categorical_accuracy: 0.6897\n",
      "Epoch 7/10\n",
      "4/4 [==============================] - 0s 94ms/step - loss: 0.9981 - sparse_categorical_accuracy: 0.8621\n",
      "Epoch 8/10\n",
      "4/4 [==============================] - 0s 99ms/step - loss: 0.8414 - sparse_categorical_accuracy: 0.9310\n",
      "Epoch 9/10\n",
      "4/4 [==============================] - 0s 94ms/step - loss: 1.2358 - sparse_categorical_accuracy: 0.7586\n",
      "Epoch 10/10\n",
      "4/4 [==============================] - 0s 98ms/step - loss: 0.7617 - sparse_categorical_accuracy: 0.8621\n"
     ]
    },
    {
     "name": "stderr",
     "output_type": "stream",
     "text": [
      "\r",
      "3it [00:33, 11.28s/it]"
     ]
    },
    {
     "name": "stdout",
     "output_type": "stream",
     "text": [
      "Epoch 1/10\n",
      "4/4 [==============================] - 0s 91ms/step - loss: 1.2843 - sparse_categorical_accuracy: 0.5172\n",
      "Epoch 2/10\n",
      "4/4 [==============================] - 0s 98ms/step - loss: 1.1887 - sparse_categorical_accuracy: 0.8276\n",
      "Epoch 3/10\n",
      "4/4 [==============================] - 0s 88ms/step - loss: 1.2398 - sparse_categorical_accuracy: 0.7931\n",
      "Epoch 4/10\n",
      "4/4 [==============================] - 0s 94ms/step - loss: 1.4262 - sparse_categorical_accuracy: 0.7586\n",
      "Epoch 5/10\n",
      "4/4 [==============================] - 0s 93ms/step - loss: 1.2415 - sparse_categorical_accuracy: 0.7241\n",
      "Epoch 6/10\n",
      "4/4 [==============================] - 0s 90ms/step - loss: 1.1053 - sparse_categorical_accuracy: 0.8621\n",
      "Epoch 7/10\n",
      "4/4 [==============================] - 0s 88ms/step - loss: 0.9357 - sparse_categorical_accuracy: 0.8966\n",
      "Epoch 8/10\n",
      "4/4 [==============================] - 0s 98ms/step - loss: 0.9478 - sparse_categorical_accuracy: 0.8276\n",
      "Epoch 9/10\n",
      "4/4 [==============================] - 0s 94ms/step - loss: 0.9251 - sparse_categorical_accuracy: 0.8621\n",
      "Epoch 10/10\n",
      "4/4 [==============================] - 0s 92ms/step - loss: 0.9707 - sparse_categorical_accuracy: 0.8276\n"
     ]
    },
    {
     "name": "stderr",
     "output_type": "stream",
     "text": [
      "\r",
      "4it [00:45, 11.26s/it]"
     ]
    },
    {
     "name": "stdout",
     "output_type": "stream",
     "text": [
      "Epoch 1/10\n",
      "4/4 [==============================] - 0s 97ms/step - loss: 1.3548 - sparse_categorical_accuracy: 0.6552\n",
      "Epoch 2/10\n",
      "4/4 [==============================] - 0s 103ms/step - loss: 1.0707 - sparse_categorical_accuracy: 0.7931\n",
      "Epoch 3/10\n",
      "4/4 [==============================] - 0s 94ms/step - loss: 1.4300 - sparse_categorical_accuracy: 0.6897\n",
      "Epoch 4/10\n",
      "4/4 [==============================] - 0s 103ms/step - loss: 1.3909 - sparse_categorical_accuracy: 0.7241\n",
      "Epoch 5/10\n",
      "4/4 [==============================] - 0s 95ms/step - loss: 1.0153 - sparse_categorical_accuracy: 0.8966\n",
      "Epoch 6/10\n",
      "4/4 [==============================] - 0s 104ms/step - loss: 0.9922 - sparse_categorical_accuracy: 0.8621\n",
      "Epoch 7/10\n",
      "4/4 [==============================] - 0s 98ms/step - loss: 0.8953 - sparse_categorical_accuracy: 0.8966\n",
      "Epoch 8/10\n",
      "4/4 [==============================] - 0s 98ms/step - loss: 1.1285 - sparse_categorical_accuracy: 0.7586\n",
      "Epoch 9/10\n",
      "4/4 [==============================] - 0s 103ms/step - loss: 1.3105 - sparse_categorical_accuracy: 0.7931\n",
      "Epoch 10/10\n",
      "4/4 [==============================] - 0s 95ms/step - loss: 1.0032 - sparse_categorical_accuracy: 0.7931\n"
     ]
    },
    {
     "name": "stderr",
     "output_type": "stream",
     "text": [
      "\r",
      "5it [00:57, 11.51s/it]"
     ]
    },
    {
     "name": "stdout",
     "output_type": "stream",
     "text": [
      "Epoch 1/10\n",
      "4/4 [==============================] - 0s 94ms/step - loss: 1.3805 - sparse_categorical_accuracy: 0.5862\n",
      "Epoch 2/10\n",
      "4/4 [==============================] - 0s 102ms/step - loss: 1.1226 - sparse_categorical_accuracy: 0.8621\n",
      "Epoch 3/10\n",
      "4/4 [==============================] - 0s 94ms/step - loss: 1.2089 - sparse_categorical_accuracy: 0.7931\n",
      "Epoch 4/10\n",
      "4/4 [==============================] - 0s 104ms/step - loss: 1.3924 - sparse_categorical_accuracy: 0.8621\n",
      "Epoch 5/10\n",
      "4/4 [==============================] - 0s 98ms/step - loss: 1.4804 - sparse_categorical_accuracy: 0.7931\n",
      "Epoch 6/10\n",
      "4/4 [==============================] - 0s 102ms/step - loss: 1.0794 - sparse_categorical_accuracy: 0.8966\n",
      "Epoch 7/10\n",
      "4/4 [==============================] - 0s 97ms/step - loss: 1.1466 - sparse_categorical_accuracy: 0.8621\n",
      "Epoch 8/10\n",
      "4/4 [==============================] - 0s 100ms/step - loss: 0.9672 - sparse_categorical_accuracy: 0.8276\n",
      "Epoch 9/10\n",
      "4/4 [==============================] - 0s 96ms/step - loss: 1.2052 - sparse_categorical_accuracy: 0.7931\n",
      "Epoch 10/10\n",
      "4/4 [==============================] - 0s 105ms/step - loss: 1.1043 - sparse_categorical_accuracy: 0.7586\n"
     ]
    },
    {
     "name": "stderr",
     "output_type": "stream",
     "text": [
      "\r",
      "6it [01:08, 11.58s/it]"
     ]
    },
    {
     "name": "stdout",
     "output_type": "stream",
     "text": [
      "Epoch 1/10\n",
      "4/4 [==============================] - 0s 102ms/step - loss: 1.4517 - sparse_categorical_accuracy: 0.4138\n",
      "Epoch 2/10\n",
      "4/4 [==============================] - 0s 102ms/step - loss: 1.2678 - sparse_categorical_accuracy: 0.6897\n",
      "Epoch 3/10\n",
      "4/4 [==============================] - 0s 104ms/step - loss: 1.1637 - sparse_categorical_accuracy: 0.8621\n",
      "Epoch 4/10\n",
      "4/4 [==============================] - 0s 104ms/step - loss: 1.4671 - sparse_categorical_accuracy: 0.7241\n",
      "Epoch 5/10\n",
      "4/4 [==============================] - 0s 122ms/step - loss: 1.0720 - sparse_categorical_accuracy: 0.9310\n",
      "Epoch 6/10\n",
      "4/4 [==============================] - 0s 100ms/step - loss: 1.5173 - sparse_categorical_accuracy: 0.7586\n",
      "Epoch 7/10\n",
      "4/4 [==============================] - 0s 108ms/step - loss: 1.4423 - sparse_categorical_accuracy: 0.6207\n",
      "Epoch 8/10\n",
      "4/4 [==============================] - 0s 107ms/step - loss: 1.0972 - sparse_categorical_accuracy: 0.7931\n",
      "Epoch 9/10\n",
      "4/4 [==============================] - 0s 106ms/step - loss: 1.0470 - sparse_categorical_accuracy: 0.8621\n",
      "Epoch 10/10\n",
      "4/4 [==============================] - 0s 107ms/step - loss: 0.9896 - sparse_categorical_accuracy: 0.7931\n"
     ]
    },
    {
     "name": "stderr",
     "output_type": "stream",
     "text": [
      "\r",
      "7it [01:21, 11.88s/it]"
     ]
    },
    {
     "name": "stdout",
     "output_type": "stream",
     "text": [
      "Epoch 1/10\n",
      "4/4 [==============================] - 0s 106ms/step - loss: 1.4122 - sparse_categorical_accuracy: 0.4483\n",
      "Epoch 2/10\n",
      "4/4 [==============================] - 0s 103ms/step - loss: 1.4400 - sparse_categorical_accuracy: 0.6897\n",
      "Epoch 3/10\n",
      "4/4 [==============================] - 0s 98ms/step - loss: 1.3122 - sparse_categorical_accuracy: 0.7931\n",
      "Epoch 4/10\n",
      "4/4 [==============================] - 0s 107ms/step - loss: 1.3531 - sparse_categorical_accuracy: 0.7931\n",
      "Epoch 5/10\n",
      "4/4 [==============================] - 0s 112ms/step - loss: 1.4574 - sparse_categorical_accuracy: 0.7241\n",
      "Epoch 6/10\n",
      "4/4 [==============================] - 0s 104ms/step - loss: 1.4973 - sparse_categorical_accuracy: 0.7241\n",
      "Epoch 7/10\n",
      "4/4 [==============================] - 0s 107ms/step - loss: 1.5275 - sparse_categorical_accuracy: 0.7931\n",
      "Epoch 8/10\n",
      "4/4 [==============================] - 0s 103ms/step - loss: 0.9689 - sparse_categorical_accuracy: 0.8621\n",
      "Epoch 9/10\n",
      "4/4 [==============================] - 0s 103ms/step - loss: 1.1125 - sparse_categorical_accuracy: 0.7931\n",
      "Epoch 10/10\n",
      "4/4 [==============================] - 0s 94ms/step - loss: 0.9499 - sparse_categorical_accuracy: 0.8621\n"
     ]
    },
    {
     "name": "stderr",
     "output_type": "stream",
     "text": [
      "\r",
      "8it [01:33, 12.01s/it]"
     ]
    },
    {
     "name": "stdout",
     "output_type": "stream",
     "text": [
      "Epoch 1/10\n",
      "4/4 [==============================] - 0s 90ms/step - loss: 1.5614 - sparse_categorical_accuracy: 0.5517\n",
      "Epoch 2/10\n",
      "4/4 [==============================] - 0s 95ms/step - loss: 1.0704 - sparse_categorical_accuracy: 0.7586\n",
      "Epoch 3/10\n",
      "4/4 [==============================] - 0s 97ms/step - loss: 1.5844 - sparse_categorical_accuracy: 0.6552\n",
      "Epoch 4/10\n",
      "4/4 [==============================] - 0s 104ms/step - loss: 1.3168 - sparse_categorical_accuracy: 0.8276\n",
      "Epoch 5/10\n",
      "4/4 [==============================] - 0s 97ms/step - loss: 1.4291 - sparse_categorical_accuracy: 0.7241\n",
      "Epoch 6/10\n",
      "4/4 [==============================] - 0s 100ms/step - loss: 1.3842 - sparse_categorical_accuracy: 0.6552\n",
      "Epoch 7/10\n",
      "4/4 [==============================] - 0s 93ms/step - loss: 1.1899 - sparse_categorical_accuracy: 0.8276\n",
      "Epoch 8/10\n",
      "4/4 [==============================] - 0s 96ms/step - loss: 1.0152 - sparse_categorical_accuracy: 0.8966\n",
      "Epoch 9/10\n",
      "4/4 [==============================] - 0s 97ms/step - loss: 0.9589 - sparse_categorical_accuracy: 0.8621\n",
      "Epoch 10/10\n",
      "4/4 [==============================] - 0s 99ms/step - loss: 1.0117 - sparse_categorical_accuracy: 0.7931\n"
     ]
    },
    {
     "name": "stderr",
     "output_type": "stream",
     "text": [
      "\r",
      "9it [01:45, 12.02s/it]"
     ]
    },
    {
     "name": "stdout",
     "output_type": "stream",
     "text": [
      "Epoch 1/10\n",
      "4/4 [==============================] - 0s 102ms/step - loss: 0.9796 - sparse_categorical_accuracy: 0.8276\n",
      "Epoch 2/10\n",
      "4/4 [==============================] - 0s 89ms/step - loss: 1.2737 - sparse_categorical_accuracy: 0.8276\n",
      "Epoch 3/10\n",
      "4/4 [==============================] - 0s 99ms/step - loss: 1.2483 - sparse_categorical_accuracy: 0.8276\n",
      "Epoch 4/10\n",
      "4/4 [==============================] - 0s 94ms/step - loss: 1.3393 - sparse_categorical_accuracy: 0.7931\n",
      "Epoch 5/10\n",
      "4/4 [==============================] - 0s 95ms/step - loss: 1.1789 - sparse_categorical_accuracy: 0.6552\n",
      "Epoch 6/10\n",
      "4/4 [==============================] - 0s 97ms/step - loss: 1.0150 - sparse_categorical_accuracy: 0.8276\n",
      "Epoch 7/10\n",
      "4/4 [==============================] - 0s 94ms/step - loss: 1.1066 - sparse_categorical_accuracy: 0.7241\n",
      "Epoch 8/10\n",
      "4/4 [==============================] - 0s 94ms/step - loss: 0.8650 - sparse_categorical_accuracy: 0.8966\n",
      "Epoch 9/10\n",
      "4/4 [==============================] - 0s 89ms/step - loss: 0.7981 - sparse_categorical_accuracy: 0.7586\n",
      "Epoch 10/10\n",
      "4/4 [==============================] - 0s 86ms/step - loss: 0.8446 - sparse_categorical_accuracy: 0.8276\n"
     ]
    },
    {
     "name": "stderr",
     "output_type": "stream",
     "text": [
      "\r",
      "10it [01:58, 12.19s/it]"
     ]
    },
    {
     "name": "stdout",
     "output_type": "stream",
     "text": [
      "Epoch 1/10\n",
      "4/4 [==============================] - 0s 94ms/step - loss: 1.0205 - sparse_categorical_accuracy: 0.7241\n",
      "Epoch 2/10\n",
      "4/4 [==============================] - 0s 98ms/step - loss: 1.0419 - sparse_categorical_accuracy: 0.7586\n",
      "Epoch 3/10\n",
      "4/4 [==============================] - 0s 95ms/step - loss: 1.3226 - sparse_categorical_accuracy: 0.7586\n",
      "Epoch 4/10\n",
      "4/4 [==============================] - 0s 97ms/step - loss: 1.4293 - sparse_categorical_accuracy: 0.7931\n",
      "Epoch 5/10\n",
      "4/4 [==============================] - 0s 98ms/step - loss: 0.9631 - sparse_categorical_accuracy: 0.8966\n",
      "Epoch 6/10\n",
      "4/4 [==============================] - 0s 99ms/step - loss: 1.4248 - sparse_categorical_accuracy: 0.6897\n",
      "Epoch 7/10\n",
      "4/4 [==============================] - 0s 97ms/step - loss: 1.0776 - sparse_categorical_accuracy: 0.8276\n",
      "Epoch 8/10\n",
      "4/4 [==============================] - 0s 91ms/step - loss: 0.9466 - sparse_categorical_accuracy: 0.8276\n",
      "Epoch 9/10\n",
      "4/4 [==============================] - 0s 90ms/step - loss: 0.9346 - sparse_categorical_accuracy: 0.8276\n",
      "Epoch 10/10\n",
      "4/4 [==============================] - 0s 87ms/step - loss: 1.1819 - sparse_categorical_accuracy: 0.7931\n"
     ]
    },
    {
     "name": "stderr",
     "output_type": "stream",
     "text": [
      "\r",
      "11it [02:13, 13.02s/it]"
     ]
    },
    {
     "name": "stdout",
     "output_type": "stream",
     "text": [
      "Epoch 1/10\n",
      "4/4 [==============================] - 0s 87ms/step - loss: 1.5060 - sparse_categorical_accuracy: 0.5517\n",
      "Epoch 2/10\n",
      "4/4 [==============================] - 0s 88ms/step - loss: 1.1653 - sparse_categorical_accuracy: 0.6897\n",
      "Epoch 3/10\n",
      "4/4 [==============================] - 0s 88ms/step - loss: 1.1775 - sparse_categorical_accuracy: 0.7586\n",
      "Epoch 4/10\n",
      "4/4 [==============================] - 0s 83ms/step - loss: 1.2277 - sparse_categorical_accuracy: 0.7931\n",
      "Epoch 5/10\n",
      "4/4 [==============================] - 0s 88ms/step - loss: 1.1038 - sparse_categorical_accuracy: 0.8966\n",
      "Epoch 6/10\n",
      "4/4 [==============================] - 0s 88ms/step - loss: 0.8519 - sparse_categorical_accuracy: 0.9310\n",
      "Epoch 7/10\n",
      "4/4 [==============================] - 0s 86ms/step - loss: 0.9450 - sparse_categorical_accuracy: 0.7931\n",
      "Epoch 8/10\n",
      "4/4 [==============================] - 0s 81ms/step - loss: 0.8271 - sparse_categorical_accuracy: 0.8966\n",
      "Epoch 9/10\n",
      "4/4 [==============================] - 0s 86ms/step - loss: 0.7854 - sparse_categorical_accuracy: 0.8621\n",
      "Epoch 10/10\n",
      "4/4 [==============================] - 0s 82ms/step - loss: 0.6311 - sparse_categorical_accuracy: 0.9655\n"
     ]
    },
    {
     "name": "stderr",
     "output_type": "stream",
     "text": [
      "\r",
      "12it [02:30, 14.25s/it]"
     ]
    },
    {
     "name": "stdout",
     "output_type": "stream",
     "text": [
      "Epoch 1/10\n",
      "4/4 [==============================] - 0s 98ms/step - loss: 1.4801 - sparse_categorical_accuracy: 0.6207\n",
      "Epoch 2/10\n",
      "4/4 [==============================] - 0s 96ms/step - loss: 1.1560 - sparse_categorical_accuracy: 0.7931\n",
      "Epoch 3/10\n",
      "4/4 [==============================] - 0s 96ms/step - loss: 1.4062 - sparse_categorical_accuracy: 0.7241\n",
      "Epoch 4/10\n",
      "4/4 [==============================] - 0s 98ms/step - loss: 1.2043 - sparse_categorical_accuracy: 0.8276\n",
      "Epoch 5/10\n",
      "4/4 [==============================] - 0s 98ms/step - loss: 1.4425 - sparse_categorical_accuracy: 0.8276\n",
      "Epoch 6/10\n",
      "4/4 [==============================] - 0s 104ms/step - loss: 1.0622 - sparse_categorical_accuracy: 0.7931\n",
      "Epoch 7/10\n",
      "4/4 [==============================] - 0s 99ms/step - loss: 1.0280 - sparse_categorical_accuracy: 0.7586\n",
      "Epoch 8/10\n",
      "4/4 [==============================] - 0s 94ms/step - loss: 1.1114 - sparse_categorical_accuracy: 0.7931\n",
      "Epoch 9/10\n",
      "4/4 [==============================] - 0s 93ms/step - loss: 0.7944 - sparse_categorical_accuracy: 0.8621\n",
      "Epoch 10/10\n",
      "4/4 [==============================] - 0s 100ms/step - loss: 1.3146 - sparse_categorical_accuracy: 0.6897\n"
     ]
    },
    {
     "name": "stderr",
     "output_type": "stream",
     "text": [
      "\r",
      "13it [02:42, 13.47s/it]"
     ]
    },
    {
     "name": "stdout",
     "output_type": "stream",
     "text": [
      "Epoch 1/10\n",
      "4/4 [==============================] - 0s 95ms/step - loss: 1.6517 - sparse_categorical_accuracy: 0.3103\n",
      "Epoch 2/10\n",
      "4/4 [==============================] - 0s 97ms/step - loss: 1.1044 - sparse_categorical_accuracy: 0.8276\n",
      "Epoch 3/10\n",
      "4/4 [==============================] - 0s 103ms/step - loss: 1.1325 - sparse_categorical_accuracy: 0.8621\n",
      "Epoch 4/10\n",
      "4/4 [==============================] - 0s 102ms/step - loss: 1.3178 - sparse_categorical_accuracy: 0.7931\n",
      "Epoch 5/10\n",
      "4/4 [==============================] - 0s 99ms/step - loss: 1.4200 - sparse_categorical_accuracy: 0.7586\n",
      "Epoch 6/10\n",
      "4/4 [==============================] - 0s 89ms/step - loss: 0.9897 - sparse_categorical_accuracy: 0.8966\n",
      "Epoch 7/10\n",
      "4/4 [==============================] - 0s 93ms/step - loss: 0.8588 - sparse_categorical_accuracy: 0.9310\n",
      "Epoch 8/10\n",
      "4/4 [==============================] - 0s 98ms/step - loss: 0.9927 - sparse_categorical_accuracy: 0.8621\n",
      "Epoch 9/10\n",
      "4/4 [==============================] - 0s 98ms/step - loss: 0.7948 - sparse_categorical_accuracy: 0.8276\n",
      "Epoch 10/10\n",
      "4/4 [==============================] - 0s 94ms/step - loss: 0.8099 - sparse_categorical_accuracy: 0.8276\n"
     ]
    },
    {
     "name": "stderr",
     "output_type": "stream",
     "text": [
      "\r",
      "14it [02:53, 12.91s/it]"
     ]
    },
    {
     "name": "stdout",
     "output_type": "stream",
     "text": [
      "Epoch 1/10\n",
      "4/4 [==============================] - 0s 92ms/step - loss: 1.1755 - sparse_categorical_accuracy: 0.6552\n",
      "Epoch 2/10\n",
      "4/4 [==============================] - 0s 93ms/step - loss: 0.9497 - sparse_categorical_accuracy: 0.9310\n",
      "Epoch 3/10\n",
      "4/4 [==============================] - 0s 96ms/step - loss: 1.2499 - sparse_categorical_accuracy: 0.8621\n",
      "Epoch 4/10\n",
      "4/4 [==============================] - 0s 95ms/step - loss: 1.3027 - sparse_categorical_accuracy: 0.6897\n",
      "Epoch 5/10\n",
      "4/4 [==============================] - 0s 97ms/step - loss: 1.2981 - sparse_categorical_accuracy: 0.7241\n",
      "Epoch 6/10\n",
      "4/4 [==============================] - 0s 95ms/step - loss: 0.8969 - sparse_categorical_accuracy: 0.8966\n",
      "Epoch 7/10\n",
      "4/4 [==============================] - 0s 93ms/step - loss: 0.9700 - sparse_categorical_accuracy: 0.8276\n",
      "Epoch 8/10\n",
      "4/4 [==============================] - 0s 94ms/step - loss: 0.9024 - sparse_categorical_accuracy: 0.8276\n",
      "Epoch 9/10\n",
      "4/4 [==============================] - 0s 94ms/step - loss: 0.6500 - sparse_categorical_accuracy: 0.9310\n",
      "Epoch 10/10\n",
      "4/4 [==============================] - 0s 95ms/step - loss: 0.7749 - sparse_categorical_accuracy: 0.7931\n"
     ]
    },
    {
     "name": "stderr",
     "output_type": "stream",
     "text": [
      "\r",
      "15it [03:05, 12.53s/it]"
     ]
    },
    {
     "name": "stdout",
     "output_type": "stream",
     "text": [
      "Epoch 1/10\n",
      "4/4 [==============================] - 0s 94ms/step - loss: 1.4077 - sparse_categorical_accuracy: 0.6207\n",
      "Epoch 2/10\n",
      "4/4 [==============================] - 0s 92ms/step - loss: 1.1377 - sparse_categorical_accuracy: 0.7241\n",
      "Epoch 3/10\n",
      "4/4 [==============================] - 0s 98ms/step - loss: 1.3671 - sparse_categorical_accuracy: 0.6897\n",
      "Epoch 4/10\n",
      "4/4 [==============================] - 0s 98ms/step - loss: 1.5974 - sparse_categorical_accuracy: 0.6897\n",
      "Epoch 5/10\n",
      "4/4 [==============================] - 0s 101ms/step - loss: 1.1531 - sparse_categorical_accuracy: 0.7241\n",
      "Epoch 6/10\n",
      "4/4 [==============================] - 0s 98ms/step - loss: 0.9701 - sparse_categorical_accuracy: 0.8621\n",
      "Epoch 7/10\n",
      "4/4 [==============================] - 0s 94ms/step - loss: 0.8734 - sparse_categorical_accuracy: 0.9310\n",
      "Epoch 8/10\n",
      "4/4 [==============================] - 0s 102ms/step - loss: 0.9462 - sparse_categorical_accuracy: 0.7931\n",
      "Epoch 9/10\n",
      "4/4 [==============================] - 0s 93ms/step - loss: 0.9897 - sparse_categorical_accuracy: 0.7931\n",
      "Epoch 10/10\n",
      "4/4 [==============================] - 0s 100ms/step - loss: 0.8441 - sparse_categorical_accuracy: 0.7586\n"
     ]
    },
    {
     "name": "stderr",
     "output_type": "stream",
     "text": [
      "\r",
      "16it [03:17, 12.27s/it]"
     ]
    },
    {
     "name": "stdout",
     "output_type": "stream",
     "text": [
      "Epoch 1/10\n",
      "4/4 [==============================] - 0s 94ms/step - loss: 1.3272 - sparse_categorical_accuracy: 0.6552\n",
      "Epoch 2/10\n",
      "4/4 [==============================] - 0s 95ms/step - loss: 1.1570 - sparse_categorical_accuracy: 0.7586\n",
      "Epoch 3/10\n",
      "4/4 [==============================] - 0s 99ms/step - loss: 1.3267 - sparse_categorical_accuracy: 0.6897\n",
      "Epoch 4/10\n",
      "4/4 [==============================] - 0s 94ms/step - loss: 1.1922 - sparse_categorical_accuracy: 0.7586\n",
      "Epoch 5/10\n",
      "4/4 [==============================] - 0s 96ms/step - loss: 1.2396 - sparse_categorical_accuracy: 0.7586\n",
      "Epoch 6/10\n",
      "4/4 [==============================] - 0s 94ms/step - loss: 0.9685 - sparse_categorical_accuracy: 0.8276\n",
      "Epoch 7/10\n",
      "4/4 [==============================] - 0s 100ms/step - loss: 0.9330 - sparse_categorical_accuracy: 0.8621\n",
      "Epoch 8/10\n",
      "4/4 [==============================] - 0s 95ms/step - loss: 0.8034 - sparse_categorical_accuracy: 0.8966\n",
      "Epoch 9/10\n",
      "4/4 [==============================] - 0s 94ms/step - loss: 0.8216 - sparse_categorical_accuracy: 0.8621\n",
      "Epoch 10/10\n",
      "4/4 [==============================] - 0s 94ms/step - loss: 0.7872 - sparse_categorical_accuracy: 0.7931\n"
     ]
    },
    {
     "name": "stderr",
     "output_type": "stream",
     "text": [
      "\r",
      "17it [03:28, 12.05s/it]"
     ]
    },
    {
     "name": "stdout",
     "output_type": "stream",
     "text": [
      "Epoch 1/10\n",
      "4/4 [==============================] - 0s 87ms/step - loss: 1.1726 - sparse_categorical_accuracy: 0.7241\n",
      "Epoch 2/10\n",
      "4/4 [==============================] - 0s 90ms/step - loss: 1.0836 - sparse_categorical_accuracy: 0.8966\n",
      "Epoch 3/10\n",
      "4/4 [==============================] - 0s 94ms/step - loss: 1.3248 - sparse_categorical_accuracy: 0.7931\n",
      "Epoch 4/10\n",
      "4/4 [==============================] - 0s 96ms/step - loss: 1.2599 - sparse_categorical_accuracy: 0.8276\n",
      "Epoch 5/10\n",
      "4/4 [==============================] - 0s 90ms/step - loss: 1.0098 - sparse_categorical_accuracy: 0.8966\n",
      "Epoch 6/10\n",
      "4/4 [==============================] - 0s 94ms/step - loss: 1.0438 - sparse_categorical_accuracy: 0.7931\n",
      "Epoch 7/10\n",
      "4/4 [==============================] - 0s 86ms/step - loss: 1.7210 - sparse_categorical_accuracy: 0.6207\n",
      "Epoch 8/10\n",
      "4/4 [==============================] - 0s 94ms/step - loss: 0.7920 - sparse_categorical_accuracy: 0.9310\n",
      "Epoch 9/10\n",
      "4/4 [==============================] - 0s 90ms/step - loss: 0.9080 - sparse_categorical_accuracy: 0.8966\n",
      "Epoch 10/10\n",
      "4/4 [==============================] - 0s 100ms/step - loss: 1.1092 - sparse_categorical_accuracy: 0.7241\n"
     ]
    },
    {
     "name": "stderr",
     "output_type": "stream",
     "text": [
      "\r",
      "18it [03:40, 11.86s/it]"
     ]
    },
    {
     "name": "stdout",
     "output_type": "stream",
     "text": [
      "Epoch 1/10\n",
      "4/4 [==============================] - 0s 94ms/step - loss: 1.2623 - sparse_categorical_accuracy: 0.7931\n",
      "Epoch 2/10\n",
      "4/4 [==============================] - 0s 95ms/step - loss: 1.2529 - sparse_categorical_accuracy: 0.7241\n",
      "Epoch 3/10\n",
      "4/4 [==============================] - 0s 98ms/step - loss: 1.2632 - sparse_categorical_accuracy: 0.7931\n",
      "Epoch 4/10\n",
      "4/4 [==============================] - 0s 99ms/step - loss: 1.2658 - sparse_categorical_accuracy: 0.8621\n",
      "Epoch 5/10\n",
      "4/4 [==============================] - 0s 94ms/step - loss: 1.4094 - sparse_categorical_accuracy: 0.8276\n",
      "Epoch 6/10\n",
      "4/4 [==============================] - 0s 94ms/step - loss: 0.9537 - sparse_categorical_accuracy: 0.8276\n",
      "Epoch 7/10\n",
      "4/4 [==============================] - 0s 94ms/step - loss: 1.2134 - sparse_categorical_accuracy: 0.7586\n",
      "Epoch 8/10\n",
      "4/4 [==============================] - 0s 91ms/step - loss: 1.1342 - sparse_categorical_accuracy: 0.7931\n",
      "Epoch 9/10\n",
      "4/4 [==============================] - 0s 109ms/step - loss: 0.7833 - sparse_categorical_accuracy: 0.8966\n",
      "Epoch 10/10\n",
      "4/4 [==============================] - 0s 92ms/step - loss: 1.0815 - sparse_categorical_accuracy: 0.7931\n"
     ]
    },
    {
     "name": "stderr",
     "output_type": "stream",
     "text": [
      "\r",
      "19it [03:51, 11.74s/it]"
     ]
    },
    {
     "name": "stdout",
     "output_type": "stream",
     "text": [
      "Epoch 1/10\n",
      "4/4 [==============================] - 0s 94ms/step - loss: 1.6558 - sparse_categorical_accuracy: 0.4138\n",
      "Epoch 2/10\n",
      "4/4 [==============================] - 0s 91ms/step - loss: 1.2392 - sparse_categorical_accuracy: 0.6897\n",
      "Epoch 3/10\n",
      "4/4 [==============================] - 0s 95ms/step - loss: 1.3148 - sparse_categorical_accuracy: 0.8621\n",
      "Epoch 4/10\n",
      "4/4 [==============================] - 0s 87ms/step - loss: 1.3551 - sparse_categorical_accuracy: 0.7931\n",
      "Epoch 5/10\n",
      "4/4 [==============================] - 0s 91ms/step - loss: 1.0620 - sparse_categorical_accuracy: 0.8966\n",
      "Epoch 6/10\n",
      "4/4 [==============================] - 0s 94ms/step - loss: 1.1465 - sparse_categorical_accuracy: 0.7586\n",
      "Epoch 7/10\n",
      "4/4 [==============================] - 0s 92ms/step - loss: 0.9802 - sparse_categorical_accuracy: 0.8621\n",
      "Epoch 8/10\n",
      "4/4 [==============================] - 0s 87ms/step - loss: 1.0291 - sparse_categorical_accuracy: 0.8276\n",
      "Epoch 9/10\n",
      "4/4 [==============================] - 0s 90ms/step - loss: 0.9567 - sparse_categorical_accuracy: 0.7931\n",
      "Epoch 10/10\n",
      "4/4 [==============================] - 0s 89ms/step - loss: 1.0068 - sparse_categorical_accuracy: 0.6552\n"
     ]
    },
    {
     "name": "stderr",
     "output_type": "stream",
     "text": [
      "\r",
      "20it [04:02, 11.63s/it]"
     ]
    },
    {
     "name": "stdout",
     "output_type": "stream",
     "text": [
      "Epoch 1/10\n",
      "4/4 [==============================] - 0s 91ms/step - loss: 1.3757 - sparse_categorical_accuracy: 0.5172\n",
      "Epoch 2/10\n",
      "4/4 [==============================] - 0s 92ms/step - loss: 1.1055 - sparse_categorical_accuracy: 0.7241\n",
      "Epoch 3/10\n",
      "4/4 [==============================] - 0s 93ms/step - loss: 1.2160 - sparse_categorical_accuracy: 0.7586\n",
      "Epoch 4/10\n",
      "4/4 [==============================] - 0s 95ms/step - loss: 1.1990 - sparse_categorical_accuracy: 0.8276\n",
      "Epoch 5/10\n",
      "4/4 [==============================] - 0s 95ms/step - loss: 0.9689 - sparse_categorical_accuracy: 0.8966\n",
      "Epoch 6/10\n",
      "4/4 [==============================] - 0s 90ms/step - loss: 1.0775 - sparse_categorical_accuracy: 0.7931\n",
      "Epoch 7/10\n",
      "4/4 [==============================] - 0s 94ms/step - loss: 0.9992 - sparse_categorical_accuracy: 0.7931\n",
      "Epoch 8/10\n",
      "4/4 [==============================] - 0s 89ms/step - loss: 0.8235 - sparse_categorical_accuracy: 0.8621\n",
      "Epoch 9/10\n",
      "4/4 [==============================] - 0s 95ms/step - loss: 1.1465 - sparse_categorical_accuracy: 0.7931\n",
      "Epoch 10/10\n",
      "4/4 [==============================] - 0s 92ms/step - loss: 0.9053 - sparse_categorical_accuracy: 0.8276\n"
     ]
    },
    {
     "name": "stderr",
     "output_type": "stream",
     "text": [
      "\r",
      "21it [04:14, 11.54s/it]"
     ]
    },
    {
     "name": "stdout",
     "output_type": "stream",
     "text": [
      "Epoch 1/10\n",
      "4/4 [==============================] - 0s 90ms/step - loss: 1.2906 - sparse_categorical_accuracy: 0.6552\n",
      "Epoch 2/10\n",
      "4/4 [==============================] - 0s 94ms/step - loss: 1.3052 - sparse_categorical_accuracy: 0.6897\n",
      "Epoch 3/10\n",
      "4/4 [==============================] - 0s 86ms/step - loss: 1.1528 - sparse_categorical_accuracy: 0.8276\n",
      "Epoch 4/10\n",
      "4/4 [==============================] - 0s 89ms/step - loss: 1.6126 - sparse_categorical_accuracy: 0.6897\n",
      "Epoch 5/10\n",
      "4/4 [==============================] - 0s 89ms/step - loss: 1.2710 - sparse_categorical_accuracy: 0.8276\n",
      "Epoch 6/10\n",
      "4/4 [==============================] - 0s 89ms/step - loss: 0.9487 - sparse_categorical_accuracy: 0.9310\n",
      "Epoch 7/10\n",
      "4/4 [==============================] - 0s 90ms/step - loss: 1.1803 - sparse_categorical_accuracy: 0.6897\n",
      "Epoch 8/10\n",
      "4/4 [==============================] - 0s 92ms/step - loss: 0.9960 - sparse_categorical_accuracy: 0.8276\n",
      "Epoch 9/10\n",
      "4/4 [==============================] - 0s 86ms/step - loss: 1.0518 - sparse_categorical_accuracy: 0.7586\n",
      "Epoch 10/10\n",
      "4/4 [==============================] - 0s 90ms/step - loss: 0.9344 - sparse_categorical_accuracy: 0.7586\n"
     ]
    },
    {
     "name": "stderr",
     "output_type": "stream",
     "text": [
      "\r",
      "22it [04:25, 11.51s/it]"
     ]
    },
    {
     "name": "stdout",
     "output_type": "stream",
     "text": [
      "Epoch 1/10\n",
      "4/4 [==============================] - 0s 89ms/step - loss: 1.4361 - sparse_categorical_accuracy: 0.5517\n",
      "Epoch 2/10\n",
      "4/4 [==============================] - 0s 98ms/step - loss: 1.4530 - sparse_categorical_accuracy: 0.6207\n",
      "Epoch 3/10\n",
      "4/4 [==============================] - 0s 88ms/step - loss: 1.4557 - sparse_categorical_accuracy: 0.7241\n",
      "Epoch 4/10\n",
      "4/4 [==============================] - 0s 101ms/step - loss: 1.7331 - sparse_categorical_accuracy: 0.6207\n",
      "Epoch 5/10\n",
      "4/4 [==============================] - 0s 98ms/step - loss: 1.4447 - sparse_categorical_accuracy: 0.7586\n",
      "Epoch 6/10\n",
      "4/4 [==============================] - 0s 95ms/step - loss: 1.5271 - sparse_categorical_accuracy: 0.6552\n",
      "Epoch 7/10\n",
      "4/4 [==============================] - 0s 96ms/step - loss: 1.0038 - sparse_categorical_accuracy: 0.8276\n",
      "Epoch 8/10\n",
      "4/4 [==============================] - 0s 97ms/step - loss: 1.2367 - sparse_categorical_accuracy: 0.8276\n",
      "Epoch 9/10\n",
      "4/4 [==============================] - 0s 90ms/step - loss: 0.8436 - sparse_categorical_accuracy: 0.8621\n",
      "Epoch 10/10\n",
      "4/4 [==============================] - 0s 90ms/step - loss: 0.8884 - sparse_categorical_accuracy: 0.7931\n"
     ]
    },
    {
     "name": "stderr",
     "output_type": "stream",
     "text": [
      "\r",
      "23it [04:37, 11.49s/it]"
     ]
    },
    {
     "name": "stdout",
     "output_type": "stream",
     "text": [
      "Epoch 1/10\n",
      "4/4 [==============================] - 0s 90ms/step - loss: 1.4992 - sparse_categorical_accuracy: 0.4828\n",
      "Epoch 2/10\n",
      "4/4 [==============================] - 0s 95ms/step - loss: 1.0863 - sparse_categorical_accuracy: 0.7931\n",
      "Epoch 3/10\n",
      "4/4 [==============================] - 0s 90ms/step - loss: 1.2595 - sparse_categorical_accuracy: 0.7586\n",
      "Epoch 4/10\n",
      "4/4 [==============================] - 0s 94ms/step - loss: 1.4264 - sparse_categorical_accuracy: 0.7931\n",
      "Epoch 5/10\n",
      "4/4 [==============================] - 0s 90ms/step - loss: 1.4348 - sparse_categorical_accuracy: 0.7931\n",
      "Epoch 6/10\n",
      "4/4 [==============================] - 0s 91ms/step - loss: 1.0256 - sparse_categorical_accuracy: 0.8276\n",
      "Epoch 7/10\n",
      "4/4 [==============================] - 0s 94ms/step - loss: 0.9357 - sparse_categorical_accuracy: 0.8621\n",
      "Epoch 8/10\n",
      "4/4 [==============================] - 0s 87ms/step - loss: 0.9588 - sparse_categorical_accuracy: 0.8276\n",
      "Epoch 9/10\n",
      "4/4 [==============================] - 0s 91ms/step - loss: 1.2293 - sparse_categorical_accuracy: 0.6552\n",
      "Epoch 10/10\n",
      "4/4 [==============================] - 0s 95ms/step - loss: 1.0593 - sparse_categorical_accuracy: 0.7241\n"
     ]
    },
    {
     "name": "stderr",
     "output_type": "stream",
     "text": [
      "\r",
      "24it [04:49, 11.63s/it]"
     ]
    },
    {
     "name": "stdout",
     "output_type": "stream",
     "text": [
      "Epoch 1/10\n",
      "4/4 [==============================] - 0s 90ms/step - loss: 1.4279 - sparse_categorical_accuracy: 0.4828\n",
      "Epoch 2/10\n",
      "4/4 [==============================] - 0s 97ms/step - loss: 1.1326 - sparse_categorical_accuracy: 0.7586\n",
      "Epoch 3/10\n",
      "4/4 [==============================] - 0s 88ms/step - loss: 1.2011 - sparse_categorical_accuracy: 0.7931\n",
      "Epoch 4/10\n",
      "4/4 [==============================] - 0s 94ms/step - loss: 1.6403 - sparse_categorical_accuracy: 0.7586\n",
      "Epoch 5/10\n",
      "4/4 [==============================] - 0s 91ms/step - loss: 1.1708 - sparse_categorical_accuracy: 0.8621\n",
      "Epoch 6/10\n",
      "4/4 [==============================] - 0s 84ms/step - loss: 1.1338 - sparse_categorical_accuracy: 0.7931\n",
      "Epoch 7/10\n",
      "4/4 [==============================] - 0s 91ms/step - loss: 0.9060 - sparse_categorical_accuracy: 0.9310\n",
      "Epoch 8/10\n",
      "4/4 [==============================] - 0s 90ms/step - loss: 1.2442 - sparse_categorical_accuracy: 0.7241\n",
      "Epoch 9/10\n",
      "4/4 [==============================] - 0s 91ms/step - loss: 0.8057 - sparse_categorical_accuracy: 0.7931\n",
      "Epoch 10/10\n",
      "4/4 [==============================] - 0s 88ms/step - loss: 0.7465 - sparse_categorical_accuracy: 0.8621\n"
     ]
    },
    {
     "name": "stderr",
     "output_type": "stream",
     "text": [
      "\r",
      "25it [05:00, 11.65s/it]"
     ]
    },
    {
     "name": "stdout",
     "output_type": "stream",
     "text": [
      "Epoch 1/10\n",
      "4/4 [==============================] - 0s 102ms/step - loss: 1.3607 - sparse_categorical_accuracy: 0.5172\n",
      "Epoch 2/10\n",
      "4/4 [==============================] - 0s 102ms/step - loss: 1.6530 - sparse_categorical_accuracy: 0.6897\n",
      "Epoch 3/10\n",
      "4/4 [==============================] - 0s 102ms/step - loss: 1.4403 - sparse_categorical_accuracy: 0.7586\n",
      "Epoch 4/10\n",
      "4/4 [==============================] - 0s 102ms/step - loss: 1.3149 - sparse_categorical_accuracy: 0.8276\n",
      "Epoch 5/10\n",
      "4/4 [==============================] - 0s 108ms/step - loss: 1.3028 - sparse_categorical_accuracy: 0.7931\n",
      "Epoch 6/10\n",
      "4/4 [==============================] - 0s 100ms/step - loss: 0.9512 - sparse_categorical_accuracy: 0.9310\n",
      "Epoch 7/10\n",
      "4/4 [==============================] - 0s 101ms/step - loss: 0.8571 - sparse_categorical_accuracy: 0.8621\n",
      "Epoch 8/10\n",
      "4/4 [==============================] - 0s 99ms/step - loss: 0.7831 - sparse_categorical_accuracy: 0.8621\n",
      "Epoch 9/10\n",
      "4/4 [==============================] - 0s 99ms/step - loss: 0.7692 - sparse_categorical_accuracy: 0.8621\n",
      "Epoch 10/10\n",
      "4/4 [==============================] - 0s 104ms/step - loss: 0.8563 - sparse_categorical_accuracy: 0.8276\n"
     ]
    },
    {
     "name": "stderr",
     "output_type": "stream",
     "text": [
      "\r",
      "26it [05:14, 12.41s/it]"
     ]
    },
    {
     "name": "stdout",
     "output_type": "stream",
     "text": [
      "Epoch 1/10\n",
      "4/4 [==============================] - 0s 98ms/step - loss: 1.6333 - sparse_categorical_accuracy: 0.4483\n",
      "Epoch 2/10\n",
      "4/4 [==============================] - 0s 99ms/step - loss: 1.2397 - sparse_categorical_accuracy: 0.7586\n",
      "Epoch 3/10\n",
      "4/4 [==============================] - 0s 99ms/step - loss: 1.2646 - sparse_categorical_accuracy: 0.7586\n",
      "Epoch 4/10\n",
      "4/4 [==============================] - 0s 99ms/step - loss: 1.3125 - sparse_categorical_accuracy: 0.8276\n",
      "Epoch 5/10\n",
      "4/4 [==============================] - 0s 100ms/step - loss: 1.4471 - sparse_categorical_accuracy: 0.7241\n",
      "Epoch 6/10\n",
      "4/4 [==============================] - 0s 99ms/step - loss: 1.1349 - sparse_categorical_accuracy: 0.8276\n",
      "Epoch 7/10\n",
      "4/4 [==============================] - 0s 101ms/step - loss: 1.0814 - sparse_categorical_accuracy: 0.7586\n",
      "Epoch 8/10\n",
      "4/4 [==============================] - 0s 101ms/step - loss: 0.9109 - sparse_categorical_accuracy: 0.8621\n",
      "Epoch 9/10\n",
      "4/4 [==============================] - 0s 104ms/step - loss: 1.0283 - sparse_categorical_accuracy: 0.8276\n",
      "Epoch 10/10\n",
      "4/4 [==============================] - 0s 98ms/step - loss: 1.0534 - sparse_categorical_accuracy: 0.8276\n"
     ]
    },
    {
     "name": "stderr",
     "output_type": "stream",
     "text": [
      "\r",
      "27it [05:26, 12.28s/it]"
     ]
    },
    {
     "name": "stdout",
     "output_type": "stream",
     "text": [
      "Epoch 1/10\n",
      "4/4 [==============================] - 0s 100ms/step - loss: 1.2476 - sparse_categorical_accuracy: 0.6552\n",
      "Epoch 2/10\n",
      "4/4 [==============================] - 0s 96ms/step - loss: 1.0027 - sparse_categorical_accuracy: 0.8621\n",
      "Epoch 3/10\n",
      "4/4 [==============================] - 0s 99ms/step - loss: 1.0640 - sparse_categorical_accuracy: 0.8966\n",
      "Epoch 4/10\n",
      "4/4 [==============================] - 0s 98ms/step - loss: 1.3274 - sparse_categorical_accuracy: 0.8276\n",
      "Epoch 5/10\n",
      "4/4 [==============================] - 0s 98ms/step - loss: 1.5648 - sparse_categorical_accuracy: 0.7241\n",
      "Epoch 6/10\n",
      "4/4 [==============================] - 0s 100ms/step - loss: 0.9995 - sparse_categorical_accuracy: 0.8621\n",
      "Epoch 7/10\n",
      "4/4 [==============================] - 0s 97ms/step - loss: 1.1974 - sparse_categorical_accuracy: 0.7931\n",
      "Epoch 8/10\n",
      "4/4 [==============================] - 0s 101ms/step - loss: 1.1091 - sparse_categorical_accuracy: 0.8621\n",
      "Epoch 9/10\n",
      "4/4 [==============================] - 0s 102ms/step - loss: 1.0985 - sparse_categorical_accuracy: 0.7931\n",
      "Epoch 10/10\n",
      "4/4 [==============================] - 0s 102ms/step - loss: 0.9603 - sparse_categorical_accuracy: 0.8621\n"
     ]
    },
    {
     "name": "stderr",
     "output_type": "stream",
     "text": [
      "\r",
      "28it [05:38, 12.12s/it]"
     ]
    },
    {
     "name": "stdout",
     "output_type": "stream",
     "text": [
      "Epoch 1/10\n",
      "4/4 [==============================] - 0s 98ms/step - loss: 1.2865 - sparse_categorical_accuracy: 0.5517\n",
      "Epoch 2/10\n",
      "4/4 [==============================] - 0s 99ms/step - loss: 1.3247 - sparse_categorical_accuracy: 0.8276\n",
      "Epoch 3/10\n",
      "4/4 [==============================] - 0s 98ms/step - loss: 1.5197 - sparse_categorical_accuracy: 0.6552\n",
      "Epoch 4/10\n",
      "4/4 [==============================] - 0s 99ms/step - loss: 1.2259 - sparse_categorical_accuracy: 0.7931\n",
      "Epoch 5/10\n",
      "4/4 [==============================] - 0s 108ms/step - loss: 1.1496 - sparse_categorical_accuracy: 0.8966\n",
      "Epoch 6/10\n",
      "4/4 [==============================] - 0s 99ms/step - loss: 1.0044 - sparse_categorical_accuracy: 0.8966\n",
      "Epoch 7/10\n",
      "4/4 [==============================] - 0s 96ms/step - loss: 1.1729 - sparse_categorical_accuracy: 0.6897\n",
      "Epoch 8/10\n",
      "4/4 [==============================] - 0s 101ms/step - loss: 1.2419 - sparse_categorical_accuracy: 0.7586\n",
      "Epoch 9/10\n",
      "4/4 [==============================] - 0s 97ms/step - loss: 0.9659 - sparse_categorical_accuracy: 0.8276\n",
      "Epoch 10/10\n",
      "4/4 [==============================] - 0s 99ms/step - loss: 1.4653 - sparse_categorical_accuracy: 0.5862\n"
     ]
    },
    {
     "name": "stderr",
     "output_type": "stream",
     "text": [
      "\r",
      "29it [05:50, 12.03s/it]"
     ]
    },
    {
     "name": "stdout",
     "output_type": "stream",
     "text": [
      "Epoch 1/10\n",
      "4/4 [==============================] - 0s 101ms/step - loss: 1.0829 - sparse_categorical_accuracy: 0.6552\n",
      "Epoch 2/10\n",
      "4/4 [==============================] - 0s 100ms/step - loss: 0.9796 - sparse_categorical_accuracy: 0.8621\n",
      "Epoch 3/10\n",
      "4/4 [==============================] - 0s 90ms/step - loss: 1.3416 - sparse_categorical_accuracy: 0.7931\n",
      "Epoch 4/10\n",
      "4/4 [==============================] - 0s 91ms/step - loss: 1.4296 - sparse_categorical_accuracy: 0.6897\n",
      "Epoch 5/10\n",
      "4/4 [==============================] - 0s 97ms/step - loss: 1.4539 - sparse_categorical_accuracy: 0.6897\n",
      "Epoch 6/10\n",
      "4/4 [==============================] - 0s 99ms/step - loss: 1.2053 - sparse_categorical_accuracy: 0.7931\n",
      "Epoch 7/10\n",
      "4/4 [==============================] - 0s 97ms/step - loss: 1.8195 - sparse_categorical_accuracy: 0.6207\n",
      "Epoch 8/10\n",
      "4/4 [==============================] - 0s 100ms/step - loss: 0.9111 - sparse_categorical_accuracy: 0.8621\n",
      "Epoch 9/10\n",
      "4/4 [==============================] - 0s 96ms/step - loss: 1.1255 - sparse_categorical_accuracy: 0.6897\n",
      "Epoch 10/10\n",
      "4/4 [==============================] - 0s 96ms/step - loss: 1.0813 - sparse_categorical_accuracy: 0.6897\n"
     ]
    },
    {
     "name": "stderr",
     "output_type": "stream",
     "text": [
      "30it [06:02, 12.07s/it]\n",
      "0it [00:00, ?it/s]"
     ]
    },
    {
     "name": "stdout",
     "output_type": "stream",
     "text": [
      "Epoch 1/10\n",
      "WARNING:tensorflow:Model was constructed with shape (None, 270, 3) for input Tensor(\"input_223:0\", shape=(None, 270, 3), dtype=float32), but it was called on an input with incompatible shape (None, 240, 3).\n",
      "WARNING:tensorflow:Model was constructed with shape (None, 270, 3) for input Tensor(\"input_223:0\", shape=(None, 270, 3), dtype=float32), but it was called on an input with incompatible shape (None, 240, 3).\n",
      "4/4 [==============================] - 0s 86ms/step - loss: 1.2340 - sparse_categorical_accuracy: 0.5862\n",
      "Epoch 2/10\n",
      "4/4 [==============================] - 0s 90ms/step - loss: 1.1751 - sparse_categorical_accuracy: 0.7241\n",
      "Epoch 3/10\n",
      "4/4 [==============================] - 0s 81ms/step - loss: 1.0911 - sparse_categorical_accuracy: 0.7931\n",
      "Epoch 4/10\n",
      "4/4 [==============================] - 0s 81ms/step - loss: 0.8632 - sparse_categorical_accuracy: 0.9310\n",
      "Epoch 5/10\n",
      "4/4 [==============================] - 0s 82ms/step - loss: 0.9221 - sparse_categorical_accuracy: 0.8621\n",
      "Epoch 6/10\n",
      "4/4 [==============================] - 0s 92ms/step - loss: 0.8351 - sparse_categorical_accuracy: 0.9310\n",
      "Epoch 7/10\n",
      "4/4 [==============================] - 0s 84ms/step - loss: 0.7042 - sparse_categorical_accuracy: 0.8966\n",
      "Epoch 8/10\n",
      "4/4 [==============================] - 0s 84ms/step - loss: 0.9778 - sparse_categorical_accuracy: 0.8621\n",
      "Epoch 9/10\n",
      "4/4 [==============================] - 0s 90ms/step - loss: 0.8379 - sparse_categorical_accuracy: 0.8621\n",
      "Epoch 10/10\n",
      "4/4 [==============================] - 0s 86ms/step - loss: 0.6673 - sparse_categorical_accuracy: 0.9310\n",
      "WARNING:tensorflow:Model was constructed with shape (None, 270, 3) for input Tensor(\"input_223:0\", shape=(None, 270, 3), dtype=float32), but it was called on an input with incompatible shape (None, 240, 3).\n"
     ]
    },
    {
     "name": "stderr",
     "output_type": "stream",
     "text": [
      "\r",
      "1it [00:11, 11.33s/it]"
     ]
    },
    {
     "name": "stdout",
     "output_type": "stream",
     "text": [
      "Epoch 1/10\n",
      "WARNING:tensorflow:Model was constructed with shape (None, 270, 3) for input Tensor(\"input_224:0\", shape=(None, 270, 3), dtype=float32), but it was called on an input with incompatible shape (None, 240, 3).\n",
      "WARNING:tensorflow:Model was constructed with shape (None, 270, 3) for input Tensor(\"input_224:0\", shape=(None, 270, 3), dtype=float32), but it was called on an input with incompatible shape (None, 240, 3).\n",
      "4/4 [==============================] - 0s 88ms/step - loss: 1.5221 - sparse_categorical_accuracy: 0.5172\n",
      "Epoch 2/10\n",
      "4/4 [==============================] - 0s 88ms/step - loss: 1.4294 - sparse_categorical_accuracy: 0.7241\n",
      "Epoch 3/10\n",
      "4/4 [==============================] - 0s 83ms/step - loss: 1.5301 - sparse_categorical_accuracy: 0.7241\n",
      "Epoch 4/10\n",
      "4/4 [==============================] - 0s 87ms/step - loss: 1.5874 - sparse_categorical_accuracy: 0.7586\n",
      "Epoch 5/10\n",
      "4/4 [==============================] - 0s 85ms/step - loss: 1.3905 - sparse_categorical_accuracy: 0.8621\n",
      "Epoch 6/10\n",
      "4/4 [==============================] - 0s 85ms/step - loss: 1.1221 - sparse_categorical_accuracy: 0.8276\n",
      "Epoch 7/10\n",
      "4/4 [==============================] - 0s 85ms/step - loss: 1.0446 - sparse_categorical_accuracy: 0.8621\n",
      "Epoch 8/10\n",
      "4/4 [==============================] - 0s 85ms/step - loss: 0.9712 - sparse_categorical_accuracy: 0.8276\n",
      "Epoch 9/10\n",
      "4/4 [==============================] - 0s 86ms/step - loss: 1.1639 - sparse_categorical_accuracy: 0.7931\n",
      "Epoch 10/10\n",
      "4/4 [==============================] - 0s 86ms/step - loss: 0.9036 - sparse_categorical_accuracy: 0.8276\n",
      "WARNING:tensorflow:Model was constructed with shape (None, 270, 3) for input Tensor(\"input_224:0\", shape=(None, 270, 3), dtype=float32), but it was called on an input with incompatible shape (None, 240, 3).\n"
     ]
    },
    {
     "name": "stderr",
     "output_type": "stream",
     "text": [
      "\r",
      "2it [00:22, 11.31s/it]"
     ]
    },
    {
     "name": "stdout",
     "output_type": "stream",
     "text": [
      "Epoch 1/10\n",
      "WARNING:tensorflow:Model was constructed with shape (None, 270, 3) for input Tensor(\"input_225:0\", shape=(None, 270, 3), dtype=float32), but it was called on an input with incompatible shape (None, 240, 3).\n",
      "WARNING:tensorflow:Model was constructed with shape (None, 270, 3) for input Tensor(\"input_225:0\", shape=(None, 270, 3), dtype=float32), but it was called on an input with incompatible shape (None, 240, 3).\n",
      "4/4 [==============================] - 0s 83ms/step - loss: 1.4176 - sparse_categorical_accuracy: 0.5517\n",
      "Epoch 2/10\n",
      "4/4 [==============================] - 0s 84ms/step - loss: 1.2479 - sparse_categorical_accuracy: 0.7241\n",
      "Epoch 3/10\n",
      "4/4 [==============================] - 0s 85ms/step - loss: 1.0286 - sparse_categorical_accuracy: 0.8966\n",
      "Epoch 4/10\n",
      "4/4 [==============================] - 0s 83ms/step - loss: 1.3216 - sparse_categorical_accuracy: 0.7241\n",
      "Epoch 5/10\n",
      "4/4 [==============================] - 0s 83ms/step - loss: 1.1297 - sparse_categorical_accuracy: 0.8621\n",
      "Epoch 6/10\n",
      "4/4 [==============================] - 0s 81ms/step - loss: 1.1808 - sparse_categorical_accuracy: 0.7241\n",
      "Epoch 7/10\n",
      "4/4 [==============================] - 0s 82ms/step - loss: 0.9768 - sparse_categorical_accuracy: 0.8621\n",
      "Epoch 8/10\n",
      "4/4 [==============================] - 0s 84ms/step - loss: 1.0579 - sparse_categorical_accuracy: 0.7241\n",
      "Epoch 9/10\n",
      "4/4 [==============================] - 0s 82ms/step - loss: 0.9920 - sparse_categorical_accuracy: 0.7586\n",
      "Epoch 10/10\n",
      "4/4 [==============================] - 0s 83ms/step - loss: 1.5617 - sparse_categorical_accuracy: 0.6897\n",
      "WARNING:tensorflow:Model was constructed with shape (None, 270, 3) for input Tensor(\"input_225:0\", shape=(None, 270, 3), dtype=float32), but it was called on an input with incompatible shape (None, 240, 3).\n"
     ]
    },
    {
     "name": "stderr",
     "output_type": "stream",
     "text": [
      "\r",
      "3it [00:33, 11.22s/it]"
     ]
    },
    {
     "name": "stdout",
     "output_type": "stream",
     "text": [
      "Epoch 1/10\n",
      "WARNING:tensorflow:Model was constructed with shape (None, 270, 3) for input Tensor(\"input_226:0\", shape=(None, 270, 3), dtype=float32), but it was called on an input with incompatible shape (None, 240, 3).\n",
      "WARNING:tensorflow:Model was constructed with shape (None, 270, 3) for input Tensor(\"input_226:0\", shape=(None, 270, 3), dtype=float32), but it was called on an input with incompatible shape (None, 240, 3).\n",
      "4/4 [==============================] - 0s 82ms/step - loss: 1.3378 - sparse_categorical_accuracy: 0.6207\n",
      "Epoch 2/10\n",
      "4/4 [==============================] - 0s 83ms/step - loss: 0.9864 - sparse_categorical_accuracy: 0.8621\n",
      "Epoch 3/10\n",
      "4/4 [==============================] - 0s 83ms/step - loss: 1.2607 - sparse_categorical_accuracy: 0.6897\n",
      "Epoch 4/10\n",
      "4/4 [==============================] - 0s 83ms/step - loss: 1.4303 - sparse_categorical_accuracy: 0.6897\n",
      "Epoch 5/10\n",
      "4/4 [==============================] - 0s 78ms/step - loss: 1.2857 - sparse_categorical_accuracy: 0.8276\n",
      "Epoch 6/10\n",
      "4/4 [==============================] - 0s 85ms/step - loss: 1.0903 - sparse_categorical_accuracy: 0.8276\n",
      "Epoch 7/10\n",
      "4/4 [==============================] - 0s 82ms/step - loss: 0.9878 - sparse_categorical_accuracy: 0.8276\n",
      "Epoch 8/10\n",
      "4/4 [==============================] - 0s 79ms/step - loss: 1.0829 - sparse_categorical_accuracy: 0.6552\n",
      "Epoch 9/10\n",
      "4/4 [==============================] - 0s 82ms/step - loss: 0.9462 - sparse_categorical_accuracy: 0.7241\n",
      "Epoch 10/10\n",
      "4/4 [==============================] - 0s 84ms/step - loss: 0.8983 - sparse_categorical_accuracy: 0.8276\n",
      "WARNING:tensorflow:Model was constructed with shape (None, 270, 3) for input Tensor(\"input_226:0\", shape=(None, 270, 3), dtype=float32), but it was called on an input with incompatible shape (None, 240, 3).\n"
     ]
    },
    {
     "name": "stderr",
     "output_type": "stream",
     "text": [
      "\r",
      "4it [00:44, 11.14s/it]"
     ]
    },
    {
     "name": "stdout",
     "output_type": "stream",
     "text": [
      "Epoch 1/10\n",
      "WARNING:tensorflow:Model was constructed with shape (None, 270, 3) for input Tensor(\"input_227:0\", shape=(None, 270, 3), dtype=float32), but it was called on an input with incompatible shape (None, 240, 3).\n",
      "WARNING:tensorflow:Model was constructed with shape (None, 270, 3) for input Tensor(\"input_227:0\", shape=(None, 270, 3), dtype=float32), but it was called on an input with incompatible shape (None, 240, 3).\n",
      "4/4 [==============================] - 0s 81ms/step - loss: 1.4485 - sparse_categorical_accuracy: 0.6207\n",
      "Epoch 2/10\n",
      "4/4 [==============================] - 0s 79ms/step - loss: 1.4954 - sparse_categorical_accuracy: 0.6552\n",
      "Epoch 3/10\n",
      "4/4 [==============================] - 0s 79ms/step - loss: 1.2896 - sparse_categorical_accuracy: 0.8276\n",
      "Epoch 4/10\n",
      "4/4 [==============================] - 0s 82ms/step - loss: 1.4370 - sparse_categorical_accuracy: 0.8276\n",
      "Epoch 5/10\n",
      "4/4 [==============================] - 0s 77ms/step - loss: 1.5717 - sparse_categorical_accuracy: 0.7241\n",
      "Epoch 6/10\n",
      "4/4 [==============================] - 0s 78ms/step - loss: 1.2911 - sparse_categorical_accuracy: 0.6897\n",
      "Epoch 7/10\n",
      "4/4 [==============================] - 0s 85ms/step - loss: 1.1007 - sparse_categorical_accuracy: 0.8276\n",
      "Epoch 8/10\n",
      "4/4 [==============================] - 0s 80ms/step - loss: 0.9282 - sparse_categorical_accuracy: 0.8276\n",
      "Epoch 9/10\n",
      "4/4 [==============================] - 0s 81ms/step - loss: 1.0102 - sparse_categorical_accuracy: 0.7931\n",
      "Epoch 10/10\n",
      "4/4 [==============================] - 0s 77ms/step - loss: 0.9636 - sparse_categorical_accuracy: 0.7931\n",
      "WARNING:tensorflow:Model was constructed with shape (None, 270, 3) for input Tensor(\"input_227:0\", shape=(None, 270, 3), dtype=float32), but it was called on an input with incompatible shape (None, 240, 3).\n"
     ]
    },
    {
     "name": "stderr",
     "output_type": "stream",
     "text": [
      "\r",
      "5it [00:55, 11.16s/it]"
     ]
    },
    {
     "name": "stdout",
     "output_type": "stream",
     "text": [
      "Epoch 1/10\n",
      "WARNING:tensorflow:Model was constructed with shape (None, 270, 3) for input Tensor(\"input_228:0\", shape=(None, 270, 3), dtype=float32), but it was called on an input with incompatible shape (None, 240, 3).\n",
      "WARNING:tensorflow:Model was constructed with shape (None, 270, 3) for input Tensor(\"input_228:0\", shape=(None, 270, 3), dtype=float32), but it was called on an input with incompatible shape (None, 240, 3).\n",
      "4/4 [==============================] - 0s 78ms/step - loss: 1.5836 - sparse_categorical_accuracy: 0.4828\n",
      "Epoch 2/10\n",
      "4/4 [==============================] - 0s 78ms/step - loss: 1.2069 - sparse_categorical_accuracy: 0.7586\n",
      "Epoch 3/10\n",
      "4/4 [==============================] - 0s 80ms/step - loss: 1.2767 - sparse_categorical_accuracy: 0.7931\n",
      "Epoch 4/10\n",
      "4/4 [==============================] - 0s 86ms/step - loss: 1.4792 - sparse_categorical_accuracy: 0.7931\n",
      "Epoch 5/10\n",
      "4/4 [==============================] - 0s 79ms/step - loss: 1.4168 - sparse_categorical_accuracy: 0.7931\n",
      "Epoch 6/10\n",
      "4/4 [==============================] - 0s 79ms/step - loss: 1.1482 - sparse_categorical_accuracy: 0.8621\n",
      "Epoch 7/10\n",
      "4/4 [==============================] - 0s 80ms/step - loss: 0.9941 - sparse_categorical_accuracy: 0.9310\n",
      "Epoch 8/10\n",
      "4/4 [==============================] - 0s 78ms/step - loss: 0.9975 - sparse_categorical_accuracy: 0.9310\n",
      "Epoch 9/10\n",
      "4/4 [==============================] - 0s 79ms/step - loss: 0.7674 - sparse_categorical_accuracy: 0.9310\n",
      "Epoch 10/10\n",
      "4/4 [==============================] - 0s 80ms/step - loss: 0.8938 - sparse_categorical_accuracy: 0.8621\n",
      "WARNING:tensorflow:Model was constructed with shape (None, 270, 3) for input Tensor(\"input_228:0\", shape=(None, 270, 3), dtype=float32), but it was called on an input with incompatible shape (None, 240, 3).\n"
     ]
    },
    {
     "name": "stderr",
     "output_type": "stream",
     "text": [
      "\r",
      "6it [01:06, 11.04s/it]"
     ]
    },
    {
     "name": "stdout",
     "output_type": "stream",
     "text": [
      "Epoch 1/10\n",
      "WARNING:tensorflow:Model was constructed with shape (None, 270, 3) for input Tensor(\"input_229:0\", shape=(None, 270, 3), dtype=float32), but it was called on an input with incompatible shape (None, 240, 3).\n",
      "WARNING:tensorflow:Model was constructed with shape (None, 270, 3) for input Tensor(\"input_229:0\", shape=(None, 270, 3), dtype=float32), but it was called on an input with incompatible shape (None, 240, 3).\n",
      "4/4 [==============================] - 0s 78ms/step - loss: 1.0750 - sparse_categorical_accuracy: 0.6552\n",
      "Epoch 2/10\n",
      "4/4 [==============================] - 0s 79ms/step - loss: 0.9328 - sparse_categorical_accuracy: 0.8966\n",
      "Epoch 3/10\n",
      "4/4 [==============================] - 0s 79ms/step - loss: 1.6357 - sparse_categorical_accuracy: 0.7241\n",
      "Epoch 4/10\n",
      "4/4 [==============================] - 0s 83ms/step - loss: 1.3802 - sparse_categorical_accuracy: 0.7586\n",
      "Epoch 5/10\n",
      "4/4 [==============================] - 0s 79ms/step - loss: 1.1038 - sparse_categorical_accuracy: 0.7931\n",
      "Epoch 6/10\n",
      "4/4 [==============================] - 0s 79ms/step - loss: 0.9098 - sparse_categorical_accuracy: 0.8966\n",
      "Epoch 7/10\n",
      "4/4 [==============================] - 0s 80ms/step - loss: 0.8138 - sparse_categorical_accuracy: 0.8276\n",
      "Epoch 8/10\n",
      "4/4 [==============================] - 0s 80ms/step - loss: 0.8479 - sparse_categorical_accuracy: 0.8621\n",
      "Epoch 9/10\n",
      "4/4 [==============================] - 0s 78ms/step - loss: 0.7627 - sparse_categorical_accuracy: 0.7931\n",
      "Epoch 10/10\n",
      "4/4 [==============================] - 0s 77ms/step - loss: 0.6919 - sparse_categorical_accuracy: 0.9310\n",
      "WARNING:tensorflow:Model was constructed with shape (None, 270, 3) for input Tensor(\"input_229:0\", shape=(None, 270, 3), dtype=float32), but it was called on an input with incompatible shape (None, 240, 3).\n"
     ]
    },
    {
     "name": "stderr",
     "output_type": "stream",
     "text": [
      "\r",
      "7it [01:17, 11.02s/it]"
     ]
    },
    {
     "name": "stdout",
     "output_type": "stream",
     "text": [
      "Epoch 1/10\n",
      "WARNING:tensorflow:Model was constructed with shape (None, 270, 3) for input Tensor(\"input_230:0\", shape=(None, 270, 3), dtype=float32), but it was called on an input with incompatible shape (None, 240, 3).\n",
      "WARNING:tensorflow:Model was constructed with shape (None, 270, 3) for input Tensor(\"input_230:0\", shape=(None, 270, 3), dtype=float32), but it was called on an input with incompatible shape (None, 240, 3).\n",
      "4/4 [==============================] - 0s 79ms/step - loss: 1.3157 - sparse_categorical_accuracy: 0.5172\n",
      "Epoch 2/10\n",
      "4/4 [==============================] - 0s 78ms/step - loss: 1.2946 - sparse_categorical_accuracy: 0.7241\n",
      "Epoch 3/10\n",
      "4/4 [==============================] - 0s 78ms/step - loss: 1.3244 - sparse_categorical_accuracy: 0.7586\n",
      "Epoch 4/10\n",
      "4/4 [==============================] - 0s 79ms/step - loss: 1.6127 - sparse_categorical_accuracy: 0.7586\n",
      "Epoch 5/10\n",
      "4/4 [==============================] - 0s 80ms/step - loss: 1.1305 - sparse_categorical_accuracy: 0.8621\n",
      "Epoch 6/10\n",
      "4/4 [==============================] - 0s 76ms/step - loss: 1.0164 - sparse_categorical_accuracy: 0.8966\n",
      "Epoch 7/10\n",
      "4/4 [==============================] - 0s 76ms/step - loss: 1.0432 - sparse_categorical_accuracy: 0.7931\n",
      "Epoch 8/10\n",
      "4/4 [==============================] - 0s 81ms/step - loss: 0.8298 - sparse_categorical_accuracy: 0.9310\n",
      "Epoch 9/10\n",
      "4/4 [==============================] - 0s 84ms/step - loss: 0.8967 - sparse_categorical_accuracy: 0.7931\n",
      "Epoch 10/10\n",
      "4/4 [==============================] - 0s 79ms/step - loss: 0.8585 - sparse_categorical_accuracy: 0.7931\n",
      "WARNING:tensorflow:Model was constructed with shape (None, 270, 3) for input Tensor(\"input_230:0\", shape=(None, 270, 3), dtype=float32), but it was called on an input with incompatible shape (None, 240, 3).\n"
     ]
    },
    {
     "name": "stderr",
     "output_type": "stream",
     "text": [
      "\r",
      "8it [01:28, 10.95s/it]"
     ]
    },
    {
     "name": "stdout",
     "output_type": "stream",
     "text": [
      "Epoch 1/10\n",
      "WARNING:tensorflow:Model was constructed with shape (None, 270, 3) for input Tensor(\"input_231:0\", shape=(None, 270, 3), dtype=float32), but it was called on an input with incompatible shape (None, 240, 3).\n",
      "WARNING:tensorflow:Model was constructed with shape (None, 270, 3) for input Tensor(\"input_231:0\", shape=(None, 270, 3), dtype=float32), but it was called on an input with incompatible shape (None, 240, 3).\n",
      "4/4 [==============================] - 0s 76ms/step - loss: 0.9236 - sparse_categorical_accuracy: 0.7241\n",
      "Epoch 2/10\n",
      "4/4 [==============================] - 0s 73ms/step - loss: 1.1378 - sparse_categorical_accuracy: 0.7241\n",
      "Epoch 3/10\n",
      "4/4 [==============================] - 0s 79ms/step - loss: 1.2453 - sparse_categorical_accuracy: 0.7586\n",
      "Epoch 4/10\n",
      "4/4 [==============================] - 0s 81ms/step - loss: 0.9813 - sparse_categorical_accuracy: 0.9310\n",
      "Epoch 5/10\n",
      "4/4 [==============================] - 0s 78ms/step - loss: 1.1185 - sparse_categorical_accuracy: 0.8276\n",
      "Epoch 6/10\n",
      "4/4 [==============================] - 0s 79ms/step - loss: 1.1406 - sparse_categorical_accuracy: 0.8621\n",
      "Epoch 7/10\n",
      "4/4 [==============================] - 0s 79ms/step - loss: 1.0168 - sparse_categorical_accuracy: 0.7931\n",
      "Epoch 8/10\n",
      "4/4 [==============================] - 0s 79ms/step - loss: 1.0386 - sparse_categorical_accuracy: 0.7931\n",
      "Epoch 9/10\n",
      "4/4 [==============================] - 0s 77ms/step - loss: 0.8428 - sparse_categorical_accuracy: 0.8621\n",
      "Epoch 10/10\n",
      "4/4 [==============================] - 0s 74ms/step - loss: 0.7728 - sparse_categorical_accuracy: 0.9310\n",
      "WARNING:tensorflow:Model was constructed with shape (None, 270, 3) for input Tensor(\"input_231:0\", shape=(None, 270, 3), dtype=float32), but it was called on an input with incompatible shape (None, 240, 3).\n"
     ]
    },
    {
     "name": "stderr",
     "output_type": "stream",
     "text": [
      "\r",
      "9it [01:39, 10.89s/it]"
     ]
    },
    {
     "name": "stdout",
     "output_type": "stream",
     "text": [
      "Epoch 1/10\n",
      "WARNING:tensorflow:Model was constructed with shape (None, 270, 3) for input Tensor(\"input_232:0\", shape=(None, 270, 3), dtype=float32), but it was called on an input with incompatible shape (None, 240, 3).\n",
      "WARNING:tensorflow:Model was constructed with shape (None, 270, 3) for input Tensor(\"input_232:0\", shape=(None, 270, 3), dtype=float32), but it was called on an input with incompatible shape (None, 240, 3).\n",
      "4/4 [==============================] - 0s 86ms/step - loss: 1.2773 - sparse_categorical_accuracy: 0.6552\n",
      "Epoch 2/10\n",
      "4/4 [==============================] - 0s 85ms/step - loss: 1.5100 - sparse_categorical_accuracy: 0.7241\n",
      "Epoch 3/10\n",
      "4/4 [==============================] - 0s 76ms/step - loss: 1.5276 - sparse_categorical_accuracy: 0.5517\n",
      "Epoch 4/10\n",
      "4/4 [==============================] - 0s 79ms/step - loss: 1.2482 - sparse_categorical_accuracy: 0.7931\n",
      "Epoch 5/10\n",
      "4/4 [==============================] - 0s 79ms/step - loss: 1.2894 - sparse_categorical_accuracy: 0.9310\n",
      "Epoch 6/10\n",
      "4/4 [==============================] - 0s 81ms/step - loss: 0.9378 - sparse_categorical_accuracy: 0.8966\n",
      "Epoch 7/10\n",
      "4/4 [==============================] - 0s 73ms/step - loss: 0.9937 - sparse_categorical_accuracy: 0.8276\n",
      "Epoch 8/10\n",
      "4/4 [==============================] - 0s 79ms/step - loss: 0.8514 - sparse_categorical_accuracy: 0.8621\n",
      "Epoch 9/10\n",
      "4/4 [==============================] - 0s 82ms/step - loss: 1.2151 - sparse_categorical_accuracy: 0.7241\n",
      "Epoch 10/10\n",
      "4/4 [==============================] - 0s 91ms/step - loss: 0.9211 - sparse_categorical_accuracy: 0.8621\n",
      "WARNING:tensorflow:Model was constructed with shape (None, 270, 3) for input Tensor(\"input_232:0\", shape=(None, 270, 3), dtype=float32), but it was called on an input with incompatible shape (None, 240, 3).\n"
     ]
    },
    {
     "name": "stderr",
     "output_type": "stream",
     "text": [
      "\r",
      "10it [01:49, 10.89s/it]"
     ]
    },
    {
     "name": "stdout",
     "output_type": "stream",
     "text": [
      "Epoch 1/10\n",
      "WARNING:tensorflow:Model was constructed with shape (None, 270, 3) for input Tensor(\"input_233:0\", shape=(None, 270, 3), dtype=float32), but it was called on an input with incompatible shape (None, 240, 3).\n",
      "WARNING:tensorflow:Model was constructed with shape (None, 270, 3) for input Tensor(\"input_233:0\", shape=(None, 270, 3), dtype=float32), but it was called on an input with incompatible shape (None, 240, 3).\n",
      "4/4 [==============================] - 0s 83ms/step - loss: 1.1204 - sparse_categorical_accuracy: 0.6897\n",
      "Epoch 2/10\n",
      "4/4 [==============================] - 0s 88ms/step - loss: 1.1858 - sparse_categorical_accuracy: 0.6552\n",
      "Epoch 3/10\n",
      "4/4 [==============================] - 0s 86ms/step - loss: 1.6900 - sparse_categorical_accuracy: 0.7241\n",
      "Epoch 4/10\n",
      "4/4 [==============================] - 0s 88ms/step - loss: 1.2833 - sparse_categorical_accuracy: 0.7931\n",
      "Epoch 5/10\n",
      "4/4 [==============================] - 0s 89ms/step - loss: 1.1754 - sparse_categorical_accuracy: 0.8621\n",
      "Epoch 6/10\n",
      "4/4 [==============================] - 0s 86ms/step - loss: 1.6338 - sparse_categorical_accuracy: 0.6552\n",
      "Epoch 7/10\n",
      "4/4 [==============================] - 0s 82ms/step - loss: 1.3494 - sparse_categorical_accuracy: 0.7241\n",
      "Epoch 8/10\n",
      "4/4 [==============================] - 0s 87ms/step - loss: 1.1939 - sparse_categorical_accuracy: 0.6897\n",
      "Epoch 9/10\n",
      "4/4 [==============================] - 0s 85ms/step - loss: 1.2868 - sparse_categorical_accuracy: 0.7586\n",
      "Epoch 10/10\n",
      "4/4 [==============================] - 0s 90ms/step - loss: 0.9076 - sparse_categorical_accuracy: 0.7931\n",
      "WARNING:tensorflow:Model was constructed with shape (None, 270, 3) for input Tensor(\"input_233:0\", shape=(None, 270, 3), dtype=float32), but it was called on an input with incompatible shape (None, 240, 3).\n"
     ]
    },
    {
     "name": "stderr",
     "output_type": "stream",
     "text": [
      "\r",
      "11it [02:03, 11.67s/it]"
     ]
    },
    {
     "name": "stdout",
     "output_type": "stream",
     "text": [
      "Epoch 1/10\n",
      "WARNING:tensorflow:Model was constructed with shape (None, 270, 3) for input Tensor(\"input_234:0\", shape=(None, 270, 3), dtype=float32), but it was called on an input with incompatible shape (None, 240, 3).\n",
      "WARNING:tensorflow:Model was constructed with shape (None, 270, 3) for input Tensor(\"input_234:0\", shape=(None, 270, 3), dtype=float32), but it was called on an input with incompatible shape (None, 240, 3).\n",
      "4/4 [==============================] - 0s 87ms/step - loss: 1.1678 - sparse_categorical_accuracy: 0.6552\n",
      "Epoch 2/10\n",
      "4/4 [==============================] - 0s 87ms/step - loss: 1.1415 - sparse_categorical_accuracy: 0.7586\n",
      "Epoch 3/10\n",
      "4/4 [==============================] - 0s 83ms/step - loss: 1.0463 - sparse_categorical_accuracy: 0.8276\n",
      "Epoch 4/10\n",
      "4/4 [==============================] - 0s 86ms/step - loss: 0.8939 - sparse_categorical_accuracy: 0.9310\n",
      "Epoch 5/10\n",
      "4/4 [==============================] - 0s 90ms/step - loss: 0.8177 - sparse_categorical_accuracy: 0.9310\n",
      "Epoch 6/10\n",
      "4/4 [==============================] - 0s 87ms/step - loss: 0.9072 - sparse_categorical_accuracy: 0.8966\n",
      "Epoch 7/10\n",
      "4/4 [==============================] - 0s 87ms/step - loss: 1.1408 - sparse_categorical_accuracy: 0.7586\n",
      "Epoch 8/10\n",
      "4/4 [==============================] - 0s 90ms/step - loss: 1.0060 - sparse_categorical_accuracy: 0.7586\n",
      "Epoch 9/10\n",
      "4/4 [==============================] - 0s 85ms/step - loss: 1.0155 - sparse_categorical_accuracy: 0.7586\n",
      "Epoch 10/10\n",
      "4/4 [==============================] - 0s 88ms/step - loss: 0.9641 - sparse_categorical_accuracy: 0.8621\n",
      "WARNING:tensorflow:Model was constructed with shape (None, 270, 3) for input Tensor(\"input_234:0\", shape=(None, 270, 3), dtype=float32), but it was called on an input with incompatible shape (None, 240, 3).\n"
     ]
    },
    {
     "name": "stderr",
     "output_type": "stream",
     "text": [
      "\r",
      "12it [02:14, 11.57s/it]"
     ]
    },
    {
     "name": "stdout",
     "output_type": "stream",
     "text": [
      "Epoch 1/10\n",
      "WARNING:tensorflow:Model was constructed with shape (None, 270, 3) for input Tensor(\"input_235:0\", shape=(None, 270, 3), dtype=float32), but it was called on an input with incompatible shape (None, 240, 3).\n",
      "WARNING:tensorflow:Model was constructed with shape (None, 270, 3) for input Tensor(\"input_235:0\", shape=(None, 270, 3), dtype=float32), but it was called on an input with incompatible shape (None, 240, 3).\n",
      "4/4 [==============================] - 0s 90ms/step - loss: 1.6424 - sparse_categorical_accuracy: 0.3793\n",
      "Epoch 2/10\n",
      "4/4 [==============================] - 0s 86ms/step - loss: 1.2697 - sparse_categorical_accuracy: 0.6897\n",
      "Epoch 3/10\n",
      "4/4 [==============================] - 0s 86ms/step - loss: 1.3562 - sparse_categorical_accuracy: 0.8276\n",
      "Epoch 4/10\n",
      "4/4 [==============================] - 0s 83ms/step - loss: 1.3320 - sparse_categorical_accuracy: 0.7241\n",
      "Epoch 5/10\n",
      "4/4 [==============================] - 0s 82ms/step - loss: 1.2521 - sparse_categorical_accuracy: 0.8621\n",
      "Epoch 6/10\n",
      "4/4 [==============================] - 0s 83ms/step - loss: 1.1479 - sparse_categorical_accuracy: 0.7586\n",
      "Epoch 7/10\n",
      "4/4 [==============================] - 0s 86ms/step - loss: 1.1479 - sparse_categorical_accuracy: 0.8276\n",
      "Epoch 8/10\n",
      "4/4 [==============================] - 0s 88ms/step - loss: 0.8406 - sparse_categorical_accuracy: 0.8966\n",
      "Epoch 9/10\n",
      "4/4 [==============================] - 0s 84ms/step - loss: 0.9765 - sparse_categorical_accuracy: 0.8621\n",
      "Epoch 10/10\n",
      "4/4 [==============================] - 0s 90ms/step - loss: 0.8799 - sparse_categorical_accuracy: 0.7931\n",
      "WARNING:tensorflow:Model was constructed with shape (None, 270, 3) for input Tensor(\"input_235:0\", shape=(None, 270, 3), dtype=float32), but it was called on an input with incompatible shape (None, 240, 3).\n"
     ]
    },
    {
     "name": "stderr",
     "output_type": "stream",
     "text": [
      "\r",
      "13it [02:26, 11.48s/it]"
     ]
    },
    {
     "name": "stdout",
     "output_type": "stream",
     "text": [
      "Epoch 1/10\n",
      "WARNING:tensorflow:Model was constructed with shape (None, 270, 3) for input Tensor(\"input_236:0\", shape=(None, 270, 3), dtype=float32), but it was called on an input with incompatible shape (None, 240, 3).\n",
      "WARNING:tensorflow:Model was constructed with shape (None, 270, 3) for input Tensor(\"input_236:0\", shape=(None, 270, 3), dtype=float32), but it was called on an input with incompatible shape (None, 240, 3).\n",
      "4/4 [==============================] - 0s 81ms/step - loss: 1.1675 - sparse_categorical_accuracy: 0.6552\n",
      "Epoch 2/10\n",
      "4/4 [==============================] - 0s 84ms/step - loss: 1.0836 - sparse_categorical_accuracy: 0.7931\n",
      "Epoch 3/10\n",
      "4/4 [==============================] - 0s 88ms/step - loss: 1.1942 - sparse_categorical_accuracy: 0.8621\n",
      "Epoch 4/10\n",
      "4/4 [==============================] - 0s 83ms/step - loss: 1.2259 - sparse_categorical_accuracy: 0.7586\n",
      "Epoch 5/10\n",
      "4/4 [==============================] - 0s 83ms/step - loss: 1.0917 - sparse_categorical_accuracy: 0.8276\n",
      "Epoch 6/10\n",
      "4/4 [==============================] - 0s 86ms/step - loss: 0.9175 - sparse_categorical_accuracy: 0.9310\n",
      "Epoch 7/10\n",
      "4/4 [==============================] - 0s 87ms/step - loss: 1.1272 - sparse_categorical_accuracy: 0.7586\n",
      "Epoch 8/10\n",
      "4/4 [==============================] - 0s 83ms/step - loss: 0.8475 - sparse_categorical_accuracy: 0.8621\n",
      "Epoch 9/10\n",
      "4/4 [==============================] - 0s 86ms/step - loss: 0.7913 - sparse_categorical_accuracy: 0.8621\n",
      "Epoch 10/10\n",
      "4/4 [==============================] - 0s 80ms/step - loss: 0.6558 - sparse_categorical_accuracy: 0.8966\n",
      "WARNING:tensorflow:Model was constructed with shape (None, 270, 3) for input Tensor(\"input_236:0\", shape=(None, 270, 3), dtype=float32), but it was called on an input with incompatible shape (None, 240, 3).\n"
     ]
    },
    {
     "name": "stderr",
     "output_type": "stream",
     "text": [
      "\r",
      "14it [02:37, 11.40s/it]"
     ]
    },
    {
     "name": "stdout",
     "output_type": "stream",
     "text": [
      "Epoch 1/10\n",
      "WARNING:tensorflow:Model was constructed with shape (None, 270, 3) for input Tensor(\"input_237:0\", shape=(None, 270, 3), dtype=float32), but it was called on an input with incompatible shape (None, 240, 3).\n",
      "WARNING:tensorflow:Model was constructed with shape (None, 270, 3) for input Tensor(\"input_237:0\", shape=(None, 270, 3), dtype=float32), but it was called on an input with incompatible shape (None, 240, 3).\n",
      "4/4 [==============================] - 0s 83ms/step - loss: 1.1288 - sparse_categorical_accuracy: 0.6552\n",
      "Epoch 2/10\n",
      "4/4 [==============================] - 0s 83ms/step - loss: 1.0974 - sparse_categorical_accuracy: 0.7931\n",
      "Epoch 3/10\n",
      "4/4 [==============================] - 0s 87ms/step - loss: 1.5015 - sparse_categorical_accuracy: 0.7241\n",
      "Epoch 4/10\n",
      "4/4 [==============================] - 0s 85ms/step - loss: 1.3273 - sparse_categorical_accuracy: 0.7586\n",
      "Epoch 5/10\n",
      "4/4 [==============================] - 0s 83ms/step - loss: 1.2091 - sparse_categorical_accuracy: 0.8276\n",
      "Epoch 6/10\n",
      "4/4 [==============================] - 0s 78ms/step - loss: 1.3159 - sparse_categorical_accuracy: 0.7241\n",
      "Epoch 7/10\n",
      "4/4 [==============================] - 0s 84ms/step - loss: 0.9842 - sparse_categorical_accuracy: 0.8966\n",
      "Epoch 8/10\n",
      "4/4 [==============================] - 0s 82ms/step - loss: 1.0084 - sparse_categorical_accuracy: 0.8276\n",
      "Epoch 9/10\n",
      "4/4 [==============================] - 0s 85ms/step - loss: 0.7568 - sparse_categorical_accuracy: 0.9310\n",
      "Epoch 10/10\n",
      "4/4 [==============================] - 0s 86ms/step - loss: 1.0633 - sparse_categorical_accuracy: 0.7586\n",
      "WARNING:tensorflow:Model was constructed with shape (None, 270, 3) for input Tensor(\"input_237:0\", shape=(None, 270, 3), dtype=float32), but it was called on an input with incompatible shape (None, 240, 3).\n"
     ]
    },
    {
     "name": "stderr",
     "output_type": "stream",
     "text": [
      "\r",
      "15it [02:48, 11.31s/it]"
     ]
    },
    {
     "name": "stdout",
     "output_type": "stream",
     "text": [
      "Epoch 1/10\n",
      "WARNING:tensorflow:Model was constructed with shape (None, 270, 3) for input Tensor(\"input_238:0\", shape=(None, 270, 3), dtype=float32), but it was called on an input with incompatible shape (None, 240, 3).\n",
      "WARNING:tensorflow:Model was constructed with shape (None, 270, 3) for input Tensor(\"input_238:0\", shape=(None, 270, 3), dtype=float32), but it was called on an input with incompatible shape (None, 240, 3).\n",
      "4/4 [==============================] - 0s 82ms/step - loss: 1.2824 - sparse_categorical_accuracy: 0.5862\n",
      "Epoch 2/10\n",
      "4/4 [==============================] - 0s 82ms/step - loss: 1.1343 - sparse_categorical_accuracy: 0.8276\n",
      "Epoch 3/10\n",
      "4/4 [==============================] - 0s 83ms/step - loss: 1.1585 - sparse_categorical_accuracy: 0.8276\n",
      "Epoch 4/10\n",
      "4/4 [==============================] - 0s 82ms/step - loss: 1.2097 - sparse_categorical_accuracy: 0.7931\n",
      "Epoch 5/10\n",
      "4/4 [==============================] - 0s 83ms/step - loss: 1.0556 - sparse_categorical_accuracy: 0.8621\n",
      "Epoch 6/10\n",
      "4/4 [==============================] - 0s 83ms/step - loss: 0.8897 - sparse_categorical_accuracy: 0.9310\n",
      "Epoch 7/10\n",
      "4/4 [==============================] - 0s 82ms/step - loss: 1.0240 - sparse_categorical_accuracy: 0.7586\n",
      "Epoch 8/10\n",
      "4/4 [==============================] - 0s 82ms/step - loss: 0.7804 - sparse_categorical_accuracy: 0.8621\n",
      "Epoch 9/10\n",
      "4/4 [==============================] - 0s 85ms/step - loss: 0.9214 - sparse_categorical_accuracy: 0.8621\n",
      "Epoch 10/10\n",
      "4/4 [==============================] - 0s 83ms/step - loss: 0.6455 - sparse_categorical_accuracy: 0.9310\n",
      "WARNING:tensorflow:Model was constructed with shape (None, 270, 3) for input Tensor(\"input_238:0\", shape=(None, 270, 3), dtype=float32), but it was called on an input with incompatible shape (None, 240, 3).\n"
     ]
    },
    {
     "name": "stderr",
     "output_type": "stream",
     "text": [
      "\r",
      "16it [02:59, 11.22s/it]"
     ]
    },
    {
     "name": "stdout",
     "output_type": "stream",
     "text": [
      "Epoch 1/10\n",
      "WARNING:tensorflow:Model was constructed with shape (None, 270, 3) for input Tensor(\"input_239:0\", shape=(None, 270, 3), dtype=float32), but it was called on an input with incompatible shape (None, 240, 3).\n",
      "WARNING:tensorflow:Model was constructed with shape (None, 270, 3) for input Tensor(\"input_239:0\", shape=(None, 270, 3), dtype=float32), but it was called on an input with incompatible shape (None, 240, 3).\n",
      "4/4 [==============================] - 0s 92ms/step - loss: 1.3848 - sparse_categorical_accuracy: 0.5862\n",
      "Epoch 2/10\n",
      "4/4 [==============================] - 0s 91ms/step - loss: 1.2461 - sparse_categorical_accuracy: 0.7586\n",
      "Epoch 3/10\n",
      "4/4 [==============================] - 0s 88ms/step - loss: 1.3963 - sparse_categorical_accuracy: 0.7931\n",
      "Epoch 4/10\n",
      "4/4 [==============================] - 0s 84ms/step - loss: 1.2745 - sparse_categorical_accuracy: 0.8276\n",
      "Epoch 5/10\n",
      "4/4 [==============================] - 0s 85ms/step - loss: 1.0516 - sparse_categorical_accuracy: 0.8966\n",
      "Epoch 6/10\n",
      "4/4 [==============================] - 0s 91ms/step - loss: 1.1250 - sparse_categorical_accuracy: 0.7931\n",
      "Epoch 7/10\n",
      "4/4 [==============================] - 0s 88ms/step - loss: 1.2025 - sparse_categorical_accuracy: 0.6552\n",
      "Epoch 8/10\n",
      "4/4 [==============================] - 0s 84ms/step - loss: 0.8508 - sparse_categorical_accuracy: 0.8966\n",
      "Epoch 9/10\n",
      "4/4 [==============================] - 0s 93ms/step - loss: 0.9044 - sparse_categorical_accuracy: 0.7931\n",
      "Epoch 10/10\n",
      "4/4 [==============================] - 0s 89ms/step - loss: 1.0728 - sparse_categorical_accuracy: 0.7241\n",
      "WARNING:tensorflow:Model was constructed with shape (None, 270, 3) for input Tensor(\"input_239:0\", shape=(None, 270, 3), dtype=float32), but it was called on an input with incompatible shape (None, 240, 3).\n"
     ]
    },
    {
     "name": "stderr",
     "output_type": "stream",
     "text": [
      "\r",
      "17it [03:10, 11.35s/it]"
     ]
    },
    {
     "name": "stdout",
     "output_type": "stream",
     "text": [
      "Epoch 1/10\n",
      "WARNING:tensorflow:Model was constructed with shape (None, 270, 3) for input Tensor(\"input_240:0\", shape=(None, 270, 3), dtype=float32), but it was called on an input with incompatible shape (None, 240, 3).\n",
      "WARNING:tensorflow:Model was constructed with shape (None, 270, 3) for input Tensor(\"input_240:0\", shape=(None, 270, 3), dtype=float32), but it was called on an input with incompatible shape (None, 240, 3).\n",
      "4/4 [==============================] - 0s 92ms/step - loss: 1.2210 - sparse_categorical_accuracy: 0.6897\n",
      "Epoch 2/10\n",
      "4/4 [==============================] - 0s 92ms/step - loss: 1.0800 - sparse_categorical_accuracy: 0.7586\n",
      "Epoch 3/10\n",
      "4/4 [==============================] - 0s 81ms/step - loss: 1.1331 - sparse_categorical_accuracy: 0.8276\n",
      "Epoch 4/10\n",
      "4/4 [==============================] - 0s 80ms/step - loss: 0.9035 - sparse_categorical_accuracy: 0.8621\n",
      "Epoch 5/10\n",
      "4/4 [==============================] - 0s 77ms/step - loss: 0.8397 - sparse_categorical_accuracy: 0.9310\n",
      "Epoch 6/10\n",
      "4/4 [==============================] - 0s 82ms/step - loss: 1.3582 - sparse_categorical_accuracy: 0.7586\n",
      "Epoch 7/10\n",
      "4/4 [==============================] - 0s 88ms/step - loss: 1.2448 - sparse_categorical_accuracy: 0.5862\n",
      "Epoch 8/10\n",
      "4/4 [==============================] - 0s 86ms/step - loss: 0.9399 - sparse_categorical_accuracy: 0.8966\n",
      "Epoch 9/10\n",
      "4/4 [==============================] - 0s 81ms/step - loss: 0.9098 - sparse_categorical_accuracy: 0.8276\n",
      "Epoch 10/10\n",
      "4/4 [==============================] - 0s 84ms/step - loss: 1.4117 - sparse_categorical_accuracy: 0.5862\n",
      "WARNING:tensorflow:Model was constructed with shape (None, 270, 3) for input Tensor(\"input_240:0\", shape=(None, 270, 3), dtype=float32), but it was called on an input with incompatible shape (None, 240, 3).\n"
     ]
    },
    {
     "name": "stderr",
     "output_type": "stream",
     "text": [
      "\r",
      "18it [03:22, 11.30s/it]"
     ]
    },
    {
     "name": "stdout",
     "output_type": "stream",
     "text": [
      "Epoch 1/10\n",
      "WARNING:tensorflow:Model was constructed with shape (None, 270, 3) for input Tensor(\"input_241:0\", shape=(None, 270, 3), dtype=float32), but it was called on an input with incompatible shape (None, 240, 3).\n",
      "WARNING:tensorflow:Model was constructed with shape (None, 270, 3) for input Tensor(\"input_241:0\", shape=(None, 270, 3), dtype=float32), but it was called on an input with incompatible shape (None, 240, 3).\n",
      "4/4 [==============================] - 0s 83ms/step - loss: 1.2975 - sparse_categorical_accuracy: 0.5517\n",
      "Epoch 2/10\n",
      "4/4 [==============================] - 0s 88ms/step - loss: 1.3019 - sparse_categorical_accuracy: 0.5862\n",
      "Epoch 3/10\n",
      "4/4 [==============================] - 0s 95ms/step - loss: 1.4670 - sparse_categorical_accuracy: 0.6552\n",
      "Epoch 4/10\n",
      "4/4 [==============================] - 0s 90ms/step - loss: 1.3551 - sparse_categorical_accuracy: 0.7241\n",
      "Epoch 5/10\n",
      "4/4 [==============================] - 0s 86ms/step - loss: 1.4906 - sparse_categorical_accuracy: 0.6552\n",
      "Epoch 6/10\n",
      "4/4 [==============================] - 0s 83ms/step - loss: 1.2673 - sparse_categorical_accuracy: 0.6897\n",
      "Epoch 7/10\n",
      "4/4 [==============================] - 0s 91ms/step - loss: 1.3938 - sparse_categorical_accuracy: 0.5862\n",
      "Epoch 8/10\n",
      "4/4 [==============================] - 0s 105ms/step - loss: 0.9289 - sparse_categorical_accuracy: 0.8276\n",
      "Epoch 9/10\n",
      "4/4 [==============================] - 0s 87ms/step - loss: 0.8245 - sparse_categorical_accuracy: 0.9310\n",
      "Epoch 10/10\n",
      "4/4 [==============================] - 0s 83ms/step - loss: 1.0754 - sparse_categorical_accuracy: 0.7241\n",
      "WARNING:tensorflow:Model was constructed with shape (None, 270, 3) for input Tensor(\"input_241:0\", shape=(None, 270, 3), dtype=float32), but it was called on an input with incompatible shape (None, 240, 3).\n"
     ]
    },
    {
     "name": "stderr",
     "output_type": "stream",
     "text": [
      "\r",
      "19it [03:33, 11.30s/it]"
     ]
    },
    {
     "name": "stdout",
     "output_type": "stream",
     "text": [
      "Epoch 1/10\n",
      "WARNING:tensorflow:Model was constructed with shape (None, 270, 3) for input Tensor(\"input_242:0\", shape=(None, 270, 3), dtype=float32), but it was called on an input with incompatible shape (None, 240, 3).\n",
      "WARNING:tensorflow:Model was constructed with shape (None, 270, 3) for input Tensor(\"input_242:0\", shape=(None, 270, 3), dtype=float32), but it was called on an input with incompatible shape (None, 240, 3).\n",
      "4/4 [==============================] - 0s 82ms/step - loss: 1.1765 - sparse_categorical_accuracy: 0.5172\n",
      "Epoch 2/10\n",
      "4/4 [==============================] - 0s 84ms/step - loss: 1.2322 - sparse_categorical_accuracy: 0.7931\n",
      "Epoch 3/10\n",
      "4/4 [==============================] - 0s 81ms/step - loss: 1.1178 - sparse_categorical_accuracy: 0.8621\n",
      "Epoch 4/10\n",
      "4/4 [==============================] - 0s 88ms/step - loss: 1.3891 - sparse_categorical_accuracy: 0.8621\n",
      "Epoch 5/10\n",
      "4/4 [==============================] - 0s 82ms/step - loss: 1.2287 - sparse_categorical_accuracy: 0.8966\n",
      "Epoch 6/10\n",
      "4/4 [==============================] - 0s 80ms/step - loss: 1.0763 - sparse_categorical_accuracy: 0.8966\n",
      "Epoch 7/10\n",
      "4/4 [==============================] - 0s 82ms/step - loss: 1.1905 - sparse_categorical_accuracy: 0.8621\n",
      "Epoch 8/10\n",
      "4/4 [==============================] - 0s 82ms/step - loss: 1.1607 - sparse_categorical_accuracy: 0.7931\n",
      "Epoch 9/10\n",
      "4/4 [==============================] - 0s 78ms/step - loss: 0.8212 - sparse_categorical_accuracy: 0.8276\n",
      "Epoch 10/10\n",
      "4/4 [==============================] - 0s 84ms/step - loss: 0.7568 - sparse_categorical_accuracy: 0.8966\n",
      "WARNING:tensorflow:Model was constructed with shape (None, 270, 3) for input Tensor(\"input_242:0\", shape=(None, 270, 3), dtype=float32), but it was called on an input with incompatible shape (None, 240, 3).\n"
     ]
    },
    {
     "name": "stderr",
     "output_type": "stream",
     "text": [
      "\r",
      "20it [03:44, 11.26s/it]"
     ]
    },
    {
     "name": "stdout",
     "output_type": "stream",
     "text": [
      "Epoch 1/10\n",
      "WARNING:tensorflow:Model was constructed with shape (None, 270, 3) for input Tensor(\"input_243:0\", shape=(None, 270, 3), dtype=float32), but it was called on an input with incompatible shape (None, 240, 3).\n",
      "WARNING:tensorflow:Model was constructed with shape (None, 270, 3) for input Tensor(\"input_243:0\", shape=(None, 270, 3), dtype=float32), but it was called on an input with incompatible shape (None, 240, 3).\n",
      "4/4 [==============================] - 0s 75ms/step - loss: 1.4471 - sparse_categorical_accuracy: 0.5862\n",
      "Epoch 2/10\n",
      "4/4 [==============================] - 0s 82ms/step - loss: 1.2713 - sparse_categorical_accuracy: 0.6897\n",
      "Epoch 3/10\n",
      "4/4 [==============================] - 0s 79ms/step - loss: 1.2390 - sparse_categorical_accuracy: 0.7586\n",
      "Epoch 4/10\n",
      "4/4 [==============================] - 0s 78ms/step - loss: 1.1867 - sparse_categorical_accuracy: 0.8621\n",
      "Epoch 5/10\n",
      "4/4 [==============================] - 0s 78ms/step - loss: 1.2666 - sparse_categorical_accuracy: 0.8621\n",
      "Epoch 6/10\n",
      "4/4 [==============================] - 0s 86ms/step - loss: 1.3152 - sparse_categorical_accuracy: 0.7241\n",
      "Epoch 7/10\n",
      "4/4 [==============================] - 0s 79ms/step - loss: 1.0970 - sparse_categorical_accuracy: 0.8966\n",
      "Epoch 8/10\n",
      "4/4 [==============================] - 0s 79ms/step - loss: 1.0838 - sparse_categorical_accuracy: 0.7586\n",
      "Epoch 9/10\n",
      "4/4 [==============================] - 0s 86ms/step - loss: 1.2191 - sparse_categorical_accuracy: 0.7241\n",
      "Epoch 10/10\n",
      "4/4 [==============================] - 0s 77ms/step - loss: 0.6909 - sparse_categorical_accuracy: 0.8966\n",
      "WARNING:tensorflow:Model was constructed with shape (None, 270, 3) for input Tensor(\"input_243:0\", shape=(None, 270, 3), dtype=float32), but it was called on an input with incompatible shape (None, 240, 3).\n"
     ]
    },
    {
     "name": "stderr",
     "output_type": "stream",
     "text": [
      "\r",
      "21it [03:55, 11.17s/it]"
     ]
    },
    {
     "name": "stdout",
     "output_type": "stream",
     "text": [
      "Epoch 1/10\n",
      "WARNING:tensorflow:Model was constructed with shape (None, 270, 3) for input Tensor(\"input_244:0\", shape=(None, 270, 3), dtype=float32), but it was called on an input with incompatible shape (None, 240, 3).\n",
      "WARNING:tensorflow:Model was constructed with shape (None, 270, 3) for input Tensor(\"input_244:0\", shape=(None, 270, 3), dtype=float32), but it was called on an input with incompatible shape (None, 240, 3).\n",
      "4/4 [==============================] - 0s 82ms/step - loss: 1.1038 - sparse_categorical_accuracy: 0.5172\n",
      "Epoch 2/10\n",
      "4/4 [==============================] - 0s 86ms/step - loss: 0.9953 - sparse_categorical_accuracy: 0.8966\n",
      "Epoch 3/10\n",
      "4/4 [==============================] - 0s 82ms/step - loss: 1.6338 - sparse_categorical_accuracy: 0.7241\n",
      "Epoch 4/10\n",
      "4/4 [==============================] - 0s 82ms/step - loss: 1.2283 - sparse_categorical_accuracy: 0.8276\n",
      "Epoch 5/10\n",
      "4/4 [==============================] - 0s 84ms/step - loss: 1.1372 - sparse_categorical_accuracy: 0.8276\n",
      "Epoch 6/10\n",
      "4/4 [==============================] - 0s 83ms/step - loss: 1.2955 - sparse_categorical_accuracy: 0.7931\n",
      "Epoch 7/10\n",
      "4/4 [==============================] - 0s 82ms/step - loss: 1.0539 - sparse_categorical_accuracy: 0.8621\n",
      "Epoch 8/10\n",
      "4/4 [==============================] - 0s 82ms/step - loss: 1.1935 - sparse_categorical_accuracy: 0.7931\n",
      "Epoch 9/10\n",
      "4/4 [==============================] - 0s 80ms/step - loss: 0.8314 - sparse_categorical_accuracy: 0.8966\n",
      "Epoch 10/10\n",
      "4/4 [==============================] - 0s 81ms/step - loss: 0.8904 - sparse_categorical_accuracy: 0.7931\n",
      "WARNING:tensorflow:Model was constructed with shape (None, 270, 3) for input Tensor(\"input_244:0\", shape=(None, 270, 3), dtype=float32), but it was called on an input with incompatible shape (None, 240, 3).\n"
     ]
    },
    {
     "name": "stderr",
     "output_type": "stream",
     "text": [
      "\r",
      "22it [04:06, 11.13s/it]"
     ]
    },
    {
     "name": "stdout",
     "output_type": "stream",
     "text": [
      "Epoch 1/10\n",
      "WARNING:tensorflow:Model was constructed with shape (None, 270, 3) for input Tensor(\"input_245:0\", shape=(None, 270, 3), dtype=float32), but it was called on an input with incompatible shape (None, 240, 3).\n",
      "WARNING:tensorflow:Model was constructed with shape (None, 270, 3) for input Tensor(\"input_245:0\", shape=(None, 270, 3), dtype=float32), but it was called on an input with incompatible shape (None, 240, 3).\n",
      "4/4 [==============================] - 0s 83ms/step - loss: 1.3789 - sparse_categorical_accuracy: 0.5862\n",
      "Epoch 2/10\n",
      "4/4 [==============================] - 0s 88ms/step - loss: 1.1254 - sparse_categorical_accuracy: 0.7931\n",
      "Epoch 3/10\n",
      "4/4 [==============================] - 0s 77ms/step - loss: 1.3490 - sparse_categorical_accuracy: 0.7586\n",
      "Epoch 4/10\n",
      "4/4 [==============================] - 0s 83ms/step - loss: 1.3143 - sparse_categorical_accuracy: 0.8276\n",
      "Epoch 5/10\n",
      "4/4 [==============================] - 0s 80ms/step - loss: 1.2416 - sparse_categorical_accuracy: 0.7586\n",
      "Epoch 6/10\n",
      "4/4 [==============================] - 0s 82ms/step - loss: 1.2689 - sparse_categorical_accuracy: 0.7586\n",
      "Epoch 7/10\n",
      "4/4 [==============================] - 0s 79ms/step - loss: 1.1693 - sparse_categorical_accuracy: 0.7586\n",
      "Epoch 8/10\n",
      "4/4 [==============================] - 0s 84ms/step - loss: 1.3605 - sparse_categorical_accuracy: 0.6897\n",
      "Epoch 9/10\n",
      "4/4 [==============================] - 0s 80ms/step - loss: 0.9281 - sparse_categorical_accuracy: 0.8276\n",
      "Epoch 10/10\n",
      "4/4 [==============================] - 0s 82ms/step - loss: 0.8777 - sparse_categorical_accuracy: 0.8276\n",
      "WARNING:tensorflow:Model was constructed with shape (None, 270, 3) for input Tensor(\"input_245:0\", shape=(None, 270, 3), dtype=float32), but it was called on an input with incompatible shape (None, 240, 3).\n"
     ]
    },
    {
     "name": "stderr",
     "output_type": "stream",
     "text": [
      "\r",
      "23it [04:17, 11.11s/it]"
     ]
    },
    {
     "name": "stdout",
     "output_type": "stream",
     "text": [
      "Epoch 1/10\n",
      "WARNING:tensorflow:Model was constructed with shape (None, 270, 3) for input Tensor(\"input_246:0\", shape=(None, 270, 3), dtype=float32), but it was called on an input with incompatible shape (None, 240, 3).\n",
      "WARNING:tensorflow:Model was constructed with shape (None, 270, 3) for input Tensor(\"input_246:0\", shape=(None, 270, 3), dtype=float32), but it was called on an input with incompatible shape (None, 240, 3).\n",
      "4/4 [==============================] - 0s 83ms/step - loss: 1.4073 - sparse_categorical_accuracy: 0.6207\n",
      "Epoch 2/10\n",
      "4/4 [==============================] - 0s 86ms/step - loss: 1.0810 - sparse_categorical_accuracy: 0.7931\n",
      "Epoch 3/10\n",
      "4/4 [==============================] - 0s 84ms/step - loss: 0.9556 - sparse_categorical_accuracy: 0.8966\n",
      "Epoch 4/10\n",
      "4/4 [==============================] - 0s 79ms/step - loss: 1.2911 - sparse_categorical_accuracy: 0.7586\n",
      "Epoch 5/10\n",
      "4/4 [==============================] - 0s 79ms/step - loss: 1.5580 - sparse_categorical_accuracy: 0.7586\n",
      "Epoch 6/10\n",
      "4/4 [==============================] - 0s 78ms/step - loss: 1.1375 - sparse_categorical_accuracy: 0.7241\n",
      "Epoch 7/10\n",
      "4/4 [==============================] - 0s 79ms/step - loss: 0.9932 - sparse_categorical_accuracy: 0.8276\n",
      "Epoch 8/10\n",
      "4/4 [==============================] - 0s 74ms/step - loss: 0.9666 - sparse_categorical_accuracy: 0.8276\n",
      "Epoch 9/10\n",
      "4/4 [==============================] - 0s 76ms/step - loss: 1.0847 - sparse_categorical_accuracy: 0.6897\n",
      "Epoch 10/10\n",
      "4/4 [==============================] - 0s 89ms/step - loss: 0.8481 - sparse_categorical_accuracy: 0.9310\n",
      "WARNING:tensorflow:Model was constructed with shape (None, 270, 3) for input Tensor(\"input_246:0\", shape=(None, 270, 3), dtype=float32), but it was called on an input with incompatible shape (None, 240, 3).\n"
     ]
    },
    {
     "name": "stderr",
     "output_type": "stream",
     "text": [
      "\r",
      "24it [04:28, 11.13s/it]"
     ]
    },
    {
     "name": "stdout",
     "output_type": "stream",
     "text": [
      "Epoch 1/10\n",
      "WARNING:tensorflow:Model was constructed with shape (None, 270, 3) for input Tensor(\"input_247:0\", shape=(None, 270, 3), dtype=float32), but it was called on an input with incompatible shape (None, 240, 3).\n",
      "WARNING:tensorflow:Model was constructed with shape (None, 270, 3) for input Tensor(\"input_247:0\", shape=(None, 270, 3), dtype=float32), but it was called on an input with incompatible shape (None, 240, 3).\n",
      "4/4 [==============================] - 0s 78ms/step - loss: 1.2807 - sparse_categorical_accuracy: 0.5517\n",
      "Epoch 2/10\n",
      "4/4 [==============================] - 0s 83ms/step - loss: 1.3835 - sparse_categorical_accuracy: 0.6552\n",
      "Epoch 3/10\n",
      "4/4 [==============================] - 0s 75ms/step - loss: 1.4871 - sparse_categorical_accuracy: 0.7931\n",
      "Epoch 4/10\n",
      "4/4 [==============================] - 0s 79ms/step - loss: 1.3242 - sparse_categorical_accuracy: 0.8966\n",
      "Epoch 5/10\n",
      "4/4 [==============================] - 0s 79ms/step - loss: 1.4447 - sparse_categorical_accuracy: 0.7586\n",
      "Epoch 6/10\n",
      "4/4 [==============================] - 0s 86ms/step - loss: 1.1514 - sparse_categorical_accuracy: 0.7241\n",
      "Epoch 7/10\n",
      "4/4 [==============================] - 0s 84ms/step - loss: 1.0419 - sparse_categorical_accuracy: 0.8621\n",
      "Epoch 8/10\n",
      "4/4 [==============================] - 0s 79ms/step - loss: 0.9775 - sparse_categorical_accuracy: 0.7241\n",
      "Epoch 9/10\n",
      "4/4 [==============================] - 0s 87ms/step - loss: 1.0137 - sparse_categorical_accuracy: 0.7931\n",
      "Epoch 10/10\n",
      "4/4 [==============================] - 0s 79ms/step - loss: 0.8684 - sparse_categorical_accuracy: 0.8621\n",
      "WARNING:tensorflow:Model was constructed with shape (None, 270, 3) for input Tensor(\"input_247:0\", shape=(None, 270, 3), dtype=float32), but it was called on an input with incompatible shape (None, 240, 3).\n"
     ]
    },
    {
     "name": "stderr",
     "output_type": "stream",
     "text": [
      "\r",
      "25it [04:39, 11.13s/it]"
     ]
    },
    {
     "name": "stdout",
     "output_type": "stream",
     "text": [
      "Epoch 1/10\n",
      "WARNING:tensorflow:Model was constructed with shape (None, 270, 3) for input Tensor(\"input_248:0\", shape=(None, 270, 3), dtype=float32), but it was called on an input with incompatible shape (None, 240, 3).\n",
      "WARNING:tensorflow:Model was constructed with shape (None, 270, 3) for input Tensor(\"input_248:0\", shape=(None, 270, 3), dtype=float32), but it was called on an input with incompatible shape (None, 240, 3).\n",
      "4/4 [==============================] - 0s 92ms/step - loss: 1.4684 - sparse_categorical_accuracy: 0.4828\n",
      "Epoch 2/10\n",
      "4/4 [==============================] - 0s 96ms/step - loss: 1.4989 - sparse_categorical_accuracy: 0.6897\n",
      "Epoch 3/10\n",
      "4/4 [==============================] - 0s 92ms/step - loss: 1.4936 - sparse_categorical_accuracy: 0.8276\n",
      "Epoch 4/10\n",
      "4/4 [==============================] - 0s 100ms/step - loss: 1.9089 - sparse_categorical_accuracy: 0.5862\n",
      "Epoch 5/10\n",
      "4/4 [==============================] - 0s 93ms/step - loss: 1.4149 - sparse_categorical_accuracy: 0.8276\n",
      "Epoch 6/10\n",
      "4/4 [==============================] - 0s 92ms/step - loss: 1.2643 - sparse_categorical_accuracy: 0.7931\n",
      "Epoch 7/10\n",
      "4/4 [==============================] - 0s 88ms/step - loss: 1.5063 - sparse_categorical_accuracy: 0.6207\n",
      "Epoch 8/10\n",
      "4/4 [==============================] - 0s 98ms/step - loss: 0.9917 - sparse_categorical_accuracy: 0.7586\n",
      "Epoch 9/10\n",
      "4/4 [==============================] - 0s 90ms/step - loss: 1.0292 - sparse_categorical_accuracy: 0.7241\n",
      "Epoch 10/10\n",
      "4/4 [==============================] - 0s 90ms/step - loss: 1.0352 - sparse_categorical_accuracy: 0.7586\n",
      "WARNING:tensorflow:Model was constructed with shape (None, 270, 3) for input Tensor(\"input_248:0\", shape=(None, 270, 3), dtype=float32), but it was called on an input with incompatible shape (None, 240, 3).\n"
     ]
    },
    {
     "name": "stderr",
     "output_type": "stream",
     "text": [
      "\r",
      "26it [04:54, 12.02s/it]"
     ]
    },
    {
     "name": "stdout",
     "output_type": "stream",
     "text": [
      "Epoch 1/10\n",
      "WARNING:tensorflow:Model was constructed with shape (None, 270, 3) for input Tensor(\"input_249:0\", shape=(None, 270, 3), dtype=float32), but it was called on an input with incompatible shape (None, 240, 3).\n",
      "WARNING:tensorflow:Model was constructed with shape (None, 270, 3) for input Tensor(\"input_249:0\", shape=(None, 270, 3), dtype=float32), but it was called on an input with incompatible shape (None, 240, 3).\n",
      "4/4 [==============================] - 0s 92ms/step - loss: 1.1674 - sparse_categorical_accuracy: 0.6207\n",
      "Epoch 2/10\n",
      "4/4 [==============================] - 0s 90ms/step - loss: 1.2538 - sparse_categorical_accuracy: 0.8276\n",
      "Epoch 3/10\n",
      "4/4 [==============================] - 0s 90ms/step - loss: 1.2469 - sparse_categorical_accuracy: 0.8621\n",
      "Epoch 4/10\n",
      "4/4 [==============================] - 0s 95ms/step - loss: 1.3264 - sparse_categorical_accuracy: 0.7931\n",
      "Epoch 5/10\n",
      "4/4 [==============================] - 0s 105ms/step - loss: 1.0518 - sparse_categorical_accuracy: 0.8966\n",
      "Epoch 6/10\n",
      "4/4 [==============================] - 0s 86ms/step - loss: 0.9419 - sparse_categorical_accuracy: 0.8276\n",
      "Epoch 7/10\n",
      "4/4 [==============================] - 0s 92ms/step - loss: 1.0447 - sparse_categorical_accuracy: 0.8276\n",
      "Epoch 8/10\n",
      "4/4 [==============================] - 0s 92ms/step - loss: 0.8910 - sparse_categorical_accuracy: 0.8621\n",
      "Epoch 9/10\n",
      "4/4 [==============================] - 0s 89ms/step - loss: 1.0626 - sparse_categorical_accuracy: 0.7931\n",
      "Epoch 10/10\n",
      "4/4 [==============================] - 0s 94ms/step - loss: 0.8100 - sparse_categorical_accuracy: 0.7931\n",
      "WARNING:tensorflow:Model was constructed with shape (None, 270, 3) for input Tensor(\"input_249:0\", shape=(None, 270, 3), dtype=float32), but it was called on an input with incompatible shape (None, 240, 3).\n"
     ]
    },
    {
     "name": "stderr",
     "output_type": "stream",
     "text": [
      "\r",
      "27it [05:05, 11.95s/it]"
     ]
    },
    {
     "name": "stdout",
     "output_type": "stream",
     "text": [
      "Epoch 1/10\n",
      "WARNING:tensorflow:Model was constructed with shape (None, 270, 3) for input Tensor(\"input_250:0\", shape=(None, 270, 3), dtype=float32), but it was called on an input with incompatible shape (None, 240, 3).\n",
      "WARNING:tensorflow:Model was constructed with shape (None, 270, 3) for input Tensor(\"input_250:0\", shape=(None, 270, 3), dtype=float32), but it was called on an input with incompatible shape (None, 240, 3).\n",
      "4/4 [==============================] - 0s 93ms/step - loss: 1.5352 - sparse_categorical_accuracy: 0.3793\n",
      "Epoch 2/10\n",
      "4/4 [==============================] - 0s 90ms/step - loss: 1.0112 - sparse_categorical_accuracy: 0.8966\n",
      "Epoch 3/10\n",
      "4/4 [==============================] - 0s 94ms/step - loss: 1.4021 - sparse_categorical_accuracy: 0.7931\n",
      "Epoch 4/10\n",
      "4/4 [==============================] - 0s 88ms/step - loss: 1.3567 - sparse_categorical_accuracy: 0.7931\n",
      "Epoch 5/10\n",
      "4/4 [==============================] - 0s 87ms/step - loss: 1.5503 - sparse_categorical_accuracy: 0.7241\n",
      "Epoch 6/10\n",
      "4/4 [==============================] - 0s 98ms/step - loss: 1.4066 - sparse_categorical_accuracy: 0.6552\n",
      "Epoch 7/10\n",
      "4/4 [==============================] - 0s 90ms/step - loss: 1.4175 - sparse_categorical_accuracy: 0.7931\n",
      "Epoch 8/10\n",
      "4/4 [==============================] - 0s 89ms/step - loss: 0.8886 - sparse_categorical_accuracy: 0.8621\n",
      "Epoch 9/10\n",
      "4/4 [==============================] - 0s 93ms/step - loss: 1.3287 - sparse_categorical_accuracy: 0.7241\n",
      "Epoch 10/10\n",
      "4/4 [==============================] - 0s 97ms/step - loss: 0.9564 - sparse_categorical_accuracy: 0.8966\n",
      "WARNING:tensorflow:Model was constructed with shape (None, 270, 3) for input Tensor(\"input_250:0\", shape=(None, 270, 3), dtype=float32), but it was called on an input with incompatible shape (None, 240, 3).\n"
     ]
    },
    {
     "name": "stderr",
     "output_type": "stream",
     "text": [
      "\r",
      "28it [05:17, 11.92s/it]"
     ]
    },
    {
     "name": "stdout",
     "output_type": "stream",
     "text": [
      "Epoch 1/10\n",
      "WARNING:tensorflow:Model was constructed with shape (None, 270, 3) for input Tensor(\"input_251:0\", shape=(None, 270, 3), dtype=float32), but it was called on an input with incompatible shape (None, 240, 3).\n",
      "WARNING:tensorflow:Model was constructed with shape (None, 270, 3) for input Tensor(\"input_251:0\", shape=(None, 270, 3), dtype=float32), but it was called on an input with incompatible shape (None, 240, 3).\n",
      "4/4 [==============================] - 0s 90ms/step - loss: 1.2409 - sparse_categorical_accuracy: 0.6207\n",
      "Epoch 2/10\n",
      "4/4 [==============================] - 0s 87ms/step - loss: 1.2628 - sparse_categorical_accuracy: 0.6897\n",
      "Epoch 3/10\n",
      "4/4 [==============================] - 0s 92ms/step - loss: 1.0279 - sparse_categorical_accuracy: 0.8621\n",
      "Epoch 4/10\n",
      "4/4 [==============================] - 0s 88ms/step - loss: 1.2145 - sparse_categorical_accuracy: 0.8276\n",
      "Epoch 5/10\n",
      "4/4 [==============================] - 0s 94ms/step - loss: 0.9645 - sparse_categorical_accuracy: 0.8621\n",
      "Epoch 6/10\n",
      "4/4 [==============================] - 0s 88ms/step - loss: 1.1397 - sparse_categorical_accuracy: 0.7931\n",
      "Epoch 7/10\n",
      "4/4 [==============================] - 0s 102ms/step - loss: 0.9502 - sparse_categorical_accuracy: 0.8276\n",
      "Epoch 8/10\n",
      "4/4 [==============================] - 0s 86ms/step - loss: 1.0969 - sparse_categorical_accuracy: 0.7586\n",
      "Epoch 9/10\n",
      "4/4 [==============================] - 0s 94ms/step - loss: 0.7360 - sparse_categorical_accuracy: 0.8276\n",
      "Epoch 10/10\n",
      "4/4 [==============================] - 0s 86ms/step - loss: 1.2422 - sparse_categorical_accuracy: 0.6552\n",
      "WARNING:tensorflow:Model was constructed with shape (None, 270, 3) for input Tensor(\"input_251:0\", shape=(None, 270, 3), dtype=float32), but it was called on an input with incompatible shape (None, 240, 3).\n"
     ]
    },
    {
     "name": "stderr",
     "output_type": "stream",
     "text": [
      "\r",
      "29it [05:29, 11.83s/it]"
     ]
    },
    {
     "name": "stdout",
     "output_type": "stream",
     "text": [
      "Epoch 1/10\n",
      "WARNING:tensorflow:Model was constructed with shape (None, 270, 3) for input Tensor(\"input_252:0\", shape=(None, 270, 3), dtype=float32), but it was called on an input with incompatible shape (None, 240, 3).\n",
      "WARNING:tensorflow:Model was constructed with shape (None, 270, 3) for input Tensor(\"input_252:0\", shape=(None, 270, 3), dtype=float32), but it was called on an input with incompatible shape (None, 240, 3).\n",
      "4/4 [==============================] - 0s 93ms/step - loss: 1.4173 - sparse_categorical_accuracy: 0.5862\n",
      "Epoch 2/10\n",
      "4/4 [==============================] - 0s 92ms/step - loss: 1.2902 - sparse_categorical_accuracy: 0.7241\n",
      "Epoch 3/10\n",
      "4/4 [==============================] - 0s 86ms/step - loss: 1.3158 - sparse_categorical_accuracy: 0.8276\n",
      "Epoch 4/10\n",
      "4/4 [==============================] - 0s 92ms/step - loss: 1.4200 - sparse_categorical_accuracy: 0.7931\n",
      "Epoch 5/10\n",
      "4/4 [==============================] - 0s 88ms/step - loss: 1.1971 - sparse_categorical_accuracy: 0.8966\n",
      "Epoch 6/10\n",
      "4/4 [==============================] - 0s 91ms/step - loss: 1.2273 - sparse_categorical_accuracy: 0.7931\n",
      "Epoch 7/10\n",
      "4/4 [==============================] - 0s 93ms/step - loss: 1.1528 - sparse_categorical_accuracy: 0.7241\n",
      "Epoch 8/10\n",
      "4/4 [==============================] - 0s 87ms/step - loss: 1.1044 - sparse_categorical_accuracy: 0.7586\n",
      "Epoch 9/10\n",
      "4/4 [==============================] - 0s 87ms/step - loss: 0.8294 - sparse_categorical_accuracy: 0.8276\n",
      "Epoch 10/10\n",
      "4/4 [==============================] - 0s 94ms/step - loss: 0.9117 - sparse_categorical_accuracy: 0.8276\n",
      "WARNING:tensorflow:Model was constructed with shape (None, 270, 3) for input Tensor(\"input_252:0\", shape=(None, 270, 3), dtype=float32), but it was called on an input with incompatible shape (None, 240, 3).\n"
     ]
    },
    {
     "name": "stderr",
     "output_type": "stream",
     "text": [
      "30it [05:41, 11.37s/it]\n",
      "0it [00:00, ?it/s]"
     ]
    },
    {
     "name": "stdout",
     "output_type": "stream",
     "text": [
      "Epoch 1/10\n",
      "3/3 [==============================] - 0s 77ms/step - loss: 1.1177 - sparse_categorical_accuracy: 0.6842\n",
      "Epoch 2/10\n",
      "3/3 [==============================] - 0s 66ms/step - loss: 1.2921 - sparse_categorical_accuracy: 0.7368\n",
      "Epoch 3/10\n",
      "3/3 [==============================] - 0s 73ms/step - loss: 1.2744 - sparse_categorical_accuracy: 0.7368\n",
      "Epoch 4/10\n",
      "3/3 [==============================] - 0s 84ms/step - loss: 1.2653 - sparse_categorical_accuracy: 0.7368\n",
      "Epoch 5/10\n",
      "3/3 [==============================] - 0s 80ms/step - loss: 1.3356 - sparse_categorical_accuracy: 0.7368\n",
      "Epoch 6/10\n",
      "3/3 [==============================] - 0s 84ms/step - loss: 1.3682 - sparse_categorical_accuracy: 0.6842\n",
      "Epoch 7/10\n",
      "3/3 [==============================] - 0s 77ms/step - loss: 1.5950 - sparse_categorical_accuracy: 0.7895\n",
      "Epoch 8/10\n",
      "3/3 [==============================] - 0s 82ms/step - loss: 1.4029 - sparse_categorical_accuracy: 0.6842\n",
      "Epoch 9/10\n",
      "3/3 [==============================] - 0s 79ms/step - loss: 1.6751 - sparse_categorical_accuracy: 0.4737\n",
      "Epoch 10/10\n",
      "3/3 [==============================] - 0s 76ms/step - loss: 1.3200 - sparse_categorical_accuracy: 0.7368\n"
     ]
    },
    {
     "name": "stderr",
     "output_type": "stream",
     "text": [
      "\r",
      "1it [00:10, 10.63s/it]"
     ]
    },
    {
     "name": "stdout",
     "output_type": "stream",
     "text": [
      "Epoch 1/10\n",
      "3/3 [==============================] - 0s 74ms/step - loss: 1.5935 - sparse_categorical_accuracy: 0.3684\n",
      "Epoch 2/10\n",
      "3/3 [==============================] - 0s 69ms/step - loss: 1.2390 - sparse_categorical_accuracy: 0.6842\n",
      "Epoch 3/10\n",
      "3/3 [==============================] - 0s 75ms/step - loss: 1.4433 - sparse_categorical_accuracy: 0.7368\n",
      "Epoch 4/10\n",
      "3/3 [==============================] - 0s 65ms/step - loss: 1.7434 - sparse_categorical_accuracy: 0.6842\n",
      "Epoch 5/10\n",
      "3/3 [==============================] - 0s 79ms/step - loss: 1.5078 - sparse_categorical_accuracy: 0.7368\n",
      "Epoch 6/10\n",
      "3/3 [==============================] - 0s 71ms/step - loss: 1.6178 - sparse_categorical_accuracy: 0.7368\n",
      "Epoch 7/10\n",
      "3/3 [==============================] - 0s 73ms/step - loss: 1.7153 - sparse_categorical_accuracy: 0.6842\n",
      "Epoch 8/10\n",
      "3/3 [==============================] - 0s 82ms/step - loss: 1.6658 - sparse_categorical_accuracy: 0.7895\n",
      "Epoch 9/10\n",
      "3/3 [==============================] - 0s 74ms/step - loss: 1.4206 - sparse_categorical_accuracy: 0.8947\n",
      "Epoch 10/10\n",
      "3/3 [==============================] - 0s 78ms/step - loss: 1.5901 - sparse_categorical_accuracy: 0.6316\n"
     ]
    },
    {
     "name": "stderr",
     "output_type": "stream",
     "text": [
      "\r",
      "2it [00:20, 10.54s/it]"
     ]
    },
    {
     "name": "stdout",
     "output_type": "stream",
     "text": [
      "Epoch 1/10\n",
      "3/3 [==============================] - 0s 74ms/step - loss: 1.5016 - sparse_categorical_accuracy: 0.4737\n",
      "Epoch 2/10\n",
      "3/3 [==============================] - 0s 75ms/step - loss: 1.0631 - sparse_categorical_accuracy: 0.7895\n",
      "Epoch 3/10\n",
      "3/3 [==============================] - 0s 72ms/step - loss: 1.2271 - sparse_categorical_accuracy: 0.7895\n",
      "Epoch 4/10\n",
      "3/3 [==============================] - 0s 65ms/step - loss: 1.1079 - sparse_categorical_accuracy: 0.8947\n",
      "Epoch 5/10\n",
      "3/3 [==============================] - 0s 73ms/step - loss: 1.2590 - sparse_categorical_accuracy: 0.7895\n",
      "Epoch 6/10\n",
      "3/3 [==============================] - 0s 72ms/step - loss: 1.1895 - sparse_categorical_accuracy: 0.8947\n",
      "Epoch 7/10\n",
      "3/3 [==============================] - 0s 71ms/step - loss: 1.1272 - sparse_categorical_accuracy: 0.8947\n",
      "Epoch 8/10\n",
      "3/3 [==============================] - 0s 75ms/step - loss: 0.9801 - sparse_categorical_accuracy: 0.8947\n",
      "Epoch 9/10\n",
      "3/3 [==============================] - 0s 78ms/step - loss: 1.1981 - sparse_categorical_accuracy: 0.7895\n",
      "Epoch 10/10\n",
      "3/3 [==============================] - 0s 75ms/step - loss: 1.4528 - sparse_categorical_accuracy: 0.7895\n"
     ]
    },
    {
     "name": "stderr",
     "output_type": "stream",
     "text": [
      "\r",
      "3it [00:31, 10.47s/it]"
     ]
    },
    {
     "name": "stdout",
     "output_type": "stream",
     "text": [
      "Epoch 1/10\n",
      "3/3 [==============================] - 0s 73ms/step - loss: 1.1865 - sparse_categorical_accuracy: 0.6316\n",
      "Epoch 2/10\n",
      "3/3 [==============================] - 0s 73ms/step - loss: 1.6218 - sparse_categorical_accuracy: 0.6842\n",
      "Epoch 3/10\n",
      "3/3 [==============================] - 0s 76ms/step - loss: 1.2669 - sparse_categorical_accuracy: 0.8421\n",
      "Epoch 4/10\n",
      "3/3 [==============================] - 0s 72ms/step - loss: 1.7884 - sparse_categorical_accuracy: 0.5789\n",
      "Epoch 5/10\n",
      "3/3 [==============================] - 0s 83ms/step - loss: 1.4785 - sparse_categorical_accuracy: 0.7895\n",
      "Epoch 6/10\n",
      "3/3 [==============================] - 0s 77ms/step - loss: 1.6683 - sparse_categorical_accuracy: 0.7368\n",
      "Epoch 7/10\n",
      "3/3 [==============================] - 0s 70ms/step - loss: 1.6507 - sparse_categorical_accuracy: 0.6842\n",
      "Epoch 8/10\n",
      "3/3 [==============================] - 0s 71ms/step - loss: 1.8351 - sparse_categorical_accuracy: 0.6842\n",
      "Epoch 9/10\n",
      "3/3 [==============================] - 0s 72ms/step - loss: 1.7402 - sparse_categorical_accuracy: 0.7368\n",
      "Epoch 10/10\n",
      "3/3 [==============================] - 0s 71ms/step - loss: 1.4516 - sparse_categorical_accuracy: 0.7895\n"
     ]
    },
    {
     "name": "stderr",
     "output_type": "stream",
     "text": [
      "\r",
      "4it [00:41, 10.42s/it]"
     ]
    },
    {
     "name": "stdout",
     "output_type": "stream",
     "text": [
      "Epoch 1/10\n",
      "3/3 [==============================] - 0s 66ms/step - loss: 1.3500 - sparse_categorical_accuracy: 0.6842\n",
      "Epoch 2/10\n",
      "3/3 [==============================] - 0s 68ms/step - loss: 1.4441 - sparse_categorical_accuracy: 0.6316\n",
      "Epoch 3/10\n",
      "3/3 [==============================] - 0s 80ms/step - loss: 1.1195 - sparse_categorical_accuracy: 0.7895\n",
      "Epoch 4/10\n",
      "3/3 [==============================] - 0s 78ms/step - loss: 1.6080 - sparse_categorical_accuracy: 0.6842\n",
      "Epoch 5/10\n",
      "3/3 [==============================] - 0s 68ms/step - loss: 1.3644 - sparse_categorical_accuracy: 0.7895\n",
      "Epoch 6/10\n",
      "3/3 [==============================] - 0s 76ms/step - loss: 1.5657 - sparse_categorical_accuracy: 0.7895\n",
      "Epoch 7/10\n",
      "3/3 [==============================] - 0s 79ms/step - loss: 1.6263 - sparse_categorical_accuracy: 0.7895\n",
      "Epoch 8/10\n",
      "3/3 [==============================] - 0s 71ms/step - loss: 1.5728 - sparse_categorical_accuracy: 0.7368\n",
      "Epoch 9/10\n",
      "3/3 [==============================] - 0s 73ms/step - loss: 1.4734 - sparse_categorical_accuracy: 0.8421\n",
      "Epoch 10/10\n",
      "3/3 [==============================] - 0s 71ms/step - loss: 1.4249 - sparse_categorical_accuracy: 0.8947\n"
     ]
    },
    {
     "name": "stderr",
     "output_type": "stream",
     "text": [
      "\r",
      "5it [00:51, 10.34s/it]"
     ]
    },
    {
     "name": "stdout",
     "output_type": "stream",
     "text": [
      "Epoch 1/10\n",
      "3/3 [==============================] - 0s 73ms/step - loss: 1.4416 - sparse_categorical_accuracy: 0.5263\n",
      "Epoch 2/10\n",
      "3/3 [==============================] - 0s 68ms/step - loss: 0.9814 - sparse_categorical_accuracy: 0.8947\n",
      "Epoch 3/10\n",
      "3/3 [==============================] - 0s 62ms/step - loss: 1.3062 - sparse_categorical_accuracy: 0.7895\n",
      "Epoch 4/10\n",
      "3/3 [==============================] - 0s 70ms/step - loss: 1.6578 - sparse_categorical_accuracy: 0.7895\n",
      "Epoch 5/10\n",
      "3/3 [==============================] - 0s 68ms/step - loss: 1.2246 - sparse_categorical_accuracy: 0.9474\n",
      "Epoch 6/10\n",
      "3/3 [==============================] - 0s 69ms/step - loss: 1.3751 - sparse_categorical_accuracy: 0.8421\n",
      "Epoch 7/10\n",
      "3/3 [==============================] - 0s 70ms/step - loss: 1.0891 - sparse_categorical_accuracy: 0.8421\n",
      "Epoch 8/10\n",
      "3/3 [==============================] - 0s 69ms/step - loss: 1.1817 - sparse_categorical_accuracy: 0.7895\n",
      "Epoch 9/10\n",
      "3/3 [==============================] - 0s 78ms/step - loss: 1.3832 - sparse_categorical_accuracy: 0.7895\n",
      "Epoch 10/10\n",
      "3/3 [==============================] - 0s 70ms/step - loss: 0.8274 - sparse_categorical_accuracy: 0.9474\n"
     ]
    },
    {
     "name": "stderr",
     "output_type": "stream",
     "text": [
      "\r",
      "6it [01:01, 10.28s/it]"
     ]
    },
    {
     "name": "stdout",
     "output_type": "stream",
     "text": [
      "Epoch 1/10\n",
      "3/3 [==============================] - 0s 67ms/step - loss: 1.4139 - sparse_categorical_accuracy: 0.5263\n",
      "Epoch 2/10\n",
      "3/3 [==============================] - 0s 69ms/step - loss: 1.1912 - sparse_categorical_accuracy: 0.5789\n",
      "Epoch 3/10\n",
      "3/3 [==============================] - 0s 82ms/step - loss: 1.0766 - sparse_categorical_accuracy: 0.8947\n",
      "Epoch 4/10\n",
      "3/3 [==============================] - 0s 72ms/step - loss: 1.6759 - sparse_categorical_accuracy: 0.5263\n",
      "Epoch 5/10\n",
      "3/3 [==============================] - 0s 73ms/step - loss: 1.6326 - sparse_categorical_accuracy: 0.6842\n",
      "Epoch 6/10\n",
      "3/3 [==============================] - 0s 73ms/step - loss: 1.6658 - sparse_categorical_accuracy: 0.7895\n",
      "Epoch 7/10\n",
      "3/3 [==============================] - 0s 73ms/step - loss: 1.9589 - sparse_categorical_accuracy: 0.6842\n",
      "Epoch 8/10\n",
      "3/3 [==============================] - 0s 72ms/step - loss: 1.3463 - sparse_categorical_accuracy: 0.7368\n",
      "Epoch 9/10\n",
      "3/3 [==============================] - 0s 70ms/step - loss: 1.2838 - sparse_categorical_accuracy: 0.8421\n",
      "Epoch 10/10\n",
      "3/3 [==============================] - 0s 70ms/step - loss: 1.5323 - sparse_categorical_accuracy: 0.7368\n"
     ]
    },
    {
     "name": "stderr",
     "output_type": "stream",
     "text": [
      "\r",
      "7it [01:11, 10.24s/it]"
     ]
    },
    {
     "name": "stdout",
     "output_type": "stream",
     "text": [
      "Epoch 1/10\n",
      "3/3 [==============================] - 0s 73ms/step - loss: 1.2818 - sparse_categorical_accuracy: 0.6316\n",
      "Epoch 2/10\n",
      "3/3 [==============================] - 0s 66ms/step - loss: 1.1625 - sparse_categorical_accuracy: 0.6842\n",
      "Epoch 3/10\n",
      "3/3 [==============================] - 0s 71ms/step - loss: 1.2667 - sparse_categorical_accuracy: 0.6842\n",
      "Epoch 4/10\n",
      "3/3 [==============================] - 0s 77ms/step - loss: 1.3859 - sparse_categorical_accuracy: 0.8421\n",
      "Epoch 5/10\n",
      "3/3 [==============================] - 0s 68ms/step - loss: 1.2541 - sparse_categorical_accuracy: 0.8947\n",
      "Epoch 6/10\n",
      "3/3 [==============================] - 0s 71ms/step - loss: 1.1777 - sparse_categorical_accuracy: 0.8421\n",
      "Epoch 7/10\n",
      "3/3 [==============================] - 0s 70ms/step - loss: 1.2591 - sparse_categorical_accuracy: 0.8421\n",
      "Epoch 8/10\n",
      "3/3 [==============================] - 0s 69ms/step - loss: 1.1265 - sparse_categorical_accuracy: 0.8421\n",
      "Epoch 9/10\n",
      "3/3 [==============================] - 0s 67ms/step - loss: 1.2503 - sparse_categorical_accuracy: 0.7895\n",
      "Epoch 10/10\n",
      "3/3 [==============================] - 0s 68ms/step - loss: 1.9242 - sparse_categorical_accuracy: 0.5263\n"
     ]
    },
    {
     "name": "stderr",
     "output_type": "stream",
     "text": [
      "\r",
      "8it [01:22, 10.20s/it]"
     ]
    },
    {
     "name": "stdout",
     "output_type": "stream",
     "text": [
      "Epoch 1/10\n",
      "3/3 [==============================] - 0s 68ms/step - loss: 1.4482 - sparse_categorical_accuracy: 0.4737\n",
      "Epoch 2/10\n",
      "3/3 [==============================] - 0s 68ms/step - loss: 1.0682 - sparse_categorical_accuracy: 0.7368\n",
      "Epoch 3/10\n",
      "3/3 [==============================] - 0s 70ms/step - loss: 1.2564 - sparse_categorical_accuracy: 0.6316\n",
      "Epoch 4/10\n",
      "3/3 [==============================] - 0s 69ms/step - loss: 1.3055 - sparse_categorical_accuracy: 0.7895\n",
      "Epoch 5/10\n",
      "3/3 [==============================] - 0s 63ms/step - loss: 1.4324 - sparse_categorical_accuracy: 0.7368\n",
      "Epoch 6/10\n",
      "3/3 [==============================] - 0s 70ms/step - loss: 1.4879 - sparse_categorical_accuracy: 0.6842\n",
      "Epoch 7/10\n",
      "3/3 [==============================] - 0s 69ms/step - loss: 1.8161 - sparse_categorical_accuracy: 0.5789\n",
      "Epoch 8/10\n",
      "3/3 [==============================] - 0s 68ms/step - loss: 1.4701 - sparse_categorical_accuracy: 0.8421\n",
      "Epoch 9/10\n",
      "3/3 [==============================] - 0s 74ms/step - loss: 1.3462 - sparse_categorical_accuracy: 0.7895\n",
      "Epoch 10/10\n",
      "3/3 [==============================] - 0s 66ms/step - loss: 1.3224 - sparse_categorical_accuracy: 0.8421\n"
     ]
    },
    {
     "name": "stderr",
     "output_type": "stream",
     "text": [
      "\r",
      "9it [01:32, 10.22s/it]"
     ]
    },
    {
     "name": "stdout",
     "output_type": "stream",
     "text": [
      "Epoch 1/10\n",
      "3/3 [==============================] - 0s 70ms/step - loss: 1.2156 - sparse_categorical_accuracy: 0.5789\n",
      "Epoch 2/10\n",
      "3/3 [==============================] - 0s 73ms/step - loss: 1.0360 - sparse_categorical_accuracy: 0.7895\n",
      "Epoch 3/10\n",
      "3/3 [==============================] - 0s 72ms/step - loss: 1.1627 - sparse_categorical_accuracy: 0.8947\n",
      "Epoch 4/10\n",
      "3/3 [==============================] - 0s 65ms/step - loss: 1.5022 - sparse_categorical_accuracy: 0.7895\n",
      "Epoch 5/10\n",
      "3/3 [==============================] - 0s 68ms/step - loss: 1.7463 - sparse_categorical_accuracy: 0.6316\n",
      "Epoch 6/10\n",
      "3/3 [==============================] - 0s 71ms/step - loss: 1.3395 - sparse_categorical_accuracy: 0.7895\n",
      "Epoch 7/10\n",
      "3/3 [==============================] - 0s 68ms/step - loss: 1.2148 - sparse_categorical_accuracy: 0.8421\n",
      "Epoch 8/10\n",
      "3/3 [==============================] - 0s 68ms/step - loss: 1.3697 - sparse_categorical_accuracy: 0.7368\n",
      "Epoch 9/10\n",
      "3/3 [==============================] - 0s 68ms/step - loss: 1.1566 - sparse_categorical_accuracy: 0.6842\n",
      "Epoch 10/10\n",
      "3/3 [==============================] - 0s 63ms/step - loss: 1.0466 - sparse_categorical_accuracy: 0.7895\n"
     ]
    },
    {
     "name": "stderr",
     "output_type": "stream",
     "text": [
      "\r",
      "10it [01:42, 10.25s/it]"
     ]
    },
    {
     "name": "stdout",
     "output_type": "stream",
     "text": [
      "Epoch 1/10\n",
      "3/3 [==============================] - 0s 69ms/step - loss: 1.5982 - sparse_categorical_accuracy: 0.5263\n",
      "Epoch 2/10\n",
      "3/3 [==============================] - 0s 70ms/step - loss: 1.0766 - sparse_categorical_accuracy: 0.7368\n",
      "Epoch 3/10\n",
      "3/3 [==============================] - 0s 79ms/step - loss: 1.0955 - sparse_categorical_accuracy: 0.7895\n",
      "Epoch 4/10\n",
      "3/3 [==============================] - 0s 68ms/step - loss: 1.4821 - sparse_categorical_accuracy: 0.6842\n",
      "Epoch 5/10\n",
      "3/3 [==============================] - 0s 80ms/step - loss: 1.5152 - sparse_categorical_accuracy: 0.7895\n",
      "Epoch 6/10\n",
      "3/3 [==============================] - 0s 66ms/step - loss: 1.4936 - sparse_categorical_accuracy: 0.8421\n",
      "Epoch 7/10\n",
      "3/3 [==============================] - 0s 74ms/step - loss: 1.6002 - sparse_categorical_accuracy: 0.7368\n",
      "Epoch 8/10\n",
      "3/3 [==============================] - 0s 71ms/step - loss: 1.4018 - sparse_categorical_accuracy: 0.8421\n",
      "Epoch 9/10\n",
      "3/3 [==============================] - 0s 65ms/step - loss: 1.2670 - sparse_categorical_accuracy: 0.8947\n",
      "Epoch 10/10\n",
      "3/3 [==============================] - 0s 61ms/step - loss: 1.5822 - sparse_categorical_accuracy: 0.6842\n"
     ]
    },
    {
     "name": "stderr",
     "output_type": "stream",
     "text": [
      "\r",
      "11it [01:53, 10.27s/it]"
     ]
    },
    {
     "name": "stdout",
     "output_type": "stream",
     "text": [
      "Epoch 1/10\n",
      "3/3 [==============================] - 0s 92ms/step - loss: 1.1965 - sparse_categorical_accuracy: 0.5789\n",
      "Epoch 2/10\n",
      "3/3 [==============================] - 0s 73ms/step - loss: 0.9148 - sparse_categorical_accuracy: 0.7368\n",
      "Epoch 3/10\n",
      "3/3 [==============================] - 0s 88ms/step - loss: 1.1561 - sparse_categorical_accuracy: 0.7895\n",
      "Epoch 4/10\n",
      "3/3 [==============================] - 0s 93ms/step - loss: 1.0695 - sparse_categorical_accuracy: 0.8947\n",
      "Epoch 5/10\n",
      "3/3 [==============================] - 0s 84ms/step - loss: 1.2256 - sparse_categorical_accuracy: 0.8421\n",
      "Epoch 6/10\n",
      "3/3 [==============================] - 0s 84ms/step - loss: 1.4324 - sparse_categorical_accuracy: 0.8947\n",
      "Epoch 7/10\n",
      "3/3 [==============================] - 0s 81ms/step - loss: 1.4304 - sparse_categorical_accuracy: 0.8947\n",
      "Epoch 8/10\n",
      "3/3 [==============================] - 0s 87ms/step - loss: 1.0636 - sparse_categorical_accuracy: 0.8947\n",
      "Epoch 9/10\n",
      "3/3 [==============================] - 0s 82ms/step - loss: 1.1483 - sparse_categorical_accuracy: 0.8421\n",
      "Epoch 10/10\n",
      "3/3 [==============================] - 0s 79ms/step - loss: 1.0150 - sparse_categorical_accuracy: 0.9474\n"
     ]
    },
    {
     "name": "stderr",
     "output_type": "stream",
     "text": [
      "\r",
      "12it [02:06, 11.21s/it]"
     ]
    },
    {
     "name": "stdout",
     "output_type": "stream",
     "text": [
      "Epoch 1/10\n",
      "3/3 [==============================] - 0s 83ms/step - loss: 1.2291 - sparse_categorical_accuracy: 0.5263\n",
      "Epoch 2/10\n",
      "3/3 [==============================] - 0s 83ms/step - loss: 1.8558 - sparse_categorical_accuracy: 0.4737\n",
      "Epoch 3/10\n",
      "3/3 [==============================] - 0s 71ms/step - loss: 1.0692 - sparse_categorical_accuracy: 0.8421\n",
      "Epoch 4/10\n",
      "3/3 [==============================] - 0s 78ms/step - loss: 1.3785 - sparse_categorical_accuracy: 0.8947\n",
      "Epoch 5/10\n",
      "3/3 [==============================] - 0s 80ms/step - loss: 1.3855 - sparse_categorical_accuracy: 0.7895\n",
      "Epoch 6/10\n",
      "3/3 [==============================] - 0s 72ms/step - loss: 1.6253 - sparse_categorical_accuracy: 0.7368\n",
      "Epoch 7/10\n",
      "3/3 [==============================] - 0s 84ms/step - loss: 1.3995 - sparse_categorical_accuracy: 0.7368\n",
      "Epoch 8/10\n",
      "3/3 [==============================] - 0s 80ms/step - loss: 1.5417 - sparse_categorical_accuracy: 0.7368\n",
      "Epoch 9/10\n",
      "3/3 [==============================] - 0s 78ms/step - loss: 1.8229 - sparse_categorical_accuracy: 0.7368\n",
      "Epoch 10/10\n",
      "3/3 [==============================] - 0s 77ms/step - loss: 1.8345 - sparse_categorical_accuracy: 0.7368\n"
     ]
    },
    {
     "name": "stderr",
     "output_type": "stream",
     "text": [
      "\r",
      "13it [02:17, 11.11s/it]"
     ]
    },
    {
     "name": "stdout",
     "output_type": "stream",
     "text": [
      "Epoch 1/10\n",
      "3/3 [==============================] - 0s 82ms/step - loss: 1.1668 - sparse_categorical_accuracy: 0.7368\n",
      "Epoch 2/10\n",
      "3/3 [==============================] - 0s 78ms/step - loss: 1.2820 - sparse_categorical_accuracy: 0.6316\n",
      "Epoch 3/10\n",
      "3/3 [==============================] - 0s 86ms/step - loss: 1.5351 - sparse_categorical_accuracy: 0.6842\n",
      "Epoch 4/10\n",
      "3/3 [==============================] - 0s 93ms/step - loss: 1.3685 - sparse_categorical_accuracy: 0.6842\n",
      "Epoch 5/10\n",
      "3/3 [==============================] - 0s 80ms/step - loss: 1.2349 - sparse_categorical_accuracy: 0.7895\n",
      "Epoch 6/10\n",
      "3/3 [==============================] - 0s 84ms/step - loss: 1.4905 - sparse_categorical_accuracy: 0.7368\n",
      "Epoch 7/10\n",
      "3/3 [==============================] - 0s 73ms/step - loss: 1.2834 - sparse_categorical_accuracy: 0.7368\n",
      "Epoch 8/10\n",
      "3/3 [==============================] - 0s 74ms/step - loss: 1.3634 - sparse_categorical_accuracy: 0.6842\n",
      "Epoch 9/10\n",
      "3/3 [==============================] - 0s 77ms/step - loss: 1.1155 - sparse_categorical_accuracy: 0.7895\n",
      "Epoch 10/10\n",
      "3/3 [==============================] - 0s 84ms/step - loss: 1.3262 - sparse_categorical_accuracy: 0.6316\n"
     ]
    },
    {
     "name": "stderr",
     "output_type": "stream",
     "text": [
      "\r",
      "14it [02:28, 11.03s/it]"
     ]
    },
    {
     "name": "stdout",
     "output_type": "stream",
     "text": [
      "Epoch 1/10\n",
      "3/3 [==============================] - 0s 75ms/step - loss: 1.4106 - sparse_categorical_accuracy: 0.4211\n",
      "Epoch 2/10\n",
      "3/3 [==============================] - 0s 85ms/step - loss: 1.2893 - sparse_categorical_accuracy: 0.7368\n",
      "Epoch 3/10\n",
      "3/3 [==============================] - 0s 74ms/step - loss: 1.2615 - sparse_categorical_accuracy: 0.7895\n",
      "Epoch 4/10\n",
      "3/3 [==============================] - 0s 72ms/step - loss: 1.4587 - sparse_categorical_accuracy: 0.6842\n",
      "Epoch 5/10\n",
      "3/3 [==============================] - 0s 73ms/step - loss: 1.5515 - sparse_categorical_accuracy: 0.8421\n",
      "Epoch 6/10\n",
      "3/3 [==============================] - 0s 87ms/step - loss: 1.3605 - sparse_categorical_accuracy: 0.9474\n",
      "Epoch 7/10\n",
      "3/3 [==============================] - 0s 78ms/step - loss: 1.9385 - sparse_categorical_accuracy: 0.6842\n",
      "Epoch 8/10\n",
      "3/3 [==============================] - 0s 75ms/step - loss: 1.8871 - sparse_categorical_accuracy: 0.6842\n",
      "Epoch 9/10\n",
      "3/3 [==============================] - 0s 74ms/step - loss: 1.8991 - sparse_categorical_accuracy: 0.6316\n",
      "Epoch 10/10\n",
      "3/3 [==============================] - 0s 78ms/step - loss: 1.4524 - sparse_categorical_accuracy: 0.7368\n"
     ]
    },
    {
     "name": "stderr",
     "output_type": "stream",
     "text": [
      "\r",
      "15it [02:38, 10.91s/it]"
     ]
    },
    {
     "name": "stdout",
     "output_type": "stream",
     "text": [
      "Epoch 1/10\n",
      "3/3 [==============================] - 0s 80ms/step - loss: 1.6884 - sparse_categorical_accuracy: 0.5263\n",
      "Epoch 2/10\n",
      "3/3 [==============================] - 0s 72ms/step - loss: 1.4676 - sparse_categorical_accuracy: 0.6316\n",
      "Epoch 3/10\n",
      "3/3 [==============================] - 0s 78ms/step - loss: 1.1896 - sparse_categorical_accuracy: 0.6316\n",
      "Epoch 4/10\n",
      "3/3 [==============================] - 0s 83ms/step - loss: 1.3981 - sparse_categorical_accuracy: 0.7368\n",
      "Epoch 5/10\n",
      "3/3 [==============================] - 0s 78ms/step - loss: 1.3819 - sparse_categorical_accuracy: 0.7895\n",
      "Epoch 6/10\n",
      "3/3 [==============================] - 0s 76ms/step - loss: 1.6584 - sparse_categorical_accuracy: 0.7895\n",
      "Epoch 7/10\n",
      "3/3 [==============================] - 0s 79ms/step - loss: 1.6195 - sparse_categorical_accuracy: 0.7895\n",
      "Epoch 8/10\n",
      "3/3 [==============================] - 0s 77ms/step - loss: 1.4751 - sparse_categorical_accuracy: 0.7895\n",
      "Epoch 9/10\n",
      "3/3 [==============================] - 0s 76ms/step - loss: 1.8420 - sparse_categorical_accuracy: 0.7368\n",
      "Epoch 10/10\n",
      "3/3 [==============================] - 0s 69ms/step - loss: 1.7985 - sparse_categorical_accuracy: 0.6316\n"
     ]
    },
    {
     "name": "stderr",
     "output_type": "stream",
     "text": [
      "\r",
      "16it [02:49, 10.86s/it]"
     ]
    },
    {
     "name": "stdout",
     "output_type": "stream",
     "text": [
      "Epoch 1/10\n",
      "3/3 [==============================] - 0s 80ms/step - loss: 1.2636 - sparse_categorical_accuracy: 0.5263\n",
      "Epoch 2/10\n",
      "3/3 [==============================] - 0s 77ms/step - loss: 1.3520 - sparse_categorical_accuracy: 0.5789\n",
      "Epoch 3/10\n",
      "3/3 [==============================] - 0s 77ms/step - loss: 1.3940 - sparse_categorical_accuracy: 0.7895\n",
      "Epoch 4/10\n",
      "3/3 [==============================] - 0s 73ms/step - loss: 1.5173 - sparse_categorical_accuracy: 0.7895\n",
      "Epoch 5/10\n",
      "3/3 [==============================] - 0s 82ms/step - loss: 1.4081 - sparse_categorical_accuracy: 0.7368\n",
      "Epoch 6/10\n",
      "3/3 [==============================] - 0s 77ms/step - loss: 1.2518 - sparse_categorical_accuracy: 0.8947\n",
      "Epoch 7/10\n",
      "3/3 [==============================] - 0s 84ms/step - loss: 1.3359 - sparse_categorical_accuracy: 0.7895\n",
      "Epoch 8/10\n",
      "3/3 [==============================] - 0s 78ms/step - loss: 1.1379 - sparse_categorical_accuracy: 0.9474\n",
      "Epoch 9/10\n",
      "3/3 [==============================] - 0s 83ms/step - loss: 1.4942 - sparse_categorical_accuracy: 0.8421\n",
      "Epoch 10/10\n",
      "3/3 [==============================] - 0s 69ms/step - loss: 1.0650 - sparse_categorical_accuracy: 0.8421\n"
     ]
    },
    {
     "name": "stderr",
     "output_type": "stream",
     "text": [
      "\r",
      "17it [03:00, 10.84s/it]"
     ]
    },
    {
     "name": "stdout",
     "output_type": "stream",
     "text": [
      "Epoch 1/10\n",
      "3/3 [==============================] - 0s 80ms/step - loss: 1.3980 - sparse_categorical_accuracy: 0.5263\n",
      "Epoch 2/10\n",
      "3/3 [==============================] - 0s 77ms/step - loss: 1.2500 - sparse_categorical_accuracy: 0.7895\n",
      "Epoch 3/10\n",
      "3/3 [==============================] - 0s 78ms/step - loss: 1.3199 - sparse_categorical_accuracy: 0.7368\n",
      "Epoch 4/10\n",
      "3/3 [==============================] - 0s 81ms/step - loss: 1.4191 - sparse_categorical_accuracy: 0.8421\n",
      "Epoch 5/10\n",
      "3/3 [==============================] - 0s 76ms/step - loss: 1.2742 - sparse_categorical_accuracy: 0.8947\n",
      "Epoch 6/10\n",
      "3/3 [==============================] - 0s 77ms/step - loss: 1.5531 - sparse_categorical_accuracy: 0.8421\n",
      "Epoch 7/10\n",
      "3/3 [==============================] - 0s 73ms/step - loss: 1.8857 - sparse_categorical_accuracy: 0.8421\n",
      "Epoch 8/10\n",
      "3/3 [==============================] - 0s 95ms/step - loss: 1.6243 - sparse_categorical_accuracy: 0.7368\n",
      "Epoch 9/10\n",
      "3/3 [==============================] - 0s 71ms/step - loss: 1.4010 - sparse_categorical_accuracy: 0.8947\n",
      "Epoch 10/10\n",
      "3/3 [==============================] - 0s 75ms/step - loss: 1.4806 - sparse_categorical_accuracy: 0.8947\n"
     ]
    },
    {
     "name": "stderr",
     "output_type": "stream",
     "text": [
      "\r",
      "18it [03:10, 10.74s/it]"
     ]
    },
    {
     "name": "stdout",
     "output_type": "stream",
     "text": [
      "Epoch 1/10\n",
      "3/3 [==============================] - 0s 85ms/step - loss: 1.4614 - sparse_categorical_accuracy: 0.6316\n",
      "Epoch 2/10\n",
      "3/3 [==============================] - 0s 73ms/step - loss: 1.0740 - sparse_categorical_accuracy: 0.7895\n",
      "Epoch 3/10\n",
      "3/3 [==============================] - 0s 81ms/step - loss: 1.4610 - sparse_categorical_accuracy: 0.5263\n",
      "Epoch 4/10\n",
      "3/3 [==============================] - 0s 74ms/step - loss: 1.4912 - sparse_categorical_accuracy: 0.6316\n",
      "Epoch 5/10\n",
      "3/3 [==============================] - 0s 85ms/step - loss: 1.5924 - sparse_categorical_accuracy: 0.6842\n",
      "Epoch 6/10\n",
      "3/3 [==============================] - 0s 71ms/step - loss: 1.9333 - sparse_categorical_accuracy: 0.6316\n",
      "Epoch 7/10\n",
      "3/3 [==============================] - 0s 75ms/step - loss: 1.4427 - sparse_categorical_accuracy: 0.8421\n",
      "Epoch 8/10\n",
      "3/3 [==============================] - 0s 75ms/step - loss: 1.5230 - sparse_categorical_accuracy: 0.8421\n",
      "Epoch 9/10\n",
      "3/3 [==============================] - 0s 77ms/step - loss: 1.2910 - sparse_categorical_accuracy: 0.7895\n",
      "Epoch 10/10\n",
      "3/3 [==============================] - 0s 85ms/step - loss: 1.3946 - sparse_categorical_accuracy: 0.8421\n"
     ]
    },
    {
     "name": "stderr",
     "output_type": "stream",
     "text": [
      "\r",
      "19it [03:21, 10.72s/it]"
     ]
    },
    {
     "name": "stdout",
     "output_type": "stream",
     "text": [
      "Epoch 1/10\n",
      "3/3 [==============================] - 0s 78ms/step - loss: 1.1694 - sparse_categorical_accuracy: 0.5263\n",
      "Epoch 2/10\n",
      "3/3 [==============================] - 0s 80ms/step - loss: 1.0343 - sparse_categorical_accuracy: 0.6842\n",
      "Epoch 3/10\n",
      "3/3 [==============================] - 0s 72ms/step - loss: 1.2572 - sparse_categorical_accuracy: 0.8421\n",
      "Epoch 4/10\n",
      "3/3 [==============================] - 0s 93ms/step - loss: 1.3414 - sparse_categorical_accuracy: 0.8421\n",
      "Epoch 5/10\n",
      "3/3 [==============================] - 0s 73ms/step - loss: 1.5933 - sparse_categorical_accuracy: 0.7368\n",
      "Epoch 6/10\n",
      "3/3 [==============================] - 0s 74ms/step - loss: 1.2286 - sparse_categorical_accuracy: 0.9474\n",
      "Epoch 7/10\n",
      "3/3 [==============================] - 0s 76ms/step - loss: 1.3281 - sparse_categorical_accuracy: 0.8947\n",
      "Epoch 8/10\n",
      "3/3 [==============================] - 0s 67ms/step - loss: 1.3457 - sparse_categorical_accuracy: 0.8421\n",
      "Epoch 9/10\n",
      "3/3 [==============================] - 0s 72ms/step - loss: 1.1782 - sparse_categorical_accuracy: 0.8947\n",
      "Epoch 10/10\n",
      "3/3 [==============================] - 0s 76ms/step - loss: 1.2519 - sparse_categorical_accuracy: 0.8421\n"
     ]
    },
    {
     "name": "stderr",
     "output_type": "stream",
     "text": [
      "20it [03:32, 10.61s/it]\n",
      "0it [00:00, ?it/s]"
     ]
    },
    {
     "name": "stdout",
     "output_type": "stream",
     "text": [
      "Epoch 1/10\n",
      "WARNING:tensorflow:Model was constructed with shape (None, 270, 3) for input Tensor(\"input_273:0\", shape=(None, 270, 3), dtype=float32), but it was called on an input with incompatible shape (None, 240, 3).\n",
      "WARNING:tensorflow:Model was constructed with shape (None, 270, 3) for input Tensor(\"input_273:0\", shape=(None, 270, 3), dtype=float32), but it was called on an input with incompatible shape (None, 240, 3).\n",
      "3/3 [==============================] - 0s 72ms/step - loss: 1.2764 - sparse_categorical_accuracy: 0.5789\n",
      "Epoch 2/10\n",
      "3/3 [==============================] - 0s 59ms/step - loss: 1.0848 - sparse_categorical_accuracy: 0.7368\n",
      "Epoch 3/10\n",
      "3/3 [==============================] - 0s 71ms/step - loss: 1.1912 - sparse_categorical_accuracy: 0.6842\n",
      "Epoch 4/10\n",
      "3/3 [==============================] - 0s 62ms/step - loss: 1.2507 - sparse_categorical_accuracy: 0.8421\n",
      "Epoch 5/10\n",
      "3/3 [==============================] - 0s 63ms/step - loss: 1.6524 - sparse_categorical_accuracy: 0.6842\n",
      "Epoch 6/10\n",
      "3/3 [==============================] - 0s 72ms/step - loss: 1.5692 - sparse_categorical_accuracy: 0.7368\n",
      "Epoch 7/10\n",
      "3/3 [==============================] - 0s 59ms/step - loss: 1.6207 - sparse_categorical_accuracy: 0.6842\n",
      "Epoch 8/10\n",
      "3/3 [==============================] - 0s 61ms/step - loss: 1.3559 - sparse_categorical_accuracy: 0.7368\n",
      "Epoch 9/10\n",
      "3/3 [==============================] - 0s 63ms/step - loss: 1.3256 - sparse_categorical_accuracy: 0.8421\n",
      "Epoch 10/10\n",
      "3/3 [==============================] - 0s 62ms/step - loss: 1.2418 - sparse_categorical_accuracy: 0.7368\n",
      "WARNING:tensorflow:Model was constructed with shape (None, 270, 3) for input Tensor(\"input_273:0\", shape=(None, 270, 3), dtype=float32), but it was called on an input with incompatible shape (None, 240, 3).\n"
     ]
    },
    {
     "name": "stderr",
     "output_type": "stream",
     "text": [
      "\r",
      "1it [00:09,  9.96s/it]"
     ]
    },
    {
     "name": "stdout",
     "output_type": "stream",
     "text": [
      "Epoch 1/10\n",
      "WARNING:tensorflow:Model was constructed with shape (None, 270, 3) for input Tensor(\"input_274:0\", shape=(None, 270, 3), dtype=float32), but it was called on an input with incompatible shape (None, 240, 3).\n",
      "WARNING:tensorflow:Model was constructed with shape (None, 270, 3) for input Tensor(\"input_274:0\", shape=(None, 270, 3), dtype=float32), but it was called on an input with incompatible shape (None, 240, 3).\n",
      "3/3 [==============================] - 0s 66ms/step - loss: 1.1235 - sparse_categorical_accuracy: 0.6316\n",
      "Epoch 2/10\n",
      "3/3 [==============================] - 0s 62ms/step - loss: 1.2689 - sparse_categorical_accuracy: 0.6842\n",
      "Epoch 3/10\n",
      "3/3 [==============================] - 0s 69ms/step - loss: 1.3869 - sparse_categorical_accuracy: 0.7368\n",
      "Epoch 4/10\n",
      "3/3 [==============================] - 0s 61ms/step - loss: 1.5829 - sparse_categorical_accuracy: 0.6842\n",
      "Epoch 5/10\n",
      "3/3 [==============================] - 0s 63ms/step - loss: 1.8870 - sparse_categorical_accuracy: 0.6316\n",
      "Epoch 6/10\n",
      "3/3 [==============================] - 0s 70ms/step - loss: 1.2606 - sparse_categorical_accuracy: 0.7368\n",
      "Epoch 7/10\n",
      "3/3 [==============================] - 0s 62ms/step - loss: 1.3671 - sparse_categorical_accuracy: 0.7368\n",
      "Epoch 8/10\n",
      "3/3 [==============================] - 0s 55ms/step - loss: 1.3511 - sparse_categorical_accuracy: 0.7895\n",
      "Epoch 9/10\n",
      "3/3 [==============================] - 0s 62ms/step - loss: 1.4157 - sparse_categorical_accuracy: 0.6842\n",
      "Epoch 10/10\n",
      "3/3 [==============================] - 0s 66ms/step - loss: 1.3755 - sparse_categorical_accuracy: 0.7368\n",
      "WARNING:tensorflow:Model was constructed with shape (None, 270, 3) for input Tensor(\"input_274:0\", shape=(None, 270, 3), dtype=float32), but it was called on an input with incompatible shape (None, 240, 3).\n"
     ]
    },
    {
     "name": "stderr",
     "output_type": "stream",
     "text": [
      "\r",
      "2it [00:19,  9.95s/it]"
     ]
    },
    {
     "name": "stdout",
     "output_type": "stream",
     "text": [
      "Epoch 1/10\n",
      "WARNING:tensorflow:Model was constructed with shape (None, 270, 3) for input Tensor(\"input_275:0\", shape=(None, 270, 3), dtype=float32), but it was called on an input with incompatible shape (None, 240, 3).\n",
      "WARNING:tensorflow:Model was constructed with shape (None, 270, 3) for input Tensor(\"input_275:0\", shape=(None, 270, 3), dtype=float32), but it was called on an input with incompatible shape (None, 240, 3).\n",
      "3/3 [==============================] - 0s 56ms/step - loss: 1.1617 - sparse_categorical_accuracy: 0.5789\n",
      "Epoch 2/10\n",
      "3/3 [==============================] - 0s 63ms/step - loss: 0.9846 - sparse_categorical_accuracy: 0.8421\n",
      "Epoch 3/10\n",
      "3/3 [==============================] - 0s 72ms/step - loss: 1.4192 - sparse_categorical_accuracy: 0.6842\n",
      "Epoch 4/10\n",
      "3/3 [==============================] - 0s 62ms/step - loss: 1.2808 - sparse_categorical_accuracy: 0.7368\n",
      "Epoch 5/10\n",
      "3/3 [==============================] - 0s 53ms/step - loss: 1.5848 - sparse_categorical_accuracy: 0.6842\n",
      "Epoch 6/10\n",
      "3/3 [==============================] - 0s 67ms/step - loss: 1.3598 - sparse_categorical_accuracy: 0.8421\n",
      "Epoch 7/10\n",
      "3/3 [==============================] - 0s 62ms/step - loss: 1.3268 - sparse_categorical_accuracy: 0.8947\n",
      "Epoch 8/10\n",
      "3/3 [==============================] - 0s 53ms/step - loss: 1.5653 - sparse_categorical_accuracy: 0.7368\n",
      "Epoch 9/10\n",
      "3/3 [==============================] - 0s 71ms/step - loss: 1.4017 - sparse_categorical_accuracy: 0.6842\n",
      "Epoch 10/10\n",
      "3/3 [==============================] - 0s 62ms/step - loss: 1.0891 - sparse_categorical_accuracy: 0.8421\n",
      "WARNING:tensorflow:Model was constructed with shape (None, 270, 3) for input Tensor(\"input_275:0\", shape=(None, 270, 3), dtype=float32), but it was called on an input with incompatible shape (None, 240, 3).\n"
     ]
    },
    {
     "name": "stderr",
     "output_type": "stream",
     "text": [
      "\r",
      "3it [00:29,  9.95s/it]"
     ]
    },
    {
     "name": "stdout",
     "output_type": "stream",
     "text": [
      "Epoch 1/10\n",
      "WARNING:tensorflow:Model was constructed with shape (None, 270, 3) for input Tensor(\"input_276:0\", shape=(None, 270, 3), dtype=float32), but it was called on an input with incompatible shape (None, 240, 3).\n",
      "WARNING:tensorflow:Model was constructed with shape (None, 270, 3) for input Tensor(\"input_276:0\", shape=(None, 270, 3), dtype=float32), but it was called on an input with incompatible shape (None, 240, 3).\n",
      "3/3 [==============================] - 0s 59ms/step - loss: 1.2611 - sparse_categorical_accuracy: 0.6316\n",
      "Epoch 2/10\n",
      "3/3 [==============================] - 0s 60ms/step - loss: 1.2026 - sparse_categorical_accuracy: 0.6842\n",
      "Epoch 3/10\n",
      "3/3 [==============================] - 0s 66ms/step - loss: 1.1815 - sparse_categorical_accuracy: 0.6316\n",
      "Epoch 4/10\n",
      "3/3 [==============================] - 0s 60ms/step - loss: 1.3443 - sparse_categorical_accuracy: 0.7368\n",
      "Epoch 5/10\n",
      "3/3 [==============================] - 0s 67ms/step - loss: 1.5462 - sparse_categorical_accuracy: 0.6842\n",
      "Epoch 6/10\n",
      "3/3 [==============================] - 0s 61ms/step - loss: 1.5239 - sparse_categorical_accuracy: 0.6842\n",
      "Epoch 7/10\n",
      "3/3 [==============================] - 0s 57ms/step - loss: 1.9520 - sparse_categorical_accuracy: 0.6316\n",
      "Epoch 8/10\n",
      "3/3 [==============================] - 0s 52ms/step - loss: 1.5312 - sparse_categorical_accuracy: 0.8421\n",
      "Epoch 9/10\n",
      "3/3 [==============================] - 0s 66ms/step - loss: 1.6842 - sparse_categorical_accuracy: 0.6316\n",
      "Epoch 10/10\n",
      "3/3 [==============================] - 0s 61ms/step - loss: 1.2456 - sparse_categorical_accuracy: 0.8421\n",
      "WARNING:tensorflow:Model was constructed with shape (None, 270, 3) for input Tensor(\"input_276:0\", shape=(None, 270, 3), dtype=float32), but it was called on an input with incompatible shape (None, 240, 3).\n"
     ]
    },
    {
     "name": "stderr",
     "output_type": "stream",
     "text": [
      "\r",
      "4it [00:39,  9.96s/it]"
     ]
    },
    {
     "name": "stdout",
     "output_type": "stream",
     "text": [
      "Epoch 1/10\n",
      "WARNING:tensorflow:Model was constructed with shape (None, 270, 3) for input Tensor(\"input_277:0\", shape=(None, 270, 3), dtype=float32), but it was called on an input with incompatible shape (None, 240, 3).\n",
      "WARNING:tensorflow:Model was constructed with shape (None, 270, 3) for input Tensor(\"input_277:0\", shape=(None, 270, 3), dtype=float32), but it was called on an input with incompatible shape (None, 240, 3).\n",
      "3/3 [==============================] - 0s 62ms/step - loss: 1.3291 - sparse_categorical_accuracy: 0.5789\n",
      "Epoch 2/10\n",
      "3/3 [==============================] - 0s 56ms/step - loss: 1.0601 - sparse_categorical_accuracy: 0.8421\n",
      "Epoch 3/10\n",
      "3/3 [==============================] - 0s 58ms/step - loss: 1.3353 - sparse_categorical_accuracy: 0.7895\n",
      "Epoch 4/10\n",
      "3/3 [==============================] - 0s 62ms/step - loss: 1.3232 - sparse_categorical_accuracy: 0.7895\n",
      "Epoch 5/10\n",
      "3/3 [==============================] - 0s 64ms/step - loss: 1.6216 - sparse_categorical_accuracy: 0.7368\n",
      "Epoch 6/10\n",
      "3/3 [==============================] - 0s 59ms/step - loss: 1.7464 - sparse_categorical_accuracy: 0.7895\n",
      "Epoch 7/10\n",
      "3/3 [==============================] - 0s 64ms/step - loss: 1.5451 - sparse_categorical_accuracy: 0.7895\n",
      "Epoch 8/10\n",
      "3/3 [==============================] - 0s 71ms/step - loss: 1.7464 - sparse_categorical_accuracy: 0.6316\n",
      "Epoch 9/10\n",
      "3/3 [==============================] - 0s 60ms/step - loss: 1.6155 - sparse_categorical_accuracy: 0.7895\n",
      "Epoch 10/10\n",
      "3/3 [==============================] - 0s 61ms/step - loss: 1.3199 - sparse_categorical_accuracy: 0.8947\n",
      "WARNING:tensorflow:Model was constructed with shape (None, 270, 3) for input Tensor(\"input_277:0\", shape=(None, 270, 3), dtype=float32), but it was called on an input with incompatible shape (None, 240, 3).\n"
     ]
    },
    {
     "name": "stderr",
     "output_type": "stream",
     "text": [
      "\r",
      "5it [00:49,  9.92s/it]"
     ]
    },
    {
     "name": "stdout",
     "output_type": "stream",
     "text": [
      "Epoch 1/10\n",
      "WARNING:tensorflow:Model was constructed with shape (None, 270, 3) for input Tensor(\"input_278:0\", shape=(None, 270, 3), dtype=float32), but it was called on an input with incompatible shape (None, 240, 3).\n",
      "WARNING:tensorflow:Model was constructed with shape (None, 270, 3) for input Tensor(\"input_278:0\", shape=(None, 270, 3), dtype=float32), but it was called on an input with incompatible shape (None, 240, 3).\n",
      "3/3 [==============================] - 0s 56ms/step - loss: 1.3586 - sparse_categorical_accuracy: 0.5263\n",
      "Epoch 2/10\n",
      "3/3 [==============================] - 0s 69ms/step - loss: 1.1370 - sparse_categorical_accuracy: 0.7368\n",
      "Epoch 3/10\n",
      "3/3 [==============================] - 0s 71ms/step - loss: 1.1614 - sparse_categorical_accuracy: 0.8421\n",
      "Epoch 4/10\n",
      "3/3 [==============================] - 0s 68ms/step - loss: 1.3577 - sparse_categorical_accuracy: 0.6842\n",
      "Epoch 5/10\n",
      "3/3 [==============================] - 0s 61ms/step - loss: 1.4085 - sparse_categorical_accuracy: 0.6842\n",
      "Epoch 6/10\n",
      "3/3 [==============================] - 0s 60ms/step - loss: 1.3153 - sparse_categorical_accuracy: 0.8421\n",
      "Epoch 7/10\n",
      "3/3 [==============================] - 0s 62ms/step - loss: 1.3167 - sparse_categorical_accuracy: 0.7895\n",
      "Epoch 8/10\n",
      "3/3 [==============================] - 0s 62ms/step - loss: 1.2374 - sparse_categorical_accuracy: 0.7895\n",
      "Epoch 9/10\n",
      "3/3 [==============================] - 0s 61ms/step - loss: 1.5271 - sparse_categorical_accuracy: 0.6316\n",
      "Epoch 10/10\n",
      "3/3 [==============================] - 0s 71ms/step - loss: 1.2839 - sparse_categorical_accuracy: 0.7368\n",
      "WARNING:tensorflow:Model was constructed with shape (None, 270, 3) for input Tensor(\"input_278:0\", shape=(None, 270, 3), dtype=float32), but it was called on an input with incompatible shape (None, 240, 3).\n"
     ]
    },
    {
     "name": "stderr",
     "output_type": "stream",
     "text": [
      "\r",
      "6it [00:59,  9.91s/it]"
     ]
    },
    {
     "name": "stdout",
     "output_type": "stream",
     "text": [
      "Epoch 1/10\n",
      "WARNING:tensorflow:Model was constructed with shape (None, 270, 3) for input Tensor(\"input_279:0\", shape=(None, 270, 3), dtype=float32), but it was called on an input with incompatible shape (None, 240, 3).\n",
      "WARNING:tensorflow:Model was constructed with shape (None, 270, 3) for input Tensor(\"input_279:0\", shape=(None, 270, 3), dtype=float32), but it was called on an input with incompatible shape (None, 240, 3).\n",
      "3/3 [==============================] - 0s 60ms/step - loss: 1.1957 - sparse_categorical_accuracy: 0.6316\n",
      "Epoch 2/10\n",
      "3/3 [==============================] - 0s 59ms/step - loss: 1.4741 - sparse_categorical_accuracy: 0.3684\n",
      "Epoch 3/10\n",
      "3/3 [==============================] - 0s 71ms/step - loss: 1.2155 - sparse_categorical_accuracy: 0.6316\n",
      "Epoch 4/10\n",
      "3/3 [==============================] - 0s 65ms/step - loss: 1.2422 - sparse_categorical_accuracy: 0.8421\n",
      "Epoch 5/10\n",
      "3/3 [==============================] - 0s 55ms/step - loss: 1.8772 - sparse_categorical_accuracy: 0.6316\n",
      "Epoch 6/10\n",
      "3/3 [==============================] - 0s 71ms/step - loss: 1.6862 - sparse_categorical_accuracy: 0.6842\n",
      "Epoch 7/10\n",
      "3/3 [==============================] - 0s 76ms/step - loss: 1.6480 - sparse_categorical_accuracy: 0.8421\n",
      "Epoch 8/10\n",
      "3/3 [==============================] - 0s 62ms/step - loss: 1.6475 - sparse_categorical_accuracy: 0.6842\n",
      "Epoch 9/10\n",
      "3/3 [==============================] - 0s 58ms/step - loss: 1.4002 - sparse_categorical_accuracy: 0.8421\n",
      "Epoch 10/10\n",
      "3/3 [==============================] - 0s 57ms/step - loss: 1.4832 - sparse_categorical_accuracy: 0.7368\n",
      "WARNING:tensorflow:Model was constructed with shape (None, 270, 3) for input Tensor(\"input_279:0\", shape=(None, 270, 3), dtype=float32), but it was called on an input with incompatible shape (None, 240, 3).\n"
     ]
    },
    {
     "name": "stderr",
     "output_type": "stream",
     "text": [
      "\r",
      "7it [01:09,  9.95s/it]"
     ]
    },
    {
     "name": "stdout",
     "output_type": "stream",
     "text": [
      "Epoch 1/10\n",
      "WARNING:tensorflow:Model was constructed with shape (None, 270, 3) for input Tensor(\"input_280:0\", shape=(None, 270, 3), dtype=float32), but it was called on an input with incompatible shape (None, 240, 3).\n",
      "WARNING:tensorflow:Model was constructed with shape (None, 270, 3) for input Tensor(\"input_280:0\", shape=(None, 270, 3), dtype=float32), but it was called on an input with incompatible shape (None, 240, 3).\n",
      "3/3 [==============================] - 0s 61ms/step - loss: 1.3681 - sparse_categorical_accuracy: 0.5789\n",
      "Epoch 2/10\n",
      "3/3 [==============================] - 0s 68ms/step - loss: 1.2601 - sparse_categorical_accuracy: 0.6842\n",
      "Epoch 3/10\n",
      "3/3 [==============================] - 0s 62ms/step - loss: 0.8862 - sparse_categorical_accuracy: 0.8947\n",
      "Epoch 4/10\n",
      "3/3 [==============================] - 0s 57ms/step - loss: 1.0626 - sparse_categorical_accuracy: 0.8947\n",
      "Epoch 5/10\n",
      "3/3 [==============================] - 0s 68ms/step - loss: 1.6056 - sparse_categorical_accuracy: 0.7368\n",
      "Epoch 6/10\n",
      "3/3 [==============================] - 0s 73ms/step - loss: 1.5185 - sparse_categorical_accuracy: 0.7368\n",
      "Epoch 7/10\n",
      "3/3 [==============================] - 0s 67ms/step - loss: 1.4161 - sparse_categorical_accuracy: 0.7895\n",
      "Epoch 8/10\n",
      "3/3 [==============================] - 0s 61ms/step - loss: 1.3565 - sparse_categorical_accuracy: 0.7895\n",
      "Epoch 9/10\n",
      "3/3 [==============================] - 0s 65ms/step - loss: 1.3386 - sparse_categorical_accuracy: 0.7895\n",
      "Epoch 10/10\n",
      "3/3 [==============================] - 0s 64ms/step - loss: 1.1968 - sparse_categorical_accuracy: 0.9474\n",
      "WARNING:tensorflow:Model was constructed with shape (None, 270, 3) for input Tensor(\"input_280:0\", shape=(None, 270, 3), dtype=float32), but it was called on an input with incompatible shape (None, 240, 3).\n"
     ]
    },
    {
     "name": "stderr",
     "output_type": "stream",
     "text": [
      "\r",
      "8it [01:19, 10.05s/it]"
     ]
    },
    {
     "name": "stdout",
     "output_type": "stream",
     "text": [
      "Epoch 1/10\n",
      "WARNING:tensorflow:Model was constructed with shape (None, 270, 3) for input Tensor(\"input_281:0\", shape=(None, 270, 3), dtype=float32), but it was called on an input with incompatible shape (None, 240, 3).\n",
      "WARNING:tensorflow:Model was constructed with shape (None, 270, 3) for input Tensor(\"input_281:0\", shape=(None, 270, 3), dtype=float32), but it was called on an input with incompatible shape (None, 240, 3).\n",
      "3/3 [==============================] - 0s 70ms/step - loss: 1.1625 - sparse_categorical_accuracy: 0.5263\n",
      "Epoch 2/10\n",
      "3/3 [==============================] - 0s 64ms/step - loss: 0.9804 - sparse_categorical_accuracy: 0.7895\n",
      "Epoch 3/10\n",
      "3/3 [==============================] - 0s 56ms/step - loss: 1.2538 - sparse_categorical_accuracy: 0.6316\n",
      "Epoch 4/10\n",
      "3/3 [==============================] - 0s 63ms/step - loss: 1.3266 - sparse_categorical_accuracy: 0.7368\n",
      "Epoch 5/10\n",
      "3/3 [==============================] - 0s 65ms/step - loss: 1.3738 - sparse_categorical_accuracy: 0.8421\n",
      "Epoch 6/10\n",
      "3/3 [==============================] - 0s 66ms/step - loss: 1.4786 - sparse_categorical_accuracy: 0.7368\n",
      "Epoch 7/10\n",
      "3/3 [==============================] - 0s 58ms/step - loss: 1.3285 - sparse_categorical_accuracy: 0.7895\n",
      "Epoch 8/10\n",
      "3/3 [==============================] - 0s 69ms/step - loss: 1.4683 - sparse_categorical_accuracy: 0.7368\n",
      "Epoch 9/10\n",
      "3/3 [==============================] - 0s 62ms/step - loss: 1.3293 - sparse_categorical_accuracy: 0.7368\n",
      "Epoch 10/10\n",
      "3/3 [==============================] - 0s 60ms/step - loss: 1.0719 - sparse_categorical_accuracy: 0.9474\n",
      "WARNING:tensorflow:Model was constructed with shape (None, 270, 3) for input Tensor(\"input_281:0\", shape=(None, 270, 3), dtype=float32), but it was called on an input with incompatible shape (None, 240, 3).\n"
     ]
    },
    {
     "name": "stderr",
     "output_type": "stream",
     "text": [
      "\r",
      "9it [01:29, 10.07s/it]"
     ]
    },
    {
     "name": "stdout",
     "output_type": "stream",
     "text": [
      "Epoch 1/10\n",
      "WARNING:tensorflow:Model was constructed with shape (None, 270, 3) for input Tensor(\"input_282:0\", shape=(None, 270, 3), dtype=float32), but it was called on an input with incompatible shape (None, 240, 3).\n",
      "WARNING:tensorflow:Model was constructed with shape (None, 270, 3) for input Tensor(\"input_282:0\", shape=(None, 270, 3), dtype=float32), but it was called on an input with incompatible shape (None, 240, 3).\n",
      "3/3 [==============================] - 0s 76ms/step - loss: 1.3200 - sparse_categorical_accuracy: 0.5263\n",
      "Epoch 2/10\n",
      "3/3 [==============================] - 0s 80ms/step - loss: 1.0993 - sparse_categorical_accuracy: 0.8421\n",
      "Epoch 3/10\n",
      "3/3 [==============================] - 0s 73ms/step - loss: 1.1537 - sparse_categorical_accuracy: 0.7895\n",
      "Epoch 4/10\n",
      "3/3 [==============================] - 0s 73ms/step - loss: 1.1165 - sparse_categorical_accuracy: 0.7895\n",
      "Epoch 5/10\n",
      "3/3 [==============================] - 0s 72ms/step - loss: 1.5868 - sparse_categorical_accuracy: 0.7368\n",
      "Epoch 6/10\n",
      "3/3 [==============================] - 0s 66ms/step - loss: 1.3768 - sparse_categorical_accuracy: 0.6842\n",
      "Epoch 7/10\n",
      "3/3 [==============================] - 0s 67ms/step - loss: 1.6213 - sparse_categorical_accuracy: 0.6842\n",
      "Epoch 8/10\n",
      "3/3 [==============================] - 0s 79ms/step - loss: 1.4230 - sparse_categorical_accuracy: 0.8421\n",
      "Epoch 9/10\n",
      "3/3 [==============================] - 0s 76ms/step - loss: 1.5208 - sparse_categorical_accuracy: 0.7895\n",
      "Epoch 10/10\n",
      "3/3 [==============================] - 0s 68ms/step - loss: 1.3258 - sparse_categorical_accuracy: 0.8421\n",
      "WARNING:tensorflow:Model was constructed with shape (None, 270, 3) for input Tensor(\"input_282:0\", shape=(None, 270, 3), dtype=float32), but it was called on an input with incompatible shape (None, 240, 3).\n"
     ]
    },
    {
     "name": "stderr",
     "output_type": "stream",
     "text": [
      "\r",
      "10it [01:43, 11.08s/it]"
     ]
    },
    {
     "name": "stdout",
     "output_type": "stream",
     "text": [
      "Epoch 1/10\n",
      "WARNING:tensorflow:Model was constructed with shape (None, 270, 3) for input Tensor(\"input_283:0\", shape=(None, 270, 3), dtype=float32), but it was called on an input with incompatible shape (None, 240, 3).\n",
      "WARNING:tensorflow:Model was constructed with shape (None, 270, 3) for input Tensor(\"input_283:0\", shape=(None, 270, 3), dtype=float32), but it was called on an input with incompatible shape (None, 240, 3).\n",
      "3/3 [==============================] - 0s 74ms/step - loss: 1.0585 - sparse_categorical_accuracy: 0.5263\n",
      "Epoch 2/10\n",
      "3/3 [==============================] - 0s 71ms/step - loss: 1.1311 - sparse_categorical_accuracy: 0.7368\n",
      "Epoch 3/10\n",
      "3/3 [==============================] - 0s 72ms/step - loss: 1.0195 - sparse_categorical_accuracy: 0.8947\n",
      "Epoch 4/10\n",
      "3/3 [==============================] - 0s 76ms/step - loss: 1.3495 - sparse_categorical_accuracy: 0.7368\n",
      "Epoch 5/10\n",
      "3/3 [==============================] - 0s 72ms/step - loss: 1.6120 - sparse_categorical_accuracy: 0.4211\n",
      "Epoch 6/10\n",
      "3/3 [==============================] - 0s 73ms/step - loss: 1.5371 - sparse_categorical_accuracy: 0.6316\n",
      "Epoch 7/10\n",
      "3/3 [==============================] - 0s 77ms/step - loss: 1.2914 - sparse_categorical_accuracy: 0.8947\n",
      "Epoch 8/10\n",
      "3/3 [==============================] - 0s 78ms/step - loss: 1.7815 - sparse_categorical_accuracy: 0.6842\n",
      "Epoch 9/10\n",
      "3/3 [==============================] - 0s 72ms/step - loss: 1.4969 - sparse_categorical_accuracy: 0.6842\n",
      "Epoch 10/10\n",
      "3/3 [==============================] - 0s 75ms/step - loss: 1.5492 - sparse_categorical_accuracy: 0.7368\n",
      "WARNING:tensorflow:Model was constructed with shape (None, 270, 3) for input Tensor(\"input_283:0\", shape=(None, 270, 3), dtype=float32), but it was called on an input with incompatible shape (None, 240, 3).\n"
     ]
    },
    {
     "name": "stderr",
     "output_type": "stream",
     "text": [
      "\r",
      "11it [01:54, 10.99s/it]"
     ]
    },
    {
     "name": "stdout",
     "output_type": "stream",
     "text": [
      "Epoch 1/10\n",
      "WARNING:tensorflow:Model was constructed with shape (None, 270, 3) for input Tensor(\"input_284:0\", shape=(None, 270, 3), dtype=float32), but it was called on an input with incompatible shape (None, 240, 3).\n",
      "WARNING:tensorflow:Model was constructed with shape (None, 270, 3) for input Tensor(\"input_284:0\", shape=(None, 270, 3), dtype=float32), but it was called on an input with incompatible shape (None, 240, 3).\n",
      "3/3 [==============================] - 0s 73ms/step - loss: 1.5909 - sparse_categorical_accuracy: 0.5789\n",
      "Epoch 2/10\n",
      "3/3 [==============================] - 0s 87ms/step - loss: 1.0321 - sparse_categorical_accuracy: 0.7368\n",
      "Epoch 3/10\n",
      "3/3 [==============================] - 0s 83ms/step - loss: 1.1871 - sparse_categorical_accuracy: 0.8421\n",
      "Epoch 4/10\n",
      "3/3 [==============================] - 0s 72ms/step - loss: 1.2230 - sparse_categorical_accuracy: 0.8421\n",
      "Epoch 5/10\n",
      "3/3 [==============================] - 0s 80ms/step - loss: 1.5789 - sparse_categorical_accuracy: 0.7895\n",
      "Epoch 6/10\n",
      "3/3 [==============================] - 0s 72ms/step - loss: 1.0952 - sparse_categorical_accuracy: 0.9474\n",
      "Epoch 7/10\n",
      "3/3 [==============================] - 0s 73ms/step - loss: 0.9155 - sparse_categorical_accuracy: 1.0000\n",
      "Epoch 8/10\n",
      "3/3 [==============================] - 0s 77ms/step - loss: 0.9444 - sparse_categorical_accuracy: 0.9474\n",
      "Epoch 9/10\n",
      "3/3 [==============================] - 0s 82ms/step - loss: 0.8376 - sparse_categorical_accuracy: 0.9474\n",
      "Epoch 10/10\n",
      "3/3 [==============================] - 0s 72ms/step - loss: 1.2890 - sparse_categorical_accuracy: 0.6842\n",
      "WARNING:tensorflow:Model was constructed with shape (None, 270, 3) for input Tensor(\"input_284:0\", shape=(None, 270, 3), dtype=float32), but it was called on an input with incompatible shape (None, 240, 3).\n"
     ]
    },
    {
     "name": "stderr",
     "output_type": "stream",
     "text": [
      "\r",
      "12it [02:06, 11.38s/it]"
     ]
    },
    {
     "name": "stdout",
     "output_type": "stream",
     "text": [
      "Epoch 1/10\n",
      "WARNING:tensorflow:Model was constructed with shape (None, 270, 3) for input Tensor(\"input_285:0\", shape=(None, 270, 3), dtype=float32), but it was called on an input with incompatible shape (None, 240, 3).\n",
      "WARNING:tensorflow:Model was constructed with shape (None, 270, 3) for input Tensor(\"input_285:0\", shape=(None, 270, 3), dtype=float32), but it was called on an input with incompatible shape (None, 240, 3).\n",
      "3/3 [==============================] - 0s 70ms/step - loss: 1.2275 - sparse_categorical_accuracy: 0.5263\n",
      "Epoch 2/10\n",
      "3/3 [==============================] - 0s 67ms/step - loss: 1.0565 - sparse_categorical_accuracy: 0.7895\n",
      "Epoch 3/10\n",
      "3/3 [==============================] - 0s 78ms/step - loss: 1.4154 - sparse_categorical_accuracy: 0.6316\n",
      "Epoch 4/10\n",
      "3/3 [==============================] - 0s 62ms/step - loss: 1.3335 - sparse_categorical_accuracy: 0.7895\n",
      "Epoch 5/10\n",
      "3/3 [==============================] - 0s 73ms/step - loss: 1.4585 - sparse_categorical_accuracy: 0.7895\n",
      "Epoch 6/10\n",
      "3/3 [==============================] - 0s 76ms/step - loss: 1.4914 - sparse_categorical_accuracy: 0.8421\n",
      "Epoch 7/10\n",
      "3/3 [==============================] - 0s 68ms/step - loss: 1.3660 - sparse_categorical_accuracy: 0.8421\n",
      "Epoch 8/10\n",
      "3/3 [==============================] - 0s 71ms/step - loss: 2.0111 - sparse_categorical_accuracy: 0.6842\n",
      "Epoch 9/10\n",
      "3/3 [==============================] - 0s 72ms/step - loss: 1.6394 - sparse_categorical_accuracy: 0.6842\n",
      "Epoch 10/10\n",
      "3/3 [==============================] - 0s 66ms/step - loss: 1.5058 - sparse_categorical_accuracy: 0.7895\n",
      "WARNING:tensorflow:Model was constructed with shape (None, 270, 3) for input Tensor(\"input_285:0\", shape=(None, 270, 3), dtype=float32), but it was called on an input with incompatible shape (None, 240, 3).\n"
     ]
    },
    {
     "name": "stderr",
     "output_type": "stream",
     "text": [
      "\r",
      "13it [02:17, 11.14s/it]"
     ]
    },
    {
     "name": "stdout",
     "output_type": "stream",
     "text": [
      "Epoch 1/10\n",
      "WARNING:tensorflow:Model was constructed with shape (None, 270, 3) for input Tensor(\"input_286:0\", shape=(None, 270, 3), dtype=float32), but it was called on an input with incompatible shape (None, 240, 3).\n",
      "WARNING:tensorflow:Model was constructed with shape (None, 270, 3) for input Tensor(\"input_286:0\", shape=(None, 270, 3), dtype=float32), but it was called on an input with incompatible shape (None, 240, 3).\n",
      "3/3 [==============================] - 0s 67ms/step - loss: 1.3301 - sparse_categorical_accuracy: 0.6316\n",
      "Epoch 2/10\n",
      "3/3 [==============================] - 0s 75ms/step - loss: 1.3454 - sparse_categorical_accuracy: 0.7368\n",
      "Epoch 3/10\n",
      "3/3 [==============================] - 0s 68ms/step - loss: 1.3685 - sparse_categorical_accuracy: 0.6842\n",
      "Epoch 4/10\n",
      "3/3 [==============================] - 0s 73ms/step - loss: 1.5096 - sparse_categorical_accuracy: 0.8421\n",
      "Epoch 5/10\n",
      "3/3 [==============================] - 0s 68ms/step - loss: 1.7625 - sparse_categorical_accuracy: 0.7368\n",
      "Epoch 6/10\n",
      "3/3 [==============================] - 0s 69ms/step - loss: 1.7170 - sparse_categorical_accuracy: 0.7368\n",
      "Epoch 7/10\n",
      "3/3 [==============================] - 0s 71ms/step - loss: 1.6311 - sparse_categorical_accuracy: 0.7368\n",
      "Epoch 8/10\n",
      "3/3 [==============================] - 0s 68ms/step - loss: 1.3614 - sparse_categorical_accuracy: 0.7895\n",
      "Epoch 9/10\n",
      "3/3 [==============================] - 0s 68ms/step - loss: 1.4614 - sparse_categorical_accuracy: 0.8421\n",
      "Epoch 10/10\n",
      "3/3 [==============================] - 0s 65ms/step - loss: 1.2912 - sparse_categorical_accuracy: 0.7368\n",
      "WARNING:tensorflow:Model was constructed with shape (None, 270, 3) for input Tensor(\"input_286:0\", shape=(None, 270, 3), dtype=float32), but it was called on an input with incompatible shape (None, 240, 3).\n"
     ]
    },
    {
     "name": "stderr",
     "output_type": "stream",
     "text": [
      "\r",
      "14it [02:27, 11.01s/it]"
     ]
    },
    {
     "name": "stdout",
     "output_type": "stream",
     "text": [
      "Epoch 1/10\n",
      "WARNING:tensorflow:Model was constructed with shape (None, 270, 3) for input Tensor(\"input_287:0\", shape=(None, 270, 3), dtype=float32), but it was called on an input with incompatible shape (None, 240, 3).\n",
      "WARNING:tensorflow:Model was constructed with shape (None, 270, 3) for input Tensor(\"input_287:0\", shape=(None, 270, 3), dtype=float32), but it was called on an input with incompatible shape (None, 240, 3).\n",
      "3/3 [==============================] - 0s 75ms/step - loss: 0.9717 - sparse_categorical_accuracy: 0.7368\n",
      "Epoch 2/10\n",
      "3/3 [==============================] - 0s 72ms/step - loss: 1.2907 - sparse_categorical_accuracy: 0.7895\n",
      "Epoch 3/10\n",
      "3/3 [==============================] - 0s 65ms/step - loss: 1.4425 - sparse_categorical_accuracy: 0.6316\n",
      "Epoch 4/10\n",
      "3/3 [==============================] - 0s 68ms/step - loss: 1.2050 - sparse_categorical_accuracy: 0.7895\n",
      "Epoch 5/10\n",
      "3/3 [==============================] - 0s 72ms/step - loss: 1.6159 - sparse_categorical_accuracy: 0.7368\n",
      "Epoch 6/10\n",
      "3/3 [==============================] - 0s 69ms/step - loss: 1.3817 - sparse_categorical_accuracy: 0.6842\n",
      "Epoch 7/10\n",
      "3/3 [==============================] - 0s 79ms/step - loss: 2.1006 - sparse_categorical_accuracy: 0.5789\n",
      "Epoch 8/10\n",
      "3/3 [==============================] - 0s 71ms/step - loss: 2.4242 - sparse_categorical_accuracy: 0.3684\n",
      "Epoch 9/10\n",
      "3/3 [==============================] - 0s 72ms/step - loss: 1.9572 - sparse_categorical_accuracy: 0.6316\n",
      "Epoch 10/10\n",
      "3/3 [==============================] - 0s 68ms/step - loss: 1.5582 - sparse_categorical_accuracy: 0.7895\n",
      "WARNING:tensorflow:Model was constructed with shape (None, 270, 3) for input Tensor(\"input_287:0\", shape=(None, 270, 3), dtype=float32), but it was called on an input with incompatible shape (None, 240, 3).\n"
     ]
    },
    {
     "name": "stderr",
     "output_type": "stream",
     "text": [
      "\r",
      "15it [02:38, 10.87s/it]"
     ]
    },
    {
     "name": "stdout",
     "output_type": "stream",
     "text": [
      "Epoch 1/10\n",
      "WARNING:tensorflow:Model was constructed with shape (None, 270, 3) for input Tensor(\"input_288:0\", shape=(None, 270, 3), dtype=float32), but it was called on an input with incompatible shape (None, 240, 3).\n",
      "WARNING:tensorflow:Model was constructed with shape (None, 270, 3) for input Tensor(\"input_288:0\", shape=(None, 270, 3), dtype=float32), but it was called on an input with incompatible shape (None, 240, 3).\n",
      "3/3 [==============================] - 0s 65ms/step - loss: 1.1739 - sparse_categorical_accuracy: 0.5789\n",
      "Epoch 2/10\n",
      "3/3 [==============================] - 0s 68ms/step - loss: 1.5027 - sparse_categorical_accuracy: 0.6316\n",
      "Epoch 3/10\n",
      "3/3 [==============================] - 0s 72ms/step - loss: 1.6125 - sparse_categorical_accuracy: 0.7368\n",
      "Epoch 4/10\n",
      "3/3 [==============================] - 0s 78ms/step - loss: 1.6150 - sparse_categorical_accuracy: 0.8421\n",
      "Epoch 5/10\n",
      "3/3 [==============================] - 0s 74ms/step - loss: 1.4738 - sparse_categorical_accuracy: 0.8947\n",
      "Epoch 6/10\n",
      "3/3 [==============================] - 0s 68ms/step - loss: 1.7320 - sparse_categorical_accuracy: 0.6842\n",
      "Epoch 7/10\n",
      "3/3 [==============================] - 0s 72ms/step - loss: 1.4686 - sparse_categorical_accuracy: 0.8421\n",
      "Epoch 8/10\n",
      "3/3 [==============================] - 0s 79ms/step - loss: 1.4110 - sparse_categorical_accuracy: 0.7895\n",
      "Epoch 9/10\n",
      "3/3 [==============================] - 0s 70ms/step - loss: 1.5069 - sparse_categorical_accuracy: 0.6842\n",
      "Epoch 10/10\n",
      "3/3 [==============================] - 0s 73ms/step - loss: 1.4901 - sparse_categorical_accuracy: 0.7368\n",
      "WARNING:tensorflow:Model was constructed with shape (None, 270, 3) for input Tensor(\"input_288:0\", shape=(None, 270, 3), dtype=float32), but it was called on an input with incompatible shape (None, 240, 3).\n"
     ]
    },
    {
     "name": "stderr",
     "output_type": "stream",
     "text": [
      "\r",
      "16it [02:48, 10.75s/it]"
     ]
    },
    {
     "name": "stdout",
     "output_type": "stream",
     "text": [
      "Epoch 1/10\n",
      "WARNING:tensorflow:Model was constructed with shape (None, 270, 3) for input Tensor(\"input_289:0\", shape=(None, 270, 3), dtype=float32), but it was called on an input with incompatible shape (None, 240, 3).\n",
      "WARNING:tensorflow:Model was constructed with shape (None, 270, 3) for input Tensor(\"input_289:0\", shape=(None, 270, 3), dtype=float32), but it was called on an input with incompatible shape (None, 240, 3).\n",
      "3/3 [==============================] - 0s 68ms/step - loss: 1.6256 - sparse_categorical_accuracy: 0.6316\n",
      "Epoch 2/10\n",
      "3/3 [==============================] - 0s 74ms/step - loss: 1.0470 - sparse_categorical_accuracy: 0.8421\n",
      "Epoch 3/10\n",
      "3/3 [==============================] - 0s 69ms/step - loss: 1.2255 - sparse_categorical_accuracy: 0.6842\n",
      "Epoch 4/10\n",
      "3/3 [==============================] - 0s 68ms/step - loss: 1.2717 - sparse_categorical_accuracy: 0.8421\n",
      "Epoch 5/10\n",
      "3/3 [==============================] - 0s 72ms/step - loss: 1.4870 - sparse_categorical_accuracy: 0.8421\n",
      "Epoch 6/10\n",
      "3/3 [==============================] - 0s 68ms/step - loss: 1.6481 - sparse_categorical_accuracy: 0.7895\n",
      "Epoch 7/10\n",
      "3/3 [==============================] - 0s 69ms/step - loss: 1.9869 - sparse_categorical_accuracy: 0.5789\n",
      "Epoch 8/10\n",
      "3/3 [==============================] - 0s 72ms/step - loss: 1.5896 - sparse_categorical_accuracy: 0.7895\n",
      "Epoch 9/10\n",
      "3/3 [==============================] - 0s 68ms/step - loss: 1.7279 - sparse_categorical_accuracy: 0.6316\n",
      "Epoch 10/10\n",
      "3/3 [==============================] - 0s 69ms/step - loss: 1.7120 - sparse_categorical_accuracy: 0.7368\n",
      "WARNING:tensorflow:Model was constructed with shape (None, 270, 3) for input Tensor(\"input_289:0\", shape=(None, 270, 3), dtype=float32), but it was called on an input with incompatible shape (None, 240, 3).\n"
     ]
    },
    {
     "name": "stderr",
     "output_type": "stream",
     "text": [
      "\r",
      "17it [02:59, 10.62s/it]"
     ]
    },
    {
     "name": "stdout",
     "output_type": "stream",
     "text": [
      "Epoch 1/10\n",
      "WARNING:tensorflow:Model was constructed with shape (None, 270, 3) for input Tensor(\"input_290:0\", shape=(None, 270, 3), dtype=float32), but it was called on an input with incompatible shape (None, 240, 3).\n",
      "WARNING:tensorflow:Model was constructed with shape (None, 270, 3) for input Tensor(\"input_290:0\", shape=(None, 270, 3), dtype=float32), but it was called on an input with incompatible shape (None, 240, 3).\n",
      "3/3 [==============================] - 0s 72ms/step - loss: 1.1749 - sparse_categorical_accuracy: 0.6842\n",
      "Epoch 2/10\n",
      "3/3 [==============================] - 0s 74ms/step - loss: 1.0460 - sparse_categorical_accuracy: 0.8421\n",
      "Epoch 3/10\n",
      "3/3 [==============================] - 0s 68ms/step - loss: 1.4756 - sparse_categorical_accuracy: 0.6842\n",
      "Epoch 4/10\n",
      "3/3 [==============================] - 0s 64ms/step - loss: 1.4340 - sparse_categorical_accuracy: 0.7368\n",
      "Epoch 5/10\n",
      "3/3 [==============================] - 0s 69ms/step - loss: 1.1801 - sparse_categorical_accuracy: 0.7895\n",
      "Epoch 6/10\n",
      "3/3 [==============================] - 0s 69ms/step - loss: 1.4628 - sparse_categorical_accuracy: 0.7368\n",
      "Epoch 7/10\n",
      "3/3 [==============================] - 0s 66ms/step - loss: 1.2890 - sparse_categorical_accuracy: 0.8421\n",
      "Epoch 8/10\n",
      "3/3 [==============================] - 0s 67ms/step - loss: 1.2707 - sparse_categorical_accuracy: 0.8421\n",
      "Epoch 9/10\n",
      "3/3 [==============================] - 0s 69ms/step - loss: 1.8170 - sparse_categorical_accuracy: 0.5789\n",
      "Epoch 10/10\n",
      "3/3 [==============================] - 0s 66ms/step - loss: 1.2308 - sparse_categorical_accuracy: 0.6842\n",
      "WARNING:tensorflow:Model was constructed with shape (None, 270, 3) for input Tensor(\"input_290:0\", shape=(None, 270, 3), dtype=float32), but it was called on an input with incompatible shape (None, 240, 3).\n"
     ]
    },
    {
     "name": "stderr",
     "output_type": "stream",
     "text": [
      "\r",
      "18it [03:09, 10.49s/it]"
     ]
    },
    {
     "name": "stdout",
     "output_type": "stream",
     "text": [
      "Epoch 1/10\n",
      "WARNING:tensorflow:Model was constructed with shape (None, 270, 3) for input Tensor(\"input_291:0\", shape=(None, 270, 3), dtype=float32), but it was called on an input with incompatible shape (None, 240, 3).\n",
      "WARNING:tensorflow:Model was constructed with shape (None, 270, 3) for input Tensor(\"input_291:0\", shape=(None, 270, 3), dtype=float32), but it was called on an input with incompatible shape (None, 240, 3).\n",
      "3/3 [==============================] - 0s 64ms/step - loss: 1.6539 - sparse_categorical_accuracy: 0.4211\n",
      "Epoch 2/10\n",
      "3/3 [==============================] - 0s 69ms/step - loss: 1.4565 - sparse_categorical_accuracy: 0.5789\n",
      "Epoch 3/10\n",
      "3/3 [==============================] - 0s 72ms/step - loss: 1.5034 - sparse_categorical_accuracy: 0.7895\n",
      "Epoch 4/10\n",
      "3/3 [==============================] - 0s 62ms/step - loss: 1.4077 - sparse_categorical_accuracy: 0.8421\n",
      "Epoch 5/10\n",
      "3/3 [==============================] - 0s 63ms/step - loss: 1.3796 - sparse_categorical_accuracy: 0.7895\n",
      "Epoch 6/10\n",
      "3/3 [==============================] - 0s 69ms/step - loss: 1.2773 - sparse_categorical_accuracy: 0.9474\n",
      "Epoch 7/10\n",
      "3/3 [==============================] - 0s 68ms/step - loss: 1.3172 - sparse_categorical_accuracy: 0.8421\n",
      "Epoch 8/10\n",
      "3/3 [==============================] - 0s 64ms/step - loss: 1.3829 - sparse_categorical_accuracy: 0.8421\n",
      "Epoch 9/10\n",
      "3/3 [==============================] - 0s 68ms/step - loss: 1.6173 - sparse_categorical_accuracy: 0.7895\n",
      "Epoch 10/10\n",
      "3/3 [==============================] - 0s 62ms/step - loss: 1.4368 - sparse_categorical_accuracy: 0.7368\n",
      "WARNING:tensorflow:Model was constructed with shape (None, 270, 3) for input Tensor(\"input_291:0\", shape=(None, 270, 3), dtype=float32), but it was called on an input with incompatible shape (None, 240, 3).\n"
     ]
    },
    {
     "name": "stderr",
     "output_type": "stream",
     "text": [
      "\r",
      "19it [03:19, 10.37s/it]"
     ]
    },
    {
     "name": "stdout",
     "output_type": "stream",
     "text": [
      "Epoch 1/10\n",
      "WARNING:tensorflow:Model was constructed with shape (None, 270, 3) for input Tensor(\"input_292:0\", shape=(None, 270, 3), dtype=float32), but it was called on an input with incompatible shape (None, 240, 3).\n",
      "WARNING:tensorflow:Model was constructed with shape (None, 270, 3) for input Tensor(\"input_292:0\", shape=(None, 270, 3), dtype=float32), but it was called on an input with incompatible shape (None, 240, 3).\n",
      "3/3 [==============================] - 0s 69ms/step - loss: 1.3766 - sparse_categorical_accuracy: 0.5263\n",
      "Epoch 2/10\n",
      "3/3 [==============================] - 0s 63ms/step - loss: 1.2695 - sparse_categorical_accuracy: 0.7368\n",
      "Epoch 3/10\n",
      "3/3 [==============================] - 0s 62ms/step - loss: 1.1759 - sparse_categorical_accuracy: 0.8421\n",
      "Epoch 4/10\n",
      "3/3 [==============================] - 0s 59ms/step - loss: 1.1774 - sparse_categorical_accuracy: 0.8947\n",
      "Epoch 5/10\n",
      "3/3 [==============================] - 0s 63ms/step - loss: 1.2584 - sparse_categorical_accuracy: 0.8947\n",
      "Epoch 6/10\n",
      "3/3 [==============================] - 0s 67ms/step - loss: 1.5424 - sparse_categorical_accuracy: 0.8947\n",
      "Epoch 7/10\n",
      "3/3 [==============================] - 0s 62ms/step - loss: 1.0262 - sparse_categorical_accuracy: 0.8947\n",
      "Epoch 8/10\n",
      "3/3 [==============================] - 0s 66ms/step - loss: 1.3597 - sparse_categorical_accuracy: 0.8421\n",
      "Epoch 9/10\n",
      "3/3 [==============================] - 0s 64ms/step - loss: 0.8304 - sparse_categorical_accuracy: 0.9474\n",
      "Epoch 10/10\n",
      "3/3 [==============================] - 0s 72ms/step - loss: 0.7921 - sparse_categorical_accuracy: 0.8947\n",
      "WARNING:tensorflow:Model was constructed with shape (None, 270, 3) for input Tensor(\"input_292:0\", shape=(None, 270, 3), dtype=float32), but it was called on an input with incompatible shape (None, 240, 3).\n"
     ]
    },
    {
     "name": "stderr",
     "output_type": "stream",
     "text": [
      "20it [03:29, 10.47s/it]\n",
      "0it [00:00, ?it/s]"
     ]
    },
    {
     "name": "stdout",
     "output_type": "stream",
     "text": [
      "Epoch 1/10\n",
      "5/5 [==============================] - 1s 103ms/step - loss: 1.4574 - sparse_categorical_accuracy: 0.6667\n",
      "Epoch 2/10\n",
      "5/5 [==============================] - 1s 101ms/step - loss: 1.0607 - sparse_categorical_accuracy: 0.8485\n",
      "Epoch 3/10\n",
      "5/5 [==============================] - 1s 103ms/step - loss: 0.9377 - sparse_categorical_accuracy: 1.0000\n",
      "Epoch 4/10\n",
      "5/5 [==============================] - 1s 101ms/step - loss: 1.0321 - sparse_categorical_accuracy: 0.8485\n",
      "Epoch 5/10\n",
      "5/5 [==============================] - 1s 101ms/step - loss: 1.3553 - sparse_categorical_accuracy: 0.7273\n",
      "Epoch 6/10\n",
      "5/5 [==============================] - 0s 99ms/step - loss: 0.8753 - sparse_categorical_accuracy: 0.8788\n",
      "Epoch 7/10\n",
      "5/5 [==============================] - 0s 96ms/step - loss: 0.7691 - sparse_categorical_accuracy: 0.8788\n",
      "Epoch 8/10\n",
      "5/5 [==============================] - 1s 101ms/step - loss: 0.6801 - sparse_categorical_accuracy: 0.8788\n",
      "Epoch 9/10\n",
      "5/5 [==============================] - 1s 100ms/step - loss: 0.6214 - sparse_categorical_accuracy: 0.9394\n",
      "Epoch 10/10\n",
      "5/5 [==============================] - 0s 96ms/step - loss: 0.6664 - sparse_categorical_accuracy: 0.8788\n"
     ]
    },
    {
     "name": "stderr",
     "output_type": "stream",
     "text": [
      "\r",
      "1it [00:13, 13.36s/it]"
     ]
    },
    {
     "name": "stdout",
     "output_type": "stream",
     "text": [
      "Epoch 1/10\n",
      "5/5 [==============================] - 0s 97ms/step - loss: 1.1322 - sparse_categorical_accuracy: 0.7576\n",
      "Epoch 2/10\n",
      "5/5 [==============================] - 0s 95ms/step - loss: 1.4076 - sparse_categorical_accuracy: 0.7879\n",
      "Epoch 3/10\n",
      "5/5 [==============================] - 0s 94ms/step - loss: 1.5197 - sparse_categorical_accuracy: 0.7273\n",
      "Epoch 4/10\n",
      "5/5 [==============================] - 0s 96ms/step - loss: 1.3926 - sparse_categorical_accuracy: 0.6667\n",
      "Epoch 5/10\n",
      "5/5 [==============================] - 0s 95ms/step - loss: 0.9670 - sparse_categorical_accuracy: 0.8788\n",
      "Epoch 6/10\n",
      "5/5 [==============================] - 0s 98ms/step - loss: 0.8178 - sparse_categorical_accuracy: 0.8485\n",
      "Epoch 7/10\n",
      "5/5 [==============================] - 1s 101ms/step - loss: 0.8726 - sparse_categorical_accuracy: 0.8788\n",
      "Epoch 8/10\n",
      "5/5 [==============================] - 1s 101ms/step - loss: 0.6186 - sparse_categorical_accuracy: 0.9394\n",
      "Epoch 9/10\n",
      "5/5 [==============================] - 0s 97ms/step - loss: 0.5508 - sparse_categorical_accuracy: 0.9394\n",
      "Epoch 10/10\n",
      "5/5 [==============================] - 0s 99ms/step - loss: 0.5680 - sparse_categorical_accuracy: 0.9394\n"
     ]
    },
    {
     "name": "stderr",
     "output_type": "stream",
     "text": [
      "\r",
      "2it [00:26, 13.30s/it]"
     ]
    },
    {
     "name": "stdout",
     "output_type": "stream",
     "text": [
      "Epoch 1/10\n",
      "5/5 [==============================] - 1s 103ms/step - loss: 0.9539 - sparse_categorical_accuracy: 0.7576\n",
      "Epoch 2/10\n",
      "5/5 [==============================] - 1s 107ms/step - loss: 1.0585 - sparse_categorical_accuracy: 0.7879\n",
      "Epoch 3/10\n",
      "5/5 [==============================] - 1s 100ms/step - loss: 1.2659 - sparse_categorical_accuracy: 0.7879\n",
      "Epoch 4/10\n",
      "5/5 [==============================] - 1s 116ms/step - loss: 0.9157 - sparse_categorical_accuracy: 0.8788\n",
      "Epoch 5/10\n",
      "5/5 [==============================] - 1s 101ms/step - loss: 0.8248 - sparse_categorical_accuracy: 0.7879\n",
      "Epoch 6/10\n",
      "5/5 [==============================] - 0s 95ms/step - loss: 0.7848 - sparse_categorical_accuracy: 0.8788\n",
      "Epoch 7/10\n",
      "5/5 [==============================] - 1s 101ms/step - loss: 0.5699 - sparse_categorical_accuracy: 0.9394\n",
      "Epoch 8/10\n",
      "5/5 [==============================] - 0s 99ms/step - loss: 0.6317 - sparse_categorical_accuracy: 0.8485\n",
      "Epoch 9/10\n",
      "5/5 [==============================] - 0s 97ms/step - loss: 0.6498 - sparse_categorical_accuracy: 0.9091\n",
      "Epoch 10/10\n",
      "5/5 [==============================] - 0s 97ms/step - loss: 0.6629 - sparse_categorical_accuracy: 0.8788\n"
     ]
    },
    {
     "name": "stderr",
     "output_type": "stream",
     "text": [
      "\r",
      "3it [00:39, 13.35s/it]"
     ]
    },
    {
     "name": "stdout",
     "output_type": "stream",
     "text": [
      "Epoch 1/10\n",
      "5/5 [==============================] - 0s 96ms/step - loss: 1.1228 - sparse_categorical_accuracy: 0.6970\n",
      "Epoch 2/10\n",
      "5/5 [==============================] - 1s 107ms/step - loss: 0.9454 - sparse_categorical_accuracy: 0.9091\n",
      "Epoch 3/10\n",
      "5/5 [==============================] - 0s 98ms/step - loss: 1.0000 - sparse_categorical_accuracy: 0.8788\n",
      "Epoch 4/10\n",
      "5/5 [==============================] - 0s 98ms/step - loss: 0.9777 - sparse_categorical_accuracy: 0.8788\n",
      "Epoch 5/10\n",
      "5/5 [==============================] - 1s 104ms/step - loss: 1.1716 - sparse_categorical_accuracy: 0.7879\n",
      "Epoch 6/10\n",
      "5/5 [==============================] - 0s 97ms/step - loss: 1.0656 - sparse_categorical_accuracy: 0.7879\n",
      "Epoch 7/10\n",
      "5/5 [==============================] - 0s 95ms/step - loss: 0.7603 - sparse_categorical_accuracy: 0.9091\n",
      "Epoch 8/10\n",
      "5/5 [==============================] - 0s 95ms/step - loss: 0.6918 - sparse_categorical_accuracy: 0.8788\n",
      "Epoch 9/10\n",
      "5/5 [==============================] - 0s 96ms/step - loss: 0.6488 - sparse_categorical_accuracy: 0.8788\n",
      "Epoch 10/10\n",
      "5/5 [==============================] - 0s 97ms/step - loss: 0.6035 - sparse_categorical_accuracy: 0.9394\n"
     ]
    },
    {
     "name": "stderr",
     "output_type": "stream",
     "text": [
      "\r",
      "4it [00:53, 13.35s/it]"
     ]
    },
    {
     "name": "stdout",
     "output_type": "stream",
     "text": [
      "Epoch 1/10\n",
      "5/5 [==============================] - 1s 107ms/step - loss: 1.2012 - sparse_categorical_accuracy: 0.7273\n",
      "Epoch 2/10\n",
      "5/5 [==============================] - 1s 104ms/step - loss: 1.0196 - sparse_categorical_accuracy: 0.8788\n",
      "Epoch 3/10\n",
      "5/5 [==============================] - 0s 99ms/step - loss: 1.0742 - sparse_categorical_accuracy: 0.9091\n",
      "Epoch 4/10\n",
      "5/5 [==============================] - 0s 95ms/step - loss: 1.4013 - sparse_categorical_accuracy: 0.7576\n",
      "Epoch 5/10\n",
      "5/5 [==============================] - 1s 100ms/step - loss: 0.9377 - sparse_categorical_accuracy: 0.8182\n",
      "Epoch 6/10\n",
      "5/5 [==============================] - 0s 94ms/step - loss: 0.9521 - sparse_categorical_accuracy: 0.8182\n",
      "Epoch 7/10\n",
      "5/5 [==============================] - 0s 100ms/step - loss: 0.7521 - sparse_categorical_accuracy: 0.8788\n",
      "Epoch 8/10\n",
      "5/5 [==============================] - 0s 95ms/step - loss: 0.5734 - sparse_categorical_accuracy: 1.0000\n",
      "Epoch 9/10\n",
      "5/5 [==============================] - 1s 102ms/step - loss: 0.5063 - sparse_categorical_accuracy: 0.9697\n",
      "Epoch 10/10\n",
      "5/5 [==============================] - 0s 95ms/step - loss: 0.5422 - sparse_categorical_accuracy: 0.8788\n"
     ]
    },
    {
     "name": "stderr",
     "output_type": "stream",
     "text": [
      "\r",
      "5it [01:06, 13.44s/it]"
     ]
    },
    {
     "name": "stdout",
     "output_type": "stream",
     "text": [
      "Epoch 1/10\n",
      "5/5 [==============================] - 1s 105ms/step - loss: 1.1676 - sparse_categorical_accuracy: 0.7273\n",
      "Epoch 2/10\n",
      "5/5 [==============================] - 0s 99ms/step - loss: 1.0091 - sparse_categorical_accuracy: 0.9091\n",
      "Epoch 3/10\n",
      "5/5 [==============================] - 1s 101ms/step - loss: 1.1577 - sparse_categorical_accuracy: 0.8182\n",
      "Epoch 4/10\n",
      "5/5 [==============================] - 0s 100ms/step - loss: 0.9203 - sparse_categorical_accuracy: 0.9091\n",
      "Epoch 5/10\n",
      "5/5 [==============================] - 0s 96ms/step - loss: 1.1363 - sparse_categorical_accuracy: 0.8182\n",
      "Epoch 6/10\n",
      "5/5 [==============================] - 0s 100ms/step - loss: 0.9186 - sparse_categorical_accuracy: 0.8485\n",
      "Epoch 7/10\n",
      "5/5 [==============================] - 0s 100ms/step - loss: 0.8886 - sparse_categorical_accuracy: 0.8485\n",
      "Epoch 8/10\n",
      "5/5 [==============================] - 0s 98ms/step - loss: 0.7024 - sparse_categorical_accuracy: 0.8485\n",
      "Epoch 9/10\n",
      "5/5 [==============================] - 0s 98ms/step - loss: 0.6041 - sparse_categorical_accuracy: 0.9394\n",
      "Epoch 10/10\n",
      "5/5 [==============================] - 1s 101ms/step - loss: 1.0678 - sparse_categorical_accuracy: 0.7576\n"
     ]
    },
    {
     "name": "stderr",
     "output_type": "stream",
     "text": [
      "\r",
      "6it [01:20, 13.53s/it]"
     ]
    },
    {
     "name": "stdout",
     "output_type": "stream",
     "text": [
      "Epoch 1/10\n",
      "5/5 [==============================] - 1s 108ms/step - loss: 1.0793 - sparse_categorical_accuracy: 0.7879\n",
      "Epoch 2/10\n",
      "5/5 [==============================] - 1s 106ms/step - loss: 1.1015 - sparse_categorical_accuracy: 0.8485\n",
      "Epoch 3/10\n",
      "5/5 [==============================] - 0s 98ms/step - loss: 1.2671 - sparse_categorical_accuracy: 0.8182\n",
      "Epoch 4/10\n",
      "5/5 [==============================] - 1s 105ms/step - loss: 0.8560 - sparse_categorical_accuracy: 0.9091\n",
      "Epoch 5/10\n",
      "5/5 [==============================] - 0s 100ms/step - loss: 0.8358 - sparse_categorical_accuracy: 0.8788\n",
      "Epoch 6/10\n",
      "5/5 [==============================] - 0s 99ms/step - loss: 0.8078 - sparse_categorical_accuracy: 0.9091\n",
      "Epoch 7/10\n",
      "5/5 [==============================] - 0s 94ms/step - loss: 0.7355 - sparse_categorical_accuracy: 0.9394\n",
      "Epoch 8/10\n",
      "5/5 [==============================] - 0s 96ms/step - loss: 0.5346 - sparse_categorical_accuracy: 0.9697\n",
      "Epoch 9/10\n",
      "5/5 [==============================] - 1s 100ms/step - loss: 1.2340 - sparse_categorical_accuracy: 0.7879\n",
      "Epoch 10/10\n",
      "5/5 [==============================] - ETA: 0s - loss: 1.0338 - sparse_categorical_accuracy: 0.718 - 0s 98ms/step - loss: 1.0244 - sparse_categorical_accuracy: 0.6970\n"
     ]
    },
    {
     "name": "stderr",
     "output_type": "stream",
     "text": [
      "\r",
      "7it [01:34, 13.58s/it]"
     ]
    },
    {
     "name": "stdout",
     "output_type": "stream",
     "text": [
      "Epoch 1/10\n",
      "5/5 [==============================] - 1s 119ms/step - loss: 1.2161 - sparse_categorical_accuracy: 0.6667\n",
      "Epoch 2/10\n",
      "5/5 [==============================] - 1s 119ms/step - loss: 1.5173 - sparse_categorical_accuracy: 0.6970\n",
      "Epoch 3/10\n",
      "5/5 [==============================] - 1s 116ms/step - loss: 1.2639 - sparse_categorical_accuracy: 0.8788\n",
      "Epoch 4/10\n",
      "5/5 [==============================] - 1s 118ms/step - loss: 0.9702 - sparse_categorical_accuracy: 0.9394\n",
      "Epoch 5/10\n",
      "5/5 [==============================] - 1s 130ms/step - loss: 0.7041 - sparse_categorical_accuracy: 0.9697\n",
      "Epoch 6/10\n",
      "5/5 [==============================] - 1s 117ms/step - loss: 1.2901 - sparse_categorical_accuracy: 0.6970\n",
      "Epoch 7/10\n",
      "5/5 [==============================] - 1s 121ms/step - loss: 0.7935 - sparse_categorical_accuracy: 0.8182\n",
      "Epoch 8/10\n",
      "5/5 [==============================] - 1s 116ms/step - loss: 0.6359 - sparse_categorical_accuracy: 0.8788\n",
      "Epoch 9/10\n",
      "5/5 [==============================] - 1s 128ms/step - loss: 0.5268 - sparse_categorical_accuracy: 0.9697\n",
      "Epoch 10/10\n",
      "5/5 [==============================] - 1s 124ms/step - loss: 0.4927 - sparse_categorical_accuracy: 1.0000\n"
     ]
    },
    {
     "name": "stderr",
     "output_type": "stream",
     "text": [
      "\r",
      "8it [01:52, 14.90s/it]"
     ]
    },
    {
     "name": "stdout",
     "output_type": "stream",
     "text": [
      "Epoch 1/10\n",
      "5/5 [==============================] - 1s 120ms/step - loss: 1.5876 - sparse_categorical_accuracy: 0.5152\n",
      "Epoch 2/10\n",
      "5/5 [==============================] - 1s 126ms/step - loss: 1.0635 - sparse_categorical_accuracy: 0.8485\n",
      "Epoch 3/10\n",
      "5/5 [==============================] - 1s 115ms/step - loss: 1.1804 - sparse_categorical_accuracy: 0.7879\n",
      "Epoch 4/10\n",
      "5/5 [==============================] - 1s 123ms/step - loss: 1.2123 - sparse_categorical_accuracy: 0.8485\n",
      "Epoch 5/10\n",
      "5/5 [==============================] - 1s 122ms/step - loss: 0.8447 - sparse_categorical_accuracy: 0.8788\n",
      "Epoch 6/10\n",
      "5/5 [==============================] - 1s 119ms/step - loss: 0.8255 - sparse_categorical_accuracy: 0.9091\n",
      "Epoch 7/10\n",
      "5/5 [==============================] - 1s 124ms/step - loss: 1.3108 - sparse_categorical_accuracy: 0.8485\n",
      "Epoch 8/10\n",
      "5/5 [==============================] - 1s 120ms/step - loss: 0.8033 - sparse_categorical_accuracy: 0.7879\n",
      "Epoch 9/10\n",
      "5/5 [==============================] - 1s 120ms/step - loss: 0.6168 - sparse_categorical_accuracy: 0.9697\n",
      "Epoch 10/10\n",
      "5/5 [==============================] - 1s 119ms/step - loss: 0.5993 - sparse_categorical_accuracy: 0.9091\n"
     ]
    },
    {
     "name": "stderr",
     "output_type": "stream",
     "text": [
      "\r",
      "9it [02:07, 14.89s/it]"
     ]
    },
    {
     "name": "stdout",
     "output_type": "stream",
     "text": [
      "Epoch 1/10\n",
      "5/5 [==============================] - 1s 125ms/step - loss: 1.1605 - sparse_categorical_accuracy: 0.6364\n",
      "Epoch 2/10\n",
      "5/5 [==============================] - 1s 127ms/step - loss: 1.0868 - sparse_categorical_accuracy: 0.7576\n",
      "Epoch 3/10\n",
      "5/5 [==============================] - 1s 118ms/step - loss: 1.0899 - sparse_categorical_accuracy: 0.8485\n",
      "Epoch 4/10\n",
      "5/5 [==============================] - 1s 116ms/step - loss: 0.9647 - sparse_categorical_accuracy: 0.9091\n",
      "Epoch 5/10\n",
      "5/5 [==============================] - 1s 114ms/step - loss: 0.9535 - sparse_categorical_accuracy: 0.8788\n",
      "Epoch 6/10\n",
      "5/5 [==============================] - 1s 117ms/step - loss: 0.8198 - sparse_categorical_accuracy: 0.8485\n",
      "Epoch 7/10\n",
      "5/5 [==============================] - 1s 121ms/step - loss: 0.9062 - sparse_categorical_accuracy: 0.7879\n",
      "Epoch 8/10\n",
      "5/5 [==============================] - 1s 118ms/step - loss: 0.8814 - sparse_categorical_accuracy: 0.7576\n",
      "Epoch 9/10\n",
      "5/5 [==============================] - 1s 125ms/step - loss: 0.5375 - sparse_categorical_accuracy: 0.9394\n",
      "Epoch 10/10\n",
      "5/5 [==============================] - 1s 119ms/step - loss: 0.7117 - sparse_categorical_accuracy: 0.8485\n"
     ]
    },
    {
     "name": "stderr",
     "output_type": "stream",
     "text": [
      "\r",
      "10it [02:22, 14.93s/it]"
     ]
    },
    {
     "name": "stdout",
     "output_type": "stream",
     "text": [
      "Epoch 1/10\n",
      "5/5 [==============================] - 1s 116ms/step - loss: 1.1562 - sparse_categorical_accuracy: 0.6364\n",
      "Epoch 2/10\n",
      "5/5 [==============================] - 1s 122ms/step - loss: 0.9632 - sparse_categorical_accuracy: 0.8788\n",
      "Epoch 3/10\n",
      "5/5 [==============================] - 1s 111ms/step - loss: 1.2699 - sparse_categorical_accuracy: 0.7273\n",
      "Epoch 4/10\n",
      "5/5 [==============================] - 1s 116ms/step - loss: 1.0138 - sparse_categorical_accuracy: 0.7576\n",
      "Epoch 5/10\n",
      "5/5 [==============================] - 1s 122ms/step - loss: 1.2812 - sparse_categorical_accuracy: 0.7879\n",
      "Epoch 6/10\n",
      "5/5 [==============================] - 1s 121ms/step - loss: 1.0579 - sparse_categorical_accuracy: 0.7879\n",
      "Epoch 7/10\n",
      "5/5 [==============================] - 1s 115ms/step - loss: 0.7211 - sparse_categorical_accuracy: 0.8485\n",
      "Epoch 8/10\n",
      "5/5 [==============================] - 1s 112ms/step - loss: 1.0549 - sparse_categorical_accuracy: 0.8182\n",
      "Epoch 9/10\n",
      "5/5 [==============================] - 1s 116ms/step - loss: 0.8593 - sparse_categorical_accuracy: 0.8485\n",
      "Epoch 10/10\n",
      "5/5 [==============================] - 1s 128ms/step - loss: 0.6632 - sparse_categorical_accuracy: 0.8788\n"
     ]
    },
    {
     "name": "stderr",
     "output_type": "stream",
     "text": [
      "\r",
      "11it [02:37, 14.87s/it]"
     ]
    },
    {
     "name": "stdout",
     "output_type": "stream",
     "text": [
      "Epoch 1/10\n",
      "5/5 [==============================] - 1s 110ms/step - loss: 1.4797 - sparse_categorical_accuracy: 0.6364\n",
      "Epoch 2/10\n",
      "5/5 [==============================] - 1s 117ms/step - loss: 1.0522 - sparse_categorical_accuracy: 0.8788\n",
      "Epoch 3/10\n",
      "5/5 [==============================] - 1s 109ms/step - loss: 1.0591 - sparse_categorical_accuracy: 0.9394\n",
      "Epoch 4/10\n",
      "5/5 [==============================] - 1s 113ms/step - loss: 1.0249 - sparse_categorical_accuracy: 0.8182\n",
      "Epoch 5/10\n",
      "5/5 [==============================] - 1s 116ms/step - loss: 0.7327 - sparse_categorical_accuracy: 0.9697\n",
      "Epoch 6/10\n",
      "5/5 [==============================] - 1s 110ms/step - loss: 1.1106 - sparse_categorical_accuracy: 0.8485\n",
      "Epoch 7/10\n",
      "5/5 [==============================] - 1s 117ms/step - loss: 0.6042 - sparse_categorical_accuracy: 0.9091\n",
      "Epoch 8/10\n",
      "5/5 [==============================] - 1s 112ms/step - loss: 0.5739 - sparse_categorical_accuracy: 0.9394\n",
      "Epoch 9/10\n",
      "5/5 [==============================] - 1s 116ms/step - loss: 0.8763 - sparse_categorical_accuracy: 0.7879\n",
      "Epoch 10/10\n",
      "5/5 [==============================] - 1s 112ms/step - loss: 0.5388 - sparse_categorical_accuracy: 0.9091\n"
     ]
    },
    {
     "name": "stderr",
     "output_type": "stream",
     "text": [
      "\r",
      "12it [02:51, 14.78s/it]"
     ]
    },
    {
     "name": "stdout",
     "output_type": "stream",
     "text": [
      "Epoch 1/10\n",
      "5/5 [==============================] - 1s 115ms/step - loss: 1.5780 - sparse_categorical_accuracy: 0.6061\n",
      "Epoch 2/10\n",
      "5/5 [==============================] - 1s 113ms/step - loss: 1.2389 - sparse_categorical_accuracy: 0.7879\n",
      "Epoch 3/10\n",
      "5/5 [==============================] - 1s 123ms/step - loss: 1.3617 - sparse_categorical_accuracy: 0.8182\n",
      "Epoch 4/10\n",
      "5/5 [==============================] - 1s 112ms/step - loss: 1.2268 - sparse_categorical_accuracy: 0.7879\n",
      "Epoch 5/10\n",
      "5/5 [==============================] - 1s 112ms/step - loss: 0.9658 - sparse_categorical_accuracy: 0.8788\n",
      "Epoch 6/10\n",
      "5/5 [==============================] - 1s 117ms/step - loss: 1.0817 - sparse_categorical_accuracy: 0.7879\n",
      "Epoch 7/10\n",
      "5/5 [==============================] - 1s 112ms/step - loss: 0.7476 - sparse_categorical_accuracy: 0.9394\n",
      "Epoch 8/10\n",
      "5/5 [==============================] - 1s 114ms/step - loss: 0.8062 - sparse_categorical_accuracy: 0.9091\n",
      "Epoch 9/10\n",
      "5/5 [==============================] - 1s 118ms/step - loss: 0.8519 - sparse_categorical_accuracy: 0.8788\n",
      "Epoch 10/10\n",
      "5/5 [==============================] - 1s 113ms/step - loss: 0.7691 - sparse_categorical_accuracy: 0.8485\n"
     ]
    },
    {
     "name": "stderr",
     "output_type": "stream",
     "text": [
      "\r",
      "13it [03:06, 14.77s/it]"
     ]
    },
    {
     "name": "stdout",
     "output_type": "stream",
     "text": [
      "Epoch 1/10\n",
      "5/5 [==============================] - 1s 110ms/step - loss: 1.1518 - sparse_categorical_accuracy: 0.6667\n",
      "Epoch 2/10\n",
      "5/5 [==============================] - 1s 111ms/step - loss: 1.0774 - sparse_categorical_accuracy: 0.7879\n",
      "Epoch 3/10\n",
      "5/5 [==============================] - 1s 111ms/step - loss: 1.4811 - sparse_categorical_accuracy: 0.6970\n",
      "Epoch 4/10\n",
      "5/5 [==============================] - 1s 113ms/step - loss: 0.9885 - sparse_categorical_accuracy: 0.8485\n",
      "Epoch 5/10\n",
      "5/5 [==============================] - 1s 112ms/step - loss: 1.1134 - sparse_categorical_accuracy: 0.8485\n",
      "Epoch 6/10\n",
      "5/5 [==============================] - 1s 111ms/step - loss: 0.9393 - sparse_categorical_accuracy: 0.8788\n",
      "Epoch 7/10\n",
      "5/5 [==============================] - 1s 109ms/step - loss: 0.8090 - sparse_categorical_accuracy: 0.8788\n",
      "Epoch 8/10\n",
      "5/5 [==============================] - 1s 112ms/step - loss: 0.8355 - sparse_categorical_accuracy: 0.8788\n",
      "Epoch 9/10\n",
      "5/5 [==============================] - 1s 113ms/step - loss: 0.8139 - sparse_categorical_accuracy: 0.7879\n",
      "Epoch 10/10\n",
      "5/5 [==============================] - 1s 109ms/step - loss: 1.0147 - sparse_categorical_accuracy: 0.7576\n"
     ]
    },
    {
     "name": "stderr",
     "output_type": "stream",
     "text": [
      "\r",
      "14it [03:20, 14.63s/it]"
     ]
    },
    {
     "name": "stdout",
     "output_type": "stream",
     "text": [
      "Epoch 1/10\n",
      "5/5 [==============================] - 1s 119ms/step - loss: 1.2539 - sparse_categorical_accuracy: 0.5455\n",
      "Epoch 2/10\n",
      "5/5 [==============================] - 1s 119ms/step - loss: 1.1104 - sparse_categorical_accuracy: 0.8182\n",
      "Epoch 3/10\n",
      "5/5 [==============================] - 1s 117ms/step - loss: 1.1549 - sparse_categorical_accuracy: 0.8182\n",
      "Epoch 4/10\n",
      "5/5 [==============================] - 1s 119ms/step - loss: 1.2323 - sparse_categorical_accuracy: 0.8182\n",
      "Epoch 5/10\n",
      "5/5 [==============================] - 1s 115ms/step - loss: 0.9807 - sparse_categorical_accuracy: 0.8182\n",
      "Epoch 6/10\n",
      "5/5 [==============================] - 1s 110ms/step - loss: 0.8949 - sparse_categorical_accuracy: 0.9091\n",
      "Epoch 7/10\n",
      "5/5 [==============================] - 1s 116ms/step - loss: 1.1158 - sparse_categorical_accuracy: 0.8182\n",
      "Epoch 8/10\n",
      "5/5 [==============================] - 1s 112ms/step - loss: 0.9817 - sparse_categorical_accuracy: 0.7273\n",
      "Epoch 9/10\n",
      "5/5 [==============================] - 1s 117ms/step - loss: 0.7960 - sparse_categorical_accuracy: 0.7879\n",
      "Epoch 10/10\n",
      "5/5 [==============================] - 1s 109ms/step - loss: 0.7921 - sparse_categorical_accuracy: 0.7879\n"
     ]
    },
    {
     "name": "stderr",
     "output_type": "stream",
     "text": [
      "\r",
      "15it [03:35, 14.64s/it]"
     ]
    },
    {
     "name": "stdout",
     "output_type": "stream",
     "text": [
      "Epoch 1/10\n",
      "5/5 [==============================] - 1s 115ms/step - loss: 0.9684 - sparse_categorical_accuracy: 0.8485\n",
      "Epoch 2/10\n",
      "5/5 [==============================] - 1s 114ms/step - loss: 1.1260 - sparse_categorical_accuracy: 0.8485\n",
      "Epoch 3/10\n",
      "5/5 [==============================] - 1s 112ms/step - loss: 0.9283 - sparse_categorical_accuracy: 0.9394\n",
      "Epoch 4/10\n",
      "5/5 [==============================] - 1s 113ms/step - loss: 1.0379 - sparse_categorical_accuracy: 0.8485\n",
      "Epoch 5/10\n",
      "5/5 [==============================] - 1s 113ms/step - loss: 0.9417 - sparse_categorical_accuracy: 0.8485\n",
      "Epoch 6/10\n",
      "5/5 [==============================] - 1s 111ms/step - loss: 1.0004 - sparse_categorical_accuracy: 0.8182\n",
      "Epoch 7/10\n",
      "5/5 [==============================] - 1s 110ms/step - loss: 0.7208 - sparse_categorical_accuracy: 0.9091\n",
      "Epoch 8/10\n",
      "5/5 [==============================] - 1s 111ms/step - loss: 0.8478 - sparse_categorical_accuracy: 0.7879\n",
      "Epoch 9/10\n",
      "5/5 [==============================] - 1s 112ms/step - loss: 0.8329 - sparse_categorical_accuracy: 0.8182\n",
      "Epoch 10/10\n",
      "5/5 [==============================] - 1s 112ms/step - loss: 0.9240 - sparse_categorical_accuracy: 0.7576\n"
     ]
    },
    {
     "name": "stderr",
     "output_type": "stream",
     "text": [
      "\r",
      "16it [03:49, 14.55s/it]"
     ]
    },
    {
     "name": "stdout",
     "output_type": "stream",
     "text": [
      "Epoch 1/10\n",
      "5/5 [==============================] - 1s 103ms/step - loss: 1.3301 - sparse_categorical_accuracy: 0.5152\n",
      "Epoch 2/10\n",
      "5/5 [==============================] - 1s 113ms/step - loss: 0.9749 - sparse_categorical_accuracy: 0.9091\n",
      "Epoch 3/10\n",
      "5/5 [==============================] - 1s 111ms/step - loss: 1.2009 - sparse_categorical_accuracy: 0.7879\n",
      "Epoch 4/10\n",
      "5/5 [==============================] - 1s 110ms/step - loss: 0.8453 - sparse_categorical_accuracy: 0.9394\n",
      "Epoch 5/10\n",
      "5/5 [==============================] - 1s 111ms/step - loss: 0.8463 - sparse_categorical_accuracy: 0.9394\n",
      "Epoch 6/10\n",
      "5/5 [==============================] - 1s 111ms/step - loss: 1.2779 - sparse_categorical_accuracy: 0.8182\n",
      "Epoch 7/10\n",
      "5/5 [==============================] - 1s 109ms/step - loss: 0.6472 - sparse_categorical_accuracy: 0.9091\n",
      "Epoch 8/10\n",
      "5/5 [==============================] - 1s 105ms/step - loss: 0.5145 - sparse_categorical_accuracy: 0.9697\n",
      "Epoch 9/10\n",
      "5/5 [==============================] - 1s 109ms/step - loss: 0.6799 - sparse_categorical_accuracy: 0.9091\n",
      "Epoch 10/10\n",
      "5/5 [==============================] - 1s 118ms/step - loss: 1.0135 - sparse_categorical_accuracy: 0.8485\n"
     ]
    },
    {
     "name": "stderr",
     "output_type": "stream",
     "text": [
      "\r",
      "17it [04:03, 14.47s/it]"
     ]
    },
    {
     "name": "stdout",
     "output_type": "stream",
     "text": [
      "Epoch 1/10\n",
      "5/5 [==============================] - 1s 104ms/step - loss: 1.1188 - sparse_categorical_accuracy: 0.7576\n",
      "Epoch 2/10\n",
      "5/5 [==============================] - 1s 103ms/step - loss: 0.9520 - sparse_categorical_accuracy: 0.9394\n",
      "Epoch 3/10\n",
      "5/5 [==============================] - 1s 106ms/step - loss: 0.9582 - sparse_categorical_accuracy: 0.8788\n",
      "Epoch 4/10\n",
      "5/5 [==============================] - 1s 105ms/step - loss: 1.5787 - sparse_categorical_accuracy: 0.7576\n",
      "Epoch 5/10\n",
      "5/5 [==============================] - 1s 104ms/step - loss: 1.0318 - sparse_categorical_accuracy: 0.8182\n",
      "Epoch 6/10\n",
      "5/5 [==============================] - 1s 103ms/step - loss: 1.2577 - sparse_categorical_accuracy: 0.6970\n",
      "Epoch 7/10\n",
      "5/5 [==============================] - 1s 107ms/step - loss: 0.7797 - sparse_categorical_accuracy: 0.8788\n",
      "Epoch 8/10\n",
      "5/5 [==============================] - 1s 101ms/step - loss: 0.8241 - sparse_categorical_accuracy: 0.8788\n",
      "Epoch 9/10\n",
      "5/5 [==============================] - 1s 106ms/step - loss: 0.8625 - sparse_categorical_accuracy: 0.8182\n",
      "Epoch 10/10\n",
      "5/5 [==============================] - 1s 106ms/step - loss: 0.9888 - sparse_categorical_accuracy: 0.7273\n"
     ]
    },
    {
     "name": "stderr",
     "output_type": "stream",
     "text": [
      "\r",
      "18it [04:17, 14.28s/it]"
     ]
    },
    {
     "name": "stdout",
     "output_type": "stream",
     "text": [
      "Epoch 1/10\n",
      "5/5 [==============================] - 1s 113ms/step - loss: 1.3331 - sparse_categorical_accuracy: 0.6061\n",
      "Epoch 2/10\n",
      "5/5 [==============================] - 1s 114ms/step - loss: 1.3766 - sparse_categorical_accuracy: 0.7273\n",
      "Epoch 3/10\n",
      "5/5 [==============================] - 1s 109ms/step - loss: 1.1946 - sparse_categorical_accuracy: 0.8485\n",
      "Epoch 4/10\n",
      "5/5 [==============================] - 1s 118ms/step - loss: 1.1353 - sparse_categorical_accuracy: 0.9091\n",
      "Epoch 5/10\n",
      "5/5 [==============================] - 1s 116ms/step - loss: 1.0244 - sparse_categorical_accuracy: 0.8182\n",
      "Epoch 6/10\n",
      "5/5 [==============================] - 1s 124ms/step - loss: 0.7846 - sparse_categorical_accuracy: 0.9091\n",
      "Epoch 7/10\n",
      "5/5 [==============================] - 1s 117ms/step - loss: 1.0824 - sparse_categorical_accuracy: 0.8485\n",
      "Epoch 8/10\n",
      "3/5 [=================>............] - ETA: 0s - loss: 1.2160 - sparse_categorical_accuracy: 0.7917"
     ]
    },
    {
     "name": "stderr",
     "output_type": "stream",
     "text": [
      "18it [04:30, 15.02s/it]\n"
     ]
    },
    {
     "ename": "KeyboardInterrupt",
     "evalue": "",
     "output_type": "error",
     "traceback": [
      "\u001b[1;31m---------------------------------------------------------------------------\u001b[0m",
      "\u001b[1;31mKeyboardInterrupt\u001b[0m                         Traceback (most recent call last)",
      "\u001b[1;32m<ipython-input-12-a0db0168337d>\u001b[0m in \u001b[0;36m<module>\u001b[1;34m\u001b[0m\n\u001b[0;32m     21\u001b[0m \u001b[1;33m\u001b[0m\u001b[0m\n\u001b[0;32m     22\u001b[0m             \u001b[0mmodel\u001b[0m \u001b[1;33m=\u001b[0m \u001b[0mgenerate_model\u001b[0m\u001b[1;33m(\u001b[0m\u001b[1;33m)\u001b[0m\u001b[1;33m\u001b[0m\u001b[1;33m\u001b[0m\u001b[0m\n\u001b[1;32m---> 23\u001b[1;33m             \u001b[0mmodel\u001b[0m\u001b[1;33m.\u001b[0m\u001b[0mfit\u001b[0m\u001b[1;33m(\u001b[0m\u001b[0mx\u001b[0m\u001b[1;33m=\u001b[0m\u001b[0mX_train\u001b[0m\u001b[1;33m,\u001b[0m \u001b[0my\u001b[0m\u001b[1;33m=\u001b[0m\u001b[0my_train\u001b[0m\u001b[1;33m,\u001b[0m \u001b[0mbatch_size\u001b[0m\u001b[1;33m=\u001b[0m\u001b[0mBATCH_SIZE\u001b[0m\u001b[1;33m,\u001b[0m \u001b[0mepochs\u001b[0m\u001b[1;33m=\u001b[0m\u001b[1;36m10\u001b[0m\u001b[1;33m,\u001b[0m \u001b[0mshuffle\u001b[0m\u001b[1;33m=\u001b[0m\u001b[1;32mTrue\u001b[0m\u001b[1;33m)\u001b[0m\u001b[1;33m\u001b[0m\u001b[1;33m\u001b[0m\u001b[0m\n\u001b[0m\u001b[0;32m     24\u001b[0m \u001b[1;33m\u001b[0m\u001b[0m\n\u001b[0;32m     25\u001b[0m             \u001b[0my_pred_array\u001b[0m \u001b[1;33m=\u001b[0m \u001b[0mmodel\u001b[0m\u001b[1;33m.\u001b[0m\u001b[0mpredict\u001b[0m\u001b[1;33m(\u001b[0m\u001b[0mX_test\u001b[0m\u001b[1;33m)\u001b[0m\u001b[1;33m\u001b[0m\u001b[1;33m\u001b[0m\u001b[0m\n",
      "\u001b[1;32m~\\AppData\\Roaming\\Python\\Python37\\site-packages\\tensorflow\\python\\keras\\engine\\training.py\u001b[0m in \u001b[0;36m_method_wrapper\u001b[1;34m(self, *args, **kwargs)\u001b[0m\n\u001b[0;32m     64\u001b[0m   \u001b[1;32mdef\u001b[0m \u001b[0m_method_wrapper\u001b[0m\u001b[1;33m(\u001b[0m\u001b[0mself\u001b[0m\u001b[1;33m,\u001b[0m \u001b[1;33m*\u001b[0m\u001b[0margs\u001b[0m\u001b[1;33m,\u001b[0m \u001b[1;33m**\u001b[0m\u001b[0mkwargs\u001b[0m\u001b[1;33m)\u001b[0m\u001b[1;33m:\u001b[0m\u001b[1;33m\u001b[0m\u001b[1;33m\u001b[0m\u001b[0m\n\u001b[0;32m     65\u001b[0m     \u001b[1;32mif\u001b[0m \u001b[1;32mnot\u001b[0m \u001b[0mself\u001b[0m\u001b[1;33m.\u001b[0m\u001b[0m_in_multi_worker_mode\u001b[0m\u001b[1;33m(\u001b[0m\u001b[1;33m)\u001b[0m\u001b[1;33m:\u001b[0m  \u001b[1;31m# pylint: disable=protected-access\u001b[0m\u001b[1;33m\u001b[0m\u001b[1;33m\u001b[0m\u001b[0m\n\u001b[1;32m---> 66\u001b[1;33m       \u001b[1;32mreturn\u001b[0m \u001b[0mmethod\u001b[0m\u001b[1;33m(\u001b[0m\u001b[0mself\u001b[0m\u001b[1;33m,\u001b[0m \u001b[1;33m*\u001b[0m\u001b[0margs\u001b[0m\u001b[1;33m,\u001b[0m \u001b[1;33m**\u001b[0m\u001b[0mkwargs\u001b[0m\u001b[1;33m)\u001b[0m\u001b[1;33m\u001b[0m\u001b[1;33m\u001b[0m\u001b[0m\n\u001b[0m\u001b[0;32m     67\u001b[0m \u001b[1;33m\u001b[0m\u001b[0m\n\u001b[0;32m     68\u001b[0m     \u001b[1;31m# Running inside `run_distribute_coordinator` already.\u001b[0m\u001b[1;33m\u001b[0m\u001b[1;33m\u001b[0m\u001b[1;33m\u001b[0m\u001b[0m\n",
      "\u001b[1;32m~\\AppData\\Roaming\\Python\\Python37\\site-packages\\tensorflow\\python\\keras\\engine\\training.py\u001b[0m in \u001b[0;36mfit\u001b[1;34m(self, x, y, batch_size, epochs, verbose, callbacks, validation_split, validation_data, shuffle, class_weight, sample_weight, initial_epoch, steps_per_epoch, validation_steps, validation_batch_size, validation_freq, max_queue_size, workers, use_multiprocessing)\u001b[0m\n\u001b[0;32m    846\u001b[0m                 batch_size=batch_size):\n\u001b[0;32m    847\u001b[0m               \u001b[0mcallbacks\u001b[0m\u001b[1;33m.\u001b[0m\u001b[0mon_train_batch_begin\u001b[0m\u001b[1;33m(\u001b[0m\u001b[0mstep\u001b[0m\u001b[1;33m)\u001b[0m\u001b[1;33m\u001b[0m\u001b[1;33m\u001b[0m\u001b[0m\n\u001b[1;32m--> 848\u001b[1;33m               \u001b[0mtmp_logs\u001b[0m \u001b[1;33m=\u001b[0m \u001b[0mtrain_function\u001b[0m\u001b[1;33m(\u001b[0m\u001b[0miterator\u001b[0m\u001b[1;33m)\u001b[0m\u001b[1;33m\u001b[0m\u001b[1;33m\u001b[0m\u001b[0m\n\u001b[0m\u001b[0;32m    849\u001b[0m               \u001b[1;31m# Catch OutOfRangeError for Datasets of unknown size.\u001b[0m\u001b[1;33m\u001b[0m\u001b[1;33m\u001b[0m\u001b[1;33m\u001b[0m\u001b[0m\n\u001b[0;32m    850\u001b[0m               \u001b[1;31m# This blocks until the batch has finished executing.\u001b[0m\u001b[1;33m\u001b[0m\u001b[1;33m\u001b[0m\u001b[1;33m\u001b[0m\u001b[0m\n",
      "\u001b[1;32m~\\AppData\\Roaming\\Python\\Python37\\site-packages\\tensorflow\\python\\eager\\def_function.py\u001b[0m in \u001b[0;36m__call__\u001b[1;34m(self, *args, **kwds)\u001b[0m\n\u001b[0;32m    578\u001b[0m         \u001b[0mxla_context\u001b[0m\u001b[1;33m.\u001b[0m\u001b[0mExit\u001b[0m\u001b[1;33m(\u001b[0m\u001b[1;33m)\u001b[0m\u001b[1;33m\u001b[0m\u001b[1;33m\u001b[0m\u001b[0m\n\u001b[0;32m    579\u001b[0m     \u001b[1;32melse\u001b[0m\u001b[1;33m:\u001b[0m\u001b[1;33m\u001b[0m\u001b[1;33m\u001b[0m\u001b[0m\n\u001b[1;32m--> 580\u001b[1;33m       \u001b[0mresult\u001b[0m \u001b[1;33m=\u001b[0m \u001b[0mself\u001b[0m\u001b[1;33m.\u001b[0m\u001b[0m_call\u001b[0m\u001b[1;33m(\u001b[0m\u001b[1;33m*\u001b[0m\u001b[0margs\u001b[0m\u001b[1;33m,\u001b[0m \u001b[1;33m**\u001b[0m\u001b[0mkwds\u001b[0m\u001b[1;33m)\u001b[0m\u001b[1;33m\u001b[0m\u001b[1;33m\u001b[0m\u001b[0m\n\u001b[0m\u001b[0;32m    581\u001b[0m \u001b[1;33m\u001b[0m\u001b[0m\n\u001b[0;32m    582\u001b[0m     \u001b[1;32mif\u001b[0m \u001b[0mtracing_count\u001b[0m \u001b[1;33m==\u001b[0m \u001b[0mself\u001b[0m\u001b[1;33m.\u001b[0m\u001b[0m_get_tracing_count\u001b[0m\u001b[1;33m(\u001b[0m\u001b[1;33m)\u001b[0m\u001b[1;33m:\u001b[0m\u001b[1;33m\u001b[0m\u001b[1;33m\u001b[0m\u001b[0m\n",
      "\u001b[1;32m~\\AppData\\Roaming\\Python\\Python37\\site-packages\\tensorflow\\python\\eager\\def_function.py\u001b[0m in \u001b[0;36m_call\u001b[1;34m(self, *args, **kwds)\u001b[0m\n\u001b[0;32m    609\u001b[0m       \u001b[1;31m# In this case we have created variables on the first call, so we run the\u001b[0m\u001b[1;33m\u001b[0m\u001b[1;33m\u001b[0m\u001b[1;33m\u001b[0m\u001b[0m\n\u001b[0;32m    610\u001b[0m       \u001b[1;31m# defunned version which is guaranteed to never create variables.\u001b[0m\u001b[1;33m\u001b[0m\u001b[1;33m\u001b[0m\u001b[1;33m\u001b[0m\u001b[0m\n\u001b[1;32m--> 611\u001b[1;33m       \u001b[1;32mreturn\u001b[0m \u001b[0mself\u001b[0m\u001b[1;33m.\u001b[0m\u001b[0m_stateless_fn\u001b[0m\u001b[1;33m(\u001b[0m\u001b[1;33m*\u001b[0m\u001b[0margs\u001b[0m\u001b[1;33m,\u001b[0m \u001b[1;33m**\u001b[0m\u001b[0mkwds\u001b[0m\u001b[1;33m)\u001b[0m  \u001b[1;31m# pylint: disable=not-callable\u001b[0m\u001b[1;33m\u001b[0m\u001b[1;33m\u001b[0m\u001b[0m\n\u001b[0m\u001b[0;32m    612\u001b[0m     \u001b[1;32melif\u001b[0m \u001b[0mself\u001b[0m\u001b[1;33m.\u001b[0m\u001b[0m_stateful_fn\u001b[0m \u001b[1;32mis\u001b[0m \u001b[1;32mnot\u001b[0m \u001b[1;32mNone\u001b[0m\u001b[1;33m:\u001b[0m\u001b[1;33m\u001b[0m\u001b[1;33m\u001b[0m\u001b[0m\n\u001b[0;32m    613\u001b[0m       \u001b[1;31m# Release the lock early so that multiple threads can perform the call\u001b[0m\u001b[1;33m\u001b[0m\u001b[1;33m\u001b[0m\u001b[1;33m\u001b[0m\u001b[0m\n",
      "\u001b[1;32m~\\AppData\\Roaming\\Python\\Python37\\site-packages\\tensorflow\\python\\eager\\function.py\u001b[0m in \u001b[0;36m__call__\u001b[1;34m(self, *args, **kwargs)\u001b[0m\n\u001b[0;32m   2418\u001b[0m     \u001b[1;32mwith\u001b[0m \u001b[0mself\u001b[0m\u001b[1;33m.\u001b[0m\u001b[0m_lock\u001b[0m\u001b[1;33m:\u001b[0m\u001b[1;33m\u001b[0m\u001b[1;33m\u001b[0m\u001b[0m\n\u001b[0;32m   2419\u001b[0m       \u001b[0mgraph_function\u001b[0m\u001b[1;33m,\u001b[0m \u001b[0margs\u001b[0m\u001b[1;33m,\u001b[0m \u001b[0mkwargs\u001b[0m \u001b[1;33m=\u001b[0m \u001b[0mself\u001b[0m\u001b[1;33m.\u001b[0m\u001b[0m_maybe_define_function\u001b[0m\u001b[1;33m(\u001b[0m\u001b[0margs\u001b[0m\u001b[1;33m,\u001b[0m \u001b[0mkwargs\u001b[0m\u001b[1;33m)\u001b[0m\u001b[1;33m\u001b[0m\u001b[1;33m\u001b[0m\u001b[0m\n\u001b[1;32m-> 2420\u001b[1;33m     \u001b[1;32mreturn\u001b[0m \u001b[0mgraph_function\u001b[0m\u001b[1;33m.\u001b[0m\u001b[0m_filtered_call\u001b[0m\u001b[1;33m(\u001b[0m\u001b[0margs\u001b[0m\u001b[1;33m,\u001b[0m \u001b[0mkwargs\u001b[0m\u001b[1;33m)\u001b[0m  \u001b[1;31m# pylint: disable=protected-access\u001b[0m\u001b[1;33m\u001b[0m\u001b[1;33m\u001b[0m\u001b[0m\n\u001b[0m\u001b[0;32m   2421\u001b[0m \u001b[1;33m\u001b[0m\u001b[0m\n\u001b[0;32m   2422\u001b[0m   \u001b[1;33m@\u001b[0m\u001b[0mproperty\u001b[0m\u001b[1;33m\u001b[0m\u001b[1;33m\u001b[0m\u001b[0m\n",
      "\u001b[1;32m~\\AppData\\Roaming\\Python\\Python37\\site-packages\\tensorflow\\python\\eager\\function.py\u001b[0m in \u001b[0;36m_filtered_call\u001b[1;34m(self, args, kwargs)\u001b[0m\n\u001b[0;32m   1663\u001b[0m          if isinstance(t, (ops.Tensor,\n\u001b[0;32m   1664\u001b[0m                            resource_variable_ops.BaseResourceVariable))),\n\u001b[1;32m-> 1665\u001b[1;33m         self.captured_inputs)\n\u001b[0m\u001b[0;32m   1666\u001b[0m \u001b[1;33m\u001b[0m\u001b[0m\n\u001b[0;32m   1667\u001b[0m   \u001b[1;32mdef\u001b[0m \u001b[0m_call_flat\u001b[0m\u001b[1;33m(\u001b[0m\u001b[0mself\u001b[0m\u001b[1;33m,\u001b[0m \u001b[0margs\u001b[0m\u001b[1;33m,\u001b[0m \u001b[0mcaptured_inputs\u001b[0m\u001b[1;33m,\u001b[0m \u001b[0mcancellation_manager\u001b[0m\u001b[1;33m=\u001b[0m\u001b[1;32mNone\u001b[0m\u001b[1;33m)\u001b[0m\u001b[1;33m:\u001b[0m\u001b[1;33m\u001b[0m\u001b[1;33m\u001b[0m\u001b[0m\n",
      "\u001b[1;32m~\\AppData\\Roaming\\Python\\Python37\\site-packages\\tensorflow\\python\\eager\\function.py\u001b[0m in \u001b[0;36m_call_flat\u001b[1;34m(self, args, captured_inputs, cancellation_manager)\u001b[0m\n\u001b[0;32m   1744\u001b[0m       \u001b[1;31m# No tape is watching; skip to running the function.\u001b[0m\u001b[1;33m\u001b[0m\u001b[1;33m\u001b[0m\u001b[1;33m\u001b[0m\u001b[0m\n\u001b[0;32m   1745\u001b[0m       return self._build_call_outputs(self._inference_function.call(\n\u001b[1;32m-> 1746\u001b[1;33m           ctx, args, cancellation_manager=cancellation_manager))\n\u001b[0m\u001b[0;32m   1747\u001b[0m     forward_backward = self._select_forward_and_backward_functions(\n\u001b[0;32m   1748\u001b[0m         \u001b[0margs\u001b[0m\u001b[1;33m,\u001b[0m\u001b[1;33m\u001b[0m\u001b[1;33m\u001b[0m\u001b[0m\n",
      "\u001b[1;32m~\\AppData\\Roaming\\Python\\Python37\\site-packages\\tensorflow\\python\\eager\\function.py\u001b[0m in \u001b[0;36mcall\u001b[1;34m(self, ctx, args, cancellation_manager)\u001b[0m\n\u001b[0;32m    596\u001b[0m               \u001b[0minputs\u001b[0m\u001b[1;33m=\u001b[0m\u001b[0margs\u001b[0m\u001b[1;33m,\u001b[0m\u001b[1;33m\u001b[0m\u001b[1;33m\u001b[0m\u001b[0m\n\u001b[0;32m    597\u001b[0m               \u001b[0mattrs\u001b[0m\u001b[1;33m=\u001b[0m\u001b[0mattrs\u001b[0m\u001b[1;33m,\u001b[0m\u001b[1;33m\u001b[0m\u001b[1;33m\u001b[0m\u001b[0m\n\u001b[1;32m--> 598\u001b[1;33m               ctx=ctx)\n\u001b[0m\u001b[0;32m    599\u001b[0m         \u001b[1;32melse\u001b[0m\u001b[1;33m:\u001b[0m\u001b[1;33m\u001b[0m\u001b[1;33m\u001b[0m\u001b[0m\n\u001b[0;32m    600\u001b[0m           outputs = execute.execute_with_cancellation(\n",
      "\u001b[1;32m~\\AppData\\Roaming\\Python\\Python37\\site-packages\\tensorflow\\python\\eager\\execute.py\u001b[0m in \u001b[0;36mquick_execute\u001b[1;34m(op_name, num_outputs, inputs, attrs, ctx, name)\u001b[0m\n\u001b[0;32m     58\u001b[0m     \u001b[0mctx\u001b[0m\u001b[1;33m.\u001b[0m\u001b[0mensure_initialized\u001b[0m\u001b[1;33m(\u001b[0m\u001b[1;33m)\u001b[0m\u001b[1;33m\u001b[0m\u001b[1;33m\u001b[0m\u001b[0m\n\u001b[0;32m     59\u001b[0m     tensors = pywrap_tfe.TFE_Py_Execute(ctx._handle, device_name, op_name,\n\u001b[1;32m---> 60\u001b[1;33m                                         inputs, attrs, num_outputs)\n\u001b[0m\u001b[0;32m     61\u001b[0m   \u001b[1;32mexcept\u001b[0m \u001b[0mcore\u001b[0m\u001b[1;33m.\u001b[0m\u001b[0m_NotOkStatusException\u001b[0m \u001b[1;32mas\u001b[0m \u001b[0me\u001b[0m\u001b[1;33m:\u001b[0m\u001b[1;33m\u001b[0m\u001b[1;33m\u001b[0m\u001b[0m\n\u001b[0;32m     62\u001b[0m     \u001b[1;32mif\u001b[0m \u001b[0mname\u001b[0m \u001b[1;32mis\u001b[0m \u001b[1;32mnot\u001b[0m \u001b[1;32mNone\u001b[0m\u001b[1;33m:\u001b[0m\u001b[1;33m\u001b[0m\u001b[1;33m\u001b[0m\u001b[0m\n",
      "\u001b[1;31mKeyboardInterrupt\u001b[0m: "
     ]
    }
   ],
   "source": [
    "run_nr = 1\n",
    "side = [\"LEFT\", \"RIGHT\"]\n",
    "syn_list = ['ADNP', 'ANKRD11', 'CDK13', 'DEAF1', 'DYRK1A', 'EHMT1', 'FBXO11', 'SON', 'WAC', 'YY1', 'KDVS']\n",
    "\n",
    "results_file = open(\"results/pointnet_results_binary_run_split_faces{}.txt\".format(run_nr), \"w\")\n",
    "\n",
    "for syn in syn_list:\n",
    "    data, labels = load_data(syn)\n",
    "    data_left, data_right = split_data(data, left, right)\n",
    "    \n",
    "    for s, data in enumerate([data_left, data_right]):\n",
    "        results_file.write(\"Syndrome {} with {} patients and {} controls - {}\\n\".format(syn, labels.tolist().count(1), labels.tolist().count(0), side[s]))\n",
    "  \n",
    "        all_y, all_probs, all_preds = [], [], [] \n",
    "\n",
    "        loo = LeaveOneOut()\n",
    "        for train_index, test_index in tqdm(loo.split(data)):\n",
    "            X_train, X_test = np.array(data[train_index]), data[test_index]\n",
    "            y_train, y_test = np.array(labels[train_index]), labels[test_index]\n",
    "\n",
    "            model = generate_model()\n",
    "            model.fit(x=X_train, y=y_train, batch_size=BATCH_SIZE, epochs=10, shuffle=True)\n",
    "\n",
    "            y_pred_array = model.predict(X_test)\n",
    "            y_pred = tf.math.argmax(y_pred_array, -1).numpy()\n",
    "\n",
    "            all_y.append(y_test[0])\n",
    "            all_probs.append(y_pred_array[0][1])\n",
    "            all_preds.append(y_pred) \n",
    "\n",
    "        aroc = roc_auc_score(all_y, all_probs)\n",
    "        tn, fp, fn, tp = confusion_matrix(all_y, all_preds).ravel()\n",
    "        spec = tn / (tn+fp)  \n",
    "        sens = tp / (tp+fn)\n",
    "\n",
    "        results_file.write(\"AROC: {:.4f}, spec: {:.4f}, sens: {:.4f}\\n\\n\".format(aroc, spec, sens))\n",
    "    \n",
    "results_file.close()"
   ]
  },
  {
   "cell_type": "code",
   "execution_count": null,
   "metadata": {},
   "outputs": [],
   "source": []
  }
 ],
 "metadata": {
  "kernelspec": {
   "display_name": "Python 3",
   "language": "python",
   "name": "python3"
  },
  "language_info": {
   "codemirror_mode": {
    "name": "ipython",
    "version": 3
   },
   "file_extension": ".py",
   "mimetype": "text/x-python",
   "name": "python",
   "nbconvert_exporter": "python",
   "pygments_lexer": "ipython3",
   "version": "3.7.7"
  }
 },
 "nbformat": 4,
 "nbformat_minor": 4
}
