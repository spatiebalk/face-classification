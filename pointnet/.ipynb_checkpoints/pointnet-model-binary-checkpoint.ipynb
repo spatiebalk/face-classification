{
 "cells": [
  {
   "cell_type": "code",
   "execution_count": 1,
   "metadata": {},
   "outputs": [],
   "source": [
    "from os import listdir\n",
    "from os.path import join, isfile\n",
    "import numpy as np #1.16.4 otherwise futurewarning tensorflow\n",
    "import tensorflow as tf\n",
    "from tensorflow import keras\n",
    "from tensorflow.keras import layers\n",
    "import matplotlib.pyplot as plt\n",
    "import csv\n",
    "from tqdm import tqdm\n",
    "from sklearn.model_selection import LeaveOneOut\n",
    "import cv2\n",
    "from sklearn.metrics import roc_auc_score, confusion_matrix"
   ]
  },
  {
   "cell_type": "code",
   "execution_count": 2,
   "metadata": {},
   "outputs": [],
   "source": [
    "NUM_CLASSES = 2\n",
    "BATCH_SIZE = 8\n",
    "NUM_POINTS = 510"
   ]
  },
  {
   "cell_type": "markdown",
   "metadata": {},
   "source": [
    "# Data"
   ]
  },
  {
   "cell_type": "code",
   "execution_count": 3,
   "metadata": {},
   "outputs": [],
   "source": [
    "def load_data(syn):\n",
    "    \n",
    "    # files with representations\n",
    "    GENERAL_DIR = r\"H:\\Genetica Projecten\\Facial Recognition\\Studenten en Onderzoekers\\Fien\" \n",
    "    syn_csv = GENERAL_DIR+ \"\\\\features_facereader_landmarks_patient_groups.csv\"\n",
    "    ID_csv = GENERAL_DIR+ \"\\\\features_facereader_landmarks_all_controls.csv\"\n",
    "    \n",
    "    # open directories\n",
    "    syn_dir = GENERAL_DIR+\"\\\\{}\\\\{}-patients\".format(syn, syn)\n",
    "    ID_dir = GENERAL_DIR+ \"\\\\{}\\\\{}-selected-ID-controls\".format(syn, syn)\n",
    "\n",
    "    # get list of filenames\n",
    "    files_syn = [f for f in listdir(syn_dir) if (isfile(join(syn_dir, f))) and \".jpg\" in f]\n",
    "    files_ID = [f for f in listdir(ID_dir) if (isfile(join(ID_dir, f))) and \".jpg\" in f]\n",
    "    \n",
    "    data, labels = [], []\n",
    "\n",
    "    data_syn = []\n",
    "    with open (syn_csv, newline='') as file:\n",
    "        reader = csv.reader(file, delimiter=',')\n",
    "        for index, row in enumerate(reader):\n",
    "            if row[0] in files_syn:                 \n",
    "                fr_rep = [float(f) for f in row[1:]]\n",
    "                rep = []\n",
    "                i = 1\n",
    "                while i < len(row[1:]):\n",
    "                    rep.append([float(row[i]), float(row[i+1]), float(row[i+2])])\n",
    "                    i+=3                       \n",
    "                data_syn.append(rep)\n",
    "                \n",
    "                    \n",
    "    data_ID = []                    \n",
    "    with open (ID_csv, newline='') as file:\n",
    "        reader = csv.reader(file, delimiter=',')\n",
    "        for index, row in enumerate(reader):\n",
    "            if row[0] in files_ID:                 \n",
    "                fr_rep = [float(f) for f in row[1:]]\n",
    "                rep = []\n",
    "                i = 1\n",
    "                while i < len(row[1:]):\n",
    "                    rep.append([float(row[i]), float(row[i+1]), float(row[i+2])])\n",
    "                    i+=3                       \n",
    "                data_ID.append(rep)\n",
    "\n",
    "    \n",
    "\n",
    "    for index, (syn_item, ID_item) in enumerate(zip(data_syn, data_ID)):\n",
    "        if len(syn_item) == 510 and len(ID_item) == 510:               \n",
    "            data.append(syn_item)\n",
    "            labels.append(1)\n",
    "            data.append(ID_item)\n",
    "            labels.append(0)\n",
    "\n",
    "    return np.array(data), np.array(labels)\n"
   ]
  },
  {
   "cell_type": "code",
   "execution_count": 4,
   "metadata": {},
   "outputs": [],
   "source": [
    "def augment(points, label):\n",
    "    points += tf.random.uniform(points.shape, -0.005, 0.005, dtype=tf.float64)\n",
    "    points = tf.random.shuffle(points)\n",
    "    return points, label"
   ]
  },
  {
   "cell_type": "markdown",
   "metadata": {},
   "source": [
    "# Model"
   ]
  },
  {
   "cell_type": "code",
   "execution_count": 5,
   "metadata": {},
   "outputs": [],
   "source": [
    "def conv_bn(x, filters):\n",
    "    x = layers.Conv1D(filters, kernel_size=1, padding='valid')(x)\n",
    "    x = layers.BatchNormalization(momentum=0.0)(x)\n",
    "    return layers.Activation(\"relu\")(x)\n",
    "\n",
    "def dense_bn(x, filters):\n",
    "    x = layers.Dense(filters)(x)\n",
    "    x = layers.BatchNormalization(momentum=0.0)(x)\n",
    "    return layers.Activation(\"relu\")(x)"
   ]
  },
  {
   "cell_type": "code",
   "execution_count": 6,
   "metadata": {},
   "outputs": [],
   "source": [
    "class OrthogonalRegularizer(keras.regularizers.Regularizer):\n",
    "    def __init__(self, num_features, l2reg=0.001):\n",
    "        self.num_features = num_features\n",
    "        self.l2reg = l2reg\n",
    "        self.eye = tf.eye(num_features)\n",
    "        \n",
    "    def __call__(self, x):\n",
    "        x = tf.reshape(x, (-1, self.num_features, self.num_features))\n",
    "        xxt = tf.tensordot(x, x, axes=(2,2))\n",
    "        xxt = tf.reshape(xxt, (-1, self.num_features, self.num_features))\n",
    "        return tf.reduce_sum(self.l2reg * tf.square(xxt - self.eye))"
   ]
  },
  {
   "cell_type": "code",
   "execution_count": 7,
   "metadata": {},
   "outputs": [],
   "source": [
    "def tnet(inputs, num_features):\n",
    "    bias = keras.initializers.Constant(np.eye(num_features).flatten())\n",
    "    reg = OrthogonalRegularizer(num_features)\n",
    "    \n",
    "    x = conv_bn(inputs, 32)\n",
    "    x = conv_bn(x, 64)\n",
    "    x = conv_bn(x, 512)\n",
    "    x = layers.GlobalMaxPooling1D()(x)\n",
    "    x = dense_bn(x, 256)\n",
    "    x = dense_bn(x, 128)\n",
    "    x = layers.Dense(\n",
    "        num_features * num_features, \n",
    "        kernel_initializer=\"zeros\",\n",
    "        bias_initializer=bias,\n",
    "        activity_regularizer=reg)(x)\n",
    "    \n",
    "    feat_T = layers.Reshape((num_features, num_features))(x)\n",
    "    \n",
    "    return layers.Dot(axes=(2,1))([inputs, feat_T])"
   ]
  },
  {
   "cell_type": "code",
   "execution_count": 8,
   "metadata": {},
   "outputs": [],
   "source": [
    "# model\n",
    "\n",
    "def generate_model():\n",
    "\n",
    "    inputs = keras.Input(shape=(NUM_POINTS, 3))\n",
    "\n",
    "    x = tnet(inputs, 3)\n",
    "    x = conv_bn(x, 32)\n",
    "    x = conv_bn(x, 32)\n",
    "    x = tnet(x, 32)\n",
    "    x = conv_bn(x, 32)\n",
    "    x = conv_bn(x, 64)\n",
    "    x = conv_bn(x, 512)\n",
    "    x = layers.GlobalMaxPooling1D()(x)\n",
    "    x = dense_bn(x, 256)\n",
    "    x = layers.Dropout(rate=0.3)(x)\n",
    "    x = dense_bn(x, 128)\n",
    "    x = layers.Dropout(rate=0.3)(x)\n",
    "\n",
    "    outputs = layers.Dense(NUM_CLASSES, activation=\"softmax\")(x)\n",
    "\n",
    "    model = keras.Model(inputs=inputs, outputs=outputs, name=\"pointnet\")\n",
    "    #model.summary()\n",
    "\n",
    "    model.compile(\n",
    "        loss=\"sparse_categorical_crossentropy\",\n",
    "        optimizer=keras.optimizers.Adam(lr=0.001),\n",
    "        metrics=[\"sparse_categorical_accuracy\"])\n",
    "    \n",
    "    return model"
   ]
  },
  {
   "cell_type": "raw",
   "metadata": {},
   "source": [
    "model.compile(\n",
    "    loss=\"sparse_categorical_crossentropy\",\n",
    "    optimizer=keras.optimizers.Adam(lr=0.001),\n",
    "    metrics=[\"sparse_categorical_accuracy\"])"
   ]
  },
  {
   "cell_type": "markdown",
   "metadata": {},
   "source": [
    "# Training"
   ]
  },
  {
   "cell_type": "code",
   "execution_count": null,
   "metadata": {},
   "outputs": [
    {
     "name": "stderr",
     "output_type": "stream",
     "text": [
      "\r",
      "0it [00:00, ?it/s]"
     ]
    },
    {
     "name": "stdout",
     "output_type": "stream",
     "text": [
      "Epoch 1/10\n",
      "3/3 [==============================] - 1s 207ms/step - loss: 1.2535 - sparse_categorical_accuracy: 0.6522\n",
      "Epoch 2/10\n",
      "3/3 [==============================] - 1s 205ms/step - loss: 0.9007 - sparse_categorical_accuracy: 0.8696\n",
      "Epoch 3/10\n",
      "3/3 [==============================] - 1s 205ms/step - loss: 1.0224 - sparse_categorical_accuracy: 0.9130\n",
      "Epoch 4/10\n",
      "3/3 [==============================] - 1s 206ms/step - loss: 0.9740 - sparse_categorical_accuracy: 0.9565\n",
      "Epoch 5/10\n",
      "3/3 [==============================] - 1s 205ms/step - loss: 1.1935 - sparse_categorical_accuracy: 0.7826\n",
      "Epoch 6/10\n",
      "3/3 [==============================] - 1s 206ms/step - loss: 0.9023 - sparse_categorical_accuracy: 0.9130\n",
      "Epoch 7/10\n",
      "3/3 [==============================] - 1s 205ms/step - loss: 1.0410 - sparse_categorical_accuracy: 0.8696\n",
      "Epoch 8/10\n",
      "3/3 [==============================] - 1s 210ms/step - loss: 0.7359 - sparse_categorical_accuracy: 0.9130\n",
      "Epoch 9/10\n",
      "3/3 [==============================] - 1s 206ms/step - loss: 0.6598 - sparse_categorical_accuracy: 0.9565\n",
      "Epoch 10/10\n",
      "3/3 [==============================] - 1s 205ms/step - loss: 0.5469 - sparse_categorical_accuracy: 1.0000\n"
     ]
    },
    {
     "name": "stderr",
     "output_type": "stream",
     "text": [
      "\r",
      "1it [00:14, 14.83s/it]"
     ]
    },
    {
     "name": "stdout",
     "output_type": "stream",
     "text": [
      "Epoch 1/10\n",
      "3/3 [==============================] - 1s 209ms/step - loss: 1.2164 - sparse_categorical_accuracy: 0.6522\n",
      "Epoch 2/10\n",
      "3/3 [==============================] - 1s 203ms/step - loss: 1.0486 - sparse_categorical_accuracy: 0.7391\n",
      "Epoch 3/10\n",
      "3/3 [==============================] - 1s 205ms/step - loss: 0.9707 - sparse_categorical_accuracy: 0.9130\n",
      "Epoch 4/10\n",
      "3/3 [==============================] - 1s 205ms/step - loss: 0.9267 - sparse_categorical_accuracy: 0.9565\n",
      "Epoch 5/10\n",
      "3/3 [==============================] - 1s 206ms/step - loss: 0.8627 - sparse_categorical_accuracy: 0.9565\n",
      "Epoch 6/10\n",
      "3/3 [==============================] - 1s 204ms/step - loss: 0.8944 - sparse_categorical_accuracy: 0.8696\n",
      "Epoch 7/10\n",
      "3/3 [==============================] - 1s 205ms/step - loss: 0.9024 - sparse_categorical_accuracy: 0.9130\n",
      "Epoch 8/10\n",
      "3/3 [==============================] - 1s 206ms/step - loss: 0.8602 - sparse_categorical_accuracy: 0.9130\n",
      "Epoch 9/10\n",
      "3/3 [==============================] - 1s 203ms/step - loss: 0.5784 - sparse_categorical_accuracy: 0.9565\n",
      "Epoch 10/10\n",
      "3/3 [==============================] - 1s 205ms/step - loss: 1.0363 - sparse_categorical_accuracy: 0.8696\n"
     ]
    },
    {
     "name": "stderr",
     "output_type": "stream",
     "text": [
      "\r",
      "2it [00:29, 14.77s/it]"
     ]
    },
    {
     "name": "stdout",
     "output_type": "stream",
     "text": [
      "Epoch 1/10\n",
      "3/3 [==============================] - 1s 208ms/step - loss: 1.1892 - sparse_categorical_accuracy: 0.6957\n",
      "Epoch 2/10\n",
      "3/3 [==============================] - 1s 205ms/step - loss: 1.2175 - sparse_categorical_accuracy: 0.6957\n",
      "Epoch 3/10\n",
      "3/3 [==============================] - 1s 203ms/step - loss: 0.8417 - sparse_categorical_accuracy: 0.9565\n",
      "Epoch 4/10\n",
      "3/3 [==============================] - 1s 204ms/step - loss: 0.9779 - sparse_categorical_accuracy: 0.9130\n",
      "Epoch 5/10\n",
      "3/3 [==============================] - 1s 203ms/step - loss: 1.3483 - sparse_categorical_accuracy: 0.9130\n",
      "Epoch 6/10\n",
      "3/3 [==============================] - 1s 203ms/step - loss: 0.9350 - sparse_categorical_accuracy: 0.9130\n",
      "Epoch 7/10\n",
      "3/3 [==============================] - 1s 204ms/step - loss: 1.0771 - sparse_categorical_accuracy: 0.7826\n",
      "Epoch 8/10\n",
      "3/3 [==============================] - 1s 203ms/step - loss: 0.9679 - sparse_categorical_accuracy: 0.9130\n",
      "Epoch 9/10\n",
      "3/3 [==============================] - 1s 205ms/step - loss: 0.7227 - sparse_categorical_accuracy: 0.9565\n",
      "Epoch 10/10\n",
      "3/3 [==============================] - 1s 205ms/step - loss: 0.8168 - sparse_categorical_accuracy: 0.8696\n"
     ]
    },
    {
     "name": "stderr",
     "output_type": "stream",
     "text": [
      "\r",
      "3it [00:44, 14.71s/it]"
     ]
    },
    {
     "name": "stdout",
     "output_type": "stream",
     "text": [
      "Epoch 1/10\n",
      "3/3 [==============================] - 1s 211ms/step - loss: 1.0227 - sparse_categorical_accuracy: 0.6957\n",
      "Epoch 2/10\n",
      "3/3 [==============================] - 1s 204ms/step - loss: 0.7699 - sparse_categorical_accuracy: 0.9565\n",
      "Epoch 3/10\n",
      "3/3 [==============================] - 1s 205ms/step - loss: 0.7942 - sparse_categorical_accuracy: 0.9565\n",
      "Epoch 4/10\n",
      "3/3 [==============================] - 1s 205ms/step - loss: 0.7187 - sparse_categorical_accuracy: 1.0000\n",
      "Epoch 5/10\n",
      "3/3 [==============================] - 1s 207ms/step - loss: 1.0915 - sparse_categorical_accuracy: 0.8261\n",
      "Epoch 6/10\n",
      "3/3 [==============================] - 1s 203ms/step - loss: 1.1777 - sparse_categorical_accuracy: 0.8261\n",
      "Epoch 7/10\n",
      "3/3 [==============================] - 1s 205ms/step - loss: 0.9630 - sparse_categorical_accuracy: 0.8261\n",
      "Epoch 8/10\n",
      "3/3 [==============================] - 1s 203ms/step - loss: 0.9637 - sparse_categorical_accuracy: 0.8696\n",
      "Epoch 9/10\n",
      "3/3 [==============================] - 1s 205ms/step - loss: 0.6425 - sparse_categorical_accuracy: 0.9565\n",
      "Epoch 10/10\n",
      "3/3 [==============================] - 1s 208ms/step - loss: 0.6535 - sparse_categorical_accuracy: 0.9565\n"
     ]
    },
    {
     "name": "stderr",
     "output_type": "stream",
     "text": [
      "\r",
      "4it [00:58, 14.70s/it]"
     ]
    },
    {
     "name": "stdout",
     "output_type": "stream",
     "text": [
      "Epoch 1/10\n",
      "3/3 [==============================] - 1s 212ms/step - loss: 1.4461 - sparse_categorical_accuracy: 0.4348\n",
      "Epoch 2/10\n",
      "3/3 [==============================] - 1s 204ms/step - loss: 1.4951 - sparse_categorical_accuracy: 0.6522\n",
      "Epoch 3/10\n",
      "3/3 [==============================] - 1s 203ms/step - loss: 1.0481 - sparse_categorical_accuracy: 0.9565\n",
      "Epoch 4/10\n",
      "3/3 [==============================] - 1s 210ms/step - loss: 1.1065 - sparse_categorical_accuracy: 0.9130\n",
      "Epoch 5/10\n",
      "3/3 [==============================] - 1s 203ms/step - loss: 1.1283 - sparse_categorical_accuracy: 0.9565\n",
      "Epoch 6/10\n",
      "3/3 [==============================] - 1s 211ms/step - loss: 1.1554 - sparse_categorical_accuracy: 0.8696\n",
      "Epoch 7/10\n",
      "3/3 [==============================] - 1s 213ms/step - loss: 1.5216 - sparse_categorical_accuracy: 0.7391\n",
      "Epoch 8/10\n",
      "3/3 [==============================] - 1s 217ms/step - loss: 1.0295 - sparse_categorical_accuracy: 0.9565\n",
      "Epoch 9/10\n",
      "3/3 [==============================] - 1s 220ms/step - loss: 0.9935 - sparse_categorical_accuracy: 0.8696\n",
      "Epoch 10/10\n",
      "3/3 [==============================] - 1s 213ms/step - loss: 1.1494 - sparse_categorical_accuracy: 0.8696\n"
     ]
    },
    {
     "name": "stderr",
     "output_type": "stream",
     "text": [
      "\r",
      "5it [01:13, 14.72s/it]"
     ]
    },
    {
     "name": "stdout",
     "output_type": "stream",
     "text": [
      "Epoch 1/10\n"
     ]
    }
   ],
   "source": [
    "run_nr = 1\n",
    "\n",
    "syn_list = ['ADNP', 'ANKRD11', 'CDK13', 'DEAF1', 'DYRK1A', 'EHMT1', 'FBXO11', 'SON', 'WAC', 'YY1', 'KDVS']\n",
    "\n",
    "results_file = open(\"results/pointnet_results_binary_run_{}.txt\".format(run_nr), \"w\")\n",
    "\n",
    "for syn in syn_list:\n",
    "    data, labels = load_data(syn)\n",
    "    all_y, all_probs, all_preds = [], [], [] \n",
    "\n",
    "    loo = LeaveOneOut()\n",
    "    for train_index, test_index in tqdm(loo.split(data)):\n",
    "        X_train, X_test = np.array(data[train_index]), data[test_index]\n",
    "        y_train, y_test = np.array(labels[train_index]), labels[test_index]\n",
    "\n",
    "        model = generate_model()\n",
    "        model.fit(x=X_train, y=y_train, batch_size=BATCH_SIZE, epochs=10, shuffle=True)\n",
    "\n",
    "        y_pred_array = model.predict(X_test)\n",
    "        y_pred = tf.math.argmax(y_pred_array, -1).numpy()\n",
    "\n",
    "        all_y.append(y_test[0])\n",
    "        all_probs.append(y_pred_array[0][1])\n",
    "        all_preds.append(y_pred) \n",
    "        \n",
    "    aroc = roc_auc_score(all_y, all_probs)\n",
    "    tn, fp, fn, tp = confusion_matrix(all_y, all_preds).ravel()\n",
    "    spec = tn / (tn+fp)  \n",
    "    sens = tp / (tp+fn)\n",
    "    \n",
    "    results_file.write(\"Syndrome {} with {} patients and {} controls \\n\".format(syn, labels.tolist().count(1), labels.tolist().count(0)))\n",
    "    results_file.write(\"AROC: {:.4f}, spec: {:.4f}, sens: {:.4f}\\n\".format(aroc, spec, sens))\n",
    "\n",
    "    \n",
    "results_file.close()"
   ]
  },
  {
   "cell_type": "code",
   "execution_count": null,
   "metadata": {},
   "outputs": [],
   "source": []
  }
 ],
 "metadata": {
  "kernelspec": {
   "display_name": "Python 3",
   "language": "python",
   "name": "python3"
  },
  "language_info": {
   "codemirror_mode": {
    "name": "ipython",
    "version": 3
   },
   "file_extension": ".py",
   "mimetype": "text/x-python",
   "name": "python",
   "nbconvert_exporter": "python",
   "pygments_lexer": "ipython3",
   "version": "3.7.7"
  }
 },
 "nbformat": 4,
 "nbformat_minor": 4
}
