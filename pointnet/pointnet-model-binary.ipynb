{
 "cells": [
  {
   "cell_type": "code",
   "execution_count": 1,
   "metadata": {},
   "outputs": [],
   "source": [
    "from os import listdir\n",
    "from os.path import join, isfile\n",
    "import numpy as np #1.16.4 otherwise futurewarning tensorflow\n",
    "import tensorflow as tf\n",
    "from tensorflow import keras\n",
    "from tensorflow.keras import layers\n",
    "import matplotlib.pyplot as plt\n",
    "import csv\n",
    "from tqdm import tqdm\n",
    "from sklearn.model_selection import LeaveOneOut\n",
    "import cv2\n",
    "from sklearn.metrics import roc_auc_score, confusion_matrix\n",
    "from sklearn.preprocessing import Normalizer"
   ]
  },
  {
   "cell_type": "code",
   "execution_count": 2,
   "metadata": {},
   "outputs": [],
   "source": [
    "NUM_CLASSES = 2\n",
    "BATCH_SIZE = 8\n",
    "NUM_POINTS = 270"
   ]
  },
  {
   "cell_type": "markdown",
   "metadata": {},
   "source": [
    "# Data"
   ]
  },
  {
   "cell_type": "code",
   "execution_count": 3,
   "metadata": {},
   "outputs": [],
   "source": [
    "def load_data(syn):\n",
    "    \n",
    "    # files with representations\n",
    "    GENERAL_DIR = r\"H:\\Genetica Projecten\\Facial Recognition\\Studenten en Onderzoekers\\Fien\" \n",
    "    syn_csv = GENERAL_DIR+ \"\\\\features_facereader_landmarks_patient_groups.csv\"\n",
    "    ID_csv = GENERAL_DIR+ \"\\\\features_facereader_landmarks_all_controls.csv\"\n",
    "    \n",
    "    # open directories\n",
    "    syn_dir = GENERAL_DIR+\"\\\\{}\\\\{}-patients\".format(syn, syn)\n",
    "    ID_dir = GENERAL_DIR+ \"\\\\{}\\\\{}-selected-ID-controls\".format(syn, syn)\n",
    "\n",
    "    # get list of filenames\n",
    "    files_syn = [f for f in listdir(syn_dir) if (isfile(join(syn_dir, f))) and \".jpg\" in f]\n",
    "    files_ID = [f for f in listdir(ID_dir) if (isfile(join(ID_dir, f))) and \".jpg\" in f]\n",
    "    \n",
    "    data, labels, data_syn, data_ID = [], [], [], []\n",
    "\n",
    "    with open (syn_csv, newline='') as file:\n",
    "        reader = csv.reader(file, delimiter=',')\n",
    "        for index, row in enumerate(reader):\n",
    "            if row[0] in files_syn:                 \n",
    "                fr_rep = [float(f) for f in row[1:]]\n",
    "                rep = []\n",
    "                i = 1\n",
    "                while i < len(row[1:]):\n",
    "                    rep.append([float(row[i]), float(row[i+1]), float(row[i+2])])\n",
    "                    i+=3                       \n",
    "                data_syn.append(rep)\n",
    "                \n",
    "    with open (ID_csv, newline='') as file:\n",
    "        reader = csv.reader(file, delimiter=',')\n",
    "        for index, row in enumerate(reader):\n",
    "            if row[0] in files_ID:                 \n",
    "                fr_rep = [float(f) for f in row[1:]]\n",
    "                rep = []\n",
    "                i = 1\n",
    "                while i < len(row[1:]):\n",
    "                    rep.append([float(row[i]), float(row[i+1]), float(row[i+2])])\n",
    "                    i+=3                       \n",
    "                data_ID.append(rep)\n",
    "\n",
    "    for index, (syn_item, ID_item) in enumerate(zip(data_syn, data_ID)):\n",
    "        if len(syn_item) == 510 and len(ID_item) == 510:               \n",
    "            data.append(syn_item)\n",
    "            labels.append(1)\n",
    "            data.append(ID_item)\n",
    "            labels.append(0)\n",
    "\n",
    "    return np.array(data), np.array(labels)"
   ]
  },
  {
   "cell_type": "code",
   "execution_count": 4,
   "metadata": {},
   "outputs": [],
   "source": [
    "def augment(points, label):\n",
    "    points += tf.random.uniform(points.shape, -0.005, 0.005, dtype=tf.float64)\n",
    "    points = tf.random.shuffle(points)\n",
    "    return points, label"
   ]
  },
  {
   "cell_type": "code",
   "execution_count": 5,
   "metadata": {},
   "outputs": [],
   "source": [
    "def split_data(data, left, right):\n",
    "    data_left, data_right  = [], []\n",
    "    for index, row in enumerate(data):\n",
    "        \n",
    "        rep_left, rep_right = [], []\n",
    "        for p, [x, y, z] in enumerate(row):\n",
    "            \n",
    "            if p in left:\n",
    "                rep_left.append([x, y, z])\n",
    "\n",
    "            if p in right:\n",
    "                rep_right.append([x, y, z])\n",
    "                \n",
    "        data_left.append(rep_left)\n",
    "        data_right.append(rep_right)\n",
    "        \n",
    "    return np.array(data_left), np.array(data_right)"
   ]
  },
  {
   "cell_type": "markdown",
   "metadata": {},
   "source": [
    "# Model"
   ]
  },
  {
   "cell_type": "code",
   "execution_count": 6,
   "metadata": {},
   "outputs": [],
   "source": [
    "def conv_bn(x, filters):\n",
    "    x = layers.Conv1D(filters, kernel_size=1, padding='valid')(x)\n",
    "    x = layers.BatchNormalization(momentum=0.0)(x)\n",
    "    return layers.Activation(\"relu\")(x)\n",
    "\n",
    "def dense_bn(x, filters):\n",
    "    x = layers.Dense(filters)(x)\n",
    "    x = layers.BatchNormalization(momentum=0.0)(x)\n",
    "    return layers.Activation(\"relu\")(x)"
   ]
  },
  {
   "cell_type": "code",
   "execution_count": 7,
   "metadata": {},
   "outputs": [],
   "source": [
    "class OrthogonalRegularizer(keras.regularizers.Regularizer):\n",
    "    def __init__(self, num_features, l2reg=0.001):\n",
    "        self.num_features = num_features\n",
    "        self.l2reg = l2reg\n",
    "        self.eye = tf.eye(num_features)\n",
    "        \n",
    "    def __call__(self, x):\n",
    "        x = tf.reshape(x, (-1, self.num_features, self.num_features))\n",
    "        xxt = tf.tensordot(x, x, axes=(2,2))\n",
    "        xxt = tf.reshape(xxt, (-1, self.num_features, self.num_features))\n",
    "        return tf.reduce_sum(self.l2reg * tf.square(xxt - self.eye))"
   ]
  },
  {
   "cell_type": "code",
   "execution_count": 8,
   "metadata": {},
   "outputs": [],
   "source": [
    "def tnet(inputs, num_features):\n",
    "    bias = keras.initializers.Constant(np.eye(num_features).flatten())\n",
    "    reg = OrthogonalRegularizer(num_features)\n",
    "    \n",
    "    x = conv_bn(inputs, 32)\n",
    "    x = conv_bn(x, 64)\n",
    "    x = conv_bn(x, 512)\n",
    "    x = layers.GlobalMaxPooling1D()(x)\n",
    "    x = dense_bn(x, 256)\n",
    "    x = dense_bn(x, 128)\n",
    "    x = layers.Dense(\n",
    "        num_features * num_features, \n",
    "        kernel_initializer=\"zeros\",\n",
    "        bias_initializer=bias,\n",
    "        activity_regularizer=reg)(x)\n",
    "    \n",
    "    feat_T = layers.Reshape((num_features, num_features))(x)\n",
    "    \n",
    "    return layers.Dot(axes=(2,1))([inputs, feat_T])"
   ]
  },
  {
   "cell_type": "code",
   "execution_count": 9,
   "metadata": {},
   "outputs": [],
   "source": [
    "def generate_model():\n",
    "\n",
    "    inputs = keras.Input(shape=(NUM_POINTS, 3))\n",
    "    x = tnet(inputs, 3)\n",
    "    x = conv_bn(x, 32)\n",
    "    x = conv_bn(x, 32)\n",
    "    x = tnet(x, 32)\n",
    "    x = conv_bn(x, 32)\n",
    "    x = conv_bn(x, 64)\n",
    "    x = conv_bn(x, 512)\n",
    "    x = layers.GlobalMaxPooling1D()(x)\n",
    "    x = dense_bn(x, 256)\n",
    "    x = layers.Dropout(rate=0.3)(x)\n",
    "    x = dense_bn(x, 128)\n",
    "    x = layers.Dropout(rate=0.3)(x)\n",
    "\n",
    "    outputs = layers.Dense(NUM_CLASSES, activation=\"softmax\")(x)\n",
    "    model = keras.Model(inputs=inputs, outputs=outputs, name=\"pointnet\")\n",
    "\n",
    "    model.compile(\n",
    "        loss=\"sparse_categorical_crossentropy\",\n",
    "        optimizer=keras.optimizers.Adam(lr=0.001),\n",
    "        metrics=[\"sparse_categorical_accuracy\"])\n",
    "    \n",
    "    return model"
   ]
  },
  {
   "cell_type": "code",
   "execution_count": 10,
   "metadata": {},
   "outputs": [],
   "source": [
    "left = [0, 1, 2, 3, 4, 5, 6, 7, 8, 18, 19, 20, 21, 22, 23, 24, 25, 26, 27, 28, 29, 30, 31, 32, 33, 34, 35, 36, 37, 38, 39, 40, 41, 42, 43, 44, 45, 46, 47, 48, 49, 50, 51, 52, 53, 54, 55, 56, 57, 58, 59, 60, 61, 62, 63, 64, 65, 66, 67, 68, 69, 70, 71, 72, 73, 74, 75, 76, 77, 78, 79, 80, 144, 145, 146, 147, 148, 149, 150, 151, 152, 153, 154, 155, 156, 157, 158, 159, 160, 161, 162, 163, 164, 165, 166, 167, 168, 169, 170, 171, 172, 173, 174, 175, 176, 177, 178, 179, 180, 181, 182, 183, 184, 185, 186, 187, 188, 189, 190, 191, 192, 193, 194, 195, 196, 197, 198, 199, 200, 201, 202, 203, 204, 205, 206, 207, 208, 209, 210, 211, 212, 213, 214, 215, 216, 217, 218, 219, 220, 221, 222, 223, 224, 225, 226, 227, 228, 229, 230, 231, 232, 233, 234, 235, 236, 237, 238, 239, 240, 241, 242, 243, 244, 245, 246, 247, 248, 249, 250, 251, 252, 253, 254, 255, 256, 257, 258, 259, 260, 261, 262, 263, 264, 265, 266, 267, 268, 269, 270, 271, 272, 273, 274, 275, 276, 277, 278, 279, 280, 281, 282, 283, 284, 285, 286, 287, 288, 289, 290, 291, 292, 293, 294, 295, 296, 297, 298, 299, 300, 301, 302, 303, 304, 305, 306, 307, 308, 309, 310, 311, 312, 313, 314, 315, 316, 317, 318, 319, 320, 321, 322, 323, 324, 325, 326, 327, 328, 329, 330, 331, 332, 333, 334, 335, 336, 337, 338, 339, 340, 341]\n",
    "right = [9, 10, 11, 12, 13, 14, 15, 16, 17, 81, 82, 83, 84, 85, 86, 87, 88, 89, 90, 91, 92, 93, 94, 95, 96, 97, 98, 99, 100, 101, 102, 103, 104, 105, 106, 107, 108, 109, 110, 111, 112, 113, 114, 115, 116, 117, 118, 119, 120, 121, 122, 123, 124, 125, 126, 127, 128, 129, 130, 131, 132, 133, 134, 135, 136, 137, 138, 139, 140, 141, 142, 143, 157, 158, 168, 173, 174, 190, 191, 205, 210, 213, 217, 262, 263, 269, 278, 281, 282, 284, 288, 292, 294, 295, 296, 297, 298, 299, 302, 304, 305, 306, 342, 343, 344, 345, 346, 347, 348, 349, 350, 351, 352, 353, 354, 355, 356, 357, 358, 359, 360, 361, 362, 363, 364, 365, 366, 367, 368, 369, 370, 371, 372, 373, 374, 375, 376, 377, 378, 379, 380, 381, 382, 383, 384, 385, 386, 387, 388, 389, 390, 391, 392, 393, 394, 395, 396, 397, 398, 399, 400, 401, 402, 403, 404, 405, 406, 407, 408, 409, 410, 411, 412, 413, 414, 415, 416, 417, 418, 419, 420, 421, 422, 423, 424, 425, 426, 427, 428, 429, 430, 431, 432, 433, 434, 435, 436, 437, 438, 439, 440, 441, 442, 443, 444, 445, 446, 447, 448, 449, 450, 451, 452, 453, 454, 455, 456, 457, 458, 459, 460, 461, 462, 463, 464, 465, 466, 467, 468, 469, 470, 471, 472, 473, 474, 475, 476, 477, 478, 479, 480, 481, 482, 483, 484, 485, 486, 487, 488, 489, 490, 491, 492, 493, 494, 495, 496, 497, 498, 499, 500, 501, 502, 503, 504, 505, 506, 507, 508, 509]"
   ]
  },
  {
   "cell_type": "raw",
   "metadata": {},
   "source": [
    "%matplotlib notebook\n",
    "from matplotlib import pyplot\n",
    "from pylab import figure\n",
    "from mpl_toolkits.mplot3d import Axes3D\n",
    "\n",
    "syn = 'ADNP'\n",
    "data, labels = load_data(syn)\n",
    "data_left, data_right = split_data(data, left, right)\n",
    "\n",
    "fig = figure(figsize=(10,10))\n",
    "ax = Axes3D(fig)\n",
    "\n",
    "for p in data_left[0]: \n",
    "    ax.scatter(p[0], p[1], p[2], color='b') \n",
    "    \n",
    "for p in data_right[0]: \n",
    "    ax.scatter(p[0], p[1], p[2], color='') \n",
    "    \n",
    "ax.set_xlabel('x')\n",
    "ax.set_ylabel('y')\n",
    "ax.set_zlabel('z')\n",
    "pyplot.show()"
   ]
  },
  {
   "cell_type": "markdown",
   "metadata": {},
   "source": [
    "# Training"
   ]
  },
  {
   "cell_type": "code",
   "execution_count": null,
   "metadata": {},
   "outputs": [
    {
     "name": "stderr",
     "output_type": "stream",
     "text": [
      "\r",
      "0it [00:00, ?it/s]"
     ]
    },
    {
     "name": "stdout",
     "output_type": "stream",
     "text": [
      "Epoch 1/10\n",
      "3/3 [==============================] - 0s 77ms/step - loss: 1.6049 - sparse_categorical_accuracy: 0.3043\n",
      "Epoch 2/10\n",
      "3/3 [==============================] - 0s 87ms/step - loss: 1.1502 - sparse_categorical_accuracy: 0.8261\n",
      "Epoch 3/10\n",
      "3/3 [==============================] - 0s 89ms/step - loss: 1.1826 - sparse_categorical_accuracy: 0.7826\n",
      "Epoch 4/10\n",
      "3/3 [==============================] - 0s 84ms/step - loss: 1.2601 - sparse_categorical_accuracy: 0.6957\n",
      "Epoch 5/10\n",
      "3/3 [==============================] - 0s 78ms/step - loss: 1.0624 - sparse_categorical_accuracy: 0.8696\n",
      "Epoch 6/10\n",
      "3/3 [==============================] - 0s 78ms/step - loss: 0.9984 - sparse_categorical_accuracy: 0.9130\n",
      "Epoch 7/10\n",
      "3/3 [==============================] - 0s 78ms/step - loss: 1.0832 - sparse_categorical_accuracy: 0.9130\n",
      "Epoch 8/10\n",
      "3/3 [==============================] - 0s 83ms/step - loss: 0.8673 - sparse_categorical_accuracy: 0.9565\n",
      "Epoch 9/10\n",
      "3/3 [==============================] - 0s 79ms/step - loss: 0.7870 - sparse_categorical_accuracy: 0.9130\n",
      "Epoch 10/10\n",
      "3/3 [==============================] - 0s 73ms/step - loss: 0.7113 - sparse_categorical_accuracy: 0.9565\n"
     ]
    },
    {
     "name": "stderr",
     "output_type": "stream",
     "text": [
      "\r",
      "1it [00:09,  9.50s/it]"
     ]
    },
    {
     "name": "stdout",
     "output_type": "stream",
     "text": [
      "Epoch 1/10\n",
      "3/3 [==============================] - 0s 80ms/step - loss: 1.6729 - sparse_categorical_accuracy: 0.4348\n",
      "Epoch 2/10\n",
      "3/3 [==============================] - 0s 78ms/step - loss: 1.0013 - sparse_categorical_accuracy: 0.8696\n",
      "Epoch 3/10\n",
      "3/3 [==============================] - 0s 79ms/step - loss: 0.8979 - sparse_categorical_accuracy: 1.0000\n",
      "Epoch 4/10\n",
      "3/3 [==============================] - 0s 73ms/step - loss: 0.9328 - sparse_categorical_accuracy: 0.9565\n",
      "Epoch 5/10\n",
      "3/3 [==============================] - 0s 90ms/step - loss: 0.8847 - sparse_categorical_accuracy: 0.9565\n",
      "Epoch 6/10\n",
      "3/3 [==============================] - 0s 69ms/step - loss: 0.7264 - sparse_categorical_accuracy: 1.0000\n",
      "Epoch 7/10\n",
      "3/3 [==============================] - 0s 78ms/step - loss: 0.7962 - sparse_categorical_accuracy: 0.8696\n",
      "Epoch 8/10\n",
      "3/3 [==============================] - 0s 78ms/step - loss: 0.5757 - sparse_categorical_accuracy: 1.0000\n",
      "Epoch 9/10\n",
      "3/3 [==============================] - 0s 78ms/step - loss: 0.9925 - sparse_categorical_accuracy: 0.9130\n",
      "Epoch 10/10\n",
      "3/3 [==============================] - 0s 73ms/step - loss: 0.6804 - sparse_categorical_accuracy: 0.9565\n"
     ]
    },
    {
     "name": "stderr",
     "output_type": "stream",
     "text": [
      "\r",
      "2it [00:18,  9.39s/it]"
     ]
    },
    {
     "name": "stdout",
     "output_type": "stream",
     "text": [
      "Epoch 1/10\n",
      "3/3 [==============================] - 0s 77ms/step - loss: 1.3881 - sparse_categorical_accuracy: 0.5652\n",
      "Epoch 2/10\n",
      "3/3 [==============================] - 0s 86ms/step - loss: 0.9060 - sparse_categorical_accuracy: 0.9130\n",
      "Epoch 3/10\n",
      "3/3 [==============================] - 0s 81ms/step - loss: 0.8769 - sparse_categorical_accuracy: 1.0000\n",
      "Epoch 4/10\n",
      "3/3 [==============================] - 0s 91ms/step - loss: 0.9982 - sparse_categorical_accuracy: 0.9130\n",
      "Epoch 5/10\n",
      "3/3 [==============================] - 0s 73ms/step - loss: 1.3062 - sparse_categorical_accuracy: 0.7826\n",
      "Epoch 6/10\n",
      "3/3 [==============================] - 0s 84ms/step - loss: 0.7660 - sparse_categorical_accuracy: 0.9565\n",
      "Epoch 7/10\n",
      "3/3 [==============================] - 0s 84ms/step - loss: 0.9225 - sparse_categorical_accuracy: 0.8261\n",
      "Epoch 8/10\n",
      "3/3 [==============================] - 0s 84ms/step - loss: 0.7136 - sparse_categorical_accuracy: 0.9130\n",
      "Epoch 9/10\n",
      "3/3 [==============================] - 0s 74ms/step - loss: 0.6536 - sparse_categorical_accuracy: 0.9130\n",
      "Epoch 10/10\n",
      "3/3 [==============================] - 0s 90ms/step - loss: 0.7864 - sparse_categorical_accuracy: 0.8261\n"
     ]
    },
    {
     "name": "stderr",
     "output_type": "stream",
     "text": [
      "\r",
      "3it [00:27,  9.38s/it]"
     ]
    },
    {
     "name": "stdout",
     "output_type": "stream",
     "text": [
      "Epoch 1/10\n",
      "3/3 [==============================] - 0s 74ms/step - loss: 1.1443 - sparse_categorical_accuracy: 0.6957\n",
      "Epoch 2/10\n",
      "3/3 [==============================] - 0s 100ms/step - loss: 0.8847 - sparse_categorical_accuracy: 0.9130\n",
      "Epoch 3/10\n",
      "3/3 [==============================] - 0s 88ms/step - loss: 0.9432 - sparse_categorical_accuracy: 0.9130\n",
      "Epoch 4/10\n",
      "3/3 [==============================] - 0s 86ms/step - loss: 0.8298 - sparse_categorical_accuracy: 1.0000\n",
      "Epoch 5/10\n",
      "3/3 [==============================] - 0s 86ms/step - loss: 1.1241 - sparse_categorical_accuracy: 0.8696\n",
      "Epoch 6/10\n",
      "3/3 [==============================] - 0s 83ms/step - loss: 0.8375 - sparse_categorical_accuracy: 0.9565\n",
      "Epoch 7/10\n",
      "3/3 [==============================] - 0s 91ms/step - loss: 0.7360 - sparse_categorical_accuracy: 0.9565\n",
      "Epoch 8/10\n",
      "3/3 [==============================] - 0s 95ms/step - loss: 0.6176 - sparse_categorical_accuracy: 1.0000\n",
      "Epoch 9/10\n",
      "3/3 [==============================] - 0s 92ms/step - loss: 0.5372 - sparse_categorical_accuracy: 1.0000\n",
      "Epoch 10/10\n",
      "3/3 [==============================] - 0s 86ms/step - loss: 0.5839 - sparse_categorical_accuracy: 0.9565\n"
     ]
    },
    {
     "name": "stderr",
     "output_type": "stream",
     "text": [
      "\r",
      "4it [00:36,  9.22s/it]"
     ]
    },
    {
     "name": "stdout",
     "output_type": "stream",
     "text": [
      "Epoch 1/10\n",
      "3/3 [==============================] - 0s 79ms/step - loss: 1.5663 - sparse_categorical_accuracy: 0.3913\n",
      "Epoch 2/10\n",
      "3/3 [==============================] - 0s 83ms/step - loss: 0.9124 - sparse_categorical_accuracy: 0.8696\n",
      "Epoch 3/10\n",
      "3/3 [==============================] - 0s 81ms/step - loss: 1.1541 - sparse_categorical_accuracy: 0.8696\n",
      "Epoch 4/10\n",
      "3/3 [==============================] - 0s 100ms/step - loss: 1.0530 - sparse_categorical_accuracy: 0.9565\n",
      "Epoch 5/10\n",
      "3/3 [==============================] - 0s 94ms/step - loss: 1.2367 - sparse_categorical_accuracy: 0.8261\n",
      "Epoch 6/10\n",
      "3/3 [==============================] - 0s 77ms/step - loss: 1.0002 - sparse_categorical_accuracy: 0.9130\n",
      "Epoch 7/10\n",
      "3/3 [==============================] - 0s 80ms/step - loss: 0.9877 - sparse_categorical_accuracy: 0.8696\n",
      "Epoch 8/10\n",
      "3/3 [==============================] - 0s 74ms/step - loss: 1.0496 - sparse_categorical_accuracy: 0.8696\n",
      "Epoch 9/10\n",
      "3/3 [==============================] - 0s 86ms/step - loss: 0.8167 - sparse_categorical_accuracy: 0.9565\n",
      "Epoch 10/10\n",
      "3/3 [==============================] - 0s 78ms/step - loss: 0.7746 - sparse_categorical_accuracy: 0.9565\n"
     ]
    },
    {
     "name": "stderr",
     "output_type": "stream",
     "text": [
      "\r",
      "5it [00:45,  9.07s/it]"
     ]
    },
    {
     "name": "stdout",
     "output_type": "stream",
     "text": [
      "Epoch 1/10\n",
      "3/3 [==============================] - 0s 90ms/step - loss: 1.2927 - sparse_categorical_accuracy: 0.6087\n",
      "Epoch 2/10\n",
      "3/3 [==============================] - 0s 71ms/step - loss: 1.1589 - sparse_categorical_accuracy: 0.6087\n",
      "Epoch 3/10\n",
      "3/3 [==============================] - 0s 95ms/step - loss: 1.0162 - sparse_categorical_accuracy: 0.9565\n",
      "Epoch 4/10\n",
      "3/3 [==============================] - 0s 78ms/step - loss: 0.9826 - sparse_categorical_accuracy: 0.9565\n",
      "Epoch 5/10\n",
      "3/3 [==============================] - 0s 85ms/step - loss: 1.0076 - sparse_categorical_accuracy: 0.9565\n",
      "Epoch 6/10\n",
      "3/3 [==============================] - 0s 87ms/step - loss: 1.1832 - sparse_categorical_accuracy: 0.8261\n",
      "Epoch 7/10\n",
      "3/3 [==============================] - 0s 89ms/step - loss: 1.3420 - sparse_categorical_accuracy: 0.9130\n",
      "Epoch 8/10\n",
      "3/3 [==============================] - 0s 84ms/step - loss: 0.7453 - sparse_categorical_accuracy: 0.9565\n",
      "Epoch 9/10\n",
      "3/3 [==============================] - 0s 96ms/step - loss: 0.8233 - sparse_categorical_accuracy: 0.9565\n",
      "Epoch 10/10\n",
      "3/3 [==============================] - 0s 101ms/step - loss: 0.6427 - sparse_categorical_accuracy: 1.0000\n"
     ]
    },
    {
     "name": "stderr",
     "output_type": "stream",
     "text": [
      "\r",
      "6it [00:54,  9.05s/it]"
     ]
    },
    {
     "name": "stdout",
     "output_type": "stream",
     "text": [
      "Epoch 1/10\n",
      "3/3 [==============================] - 0s 78ms/step - loss: 1.1413 - sparse_categorical_accuracy: 0.6957\n",
      "Epoch 2/10\n",
      "3/3 [==============================] - 0s 78ms/step - loss: 1.1306 - sparse_categorical_accuracy: 0.8696\n",
      "Epoch 3/10\n",
      "3/3 [==============================] - 0s 78ms/step - loss: 1.3649 - sparse_categorical_accuracy: 0.7391\n",
      "Epoch 4/10\n",
      "3/3 [==============================] - 0s 78ms/step - loss: 0.9855 - sparse_categorical_accuracy: 0.9565\n",
      "Epoch 5/10\n",
      "3/3 [==============================] - 0s 78ms/step - loss: 0.9681 - sparse_categorical_accuracy: 0.9130\n",
      "Epoch 6/10\n",
      "3/3 [==============================] - 0s 78ms/step - loss: 1.3150 - sparse_categorical_accuracy: 0.7826\n",
      "Epoch 7/10\n",
      "3/3 [==============================] - 0s 69ms/step - loss: 0.9404 - sparse_categorical_accuracy: 0.9130\n",
      "Epoch 8/10\n",
      "3/3 [==============================] - 0s 78ms/step - loss: 0.7787 - sparse_categorical_accuracy: 0.9565\n",
      "Epoch 9/10\n",
      "3/3 [==============================] - 0s 78ms/step - loss: 0.7573 - sparse_categorical_accuracy: 0.9130\n",
      "Epoch 10/10\n",
      "3/3 [==============================] - 0s 84ms/step - loss: 0.8985 - sparse_categorical_accuracy: 0.9130\n"
     ]
    },
    {
     "name": "stderr",
     "output_type": "stream",
     "text": [
      "\r",
      "7it [01:03,  9.15s/it]"
     ]
    },
    {
     "name": "stdout",
     "output_type": "stream",
     "text": [
      "Epoch 1/10\n",
      "3/3 [==============================] - 0s 74ms/step - loss: 1.1366 - sparse_categorical_accuracy: 0.6957\n",
      "Epoch 2/10\n",
      "3/3 [==============================] - 0s 78ms/step - loss: 0.9140 - sparse_categorical_accuracy: 0.8696\n",
      "Epoch 3/10\n",
      "3/3 [==============================] - 0s 83ms/step - loss: 0.7720 - sparse_categorical_accuracy: 0.9565\n",
      "Epoch 4/10\n",
      "3/3 [==============================] - 0s 79ms/step - loss: 0.8005 - sparse_categorical_accuracy: 0.9130\n",
      "Epoch 5/10\n",
      "3/3 [==============================] - 0s 78ms/step - loss: 0.7564 - sparse_categorical_accuracy: 0.9565\n",
      "Epoch 6/10\n",
      "3/3 [==============================] - 0s 83ms/step - loss: 0.9324 - sparse_categorical_accuracy: 0.8696\n",
      "Epoch 7/10\n",
      "3/3 [==============================] - 0s 84ms/step - loss: 0.6231 - sparse_categorical_accuracy: 0.9565\n",
      "Epoch 8/10\n",
      "3/3 [==============================] - 0s 78ms/step - loss: 0.6979 - sparse_categorical_accuracy: 0.9130\n",
      "Epoch 9/10\n",
      "3/3 [==============================] - 0s 78ms/step - loss: 0.6404 - sparse_categorical_accuracy: 0.9565\n",
      "Epoch 10/10\n",
      "3/3 [==============================] - 0s 83ms/step - loss: 0.5106 - sparse_categorical_accuracy: 1.0000\n"
     ]
    },
    {
     "name": "stderr",
     "output_type": "stream",
     "text": [
      "\r",
      "8it [01:13,  9.17s/it]"
     ]
    },
    {
     "name": "stdout",
     "output_type": "stream",
     "text": [
      "Epoch 1/10\n",
      "3/3 [==============================] - 0s 93ms/step - loss: 1.6087 - sparse_categorical_accuracy: 0.5217\n",
      "Epoch 2/10\n",
      "3/3 [==============================] - 0s 83ms/step - loss: 1.1066 - sparse_categorical_accuracy: 0.8261\n",
      "Epoch 3/10\n",
      "3/3 [==============================] - 0s 78ms/step - loss: 1.0411 - sparse_categorical_accuracy: 0.9130\n",
      "Epoch 4/10\n",
      "3/3 [==============================] - 0s 78ms/step - loss: 1.1905 - sparse_categorical_accuracy: 0.8696\n",
      "Epoch 5/10\n",
      "3/3 [==============================] - 0s 83ms/step - loss: 1.1073 - sparse_categorical_accuracy: 0.8696\n",
      "Epoch 6/10\n",
      "3/3 [==============================] - 0s 82ms/step - loss: 0.9612 - sparse_categorical_accuracy: 0.9130\n",
      "Epoch 7/10\n",
      "3/3 [==============================] - 0s 78ms/step - loss: 0.8396 - sparse_categorical_accuracy: 0.9565\n",
      "Epoch 8/10\n",
      "3/3 [==============================] - 0s 78ms/step - loss: 0.8541 - sparse_categorical_accuracy: 0.9130\n",
      "Epoch 9/10\n",
      "3/3 [==============================] - 0s 77ms/step - loss: 0.5556 - sparse_categorical_accuracy: 1.0000\n",
      "Epoch 10/10\n",
      "3/3 [==============================] - 0s 78ms/step - loss: 0.4973 - sparse_categorical_accuracy: 1.0000\n"
     ]
    },
    {
     "name": "stderr",
     "output_type": "stream",
     "text": [
      "\r",
      "9it [01:22,  9.15s/it]"
     ]
    },
    {
     "name": "stdout",
     "output_type": "stream",
     "text": [
      "Epoch 1/10\n",
      "3/3 [==============================] - 0s 73ms/step - loss: 1.2483 - sparse_categorical_accuracy: 0.6522\n",
      "Epoch 2/10\n",
      "3/3 [==============================] - 0s 83ms/step - loss: 1.0954 - sparse_categorical_accuracy: 0.8261\n",
      "Epoch 3/10\n",
      "3/3 [==============================] - 0s 94ms/step - loss: 1.3118 - sparse_categorical_accuracy: 0.7391\n",
      "Epoch 4/10\n",
      "3/3 [==============================] - 0s 92ms/step - loss: 1.3927 - sparse_categorical_accuracy: 0.6957\n",
      "Epoch 5/10\n",
      "3/3 [==============================] - 0s 78ms/step - loss: 1.2568 - sparse_categorical_accuracy: 0.9130\n",
      "Epoch 6/10\n",
      "3/3 [==============================] - 0s 70ms/step - loss: 0.9907 - sparse_categorical_accuracy: 0.9130\n",
      "Epoch 7/10\n",
      "3/3 [==============================] - 0s 78ms/step - loss: 0.9346 - sparse_categorical_accuracy: 0.9565\n",
      "Epoch 8/10\n",
      "3/3 [==============================] - 0s 78ms/step - loss: 1.0514 - sparse_categorical_accuracy: 0.8261\n",
      "Epoch 9/10\n",
      "3/3 [==============================] - 0s 71ms/step - loss: 0.6804 - sparse_categorical_accuracy: 0.9565\n",
      "Epoch 10/10\n",
      "3/3 [==============================] - 0s 78ms/step - loss: 0.6092 - sparse_categorical_accuracy: 0.9565\n"
     ]
    },
    {
     "name": "stderr",
     "output_type": "stream",
     "text": [
      "\r",
      "10it [01:31,  9.09s/it]"
     ]
    },
    {
     "name": "stdout",
     "output_type": "stream",
     "text": [
      "Epoch 1/10\n",
      "3/3 [==============================] - 0s 80ms/step - loss: 1.5241 - sparse_categorical_accuracy: 0.4783\n",
      "Epoch 2/10\n",
      "3/3 [==============================] - 0s 78ms/step - loss: 1.1532 - sparse_categorical_accuracy: 0.7826\n",
      "Epoch 3/10\n",
      "3/3 [==============================] - 0s 78ms/step - loss: 0.9089 - sparse_categorical_accuracy: 0.9565\n",
      "Epoch 4/10\n",
      "3/3 [==============================] - 0s 78ms/step - loss: 0.9223 - sparse_categorical_accuracy: 1.0000\n",
      "Epoch 5/10\n",
      "3/3 [==============================] - 0s 78ms/step - loss: 1.0322 - sparse_categorical_accuracy: 0.9130\n",
      "Epoch 6/10\n",
      "3/3 [==============================] - 0s 74ms/step - loss: 0.7319 - sparse_categorical_accuracy: 1.0000\n",
      "Epoch 7/10\n",
      "3/3 [==============================] - 0s 81ms/step - loss: 1.2261 - sparse_categorical_accuracy: 0.9130\n",
      "Epoch 8/10\n",
      "3/3 [==============================] - 0s 78ms/step - loss: 0.8553 - sparse_categorical_accuracy: 0.8261\n",
      "Epoch 9/10\n",
      "3/3 [==============================] - 0s 87ms/step - loss: 0.9797 - sparse_categorical_accuracy: 0.8261\n",
      "Epoch 10/10\n",
      "3/3 [==============================] - 0s 78ms/step - loss: 0.8370 - sparse_categorical_accuracy: 0.8261\n"
     ]
    },
    {
     "name": "stderr",
     "output_type": "stream",
     "text": [
      "\r",
      "11it [01:40,  9.10s/it]"
     ]
    },
    {
     "name": "stdout",
     "output_type": "stream",
     "text": [
      "Epoch 1/10\n",
      "3/3 [==============================] - 0s 78ms/step - loss: 1.0851 - sparse_categorical_accuracy: 0.7826\n",
      "Epoch 2/10\n",
      "3/3 [==============================] - 0s 78ms/step - loss: 1.1343 - sparse_categorical_accuracy: 0.6957\n",
      "Epoch 3/10\n",
      "3/3 [==============================] - 0s 68ms/step - loss: 0.9459 - sparse_categorical_accuracy: 0.9130\n",
      "Epoch 4/10\n",
      "3/3 [==============================] - 0s 73ms/step - loss: 1.1277 - sparse_categorical_accuracy: 0.9130\n",
      "Epoch 5/10\n",
      "3/3 [==============================] - 0s 78ms/step - loss: 1.1267 - sparse_categorical_accuracy: 0.8261\n",
      "Epoch 6/10\n",
      "3/3 [==============================] - 0s 78ms/step - loss: 0.8128 - sparse_categorical_accuracy: 0.9565\n",
      "Epoch 7/10\n",
      "3/3 [==============================] - 0s 78ms/step - loss: 0.9498 - sparse_categorical_accuracy: 0.8261\n",
      "Epoch 8/10\n",
      "3/3 [==============================] - 0s 78ms/step - loss: 1.0878 - sparse_categorical_accuracy: 0.8261\n",
      "Epoch 9/10\n",
      "3/3 [==============================] - 0s 85ms/step - loss: 0.6058 - sparse_categorical_accuracy: 0.9565\n",
      "Epoch 10/10\n",
      "3/3 [==============================] - 0s 78ms/step - loss: 0.6111 - sparse_categorical_accuracy: 0.9565\n"
     ]
    },
    {
     "name": "stderr",
     "output_type": "stream",
     "text": [
      "\r",
      "12it [01:49,  9.06s/it]"
     ]
    },
    {
     "name": "stdout",
     "output_type": "stream",
     "text": [
      "Epoch 1/10\n",
      "3/3 [==============================] - 0s 76ms/step - loss: 1.0300 - sparse_categorical_accuracy: 0.7391\n",
      "Epoch 2/10\n",
      "3/3 [==============================] - 0s 65ms/step - loss: 0.8079 - sparse_categorical_accuracy: 0.9130\n",
      "Epoch 3/10\n",
      "3/3 [==============================] - 0s 78ms/step - loss: 0.8946 - sparse_categorical_accuracy: 0.9130\n",
      "Epoch 4/10\n",
      "3/3 [==============================] - 0s 73ms/step - loss: 1.2256 - sparse_categorical_accuracy: 0.9130\n",
      "Epoch 5/10\n",
      "3/3 [==============================] - 0s 67ms/step - loss: 0.8325 - sparse_categorical_accuracy: 1.0000\n",
      "Epoch 6/10\n",
      "3/3 [==============================] - 0s 78ms/step - loss: 0.8312 - sparse_categorical_accuracy: 0.9130\n",
      "Epoch 7/10\n",
      "3/3 [==============================] - 0s 73ms/step - loss: 0.9588 - sparse_categorical_accuracy: 0.8696\n",
      "Epoch 8/10\n",
      "3/3 [==============================] - 0s 83ms/step - loss: 1.1689 - sparse_categorical_accuracy: 0.7826\n",
      "Epoch 9/10\n",
      "3/3 [==============================] - 0s 73ms/step - loss: 0.7761 - sparse_categorical_accuracy: 0.8696\n",
      "Epoch 10/10\n",
      "3/3 [==============================] - 0s 73ms/step - loss: 0.5745 - sparse_categorical_accuracy: 1.0000\n"
     ]
    },
    {
     "name": "stderr",
     "output_type": "stream",
     "text": [
      "\r",
      "13it [01:57,  8.83s/it]"
     ]
    },
    {
     "name": "stdout",
     "output_type": "stream",
     "text": [
      "Epoch 1/10\n",
      "3/3 [==============================] - 0s 68ms/step - loss: 1.2461 - sparse_categorical_accuracy: 0.6522\n",
      "Epoch 2/10\n",
      "3/3 [==============================] - 0s 78ms/step - loss: 0.9629 - sparse_categorical_accuracy: 0.8696\n",
      "Epoch 3/10\n",
      "3/3 [==============================] - 0s 78ms/step - loss: 1.0945 - sparse_categorical_accuracy: 0.8696\n",
      "Epoch 4/10\n",
      "3/3 [==============================] - 0s 76ms/step - loss: 1.0470 - sparse_categorical_accuracy: 0.9130\n",
      "Epoch 5/10\n",
      "3/3 [==============================] - 0s 73ms/step - loss: 1.0144 - sparse_categorical_accuracy: 0.9565\n",
      "Epoch 6/10\n",
      "3/3 [==============================] - 0s 78ms/step - loss: 1.0154 - sparse_categorical_accuracy: 0.9130\n",
      "Epoch 7/10\n",
      "3/3 [==============================] - 0s 84ms/step - loss: 0.7323 - sparse_categorical_accuracy: 1.0000\n",
      "Epoch 8/10\n",
      "3/3 [==============================] - 0s 73ms/step - loss: 0.7892 - sparse_categorical_accuracy: 0.9130\n",
      "Epoch 9/10\n",
      "3/3 [==============================] - 0s 78ms/step - loss: 0.7896 - sparse_categorical_accuracy: 0.9565\n",
      "Epoch 10/10\n",
      "3/3 [==============================] - 0s 73ms/step - loss: 0.6670 - sparse_categorical_accuracy: 0.9130\n"
     ]
    },
    {
     "name": "stderr",
     "output_type": "stream",
     "text": [
      "\r",
      "14it [02:05,  8.70s/it]"
     ]
    },
    {
     "name": "stdout",
     "output_type": "stream",
     "text": [
      "Epoch 1/10\n",
      "3/3 [==============================] - 0s 74ms/step - loss: 1.2106 - sparse_categorical_accuracy: 0.6522\n",
      "Epoch 2/10\n",
      "3/3 [==============================] - 0s 83ms/step - loss: 1.1906 - sparse_categorical_accuracy: 0.8261\n",
      "Epoch 3/10\n",
      "3/3 [==============================] - 0s 78ms/step - loss: 0.8801 - sparse_categorical_accuracy: 0.9565\n",
      "Epoch 4/10\n",
      "3/3 [==============================] - 0s 73ms/step - loss: 0.8822 - sparse_categorical_accuracy: 1.0000\n",
      "Epoch 5/10\n",
      "3/3 [==============================] - 0s 73ms/step - loss: 1.2463 - sparse_categorical_accuracy: 0.7826\n",
      "Epoch 6/10\n",
      "3/3 [==============================] - 0s 78ms/step - loss: 1.0113 - sparse_categorical_accuracy: 0.8696\n",
      "Epoch 7/10\n",
      "3/3 [==============================] - 0s 73ms/step - loss: 0.8706 - sparse_categorical_accuracy: 0.9130\n",
      "Epoch 8/10\n",
      "3/3 [==============================] - 0s 70ms/step - loss: 0.7960 - sparse_categorical_accuracy: 0.9565\n",
      "Epoch 9/10\n",
      "3/3 [==============================] - 0s 78ms/step - loss: 0.7991 - sparse_categorical_accuracy: 0.9130\n",
      "Epoch 10/10\n",
      "3/3 [==============================] - 0s 73ms/step - loss: 0.8717 - sparse_categorical_accuracy: 0.8696\n"
     ]
    },
    {
     "name": "stderr",
     "output_type": "stream",
     "text": [
      "\r",
      "15it [02:14,  8.63s/it]"
     ]
    },
    {
     "name": "stdout",
     "output_type": "stream",
     "text": [
      "Epoch 1/10\n",
      "3/3 [==============================] - 0s 75ms/step - loss: 1.1930 - sparse_categorical_accuracy: 0.7391\n",
      "Epoch 2/10\n",
      "3/3 [==============================] - 0s 74ms/step - loss: 0.7697 - sparse_categorical_accuracy: 1.0000\n",
      "Epoch 3/10\n",
      "3/3 [==============================] - 0s 73ms/step - loss: 1.3108 - sparse_categorical_accuracy: 0.6957\n",
      "Epoch 4/10\n",
      "3/3 [==============================] - 0s 73ms/step - loss: 1.2108 - sparse_categorical_accuracy: 0.8261\n",
      "Epoch 5/10\n",
      "3/3 [==============================] - 0s 84ms/step - loss: 0.9843 - sparse_categorical_accuracy: 0.9130\n",
      "Epoch 6/10\n",
      "3/3 [==============================] - 0s 73ms/step - loss: 0.8238 - sparse_categorical_accuracy: 0.9565\n",
      "Epoch 7/10\n",
      "3/3 [==============================] - 0s 68ms/step - loss: 0.8396 - sparse_categorical_accuracy: 0.9130\n",
      "Epoch 8/10\n",
      "3/3 [==============================] - 0s 77ms/step - loss: 1.0243 - sparse_categorical_accuracy: 0.8261\n",
      "Epoch 9/10\n",
      "3/3 [==============================] - 0s 74ms/step - loss: 0.7844 - sparse_categorical_accuracy: 0.9565\n",
      "Epoch 10/10\n",
      "3/3 [==============================] - 0s 67ms/step - loss: 1.0211 - sparse_categorical_accuracy: 0.8696\n"
     ]
    },
    {
     "name": "stderr",
     "output_type": "stream",
     "text": [
      "\r",
      "16it [02:22,  8.49s/it]"
     ]
    },
    {
     "name": "stdout",
     "output_type": "stream",
     "text": [
      "Epoch 1/10\n",
      "3/3 [==============================] - 0s 76ms/step - loss: 1.6232 - sparse_categorical_accuracy: 0.4348\n",
      "Epoch 2/10\n",
      "3/3 [==============================] - 0s 77ms/step - loss: 1.1328 - sparse_categorical_accuracy: 0.7826\n",
      "Epoch 3/10\n",
      "3/3 [==============================] - 0s 77ms/step - loss: 1.0882 - sparse_categorical_accuracy: 0.9130\n",
      "Epoch 4/10\n",
      "3/3 [==============================] - 0s 93ms/step - loss: 1.5636 - sparse_categorical_accuracy: 0.8261\n",
      "Epoch 5/10\n",
      "3/3 [==============================] - 0s 81ms/step - loss: 1.1542 - sparse_categorical_accuracy: 0.9130\n",
      "Epoch 6/10\n",
      "3/3 [==============================] - 0s 78ms/step - loss: 0.9319 - sparse_categorical_accuracy: 0.9130\n",
      "Epoch 7/10\n",
      "3/3 [==============================] - 0s 77ms/step - loss: 0.8957 - sparse_categorical_accuracy: 0.9130\n",
      "Epoch 8/10\n",
      "3/3 [==============================] - 0s 78ms/step - loss: 0.6961 - sparse_categorical_accuracy: 0.9565\n",
      "Epoch 9/10\n",
      "3/3 [==============================] - 0s 84ms/step - loss: 1.0079 - sparse_categorical_accuracy: 0.8696\n",
      "Epoch 10/10\n",
      "3/3 [==============================] - 0s 74ms/step - loss: 0.8078 - sparse_categorical_accuracy: 0.8261\n"
     ]
    },
    {
     "name": "stderr",
     "output_type": "stream",
     "text": [
      "\r",
      "17it [02:31,  8.57s/it]"
     ]
    },
    {
     "name": "stdout",
     "output_type": "stream",
     "text": [
      "Epoch 1/10\n",
      "3/3 [==============================] - 0s 74ms/step - loss: 1.2893 - sparse_categorical_accuracy: 0.5652\n",
      "Epoch 2/10\n",
      "3/3 [==============================] - 0s 68ms/step - loss: 0.8560 - sparse_categorical_accuracy: 0.9130\n",
      "Epoch 3/10\n",
      "3/3 [==============================] - 0s 77ms/step - loss: 0.8974 - sparse_categorical_accuracy: 0.9130\n",
      "Epoch 4/10\n",
      "3/3 [==============================] - 0s 68ms/step - loss: 1.1554 - sparse_categorical_accuracy: 0.8696\n",
      "Epoch 5/10\n",
      "3/3 [==============================] - 0s 75ms/step - loss: 0.7766 - sparse_categorical_accuracy: 1.0000\n",
      "Epoch 6/10\n",
      "3/3 [==============================] - 0s 71ms/step - loss: 1.0616 - sparse_categorical_accuracy: 0.8696\n",
      "Epoch 7/10\n",
      "3/3 [==============================] - 0s 73ms/step - loss: 0.8471 - sparse_categorical_accuracy: 0.9130\n",
      "Epoch 8/10\n",
      "3/3 [==============================] - 0s 85ms/step - loss: 1.2073 - sparse_categorical_accuracy: 0.7391\n",
      "Epoch 9/10\n",
      "3/3 [==============================] - 0s 79ms/step - loss: 0.6032 - sparse_categorical_accuracy: 1.0000\n",
      "Epoch 10/10\n",
      "3/3 [==============================] - 0s 74ms/step - loss: 0.5631 - sparse_categorical_accuracy: 0.9565\n"
     ]
    },
    {
     "name": "stderr",
     "output_type": "stream",
     "text": [
      "\r",
      "18it [02:39,  8.48s/it]"
     ]
    },
    {
     "name": "stdout",
     "output_type": "stream",
     "text": [
      "Epoch 1/10\n",
      "3/3 [==============================] - 0s 74ms/step - loss: 1.2737 - sparse_categorical_accuracy: 0.6522\n",
      "Epoch 2/10\n",
      "3/3 [==============================] - 0s 69ms/step - loss: 1.0508 - sparse_categorical_accuracy: 0.8696\n",
      "Epoch 3/10\n",
      "3/3 [==============================] - 0s 80ms/step - loss: 1.2406 - sparse_categorical_accuracy: 0.7826\n",
      "Epoch 4/10\n",
      "3/3 [==============================] - 0s 83ms/step - loss: 0.8836 - sparse_categorical_accuracy: 1.0000\n",
      "Epoch 5/10\n",
      "3/3 [==============================] - 0s 74ms/step - loss: 1.1906 - sparse_categorical_accuracy: 0.8261\n",
      "Epoch 6/10\n",
      "3/3 [==============================] - 0s 79ms/step - loss: 0.8995 - sparse_categorical_accuracy: 0.9130\n",
      "Epoch 7/10\n",
      "3/3 [==============================] - 0s 70ms/step - loss: 0.8045 - sparse_categorical_accuracy: 0.9565\n",
      "Epoch 8/10\n",
      "3/3 [==============================] - 0s 99ms/step - loss: 0.6483 - sparse_categorical_accuracy: 1.0000\n",
      "Epoch 9/10\n",
      "3/3 [==============================] - 0s 76ms/step - loss: 0.6692 - sparse_categorical_accuracy: 1.0000\n",
      "Epoch 10/10\n",
      "3/3 [==============================] - 0s 120ms/step - loss: 0.7326 - sparse_categorical_accuracy: 0.9130\n"
     ]
    },
    {
     "name": "stderr",
     "output_type": "stream",
     "text": [
      "\r",
      "19it [02:48,  8.62s/it]"
     ]
    },
    {
     "name": "stdout",
     "output_type": "stream",
     "text": [
      "Epoch 1/10\n",
      "3/3 [==============================] - 0s 81ms/step - loss: 1.1579 - sparse_categorical_accuracy: 0.7391\n",
      "Epoch 2/10\n",
      "3/3 [==============================] - 0s 87ms/step - loss: 1.0469 - sparse_categorical_accuracy: 0.7826\n",
      "Epoch 3/10\n",
      "3/3 [==============================] - 0s 87ms/step - loss: 1.5287 - sparse_categorical_accuracy: 0.6957\n",
      "Epoch 4/10\n",
      "3/3 [==============================] - 0s 77ms/step - loss: 1.1740 - sparse_categorical_accuracy: 0.8261\n",
      "Epoch 5/10\n",
      "3/3 [==============================] - 0s 86ms/step - loss: 0.9323 - sparse_categorical_accuracy: 0.9565\n",
      "Epoch 6/10\n",
      "3/3 [==============================] - 0s 90ms/step - loss: 1.0750 - sparse_categorical_accuracy: 0.8696\n",
      "Epoch 7/10\n",
      "3/3 [==============================] - 0s 83ms/step - loss: 0.9228 - sparse_categorical_accuracy: 0.8261\n",
      "Epoch 8/10\n",
      "3/3 [==============================] - 0s 89ms/step - loss: 1.1174 - sparse_categorical_accuracy: 0.8696\n",
      "Epoch 9/10\n",
      "3/3 [==============================] - 0s 81ms/step - loss: 0.7411 - sparse_categorical_accuracy: 0.9565\n",
      "Epoch 10/10\n",
      "3/3 [==============================] - 0s 88ms/step - loss: 0.8365 - sparse_categorical_accuracy: 0.8696\n"
     ]
    },
    {
     "name": "stderr",
     "output_type": "stream",
     "text": [
      "\r",
      "20it [02:57,  8.83s/it]"
     ]
    },
    {
     "name": "stdout",
     "output_type": "stream",
     "text": [
      "Epoch 1/10\n",
      "3/3 [==============================] - 0s 86ms/step - loss: 1.0749 - sparse_categorical_accuracy: 0.6522\n",
      "Epoch 2/10\n",
      "3/3 [==============================] - 0s 83ms/step - loss: 1.1341 - sparse_categorical_accuracy: 0.8261\n",
      "Epoch 3/10\n",
      "3/3 [==============================] - 0s 90ms/step - loss: 0.8909 - sparse_categorical_accuracy: 0.9565\n",
      "Epoch 4/10\n",
      "3/3 [==============================] - 0s 82ms/step - loss: 0.9560 - sparse_categorical_accuracy: 0.9130\n",
      "Epoch 5/10\n",
      "3/3 [==============================] - 0s 86ms/step - loss: 1.2070 - sparse_categorical_accuracy: 0.8261\n",
      "Epoch 6/10\n",
      "3/3 [==============================] - 0s 87ms/step - loss: 0.9504 - sparse_categorical_accuracy: 0.8261\n",
      "Epoch 7/10\n",
      "3/3 [==============================] - 0s 88ms/step - loss: 0.7741 - sparse_categorical_accuracy: 1.0000\n",
      "Epoch 8/10\n",
      "3/3 [==============================] - 0s 77ms/step - loss: 0.6438 - sparse_categorical_accuracy: 1.0000\n",
      "Epoch 9/10\n",
      "3/3 [==============================] - 0s 88ms/step - loss: 0.5839 - sparse_categorical_accuracy: 0.9565\n",
      "Epoch 10/10\n",
      "3/3 [==============================] - 0s 87ms/step - loss: 0.5556 - sparse_categorical_accuracy: 0.9565\n"
     ]
    },
    {
     "name": "stderr",
     "output_type": "stream",
     "text": [
      "\r",
      "21it [03:07,  9.03s/it]"
     ]
    },
    {
     "name": "stdout",
     "output_type": "stream",
     "text": [
      "Epoch 1/10\n",
      "3/3 [==============================] - 0s 83ms/step - loss: 1.1109 - sparse_categorical_accuracy: 0.6957\n",
      "Epoch 2/10\n",
      "3/3 [==============================] - 0s 88ms/step - loss: 1.2286 - sparse_categorical_accuracy: 0.7391\n",
      "Epoch 3/10\n",
      "3/3 [==============================] - 0s 83ms/step - loss: 0.9383 - sparse_categorical_accuracy: 0.8696\n",
      "Epoch 4/10\n",
      "3/3 [==============================] - 0s 86ms/step - loss: 0.9879 - sparse_categorical_accuracy: 0.8261\n",
      "Epoch 5/10\n",
      "3/3 [==============================] - 0s 89ms/step - loss: 1.0567 - sparse_categorical_accuracy: 0.8696\n",
      "Epoch 6/10\n",
      "3/3 [==============================] - 0s 86ms/step - loss: 1.2181 - sparse_categorical_accuracy: 0.7391\n",
      "Epoch 7/10\n",
      "3/3 [==============================] - 0s 88ms/step - loss: 0.7876 - sparse_categorical_accuracy: 0.9130\n",
      "Epoch 8/10\n",
      "3/3 [==============================] - 0s 82ms/step - loss: 0.7469 - sparse_categorical_accuracy: 0.9130\n",
      "Epoch 9/10\n",
      "3/3 [==============================] - 0s 77ms/step - loss: 0.6538 - sparse_categorical_accuracy: 0.9130\n",
      "Epoch 10/10\n",
      "3/3 [==============================] - 0s 88ms/step - loss: 0.5703 - sparse_categorical_accuracy: 0.9565\n"
     ]
    },
    {
     "name": "stderr",
     "output_type": "stream",
     "text": [
      "\r",
      "22it [03:16,  9.06s/it]"
     ]
    },
    {
     "name": "stdout",
     "output_type": "stream",
     "text": [
      "Epoch 1/10\n",
      "3/3 [==============================] - 0s 82ms/step - loss: 1.3077 - sparse_categorical_accuracy: 0.5217\n",
      "Epoch 2/10\n",
      "3/3 [==============================] - 0s 90ms/step - loss: 1.0294 - sparse_categorical_accuracy: 0.8261\n",
      "Epoch 3/10\n",
      "3/3 [==============================] - 0s 86ms/step - loss: 0.9633 - sparse_categorical_accuracy: 0.9130\n",
      "Epoch 4/10\n",
      "3/3 [==============================] - 0s 87ms/step - loss: 0.9560 - sparse_categorical_accuracy: 0.9565\n",
      "Epoch 5/10\n",
      "3/3 [==============================] - 0s 83ms/step - loss: 0.8813 - sparse_categorical_accuracy: 0.9130\n",
      "Epoch 6/10\n",
      "3/3 [==============================] - 0s 91ms/step - loss: 0.8656 - sparse_categorical_accuracy: 0.9565\n",
      "Epoch 7/10\n",
      "3/3 [==============================] - 0s 82ms/step - loss: 0.7076 - sparse_categorical_accuracy: 1.0000\n",
      "Epoch 8/10\n",
      "3/3 [==============================] - 0s 76ms/step - loss: 0.5883 - sparse_categorical_accuracy: 1.0000\n",
      "Epoch 9/10\n",
      "3/3 [==============================] - 0s 87ms/step - loss: 0.8062 - sparse_categorical_accuracy: 0.9130\n",
      "Epoch 10/10\n",
      "3/3 [==============================] - 0s 88ms/step - loss: 1.1349 - sparse_categorical_accuracy: 0.8261\n"
     ]
    },
    {
     "name": "stderr",
     "output_type": "stream",
     "text": [
      "\r",
      "23it [03:26,  9.19s/it]"
     ]
    },
    {
     "name": "stdout",
     "output_type": "stream",
     "text": [
      "Epoch 1/10\n",
      "3/3 [==============================] - 0s 85ms/step - loss: 1.3997 - sparse_categorical_accuracy: 0.4348\n",
      "Epoch 2/10\n",
      "3/3 [==============================] - 0s 82ms/step - loss: 1.4799 - sparse_categorical_accuracy: 0.5652\n",
      "Epoch 3/10\n",
      "3/3 [==============================] - 0s 82ms/step - loss: 1.2171 - sparse_categorical_accuracy: 0.6522\n",
      "Epoch 4/10\n",
      "3/3 [==============================] - 0s 87ms/step - loss: 1.0868 - sparse_categorical_accuracy: 0.8696\n",
      "Epoch 5/10\n",
      "3/3 [==============================] - 0s 85ms/step - loss: 0.9746 - sparse_categorical_accuracy: 0.9130\n",
      "Epoch 6/10\n",
      "3/3 [==============================] - 0s 88ms/step - loss: 0.9387 - sparse_categorical_accuracy: 0.9565\n",
      "Epoch 7/10\n",
      "3/3 [==============================] - 0s 88ms/step - loss: 1.0785 - sparse_categorical_accuracy: 0.8261\n",
      "Epoch 8/10\n",
      "3/3 [==============================] - 0s 82ms/step - loss: 0.9098 - sparse_categorical_accuracy: 0.9130\n",
      "Epoch 9/10\n",
      "3/3 [==============================] - 0s 85ms/step - loss: 0.8429 - sparse_categorical_accuracy: 0.8696\n",
      "Epoch 10/10\n",
      "3/3 [==============================] - 0s 77ms/step - loss: 0.7957 - sparse_categorical_accuracy: 0.9130\n"
     ]
    },
    {
     "name": "stderr",
     "output_type": "stream",
     "text": [
      "24it [03:35,  8.97s/it]\n",
      "0it [00:00, ?it/s]"
     ]
    },
    {
     "name": "stdout",
     "output_type": "stream",
     "text": [
      "Epoch 1/10\n",
      "3/3 [==============================] - 0s 76ms/step - loss: 1.2121 - sparse_categorical_accuracy: 0.5652\n",
      "Epoch 2/10\n",
      "3/3 [==============================] - 0s 81ms/step - loss: 1.2322 - sparse_categorical_accuracy: 0.6522\n",
      "Epoch 3/10\n",
      "3/3 [==============================] - 0s 83ms/step - loss: 0.9574 - sparse_categorical_accuracy: 0.9130\n",
      "Epoch 4/10\n",
      "3/3 [==============================] - 0s 86ms/step - loss: 1.0175 - sparse_categorical_accuracy: 0.9130\n",
      "Epoch 5/10\n",
      "3/3 [==============================] - 0s 83ms/step - loss: 0.9520 - sparse_categorical_accuracy: 0.9565\n",
      "Epoch 6/10\n",
      "3/3 [==============================] - 0s 85ms/step - loss: 0.8899 - sparse_categorical_accuracy: 0.9565\n",
      "Epoch 7/10\n",
      "3/3 [==============================] - 0s 81ms/step - loss: 0.7412 - sparse_categorical_accuracy: 0.9565\n",
      "Epoch 8/10\n",
      "3/3 [==============================] - 0s 83ms/step - loss: 0.8629 - sparse_categorical_accuracy: 0.8696\n",
      "Epoch 9/10\n",
      "3/3 [==============================] - 0s 83ms/step - loss: 1.0124 - sparse_categorical_accuracy: 0.9130\n",
      "Epoch 10/10\n",
      "3/3 [==============================] - 0s 83ms/step - loss: 0.7688 - sparse_categorical_accuracy: 0.9130\n"
     ]
    },
    {
     "name": "stderr",
     "output_type": "stream",
     "text": [
      "\r",
      "1it [00:09,  9.09s/it]"
     ]
    },
    {
     "name": "stdout",
     "output_type": "stream",
     "text": [
      "Epoch 1/10\n",
      "3/3 [==============================] - 0s 83ms/step - loss: 1.2140 - sparse_categorical_accuracy: 0.6522\n",
      "Epoch 2/10\n",
      "3/3 [==============================] - 0s 77ms/step - loss: 1.0034 - sparse_categorical_accuracy: 0.8261\n",
      "Epoch 3/10\n",
      "3/3 [==============================] - 0s 78ms/step - loss: 0.7901 - sparse_categorical_accuracy: 0.9565\n",
      "Epoch 4/10\n",
      "3/3 [==============================] - 0s 82ms/step - loss: 0.8741 - sparse_categorical_accuracy: 0.9565\n",
      "Epoch 5/10\n",
      "3/3 [==============================] - 0s 80ms/step - loss: 0.8595 - sparse_categorical_accuracy: 0.9130\n",
      "Epoch 6/10\n",
      "3/3 [==============================] - 0s 88ms/step - loss: 1.1361 - sparse_categorical_accuracy: 0.8696\n",
      "Epoch 7/10\n",
      "3/3 [==============================] - 0s 88ms/step - loss: 1.0241 - sparse_categorical_accuracy: 0.8696\n",
      "Epoch 8/10\n",
      "3/3 [==============================] - 0s 86ms/step - loss: 0.8391 - sparse_categorical_accuracy: 0.8261\n",
      "Epoch 9/10\n",
      "3/3 [==============================] - 0s 90ms/step - loss: 0.7059 - sparse_categorical_accuracy: 0.9130\n",
      "Epoch 10/10\n",
      "3/3 [==============================] - 0s 84ms/step - loss: 0.6913 - sparse_categorical_accuracy: 0.9565\n"
     ]
    },
    {
     "name": "stderr",
     "output_type": "stream",
     "text": [
      "\r",
      "2it [00:17,  8.96s/it]"
     ]
    },
    {
     "name": "stdout",
     "output_type": "stream",
     "text": [
      "Epoch 1/10\n",
      "3/3 [==============================] - 0s 73ms/step - loss: 0.9536 - sparse_categorical_accuracy: 0.7826\n",
      "Epoch 2/10\n",
      "3/3 [==============================] - 0s 92ms/step - loss: 0.9819 - sparse_categorical_accuracy: 0.8261\n",
      "Epoch 3/10\n",
      "3/3 [==============================] - 0s 86ms/step - loss: 0.9075 - sparse_categorical_accuracy: 0.8696\n",
      "Epoch 4/10\n",
      "3/3 [==============================] - 0s 89ms/step - loss: 0.9980 - sparse_categorical_accuracy: 0.8261\n",
      "Epoch 5/10\n",
      "3/3 [==============================] - 0s 81ms/step - loss: 0.8135 - sparse_categorical_accuracy: 0.9565\n",
      "Epoch 6/10\n",
      "3/3 [==============================] - 0s 72ms/step - loss: 1.2357 - sparse_categorical_accuracy: 0.7391\n",
      "Epoch 7/10\n",
      "3/3 [==============================] - 0s 81ms/step - loss: 1.0050 - sparse_categorical_accuracy: 0.8261\n",
      "Epoch 8/10\n",
      "3/3 [==============================] - 0s 77ms/step - loss: 0.7610 - sparse_categorical_accuracy: 0.9130\n",
      "Epoch 9/10\n",
      "3/3 [==============================] - 0s 79ms/step - loss: 0.7614 - sparse_categorical_accuracy: 0.8696\n",
      "Epoch 10/10\n",
      "3/3 [==============================] - 0s 78ms/step - loss: 0.6406 - sparse_categorical_accuracy: 0.9565\n"
     ]
    },
    {
     "name": "stderr",
     "output_type": "stream",
     "text": [
      "\r",
      "3it [00:26,  8.86s/it]"
     ]
    },
    {
     "name": "stdout",
     "output_type": "stream",
     "text": [
      "Epoch 1/10\n",
      "3/3 [==============================] - 0s 77ms/step - loss: 1.2182 - sparse_categorical_accuracy: 0.6087\n",
      "Epoch 2/10\n",
      "3/3 [==============================] - 0s 87ms/step - loss: 1.0464 - sparse_categorical_accuracy: 0.8261\n",
      "Epoch 3/10\n",
      "3/3 [==============================] - 0s 82ms/step - loss: 0.9402 - sparse_categorical_accuracy: 0.9130\n",
      "Epoch 4/10\n",
      "3/3 [==============================] - 0s 80ms/step - loss: 0.9875 - sparse_categorical_accuracy: 0.8696\n",
      "Epoch 5/10\n",
      "3/3 [==============================] - 0s 90ms/step - loss: 0.8815 - sparse_categorical_accuracy: 0.9565\n",
      "Epoch 6/10\n",
      "3/3 [==============================] - 0s 74ms/step - loss: 1.1452 - sparse_categorical_accuracy: 0.8696\n",
      "Epoch 7/10\n",
      "3/3 [==============================] - 0s 77ms/step - loss: 0.7226 - sparse_categorical_accuracy: 0.9130\n",
      "Epoch 8/10\n",
      "3/3 [==============================] - 0s 82ms/step - loss: 0.6497 - sparse_categorical_accuracy: 0.9565\n",
      "Epoch 9/10\n",
      "3/3 [==============================] - 0s 86ms/step - loss: 0.5920 - sparse_categorical_accuracy: 0.9565\n",
      "Epoch 10/10\n",
      "3/3 [==============================] - 0s 88ms/step - loss: 0.8269 - sparse_categorical_accuracy: 0.8696\n"
     ]
    },
    {
     "name": "stderr",
     "output_type": "stream",
     "text": [
      "\r",
      "4it [00:35,  8.94s/it]"
     ]
    },
    {
     "name": "stdout",
     "output_type": "stream",
     "text": [
      "Epoch 1/10\n",
      "3/3 [==============================] - 0s 72ms/step - loss: 1.5623 - sparse_categorical_accuracy: 0.6087\n",
      "Epoch 2/10\n",
      "3/3 [==============================] - 0s 79ms/step - loss: 1.0930 - sparse_categorical_accuracy: 0.8261\n",
      "Epoch 3/10\n",
      "3/3 [==============================] - 0s 78ms/step - loss: 1.2290 - sparse_categorical_accuracy: 0.7826\n",
      "Epoch 4/10\n",
      "3/3 [==============================] - 0s 87ms/step - loss: 1.0050 - sparse_categorical_accuracy: 1.0000\n",
      "Epoch 5/10\n",
      "3/3 [==============================] - 0s 79ms/step - loss: 1.5683 - sparse_categorical_accuracy: 0.8261\n",
      "Epoch 6/10\n",
      "3/3 [==============================] - 0s 84ms/step - loss: 0.8823 - sparse_categorical_accuracy: 0.9565\n",
      "Epoch 7/10\n",
      "3/3 [==============================] - 0s 82ms/step - loss: 0.8930 - sparse_categorical_accuracy: 0.9130\n",
      "Epoch 8/10\n",
      "3/3 [==============================] - 0s 79ms/step - loss: 0.7815 - sparse_categorical_accuracy: 0.9130\n",
      "Epoch 9/10\n",
      "3/3 [==============================] - 0s 86ms/step - loss: 0.6722 - sparse_categorical_accuracy: 0.9565\n",
      "Epoch 10/10\n",
      "3/3 [==============================] - 0s 78ms/step - loss: 0.7474 - sparse_categorical_accuracy: 0.8696\n"
     ]
    },
    {
     "name": "stderr",
     "output_type": "stream",
     "text": [
      "\r",
      "5it [00:44,  8.87s/it]"
     ]
    },
    {
     "name": "stdout",
     "output_type": "stream",
     "text": [
      "Epoch 1/10\n",
      "3/3 [==============================] - 0s 81ms/step - loss: 1.3041 - sparse_categorical_accuracy: 0.5652\n",
      "Epoch 2/10\n",
      "3/3 [==============================] - 0s 88ms/step - loss: 1.0527 - sparse_categorical_accuracy: 0.7826\n",
      "Epoch 3/10\n",
      "3/3 [==============================] - 0s 96ms/step - loss: 1.0945 - sparse_categorical_accuracy: 0.8696\n",
      "Epoch 4/10\n",
      "3/3 [==============================] - 0s 83ms/step - loss: 1.0117 - sparse_categorical_accuracy: 0.9565\n",
      "Epoch 5/10\n",
      "3/3 [==============================] - 0s 83ms/step - loss: 1.1012 - sparse_categorical_accuracy: 0.8696\n",
      "Epoch 6/10\n",
      "3/3 [==============================] - 0s 92ms/step - loss: 0.9195 - sparse_categorical_accuracy: 0.9565\n",
      "Epoch 7/10\n",
      "3/3 [==============================] - 0s 84ms/step - loss: 0.7810 - sparse_categorical_accuracy: 1.0000\n",
      "Epoch 8/10\n",
      "3/3 [==============================] - 0s 78ms/step - loss: 0.6702 - sparse_categorical_accuracy: 1.0000\n",
      "Epoch 9/10\n",
      "3/3 [==============================] - 0s 87ms/step - loss: 0.7888 - sparse_categorical_accuracy: 0.9130\n",
      "Epoch 10/10\n",
      "3/3 [==============================] - 0s 78ms/step - loss: 0.8222 - sparse_categorical_accuracy: 0.8261\n"
     ]
    },
    {
     "name": "stderr",
     "output_type": "stream",
     "text": [
      "\r",
      "6it [00:53,  9.07s/it]"
     ]
    },
    {
     "name": "stdout",
     "output_type": "stream",
     "text": [
      "Epoch 1/10\n",
      "3/3 [==============================] - 0s 81ms/step - loss: 1.3321 - sparse_categorical_accuracy: 0.6522\n",
      "Epoch 2/10\n",
      "3/3 [==============================] - 0s 78ms/step - loss: 1.0610 - sparse_categorical_accuracy: 0.8696\n",
      "Epoch 3/10\n",
      "3/3 [==============================] - 0s 78ms/step - loss: 1.0590 - sparse_categorical_accuracy: 0.8261\n",
      "Epoch 4/10\n",
      "3/3 [==============================] - 0s 78ms/step - loss: 1.0271 - sparse_categorical_accuracy: 0.9130\n",
      "Epoch 5/10\n",
      "3/3 [==============================] - 0s 78ms/step - loss: 1.3533 - sparse_categorical_accuracy: 0.8261\n",
      "Epoch 6/10\n",
      "3/3 [==============================] - 0s 71ms/step - loss: 0.8882 - sparse_categorical_accuracy: 0.9130\n",
      "Epoch 7/10\n",
      "3/3 [==============================] - 0s 78ms/step - loss: 0.6826 - sparse_categorical_accuracy: 1.0000\n",
      "Epoch 8/10\n",
      "3/3 [==============================] - 0s 78ms/step - loss: 0.6069 - sparse_categorical_accuracy: 1.0000\n",
      "Epoch 9/10\n",
      "3/3 [==============================] - 0s 72ms/step - loss: 0.5856 - sparse_categorical_accuracy: 1.0000\n",
      "Epoch 10/10\n",
      "3/3 [==============================] - 0s 78ms/step - loss: 0.5032 - sparse_categorical_accuracy: 1.0000\n"
     ]
    },
    {
     "name": "stderr",
     "output_type": "stream",
     "text": [
      "\r",
      "7it [01:03,  9.16s/it]"
     ]
    },
    {
     "name": "stdout",
     "output_type": "stream",
     "text": [
      "Epoch 1/10\n",
      "3/3 [==============================] - 0s 80ms/step - loss: 1.3795 - sparse_categorical_accuracy: 0.5217\n",
      "Epoch 2/10\n",
      "3/3 [==============================] - 0s 78ms/step - loss: 1.2704 - sparse_categorical_accuracy: 0.7391\n",
      "Epoch 3/10\n",
      "3/3 [==============================] - 0s 78ms/step - loss: 1.4534 - sparse_categorical_accuracy: 0.6522\n",
      "Epoch 4/10\n",
      "3/3 [==============================] - 0s 83ms/step - loss: 1.0444 - sparse_categorical_accuracy: 0.9565\n",
      "Epoch 5/10\n",
      "3/3 [==============================] - 0s 78ms/step - loss: 1.3273 - sparse_categorical_accuracy: 0.7826\n",
      "Epoch 6/10\n",
      "3/3 [==============================] - 0s 72ms/step - loss: 0.9599 - sparse_categorical_accuracy: 0.9130\n",
      "Epoch 7/10\n",
      "3/3 [==============================] - 0s 78ms/step - loss: 0.7529 - sparse_categorical_accuracy: 0.9565\n",
      "Epoch 8/10\n",
      "3/3 [==============================] - 0s 78ms/step - loss: 0.6600 - sparse_categorical_accuracy: 1.0000\n",
      "Epoch 9/10\n",
      "3/3 [==============================] - 0s 77ms/step - loss: 0.6748 - sparse_categorical_accuracy: 0.9130\n",
      "Epoch 10/10\n",
      "3/3 [==============================] - 0s 78ms/step - loss: 0.8375 - sparse_categorical_accuracy: 0.8696\n"
     ]
    },
    {
     "name": "stderr",
     "output_type": "stream",
     "text": [
      "\r",
      "8it [01:12,  9.13s/it]"
     ]
    },
    {
     "name": "stdout",
     "output_type": "stream",
     "text": [
      "Epoch 1/10\n",
      "3/3 [==============================] - 0s 89ms/step - loss: 1.3280 - sparse_categorical_accuracy: 0.5652\n",
      "Epoch 2/10\n",
      "3/3 [==============================] - 0s 77ms/step - loss: 1.1184 - sparse_categorical_accuracy: 0.6957\n",
      "Epoch 3/10\n",
      "3/3 [==============================] - 0s 94ms/step - loss: 1.5328 - sparse_categorical_accuracy: 0.6522\n",
      "Epoch 4/10\n",
      "3/3 [==============================] - 0s 86ms/step - loss: 1.1712 - sparse_categorical_accuracy: 0.8261\n",
      "Epoch 5/10\n",
      "3/3 [==============================] - 0s 82ms/step - loss: 1.0409 - sparse_categorical_accuracy: 1.0000\n",
      "Epoch 6/10\n",
      "3/3 [==============================] - 0s 79ms/step - loss: 1.1075 - sparse_categorical_accuracy: 0.7826\n",
      "Epoch 7/10\n",
      "3/3 [==============================] - 0s 74ms/step - loss: 0.9162 - sparse_categorical_accuracy: 0.9130\n",
      "Epoch 8/10\n",
      "3/3 [==============================] - 0s 78ms/step - loss: 0.8295 - sparse_categorical_accuracy: 0.9130\n",
      "Epoch 9/10\n",
      "3/3 [==============================] - 0s 86ms/step - loss: 0.6472 - sparse_categorical_accuracy: 0.9565\n",
      "Epoch 10/10\n",
      "3/3 [==============================] - 0s 90ms/step - loss: 1.1204 - sparse_categorical_accuracy: 0.7826\n"
     ]
    },
    {
     "name": "stderr",
     "output_type": "stream",
     "text": [
      "\r",
      "9it [01:21,  9.31s/it]"
     ]
    },
    {
     "name": "stdout",
     "output_type": "stream",
     "text": [
      "Epoch 1/10\n",
      "3/3 [==============================] - 0s 70ms/step - loss: 1.3320 - sparse_categorical_accuracy: 0.6087\n",
      "Epoch 2/10\n",
      "3/3 [==============================] - 0s 80ms/step - loss: 1.1549 - sparse_categorical_accuracy: 0.6522\n",
      "Epoch 3/10\n",
      "3/3 [==============================] - 0s 83ms/step - loss: 1.4103 - sparse_categorical_accuracy: 0.6957\n",
      "Epoch 4/10\n",
      "3/3 [==============================] - 0s 90ms/step - loss: 0.9791 - sparse_categorical_accuracy: 1.0000\n",
      "Epoch 5/10\n",
      "3/3 [==============================] - 0s 76ms/step - loss: 1.2293 - sparse_categorical_accuracy: 0.7391\n",
      "Epoch 6/10\n",
      "3/3 [==============================] - 0s 83ms/step - loss: 0.9314 - sparse_categorical_accuracy: 0.9130\n",
      "Epoch 7/10\n",
      "3/3 [==============================] - 0s 86ms/step - loss: 0.9739 - sparse_categorical_accuracy: 0.9130\n",
      "Epoch 8/10\n",
      "3/3 [==============================] - 0s 83ms/step - loss: 0.7254 - sparse_categorical_accuracy: 0.9130\n",
      "Epoch 9/10\n",
      "3/3 [==============================] - 0s 78ms/step - loss: 0.8123 - sparse_categorical_accuracy: 0.9130\n",
      "Epoch 10/10\n",
      "3/3 [==============================] - 0s 80ms/step - loss: 1.2661 - sparse_categorical_accuracy: 0.8261\n"
     ]
    },
    {
     "name": "stderr",
     "output_type": "stream",
     "text": [
      "\r",
      "10it [01:31,  9.28s/it]"
     ]
    },
    {
     "name": "stdout",
     "output_type": "stream",
     "text": [
      "Epoch 1/10\n",
      "3/3 [==============================] - 0s 78ms/step - loss: 1.1129 - sparse_categorical_accuracy: 0.7391\n",
      "Epoch 2/10\n",
      "3/3 [==============================] - 0s 78ms/step - loss: 1.0426 - sparse_categorical_accuracy: 0.7391\n",
      "Epoch 3/10\n",
      "3/3 [==============================] - 0s 74ms/step - loss: 0.8847 - sparse_categorical_accuracy: 0.9130\n",
      "Epoch 4/10\n",
      "3/3 [==============================] - 0s 78ms/step - loss: 0.8209 - sparse_categorical_accuracy: 1.0000\n",
      "Epoch 5/10\n",
      "3/3 [==============================] - 0s 78ms/step - loss: 0.8288 - sparse_categorical_accuracy: 0.9130\n",
      "Epoch 6/10\n",
      "3/3 [==============================] - 0s 73ms/step - loss: 0.8227 - sparse_categorical_accuracy: 0.9130\n",
      "Epoch 7/10\n",
      "3/3 [==============================] - 0s 83ms/step - loss: 0.8889 - sparse_categorical_accuracy: 0.8696\n",
      "Epoch 8/10\n",
      "3/3 [==============================] - 0s 83ms/step - loss: 0.5666 - sparse_categorical_accuracy: 1.0000\n",
      "Epoch 9/10\n",
      "3/3 [==============================] - 0s 90ms/step - loss: 0.5276 - sparse_categorical_accuracy: 1.0000\n",
      "Epoch 10/10\n",
      "3/3 [==============================] - 0s 83ms/step - loss: 0.7754 - sparse_categorical_accuracy: 0.9565\n"
     ]
    },
    {
     "name": "stderr",
     "output_type": "stream",
     "text": [
      "\r",
      "11it [01:40,  9.25s/it]"
     ]
    },
    {
     "name": "stdout",
     "output_type": "stream",
     "text": [
      "Epoch 1/10\n",
      "3/3 [==============================] - 0s 79ms/step - loss: 1.1636 - sparse_categorical_accuracy: 0.6522\n",
      "Epoch 2/10\n",
      "3/3 [==============================] - 0s 73ms/step - loss: 0.7935 - sparse_categorical_accuracy: 0.9130\n",
      "Epoch 3/10\n",
      "3/3 [==============================] - 0s 78ms/step - loss: 0.9092 - sparse_categorical_accuracy: 0.9130\n",
      "Epoch 4/10\n",
      "3/3 [==============================] - 0s 78ms/step - loss: 0.9244 - sparse_categorical_accuracy: 0.9565\n",
      "Epoch 5/10\n",
      "3/3 [==============================] - 0s 78ms/step - loss: 0.8320 - sparse_categorical_accuracy: 0.9130\n",
      "Epoch 6/10\n",
      "3/3 [==============================] - 0s 80ms/step - loss: 0.7852 - sparse_categorical_accuracy: 0.9565\n",
      "Epoch 7/10\n",
      "3/3 [==============================] - 0s 78ms/step - loss: 0.5861 - sparse_categorical_accuracy: 1.0000\n",
      "Epoch 8/10\n",
      "3/3 [==============================] - 0s 78ms/step - loss: 1.0295 - sparse_categorical_accuracy: 0.8696\n",
      "Epoch 9/10\n",
      "3/3 [==============================] - 0s 78ms/step - loss: 0.5409 - sparse_categorical_accuracy: 0.9565\n",
      "Epoch 10/10\n",
      "3/3 [==============================] - 0s 73ms/step - loss: 0.4879 - sparse_categorical_accuracy: 1.0000\n"
     ]
    },
    {
     "name": "stderr",
     "output_type": "stream",
     "text": [
      "\r",
      "12it [01:49,  9.15s/it]"
     ]
    },
    {
     "name": "stdout",
     "output_type": "stream",
     "text": [
      "Epoch 1/10\n",
      "3/3 [==============================] - 0s 76ms/step - loss: 1.3782 - sparse_categorical_accuracy: 0.5217\n",
      "Epoch 2/10\n",
      "3/3 [==============================] - 0s 95ms/step - loss: 1.0555 - sparse_categorical_accuracy: 0.7391\n",
      "Epoch 3/10\n",
      "3/3 [==============================] - 0s 78ms/step - loss: 1.0549 - sparse_categorical_accuracy: 0.8696\n",
      "Epoch 4/10\n",
      "3/3 [==============================] - 0s 78ms/step - loss: 1.1722 - sparse_categorical_accuracy: 0.7391\n",
      "Epoch 5/10\n",
      "3/3 [==============================] - 0s 73ms/step - loss: 1.0148 - sparse_categorical_accuracy: 0.9130\n",
      "Epoch 6/10\n",
      "3/3 [==============================] - 0s 78ms/step - loss: 1.2245 - sparse_categorical_accuracy: 0.8261\n",
      "Epoch 7/10\n",
      "3/3 [==============================] - 0s 68ms/step - loss: 0.7971 - sparse_categorical_accuracy: 1.0000\n",
      "Epoch 8/10\n",
      "3/3 [==============================] - 0s 78ms/step - loss: 0.8883 - sparse_categorical_accuracy: 0.8696\n",
      "Epoch 9/10\n",
      "3/3 [==============================] - 0s 78ms/step - loss: 0.8336 - sparse_categorical_accuracy: 0.8261\n",
      "Epoch 10/10\n",
      "3/3 [==============================] - 0s 67ms/step - loss: 0.8949 - sparse_categorical_accuracy: 0.8696\n"
     ]
    },
    {
     "name": "stderr",
     "output_type": "stream",
     "text": [
      "\r",
      "13it [01:57,  8.95s/it]"
     ]
    },
    {
     "name": "stdout",
     "output_type": "stream",
     "text": [
      "Epoch 1/10\n",
      "3/3 [==============================] - 0s 77ms/step - loss: 1.3809 - sparse_categorical_accuracy: 0.5652\n",
      "Epoch 2/10\n",
      "3/3 [==============================] - 0s 73ms/step - loss: 1.1605 - sparse_categorical_accuracy: 0.8261\n",
      "Epoch 3/10\n",
      "3/3 [==============================] - 0s 78ms/step - loss: 1.1198 - sparse_categorical_accuracy: 0.8261\n",
      "Epoch 4/10\n",
      "3/3 [==============================] - 0s 78ms/step - loss: 1.2252 - sparse_categorical_accuracy: 0.7826\n",
      "Epoch 5/10\n",
      "3/3 [==============================] - 0s 84ms/step - loss: 1.1947 - sparse_categorical_accuracy: 0.8261\n",
      "Epoch 6/10\n",
      "3/3 [==============================] - 0s 72ms/step - loss: 1.1371 - sparse_categorical_accuracy: 0.8261\n",
      "Epoch 7/10\n",
      "3/3 [==============================] - 0s 80ms/step - loss: 1.1805 - sparse_categorical_accuracy: 0.6957\n",
      "Epoch 8/10\n",
      "3/3 [==============================] - 0s 78ms/step - loss: 0.8585 - sparse_categorical_accuracy: 0.8696\n",
      "Epoch 9/10\n",
      "3/3 [==============================] - 0s 77ms/step - loss: 0.6818 - sparse_categorical_accuracy: 1.0000\n",
      "Epoch 10/10\n",
      "3/3 [==============================] - 0s 73ms/step - loss: 0.6385 - sparse_categorical_accuracy: 0.9565\n"
     ]
    },
    {
     "name": "stderr",
     "output_type": "stream",
     "text": [
      "\r",
      "14it [02:06,  8.79s/it]"
     ]
    },
    {
     "name": "stdout",
     "output_type": "stream",
     "text": [
      "Epoch 1/10\n",
      "3/3 [==============================] - 0s 79ms/step - loss: 1.0990 - sparse_categorical_accuracy: 0.7391\n",
      "Epoch 2/10\n",
      "3/3 [==============================] - 0s 83ms/step - loss: 0.8995 - sparse_categorical_accuracy: 0.9130\n",
      "Epoch 3/10\n",
      "3/3 [==============================] - 0s 83ms/step - loss: 0.7806 - sparse_categorical_accuracy: 1.0000\n",
      "Epoch 4/10\n",
      "3/3 [==============================] - 0s 79ms/step - loss: 0.8625 - sparse_categorical_accuracy: 0.9130\n",
      "Epoch 5/10\n",
      "3/3 [==============================] - 0s 76ms/step - loss: 1.2116 - sparse_categorical_accuracy: 0.7826\n",
      "Epoch 6/10\n",
      "3/3 [==============================] - 0s 72ms/step - loss: 0.8868 - sparse_categorical_accuracy: 0.8696\n",
      "Epoch 7/10\n",
      "3/3 [==============================] - 0s 82ms/step - loss: 0.9352 - sparse_categorical_accuracy: 0.9130\n",
      "Epoch 8/10\n",
      "3/3 [==============================] - 0s 91ms/step - loss: 0.7293 - sparse_categorical_accuracy: 0.8696\n",
      "Epoch 9/10\n",
      "3/3 [==============================] - 0s 78ms/step - loss: 1.1446 - sparse_categorical_accuracy: 0.7826\n",
      "Epoch 10/10\n",
      "3/3 [==============================] - 0s 78ms/step - loss: 0.5217 - sparse_categorical_accuracy: 1.0000\n"
     ]
    },
    {
     "name": "stderr",
     "output_type": "stream",
     "text": [
      "\r",
      "15it [02:15,  8.89s/it]"
     ]
    },
    {
     "name": "stdout",
     "output_type": "stream",
     "text": [
      "Epoch 1/10\n",
      "3/3 [==============================] - 0s 98ms/step - loss: 1.4002 - sparse_categorical_accuracy: 0.5217\n",
      "Epoch 2/10\n",
      "3/3 [==============================] - 0s 82ms/step - loss: 0.9772 - sparse_categorical_accuracy: 0.6957\n",
      "Epoch 3/10\n",
      "3/3 [==============================] - 0s 88ms/step - loss: 0.9387 - sparse_categorical_accuracy: 0.9565\n",
      "Epoch 4/10\n",
      "3/3 [==============================] - 0s 88ms/step - loss: 0.9223 - sparse_categorical_accuracy: 0.9130\n",
      "Epoch 5/10\n",
      "3/3 [==============================] - 0s 80ms/step - loss: 0.9344 - sparse_categorical_accuracy: 0.9130\n",
      "Epoch 6/10\n",
      "3/3 [==============================] - 0s 79ms/step - loss: 0.8243 - sparse_categorical_accuracy: 0.9565\n",
      "Epoch 7/10\n",
      "3/3 [==============================] - 0s 83ms/step - loss: 0.7344 - sparse_categorical_accuracy: 1.0000\n",
      "Epoch 8/10\n",
      "3/3 [==============================] - 0s 83ms/step - loss: 0.6297 - sparse_categorical_accuracy: 1.0000\n",
      "Epoch 9/10\n",
      "3/3 [==============================] - 0s 88ms/step - loss: 0.9467 - sparse_categorical_accuracy: 0.8696\n",
      "Epoch 10/10\n",
      "3/3 [==============================] - 0s 94ms/step - loss: 0.5843 - sparse_categorical_accuracy: 0.9565\n"
     ]
    },
    {
     "name": "stderr",
     "output_type": "stream",
     "text": [
      "\r",
      "16it [02:24,  8.99s/it]"
     ]
    },
    {
     "name": "stdout",
     "output_type": "stream",
     "text": [
      "Epoch 1/10\n",
      "3/3 [==============================] - 0s 78ms/step - loss: 1.2150 - sparse_categorical_accuracy: 0.6522\n",
      "Epoch 2/10\n",
      "3/3 [==============================] - 0s 77ms/step - loss: 1.1307 - sparse_categorical_accuracy: 0.7826\n",
      "Epoch 3/10\n",
      "3/3 [==============================] - 0s 78ms/step - loss: 1.0497 - sparse_categorical_accuracy: 0.9130\n",
      "Epoch 4/10\n",
      "3/3 [==============================] - 0s 83ms/step - loss: 1.2049 - sparse_categorical_accuracy: 0.7826\n",
      "Epoch 5/10\n",
      "3/3 [==============================] - 0s 78ms/step - loss: 1.0774 - sparse_categorical_accuracy: 0.8696\n",
      "Epoch 6/10\n",
      "3/3 [==============================] - 0s 83ms/step - loss: 1.0997 - sparse_categorical_accuracy: 0.8696\n",
      "Epoch 7/10\n",
      "3/3 [==============================] - 0s 73ms/step - loss: 0.6776 - sparse_categorical_accuracy: 1.0000\n",
      "Epoch 8/10\n",
      "3/3 [==============================] - 0s 83ms/step - loss: 0.8434 - sparse_categorical_accuracy: 0.8261\n",
      "Epoch 9/10\n",
      "3/3 [==============================] - 0s 84ms/step - loss: 0.6143 - sparse_categorical_accuracy: 0.9130\n",
      "Epoch 10/10\n",
      "3/3 [==============================] - 0s 80ms/step - loss: 0.7436 - sparse_categorical_accuracy: 0.8261\n"
     ]
    },
    {
     "name": "stderr",
     "output_type": "stream",
     "text": [
      "\r",
      "17it [02:33,  9.09s/it]"
     ]
    },
    {
     "name": "stdout",
     "output_type": "stream",
     "text": [
      "Epoch 1/10\n",
      "3/3 [==============================] - 0s 71ms/step - loss: 1.3560 - sparse_categorical_accuracy: 0.5217\n",
      "Epoch 2/10\n",
      "3/3 [==============================] - 0s 78ms/step - loss: 0.9375 - sparse_categorical_accuracy: 0.7826\n",
      "Epoch 3/10\n",
      "3/3 [==============================] - 0s 78ms/step - loss: 0.8060 - sparse_categorical_accuracy: 0.9565\n",
      "Epoch 4/10\n",
      "3/3 [==============================] - 0s 79ms/step - loss: 1.0444 - sparse_categorical_accuracy: 0.8696\n",
      "Epoch 5/10\n",
      "3/3 [==============================] - 0s 78ms/step - loss: 0.7915 - sparse_categorical_accuracy: 1.0000\n",
      "Epoch 6/10\n",
      "3/3 [==============================] - 0s 78ms/step - loss: 0.7989 - sparse_categorical_accuracy: 0.9130\n",
      "Epoch 7/10\n",
      "3/3 [==============================] - 0s 84ms/step - loss: 0.7673 - sparse_categorical_accuracy: 0.8261\n",
      "Epoch 8/10\n",
      "3/3 [==============================] - 0s 78ms/step - loss: 0.6167 - sparse_categorical_accuracy: 0.9565\n",
      "Epoch 9/10\n",
      "3/3 [==============================] - 0s 78ms/step - loss: 0.5724 - sparse_categorical_accuracy: 0.9565\n",
      "Epoch 10/10\n",
      "3/3 [==============================] - 0s 78ms/step - loss: 0.4885 - sparse_categorical_accuracy: 1.0000\n"
     ]
    },
    {
     "name": "stderr",
     "output_type": "stream",
     "text": [
      "\r",
      "18it [02:42,  9.12s/it]"
     ]
    },
    {
     "name": "stdout",
     "output_type": "stream",
     "text": [
      "Epoch 1/10\n",
      "3/3 [==============================] - 0s 80ms/step - loss: 1.2412 - sparse_categorical_accuracy: 0.6087\n",
      "Epoch 2/10\n",
      "3/3 [==============================] - 0s 78ms/step - loss: 0.9707 - sparse_categorical_accuracy: 0.8696\n",
      "Epoch 3/10\n",
      "3/3 [==============================] - 0s 78ms/step - loss: 1.0480 - sparse_categorical_accuracy: 0.8261\n",
      "Epoch 4/10\n",
      "3/3 [==============================] - 0s 83ms/step - loss: 0.9129 - sparse_categorical_accuracy: 0.9130\n",
      "Epoch 5/10\n",
      "3/3 [==============================] - 0s 74ms/step - loss: 1.0184 - sparse_categorical_accuracy: 0.8696\n",
      "Epoch 6/10\n",
      "3/3 [==============================] - 0s 78ms/step - loss: 0.7026 - sparse_categorical_accuracy: 0.9565\n",
      "Epoch 7/10\n",
      "3/3 [==============================] - 0s 83ms/step - loss: 0.7256 - sparse_categorical_accuracy: 0.9130\n",
      "Epoch 8/10\n",
      "3/3 [==============================] - 0s 89ms/step - loss: 0.7061 - sparse_categorical_accuracy: 0.9130\n",
      "Epoch 9/10\n",
      "3/3 [==============================] - 0s 78ms/step - loss: 0.5045 - sparse_categorical_accuracy: 1.0000\n",
      "Epoch 10/10\n",
      "3/3 [==============================] - 0s 78ms/step - loss: 0.6533 - sparse_categorical_accuracy: 0.9130\n"
     ]
    },
    {
     "name": "stderr",
     "output_type": "stream",
     "text": [
      "\r",
      "19it [02:52,  9.26s/it]"
     ]
    },
    {
     "name": "stdout",
     "output_type": "stream",
     "text": [
      "Epoch 1/10\n",
      "3/3 [==============================] - 0s 77ms/step - loss: 1.3494 - sparse_categorical_accuracy: 0.6087\n",
      "Epoch 2/10\n",
      "3/3 [==============================] - 0s 85ms/step - loss: 0.9987 - sparse_categorical_accuracy: 0.8261\n",
      "Epoch 3/10\n",
      "3/3 [==============================] - 0s 78ms/step - loss: 0.9239 - sparse_categorical_accuracy: 1.0000\n",
      "Epoch 4/10\n",
      "3/3 [==============================] - 0s 78ms/step - loss: 1.1309 - sparse_categorical_accuracy: 0.9130\n",
      "Epoch 5/10\n",
      "3/3 [==============================] - 0s 78ms/step - loss: 1.0922 - sparse_categorical_accuracy: 0.9565\n",
      "Epoch 6/10\n",
      "3/3 [==============================] - 0s 78ms/step - loss: 1.2911 - sparse_categorical_accuracy: 0.8696\n",
      "Epoch 7/10\n",
      "3/3 [==============================] - 0s 70ms/step - loss: 0.7138 - sparse_categorical_accuracy: 1.0000\n",
      "Epoch 8/10\n",
      "3/3 [==============================] - 0s 78ms/step - loss: 0.7213 - sparse_categorical_accuracy: 0.8696\n",
      "Epoch 9/10\n",
      "3/3 [==============================] - 0s 78ms/step - loss: 0.7669 - sparse_categorical_accuracy: 0.9130\n",
      "Epoch 10/10\n",
      "3/3 [==============================] - 0s 71ms/step - loss: 0.8727 - sparse_categorical_accuracy: 0.8696\n"
     ]
    },
    {
     "name": "stderr",
     "output_type": "stream",
     "text": [
      "\r",
      "20it [03:01,  9.25s/it]"
     ]
    },
    {
     "name": "stdout",
     "output_type": "stream",
     "text": [
      "Epoch 1/10\n",
      "3/3 [==============================] - 0s 78ms/step - loss: 1.3861 - sparse_categorical_accuracy: 0.6087\n",
      "Epoch 2/10\n",
      "3/3 [==============================] - 0s 78ms/step - loss: 1.0130 - sparse_categorical_accuracy: 0.8696\n",
      "Epoch 3/10\n",
      "3/3 [==============================] - 0s 78ms/step - loss: 0.9494 - sparse_categorical_accuracy: 0.9130\n",
      "Epoch 4/10\n",
      "3/3 [==============================] - 0s 71ms/step - loss: 0.8164 - sparse_categorical_accuracy: 0.9565\n",
      "Epoch 5/10\n",
      "3/3 [==============================] - 0s 78ms/step - loss: 0.8964 - sparse_categorical_accuracy: 0.9565\n",
      "Epoch 6/10\n",
      "3/3 [==============================] - 0s 83ms/step - loss: 0.7364 - sparse_categorical_accuracy: 0.9565\n",
      "Epoch 7/10\n",
      "3/3 [==============================] - 0s 85ms/step - loss: 0.6606 - sparse_categorical_accuracy: 0.9565\n",
      "Epoch 8/10\n",
      "3/3 [==============================] - 0s 83ms/step - loss: 0.5921 - sparse_categorical_accuracy: 0.9565\n",
      "Epoch 9/10\n",
      "3/3 [==============================] - 0s 78ms/step - loss: 0.7625 - sparse_categorical_accuracy: 0.9130\n",
      "Epoch 10/10\n",
      "3/3 [==============================] - 0s 78ms/step - loss: 0.6043 - sparse_categorical_accuracy: 0.9565\n"
     ]
    },
    {
     "name": "stderr",
     "output_type": "stream",
     "text": [
      "\r",
      "21it [03:10,  9.22s/it]"
     ]
    },
    {
     "name": "stdout",
     "output_type": "stream",
     "text": [
      "Epoch 1/10\n",
      "3/3 [==============================] - 0s 80ms/step - loss: 1.1722 - sparse_categorical_accuracy: 0.6522\n",
      "Epoch 2/10\n",
      "3/3 [==============================] - 0s 77ms/step - loss: 0.9598 - sparse_categorical_accuracy: 0.8261\n",
      "Epoch 3/10\n",
      "3/3 [==============================] - 0s 78ms/step - loss: 1.0128 - sparse_categorical_accuracy: 0.9130\n",
      "Epoch 4/10\n",
      "3/3 [==============================] - 0s 83ms/step - loss: 1.0853 - sparse_categorical_accuracy: 0.8696\n",
      "Epoch 5/10\n",
      "3/3 [==============================] - 0s 90ms/step - loss: 0.9600 - sparse_categorical_accuracy: 0.9130\n",
      "Epoch 6/10\n",
      "3/3 [==============================] - 0s 83ms/step - loss: 0.8688 - sparse_categorical_accuracy: 0.9565\n",
      "Epoch 7/10\n",
      "3/3 [==============================] - 0s 74ms/step - loss: 0.8587 - sparse_categorical_accuracy: 0.9130\n",
      "Epoch 8/10\n",
      "3/3 [==============================] - 0s 78ms/step - loss: 0.7705 - sparse_categorical_accuracy: 0.9565\n",
      "Epoch 9/10\n",
      "3/3 [==============================] - 0s 78ms/step - loss: 0.8560 - sparse_categorical_accuracy: 0.8696\n",
      "Epoch 10/10\n",
      "3/3 [==============================] - 0s 75ms/step - loss: 0.6760 - sparse_categorical_accuracy: 0.9130\n"
     ]
    },
    {
     "name": "stderr",
     "output_type": "stream",
     "text": [
      "\r",
      "22it [03:20,  9.41s/it]"
     ]
    },
    {
     "name": "stdout",
     "output_type": "stream",
     "text": [
      "Epoch 1/10\n",
      "3/3 [==============================] - 0s 71ms/step - loss: 1.2900 - sparse_categorical_accuracy: 0.5652\n",
      "Epoch 2/10\n",
      "3/3 [==============================] - 0s 78ms/step - loss: 0.9644 - sparse_categorical_accuracy: 0.8261\n",
      "Epoch 3/10\n",
      "3/3 [==============================] - 0s 78ms/step - loss: 1.2058 - sparse_categorical_accuracy: 0.8696\n",
      "Epoch 4/10\n",
      "3/3 [==============================] - 0s 85ms/step - loss: 1.0521 - sparse_categorical_accuracy: 0.9130\n",
      "Epoch 5/10\n",
      "3/3 [==============================] - 0s 72ms/step - loss: 0.9548 - sparse_categorical_accuracy: 0.7826\n",
      "Epoch 6/10\n",
      "3/3 [==============================] - 0s 88ms/step - loss: 1.0479 - sparse_categorical_accuracy: 0.8696\n",
      "Epoch 7/10\n",
      "3/3 [==============================] - 0s 87ms/step - loss: 0.9968 - sparse_categorical_accuracy: 0.8696\n",
      "Epoch 8/10\n",
      "3/3 [==============================] - 0s 82ms/step - loss: 0.8379 - sparse_categorical_accuracy: 0.9130\n",
      "Epoch 9/10\n",
      "3/3 [==============================] - 0s 78ms/step - loss: 0.6609 - sparse_categorical_accuracy: 0.9565\n",
      "Epoch 10/10\n",
      "3/3 [==============================] - 0s 88ms/step - loss: 0.9122 - sparse_categorical_accuracy: 0.8696\n"
     ]
    },
    {
     "name": "stderr",
     "output_type": "stream",
     "text": [
      "\r",
      "23it [03:30,  9.41s/it]"
     ]
    },
    {
     "name": "stdout",
     "output_type": "stream",
     "text": [
      "Epoch 1/10\n",
      "3/3 [==============================] - 0s 81ms/step - loss: 1.2508 - sparse_categorical_accuracy: 0.6087\n",
      "Epoch 2/10\n",
      "3/3 [==============================] - 0s 78ms/step - loss: 1.0868 - sparse_categorical_accuracy: 0.7391\n",
      "Epoch 3/10\n",
      "3/3 [==============================] - 0s 84ms/step - loss: 1.0958 - sparse_categorical_accuracy: 0.7826\n",
      "Epoch 4/10\n",
      "3/3 [==============================] - 0s 78ms/step - loss: 1.0018 - sparse_categorical_accuracy: 0.9565\n",
      "Epoch 5/10\n",
      "3/3 [==============================] - 0s 78ms/step - loss: 0.9401 - sparse_categorical_accuracy: 0.9565\n",
      "Epoch 6/10\n",
      "3/3 [==============================] - 0s 78ms/step - loss: 0.8638 - sparse_categorical_accuracy: 1.0000\n",
      "Epoch 7/10\n",
      "3/3 [==============================] - 0s 83ms/step - loss: 0.7983 - sparse_categorical_accuracy: 1.0000\n",
      "Epoch 8/10\n",
      "3/3 [==============================] - 0s 74ms/step - loss: 0.7610 - sparse_categorical_accuracy: 0.9565\n",
      "Epoch 9/10\n",
      "3/3 [==============================] - 0s 78ms/step - loss: 0.6393 - sparse_categorical_accuracy: 0.9565\n",
      "Epoch 10/10\n",
      "3/3 [==============================] - 0s 83ms/step - loss: 0.5329 - sparse_categorical_accuracy: 1.0000\n"
     ]
    },
    {
     "name": "stderr",
     "output_type": "stream",
     "text": [
      "24it [03:39,  9.14s/it]\n",
      "0it [00:00, ?it/s]"
     ]
    },
    {
     "name": "stdout",
     "output_type": "stream",
     "text": [
      "Epoch 1/10\n",
      "5/5 [==============================] - 0s 90ms/step - loss: 1.3167 - sparse_categorical_accuracy: 0.6216\n",
      "Epoch 2/10\n",
      "5/5 [==============================] - 0s 90ms/step - loss: 1.2381 - sparse_categorical_accuracy: 0.8108\n",
      "Epoch 3/10\n",
      "5/5 [==============================] - 0s 91ms/step - loss: 1.1514 - sparse_categorical_accuracy: 0.9459\n",
      "Epoch 4/10\n",
      "5/5 [==============================] - 0s 94ms/step - loss: 1.0090 - sparse_categorical_accuracy: 0.9189\n",
      "Epoch 5/10\n",
      "5/5 [==============================] - 1s 100ms/step - loss: 0.9894 - sparse_categorical_accuracy: 0.8108\n",
      "Epoch 6/10\n",
      "5/5 [==============================] - 0s 95ms/step - loss: 0.9736 - sparse_categorical_accuracy: 0.8919\n",
      "Epoch 7/10\n",
      "5/5 [==============================] - 0s 97ms/step - loss: 0.7271 - sparse_categorical_accuracy: 0.9189\n",
      "Epoch 8/10\n",
      "5/5 [==============================] - 0s 94ms/step - loss: 0.8202 - sparse_categorical_accuracy: 0.8108\n",
      "Epoch 9/10\n",
      "5/5 [==============================] - 0s 90ms/step - loss: 0.7763 - sparse_categorical_accuracy: 0.8649\n",
      "Epoch 10/10\n",
      "5/5 [==============================] - 0s 94ms/step - loss: 0.7382 - sparse_categorical_accuracy: 0.8649\n"
     ]
    },
    {
     "name": "stderr",
     "output_type": "stream",
     "text": [
      "\r",
      "1it [00:12, 12.07s/it]"
     ]
    },
    {
     "name": "stdout",
     "output_type": "stream",
     "text": [
      "Epoch 1/10\n",
      "5/5 [==============================] - 0s 91ms/step - loss: 1.4667 - sparse_categorical_accuracy: 0.7027\n",
      "Epoch 2/10\n",
      "5/5 [==============================] - 0s 94ms/step - loss: 1.3116 - sparse_categorical_accuracy: 0.8378\n",
      "Epoch 3/10\n",
      "5/5 [==============================] - 0s 96ms/step - loss: 1.0881 - sparse_categorical_accuracy: 0.8378\n",
      "Epoch 4/10\n",
      "5/5 [==============================] - 0s 94ms/step - loss: 1.0164 - sparse_categorical_accuracy: 0.8919\n",
      "Epoch 5/10\n",
      "5/5 [==============================] - 0s 97ms/step - loss: 0.9459 - sparse_categorical_accuracy: 0.8378\n",
      "Epoch 6/10\n",
      "5/5 [==============================] - 0s 97ms/step - loss: 0.7563 - sparse_categorical_accuracy: 0.9189\n",
      "Epoch 7/10\n",
      "5/5 [==============================] - 0s 97ms/step - loss: 0.9190 - sparse_categorical_accuracy: 0.8108\n",
      "Epoch 8/10\n",
      "5/5 [==============================] - 0s 99ms/step - loss: 0.7429 - sparse_categorical_accuracy: 0.8919\n",
      "Epoch 9/10\n",
      "5/5 [==============================] - 1s 105ms/step - loss: 0.9456 - sparse_categorical_accuracy: 0.7838\n",
      "Epoch 10/10\n",
      "5/5 [==============================] - 0s 90ms/step - loss: 0.5160 - sparse_categorical_accuracy: 1.0000\n"
     ]
    },
    {
     "name": "stderr",
     "output_type": "stream",
     "text": [
      "\r",
      "2it [00:23, 11.95s/it]"
     ]
    },
    {
     "name": "stdout",
     "output_type": "stream",
     "text": [
      "Epoch 1/10\n",
      "5/5 [==============================] - 0s 90ms/step - loss: 1.3277 - sparse_categorical_accuracy: 0.6216\n",
      "Epoch 2/10\n",
      "5/5 [==============================] - 0s 87ms/step - loss: 1.4347 - sparse_categorical_accuracy: 0.6757\n",
      "Epoch 3/10\n",
      "5/5 [==============================] - 0s 87ms/step - loss: 1.2846 - sparse_categorical_accuracy: 0.8378\n",
      "Epoch 4/10\n",
      "5/5 [==============================] - 0s 90ms/step - loss: 1.1870 - sparse_categorical_accuracy: 0.8649\n",
      "Epoch 5/10\n",
      "5/5 [==============================] - 0s 90ms/step - loss: 1.0631 - sparse_categorical_accuracy: 0.8649\n",
      "Epoch 6/10\n",
      "5/5 [==============================] - 0s 90ms/step - loss: 0.8836 - sparse_categorical_accuracy: 0.8649\n",
      "Epoch 7/10\n",
      "5/5 [==============================] - 0s 90ms/step - loss: 1.2740 - sparse_categorical_accuracy: 0.8108\n",
      "Epoch 8/10\n",
      "5/5 [==============================] - 0s 89ms/step - loss: 0.6926 - sparse_categorical_accuracy: 0.8919\n",
      "Epoch 9/10\n",
      "5/5 [==============================] - 0s 87ms/step - loss: 1.0429 - sparse_categorical_accuracy: 0.8108\n",
      "Epoch 10/10\n",
      "5/5 [==============================] - 0s 94ms/step - loss: 0.6944 - sparse_categorical_accuracy: 0.8649\n"
     ]
    },
    {
     "name": "stderr",
     "output_type": "stream",
     "text": [
      "\r",
      "3it [00:34, 11.56s/it]"
     ]
    },
    {
     "name": "stdout",
     "output_type": "stream",
     "text": [
      "Epoch 1/10\n",
      "5/5 [==============================] - 0s 84ms/step - loss: 1.0326 - sparse_categorical_accuracy: 0.7297\n",
      "Epoch 2/10\n",
      "5/5 [==============================] - 0s 87ms/step - loss: 1.1735 - sparse_categorical_accuracy: 0.7838\n",
      "Epoch 3/10\n",
      "5/5 [==============================] - 0s 90ms/step - loss: 0.9092 - sparse_categorical_accuracy: 0.8919\n",
      "Epoch 4/10\n",
      "5/5 [==============================] - 0s 87ms/step - loss: 0.7959 - sparse_categorical_accuracy: 0.9189\n",
      "Epoch 5/10\n",
      "5/5 [==============================] - 0s 90ms/step - loss: 0.9332 - sparse_categorical_accuracy: 0.8378\n",
      "Epoch 6/10\n",
      "5/5 [==============================] - 0s 87ms/step - loss: 0.7203 - sparse_categorical_accuracy: 0.9459\n",
      "Epoch 7/10\n",
      "5/5 [==============================] - 0s 100ms/step - loss: 0.5262 - sparse_categorical_accuracy: 0.9730\n",
      "Epoch 8/10\n",
      "5/5 [==============================] - 0s 83ms/step - loss: 0.4768 - sparse_categorical_accuracy: 1.0000\n",
      "Epoch 9/10\n",
      "5/5 [==============================] - 0s 87ms/step - loss: 0.7233 - sparse_categorical_accuracy: 0.8378\n",
      "Epoch 10/10\n",
      "5/5 [==============================] - 0s 91ms/step - loss: 1.0051 - sparse_categorical_accuracy: 0.8108\n"
     ]
    },
    {
     "name": "stderr",
     "output_type": "stream",
     "text": [
      "\r",
      "4it [00:45, 11.33s/it]"
     ]
    },
    {
     "name": "stdout",
     "output_type": "stream",
     "text": [
      "Epoch 1/10\n",
      "5/5 [==============================] - 0s 89ms/step - loss: 1.2224 - sparse_categorical_accuracy: 0.6486\n",
      "Epoch 2/10\n",
      "5/5 [==============================] - 0s 90ms/step - loss: 1.1765 - sparse_categorical_accuracy: 0.7568\n",
      "Epoch 3/10\n",
      "5/5 [==============================] - 0s 94ms/step - loss: 1.0265 - sparse_categorical_accuracy: 0.8919\n",
      "Epoch 4/10\n",
      "5/5 [==============================] - 0s 97ms/step - loss: 0.9665 - sparse_categorical_accuracy: 0.8919\n",
      "Epoch 5/10\n",
      "5/5 [==============================] - 1s 125ms/step - loss: 0.9972 - sparse_categorical_accuracy: 0.8919\n",
      "Epoch 6/10\n",
      "5/5 [==============================] - 1s 100ms/step - loss: 0.7870 - sparse_categorical_accuracy: 0.8378\n",
      "Epoch 7/10\n",
      "5/5 [==============================] - 0s 88ms/step - loss: 0.7222 - sparse_categorical_accuracy: 0.9189\n",
      "Epoch 8/10\n",
      "5/5 [==============================] - 0s 90ms/step - loss: 0.5683 - sparse_categorical_accuracy: 0.8919\n",
      "Epoch 9/10\n",
      "5/5 [==============================] - 0s 88ms/step - loss: 0.5570 - sparse_categorical_accuracy: 0.9189\n",
      "Epoch 10/10\n",
      "5/5 [==============================] - 0s 94ms/step - loss: 0.9933 - sparse_categorical_accuracy: 0.7838\n"
     ]
    },
    {
     "name": "stderr",
     "output_type": "stream",
     "text": [
      "\r",
      "5it [00:57, 11.55s/it]"
     ]
    },
    {
     "name": "stdout",
     "output_type": "stream",
     "text": [
      "Epoch 1/10\n",
      "5/5 [==============================] - 0s 92ms/step - loss: 1.5673 - sparse_categorical_accuracy: 0.5135\n",
      "Epoch 2/10\n",
      "5/5 [==============================] - 0s 95ms/step - loss: 1.1533 - sparse_categorical_accuracy: 0.7838\n",
      "Epoch 3/10\n",
      "5/5 [==============================] - 0s 88ms/step - loss: 1.2836 - sparse_categorical_accuracy: 0.8378\n",
      "Epoch 4/10\n",
      "5/5 [==============================] - 0s 89ms/step - loss: 1.3745 - sparse_categorical_accuracy: 0.7568\n",
      "Epoch 5/10\n",
      "5/5 [==============================] - 0s 87ms/step - loss: 0.8443 - sparse_categorical_accuracy: 0.9189\n",
      "Epoch 6/10\n",
      "5/5 [==============================] - 0s 88ms/step - loss: 0.9203 - sparse_categorical_accuracy: 0.8649\n",
      "Epoch 7/10\n",
      "5/5 [==============================] - 0s 94ms/step - loss: 0.6880 - sparse_categorical_accuracy: 0.9189\n",
      "Epoch 8/10\n",
      "5/5 [==============================] - 0s 89ms/step - loss: 0.6322 - sparse_categorical_accuracy: 0.9189\n",
      "Epoch 9/10\n",
      "5/5 [==============================] - 0s 90ms/step - loss: 0.7903 - sparse_categorical_accuracy: 0.8919\n",
      "Epoch 10/10\n",
      "5/5 [==============================] - 0s 90ms/step - loss: 0.6903 - sparse_categorical_accuracy: 0.8378\n"
     ]
    },
    {
     "name": "stderr",
     "output_type": "stream",
     "text": [
      "\r",
      "6it [01:08, 11.38s/it]"
     ]
    },
    {
     "name": "stdout",
     "output_type": "stream",
     "text": [
      "Epoch 1/10\n",
      "5/5 [==============================] - 1s 101ms/step - loss: 1.2544 - sparse_categorical_accuracy: 0.7027\n",
      "Epoch 2/10\n",
      "5/5 [==============================] - 1s 119ms/step - loss: 1.1070 - sparse_categorical_accuracy: 0.8108\n",
      "Epoch 3/10\n",
      "5/5 [==============================] - 1s 124ms/step - loss: 1.0960 - sparse_categorical_accuracy: 0.8919\n",
      "Epoch 4/10\n",
      "5/5 [==============================] - 0s 86ms/step - loss: 1.0241 - sparse_categorical_accuracy: 0.8649\n",
      "Epoch 5/10\n",
      "5/5 [==============================] - 0s 89ms/step - loss: 1.0492 - sparse_categorical_accuracy: 0.8378\n",
      "Epoch 6/10\n",
      "5/5 [==============================] - 0s 88ms/step - loss: 0.7914 - sparse_categorical_accuracy: 0.9189\n",
      "Epoch 7/10\n",
      "5/5 [==============================] - 0s 90ms/step - loss: 0.8090 - sparse_categorical_accuracy: 0.8919\n",
      "Epoch 8/10\n",
      "5/5 [==============================] - 0s 97ms/step - loss: 0.6090 - sparse_categorical_accuracy: 0.8919\n",
      "Epoch 9/10\n",
      "5/5 [==============================] - 0s 95ms/step - loss: 0.5921 - sparse_categorical_accuracy: 0.8919\n",
      "Epoch 10/10\n",
      "5/5 [==============================] - 0s 88ms/step - loss: 0.7042 - sparse_categorical_accuracy: 0.8378\n"
     ]
    },
    {
     "name": "stderr",
     "output_type": "stream",
     "text": [
      "\r",
      "7it [01:19, 11.36s/it]"
     ]
    },
    {
     "name": "stdout",
     "output_type": "stream",
     "text": [
      "Epoch 1/10\n",
      "5/5 [==============================] - 0s 88ms/step - loss: 1.3498 - sparse_categorical_accuracy: 0.6757\n",
      "Epoch 2/10\n",
      "5/5 [==============================] - 0s 91ms/step - loss: 1.1819 - sparse_categorical_accuracy: 0.7027\n",
      "Epoch 3/10\n",
      "5/5 [==============================] - 0s 94ms/step - loss: 1.2005 - sparse_categorical_accuracy: 0.9189\n",
      "Epoch 4/10\n",
      "5/5 [==============================] - 0s 93ms/step - loss: 1.0028 - sparse_categorical_accuracy: 0.9459\n",
      "Epoch 5/10\n",
      "5/5 [==============================] - 0s 90ms/step - loss: 1.1057 - sparse_categorical_accuracy: 0.8108\n",
      "Epoch 6/10\n",
      "5/5 [==============================] - 0s 89ms/step - loss: 0.9832 - sparse_categorical_accuracy: 0.8649\n",
      "Epoch 7/10\n",
      "5/5 [==============================] - 0s 90ms/step - loss: 0.8262 - sparse_categorical_accuracy: 0.8108\n",
      "Epoch 8/10\n",
      "5/5 [==============================] - 0s 94ms/step - loss: 0.7268 - sparse_categorical_accuracy: 0.8919\n",
      "Epoch 9/10\n",
      "5/5 [==============================] - 0s 86ms/step - loss: 0.9674 - sparse_categorical_accuracy: 0.7568\n",
      "Epoch 10/10\n",
      "5/5 [==============================] - 0s 88ms/step - loss: 0.6434 - sparse_categorical_accuracy: 0.9189\n"
     ]
    },
    {
     "name": "stderr",
     "output_type": "stream",
     "text": [
      "\r",
      "8it [01:30, 11.26s/it]"
     ]
    },
    {
     "name": "stdout",
     "output_type": "stream",
     "text": [
      "Epoch 1/10\n",
      "5/5 [==============================] - 0s 88ms/step - loss: 1.3466 - sparse_categorical_accuracy: 0.6216\n",
      "Epoch 2/10\n",
      "5/5 [==============================] - 0s 90ms/step - loss: 1.3204 - sparse_categorical_accuracy: 0.7297\n",
      "Epoch 3/10\n",
      "5/5 [==============================] - 0s 89ms/step - loss: 1.0846 - sparse_categorical_accuracy: 0.9459\n",
      "Epoch 4/10\n",
      "5/5 [==============================] - 0s 88ms/step - loss: 0.9075 - sparse_categorical_accuracy: 0.9459\n",
      "Epoch 5/10\n",
      "5/5 [==============================] - 0s 93ms/step - loss: 0.8141 - sparse_categorical_accuracy: 0.9459\n",
      "Epoch 6/10\n",
      "5/5 [==============================] - 0s 95ms/step - loss: 0.5536 - sparse_categorical_accuracy: 0.9730\n",
      "Epoch 7/10\n",
      "5/5 [==============================] - 0s 96ms/step - loss: 0.6671 - sparse_categorical_accuracy: 0.9459\n",
      "Epoch 8/10\n",
      "5/5 [==============================] - 0s 90ms/step - loss: 0.7012 - sparse_categorical_accuracy: 0.9189\n",
      "Epoch 9/10\n",
      "5/5 [==============================] - 0s 91ms/step - loss: 0.8316 - sparse_categorical_accuracy: 0.8649\n",
      "Epoch 10/10\n",
      "5/5 [==============================] - 0s 92ms/step - loss: 0.7471 - sparse_categorical_accuracy: 0.8649\n"
     ]
    },
    {
     "name": "stderr",
     "output_type": "stream",
     "text": [
      "\r",
      "9it [01:41, 11.16s/it]"
     ]
    }
   ],
   "source": [
    "run_nr = 1\n",
    "side = [\"LEFT\", \"RIGHT\"]\n",
    "syn_list = ['ADNP', 'ANKRD11', 'CDK13', 'DEAF1', 'DYRK1A', 'EHMT1', 'FBXO11', 'SON', 'WAC', 'YY1', 'KDVS']\n",
    "\n",
    "results_file = open(\"results/pointnet_results_binary_run_split_faces{}.txt\".format(run_nr), \"w\")\n",
    "\n",
    "for syn in syn_list:\n",
    "    data, labels = load_data(syn)\n",
    "    data_left, data_right = split_data(data, left, right)\n",
    "\n",
    "    for s, data in enumerate([data_left, data_right]):\n",
    "        results_file.write(\"Syndrome {} with {} patients and {} controls - {}\\n\".format(syn, labels.tolist().count(1), labels.tolist().count(0), side[s]))\n",
    "        all_y, all_probs, all_preds = [], [], [] \n",
    "\n",
    "        loo = LeaveOneOut()\n",
    "        for train_index, test_index in tqdm(loo.split(data)):\n",
    "            X_train, X_test = np.array(data[train_index]), data[test_index]\n",
    "            y_train, y_test = np.array(labels[train_index]), labels[test_index]\n",
    "\n",
    "            model = generate_model()\n",
    "            model.fit(x=X_train, y=y_train, batch_size=BATCH_SIZE, epochs=10, shuffle=True)\n",
    "\n",
    "            y_pred_array = model.predict(X_test)\n",
    "            y_pred = tf.math.argmax(y_pred_array, -1).numpy()\n",
    "\n",
    "            all_y.append(y_test[0])\n",
    "            all_probs.append(y_pred_array[0][1])\n",
    "            all_preds.append(y_pred) \n",
    "\n",
    "        aroc = roc_auc_score(all_y, all_probs)\n",
    "        tn, fp, fn, tp = confusion_matrix(all_y, all_preds).ravel()\n",
    "        spec = tn / (tn+fp)  \n",
    "        sens = tp / (tp+fn)\n",
    "\n",
    "        results_file.write(\"AROC: {:.4f}, spec: {:.4f}, sens: {:.4f}\\n\\n\".format(aroc, spec, sens))\n",
    "    \n",
    "results_file.close()"
   ]
  },
  {
   "cell_type": "code",
   "execution_count": null,
   "metadata": {},
   "outputs": [],
   "source": []
  }
 ],
 "metadata": {
  "kernelspec": {
   "display_name": "Python 3",
   "language": "python",
   "name": "python3"
  },
  "language_info": {
   "codemirror_mode": {
    "name": "ipython",
    "version": 3
   },
   "file_extension": ".py",
   "mimetype": "text/x-python",
   "name": "python",
   "nbconvert_exporter": "python",
   "pygments_lexer": "ipython3",
   "version": "3.7.7"
  }
 },
 "nbformat": 4,
 "nbformat_minor": 4
}
