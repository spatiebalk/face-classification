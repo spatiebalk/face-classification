{
 "cells": [
  {
   "cell_type": "code",
   "execution_count": 1,
   "metadata": {},
   "outputs": [],
   "source": [
    "from os import listdir\n",
    "from os.path import join, isfile\n",
    "import numpy as np #1.16.4 otherwise futurewarning tensorflow\n",
    "import tensorflow as tf\n",
    "from tensorflow import keras\n",
    "from tensorflow.keras import layers\n",
    "import matplotlib.pyplot as plt\n",
    "import csv\n",
    "from tqdm import tqdm\n",
    "from sklearn.model_selection import LeaveOneOut\n",
    "import cv2\n",
    "from sklearn.metrics import roc_auc_score, confusion_matrix"
   ]
  },
  {
   "cell_type": "code",
   "execution_count": 2,
   "metadata": {},
   "outputs": [],
   "source": [
    "NUM_CLASSES = 2\n",
    "BATCH_SIZE = 8\n",
    "NUM_POINTS = 510"
   ]
  },
  {
   "cell_type": "markdown",
   "metadata": {},
   "source": [
    "# Data"
   ]
  },
  {
   "cell_type": "code",
   "execution_count": 3,
   "metadata": {},
   "outputs": [],
   "source": [
    "def load_data(syn):\n",
    "    \n",
    "    # files with representations\n",
    "    GENERAL_DIR = r\"H:\\Genetica Projecten\\Facial Recognition\\Studenten en Onderzoekers\\Fien\" \n",
    "    syn_csv = GENERAL_DIR+ \"\\\\features_facereader_landmarks_patient_groups.csv\"\n",
    "    ID_csv = GENERAL_DIR+ \"\\\\features_facereader_landmarks_all_controls.csv\"\n",
    "    \n",
    "    # open directories\n",
    "    syn_dir = GENERAL_DIR+\"\\\\{}\\\\{}-patients\".format(syn, syn)\n",
    "    ID_dir = GENERAL_DIR+ \"\\\\{}\\\\{}-selected-ID-controls\".format(syn, syn)\n",
    "\n",
    "    # get list of filenames\n",
    "    files_syn = [f for f in listdir(syn_dir) if (isfile(join(syn_dir, f))) and \".jpg\" in f]\n",
    "    files_ID = [f for f in listdir(ID_dir) if (isfile(join(ID_dir, f))) and \".jpg\" in f]\n",
    "    \n",
    "    data, labels = [], []\n",
    "\n",
    "    data_syn = []\n",
    "    with open (syn_csv, newline='') as file:\n",
    "        reader = csv.reader(file, delimiter=',')\n",
    "        for index, row in enumerate(reader):\n",
    "            if row[0] in files_syn:                 \n",
    "                fr_rep = [float(f) for f in row[1:]]\n",
    "                rep = []\n",
    "                i = 1\n",
    "                while i < len(row[1:]):\n",
    "                    rep.append([float(row[i]), float(row[i+1]), float(row[i+2])])\n",
    "                    i+=3                       \n",
    "                data_syn.append(rep)\n",
    "                \n",
    "                    \n",
    "    data_ID = []                    \n",
    "    with open (ID_csv, newline='') as file:\n",
    "        reader = csv.reader(file, delimiter=',')\n",
    "        for index, row in enumerate(reader):\n",
    "            if row[0] in files_ID:                 \n",
    "                fr_rep = [float(f) for f in row[1:]]\n",
    "                rep = []\n",
    "                i = 1\n",
    "                while i < len(row[1:]):\n",
    "                    rep.append([float(row[i]), float(row[i+1]), float(row[i+2])])\n",
    "                    i+=3                       \n",
    "                data_ID.append(rep)\n",
    "\n",
    "    \n",
    "\n",
    "    for index, (syn_item, ID_item) in enumerate(zip(data_syn, data_ID)):\n",
    "        if len(syn_item) == 510 and len(ID_item) == 510:               \n",
    "            data.append(syn_item)\n",
    "            labels.append(1)\n",
    "            data.append(ID_item)\n",
    "            labels.append(0)\n",
    "\n",
    "    return np.array(data), np.array(labels)\n"
   ]
  },
  {
   "cell_type": "code",
   "execution_count": 4,
   "metadata": {},
   "outputs": [],
   "source": [
    "def augment(points, label):\n",
    "    points += tf.random.uniform(points.shape, -0.005, 0.005, dtype=tf.float64)\n",
    "    points = tf.random.shuffle(points)\n",
    "    return points, label"
   ]
  },
  {
   "cell_type": "code",
   "execution_count": 5,
   "metadata": {},
   "outputs": [],
   "source": [
    "def  split_data(data, left, right):\n",
    "    \n",
    "    data_left, data_right  = [], []\n",
    "    for index, row in enumerate(data):\n",
    "        \n",
    "        rep_left, rep_right = [], []\n",
    "        \n",
    "        for p, [x, y, z] in enumerate(row):\n",
    "            \n",
    "            if p in left:\n",
    "                rep_left.append([x, y, z])\n",
    "\n",
    "            elif p in right:\n",
    "                rep_right.append([x, y, z])\n",
    "\n",
    "            else:\n",
    "                print(\"Error\")\n",
    "                \n",
    "        data_left.append(rep_left)\n",
    "        data_right.append(rep_right)\n",
    "        \n",
    "    return np.array(data_left), np.array(data_right)\n"
   ]
  },
  {
   "cell_type": "markdown",
   "metadata": {},
   "source": [
    "# Model"
   ]
  },
  {
   "cell_type": "code",
   "execution_count": 6,
   "metadata": {},
   "outputs": [],
   "source": [
    "def conv_bn(x, filters):\n",
    "    x = layers.Conv1D(filters, kernel_size=1, padding='valid')(x)\n",
    "    x = layers.BatchNormalization(momentum=0.0)(x)\n",
    "    return layers.Activation(\"relu\")(x)\n",
    "\n",
    "def dense_bn(x, filters):\n",
    "    x = layers.Dense(filters)(x)\n",
    "    x = layers.BatchNormalization(momentum=0.0)(x)\n",
    "    return layers.Activation(\"relu\")(x)"
   ]
  },
  {
   "cell_type": "code",
   "execution_count": 7,
   "metadata": {},
   "outputs": [],
   "source": [
    "class OrthogonalRegularizer(keras.regularizers.Regularizer):\n",
    "    def __init__(self, num_features, l2reg=0.001):\n",
    "        self.num_features = num_features\n",
    "        self.l2reg = l2reg\n",
    "        self.eye = tf.eye(num_features)\n",
    "        \n",
    "    def __call__(self, x):\n",
    "        x = tf.reshape(x, (-1, self.num_features, self.num_features))\n",
    "        xxt = tf.tensordot(x, x, axes=(2,2))\n",
    "        xxt = tf.reshape(xxt, (-1, self.num_features, self.num_features))\n",
    "        return tf.reduce_sum(self.l2reg * tf.square(xxt - self.eye))"
   ]
  },
  {
   "cell_type": "code",
   "execution_count": 8,
   "metadata": {},
   "outputs": [],
   "source": [
    "def tnet(inputs, num_features):\n",
    "    bias = keras.initializers.Constant(np.eye(num_features).flatten())\n",
    "    reg = OrthogonalRegularizer(num_features)\n",
    "    \n",
    "    x = conv_bn(inputs, 32)\n",
    "    x = conv_bn(x, 64)\n",
    "    x = conv_bn(x, 512)\n",
    "    x = layers.GlobalMaxPooling1D()(x)\n",
    "    x = dense_bn(x, 256)\n",
    "    x = dense_bn(x, 128)\n",
    "    x = layers.Dense(\n",
    "        num_features * num_features, \n",
    "        kernel_initializer=\"zeros\",\n",
    "        bias_initializer=bias,\n",
    "        activity_regularizer=reg)(x)\n",
    "    \n",
    "    feat_T = layers.Reshape((num_features, num_features))(x)\n",
    "    \n",
    "    return layers.Dot(axes=(2,1))([inputs, feat_T])"
   ]
  },
  {
   "cell_type": "code",
   "execution_count": 9,
   "metadata": {},
   "outputs": [],
   "source": [
    "# model\n",
    "\n",
    "def generate_model():\n",
    "\n",
    "    inputs = keras.Input(shape=(NUM_POINTS, 3))\n",
    "\n",
    "    x = tnet(inputs, 3)\n",
    "    x = conv_bn(x, 32)\n",
    "    x = conv_bn(x, 32)\n",
    "    x = tnet(x, 32)\n",
    "    x = conv_bn(x, 32)\n",
    "    x = conv_bn(x, 64)\n",
    "    x = conv_bn(x, 512)\n",
    "    x = layers.GlobalMaxPooling1D()(x)\n",
    "    x = dense_bn(x, 256)\n",
    "    x = layers.Dropout(rate=0.3)(x)\n",
    "    x = dense_bn(x, 128)\n",
    "    x = layers.Dropout(rate=0.3)(x)\n",
    "\n",
    "    outputs = layers.Dense(NUM_CLASSES, activation=\"softmax\")(x)\n",
    "\n",
    "    model = keras.Model(inputs=inputs, outputs=outputs, name=\"pointnet\")\n",
    "    #model.summary()\n",
    "\n",
    "    model.compile(\n",
    "        loss=\"sparse_categorical_crossentropy\",\n",
    "        optimizer=keras.optimizers.Adam(lr=0.001),\n",
    "        metrics=[\"sparse_categorical_accuracy\"])\n",
    "    \n",
    "    return model"
   ]
  },
  {
   "cell_type": "raw",
   "metadata": {},
   "source": [
    "model.compile(\n",
    "    loss=\"sparse_categorical_crossentropy\",\n",
    "    optimizer=keras.optimizers.Adam(lr=0.001),\n",
    "    metrics=[\"sparse_categorical_accuracy\"])"
   ]
  },
  {
   "cell_type": "code",
   "execution_count": 10,
   "metadata": {},
   "outputs": [],
   "source": [
    "left = [0, 1, 2, 3, 4, 5, 6, 7, 8, 18, 19, 20, 21, 22, 23, 24, 25, 26, 27, 28, 29, 30, 31, 32, 33, 34, 35, 36, 37, 38, 39, 40, 41, 42, 43, 44, 45, 46, 47, 48, 49, 50, 51, 52, 53, 54, 55, 56, 57, 58, 59, 60, 61, 62, 63, 64, 65, 66, 67, 68, 69, 70, 71, 72, 73, 74, 75, 76, 77, 78, 79, 80, 144, 145, 146, 147, 148, 149, 150, 151, 152, 153, 154, 155, 156, 157, 158, 159, 160, 161, 162, 163, 164, 165, 166, 167, 168, 169, 170, 171, 172, 173, 174, 175, 176, 177, 178, 179, 180, 181, 182, 183, 184, 185, 186, 187, 188, 189, 190, 191, 192, 193, 194, 195, 196, 197, 198, 199, 200, 201, 202, 203, 204, 205, 206, 207, 208, 209, 210, 211, 212, 213, 214, 215, 216, 217, 218, 219, 220, 221, 222, 223, 224, 225, 226, 227, 228, 229, 230, 231, 232, 233, 234, 235, 236, 237, 238, 239, 240, 241, 242, 243, 244, 245, 246, 247, 248, 249, 250, 251, 252, 253, 254, 255, 256, 257, 258, 259, 260, 261, 262, 263, 264, 265, 266, 267, 268, 269, 270, 271, 272, 273, 274, 275, 276, 277, 278, 279, 280, 281, 282, 283, 284, 285, 286, 287, 288, 289, 290, 291, 292, 293, 294, 295, 296, 297, 298, 299, 300, 301, 302, 303, 304, 305, 306, 307, 308, 309, 310, 311, 312, 313, 314, 315, 316, 317, 318, 319, 320, 321, 322, 323, 324, 325, 326, 327, 328, 329, 330, 331, 332, 333, 334, 335, 336, 337, 338, 339, 340, 341]\n",
    "right = [9, 10, 11, 12, 13, 14, 15, 16, 17, 81, 82, 83, 84, 85, 86, 87, 88, 89, 90, 91, 92, 93, 94, 95, 96, 97, 98, 99, 100, 101, 102, 103, 104, 105, 106, 107, 108, 109, 110, 111, 112, 113, 114, 115, 116, 117, 118, 119, 120, 121, 122, 123, 124, 125, 126, 127, 128, 129, 130, 131, 132, 133, 134, 135, 136, 137, 138, 139, 140, 141, 142, 143, 157, 158, 168, 173, 174, 190, 191, 205, 210, 213, 217, 262, 263, 269, 278, 281, 282, 284, 288, 292, 294, 295, 296, 297, 298, 299, 302, 304, 305, 306, 342, 343, 344, 345, 346, 347, 348, 349, 350, 351, 352, 353, 354, 355, 356, 357, 358, 359, 360, 361, 362, 363, 364, 365, 366, 367, 368, 369, 370, 371, 372, 373, 374, 375, 376, 377, 378, 379, 380, 381, 382, 383, 384, 385, 386, 387, 388, 389, 390, 391, 392, 393, 394, 395, 396, 397, 398, 399, 400, 401, 402, 403, 404, 405, 406, 407, 408, 409, 410, 411, 412, 413, 414, 415, 416, 417, 418, 419, 420, 421, 422, 423, 424, 425, 426, 427, 428, 429, 430, 431, 432, 433, 434, 435, 436, 437, 438, 439, 440, 441, 442, 443, 444, 445, 446, 447, 448, 449, 450, 451, 452, 453, 454, 455, 456, 457, 458, 459, 460, 461, 462, 463, 464, 465, 466, 467, 468, 469, 470, 471, 472, 473, 474, 475, 476, 477, 478, 479, 480, 481, 482, 483, 484, 485, 486, 487, 488, 489, 490, 491, 492, 493, 494, 495, 496, 497, 498, 499, 500, 501, 502, 503, 504, 505, 506, 507, 508, 509]"
   ]
  },
  {
   "cell_type": "code",
   "execution_count": 11,
   "metadata": {},
   "outputs": [],
   "source": [
    "syn = 'ADNP'\n",
    "\n",
    "data, labels = load_data(syn)\n",
    "\n",
    "data_left, data_right = split_data(data, left, right)"
   ]
  },
  {
   "cell_type": "code",
   "execution_count": 14,
   "metadata": {},
   "outputs": [
    {
     "data": {
      "application/javascript": [
       "/* Put everything inside the global mpl namespace */\n",
       "window.mpl = {};\n",
       "\n",
       "\n",
       "mpl.get_websocket_type = function() {\n",
       "    if (typeof(WebSocket) !== 'undefined') {\n",
       "        return WebSocket;\n",
       "    } else if (typeof(MozWebSocket) !== 'undefined') {\n",
       "        return MozWebSocket;\n",
       "    } else {\n",
       "        alert('Your browser does not have WebSocket support. ' +\n",
       "              'Please try Chrome, Safari or Firefox ≥ 6. ' +\n",
       "              'Firefox 4 and 5 are also supported but you ' +\n",
       "              'have to enable WebSockets in about:config.');\n",
       "    };\n",
       "}\n",
       "\n",
       "mpl.figure = function(figure_id, websocket, ondownload, parent_element) {\n",
       "    this.id = figure_id;\n",
       "\n",
       "    this.ws = websocket;\n",
       "\n",
       "    this.supports_binary = (this.ws.binaryType != undefined);\n",
       "\n",
       "    if (!this.supports_binary) {\n",
       "        var warnings = document.getElementById(\"mpl-warnings\");\n",
       "        if (warnings) {\n",
       "            warnings.style.display = 'block';\n",
       "            warnings.textContent = (\n",
       "                \"This browser does not support binary websocket messages. \" +\n",
       "                    \"Performance may be slow.\");\n",
       "        }\n",
       "    }\n",
       "\n",
       "    this.imageObj = new Image();\n",
       "\n",
       "    this.context = undefined;\n",
       "    this.message = undefined;\n",
       "    this.canvas = undefined;\n",
       "    this.rubberband_canvas = undefined;\n",
       "    this.rubberband_context = undefined;\n",
       "    this.format_dropdown = undefined;\n",
       "\n",
       "    this.image_mode = 'full';\n",
       "\n",
       "    this.root = $('<div/>');\n",
       "    this._root_extra_style(this.root)\n",
       "    this.root.attr('style', 'display: inline-block');\n",
       "\n",
       "    $(parent_element).append(this.root);\n",
       "\n",
       "    this._init_header(this);\n",
       "    this._init_canvas(this);\n",
       "    this._init_toolbar(this);\n",
       "\n",
       "    var fig = this;\n",
       "\n",
       "    this.waiting = false;\n",
       "\n",
       "    this.ws.onopen =  function () {\n",
       "            fig.send_message(\"supports_binary\", {value: fig.supports_binary});\n",
       "            fig.send_message(\"send_image_mode\", {});\n",
       "            if (mpl.ratio != 1) {\n",
       "                fig.send_message(\"set_dpi_ratio\", {'dpi_ratio': mpl.ratio});\n",
       "            }\n",
       "            fig.send_message(\"refresh\", {});\n",
       "        }\n",
       "\n",
       "    this.imageObj.onload = function() {\n",
       "            if (fig.image_mode == 'full') {\n",
       "                // Full images could contain transparency (where diff images\n",
       "                // almost always do), so we need to clear the canvas so that\n",
       "                // there is no ghosting.\n",
       "                fig.context.clearRect(0, 0, fig.canvas.width, fig.canvas.height);\n",
       "            }\n",
       "            fig.context.drawImage(fig.imageObj, 0, 0);\n",
       "        };\n",
       "\n",
       "    this.imageObj.onunload = function() {\n",
       "        fig.ws.close();\n",
       "    }\n",
       "\n",
       "    this.ws.onmessage = this._make_on_message_function(this);\n",
       "\n",
       "    this.ondownload = ondownload;\n",
       "}\n",
       "\n",
       "mpl.figure.prototype._init_header = function() {\n",
       "    var titlebar = $(\n",
       "        '<div class=\"ui-dialog-titlebar ui-widget-header ui-corner-all ' +\n",
       "        'ui-helper-clearfix\"/>');\n",
       "    var titletext = $(\n",
       "        '<div class=\"ui-dialog-title\" style=\"width: 100%; ' +\n",
       "        'text-align: center; padding: 3px;\"/>');\n",
       "    titlebar.append(titletext)\n",
       "    this.root.append(titlebar);\n",
       "    this.header = titletext[0];\n",
       "}\n",
       "\n",
       "\n",
       "\n",
       "mpl.figure.prototype._canvas_extra_style = function(canvas_div) {\n",
       "\n",
       "}\n",
       "\n",
       "\n",
       "mpl.figure.prototype._root_extra_style = function(canvas_div) {\n",
       "\n",
       "}\n",
       "\n",
       "mpl.figure.prototype._init_canvas = function() {\n",
       "    var fig = this;\n",
       "\n",
       "    var canvas_div = $('<div/>');\n",
       "\n",
       "    canvas_div.attr('style', 'position: relative; clear: both; outline: 0');\n",
       "\n",
       "    function canvas_keyboard_event(event) {\n",
       "        return fig.key_event(event, event['data']);\n",
       "    }\n",
       "\n",
       "    canvas_div.keydown('key_press', canvas_keyboard_event);\n",
       "    canvas_div.keyup('key_release', canvas_keyboard_event);\n",
       "    this.canvas_div = canvas_div\n",
       "    this._canvas_extra_style(canvas_div)\n",
       "    this.root.append(canvas_div);\n",
       "\n",
       "    var canvas = $('<canvas/>');\n",
       "    canvas.addClass('mpl-canvas');\n",
       "    canvas.attr('style', \"left: 0; top: 0; z-index: 0; outline: 0\")\n",
       "\n",
       "    this.canvas = canvas[0];\n",
       "    this.context = canvas[0].getContext(\"2d\");\n",
       "\n",
       "    var backingStore = this.context.backingStorePixelRatio ||\n",
       "\tthis.context.webkitBackingStorePixelRatio ||\n",
       "\tthis.context.mozBackingStorePixelRatio ||\n",
       "\tthis.context.msBackingStorePixelRatio ||\n",
       "\tthis.context.oBackingStorePixelRatio ||\n",
       "\tthis.context.backingStorePixelRatio || 1;\n",
       "\n",
       "    mpl.ratio = (window.devicePixelRatio || 1) / backingStore;\n",
       "\n",
       "    var rubberband = $('<canvas/>');\n",
       "    rubberband.attr('style', \"position: absolute; left: 0; top: 0; z-index: 1;\")\n",
       "\n",
       "    var pass_mouse_events = true;\n",
       "\n",
       "    canvas_div.resizable({\n",
       "        start: function(event, ui) {\n",
       "            pass_mouse_events = false;\n",
       "        },\n",
       "        resize: function(event, ui) {\n",
       "            fig.request_resize(ui.size.width, ui.size.height);\n",
       "        },\n",
       "        stop: function(event, ui) {\n",
       "            pass_mouse_events = true;\n",
       "            fig.request_resize(ui.size.width, ui.size.height);\n",
       "        },\n",
       "    });\n",
       "\n",
       "    function mouse_event_fn(event) {\n",
       "        if (pass_mouse_events)\n",
       "            return fig.mouse_event(event, event['data']);\n",
       "    }\n",
       "\n",
       "    rubberband.mousedown('button_press', mouse_event_fn);\n",
       "    rubberband.mouseup('button_release', mouse_event_fn);\n",
       "    // Throttle sequential mouse events to 1 every 20ms.\n",
       "    rubberband.mousemove('motion_notify', mouse_event_fn);\n",
       "\n",
       "    rubberband.mouseenter('figure_enter', mouse_event_fn);\n",
       "    rubberband.mouseleave('figure_leave', mouse_event_fn);\n",
       "\n",
       "    canvas_div.on(\"wheel\", function (event) {\n",
       "        event = event.originalEvent;\n",
       "        event['data'] = 'scroll'\n",
       "        if (event.deltaY < 0) {\n",
       "            event.step = 1;\n",
       "        } else {\n",
       "            event.step = -1;\n",
       "        }\n",
       "        mouse_event_fn(event);\n",
       "    });\n",
       "\n",
       "    canvas_div.append(canvas);\n",
       "    canvas_div.append(rubberband);\n",
       "\n",
       "    this.rubberband = rubberband;\n",
       "    this.rubberband_canvas = rubberband[0];\n",
       "    this.rubberband_context = rubberband[0].getContext(\"2d\");\n",
       "    this.rubberband_context.strokeStyle = \"#000000\";\n",
       "\n",
       "    this._resize_canvas = function(width, height) {\n",
       "        // Keep the size of the canvas, canvas container, and rubber band\n",
       "        // canvas in synch.\n",
       "        canvas_div.css('width', width)\n",
       "        canvas_div.css('height', height)\n",
       "\n",
       "        canvas.attr('width', width * mpl.ratio);\n",
       "        canvas.attr('height', height * mpl.ratio);\n",
       "        canvas.attr('style', 'width: ' + width + 'px; height: ' + height + 'px;');\n",
       "\n",
       "        rubberband.attr('width', width);\n",
       "        rubberband.attr('height', height);\n",
       "    }\n",
       "\n",
       "    // Set the figure to an initial 600x600px, this will subsequently be updated\n",
       "    // upon first draw.\n",
       "    this._resize_canvas(600, 600);\n",
       "\n",
       "    // Disable right mouse context menu.\n",
       "    $(this.rubberband_canvas).bind(\"contextmenu\",function(e){\n",
       "        return false;\n",
       "    });\n",
       "\n",
       "    function set_focus () {\n",
       "        canvas.focus();\n",
       "        canvas_div.focus();\n",
       "    }\n",
       "\n",
       "    window.setTimeout(set_focus, 100);\n",
       "}\n",
       "\n",
       "mpl.figure.prototype._init_toolbar = function() {\n",
       "    var fig = this;\n",
       "\n",
       "    var nav_element = $('<div/>');\n",
       "    nav_element.attr('style', 'width: 100%');\n",
       "    this.root.append(nav_element);\n",
       "\n",
       "    // Define a callback function for later on.\n",
       "    function toolbar_event(event) {\n",
       "        return fig.toolbar_button_onclick(event['data']);\n",
       "    }\n",
       "    function toolbar_mouse_event(event) {\n",
       "        return fig.toolbar_button_onmouseover(event['data']);\n",
       "    }\n",
       "\n",
       "    for(var toolbar_ind in mpl.toolbar_items) {\n",
       "        var name = mpl.toolbar_items[toolbar_ind][0];\n",
       "        var tooltip = mpl.toolbar_items[toolbar_ind][1];\n",
       "        var image = mpl.toolbar_items[toolbar_ind][2];\n",
       "        var method_name = mpl.toolbar_items[toolbar_ind][3];\n",
       "\n",
       "        if (!name) {\n",
       "            // put a spacer in here.\n",
       "            continue;\n",
       "        }\n",
       "        var button = $('<button/>');\n",
       "        button.addClass('ui-button ui-widget ui-state-default ui-corner-all ' +\n",
       "                        'ui-button-icon-only');\n",
       "        button.attr('role', 'button');\n",
       "        button.attr('aria-disabled', 'false');\n",
       "        button.click(method_name, toolbar_event);\n",
       "        button.mouseover(tooltip, toolbar_mouse_event);\n",
       "\n",
       "        var icon_img = $('<span/>');\n",
       "        icon_img.addClass('ui-button-icon-primary ui-icon');\n",
       "        icon_img.addClass(image);\n",
       "        icon_img.addClass('ui-corner-all');\n",
       "\n",
       "        var tooltip_span = $('<span/>');\n",
       "        tooltip_span.addClass('ui-button-text');\n",
       "        tooltip_span.html(tooltip);\n",
       "\n",
       "        button.append(icon_img);\n",
       "        button.append(tooltip_span);\n",
       "\n",
       "        nav_element.append(button);\n",
       "    }\n",
       "\n",
       "    var fmt_picker_span = $('<span/>');\n",
       "\n",
       "    var fmt_picker = $('<select/>');\n",
       "    fmt_picker.addClass('mpl-toolbar-option ui-widget ui-widget-content');\n",
       "    fmt_picker_span.append(fmt_picker);\n",
       "    nav_element.append(fmt_picker_span);\n",
       "    this.format_dropdown = fmt_picker[0];\n",
       "\n",
       "    for (var ind in mpl.extensions) {\n",
       "        var fmt = mpl.extensions[ind];\n",
       "        var option = $(\n",
       "            '<option/>', {selected: fmt === mpl.default_extension}).html(fmt);\n",
       "        fmt_picker.append(option);\n",
       "    }\n",
       "\n",
       "    // Add hover states to the ui-buttons\n",
       "    $( \".ui-button\" ).hover(\n",
       "        function() { $(this).addClass(\"ui-state-hover\");},\n",
       "        function() { $(this).removeClass(\"ui-state-hover\");}\n",
       "    );\n",
       "\n",
       "    var status_bar = $('<span class=\"mpl-message\"/>');\n",
       "    nav_element.append(status_bar);\n",
       "    this.message = status_bar[0];\n",
       "}\n",
       "\n",
       "mpl.figure.prototype.request_resize = function(x_pixels, y_pixels) {\n",
       "    // Request matplotlib to resize the figure. Matplotlib will then trigger a resize in the client,\n",
       "    // which will in turn request a refresh of the image.\n",
       "    this.send_message('resize', {'width': x_pixels, 'height': y_pixels});\n",
       "}\n",
       "\n",
       "mpl.figure.prototype.send_message = function(type, properties) {\n",
       "    properties['type'] = type;\n",
       "    properties['figure_id'] = this.id;\n",
       "    this.ws.send(JSON.stringify(properties));\n",
       "}\n",
       "\n",
       "mpl.figure.prototype.send_draw_message = function() {\n",
       "    if (!this.waiting) {\n",
       "        this.waiting = true;\n",
       "        this.ws.send(JSON.stringify({type: \"draw\", figure_id: this.id}));\n",
       "    }\n",
       "}\n",
       "\n",
       "\n",
       "mpl.figure.prototype.handle_save = function(fig, msg) {\n",
       "    var format_dropdown = fig.format_dropdown;\n",
       "    var format = format_dropdown.options[format_dropdown.selectedIndex].value;\n",
       "    fig.ondownload(fig, format);\n",
       "}\n",
       "\n",
       "\n",
       "mpl.figure.prototype.handle_resize = function(fig, msg) {\n",
       "    var size = msg['size'];\n",
       "    if (size[0] != fig.canvas.width || size[1] != fig.canvas.height) {\n",
       "        fig._resize_canvas(size[0], size[1]);\n",
       "        fig.send_message(\"refresh\", {});\n",
       "    };\n",
       "}\n",
       "\n",
       "mpl.figure.prototype.handle_rubberband = function(fig, msg) {\n",
       "    var x0 = msg['x0'] / mpl.ratio;\n",
       "    var y0 = (fig.canvas.height - msg['y0']) / mpl.ratio;\n",
       "    var x1 = msg['x1'] / mpl.ratio;\n",
       "    var y1 = (fig.canvas.height - msg['y1']) / mpl.ratio;\n",
       "    x0 = Math.floor(x0) + 0.5;\n",
       "    y0 = Math.floor(y0) + 0.5;\n",
       "    x1 = Math.floor(x1) + 0.5;\n",
       "    y1 = Math.floor(y1) + 0.5;\n",
       "    var min_x = Math.min(x0, x1);\n",
       "    var min_y = Math.min(y0, y1);\n",
       "    var width = Math.abs(x1 - x0);\n",
       "    var height = Math.abs(y1 - y0);\n",
       "\n",
       "    fig.rubberband_context.clearRect(\n",
       "        0, 0, fig.canvas.width / mpl.ratio, fig.canvas.height / mpl.ratio);\n",
       "\n",
       "    fig.rubberband_context.strokeRect(min_x, min_y, width, height);\n",
       "}\n",
       "\n",
       "mpl.figure.prototype.handle_figure_label = function(fig, msg) {\n",
       "    // Updates the figure title.\n",
       "    fig.header.textContent = msg['label'];\n",
       "}\n",
       "\n",
       "mpl.figure.prototype.handle_cursor = function(fig, msg) {\n",
       "    var cursor = msg['cursor'];\n",
       "    switch(cursor)\n",
       "    {\n",
       "    case 0:\n",
       "        cursor = 'pointer';\n",
       "        break;\n",
       "    case 1:\n",
       "        cursor = 'default';\n",
       "        break;\n",
       "    case 2:\n",
       "        cursor = 'crosshair';\n",
       "        break;\n",
       "    case 3:\n",
       "        cursor = 'move';\n",
       "        break;\n",
       "    }\n",
       "    fig.rubberband_canvas.style.cursor = cursor;\n",
       "}\n",
       "\n",
       "mpl.figure.prototype.handle_message = function(fig, msg) {\n",
       "    fig.message.textContent = msg['message'];\n",
       "}\n",
       "\n",
       "mpl.figure.prototype.handle_draw = function(fig, msg) {\n",
       "    // Request the server to send over a new figure.\n",
       "    fig.send_draw_message();\n",
       "}\n",
       "\n",
       "mpl.figure.prototype.handle_image_mode = function(fig, msg) {\n",
       "    fig.image_mode = msg['mode'];\n",
       "}\n",
       "\n",
       "mpl.figure.prototype.updated_canvas_event = function() {\n",
       "    // Called whenever the canvas gets updated.\n",
       "    this.send_message(\"ack\", {});\n",
       "}\n",
       "\n",
       "// A function to construct a web socket function for onmessage handling.\n",
       "// Called in the figure constructor.\n",
       "mpl.figure.prototype._make_on_message_function = function(fig) {\n",
       "    return function socket_on_message(evt) {\n",
       "        if (evt.data instanceof Blob) {\n",
       "            /* FIXME: We get \"Resource interpreted as Image but\n",
       "             * transferred with MIME type text/plain:\" errors on\n",
       "             * Chrome.  But how to set the MIME type?  It doesn't seem\n",
       "             * to be part of the websocket stream */\n",
       "            evt.data.type = \"image/png\";\n",
       "\n",
       "            /* Free the memory for the previous frames */\n",
       "            if (fig.imageObj.src) {\n",
       "                (window.URL || window.webkitURL).revokeObjectURL(\n",
       "                    fig.imageObj.src);\n",
       "            }\n",
       "\n",
       "            fig.imageObj.src = (window.URL || window.webkitURL).createObjectURL(\n",
       "                evt.data);\n",
       "            fig.updated_canvas_event();\n",
       "            fig.waiting = false;\n",
       "            return;\n",
       "        }\n",
       "        else if (typeof evt.data === 'string' && evt.data.slice(0, 21) == \"data:image/png;base64\") {\n",
       "            fig.imageObj.src = evt.data;\n",
       "            fig.updated_canvas_event();\n",
       "            fig.waiting = false;\n",
       "            return;\n",
       "        }\n",
       "\n",
       "        var msg = JSON.parse(evt.data);\n",
       "        var msg_type = msg['type'];\n",
       "\n",
       "        // Call the  \"handle_{type}\" callback, which takes\n",
       "        // the figure and JSON message as its only arguments.\n",
       "        try {\n",
       "            var callback = fig[\"handle_\" + msg_type];\n",
       "        } catch (e) {\n",
       "            console.log(\"No handler for the '\" + msg_type + \"' message type: \", msg);\n",
       "            return;\n",
       "        }\n",
       "\n",
       "        if (callback) {\n",
       "            try {\n",
       "                // console.log(\"Handling '\" + msg_type + \"' message: \", msg);\n",
       "                callback(fig, msg);\n",
       "            } catch (e) {\n",
       "                console.log(\"Exception inside the 'handler_\" + msg_type + \"' callback:\", e, e.stack, msg);\n",
       "            }\n",
       "        }\n",
       "    };\n",
       "}\n",
       "\n",
       "// from http://stackoverflow.com/questions/1114465/getting-mouse-location-in-canvas\n",
       "mpl.findpos = function(e) {\n",
       "    //this section is from http://www.quirksmode.org/js/events_properties.html\n",
       "    var targ;\n",
       "    if (!e)\n",
       "        e = window.event;\n",
       "    if (e.target)\n",
       "        targ = e.target;\n",
       "    else if (e.srcElement)\n",
       "        targ = e.srcElement;\n",
       "    if (targ.nodeType == 3) // defeat Safari bug\n",
       "        targ = targ.parentNode;\n",
       "\n",
       "    // jQuery normalizes the pageX and pageY\n",
       "    // pageX,Y are the mouse positions relative to the document\n",
       "    // offset() returns the position of the element relative to the document\n",
       "    var x = e.pageX - $(targ).offset().left;\n",
       "    var y = e.pageY - $(targ).offset().top;\n",
       "\n",
       "    return {\"x\": x, \"y\": y};\n",
       "};\n",
       "\n",
       "/*\n",
       " * return a copy of an object with only non-object keys\n",
       " * we need this to avoid circular references\n",
       " * http://stackoverflow.com/a/24161582/3208463\n",
       " */\n",
       "function simpleKeys (original) {\n",
       "  return Object.keys(original).reduce(function (obj, key) {\n",
       "    if (typeof original[key] !== 'object')\n",
       "        obj[key] = original[key]\n",
       "    return obj;\n",
       "  }, {});\n",
       "}\n",
       "\n",
       "mpl.figure.prototype.mouse_event = function(event, name) {\n",
       "    var canvas_pos = mpl.findpos(event)\n",
       "\n",
       "    if (name === 'button_press')\n",
       "    {\n",
       "        this.canvas.focus();\n",
       "        this.canvas_div.focus();\n",
       "    }\n",
       "\n",
       "    var x = canvas_pos.x * mpl.ratio;\n",
       "    var y = canvas_pos.y * mpl.ratio;\n",
       "\n",
       "    this.send_message(name, {x: x, y: y, button: event.button,\n",
       "                             step: event.step,\n",
       "                             guiEvent: simpleKeys(event)});\n",
       "\n",
       "    /* This prevents the web browser from automatically changing to\n",
       "     * the text insertion cursor when the button is pressed.  We want\n",
       "     * to control all of the cursor setting manually through the\n",
       "     * 'cursor' event from matplotlib */\n",
       "    event.preventDefault();\n",
       "    return false;\n",
       "}\n",
       "\n",
       "mpl.figure.prototype._key_event_extra = function(event, name) {\n",
       "    // Handle any extra behaviour associated with a key event\n",
       "}\n",
       "\n",
       "mpl.figure.prototype.key_event = function(event, name) {\n",
       "\n",
       "    // Prevent repeat events\n",
       "    if (name == 'key_press')\n",
       "    {\n",
       "        if (event.which === this._key)\n",
       "            return;\n",
       "        else\n",
       "            this._key = event.which;\n",
       "    }\n",
       "    if (name == 'key_release')\n",
       "        this._key = null;\n",
       "\n",
       "    var value = '';\n",
       "    if (event.ctrlKey && event.which != 17)\n",
       "        value += \"ctrl+\";\n",
       "    if (event.altKey && event.which != 18)\n",
       "        value += \"alt+\";\n",
       "    if (event.shiftKey && event.which != 16)\n",
       "        value += \"shift+\";\n",
       "\n",
       "    value += 'k';\n",
       "    value += event.which.toString();\n",
       "\n",
       "    this._key_event_extra(event, name);\n",
       "\n",
       "    this.send_message(name, {key: value,\n",
       "                             guiEvent: simpleKeys(event)});\n",
       "    return false;\n",
       "}\n",
       "\n",
       "mpl.figure.prototype.toolbar_button_onclick = function(name) {\n",
       "    if (name == 'download') {\n",
       "        this.handle_save(this, null);\n",
       "    } else {\n",
       "        this.send_message(\"toolbar_button\", {name: name});\n",
       "    }\n",
       "};\n",
       "\n",
       "mpl.figure.prototype.toolbar_button_onmouseover = function(tooltip) {\n",
       "    this.message.textContent = tooltip;\n",
       "};\n",
       "mpl.toolbar_items = [[\"Home\", \"Reset original view\", \"fa fa-home icon-home\", \"home\"], [\"Back\", \"Back to previous view\", \"fa fa-arrow-left icon-arrow-left\", \"back\"], [\"Forward\", \"Forward to next view\", \"fa fa-arrow-right icon-arrow-right\", \"forward\"], [\"\", \"\", \"\", \"\"], [\"Pan\", \"Pan axes with left mouse, zoom with right\", \"fa fa-arrows icon-move\", \"pan\"], [\"Zoom\", \"Zoom to rectangle\", \"fa fa-square-o icon-check-empty\", \"zoom\"], [\"\", \"\", \"\", \"\"], [\"Download\", \"Download plot\", \"fa fa-floppy-o icon-save\", \"download\"]];\n",
       "\n",
       "mpl.extensions = [\"eps\", \"jpeg\", \"pdf\", \"png\", \"ps\", \"raw\", \"svg\", \"tif\"];\n",
       "\n",
       "mpl.default_extension = \"png\";var comm_websocket_adapter = function(comm) {\n",
       "    // Create a \"websocket\"-like object which calls the given IPython comm\n",
       "    // object with the appropriate methods. Currently this is a non binary\n",
       "    // socket, so there is still some room for performance tuning.\n",
       "    var ws = {};\n",
       "\n",
       "    ws.close = function() {\n",
       "        comm.close()\n",
       "    };\n",
       "    ws.send = function(m) {\n",
       "        //console.log('sending', m);\n",
       "        comm.send(m);\n",
       "    };\n",
       "    // Register the callback with on_msg.\n",
       "    comm.on_msg(function(msg) {\n",
       "        //console.log('receiving', msg['content']['data'], msg);\n",
       "        // Pass the mpl event to the overridden (by mpl) onmessage function.\n",
       "        ws.onmessage(msg['content']['data'])\n",
       "    });\n",
       "    return ws;\n",
       "}\n",
       "\n",
       "mpl.mpl_figure_comm = function(comm, msg) {\n",
       "    // This is the function which gets called when the mpl process\n",
       "    // starts-up an IPython Comm through the \"matplotlib\" channel.\n",
       "\n",
       "    var id = msg.content.data.id;\n",
       "    // Get hold of the div created by the display call when the Comm\n",
       "    // socket was opened in Python.\n",
       "    var element = $(\"#\" + id);\n",
       "    var ws_proxy = comm_websocket_adapter(comm)\n",
       "\n",
       "    function ondownload(figure, format) {\n",
       "        window.open(figure.imageObj.src);\n",
       "    }\n",
       "\n",
       "    var fig = new mpl.figure(id, ws_proxy,\n",
       "                           ondownload,\n",
       "                           element.get(0));\n",
       "\n",
       "    // Call onopen now - mpl needs it, as it is assuming we've passed it a real\n",
       "    // web socket which is closed, not our websocket->open comm proxy.\n",
       "    ws_proxy.onopen();\n",
       "\n",
       "    fig.parent_element = element.get(0);\n",
       "    fig.cell_info = mpl.find_output_cell(\"<div id='\" + id + \"'></div>\");\n",
       "    if (!fig.cell_info) {\n",
       "        console.error(\"Failed to find cell for figure\", id, fig);\n",
       "        return;\n",
       "    }\n",
       "\n",
       "    var output_index = fig.cell_info[2]\n",
       "    var cell = fig.cell_info[0];\n",
       "\n",
       "};\n",
       "\n",
       "mpl.figure.prototype.handle_close = function(fig, msg) {\n",
       "    var width = fig.canvas.width/mpl.ratio\n",
       "    fig.root.unbind('remove')\n",
       "\n",
       "    // Update the output cell to use the data from the current canvas.\n",
       "    fig.push_to_output();\n",
       "    var dataURL = fig.canvas.toDataURL();\n",
       "    // Re-enable the keyboard manager in IPython - without this line, in FF,\n",
       "    // the notebook keyboard shortcuts fail.\n",
       "    IPython.keyboard_manager.enable()\n",
       "    $(fig.parent_element).html('<img src=\"' + dataURL + '\" width=\"' + width + '\">');\n",
       "    fig.close_ws(fig, msg);\n",
       "}\n",
       "\n",
       "mpl.figure.prototype.close_ws = function(fig, msg){\n",
       "    fig.send_message('closing', msg);\n",
       "    // fig.ws.close()\n",
       "}\n",
       "\n",
       "mpl.figure.prototype.push_to_output = function(remove_interactive) {\n",
       "    // Turn the data on the canvas into data in the output cell.\n",
       "    var width = this.canvas.width/mpl.ratio\n",
       "    var dataURL = this.canvas.toDataURL();\n",
       "    this.cell_info[1]['text/html'] = '<img src=\"' + dataURL + '\" width=\"' + width + '\">';\n",
       "}\n",
       "\n",
       "mpl.figure.prototype.updated_canvas_event = function() {\n",
       "    // Tell IPython that the notebook contents must change.\n",
       "    IPython.notebook.set_dirty(true);\n",
       "    this.send_message(\"ack\", {});\n",
       "    var fig = this;\n",
       "    // Wait a second, then push the new image to the DOM so\n",
       "    // that it is saved nicely (might be nice to debounce this).\n",
       "    setTimeout(function () { fig.push_to_output() }, 1000);\n",
       "}\n",
       "\n",
       "mpl.figure.prototype._init_toolbar = function() {\n",
       "    var fig = this;\n",
       "\n",
       "    var nav_element = $('<div/>');\n",
       "    nav_element.attr('style', 'width: 100%');\n",
       "    this.root.append(nav_element);\n",
       "\n",
       "    // Define a callback function for later on.\n",
       "    function toolbar_event(event) {\n",
       "        return fig.toolbar_button_onclick(event['data']);\n",
       "    }\n",
       "    function toolbar_mouse_event(event) {\n",
       "        return fig.toolbar_button_onmouseover(event['data']);\n",
       "    }\n",
       "\n",
       "    for(var toolbar_ind in mpl.toolbar_items){\n",
       "        var name = mpl.toolbar_items[toolbar_ind][0];\n",
       "        var tooltip = mpl.toolbar_items[toolbar_ind][1];\n",
       "        var image = mpl.toolbar_items[toolbar_ind][2];\n",
       "        var method_name = mpl.toolbar_items[toolbar_ind][3];\n",
       "\n",
       "        if (!name) { continue; };\n",
       "\n",
       "        var button = $('<button class=\"btn btn-default\" href=\"#\" title=\"' + name + '\"><i class=\"fa ' + image + ' fa-lg\"></i></button>');\n",
       "        button.click(method_name, toolbar_event);\n",
       "        button.mouseover(tooltip, toolbar_mouse_event);\n",
       "        nav_element.append(button);\n",
       "    }\n",
       "\n",
       "    // Add the status bar.\n",
       "    var status_bar = $('<span class=\"mpl-message\" style=\"text-align:right; float: right;\"/>');\n",
       "    nav_element.append(status_bar);\n",
       "    this.message = status_bar[0];\n",
       "\n",
       "    // Add the close button to the window.\n",
       "    var buttongrp = $('<div class=\"btn-group inline pull-right\"></div>');\n",
       "    var button = $('<button class=\"btn btn-mini btn-primary\" href=\"#\" title=\"Stop Interaction\"><i class=\"fa fa-power-off icon-remove icon-large\"></i></button>');\n",
       "    button.click(function (evt) { fig.handle_close(fig, {}); } );\n",
       "    button.mouseover('Stop Interaction', toolbar_mouse_event);\n",
       "    buttongrp.append(button);\n",
       "    var titlebar = this.root.find($('.ui-dialog-titlebar'));\n",
       "    titlebar.prepend(buttongrp);\n",
       "}\n",
       "\n",
       "mpl.figure.prototype._root_extra_style = function(el){\n",
       "    var fig = this\n",
       "    el.on(\"remove\", function(){\n",
       "\tfig.close_ws(fig, {});\n",
       "    });\n",
       "}\n",
       "\n",
       "mpl.figure.prototype._canvas_extra_style = function(el){\n",
       "    // this is important to make the div 'focusable\n",
       "    el.attr('tabindex', 0)\n",
       "    // reach out to IPython and tell the keyboard manager to turn it's self\n",
       "    // off when our div gets focus\n",
       "\n",
       "    // location in version 3\n",
       "    if (IPython.notebook.keyboard_manager) {\n",
       "        IPython.notebook.keyboard_manager.register_events(el);\n",
       "    }\n",
       "    else {\n",
       "        // location in version 2\n",
       "        IPython.keyboard_manager.register_events(el);\n",
       "    }\n",
       "\n",
       "}\n",
       "\n",
       "mpl.figure.prototype._key_event_extra = function(event, name) {\n",
       "    var manager = IPython.notebook.keyboard_manager;\n",
       "    if (!manager)\n",
       "        manager = IPython.keyboard_manager;\n",
       "\n",
       "    // Check for shift+enter\n",
       "    if (event.shiftKey && event.which == 13) {\n",
       "        this.canvas_div.blur();\n",
       "        // select the cell after this one\n",
       "        var index = IPython.notebook.find_cell_index(this.cell_info[0]);\n",
       "        IPython.notebook.select(index + 1);\n",
       "    }\n",
       "}\n",
       "\n",
       "mpl.figure.prototype.handle_save = function(fig, msg) {\n",
       "    fig.ondownload(fig, null);\n",
       "}\n",
       "\n",
       "\n",
       "mpl.find_output_cell = function(html_output) {\n",
       "    // Return the cell and output element which can be found *uniquely* in the notebook.\n",
       "    // Note - this is a bit hacky, but it is done because the \"notebook_saving.Notebook\"\n",
       "    // IPython event is triggered only after the cells have been serialised, which for\n",
       "    // our purposes (turning an active figure into a static one), is too late.\n",
       "    var cells = IPython.notebook.get_cells();\n",
       "    var ncells = cells.length;\n",
       "    for (var i=0; i<ncells; i++) {\n",
       "        var cell = cells[i];\n",
       "        if (cell.cell_type === 'code'){\n",
       "            for (var j=0; j<cell.output_area.outputs.length; j++) {\n",
       "                var data = cell.output_area.outputs[j];\n",
       "                if (data.data) {\n",
       "                    // IPython >= 3 moved mimebundle to data attribute of output\n",
       "                    data = data.data;\n",
       "                }\n",
       "                if (data['text/html'] == html_output) {\n",
       "                    return [cell, data, j];\n",
       "                }\n",
       "            }\n",
       "        }\n",
       "    }\n",
       "}\n",
       "\n",
       "// Register the function which deals with the matplotlib target/channel.\n",
       "// The kernel may be null if the page has been refreshed.\n",
       "if (IPython.notebook.kernel != null) {\n",
       "    IPython.notebook.kernel.comm_manager.register_target('matplotlib', mpl.mpl_figure_comm);\n",
       "}\n"
      ],
      "text/plain": [
       "<IPython.core.display.Javascript object>"
      ]
     },
     "metadata": {},
     "output_type": "display_data"
    },
    {
     "data": {
      "text/html": [
       "<img src=\"data:image/png;base64,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\" width=\"998.8889153504084\">"
      ],
      "text/plain": [
       "<IPython.core.display.HTML object>"
      ]
     },
     "metadata": {},
     "output_type": "display_data"
    }
   ],
   "source": [
    "%matplotlib notebook\n",
    "from matplotlib import pyplot\n",
    "from pylab import figure\n",
    "from mpl_toolkits.mplot3d import Axes3D\n",
    "\n",
    "\n",
    "fig = figure(figsize=(10,10))\n",
    "ax = Axes3D(fig)\n",
    "\n",
    "for p in data_left[0]: \n",
    "    ax.scatter(p[0], p[1], p[2], color='b') \n",
    "    \n",
    "for p in data_right[0]: \n",
    "    ax.scatter(p[0], p[1], p[2], color='r') \n",
    "    \n",
    "ax.set_xlabel('x')\n",
    "ax.set_ylabel('y')\n",
    "ax.set_zlabel('z')\n",
    "pyplot.show()"
   ]
  },
  {
   "cell_type": "markdown",
   "metadata": {},
   "source": [
    "# Training"
   ]
  },
  {
   "cell_type": "code",
   "execution_count": 9,
   "metadata": {},
   "outputs": [
    {
     "name": "stderr",
     "output_type": "stream",
     "text": [
      "\r",
      "0it [00:00, ?it/s]"
     ]
    },
    {
     "name": "stdout",
     "output_type": "stream",
     "text": [
      "Epoch 1/10\n",
      "3/3 [==============================] - 1s 207ms/step - loss: 1.2535 - sparse_categorical_accuracy: 0.6522\n",
      "Epoch 2/10\n",
      "3/3 [==============================] - 1s 205ms/step - loss: 0.9007 - sparse_categorical_accuracy: 0.8696\n",
      "Epoch 3/10\n",
      "3/3 [==============================] - 1s 205ms/step - loss: 1.0224 - sparse_categorical_accuracy: 0.9130\n",
      "Epoch 4/10\n",
      "3/3 [==============================] - 1s 206ms/step - loss: 0.9740 - sparse_categorical_accuracy: 0.9565\n",
      "Epoch 5/10\n",
      "3/3 [==============================] - 1s 205ms/step - loss: 1.1935 - sparse_categorical_accuracy: 0.7826\n",
      "Epoch 6/10\n",
      "3/3 [==============================] - 1s 206ms/step - loss: 0.9023 - sparse_categorical_accuracy: 0.9130\n",
      "Epoch 7/10\n",
      "3/3 [==============================] - 1s 205ms/step - loss: 1.0410 - sparse_categorical_accuracy: 0.8696\n",
      "Epoch 8/10\n",
      "3/3 [==============================] - 1s 210ms/step - loss: 0.7359 - sparse_categorical_accuracy: 0.9130\n",
      "Epoch 9/10\n",
      "3/3 [==============================] - 1s 206ms/step - loss: 0.6598 - sparse_categorical_accuracy: 0.9565\n",
      "Epoch 10/10\n",
      "3/3 [==============================] - 1s 205ms/step - loss: 0.5469 - sparse_categorical_accuracy: 1.0000\n"
     ]
    },
    {
     "name": "stderr",
     "output_type": "stream",
     "text": [
      "\r",
      "1it [00:14, 14.83s/it]"
     ]
    },
    {
     "name": "stdout",
     "output_type": "stream",
     "text": [
      "Epoch 1/10\n",
      "3/3 [==============================] - 1s 209ms/step - loss: 1.2164 - sparse_categorical_accuracy: 0.6522\n",
      "Epoch 2/10\n",
      "3/3 [==============================] - 1s 203ms/step - loss: 1.0486 - sparse_categorical_accuracy: 0.7391\n",
      "Epoch 3/10\n",
      "3/3 [==============================] - 1s 205ms/step - loss: 0.9707 - sparse_categorical_accuracy: 0.9130\n",
      "Epoch 4/10\n",
      "3/3 [==============================] - 1s 205ms/step - loss: 0.9267 - sparse_categorical_accuracy: 0.9565\n",
      "Epoch 5/10\n",
      "3/3 [==============================] - 1s 206ms/step - loss: 0.8627 - sparse_categorical_accuracy: 0.9565\n",
      "Epoch 6/10\n",
      "3/3 [==============================] - 1s 204ms/step - loss: 0.8944 - sparse_categorical_accuracy: 0.8696\n",
      "Epoch 7/10\n",
      "3/3 [==============================] - 1s 205ms/step - loss: 0.9024 - sparse_categorical_accuracy: 0.9130\n",
      "Epoch 8/10\n",
      "3/3 [==============================] - 1s 206ms/step - loss: 0.8602 - sparse_categorical_accuracy: 0.9130\n",
      "Epoch 9/10\n",
      "3/3 [==============================] - 1s 203ms/step - loss: 0.5784 - sparse_categorical_accuracy: 0.9565\n",
      "Epoch 10/10\n",
      "3/3 [==============================] - 1s 205ms/step - loss: 1.0363 - sparse_categorical_accuracy: 0.8696\n"
     ]
    },
    {
     "name": "stderr",
     "output_type": "stream",
     "text": [
      "\r",
      "2it [00:29, 14.77s/it]"
     ]
    },
    {
     "name": "stdout",
     "output_type": "stream",
     "text": [
      "Epoch 1/10\n",
      "3/3 [==============================] - 1s 208ms/step - loss: 1.1892 - sparse_categorical_accuracy: 0.6957\n",
      "Epoch 2/10\n",
      "3/3 [==============================] - 1s 205ms/step - loss: 1.2175 - sparse_categorical_accuracy: 0.6957\n",
      "Epoch 3/10\n",
      "3/3 [==============================] - 1s 203ms/step - loss: 0.8417 - sparse_categorical_accuracy: 0.9565\n",
      "Epoch 4/10\n",
      "3/3 [==============================] - 1s 204ms/step - loss: 0.9779 - sparse_categorical_accuracy: 0.9130\n",
      "Epoch 5/10\n",
      "3/3 [==============================] - 1s 203ms/step - loss: 1.3483 - sparse_categorical_accuracy: 0.9130\n",
      "Epoch 6/10\n",
      "3/3 [==============================] - 1s 203ms/step - loss: 0.9350 - sparse_categorical_accuracy: 0.9130\n",
      "Epoch 7/10\n",
      "3/3 [==============================] - 1s 204ms/step - loss: 1.0771 - sparse_categorical_accuracy: 0.7826\n",
      "Epoch 8/10\n",
      "3/3 [==============================] - 1s 203ms/step - loss: 0.9679 - sparse_categorical_accuracy: 0.9130\n",
      "Epoch 9/10\n",
      "3/3 [==============================] - 1s 205ms/step - loss: 0.7227 - sparse_categorical_accuracy: 0.9565\n",
      "Epoch 10/10\n",
      "3/3 [==============================] - 1s 205ms/step - loss: 0.8168 - sparse_categorical_accuracy: 0.8696\n"
     ]
    },
    {
     "name": "stderr",
     "output_type": "stream",
     "text": [
      "\r",
      "3it [00:44, 14.71s/it]"
     ]
    },
    {
     "name": "stdout",
     "output_type": "stream",
     "text": [
      "Epoch 1/10\n",
      "3/3 [==============================] - 1s 211ms/step - loss: 1.0227 - sparse_categorical_accuracy: 0.6957\n",
      "Epoch 2/10\n",
      "3/3 [==============================] - 1s 204ms/step - loss: 0.7699 - sparse_categorical_accuracy: 0.9565\n",
      "Epoch 3/10\n",
      "3/3 [==============================] - 1s 205ms/step - loss: 0.7942 - sparse_categorical_accuracy: 0.9565\n",
      "Epoch 4/10\n",
      "3/3 [==============================] - 1s 205ms/step - loss: 0.7187 - sparse_categorical_accuracy: 1.0000\n",
      "Epoch 5/10\n",
      "3/3 [==============================] - 1s 207ms/step - loss: 1.0915 - sparse_categorical_accuracy: 0.8261\n",
      "Epoch 6/10\n",
      "3/3 [==============================] - 1s 203ms/step - loss: 1.1777 - sparse_categorical_accuracy: 0.8261\n",
      "Epoch 7/10\n",
      "3/3 [==============================] - 1s 205ms/step - loss: 0.9630 - sparse_categorical_accuracy: 0.8261\n",
      "Epoch 8/10\n",
      "3/3 [==============================] - 1s 203ms/step - loss: 0.9637 - sparse_categorical_accuracy: 0.8696\n",
      "Epoch 9/10\n",
      "3/3 [==============================] - 1s 205ms/step - loss: 0.6425 - sparse_categorical_accuracy: 0.9565\n",
      "Epoch 10/10\n",
      "3/3 [==============================] - 1s 208ms/step - loss: 0.6535 - sparse_categorical_accuracy: 0.9565\n"
     ]
    },
    {
     "name": "stderr",
     "output_type": "stream",
     "text": [
      "\r",
      "4it [00:58, 14.70s/it]"
     ]
    },
    {
     "name": "stdout",
     "output_type": "stream",
     "text": [
      "Epoch 1/10\n",
      "3/3 [==============================] - 1s 212ms/step - loss: 1.4461 - sparse_categorical_accuracy: 0.4348\n",
      "Epoch 2/10\n",
      "3/3 [==============================] - 1s 204ms/step - loss: 1.4951 - sparse_categorical_accuracy: 0.6522\n",
      "Epoch 3/10\n",
      "3/3 [==============================] - 1s 203ms/step - loss: 1.0481 - sparse_categorical_accuracy: 0.9565\n",
      "Epoch 4/10\n",
      "3/3 [==============================] - 1s 210ms/step - loss: 1.1065 - sparse_categorical_accuracy: 0.9130\n",
      "Epoch 5/10\n",
      "3/3 [==============================] - 1s 203ms/step - loss: 1.1283 - sparse_categorical_accuracy: 0.9565\n",
      "Epoch 6/10\n",
      "3/3 [==============================] - 1s 211ms/step - loss: 1.1554 - sparse_categorical_accuracy: 0.8696\n",
      "Epoch 7/10\n",
      "3/3 [==============================] - 1s 213ms/step - loss: 1.5216 - sparse_categorical_accuracy: 0.7391\n",
      "Epoch 8/10\n",
      "3/3 [==============================] - 1s 217ms/step - loss: 1.0295 - sparse_categorical_accuracy: 0.9565\n",
      "Epoch 9/10\n",
      "3/3 [==============================] - 1s 220ms/step - loss: 0.9935 - sparse_categorical_accuracy: 0.8696\n",
      "Epoch 10/10\n",
      "3/3 [==============================] - 1s 213ms/step - loss: 1.1494 - sparse_categorical_accuracy: 0.8696\n"
     ]
    },
    {
     "name": "stderr",
     "output_type": "stream",
     "text": [
      "\r",
      "5it [01:13, 14.72s/it]"
     ]
    },
    {
     "name": "stdout",
     "output_type": "stream",
     "text": [
      "Epoch 1/10\n",
      "3/3 [==============================] - 1s 206ms/step - loss: 1.6237 - sparse_categorical_accuracy: 0.4783\n",
      "Epoch 2/10\n",
      "3/3 [==============================] - 1s 207ms/step - loss: 1.0643 - sparse_categorical_accuracy: 0.7391\n",
      "Epoch 3/10\n",
      "3/3 [==============================] - 1s 209ms/step - loss: 0.9355 - sparse_categorical_accuracy: 0.9130\n",
      "Epoch 4/10\n",
      "3/3 [==============================] - 1s 203ms/step - loss: 0.9852 - sparse_categorical_accuracy: 0.9130\n",
      "Epoch 5/10\n",
      "3/3 [==============================] - 1s 203ms/step - loss: 0.8697 - sparse_categorical_accuracy: 1.0000\n",
      "Epoch 6/10\n",
      "3/3 [==============================] - 1s 203ms/step - loss: 0.8224 - sparse_categorical_accuracy: 0.9565\n",
      "Epoch 7/10\n",
      "3/3 [==============================] - 1s 203ms/step - loss: 0.8536 - sparse_categorical_accuracy: 0.9565\n",
      "Epoch 8/10\n",
      "3/3 [==============================] - 1s 204ms/step - loss: 0.6326 - sparse_categorical_accuracy: 0.9565\n",
      "Epoch 9/10\n",
      "3/3 [==============================] - 1s 199ms/step - loss: 0.9475 - sparse_categorical_accuracy: 0.8261\n",
      "Epoch 10/10\n",
      "3/3 [==============================] - 1s 217ms/step - loss: 0.6866 - sparse_categorical_accuracy: 0.9130\n"
     ]
    },
    {
     "name": "stderr",
     "output_type": "stream",
     "text": [
      "\r",
      "6it [01:27, 14.66s/it]"
     ]
    },
    {
     "name": "stdout",
     "output_type": "stream",
     "text": [
      "Epoch 1/10\n",
      "3/3 [==============================] - 1s 208ms/step - loss: 1.0549 - sparse_categorical_accuracy: 0.6957\n",
      "Epoch 2/10\n",
      "3/3 [==============================] - 1s 202ms/step - loss: 0.9924 - sparse_categorical_accuracy: 0.7826\n",
      "Epoch 3/10\n",
      "3/3 [==============================] - 1s 213ms/step - loss: 0.8213 - sparse_categorical_accuracy: 0.9565\n",
      "Epoch 4/10\n",
      "3/3 [==============================] - 1s 204ms/step - loss: 1.1403 - sparse_categorical_accuracy: 0.8696\n",
      "Epoch 5/10\n",
      "3/3 [==============================] - 1s 203ms/step - loss: 0.9800 - sparse_categorical_accuracy: 0.9130\n",
      "Epoch 6/10\n",
      "3/3 [==============================] - 1s 204ms/step - loss: 0.9604 - sparse_categorical_accuracy: 0.8696\n",
      "Epoch 7/10\n",
      "3/3 [==============================] - 1s 199ms/step - loss: 0.6690 - sparse_categorical_accuracy: 0.9130\n",
      "Epoch 8/10\n",
      "3/3 [==============================] - 1s 200ms/step - loss: 0.6221 - sparse_categorical_accuracy: 0.9565\n",
      "Epoch 9/10\n",
      "3/3 [==============================] - 1s 203ms/step - loss: 0.7193 - sparse_categorical_accuracy: 0.9130\n",
      "Epoch 10/10\n",
      "3/3 [==============================] - 1s 204ms/step - loss: 0.5138 - sparse_categorical_accuracy: 1.0000\n"
     ]
    },
    {
     "name": "stderr",
     "output_type": "stream",
     "text": [
      "\r",
      "7it [01:42, 14.57s/it]"
     ]
    },
    {
     "name": "stdout",
     "output_type": "stream",
     "text": [
      "Epoch 1/10\n",
      "3/3 [==============================] - 1s 235ms/step - loss: 1.2509 - sparse_categorical_accuracy: 0.5652\n",
      "Epoch 2/10\n",
      "3/3 [==============================] - 1s 214ms/step - loss: 1.4330 - sparse_categorical_accuracy: 0.5217\n",
      "Epoch 3/10\n",
      "3/3 [==============================] - 1s 214ms/step - loss: 1.4923 - sparse_categorical_accuracy: 0.6087\n",
      "Epoch 4/10\n",
      "3/3 [==============================] - 1s 214ms/step - loss: 1.2983 - sparse_categorical_accuracy: 0.7826\n",
      "Epoch 5/10\n",
      "3/3 [==============================] - 1s 219ms/step - loss: 1.2622 - sparse_categorical_accuracy: 0.7826\n",
      "Epoch 6/10\n",
      "3/3 [==============================] - 1s 215ms/step - loss: 1.3137 - sparse_categorical_accuracy: 0.8261\n",
      "Epoch 7/10\n",
      "3/3 [==============================] - 1s 214ms/step - loss: 0.9079 - sparse_categorical_accuracy: 0.9565\n",
      "Epoch 8/10\n",
      "3/3 [==============================] - 1s 219ms/step - loss: 0.9720 - sparse_categorical_accuracy: 0.8696\n",
      "Epoch 9/10\n",
      "3/3 [==============================] - 1s 219ms/step - loss: 0.8675 - sparse_categorical_accuracy: 0.9130\n",
      "Epoch 10/10\n",
      "3/3 [==============================] - 1s 211ms/step - loss: 0.7953 - sparse_categorical_accuracy: 0.9565\n"
     ]
    },
    {
     "name": "stderr",
     "output_type": "stream",
     "text": [
      "\r",
      "8it [01:58, 14.92s/it]"
     ]
    },
    {
     "name": "stdout",
     "output_type": "stream",
     "text": [
      "Epoch 1/10\n",
      "3/3 [==============================] - 1s 204ms/step - loss: 0.9848 - sparse_categorical_accuracy: 0.8696\n",
      "Epoch 2/10\n",
      "3/3 [==============================] - 1s 203ms/step - loss: 0.9703 - sparse_categorical_accuracy: 0.8696\n",
      "Epoch 3/10\n",
      "3/3 [==============================] - 1s 202ms/step - loss: 0.9117 - sparse_categorical_accuracy: 0.9565\n",
      "Epoch 4/10\n",
      "3/3 [==============================] - 1s 202ms/step - loss: 1.0535 - sparse_categorical_accuracy: 0.9565\n",
      "Epoch 5/10\n",
      "3/3 [==============================] - 1s 203ms/step - loss: 1.1975 - sparse_categorical_accuracy: 0.8261\n",
      "Epoch 6/10\n",
      "3/3 [==============================] - 1s 203ms/step - loss: 0.7347 - sparse_categorical_accuracy: 0.9565\n",
      "Epoch 7/10\n",
      "3/3 [==============================] - 1s 202ms/step - loss: 0.7944 - sparse_categorical_accuracy: 0.9565\n",
      "Epoch 8/10\n",
      "3/3 [==============================] - 1s 203ms/step - loss: 0.9458 - sparse_categorical_accuracy: 0.8696\n",
      "Epoch 9/10\n",
      "3/3 [==============================] - 1s 202ms/step - loss: 0.5753 - sparse_categorical_accuracy: 0.9565\n",
      "Epoch 10/10\n",
      "3/3 [==============================] - 1s 203ms/step - loss: 0.4791 - sparse_categorical_accuracy: 1.0000\n"
     ]
    },
    {
     "name": "stderr",
     "output_type": "stream",
     "text": [
      "\r",
      "9it [02:12, 14.80s/it]"
     ]
    },
    {
     "name": "stdout",
     "output_type": "stream",
     "text": [
      "Epoch 1/10\n",
      "3/3 [==============================] - 1s 207ms/step - loss: 1.4913 - sparse_categorical_accuracy: 0.6522\n",
      "Epoch 2/10\n",
      "3/3 [==============================] - 1s 202ms/step - loss: 0.8251 - sparse_categorical_accuracy: 0.9130\n",
      "Epoch 3/10\n",
      "3/3 [==============================] - 1s 202ms/step - loss: 1.0050 - sparse_categorical_accuracy: 0.7826\n",
      "Epoch 4/10\n",
      "3/3 [==============================] - 1s 202ms/step - loss: 1.1760 - sparse_categorical_accuracy: 0.9130\n",
      "Epoch 5/10\n",
      "3/3 [==============================] - 1s 197ms/step - loss: 0.8965 - sparse_categorical_accuracy: 1.0000\n",
      "Epoch 6/10\n",
      "3/3 [==============================] - 1s 208ms/step - loss: 0.7888 - sparse_categorical_accuracy: 1.0000\n",
      "Epoch 7/10\n",
      "3/3 [==============================] - 1s 208ms/step - loss: 0.9459 - sparse_categorical_accuracy: 0.8696\n",
      "Epoch 8/10\n",
      "3/3 [==============================] - 1s 203ms/step - loss: 0.6857 - sparse_categorical_accuracy: 0.9565\n",
      "Epoch 9/10\n",
      "3/3 [==============================] - 1s 205ms/step - loss: 0.8909 - sparse_categorical_accuracy: 0.8261\n",
      "Epoch 10/10\n",
      "3/3 [==============================] - 1s 203ms/step - loss: 0.8447 - sparse_categorical_accuracy: 0.8261\n"
     ]
    },
    {
     "name": "stderr",
     "output_type": "stream",
     "text": [
      "\r",
      "10it [02:26, 14.63s/it]"
     ]
    },
    {
     "name": "stdout",
     "output_type": "stream",
     "text": [
      "Epoch 1/10\n",
      "3/3 [==============================] - 1s 209ms/step - loss: 1.7330 - sparse_categorical_accuracy: 0.4348\n",
      "Epoch 2/10\n",
      "3/3 [==============================] - 1s 201ms/step - loss: 1.0646 - sparse_categorical_accuracy: 0.8261\n",
      "Epoch 3/10\n",
      "3/3 [==============================] - 1s 203ms/step - loss: 1.0825 - sparse_categorical_accuracy: 0.9565\n",
      "Epoch 4/10\n",
      "3/3 [==============================] - 1s 207ms/step - loss: 1.1196 - sparse_categorical_accuracy: 0.9130\n",
      "Epoch 5/10\n",
      "3/3 [==============================] - 1s 203ms/step - loss: 1.4002 - sparse_categorical_accuracy: 0.7391\n",
      "Epoch 6/10\n",
      "3/3 [==============================] - 1s 219ms/step - loss: 0.7563 - sparse_categorical_accuracy: 1.0000\n",
      "Epoch 7/10\n",
      "3/3 [==============================] - 1s 225ms/step - loss: 1.0668 - sparse_categorical_accuracy: 0.8261\n",
      "Epoch 8/10\n",
      "3/3 [==============================] - 1s 220ms/step - loss: 0.6244 - sparse_categorical_accuracy: 1.0000\n",
      "Epoch 9/10\n",
      "3/3 [==============================] - 1s 219ms/step - loss: 0.7306 - sparse_categorical_accuracy: 0.8696\n",
      "Epoch 10/10\n",
      "3/3 [==============================] - 1s 225ms/step - loss: 1.0618 - sparse_categorical_accuracy: 0.7826\n"
     ]
    },
    {
     "name": "stderr",
     "output_type": "stream",
     "text": [
      "\r",
      "11it [02:41, 14.66s/it]"
     ]
    },
    {
     "name": "stdout",
     "output_type": "stream",
     "text": [
      "Epoch 1/10\n",
      "3/3 [==============================] - 1s 209ms/step - loss: 2.0784 - sparse_categorical_accuracy: 0.3913\n",
      "Epoch 2/10\n",
      "3/3 [==============================] - 1s 203ms/step - loss: 1.1299 - sparse_categorical_accuracy: 0.7826\n",
      "Epoch 3/10\n",
      "3/3 [==============================] - 1s 224ms/step - loss: 0.9990 - sparse_categorical_accuracy: 0.9130\n",
      "Epoch 4/10\n",
      "3/3 [==============================] - 1s 231ms/step - loss: 1.2469 - sparse_categorical_accuracy: 0.8696\n",
      "Epoch 5/10\n",
      "3/3 [==============================] - 1s 214ms/step - loss: 1.0010 - sparse_categorical_accuracy: 0.9565\n",
      "Epoch 6/10\n",
      "3/3 [==============================] - 1s 203ms/step - loss: 0.9484 - sparse_categorical_accuracy: 0.9130\n",
      "Epoch 7/10\n",
      "3/3 [==============================] - 1s 208ms/step - loss: 1.1818 - sparse_categorical_accuracy: 0.7826\n",
      "Epoch 8/10\n",
      "3/3 [==============================] - 1s 207ms/step - loss: 0.8402 - sparse_categorical_accuracy: 0.9130\n",
      "Epoch 9/10\n",
      "3/3 [==============================] - 1s 207ms/step - loss: 0.7250 - sparse_categorical_accuracy: 0.9130\n",
      "Epoch 10/10\n",
      "3/3 [==============================] - 1s 214ms/step - loss: 0.5628 - sparse_categorical_accuracy: 1.0000\n"
     ]
    },
    {
     "name": "stderr",
     "output_type": "stream",
     "text": [
      "\r",
      "12it [02:56, 14.75s/it]"
     ]
    },
    {
     "name": "stdout",
     "output_type": "stream",
     "text": [
      "Epoch 1/10\n",
      "3/3 [==============================] - 1s 214ms/step - loss: 1.5857 - sparse_categorical_accuracy: 0.4348\n",
      "Epoch 2/10\n",
      "3/3 [==============================] - 1s 203ms/step - loss: 1.0934 - sparse_categorical_accuracy: 0.7826\n",
      "Epoch 3/10\n",
      "3/3 [==============================] - 1s 218ms/step - loss: 1.1345 - sparse_categorical_accuracy: 0.8261\n",
      "Epoch 4/10\n",
      "3/3 [==============================] - 1s 227ms/step - loss: 1.0632 - sparse_categorical_accuracy: 1.0000\n",
      "Epoch 5/10\n",
      "3/3 [==============================] - 1s 208ms/step - loss: 1.0695 - sparse_categorical_accuracy: 1.0000\n",
      "Epoch 6/10\n",
      "3/3 [==============================] - 1s 202ms/step - loss: 0.9758 - sparse_categorical_accuracy: 1.0000\n",
      "Epoch 7/10\n",
      "3/3 [==============================] - 1s 203ms/step - loss: 0.8581 - sparse_categorical_accuracy: 1.0000\n",
      "Epoch 8/10\n",
      "3/3 [==============================] - 1s 208ms/step - loss: 0.7480 - sparse_categorical_accuracy: 1.0000\n",
      "Epoch 9/10\n",
      "3/3 [==============================] - 1s 225ms/step - loss: 0.6561 - sparse_categorical_accuracy: 1.0000\n",
      "Epoch 10/10\n",
      "3/3 [==============================] - 1s 231ms/step - loss: 1.2513 - sparse_categorical_accuracy: 0.7826\n"
     ]
    },
    {
     "name": "stderr",
     "output_type": "stream",
     "text": [
      "\r",
      "13it [03:11, 14.75s/it]"
     ]
    },
    {
     "name": "stdout",
     "output_type": "stream",
     "text": [
      "Epoch 1/10\n",
      "3/3 [==============================] - 1s 222ms/step - loss: 1.0120 - sparse_categorical_accuracy: 0.8261\n",
      "Epoch 2/10\n",
      "3/3 [==============================] - 1s 208ms/step - loss: 1.0425 - sparse_categorical_accuracy: 0.8261\n",
      "Epoch 3/10\n",
      "3/3 [==============================] - 1s 203ms/step - loss: 1.0550 - sparse_categorical_accuracy: 0.8261\n",
      "Epoch 4/10\n",
      "3/3 [==============================] - 1s 203ms/step - loss: 0.9896 - sparse_categorical_accuracy: 0.8696\n",
      "Epoch 5/10\n",
      "3/3 [==============================] - 1s 203ms/step - loss: 1.3189 - sparse_categorical_accuracy: 0.7391\n",
      "Epoch 6/10\n",
      "3/3 [==============================] - 1s 207ms/step - loss: 1.0929 - sparse_categorical_accuracy: 0.8261\n",
      "Epoch 7/10\n",
      "3/3 [==============================] - 1s 225ms/step - loss: 0.8546 - sparse_categorical_accuracy: 0.9130\n",
      "Epoch 8/10\n",
      "3/3 [==============================] - 1s 225ms/step - loss: 0.6396 - sparse_categorical_accuracy: 1.0000\n",
      "Epoch 9/10\n",
      "3/3 [==============================] - 1s 209ms/step - loss: 0.7829 - sparse_categorical_accuracy: 0.9130\n",
      "Epoch 10/10\n",
      "3/3 [==============================] - 1s 203ms/step - loss: 0.6115 - sparse_categorical_accuracy: 0.9130\n"
     ]
    },
    {
     "name": "stderr",
     "output_type": "stream",
     "text": [
      "\r",
      "14it [03:26, 14.77s/it]"
     ]
    },
    {
     "name": "stdout",
     "output_type": "stream",
     "text": [
      "Epoch 1/10\n",
      "3/3 [==============================] - 1s 208ms/step - loss: 1.2268 - sparse_categorical_accuracy: 0.6522\n",
      "Epoch 2/10\n",
      "3/3 [==============================] - 1s 224ms/step - loss: 0.8815 - sparse_categorical_accuracy: 0.8696\n",
      "Epoch 3/10\n",
      "3/3 [==============================] - 1s 207ms/step - loss: 0.8594 - sparse_categorical_accuracy: 0.9565\n",
      "Epoch 4/10\n",
      "3/3 [==============================] - 1s 200ms/step - loss: 1.1924 - sparse_categorical_accuracy: 0.8261\n",
      "Epoch 5/10\n",
      "3/3 [==============================] - 1s 202ms/step - loss: 0.8484 - sparse_categorical_accuracy: 0.9565\n",
      "Epoch 6/10\n",
      "3/3 [==============================] - 1s 208ms/step - loss: 0.8741 - sparse_categorical_accuracy: 0.9565\n",
      "Epoch 7/10\n",
      "3/3 [==============================] - 1s 203ms/step - loss: 0.6718 - sparse_categorical_accuracy: 0.9565\n",
      "Epoch 8/10\n",
      "3/3 [==============================] - 1s 220ms/step - loss: 0.6007 - sparse_categorical_accuracy: 0.9565\n",
      "Epoch 9/10\n",
      "3/3 [==============================] - 1s 236ms/step - loss: 0.6532 - sparse_categorical_accuracy: 0.9565\n",
      "Epoch 10/10\n",
      "3/3 [==============================] - 1s 206ms/step - loss: 0.5371 - sparse_categorical_accuracy: 0.9130\n"
     ]
    },
    {
     "name": "stderr",
     "output_type": "stream",
     "text": [
      "\r",
      "15it [03:41, 14.85s/it]"
     ]
    },
    {
     "name": "stdout",
     "output_type": "stream",
     "text": [
      "Epoch 1/10\n",
      "3/3 [==============================] - 1s 205ms/step - loss: 1.8453 - sparse_categorical_accuracy: 0.4348\n",
      "Epoch 2/10\n",
      "3/3 [==============================] - 1s 203ms/step - loss: 1.2536 - sparse_categorical_accuracy: 0.6957\n",
      "Epoch 3/10\n",
      "3/3 [==============================] - 1s 208ms/step - loss: 1.3204 - sparse_categorical_accuracy: 0.7391\n",
      "Epoch 4/10\n",
      "3/3 [==============================] - 1s 203ms/step - loss: 1.3954 - sparse_categorical_accuracy: 0.7391\n",
      "Epoch 5/10\n",
      "3/3 [==============================] - 1s 218ms/step - loss: 1.3333 - sparse_categorical_accuracy: 0.8696\n",
      "Epoch 6/10\n",
      "3/3 [==============================] - 1s 209ms/step - loss: 1.1974 - sparse_categorical_accuracy: 0.8696\n",
      "Epoch 7/10\n",
      "3/3 [==============================] - 1s 203ms/step - loss: 1.1529 - sparse_categorical_accuracy: 0.9130\n",
      "Epoch 8/10\n",
      "3/3 [==============================] - 1s 207ms/step - loss: 0.8942 - sparse_categorical_accuracy: 0.9565\n",
      "Epoch 9/10\n",
      "3/3 [==============================] - 1s 201ms/step - loss: 0.9003 - sparse_categorical_accuracy: 0.8696\n",
      "Epoch 10/10\n",
      "3/3 [==============================] - 1s 203ms/step - loss: 0.6274 - sparse_categorical_accuracy: 0.9565\n"
     ]
    },
    {
     "name": "stderr",
     "output_type": "stream",
     "text": [
      "\r",
      "16it [03:55, 14.69s/it]"
     ]
    },
    {
     "name": "stdout",
     "output_type": "stream",
     "text": [
      "Epoch 1/10\n",
      "3/3 [==============================] - 1s 212ms/step - loss: 1.3177 - sparse_categorical_accuracy: 0.5652\n",
      "Epoch 2/10\n",
      "3/3 [==============================] - 1s 207ms/step - loss: 1.3081 - sparse_categorical_accuracy: 0.6522\n",
      "Epoch 3/10\n",
      "3/3 [==============================] - 1s 208ms/step - loss: 1.0708 - sparse_categorical_accuracy: 0.8696\n",
      "Epoch 4/10\n",
      "3/3 [==============================] - 1s 203ms/step - loss: 1.1261 - sparse_categorical_accuracy: 0.7826\n",
      "Epoch 5/10\n",
      "3/3 [==============================] - 1s 203ms/step - loss: 1.1094 - sparse_categorical_accuracy: 0.8261\n",
      "Epoch 6/10\n",
      "3/3 [==============================] - 1s 208ms/step - loss: 0.7981 - sparse_categorical_accuracy: 0.8696\n",
      "Epoch 7/10\n",
      "3/3 [==============================] - 1s 203ms/step - loss: 0.6758 - sparse_categorical_accuracy: 1.0000\n",
      "Epoch 8/10\n",
      "3/3 [==============================] - 1s 208ms/step - loss: 0.7190 - sparse_categorical_accuracy: 0.9565\n",
      "Epoch 9/10\n",
      "3/3 [==============================] - 1s 208ms/step - loss: 0.7015 - sparse_categorical_accuracy: 0.9130\n",
      "Epoch 10/10\n",
      "3/3 [==============================] - 1s 203ms/step - loss: 0.5918 - sparse_categorical_accuracy: 0.9565\n"
     ]
    },
    {
     "name": "stderr",
     "output_type": "stream",
     "text": [
      "\r",
      "17it [04:10, 14.66s/it]"
     ]
    },
    {
     "name": "stdout",
     "output_type": "stream",
     "text": [
      "Epoch 1/10\n",
      "3/3 [==============================] - 1s 207ms/step - loss: 1.4303 - sparse_categorical_accuracy: 0.5652\n",
      "Epoch 2/10\n",
      "3/3 [==============================] - 1s 200ms/step - loss: 0.9963 - sparse_categorical_accuracy: 0.8261\n",
      "Epoch 3/10\n",
      "3/3 [==============================] - 1s 199ms/step - loss: 1.2714 - sparse_categorical_accuracy: 0.8261\n",
      "Epoch 4/10\n",
      "3/3 [==============================] - 1s 224ms/step - loss: 1.0368 - sparse_categorical_accuracy: 0.9130\n",
      "Epoch 5/10\n",
      "3/3 [==============================] - 1s 202ms/step - loss: 1.0172 - sparse_categorical_accuracy: 0.9565\n",
      "Epoch 6/10\n",
      "3/3 [==============================] - 1s 203ms/step - loss: 1.5271 - sparse_categorical_accuracy: 0.6957\n",
      "Epoch 7/10\n",
      "3/3 [==============================] - 1s 203ms/step - loss: 0.9081 - sparse_categorical_accuracy: 0.9130\n",
      "Epoch 8/10\n",
      "3/3 [==============================] - 1s 203ms/step - loss: 0.7150 - sparse_categorical_accuracy: 1.0000\n",
      "Epoch 9/10\n",
      "3/3 [==============================] - 1s 203ms/step - loss: 0.6750 - sparse_categorical_accuracy: 0.9130\n",
      "Epoch 10/10\n",
      "3/3 [==============================] - 1s 202ms/step - loss: 0.7905 - sparse_categorical_accuracy: 0.8696\n"
     ]
    },
    {
     "name": "stderr",
     "output_type": "stream",
     "text": [
      "\r",
      "18it [04:24, 14.55s/it]"
     ]
    },
    {
     "name": "stdout",
     "output_type": "stream",
     "text": [
      "Epoch 1/10\n",
      "3/3 [==============================] - 1s 214ms/step - loss: 1.3283 - sparse_categorical_accuracy: 0.6087\n",
      "Epoch 2/10\n",
      "3/3 [==============================] - 1s 208ms/step - loss: 0.8943 - sparse_categorical_accuracy: 0.9565\n",
      "Epoch 3/10\n",
      "3/3 [==============================] - 1s 202ms/step - loss: 1.1406 - sparse_categorical_accuracy: 0.9130\n",
      "Epoch 4/10\n",
      "3/3 [==============================] - 1s 208ms/step - loss: 1.1114 - sparse_categorical_accuracy: 0.8696\n",
      "Epoch 5/10\n",
      "3/3 [==============================] - 1s 202ms/step - loss: 0.9867 - sparse_categorical_accuracy: 0.9565\n",
      "Epoch 6/10\n",
      "3/3 [==============================] - 1s 207ms/step - loss: 0.9988 - sparse_categorical_accuracy: 0.9130\n",
      "Epoch 7/10\n",
      "3/3 [==============================] - 1s 203ms/step - loss: 0.8281 - sparse_categorical_accuracy: 0.9130\n",
      "Epoch 8/10\n",
      "3/3 [==============================] - 1s 207ms/step - loss: 0.8290 - sparse_categorical_accuracy: 0.9130\n",
      "Epoch 9/10\n",
      "3/3 [==============================] - 1s 206ms/step - loss: 0.6786 - sparse_categorical_accuracy: 0.9565\n",
      "Epoch 10/10\n",
      "3/3 [==============================] - 1s 209ms/step - loss: 0.9346 - sparse_categorical_accuracy: 0.9130\n"
     ]
    },
    {
     "name": "stderr",
     "output_type": "stream",
     "text": [
      "\r",
      "19it [04:38, 14.57s/it]"
     ]
    },
    {
     "name": "stdout",
     "output_type": "stream",
     "text": [
      "Epoch 1/10\n",
      "3/3 [==============================] - 1s 210ms/step - loss: 1.1734 - sparse_categorical_accuracy: 0.5652\n",
      "Epoch 2/10\n",
      "3/3 [==============================] - 1s 206ms/step - loss: 0.9181 - sparse_categorical_accuracy: 0.8696\n",
      "Epoch 3/10\n",
      "3/3 [==============================] - 1s 204ms/step - loss: 0.8782 - sparse_categorical_accuracy: 0.8696\n",
      "Epoch 4/10\n",
      "3/3 [==============================] - 1s 202ms/step - loss: 1.0561 - sparse_categorical_accuracy: 0.9130\n",
      "Epoch 5/10\n",
      "3/3 [==============================] - 1s 203ms/step - loss: 0.9406 - sparse_categorical_accuracy: 0.9130\n",
      "Epoch 6/10\n",
      "3/3 [==============================] - 1s 207ms/step - loss: 1.4569 - sparse_categorical_accuracy: 0.7391\n",
      "Epoch 7/10\n",
      "3/3 [==============================] - 1s 203ms/step - loss: 1.2252 - sparse_categorical_accuracy: 0.6522\n",
      "Epoch 8/10\n",
      "3/3 [==============================] - 1s 214ms/step - loss: 0.9689 - sparse_categorical_accuracy: 0.9130\n",
      "Epoch 9/10\n",
      "3/3 [==============================] - 1s 214ms/step - loss: 0.7713 - sparse_categorical_accuracy: 0.8696\n",
      "Epoch 10/10\n",
      "3/3 [==============================] - 1s 203ms/step - loss: 0.7142 - sparse_categorical_accuracy: 0.9565\n"
     ]
    },
    {
     "name": "stderr",
     "output_type": "stream",
     "text": [
      "\r",
      "20it [04:53, 14.49s/it]"
     ]
    },
    {
     "name": "stdout",
     "output_type": "stream",
     "text": [
      "Epoch 1/10\n",
      "3/3 [==============================] - 1s 204ms/step - loss: 1.4616 - sparse_categorical_accuracy: 0.6087\n",
      "Epoch 2/10\n",
      "3/3 [==============================] - 1s 203ms/step - loss: 1.2443 - sparse_categorical_accuracy: 0.6522\n",
      "Epoch 3/10\n",
      "3/3 [==============================] - 1s 202ms/step - loss: 1.0690 - sparse_categorical_accuracy: 0.8261\n",
      "Epoch 4/10\n",
      "3/3 [==============================] - 1s 207ms/step - loss: 0.8981 - sparse_categorical_accuracy: 0.9565\n",
      "Epoch 5/10\n",
      "3/3 [==============================] - 1s 208ms/step - loss: 1.2504 - sparse_categorical_accuracy: 0.8261\n",
      "Epoch 6/10\n",
      "3/3 [==============================] - 1s 203ms/step - loss: 0.7710 - sparse_categorical_accuracy: 1.0000\n",
      "Epoch 7/10\n",
      "3/3 [==============================] - 1s 206ms/step - loss: 0.9045 - sparse_categorical_accuracy: 0.8261\n",
      "Epoch 8/10\n",
      "3/3 [==============================] - 1s 201ms/step - loss: 1.0350 - sparse_categorical_accuracy: 0.6957\n",
      "Epoch 9/10\n",
      "3/3 [==============================] - 1s 203ms/step - loss: 0.7607 - sparse_categorical_accuracy: 0.8696\n",
      "Epoch 10/10\n",
      "3/3 [==============================] - 1s 208ms/step - loss: 0.6486 - sparse_categorical_accuracy: 0.9565\n"
     ]
    },
    {
     "name": "stderr",
     "output_type": "stream",
     "text": [
      "\r",
      "21it [05:07, 14.51s/it]"
     ]
    },
    {
     "name": "stdout",
     "output_type": "stream",
     "text": [
      "Epoch 1/10\n",
      "3/3 [==============================] - 1s 205ms/step - loss: 1.3391 - sparse_categorical_accuracy: 0.6087\n",
      "Epoch 2/10\n",
      "3/3 [==============================] - 1s 203ms/step - loss: 1.0651 - sparse_categorical_accuracy: 0.8261\n",
      "Epoch 3/10\n",
      "3/3 [==============================] - 1s 203ms/step - loss: 1.3940 - sparse_categorical_accuracy: 0.6957\n",
      "Epoch 4/10\n",
      "3/3 [==============================] - 1s 203ms/step - loss: 1.1629 - sparse_categorical_accuracy: 0.9130\n",
      "Epoch 5/10\n",
      "3/3 [==============================] - 1s 208ms/step - loss: 0.9240 - sparse_categorical_accuracy: 0.9565\n",
      "Epoch 6/10\n",
      "3/3 [==============================] - 1s 202ms/step - loss: 0.9002 - sparse_categorical_accuracy: 1.0000\n",
      "Epoch 7/10\n",
      "3/3 [==============================] - 1s 218ms/step - loss: 0.8392 - sparse_categorical_accuracy: 1.0000\n",
      "Epoch 8/10\n",
      "3/3 [==============================] - 1s 208ms/step - loss: 0.7242 - sparse_categorical_accuracy: 1.0000\n",
      "Epoch 9/10\n",
      "3/3 [==============================] - 1s 203ms/step - loss: 1.4669 - sparse_categorical_accuracy: 0.6522\n",
      "Epoch 10/10\n",
      "3/3 [==============================] - 1s 203ms/step - loss: 0.6401 - sparse_categorical_accuracy: 0.9565\n"
     ]
    },
    {
     "name": "stderr",
     "output_type": "stream",
     "text": [
      "\r",
      "22it [05:22, 14.45s/it]"
     ]
    },
    {
     "name": "stdout",
     "output_type": "stream",
     "text": [
      "Epoch 1/10\n",
      "3/3 [==============================] - 1s 218ms/step - loss: 1.2892 - sparse_categorical_accuracy: 0.7826\n",
      "Epoch 2/10\n",
      "3/3 [==============================] - 1s 202ms/step - loss: 0.8782 - sparse_categorical_accuracy: 0.8261\n",
      "Epoch 3/10\n",
      "3/3 [==============================] - 1s 208ms/step - loss: 0.8839 - sparse_categorical_accuracy: 1.0000\n",
      "Epoch 4/10\n",
      "3/3 [==============================] - 1s 203ms/step - loss: 1.1925 - sparse_categorical_accuracy: 0.8696\n",
      "Epoch 5/10\n",
      "3/3 [==============================] - 1s 203ms/step - loss: 1.4228 - sparse_categorical_accuracy: 0.8261\n",
      "Epoch 6/10\n",
      "3/3 [==============================] - 1s 203ms/step - loss: 1.0740 - sparse_categorical_accuracy: 0.9130\n",
      "Epoch 7/10\n",
      "3/3 [==============================] - 1s 208ms/step - loss: 1.1193 - sparse_categorical_accuracy: 0.7826\n",
      "Epoch 8/10\n",
      "3/3 [==============================] - 1s 203ms/step - loss: 0.8185 - sparse_categorical_accuracy: 0.9130\n",
      "Epoch 9/10\n",
      "3/3 [==============================] - 1s 208ms/step - loss: 0.7381 - sparse_categorical_accuracy: 0.9565\n",
      "Epoch 10/10\n",
      "3/3 [==============================] - 1s 203ms/step - loss: 0.8568 - sparse_categorical_accuracy: 0.9565\n"
     ]
    },
    {
     "name": "stderr",
     "output_type": "stream",
     "text": [
      "\r",
      "23it [05:36, 14.54s/it]"
     ]
    },
    {
     "name": "stdout",
     "output_type": "stream",
     "text": [
      "Epoch 1/10\n",
      "3/3 [==============================] - 1s 218ms/step - loss: 1.3855 - sparse_categorical_accuracy: 0.5217\n",
      "Epoch 2/10\n",
      "3/3 [==============================] - 1s 205ms/step - loss: 1.0281 - sparse_categorical_accuracy: 0.8261\n",
      "Epoch 3/10\n",
      "3/3 [==============================] - 1s 203ms/step - loss: 0.8587 - sparse_categorical_accuracy: 1.0000\n",
      "Epoch 4/10\n",
      "3/3 [==============================] - 1s 206ms/step - loss: 0.9537 - sparse_categorical_accuracy: 0.9130\n",
      "Epoch 5/10\n",
      "3/3 [==============================] - 1s 208ms/step - loss: 0.8258 - sparse_categorical_accuracy: 1.0000\n",
      "Epoch 6/10\n",
      "3/3 [==============================] - 1s 203ms/step - loss: 1.1381 - sparse_categorical_accuracy: 0.8696\n",
      "Epoch 7/10\n",
      "3/3 [==============================] - 1s 203ms/step - loss: 0.7871 - sparse_categorical_accuracy: 0.9130\n",
      "Epoch 8/10\n",
      "3/3 [==============================] - 1s 203ms/step - loss: 0.8158 - sparse_categorical_accuracy: 0.9130\n",
      "Epoch 9/10\n",
      "3/3 [==============================] - 1s 208ms/step - loss: 1.0371 - sparse_categorical_accuracy: 0.7826\n",
      "Epoch 10/10\n",
      "3/3 [==============================] - 1s 208ms/step - loss: 0.7023 - sparse_categorical_accuracy: 0.9130\n"
     ]
    },
    {
     "name": "stderr",
     "output_type": "stream",
     "text": [
      "24it [05:51, 14.63s/it]\n",
      "0it [00:00, ?it/s]"
     ]
    },
    {
     "name": "stdout",
     "output_type": "stream",
     "text": [
      "Epoch 1/10\n",
      "5/5 [==============================] - 1s 245ms/step - loss: 1.1207 - sparse_categorical_accuracy: 0.7297\n",
      "Epoch 2/10\n",
      "5/5 [==============================] - 1s 238ms/step - loss: 1.1306 - sparse_categorical_accuracy: 0.7568\n",
      "Epoch 3/10\n",
      "5/5 [==============================] - 1s 237ms/step - loss: 0.8647 - sparse_categorical_accuracy: 0.9459\n",
      "Epoch 4/10\n",
      "5/5 [==============================] - 1s 238ms/step - loss: 0.8162 - sparse_categorical_accuracy: 0.9189\n",
      "Epoch 5/10\n",
      "5/5 [==============================] - 1s 237ms/step - loss: 0.8185 - sparse_categorical_accuracy: 0.9189\n",
      "Epoch 6/10\n",
      "5/5 [==============================] - 1s 237ms/step - loss: 0.9907 - sparse_categorical_accuracy: 0.8649\n",
      "Epoch 7/10\n",
      "5/5 [==============================] - 1s 239ms/step - loss: 0.6059 - sparse_categorical_accuracy: 0.8919\n",
      "Epoch 8/10\n",
      "5/5 [==============================] - 1s 237ms/step - loss: 0.5245 - sparse_categorical_accuracy: 0.9459\n",
      "Epoch 9/10\n",
      "5/5 [==============================] - 1s 236ms/step - loss: 0.6271 - sparse_categorical_accuracy: 0.9189\n",
      "Epoch 10/10\n",
      "5/5 [==============================] - 1s 236ms/step - loss: 0.8205 - sparse_categorical_accuracy: 0.8919\n"
     ]
    },
    {
     "name": "stderr",
     "output_type": "stream",
     "text": [
      "\r",
      "1it [00:20, 20.41s/it]"
     ]
    },
    {
     "name": "stdout",
     "output_type": "stream",
     "text": [
      "Epoch 1/10\n",
      "5/5 [==============================] - 1s 241ms/step - loss: 0.8644 - sparse_categorical_accuracy: 0.8919\n",
      "Epoch 2/10\n",
      "5/5 [==============================] - 1s 247ms/step - loss: 0.9820 - sparse_categorical_accuracy: 0.8919\n",
      "Epoch 3/10\n",
      "5/5 [==============================] - 1s 239ms/step - loss: 0.9805 - sparse_categorical_accuracy: 0.8649\n",
      "Epoch 4/10\n",
      "5/5 [==============================] - 1s 238ms/step - loss: 0.8017 - sparse_categorical_accuracy: 0.9459\n",
      "Epoch 5/10\n",
      "5/5 [==============================] - 1s 239ms/step - loss: 0.7212 - sparse_categorical_accuracy: 0.9189\n",
      "Epoch 6/10\n",
      "5/5 [==============================] - 1s 236ms/step - loss: 0.8413 - sparse_categorical_accuracy: 0.8649\n",
      "Epoch 7/10\n",
      "5/5 [==============================] - 1s 237ms/step - loss: 0.7068 - sparse_categorical_accuracy: 0.8919\n",
      "Epoch 8/10\n",
      "5/5 [==============================] - 1s 239ms/step - loss: 0.6620 - sparse_categorical_accuracy: 0.9459\n",
      "Epoch 9/10\n",
      "5/5 [==============================] - 1s 234ms/step - loss: 1.0030 - sparse_categorical_accuracy: 0.7568\n",
      "Epoch 10/10\n",
      "5/5 [==============================] - 1s 235ms/step - loss: 0.8720 - sparse_categorical_accuracy: 0.8649\n"
     ]
    },
    {
     "name": "stderr",
     "output_type": "stream",
     "text": [
      "\r",
      "2it [00:40, 20.32s/it]"
     ]
    },
    {
     "name": "stdout",
     "output_type": "stream",
     "text": [
      "Epoch 1/10\n",
      "5/5 [==============================] - 1s 239ms/step - loss: 0.9577 - sparse_categorical_accuracy: 0.8378\n",
      "Epoch 2/10\n",
      "5/5 [==============================] - 1s 239ms/step - loss: 1.1101 - sparse_categorical_accuracy: 0.8108\n",
      "Epoch 3/10\n",
      "5/5 [==============================] - 1s 237ms/step - loss: 0.9647 - sparse_categorical_accuracy: 0.8649\n",
      "Epoch 4/10\n",
      "5/5 [==============================] - 1s 238ms/step - loss: 1.0380 - sparse_categorical_accuracy: 0.8108\n",
      "Epoch 5/10\n",
      "5/5 [==============================] - 1s 238ms/step - loss: 0.6744 - sparse_categorical_accuracy: 0.9459\n",
      "Epoch 6/10\n",
      "5/5 [==============================] - 1s 235ms/step - loss: 0.6206 - sparse_categorical_accuracy: 0.9459\n",
      "Epoch 7/10\n",
      "5/5 [==============================] - 1s 235ms/step - loss: 0.8353 - sparse_categorical_accuracy: 0.9189\n",
      "Epoch 8/10\n",
      "5/5 [==============================] - 1s 235ms/step - loss: 0.5873 - sparse_categorical_accuracy: 0.9189\n",
      "Epoch 9/10\n",
      "5/5 [==============================] - 1s 237ms/step - loss: 0.6127 - sparse_categorical_accuracy: 0.8649\n",
      "Epoch 10/10\n",
      "5/5 [==============================] - 1s 248ms/step - loss: 0.5825 - sparse_categorical_accuracy: 0.9189\n"
     ]
    },
    {
     "name": "stderr",
     "output_type": "stream",
     "text": [
      "\r",
      "3it [01:00, 20.36s/it]"
     ]
    },
    {
     "name": "stdout",
     "output_type": "stream",
     "text": [
      "Epoch 1/10\n",
      "5/5 [==============================] - 1s 236ms/step - loss: 1.0636 - sparse_categorical_accuracy: 0.7568\n",
      "Epoch 2/10\n",
      "5/5 [==============================] - 1s 238ms/step - loss: 1.0024 - sparse_categorical_accuracy: 0.7838\n",
      "Epoch 3/10\n",
      "5/5 [==============================] - 1s 235ms/step - loss: 0.9882 - sparse_categorical_accuracy: 0.8108\n",
      "Epoch 4/10\n",
      "5/5 [==============================] - 1s 235ms/step - loss: 0.7913 - sparse_categorical_accuracy: 0.8919\n",
      "Epoch 5/10\n",
      "5/5 [==============================] - 1s 235ms/step - loss: 0.9716 - sparse_categorical_accuracy: 0.8649\n",
      "Epoch 6/10\n",
      "5/5 [==============================] - 1s 233ms/step - loss: 1.0291 - sparse_categorical_accuracy: 0.8108\n",
      "Epoch 7/10\n",
      "5/5 [==============================] - 1s 235ms/step - loss: 0.7601 - sparse_categorical_accuracy: 0.8649\n",
      "Epoch 8/10\n",
      "5/5 [==============================] - 1s 236ms/step - loss: 0.6710 - sparse_categorical_accuracy: 0.8649\n",
      "Epoch 9/10\n",
      "5/5 [==============================] - 1s 238ms/step - loss: 1.0414 - sparse_categorical_accuracy: 0.8108\n",
      "Epoch 10/10\n",
      "5/5 [==============================] - 1s 238ms/step - loss: 0.7745 - sparse_categorical_accuracy: 0.8649\n"
     ]
    },
    {
     "name": "stderr",
     "output_type": "stream",
     "text": [
      "\r",
      "4it [01:20, 20.26s/it]"
     ]
    },
    {
     "name": "stdout",
     "output_type": "stream",
     "text": [
      "Epoch 1/10\n",
      "5/5 [==============================] - 1s 237ms/step - loss: 1.2942 - sparse_categorical_accuracy: 0.5946\n",
      "Epoch 2/10\n",
      "5/5 [==============================] - 1s 249ms/step - loss: 1.1657 - sparse_categorical_accuracy: 0.8378\n",
      "Epoch 3/10\n",
      "5/5 [==============================] - 1s 236ms/step - loss: 0.9358 - sparse_categorical_accuracy: 0.9730\n",
      "Epoch 4/10\n",
      "5/5 [==============================] - 1s 236ms/step - loss: 0.9480 - sparse_categorical_accuracy: 0.9189\n",
      "Epoch 5/10\n",
      "5/5 [==============================] - 1s 235ms/step - loss: 1.1040 - sparse_categorical_accuracy: 0.8378\n",
      "Epoch 6/10\n",
      "5/5 [==============================] - 1s 235ms/step - loss: 0.6587 - sparse_categorical_accuracy: 0.9459\n",
      "Epoch 7/10\n",
      "5/5 [==============================] - 1s 234ms/step - loss: 0.8567 - sparse_categorical_accuracy: 0.8378\n",
      "Epoch 8/10\n",
      "5/5 [==============================] - 1s 238ms/step - loss: 0.7582 - sparse_categorical_accuracy: 0.8649\n",
      "Epoch 9/10\n",
      "5/5 [==============================] - 1s 237ms/step - loss: 0.9048 - sparse_categorical_accuracy: 0.8919\n",
      "Epoch 10/10\n",
      "5/5 [==============================] - 1s 235ms/step - loss: 0.5913 - sparse_categorical_accuracy: 0.8649\n"
     ]
    },
    {
     "name": "stderr",
     "output_type": "stream",
     "text": [
      "\r",
      "5it [01:41, 20.33s/it]"
     ]
    },
    {
     "name": "stdout",
     "output_type": "stream",
     "text": [
      "Epoch 1/10\n",
      "5/5 [==============================] - 1s 238ms/step - loss: 1.1602 - sparse_categorical_accuracy: 0.5676\n",
      "Epoch 2/10\n",
      "5/5 [==============================] - 1s 232ms/step - loss: 1.3646 - sparse_categorical_accuracy: 0.8108\n",
      "Epoch 3/10\n",
      "5/5 [==============================] - 1s 234ms/step - loss: 1.4923 - sparse_categorical_accuracy: 0.6757\n",
      "Epoch 4/10\n",
      "5/5 [==============================] - 1s 239ms/step - loss: 1.1178 - sparse_categorical_accuracy: 0.8108\n",
      "Epoch 5/10\n",
      "5/5 [==============================] - 1s 235ms/step - loss: 0.8830 - sparse_categorical_accuracy: 0.8919\n",
      "Epoch 6/10\n",
      "5/5 [==============================] - 1s 238ms/step - loss: 0.8068 - sparse_categorical_accuracy: 0.9459\n",
      "Epoch 7/10\n",
      "5/5 [==============================] - 1s 236ms/step - loss: 1.2085 - sparse_categorical_accuracy: 0.7838\n",
      "Epoch 8/10\n",
      "5/5 [==============================] - 1s 236ms/step - loss: 0.8884 - sparse_categorical_accuracy: 0.8919\n",
      "Epoch 9/10\n",
      "5/5 [==============================] - 1s 234ms/step - loss: 0.7822 - sparse_categorical_accuracy: 0.8378\n",
      "Epoch 10/10\n",
      "5/5 [==============================] - 1s 247ms/step - loss: 0.9284 - sparse_categorical_accuracy: 0.7568\n"
     ]
    },
    {
     "name": "stderr",
     "output_type": "stream",
     "text": [
      "\r",
      "6it [02:01, 20.25s/it]"
     ]
    },
    {
     "name": "stdout",
     "output_type": "stream",
     "text": [
      "Epoch 1/10\n",
      "5/5 [==============================] - 1s 238ms/step - loss: 1.2240 - sparse_categorical_accuracy: 0.6757\n",
      "Epoch 2/10\n",
      "5/5 [==============================] - 1s 234ms/step - loss: 1.1038 - sparse_categorical_accuracy: 0.8378\n",
      "Epoch 3/10\n",
      "5/5 [==============================] - 1s 235ms/step - loss: 1.1888 - sparse_categorical_accuracy: 0.8378\n",
      "Epoch 4/10\n",
      "5/5 [==============================] - 1s 235ms/step - loss: 1.0540 - sparse_categorical_accuracy: 0.8919\n",
      "Epoch 5/10\n",
      "5/5 [==============================] - 1s 235ms/step - loss: 0.9668 - sparse_categorical_accuracy: 0.8378\n",
      "Epoch 6/10\n",
      "5/5 [==============================] - 1s 233ms/step - loss: 0.7083 - sparse_categorical_accuracy: 0.8919\n",
      "Epoch 7/10\n",
      "5/5 [==============================] - 1s 238ms/step - loss: 0.8887 - sparse_categorical_accuracy: 0.8649\n",
      "Epoch 8/10\n",
      "5/5 [==============================] - 1s 235ms/step - loss: 0.6332 - sparse_categorical_accuracy: 0.9459\n",
      "Epoch 9/10\n",
      "5/5 [==============================] - 1s 234ms/step - loss: 0.6044 - sparse_categorical_accuracy: 0.9730\n",
      "Epoch 10/10\n",
      "5/5 [==============================] - 1s 236ms/step - loss: 0.4880 - sparse_categorical_accuracy: 0.9730\n"
     ]
    },
    {
     "name": "stderr",
     "output_type": "stream",
     "text": [
      "\r",
      "7it [02:21, 20.16s/it]"
     ]
    },
    {
     "name": "stdout",
     "output_type": "stream",
     "text": [
      "Epoch 1/10\n",
      "5/5 [==============================] - 1s 241ms/step - loss: 1.1612 - sparse_categorical_accuracy: 0.7297\n",
      "Epoch 2/10\n",
      "5/5 [==============================] - 1s 245ms/step - loss: 1.0350 - sparse_categorical_accuracy: 0.8649\n",
      "Epoch 3/10\n",
      "5/5 [==============================] - 1s 238ms/step - loss: 0.9341 - sparse_categorical_accuracy: 0.9459\n",
      "Epoch 4/10\n",
      "5/5 [==============================] - 1s 236ms/step - loss: 0.8279 - sparse_categorical_accuracy: 0.9189\n",
      "Epoch 5/10\n",
      "5/5 [==============================] - 1s 237ms/step - loss: 0.9225 - sparse_categorical_accuracy: 0.9189\n",
      "Epoch 6/10\n",
      "5/5 [==============================] - 1s 235ms/step - loss: 0.9051 - sparse_categorical_accuracy: 0.8919\n",
      "Epoch 7/10\n",
      "5/5 [==============================] - 1s 238ms/step - loss: 0.6987 - sparse_categorical_accuracy: 0.9189\n",
      "Epoch 8/10\n",
      "5/5 [==============================] - 1s 237ms/step - loss: 0.5064 - sparse_categorical_accuracy: 0.9730\n",
      "Epoch 9/10\n",
      "5/5 [==============================] - 1s 238ms/step - loss: 0.5861 - sparse_categorical_accuracy: 0.9730\n",
      "Epoch 10/10\n",
      "5/5 [==============================] - 1s 234ms/step - loss: 0.4035 - sparse_categorical_accuracy: 1.0000\n"
     ]
    },
    {
     "name": "stderr",
     "output_type": "stream",
     "text": [
      "\r",
      "8it [02:42, 20.28s/it]"
     ]
    },
    {
     "name": "stdout",
     "output_type": "stream",
     "text": [
      "Epoch 1/10\n",
      "5/5 [==============================] - 1s 238ms/step - loss: 1.3616 - sparse_categorical_accuracy: 0.5946\n",
      "Epoch 2/10\n",
      "5/5 [==============================] - 1s 239ms/step - loss: 1.0345 - sparse_categorical_accuracy: 0.8378\n",
      "Epoch 3/10\n",
      "5/5 [==============================] - 1s 235ms/step - loss: 1.0378 - sparse_categorical_accuracy: 0.9189\n",
      "Epoch 4/10\n",
      "5/5 [==============================] - 1s 234ms/step - loss: 0.8280 - sparse_categorical_accuracy: 0.9189\n",
      "Epoch 5/10\n",
      "5/5 [==============================] - 1s 236ms/step - loss: 0.9477 - sparse_categorical_accuracy: 0.8378\n",
      "Epoch 6/10\n",
      "5/5 [==============================] - 1s 234ms/step - loss: 0.6187 - sparse_categorical_accuracy: 0.9730\n",
      "Epoch 7/10\n",
      "5/5 [==============================] - 1s 235ms/step - loss: 0.7368 - sparse_categorical_accuracy: 0.9189\n",
      "Epoch 8/10\n",
      "5/5 [==============================] - 1s 236ms/step - loss: 0.9545 - sparse_categorical_accuracy: 0.8108\n",
      "Epoch 9/10\n",
      "5/5 [==============================] - 1s 235ms/step - loss: 0.8046 - sparse_categorical_accuracy: 0.9730\n",
      "Epoch 10/10\n",
      "5/5 [==============================] - 1s 252ms/step - loss: 1.2500 - sparse_categorical_accuracy: 0.7838\n"
     ]
    },
    {
     "name": "stderr",
     "output_type": "stream",
     "text": [
      "\r",
      "9it [03:02, 20.22s/it]"
     ]
    },
    {
     "name": "stdout",
     "output_type": "stream",
     "text": [
      "Epoch 1/10\n",
      "5/5 [==============================] - 1s 236ms/step - loss: 0.9744 - sparse_categorical_accuracy: 0.7297\n",
      "Epoch 2/10\n",
      "5/5 [==============================] - 1s 235ms/step - loss: 0.9433 - sparse_categorical_accuracy: 0.9459\n",
      "Epoch 3/10\n",
      "5/5 [==============================] - 1s 236ms/step - loss: 1.2577 - sparse_categorical_accuracy: 0.8108\n",
      "Epoch 4/10\n",
      "5/5 [==============================] - 1s 235ms/step - loss: 0.9711 - sparse_categorical_accuracy: 0.8649\n",
      "Epoch 5/10\n",
      "5/5 [==============================] - 1s 236ms/step - loss: 1.0725 - sparse_categorical_accuracy: 0.8108\n",
      "Epoch 6/10\n",
      "5/5 [==============================] - 1s 238ms/step - loss: 0.8935 - sparse_categorical_accuracy: 0.8378\n",
      "Epoch 7/10\n",
      "5/5 [==============================] - 1s 235ms/step - loss: 0.6723 - sparse_categorical_accuracy: 0.9189\n",
      "Epoch 8/10\n",
      "5/5 [==============================] - 1s 237ms/step - loss: 0.6799 - sparse_categorical_accuracy: 0.9189\n",
      "Epoch 9/10\n",
      "5/5 [==============================] - 1s 235ms/step - loss: 1.0576 - sparse_categorical_accuracy: 0.7297\n",
      "Epoch 10/10\n",
      "5/5 [==============================] - 1s 235ms/step - loss: 0.7603 - sparse_categorical_accuracy: 0.8108\n"
     ]
    },
    {
     "name": "stderr",
     "output_type": "stream",
     "text": [
      "\r",
      "10it [03:22, 20.17s/it]"
     ]
    },
    {
     "name": "stdout",
     "output_type": "stream",
     "text": [
      "Epoch 1/10\n",
      "5/5 [==============================] - 1s 236ms/step - loss: 1.0965 - sparse_categorical_accuracy: 0.7027\n",
      "Epoch 2/10\n",
      "5/5 [==============================] - 1s 235ms/step - loss: 0.9466 - sparse_categorical_accuracy: 0.8649\n",
      "Epoch 3/10\n",
      "5/5 [==============================] - 1s 242ms/step - loss: 1.0471 - sparse_categorical_accuracy: 0.9189\n",
      "Epoch 4/10\n",
      "5/5 [==============================] - 1s 234ms/step - loss: 0.8512 - sparse_categorical_accuracy: 0.9730\n",
      "Epoch 5/10\n",
      "5/5 [==============================] - 1s 238ms/step - loss: 0.9577 - sparse_categorical_accuracy: 0.9189\n",
      "Epoch 6/10\n",
      "5/5 [==============================] - 1s 248ms/step - loss: 1.0519 - sparse_categorical_accuracy: 0.8378\n",
      "Epoch 7/10\n",
      "5/5 [==============================] - 1s 240ms/step - loss: 0.6756 - sparse_categorical_accuracy: 0.8919\n",
      "Epoch 8/10\n",
      "5/5 [==============================] - 1s 235ms/step - loss: 0.5707 - sparse_categorical_accuracy: 0.8919\n",
      "Epoch 9/10\n",
      "5/5 [==============================] - 1s 236ms/step - loss: 0.9830 - sparse_categorical_accuracy: 0.8378\n",
      "Epoch 10/10\n",
      "5/5 [==============================] - 1s 238ms/step - loss: 0.5438 - sparse_categorical_accuracy: 0.9459\n"
     ]
    },
    {
     "name": "stderr",
     "output_type": "stream",
     "text": [
      "\r",
      "11it [03:42, 20.33s/it]"
     ]
    },
    {
     "name": "stdout",
     "output_type": "stream",
     "text": [
      "Epoch 1/10\n",
      "5/5 [==============================] - 1s 241ms/step - loss: 1.0511 - sparse_categorical_accuracy: 0.7027\n",
      "Epoch 2/10\n",
      "5/5 [==============================] - 1s 237ms/step - loss: 1.0131 - sparse_categorical_accuracy: 0.8919\n",
      "Epoch 3/10\n",
      "5/5 [==============================] - 1s 236ms/step - loss: 1.0057 - sparse_categorical_accuracy: 0.9189\n",
      "Epoch 4/10\n",
      "5/5 [==============================] - 1s 235ms/step - loss: 0.8094 - sparse_categorical_accuracy: 0.9730\n",
      "Epoch 5/10\n",
      "5/5 [==============================] - 1s 239ms/step - loss: 0.8519 - sparse_categorical_accuracy: 0.8378\n",
      "Epoch 6/10\n",
      "5/5 [==============================] - 1s 235ms/step - loss: 0.6325 - sparse_categorical_accuracy: 0.9459\n",
      "Epoch 7/10\n",
      "5/5 [==============================] - 1s 235ms/step - loss: 0.7025 - sparse_categorical_accuracy: 0.8919\n",
      "Epoch 8/10\n",
      "5/5 [==============================] - 1s 235ms/step - loss: 1.0142 - sparse_categorical_accuracy: 0.8108\n",
      "Epoch 9/10\n",
      "5/5 [==============================] - 1s 235ms/step - loss: 0.6992 - sparse_categorical_accuracy: 0.8919\n",
      "Epoch 10/10\n",
      "5/5 [==============================] - 1s 251ms/step - loss: 0.9120 - sparse_categorical_accuracy: 0.8649\n"
     ]
    },
    {
     "name": "stderr",
     "output_type": "stream",
     "text": [
      "\r",
      "12it [04:03, 20.28s/it]"
     ]
    },
    {
     "name": "stdout",
     "output_type": "stream",
     "text": [
      "Epoch 1/10\n",
      "5/5 [==============================] - 1s 238ms/step - loss: 1.2657 - sparse_categorical_accuracy: 0.6216\n",
      "Epoch 2/10\n",
      "5/5 [==============================] - 1s 235ms/step - loss: 0.8507 - sparse_categorical_accuracy: 0.9730\n",
      "Epoch 3/10\n",
      "5/5 [==============================] - 1s 234ms/step - loss: 1.5515 - sparse_categorical_accuracy: 0.8108\n",
      "Epoch 4/10\n",
      "5/5 [==============================] - 1s 238ms/step - loss: 1.1700 - sparse_categorical_accuracy: 0.8378\n",
      "Epoch 5/10\n",
      "5/5 [==============================] - 1s 238ms/step - loss: 0.8187 - sparse_categorical_accuracy: 0.9459\n",
      "Epoch 6/10\n",
      "5/5 [==============================] - 1s 235ms/step - loss: 0.9205 - sparse_categorical_accuracy: 0.8649\n",
      "Epoch 7/10\n",
      "5/5 [==============================] - 1s 238ms/step - loss: 0.8123 - sparse_categorical_accuracy: 0.8649\n",
      "Epoch 8/10\n",
      "5/5 [==============================] - 1s 235ms/step - loss: 0.8921 - sparse_categorical_accuracy: 0.8108\n",
      "Epoch 9/10\n",
      "5/5 [==============================] - 1s 239ms/step - loss: 0.6351 - sparse_categorical_accuracy: 0.8919\n",
      "Epoch 10/10\n",
      "5/5 [==============================] - 1s 235ms/step - loss: 0.5134 - sparse_categorical_accuracy: 0.9730\n"
     ]
    },
    {
     "name": "stderr",
     "output_type": "stream",
     "text": [
      "\r",
      "13it [04:23, 20.21s/it]"
     ]
    },
    {
     "name": "stdout",
     "output_type": "stream",
     "text": [
      "Epoch 1/10\n",
      "5/5 [==============================] - 1s 241ms/step - loss: 1.2816 - sparse_categorical_accuracy: 0.6486\n",
      "Epoch 2/10\n",
      "5/5 [==============================] - 1s 238ms/step - loss: 1.0208 - sparse_categorical_accuracy: 0.8378\n",
      "Epoch 3/10\n",
      "5/5 [==============================] - 1s 245ms/step - loss: 0.8917 - sparse_categorical_accuracy: 0.9730\n",
      "Epoch 4/10\n",
      "5/5 [==============================] - 1s 239ms/step - loss: 0.7887 - sparse_categorical_accuracy: 0.9730\n",
      "Epoch 5/10\n",
      "5/5 [==============================] - 1s 235ms/step - loss: 0.9464 - sparse_categorical_accuracy: 0.8919\n",
      "Epoch 6/10\n",
      "5/5 [==============================] - 1s 238ms/step - loss: 0.8370 - sparse_categorical_accuracy: 0.9189\n",
      "Epoch 7/10\n",
      "5/5 [==============================] - 1s 239ms/step - loss: 0.5882 - sparse_categorical_accuracy: 0.9189\n",
      "Epoch 8/10\n",
      "5/5 [==============================] - 1s 236ms/step - loss: 0.5586 - sparse_categorical_accuracy: 0.9459\n",
      "Epoch 9/10\n",
      "5/5 [==============================] - 1s 238ms/step - loss: 0.7052 - sparse_categorical_accuracy: 0.8919\n",
      "Epoch 10/10\n",
      "5/5 [==============================] - 1s 238ms/step - loss: 0.4731 - sparse_categorical_accuracy: 0.9730\n"
     ]
    },
    {
     "name": "stderr",
     "output_type": "stream",
     "text": [
      "\r",
      "14it [04:43, 20.31s/it]"
     ]
    },
    {
     "name": "stdout",
     "output_type": "stream",
     "text": [
      "Epoch 1/10\n",
      "5/5 [==============================] - 1s 239ms/step - loss: 1.3746 - sparse_categorical_accuracy: 0.5405\n",
      "Epoch 2/10\n",
      "5/5 [==============================] - 1s 235ms/step - loss: 0.9515 - sparse_categorical_accuracy: 0.8919\n",
      "Epoch 3/10\n",
      "5/5 [==============================] - 1s 235ms/step - loss: 1.1593 - sparse_categorical_accuracy: 0.8919\n",
      "Epoch 4/10\n",
      "5/5 [==============================] - 1s 235ms/step - loss: 0.8916 - sparse_categorical_accuracy: 0.9730\n",
      "Epoch 5/10\n",
      "5/5 [==============================] - 1s 235ms/step - loss: 0.7560 - sparse_categorical_accuracy: 0.9730\n",
      "Epoch 6/10\n",
      "5/5 [==============================] - 1s 236ms/step - loss: 0.7705 - sparse_categorical_accuracy: 0.9189\n",
      "Epoch 7/10\n",
      "5/5 [==============================] - 1s 239ms/step - loss: 0.8124 - sparse_categorical_accuracy: 0.8649\n",
      "Epoch 8/10\n",
      "5/5 [==============================] - 1s 235ms/step - loss: 0.5247 - sparse_categorical_accuracy: 1.0000\n",
      "Epoch 9/10\n",
      "5/5 [==============================] - 1s 235ms/step - loss: 0.5490 - sparse_categorical_accuracy: 0.9459\n",
      "Epoch 10/10\n",
      "5/5 [==============================] - 1s 259ms/step - loss: 0.5023 - sparse_categorical_accuracy: 0.9459\n"
     ]
    },
    {
     "name": "stderr",
     "output_type": "stream",
     "text": [
      "\r",
      "15it [05:03, 20.30s/it]"
     ]
    },
    {
     "name": "stdout",
     "output_type": "stream",
     "text": [
      "Epoch 1/10\n",
      "5/5 [==============================] - 1s 233ms/step - loss: 1.0470 - sparse_categorical_accuracy: 0.7838\n",
      "Epoch 2/10\n",
      "5/5 [==============================] - 1s 235ms/step - loss: 1.2471 - sparse_categorical_accuracy: 0.8108\n",
      "Epoch 3/10\n",
      "5/5 [==============================] - 1s 232ms/step - loss: 0.9185 - sparse_categorical_accuracy: 0.9730\n",
      "Epoch 4/10\n",
      "5/5 [==============================] - 1s 238ms/step - loss: 1.1111 - sparse_categorical_accuracy: 0.8108\n",
      "Epoch 5/10\n",
      "5/5 [==============================] - 1s 235ms/step - loss: 0.9042 - sparse_categorical_accuracy: 0.8919\n",
      "Epoch 6/10\n",
      "5/5 [==============================] - 1s 234ms/step - loss: 0.9183 - sparse_categorical_accuracy: 0.8919\n",
      "Epoch 7/10\n",
      "5/5 [==============================] - 1s 234ms/step - loss: 0.9099 - sparse_categorical_accuracy: 0.9189\n",
      "Epoch 8/10\n",
      "5/5 [==============================] - 1s 238ms/step - loss: 0.7279 - sparse_categorical_accuracy: 0.8108\n",
      "Epoch 9/10\n",
      "5/5 [==============================] - 1s 235ms/step - loss: 0.6316 - sparse_categorical_accuracy: 0.9189\n",
      "Epoch 10/10\n",
      "5/5 [==============================] - 1s 235ms/step - loss: 0.6346 - sparse_categorical_accuracy: 0.9189\n"
     ]
    },
    {
     "name": "stderr",
     "output_type": "stream",
     "text": [
      "\r",
      "16it [05:23, 20.22s/it]"
     ]
    },
    {
     "name": "stdout",
     "output_type": "stream",
     "text": [
      "Epoch 1/10\n",
      "5/5 [==============================] - 1s 238ms/step - loss: 1.3503 - sparse_categorical_accuracy: 0.5135\n",
      "Epoch 2/10\n",
      "5/5 [==============================] - 1s 242ms/step - loss: 1.2231 - sparse_categorical_accuracy: 0.7027\n",
      "Epoch 3/10\n",
      "5/5 [==============================] - 1s 243ms/step - loss: 1.0466 - sparse_categorical_accuracy: 0.8378\n",
      "Epoch 4/10\n",
      "5/5 [==============================] - 1s 237ms/step - loss: 0.9198 - sparse_categorical_accuracy: 0.9189\n",
      "Epoch 5/10\n",
      "5/5 [==============================] - 1s 237ms/step - loss: 0.9952 - sparse_categorical_accuracy: 0.8378\n",
      "Epoch 6/10\n",
      "5/5 [==============================] - 1s 240ms/step - loss: 0.8403 - sparse_categorical_accuracy: 0.8919\n",
      "Epoch 7/10\n",
      "5/5 [==============================] - 1s 237ms/step - loss: 0.7502 - sparse_categorical_accuracy: 0.8378\n",
      "Epoch 8/10\n",
      "5/5 [==============================] - 1s 237ms/step - loss: 0.7558 - sparse_categorical_accuracy: 0.8378\n",
      "Epoch 9/10\n",
      "5/5 [==============================] - 1s 240ms/step - loss: 0.5636 - sparse_categorical_accuracy: 0.9730\n",
      "Epoch 10/10\n",
      "5/5 [==============================] - 1s 238ms/step - loss: 1.2642 - sparse_categorical_accuracy: 0.7838\n"
     ]
    },
    {
     "name": "stderr",
     "output_type": "stream",
     "text": [
      "\r",
      "17it [05:44, 20.38s/it]"
     ]
    },
    {
     "name": "stdout",
     "output_type": "stream",
     "text": [
      "Epoch 1/10\n",
      "5/5 [==============================] - 1s 242ms/step - loss: 0.9080 - sparse_categorical_accuracy: 0.8649\n",
      "Epoch 2/10\n",
      "5/5 [==============================] - 1s 238ms/step - loss: 1.0085 - sparse_categorical_accuracy: 0.8649\n",
      "Epoch 3/10\n",
      "5/5 [==============================] - 1s 240ms/step - loss: 0.9853 - sparse_categorical_accuracy: 0.8919\n",
      "Epoch 4/10\n",
      "5/5 [==============================] - 1s 238ms/step - loss: 0.8739 - sparse_categorical_accuracy: 0.9189\n",
      "Epoch 5/10\n",
      "5/5 [==============================] - 1s 237ms/step - loss: 1.0363 - sparse_categorical_accuracy: 0.8108\n",
      "Epoch 6/10\n",
      "5/5 [==============================] - 1s 240ms/step - loss: 0.6205 - sparse_categorical_accuracy: 0.9189\n",
      "Epoch 7/10\n",
      "5/5 [==============================] - 1s 238ms/step - loss: 0.5541 - sparse_categorical_accuracy: 0.9459\n",
      "Epoch 8/10\n",
      "5/5 [==============================] - 1s 237ms/step - loss: 0.6045 - sparse_categorical_accuracy: 0.9459\n",
      "Epoch 9/10\n",
      "5/5 [==============================] - 1s 237ms/step - loss: 0.6490 - sparse_categorical_accuracy: 0.9189\n",
      "Epoch 10/10\n",
      "5/5 [==============================] - 1s 252ms/step - loss: 0.6015 - sparse_categorical_accuracy: 0.9189\n"
     ]
    },
    {
     "name": "stderr",
     "output_type": "stream",
     "text": [
      "\r",
      "18it [06:05, 20.38s/it]"
     ]
    },
    {
     "name": "stdout",
     "output_type": "stream",
     "text": [
      "Epoch 1/10\n",
      "5/5 [==============================] - 1s 240ms/step - loss: 1.1968 - sparse_categorical_accuracy: 0.7568\n",
      "Epoch 2/10\n",
      "5/5 [==============================] - 1s 237ms/step - loss: 1.1490 - sparse_categorical_accuracy: 0.8108\n",
      "Epoch 3/10\n",
      "5/5 [==============================] - 1s 237ms/step - loss: 0.9299 - sparse_categorical_accuracy: 0.9730\n",
      "Epoch 4/10\n",
      "5/5 [==============================] - 1s 235ms/step - loss: 0.7582 - sparse_categorical_accuracy: 0.9730\n",
      "Epoch 5/10\n",
      "5/5 [==============================] - 1s 239ms/step - loss: 0.9136 - sparse_categorical_accuracy: 0.9189\n",
      "Epoch 6/10\n",
      "5/5 [==============================] - 1s 236ms/step - loss: 0.8957 - sparse_categorical_accuracy: 0.8649\n",
      "Epoch 7/10\n",
      "5/5 [==============================] - 1s 240ms/step - loss: 0.6832 - sparse_categorical_accuracy: 0.9189\n",
      "Epoch 8/10\n",
      "5/5 [==============================] - 1s 239ms/step - loss: 0.7182 - sparse_categorical_accuracy: 0.9189\n",
      "Epoch 9/10\n",
      "5/5 [==============================] - 1s 238ms/step - loss: 0.6703 - sparse_categorical_accuracy: 0.9189\n",
      "Epoch 10/10\n",
      "5/5 [==============================] - 1s 239ms/step - loss: 0.6756 - sparse_categorical_accuracy: 0.9189\n"
     ]
    },
    {
     "name": "stderr",
     "output_type": "stream",
     "text": [
      "\r",
      "19it [06:25, 20.33s/it]"
     ]
    },
    {
     "name": "stdout",
     "output_type": "stream",
     "text": [
      "Epoch 1/10\n",
      "5/5 [==============================] - 1s 242ms/step - loss: 1.1358 - sparse_categorical_accuracy: 0.5946\n",
      "Epoch 2/10\n",
      "5/5 [==============================] - 1s 255ms/step - loss: 1.0501 - sparse_categorical_accuracy: 0.8378\n",
      "Epoch 3/10\n",
      "5/5 [==============================] - 1s 238ms/step - loss: 1.0938 - sparse_categorical_accuracy: 0.9189\n",
      "Epoch 4/10\n",
      "5/5 [==============================] - 1s 238ms/step - loss: 1.0932 - sparse_categorical_accuracy: 0.8649\n",
      "Epoch 5/10\n",
      "5/5 [==============================] - 1s 236ms/step - loss: 0.8544 - sparse_categorical_accuracy: 0.8919\n",
      "Epoch 6/10\n",
      "5/5 [==============================] - 1s 238ms/step - loss: 1.0249 - sparse_categorical_accuracy: 0.8108 0s - loss: 1.0249 - sparse_categorical_accuracy: 0.810\n",
      "Epoch 7/10\n",
      "5/5 [==============================] - 1s 240ms/step - loss: 1.0073 - sparse_categorical_accuracy: 0.8378\n",
      "Epoch 8/10\n",
      "5/5 [==============================] - 1s 236ms/step - loss: 1.1825 - sparse_categorical_accuracy: 0.7838\n",
      "Epoch 9/10\n",
      "5/5 [==============================] - 1s 238ms/step - loss: 0.8477 - sparse_categorical_accuracy: 0.8378\n",
      "Epoch 10/10\n",
      "5/5 [==============================] - 1s 236ms/step - loss: 0.7023 - sparse_categorical_accuracy: 0.8378\n"
     ]
    },
    {
     "name": "stderr",
     "output_type": "stream",
     "text": [
      "\r",
      "20it [06:46, 20.49s/it]"
     ]
    },
    {
     "name": "stdout",
     "output_type": "stream",
     "text": [
      "Epoch 1/10\n",
      "5/5 [==============================] - 1s 241ms/step - loss: 1.2470 - sparse_categorical_accuracy: 0.7568\n",
      "Epoch 2/10\n",
      "5/5 [==============================] - 1s 235ms/step - loss: 0.9592 - sparse_categorical_accuracy: 0.8919\n",
      "Epoch 3/10\n",
      "5/5 [==============================] - 1s 238ms/step - loss: 0.8322 - sparse_categorical_accuracy: 0.9730\n",
      "Epoch 4/10\n",
      "5/5 [==============================] - 1s 240ms/step - loss: 1.1107 - sparse_categorical_accuracy: 0.8919\n",
      "Epoch 5/10\n",
      "5/5 [==============================] - 1s 237ms/step - loss: 1.1330 - sparse_categorical_accuracy: 0.7297\n",
      "Epoch 6/10\n",
      "5/5 [==============================] - 1s 239ms/step - loss: 0.7138 - sparse_categorical_accuracy: 0.9189\n",
      "Epoch 7/10\n",
      "5/5 [==============================] - 1s 237ms/step - loss: 1.0940 - sparse_categorical_accuracy: 0.7838\n",
      "Epoch 8/10\n",
      "5/5 [==============================] - 1s 237ms/step - loss: 0.6807 - sparse_categorical_accuracy: 0.9459\n",
      "Epoch 9/10\n",
      "5/5 [==============================] - 1s 245ms/step - loss: 0.7391 - sparse_categorical_accuracy: 0.8649\n",
      "Epoch 10/10\n",
      "5/5 [==============================] - 1s 252ms/step - loss: 0.6355 - sparse_categorical_accuracy: 0.9189\n"
     ]
    },
    {
     "name": "stderr",
     "output_type": "stream",
     "text": [
      "\r",
      "21it [07:06, 20.45s/it]"
     ]
    },
    {
     "name": "stdout",
     "output_type": "stream",
     "text": [
      "Epoch 1/10\n",
      "5/5 [==============================] - 1s 235ms/step - loss: 1.3405 - sparse_categorical_accuracy: 0.5946\n",
      "Epoch 2/10\n",
      "5/5 [==============================] - 1s 237ms/step - loss: 0.9971 - sparse_categorical_accuracy: 0.9189\n",
      "Epoch 3/10\n",
      "5/5 [==============================] - 1s 237ms/step - loss: 1.0475 - sparse_categorical_accuracy: 0.8919\n",
      "Epoch 4/10\n",
      "5/5 [==============================] - 1s 235ms/step - loss: 1.0176 - sparse_categorical_accuracy: 0.9459\n",
      "Epoch 5/10\n",
      "5/5 [==============================] - 1s 238ms/step - loss: 0.9281 - sparse_categorical_accuracy: 0.9189\n",
      "Epoch 6/10\n",
      "5/5 [==============================] - 1s 237ms/step - loss: 0.6427 - sparse_categorical_accuracy: 0.9730\n",
      "Epoch 7/10\n",
      "5/5 [==============================] - 1s 234ms/step - loss: 0.6424 - sparse_categorical_accuracy: 0.9459\n",
      "Epoch 8/10\n",
      "5/5 [==============================] - 1s 235ms/step - loss: 0.6483 - sparse_categorical_accuracy: 0.8649\n",
      "Epoch 9/10\n",
      "5/5 [==============================] - 1s 239ms/step - loss: 0.6748 - sparse_categorical_accuracy: 0.9189\n",
      "Epoch 10/10\n",
      "5/5 [==============================] - 1s 237ms/step - loss: 0.6510 - sparse_categorical_accuracy: 0.9189\n"
     ]
    },
    {
     "name": "stderr",
     "output_type": "stream",
     "text": [
      "\r",
      "22it [07:26, 20.37s/it]"
     ]
    },
    {
     "name": "stdout",
     "output_type": "stream",
     "text": [
      "Epoch 1/10\n",
      "5/5 [==============================] - 1s 238ms/step - loss: 1.1479 - sparse_categorical_accuracy: 0.7297\n",
      "Epoch 2/10\n",
      "5/5 [==============================] - 1s 251ms/step - loss: 1.0532 - sparse_categorical_accuracy: 0.8108\n",
      "Epoch 3/10\n",
      "5/5 [==============================] - 1s 233ms/step - loss: 0.9913 - sparse_categorical_accuracy: 0.8649\n",
      "Epoch 4/10\n",
      "5/5 [==============================] - 1s 235ms/step - loss: 1.3401 - sparse_categorical_accuracy: 0.8378\n",
      "Epoch 5/10\n",
      "5/5 [==============================] - 1s 235ms/step - loss: 0.7734 - sparse_categorical_accuracy: 1.0000\n",
      "Epoch 6/10\n",
      "5/5 [==============================] - 1s 235ms/step - loss: 0.8573 - sparse_categorical_accuracy: 0.8108\n",
      "Epoch 7/10\n",
      "5/5 [==============================] - 1s 236ms/step - loss: 0.7198 - sparse_categorical_accuracy: 0.9459\n",
      "Epoch 8/10\n",
      "5/5 [==============================] - 1s 235ms/step - loss: 0.5597 - sparse_categorical_accuracy: 0.9189\n",
      "Epoch 9/10\n",
      "5/5 [==============================] - 1s 238ms/step - loss: 0.9432 - sparse_categorical_accuracy: 0.8378\n",
      "Epoch 10/10\n",
      "5/5 [==============================] - 1s 235ms/step - loss: 0.9235 - sparse_categorical_accuracy: 0.7297\n"
     ]
    },
    {
     "name": "stderr",
     "output_type": "stream",
     "text": [
      "\r",
      "23it [07:46, 20.31s/it]"
     ]
    },
    {
     "name": "stdout",
     "output_type": "stream",
     "text": [
      "Epoch 1/10\n",
      "5/5 [==============================] - 1s 238ms/step - loss: 1.0873 - sparse_categorical_accuracy: 0.7027\n",
      "Epoch 2/10\n",
      "5/5 [==============================] - 1s 235ms/step - loss: 1.0633 - sparse_categorical_accuracy: 0.8919\n",
      "Epoch 3/10\n",
      "5/5 [==============================] - 1s 235ms/step - loss: 1.0222 - sparse_categorical_accuracy: 0.9189\n",
      "Epoch 4/10\n",
      "5/5 [==============================] - 1s 236ms/step - loss: 0.9609 - sparse_categorical_accuracy: 0.9189\n",
      "Epoch 5/10\n",
      "5/5 [==============================] - 1s 238ms/step - loss: 1.1162 - sparse_categorical_accuracy: 0.8108\n",
      "Epoch 6/10\n",
      "5/5 [==============================] - 1s 237ms/step - loss: 1.0377 - sparse_categorical_accuracy: 0.7568\n",
      "Epoch 7/10\n",
      "5/5 [==============================] - 1s 237ms/step - loss: 0.7328 - sparse_categorical_accuracy: 0.8919\n",
      "Epoch 8/10\n",
      "5/5 [==============================] - 1s 238ms/step - loss: 0.6503 - sparse_categorical_accuracy: 0.9730\n",
      "Epoch 9/10\n",
      "5/5 [==============================] - 1s 238ms/step - loss: 0.7141 - sparse_categorical_accuracy: 0.8919\n",
      "Epoch 10/10\n",
      "5/5 [==============================] - 1s 246ms/step - loss: 0.5196 - sparse_categorical_accuracy: 0.9730\n"
     ]
    },
    {
     "name": "stderr",
     "output_type": "stream",
     "text": [
      "\r",
      "24it [08:07, 20.42s/it]"
     ]
    },
    {
     "name": "stdout",
     "output_type": "stream",
     "text": [
      "Epoch 1/10\n",
      "5/5 [==============================] - 1s 242ms/step - loss: 1.0607 - sparse_categorical_accuracy: 0.7297\n",
      "Epoch 2/10\n",
      "5/5 [==============================] - 1s 235ms/step - loss: 0.9527 - sparse_categorical_accuracy: 0.8649\n",
      "Epoch 3/10\n",
      "5/5 [==============================] - 1s 237ms/step - loss: 0.8287 - sparse_categorical_accuracy: 0.9189\n",
      "Epoch 4/10\n",
      "5/5 [==============================] - 1s 235ms/step - loss: 0.8105 - sparse_categorical_accuracy: 0.9730\n",
      "Epoch 5/10\n",
      "5/5 [==============================] - 1s 236ms/step - loss: 0.7114 - sparse_categorical_accuracy: 0.9459\n",
      "Epoch 6/10\n",
      "5/5 [==============================] - 1s 238ms/step - loss: 0.5359 - sparse_categorical_accuracy: 0.9730\n",
      "Epoch 7/10\n",
      "5/5 [==============================] - 1s 237ms/step - loss: 0.6038 - sparse_categorical_accuracy: 0.9189\n",
      "Epoch 8/10\n",
      "5/5 [==============================] - 1s 235ms/step - loss: 0.6926 - sparse_categorical_accuracy: 0.9189\n",
      "Epoch 9/10\n",
      "5/5 [==============================] - 1s 238ms/step - loss: 0.7430 - sparse_categorical_accuracy: 0.8919\n",
      "Epoch 10/10\n",
      "5/5 [==============================] - 1s 235ms/step - loss: 0.6252 - sparse_categorical_accuracy: 0.9189\n"
     ]
    },
    {
     "name": "stderr",
     "output_type": "stream",
     "text": [
      "\r",
      "25it [08:27, 20.37s/it]"
     ]
    },
    {
     "name": "stdout",
     "output_type": "stream",
     "text": [
      "Epoch 1/10\n",
      "5/5 [==============================] - 1s 238ms/step - loss: 1.3880 - sparse_categorical_accuracy: 0.5676\n",
      "Epoch 2/10\n",
      "5/5 [==============================] - 1s 250ms/step - loss: 1.0420 - sparse_categorical_accuracy: 0.8378\n",
      "Epoch 3/10\n",
      "5/5 [==============================] - 1s 245ms/step - loss: 1.1157 - sparse_categorical_accuracy: 0.8919\n",
      "Epoch 4/10\n",
      "5/5 [==============================] - 1s 237ms/step - loss: 1.3474 - sparse_categorical_accuracy: 0.8108\n",
      "Epoch 5/10\n",
      "5/5 [==============================] - 1s 238ms/step - loss: 0.8959 - sparse_categorical_accuracy: 0.9189\n",
      "Epoch 6/10\n",
      "5/5 [==============================] - 1s 235ms/step - loss: 0.7094 - sparse_categorical_accuracy: 0.9189\n",
      "Epoch 7/10\n",
      "5/5 [==============================] - 1s 235ms/step - loss: 0.7505 - sparse_categorical_accuracy: 0.8919\n",
      "Epoch 8/10\n",
      "5/5 [==============================] - 1s 238ms/step - loss: 0.7970 - sparse_categorical_accuracy: 0.8378\n",
      "Epoch 9/10\n",
      "5/5 [==============================] - 1s 236ms/step - loss: 0.5789 - sparse_categorical_accuracy: 0.9189\n",
      "Epoch 10/10\n",
      "5/5 [==============================] - 1s 238ms/step - loss: 0.6631 - sparse_categorical_accuracy: 0.8919\n"
     ]
    },
    {
     "name": "stderr",
     "output_type": "stream",
     "text": [
      "\r",
      "26it [08:48, 20.35s/it]"
     ]
    },
    {
     "name": "stdout",
     "output_type": "stream",
     "text": [
      "Epoch 1/10\n",
      "5/5 [==============================] - 1s 241ms/step - loss: 1.5041 - sparse_categorical_accuracy: 0.5405\n",
      "Epoch 2/10\n",
      "5/5 [==============================] - 1s 233ms/step - loss: 1.3300 - sparse_categorical_accuracy: 0.8378\n",
      "Epoch 3/10\n",
      "5/5 [==============================] - 1s 235ms/step - loss: 1.2485 - sparse_categorical_accuracy: 0.8919\n",
      "Epoch 4/10\n",
      "5/5 [==============================] - 1s 235ms/step - loss: 0.8911 - sparse_categorical_accuracy: 0.9459\n",
      "Epoch 5/10\n",
      "5/5 [==============================] - 1s 238ms/step - loss: 0.8657 - sparse_categorical_accuracy: 0.9189\n",
      "Epoch 6/10\n",
      "5/5 [==============================] - 1s 234ms/step - loss: 0.9886 - sparse_categorical_accuracy: 0.8649\n",
      "Epoch 7/10\n",
      "5/5 [==============================] - 1s 238ms/step - loss: 0.9308 - sparse_categorical_accuracy: 0.8919\n",
      "Epoch 8/10\n",
      "5/5 [==============================] - 1s 237ms/step - loss: 0.7422 - sparse_categorical_accuracy: 0.8919\n",
      "Epoch 9/10\n",
      "5/5 [==============================] - 1s 239ms/step - loss: 0.5628 - sparse_categorical_accuracy: 0.9730\n",
      "Epoch 10/10\n",
      "5/5 [==============================] - 1s 245ms/step - loss: 0.6336 - sparse_categorical_accuracy: 0.9459\n"
     ]
    },
    {
     "name": "stderr",
     "output_type": "stream",
     "text": [
      "\r",
      "27it [09:08, 20.31s/it]"
     ]
    },
    {
     "name": "stdout",
     "output_type": "stream",
     "text": [
      "Epoch 1/10\n",
      "5/5 [==============================] - 1s 242ms/step - loss: 1.2900 - sparse_categorical_accuracy: 0.6757\n",
      "Epoch 2/10\n",
      "5/5 [==============================] - 1s 236ms/step - loss: 1.1325 - sparse_categorical_accuracy: 0.8108\n",
      "Epoch 3/10\n",
      "5/5 [==============================] - 1s 238ms/step - loss: 1.4125 - sparse_categorical_accuracy: 0.7027\n",
      "Epoch 4/10\n",
      "5/5 [==============================] - 1s 235ms/step - loss: 1.2773 - sparse_categorical_accuracy: 0.7568\n",
      "Epoch 5/10\n",
      "5/5 [==============================] - 1s 238ms/step - loss: 0.8476 - sparse_categorical_accuracy: 0.9459\n",
      "Epoch 6/10\n",
      "5/5 [==============================] - 1s 238ms/step - loss: 0.7873 - sparse_categorical_accuracy: 0.8919\n",
      "Epoch 7/10\n",
      "5/5 [==============================] - 1s 238ms/step - loss: 0.6269 - sparse_categorical_accuracy: 0.9730\n",
      "Epoch 8/10\n",
      "5/5 [==============================] - 1s 235ms/step - loss: 0.8241 - sparse_categorical_accuracy: 0.8919\n",
      "Epoch 9/10\n",
      "5/5 [==============================] - 1s 237ms/step - loss: 0.5367 - sparse_categorical_accuracy: 0.9730\n",
      "Epoch 10/10\n",
      "5/5 [==============================] - 1s 234ms/step - loss: 0.8161 - sparse_categorical_accuracy: 0.8378\n"
     ]
    },
    {
     "name": "stderr",
     "output_type": "stream",
     "text": [
      "\r",
      "28it [09:29, 20.47s/it]"
     ]
    },
    {
     "name": "stdout",
     "output_type": "stream",
     "text": [
      "Epoch 1/10\n",
      "5/5 [==============================] - 1s 241ms/step - loss: 1.2174 - sparse_categorical_accuracy: 0.5405\n",
      "Epoch 2/10\n",
      "5/5 [==============================] - 1s 248ms/step - loss: 1.3216 - sparse_categorical_accuracy: 0.7297\n",
      "Epoch 3/10\n",
      "5/5 [==============================] - 1s 234ms/step - loss: 1.1507 - sparse_categorical_accuracy: 0.8378\n",
      "Epoch 4/10\n",
      "5/5 [==============================] - 1s 235ms/step - loss: 1.1230 - sparse_categorical_accuracy: 0.8919\n",
      "Epoch 5/10\n",
      "5/5 [==============================] - 1s 238ms/step - loss: 1.1456 - sparse_categorical_accuracy: 0.8919\n",
      "Epoch 6/10\n",
      "5/5 [==============================] - 1s 240ms/step - loss: 0.8349 - sparse_categorical_accuracy: 0.9730\n",
      "Epoch 7/10\n",
      "5/5 [==============================] - 1s 234ms/step - loss: 0.7328 - sparse_categorical_accuracy: 0.8919\n",
      "Epoch 8/10\n",
      "5/5 [==============================] - 1s 236ms/step - loss: 0.5821 - sparse_categorical_accuracy: 0.9730\n",
      "Epoch 9/10\n",
      "5/5 [==============================] - 1s 234ms/step - loss: 0.9847 - sparse_categorical_accuracy: 0.8649\n",
      "Epoch 10/10\n",
      "5/5 [==============================] - 1s 235ms/step - loss: 0.9356 - sparse_categorical_accuracy: 0.8378\n"
     ]
    },
    {
     "name": "stderr",
     "output_type": "stream",
     "text": [
      "\r",
      "29it [09:49, 20.41s/it]"
     ]
    },
    {
     "name": "stdout",
     "output_type": "stream",
     "text": [
      "Epoch 1/10\n",
      "5/5 [==============================] - 1s 241ms/step - loss: 1.4541 - sparse_categorical_accuracy: 0.6757\n",
      "Epoch 2/10\n",
      "5/5 [==============================] - 1s 237ms/step - loss: 0.9686 - sparse_categorical_accuracy: 0.8919\n",
      "Epoch 3/10\n",
      "5/5 [==============================] - 1s 238ms/step - loss: 1.1808 - sparse_categorical_accuracy: 0.8649\n",
      "Epoch 4/10\n",
      "5/5 [==============================] - 1s 235ms/step - loss: 0.9172 - sparse_categorical_accuracy: 0.9189\n",
      "Epoch 5/10\n",
      "5/5 [==============================] - 1s 235ms/step - loss: 1.1788 - sparse_categorical_accuracy: 0.8649\n",
      "Epoch 6/10\n",
      "5/5 [==============================] - 1s 239ms/step - loss: 0.9899 - sparse_categorical_accuracy: 0.8108\n",
      "Epoch 7/10\n",
      "5/5 [==============================] - 1s 234ms/step - loss: 0.9158 - sparse_categorical_accuracy: 0.8378\n",
      "Epoch 8/10\n",
      "5/5 [==============================] - 1s 235ms/step - loss: 0.8548 - sparse_categorical_accuracy: 0.7568\n",
      "Epoch 9/10\n",
      "5/5 [==============================] - 1s 242ms/step - loss: 0.9517 - sparse_categorical_accuracy: 0.7568\n",
      "Epoch 10/10\n",
      "5/5 [==============================] - 1s 240ms/step - loss: 0.7274 - sparse_categorical_accuracy: 0.9189\n"
     ]
    },
    {
     "name": "stderr",
     "output_type": "stream",
     "text": [
      "\r",
      "30it [10:09, 20.37s/it]"
     ]
    },
    {
     "name": "stdout",
     "output_type": "stream",
     "text": [
      "Epoch 1/10\n",
      "5/5 [==============================] - 1s 238ms/step - loss: 1.2224 - sparse_categorical_accuracy: 0.7297\n",
      "Epoch 2/10\n",
      "5/5 [==============================] - 1s 245ms/step - loss: 1.0243 - sparse_categorical_accuracy: 0.8378\n",
      "Epoch 3/10\n",
      "5/5 [==============================] - 1s 246ms/step - loss: 0.9767 - sparse_categorical_accuracy: 0.8649\n",
      "Epoch 4/10\n",
      "5/5 [==============================] - 1s 246ms/step - loss: 1.0553 - sparse_categorical_accuracy: 0.8378\n",
      "Epoch 5/10\n",
      "5/5 [==============================] - 1s 237ms/step - loss: 1.0773 - sparse_categorical_accuracy: 0.8378\n",
      "Epoch 6/10\n",
      "5/5 [==============================] - 1s 235ms/step - loss: 0.8635 - sparse_categorical_accuracy: 0.9189\n",
      "Epoch 7/10\n",
      "5/5 [==============================] - 1s 235ms/step - loss: 0.7316 - sparse_categorical_accuracy: 0.9189\n",
      "Epoch 8/10\n",
      "5/5 [==============================] - 1s 239ms/step - loss: 1.0892 - sparse_categorical_accuracy: 0.8378\n",
      "Epoch 9/10\n",
      "5/5 [==============================] - 1s 236ms/step - loss: 0.6919 - sparse_categorical_accuracy: 0.8919\n",
      "Epoch 10/10\n",
      "5/5 [==============================] - 1s 236ms/step - loss: 0.8126 - sparse_categorical_accuracy: 0.8108\n"
     ]
    },
    {
     "name": "stderr",
     "output_type": "stream",
     "text": [
      "\r",
      "31it [10:30, 20.38s/it]"
     ]
    },
    {
     "name": "stdout",
     "output_type": "stream",
     "text": [
      "Epoch 1/10\n",
      "5/5 [==============================] - 1s 250ms/step - loss: 0.9437 - sparse_categorical_accuracy: 0.8378\n",
      "Epoch 2/10\n",
      "5/5 [==============================] - 1s 240ms/step - loss: 0.9253 - sparse_categorical_accuracy: 0.8378\n",
      "Epoch 3/10\n",
      "5/5 [==============================] - 1s 238ms/step - loss: 0.7954 - sparse_categorical_accuracy: 0.9459\n",
      "Epoch 4/10\n",
      "5/5 [==============================] - 1s 242ms/step - loss: 0.7170 - sparse_categorical_accuracy: 0.9459\n",
      "Epoch 5/10\n",
      "5/5 [==============================] - 1s 239ms/step - loss: 1.0548 - sparse_categorical_accuracy: 0.8108\n",
      "Epoch 6/10\n",
      "5/5 [==============================] - 1s 238ms/step - loss: 1.1401 - sparse_categorical_accuracy: 0.7297\n",
      "Epoch 7/10\n",
      "5/5 [==============================] - 1s 238ms/step - loss: 0.8722 - sparse_categorical_accuracy: 0.8378\n",
      "Epoch 8/10\n",
      "5/5 [==============================] - 1s 239ms/step - loss: 1.0996 - sparse_categorical_accuracy: 0.8108\n",
      "Epoch 9/10\n",
      "5/5 [==============================] - 1s 236ms/step - loss: 0.7814 - sparse_categorical_accuracy: 0.8378\n",
      "Epoch 10/10\n",
      "5/5 [==============================] - 1s 238ms/step - loss: 0.5945 - sparse_categorical_accuracy: 0.9189\n"
     ]
    },
    {
     "name": "stderr",
     "output_type": "stream",
     "text": [
      "\r",
      "32it [10:51, 20.58s/it]"
     ]
    },
    {
     "name": "stdout",
     "output_type": "stream",
     "text": [
      "Epoch 1/10\n",
      "5/5 [==============================] - 1s 242ms/step - loss: 1.2025 - sparse_categorical_accuracy: 0.6757\n",
      "Epoch 2/10\n",
      "5/5 [==============================] - 1s 240ms/step - loss: 1.3550 - sparse_categorical_accuracy: 0.6757\n",
      "Epoch 3/10\n",
      "5/5 [==============================] - 1s 239ms/step - loss: 1.0522 - sparse_categorical_accuracy: 0.8919\n",
      "Epoch 4/10\n",
      "5/5 [==============================] - 1s 236ms/step - loss: 1.0274 - sparse_categorical_accuracy: 0.8108\n",
      "Epoch 5/10\n",
      "5/5 [==============================] - 1s 240ms/step - loss: 0.8142 - sparse_categorical_accuracy: 0.8919\n",
      "Epoch 6/10\n",
      "5/5 [==============================] - 1s 239ms/step - loss: 0.8552 - sparse_categorical_accuracy: 0.9189\n",
      "Epoch 7/10\n",
      "5/5 [==============================] - 1s 242ms/step - loss: 0.6578 - sparse_categorical_accuracy: 0.9459\n",
      "Epoch 8/10\n",
      "5/5 [==============================] - 1s 237ms/step - loss: 0.8422 - sparse_categorical_accuracy: 0.7568\n",
      "Epoch 9/10\n",
      "5/5 [==============================] - 1s 252ms/step - loss: 0.6040 - sparse_categorical_accuracy: 0.9459\n",
      "Epoch 10/10\n",
      "5/5 [==============================] - 1s 238ms/step - loss: 0.5859 - sparse_categorical_accuracy: 0.9459\n"
     ]
    },
    {
     "name": "stderr",
     "output_type": "stream",
     "text": [
      "\r",
      "33it [11:11, 20.53s/it]"
     ]
    },
    {
     "name": "stdout",
     "output_type": "stream",
     "text": [
      "Epoch 1/10\n",
      "5/5 [==============================] - 1s 241ms/step - loss: 1.2140 - sparse_categorical_accuracy: 0.6486\n",
      "Epoch 2/10\n",
      "5/5 [==============================] - 1s 236ms/step - loss: 1.0840 - sparse_categorical_accuracy: 0.7568\n",
      "Epoch 3/10\n",
      "5/5 [==============================] - 1s 238ms/step - loss: 1.0647 - sparse_categorical_accuracy: 0.8108\n",
      "Epoch 4/10\n",
      "5/5 [==============================] - 1s 238ms/step - loss: 0.9922 - sparse_categorical_accuracy: 0.8649\n",
      "Epoch 5/10\n",
      "5/5 [==============================] - 1s 237ms/step - loss: 1.1165 - sparse_categorical_accuracy: 0.8378\n",
      "Epoch 6/10\n",
      "5/5 [==============================] - 1s 237ms/step - loss: 0.8143 - sparse_categorical_accuracy: 0.8649\n",
      "Epoch 7/10\n",
      "5/5 [==============================] - 1s 236ms/step - loss: 0.7581 - sparse_categorical_accuracy: 0.8919\n",
      "Epoch 8/10\n",
      "5/5 [==============================] - 1s 237ms/step - loss: 0.6257 - sparse_categorical_accuracy: 0.9459\n",
      "Epoch 9/10\n",
      "5/5 [==============================] - 1s 238ms/step - loss: 0.7381 - sparse_categorical_accuracy: 0.9459\n",
      "Epoch 10/10\n",
      "5/5 [==============================] - 1s 238ms/step - loss: 0.8132 - sparse_categorical_accuracy: 0.8919\n"
     ]
    },
    {
     "name": "stderr",
     "output_type": "stream",
     "text": [
      "\r",
      "34it [11:31, 20.46s/it]"
     ]
    },
    {
     "name": "stdout",
     "output_type": "stream",
     "text": [
      "Epoch 1/10\n",
      "5/5 [==============================] - 1s 254ms/step - loss: 1.0391 - sparse_categorical_accuracy: 0.6757\n",
      "Epoch 2/10\n",
      "5/5 [==============================] - 1s 235ms/step - loss: 1.1717 - sparse_categorical_accuracy: 0.7568\n",
      "Epoch 3/10\n",
      "5/5 [==============================] - 1s 238ms/step - loss: 1.0927 - sparse_categorical_accuracy: 0.8649\n",
      "Epoch 4/10\n",
      "5/5 [==============================] - 1s 238ms/step - loss: 0.9244 - sparse_categorical_accuracy: 0.8919\n",
      "Epoch 5/10\n",
      "5/5 [==============================] - 1s 237ms/step - loss: 0.6976 - sparse_categorical_accuracy: 0.9459\n",
      "Epoch 6/10\n",
      "5/5 [==============================] - 1s 238ms/step - loss: 0.9342 - sparse_categorical_accuracy: 0.7297\n",
      "Epoch 7/10\n",
      "5/5 [==============================] - 1s 238ms/step - loss: 0.6922 - sparse_categorical_accuracy: 0.8919\n",
      "Epoch 8/10\n",
      "5/5 [==============================] - 1s 238ms/step - loss: 0.7591 - sparse_categorical_accuracy: 0.9189\n",
      "Epoch 9/10\n",
      "5/5 [==============================] - 1s 239ms/step - loss: 0.7865 - sparse_categorical_accuracy: 0.8649\n",
      "Epoch 10/10\n",
      "5/5 [==============================] - 1s 238ms/step - loss: 0.7483 - sparse_categorical_accuracy: 0.9459\n"
     ]
    },
    {
     "name": "stderr",
     "output_type": "stream",
     "text": [
      "\r",
      "35it [11:52, 20.42s/it]"
     ]
    },
    {
     "name": "stdout",
     "output_type": "stream",
     "text": [
      "Epoch 1/10\n",
      "5/5 [==============================] - 1s 242ms/step - loss: 1.4441 - sparse_categorical_accuracy: 0.6486\n",
      "Epoch 2/10\n",
      "5/5 [==============================] - 1s 241ms/step - loss: 0.9220 - sparse_categorical_accuracy: 0.9189\n",
      "Epoch 3/10\n",
      "5/5 [==============================] - 1s 238ms/step - loss: 0.9750 - sparse_categorical_accuracy: 0.8919\n",
      "Epoch 4/10\n",
      "5/5 [==============================] - 1s 240ms/step - loss: 0.7789 - sparse_categorical_accuracy: 0.9730\n",
      "Epoch 5/10\n",
      "5/5 [==============================] - 1s 240ms/step - loss: 0.7335 - sparse_categorical_accuracy: 0.9459\n",
      "Epoch 6/10\n",
      "5/5 [==============================] - 1s 239ms/step - loss: 0.7385 - sparse_categorical_accuracy: 0.9459\n",
      "Epoch 7/10\n",
      "5/5 [==============================] - 1s 243ms/step - loss: 0.6536 - sparse_categorical_accuracy: 0.9189\n",
      "Epoch 8/10\n",
      "5/5 [==============================] - 1s 257ms/step - loss: 0.8860 - sparse_categorical_accuracy: 0.8108\n",
      "Epoch 9/10\n",
      "5/5 [==============================] - 1s 239ms/step - loss: 0.4890 - sparse_categorical_accuracy: 0.9730\n",
      "Epoch 10/10\n",
      "5/5 [==============================] - 1s 244ms/step - loss: 0.5847 - sparse_categorical_accuracy: 0.9189\n"
     ]
    },
    {
     "name": "stderr",
     "output_type": "stream",
     "text": [
      "\r",
      "36it [12:13, 20.70s/it]"
     ]
    },
    {
     "name": "stdout",
     "output_type": "stream",
     "text": [
      "Epoch 1/10\n",
      "5/5 [==============================] - 1s 239ms/step - loss: 1.3271 - sparse_categorical_accuracy: 0.6486\n",
      "Epoch 2/10\n",
      "5/5 [==============================] - 1s 243ms/step - loss: 1.0376 - sparse_categorical_accuracy: 0.8649\n",
      "Epoch 3/10\n",
      "5/5 [==============================] - 1s 237ms/step - loss: 1.0914 - sparse_categorical_accuracy: 0.9189\n",
      "Epoch 4/10\n",
      "5/5 [==============================] - 1s 239ms/step - loss: 1.1204 - sparse_categorical_accuracy: 0.8378\n",
      "Epoch 5/10\n",
      "5/5 [==============================] - 1s 243ms/step - loss: 0.8910 - sparse_categorical_accuracy: 0.9459\n",
      "Epoch 6/10\n",
      "5/5 [==============================] - 1s 241ms/step - loss: 0.8138 - sparse_categorical_accuracy: 0.9189\n",
      "Epoch 7/10\n",
      "5/5 [==============================] - 1s 242ms/step - loss: 0.5907 - sparse_categorical_accuracy: 0.9730\n",
      "Epoch 8/10\n",
      "5/5 [==============================] - 1s 241ms/step - loss: 1.1596 - sparse_categorical_accuracy: 0.7027\n",
      "Epoch 9/10\n",
      "5/5 [==============================] - 1s 240ms/step - loss: 0.4872 - sparse_categorical_accuracy: 1.0000\n",
      "Epoch 10/10\n",
      "5/5 [==============================] - 1s 239ms/step - loss: 0.6316 - sparse_categorical_accuracy: 0.8919\n"
     ]
    },
    {
     "name": "stderr",
     "output_type": "stream",
     "text": [
      "\r",
      "37it [12:34, 20.64s/it]"
     ]
    },
    {
     "name": "stdout",
     "output_type": "stream",
     "text": [
      "Epoch 1/10\n",
      "5/5 [==============================] - 1s 245ms/step - loss: 1.3018 - sparse_categorical_accuracy: 0.6486\n",
      "Epoch 2/10\n",
      "5/5 [==============================] - 1s 241ms/step - loss: 0.9929 - sparse_categorical_accuracy: 0.8649\n",
      "Epoch 3/10\n",
      "5/5 [==============================] - 1s 239ms/step - loss: 1.0317 - sparse_categorical_accuracy: 0.8919\n",
      "Epoch 4/10\n",
      "5/5 [==============================] - 1s 241ms/step - loss: 1.0950 - sparse_categorical_accuracy: 0.8649\n",
      "Epoch 5/10\n",
      "5/5 [==============================] - 1s 242ms/step - loss: 0.9107 - sparse_categorical_accuracy: 0.8919\n",
      "Epoch 6/10\n",
      "5/5 [==============================] - 1s 242ms/step - loss: 0.8666 - sparse_categorical_accuracy: 0.9189\n",
      "Epoch 7/10\n",
      "5/5 [==============================] - 1s 242ms/step - loss: 1.1757 - sparse_categorical_accuracy: 0.7297\n",
      "Epoch 8/10\n",
      "5/5 [==============================] - 1s 242ms/step - loss: 0.5516 - sparse_categorical_accuracy: 0.9730\n",
      "Epoch 9/10\n",
      "5/5 [==============================] - 1s 240ms/step - loss: 0.6311 - sparse_categorical_accuracy: 0.9730\n",
      "Epoch 10/10\n",
      "5/5 [==============================] - 1s 239ms/step - loss: 0.5217 - sparse_categorical_accuracy: 0.9459\n"
     ]
    },
    {
     "name": "stderr",
     "output_type": "stream",
     "text": [
      "38it [12:54, 20.38s/it]\n",
      "0it [00:00, ?it/s]"
     ]
    },
    {
     "name": "stdout",
     "output_type": "stream",
     "text": [
      "Epoch 1/10\n",
      "5/5 [==============================] - 1s 213ms/step - loss: 1.2351 - sparse_categorical_accuracy: 0.6667\n",
      "Epoch 2/10\n",
      "5/5 [==============================] - 1s 213ms/step - loss: 1.3325 - sparse_categorical_accuracy: 0.7273\n",
      "Epoch 3/10\n",
      "5/5 [==============================] - 1s 208ms/step - loss: 1.3802 - sparse_categorical_accuracy: 0.7879\n",
      "Epoch 4/10\n",
      "5/5 [==============================] - 1s 211ms/step - loss: 1.0876 - sparse_categorical_accuracy: 0.9697\n",
      "Epoch 5/10\n",
      "5/5 [==============================] - 1s 208ms/step - loss: 0.8654 - sparse_categorical_accuracy: 0.9394\n",
      "Epoch 6/10\n",
      "5/5 [==============================] - 1s 209ms/step - loss: 0.6918 - sparse_categorical_accuracy: 0.9697\n",
      "Epoch 7/10\n",
      "5/5 [==============================] - 1s 221ms/step - loss: 1.0804 - sparse_categorical_accuracy: 0.7879\n",
      "Epoch 8/10\n",
      "5/5 [==============================] - 1s 210ms/step - loss: 0.6830 - sparse_categorical_accuracy: 0.8788\n",
      "Epoch 9/10\n",
      "5/5 [==============================] - 1s 208ms/step - loss: 0.8169 - sparse_categorical_accuracy: 0.9091\n",
      "Epoch 10/10\n",
      "5/5 [==============================] - 1s 210ms/step - loss: 0.8934 - sparse_categorical_accuracy: 0.7879\n"
     ]
    },
    {
     "name": "stderr",
     "output_type": "stream",
     "text": [
      "\r",
      "1it [00:19, 19.35s/it]"
     ]
    },
    {
     "name": "stdout",
     "output_type": "stream",
     "text": [
      "Epoch 1/10\n",
      "5/5 [==============================] - 1s 210ms/step - loss: 1.2698 - sparse_categorical_accuracy: 0.6667\n",
      "Epoch 2/10\n",
      "5/5 [==============================] - 1s 208ms/step - loss: 1.2129 - sparse_categorical_accuracy: 0.7273\n",
      "Epoch 3/10\n",
      "5/5 [==============================] - 1s 209ms/step - loss: 0.9498 - sparse_categorical_accuracy: 0.9394\n",
      "Epoch 4/10\n",
      "5/5 [==============================] - 1s 210ms/step - loss: 0.7547 - sparse_categorical_accuracy: 1.0000\n",
      "Epoch 5/10\n",
      "5/5 [==============================] - 1s 215ms/step - loss: 0.8609 - sparse_categorical_accuracy: 0.8485\n",
      "Epoch 6/10\n",
      "5/5 [==============================] - 1s 214ms/step - loss: 0.7726 - sparse_categorical_accuracy: 0.7879\n",
      "Epoch 7/10\n",
      "5/5 [==============================] - 1s 212ms/step - loss: 0.6848 - sparse_categorical_accuracy: 0.8182\n",
      "Epoch 8/10\n",
      "5/5 [==============================] - 1s 209ms/step - loss: 0.6724 - sparse_categorical_accuracy: 0.8485\n",
      "Epoch 9/10\n",
      "5/5 [==============================] - 1s 210ms/step - loss: 0.8204 - sparse_categorical_accuracy: 0.8788\n",
      "Epoch 10/10\n",
      "5/5 [==============================] - 1s 215ms/step - loss: 0.7717 - sparse_categorical_accuracy: 0.9394\n"
     ]
    },
    {
     "name": "stderr",
     "output_type": "stream",
     "text": [
      "\r",
      "2it [00:39, 19.53s/it]"
     ]
    },
    {
     "name": "stdout",
     "output_type": "stream",
     "text": [
      "Epoch 1/10\n",
      "5/5 [==============================] - 1s 214ms/step - loss: 1.1091 - sparse_categorical_accuracy: 0.7273\n",
      "Epoch 2/10\n",
      "5/5 [==============================] - 1s 209ms/step - loss: 1.1377 - sparse_categorical_accuracy: 0.7879\n",
      "Epoch 3/10\n",
      "5/5 [==============================] - 1s 208ms/step - loss: 0.9787 - sparse_categorical_accuracy: 0.9091\n",
      "Epoch 4/10\n",
      "5/5 [==============================] - 1s 206ms/step - loss: 1.3062 - sparse_categorical_accuracy: 0.6970\n",
      "Epoch 5/10\n",
      "5/5 [==============================] - 1s 210ms/step - loss: 0.9184 - sparse_categorical_accuracy: 0.8182\n",
      "Epoch 6/10\n",
      "5/5 [==============================] - 1s 208ms/step - loss: 1.0496 - sparse_categorical_accuracy: 0.6667\n",
      "Epoch 7/10\n",
      "5/5 [==============================] - 1s 210ms/step - loss: 1.1455 - sparse_categorical_accuracy: 0.7576\n",
      "Epoch 8/10\n",
      "5/5 [==============================] - 1s 210ms/step - loss: 0.8436 - sparse_categorical_accuracy: 0.7879\n",
      "Epoch 9/10\n",
      "5/5 [==============================] - 1s 211ms/step - loss: 0.7204 - sparse_categorical_accuracy: 0.9091\n",
      "Epoch 10/10\n",
      "5/5 [==============================] - 1s 211ms/step - loss: 0.7164 - sparse_categorical_accuracy: 0.9091\n"
     ]
    },
    {
     "name": "stderr",
     "output_type": "stream",
     "text": [
      "\r",
      "3it [00:58, 19.46s/it]"
     ]
    },
    {
     "name": "stdout",
     "output_type": "stream",
     "text": [
      "Epoch 1/10\n",
      "5/5 [==============================] - 1s 212ms/step - loss: 1.0185 - sparse_categorical_accuracy: 0.7879\n",
      "Epoch 2/10\n",
      "5/5 [==============================] - 1s 215ms/step - loss: 1.0993 - sparse_categorical_accuracy: 0.8485\n",
      "Epoch 3/10\n",
      "5/5 [==============================] - 1s 208ms/step - loss: 1.2698 - sparse_categorical_accuracy: 0.7879\n",
      "Epoch 4/10\n",
      "5/5 [==============================] - 1s 215ms/step - loss: 1.1650 - sparse_categorical_accuracy: 0.7576\n",
      "Epoch 5/10\n",
      "5/5 [==============================] - 1s 211ms/step - loss: 0.8898 - sparse_categorical_accuracy: 0.8788\n",
      "Epoch 6/10\n",
      "5/5 [==============================] - 1s 208ms/step - loss: 0.9070 - sparse_categorical_accuracy: 0.8788\n",
      "Epoch 7/10\n",
      "5/5 [==============================] - 1s 209ms/step - loss: 0.9669 - sparse_categorical_accuracy: 0.8182\n",
      "Epoch 8/10\n",
      "5/5 [==============================] - 1s 211ms/step - loss: 0.7649 - sparse_categorical_accuracy: 0.8182\n",
      "Epoch 9/10\n",
      "5/5 [==============================] - 1s 222ms/step - loss: 0.5848 - sparse_categorical_accuracy: 0.9697\n",
      "Epoch 10/10\n",
      "5/5 [==============================] - 1s 209ms/step - loss: 0.8474 - sparse_categorical_accuracy: 0.8788\n"
     ]
    },
    {
     "name": "stderr",
     "output_type": "stream",
     "text": [
      "\r",
      "4it [01:17, 19.40s/it]"
     ]
    },
    {
     "name": "stdout",
     "output_type": "stream",
     "text": [
      "Epoch 1/10\n",
      "5/5 [==============================] - 1s 210ms/step - loss: 1.0567 - sparse_categorical_accuracy: 0.7576\n",
      "Epoch 2/10\n",
      "5/5 [==============================] - 1s 209ms/step - loss: 1.2078 - sparse_categorical_accuracy: 0.6970\n",
      "Epoch 3/10\n",
      "5/5 [==============================] - 1s 207ms/step - loss: 1.3546 - sparse_categorical_accuracy: 0.7576\n",
      "Epoch 4/10\n",
      "5/5 [==============================] - 1s 211ms/step - loss: 1.1294 - sparse_categorical_accuracy: 0.7576\n",
      "Epoch 5/10\n",
      "5/5 [==============================] - 1s 209ms/step - loss: 0.9280 - sparse_categorical_accuracy: 0.7879\n",
      "Epoch 6/10\n",
      "5/5 [==============================] - 1s 210ms/step - loss: 0.8561 - sparse_categorical_accuracy: 0.8182\n",
      "Epoch 7/10\n",
      "5/5 [==============================] - 1s 209ms/step - loss: 0.8431 - sparse_categorical_accuracy: 0.7576\n",
      "Epoch 8/10\n",
      "5/5 [==============================] - 1s 208ms/step - loss: 0.6310 - sparse_categorical_accuracy: 0.8182\n",
      "Epoch 9/10\n",
      "5/5 [==============================] - 1s 209ms/step - loss: 0.5245 - sparse_categorical_accuracy: 0.9091\n",
      "Epoch 10/10\n",
      "5/5 [==============================] - 1s 207ms/step - loss: 0.7966 - sparse_categorical_accuracy: 0.8182\n"
     ]
    },
    {
     "name": "stderr",
     "output_type": "stream",
     "text": [
      "\r",
      "5it [01:37, 19.32s/it]"
     ]
    },
    {
     "name": "stdout",
     "output_type": "stream",
     "text": [
      "Epoch 1/10\n",
      "5/5 [==============================] - 1s 220ms/step - loss: 1.2388 - sparse_categorical_accuracy: 0.6970\n",
      "Epoch 2/10\n",
      "5/5 [==============================] - 1s 209ms/step - loss: 1.1063 - sparse_categorical_accuracy: 0.9091\n",
      "Epoch 3/10\n",
      "5/5 [==============================] - 1s 205ms/step - loss: 1.0547 - sparse_categorical_accuracy: 0.8182\n",
      "Epoch 4/10\n",
      "5/5 [==============================] - 1s 205ms/step - loss: 1.0361 - sparse_categorical_accuracy: 0.8788\n",
      "Epoch 5/10\n",
      "5/5 [==============================] - 1s 210ms/step - loss: 0.7073 - sparse_categorical_accuracy: 0.9697\n",
      "Epoch 6/10\n",
      "5/5 [==============================] - 1s 207ms/step - loss: 0.8308 - sparse_categorical_accuracy: 0.8182\n",
      "Epoch 7/10\n",
      "5/5 [==============================] - 1s 207ms/step - loss: 1.0310 - sparse_categorical_accuracy: 0.8485\n",
      "Epoch 8/10\n",
      "5/5 [==============================] - 1s 206ms/step - loss: 0.8761 - sparse_categorical_accuracy: 0.8485\n",
      "Epoch 9/10\n",
      "5/5 [==============================] - 1s 205ms/step - loss: 0.8391 - sparse_categorical_accuracy: 0.8182\n",
      "Epoch 10/10\n",
      "5/5 [==============================] - 1s 207ms/step - loss: 0.8715 - sparse_categorical_accuracy: 0.7879\n"
     ]
    },
    {
     "name": "stderr",
     "output_type": "stream",
     "text": [
      "\r",
      "6it [01:56, 19.26s/it]"
     ]
    },
    {
     "name": "stdout",
     "output_type": "stream",
     "text": [
      "Epoch 1/10\n",
      "5/5 [==============================] - 1s 210ms/step - loss: 1.2968 - sparse_categorical_accuracy: 0.6364\n",
      "Epoch 2/10\n",
      "5/5 [==============================] - 1s 210ms/step - loss: 1.1015 - sparse_categorical_accuracy: 0.8788\n",
      "Epoch 3/10\n",
      "5/5 [==============================] - 1s 210ms/step - loss: 1.6469 - sparse_categorical_accuracy: 0.6970\n",
      "Epoch 4/10\n",
      "5/5 [==============================] - 1s 208ms/step - loss: 1.1520 - sparse_categorical_accuracy: 0.8182\n",
      "Epoch 5/10\n",
      "5/5 [==============================] - 1s 213ms/step - loss: 1.4075 - sparse_categorical_accuracy: 0.7879\n",
      "Epoch 6/10\n",
      "5/5 [==============================] - 1s 209ms/step - loss: 1.3381 - sparse_categorical_accuracy: 0.7273\n",
      "Epoch 7/10\n",
      "5/5 [==============================] - 1s 208ms/step - loss: 1.1006 - sparse_categorical_accuracy: 0.8788\n",
      "Epoch 8/10\n",
      "5/5 [==============================] - 1s 209ms/step - loss: 0.9264 - sparse_categorical_accuracy: 0.8485\n",
      "Epoch 9/10\n",
      "5/5 [==============================] - 1s 208ms/step - loss: 0.8423 - sparse_categorical_accuracy: 0.8788\n",
      "Epoch 10/10\n",
      "5/5 [==============================] - 1s 209ms/step - loss: 0.7588 - sparse_categorical_accuracy: 0.7879\n"
     ]
    },
    {
     "name": "stderr",
     "output_type": "stream",
     "text": [
      "\r",
      "7it [02:16, 19.49s/it]"
     ]
    },
    {
     "name": "stdout",
     "output_type": "stream",
     "text": [
      "Epoch 1/10\n",
      "5/5 [==============================] - 1s 212ms/step - loss: 1.3954 - sparse_categorical_accuracy: 0.5758\n",
      "Epoch 2/10\n",
      "5/5 [==============================] - 1s 209ms/step - loss: 1.3026 - sparse_categorical_accuracy: 0.7576\n",
      "Epoch 3/10\n",
      "5/5 [==============================] - 1s 206ms/step - loss: 1.2333 - sparse_categorical_accuracy: 0.8485\n",
      "Epoch 4/10\n",
      "5/5 [==============================] - 1s 208ms/step - loss: 1.0867 - sparse_categorical_accuracy: 0.8788\n",
      "Epoch 5/10\n",
      "5/5 [==============================] - 1s 207ms/step - loss: 0.8686 - sparse_categorical_accuracy: 0.9091\n",
      "Epoch 6/10\n",
      "5/5 [==============================] - 1s 208ms/step - loss: 0.9296 - sparse_categorical_accuracy: 0.8182\n",
      "Epoch 7/10\n",
      "5/5 [==============================] - 1s 207ms/step - loss: 0.7714 - sparse_categorical_accuracy: 0.8485\n",
      "Epoch 8/10\n",
      "5/5 [==============================] - 1s 210ms/step - loss: 0.6912 - sparse_categorical_accuracy: 0.8788\n",
      "Epoch 9/10\n",
      "5/5 [==============================] - 1s 208ms/step - loss: 0.7229 - sparse_categorical_accuracy: 0.8788\n",
      "Epoch 10/10\n",
      "5/5 [==============================] - 1s 215ms/step - loss: 0.9562 - sparse_categorical_accuracy: 0.7879\n"
     ]
    },
    {
     "name": "stderr",
     "output_type": "stream",
     "text": [
      "\r",
      "8it [02:35, 19.42s/it]"
     ]
    },
    {
     "name": "stdout",
     "output_type": "stream",
     "text": [
      "Epoch 1/10\n",
      "5/5 [==============================] - 1s 212ms/step - loss: 1.7274 - sparse_categorical_accuracy: 0.4545\n",
      "Epoch 2/10\n",
      "5/5 [==============================] - 1s 209ms/step - loss: 1.1517 - sparse_categorical_accuracy: 0.8182\n",
      "Epoch 3/10\n",
      "5/5 [==============================] - 1s 218ms/step - loss: 1.2757 - sparse_categorical_accuracy: 0.7879\n",
      "Epoch 4/10\n",
      "5/5 [==============================] - 1s 214ms/step - loss: 0.9736 - sparse_categorical_accuracy: 0.8788\n",
      "Epoch 5/10\n",
      "5/5 [==============================] - 1s 210ms/step - loss: 0.8516 - sparse_categorical_accuracy: 0.8182\n",
      "Epoch 6/10\n",
      "5/5 [==============================] - 1s 207ms/step - loss: 1.1160 - sparse_categorical_accuracy: 0.6970\n",
      "Epoch 7/10\n",
      "5/5 [==============================] - 1s 208ms/step - loss: 0.6976 - sparse_categorical_accuracy: 0.9697\n",
      "Epoch 8/10\n",
      "5/5 [==============================] - 1s 207ms/step - loss: 0.7427 - sparse_categorical_accuracy: 0.9091\n",
      "Epoch 9/10\n",
      "5/5 [==============================] - 1s 209ms/step - loss: 0.8863 - sparse_categorical_accuracy: 0.8182\n",
      "Epoch 10/10\n",
      "5/5 [==============================] - 1s 207ms/step - loss: 0.7583 - sparse_categorical_accuracy: 0.8485\n"
     ]
    },
    {
     "name": "stderr",
     "output_type": "stream",
     "text": [
      "\r",
      "9it [02:54, 19.36s/it]"
     ]
    },
    {
     "name": "stdout",
     "output_type": "stream",
     "text": [
      "Epoch 1/10\n",
      "5/5 [==============================] - 1s 209ms/step - loss: 1.2929 - sparse_categorical_accuracy: 0.5455\n",
      "Epoch 2/10\n",
      "5/5 [==============================] - 1s 207ms/step - loss: 1.3538 - sparse_categorical_accuracy: 0.7273\n",
      "Epoch 3/10\n",
      "5/5 [==============================] - 1s 209ms/step - loss: 1.3192 - sparse_categorical_accuracy: 0.8485\n",
      "Epoch 4/10\n",
      "5/5 [==============================] - 1s 207ms/step - loss: 1.3200 - sparse_categorical_accuracy: 0.7879\n",
      "Epoch 5/10\n",
      "5/5 [==============================] - 1s 207ms/step - loss: 1.0782 - sparse_categorical_accuracy: 0.8788\n",
      "Epoch 6/10\n",
      "5/5 [==============================] - 1s 209ms/step - loss: 0.9143 - sparse_categorical_accuracy: 0.8485\n",
      "Epoch 7/10\n",
      "5/5 [==============================] - 1s 208ms/step - loss: 0.9443 - sparse_categorical_accuracy: 0.8485\n",
      "Epoch 8/10\n",
      "5/5 [==============================] - 1s 208ms/step - loss: 1.0074 - sparse_categorical_accuracy: 0.7576\n",
      "Epoch 9/10\n",
      "5/5 [==============================] - 1s 207ms/step - loss: 0.6385 - sparse_categorical_accuracy: 0.9091\n",
      "Epoch 10/10\n",
      "5/5 [==============================] - 1s 206ms/step - loss: 0.9286 - sparse_categorical_accuracy: 0.7879\n"
     ]
    },
    {
     "name": "stderr",
     "output_type": "stream",
     "text": [
      "\r",
      "10it [03:13, 19.29s/it]"
     ]
    },
    {
     "name": "stdout",
     "output_type": "stream",
     "text": [
      "Epoch 1/10\n",
      "5/5 [==============================] - 1s 211ms/step - loss: 1.5044 - sparse_categorical_accuracy: 0.5758\n",
      "Epoch 2/10\n",
      "5/5 [==============================] - 1s 213ms/step - loss: 1.3974 - sparse_categorical_accuracy: 0.6667\n",
      "Epoch 3/10\n",
      "5/5 [==============================] - 1s 208ms/step - loss: 1.2257 - sparse_categorical_accuracy: 0.9091\n",
      "Epoch 4/10\n",
      "5/5 [==============================] - 1s 211ms/step - loss: 1.1959 - sparse_categorical_accuracy: 0.8788\n",
      "Epoch 5/10\n",
      "5/5 [==============================] - 1s 208ms/step - loss: 1.2932 - sparse_categorical_accuracy: 0.7879\n",
      "Epoch 6/10\n",
      "5/5 [==============================] - 1s 206ms/step - loss: 1.0971 - sparse_categorical_accuracy: 0.7879\n",
      "Epoch 7/10\n",
      "5/5 [==============================] - 1s 210ms/step - loss: 0.9350 - sparse_categorical_accuracy: 0.8485\n",
      "Epoch 8/10\n",
      "5/5 [==============================] - 1s 215ms/step - loss: 0.8179 - sparse_categorical_accuracy: 0.8788\n",
      "Epoch 9/10\n",
      "5/5 [==============================] - 1s 207ms/step - loss: 0.8099 - sparse_categorical_accuracy: 0.8788\n",
      "Epoch 10/10\n",
      "5/5 [==============================] - 1s 208ms/step - loss: 0.7019 - sparse_categorical_accuracy: 0.9091\n"
     ]
    },
    {
     "name": "stderr",
     "output_type": "stream",
     "text": [
      "\r",
      "11it [03:32, 19.25s/it]"
     ]
    },
    {
     "name": "stdout",
     "output_type": "stream",
     "text": [
      "Epoch 1/10\n",
      "5/5 [==============================] - 1s 212ms/step - loss: 1.0544 - sparse_categorical_accuracy: 0.7576\n",
      "Epoch 2/10\n",
      "5/5 [==============================] - 1s 208ms/step - loss: 1.5936 - sparse_categorical_accuracy: 0.6667\n",
      "Epoch 3/10\n",
      "5/5 [==============================] - 1s 208ms/step - loss: 1.4033 - sparse_categorical_accuracy: 0.8182\n",
      "Epoch 4/10\n",
      "5/5 [==============================] - 1s 214ms/step - loss: 1.1243 - sparse_categorical_accuracy: 0.8182\n",
      "Epoch 5/10\n",
      "5/5 [==============================] - 1s 210ms/step - loss: 0.9539 - sparse_categorical_accuracy: 0.8788\n",
      "Epoch 6/10\n",
      "5/5 [==============================] - 1s 206ms/step - loss: 1.3372 - sparse_categorical_accuracy: 0.6364\n",
      "Epoch 7/10\n",
      "5/5 [==============================] - 1s 209ms/step - loss: 1.0942 - sparse_categorical_accuracy: 0.7879\n",
      "Epoch 8/10\n",
      "5/5 [==============================] - 1s 210ms/step - loss: 0.8652 - sparse_categorical_accuracy: 0.8788\n",
      "Epoch 9/10\n",
      "5/5 [==============================] - 1s 210ms/step - loss: 1.1195 - sparse_categorical_accuracy: 0.7273\n",
      "Epoch 10/10\n",
      "5/5 [==============================] - 1s 209ms/step - loss: 0.7697 - sparse_categorical_accuracy: 0.7576\n"
     ]
    },
    {
     "name": "stderr",
     "output_type": "stream",
     "text": [
      "\r",
      "12it [03:53, 19.52s/it]"
     ]
    },
    {
     "name": "stdout",
     "output_type": "stream",
     "text": [
      "Epoch 1/10\n",
      "5/5 [==============================] - 1s 212ms/step - loss: 1.0648 - sparse_categorical_accuracy: 0.6970\n",
      "Epoch 2/10\n",
      "5/5 [==============================] - 1s 209ms/step - loss: 1.4472 - sparse_categorical_accuracy: 0.7273\n",
      "Epoch 3/10\n",
      "5/5 [==============================] - 1s 208ms/step - loss: 1.1400 - sparse_categorical_accuracy: 0.7879\n",
      "Epoch 4/10\n",
      "5/5 [==============================] - 1s 207ms/step - loss: 1.2168 - sparse_categorical_accuracy: 0.6970\n",
      "Epoch 5/10\n",
      "5/5 [==============================] - 1s 209ms/step - loss: 0.9799 - sparse_categorical_accuracy: 0.8788\n",
      "Epoch 6/10\n",
      "5/5 [==============================] - 1s 209ms/step - loss: 0.9197 - sparse_categorical_accuracy: 0.9394\n",
      "Epoch 7/10\n",
      "5/5 [==============================] - 1s 216ms/step - loss: 0.9127 - sparse_categorical_accuracy: 0.8182\n",
      "Epoch 8/10\n",
      "5/5 [==============================] - 1s 215ms/step - loss: 0.7578 - sparse_categorical_accuracy: 0.9091\n",
      "Epoch 9/10\n",
      "5/5 [==============================] - 1s 214ms/step - loss: 0.7307 - sparse_categorical_accuracy: 0.9091\n",
      "Epoch 10/10\n",
      "5/5 [==============================] - 1s 211ms/step - loss: 0.8786 - sparse_categorical_accuracy: 0.8182\n"
     ]
    },
    {
     "name": "stderr",
     "output_type": "stream",
     "text": [
      "\r",
      "13it [04:12, 19.47s/it]"
     ]
    },
    {
     "name": "stdout",
     "output_type": "stream",
     "text": [
      "Epoch 1/10\n",
      "5/5 [==============================] - 1s 213ms/step - loss: 1.0603 - sparse_categorical_accuracy: 0.7879\n",
      "Epoch 2/10\n",
      "5/5 [==============================] - 1s 209ms/step - loss: 1.2532 - sparse_categorical_accuracy: 0.7273\n",
      "Epoch 3/10\n",
      "5/5 [==============================] - 1s 209ms/step - loss: 1.4688 - sparse_categorical_accuracy: 0.6061\n",
      "Epoch 4/10\n",
      "5/5 [==============================] - 1s 210ms/step - loss: 1.2943 - sparse_categorical_accuracy: 0.7576\n",
      "Epoch 5/10\n",
      "5/5 [==============================] - 1s 210ms/step - loss: 1.0630 - sparse_categorical_accuracy: 0.8182\n",
      "Epoch 6/10\n",
      "5/5 [==============================] - 1s 213ms/step - loss: 1.1898 - sparse_categorical_accuracy: 0.7879\n",
      "Epoch 7/10\n",
      "5/5 [==============================] - 1s 208ms/step - loss: 0.9337 - sparse_categorical_accuracy: 0.8485\n",
      "Epoch 8/10\n",
      "5/5 [==============================] - 1s 210ms/step - loss: 1.1344 - sparse_categorical_accuracy: 0.7273\n",
      "Epoch 9/10\n",
      "5/5 [==============================] - 1s 209ms/step - loss: 0.8900 - sparse_categorical_accuracy: 0.8182\n",
      "Epoch 10/10\n",
      "5/5 [==============================] - 1s 208ms/step - loss: 1.1044 - sparse_categorical_accuracy: 0.8182\n"
     ]
    },
    {
     "name": "stderr",
     "output_type": "stream",
     "text": [
      "\r",
      "14it [04:31, 19.42s/it]"
     ]
    },
    {
     "name": "stdout",
     "output_type": "stream",
     "text": [
      "Epoch 1/10\n",
      "5/5 [==============================] - 1s 210ms/step - loss: 1.3503 - sparse_categorical_accuracy: 0.6061\n",
      "Epoch 2/10\n",
      "5/5 [==============================] - 1s 208ms/step - loss: 1.2896 - sparse_categorical_accuracy: 0.6970\n",
      "Epoch 3/10\n",
      "5/5 [==============================] - 1s 210ms/step - loss: 1.2671 - sparse_categorical_accuracy: 0.7879\n",
      "Epoch 4/10\n",
      "5/5 [==============================] - 1s 215ms/step - loss: 1.0094 - sparse_categorical_accuracy: 0.9091\n",
      "Epoch 5/10\n",
      "5/5 [==============================] - 1s 207ms/step - loss: 1.3018 - sparse_categorical_accuracy: 0.6364\n",
      "Epoch 6/10\n",
      "5/5 [==============================] - 1s 212ms/step - loss: 0.9044 - sparse_categorical_accuracy: 0.7879\n",
      "Epoch 7/10\n",
      "5/5 [==============================] - 1s 212ms/step - loss: 0.6903 - sparse_categorical_accuracy: 0.8788\n",
      "Epoch 8/10\n",
      "5/5 [==============================] - 1s 210ms/step - loss: 0.8001 - sparse_categorical_accuracy: 0.8788\n",
      "Epoch 9/10\n",
      "5/5 [==============================] - 1s 209ms/step - loss: 1.1329 - sparse_categorical_accuracy: 0.7273\n",
      "Epoch 10/10\n",
      "5/5 [==============================] - 1s 208ms/step - loss: 0.7284 - sparse_categorical_accuracy: 0.8182\n"
     ]
    },
    {
     "name": "stderr",
     "output_type": "stream",
     "text": [
      "\r",
      "15it [04:50, 19.37s/it]"
     ]
    },
    {
     "name": "stdout",
     "output_type": "stream",
     "text": [
      "Epoch 1/10\n",
      "5/5 [==============================] - 1s 216ms/step - loss: 1.3006 - sparse_categorical_accuracy: 0.6364\n",
      "Epoch 2/10\n",
      "5/5 [==============================] - 1s 208ms/step - loss: 1.1850 - sparse_categorical_accuracy: 0.7879\n",
      "Epoch 3/10\n",
      "5/5 [==============================] - 1s 207ms/step - loss: 1.1665 - sparse_categorical_accuracy: 0.8788\n",
      "Epoch 4/10\n",
      "5/5 [==============================] - 1s 210ms/step - loss: 1.1998 - sparse_categorical_accuracy: 0.9091\n",
      "Epoch 5/10\n",
      "5/5 [==============================] - 1s 208ms/step - loss: 0.9219 - sparse_categorical_accuracy: 0.8485\n",
      "Epoch 6/10\n",
      "5/5 [==============================] - 1s 209ms/step - loss: 0.9272 - sparse_categorical_accuracy: 0.8788\n",
      "Epoch 7/10\n",
      "5/5 [==============================] - 1s 208ms/step - loss: 0.8192 - sparse_categorical_accuracy: 0.8788\n",
      "Epoch 8/10\n",
      "5/5 [==============================] - 1s 210ms/step - loss: 0.9839 - sparse_categorical_accuracy: 0.7576\n",
      "Epoch 9/10\n",
      "5/5 [==============================] - 1s 209ms/step - loss: 0.7250 - sparse_categorical_accuracy: 0.8788\n",
      "Epoch 10/10\n",
      "5/5 [==============================] - 1s 212ms/step - loss: 0.7552 - sparse_categorical_accuracy: 0.9091\n"
     ]
    },
    {
     "name": "stderr",
     "output_type": "stream",
     "text": [
      "\r",
      "16it [05:10, 19.33s/it]"
     ]
    },
    {
     "name": "stdout",
     "output_type": "stream",
     "text": [
      "Epoch 1/10\n",
      "5/5 [==============================] - 1s 223ms/step - loss: 1.3671 - sparse_categorical_accuracy: 0.5455\n",
      "Epoch 2/10\n",
      "5/5 [==============================] - 1s 215ms/step - loss: 1.3718 - sparse_categorical_accuracy: 0.7273\n",
      "Epoch 3/10\n",
      "5/5 [==============================] - 1s 210ms/step - loss: 1.1883 - sparse_categorical_accuracy: 0.8182\n",
      "Epoch 4/10\n",
      "5/5 [==============================] - 1s 209ms/step - loss: 1.2377 - sparse_categorical_accuracy: 0.8485\n",
      "Epoch 5/10\n",
      "5/5 [==============================] - 1s 210ms/step - loss: 1.1413 - sparse_categorical_accuracy: 0.8182\n",
      "Epoch 6/10\n",
      "5/5 [==============================] - 1s 211ms/step - loss: 1.1371 - sparse_categorical_accuracy: 0.7273\n",
      "Epoch 7/10\n",
      "5/5 [==============================] - 1s 210ms/step - loss: 0.8288 - sparse_categorical_accuracy: 0.8182\n",
      "Epoch 8/10\n",
      "5/5 [==============================] - 1s 210ms/step - loss: 0.8780 - sparse_categorical_accuracy: 0.8788\n",
      "Epoch 9/10\n",
      "5/5 [==============================] - 1s 212ms/step - loss: 0.6934 - sparse_categorical_accuracy: 0.8485\n",
      "Epoch 10/10\n",
      "5/5 [==============================] - 1s 215ms/step - loss: 0.8334 - sparse_categorical_accuracy: 0.8182\n"
     ]
    },
    {
     "name": "stderr",
     "output_type": "stream",
     "text": [
      "\r",
      "17it [05:30, 19.61s/it]"
     ]
    },
    {
     "name": "stdout",
     "output_type": "stream",
     "text": [
      "Epoch 1/10\n",
      "5/5 [==============================] - 1s 209ms/step - loss: 1.2654 - sparse_categorical_accuracy: 0.7879\n",
      "Epoch 2/10\n",
      "5/5 [==============================] - 1s 210ms/step - loss: 1.0722 - sparse_categorical_accuracy: 0.8182\n",
      "Epoch 3/10\n",
      "5/5 [==============================] - 1s 216ms/step - loss: 1.2326 - sparse_categorical_accuracy: 0.7879\n",
      "Epoch 4/10\n",
      "5/5 [==============================] - 1s 209ms/step - loss: 1.1843 - sparse_categorical_accuracy: 0.8182\n",
      "Epoch 5/10\n",
      "5/5 [==============================] - 1s 228ms/step - loss: 0.9342 - sparse_categorical_accuracy: 0.9091\n",
      "Epoch 6/10\n",
      "5/5 [==============================] - 1s 209ms/step - loss: 0.9652 - sparse_categorical_accuracy: 0.8485\n",
      "Epoch 7/10\n",
      "5/5 [==============================] - 1s 211ms/step - loss: 0.8020 - sparse_categorical_accuracy: 0.8485\n",
      "Epoch 8/10\n",
      "5/5 [==============================] - 1s 222ms/step - loss: 0.8091 - sparse_categorical_accuracy: 0.8182\n",
      "Epoch 9/10\n",
      "5/5 [==============================] - 1s 211ms/step - loss: 0.6671 - sparse_categorical_accuracy: 0.8485\n",
      "Epoch 10/10\n",
      "5/5 [==============================] - 1s 208ms/step - loss: 0.5994 - sparse_categorical_accuracy: 0.9091\n"
     ]
    },
    {
     "name": "stderr",
     "output_type": "stream",
     "text": [
      "\r",
      "18it [05:50, 19.61s/it]"
     ]
    },
    {
     "name": "stdout",
     "output_type": "stream",
     "text": [
      "Epoch 1/10\n",
      "5/5 [==============================] - 1s 217ms/step - loss: 1.0409 - sparse_categorical_accuracy: 0.7273\n",
      "Epoch 2/10\n",
      "5/5 [==============================] - 1s 208ms/step - loss: 1.3070 - sparse_categorical_accuracy: 0.9091\n",
      "Epoch 3/10\n",
      "5/5 [==============================] - 1s 209ms/step - loss: 1.2189 - sparse_categorical_accuracy: 0.8788\n",
      "Epoch 4/10\n",
      "5/5 [==============================] - 1s 207ms/step - loss: 1.2212 - sparse_categorical_accuracy: 0.8485\n",
      "Epoch 5/10\n",
      "5/5 [==============================] - 1s 210ms/step - loss: 0.9329 - sparse_categorical_accuracy: 0.8182\n",
      "Epoch 6/10\n",
      "5/5 [==============================] - 1s 210ms/step - loss: 0.9791 - sparse_categorical_accuracy: 0.8182\n",
      "Epoch 7/10\n",
      "5/5 [==============================] - 1s 211ms/step - loss: 1.0255 - sparse_categorical_accuracy: 0.8182\n",
      "Epoch 8/10\n",
      "5/5 [==============================] - 1s 208ms/step - loss: 0.7916 - sparse_categorical_accuracy: 0.7879\n",
      "Epoch 9/10\n",
      "5/5 [==============================] - 1s 214ms/step - loss: 0.6969 - sparse_categorical_accuracy: 0.9091\n",
      "Epoch 10/10\n",
      "5/5 [==============================] - 1s 212ms/step - loss: 0.9681 - sparse_categorical_accuracy: 0.8182\n"
     ]
    },
    {
     "name": "stderr",
     "output_type": "stream",
     "text": [
      "\r",
      "19it [06:09, 19.53s/it]"
     ]
    },
    {
     "name": "stdout",
     "output_type": "stream",
     "text": [
      "Epoch 1/10\n",
      "5/5 [==============================] - 1s 216ms/step - loss: 1.0010 - sparse_categorical_accuracy: 0.7879\n",
      "Epoch 2/10\n",
      "5/5 [==============================] - 1s 209ms/step - loss: 1.0749 - sparse_categorical_accuracy: 0.7879\n",
      "Epoch 3/10\n",
      "5/5 [==============================] - 1s 221ms/step - loss: 0.9741 - sparse_categorical_accuracy: 0.9091\n",
      "Epoch 4/10\n",
      "5/5 [==============================] - 1s 212ms/step - loss: 1.0134 - sparse_categorical_accuracy: 0.8182\n",
      "Epoch 5/10\n",
      "5/5 [==============================] - 1s 208ms/step - loss: 1.1243 - sparse_categorical_accuracy: 0.7879\n",
      "Epoch 6/10\n",
      "5/5 [==============================] - 1s 208ms/step - loss: 1.4136 - sparse_categorical_accuracy: 0.7879\n",
      "Epoch 7/10\n",
      "5/5 [==============================] - 1s 208ms/step - loss: 0.8895 - sparse_categorical_accuracy: 0.8788\n",
      "Epoch 8/10\n",
      "5/5 [==============================] - 1s 208ms/step - loss: 0.9968 - sparse_categorical_accuracy: 0.7273\n",
      "Epoch 9/10\n",
      "5/5 [==============================] - 1s 209ms/step - loss: 0.8651 - sparse_categorical_accuracy: 0.7879\n",
      "Epoch 10/10\n",
      "5/5 [==============================] - 1s 209ms/step - loss: 0.7709 - sparse_categorical_accuracy: 0.8485\n"
     ]
    },
    {
     "name": "stderr",
     "output_type": "stream",
     "text": [
      "\r",
      "20it [06:28, 19.47s/it]"
     ]
    },
    {
     "name": "stdout",
     "output_type": "stream",
     "text": [
      "Epoch 1/10\n",
      "5/5 [==============================] - 1s 210ms/step - loss: 1.3516 - sparse_categorical_accuracy: 0.5455\n",
      "Epoch 2/10\n",
      "5/5 [==============================] - 1s 212ms/step - loss: 1.3912 - sparse_categorical_accuracy: 0.6667\n",
      "Epoch 3/10\n",
      "5/5 [==============================] - 1s 206ms/step - loss: 1.2248 - sparse_categorical_accuracy: 0.9091\n",
      "Epoch 4/10\n",
      "5/5 [==============================] - 1s 210ms/step - loss: 1.2532 - sparse_categorical_accuracy: 0.7879\n",
      "Epoch 5/10\n",
      "5/5 [==============================] - 1s 210ms/step - loss: 1.4767 - sparse_categorical_accuracy: 0.6364\n",
      "Epoch 6/10\n",
      "5/5 [==============================] - 1s 211ms/step - loss: 0.8653 - sparse_categorical_accuracy: 0.8788\n",
      "Epoch 7/10\n",
      "5/5 [==============================] - 1s 209ms/step - loss: 0.7078 - sparse_categorical_accuracy: 0.8182\n",
      "Epoch 8/10\n",
      "5/5 [==============================] - 1s 215ms/step - loss: 0.6771 - sparse_categorical_accuracy: 0.9091\n",
      "Epoch 9/10\n",
      "5/5 [==============================] - 1s 210ms/step - loss: 0.7783 - sparse_categorical_accuracy: 0.8485\n",
      "Epoch 10/10\n",
      "5/5 [==============================] - 1s 225ms/step - loss: 0.8763 - sparse_categorical_accuracy: 0.7879\n"
     ]
    },
    {
     "name": "stderr",
     "output_type": "stream",
     "text": [
      "\r",
      "21it [06:48, 19.44s/it]"
     ]
    },
    {
     "name": "stdout",
     "output_type": "stream",
     "text": [
      "Epoch 1/10\n",
      "5/5 [==============================] - 1s 210ms/step - loss: 1.5886 - sparse_categorical_accuracy: 0.4545\n",
      "Epoch 2/10\n",
      "5/5 [==============================] - 1s 207ms/step - loss: 1.5212 - sparse_categorical_accuracy: 0.4545\n",
      "Epoch 3/10\n",
      "5/5 [==============================] - 1s 208ms/step - loss: 1.5102 - sparse_categorical_accuracy: 0.7576\n",
      "Epoch 4/10\n",
      "5/5 [==============================] - 1s 211ms/step - loss: 1.3977 - sparse_categorical_accuracy: 0.7576\n",
      "Epoch 5/10\n",
      "5/5 [==============================] - 1s 207ms/step - loss: 1.2008 - sparse_categorical_accuracy: 0.7879\n",
      "Epoch 6/10\n",
      "5/5 [==============================] - 1s 207ms/step - loss: 0.9354 - sparse_categorical_accuracy: 0.9091\n",
      "Epoch 7/10\n",
      "5/5 [==============================] - 1s 208ms/step - loss: 0.9403 - sparse_categorical_accuracy: 0.8485\n",
      "Epoch 8/10\n",
      "5/5 [==============================] - 1s 208ms/step - loss: 0.8049 - sparse_categorical_accuracy: 0.8485\n",
      "Epoch 9/10\n",
      "5/5 [==============================] - 1s 215ms/step - loss: 0.7444 - sparse_categorical_accuracy: 0.8788\n",
      "Epoch 10/10\n",
      "5/5 [==============================] - 1s 209ms/step - loss: 0.6667 - sparse_categorical_accuracy: 0.8485\n"
     ]
    },
    {
     "name": "stderr",
     "output_type": "stream",
     "text": [
      "\r",
      "22it [07:07, 19.40s/it]"
     ]
    },
    {
     "name": "stdout",
     "output_type": "stream",
     "text": [
      "Epoch 1/10\n",
      "5/5 [==============================] - 1s 218ms/step - loss: 1.0991 - sparse_categorical_accuracy: 0.6970\n",
      "Epoch 2/10\n",
      "5/5 [==============================] - 1s 212ms/step - loss: 1.1395 - sparse_categorical_accuracy: 0.7879\n",
      "Epoch 3/10\n",
      "5/5 [==============================] - 1s 215ms/step - loss: 1.1421 - sparse_categorical_accuracy: 0.7879\n",
      "Epoch 4/10\n",
      "5/5 [==============================] - 1s 225ms/step - loss: 1.1772 - sparse_categorical_accuracy: 0.8485\n",
      "Epoch 5/10\n",
      "5/5 [==============================] - 1s 215ms/step - loss: 0.9723 - sparse_categorical_accuracy: 0.8485\n",
      "Epoch 6/10\n",
      "5/5 [==============================] - 1s 210ms/step - loss: 1.2220 - sparse_categorical_accuracy: 0.7273\n",
      "Epoch 7/10\n",
      "5/5 [==============================] - 1s 216ms/step - loss: 0.7878 - sparse_categorical_accuracy: 0.9091\n",
      "Epoch 8/10\n",
      "5/5 [==============================] - 1s 226ms/step - loss: 0.7421 - sparse_categorical_accuracy: 0.9394\n",
      "Epoch 9/10\n",
      "5/5 [==============================] - 1s 208ms/step - loss: 0.7784 - sparse_categorical_accuracy: 0.8485\n",
      "Epoch 10/10\n",
      "5/5 [==============================] - 1s 210ms/step - loss: 0.8608 - sparse_categorical_accuracy: 0.8182\n"
     ]
    },
    {
     "name": "stderr",
     "output_type": "stream",
     "text": [
      "\r",
      "23it [07:28, 19.79s/it]"
     ]
    },
    {
     "name": "stdout",
     "output_type": "stream",
     "text": [
      "Epoch 1/10\n",
      "5/5 [==============================] - 1s 221ms/step - loss: 1.1687 - sparse_categorical_accuracy: 0.7273\n",
      "Epoch 2/10\n",
      "5/5 [==============================] - 1s 211ms/step - loss: 0.9895 - sparse_categorical_accuracy: 0.8485\n",
      "Epoch 3/10\n",
      "5/5 [==============================] - 1s 211ms/step - loss: 1.3861 - sparse_categorical_accuracy: 0.7879\n",
      "Epoch 4/10\n",
      "5/5 [==============================] - 1s 210ms/step - loss: 1.6240 - sparse_categorical_accuracy: 0.6061\n",
      "Epoch 5/10\n",
      "5/5 [==============================] - 1s 211ms/step - loss: 1.1732 - sparse_categorical_accuracy: 0.7576\n",
      "Epoch 6/10\n",
      "5/5 [==============================] - 1s 210ms/step - loss: 0.9242 - sparse_categorical_accuracy: 0.7879\n",
      "Epoch 7/10\n",
      "5/5 [==============================] - 1s 211ms/step - loss: 1.0570 - sparse_categorical_accuracy: 0.8182\n",
      "Epoch 8/10\n",
      "5/5 [==============================] - 1s 208ms/step - loss: 0.8303 - sparse_categorical_accuracy: 0.8485\n",
      "Epoch 9/10\n",
      "5/5 [==============================] - 1s 211ms/step - loss: 0.9428 - sparse_categorical_accuracy: 0.8182\n",
      "Epoch 10/10\n",
      "5/5 [==============================] - 1s 208ms/step - loss: 0.9306 - sparse_categorical_accuracy: 0.8182\n"
     ]
    },
    {
     "name": "stderr",
     "output_type": "stream",
     "text": [
      "\r",
      "24it [07:47, 19.74s/it]"
     ]
    },
    {
     "name": "stdout",
     "output_type": "stream",
     "text": [
      "Epoch 1/10\n",
      "5/5 [==============================] - 1s 212ms/step - loss: 1.3394 - sparse_categorical_accuracy: 0.6364\n",
      "Epoch 2/10\n",
      "5/5 [==============================] - 1s 209ms/step - loss: 1.2262 - sparse_categorical_accuracy: 0.8788\n",
      "Epoch 3/10\n",
      "5/5 [==============================] - 1s 212ms/step - loss: 1.1001 - sparse_categorical_accuracy: 0.7879\n",
      "Epoch 4/10\n",
      "5/5 [==============================] - 1s 209ms/step - loss: 1.1246 - sparse_categorical_accuracy: 0.7879\n",
      "Epoch 5/10\n",
      "5/5 [==============================] - 1s 208ms/step - loss: 1.1804 - sparse_categorical_accuracy: 0.7273\n",
      "Epoch 6/10\n",
      "5/5 [==============================] - 1s 212ms/step - loss: 0.8481 - sparse_categorical_accuracy: 0.9394\n",
      "Epoch 7/10\n",
      "5/5 [==============================] - 1s 209ms/step - loss: 0.8541 - sparse_categorical_accuracy: 0.8182\n",
      "Epoch 8/10\n",
      "5/5 [==============================] - 1s 211ms/step - loss: 0.8527 - sparse_categorical_accuracy: 0.8485\n",
      "Epoch 9/10\n",
      "5/5 [==============================] - 1s 213ms/step - loss: 1.1192 - sparse_categorical_accuracy: 0.6970\n",
      "Epoch 10/10\n",
      "5/5 [==============================] - 1s 210ms/step - loss: 0.7749 - sparse_categorical_accuracy: 0.8182\n"
     ]
    },
    {
     "name": "stderr",
     "output_type": "stream",
     "text": [
      "\r",
      "25it [08:07, 19.65s/it]"
     ]
    },
    {
     "name": "stdout",
     "output_type": "stream",
     "text": [
      "Epoch 1/10\n",
      "5/5 [==============================] - 1s 213ms/step - loss: 1.3193 - sparse_categorical_accuracy: 0.6667\n",
      "Epoch 2/10\n",
      "5/5 [==============================] - 1s 208ms/step - loss: 1.2608 - sparse_categorical_accuracy: 0.6970\n",
      "Epoch 3/10\n",
      "5/5 [==============================] - 1s 211ms/step - loss: 1.2459 - sparse_categorical_accuracy: 0.8182\n",
      "Epoch 4/10\n",
      "5/5 [==============================] - 1s 209ms/step - loss: 1.5081 - sparse_categorical_accuracy: 0.7273\n",
      "Epoch 5/10\n",
      "5/5 [==============================] - 1s 213ms/step - loss: 1.1704 - sparse_categorical_accuracy: 0.8182\n",
      "Epoch 6/10\n",
      "5/5 [==============================] - 1s 218ms/step - loss: 1.0052 - sparse_categorical_accuracy: 0.7879\n",
      "Epoch 7/10\n",
      "5/5 [==============================] - 1s 209ms/step - loss: 0.8798 - sparse_categorical_accuracy: 0.7879\n",
      "Epoch 8/10\n",
      "5/5 [==============================] - 1s 211ms/step - loss: 1.0989 - sparse_categorical_accuracy: 0.6364\n",
      "Epoch 9/10\n",
      "5/5 [==============================] - 1s 209ms/step - loss: 1.3553 - sparse_categorical_accuracy: 0.6061\n",
      "Epoch 10/10\n",
      "5/5 [==============================] - 1s 209ms/step - loss: 0.9423 - sparse_categorical_accuracy: 0.8182\n"
     ]
    },
    {
     "name": "stderr",
     "output_type": "stream",
     "text": [
      "\r",
      "26it [08:26, 19.60s/it]"
     ]
    },
    {
     "name": "stdout",
     "output_type": "stream",
     "text": [
      "Epoch 1/10\n",
      "5/5 [==============================] - 1s 211ms/step - loss: 1.3949 - sparse_categorical_accuracy: 0.6364\n",
      "Epoch 2/10\n",
      "5/5 [==============================] - 1s 209ms/step - loss: 1.2318 - sparse_categorical_accuracy: 0.7576\n",
      "Epoch 3/10\n",
      "5/5 [==============================] - 1s 209ms/step - loss: 1.5714 - sparse_categorical_accuracy: 0.6970\n",
      "Epoch 4/10\n",
      "5/5 [==============================] - 1s 210ms/step - loss: 1.2629 - sparse_categorical_accuracy: 0.7879\n",
      "Epoch 5/10\n",
      "5/5 [==============================] - 1s 209ms/step - loss: 0.9104 - sparse_categorical_accuracy: 0.9394\n",
      "Epoch 6/10\n",
      "5/5 [==============================] - 1s 209ms/step - loss: 0.8782 - sparse_categorical_accuracy: 0.9394\n",
      "Epoch 7/10\n",
      "5/5 [==============================] - 1s 211ms/step - loss: 0.7118 - sparse_categorical_accuracy: 0.9091\n",
      "Epoch 8/10\n",
      "5/5 [==============================] - 1s 215ms/step - loss: 0.8776 - sparse_categorical_accuracy: 0.8788\n",
      "Epoch 9/10\n",
      "5/5 [==============================] - 1s 210ms/step - loss: 0.8428 - sparse_categorical_accuracy: 0.8485\n",
      "Epoch 10/10\n",
      "5/5 [==============================] - 1s 211ms/step - loss: 0.9455 - sparse_categorical_accuracy: 0.8788\n"
     ]
    },
    {
     "name": "stderr",
     "output_type": "stream",
     "text": [
      "\r",
      "27it [08:46, 19.54s/it]"
     ]
    },
    {
     "name": "stdout",
     "output_type": "stream",
     "text": [
      "Epoch 1/10\n",
      "5/5 [==============================] - 1s 213ms/step - loss: 1.2590 - sparse_categorical_accuracy: 0.6364\n",
      "Epoch 2/10\n",
      "5/5 [==============================] - 1s 210ms/step - loss: 1.0145 - sparse_categorical_accuracy: 0.8485\n",
      "Epoch 3/10\n",
      "5/5 [==============================] - 1s 209ms/step - loss: 1.2094 - sparse_categorical_accuracy: 0.8788\n",
      "Epoch 4/10\n",
      "5/5 [==============================] - 1s 210ms/step - loss: 0.9856 - sparse_categorical_accuracy: 0.9091\n",
      "Epoch 5/10\n",
      "5/5 [==============================] - 1s 209ms/step - loss: 0.8931 - sparse_categorical_accuracy: 0.8485\n",
      "Epoch 6/10\n",
      "5/5 [==============================] - 1s 208ms/step - loss: 0.9524 - sparse_categorical_accuracy: 0.8182\n",
      "Epoch 7/10\n",
      "5/5 [==============================] - 1s 211ms/step - loss: 0.8088 - sparse_categorical_accuracy: 0.8182\n",
      "Epoch 8/10\n",
      "5/5 [==============================] - 1s 207ms/step - loss: 1.0178 - sparse_categorical_accuracy: 0.7576\n",
      "Epoch 9/10\n",
      "5/5 [==============================] - 1s 209ms/step - loss: 0.7910 - sparse_categorical_accuracy: 0.8788\n",
      "Epoch 10/10\n",
      "5/5 [==============================] - 1s 208ms/step - loss: 1.2191 - sparse_categorical_accuracy: 0.6667\n"
     ]
    },
    {
     "name": "stderr",
     "output_type": "stream",
     "text": [
      "\r",
      "28it [09:05, 19.50s/it]"
     ]
    },
    {
     "name": "stdout",
     "output_type": "stream",
     "text": [
      "Epoch 1/10\n",
      "5/5 [==============================] - 1s 215ms/step - loss: 1.3505 - sparse_categorical_accuracy: 0.6061\n",
      "Epoch 2/10\n",
      "5/5 [==============================] - 1s 209ms/step - loss: 1.3355 - sparse_categorical_accuracy: 0.8485\n",
      "Epoch 3/10\n",
      "5/5 [==============================] - 1s 212ms/step - loss: 1.2933 - sparse_categorical_accuracy: 0.8485\n",
      "Epoch 4/10\n",
      "5/5 [==============================] - 1s 212ms/step - loss: 1.6199 - sparse_categorical_accuracy: 0.8485\n",
      "Epoch 5/10\n",
      "5/5 [==============================] - 1s 211ms/step - loss: 1.0997 - sparse_categorical_accuracy: 0.8788\n",
      "Epoch 6/10\n",
      "5/5 [==============================] - 1s 214ms/step - loss: 0.9541 - sparse_categorical_accuracy: 0.9394\n",
      "Epoch 7/10\n",
      "5/5 [==============================] - 1s 218ms/step - loss: 0.6705 - sparse_categorical_accuracy: 0.9697\n",
      "Epoch 8/10\n",
      "5/5 [==============================] - 1s 210ms/step - loss: 1.0390 - sparse_categorical_accuracy: 0.8485\n",
      "Epoch 9/10\n",
      "5/5 [==============================] - 1s 214ms/step - loss: 0.9315 - sparse_categorical_accuracy: 0.7576\n",
      "Epoch 10/10\n",
      "5/5 [==============================] - 1s 211ms/step - loss: 0.6574 - sparse_categorical_accuracy: 0.8485\n"
     ]
    },
    {
     "name": "stderr",
     "output_type": "stream",
     "text": [
      "\r",
      "29it [09:26, 19.82s/it]"
     ]
    },
    {
     "name": "stdout",
     "output_type": "stream",
     "text": [
      "Epoch 1/10\n",
      "5/5 [==============================] - 1s 214ms/step - loss: 1.6423 - sparse_categorical_accuracy: 0.4242\n",
      "Epoch 2/10\n",
      "5/5 [==============================] - 1s 211ms/step - loss: 1.4617 - sparse_categorical_accuracy: 0.6970\n",
      "Epoch 3/10\n",
      "5/5 [==============================] - 1s 216ms/step - loss: 1.5362 - sparse_categorical_accuracy: 0.7273\n",
      "Epoch 4/10\n",
      "5/5 [==============================] - 1s 210ms/step - loss: 1.3755 - sparse_categorical_accuracy: 0.8485\n",
      "Epoch 5/10\n",
      "5/5 [==============================] - 1s 215ms/step - loss: 1.0636 - sparse_categorical_accuracy: 0.8788\n",
      "Epoch 6/10\n",
      "5/5 [==============================] - 1s 211ms/step - loss: 1.1681 - sparse_categorical_accuracy: 0.7879\n",
      "Epoch 7/10\n",
      "5/5 [==============================] - 1s 211ms/step - loss: 1.0706 - sparse_categorical_accuracy: 0.7879\n",
      "Epoch 8/10\n",
      "5/5 [==============================] - 1s 217ms/step - loss: 0.8142 - sparse_categorical_accuracy: 0.8182\n",
      "Epoch 9/10\n",
      "5/5 [==============================] - 1s 211ms/step - loss: 0.7567 - sparse_categorical_accuracy: 0.8788\n",
      "Epoch 10/10\n",
      "5/5 [==============================] - 1s 215ms/step - loss: 0.7930 - sparse_categorical_accuracy: 0.8485\n"
     ]
    },
    {
     "name": "stderr",
     "output_type": "stream",
     "text": [
      "\r",
      "30it [09:45, 19.74s/it]"
     ]
    },
    {
     "name": "stdout",
     "output_type": "stream",
     "text": [
      "Epoch 1/10\n",
      "5/5 [==============================] - 1s 214ms/step - loss: 1.4776 - sparse_categorical_accuracy: 0.4848\n",
      "Epoch 2/10\n",
      "5/5 [==============================] - 1s 211ms/step - loss: 1.3054 - sparse_categorical_accuracy: 0.7273\n",
      "Epoch 3/10\n",
      "5/5 [==============================] - 1s 211ms/step - loss: 1.4616 - sparse_categorical_accuracy: 0.7879\n",
      "Epoch 4/10\n",
      "5/5 [==============================] - 1s 211ms/step - loss: 1.2696 - sparse_categorical_accuracy: 0.7273\n",
      "Epoch 5/10\n",
      "5/5 [==============================] - 1s 210ms/step - loss: 1.2494 - sparse_categorical_accuracy: 0.6667\n",
      "Epoch 6/10\n",
      "5/5 [==============================] - 1s 209ms/step - loss: 0.8616 - sparse_categorical_accuracy: 0.8182\n",
      "Epoch 7/10\n",
      "5/5 [==============================] - 1s 211ms/step - loss: 1.1735 - sparse_categorical_accuracy: 0.7879\n",
      "Epoch 8/10\n",
      "5/5 [==============================] - 1s 218ms/step - loss: 1.1094 - sparse_categorical_accuracy: 0.6970\n",
      "Epoch 9/10\n",
      "5/5 [==============================] - 1s 211ms/step - loss: 0.9516 - sparse_categorical_accuracy: 0.7273\n",
      "Epoch 10/10\n",
      "5/5 [==============================] - 1s 211ms/step - loss: 0.8386 - sparse_categorical_accuracy: 0.7879\n"
     ]
    },
    {
     "name": "stderr",
     "output_type": "stream",
     "text": [
      "\r",
      "31it [10:05, 19.72s/it]"
     ]
    },
    {
     "name": "stdout",
     "output_type": "stream",
     "text": [
      "Epoch 1/10\n",
      "5/5 [==============================] - 1s 210ms/step - loss: 1.3093 - sparse_categorical_accuracy: 0.6667\n",
      "Epoch 2/10\n",
      "5/5 [==============================] - 1s 211ms/step - loss: 1.2418 - sparse_categorical_accuracy: 0.8182\n",
      "Epoch 3/10\n",
      "5/5 [==============================] - 1s 209ms/step - loss: 1.4398 - sparse_categorical_accuracy: 0.7879\n",
      "Epoch 4/10\n",
      "5/5 [==============================] - 1s 211ms/step - loss: 1.4352 - sparse_categorical_accuracy: 0.7576\n",
      "Epoch 5/10\n",
      "5/5 [==============================] - 1s 212ms/step - loss: 1.2912 - sparse_categorical_accuracy: 0.8485\n",
      "Epoch 6/10\n",
      "5/5 [==============================] - 1s 209ms/step - loss: 1.0389 - sparse_categorical_accuracy: 0.8485\n",
      "Epoch 7/10\n",
      "5/5 [==============================] - 1s 209ms/step - loss: 0.8959 - sparse_categorical_accuracy: 0.8182\n",
      "Epoch 8/10\n",
      "5/5 [==============================] - 1s 223ms/step - loss: 0.9870 - sparse_categorical_accuracy: 0.6667\n",
      "Epoch 9/10\n",
      "5/5 [==============================] - 1s 209ms/step - loss: 1.2608 - sparse_categorical_accuracy: 0.7879\n",
      "Epoch 10/10\n",
      "5/5 [==============================] - 1s 210ms/step - loss: 0.8868 - sparse_categorical_accuracy: 0.7879\n"
     ]
    },
    {
     "name": "stderr",
     "output_type": "stream",
     "text": [
      "\r",
      "32it [10:24, 19.69s/it]"
     ]
    },
    {
     "name": "stdout",
     "output_type": "stream",
     "text": [
      "Epoch 1/10\n",
      "5/5 [==============================] - 1s 216ms/step - loss: 1.5044 - sparse_categorical_accuracy: 0.6061\n",
      "Epoch 2/10\n",
      "5/5 [==============================] - 1s 210ms/step - loss: 1.3108 - sparse_categorical_accuracy: 0.6970\n",
      "Epoch 3/10\n",
      "5/5 [==============================] - 1s 212ms/step - loss: 1.1385 - sparse_categorical_accuracy: 0.8182\n",
      "Epoch 4/10\n",
      "5/5 [==============================] - 1s 211ms/step - loss: 1.2762 - sparse_categorical_accuracy: 0.6970\n",
      "Epoch 5/10\n",
      "5/5 [==============================] - 1s 210ms/step - loss: 1.1722 - sparse_categorical_accuracy: 0.7576\n",
      "Epoch 6/10\n",
      "5/5 [==============================] - 1s 209ms/step - loss: 0.8941 - sparse_categorical_accuracy: 0.8485\n",
      "Epoch 7/10\n",
      "5/5 [==============================] - 1s 211ms/step - loss: 1.0235 - sparse_categorical_accuracy: 0.7576\n",
      "Epoch 8/10\n",
      "5/5 [==============================] - 1s 211ms/step - loss: 0.7500 - sparse_categorical_accuracy: 0.8485\n",
      "Epoch 9/10\n",
      "5/5 [==============================] - 1s 216ms/step - loss: 0.6359 - sparse_categorical_accuracy: 0.9091\n",
      "Epoch 10/10\n",
      "5/5 [==============================] - 1s 216ms/step - loss: 0.6638 - sparse_categorical_accuracy: 0.9091\n"
     ]
    },
    {
     "name": "stderr",
     "output_type": "stream",
     "text": [
      "\r",
      "33it [10:44, 19.65s/it]"
     ]
    },
    {
     "name": "stdout",
     "output_type": "stream",
     "text": [
      "Epoch 1/10\n",
      "5/5 [==============================] - 1s 213ms/step - loss: 1.5961 - sparse_categorical_accuracy: 0.4848\n",
      "Epoch 2/10\n",
      "5/5 [==============================] - 1s 210ms/step - loss: 1.1158 - sparse_categorical_accuracy: 0.7879\n",
      "Epoch 3/10\n",
      "5/5 [==============================] - 1s 215ms/step - loss: 1.2964 - sparse_categorical_accuracy: 0.8182\n",
      "Epoch 4/10\n",
      "5/5 [==============================] - 1s 212ms/step - loss: 1.2267 - sparse_categorical_accuracy: 0.7879\n",
      "Epoch 5/10\n",
      "5/5 [==============================] - 1s 209ms/step - loss: 0.9711 - sparse_categorical_accuracy: 0.8788\n",
      "Epoch 6/10\n",
      "5/5 [==============================] - 1s 210ms/step - loss: 0.9487 - sparse_categorical_accuracy: 0.8485\n",
      "Epoch 7/10\n",
      "5/5 [==============================] - 1s 211ms/step - loss: 0.8679 - sparse_categorical_accuracy: 0.8788\n",
      "Epoch 8/10\n",
      "5/5 [==============================] - 1s 209ms/step - loss: 0.9973 - sparse_categorical_accuracy: 0.7879\n",
      "Epoch 9/10\n",
      "5/5 [==============================] - 1s 210ms/step - loss: 0.9207 - sparse_categorical_accuracy: 0.7273\n",
      "Epoch 10/10\n",
      "5/5 [==============================] - 1s 212ms/step - loss: 1.2543 - sparse_categorical_accuracy: 0.6970\n"
     ]
    },
    {
     "name": "stderr",
     "output_type": "stream",
     "text": [
      "34it [11:03, 19.53s/it]\n",
      "0it [00:00, ?it/s]"
     ]
    },
    {
     "name": "stdout",
     "output_type": "stream",
     "text": [
      "Epoch 1/10\n",
      "4/4 [==============================] - 1s 219ms/step - loss: 1.3037 - sparse_categorical_accuracy: 0.5862\n",
      "Epoch 2/10\n",
      "4/4 [==============================] - 1s 215ms/step - loss: 0.9828 - sparse_categorical_accuracy: 0.8621\n",
      "Epoch 3/10\n",
      "4/4 [==============================] - 1s 211ms/step - loss: 1.0362 - sparse_categorical_accuracy: 0.8276\n",
      "Epoch 4/10\n",
      "4/4 [==============================] - 1s 215ms/step - loss: 1.2986 - sparse_categorical_accuracy: 0.8276\n",
      "Epoch 5/10\n",
      "4/4 [==============================] - 1s 212ms/step - loss: 1.1744 - sparse_categorical_accuracy: 0.8276\n",
      "Epoch 6/10\n",
      "4/4 [==============================] - 1s 217ms/step - loss: 1.0612 - sparse_categorical_accuracy: 0.8276\n",
      "Epoch 7/10\n",
      "4/4 [==============================] - 1s 214ms/step - loss: 1.0566 - sparse_categorical_accuracy: 0.8621\n",
      "Epoch 8/10\n",
      "4/4 [==============================] - 1s 214ms/step - loss: 0.9129 - sparse_categorical_accuracy: 0.8276\n",
      "Epoch 9/10\n",
      "4/4 [==============================] - 1s 211ms/step - loss: 0.7735 - sparse_categorical_accuracy: 0.8276\n",
      "Epoch 10/10\n",
      "4/4 [==============================] - 1s 231ms/step - loss: 0.7375 - sparse_categorical_accuracy: 0.8621\n"
     ]
    },
    {
     "name": "stderr",
     "output_type": "stream",
     "text": [
      "\r",
      "1it [00:18, 18.25s/it]"
     ]
    },
    {
     "name": "stdout",
     "output_type": "stream",
     "text": [
      "Epoch 1/10\n",
      "4/4 [==============================] - 1s 217ms/step - loss: 1.1828 - sparse_categorical_accuracy: 0.7241\n",
      "Epoch 2/10\n",
      "4/4 [==============================] - 1s 214ms/step - loss: 1.4139 - sparse_categorical_accuracy: 0.7586\n",
      "Epoch 3/10\n",
      "4/4 [==============================] - 1s 220ms/step - loss: 1.5085 - sparse_categorical_accuracy: 0.7931\n",
      "Epoch 4/10\n",
      "4/4 [==============================] - 1s 218ms/step - loss: 1.1335 - sparse_categorical_accuracy: 0.8966\n",
      "Epoch 5/10\n",
      "4/4 [==============================] - 1s 216ms/step - loss: 1.0324 - sparse_categorical_accuracy: 0.8621\n",
      "Epoch 6/10\n",
      "4/4 [==============================] - 1s 219ms/step - loss: 0.9720 - sparse_categorical_accuracy: 0.8276\n",
      "Epoch 7/10\n",
      "4/4 [==============================] - 1s 218ms/step - loss: 0.9327 - sparse_categorical_accuracy: 0.8621\n",
      "Epoch 8/10\n",
      "4/4 [==============================] - 1s 216ms/step - loss: 0.8491 - sparse_categorical_accuracy: 0.8966\n",
      "Epoch 9/10\n",
      "4/4 [==============================] - 1s 219ms/step - loss: 0.8932 - sparse_categorical_accuracy: 0.8276\n",
      "Epoch 10/10\n",
      "4/4 [==============================] - 1s 220ms/step - loss: 0.7677 - sparse_categorical_accuracy: 0.8276\n"
     ]
    },
    {
     "name": "stderr",
     "output_type": "stream",
     "text": [
      "\r",
      "2it [00:35, 18.07s/it]"
     ]
    },
    {
     "name": "stdout",
     "output_type": "stream",
     "text": [
      "Epoch 1/10\n",
      "4/4 [==============================] - 1s 220ms/step - loss: 1.0898 - sparse_categorical_accuracy: 0.8276\n",
      "Epoch 2/10\n",
      "4/4 [==============================] - 1s 223ms/step - loss: 1.0168 - sparse_categorical_accuracy: 0.8621\n",
      "Epoch 3/10\n",
      "4/4 [==============================] - 1s 221ms/step - loss: 1.1625 - sparse_categorical_accuracy: 0.8276\n",
      "Epoch 4/10\n",
      "4/4 [==============================] - 1s 215ms/step - loss: 1.1495 - sparse_categorical_accuracy: 0.8276\n",
      "Epoch 5/10\n",
      "4/4 [==============================] - 1s 215ms/step - loss: 1.2403 - sparse_categorical_accuracy: 0.8276\n",
      "Epoch 6/10\n",
      "4/4 [==============================] - 1s 215ms/step - loss: 0.9541 - sparse_categorical_accuracy: 0.8621\n",
      "Epoch 7/10\n",
      "4/4 [==============================] - 1s 215ms/step - loss: 0.9763 - sparse_categorical_accuracy: 0.8621\n",
      "Epoch 8/10\n",
      "4/4 [==============================] - 1s 215ms/step - loss: 0.8911 - sparse_categorical_accuracy: 0.7241\n",
      "Epoch 9/10\n",
      "4/4 [==============================] - 1s 216ms/step - loss: 1.1914 - sparse_categorical_accuracy: 0.6897\n",
      "Epoch 10/10\n",
      "4/4 [==============================] - 1s 215ms/step - loss: 1.0683 - sparse_categorical_accuracy: 0.8276\n"
     ]
    },
    {
     "name": "stderr",
     "output_type": "stream",
     "text": [
      "\r",
      "3it [00:53, 17.95s/it]"
     ]
    },
    {
     "name": "stdout",
     "output_type": "stream",
     "text": [
      "Epoch 1/10\n",
      "4/4 [==============================] - 1s 219ms/step - loss: 1.6582 - sparse_categorical_accuracy: 0.5517\n",
      "Epoch 2/10\n",
      "4/4 [==============================] - 1s 213ms/step - loss: 1.3554 - sparse_categorical_accuracy: 0.6207\n",
      "Epoch 3/10\n",
      "4/4 [==============================] - 1s 215ms/step - loss: 1.6165 - sparse_categorical_accuracy: 0.6897\n",
      "Epoch 4/10\n",
      "4/4 [==============================] - 1s 222ms/step - loss: 1.4620 - sparse_categorical_accuracy: 0.7931\n",
      "Epoch 5/10\n",
      "4/4 [==============================] - 1s 212ms/step - loss: 1.4105 - sparse_categorical_accuracy: 0.7931\n",
      "Epoch 6/10\n",
      "4/4 [==============================] - 1s 214ms/step - loss: 1.3423 - sparse_categorical_accuracy: 0.7931\n",
      "Epoch 7/10\n",
      "4/4 [==============================] - 1s 217ms/step - loss: 1.3244 - sparse_categorical_accuracy: 0.7931\n",
      "Epoch 8/10\n",
      "4/4 [==============================] - 1s 217ms/step - loss: 1.1219 - sparse_categorical_accuracy: 0.7241\n",
      "Epoch 9/10\n",
      "4/4 [==============================] - 1s 216ms/step - loss: 1.1696 - sparse_categorical_accuracy: 0.6552\n",
      "Epoch 10/10\n",
      "4/4 [==============================] - 1s 215ms/step - loss: 0.8341 - sparse_categorical_accuracy: 0.8966\n"
     ]
    },
    {
     "name": "stderr",
     "output_type": "stream",
     "text": [
      "\r",
      "4it [01:11, 17.82s/it]"
     ]
    },
    {
     "name": "stdout",
     "output_type": "stream",
     "text": [
      "Epoch 1/10\n",
      "4/4 [==============================] - 1s 241ms/step - loss: 1.0759 - sparse_categorical_accuracy: 0.6552\n",
      "Epoch 2/10\n",
      "4/4 [==============================] - 1s 212ms/step - loss: 1.1366 - sparse_categorical_accuracy: 0.7241\n",
      "Epoch 3/10\n",
      "4/4 [==============================] - 1s 215ms/step - loss: 1.2439 - sparse_categorical_accuracy: 0.8276\n",
      "Epoch 4/10\n",
      "4/4 [==============================] - 1s 215ms/step - loss: 1.1635 - sparse_categorical_accuracy: 0.7931\n",
      "Epoch 5/10\n",
      "4/4 [==============================] - 1s 218ms/step - loss: 1.0993 - sparse_categorical_accuracy: 0.8276\n",
      "Epoch 6/10\n",
      "4/4 [==============================] - 1s 212ms/step - loss: 1.2671 - sparse_categorical_accuracy: 0.7586\n",
      "Epoch 7/10\n",
      "4/4 [==============================] - 1s 214ms/step - loss: 0.9141 - sparse_categorical_accuracy: 0.8276\n",
      "Epoch 8/10\n",
      "4/4 [==============================] - 1s 215ms/step - loss: 1.0595 - sparse_categorical_accuracy: 0.8276\n",
      "Epoch 9/10\n",
      "4/4 [==============================] - 1s 217ms/step - loss: 1.0824 - sparse_categorical_accuracy: 0.7586\n",
      "Epoch 10/10\n",
      "4/4 [==============================] - 1s 216ms/step - loss: 0.7762 - sparse_categorical_accuracy: 0.8276\n"
     ]
    },
    {
     "name": "stderr",
     "output_type": "stream",
     "text": [
      "\r",
      "5it [01:28, 17.78s/it]"
     ]
    },
    {
     "name": "stdout",
     "output_type": "stream",
     "text": [
      "Epoch 1/10\n",
      "4/4 [==============================] - 1s 218ms/step - loss: 1.5943 - sparse_categorical_accuracy: 0.4483\n",
      "Epoch 2/10\n",
      "4/4 [==============================] - 1s 214ms/step - loss: 1.2773 - sparse_categorical_accuracy: 0.7586\n",
      "Epoch 3/10\n",
      "4/4 [==============================] - 1s 216ms/step - loss: 1.1746 - sparse_categorical_accuracy: 0.8966\n",
      "Epoch 4/10\n",
      "4/4 [==============================] - 1s 219ms/step - loss: 1.4549 - sparse_categorical_accuracy: 0.6897\n",
      "Epoch 5/10\n",
      "4/4 [==============================] - 1s 212ms/step - loss: 1.2030 - sparse_categorical_accuracy: 0.8966\n",
      "Epoch 6/10\n",
      "4/4 [==============================] - 1s 216ms/step - loss: 1.0526 - sparse_categorical_accuracy: 0.8276\n",
      "Epoch 7/10\n",
      "4/4 [==============================] - 1s 215ms/step - loss: 0.9904 - sparse_categorical_accuracy: 0.8276\n",
      "Epoch 8/10\n",
      "4/4 [==============================] - 1s 214ms/step - loss: 0.9165 - sparse_categorical_accuracy: 0.8966\n",
      "Epoch 9/10\n",
      "4/4 [==============================] - 1s 231ms/step - loss: 0.8749 - sparse_categorical_accuracy: 0.8621\n",
      "Epoch 10/10\n",
      "4/4 [==============================] - 1s 216ms/step - loss: 0.9474 - sparse_categorical_accuracy: 0.8276\n"
     ]
    },
    {
     "name": "stderr",
     "output_type": "stream",
     "text": [
      "\r",
      "6it [01:46, 17.68s/it]"
     ]
    },
    {
     "name": "stdout",
     "output_type": "stream",
     "text": [
      "Epoch 1/10\n",
      "4/4 [==============================] - 1s 218ms/step - loss: 1.4010 - sparse_categorical_accuracy: 0.5517\n",
      "Epoch 2/10\n",
      "4/4 [==============================] - 1s 215ms/step - loss: 1.3979 - sparse_categorical_accuracy: 0.5862\n",
      "Epoch 3/10\n",
      "4/4 [==============================] - 1s 215ms/step - loss: 1.5546 - sparse_categorical_accuracy: 0.6897\n",
      "Epoch 4/10\n",
      "4/4 [==============================] - 1s 215ms/step - loss: 1.7259 - sparse_categorical_accuracy: 0.7241\n",
      "Epoch 5/10\n",
      "4/4 [==============================] - 1s 215ms/step - loss: 1.3401 - sparse_categorical_accuracy: 0.8276\n",
      "Epoch 6/10\n",
      "4/4 [==============================] - 1s 215ms/step - loss: 1.6576 - sparse_categorical_accuracy: 0.5862\n",
      "Epoch 7/10\n",
      "4/4 [==============================] - 1s 215ms/step - loss: 1.3304 - sparse_categorical_accuracy: 0.7586\n",
      "Epoch 8/10\n",
      "4/4 [==============================] - 1s 219ms/step - loss: 1.0479 - sparse_categorical_accuracy: 0.7931\n",
      "Epoch 9/10\n",
      "4/4 [==============================] - 1s 215ms/step - loss: 1.1269 - sparse_categorical_accuracy: 0.7586\n",
      "Epoch 10/10\n",
      "4/4 [==============================] - 1s 215ms/step - loss: 1.0881 - sparse_categorical_accuracy: 0.7586\n"
     ]
    },
    {
     "name": "stderr",
     "output_type": "stream",
     "text": [
      "\r",
      "7it [02:03, 17.61s/it]"
     ]
    },
    {
     "name": "stdout",
     "output_type": "stream",
     "text": [
      "Epoch 1/10\n",
      "4/4 [==============================] - 1s 219ms/step - loss: 1.1244 - sparse_categorical_accuracy: 0.6897\n",
      "Epoch 2/10\n",
      "4/4 [==============================] - 1s 219ms/step - loss: 0.9247 - sparse_categorical_accuracy: 0.8966\n",
      "Epoch 3/10\n",
      "4/4 [==============================] - 1s 219ms/step - loss: 1.4005 - sparse_categorical_accuracy: 0.7586\n",
      "Epoch 4/10\n",
      "4/4 [==============================] - 1s 220ms/step - loss: 1.1594 - sparse_categorical_accuracy: 0.8276\n",
      "Epoch 5/10\n",
      "4/4 [==============================] - 1s 216ms/step - loss: 1.0667 - sparse_categorical_accuracy: 0.8621\n",
      "Epoch 6/10\n",
      "4/4 [==============================] - 1s 219ms/step - loss: 1.1320 - sparse_categorical_accuracy: 0.8276\n",
      "Epoch 7/10\n",
      "4/4 [==============================] - 1s 231ms/step - loss: 1.0844 - sparse_categorical_accuracy: 0.7931\n",
      "Epoch 8/10\n",
      "4/4 [==============================] - 1s 219ms/step - loss: 1.0135 - sparse_categorical_accuracy: 0.7586\n",
      "Epoch 9/10\n",
      "4/4 [==============================] - 1s 220ms/step - loss: 0.9043 - sparse_categorical_accuracy: 0.8621\n",
      "Epoch 10/10\n",
      "4/4 [==============================] - 1s 221ms/step - loss: 1.0305 - sparse_categorical_accuracy: 0.7931\n"
     ]
    },
    {
     "name": "stderr",
     "output_type": "stream",
     "text": [
      "\r",
      "8it [02:22, 17.94s/it]"
     ]
    },
    {
     "name": "stdout",
     "output_type": "stream",
     "text": [
      "Epoch 1/10\n",
      "4/4 [==============================] - 1s 222ms/step - loss: 1.1033 - sparse_categorical_accuracy: 0.6897\n",
      "Epoch 2/10\n",
      "4/4 [==============================] - 1s 219ms/step - loss: 1.1200 - sparse_categorical_accuracy: 0.8276\n",
      "Epoch 3/10\n",
      "4/4 [==============================] - 1s 219ms/step - loss: 1.3467 - sparse_categorical_accuracy: 0.7586\n",
      "Epoch 4/10\n",
      "4/4 [==============================] - 1s 221ms/step - loss: 1.0847 - sparse_categorical_accuracy: 0.8966\n",
      "Epoch 5/10\n",
      "4/4 [==============================] - 1s 221ms/step - loss: 1.1008 - sparse_categorical_accuracy: 0.8621\n",
      "Epoch 6/10\n",
      "4/4 [==============================] - 1s 218ms/step - loss: 1.3687 - sparse_categorical_accuracy: 0.6897\n",
      "Epoch 7/10\n",
      "4/4 [==============================] - 1s 218ms/step - loss: 1.1588 - sparse_categorical_accuracy: 0.7241\n",
      "Epoch 8/10\n",
      "4/4 [==============================] - 1s 221ms/step - loss: 0.8809 - sparse_categorical_accuracy: 0.8621\n",
      "Epoch 9/10\n",
      "4/4 [==============================] - 1s 218ms/step - loss: 0.7551 - sparse_categorical_accuracy: 0.9310\n",
      "Epoch 10/10\n",
      "4/4 [==============================] - 1s 217ms/step - loss: 0.9181 - sparse_categorical_accuracy: 0.7931\n"
     ]
    },
    {
     "name": "stderr",
     "output_type": "stream",
     "text": [
      "\r",
      "9it [02:39, 17.84s/it]"
     ]
    },
    {
     "name": "stdout",
     "output_type": "stream",
     "text": [
      "Epoch 1/10\n",
      "4/4 [==============================] - 1s 222ms/step - loss: 1.3294 - sparse_categorical_accuracy: 0.6552\n",
      "Epoch 2/10\n",
      "4/4 [==============================] - 1s 221ms/step - loss: 1.4312 - sparse_categorical_accuracy: 0.5517\n",
      "Epoch 3/10\n",
      "4/4 [==============================] - 1s 219ms/step - loss: 1.2266 - sparse_categorical_accuracy: 0.7241\n",
      "Epoch 4/10\n",
      "4/4 [==============================] - 1s 217ms/step - loss: 1.0507 - sparse_categorical_accuracy: 0.8621\n",
      "Epoch 5/10\n",
      "4/4 [==============================] - 1s 215ms/step - loss: 0.9092 - sparse_categorical_accuracy: 0.9310\n",
      "Epoch 6/10\n",
      "4/4 [==============================] - 1s 219ms/step - loss: 0.8957 - sparse_categorical_accuracy: 0.9310\n",
      "Epoch 7/10\n",
      "4/4 [==============================] - 1s 215ms/step - loss: 1.1333 - sparse_categorical_accuracy: 0.7931\n",
      "Epoch 8/10\n",
      "4/4 [==============================] - 1s 219ms/step - loss: 0.9873 - sparse_categorical_accuracy: 0.7931\n",
      "Epoch 9/10\n",
      "4/4 [==============================] - 1s 221ms/step - loss: 0.8832 - sparse_categorical_accuracy: 0.8621\n",
      "Epoch 10/10\n",
      "4/4 [==============================] - 1s 219ms/step - loss: 0.9466 - sparse_categorical_accuracy: 0.8276\n"
     ]
    },
    {
     "name": "stderr",
     "output_type": "stream",
     "text": [
      "\r",
      "10it [02:57, 17.84s/it]"
     ]
    },
    {
     "name": "stdout",
     "output_type": "stream",
     "text": [
      "Epoch 1/10\n",
      "4/4 [==============================] - 1s 219ms/step - loss: 1.0918 - sparse_categorical_accuracy: 0.6897\n",
      "Epoch 2/10\n",
      "4/4 [==============================] - 1s 221ms/step - loss: 1.3111 - sparse_categorical_accuracy: 0.7241\n",
      "Epoch 3/10\n",
      "4/4 [==============================] - 1s 219ms/step - loss: 1.3876 - sparse_categorical_accuracy: 0.8621\n",
      "Epoch 4/10\n",
      "4/4 [==============================] - 1s 217ms/step - loss: 1.3325 - sparse_categorical_accuracy: 0.7931\n",
      "Epoch 5/10\n",
      "4/4 [==============================] - 1s 219ms/step - loss: 1.1798 - sparse_categorical_accuracy: 0.7931\n",
      "Epoch 6/10\n",
      "4/4 [==============================] - 1s 219ms/step - loss: 0.9948 - sparse_categorical_accuracy: 0.7931\n",
      "Epoch 7/10\n",
      "4/4 [==============================] - 1s 215ms/step - loss: 1.0271 - sparse_categorical_accuracy: 0.7586\n",
      "Epoch 8/10\n",
      "4/4 [==============================] - 1s 215ms/step - loss: 1.0224 - sparse_categorical_accuracy: 0.7586\n",
      "Epoch 9/10\n",
      "4/4 [==============================] - 1s 219ms/step - loss: 1.0555 - sparse_categorical_accuracy: 0.7586\n",
      "Epoch 10/10\n",
      "4/4 [==============================] - 1s 219ms/step - loss: 0.7583 - sparse_categorical_accuracy: 0.8276\n"
     ]
    },
    {
     "name": "stderr",
     "output_type": "stream",
     "text": [
      "\r",
      "11it [03:15, 17.81s/it]"
     ]
    },
    {
     "name": "stdout",
     "output_type": "stream",
     "text": [
      "Epoch 1/10\n",
      "4/4 [==============================] - 1s 220ms/step - loss: 1.2301 - sparse_categorical_accuracy: 0.5862\n",
      "Epoch 2/10\n",
      "4/4 [==============================] - 1s 216ms/step - loss: 1.1853 - sparse_categorical_accuracy: 0.6552\n",
      "Epoch 3/10\n",
      "4/4 [==============================] - 1s 216ms/step - loss: 1.1251 - sparse_categorical_accuracy: 0.8966\n",
      "Epoch 4/10\n",
      "4/4 [==============================] - 1s 218ms/step - loss: 1.2326 - sparse_categorical_accuracy: 0.7931\n",
      "Epoch 5/10\n",
      "4/4 [==============================] - 1s 219ms/step - loss: 1.1921 - sparse_categorical_accuracy: 0.9310\n",
      "Epoch 6/10\n",
      "4/4 [==============================] - 1s 215ms/step - loss: 0.9124 - sparse_categorical_accuracy: 0.8276\n",
      "Epoch 7/10\n",
      "4/4 [==============================] - 1s 220ms/step - loss: 1.0938 - sparse_categorical_accuracy: 0.8276\n",
      "Epoch 8/10\n",
      "4/4 [==============================] - 1s 220ms/step - loss: 0.7645 - sparse_categorical_accuracy: 0.8966\n",
      "Epoch 9/10\n",
      "4/4 [==============================] - 1s 215ms/step - loss: 0.6778 - sparse_categorical_accuracy: 0.8621\n",
      "Epoch 10/10\n",
      "4/4 [==============================] - 1s 217ms/step - loss: 0.6424 - sparse_categorical_accuracy: 0.9310\n"
     ]
    },
    {
     "name": "stderr",
     "output_type": "stream",
     "text": [
      "\r",
      "12it [03:33, 17.77s/it]"
     ]
    },
    {
     "name": "stdout",
     "output_type": "stream",
     "text": [
      "Epoch 1/10\n",
      "4/4 [==============================] - 1s 222ms/step - loss: 1.3035 - sparse_categorical_accuracy: 0.6552\n",
      "Epoch 2/10\n",
      "4/4 [==============================] - 1s 219ms/step - loss: 1.0062 - sparse_categorical_accuracy: 0.8966\n",
      "Epoch 3/10\n",
      "4/4 [==============================] - 1s 215ms/step - loss: 1.2937 - sparse_categorical_accuracy: 0.7931\n",
      "Epoch 4/10\n",
      "4/4 [==============================] - 1s 215ms/step - loss: 1.2254 - sparse_categorical_accuracy: 0.8276\n",
      "Epoch 5/10\n",
      "4/4 [==============================] - 1s 215ms/step - loss: 1.5649 - sparse_categorical_accuracy: 0.7586\n",
      "Epoch 6/10\n",
      "4/4 [==============================] - 1s 236ms/step - loss: 1.0744 - sparse_categorical_accuracy: 0.8276\n",
      "Epoch 7/10\n",
      "4/4 [==============================] - 1s 217ms/step - loss: 0.8307 - sparse_categorical_accuracy: 0.9655\n",
      "Epoch 8/10\n",
      "4/4 [==============================] - 1s 216ms/step - loss: 0.9838 - sparse_categorical_accuracy: 0.7931\n",
      "Epoch 9/10\n",
      "4/4 [==============================] - 1s 217ms/step - loss: 1.3653 - sparse_categorical_accuracy: 0.6552\n",
      "Epoch 10/10\n",
      "4/4 [==============================] - 1s 218ms/step - loss: 0.8527 - sparse_categorical_accuracy: 0.8966\n"
     ]
    },
    {
     "name": "stderr",
     "output_type": "stream",
     "text": [
      "\r",
      "13it [03:50, 17.73s/it]"
     ]
    },
    {
     "name": "stdout",
     "output_type": "stream",
     "text": [
      "Epoch 1/10\n",
      "4/4 [==============================] - 1s 218ms/step - loss: 1.3868 - sparse_categorical_accuracy: 0.5172\n",
      "Epoch 2/10\n",
      "4/4 [==============================] - 1s 215ms/step - loss: 1.6972 - sparse_categorical_accuracy: 0.5517\n",
      "Epoch 3/10\n",
      "4/4 [==============================] - 1s 215ms/step - loss: 1.4226 - sparse_categorical_accuracy: 0.7241\n",
      "Epoch 4/10\n",
      "4/4 [==============================] - 1s 217ms/step - loss: 1.2031 - sparse_categorical_accuracy: 0.8621\n",
      "Epoch 5/10\n",
      "4/4 [==============================] - 1s 215ms/step - loss: 1.1648 - sparse_categorical_accuracy: 0.8621\n",
      "Epoch 6/10\n",
      "4/4 [==============================] - 1s 215ms/step - loss: 1.0124 - sparse_categorical_accuracy: 0.8966\n",
      "Epoch 7/10\n",
      "4/4 [==============================] - 1s 215ms/step - loss: 0.8989 - sparse_categorical_accuracy: 0.8966\n",
      "Epoch 8/10\n",
      "4/4 [==============================] - 1s 215ms/step - loss: 1.1097 - sparse_categorical_accuracy: 0.7586\n",
      "Epoch 9/10\n",
      "4/4 [==============================] - 1s 219ms/step - loss: 0.7844 - sparse_categorical_accuracy: 0.8966\n",
      "Epoch 10/10\n",
      "4/4 [==============================] - 1s 217ms/step - loss: 0.7125 - sparse_categorical_accuracy: 0.8621\n"
     ]
    },
    {
     "name": "stderr",
     "output_type": "stream",
     "text": [
      "\r",
      "14it [04:08, 17.66s/it]"
     ]
    },
    {
     "name": "stdout",
     "output_type": "stream",
     "text": [
      "Epoch 1/10\n",
      "4/4 [==============================] - 1s 218ms/step - loss: 1.2167 - sparse_categorical_accuracy: 0.6207\n",
      "Epoch 2/10\n",
      "4/4 [==============================] - 1s 212ms/step - loss: 1.0760 - sparse_categorical_accuracy: 0.8276\n",
      "Epoch 3/10\n",
      "4/4 [==============================] - 1s 212ms/step - loss: 1.2182 - sparse_categorical_accuracy: 0.7586\n",
      "Epoch 4/10\n",
      "4/4 [==============================] - 1s 214ms/step - loss: 1.2827 - sparse_categorical_accuracy: 0.7241\n",
      "Epoch 5/10\n",
      "4/4 [==============================] - 1s 231ms/step - loss: 1.1941 - sparse_categorical_accuracy: 0.7586\n",
      "Epoch 6/10\n",
      "4/4 [==============================] - 1s 216ms/step - loss: 1.0315 - sparse_categorical_accuracy: 0.8276\n",
      "Epoch 7/10\n",
      "4/4 [==============================] - 1s 215ms/step - loss: 0.8857 - sparse_categorical_accuracy: 0.8621\n",
      "Epoch 8/10\n",
      "4/4 [==============================] - 1s 215ms/step - loss: 0.7651 - sparse_categorical_accuracy: 0.8621\n",
      "Epoch 9/10\n",
      "4/4 [==============================] - 1s 212ms/step - loss: 0.6995 - sparse_categorical_accuracy: 0.8966\n",
      "Epoch 10/10\n",
      "4/4 [==============================] - 1s 214ms/step - loss: 0.6699 - sparse_categorical_accuracy: 0.9310\n"
     ]
    },
    {
     "name": "stderr",
     "output_type": "stream",
     "text": [
      "\r",
      "15it [04:25, 17.63s/it]"
     ]
    },
    {
     "name": "stdout",
     "output_type": "stream",
     "text": [
      "Epoch 1/10\n",
      "4/4 [==============================] - 1s 226ms/step - loss: 1.2016 - sparse_categorical_accuracy: 0.6552\n",
      "Epoch 2/10\n",
      "4/4 [==============================] - 1s 221ms/step - loss: 1.2338 - sparse_categorical_accuracy: 0.6897\n",
      "Epoch 3/10\n",
      "4/4 [==============================] - 1s 224ms/step - loss: 1.2188 - sparse_categorical_accuracy: 0.7586\n",
      "Epoch 4/10\n",
      "4/4 [==============================] - 1s 221ms/step - loss: 1.5141 - sparse_categorical_accuracy: 0.6552\n",
      "Epoch 5/10\n",
      "4/4 [==============================] - 1s 232ms/step - loss: 1.2065 - sparse_categorical_accuracy: 0.8276\n",
      "Epoch 6/10\n",
      "4/4 [==============================] - 1s 221ms/step - loss: 1.0331 - sparse_categorical_accuracy: 0.8621\n",
      "Epoch 7/10\n",
      "4/4 [==============================] - 1s 219ms/step - loss: 0.9007 - sparse_categorical_accuracy: 0.8621\n",
      "Epoch 8/10\n",
      "4/4 [==============================] - 1s 223ms/step - loss: 1.0055 - sparse_categorical_accuracy: 0.8621\n",
      "Epoch 9/10\n",
      "4/4 [==============================] - 1s 219ms/step - loss: 0.6679 - sparse_categorical_accuracy: 0.9310\n",
      "Epoch 10/10\n",
      "4/4 [==============================] - 1s 223ms/step - loss: 0.7777 - sparse_categorical_accuracy: 0.8621\n"
     ]
    },
    {
     "name": "stderr",
     "output_type": "stream",
     "text": [
      "\r",
      "16it [04:44, 18.06s/it]"
     ]
    },
    {
     "name": "stdout",
     "output_type": "stream",
     "text": [
      "Epoch 1/10\n",
      "4/4 [==============================] - 1s 221ms/step - loss: 1.1512 - sparse_categorical_accuracy: 0.7241\n",
      "Epoch 2/10\n",
      "4/4 [==============================] - 1s 220ms/step - loss: 1.2580 - sparse_categorical_accuracy: 0.6552\n",
      "Epoch 3/10\n",
      "4/4 [==============================] - 1s 222ms/step - loss: 1.1381 - sparse_categorical_accuracy: 0.8621\n",
      "Epoch 4/10\n",
      "4/4 [==============================] - 1s 222ms/step - loss: 1.1509 - sparse_categorical_accuracy: 0.8966\n",
      "Epoch 5/10\n",
      "4/4 [==============================] - 1s 220ms/step - loss: 1.2682 - sparse_categorical_accuracy: 0.7241\n",
      "Epoch 6/10\n",
      "4/4 [==============================] - 1s 221ms/step - loss: 1.1266 - sparse_categorical_accuracy: 0.8276\n",
      "Epoch 7/10\n",
      "4/4 [==============================] - 1s 223ms/step - loss: 1.0319 - sparse_categorical_accuracy: 0.8276\n",
      "Epoch 8/10\n",
      "4/4 [==============================] - 1s 222ms/step - loss: 1.0941 - sparse_categorical_accuracy: 0.7586\n",
      "Epoch 9/10\n",
      "4/4 [==============================] - 1s 222ms/step - loss: 1.0891 - sparse_categorical_accuracy: 0.7241\n",
      "Epoch 10/10\n",
      "4/4 [==============================] - 1s 226ms/step - loss: 0.9043 - sparse_categorical_accuracy: 0.7931\n"
     ]
    },
    {
     "name": "stderr",
     "output_type": "stream",
     "text": [
      "\r",
      "17it [05:02, 18.03s/it]"
     ]
    },
    {
     "name": "stdout",
     "output_type": "stream",
     "text": [
      "Epoch 1/10\n",
      "4/4 [==============================] - 1s 223ms/step - loss: 1.2573 - sparse_categorical_accuracy: 0.5862\n",
      "Epoch 2/10\n",
      "4/4 [==============================] - 1s 217ms/step - loss: 1.1455 - sparse_categorical_accuracy: 0.7931\n",
      "Epoch 3/10\n",
      "4/4 [==============================] - 1s 222ms/step - loss: 1.3415 - sparse_categorical_accuracy: 0.7931\n",
      "Epoch 4/10\n",
      "4/4 [==============================] - 1s 223ms/step - loss: 1.2655 - sparse_categorical_accuracy: 0.8276\n",
      "Epoch 5/10\n",
      "4/4 [==============================] - 1s 219ms/step - loss: 1.0908 - sparse_categorical_accuracy: 0.8276\n",
      "Epoch 6/10\n",
      "4/4 [==============================] - 1s 223ms/step - loss: 0.9937 - sparse_categorical_accuracy: 0.7241\n",
      "Epoch 7/10\n",
      "4/4 [==============================] - 1s 219ms/step - loss: 0.8604 - sparse_categorical_accuracy: 0.8966\n",
      "Epoch 8/10\n",
      "4/4 [==============================] - 1s 217ms/step - loss: 0.8720 - sparse_categorical_accuracy: 0.8276\n",
      "Epoch 9/10\n",
      "4/4 [==============================] - 1s 219ms/step - loss: 0.7869 - sparse_categorical_accuracy: 0.8276\n",
      "Epoch 10/10\n",
      "4/4 [==============================] - 1s 237ms/step - loss: 0.8459 - sparse_categorical_accuracy: 0.7931\n"
     ]
    },
    {
     "name": "stderr",
     "output_type": "stream",
     "text": [
      "\r",
      "18it [05:20, 17.99s/it]"
     ]
    },
    {
     "name": "stdout",
     "output_type": "stream",
     "text": [
      "Epoch 1/10\n",
      "4/4 [==============================] - 1s 223ms/step - loss: 1.2464 - sparse_categorical_accuracy: 0.5517\n",
      "Epoch 2/10\n",
      "4/4 [==============================] - 1s 221ms/step - loss: 1.3031 - sparse_categorical_accuracy: 0.5862\n",
      "Epoch 3/10\n",
      "4/4 [==============================] - 1s 219ms/step - loss: 1.0403 - sparse_categorical_accuracy: 0.8621\n",
      "Epoch 4/10\n",
      "4/4 [==============================] - 1s 220ms/step - loss: 1.2276 - sparse_categorical_accuracy: 0.7586\n",
      "Epoch 5/10\n",
      "4/4 [==============================] - 1s 218ms/step - loss: 1.0722 - sparse_categorical_accuracy: 0.7586\n",
      "Epoch 6/10\n",
      "4/4 [==============================] - 1s 219ms/step - loss: 0.9750 - sparse_categorical_accuracy: 0.8621\n",
      "Epoch 7/10\n",
      "4/4 [==============================] - 1s 219ms/step - loss: 1.2121 - sparse_categorical_accuracy: 0.7586\n",
      "Epoch 8/10\n",
      "4/4 [==============================] - 1s 216ms/step - loss: 0.9245 - sparse_categorical_accuracy: 0.7931\n",
      "Epoch 9/10\n",
      "4/4 [==============================] - 1s 220ms/step - loss: 0.9077 - sparse_categorical_accuracy: 0.8276\n",
      "Epoch 10/10\n",
      "4/4 [==============================] - 1s 216ms/step - loss: 0.8890 - sparse_categorical_accuracy: 0.8276\n"
     ]
    },
    {
     "name": "stderr",
     "output_type": "stream",
     "text": [
      "\r",
      "19it [05:38, 17.91s/it]"
     ]
    },
    {
     "name": "stdout",
     "output_type": "stream",
     "text": [
      "Epoch 1/10\n",
      "4/4 [==============================] - 1s 223ms/step - loss: 1.3187 - sparse_categorical_accuracy: 0.7241\n",
      "Epoch 2/10\n",
      "4/4 [==============================] - 1s 234ms/step - loss: 1.3056 - sparse_categorical_accuracy: 0.7586\n",
      "Epoch 3/10\n",
      "4/4 [==============================] - 1s 219ms/step - loss: 1.1212 - sparse_categorical_accuracy: 0.8621\n",
      "Epoch 4/10\n",
      "4/4 [==============================] - 1s 220ms/step - loss: 1.2113 - sparse_categorical_accuracy: 0.8621\n",
      "Epoch 5/10\n",
      "4/4 [==============================] - 1s 219ms/step - loss: 1.0526 - sparse_categorical_accuracy: 0.8621\n",
      "Epoch 6/10\n",
      "4/4 [==============================] - 1s 221ms/step - loss: 0.9178 - sparse_categorical_accuracy: 0.8621\n",
      "Epoch 7/10\n",
      "4/4 [==============================] - 1s 221ms/step - loss: 0.9692 - sparse_categorical_accuracy: 0.8966\n",
      "Epoch 8/10\n",
      "4/4 [==============================] - 1s 219ms/step - loss: 1.0709 - sparse_categorical_accuracy: 0.8966\n",
      "Epoch 9/10\n",
      "4/4 [==============================] - 1s 219ms/step - loss: 0.6762 - sparse_categorical_accuracy: 0.9310\n",
      "Epoch 10/10\n",
      "4/4 [==============================] - 1s 221ms/step - loss: 0.9522 - sparse_categorical_accuracy: 0.8276\n"
     ]
    },
    {
     "name": "stderr",
     "output_type": "stream",
     "text": [
      "\r",
      "20it [05:56, 17.87s/it]"
     ]
    },
    {
     "name": "stdout",
     "output_type": "stream",
     "text": [
      "Epoch 1/10\n",
      "4/4 [==============================] - 1s 223ms/step - loss: 1.4193 - sparse_categorical_accuracy: 0.4483\n",
      "Epoch 2/10\n",
      "4/4 [==============================] - 1s 219ms/step - loss: 1.2894 - sparse_categorical_accuracy: 0.7241\n",
      "Epoch 3/10\n",
      "4/4 [==============================] - 1s 216ms/step - loss: 1.4077 - sparse_categorical_accuracy: 0.7586\n",
      "Epoch 4/10\n",
      "4/4 [==============================] - 1s 219ms/step - loss: 1.3125 - sparse_categorical_accuracy: 0.7931 0s - loss: 1.3125 - sparse_categorical_accuracy: 0.793\n",
      "Epoch 5/10\n",
      "4/4 [==============================] - 1s 215ms/step - loss: 1.3904 - sparse_categorical_accuracy: 0.8276\n",
      "Epoch 6/10\n",
      "4/4 [==============================] - 1s 219ms/step - loss: 1.0801 - sparse_categorical_accuracy: 0.8276\n",
      "Epoch 7/10\n",
      "4/4 [==============================] - 1s 219ms/step - loss: 1.1292 - sparse_categorical_accuracy: 0.7241\n",
      "Epoch 8/10\n",
      "4/4 [==============================] - 1s 217ms/step - loss: 1.1356 - sparse_categorical_accuracy: 0.7241\n",
      "Epoch 9/10\n",
      "4/4 [==============================] - 1s 215ms/step - loss: 1.4014 - sparse_categorical_accuracy: 0.6552\n",
      "Epoch 10/10\n",
      "4/4 [==============================] - 1s 219ms/step - loss: 0.6634 - sparse_categorical_accuracy: 0.8966\n"
     ]
    },
    {
     "name": "stderr",
     "output_type": "stream",
     "text": [
      "\r",
      "21it [06:14, 17.81s/it]"
     ]
    },
    {
     "name": "stdout",
     "output_type": "stream",
     "text": [
      "Epoch 1/10\n",
      "4/4 [==============================] - 1s 222ms/step - loss: 1.1621 - sparse_categorical_accuracy: 0.7931\n",
      "Epoch 2/10\n",
      "4/4 [==============================] - 1s 227ms/step - loss: 1.0643 - sparse_categorical_accuracy: 0.7586\n",
      "Epoch 3/10\n",
      "4/4 [==============================] - 1s 219ms/step - loss: 1.2445 - sparse_categorical_accuracy: 0.8276\n",
      "Epoch 4/10\n",
      "4/4 [==============================] - 1s 216ms/step - loss: 1.1816 - sparse_categorical_accuracy: 0.8966\n",
      "Epoch 5/10\n",
      "4/4 [==============================] - 1s 220ms/step - loss: 1.3702 - sparse_categorical_accuracy: 0.7931\n",
      "Epoch 6/10\n",
      "4/4 [==============================] - 1s 216ms/step - loss: 1.1760 - sparse_categorical_accuracy: 0.8621\n",
      "Epoch 7/10\n",
      "4/4 [==============================] - 1s 216ms/step - loss: 1.2866 - sparse_categorical_accuracy: 0.7931\n",
      "Epoch 8/10\n",
      "4/4 [==============================] - 1s 217ms/step - loss: 0.9719 - sparse_categorical_accuracy: 0.8276\n",
      "Epoch 9/10\n",
      "4/4 [==============================] - 1s 221ms/step - loss: 0.8663 - sparse_categorical_accuracy: 0.8621\n",
      "Epoch 10/10\n",
      "4/4 [==============================] - 1s 221ms/step - loss: 0.8866 - sparse_categorical_accuracy: 0.8621\n"
     ]
    },
    {
     "name": "stderr",
     "output_type": "stream",
     "text": [
      "\r",
      "22it [06:31, 17.79s/it]"
     ]
    },
    {
     "name": "stdout",
     "output_type": "stream",
     "text": [
      "Epoch 1/10\n",
      "4/4 [==============================] - 1s 220ms/step - loss: 1.3793 - sparse_categorical_accuracy: 0.5862\n",
      "Epoch 2/10\n",
      "4/4 [==============================] - 1s 216ms/step - loss: 0.9348 - sparse_categorical_accuracy: 0.8276\n",
      "Epoch 3/10\n",
      "4/4 [==============================] - 1s 219ms/step - loss: 1.1348 - sparse_categorical_accuracy: 0.8621\n",
      "Epoch 4/10\n",
      "4/4 [==============================] - 1s 217ms/step - loss: 1.4139 - sparse_categorical_accuracy: 0.7586\n",
      "Epoch 5/10\n",
      "4/4 [==============================] - 1s 217ms/step - loss: 1.2701 - sparse_categorical_accuracy: 0.8276\n",
      "Epoch 6/10\n",
      "4/4 [==============================] - 1s 218ms/step - loss: 1.1891 - sparse_categorical_accuracy: 0.7931\n",
      "Epoch 7/10\n",
      "4/4 [==============================] - 1s 215ms/step - loss: 0.9941 - sparse_categorical_accuracy: 0.8966\n",
      "Epoch 8/10\n",
      "4/4 [==============================] - 1s 225ms/step - loss: 0.8930 - sparse_categorical_accuracy: 0.8276\n",
      "Epoch 9/10\n",
      "4/4 [==============================] - 1s 218ms/step - loss: 0.8708 - sparse_categorical_accuracy: 0.8276\n",
      "Epoch 10/10\n",
      "4/4 [==============================] - 1s 216ms/step - loss: 0.7201 - sparse_categorical_accuracy: 0.8966\n"
     ]
    },
    {
     "name": "stderr",
     "output_type": "stream",
     "text": [
      "\r",
      "23it [06:50, 18.06s/it]"
     ]
    },
    {
     "name": "stdout",
     "output_type": "stream",
     "text": [
      "Epoch 1/10\n",
      "4/4 [==============================] - 1s 220ms/step - loss: 1.2956 - sparse_categorical_accuracy: 0.5517\n",
      "Epoch 2/10\n",
      "4/4 [==============================] - 1s 220ms/step - loss: 1.0229 - sparse_categorical_accuracy: 0.7931\n",
      "Epoch 3/10\n",
      "4/4 [==============================] - 1s 221ms/step - loss: 1.0594 - sparse_categorical_accuracy: 0.8276\n",
      "Epoch 4/10\n",
      "4/4 [==============================] - 1s 219ms/step - loss: 1.1362 - sparse_categorical_accuracy: 0.8621\n",
      "Epoch 5/10\n",
      "4/4 [==============================] - 1s 221ms/step - loss: 0.9957 - sparse_categorical_accuracy: 0.9310\n",
      "Epoch 6/10\n",
      "4/4 [==============================] - 1s 231ms/step - loss: 0.9351 - sparse_categorical_accuracy: 0.7931\n",
      "Epoch 7/10\n",
      "4/4 [==============================] - 1s 221ms/step - loss: 1.2053 - sparse_categorical_accuracy: 0.7241\n",
      "Epoch 8/10\n",
      "4/4 [==============================] - 1s 227ms/step - loss: 0.9649 - sparse_categorical_accuracy: 0.8276\n",
      "Epoch 9/10\n",
      "4/4 [==============================] - 1s 223ms/step - loss: 0.8203 - sparse_categorical_accuracy: 0.8276\n",
      "Epoch 10/10\n",
      "4/4 [==============================] - 1s 222ms/step - loss: 0.8375 - sparse_categorical_accuracy: 0.7931\n"
     ]
    },
    {
     "name": "stderr",
     "output_type": "stream",
     "text": [
      "\r",
      "24it [07:08, 18.02s/it]"
     ]
    },
    {
     "name": "stdout",
     "output_type": "stream",
     "text": [
      "Epoch 1/10\n",
      "4/4 [==============================] - 1s 224ms/step - loss: 1.2253 - sparse_categorical_accuracy: 0.6207\n",
      "Epoch 2/10\n",
      "4/4 [==============================] - 1s 219ms/step - loss: 1.0919 - sparse_categorical_accuracy: 0.7931\n",
      "Epoch 3/10\n",
      "4/4 [==============================] - 1s 220ms/step - loss: 1.2625 - sparse_categorical_accuracy: 0.8621\n",
      "Epoch 4/10\n",
      "4/4 [==============================] - 1s 218ms/step - loss: 1.1933 - sparse_categorical_accuracy: 0.8621\n",
      "Epoch 5/10\n",
      "4/4 [==============================] - 1s 219ms/step - loss: 1.1741 - sparse_categorical_accuracy: 0.7241\n",
      "Epoch 6/10\n",
      "4/4 [==============================] - 1s 219ms/step - loss: 1.2674 - sparse_categorical_accuracy: 0.8276\n",
      "Epoch 7/10\n",
      "4/4 [==============================] - 1s 237ms/step - loss: 1.1380 - sparse_categorical_accuracy: 0.8621\n",
      "Epoch 8/10\n",
      "4/4 [==============================] - 1s 219ms/step - loss: 1.2282 - sparse_categorical_accuracy: 0.8276\n",
      "Epoch 9/10\n",
      "4/4 [==============================] - 1s 219ms/step - loss: 1.1803 - sparse_categorical_accuracy: 0.7241\n",
      "Epoch 10/10\n",
      "4/4 [==============================] - 1s 220ms/step - loss: 1.2239 - sparse_categorical_accuracy: 0.7241\n"
     ]
    },
    {
     "name": "stderr",
     "output_type": "stream",
     "text": [
      "\r",
      "25it [07:26, 17.98s/it]"
     ]
    },
    {
     "name": "stdout",
     "output_type": "stream",
     "text": [
      "Epoch 1/10\n",
      "4/4 [==============================] - 1s 225ms/step - loss: 1.6000 - sparse_categorical_accuracy: 0.4483\n",
      "Epoch 2/10\n",
      "4/4 [==============================] - 1s 219ms/step - loss: 1.1891 - sparse_categorical_accuracy: 0.7586\n",
      "Epoch 3/10\n",
      "4/4 [==============================] - 1s 217ms/step - loss: 1.2027 - sparse_categorical_accuracy: 0.7931\n",
      "Epoch 4/10\n",
      "4/4 [==============================] - 1s 219ms/step - loss: 1.6350 - sparse_categorical_accuracy: 0.6897\n",
      "Epoch 5/10\n",
      "4/4 [==============================] - 1s 219ms/step - loss: 1.2915 - sparse_categorical_accuracy: 0.7586\n",
      "Epoch 6/10\n",
      "4/4 [==============================] - 1s 220ms/step - loss: 1.0102 - sparse_categorical_accuracy: 0.8966\n",
      "Epoch 7/10\n",
      "4/4 [==============================] - 1s 220ms/step - loss: 0.9419 - sparse_categorical_accuracy: 0.8966\n",
      "Epoch 8/10\n",
      "4/4 [==============================] - 1s 218ms/step - loss: 0.9476 - sparse_categorical_accuracy: 0.7931\n",
      "Epoch 9/10\n",
      "4/4 [==============================] - 1s 221ms/step - loss: 1.1271 - sparse_categorical_accuracy: 0.7241\n",
      "Epoch 10/10\n",
      "4/4 [==============================] - 1s 221ms/step - loss: 0.9674 - sparse_categorical_accuracy: 0.7931\n"
     ]
    },
    {
     "name": "stderr",
     "output_type": "stream",
     "text": [
      "\r",
      "26it [07:44, 17.97s/it]"
     ]
    },
    {
     "name": "stdout",
     "output_type": "stream",
     "text": [
      "Epoch 1/10\n",
      "4/4 [==============================] - 1s 222ms/step - loss: 1.2408 - sparse_categorical_accuracy: 0.6207\n",
      "Epoch 2/10\n",
      "4/4 [==============================] - 1s 219ms/step - loss: 1.3299 - sparse_categorical_accuracy: 0.7586\n",
      "Epoch 3/10\n",
      "4/4 [==============================] - 1s 217ms/step - loss: 1.2748 - sparse_categorical_accuracy: 0.7931\n",
      "Epoch 4/10\n",
      "4/4 [==============================] - 1s 217ms/step - loss: 1.3294 - sparse_categorical_accuracy: 0.7931\n",
      "Epoch 5/10\n",
      "4/4 [==============================] - 1s 219ms/step - loss: 1.2741 - sparse_categorical_accuracy: 0.8276\n",
      "Epoch 6/10\n",
      "4/4 [==============================] - 1s 221ms/step - loss: 1.1136 - sparse_categorical_accuracy: 0.7931\n",
      "Epoch 7/10\n",
      "4/4 [==============================] - 1s 215ms/step - loss: 1.0743 - sparse_categorical_accuracy: 0.7931\n",
      "Epoch 8/10\n",
      "4/4 [==============================] - 1s 220ms/step - loss: 1.1964 - sparse_categorical_accuracy: 0.6897\n",
      "Epoch 9/10\n",
      "4/4 [==============================] - 1s 221ms/step - loss: 1.1839 - sparse_categorical_accuracy: 0.6897\n",
      "Epoch 10/10\n",
      "4/4 [==============================] - 1s 218ms/step - loss: 0.9168 - sparse_categorical_accuracy: 0.8621\n"
     ]
    },
    {
     "name": "stderr",
     "output_type": "stream",
     "text": [
      "\r",
      "27it [08:02, 17.96s/it]"
     ]
    },
    {
     "name": "stdout",
     "output_type": "stream",
     "text": [
      "Epoch 1/10\n",
      "4/4 [==============================] - 1s 219ms/step - loss: 1.5832 - sparse_categorical_accuracy: 0.4828\n",
      "Epoch 2/10\n",
      "4/4 [==============================] - 1s 220ms/step - loss: 1.5771 - sparse_categorical_accuracy: 0.5172\n",
      "Epoch 3/10\n",
      "4/4 [==============================] - 1s 217ms/step - loss: 1.3231 - sparse_categorical_accuracy: 0.8276\n",
      "Epoch 4/10\n",
      "4/4 [==============================] - 1s 215ms/step - loss: 1.0492 - sparse_categorical_accuracy: 0.9655\n",
      "Epoch 5/10\n",
      "4/4 [==============================] - 1s 215ms/step - loss: 1.4441 - sparse_categorical_accuracy: 0.7586\n",
      "Epoch 6/10\n",
      "4/4 [==============================] - 1s 220ms/step - loss: 1.0788 - sparse_categorical_accuracy: 0.8276\n",
      "Epoch 7/10\n",
      "4/4 [==============================] - 1s 216ms/step - loss: 1.0004 - sparse_categorical_accuracy: 0.7931\n",
      "Epoch 8/10\n",
      "4/4 [==============================] - 1s 221ms/step - loss: 1.0487 - sparse_categorical_accuracy: 0.7931\n",
      "Epoch 9/10\n",
      "4/4 [==============================] - 1s 216ms/step - loss: 0.8030 - sparse_categorical_accuracy: 0.7931\n",
      "Epoch 10/10\n",
      "4/4 [==============================] - 1s 219ms/step - loss: 0.8793 - sparse_categorical_accuracy: 0.8621\n"
     ]
    },
    {
     "name": "stderr",
     "output_type": "stream",
     "text": [
      "\r",
      "28it [08:19, 17.88s/it]"
     ]
    },
    {
     "name": "stdout",
     "output_type": "stream",
     "text": [
      "Epoch 1/10\n",
      "4/4 [==============================] - 1s 220ms/step - loss: 1.3694 - sparse_categorical_accuracy: 0.5862\n",
      "Epoch 2/10\n",
      "4/4 [==============================] - 1s 220ms/step - loss: 1.3756 - sparse_categorical_accuracy: 0.6552\n",
      "Epoch 3/10\n",
      "4/4 [==============================] - 1s 217ms/step - loss: 1.4320 - sparse_categorical_accuracy: 0.7241\n",
      "Epoch 4/10\n",
      "4/4 [==============================] - 1s 221ms/step - loss: 1.3632 - sparse_categorical_accuracy: 0.7586\n",
      "Epoch 5/10\n",
      "4/4 [==============================] - 1s 217ms/step - loss: 1.4196 - sparse_categorical_accuracy: 0.7931\n",
      "Epoch 6/10\n",
      "4/4 [==============================] - 1s 221ms/step - loss: 1.2376 - sparse_categorical_accuracy: 0.7931\n",
      "Epoch 7/10\n",
      "4/4 [==============================] - 1s 216ms/step - loss: 1.5406 - sparse_categorical_accuracy: 0.6897\n",
      "Epoch 8/10\n",
      "4/4 [==============================] - 1s 216ms/step - loss: 0.9824 - sparse_categorical_accuracy: 0.8621\n",
      "Epoch 9/10\n",
      "4/4 [==============================] - 1s 216ms/step - loss: 0.9026 - sparse_categorical_accuracy: 0.8966\n",
      "Epoch 10/10\n",
      "4/4 [==============================] - 1s 215ms/step - loss: 0.9709 - sparse_categorical_accuracy: 0.8276\n"
     ]
    },
    {
     "name": "stderr",
     "output_type": "stream",
     "text": [
      "\r",
      "29it [08:37, 17.85s/it]"
     ]
    },
    {
     "name": "stdout",
     "output_type": "stream",
     "text": [
      "Epoch 1/10\n",
      "4/4 [==============================] - 1s 220ms/step - loss: 1.2678 - sparse_categorical_accuracy: 0.6552\n",
      "Epoch 2/10\n",
      "4/4 [==============================] - 1s 217ms/step - loss: 1.3868 - sparse_categorical_accuracy: 0.7586\n",
      "Epoch 3/10\n",
      "4/4 [==============================] - 1s 217ms/step - loss: 1.2944 - sparse_categorical_accuracy: 0.8276\n",
      "Epoch 4/10\n",
      "4/4 [==============================] - 1s 224ms/step - loss: 1.2301 - sparse_categorical_accuracy: 0.8276\n",
      "Epoch 5/10\n",
      "4/4 [==============================] - 1s 226ms/step - loss: 1.4372 - sparse_categorical_accuracy: 0.6552\n",
      "Epoch 6/10\n",
      "4/4 [==============================] - 1s 217ms/step - loss: 1.0613 - sparse_categorical_accuracy: 0.8276\n",
      "Epoch 7/10\n",
      "4/4 [==============================] - 1s 219ms/step - loss: 0.9003 - sparse_categorical_accuracy: 0.8621\n",
      "Epoch 8/10\n",
      "4/4 [==============================] - 1s 215ms/step - loss: 0.8137 - sparse_categorical_accuracy: 0.8276\n",
      "Epoch 9/10\n",
      "4/4 [==============================] - 1s 219ms/step - loss: 0.6038 - sparse_categorical_accuracy: 0.9310\n",
      "Epoch 10/10\n",
      "4/4 [==============================] - 1s 217ms/step - loss: 0.6856 - sparse_categorical_accuracy: 0.8966\n"
     ]
    },
    {
     "name": "stderr",
     "output_type": "stream",
     "text": [
      "30it [08:55, 17.85s/it]\n",
      "0it [00:00, ?it/s]"
     ]
    },
    {
     "name": "stdout",
     "output_type": "stream",
     "text": [
      "Epoch 1/10\n",
      "3/3 [==============================] - 0s 159ms/step - loss: 1.1274 - sparse_categorical_accuracy: 0.5789\n",
      "Epoch 2/10\n",
      "3/3 [==============================] - 0s 150ms/step - loss: 1.2404 - sparse_categorical_accuracy: 0.6316\n",
      "Epoch 3/10\n",
      "3/3 [==============================] - 0s 149ms/step - loss: 1.3383 - sparse_categorical_accuracy: 0.5263\n",
      "Epoch 4/10\n",
      "3/3 [==============================] - 0s 156ms/step - loss: 1.3874 - sparse_categorical_accuracy: 0.7368\n",
      "Epoch 5/10\n",
      "3/3 [==============================] - 0s 148ms/step - loss: 1.2683 - sparse_categorical_accuracy: 0.8421\n",
      "Epoch 6/10\n",
      "3/3 [==============================] - 0s 146ms/step - loss: 1.3982 - sparse_categorical_accuracy: 0.9474\n",
      "Epoch 7/10\n",
      "3/3 [==============================] - 0s 147ms/step - loss: 1.6432 - sparse_categorical_accuracy: 0.6842\n",
      "Epoch 8/10\n",
      "3/3 [==============================] - 0s 148ms/step - loss: 1.2099 - sparse_categorical_accuracy: 0.8947\n",
      "Epoch 9/10\n",
      "3/3 [==============================] - 0s 148ms/step - loss: 1.5050 - sparse_categorical_accuracy: 0.7368\n",
      "Epoch 10/10\n",
      "3/3 [==============================] - 0s 150ms/step - loss: 1.1556 - sparse_categorical_accuracy: 0.8421\n"
     ]
    },
    {
     "name": "stderr",
     "output_type": "stream",
     "text": [
      "\r",
      "1it [00:13, 13.60s/it]"
     ]
    },
    {
     "name": "stdout",
     "output_type": "stream",
     "text": [
      "Epoch 1/10\n",
      "3/3 [==============================] - 0s 159ms/step - loss: 1.1297 - sparse_categorical_accuracy: 0.7368\n",
      "Epoch 2/10\n",
      "3/3 [==============================] - 0s 153ms/step - loss: 1.0253 - sparse_categorical_accuracy: 0.7368\n",
      "Epoch 3/10\n",
      "3/3 [==============================] - 0s 148ms/step - loss: 0.9336 - sparse_categorical_accuracy: 0.8947\n",
      "Epoch 4/10\n",
      "3/3 [==============================] - 0s 154ms/step - loss: 1.5257 - sparse_categorical_accuracy: 0.7895\n",
      "Epoch 5/10\n",
      "3/3 [==============================] - 0s 153ms/step - loss: 1.3115 - sparse_categorical_accuracy: 0.8947\n",
      "Epoch 6/10\n",
      "3/3 [==============================] - 0s 153ms/step - loss: 1.2593 - sparse_categorical_accuracy: 0.9474\n",
      "Epoch 7/10\n",
      "3/3 [==============================] - 0s 158ms/step - loss: 1.4593 - sparse_categorical_accuracy: 0.7368\n",
      "Epoch 8/10\n",
      "3/3 [==============================] - 0s 155ms/step - loss: 1.4220 - sparse_categorical_accuracy: 0.7368\n",
      "Epoch 9/10\n",
      "3/3 [==============================] - 0s 154ms/step - loss: 1.2046 - sparse_categorical_accuracy: 0.8421\n",
      "Epoch 10/10\n",
      "3/3 [==============================] - 0s 153ms/step - loss: 1.0813 - sparse_categorical_accuracy: 0.8421\n"
     ]
    },
    {
     "name": "stderr",
     "output_type": "stream",
     "text": [
      "\r",
      "2it [00:28, 14.03s/it]"
     ]
    },
    {
     "name": "stdout",
     "output_type": "stream",
     "text": [
      "Epoch 1/10\n",
      "3/3 [==============================] - 0s 157ms/step - loss: 1.7047 - sparse_categorical_accuracy: 0.5263\n",
      "Epoch 2/10\n",
      "3/3 [==============================] - 0s 149ms/step - loss: 1.3018 - sparse_categorical_accuracy: 0.7368\n",
      "Epoch 3/10\n",
      "3/3 [==============================] - 0s 148ms/step - loss: 1.5147 - sparse_categorical_accuracy: 0.6842\n",
      "Epoch 4/10\n",
      "3/3 [==============================] - 0s 148ms/step - loss: 1.4754 - sparse_categorical_accuracy: 0.6842\n",
      "Epoch 5/10\n",
      "3/3 [==============================] - 0s 148ms/step - loss: 1.8021 - sparse_categorical_accuracy: 0.6842\n",
      "Epoch 6/10\n",
      "3/3 [==============================] - 0s 153ms/step - loss: 1.9186 - sparse_categorical_accuracy: 0.6842\n",
      "Epoch 7/10\n",
      "3/3 [==============================] - 0s 154ms/step - loss: 1.5676 - sparse_categorical_accuracy: 0.8421\n",
      "Epoch 8/10\n",
      "3/3 [==============================] - 0s 152ms/step - loss: 1.6541 - sparse_categorical_accuracy: 0.8421\n",
      "Epoch 9/10\n",
      "3/3 [==============================] - 0s 155ms/step - loss: 1.2920 - sparse_categorical_accuracy: 0.7368\n",
      "Epoch 10/10\n",
      "3/3 [==============================] - 0s 151ms/step - loss: 1.3816 - sparse_categorical_accuracy: 0.7895\n"
     ]
    },
    {
     "name": "stderr",
     "output_type": "stream",
     "text": [
      "\r",
      "3it [00:42, 13.96s/it]"
     ]
    },
    {
     "name": "stdout",
     "output_type": "stream",
     "text": [
      "Epoch 1/10\n",
      "3/3 [==============================] - 0s 155ms/step - loss: 1.4200 - sparse_categorical_accuracy: 0.5789\n",
      "Epoch 2/10\n",
      "3/3 [==============================] - 0s 153ms/step - loss: 1.5340 - sparse_categorical_accuracy: 0.6316\n",
      "Epoch 3/10\n",
      "3/3 [==============================] - 0s 148ms/step - loss: 1.3017 - sparse_categorical_accuracy: 0.5789\n",
      "Epoch 4/10\n",
      "3/3 [==============================] - 0s 152ms/step - loss: 1.3760 - sparse_categorical_accuracy: 0.6842\n",
      "Epoch 5/10\n",
      "3/3 [==============================] - 0s 153ms/step - loss: 1.5483 - sparse_categorical_accuracy: 0.6842\n",
      "Epoch 6/10\n",
      "3/3 [==============================] - 1s 170ms/step - loss: 1.5671 - sparse_categorical_accuracy: 0.7895\n",
      "Epoch 7/10\n",
      "3/3 [==============================] - 0s 148ms/step - loss: 1.6002 - sparse_categorical_accuracy: 0.7368\n",
      "Epoch 8/10\n",
      "3/3 [==============================] - 0s 154ms/step - loss: 1.5120 - sparse_categorical_accuracy: 0.7895\n",
      "Epoch 9/10\n",
      "3/3 [==============================] - 0s 148ms/step - loss: 1.3843 - sparse_categorical_accuracy: 0.7895\n",
      "Epoch 10/10\n",
      "3/3 [==============================] - 0s 152ms/step - loss: 1.6222 - sparse_categorical_accuracy: 0.7368\n"
     ]
    },
    {
     "name": "stderr",
     "output_type": "stream",
     "text": [
      "\r",
      "4it [00:56, 13.89s/it]"
     ]
    },
    {
     "name": "stdout",
     "output_type": "stream",
     "text": [
      "Epoch 1/10\n",
      "3/3 [==============================] - 0s 159ms/step - loss: 1.1791 - sparse_categorical_accuracy: 0.6842\n",
      "Epoch 2/10\n",
      "3/3 [==============================] - 0s 155ms/step - loss: 0.9217 - sparse_categorical_accuracy: 0.8421\n",
      "Epoch 3/10\n",
      "3/3 [==============================] - 0s 152ms/step - loss: 1.1978 - sparse_categorical_accuracy: 0.6842\n",
      "Epoch 4/10\n",
      "3/3 [==============================] - 0s 153ms/step - loss: 1.3466 - sparse_categorical_accuracy: 0.7895\n",
      "Epoch 5/10\n",
      "3/3 [==============================] - 0s 151ms/step - loss: 1.1390 - sparse_categorical_accuracy: 0.9474\n",
      "Epoch 6/10\n",
      "3/3 [==============================] - 0s 149ms/step - loss: 1.4004 - sparse_categorical_accuracy: 0.7368\n",
      "Epoch 7/10\n",
      "3/3 [==============================] - 0s 153ms/step - loss: 1.2765 - sparse_categorical_accuracy: 0.8421\n",
      "Epoch 8/10\n",
      "3/3 [==============================] - 0s 150ms/step - loss: 1.2472 - sparse_categorical_accuracy: 0.7895\n",
      "Epoch 9/10\n",
      "3/3 [==============================] - 0s 148ms/step - loss: 0.9618 - sparse_categorical_accuracy: 0.8947\n",
      "Epoch 10/10\n",
      "3/3 [==============================] - 0s 153ms/step - loss: 1.0398 - sparse_categorical_accuracy: 0.8947\n"
     ]
    },
    {
     "name": "stderr",
     "output_type": "stream",
     "text": [
      "\r",
      "5it [01:09, 13.81s/it]"
     ]
    },
    {
     "name": "stdout",
     "output_type": "stream",
     "text": [
      "Epoch 1/10\n",
      "3/3 [==============================] - 0s 154ms/step - loss: 1.2755 - sparse_categorical_accuracy: 0.4737\n",
      "Epoch 2/10\n",
      "3/3 [==============================] - 0s 153ms/step - loss: 1.1149 - sparse_categorical_accuracy: 0.7368\n",
      "Epoch 3/10\n",
      "3/3 [==============================] - 0s 148ms/step - loss: 1.1637 - sparse_categorical_accuracy: 0.8421\n",
      "Epoch 4/10\n",
      "3/3 [==============================] - 0s 148ms/step - loss: 1.1521 - sparse_categorical_accuracy: 0.7895\n",
      "Epoch 5/10\n",
      "3/3 [==============================] - 0s 153ms/step - loss: 1.6668 - sparse_categorical_accuracy: 0.6842\n",
      "Epoch 6/10\n",
      "3/3 [==============================] - 0s 148ms/step - loss: 1.2268 - sparse_categorical_accuracy: 0.8947\n",
      "Epoch 7/10\n",
      "3/3 [==============================] - 0s 149ms/step - loss: 1.1957 - sparse_categorical_accuracy: 0.8947\n",
      "Epoch 8/10\n",
      "3/3 [==============================] - 0s 147ms/step - loss: 1.2702 - sparse_categorical_accuracy: 0.7895\n",
      "Epoch 9/10\n",
      "3/3 [==============================] - 0s 149ms/step - loss: 1.1799 - sparse_categorical_accuracy: 0.7368\n",
      "Epoch 10/10\n",
      "3/3 [==============================] - 0s 154ms/step - loss: 1.5462 - sparse_categorical_accuracy: 0.6316\n"
     ]
    },
    {
     "name": "stderr",
     "output_type": "stream",
     "text": [
      "\r",
      "6it [01:23, 13.74s/it]"
     ]
    },
    {
     "name": "stdout",
     "output_type": "stream",
     "text": [
      "Epoch 1/10\n",
      "3/3 [==============================] - 0s 156ms/step - loss: 1.2356 - sparse_categorical_accuracy: 0.5789\n",
      "Epoch 2/10\n",
      "3/3 [==============================] - 0s 148ms/step - loss: 1.1563 - sparse_categorical_accuracy: 0.8947\n",
      "Epoch 3/10\n",
      "3/3 [==============================] - 0s 154ms/step - loss: 1.3037 - sparse_categorical_accuracy: 0.7368\n",
      "Epoch 4/10\n",
      "3/3 [==============================] - 0s 148ms/step - loss: 1.2410 - sparse_categorical_accuracy: 0.8421\n",
      "Epoch 5/10\n",
      "3/3 [==============================] - 0s 150ms/step - loss: 1.4857 - sparse_categorical_accuracy: 0.6842\n",
      "Epoch 6/10\n",
      "3/3 [==============================] - 0s 147ms/step - loss: 1.5408 - sparse_categorical_accuracy: 0.7895\n",
      "Epoch 7/10\n",
      "3/3 [==============================] - 0s 148ms/step - loss: 1.7355 - sparse_categorical_accuracy: 0.6316\n",
      "Epoch 8/10\n",
      "3/3 [==============================] - 0s 148ms/step - loss: 1.5357 - sparse_categorical_accuracy: 0.7895\n",
      "Epoch 9/10\n",
      "3/3 [==============================] - 0s 148ms/step - loss: 1.4545 - sparse_categorical_accuracy: 0.6842\n",
      "Epoch 10/10\n",
      "3/3 [==============================] - 0s 148ms/step - loss: 1.1204 - sparse_categorical_accuracy: 0.7895\n"
     ]
    },
    {
     "name": "stderr",
     "output_type": "stream",
     "text": [
      "\r",
      "7it [01:36, 13.68s/it]"
     ]
    },
    {
     "name": "stdout",
     "output_type": "stream",
     "text": [
      "Epoch 1/10\n",
      "3/3 [==============================] - 0s 156ms/step - loss: 1.3503 - sparse_categorical_accuracy: 0.4737\n",
      "Epoch 2/10\n",
      "3/3 [==============================] - 0s 147ms/step - loss: 1.3188 - sparse_categorical_accuracy: 0.6842\n",
      "Epoch 3/10\n",
      "3/3 [==============================] - 0s 152ms/step - loss: 1.0282 - sparse_categorical_accuracy: 0.7368\n",
      "Epoch 4/10\n",
      "3/3 [==============================] - 0s 148ms/step - loss: 1.0649 - sparse_categorical_accuracy: 0.8421\n",
      "Epoch 5/10\n",
      "3/3 [==============================] - 0s 149ms/step - loss: 1.4270 - sparse_categorical_accuracy: 0.7368\n",
      "Epoch 6/10\n",
      "3/3 [==============================] - 0s 145ms/step - loss: 1.4132 - sparse_categorical_accuracy: 0.7368\n",
      "Epoch 7/10\n",
      "3/3 [==============================] - 0s 148ms/step - loss: 1.3107 - sparse_categorical_accuracy: 0.8421\n",
      "Epoch 8/10\n",
      "3/3 [==============================] - 0s 148ms/step - loss: 1.3284 - sparse_categorical_accuracy: 0.8947\n",
      "Epoch 9/10\n",
      "3/3 [==============================] - 0s 148ms/step - loss: 1.2754 - sparse_categorical_accuracy: 0.7895\n",
      "Epoch 10/10\n",
      "3/3 [==============================] - 0s 149ms/step - loss: 1.0519 - sparse_categorical_accuracy: 0.8947\n"
     ]
    },
    {
     "name": "stderr",
     "output_type": "stream",
     "text": [
      "\r",
      "8it [01:50, 13.65s/it]"
     ]
    },
    {
     "name": "stdout",
     "output_type": "stream",
     "text": [
      "Epoch 1/10\n",
      "3/3 [==============================] - 0s 150ms/step - loss: 1.2786 - sparse_categorical_accuracy: 0.4737\n",
      "Epoch 2/10\n",
      "3/3 [==============================] - 0s 147ms/step - loss: 1.3234 - sparse_categorical_accuracy: 0.5263\n",
      "Epoch 3/10\n",
      "3/3 [==============================] - 0s 154ms/step - loss: 1.0952 - sparse_categorical_accuracy: 0.8947\n",
      "Epoch 4/10\n",
      "3/3 [==============================] - 0s 149ms/step - loss: 1.1362 - sparse_categorical_accuracy: 0.8421\n",
      "Epoch 5/10\n",
      "3/3 [==============================] - 0s 145ms/step - loss: 1.4035 - sparse_categorical_accuracy: 0.6316\n",
      "Epoch 6/10\n",
      "3/3 [==============================] - 0s 146ms/step - loss: 1.5486 - sparse_categorical_accuracy: 0.6316\n",
      "Epoch 7/10\n",
      "3/3 [==============================] - 0s 147ms/step - loss: 1.3689 - sparse_categorical_accuracy: 0.7368\n",
      "Epoch 8/10\n",
      "3/3 [==============================] - 0s 148ms/step - loss: 1.5566 - sparse_categorical_accuracy: 0.6316\n",
      "Epoch 9/10\n",
      "3/3 [==============================] - 0s 148ms/step - loss: 1.3321 - sparse_categorical_accuracy: 0.7895\n",
      "Epoch 10/10\n",
      "3/3 [==============================] - 0s 147ms/step - loss: 1.1764 - sparse_categorical_accuracy: 0.8947\n"
     ]
    },
    {
     "name": "stderr",
     "output_type": "stream",
     "text": [
      "\r",
      "9it [02:04, 13.64s/it]"
     ]
    },
    {
     "name": "stdout",
     "output_type": "stream",
     "text": [
      "Epoch 1/10\n",
      "3/3 [==============================] - 0s 149ms/step - loss: 2.0169 - sparse_categorical_accuracy: 0.5263\n",
      "Epoch 2/10\n",
      "3/3 [==============================] - 0s 144ms/step - loss: 1.7835 - sparse_categorical_accuracy: 0.5789\n",
      "Epoch 3/10\n",
      "3/3 [==============================] - 0s 148ms/step - loss: 1.4967 - sparse_categorical_accuracy: 0.5789\n",
      "Epoch 4/10\n",
      "3/3 [==============================] - 0s 148ms/step - loss: 1.4607 - sparse_categorical_accuracy: 0.6842\n",
      "Epoch 5/10\n",
      "3/3 [==============================] - 0s 148ms/step - loss: 1.3966 - sparse_categorical_accuracy: 0.6316\n",
      "Epoch 6/10\n",
      "3/3 [==============================] - 0s 153ms/step - loss: 1.7794 - sparse_categorical_accuracy: 0.6316\n",
      "Epoch 7/10\n",
      "3/3 [==============================] - 0s 148ms/step - loss: 1.6838 - sparse_categorical_accuracy: 0.7368\n",
      "Epoch 8/10\n",
      "3/3 [==============================] - 0s 148ms/step - loss: 1.6817 - sparse_categorical_accuracy: 0.6842\n",
      "Epoch 9/10\n",
      "3/3 [==============================] - 0s 148ms/step - loss: 1.6849 - sparse_categorical_accuracy: 0.6316\n",
      "Epoch 10/10\n",
      "3/3 [==============================] - 0s 147ms/step - loss: 1.6378 - sparse_categorical_accuracy: 0.5789\n"
     ]
    },
    {
     "name": "stderr",
     "output_type": "stream",
     "text": [
      "\r",
      "10it [02:18, 13.99s/it]"
     ]
    },
    {
     "name": "stdout",
     "output_type": "stream",
     "text": [
      "Epoch 1/10\n",
      "3/3 [==============================] - 0s 161ms/step - loss: 1.4974 - sparse_categorical_accuracy: 0.4211\n",
      "Epoch 2/10\n",
      "3/3 [==============================] - 0s 153ms/step - loss: 0.9165 - sparse_categorical_accuracy: 0.7895\n",
      "Epoch 3/10\n",
      "3/3 [==============================] - 0s 158ms/step - loss: 0.9710 - sparse_categorical_accuracy: 0.9474\n",
      "Epoch 4/10\n",
      "3/3 [==============================] - 0s 155ms/step - loss: 1.3164 - sparse_categorical_accuracy: 0.6842\n",
      "Epoch 5/10\n",
      "3/3 [==============================] - 0s 151ms/step - loss: 1.0790 - sparse_categorical_accuracy: 0.8421\n",
      "Epoch 6/10\n",
      "3/3 [==============================] - 0s 148ms/step - loss: 1.5079 - sparse_categorical_accuracy: 0.6842\n",
      "Epoch 7/10\n",
      "3/3 [==============================] - 0s 153ms/step - loss: 1.4654 - sparse_categorical_accuracy: 0.7368\n",
      "Epoch 8/10\n",
      "3/3 [==============================] - 0s 155ms/step - loss: 1.4972 - sparse_categorical_accuracy: 0.6842\n",
      "Epoch 9/10\n",
      "3/3 [==============================] - 0s 152ms/step - loss: 1.3235 - sparse_categorical_accuracy: 0.6842\n",
      "Epoch 10/10\n",
      "3/3 [==============================] - 0s 148ms/step - loss: 1.4749 - sparse_categorical_accuracy: 0.7368\n"
     ]
    },
    {
     "name": "stderr",
     "output_type": "stream",
     "text": [
      "\r",
      "11it [02:32, 13.95s/it]"
     ]
    },
    {
     "name": "stdout",
     "output_type": "stream",
     "text": [
      "Epoch 1/10\n",
      "3/3 [==============================] - 0s 155ms/step - loss: 1.0778 - sparse_categorical_accuracy: 0.5789\n",
      "Epoch 2/10\n",
      "3/3 [==============================] - 0s 154ms/step - loss: 0.9037 - sparse_categorical_accuracy: 0.9474\n",
      "Epoch 3/10\n",
      "3/3 [==============================] - 0s 153ms/step - loss: 1.0887 - sparse_categorical_accuracy: 0.8421\n",
      "Epoch 4/10\n",
      "3/3 [==============================] - 0s 151ms/step - loss: 1.2433 - sparse_categorical_accuracy: 0.8947\n",
      "Epoch 5/10\n",
      "3/3 [==============================] - 0s 153ms/step - loss: 1.3449 - sparse_categorical_accuracy: 0.7895\n",
      "Epoch 6/10\n",
      "3/3 [==============================] - 0s 148ms/step - loss: 1.5281 - sparse_categorical_accuracy: 0.6316\n",
      "Epoch 7/10\n",
      "3/3 [==============================] - 0s 149ms/step - loss: 1.3643 - sparse_categorical_accuracy: 0.8421\n",
      "Epoch 8/10\n",
      "3/3 [==============================] - 0s 148ms/step - loss: 1.2913 - sparse_categorical_accuracy: 0.8947\n",
      "Epoch 9/10\n",
      "3/3 [==============================] - 0s 148ms/step - loss: 1.1909 - sparse_categorical_accuracy: 0.8947\n",
      "Epoch 10/10\n",
      "3/3 [==============================] - 0s 154ms/step - loss: 1.3961 - sparse_categorical_accuracy: 0.7895\n"
     ]
    },
    {
     "name": "stderr",
     "output_type": "stream",
     "text": [
      "\r",
      "12it [02:46, 13.88s/it]"
     ]
    },
    {
     "name": "stdout",
     "output_type": "stream",
     "text": [
      "Epoch 1/10\n",
      "3/3 [==============================] - 0s 153ms/step - loss: 1.1993 - sparse_categorical_accuracy: 0.6316\n",
      "Epoch 2/10\n",
      "3/3 [==============================] - 0s 160ms/step - loss: 1.0054 - sparse_categorical_accuracy: 0.7368\n",
      "Epoch 3/10\n",
      "3/3 [==============================] - 0s 154ms/step - loss: 1.2176 - sparse_categorical_accuracy: 0.7895\n",
      "Epoch 4/10\n",
      "3/3 [==============================] - 0s 153ms/step - loss: 1.0381 - sparse_categorical_accuracy: 0.8421\n",
      "Epoch 5/10\n",
      "3/3 [==============================] - 0s 148ms/step - loss: 1.0608 - sparse_categorical_accuracy: 0.8421\n",
      "Epoch 6/10\n",
      "3/3 [==============================] - 0s 153ms/step - loss: 1.4614 - sparse_categorical_accuracy: 0.7895\n",
      "Epoch 7/10\n",
      "3/3 [==============================] - 0s 153ms/step - loss: 0.9727 - sparse_categorical_accuracy: 0.8947\n",
      "Epoch 8/10\n",
      "3/3 [==============================] - 0s 148ms/step - loss: 1.3574 - sparse_categorical_accuracy: 0.7368\n",
      "Epoch 9/10\n",
      "3/3 [==============================] - 0s 154ms/step - loss: 0.9100 - sparse_categorical_accuracy: 0.9474\n",
      "Epoch 10/10\n",
      "3/3 [==============================] - 0s 149ms/step - loss: 0.9447 - sparse_categorical_accuracy: 0.8947\n"
     ]
    },
    {
     "name": "stderr",
     "output_type": "stream",
     "text": [
      "\r",
      "13it [03:00, 13.91s/it]"
     ]
    },
    {
     "name": "stdout",
     "output_type": "stream",
     "text": [
      "Epoch 1/10\n",
      "3/3 [==============================] - 0s 155ms/step - loss: 1.1338 - sparse_categorical_accuracy: 0.7368\n",
      "Epoch 2/10\n",
      "3/3 [==============================] - 0s 148ms/step - loss: 1.5471 - sparse_categorical_accuracy: 0.6842\n",
      "Epoch 3/10\n",
      "3/3 [==============================] - 0s 153ms/step - loss: 1.2755 - sparse_categorical_accuracy: 0.6316\n",
      "Epoch 4/10\n",
      "3/3 [==============================] - 0s 154ms/step - loss: 1.7465 - sparse_categorical_accuracy: 0.5263\n",
      "Epoch 5/10\n",
      "3/3 [==============================] - 0s 154ms/step - loss: 1.4279 - sparse_categorical_accuracy: 0.5789\n",
      "Epoch 6/10\n",
      "3/3 [==============================] - 0s 151ms/step - loss: 1.6470 - sparse_categorical_accuracy: 0.7368\n",
      "Epoch 7/10\n",
      "3/3 [==============================] - 0s 148ms/step - loss: 1.4859 - sparse_categorical_accuracy: 0.7368\n",
      "Epoch 8/10\n",
      "3/3 [==============================] - 0s 153ms/step - loss: 1.5219 - sparse_categorical_accuracy: 0.6842\n",
      "Epoch 9/10\n",
      "3/3 [==============================] - 0s 148ms/step - loss: 1.3388 - sparse_categorical_accuracy: 0.8421\n",
      "Epoch 10/10\n",
      "3/3 [==============================] - 0s 148ms/step - loss: 1.3514 - sparse_categorical_accuracy: 0.8421\n"
     ]
    },
    {
     "name": "stderr",
     "output_type": "stream",
     "text": [
      "\r",
      "14it [03:14, 13.85s/it]"
     ]
    },
    {
     "name": "stdout",
     "output_type": "stream",
     "text": [
      "Epoch 1/10\n",
      "3/3 [==============================] - 0s 154ms/step - loss: 1.6457 - sparse_categorical_accuracy: 0.5263\n",
      "Epoch 2/10\n",
      "3/3 [==============================] - 0s 148ms/step - loss: 1.1615 - sparse_categorical_accuracy: 0.7368\n",
      "Epoch 3/10\n",
      "3/3 [==============================] - 0s 148ms/step - loss: 1.2699 - sparse_categorical_accuracy: 0.8421\n",
      "Epoch 4/10\n",
      "3/3 [==============================] - 0s 152ms/step - loss: 1.3134 - sparse_categorical_accuracy: 0.8947\n",
      "Epoch 5/10\n",
      "3/3 [==============================] - 0s 153ms/step - loss: 1.4422 - sparse_categorical_accuracy: 0.7368\n",
      "Epoch 6/10\n",
      "3/3 [==============================] - 0s 153ms/step - loss: 1.7294 - sparse_categorical_accuracy: 0.7368\n",
      "Epoch 7/10\n",
      "3/3 [==============================] - 0s 148ms/step - loss: 1.7233 - sparse_categorical_accuracy: 0.8947\n",
      "Epoch 8/10\n",
      "3/3 [==============================] - 0s 153ms/step - loss: 1.8578 - sparse_categorical_accuracy: 0.6842\n",
      "Epoch 9/10\n",
      "3/3 [==============================] - 0s 154ms/step - loss: 1.1220 - sparse_categorical_accuracy: 0.9474\n",
      "Epoch 10/10\n",
      "3/3 [==============================] - 0s 158ms/step - loss: 1.2501 - sparse_categorical_accuracy: 0.7368\n"
     ]
    },
    {
     "name": "stderr",
     "output_type": "stream",
     "text": [
      "\r",
      "15it [03:27, 13.80s/it]"
     ]
    },
    {
     "name": "stdout",
     "output_type": "stream",
     "text": [
      "Epoch 1/10\n",
      "3/3 [==============================] - 0s 153ms/step - loss: 1.1036 - sparse_categorical_accuracy: 0.7368\n",
      "Epoch 2/10\n",
      "3/3 [==============================] - 0s 148ms/step - loss: 1.2108 - sparse_categorical_accuracy: 0.6316\n",
      "Epoch 3/10\n",
      "3/3 [==============================] - 0s 151ms/step - loss: 1.4541 - sparse_categorical_accuracy: 0.6316\n",
      "Epoch 4/10\n",
      "3/3 [==============================] - 0s 150ms/step - loss: 1.4089 - sparse_categorical_accuracy: 0.6316\n",
      "Epoch 5/10\n",
      "3/3 [==============================] - 0s 153ms/step - loss: 1.4814 - sparse_categorical_accuracy: 0.6842\n",
      "Epoch 6/10\n",
      "3/3 [==============================] - 0s 148ms/step - loss: 1.3604 - sparse_categorical_accuracy: 0.7895\n",
      "Epoch 7/10\n",
      "3/3 [==============================] - 0s 153ms/step - loss: 1.2206 - sparse_categorical_accuracy: 0.8421\n",
      "Epoch 8/10\n",
      "3/3 [==============================] - 0s 151ms/step - loss: 1.6465 - sparse_categorical_accuracy: 0.5263\n",
      "Epoch 9/10\n",
      "3/3 [==============================] - 0s 147ms/step - loss: 1.3661 - sparse_categorical_accuracy: 0.6842\n",
      "Epoch 10/10\n",
      "3/3 [==============================] - 0s 153ms/step - loss: 1.3946 - sparse_categorical_accuracy: 0.7895\n"
     ]
    },
    {
     "name": "stderr",
     "output_type": "stream",
     "text": [
      "\r",
      "16it [03:41, 13.84s/it]"
     ]
    },
    {
     "name": "stdout",
     "output_type": "stream",
     "text": [
      "Epoch 1/10\n",
      "3/3 [==============================] - 0s 155ms/step - loss: 1.0545 - sparse_categorical_accuracy: 0.7895\n",
      "Epoch 2/10\n",
      "3/3 [==============================] - 0s 151ms/step - loss: 1.3442 - sparse_categorical_accuracy: 0.6842\n",
      "Epoch 3/10\n",
      "3/3 [==============================] - 0s 148ms/step - loss: 1.3192 - sparse_categorical_accuracy: 0.5789\n",
      "Epoch 4/10\n",
      "3/3 [==============================] - 0s 148ms/step - loss: 1.1540 - sparse_categorical_accuracy: 0.8947\n",
      "Epoch 5/10\n",
      "3/3 [==============================] - 0s 148ms/step - loss: 1.2496 - sparse_categorical_accuracy: 0.7895\n",
      "Epoch 6/10\n",
      "3/3 [==============================] - 0s 153ms/step - loss: 1.3809 - sparse_categorical_accuracy: 0.8421\n",
      "Epoch 7/10\n",
      "3/3 [==============================] - 0s 151ms/step - loss: 1.4009 - sparse_categorical_accuracy: 0.6842\n",
      "Epoch 8/10\n",
      "3/3 [==============================] - 0s 150ms/step - loss: 1.3875 - sparse_categorical_accuracy: 0.7895\n",
      "Epoch 9/10\n",
      "3/3 [==============================] - 0s 165ms/step - loss: 1.4522 - sparse_categorical_accuracy: 0.8421\n",
      "Epoch 10/10\n",
      "3/3 [==============================] - 0s 148ms/step - loss: 1.2727 - sparse_categorical_accuracy: 0.7895\n"
     ]
    },
    {
     "name": "stderr",
     "output_type": "stream",
     "text": [
      "\r",
      "17it [03:55, 13.82s/it]"
     ]
    },
    {
     "name": "stdout",
     "output_type": "stream",
     "text": [
      "Epoch 1/10\n",
      "3/3 [==============================] - 0s 155ms/step - loss: 1.7095 - sparse_categorical_accuracy: 0.4737\n",
      "Epoch 2/10\n",
      "3/3 [==============================] - 0s 148ms/step - loss: 1.0953 - sparse_categorical_accuracy: 0.7368\n",
      "Epoch 3/10\n",
      "3/3 [==============================] - 0s 148ms/step - loss: 0.9336 - sparse_categorical_accuracy: 0.8947\n",
      "Epoch 4/10\n",
      "3/3 [==============================] - 0s 148ms/step - loss: 1.2010 - sparse_categorical_accuracy: 0.7895\n",
      "Epoch 5/10\n",
      "3/3 [==============================] - 0s 152ms/step - loss: 1.1873 - sparse_categorical_accuracy: 0.9474\n",
      "Epoch 6/10\n",
      "3/3 [==============================] - 0s 148ms/step - loss: 0.9618 - sparse_categorical_accuracy: 1.0000\n",
      "Epoch 7/10\n",
      "3/3 [==============================] - 0s 154ms/step - loss: 1.3709 - sparse_categorical_accuracy: 0.7895\n",
      "Epoch 8/10\n",
      "3/3 [==============================] - 0s 148ms/step - loss: 1.6174 - sparse_categorical_accuracy: 0.6316\n",
      "Epoch 9/10\n",
      "3/3 [==============================] - 0s 148ms/step - loss: 1.4560 - sparse_categorical_accuracy: 0.7895\n",
      "Epoch 10/10\n",
      "3/3 [==============================] - 0s 145ms/step - loss: 1.5825 - sparse_categorical_accuracy: 0.6316\n"
     ]
    },
    {
     "name": "stderr",
     "output_type": "stream",
     "text": [
      "\r",
      "18it [04:09, 13.78s/it]"
     ]
    },
    {
     "name": "stdout",
     "output_type": "stream",
     "text": [
      "Epoch 1/10\n",
      "3/3 [==============================] - 0s 149ms/step - loss: 1.4471 - sparse_categorical_accuracy: 0.5789\n",
      "Epoch 2/10\n",
      "3/3 [==============================] - 0s 146ms/step - loss: 1.3388 - sparse_categorical_accuracy: 0.5789\n",
      "Epoch 3/10\n",
      "3/3 [==============================] - 0s 149ms/step - loss: 1.2185 - sparse_categorical_accuracy: 0.7368\n",
      "Epoch 4/10\n",
      "3/3 [==============================] - 0s 150ms/step - loss: 1.3052 - sparse_categorical_accuracy: 0.8947\n",
      "Epoch 5/10\n",
      "3/3 [==============================] - 0s 155ms/step - loss: 1.0501 - sparse_categorical_accuracy: 0.8947\n",
      "Epoch 6/10\n",
      "3/3 [==============================] - 0s 148ms/step - loss: 1.4093 - sparse_categorical_accuracy: 0.6842\n",
      "Epoch 7/10\n",
      "3/3 [==============================] - 0s 147ms/step - loss: 1.3813 - sparse_categorical_accuracy: 0.7895\n",
      "Epoch 8/10\n",
      "3/3 [==============================] - 0s 147ms/step - loss: 1.0686 - sparse_categorical_accuracy: 0.7895\n",
      "Epoch 9/10\n",
      "3/3 [==============================] - 0s 148ms/step - loss: 1.2330 - sparse_categorical_accuracy: 0.7368\n",
      "Epoch 10/10\n",
      "3/3 [==============================] - 0s 153ms/step - loss: 0.8541 - sparse_categorical_accuracy: 0.8947\n"
     ]
    },
    {
     "name": "stderr",
     "output_type": "stream",
     "text": [
      "\r",
      "19it [04:22, 13.73s/it]"
     ]
    },
    {
     "name": "stdout",
     "output_type": "stream",
     "text": [
      "Epoch 1/10\n",
      "3/3 [==============================] - 0s 162ms/step - loss: 1.2909 - sparse_categorical_accuracy: 0.5789\n",
      "Epoch 2/10\n",
      "3/3 [==============================] - 0s 153ms/step - loss: 0.8981 - sparse_categorical_accuracy: 0.8421\n",
      "Epoch 3/10\n",
      "3/3 [==============================] - 0s 154ms/step - loss: 1.2621 - sparse_categorical_accuracy: 0.6842\n",
      "Epoch 4/10\n",
      "3/3 [==============================] - 0s 159ms/step - loss: 1.4573 - sparse_categorical_accuracy: 0.6842\n",
      "Epoch 5/10\n",
      "3/3 [==============================] - 0s 154ms/step - loss: 1.3330 - sparse_categorical_accuracy: 0.8421\n",
      "Epoch 6/10\n",
      "3/3 [==============================] - 0s 154ms/step - loss: 1.3551 - sparse_categorical_accuracy: 0.7368\n",
      "Epoch 7/10\n",
      "3/3 [==============================] - 0s 154ms/step - loss: 1.3595 - sparse_categorical_accuracy: 0.8421\n",
      "Epoch 8/10\n",
      "3/3 [==============================] - 0s 154ms/step - loss: 1.4579 - sparse_categorical_accuracy: 0.7368\n",
      "Epoch 9/10\n",
      "3/3 [==============================] - 0s 154ms/step - loss: 1.3212 - sparse_categorical_accuracy: 0.8947\n",
      "Epoch 10/10\n",
      "3/3 [==============================] - 0s 153ms/step - loss: 1.4743 - sparse_categorical_accuracy: 0.7368\n"
     ]
    },
    {
     "name": "stderr",
     "output_type": "stream",
     "text": [
      "20it [04:38, 13.92s/it]\n",
      "0it [00:00, ?it/s]"
     ]
    },
    {
     "name": "stdout",
     "output_type": "stream",
     "text": [
      "Epoch 1/10\n",
      "5/5 [==============================] - 1s 222ms/step - loss: 1.2818 - sparse_categorical_accuracy: 0.4848\n",
      "Epoch 2/10\n",
      "5/5 [==============================] - 1s 217ms/step - loss: 1.1167 - sparse_categorical_accuracy: 0.9091\n",
      "Epoch 3/10\n",
      "5/5 [==============================] - 1s 218ms/step - loss: 1.2162 - sparse_categorical_accuracy: 0.8485\n",
      "Epoch 4/10\n",
      "5/5 [==============================] - 1s 216ms/step - loss: 0.8423 - sparse_categorical_accuracy: 0.9091\n",
      "Epoch 5/10\n",
      "5/5 [==============================] - 1s 222ms/step - loss: 0.7731 - sparse_categorical_accuracy: 0.8788\n",
      "Epoch 6/10\n",
      "5/5 [==============================] - 1s 221ms/step - loss: 1.1695 - sparse_categorical_accuracy: 0.7576\n",
      "Epoch 7/10\n",
      "5/5 [==============================] - 1s 239ms/step - loss: 0.9548 - sparse_categorical_accuracy: 0.8182\n",
      "Epoch 8/10\n",
      "5/5 [==============================] - 1s 225ms/step - loss: 0.8577 - sparse_categorical_accuracy: 0.8788\n",
      "Epoch 9/10\n",
      "5/5 [==============================] - 1s 219ms/step - loss: 0.8157 - sparse_categorical_accuracy: 0.8485\n",
      "Epoch 10/10\n",
      "5/5 [==============================] - 1s 219ms/step - loss: 0.6879 - sparse_categorical_accuracy: 0.9091\n"
     ]
    },
    {
     "name": "stderr",
     "output_type": "stream",
     "text": [
      "\r",
      "1it [00:20, 20.73s/it]"
     ]
    },
    {
     "name": "stdout",
     "output_type": "stream",
     "text": [
      "Epoch 1/10\n",
      "5/5 [==============================] - 1s 222ms/step - loss: 1.2597 - sparse_categorical_accuracy: 0.6061\n",
      "Epoch 2/10\n",
      "5/5 [==============================] - 1s 218ms/step - loss: 1.2265 - sparse_categorical_accuracy: 0.6970\n",
      "Epoch 3/10\n",
      "5/5 [==============================] - 1s 219ms/step - loss: 1.0458 - sparse_categorical_accuracy: 0.9394\n",
      "Epoch 4/10\n",
      "5/5 [==============================] - 1s 217ms/step - loss: 0.8721 - sparse_categorical_accuracy: 1.0000\n",
      "Epoch 5/10\n",
      "5/5 [==============================] - 1s 222ms/step - loss: 0.8840 - sparse_categorical_accuracy: 0.9394\n",
      "Epoch 6/10\n",
      "5/5 [==============================] - 1s 218ms/step - loss: 0.6346 - sparse_categorical_accuracy: 0.9394\n",
      "Epoch 7/10\n",
      "5/5 [==============================] - 1s 219ms/step - loss: 0.8751 - sparse_categorical_accuracy: 0.8182\n",
      "Epoch 8/10\n",
      "5/5 [==============================] - 1s 217ms/step - loss: 0.8347 - sparse_categorical_accuracy: 0.9091\n",
      "Epoch 9/10\n",
      "5/5 [==============================] - 1s 218ms/step - loss: 0.9237 - sparse_categorical_accuracy: 0.7879\n",
      "Epoch 10/10\n",
      "5/5 [==============================] - 1s 219ms/step - loss: 0.8608 - sparse_categorical_accuracy: 0.7879\n"
     ]
    },
    {
     "name": "stderr",
     "output_type": "stream",
     "text": [
      "\r",
      "2it [00:41, 20.65s/it]"
     ]
    },
    {
     "name": "stdout",
     "output_type": "stream",
     "text": [
      "Epoch 1/10\n",
      "5/5 [==============================] - 1s 224ms/step - loss: 1.6585 - sparse_categorical_accuracy: 0.5758\n",
      "Epoch 2/10\n",
      "5/5 [==============================] - 1s 227ms/step - loss: 1.3039 - sparse_categorical_accuracy: 0.8182\n",
      "Epoch 3/10\n",
      "5/5 [==============================] - 1s 216ms/step - loss: 1.1445 - sparse_categorical_accuracy: 0.8788\n",
      "Epoch 4/10\n",
      "5/5 [==============================] - 1s 218ms/step - loss: 1.2096 - sparse_categorical_accuracy: 0.7576\n",
      "Epoch 5/10\n",
      "5/5 [==============================] - 1s 218ms/step - loss: 0.9665 - sparse_categorical_accuracy: 0.8485\n",
      "Epoch 6/10\n",
      "5/5 [==============================] - 1s 221ms/step - loss: 0.8519 - sparse_categorical_accuracy: 0.8182\n",
      "Epoch 7/10\n",
      "5/5 [==============================] - 1s 222ms/step - loss: 0.5420 - sparse_categorical_accuracy: 1.0000\n",
      "Epoch 8/10\n",
      "5/5 [==============================] - 1s 218ms/step - loss: 0.5769 - sparse_categorical_accuracy: 0.8788\n",
      "Epoch 9/10\n",
      "5/5 [==============================] - 1s 219ms/step - loss: 0.4739 - sparse_categorical_accuracy: 1.0000\n",
      "Epoch 10/10\n",
      "5/5 [==============================] - 1s 217ms/step - loss: 1.0155 - sparse_categorical_accuracy: 0.8182\n"
     ]
    },
    {
     "name": "stderr",
     "output_type": "stream",
     "text": [
      "\r",
      "3it [01:01, 20.59s/it]"
     ]
    },
    {
     "name": "stdout",
     "output_type": "stream",
     "text": [
      "Epoch 1/10\n",
      "5/5 [==============================] - 1s 230ms/step - loss: 1.3787 - sparse_categorical_accuracy: 0.5455\n",
      "Epoch 2/10\n",
      "5/5 [==============================] - 1s 217ms/step - loss: 1.1062 - sparse_categorical_accuracy: 0.8788\n",
      "Epoch 3/10\n",
      "5/5 [==============================] - 1s 216ms/step - loss: 0.9513 - sparse_categorical_accuracy: 0.9697\n",
      "Epoch 4/10\n",
      "5/5 [==============================] - 1s 221ms/step - loss: 1.0057 - sparse_categorical_accuracy: 0.9091\n",
      "Epoch 5/10\n",
      "5/5 [==============================] - 1s 218ms/step - loss: 1.1630 - sparse_categorical_accuracy: 0.8182\n",
      "Epoch 6/10\n",
      "5/5 [==============================] - 1s 221ms/step - loss: 0.6646 - sparse_categorical_accuracy: 0.9394\n",
      "Epoch 7/10\n",
      "5/5 [==============================] - 1s 222ms/step - loss: 0.6795 - sparse_categorical_accuracy: 0.8788\n",
      "Epoch 8/10\n",
      "5/5 [==============================] - 1s 218ms/step - loss: 1.0600 - sparse_categorical_accuracy: 0.7576\n",
      "Epoch 9/10\n",
      "5/5 [==============================] - 1s 218ms/step - loss: 0.5800 - sparse_categorical_accuracy: 0.9394\n",
      "Epoch 10/10\n",
      "5/5 [==============================] - 1s 219ms/step - loss: 0.4971 - sparse_categorical_accuracy: 0.9697\n"
     ]
    },
    {
     "name": "stderr",
     "output_type": "stream",
     "text": [
      "\r",
      "4it [01:22, 20.55s/it]"
     ]
    },
    {
     "name": "stdout",
     "output_type": "stream",
     "text": [
      "Epoch 1/10\n",
      "5/5 [==============================] - 1s 219ms/step - loss: 1.3090 - sparse_categorical_accuracy: 0.6667\n",
      "Epoch 2/10\n",
      "5/5 [==============================] - 1s 217ms/step - loss: 1.1462 - sparse_categorical_accuracy: 0.8182\n",
      "Epoch 3/10\n",
      "5/5 [==============================] - 1s 217ms/step - loss: 1.2076 - sparse_categorical_accuracy: 0.8788\n",
      "Epoch 4/10\n",
      "5/5 [==============================] - 1s 216ms/step - loss: 1.0181 - sparse_categorical_accuracy: 0.8788\n",
      "Epoch 5/10\n",
      "5/5 [==============================] - 1s 216ms/step - loss: 1.0081 - sparse_categorical_accuracy: 0.9091\n",
      "Epoch 6/10\n",
      "5/5 [==============================] - 1s 215ms/step - loss: 1.0616 - sparse_categorical_accuracy: 0.8182\n",
      "Epoch 7/10\n",
      "5/5 [==============================] - 1s 218ms/step - loss: 0.7666 - sparse_categorical_accuracy: 0.9091\n",
      "Epoch 8/10\n",
      "5/5 [==============================] - 1s 218ms/step - loss: 0.9494 - sparse_categorical_accuracy: 0.9091\n",
      "Epoch 9/10\n",
      "5/5 [==============================] - 1s 219ms/step - loss: 0.8496 - sparse_categorical_accuracy: 0.8788\n",
      "Epoch 10/10\n",
      "5/5 [==============================] - 1s 219ms/step - loss: 0.7154 - sparse_categorical_accuracy: 0.9091\n"
     ]
    },
    {
     "name": "stderr",
     "output_type": "stream",
     "text": [
      "\r",
      "5it [01:42, 20.49s/it]"
     ]
    },
    {
     "name": "stdout",
     "output_type": "stream",
     "text": [
      "Epoch 1/10\n",
      "5/5 [==============================] - 1s 230ms/step - loss: 1.3727 - sparse_categorical_accuracy: 0.6667\n",
      "Epoch 2/10\n",
      "5/5 [==============================] - 1s 217ms/step - loss: 1.2002 - sparse_categorical_accuracy: 0.8182\n",
      "Epoch 3/10\n",
      "5/5 [==============================] - 1s 216ms/step - loss: 1.6838 - sparse_categorical_accuracy: 0.7879\n",
      "Epoch 4/10\n",
      "5/5 [==============================] - 1s 222ms/step - loss: 1.3259 - sparse_categorical_accuracy: 0.8182\n",
      "Epoch 5/10\n",
      "5/5 [==============================] - 1s 222ms/step - loss: 1.1586 - sparse_categorical_accuracy: 0.7576\n",
      "Epoch 6/10\n",
      "5/5 [==============================] - 1s 216ms/step - loss: 0.8531 - sparse_categorical_accuracy: 0.9091\n",
      "Epoch 7/10\n",
      "5/5 [==============================] - 1s 215ms/step - loss: 0.7358 - sparse_categorical_accuracy: 0.9091\n",
      "Epoch 8/10\n",
      "5/5 [==============================] - 1s 216ms/step - loss: 1.0044 - sparse_categorical_accuracy: 0.7273\n",
      "Epoch 9/10\n",
      "5/5 [==============================] - 1s 219ms/step - loss: 0.7895 - sparse_categorical_accuracy: 0.9091\n",
      "Epoch 10/10\n",
      "5/5 [==============================] - 1s 220ms/step - loss: 0.6250 - sparse_categorical_accuracy: 0.9394\n"
     ]
    },
    {
     "name": "stderr",
     "output_type": "stream",
     "text": [
      "\r",
      "6it [02:02, 20.45s/it]"
     ]
    },
    {
     "name": "stdout",
     "output_type": "stream",
     "text": [
      "Epoch 1/10\n",
      "5/5 [==============================] - 1s 219ms/step - loss: 1.0641 - sparse_categorical_accuracy: 0.8485\n",
      "Epoch 2/10\n",
      "5/5 [==============================] - 1s 219ms/step - loss: 0.9315 - sparse_categorical_accuracy: 0.8485\n",
      "Epoch 3/10\n",
      "5/5 [==============================] - 1s 214ms/step - loss: 0.8910 - sparse_categorical_accuracy: 0.9697\n",
      "Epoch 4/10\n",
      "5/5 [==============================] - 1s 217ms/step - loss: 0.8577 - sparse_categorical_accuracy: 0.9091\n",
      "Epoch 5/10\n",
      "5/5 [==============================] - 1s 222ms/step - loss: 0.8957 - sparse_categorical_accuracy: 0.8788\n",
      "Epoch 6/10\n",
      "5/5 [==============================] - 1s 228ms/step - loss: 1.0256 - sparse_categorical_accuracy: 0.8485\n",
      "Epoch 7/10\n",
      "5/5 [==============================] - 1s 217ms/step - loss: 1.2636 - sparse_categorical_accuracy: 0.7273\n",
      "Epoch 8/10\n",
      "5/5 [==============================] - 1s 215ms/step - loss: 1.1439 - sparse_categorical_accuracy: 0.7576\n",
      "Epoch 9/10\n",
      "5/5 [==============================] - 1s 216ms/step - loss: 0.9210 - sparse_categorical_accuracy: 0.8182\n",
      "Epoch 10/10\n",
      "5/5 [==============================] - 1s 218ms/step - loss: 1.0530 - sparse_categorical_accuracy: 0.9091\n"
     ]
    },
    {
     "name": "stderr",
     "output_type": "stream",
     "text": [
      "\r",
      "7it [02:23, 20.42s/it]"
     ]
    },
    {
     "name": "stdout",
     "output_type": "stream",
     "text": [
      "Epoch 1/10\n",
      "5/5 [==============================] - 1s 215ms/step - loss: 1.3916 - sparse_categorical_accuracy: 0.6061\n",
      "Epoch 2/10\n",
      "5/5 [==============================] - 1s 213ms/step - loss: 0.9911 - sparse_categorical_accuracy: 0.8485\n",
      "Epoch 3/10\n",
      "5/5 [==============================] - 1s 219ms/step - loss: 1.1090 - sparse_categorical_accuracy: 0.8485\n",
      "Epoch 4/10\n",
      "5/5 [==============================] - 1s 220ms/step - loss: 1.1881 - sparse_categorical_accuracy: 0.8788\n",
      "Epoch 5/10\n",
      "5/5 [==============================] - 1s 215ms/step - loss: 1.0213 - sparse_categorical_accuracy: 0.7879\n",
      "Epoch 6/10\n",
      "5/5 [==============================] - 1s 214ms/step - loss: 0.9403 - sparse_categorical_accuracy: 0.8485\n",
      "Epoch 7/10\n",
      "5/5 [==============================] - 1s 214ms/step - loss: 0.6425 - sparse_categorical_accuracy: 0.9091\n",
      "Epoch 8/10\n",
      "5/5 [==============================] - 1s 226ms/step - loss: 0.8951 - sparse_categorical_accuracy: 0.7879\n",
      "Epoch 9/10\n",
      "5/5 [==============================] - 1s 229ms/step - loss: 0.7166 - sparse_categorical_accuracy: 0.8788\n",
      "Epoch 10/10\n",
      "5/5 [==============================] - 1s 225ms/step - loss: 0.7587 - sparse_categorical_accuracy: 0.8485\n"
     ]
    },
    {
     "name": "stderr",
     "output_type": "stream",
     "text": [
      "\r",
      "8it [02:43, 20.42s/it]"
     ]
    },
    {
     "name": "stdout",
     "output_type": "stream",
     "text": [
      "Epoch 1/10\n",
      "5/5 [==============================] - 1s 226ms/step - loss: 1.0121 - sparse_categorical_accuracy: 0.8182\n",
      "Epoch 2/10\n",
      "5/5 [==============================] - 1s 222ms/step - loss: 0.8659 - sparse_categorical_accuracy: 0.9394\n",
      "Epoch 3/10\n",
      "5/5 [==============================] - 1s 225ms/step - loss: 0.9731 - sparse_categorical_accuracy: 0.8788\n",
      "Epoch 4/10\n",
      "5/5 [==============================] - 1s 222ms/step - loss: 0.9238 - sparse_categorical_accuracy: 0.9394\n",
      "Epoch 5/10\n",
      "5/5 [==============================] - 1s 219ms/step - loss: 0.9238 - sparse_categorical_accuracy: 0.8485\n",
      "Epoch 6/10\n",
      "5/5 [==============================] - 1s 220ms/step - loss: 0.6635 - sparse_categorical_accuracy: 0.8788\n",
      "Epoch 7/10\n",
      "5/5 [==============================] - 1s 225ms/step - loss: 0.5779 - sparse_categorical_accuracy: 1.0000\n",
      "Epoch 8/10\n",
      "5/5 [==============================] - 1s 221ms/step - loss: 1.0593 - sparse_categorical_accuracy: 0.8182\n",
      "Epoch 9/10\n",
      "5/5 [==============================] - 1s 219ms/step - loss: 0.8420 - sparse_categorical_accuracy: 0.7576\n",
      "Epoch 10/10\n",
      "5/5 [==============================] - 1s 221ms/step - loss: 0.6555 - sparse_categorical_accuracy: 0.8485\n"
     ]
    },
    {
     "name": "stderr",
     "output_type": "stream",
     "text": [
      "\r",
      "9it [03:05, 20.94s/it]"
     ]
    },
    {
     "name": "stdout",
     "output_type": "stream",
     "text": [
      "Epoch 1/10\n",
      "5/5 [==============================] - 1s 223ms/step - loss: 1.3226 - sparse_categorical_accuracy: 0.6061\n",
      "Epoch 2/10\n",
      "5/5 [==============================] - 1s 218ms/step - loss: 1.3375 - sparse_categorical_accuracy: 0.7879\n",
      "Epoch 3/10\n",
      "5/5 [==============================] - 1s 221ms/step - loss: 1.1622 - sparse_categorical_accuracy: 0.7879\n",
      "Epoch 4/10\n",
      "5/5 [==============================] - 1s 218ms/step - loss: 0.9932 - sparse_categorical_accuracy: 0.9697\n",
      "Epoch 5/10\n",
      "5/5 [==============================] - 1s 226ms/step - loss: 0.8168 - sparse_categorical_accuracy: 0.9091\n",
      "Epoch 6/10\n",
      "5/5 [==============================] - 1s 219ms/step - loss: 0.6157 - sparse_categorical_accuracy: 0.9394\n",
      "Epoch 7/10\n",
      "5/5 [==============================] - 1s 219ms/step - loss: 0.8171 - sparse_categorical_accuracy: 0.7879\n",
      "Epoch 8/10\n",
      "5/5 [==============================] - 1s 219ms/step - loss: 1.2445 - sparse_categorical_accuracy: 0.6364\n",
      "Epoch 9/10\n",
      "5/5 [==============================] - 1s 222ms/step - loss: 0.8617 - sparse_categorical_accuracy: 0.7273\n",
      "Epoch 10/10\n",
      "5/5 [==============================] - 1s 224ms/step - loss: 0.9240 - sparse_categorical_accuracy: 0.8788\n"
     ]
    },
    {
     "name": "stderr",
     "output_type": "stream",
     "text": [
      "\r",
      "10it [03:26, 20.91s/it]"
     ]
    },
    {
     "name": "stdout",
     "output_type": "stream",
     "text": [
      "Epoch 1/10\n",
      "5/5 [==============================] - 1s 224ms/step - loss: 1.2120 - sparse_categorical_accuracy: 0.7273\n",
      "Epoch 2/10\n",
      "5/5 [==============================] - 1s 219ms/step - loss: 1.3025 - sparse_categorical_accuracy: 0.8485\n",
      "Epoch 3/10\n",
      "5/5 [==============================] - 1s 222ms/step - loss: 1.3034 - sparse_categorical_accuracy: 0.6970\n",
      "Epoch 4/10\n",
      "5/5 [==============================] - 1s 218ms/step - loss: 1.3315 - sparse_categorical_accuracy: 0.8485\n",
      "Epoch 5/10\n",
      "5/5 [==============================] - 1s 218ms/step - loss: 0.8873 - sparse_categorical_accuracy: 0.9394\n",
      "Epoch 6/10\n",
      "5/5 [==============================] - 1s 219ms/step - loss: 0.7879 - sparse_categorical_accuracy: 0.9394\n",
      "Epoch 7/10\n",
      "5/5 [==============================] - 1s 222ms/step - loss: 0.9150 - sparse_categorical_accuracy: 0.8485\n",
      "Epoch 8/10\n",
      "5/5 [==============================] - 1s 218ms/step - loss: 0.6612 - sparse_categorical_accuracy: 0.8788\n",
      "Epoch 9/10\n",
      "5/5 [==============================] - 1s 225ms/step - loss: 0.9877 - sparse_categorical_accuracy: 0.8182\n",
      "Epoch 10/10\n",
      "5/5 [==============================] - 1s 218ms/step - loss: 1.1904 - sparse_categorical_accuracy: 0.7273\n"
     ]
    },
    {
     "name": "stderr",
     "output_type": "stream",
     "text": [
      "\r",
      "11it [03:47, 20.84s/it]"
     ]
    },
    {
     "name": "stdout",
     "output_type": "stream",
     "text": [
      "Epoch 1/10\n",
      "5/5 [==============================] - 1s 225ms/step - loss: 1.1949 - sparse_categorical_accuracy: 0.6970\n",
      "Epoch 2/10\n",
      "5/5 [==============================] - 1s 222ms/step - loss: 1.1241 - sparse_categorical_accuracy: 0.8182\n",
      "Epoch 3/10\n",
      "5/5 [==============================] - 1s 217ms/step - loss: 1.0742 - sparse_categorical_accuracy: 0.7879\n",
      "Epoch 4/10\n",
      "5/5 [==============================] - 1s 217ms/step - loss: 1.0734 - sparse_categorical_accuracy: 0.8485\n",
      "Epoch 5/10\n",
      "5/5 [==============================] - 1s 219ms/step - loss: 1.1997 - sparse_categorical_accuracy: 0.7576\n",
      "Epoch 6/10\n",
      "5/5 [==============================] - 1s 220ms/step - loss: 0.9851 - sparse_categorical_accuracy: 0.8182\n",
      "Epoch 7/10\n",
      "5/5 [==============================] - 1s 221ms/step - loss: 0.7117 - sparse_categorical_accuracy: 0.9394\n",
      "Epoch 8/10\n",
      "5/5 [==============================] - 1s 216ms/step - loss: 0.8237 - sparse_categorical_accuracy: 0.9091\n",
      "Epoch 9/10\n",
      "5/5 [==============================] - 1s 218ms/step - loss: 0.7581 - sparse_categorical_accuracy: 0.8182\n",
      "Epoch 10/10\n",
      "5/5 [==============================] - 1s 217ms/step - loss: 0.5539 - sparse_categorical_accuracy: 0.9394\n"
     ]
    },
    {
     "name": "stderr",
     "output_type": "stream",
     "text": [
      "\r",
      "12it [04:07, 20.75s/it]"
     ]
    },
    {
     "name": "stdout",
     "output_type": "stream",
     "text": [
      "Epoch 1/10\n",
      "5/5 [==============================] - 1s 228ms/step - loss: 1.1180 - sparse_categorical_accuracy: 0.6970\n",
      "Epoch 2/10\n",
      "5/5 [==============================] - 1s 216ms/step - loss: 1.0307 - sparse_categorical_accuracy: 0.7879\n",
      "Epoch 3/10\n",
      "5/5 [==============================] - 1s 216ms/step - loss: 1.0925 - sparse_categorical_accuracy: 0.8788\n",
      "Epoch 4/10\n",
      "5/5 [==============================] - 1s 231ms/step - loss: 1.2727 - sparse_categorical_accuracy: 0.7576\n",
      "Epoch 5/10\n",
      "5/5 [==============================] - 1s 216ms/step - loss: 1.0964 - sparse_categorical_accuracy: 0.8788\n",
      "Epoch 6/10\n",
      "5/5 [==============================] - 1s 220ms/step - loss: 0.7745 - sparse_categorical_accuracy: 0.9091\n",
      "Epoch 7/10\n",
      "5/5 [==============================] - 1s 217ms/step - loss: 0.8182 - sparse_categorical_accuracy: 0.7879\n",
      "Epoch 8/10\n",
      "5/5 [==============================] - 1s 217ms/step - loss: 0.6194 - sparse_categorical_accuracy: 0.8788\n",
      "Epoch 9/10\n",
      "5/5 [==============================] - 1s 218ms/step - loss: 0.5409 - sparse_categorical_accuracy: 0.9394\n",
      "Epoch 10/10\n",
      "5/5 [==============================] - 1s 222ms/step - loss: 0.7862 - sparse_categorical_accuracy: 0.7576\n"
     ]
    },
    {
     "name": "stderr",
     "output_type": "stream",
     "text": [
      "\r",
      "13it [04:28, 20.68s/it]"
     ]
    },
    {
     "name": "stdout",
     "output_type": "stream",
     "text": [
      "Epoch 1/10\n",
      "5/5 [==============================] - 1s 223ms/step - loss: 1.3025 - sparse_categorical_accuracy: 0.5455\n",
      "Epoch 2/10\n",
      "5/5 [==============================] - 1s 215ms/step - loss: 1.2289 - sparse_categorical_accuracy: 0.8182\n",
      "Epoch 3/10\n",
      "5/5 [==============================] - 1s 216ms/step - loss: 1.1596 - sparse_categorical_accuracy: 0.8485\n",
      "Epoch 4/10\n",
      "5/5 [==============================] - 1s 216ms/step - loss: 1.0330 - sparse_categorical_accuracy: 0.8182\n",
      "Epoch 5/10\n",
      "5/5 [==============================] - 1s 222ms/step - loss: 1.0934 - sparse_categorical_accuracy: 0.7879\n",
      "Epoch 6/10\n",
      "5/5 [==============================] - 1s 217ms/step - loss: 0.8281 - sparse_categorical_accuracy: 0.8485\n",
      "Epoch 7/10\n",
      "5/5 [==============================] - 1s 221ms/step - loss: 0.6211 - sparse_categorical_accuracy: 0.9697\n",
      "Epoch 8/10\n",
      "5/5 [==============================] - 1s 217ms/step - loss: 0.8856 - sparse_categorical_accuracy: 0.8485\n",
      "Epoch 9/10\n",
      "5/5 [==============================] - 1s 223ms/step - loss: 1.1904 - sparse_categorical_accuracy: 0.6970\n",
      "Epoch 10/10\n",
      "5/5 [==============================] - 1s 217ms/step - loss: 0.6910 - sparse_categorical_accuracy: 0.9091\n"
     ]
    },
    {
     "name": "stderr",
     "output_type": "stream",
     "text": [
      "\r",
      "14it [04:48, 20.60s/it]"
     ]
    },
    {
     "name": "stdout",
     "output_type": "stream",
     "text": [
      "Epoch 1/10\n",
      "5/5 [==============================] - 1s 219ms/step - loss: 1.2022 - sparse_categorical_accuracy: 0.6364\n",
      "Epoch 2/10\n",
      "5/5 [==============================] - 1s 217ms/step - loss: 1.1235 - sparse_categorical_accuracy: 0.8788\n",
      "Epoch 3/10\n",
      "5/5 [==============================] - 1s 215ms/step - loss: 1.0682 - sparse_categorical_accuracy: 0.8182\n",
      "Epoch 4/10\n",
      "5/5 [==============================] - 1s 215ms/step - loss: 1.0391 - sparse_categorical_accuracy: 0.8788\n",
      "Epoch 5/10\n",
      "5/5 [==============================] - 1s 219ms/step - loss: 0.7639 - sparse_categorical_accuracy: 0.9697\n",
      "Epoch 6/10\n",
      "5/5 [==============================] - 1s 215ms/step - loss: 0.8723 - sparse_categorical_accuracy: 0.8485\n",
      "Epoch 7/10\n",
      "5/5 [==============================] - 1s 218ms/step - loss: 0.7311 - sparse_categorical_accuracy: 0.8182\n",
      "Epoch 8/10\n",
      "5/5 [==============================] - 1s 216ms/step - loss: 1.0273 - sparse_categorical_accuracy: 0.8485\n",
      "Epoch 9/10\n",
      "5/5 [==============================] - 1s 217ms/step - loss: 1.2878 - sparse_categorical_accuracy: 0.8182\n",
      "Epoch 10/10\n",
      "5/5 [==============================] - 1s 215ms/step - loss: 0.6785 - sparse_categorical_accuracy: 0.8485\n"
     ]
    },
    {
     "name": "stderr",
     "output_type": "stream",
     "text": [
      "\r",
      "15it [05:09, 20.53s/it]"
     ]
    },
    {
     "name": "stdout",
     "output_type": "stream",
     "text": [
      "Epoch 1/10\n",
      "5/5 [==============================] - 1s 221ms/step - loss: 1.3159 - sparse_categorical_accuracy: 0.6364\n",
      "Epoch 2/10\n",
      "5/5 [==============================] - 1s 215ms/step - loss: 1.1599 - sparse_categorical_accuracy: 0.8788\n",
      "Epoch 3/10\n",
      "5/5 [==============================] - 1s 229ms/step - loss: 1.1747 - sparse_categorical_accuracy: 0.8485\n",
      "Epoch 4/10\n",
      "5/5 [==============================] - 1s 220ms/step - loss: 1.4763 - sparse_categorical_accuracy: 0.8485\n",
      "Epoch 5/10\n",
      "5/5 [==============================] - 1s 216ms/step - loss: 1.3612 - sparse_categorical_accuracy: 0.7879\n",
      "Epoch 6/10\n",
      "5/5 [==============================] - 1s 219ms/step - loss: 0.8798 - sparse_categorical_accuracy: 0.9091\n",
      "Epoch 7/10\n",
      "5/5 [==============================] - 1s 216ms/step - loss: 1.1736 - sparse_categorical_accuracy: 0.8788\n",
      "Epoch 8/10\n",
      "5/5 [==============================] - 1s 225ms/step - loss: 0.8785 - sparse_categorical_accuracy: 0.7576\n",
      "Epoch 9/10\n",
      "5/5 [==============================] - 1s 219ms/step - loss: 0.9999 - sparse_categorical_accuracy: 0.7576\n",
      "Epoch 10/10\n",
      "5/5 [==============================] - 1s 217ms/step - loss: 0.8557 - sparse_categorical_accuracy: 0.8788\n"
     ]
    },
    {
     "name": "stderr",
     "output_type": "stream",
     "text": [
      "\r",
      "16it [05:29, 20.52s/it]"
     ]
    },
    {
     "name": "stdout",
     "output_type": "stream",
     "text": [
      "Epoch 1/10\n",
      "5/5 [==============================] - 1s 224ms/step - loss: 1.0727 - sparse_categorical_accuracy: 0.7576\n",
      "Epoch 2/10\n",
      "5/5 [==============================] - 1s 215ms/step - loss: 1.2746 - sparse_categorical_accuracy: 0.7879\n",
      "Epoch 3/10\n",
      "5/5 [==============================] - 1s 222ms/step - loss: 1.1804 - sparse_categorical_accuracy: 0.8485\n",
      "Epoch 4/10\n",
      "5/5 [==============================] - 1s 216ms/step - loss: 0.9133 - sparse_categorical_accuracy: 0.9394\n",
      "Epoch 5/10\n",
      "5/5 [==============================] - 1s 214ms/step - loss: 1.0399 - sparse_categorical_accuracy: 0.8485\n",
      "Epoch 6/10\n",
      "5/5 [==============================] - 1s 216ms/step - loss: 0.9646 - sparse_categorical_accuracy: 0.8485\n",
      "Epoch 7/10\n",
      "5/5 [==============================] - 1s 215ms/step - loss: 0.7465 - sparse_categorical_accuracy: 0.8788\n",
      "Epoch 8/10\n",
      "5/5 [==============================] - 1s 217ms/step - loss: 0.6938 - sparse_categorical_accuracy: 0.8788\n",
      "Epoch 9/10\n",
      "5/5 [==============================] - 1s 216ms/step - loss: 0.7611 - sparse_categorical_accuracy: 0.9394\n",
      "Epoch 10/10\n",
      "5/5 [==============================] - 1s 222ms/step - loss: 0.7369 - sparse_categorical_accuracy: 0.9091\n"
     ]
    },
    {
     "name": "stderr",
     "output_type": "stream",
     "text": [
      "\r",
      "17it [05:49, 20.49s/it]"
     ]
    },
    {
     "name": "stdout",
     "output_type": "stream",
     "text": [
      "Epoch 1/10\n",
      "5/5 [==============================] - 1s 224ms/step - loss: 1.3666 - sparse_categorical_accuracy: 0.6364\n",
      "Epoch 2/10\n",
      "5/5 [==============================] - 1s 216ms/step - loss: 1.1923 - sparse_categorical_accuracy: 0.7576\n",
      "Epoch 3/10\n",
      "5/5 [==============================] - 1s 214ms/step - loss: 1.2557 - sparse_categorical_accuracy: 0.8182\n",
      "Epoch 4/10\n",
      "5/5 [==============================] - 1s 214ms/step - loss: 1.2663 - sparse_categorical_accuracy: 0.7879\n",
      "Epoch 5/10\n",
      "5/5 [==============================] - 1s 219ms/step - loss: 1.0005 - sparse_categorical_accuracy: 0.8485\n",
      "Epoch 6/10\n",
      "5/5 [==============================] - 1s 228ms/step - loss: 0.8140 - sparse_categorical_accuracy: 0.8485\n",
      "Epoch 7/10\n",
      "5/5 [==============================] - 1s 215ms/step - loss: 0.7538 - sparse_categorical_accuracy: 0.8788\n",
      "Epoch 8/10\n",
      "5/5 [==============================] - 1s 216ms/step - loss: 0.5800 - sparse_categorical_accuracy: 0.9091\n",
      "Epoch 9/10\n",
      "5/5 [==============================] - 1s 216ms/step - loss: 0.9123 - sparse_categorical_accuracy: 0.8485\n",
      "Epoch 10/10\n",
      "5/5 [==============================] - 1s 216ms/step - loss: 0.7133 - sparse_categorical_accuracy: 0.8485\n"
     ]
    },
    {
     "name": "stderr",
     "output_type": "stream",
     "text": [
      "\r",
      "18it [06:10, 20.47s/it]"
     ]
    },
    {
     "name": "stdout",
     "output_type": "stream",
     "text": [
      "Epoch 1/10\n",
      "5/5 [==============================] - 1s 219ms/step - loss: 1.5751 - sparse_categorical_accuracy: 0.5455\n",
      "Epoch 2/10\n",
      "5/5 [==============================] - 1s 221ms/step - loss: 1.1175 - sparse_categorical_accuracy: 0.8182\n",
      "Epoch 3/10\n",
      "5/5 [==============================] - 1s 231ms/step - loss: 1.3525 - sparse_categorical_accuracy: 0.7879\n",
      "Epoch 4/10\n",
      "5/5 [==============================] - 1s 222ms/step - loss: 1.2002 - sparse_categorical_accuracy: 0.8485\n",
      "Epoch 5/10\n",
      "5/5 [==============================] - 1s 219ms/step - loss: 1.2482 - sparse_categorical_accuracy: 0.8182\n",
      "Epoch 6/10\n",
      "5/5 [==============================] - 1s 216ms/step - loss: 1.1493 - sparse_categorical_accuracy: 0.8182\n",
      "Epoch 7/10\n",
      "5/5 [==============================] - 1s 216ms/step - loss: 0.7951 - sparse_categorical_accuracy: 0.9091\n",
      "Epoch 8/10\n",
      "5/5 [==============================] - 1s 215ms/step - loss: 0.8925 - sparse_categorical_accuracy: 0.8182\n",
      "Epoch 9/10\n",
      "5/5 [==============================] - 1s 225ms/step - loss: 0.7058 - sparse_categorical_accuracy: 0.8485\n",
      "Epoch 10/10\n",
      "5/5 [==============================] - 1s 216ms/step - loss: 0.8353 - sparse_categorical_accuracy: 0.8788\n"
     ]
    },
    {
     "name": "stderr",
     "output_type": "stream",
     "text": [
      "\r",
      "19it [06:30, 20.49s/it]"
     ]
    },
    {
     "name": "stdout",
     "output_type": "stream",
     "text": [
      "Epoch 1/10\n",
      "5/5 [==============================] - 1s 227ms/step - loss: 1.1128 - sparse_categorical_accuracy: 0.7576\n",
      "Epoch 2/10\n",
      "5/5 [==============================] - 1s 229ms/step - loss: 1.2131 - sparse_categorical_accuracy: 0.7879\n",
      "Epoch 3/10\n",
      "5/5 [==============================] - 1s 225ms/step - loss: 1.1066 - sparse_categorical_accuracy: 0.8788\n",
      "Epoch 4/10\n",
      "5/5 [==============================] - 1s 228ms/step - loss: 1.1977 - sparse_categorical_accuracy: 0.8182\n",
      "Epoch 5/10\n",
      "5/5 [==============================] - 1s 224ms/step - loss: 0.9738 - sparse_categorical_accuracy: 0.8182\n",
      "Epoch 6/10\n",
      "5/5 [==============================] - 1s 225ms/step - loss: 0.9578 - sparse_categorical_accuracy: 0.8485\n",
      "Epoch 7/10\n",
      "5/5 [==============================] - 1s 225ms/step - loss: 0.7865 - sparse_categorical_accuracy: 0.8485\n",
      "Epoch 8/10\n",
      "5/5 [==============================] - 1s 232ms/step - loss: 0.6453 - sparse_categorical_accuracy: 0.8485\n",
      "Epoch 9/10\n",
      "5/5 [==============================] - 1s 238ms/step - loss: 0.7696 - sparse_categorical_accuracy: 0.9091\n",
      "Epoch 10/10\n",
      "5/5 [==============================] - 1s 225ms/step - loss: 0.8771 - sparse_categorical_accuracy: 0.8485\n"
     ]
    },
    {
     "name": "stderr",
     "output_type": "stream",
     "text": [
      "\r",
      "20it [06:53, 21.12s/it]"
     ]
    },
    {
     "name": "stdout",
     "output_type": "stream",
     "text": [
      "Epoch 1/10\n",
      "5/5 [==============================] - 1s 227ms/step - loss: 1.6197 - sparse_categorical_accuracy: 0.4848\n",
      "Epoch 2/10\n",
      "5/5 [==============================] - 1s 228ms/step - loss: 1.3674 - sparse_categorical_accuracy: 0.7273\n",
      "Epoch 3/10\n",
      "5/5 [==============================] - 1s 229ms/step - loss: 1.4965 - sparse_categorical_accuracy: 0.7879\n",
      "Epoch 4/10\n",
      "5/5 [==============================] - 1s 224ms/step - loss: 1.1028 - sparse_categorical_accuracy: 0.8485\n",
      "Epoch 5/10\n",
      "5/5 [==============================] - 1s 224ms/step - loss: 1.1437 - sparse_categorical_accuracy: 0.8182\n",
      "Epoch 6/10\n",
      "5/5 [==============================] - 1s 222ms/step - loss: 1.0012 - sparse_categorical_accuracy: 0.6667\n",
      "Epoch 7/10\n",
      "5/5 [==============================] - 1s 222ms/step - loss: 0.8410 - sparse_categorical_accuracy: 0.7576\n",
      "Epoch 8/10\n",
      "5/5 [==============================] - 1s 225ms/step - loss: 0.6810 - sparse_categorical_accuracy: 0.8788\n",
      "Epoch 9/10\n",
      "5/5 [==============================] - 1s 222ms/step - loss: 0.7531 - sparse_categorical_accuracy: 0.9394\n",
      "Epoch 10/10\n",
      "5/5 [==============================] - 1s 230ms/step - loss: 0.9217 - sparse_categorical_accuracy: 0.7576\n"
     ]
    },
    {
     "name": "stderr",
     "output_type": "stream",
     "text": [
      "\r",
      "21it [07:14, 21.06s/it]"
     ]
    },
    {
     "name": "stdout",
     "output_type": "stream",
     "text": [
      "Epoch 1/10\n",
      "5/5 [==============================] - 1s 236ms/step - loss: 1.1814 - sparse_categorical_accuracy: 0.7273\n",
      "Epoch 2/10\n",
      "5/5 [==============================] - 1s 224ms/step - loss: 1.3611 - sparse_categorical_accuracy: 0.7879\n",
      "Epoch 3/10\n",
      "5/5 [==============================] - 1s 221ms/step - loss: 1.0283 - sparse_categorical_accuracy: 0.9091\n",
      "Epoch 4/10\n",
      "5/5 [==============================] - 1s 228ms/step - loss: 1.0697 - sparse_categorical_accuracy: 0.8485\n",
      "Epoch 5/10\n",
      "5/5 [==============================] - 1s 226ms/step - loss: 0.9216 - sparse_categorical_accuracy: 0.8182\n",
      "Epoch 6/10\n",
      "5/5 [==============================] - 1s 225ms/step - loss: 0.8466 - sparse_categorical_accuracy: 0.8182\n",
      "Epoch 7/10\n",
      "5/5 [==============================] - 1s 229ms/step - loss: 0.6531 - sparse_categorical_accuracy: 0.8788\n",
      "Epoch 8/10\n",
      "5/5 [==============================] - 1s 229ms/step - loss: 0.6675 - sparse_categorical_accuracy: 0.8485\n",
      "Epoch 9/10\n",
      "5/5 [==============================] - 1s 223ms/step - loss: 0.9768 - sparse_categorical_accuracy: 0.8485\n",
      "Epoch 10/10\n",
      "5/5 [==============================] - 1s 223ms/step - loss: 0.7164 - sparse_categorical_accuracy: 0.8182\n"
     ]
    },
    {
     "name": "stderr",
     "output_type": "stream",
     "text": [
      "\r",
      "22it [07:35, 21.09s/it]"
     ]
    },
    {
     "name": "stdout",
     "output_type": "stream",
     "text": [
      "Epoch 1/10\n",
      "5/5 [==============================] - 1s 229ms/step - loss: 1.2363 - sparse_categorical_accuracy: 0.6364\n",
      "Epoch 2/10\n",
      "5/5 [==============================] - 1s 225ms/step - loss: 1.1426 - sparse_categorical_accuracy: 0.8485\n",
      "Epoch 3/10\n",
      "5/5 [==============================] - 1s 222ms/step - loss: 1.1227 - sparse_categorical_accuracy: 0.8485\n",
      "Epoch 4/10\n",
      "5/5 [==============================] - 1s 226ms/step - loss: 1.2126 - sparse_categorical_accuracy: 0.7879\n",
      "Epoch 5/10\n",
      "5/5 [==============================] - 1s 225ms/step - loss: 0.9944 - sparse_categorical_accuracy: 0.8182\n",
      "Epoch 6/10\n",
      "5/5 [==============================] - 1s 222ms/step - loss: 0.7224 - sparse_categorical_accuracy: 0.9394\n",
      "Epoch 7/10\n",
      "5/5 [==============================] - 1s 235ms/step - loss: 1.1112 - sparse_categorical_accuracy: 0.7879\n",
      "Epoch 8/10\n",
      "5/5 [==============================] - 1s 229ms/step - loss: 0.5233 - sparse_categorical_accuracy: 0.9697\n",
      "Epoch 9/10\n",
      "5/5 [==============================] - 1s 221ms/step - loss: 0.4855 - sparse_categorical_accuracy: 1.0000\n",
      "Epoch 10/10\n",
      "5/5 [==============================] - 1s 223ms/step - loss: 0.6971 - sparse_categorical_accuracy: 0.8485\n"
     ]
    },
    {
     "name": "stderr",
     "output_type": "stream",
     "text": [
      "\r",
      "23it [07:56, 21.09s/it]"
     ]
    },
    {
     "name": "stdout",
     "output_type": "stream",
     "text": [
      "Epoch 1/10\n",
      "5/5 [==============================] - 1s 225ms/step - loss: 1.0777 - sparse_categorical_accuracy: 0.6061\n",
      "Epoch 2/10\n",
      "5/5 [==============================] - 1s 229ms/step - loss: 0.8485 - sparse_categorical_accuracy: 0.9697\n",
      "Epoch 3/10\n",
      "5/5 [==============================] - 1s 225ms/step - loss: 1.2510 - sparse_categorical_accuracy: 0.8788\n",
      "Epoch 4/10\n",
      "5/5 [==============================] - 1s 225ms/step - loss: 1.0478 - sparse_categorical_accuracy: 0.8182\n",
      "Epoch 5/10\n",
      "5/5 [==============================] - 1s 225ms/step - loss: 1.0225 - sparse_categorical_accuracy: 0.7879\n",
      "Epoch 6/10\n",
      "5/5 [==============================] - 1s 225ms/step - loss: 0.6933 - sparse_categorical_accuracy: 0.9091\n",
      "Epoch 7/10\n",
      "5/5 [==============================] - 1s 221ms/step - loss: 0.5478 - sparse_categorical_accuracy: 1.0000\n",
      "Epoch 8/10\n",
      "5/5 [==============================] - 1s 226ms/step - loss: 1.0263 - sparse_categorical_accuracy: 0.8182\n",
      "Epoch 9/10\n",
      "5/5 [==============================] - 1s 225ms/step - loss: 0.5955 - sparse_categorical_accuracy: 0.9091\n",
      "Epoch 10/10\n",
      "5/5 [==============================] - 1s 225ms/step - loss: 0.7551 - sparse_categorical_accuracy: 0.8788\n"
     ]
    },
    {
     "name": "stderr",
     "output_type": "stream",
     "text": [
      "\r",
      "24it [08:17, 21.01s/it]"
     ]
    },
    {
     "name": "stdout",
     "output_type": "stream",
     "text": [
      "Epoch 1/10\n",
      "5/5 [==============================] - 1s 222ms/step - loss: 1.1906 - sparse_categorical_accuracy: 0.6667\n",
      "Epoch 2/10\n",
      "5/5 [==============================] - 1s 225ms/step - loss: 1.0884 - sparse_categorical_accuracy: 0.8788\n",
      "Epoch 3/10\n",
      "5/5 [==============================] - 1s 220ms/step - loss: 1.2560 - sparse_categorical_accuracy: 0.8485\n",
      "Epoch 4/10\n",
      "5/5 [==============================] - 1s 221ms/step - loss: 1.2419 - sparse_categorical_accuracy: 0.8182\n",
      "Epoch 5/10\n",
      "5/5 [==============================] - 1s 220ms/step - loss: 1.1888 - sparse_categorical_accuracy: 0.7273\n",
      "Epoch 6/10\n",
      "5/5 [==============================] - 1s 222ms/step - loss: 0.9254 - sparse_categorical_accuracy: 0.8182\n",
      "Epoch 7/10\n",
      "5/5 [==============================] - 1s 221ms/step - loss: 1.0662 - sparse_categorical_accuracy: 0.7576\n",
      "Epoch 8/10\n",
      "5/5 [==============================] - 1s 222ms/step - loss: 0.8140 - sparse_categorical_accuracy: 0.7879\n",
      "Epoch 9/10\n",
      "5/5 [==============================] - 1s 226ms/step - loss: 0.8135 - sparse_categorical_accuracy: 0.8788\n",
      "Epoch 10/10\n",
      "5/5 [==============================] - 1s 225ms/step - loss: 1.1085 - sparse_categorical_accuracy: 0.7576\n"
     ]
    },
    {
     "name": "stderr",
     "output_type": "stream",
     "text": [
      "\r",
      "25it [08:38, 20.93s/it]"
     ]
    },
    {
     "name": "stdout",
     "output_type": "stream",
     "text": [
      "Epoch 1/10\n",
      "5/5 [==============================] - 1s 222ms/step - loss: 1.2693 - sparse_categorical_accuracy: 0.6364\n",
      "Epoch 2/10\n",
      "5/5 [==============================] - 1s 220ms/step - loss: 1.3131 - sparse_categorical_accuracy: 0.6667\n",
      "Epoch 3/10\n",
      "5/5 [==============================] - 1s 226ms/step - loss: 1.1933 - sparse_categorical_accuracy: 0.8182\n",
      "Epoch 4/10\n",
      "5/5 [==============================] - 1s 225ms/step - loss: 1.0168 - sparse_categorical_accuracy: 0.8788\n",
      "Epoch 5/10\n",
      "5/5 [==============================] - 1s 218ms/step - loss: 0.7737 - sparse_categorical_accuracy: 0.9394\n",
      "Epoch 6/10\n",
      "5/5 [==============================] - 1s 231ms/step - loss: 0.8462 - sparse_categorical_accuracy: 0.8485\n",
      "Epoch 7/10\n",
      "5/5 [==============================] - 1s 226ms/step - loss: 0.6848 - sparse_categorical_accuracy: 0.8788\n",
      "Epoch 8/10\n",
      "5/5 [==============================] - 1s 220ms/step - loss: 0.9468 - sparse_categorical_accuracy: 0.7273\n",
      "Epoch 9/10\n",
      "5/5 [==============================] - 1s 222ms/step - loss: 0.6970 - sparse_categorical_accuracy: 0.8485\n",
      "Epoch 10/10\n",
      "5/5 [==============================] - 1s 222ms/step - loss: 0.4856 - sparse_categorical_accuracy: 0.9394\n"
     ]
    },
    {
     "name": "stderr",
     "output_type": "stream",
     "text": [
      "\r",
      "26it [08:59, 20.92s/it]"
     ]
    },
    {
     "name": "stdout",
     "output_type": "stream",
     "text": [
      "Epoch 1/10\n",
      "5/5 [==============================] - 1s 222ms/step - loss: 0.9976 - sparse_categorical_accuracy: 0.7879\n",
      "Epoch 2/10\n",
      "5/5 [==============================] - 1s 219ms/step - loss: 1.1258 - sparse_categorical_accuracy: 0.8182\n",
      "Epoch 3/10\n",
      "5/5 [==============================] - 1s 219ms/step - loss: 1.5518 - sparse_categorical_accuracy: 0.7273\n",
      "Epoch 4/10\n",
      "5/5 [==============================] - 1s 225ms/step - loss: 1.0448 - sparse_categorical_accuracy: 0.9091\n",
      "Epoch 5/10\n",
      "5/5 [==============================] - 1s 223ms/step - loss: 0.7714 - sparse_categorical_accuracy: 0.9394\n",
      "Epoch 6/10\n",
      "5/5 [==============================] - 1s 219ms/step - loss: 0.8459 - sparse_categorical_accuracy: 0.9091\n",
      "Epoch 7/10\n",
      "5/5 [==============================] - 1s 225ms/step - loss: 0.9439 - sparse_categorical_accuracy: 0.7879\n",
      "Epoch 8/10\n",
      "5/5 [==============================] - 1s 225ms/step - loss: 0.5826 - sparse_categorical_accuracy: 0.9394\n",
      "Epoch 9/10\n",
      "5/5 [==============================] - 1s 225ms/step - loss: 0.7512 - sparse_categorical_accuracy: 0.8788\n",
      "Epoch 10/10\n",
      "5/5 [==============================] - 1s 225ms/step - loss: 0.9132 - sparse_categorical_accuracy: 0.8788\n"
     ]
    },
    {
     "name": "stderr",
     "output_type": "stream",
     "text": [
      "\r",
      "27it [09:19, 20.85s/it]"
     ]
    },
    {
     "name": "stdout",
     "output_type": "stream",
     "text": [
      "Epoch 1/10\n",
      "5/5 [==============================] - 1s 238ms/step - loss: 1.0558 - sparse_categorical_accuracy: 0.6667\n",
      "Epoch 2/10\n",
      "5/5 [==============================] - 1s 219ms/step - loss: 1.1984 - sparse_categorical_accuracy: 0.8182\n",
      "Epoch 3/10\n",
      "5/5 [==============================] - 1s 223ms/step - loss: 1.1633 - sparse_categorical_accuracy: 0.8788\n",
      "Epoch 4/10\n",
      "5/5 [==============================] - 1s 218ms/step - loss: 0.9229 - sparse_categorical_accuracy: 0.9394\n",
      "Epoch 5/10\n",
      "5/5 [==============================] - 1s 219ms/step - loss: 1.1152 - sparse_categorical_accuracy: 0.9091\n",
      "Epoch 6/10\n",
      "5/5 [==============================] - 1s 220ms/step - loss: 0.6160 - sparse_categorical_accuracy: 0.9697\n",
      "Epoch 7/10\n",
      "5/5 [==============================] - 1s 221ms/step - loss: 0.9145 - sparse_categorical_accuracy: 0.7879\n",
      "Epoch 8/10\n",
      "5/5 [==============================] - 1s 223ms/step - loss: 1.0671 - sparse_categorical_accuracy: 0.8182\n",
      "Epoch 9/10\n",
      "5/5 [==============================] - 1s 221ms/step - loss: 0.8356 - sparse_categorical_accuracy: 0.8182\n",
      "Epoch 10/10\n",
      "5/5 [==============================] - 1s 219ms/step - loss: 0.5992 - sparse_categorical_accuracy: 0.9091\n"
     ]
    },
    {
     "name": "stderr",
     "output_type": "stream",
     "text": [
      "\r",
      "28it [09:40, 20.84s/it]"
     ]
    },
    {
     "name": "stdout",
     "output_type": "stream",
     "text": [
      "Epoch 1/10\n",
      "5/5 [==============================] - 1s 231ms/step - loss: 1.4370 - sparse_categorical_accuracy: 0.5455\n",
      "Epoch 2/10\n",
      "5/5 [==============================] - 1s 222ms/step - loss: 1.4113 - sparse_categorical_accuracy: 0.5455\n",
      "Epoch 3/10\n",
      "5/5 [==============================] - 1s 222ms/step - loss: 1.2150 - sparse_categorical_accuracy: 0.8182\n",
      "Epoch 4/10\n",
      "5/5 [==============================] - 1s 221ms/step - loss: 1.1590 - sparse_categorical_accuracy: 0.8485\n",
      "Epoch 5/10\n",
      "5/5 [==============================] - 1s 235ms/step - loss: 0.8950 - sparse_categorical_accuracy: 0.9697\n",
      "Epoch 6/10\n",
      "5/5 [==============================] - 1s 224ms/step - loss: 0.7582 - sparse_categorical_accuracy: 0.9394\n",
      "Epoch 7/10\n",
      "5/5 [==============================] - 1s 225ms/step - loss: 0.6199 - sparse_categorical_accuracy: 0.9394\n",
      "Epoch 8/10\n",
      "5/5 [==============================] - 1s 223ms/step - loss: 0.6978 - sparse_categorical_accuracy: 0.9394\n",
      "Epoch 9/10\n",
      "5/5 [==============================] - 1s 224ms/step - loss: 0.8033 - sparse_categorical_accuracy: 0.8485\n",
      "Epoch 10/10\n",
      "5/5 [==============================] - 1s 223ms/step - loss: 0.8268 - sparse_categorical_accuracy: 0.8182\n"
     ]
    },
    {
     "name": "stderr",
     "output_type": "stream",
     "text": [
      "\r",
      "29it [10:01, 20.87s/it]"
     ]
    },
    {
     "name": "stdout",
     "output_type": "stream",
     "text": [
      "Epoch 1/10\n",
      "5/5 [==============================] - 1s 221ms/step - loss: 1.3282 - sparse_categorical_accuracy: 0.6364\n",
      "Epoch 2/10\n",
      "5/5 [==============================] - 1s 218ms/step - loss: 1.2330 - sparse_categorical_accuracy: 0.7273\n",
      "Epoch 3/10\n",
      "5/5 [==============================] - 1s 222ms/step - loss: 1.0468 - sparse_categorical_accuracy: 0.8485\n",
      "Epoch 4/10\n",
      "5/5 [==============================] - 1s 225ms/step - loss: 1.0001 - sparse_categorical_accuracy: 0.9091\n",
      "Epoch 5/10\n",
      "5/5 [==============================] - 1s 219ms/step - loss: 0.9345 - sparse_categorical_accuracy: 0.8788\n",
      "Epoch 6/10\n",
      "5/5 [==============================] - 1s 220ms/step - loss: 0.6953 - sparse_categorical_accuracy: 0.9394\n",
      "Epoch 7/10\n",
      "5/5 [==============================] - 1s 219ms/step - loss: 0.7167 - sparse_categorical_accuracy: 0.7879\n",
      "Epoch 8/10\n",
      "5/5 [==============================] - 1s 219ms/step - loss: 1.1300 - sparse_categorical_accuracy: 0.7879\n",
      "Epoch 9/10\n",
      "5/5 [==============================] - 1s 219ms/step - loss: 0.8153 - sparse_categorical_accuracy: 0.8182\n",
      "Epoch 10/10\n",
      "5/5 [==============================] - 1s 230ms/step - loss: 0.5884 - sparse_categorical_accuracy: 0.8788\n"
     ]
    },
    {
     "name": "stderr",
     "output_type": "stream",
     "text": [
      "\r",
      "30it [10:22, 20.85s/it]"
     ]
    },
    {
     "name": "stdout",
     "output_type": "stream",
     "text": [
      "Epoch 1/10\n",
      "5/5 [==============================] - 1s 231ms/step - loss: 1.1736 - sparse_categorical_accuracy: 0.6667\n",
      "Epoch 2/10\n",
      "5/5 [==============================] - 1s 229ms/step - loss: 1.2214 - sparse_categorical_accuracy: 0.7879\n",
      "Epoch 3/10\n",
      "5/5 [==============================] - 1s 227ms/step - loss: 1.1714 - sparse_categorical_accuracy: 0.8788\n",
      "Epoch 4/10\n",
      "5/5 [==============================] - 1s 232ms/step - loss: 1.0862 - sparse_categorical_accuracy: 0.8485\n",
      "Epoch 5/10\n",
      "5/5 [==============================] - 1s 232ms/step - loss: 1.1065 - sparse_categorical_accuracy: 0.8182\n",
      "Epoch 6/10\n",
      "5/5 [==============================] - 1s 225ms/step - loss: 0.9629 - sparse_categorical_accuracy: 0.8485\n",
      "Epoch 7/10\n",
      "5/5 [==============================] - 1s 232ms/step - loss: 0.9642 - sparse_categorical_accuracy: 0.8485\n",
      "Epoch 8/10\n",
      "5/5 [==============================] - 1s 227ms/step - loss: 0.7053 - sparse_categorical_accuracy: 0.8788\n",
      "Epoch 9/10\n",
      "5/5 [==============================] - 1s 226ms/step - loss: 0.5694 - sparse_categorical_accuracy: 0.9394\n",
      "Epoch 10/10\n",
      "5/5 [==============================] - 1s 235ms/step - loss: 0.7319 - sparse_categorical_accuracy: 0.8485\n"
     ]
    },
    {
     "name": "stderr",
     "output_type": "stream",
     "text": [
      "\r",
      "31it [10:45, 21.46s/it]"
     ]
    },
    {
     "name": "stdout",
     "output_type": "stream",
     "text": [
      "Epoch 1/10\n",
      "5/5 [==============================] - 1s 227ms/step - loss: 1.3065 - sparse_categorical_accuracy: 0.5455\n",
      "Epoch 2/10\n",
      "5/5 [==============================] - 1s 238ms/step - loss: 1.1328 - sparse_categorical_accuracy: 0.8182\n",
      "Epoch 3/10\n",
      "5/5 [==============================] - 1s 228ms/step - loss: 1.2260 - sparse_categorical_accuracy: 0.7879\n",
      "Epoch 4/10\n",
      "5/5 [==============================] - 1s 231ms/step - loss: 1.2300 - sparse_categorical_accuracy: 0.8182\n",
      "Epoch 5/10\n",
      "5/5 [==============================] - 1s 225ms/step - loss: 0.8393 - sparse_categorical_accuracy: 0.8788\n",
      "Epoch 6/10\n",
      "5/5 [==============================] - 1s 232ms/step - loss: 0.7226 - sparse_categorical_accuracy: 0.8788\n",
      "Epoch 7/10\n",
      "5/5 [==============================] - 1s 232ms/step - loss: 0.7896 - sparse_categorical_accuracy: 0.9091\n",
      "Epoch 8/10\n",
      "5/5 [==============================] - 1s 226ms/step - loss: 0.6226 - sparse_categorical_accuracy: 0.8788\n",
      "Epoch 9/10\n",
      "5/5 [==============================] - 1s 242ms/step - loss: 1.0852 - sparse_categorical_accuracy: 0.8182\n",
      "Epoch 10/10\n",
      "5/5 [==============================] - 1s 229ms/step - loss: 0.6325 - sparse_categorical_accuracy: 0.8485\n"
     ]
    },
    {
     "name": "stderr",
     "output_type": "stream",
     "text": [
      "\r",
      "32it [11:06, 21.46s/it]"
     ]
    },
    {
     "name": "stdout",
     "output_type": "stream",
     "text": [
      "Epoch 1/10\n",
      "5/5 [==============================] - 1s 227ms/step - loss: 1.2439 - sparse_categorical_accuracy: 0.6061\n",
      "Epoch 2/10\n",
      "5/5 [==============================] - 1s 228ms/step - loss: 1.1220 - sparse_categorical_accuracy: 0.8182\n",
      "Epoch 3/10\n",
      "5/5 [==============================] - 1s 228ms/step - loss: 0.9967 - sparse_categorical_accuracy: 0.9394\n",
      "Epoch 4/10\n",
      "5/5 [==============================] - 1s 232ms/step - loss: 1.1992 - sparse_categorical_accuracy: 0.8182\n",
      "Epoch 5/10\n",
      "5/5 [==============================] - 1s 228ms/step - loss: 0.8965 - sparse_categorical_accuracy: 0.8182\n",
      "Epoch 6/10\n",
      "5/5 [==============================] - 1s 229ms/step - loss: 0.9340 - sparse_categorical_accuracy: 0.8182\n",
      "Epoch 7/10\n",
      "5/5 [==============================] - 1s 245ms/step - loss: 0.7629 - sparse_categorical_accuracy: 0.8788\n",
      "Epoch 8/10\n",
      "5/5 [==============================] - 1s 224ms/step - loss: 0.7260 - sparse_categorical_accuracy: 0.8485\n",
      "Epoch 9/10\n",
      "5/5 [==============================] - 1s 231ms/step - loss: 0.7595 - sparse_categorical_accuracy: 0.8485\n",
      "Epoch 10/10\n",
      "5/5 [==============================] - 1s 233ms/step - loss: 0.7221 - sparse_categorical_accuracy: 0.8182\n"
     ]
    },
    {
     "name": "stderr",
     "output_type": "stream",
     "text": [
      "\r",
      "33it [11:28, 21.43s/it]"
     ]
    },
    {
     "name": "stdout",
     "output_type": "stream",
     "text": [
      "Epoch 1/10\n",
      "5/5 [==============================] - 1s 227ms/step - loss: 1.1650 - sparse_categorical_accuracy: 0.6667\n",
      "Epoch 2/10\n",
      "5/5 [==============================] - 1s 228ms/step - loss: 1.3744 - sparse_categorical_accuracy: 0.7576\n",
      "Epoch 3/10\n",
      "5/5 [==============================] - 1s 229ms/step - loss: 1.5983 - sparse_categorical_accuracy: 0.6364\n",
      "Epoch 4/10\n",
      "5/5 [==============================] - 1s 223ms/step - loss: 1.0406 - sparse_categorical_accuracy: 0.9394\n",
      "Epoch 5/10\n",
      "5/5 [==============================] - 1s 229ms/step - loss: 0.7611 - sparse_categorical_accuracy: 0.9697\n",
      "Epoch 6/10\n",
      "5/5 [==============================] - 1s 224ms/step - loss: 0.8320 - sparse_categorical_accuracy: 0.8788\n",
      "Epoch 7/10\n",
      "5/5 [==============================] - 1s 224ms/step - loss: 0.7063 - sparse_categorical_accuracy: 0.8788\n",
      "Epoch 8/10\n",
      "5/5 [==============================] - 1s 232ms/step - loss: 0.6336 - sparse_categorical_accuracy: 0.9091\n",
      "Epoch 9/10\n",
      "5/5 [==============================] - 1s 225ms/step - loss: 0.7087 - sparse_categorical_accuracy: 0.8485\n",
      "Epoch 10/10\n",
      "5/5 [==============================] - 1s 232ms/step - loss: 0.5421 - sparse_categorical_accuracy: 0.9394\n"
     ]
    },
    {
     "name": "stderr",
     "output_type": "stream",
     "text": [
      "34it [11:49, 20.86s/it]\n",
      "0it [00:00, ?it/s]"
     ]
    },
    {
     "name": "stdout",
     "output_type": "stream",
     "text": [
      "Epoch 1/10\n",
      "4/4 [==============================] - 1s 233ms/step - loss: 1.5166 - sparse_categorical_accuracy: 0.4828\n",
      "Epoch 2/10\n",
      "4/4 [==============================] - 1s 227ms/step - loss: 1.4054 - sparse_categorical_accuracy: 0.5862\n",
      "Epoch 3/10\n",
      "4/4 [==============================] - 1s 228ms/step - loss: 1.8168 - sparse_categorical_accuracy: 0.3793\n",
      "Epoch 4/10\n",
      "4/4 [==============================] - 1s 227ms/step - loss: 1.6770 - sparse_categorical_accuracy: 0.4828\n",
      "Epoch 5/10\n",
      "4/4 [==============================] - 1s 229ms/step - loss: 1.5253 - sparse_categorical_accuracy: 0.5517\n",
      "Epoch 6/10\n",
      "4/4 [==============================] - 1s 231ms/step - loss: 1.4605 - sparse_categorical_accuracy: 0.7241\n",
      "Epoch 7/10\n",
      "4/4 [==============================] - 1s 229ms/step - loss: 1.2549 - sparse_categorical_accuracy: 0.6552\n",
      "Epoch 8/10\n",
      "4/4 [==============================] - 1s 228ms/step - loss: 1.1313 - sparse_categorical_accuracy: 0.7931\n",
      "Epoch 9/10\n",
      "4/4 [==============================] - 1s 229ms/step - loss: 1.2108 - sparse_categorical_accuracy: 0.6897\n",
      "Epoch 10/10\n",
      "4/4 [==============================] - 1s 231ms/step - loss: 1.0900 - sparse_categorical_accuracy: 0.6897\n"
     ]
    },
    {
     "name": "stderr",
     "output_type": "stream",
     "text": [
      "\r",
      "1it [00:18, 18.85s/it]"
     ]
    },
    {
     "name": "stdout",
     "output_type": "stream",
     "text": [
      "Epoch 1/10\n",
      "4/4 [==============================] - 1s 235ms/step - loss: 1.5382 - sparse_categorical_accuracy: 0.4138\n",
      "Epoch 2/10\n",
      "4/4 [==============================] - 1s 227ms/step - loss: 1.4469 - sparse_categorical_accuracy: 0.5862\n",
      "Epoch 3/10\n",
      "4/4 [==============================] - 1s 231ms/step - loss: 1.6735 - sparse_categorical_accuracy: 0.4828\n",
      "Epoch 4/10\n",
      "4/4 [==============================] - 1s 228ms/step - loss: 1.7270 - sparse_categorical_accuracy: 0.6207\n",
      "Epoch 5/10\n",
      "4/4 [==============================] - 1s 229ms/step - loss: 1.6285 - sparse_categorical_accuracy: 0.6207\n",
      "Epoch 6/10\n",
      "4/4 [==============================] - 1s 229ms/step - loss: 1.4680 - sparse_categorical_accuracy: 0.5517\n",
      "Epoch 7/10\n",
      "4/4 [==============================] - 1s 243ms/step - loss: 1.4705 - sparse_categorical_accuracy: 0.4483\n",
      "Epoch 8/10\n",
      "4/4 [==============================] - 1s 229ms/step - loss: 1.3607 - sparse_categorical_accuracy: 0.5172\n",
      "Epoch 9/10\n",
      "4/4 [==============================] - 1s 228ms/step - loss: 1.4660 - sparse_categorical_accuracy: 0.5172\n",
      "Epoch 10/10\n",
      "4/4 [==============================] - 1s 229ms/step - loss: 1.4246 - sparse_categorical_accuracy: 0.4138\n"
     ]
    },
    {
     "name": "stderr",
     "output_type": "stream",
     "text": [
      "\r",
      "2it [00:37, 18.84s/it]"
     ]
    },
    {
     "name": "stdout",
     "output_type": "stream",
     "text": [
      "Epoch 1/10\n",
      "4/4 [==============================] - 1s 227ms/step - loss: 1.2411 - sparse_categorical_accuracy: 0.5172\n",
      "Epoch 2/10\n",
      "4/4 [==============================] - 1s 227ms/step - loss: 1.2437 - sparse_categorical_accuracy: 0.5862\n",
      "Epoch 3/10\n",
      "4/4 [==============================] - 1s 229ms/step - loss: 1.5733 - sparse_categorical_accuracy: 0.6207\n",
      "Epoch 4/10\n",
      "4/4 [==============================] - 1s 226ms/step - loss: 1.4178 - sparse_categorical_accuracy: 0.6897\n",
      "Epoch 5/10\n",
      "4/4 [==============================] - 1s 226ms/step - loss: 1.4567 - sparse_categorical_accuracy: 0.5862\n",
      "Epoch 6/10\n",
      "4/4 [==============================] - 1s 228ms/step - loss: 1.5597 - sparse_categorical_accuracy: 0.6207\n",
      "Epoch 7/10\n",
      "4/4 [==============================] - 1s 225ms/step - loss: 1.3572 - sparse_categorical_accuracy: 0.5517\n",
      "Epoch 8/10\n",
      "4/4 [==============================] - 1s 226ms/step - loss: 1.2969 - sparse_categorical_accuracy: 0.6897\n",
      "Epoch 9/10\n",
      "4/4 [==============================] - 1s 227ms/step - loss: 1.2345 - sparse_categorical_accuracy: 0.5862\n",
      "Epoch 10/10\n",
      "4/4 [==============================] - 1s 225ms/step - loss: 1.5466 - sparse_categorical_accuracy: 0.5517\n"
     ]
    },
    {
     "name": "stderr",
     "output_type": "stream",
     "text": [
      "\r",
      "3it [00:56, 18.77s/it]"
     ]
    },
    {
     "name": "stdout",
     "output_type": "stream",
     "text": [
      "Epoch 1/10\n",
      "4/4 [==============================] - 1s 228ms/step - loss: 1.4420 - sparse_categorical_accuracy: 0.4828\n",
      "Epoch 2/10\n",
      "4/4 [==============================] - 1s 231ms/step - loss: 1.9147 - sparse_categorical_accuracy: 0.3793\n",
      "Epoch 3/10\n",
      "4/4 [==============================] - 1s 225ms/step - loss: 1.6826 - sparse_categorical_accuracy: 0.5517\n",
      "Epoch 4/10\n",
      "4/4 [==============================] - 1s 223ms/step - loss: 1.9136 - sparse_categorical_accuracy: 0.5517\n",
      "Epoch 5/10\n",
      "4/4 [==============================] - 1s 224ms/step - loss: 1.8159 - sparse_categorical_accuracy: 0.5517\n",
      "Epoch 6/10\n",
      "4/4 [==============================] - 1s 223ms/step - loss: 1.7777 - sparse_categorical_accuracy: 0.4483\n",
      "Epoch 7/10\n",
      "4/4 [==============================] - 1s 228ms/step - loss: 1.8692 - sparse_categorical_accuracy: 0.3448\n",
      "Epoch 8/10\n",
      "4/4 [==============================] - 1s 224ms/step - loss: 1.5918 - sparse_categorical_accuracy: 0.4828\n",
      "Epoch 9/10\n",
      "4/4 [==============================] - 1s 223ms/step - loss: 1.3712 - sparse_categorical_accuracy: 0.6207\n",
      "Epoch 10/10\n",
      "4/4 [==============================] - 1s 224ms/step - loss: 1.3429 - sparse_categorical_accuracy: 0.5172\n"
     ]
    },
    {
     "name": "stderr",
     "output_type": "stream",
     "text": [
      "\r",
      "4it [01:14, 18.74s/it]"
     ]
    },
    {
     "name": "stdout",
     "output_type": "stream",
     "text": [
      "Epoch 1/10\n",
      "4/4 [==============================] - 1s 228ms/step - loss: 1.4964 - sparse_categorical_accuracy: 0.4483\n",
      "Epoch 2/10\n",
      "4/4 [==============================] - 1s 224ms/step - loss: 1.5654 - sparse_categorical_accuracy: 0.5517\n",
      "Epoch 3/10\n",
      "4/4 [==============================] - 1s 224ms/step - loss: 1.6626 - sparse_categorical_accuracy: 0.5517\n",
      "Epoch 4/10\n",
      "4/4 [==============================] - 1s 223ms/step - loss: 1.5083 - sparse_categorical_accuracy: 0.6207\n",
      "Epoch 5/10\n",
      "4/4 [==============================] - 1s 225ms/step - loss: 1.5536 - sparse_categorical_accuracy: 0.5862\n",
      "Epoch 6/10\n",
      "4/4 [==============================] - 1s 227ms/step - loss: 1.5505 - sparse_categorical_accuracy: 0.4828\n",
      "Epoch 7/10\n",
      "4/4 [==============================] - 1s 227ms/step - loss: 1.5114 - sparse_categorical_accuracy: 0.4138\n",
      "Epoch 8/10\n",
      "4/4 [==============================] - 1s 226ms/step - loss: 1.0670 - sparse_categorical_accuracy: 0.6552\n",
      "Epoch 9/10\n",
      "4/4 [==============================] - 1s 224ms/step - loss: 1.2249 - sparse_categorical_accuracy: 0.5517\n",
      "Epoch 10/10\n",
      "4/4 [==============================] - 1s 225ms/step - loss: 0.9630 - sparse_categorical_accuracy: 0.7931\n"
     ]
    },
    {
     "name": "stderr",
     "output_type": "stream",
     "text": [
      "\r",
      "5it [01:33, 18.71s/it]"
     ]
    },
    {
     "name": "stdout",
     "output_type": "stream",
     "text": [
      "Epoch 1/10\n",
      "4/4 [==============================] - 1s 227ms/step - loss: 1.2617 - sparse_categorical_accuracy: 0.5517\n",
      "Epoch 2/10\n",
      "4/4 [==============================] - 1s 226ms/step - loss: 1.4717 - sparse_categorical_accuracy: 0.4828\n",
      "Epoch 3/10\n",
      "4/4 [==============================] - 1s 227ms/step - loss: 1.5490 - sparse_categorical_accuracy: 0.6207\n",
      "Epoch 4/10\n",
      "4/4 [==============================] - 1s 227ms/step - loss: 1.4025 - sparse_categorical_accuracy: 0.6552\n",
      "Epoch 5/10\n",
      "4/4 [==============================] - 1s 227ms/step - loss: 1.6236 - sparse_categorical_accuracy: 0.6897\n",
      "Epoch 6/10\n",
      "4/4 [==============================] - 1s 226ms/step - loss: 1.3729 - sparse_categorical_accuracy: 0.6207\n",
      "Epoch 7/10\n",
      "4/4 [==============================] - 1s 226ms/step - loss: 1.5501 - sparse_categorical_accuracy: 0.5862\n",
      "Epoch 8/10\n",
      "4/4 [==============================] - 1s 227ms/step - loss: 1.4473 - sparse_categorical_accuracy: 0.5517\n",
      "Epoch 9/10\n",
      "4/4 [==============================] - 1s 228ms/step - loss: 1.4045 - sparse_categorical_accuracy: 0.4483\n",
      "Epoch 10/10\n",
      "4/4 [==============================] - 1s 225ms/step - loss: 1.1880 - sparse_categorical_accuracy: 0.6897\n"
     ]
    },
    {
     "name": "stderr",
     "output_type": "stream",
     "text": [
      "\r",
      "6it [01:52, 18.71s/it]"
     ]
    },
    {
     "name": "stdout",
     "output_type": "stream",
     "text": [
      "Epoch 1/10\n",
      "4/4 [==============================] - 1s 225ms/step - loss: 1.7916 - sparse_categorical_accuracy: 0.3448\n",
      "Epoch 2/10\n",
      "4/4 [==============================] - 1s 225ms/step - loss: 1.8149 - sparse_categorical_accuracy: 0.4483\n",
      "Epoch 3/10\n",
      "4/4 [==============================] - 1s 225ms/step - loss: 1.6729 - sparse_categorical_accuracy: 0.5862\n",
      "Epoch 4/10\n",
      "4/4 [==============================] - 1s 227ms/step - loss: 1.6529 - sparse_categorical_accuracy: 0.6897\n",
      "Epoch 5/10\n",
      "4/4 [==============================] - 1s 227ms/step - loss: 1.6018 - sparse_categorical_accuracy: 0.6207\n",
      "Epoch 6/10\n",
      "4/4 [==============================] - 1s 240ms/step - loss: 1.6446 - sparse_categorical_accuracy: 0.6897\n",
      "Epoch 7/10\n",
      "4/4 [==============================] - 1s 225ms/step - loss: 1.7228 - sparse_categorical_accuracy: 0.5862\n",
      "Epoch 8/10\n",
      "4/4 [==============================] - 1s 224ms/step - loss: 1.5346 - sparse_categorical_accuracy: 0.5517\n",
      "Epoch 9/10\n",
      "4/4 [==============================] - 1s 224ms/step - loss: 1.3058 - sparse_categorical_accuracy: 0.5862\n",
      "Epoch 10/10\n",
      "4/4 [==============================] - 1s 227ms/step - loss: 1.4291 - sparse_categorical_accuracy: 0.4828\n"
     ]
    },
    {
     "name": "stderr",
     "output_type": "stream",
     "text": [
      "\r",
      "7it [02:10, 18.71s/it]"
     ]
    },
    {
     "name": "stdout",
     "output_type": "stream",
     "text": [
      "Epoch 1/10\n",
      "4/4 [==============================] - 1s 225ms/step - loss: 1.6606 - sparse_categorical_accuracy: 0.4828\n",
      "Epoch 2/10\n",
      "4/4 [==============================] - 1s 227ms/step - loss: 1.5585 - sparse_categorical_accuracy: 0.5517\n",
      "Epoch 3/10\n",
      "4/4 [==============================] - 1s 224ms/step - loss: 1.8577 - sparse_categorical_accuracy: 0.6207\n",
      "Epoch 4/10\n",
      "4/4 [==============================] - 1s 223ms/step - loss: 1.5923 - sparse_categorical_accuracy: 0.7241\n",
      "Epoch 5/10\n",
      "4/4 [==============================] - 1s 224ms/step - loss: 1.7054 - sparse_categorical_accuracy: 0.5517\n",
      "Epoch 6/10\n",
      "4/4 [==============================] - 1s 223ms/step - loss: 1.6067 - sparse_categorical_accuracy: 0.4828\n",
      "Epoch 7/10\n",
      "4/4 [==============================] - 1s 225ms/step - loss: 1.4162 - sparse_categorical_accuracy: 0.5862\n",
      "Epoch 8/10\n",
      "4/4 [==============================] - 1s 225ms/step - loss: 1.4301 - sparse_categorical_accuracy: 0.5517\n",
      "Epoch 9/10\n",
      "4/4 [==============================] - 1s 225ms/step - loss: 1.2436 - sparse_categorical_accuracy: 0.6897\n",
      "Epoch 10/10\n",
      "4/4 [==============================] - 1s 224ms/step - loss: 1.3483 - sparse_categorical_accuracy: 0.5517\n"
     ]
    },
    {
     "name": "stderr",
     "output_type": "stream",
     "text": [
      "\r",
      "8it [02:29, 18.69s/it]"
     ]
    },
    {
     "name": "stdout",
     "output_type": "stream",
     "text": [
      "Epoch 1/10\n",
      "4/4 [==============================] - 1s 235ms/step - loss: 1.6496 - sparse_categorical_accuracy: 0.6207\n",
      "Epoch 2/10\n",
      "4/4 [==============================] - 1s 227ms/step - loss: 1.5368 - sparse_categorical_accuracy: 0.6207\n",
      "Epoch 3/10\n",
      "4/4 [==============================] - 1s 230ms/step - loss: 2.0786 - sparse_categorical_accuracy: 0.4483\n",
      "Epoch 4/10\n",
      "4/4 [==============================] - 1s 230ms/step - loss: 2.1276 - sparse_categorical_accuracy: 0.5172\n",
      "Epoch 5/10\n",
      "4/4 [==============================] - 1s 233ms/step - loss: 1.7562 - sparse_categorical_accuracy: 0.5172\n",
      "Epoch 6/10\n",
      "4/4 [==============================] - 1s 237ms/step - loss: 1.5352 - sparse_categorical_accuracy: 0.5862\n",
      "Epoch 7/10\n",
      "4/4 [==============================] - 1s 233ms/step - loss: 1.4573 - sparse_categorical_accuracy: 0.5172\n",
      "Epoch 8/10\n",
      "4/4 [==============================] - 1s 234ms/step - loss: 1.4487 - sparse_categorical_accuracy: 0.5517\n",
      "Epoch 9/10\n",
      "4/4 [==============================] - 1s 233ms/step - loss: 1.5385 - sparse_categorical_accuracy: 0.4483\n",
      "Epoch 10/10\n",
      "4/4 [==============================] - 1s 246ms/step - loss: 1.6355 - sparse_categorical_accuracy: 0.5172\n"
     ]
    },
    {
     "name": "stderr",
     "output_type": "stream",
     "text": [
      "\r",
      "9it [02:50, 19.33s/it]"
     ]
    },
    {
     "name": "stdout",
     "output_type": "stream",
     "text": [
      "Epoch 1/10\n",
      "4/4 [==============================] - 1s 236ms/step - loss: 1.2567 - sparse_categorical_accuracy: 0.5517\n",
      "Epoch 2/10\n",
      "4/4 [==============================] - 1s 229ms/step - loss: 1.5803 - sparse_categorical_accuracy: 0.5517\n",
      "Epoch 3/10\n",
      "4/4 [==============================] - 1s 234ms/step - loss: 1.7104 - sparse_categorical_accuracy: 0.5517\n",
      "Epoch 4/10\n",
      "4/4 [==============================] - 1s 233ms/step - loss: 1.6962 - sparse_categorical_accuracy: 0.5172\n",
      "Epoch 5/10\n",
      "4/4 [==============================] - 1s 229ms/step - loss: 1.8052 - sparse_categorical_accuracy: 0.4483\n",
      "Epoch 6/10\n",
      "4/4 [==============================] - 1s 232ms/step - loss: 1.5893 - sparse_categorical_accuracy: 0.5172\n",
      "Epoch 7/10\n",
      "4/4 [==============================] - 1s 236ms/step - loss: 1.5831 - sparse_categorical_accuracy: 0.5172\n",
      "Epoch 8/10\n",
      "4/4 [==============================] - 1s 250ms/step - loss: 1.0874 - sparse_categorical_accuracy: 0.6897\n",
      "Epoch 9/10\n",
      "4/4 [==============================] - 1s 231ms/step - loss: 1.2955 - sparse_categorical_accuracy: 0.6207\n",
      "Epoch 10/10\n",
      "4/4 [==============================] - 1s 234ms/step - loss: 1.1937 - sparse_categorical_accuracy: 0.6897\n"
     ]
    },
    {
     "name": "stderr",
     "output_type": "stream",
     "text": [
      "\r",
      "10it [03:09, 19.34s/it]"
     ]
    },
    {
     "name": "stdout",
     "output_type": "stream",
     "text": [
      "Epoch 1/10\n",
      "4/4 [==============================] - 1s 234ms/step - loss: 1.5082 - sparse_categorical_accuracy: 0.5517\n",
      "Epoch 2/10\n",
      "4/4 [==============================] - 1s 227ms/step - loss: 1.6141 - sparse_categorical_accuracy: 0.5862\n",
      "Epoch 3/10\n",
      "4/4 [==============================] - 1s 232ms/step - loss: 1.6834 - sparse_categorical_accuracy: 0.4138\n",
      "Epoch 4/10\n",
      "4/4 [==============================] - 1s 227ms/step - loss: 1.6367 - sparse_categorical_accuracy: 0.6897\n",
      "Epoch 5/10\n",
      "4/4 [==============================] - 1s 230ms/step - loss: 1.7181 - sparse_categorical_accuracy: 0.6207\n",
      "Epoch 6/10\n",
      "4/4 [==============================] - 1s 229ms/step - loss: 1.6974 - sparse_categorical_accuracy: 0.5862\n",
      "Epoch 7/10\n",
      "4/4 [==============================] - 1s 230ms/step - loss: 1.3871 - sparse_categorical_accuracy: 0.5517\n",
      "Epoch 8/10\n",
      "4/4 [==============================] - 1s 232ms/step - loss: 1.4182 - sparse_categorical_accuracy: 0.5517\n",
      "Epoch 9/10\n",
      "4/4 [==============================] - 1s 232ms/step - loss: 1.5077 - sparse_categorical_accuracy: 0.4828\n",
      "Epoch 10/10\n",
      "4/4 [==============================] - 1s 233ms/step - loss: 1.3625 - sparse_categorical_accuracy: 0.5172\n"
     ]
    },
    {
     "name": "stderr",
     "output_type": "stream",
     "text": [
      "\r",
      "11it [03:28, 19.26s/it]"
     ]
    },
    {
     "name": "stdout",
     "output_type": "stream",
     "text": [
      "Epoch 1/10\n",
      "4/4 [==============================] - 1s 238ms/step - loss: 1.5284 - sparse_categorical_accuracy: 0.5862\n",
      "Epoch 2/10\n",
      "4/4 [==============================] - 1s 239ms/step - loss: 1.5830 - sparse_categorical_accuracy: 0.3793\n",
      "Epoch 3/10\n",
      "4/4 [==============================] - 1s 227ms/step - loss: 1.7317 - sparse_categorical_accuracy: 0.4828\n",
      "Epoch 4/10\n",
      "4/4 [==============================] - 1s 229ms/step - loss: 1.5619 - sparse_categorical_accuracy: 0.7241\n",
      "Epoch 5/10\n",
      "4/4 [==============================] - 1s 229ms/step - loss: 1.8587 - sparse_categorical_accuracy: 0.4828\n",
      "Epoch 6/10\n",
      "4/4 [==============================] - 1s 229ms/step - loss: 1.5976 - sparse_categorical_accuracy: 0.6207\n",
      "Epoch 7/10\n",
      "4/4 [==============================] - 1s 232ms/step - loss: 1.2692 - sparse_categorical_accuracy: 0.6207\n",
      "Epoch 8/10\n",
      "4/4 [==============================] - 1s 232ms/step - loss: 1.6444 - sparse_categorical_accuracy: 0.5517\n",
      "Epoch 9/10\n",
      "4/4 [==============================] - 1s 231ms/step - loss: 1.1616 - sparse_categorical_accuracy: 0.5862\n",
      "Epoch 10/10\n",
      "4/4 [==============================] - 1s 234ms/step - loss: 1.2076 - sparse_categorical_accuracy: 0.6897\n"
     ]
    },
    {
     "name": "stderr",
     "output_type": "stream",
     "text": [
      "\r",
      "12it [03:47, 19.20s/it]"
     ]
    },
    {
     "name": "stdout",
     "output_type": "stream",
     "text": [
      "Epoch 1/10\n",
      "4/4 [==============================] - 1s 236ms/step - loss: 1.3511 - sparse_categorical_accuracy: 0.5862\n",
      "Epoch 2/10\n",
      "4/4 [==============================] - 1s 232ms/step - loss: 1.2873 - sparse_categorical_accuracy: 0.6207\n",
      "Epoch 3/10\n",
      "4/4 [==============================] - 1s 228ms/step - loss: 1.5312 - sparse_categorical_accuracy: 0.6552\n",
      "Epoch 4/10\n",
      "4/4 [==============================] - 1s 227ms/step - loss: 1.6032 - sparse_categorical_accuracy: 0.6552\n",
      "Epoch 5/10\n",
      "4/4 [==============================] - 1s 230ms/step - loss: 1.5674 - sparse_categorical_accuracy: 0.6207\n",
      "Epoch 6/10\n",
      "4/4 [==============================] - 1s 234ms/step - loss: 1.4574 - sparse_categorical_accuracy: 0.6207\n",
      "Epoch 7/10\n",
      "4/4 [==============================] - 1s 231ms/step - loss: 1.5913 - sparse_categorical_accuracy: 0.4138\n",
      "Epoch 8/10\n",
      "4/4 [==============================] - 1s 227ms/step - loss: 1.5452 - sparse_categorical_accuracy: 0.5172\n",
      "Epoch 9/10\n",
      "4/4 [==============================] - 1s 232ms/step - loss: 1.0762 - sparse_categorical_accuracy: 0.7586\n",
      "Epoch 10/10\n",
      "4/4 [==============================] - 1s 228ms/step - loss: 1.0889 - sparse_categorical_accuracy: 0.5862\n"
     ]
    },
    {
     "name": "stderr",
     "output_type": "stream",
     "text": [
      "\r",
      "13it [04:06, 19.11s/it]"
     ]
    },
    {
     "name": "stdout",
     "output_type": "stream",
     "text": [
      "Epoch 1/10\n",
      "4/4 [==============================] - 1s 236ms/step - loss: 1.4212 - sparse_categorical_accuracy: 0.5862\n",
      "Epoch 2/10\n",
      "4/4 [==============================] - 1s 246ms/step - loss: 1.2937 - sparse_categorical_accuracy: 0.6207\n",
      "Epoch 3/10\n",
      "4/4 [==============================] - 1s 230ms/step - loss: 1.8067 - sparse_categorical_accuracy: 0.5517\n",
      "Epoch 4/10\n",
      "4/4 [==============================] - 1s 233ms/step - loss: 1.5959 - sparse_categorical_accuracy: 0.5517\n",
      "Epoch 5/10\n",
      "4/4 [==============================] - 1s 230ms/step - loss: 1.4226 - sparse_categorical_accuracy: 0.6897\n",
      "Epoch 6/10\n",
      "4/4 [==============================] - 1s 230ms/step - loss: 1.5200 - sparse_categorical_accuracy: 0.6207\n",
      "Epoch 7/10\n",
      "4/4 [==============================] - 1s 228ms/step - loss: 1.3821 - sparse_categorical_accuracy: 0.5862\n",
      "Epoch 8/10\n",
      "4/4 [==============================] - 1s 231ms/step - loss: 1.5972 - sparse_categorical_accuracy: 0.5862\n",
      "Epoch 9/10\n",
      "4/4 [==============================] - 1s 232ms/step - loss: 1.3685 - sparse_categorical_accuracy: 0.5517\n",
      "Epoch 10/10\n",
      "4/4 [==============================] - 1s 228ms/step - loss: 1.3955 - sparse_categorical_accuracy: 0.5862\n"
     ]
    },
    {
     "name": "stderr",
     "output_type": "stream",
     "text": [
      "\r",
      "14it [04:25, 19.06s/it]"
     ]
    },
    {
     "name": "stdout",
     "output_type": "stream",
     "text": [
      "Epoch 1/10\n",
      "4/4 [==============================] - 1s 231ms/step - loss: 1.2239 - sparse_categorical_accuracy: 0.6207\n",
      "Epoch 2/10\n",
      "4/4 [==============================] - 1s 227ms/step - loss: 1.5069 - sparse_categorical_accuracy: 0.5172\n",
      "Epoch 3/10\n",
      "4/4 [==============================] - 1s 240ms/step - loss: 1.6709 - sparse_categorical_accuracy: 0.5172\n",
      "Epoch 4/10\n",
      "4/4 [==============================] - 1s 227ms/step - loss: 1.8896 - sparse_categorical_accuracy: 0.5172\n",
      "Epoch 5/10\n",
      "4/4 [==============================] - 1s 228ms/step - loss: 1.5815 - sparse_categorical_accuracy: 0.6897\n",
      "Epoch 6/10\n",
      "4/4 [==============================] - 1s 227ms/step - loss: 1.6941 - sparse_categorical_accuracy: 0.6207\n",
      "Epoch 7/10\n",
      "4/4 [==============================] - 1s 226ms/step - loss: 1.4129 - sparse_categorical_accuracy: 0.6552\n",
      "Epoch 8/10\n",
      "4/4 [==============================] - 1s 225ms/step - loss: 1.5160 - sparse_categorical_accuracy: 0.5172\n",
      "Epoch 9/10\n",
      "4/4 [==============================] - 1s 229ms/step - loss: 1.4243 - sparse_categorical_accuracy: 0.5862\n",
      "Epoch 10/10\n",
      "4/4 [==============================] - 1s 227ms/step - loss: 1.2068 - sparse_categorical_accuracy: 0.4828\n"
     ]
    },
    {
     "name": "stderr",
     "output_type": "stream",
     "text": [
      "\r",
      "15it [04:44, 19.00s/it]"
     ]
    },
    {
     "name": "stdout",
     "output_type": "stream",
     "text": [
      "Epoch 1/10\n",
      "4/4 [==============================] - 1s 233ms/step - loss: 1.3372 - sparse_categorical_accuracy: 0.5862\n",
      "Epoch 2/10\n",
      "4/4 [==============================] - 1s 231ms/step - loss: 1.4973 - sparse_categorical_accuracy: 0.5517\n",
      "Epoch 3/10\n",
      "4/4 [==============================] - 1s 229ms/step - loss: 1.3111 - sparse_categorical_accuracy: 0.6897 0s - loss: 1.3111 - sparse_categorical_accuracy: 0.689\n",
      "Epoch 4/10\n",
      "4/4 [==============================] - 1s 228ms/step - loss: 2.0488 - sparse_categorical_accuracy: 0.3793\n",
      "Epoch 5/10\n",
      "4/4 [==============================] - 1s 225ms/step - loss: 1.7262 - sparse_categorical_accuracy: 0.6552\n",
      "Epoch 6/10\n",
      "4/4 [==============================] - 1s 229ms/step - loss: 1.5161 - sparse_categorical_accuracy: 0.6207\n",
      "Epoch 7/10\n",
      "4/4 [==============================] - 1s 225ms/step - loss: 1.4378 - sparse_categorical_accuracy: 0.5172\n",
      "Epoch 8/10\n",
      "4/4 [==============================] - 1s 229ms/step - loss: 1.1906 - sparse_categorical_accuracy: 0.5862\n",
      "Epoch 9/10\n",
      "4/4 [==============================] - 1s 229ms/step - loss: 1.3963 - sparse_categorical_accuracy: 0.4828\n",
      "Epoch 10/10\n",
      "4/4 [==============================] - 1s 229ms/step - loss: 1.0544 - sparse_categorical_accuracy: 0.5862\n"
     ]
    },
    {
     "name": "stderr",
     "output_type": "stream",
     "text": [
      "\r",
      "16it [05:03, 18.95s/it]"
     ]
    },
    {
     "name": "stdout",
     "output_type": "stream",
     "text": [
      "Epoch 1/10\n",
      "4/4 [==============================] - 1s 234ms/step - loss: 1.7752 - sparse_categorical_accuracy: 0.4138\n",
      "Epoch 2/10\n",
      "4/4 [==============================] - 1s 228ms/step - loss: 1.6137 - sparse_categorical_accuracy: 0.4483\n",
      "Epoch 3/10\n",
      "4/4 [==============================] - 1s 226ms/step - loss: 1.6280 - sparse_categorical_accuracy: 0.4828\n",
      "Epoch 4/10\n",
      "4/4 [==============================] - 1s 238ms/step - loss: 1.8701 - sparse_categorical_accuracy: 0.5172\n",
      "Epoch 5/10\n",
      "4/4 [==============================] - 1s 233ms/step - loss: 1.6055 - sparse_categorical_accuracy: 0.5517\n",
      "Epoch 6/10\n",
      "4/4 [==============================] - 1s 250ms/step - loss: 1.3775 - sparse_categorical_accuracy: 0.6552\n",
      "Epoch 7/10\n",
      "4/4 [==============================] - 1s 247ms/step - loss: 1.5542 - sparse_categorical_accuracy: 0.5517\n",
      "Epoch 8/10\n",
      "4/4 [==============================] - 1s 250ms/step - loss: 1.3266 - sparse_categorical_accuracy: 0.5862\n",
      "Epoch 9/10\n",
      "4/4 [==============================] - 1s 250ms/step - loss: 1.2728 - sparse_categorical_accuracy: 0.6552\n",
      "Epoch 10/10\n",
      "4/4 [==============================] - 1s 254ms/step - loss: 1.4722 - sparse_categorical_accuracy: 0.5172\n"
     ]
    },
    {
     "name": "stderr",
     "output_type": "stream",
     "text": [
      "\r",
      "17it [05:23, 19.19s/it]"
     ]
    },
    {
     "name": "stdout",
     "output_type": "stream",
     "text": [
      "Epoch 1/10\n",
      "4/4 [==============================] - 1s 254ms/step - loss: 1.7289 - sparse_categorical_accuracy: 0.4483\n",
      "Epoch 2/10\n",
      "4/4 [==============================] - 1s 244ms/step - loss: 1.7769 - sparse_categorical_accuracy: 0.4828\n",
      "Epoch 3/10\n",
      "4/4 [==============================] - 1s 238ms/step - loss: 1.8601 - sparse_categorical_accuracy: 0.5172\n",
      "Epoch 4/10\n",
      "4/4 [==============================] - 1s 245ms/step - loss: 1.5629 - sparse_categorical_accuracy: 0.6207\n",
      "Epoch 5/10\n",
      "4/4 [==============================] - 1s 252ms/step - loss: 1.4566 - sparse_categorical_accuracy: 0.6897\n",
      "Epoch 6/10\n",
      "4/4 [==============================] - 1s 228ms/step - loss: 1.3529 - sparse_categorical_accuracy: 0.6552\n",
      "Epoch 7/10\n",
      "4/4 [==============================] - 1s 234ms/step - loss: 1.2765 - sparse_categorical_accuracy: 0.5862\n",
      "Epoch 8/10\n",
      "4/4 [==============================] - 1s 234ms/step - loss: 1.3356 - sparse_categorical_accuracy: 0.5862\n",
      "Epoch 9/10\n",
      "4/4 [==============================] - 1s 234ms/step - loss: 1.4938 - sparse_categorical_accuracy: 0.5517\n",
      "Epoch 10/10\n",
      "4/4 [==============================] - 1s 237ms/step - loss: 1.1019 - sparse_categorical_accuracy: 0.5862\n"
     ]
    },
    {
     "name": "stderr",
     "output_type": "stream",
     "text": [
      "\r",
      "18it [05:43, 19.52s/it]"
     ]
    },
    {
     "name": "stdout",
     "output_type": "stream",
     "text": [
      "Epoch 1/10\n",
      "4/4 [==============================] - 1s 372ms/step - loss: 1.2593 - sparse_categorical_accuracy: 0.5862\n",
      "Epoch 2/10\n",
      "4/4 [==============================] - 1s 237ms/step - loss: 1.5739 - sparse_categorical_accuracy: 0.5517\n",
      "Epoch 3/10\n",
      "4/4 [==============================] - 1s 245ms/step - loss: 1.5681 - sparse_categorical_accuracy: 0.5862\n",
      "Epoch 4/10\n",
      "4/4 [==============================] - 1s 245ms/step - loss: 1.6748 - sparse_categorical_accuracy: 0.6207\n",
      "Epoch 5/10\n",
      "4/4 [==============================] - 1s 242ms/step - loss: 1.4936 - sparse_categorical_accuracy: 0.6207\n",
      "Epoch 6/10\n",
      "4/4 [==============================] - 1s 242ms/step - loss: 1.0523 - sparse_categorical_accuracy: 0.7241\n",
      "Epoch 7/10\n",
      "4/4 [==============================] - 1s 237ms/step - loss: 1.2570 - sparse_categorical_accuracy: 0.7241\n",
      "Epoch 8/10\n",
      "4/4 [==============================] - 1s 238ms/step - loss: 1.1627 - sparse_categorical_accuracy: 0.7931\n",
      "Epoch 9/10\n",
      "4/4 [==============================] - 1s 237ms/step - loss: 1.0614 - sparse_categorical_accuracy: 0.6897\n",
      "Epoch 10/10\n",
      "4/4 [==============================] - 1s 238ms/step - loss: 1.6837 - sparse_categorical_accuracy: 0.4828\n"
     ]
    },
    {
     "name": "stderr",
     "output_type": "stream",
     "text": [
      "\r",
      "19it [06:04, 20.01s/it]"
     ]
    },
    {
     "name": "stdout",
     "output_type": "stream",
     "text": [
      "Epoch 1/10\n",
      "4/4 [==============================] - 1s 234ms/step - loss: 1.1778 - sparse_categorical_accuracy: 0.5172\n",
      "Epoch 2/10\n",
      "4/4 [==============================] - 1s 223ms/step - loss: 1.2988 - sparse_categorical_accuracy: 0.6207\n",
      "Epoch 3/10\n",
      "4/4 [==============================] - 1s 229ms/step - loss: 1.9774 - sparse_categorical_accuracy: 0.4828\n",
      "Epoch 4/10\n",
      "4/4 [==============================] - 1s 225ms/step - loss: 1.8689 - sparse_categorical_accuracy: 0.5862\n",
      "Epoch 5/10\n",
      "4/4 [==============================] - 1s 228ms/step - loss: 1.5571 - sparse_categorical_accuracy: 0.6552\n",
      "Epoch 6/10\n",
      "4/4 [==============================] - 1s 227ms/step - loss: 1.7234 - sparse_categorical_accuracy: 0.4138\n",
      "Epoch 7/10\n",
      "4/4 [==============================] - 1s 227ms/step - loss: 1.4882 - sparse_categorical_accuracy: 0.4483\n",
      "Epoch 8/10\n",
      "4/4 [==============================] - 1s 225ms/step - loss: 1.4069 - sparse_categorical_accuracy: 0.5862\n",
      "Epoch 9/10\n",
      "4/4 [==============================] - 1s 226ms/step - loss: 1.3565 - sparse_categorical_accuracy: 0.5862\n",
      "Epoch 10/10\n",
      "4/4 [==============================] - 1s 225ms/step - loss: 1.3941 - sparse_categorical_accuracy: 0.5862\n"
     ]
    },
    {
     "name": "stderr",
     "output_type": "stream",
     "text": [
      "\r",
      "20it [06:23, 19.78s/it]"
     ]
    },
    {
     "name": "stdout",
     "output_type": "stream",
     "text": [
      "Epoch 1/10\n",
      "4/4 [==============================] - 1s 245ms/step - loss: 1.4407 - sparse_categorical_accuracy: 0.5862\n",
      "Epoch 2/10\n",
      "4/4 [==============================] - 1s 237ms/step - loss: 1.7998 - sparse_categorical_accuracy: 0.6207\n",
      "Epoch 3/10\n",
      "4/4 [==============================] - 1s 241ms/step - loss: 2.3605 - sparse_categorical_accuracy: 0.3793\n",
      "Epoch 4/10\n",
      "4/4 [==============================] - 1s 250ms/step - loss: 1.6241 - sparse_categorical_accuracy: 0.5862\n",
      "Epoch 5/10\n",
      "4/4 [==============================] - 1s 237ms/step - loss: 1.5896 - sparse_categorical_accuracy: 0.5172\n",
      "Epoch 6/10\n",
      "4/4 [==============================] - 1s 242ms/step - loss: 1.6806 - sparse_categorical_accuracy: 0.5862\n",
      "Epoch 7/10\n",
      "4/4 [==============================] - 1s 241ms/step - loss: 1.4883 - sparse_categorical_accuracy: 0.5862\n",
      "Epoch 8/10\n",
      "4/4 [==============================] - 1s 238ms/step - loss: 1.4127 - sparse_categorical_accuracy: 0.6552\n",
      "Epoch 9/10\n",
      "4/4 [==============================] - 1s 239ms/step - loss: 1.3818 - sparse_categorical_accuracy: 0.5862\n",
      "Epoch 10/10\n",
      "4/4 [==============================] - 1s 239ms/step - loss: 1.2293 - sparse_categorical_accuracy: 0.5862\n"
     ]
    },
    {
     "name": "stderr",
     "output_type": "stream",
     "text": [
      "\r",
      "21it [06:45, 20.37s/it]"
     ]
    },
    {
     "name": "stdout",
     "output_type": "stream",
     "text": [
      "Epoch 1/10\n",
      "4/4 [==============================] - 1s 252ms/step - loss: 1.5300 - sparse_categorical_accuracy: 0.4483\n",
      "Epoch 2/10\n",
      "4/4 [==============================] - 1s 238ms/step - loss: 1.6540 - sparse_categorical_accuracy: 0.4828\n",
      "Epoch 3/10\n",
      "4/4 [==============================] - 1s 242ms/step - loss: 1.6533 - sparse_categorical_accuracy: 0.6552\n",
      "Epoch 4/10\n",
      "4/4 [==============================] - 1s 237ms/step - loss: 1.5329 - sparse_categorical_accuracy: 0.7241\n",
      "Epoch 5/10\n",
      "4/4 [==============================] - 1s 237ms/step - loss: 1.3697 - sparse_categorical_accuracy: 0.6207\n",
      "Epoch 6/10\n",
      "4/4 [==============================] - 1s 236ms/step - loss: 1.6081 - sparse_categorical_accuracy: 0.5517\n",
      "Epoch 7/10\n",
      "4/4 [==============================] - 1s 237ms/step - loss: 1.3941 - sparse_categorical_accuracy: 0.5172\n",
      "Epoch 8/10\n",
      "4/4 [==============================] - 1s 237ms/step - loss: 1.4830 - sparse_categorical_accuracy: 0.6207\n",
      "Epoch 9/10\n",
      "4/4 [==============================] - 1s 237ms/step - loss: 1.2517 - sparse_categorical_accuracy: 0.5517\n",
      "Epoch 10/10\n",
      "4/4 [==============================] - 1s 239ms/step - loss: 1.1115 - sparse_categorical_accuracy: 0.6897\n"
     ]
    },
    {
     "name": "stderr",
     "output_type": "stream",
     "text": [
      "\r",
      "22it [07:05, 20.18s/it]"
     ]
    },
    {
     "name": "stdout",
     "output_type": "stream",
     "text": [
      "Epoch 1/10\n",
      "4/4 [==============================] - 1s 240ms/step - loss: 1.3154 - sparse_categorical_accuracy: 0.5862\n",
      "Epoch 2/10\n",
      "4/4 [==============================] - 1s 239ms/step - loss: 2.0387 - sparse_categorical_accuracy: 0.5172\n",
      "Epoch 3/10\n",
      "4/4 [==============================] - 1s 236ms/step - loss: 1.8060 - sparse_categorical_accuracy: 0.5862\n",
      "Epoch 4/10\n",
      "4/4 [==============================] - 1s 241ms/step - loss: 1.9882 - sparse_categorical_accuracy: 0.5172\n",
      "Epoch 5/10\n",
      "4/4 [==============================] - 1s 234ms/step - loss: 1.6044 - sparse_categorical_accuracy: 0.6897\n",
      "Epoch 6/10\n",
      "4/4 [==============================] - 1s 235ms/step - loss: 1.6712 - sparse_categorical_accuracy: 0.5517\n",
      "Epoch 7/10\n",
      "4/4 [==============================] - 1s 237ms/step - loss: 1.1320 - sparse_categorical_accuracy: 0.7241\n",
      "Epoch 8/10\n",
      "4/4 [==============================] - 1s 242ms/step - loss: 1.2024 - sparse_categorical_accuracy: 0.6552\n",
      "Epoch 9/10\n",
      "4/4 [==============================] - 1s 237ms/step - loss: 0.9165 - sparse_categorical_accuracy: 0.8276\n",
      "Epoch 10/10\n",
      "4/4 [==============================] - 1s 233ms/step - loss: 1.0707 - sparse_categorical_accuracy: 0.6552\n"
     ]
    },
    {
     "name": "stderr",
     "output_type": "stream",
     "text": [
      "\r",
      "23it [07:25, 20.00s/it]"
     ]
    },
    {
     "name": "stdout",
     "output_type": "stream",
     "text": [
      "Epoch 1/10\n",
      "4/4 [==============================] - 1s 242ms/step - loss: 1.4783 - sparse_categorical_accuracy: 0.5517\n",
      "Epoch 2/10\n",
      "4/4 [==============================] - 1s 234ms/step - loss: 1.4400 - sparse_categorical_accuracy: 0.5172\n",
      "Epoch 3/10\n",
      "4/4 [==============================] - 1s 237ms/step - loss: 1.7237 - sparse_categorical_accuracy: 0.5172\n",
      "Epoch 4/10\n",
      "4/4 [==============================] - 1s 243ms/step - loss: 1.9119 - sparse_categorical_accuracy: 0.5172\n",
      "Epoch 5/10\n",
      "4/4 [==============================] - 1s 245ms/step - loss: 1.5427 - sparse_categorical_accuracy: 0.5172\n",
      "Epoch 6/10\n",
      "4/4 [==============================] - 1s 242ms/step - loss: 1.3553 - sparse_categorical_accuracy: 0.7586\n",
      "Epoch 7/10\n",
      "4/4 [==============================] - 1s 237ms/step - loss: 1.3333 - sparse_categorical_accuracy: 0.6552\n",
      "Epoch 8/10\n",
      "4/4 [==============================] - 1s 234ms/step - loss: 1.1884 - sparse_categorical_accuracy: 0.7241\n",
      "Epoch 9/10\n",
      "4/4 [==============================] - 1s 238ms/step - loss: 1.3941 - sparse_categorical_accuracy: 0.5172\n",
      "Epoch 10/10\n",
      "4/4 [==============================] - 1s 237ms/step - loss: 1.4736 - sparse_categorical_accuracy: 0.4828\n"
     ]
    },
    {
     "name": "stderr",
     "output_type": "stream",
     "text": [
      "\r",
      "24it [07:44, 19.88s/it]"
     ]
    },
    {
     "name": "stdout",
     "output_type": "stream",
     "text": [
      "Epoch 1/10\n",
      "4/4 [==============================] - 1s 241ms/step - loss: 1.5836 - sparse_categorical_accuracy: 0.5862\n",
      "Epoch 2/10\n",
      "4/4 [==============================] - 1s 237ms/step - loss: 1.6663 - sparse_categorical_accuracy: 0.5517\n",
      "Epoch 3/10\n",
      "4/4 [==============================] - 1s 237ms/step - loss: 1.8053 - sparse_categorical_accuracy: 0.6552\n",
      "Epoch 4/10\n",
      "4/4 [==============================] - 1s 237ms/step - loss: 1.9594 - sparse_categorical_accuracy: 0.4138\n",
      "Epoch 5/10\n",
      "4/4 [==============================] - 1s 235ms/step - loss: 1.6467 - sparse_categorical_accuracy: 0.5862\n",
      "Epoch 6/10\n",
      "4/4 [==============================] - 1s 237ms/step - loss: 1.6569 - sparse_categorical_accuracy: 0.5517\n",
      "Epoch 7/10\n",
      "4/4 [==============================] - 1s 237ms/step - loss: 1.7195 - sparse_categorical_accuracy: 0.5172\n",
      "Epoch 8/10\n",
      "4/4 [==============================] - 1s 233ms/step - loss: 1.4761 - sparse_categorical_accuracy: 0.4483\n",
      "Epoch 9/10\n",
      "4/4 [==============================] - 1s 238ms/step - loss: 1.3061 - sparse_categorical_accuracy: 0.6207\n",
      "Epoch 10/10\n",
      "4/4 [==============================] - 1s 237ms/step - loss: 1.3650 - sparse_categorical_accuracy: 0.5517\n"
     ]
    },
    {
     "name": "stderr",
     "output_type": "stream",
     "text": [
      "\r",
      "25it [08:03, 19.72s/it]"
     ]
    },
    {
     "name": "stdout",
     "output_type": "stream",
     "text": [
      "Epoch 1/10\n",
      "4/4 [==============================] - 1s 241ms/step - loss: 1.5004 - sparse_categorical_accuracy: 0.4138\n",
      "Epoch 2/10\n",
      "4/4 [==============================] - 1s 234ms/step - loss: 1.4601 - sparse_categorical_accuracy: 0.5862\n",
      "Epoch 3/10\n",
      "4/4 [==============================] - 1s 237ms/step - loss: 1.7080 - sparse_categorical_accuracy: 0.5517\n",
      "Epoch 4/10\n",
      "4/4 [==============================] - 1s 237ms/step - loss: 1.9465 - sparse_categorical_accuracy: 0.5172\n",
      "Epoch 5/10\n",
      "4/4 [==============================] - 1s 237ms/step - loss: 1.7960 - sparse_categorical_accuracy: 0.5862\n",
      "Epoch 6/10\n",
      "4/4 [==============================] - 1s 235ms/step - loss: 1.5299 - sparse_categorical_accuracy: 0.5517\n",
      "Epoch 7/10\n",
      "4/4 [==============================] - 1s 238ms/step - loss: 1.4436 - sparse_categorical_accuracy: 0.5517\n",
      "Epoch 8/10\n",
      "4/4 [==============================] - 1s 237ms/step - loss: 1.1082 - sparse_categorical_accuracy: 0.7586\n",
      "Epoch 9/10\n",
      "4/4 [==============================] - 1s 237ms/step - loss: 1.2217 - sparse_categorical_accuracy: 0.5517\n",
      "Epoch 10/10\n",
      "4/4 [==============================] - 1s 235ms/step - loss: 1.1664 - sparse_categorical_accuracy: 0.6897\n"
     ]
    },
    {
     "name": "stderr",
     "output_type": "stream",
     "text": [
      "\r",
      "26it [08:23, 19.62s/it]"
     ]
    },
    {
     "name": "stdout",
     "output_type": "stream",
     "text": [
      "Epoch 1/10\n",
      "4/4 [==============================] - 1s 241ms/step - loss: 1.5986 - sparse_categorical_accuracy: 0.5172\n",
      "Epoch 2/10\n",
      "4/4 [==============================] - 1s 237ms/step - loss: 1.4635 - sparse_categorical_accuracy: 0.5862\n",
      "Epoch 3/10\n",
      "4/4 [==============================] - 1s 237ms/step - loss: 1.6805 - sparse_categorical_accuracy: 0.5517\n",
      "Epoch 4/10\n",
      "4/4 [==============================] - 1s 238ms/step - loss: 1.4102 - sparse_categorical_accuracy: 0.7586\n",
      "Epoch 5/10\n",
      "4/4 [==============================] - 1s 236ms/step - loss: 1.7761 - sparse_categorical_accuracy: 0.5172\n",
      "Epoch 6/10\n",
      "4/4 [==============================] - 1s 235ms/step - loss: 1.6979 - sparse_categorical_accuracy: 0.5172\n",
      "Epoch 7/10\n",
      "4/4 [==============================] - 1s 249ms/step - loss: 1.6733 - sparse_categorical_accuracy: 0.5172\n",
      "Epoch 8/10\n",
      "4/4 [==============================] - 1s 234ms/step - loss: 1.1330 - sparse_categorical_accuracy: 0.7241\n",
      "Epoch 9/10\n",
      "4/4 [==============================] - 1s 233ms/step - loss: 1.5048 - sparse_categorical_accuracy: 0.5862\n",
      "Epoch 10/10\n",
      "4/4 [==============================] - 1s 237ms/step - loss: 1.2215 - sparse_categorical_accuracy: 0.6207\n"
     ]
    },
    {
     "name": "stderr",
     "output_type": "stream",
     "text": [
      "\r",
      "27it [08:42, 19.55s/it]"
     ]
    },
    {
     "name": "stdout",
     "output_type": "stream",
     "text": [
      "Epoch 1/10\n",
      "4/4 [==============================] - 1s 242ms/step - loss: 1.4260 - sparse_categorical_accuracy: 0.5517\n",
      "Epoch 2/10\n",
      "4/4 [==============================] - 1s 233ms/step - loss: 1.5174 - sparse_categorical_accuracy: 0.5862\n",
      "Epoch 3/10\n",
      "4/4 [==============================] - 1s 237ms/step - loss: 2.0389 - sparse_categorical_accuracy: 0.4483\n",
      "Epoch 4/10\n",
      "4/4 [==============================] - 1s 237ms/step - loss: 1.6531 - sparse_categorical_accuracy: 0.6207\n",
      "Epoch 5/10\n",
      "4/4 [==============================] - 1s 235ms/step - loss: 1.6915 - sparse_categorical_accuracy: 0.6207\n",
      "Epoch 6/10\n",
      "4/4 [==============================] - 1s 235ms/step - loss: 1.6575 - sparse_categorical_accuracy: 0.5517\n",
      "Epoch 7/10\n",
      "4/4 [==============================] - 1s 233ms/step - loss: 1.4110 - sparse_categorical_accuracy: 0.5172\n",
      "Epoch 8/10\n",
      "4/4 [==============================] - 1s 235ms/step - loss: 1.2095 - sparse_categorical_accuracy: 0.7241\n",
      "Epoch 9/10\n",
      "4/4 [==============================] - 1s 236ms/step - loss: 1.3272 - sparse_categorical_accuracy: 0.5172\n",
      "Epoch 10/10\n",
      "4/4 [==============================] - 1s 232ms/step - loss: 1.2028 - sparse_categorical_accuracy: 0.6552\n"
     ]
    },
    {
     "name": "stderr",
     "output_type": "stream",
     "text": [
      "\r",
      "28it [09:02, 19.50s/it]"
     ]
    },
    {
     "name": "stdout",
     "output_type": "stream",
     "text": [
      "Epoch 1/10\n",
      "4/4 [==============================] - 1s 237ms/step - loss: 1.4804 - sparse_categorical_accuracy: 0.5862\n",
      "Epoch 2/10\n",
      "4/4 [==============================] - 1s 231ms/step - loss: 1.5065 - sparse_categorical_accuracy: 0.5172\n",
      "Epoch 3/10\n",
      "4/4 [==============================] - 1s 237ms/step - loss: 1.6043 - sparse_categorical_accuracy: 0.4828\n",
      "Epoch 4/10\n",
      "4/4 [==============================] - 1s 234ms/step - loss: 1.5644 - sparse_categorical_accuracy: 0.5862\n",
      "Epoch 5/10\n",
      "4/4 [==============================] - 1s 235ms/step - loss: 1.5036 - sparse_categorical_accuracy: 0.4828\n",
      "Epoch 6/10\n",
      "4/4 [==============================] - 1s 249ms/step - loss: 1.4438 - sparse_categorical_accuracy: 0.6552\n",
      "Epoch 7/10\n",
      "4/4 [==============================] - 1s 234ms/step - loss: 1.7192 - sparse_categorical_accuracy: 0.4138\n",
      "Epoch 8/10\n",
      "4/4 [==============================] - 1s 235ms/step - loss: 1.3786 - sparse_categorical_accuracy: 0.6897\n",
      "Epoch 9/10\n",
      "4/4 [==============================] - 1s 229ms/step - loss: 1.2411 - sparse_categorical_accuracy: 0.6897\n",
      "Epoch 10/10\n",
      "4/4 [==============================] - 1s 235ms/step - loss: 1.4175 - sparse_categorical_accuracy: 0.6207\n"
     ]
    },
    {
     "name": "stderr",
     "output_type": "stream",
     "text": [
      "\r",
      "29it [09:21, 19.44s/it]"
     ]
    },
    {
     "name": "stdout",
     "output_type": "stream",
     "text": [
      "Epoch 1/10\n",
      "4/4 [==============================] - 1s 229ms/step - loss: 1.4913 - sparse_categorical_accuracy: 0.5172\n",
      "Epoch 2/10\n",
      "4/4 [==============================] - 1s 233ms/step - loss: 1.6777 - sparse_categorical_accuracy: 0.5517\n",
      "Epoch 3/10\n",
      "4/4 [==============================] - 1s 229ms/step - loss: 1.5882 - sparse_categorical_accuracy: 0.5862\n",
      "Epoch 4/10\n",
      "4/4 [==============================] - 1s 233ms/step - loss: 1.5714 - sparse_categorical_accuracy: 0.6897\n",
      "Epoch 5/10\n",
      "4/4 [==============================] - 1s 234ms/step - loss: 1.5789 - sparse_categorical_accuracy: 0.6207\n",
      "Epoch 6/10\n",
      "4/4 [==============================] - 1s 231ms/step - loss: 1.5132 - sparse_categorical_accuracy: 0.4828\n",
      "Epoch 7/10\n",
      "4/4 [==============================] - 1s 240ms/step - loss: 1.4688 - sparse_categorical_accuracy: 0.5862\n",
      "Epoch 8/10\n",
      "4/4 [==============================] - 1s 229ms/step - loss: 1.3300 - sparse_categorical_accuracy: 0.5862\n",
      "Epoch 9/10\n",
      "4/4 [==============================] - 1s 248ms/step - loss: 1.4645 - sparse_categorical_accuracy: 0.6207\n",
      "Epoch 10/10\n",
      "4/4 [==============================] - 1s 233ms/step - loss: 1.4626 - sparse_categorical_accuracy: 0.6552\n"
     ]
    },
    {
     "name": "stderr",
     "output_type": "stream",
     "text": [
      "30it [09:40, 19.36s/it]\n",
      "0it [00:00, ?it/s]"
     ]
    },
    {
     "name": "stdout",
     "output_type": "stream",
     "text": [
      "Epoch 1/10\n",
      "3/3 [==============================] - 0s 141ms/step - loss: 1.1758 - sparse_categorical_accuracy: 0.7059\n",
      "Epoch 2/10\n",
      "3/3 [==============================] - 0s 137ms/step - loss: 1.1769 - sparse_categorical_accuracy: 0.7059\n",
      "Epoch 3/10\n",
      "3/3 [==============================] - 0s 129ms/step - loss: 1.0508 - sparse_categorical_accuracy: 0.8824\n",
      "Epoch 4/10\n",
      "3/3 [==============================] - 0s 130ms/step - loss: 1.4009 - sparse_categorical_accuracy: 0.7059\n",
      "Epoch 5/10\n",
      "3/3 [==============================] - 0s 141ms/step - loss: 1.3540 - sparse_categorical_accuracy: 0.7647\n",
      "Epoch 6/10\n",
      "3/3 [==============================] - 0s 131ms/step - loss: 1.2977 - sparse_categorical_accuracy: 0.7647\n",
      "Epoch 7/10\n",
      "3/3 [==============================] - 0s 142ms/step - loss: 0.8926 - sparse_categorical_accuracy: 0.9412\n",
      "Epoch 8/10\n",
      "3/3 [==============================] - 0s 133ms/step - loss: 0.8320 - sparse_categorical_accuracy: 0.8824\n",
      "Epoch 9/10\n",
      "3/3 [==============================] - 0s 129ms/step - loss: 0.7703 - sparse_categorical_accuracy: 0.9412\n",
      "Epoch 10/10\n",
      "3/3 [==============================] - 0s 137ms/step - loss: 0.6771 - sparse_categorical_accuracy: 0.9412\n"
     ]
    },
    {
     "name": "stderr",
     "output_type": "stream",
     "text": [
      "\r",
      "1it [00:14, 14.05s/it]"
     ]
    },
    {
     "name": "stdout",
     "output_type": "stream",
     "text": [
      "Epoch 1/10\n",
      "3/3 [==============================] - 0s 135ms/step - loss: 1.6715 - sparse_categorical_accuracy: 0.3529\n",
      "Epoch 2/10\n",
      "3/3 [==============================] - 0s 128ms/step - loss: 1.0571 - sparse_categorical_accuracy: 0.6471\n",
      "Epoch 3/10\n",
      "3/3 [==============================] - 0s 130ms/step - loss: 0.9488 - sparse_categorical_accuracy: 0.8824\n",
      "Epoch 4/10\n",
      "3/3 [==============================] - 0s 132ms/step - loss: 1.3178 - sparse_categorical_accuracy: 0.7647\n",
      "Epoch 5/10\n",
      "3/3 [==============================] - 0s 133ms/step - loss: 1.1466 - sparse_categorical_accuracy: 0.8824\n",
      "Epoch 6/10\n",
      "3/3 [==============================] - 0s 129ms/step - loss: 0.9018 - sparse_categorical_accuracy: 0.9412\n",
      "Epoch 7/10\n",
      "3/3 [==============================] - 0s 131ms/step - loss: 0.8988 - sparse_categorical_accuracy: 0.8824\n",
      "Epoch 8/10\n",
      "3/3 [==============================] - 0s 130ms/step - loss: 0.9697 - sparse_categorical_accuracy: 0.8824\n",
      "Epoch 9/10\n",
      "3/3 [==============================] - 0s 154ms/step - loss: 0.7946 - sparse_categorical_accuracy: 0.9412\n",
      "Epoch 10/10\n",
      "3/3 [==============================] - 0s 130ms/step - loss: 0.8463 - sparse_categorical_accuracy: 0.8235\n"
     ]
    },
    {
     "name": "stderr",
     "output_type": "stream",
     "text": [
      "\r",
      "2it [00:28, 14.06s/it]"
     ]
    },
    {
     "name": "stdout",
     "output_type": "stream",
     "text": [
      "Epoch 1/10\n",
      "3/3 [==============================] - 0s 130ms/step - loss: 1.3449 - sparse_categorical_accuracy: 0.5294\n",
      "Epoch 2/10\n",
      "3/3 [==============================] - 0s 128ms/step - loss: 1.3448 - sparse_categorical_accuracy: 0.5882\n",
      "Epoch 3/10\n",
      "3/3 [==============================] - 0s 130ms/step - loss: 1.1871 - sparse_categorical_accuracy: 0.7647\n",
      "Epoch 4/10\n",
      "3/3 [==============================] - 0s 130ms/step - loss: 1.2175 - sparse_categorical_accuracy: 0.8235\n",
      "Epoch 5/10\n",
      "3/3 [==============================] - 0s 131ms/step - loss: 1.1550 - sparse_categorical_accuracy: 0.8235\n",
      "Epoch 6/10\n",
      "3/3 [==============================] - 0s 141ms/step - loss: 0.9605 - sparse_categorical_accuracy: 0.9412\n",
      "Epoch 7/10\n",
      "3/3 [==============================] - 0s 130ms/step - loss: 1.1252 - sparse_categorical_accuracy: 0.7647\n",
      "Epoch 8/10\n",
      "3/3 [==============================] - 0s 134ms/step - loss: 1.1606 - sparse_categorical_accuracy: 0.8235\n",
      "Epoch 9/10\n",
      "3/3 [==============================] - 0s 130ms/step - loss: 0.8630 - sparse_categorical_accuracy: 0.8235\n",
      "Epoch 10/10\n",
      "3/3 [==============================] - 0s 130ms/step - loss: 0.6418 - sparse_categorical_accuracy: 1.0000\n"
     ]
    },
    {
     "name": "stderr",
     "output_type": "stream",
     "text": [
      "\r",
      "3it [00:42, 14.22s/it]"
     ]
    },
    {
     "name": "stdout",
     "output_type": "stream",
     "text": [
      "Epoch 1/10\n",
      "3/3 [==============================] - 0s 150ms/step - loss: 1.2795 - sparse_categorical_accuracy: 0.5882\n",
      "Epoch 2/10\n",
      "3/3 [==============================] - 0s 133ms/step - loss: 0.9879 - sparse_categorical_accuracy: 0.7647\n",
      "Epoch 3/10\n",
      "3/3 [==============================] - 0s 129ms/step - loss: 1.2125 - sparse_categorical_accuracy: 0.7059\n",
      "Epoch 4/10\n",
      "3/3 [==============================] - 0s 134ms/step - loss: 1.3025 - sparse_categorical_accuracy: 0.7647\n",
      "Epoch 5/10\n",
      "3/3 [==============================] - 0s 142ms/step - loss: 1.3158 - sparse_categorical_accuracy: 0.7647\n",
      "Epoch 6/10\n",
      "3/3 [==============================] - 0s 130ms/step - loss: 1.0451 - sparse_categorical_accuracy: 0.9412\n",
      "Epoch 7/10\n",
      "3/3 [==============================] - 0s 142ms/step - loss: 0.9517 - sparse_categorical_accuracy: 0.9412\n",
      "Epoch 8/10\n",
      "3/3 [==============================] - 0s 142ms/step - loss: 0.8879 - sparse_categorical_accuracy: 0.9412\n",
      "Epoch 9/10\n",
      "3/3 [==============================] - 0s 131ms/step - loss: 0.7818 - sparse_categorical_accuracy: 0.8824\n",
      "Epoch 10/10\n",
      "3/3 [==============================] - 0s 134ms/step - loss: 0.7784 - sparse_categorical_accuracy: 0.8235\n"
     ]
    },
    {
     "name": "stderr",
     "output_type": "stream",
     "text": [
      "\r",
      "4it [00:57, 14.33s/it]"
     ]
    },
    {
     "name": "stdout",
     "output_type": "stream",
     "text": [
      "Epoch 1/10\n",
      "3/3 [==============================] - 0s 154ms/step - loss: 1.1554 - sparse_categorical_accuracy: 0.5294\n",
      "Epoch 2/10\n",
      "3/3 [==============================] - 0s 154ms/step - loss: 1.0037 - sparse_categorical_accuracy: 0.7059\n",
      "Epoch 3/10\n",
      "3/3 [==============================] - 0s 154ms/step - loss: 1.1174 - sparse_categorical_accuracy: 0.8235\n",
      "Epoch 4/10\n",
      "3/3 [==============================] - 0s 153ms/step - loss: 1.0701 - sparse_categorical_accuracy: 0.7647\n",
      "Epoch 5/10\n",
      "3/3 [==============================] - 0s 143ms/step - loss: 0.9487 - sparse_categorical_accuracy: 0.9412\n",
      "Epoch 6/10\n",
      "3/3 [==============================] - 0s 149ms/step - loss: 1.0382 - sparse_categorical_accuracy: 0.9412\n",
      "Epoch 7/10\n",
      "3/3 [==============================] - 0s 149ms/step - loss: 0.7767 - sparse_categorical_accuracy: 0.9412\n",
      "Epoch 8/10\n",
      "3/3 [==============================] - 0s 149ms/step - loss: 0.7255 - sparse_categorical_accuracy: 0.9412\n",
      "Epoch 9/10\n",
      "3/3 [==============================] - 0s 154ms/step - loss: 0.6333 - sparse_categorical_accuracy: 1.0000\n",
      "Epoch 10/10\n",
      "3/3 [==============================] - 0s 143ms/step - loss: 0.7405 - sparse_categorical_accuracy: 0.8824\n"
     ]
    },
    {
     "name": "stderr",
     "output_type": "stream",
     "text": [
      "\r",
      "5it [01:14, 15.09s/it]"
     ]
    },
    {
     "name": "stdout",
     "output_type": "stream",
     "text": [
      "Epoch 1/10\n",
      "3/3 [==============================] - 0s 144ms/step - loss: 1.0420 - sparse_categorical_accuracy: 0.7647\n",
      "Epoch 2/10\n",
      "3/3 [==============================] - 0s 152ms/step - loss: 1.1956 - sparse_categorical_accuracy: 0.7059\n",
      "Epoch 3/10\n",
      "3/3 [==============================] - 0s 149ms/step - loss: 1.1429 - sparse_categorical_accuracy: 0.8235\n",
      "Epoch 4/10\n",
      "3/3 [==============================] - 0s 149ms/step - loss: 1.0235 - sparse_categorical_accuracy: 0.9412\n",
      "Epoch 5/10\n",
      "3/3 [==============================] - 0s 148ms/step - loss: 1.1031 - sparse_categorical_accuracy: 0.8824\n",
      "Epoch 6/10\n",
      "3/3 [==============================] - 0s 154ms/step - loss: 1.4207 - sparse_categorical_accuracy: 0.8235\n",
      "Epoch 7/10\n",
      "3/3 [==============================] - 0s 141ms/step - loss: 1.4240 - sparse_categorical_accuracy: 0.8235\n",
      "Epoch 8/10\n",
      "3/3 [==============================] - 0s 152ms/step - loss: 0.7541 - sparse_categorical_accuracy: 0.9412\n",
      "Epoch 9/10\n",
      "3/3 [==============================] - 0s 165ms/step - loss: 0.7743 - sparse_categorical_accuracy: 0.8824\n",
      "Epoch 10/10\n",
      "3/3 [==============================] - 0s 148ms/step - loss: 0.9702 - sparse_categorical_accuracy: 0.7647\n"
     ]
    },
    {
     "name": "stderr",
     "output_type": "stream",
     "text": [
      "\r",
      "6it [01:29, 15.04s/it]"
     ]
    },
    {
     "name": "stdout",
     "output_type": "stream",
     "text": [
      "Epoch 1/10\n",
      "3/3 [==============================] - 0s 151ms/step - loss: 1.4633 - sparse_categorical_accuracy: 0.5882\n",
      "Epoch 2/10\n",
      "3/3 [==============================] - 0s 146ms/step - loss: 1.1426 - sparse_categorical_accuracy: 0.7059\n",
      "Epoch 3/10\n",
      "3/3 [==============================] - 0s 148ms/step - loss: 1.1609 - sparse_categorical_accuracy: 0.8824\n",
      "Epoch 4/10\n",
      "3/3 [==============================] - 0s 147ms/step - loss: 1.3435 - sparse_categorical_accuracy: 0.8235\n",
      "Epoch 5/10\n",
      "3/3 [==============================] - 0s 148ms/step - loss: 1.3222 - sparse_categorical_accuracy: 0.8235\n",
      "Epoch 6/10\n",
      "3/3 [==============================] - 0s 138ms/step - loss: 1.2788 - sparse_categorical_accuracy: 0.8235\n",
      "Epoch 7/10\n",
      "3/3 [==============================] - 0s 148ms/step - loss: 1.0237 - sparse_categorical_accuracy: 0.8824\n",
      "Epoch 8/10\n",
      "3/3 [==============================] - 0s 142ms/step - loss: 0.8273 - sparse_categorical_accuracy: 0.9412\n",
      "Epoch 9/10\n",
      "3/3 [==============================] - 0s 148ms/step - loss: 0.8183 - sparse_categorical_accuracy: 0.8824\n",
      "Epoch 10/10\n",
      "3/3 [==============================] - 0s 141ms/step - loss: 0.6479 - sparse_categorical_accuracy: 1.0000\n"
     ]
    },
    {
     "name": "stderr",
     "output_type": "stream",
     "text": [
      "\r",
      "7it [01:43, 14.97s/it]"
     ]
    },
    {
     "name": "stdout",
     "output_type": "stream",
     "text": [
      "Epoch 1/10\n",
      "3/3 [==============================] - 0s 147ms/step - loss: 1.1753 - sparse_categorical_accuracy: 0.6471\n",
      "Epoch 2/10\n",
      "3/3 [==============================] - 0s 146ms/step - loss: 1.2479 - sparse_categorical_accuracy: 0.7647\n",
      "Epoch 3/10\n",
      "3/3 [==============================] - 0s 148ms/step - loss: 1.0252 - sparse_categorical_accuracy: 0.9412\n",
      "Epoch 4/10\n",
      "3/3 [==============================] - 0s 138ms/step - loss: 1.0042 - sparse_categorical_accuracy: 0.9412\n",
      "Epoch 5/10\n",
      "3/3 [==============================] - 0s 154ms/step - loss: 0.9464 - sparse_categorical_accuracy: 1.0000\n",
      "Epoch 6/10\n",
      "3/3 [==============================] - 0s 153ms/step - loss: 0.9580 - sparse_categorical_accuracy: 0.8235\n",
      "Epoch 7/10\n",
      "3/3 [==============================] - 0s 148ms/step - loss: 0.7541 - sparse_categorical_accuracy: 0.9412\n",
      "Epoch 8/10\n",
      "3/3 [==============================] - 0s 143ms/step - loss: 0.7502 - sparse_categorical_accuracy: 0.8824\n",
      "Epoch 9/10\n",
      "3/3 [==============================] - 0s 149ms/step - loss: 1.0997 - sparse_categorical_accuracy: 0.8235\n",
      "Epoch 10/10\n",
      "3/3 [==============================] - 0s 166ms/step - loss: 1.1979 - sparse_categorical_accuracy: 0.6471\n"
     ]
    },
    {
     "name": "stderr",
     "output_type": "stream",
     "text": [
      "\r",
      "8it [01:58, 14.90s/it]"
     ]
    },
    {
     "name": "stdout",
     "output_type": "stream",
     "text": [
      "Epoch 1/10\n",
      "3/3 [==============================] - 0s 141ms/step - loss: 1.3181 - sparse_categorical_accuracy: 0.5294\n",
      "Epoch 2/10\n",
      "3/3 [==============================] - 0s 148ms/step - loss: 1.1615 - sparse_categorical_accuracy: 0.7647\n",
      "Epoch 3/10\n",
      "3/3 [==============================] - 0s 143ms/step - loss: 1.3563 - sparse_categorical_accuracy: 0.8235\n",
      "Epoch 4/10\n",
      "3/3 [==============================] - 0s 144ms/step - loss: 1.1312 - sparse_categorical_accuracy: 0.8824\n",
      "Epoch 5/10\n",
      "3/3 [==============================] - 0s 144ms/step - loss: 0.9529 - sparse_categorical_accuracy: 0.9412\n",
      "Epoch 6/10\n",
      "3/3 [==============================] - 0s 148ms/step - loss: 1.0444 - sparse_categorical_accuracy: 0.9412\n",
      "Epoch 7/10\n",
      "3/3 [==============================] - 0s 143ms/step - loss: 0.8059 - sparse_categorical_accuracy: 0.8824\n",
      "Epoch 8/10\n",
      "3/3 [==============================] - 0s 146ms/step - loss: 0.8104 - sparse_categorical_accuracy: 0.8824\n",
      "Epoch 9/10\n",
      "3/3 [==============================] - 0s 148ms/step - loss: 0.6873 - sparse_categorical_accuracy: 0.9412\n",
      "Epoch 10/10\n",
      "3/3 [==============================] - 0s 148ms/step - loss: 0.9097 - sparse_categorical_accuracy: 0.8824\n"
     ]
    },
    {
     "name": "stderr",
     "output_type": "stream",
     "text": [
      "\r",
      "9it [02:13, 14.87s/it]"
     ]
    },
    {
     "name": "stdout",
     "output_type": "stream",
     "text": [
      "Epoch 1/10\n",
      "3/3 [==============================] - 0s 153ms/step - loss: 1.1666 - sparse_categorical_accuracy: 0.6471\n",
      "Epoch 2/10\n",
      "3/3 [==============================] - 0s 149ms/step - loss: 1.1889 - sparse_categorical_accuracy: 0.5294\n",
      "Epoch 3/10\n",
      "3/3 [==============================] - 0s 145ms/step - loss: 1.2017 - sparse_categorical_accuracy: 0.7059\n",
      "Epoch 4/10\n",
      "3/3 [==============================] - 0s 149ms/step - loss: 1.0570 - sparse_categorical_accuracy: 0.8824\n",
      "Epoch 5/10\n",
      "3/3 [==============================] - 0s 138ms/step - loss: 1.0736 - sparse_categorical_accuracy: 0.8235\n",
      "Epoch 6/10\n",
      "3/3 [==============================] - 0s 149ms/step - loss: 1.1981 - sparse_categorical_accuracy: 0.8824\n",
      "Epoch 7/10\n",
      "3/3 [==============================] - 0s 137ms/step - loss: 0.9752 - sparse_categorical_accuracy: 0.9412\n",
      "Epoch 8/10\n",
      "3/3 [==============================] - 0s 146ms/step - loss: 1.2585 - sparse_categorical_accuracy: 0.7059\n",
      "Epoch 9/10\n",
      "3/3 [==============================] - 0s 148ms/step - loss: 0.9485 - sparse_categorical_accuracy: 0.8235\n",
      "Epoch 10/10\n",
      "3/3 [==============================] - 0s 147ms/step - loss: 1.0154 - sparse_categorical_accuracy: 0.8824\n"
     ]
    },
    {
     "name": "stderr",
     "output_type": "stream",
     "text": [
      "\r",
      "10it [02:28, 14.83s/it]"
     ]
    },
    {
     "name": "stdout",
     "output_type": "stream",
     "text": [
      "Epoch 1/10\n",
      "3/3 [==============================] - 0s 141ms/step - loss: 1.3275 - sparse_categorical_accuracy: 0.4706\n",
      "Epoch 2/10\n",
      "3/3 [==============================] - 0s 145ms/step - loss: 1.1753 - sparse_categorical_accuracy: 0.7059\n",
      "Epoch 3/10\n",
      "3/3 [==============================] - 0s 142ms/step - loss: 1.1259 - sparse_categorical_accuracy: 0.7647\n",
      "Epoch 4/10\n",
      "3/3 [==============================] - 0s 142ms/step - loss: 1.5899 - sparse_categorical_accuracy: 0.6471\n",
      "Epoch 5/10\n",
      "3/3 [==============================] - 0s 148ms/step - loss: 1.0961 - sparse_categorical_accuracy: 0.8824\n",
      "Epoch 6/10\n",
      "3/3 [==============================] - 0s 135ms/step - loss: 1.0349 - sparse_categorical_accuracy: 0.8235\n",
      "Epoch 7/10\n",
      "3/3 [==============================] - 0s 143ms/step - loss: 1.0759 - sparse_categorical_accuracy: 0.8235\n",
      "Epoch 8/10\n",
      "3/3 [==============================] - 0s 143ms/step - loss: 0.8890 - sparse_categorical_accuracy: 0.9412\n",
      "Epoch 9/10\n",
      "3/3 [==============================] - 0s 148ms/step - loss: 0.7458 - sparse_categorical_accuracy: 1.0000\n",
      "Epoch 10/10\n",
      "3/3 [==============================] - 0s 142ms/step - loss: 0.8257 - sparse_categorical_accuracy: 0.8824\n"
     ]
    },
    {
     "name": "stderr",
     "output_type": "stream",
     "text": [
      "\r",
      "11it [02:42, 14.72s/it]"
     ]
    },
    {
     "name": "stdout",
     "output_type": "stream",
     "text": [
      "Epoch 1/10\n",
      "3/3 [==============================] - 0s 140ms/step - loss: 1.3787 - sparse_categorical_accuracy: 0.4706\n",
      "Epoch 2/10\n",
      "3/3 [==============================] - 0s 146ms/step - loss: 1.7041 - sparse_categorical_accuracy: 0.5294\n",
      "Epoch 3/10\n",
      "3/3 [==============================] - 0s 137ms/step - loss: 1.5797 - sparse_categorical_accuracy: 0.4118\n",
      "Epoch 4/10\n",
      "3/3 [==============================] - 0s 134ms/step - loss: 1.4126 - sparse_categorical_accuracy: 0.7059\n",
      "Epoch 5/10\n",
      "3/3 [==============================] - 0s 137ms/step - loss: 1.2312 - sparse_categorical_accuracy: 0.8235\n",
      "Epoch 6/10\n",
      "3/3 [==============================] - 0s 143ms/step - loss: 1.2754 - sparse_categorical_accuracy: 0.8235\n",
      "Epoch 7/10\n",
      "3/3 [==============================] - 0s 143ms/step - loss: 1.5036 - sparse_categorical_accuracy: 0.7647\n",
      "Epoch 8/10\n",
      "3/3 [==============================] - 0s 141ms/step - loss: 1.0040 - sparse_categorical_accuracy: 0.9412\n",
      "Epoch 9/10\n",
      "3/3 [==============================] - 0s 148ms/step - loss: 0.9061 - sparse_categorical_accuracy: 0.8824\n",
      "Epoch 10/10\n",
      "3/3 [==============================] - 0s 135ms/step - loss: 0.8063 - sparse_categorical_accuracy: 0.9412\n"
     ]
    },
    {
     "name": "stderr",
     "output_type": "stream",
     "text": [
      "\r",
      "12it [02:57, 14.62s/it]"
     ]
    },
    {
     "name": "stdout",
     "output_type": "stream",
     "text": [
      "Epoch 1/10\n",
      "3/3 [==============================] - 0s 136ms/step - loss: 1.4156 - sparse_categorical_accuracy: 0.4118\n",
      "Epoch 2/10\n",
      "3/3 [==============================] - 0s 143ms/step - loss: 1.4063 - sparse_categorical_accuracy: 0.7647\n",
      "Epoch 3/10\n",
      "3/3 [==============================] - 0s 133ms/step - loss: 1.0951 - sparse_categorical_accuracy: 0.7059\n",
      "Epoch 4/10\n",
      "3/3 [==============================] - 0s 138ms/step - loss: 1.1167 - sparse_categorical_accuracy: 0.7059\n",
      "Epoch 5/10\n",
      "3/3 [==============================] - 0s 142ms/step - loss: 1.5678 - sparse_categorical_accuracy: 0.5294\n",
      "Epoch 6/10\n",
      "3/3 [==============================] - 0s 135ms/step - loss: 1.2509 - sparse_categorical_accuracy: 0.8235\n",
      "Epoch 7/10\n",
      "3/3 [==============================] - 0s 137ms/step - loss: 1.2278 - sparse_categorical_accuracy: 0.7059\n",
      "Epoch 8/10\n",
      "3/3 [==============================] - 0s 142ms/step - loss: 1.0355 - sparse_categorical_accuracy: 0.8824\n",
      "Epoch 9/10\n",
      "3/3 [==============================] - 0s 134ms/step - loss: 1.4862 - sparse_categorical_accuracy: 0.7647\n",
      "Epoch 10/10\n",
      "3/3 [==============================] - 0s 143ms/step - loss: 0.9882 - sparse_categorical_accuracy: 0.9412\n"
     ]
    },
    {
     "name": "stderr",
     "output_type": "stream",
     "text": [
      "\r",
      "13it [03:11, 14.57s/it]"
     ]
    },
    {
     "name": "stdout",
     "output_type": "stream",
     "text": [
      "Epoch 1/10\n",
      "3/3 [==============================] - 0s 148ms/step - loss: 1.5629 - sparse_categorical_accuracy: 0.2941\n",
      "Epoch 2/10\n",
      "3/3 [==============================] - 0s 137ms/step - loss: 1.0027 - sparse_categorical_accuracy: 0.8235\n",
      "Epoch 3/10\n",
      "3/3 [==============================] - 0s 148ms/step - loss: 1.0531 - sparse_categorical_accuracy: 0.9412\n",
      "Epoch 4/10\n",
      "3/3 [==============================] - 0s 140ms/step - loss: 0.9741 - sparse_categorical_accuracy: 1.0000\n",
      "Epoch 5/10\n",
      "3/3 [==============================] - 0s 137ms/step - loss: 1.1826 - sparse_categorical_accuracy: 0.8824\n",
      "Epoch 6/10\n",
      "3/3 [==============================] - 0s 140ms/step - loss: 1.4007 - sparse_categorical_accuracy: 0.7647\n",
      "Epoch 7/10\n",
      "3/3 [==============================] - 0s 135ms/step - loss: 1.1236 - sparse_categorical_accuracy: 0.7647\n",
      "Epoch 8/10\n",
      "3/3 [==============================] - 0s 135ms/step - loss: 1.3666 - sparse_categorical_accuracy: 0.8235\n",
      "Epoch 9/10\n",
      "3/3 [==============================] - 0s 136ms/step - loss: 1.3342 - sparse_categorical_accuracy: 0.7647\n",
      "Epoch 10/10\n",
      "3/3 [==============================] - 0s 132ms/step - loss: 0.8926 - sparse_categorical_accuracy: 0.8235\n"
     ]
    },
    {
     "name": "stderr",
     "output_type": "stream",
     "text": [
      "\r",
      "14it [03:26, 14.56s/it]"
     ]
    },
    {
     "name": "stdout",
     "output_type": "stream",
     "text": [
      "Epoch 1/10\n",
      "3/3 [==============================] - 0s 142ms/step - loss: 1.1688 - sparse_categorical_accuracy: 0.5882\n",
      "Epoch 2/10\n",
      "3/3 [==============================] - 0s 140ms/step - loss: 1.1477 - sparse_categorical_accuracy: 0.8235\n",
      "Epoch 3/10\n",
      "3/3 [==============================] - 0s 141ms/step - loss: 1.0967 - sparse_categorical_accuracy: 0.8824\n",
      "Epoch 4/10\n",
      "3/3 [==============================] - 0s 135ms/step - loss: 1.0672 - sparse_categorical_accuracy: 0.8235\n",
      "Epoch 5/10\n",
      "3/3 [==============================] - 0s 131ms/step - loss: 0.9391 - sparse_categorical_accuracy: 0.8824\n",
      "Epoch 6/10\n",
      "3/3 [==============================] - 0s 130ms/step - loss: 1.7702 - sparse_categorical_accuracy: 0.6471\n",
      "Epoch 7/10\n",
      "3/3 [==============================] - 0s 142ms/step - loss: 0.8618 - sparse_categorical_accuracy: 0.9412\n",
      "Epoch 8/10\n",
      "3/3 [==============================] - 0s 136ms/step - loss: 1.7062 - sparse_categorical_accuracy: 0.5882\n",
      "Epoch 9/10\n",
      "3/3 [==============================] - 0s 141ms/step - loss: 0.7465 - sparse_categorical_accuracy: 0.9412\n",
      "Epoch 10/10\n",
      "3/3 [==============================] - 0s 137ms/step - loss: 0.7716 - sparse_categorical_accuracy: 0.8824\n"
     ]
    },
    {
     "name": "stderr",
     "output_type": "stream",
     "text": [
      "\r",
      "15it [03:40, 14.50s/it]"
     ]
    },
    {
     "name": "stdout",
     "output_type": "stream",
     "text": [
      "Epoch 1/10\n",
      "3/3 [==============================] - 0s 147ms/step - loss: 1.3335 - sparse_categorical_accuracy: 0.5882\n",
      "Epoch 2/10\n",
      "3/3 [==============================] - 0s 135ms/step - loss: 1.1362 - sparse_categorical_accuracy: 0.7059\n",
      "Epoch 3/10\n",
      "3/3 [==============================] - 0s 142ms/step - loss: 1.0654 - sparse_categorical_accuracy: 0.8235\n",
      "Epoch 4/10\n",
      "3/3 [==============================] - 0s 142ms/step - loss: 0.9701 - sparse_categorical_accuracy: 0.9412\n",
      "Epoch 5/10\n",
      "3/3 [==============================] - 0s 142ms/step - loss: 1.1102 - sparse_categorical_accuracy: 0.7647\n",
      "Epoch 6/10\n",
      "3/3 [==============================] - 0s 135ms/step - loss: 0.9363 - sparse_categorical_accuracy: 0.8824\n",
      "Epoch 7/10\n",
      "3/3 [==============================] - 0s 143ms/step - loss: 0.7778 - sparse_categorical_accuracy: 0.9412\n",
      "Epoch 8/10\n",
      "3/3 [==============================] - 0s 142ms/step - loss: 0.7535 - sparse_categorical_accuracy: 0.9412\n",
      "Epoch 9/10\n",
      "3/3 [==============================] - 0s 142ms/step - loss: 1.1459 - sparse_categorical_accuracy: 0.7647\n",
      "Epoch 10/10\n",
      "3/3 [==============================] - 0s 145ms/step - loss: 0.7779 - sparse_categorical_accuracy: 0.8824\n"
     ]
    },
    {
     "name": "stderr",
     "output_type": "stream",
     "text": [
      "\r",
      "16it [03:54, 14.47s/it]"
     ]
    },
    {
     "name": "stdout",
     "output_type": "stream",
     "text": [
      "Epoch 1/10\n",
      "3/3 [==============================] - 0s 136ms/step - loss: 1.7336 - sparse_categorical_accuracy: 0.6471\n",
      "Epoch 2/10\n",
      "3/3 [==============================] - 0s 144ms/step - loss: 1.3860 - sparse_categorical_accuracy: 0.6471\n",
      "Epoch 3/10\n",
      "3/3 [==============================] - 0s 142ms/step - loss: 1.1615 - sparse_categorical_accuracy: 0.7059\n",
      "Epoch 4/10\n",
      "3/3 [==============================] - 0s 137ms/step - loss: 1.5179 - sparse_categorical_accuracy: 0.7059\n",
      "Epoch 5/10\n",
      "3/3 [==============================] - 0s 131ms/step - loss: 1.2193 - sparse_categorical_accuracy: 0.7647\n",
      "Epoch 6/10\n",
      "3/3 [==============================] - 0s 142ms/step - loss: 1.6340 - sparse_categorical_accuracy: 0.7647\n",
      "Epoch 7/10\n",
      "3/3 [==============================] - 0s 142ms/step - loss: 1.2947 - sparse_categorical_accuracy: 0.7059\n",
      "Epoch 8/10\n",
      "3/3 [==============================] - 0s 135ms/step - loss: 1.0085 - sparse_categorical_accuracy: 0.8235\n",
      "Epoch 9/10\n",
      "3/3 [==============================] - 0s 142ms/step - loss: 0.9695 - sparse_categorical_accuracy: 0.7647\n",
      "Epoch 10/10\n",
      "3/3 [==============================] - 0s 143ms/step - loss: 0.8596 - sparse_categorical_accuracy: 0.8235\n"
     ]
    },
    {
     "name": "stderr",
     "output_type": "stream",
     "text": [
      "\r",
      "17it [04:09, 14.57s/it]"
     ]
    },
    {
     "name": "stdout",
     "output_type": "stream",
     "text": [
      "Epoch 1/10\n",
      "3/3 [==============================] - 0s 142ms/step - loss: 1.5037 - sparse_categorical_accuracy: 0.5294\n",
      "Epoch 2/10\n",
      "3/3 [==============================] - 0s 142ms/step - loss: 1.2898 - sparse_categorical_accuracy: 0.5882\n",
      "Epoch 3/10\n",
      "3/3 [==============================] - 0s 141ms/step - loss: 1.2946 - sparse_categorical_accuracy: 0.7059\n",
      "Epoch 4/10\n",
      "3/3 [==============================] - 0s 142ms/step - loss: 1.4690 - sparse_categorical_accuracy: 0.7647\n",
      "Epoch 5/10\n",
      "3/3 [==============================] - 0s 142ms/step - loss: 1.2165 - sparse_categorical_accuracy: 0.9412\n",
      "Epoch 6/10\n",
      "3/3 [==============================] - 0s 139ms/step - loss: 1.1020 - sparse_categorical_accuracy: 0.8824\n",
      "Epoch 7/10\n",
      "3/3 [==============================] - 0s 131ms/step - loss: 1.1444 - sparse_categorical_accuracy: 0.8824\n",
      "Epoch 8/10\n",
      "3/3 [==============================] - 0s 142ms/step - loss: 0.9289 - sparse_categorical_accuracy: 0.8824\n",
      "Epoch 9/10\n",
      "3/3 [==============================] - 0s 142ms/step - loss: 0.8700 - sparse_categorical_accuracy: 0.8235\n",
      "Epoch 10/10\n",
      "3/3 [==============================] - 0s 139ms/step - loss: 0.7180 - sparse_categorical_accuracy: 0.9412\n"
     ]
    },
    {
     "name": "stderr",
     "output_type": "stream",
     "text": [
      "18it [04:24, 14.67s/it]\n",
      "0it [00:00, ?it/s]"
     ]
    },
    {
     "name": "stdout",
     "output_type": "stream",
     "text": [
      "Epoch 1/10\n",
      "3/3 [==============================] - 1s 193ms/step - loss: 1.0654 - sparse_categorical_accuracy: 0.6316\n",
      "Epoch 2/10\n",
      "3/3 [==============================] - 1s 178ms/step - loss: 1.0215 - sparse_categorical_accuracy: 0.7368\n",
      "Epoch 3/10\n",
      "3/3 [==============================] - 1s 176ms/step - loss: 0.9291 - sparse_categorical_accuracy: 0.8947\n",
      "Epoch 4/10\n",
      "3/3 [==============================] - 1s 176ms/step - loss: 0.9366 - sparse_categorical_accuracy: 0.8947\n",
      "Epoch 5/10\n",
      "3/3 [==============================] - 1s 176ms/step - loss: 1.3161 - sparse_categorical_accuracy: 0.6316\n",
      "Epoch 6/10\n",
      "3/3 [==============================] - 1s 177ms/step - loss: 1.9217 - sparse_categorical_accuracy: 0.5789\n",
      "Epoch 7/10\n",
      "3/3 [==============================] - 1s 177ms/step - loss: 1.1386 - sparse_categorical_accuracy: 0.8421\n",
      "Epoch 8/10\n",
      "3/3 [==============================] - 1s 176ms/step - loss: 1.6002 - sparse_categorical_accuracy: 0.6842\n",
      "Epoch 9/10\n",
      "3/3 [==============================] - 1s 181ms/step - loss: 1.1167 - sparse_categorical_accuracy: 0.8947\n",
      "Epoch 10/10\n",
      "3/3 [==============================] - 1s 178ms/step - loss: 1.2518 - sparse_categorical_accuracy: 0.8947\n"
     ]
    },
    {
     "name": "stderr",
     "output_type": "stream",
     "text": [
      "\r",
      "1it [00:18, 18.20s/it]"
     ]
    },
    {
     "name": "stdout",
     "output_type": "stream",
     "text": [
      "Epoch 1/10\n",
      "3/3 [==============================] - 1s 178ms/step - loss: 1.0471 - sparse_categorical_accuracy: 0.7895\n",
      "Epoch 2/10\n",
      "3/3 [==============================] - 1s 176ms/step - loss: 0.8865 - sparse_categorical_accuracy: 0.8947\n",
      "Epoch 3/10\n",
      "3/3 [==============================] - 1s 176ms/step - loss: 0.8707 - sparse_categorical_accuracy: 0.9474\n",
      "Epoch 4/10\n",
      "3/3 [==============================] - 1s 175ms/step - loss: 0.9814 - sparse_categorical_accuracy: 0.9474\n",
      "Epoch 5/10\n",
      "3/3 [==============================] - 1s 175ms/step - loss: 1.1501 - sparse_categorical_accuracy: 0.8947\n",
      "Epoch 6/10\n",
      "3/3 [==============================] - 1s 176ms/step - loss: 1.2023 - sparse_categorical_accuracy: 0.8947\n",
      "Epoch 7/10\n",
      "3/3 [==============================] - 1s 177ms/step - loss: 1.4051 - sparse_categorical_accuracy: 0.7895\n",
      "Epoch 8/10\n",
      "3/3 [==============================] - 1s 176ms/step - loss: 1.3998 - sparse_categorical_accuracy: 0.7895\n",
      "Epoch 9/10\n",
      "3/3 [==============================] - 1s 172ms/step - loss: 1.5172 - sparse_categorical_accuracy: 0.7895\n",
      "Epoch 10/10\n",
      "3/3 [==============================] - 1s 182ms/step - loss: 1.1711 - sparse_categorical_accuracy: 0.8947\n"
     ]
    },
    {
     "name": "stderr",
     "output_type": "stream",
     "text": [
      "\r",
      "2it [00:34, 17.51s/it]"
     ]
    },
    {
     "name": "stdout",
     "output_type": "stream",
     "text": [
      "Epoch 1/10\n",
      "3/3 [==============================] - 1s 177ms/step - loss: 1.2423 - sparse_categorical_accuracy: 0.5263\n",
      "Epoch 2/10\n",
      "3/3 [==============================] - 1s 169ms/step - loss: 1.1995 - sparse_categorical_accuracy: 0.5263\n",
      "Epoch 3/10\n",
      "3/3 [==============================] - 1s 170ms/step - loss: 1.2068 - sparse_categorical_accuracy: 0.6842\n",
      "Epoch 4/10\n",
      "3/3 [==============================] - 1s 176ms/step - loss: 1.1530 - sparse_categorical_accuracy: 0.8421\n",
      "Epoch 5/10\n",
      "3/3 [==============================] - 1s 171ms/step - loss: 1.3197 - sparse_categorical_accuracy: 0.8421\n",
      "Epoch 6/10\n",
      "3/3 [==============================] - 1s 177ms/step - loss: 1.3749 - sparse_categorical_accuracy: 0.8947\n",
      "Epoch 7/10\n",
      "3/3 [==============================] - 1s 175ms/step - loss: 1.2152 - sparse_categorical_accuracy: 0.8947\n",
      "Epoch 8/10\n",
      "3/3 [==============================] - 1s 172ms/step - loss: 1.2526 - sparse_categorical_accuracy: 0.7895\n",
      "Epoch 9/10\n",
      "3/3 [==============================] - 1s 172ms/step - loss: 1.5008 - sparse_categorical_accuracy: 0.8421\n",
      "Epoch 10/10\n",
      "3/3 [==============================] - 1s 177ms/step - loss: 2.0104 - sparse_categorical_accuracy: 0.6316\n"
     ]
    },
    {
     "name": "stderr",
     "output_type": "stream",
     "text": [
      "\r",
      "3it [00:49, 17.00s/it]"
     ]
    },
    {
     "name": "stdout",
     "output_type": "stream",
     "text": [
      "Epoch 1/10\n",
      "3/3 [==============================] - 1s 175ms/step - loss: 1.1727 - sparse_categorical_accuracy: 0.5263\n",
      "Epoch 2/10\n",
      "3/3 [==============================] - 1s 171ms/step - loss: 1.2863 - sparse_categorical_accuracy: 0.6842\n",
      "Epoch 3/10\n",
      "3/3 [==============================] - 1s 172ms/step - loss: 1.3321 - sparse_categorical_accuracy: 0.5789\n",
      "Epoch 4/10\n",
      "3/3 [==============================] - 1s 171ms/step - loss: 1.3733 - sparse_categorical_accuracy: 0.7368\n",
      "Epoch 5/10\n",
      "3/3 [==============================] - 1s 170ms/step - loss: 1.3373 - sparse_categorical_accuracy: 0.7368\n",
      "Epoch 6/10\n",
      "3/3 [==============================] - 1s 173ms/step - loss: 1.2273 - sparse_categorical_accuracy: 0.9474\n",
      "Epoch 7/10\n",
      "3/3 [==============================] - 1s 171ms/step - loss: 1.5832 - sparse_categorical_accuracy: 0.8947\n",
      "Epoch 8/10\n",
      "3/3 [==============================] - 1s 175ms/step - loss: 1.4626 - sparse_categorical_accuracy: 0.7368\n",
      "Epoch 9/10\n",
      "3/3 [==============================] - 1s 183ms/step - loss: 1.6279 - sparse_categorical_accuracy: 0.7895\n",
      "Epoch 10/10\n",
      "3/3 [==============================] - 1s 171ms/step - loss: 1.2889 - sparse_categorical_accuracy: 0.7368\n"
     ]
    },
    {
     "name": "stderr",
     "output_type": "stream",
     "text": [
      "\r",
      "4it [01:05, 16.61s/it]"
     ]
    },
    {
     "name": "stdout",
     "output_type": "stream",
     "text": [
      "Epoch 1/10\n",
      "3/3 [==============================] - 1s 169ms/step - loss: 1.2372 - sparse_categorical_accuracy: 0.7368\n",
      "Epoch 2/10\n",
      "3/3 [==============================] - 1s 171ms/step - loss: 1.5009 - sparse_categorical_accuracy: 0.5789\n",
      "Epoch 3/10\n",
      "3/3 [==============================] - 1s 170ms/step - loss: 1.2000 - sparse_categorical_accuracy: 0.7368\n",
      "Epoch 4/10\n",
      "3/3 [==============================] - 1s 170ms/step - loss: 1.4784 - sparse_categorical_accuracy: 0.7895\n",
      "Epoch 5/10\n",
      "3/3 [==============================] - 1s 171ms/step - loss: 1.4934 - sparse_categorical_accuracy: 0.6842\n",
      "Epoch 6/10\n",
      "3/3 [==============================] - 1s 170ms/step - loss: 1.4943 - sparse_categorical_accuracy: 0.7895\n",
      "Epoch 7/10\n",
      "3/3 [==============================] - 1s 171ms/step - loss: 1.5123 - sparse_categorical_accuracy: 0.7368\n",
      "Epoch 8/10\n",
      "3/3 [==============================] - 1s 171ms/step - loss: 1.6299 - sparse_categorical_accuracy: 0.7368\n",
      "Epoch 9/10\n",
      "3/3 [==============================] - 0s 166ms/step - loss: 1.1628 - sparse_categorical_accuracy: 0.8947\n",
      "Epoch 10/10\n",
      "3/3 [==============================] - 1s 170ms/step - loss: 1.1289 - sparse_categorical_accuracy: 0.9474\n"
     ]
    },
    {
     "name": "stderr",
     "output_type": "stream",
     "text": [
      "\r",
      "5it [01:21, 16.26s/it]"
     ]
    },
    {
     "name": "stdout",
     "output_type": "stream",
     "text": [
      "Epoch 1/10\n",
      "3/3 [==============================] - 1s 173ms/step - loss: 1.3742 - sparse_categorical_accuracy: 0.4737\n",
      "Epoch 2/10\n",
      "3/3 [==============================] - 1s 170ms/step - loss: 0.9583 - sparse_categorical_accuracy: 0.8421\n",
      "Epoch 3/10\n",
      "3/3 [==============================] - 1s 178ms/step - loss: 0.9064 - sparse_categorical_accuracy: 0.9474\n",
      "Epoch 4/10\n",
      "3/3 [==============================] - 0s 165ms/step - loss: 1.2250 - sparse_categorical_accuracy: 0.8421\n",
      "Epoch 5/10\n",
      "3/3 [==============================] - 0s 164ms/step - loss: 1.0907 - sparse_categorical_accuracy: 0.8947\n",
      "Epoch 6/10\n",
      "3/3 [==============================] - 0s 166ms/step - loss: 1.0390 - sparse_categorical_accuracy: 0.8947\n",
      "Epoch 7/10\n",
      "3/3 [==============================] - 1s 170ms/step - loss: 1.2312 - sparse_categorical_accuracy: 0.7895\n",
      "Epoch 8/10\n",
      "3/3 [==============================] - 1s 187ms/step - loss: 1.4334 - sparse_categorical_accuracy: 0.7368\n",
      "Epoch 9/10\n",
      "3/3 [==============================] - 1s 171ms/step - loss: 1.0654 - sparse_categorical_accuracy: 0.8947\n",
      "Epoch 10/10\n",
      "3/3 [==============================] - 0s 166ms/step - loss: 0.8802 - sparse_categorical_accuracy: 0.9474\n"
     ]
    },
    {
     "name": "stderr",
     "output_type": "stream",
     "text": [
      "\r",
      "6it [01:36, 16.05s/it]"
     ]
    },
    {
     "name": "stdout",
     "output_type": "stream",
     "text": [
      "Epoch 1/10\n",
      "3/3 [==============================] - 1s 172ms/step - loss: 1.2817 - sparse_categorical_accuracy: 0.6316\n",
      "Epoch 2/10\n",
      "3/3 [==============================] - 0s 165ms/step - loss: 1.2090 - sparse_categorical_accuracy: 0.6842\n",
      "Epoch 3/10\n",
      "3/3 [==============================] - 1s 170ms/step - loss: 1.2005 - sparse_categorical_accuracy: 0.7895\n",
      "Epoch 4/10\n",
      "3/3 [==============================] - 1s 167ms/step - loss: 1.1175 - sparse_categorical_accuracy: 0.8421\n",
      "Epoch 5/10\n",
      "3/3 [==============================] - 1s 171ms/step - loss: 1.4942 - sparse_categorical_accuracy: 0.8421\n",
      "Epoch 6/10\n",
      "3/3 [==============================] - 1s 168ms/step - loss: 1.2736 - sparse_categorical_accuracy: 0.8947\n",
      "Epoch 7/10\n",
      "3/3 [==============================] - 0s 166ms/step - loss: 1.2002 - sparse_categorical_accuracy: 0.8421\n",
      "Epoch 8/10\n",
      "3/3 [==============================] - 1s 171ms/step - loss: 1.5281 - sparse_categorical_accuracy: 0.7368\n",
      "Epoch 9/10\n",
      "3/3 [==============================] - 1s 169ms/step - loss: 1.2911 - sparse_categorical_accuracy: 0.7368\n",
      "Epoch 10/10\n",
      "3/3 [==============================] - 1s 169ms/step - loss: 1.0040 - sparse_categorical_accuracy: 0.9474\n"
     ]
    },
    {
     "name": "stderr",
     "output_type": "stream",
     "text": [
      "\r",
      "7it [01:51, 15.82s/it]"
     ]
    },
    {
     "name": "stdout",
     "output_type": "stream",
     "text": [
      "Epoch 1/10\n",
      "3/3 [==============================] - 1s 172ms/step - loss: 1.1720 - sparse_categorical_accuracy: 0.6842\n",
      "Epoch 2/10\n",
      "3/3 [==============================] - 0s 166ms/step - loss: 1.2867 - sparse_categorical_accuracy: 0.7368\n",
      "Epoch 3/10\n",
      "3/3 [==============================] - 0s 165ms/step - loss: 0.9516 - sparse_categorical_accuracy: 0.8947\n",
      "Epoch 4/10\n",
      "3/3 [==============================] - 1s 168ms/step - loss: 1.5336 - sparse_categorical_accuracy: 0.7895\n",
      "Epoch 5/10\n",
      "3/3 [==============================] - 1s 168ms/step - loss: 1.0465 - sparse_categorical_accuracy: 1.0000\n",
      "Epoch 6/10\n",
      "3/3 [==============================] - 1s 167ms/step - loss: 1.1017 - sparse_categorical_accuracy: 0.8947\n",
      "Epoch 7/10\n",
      "3/3 [==============================] - 0s 164ms/step - loss: 1.2451 - sparse_categorical_accuracy: 0.8421\n",
      "Epoch 8/10\n",
      "3/3 [==============================] - 1s 180ms/step - loss: 2.1351 - sparse_categorical_accuracy: 0.5263\n",
      "Epoch 9/10\n",
      "3/3 [==============================] - 0s 165ms/step - loss: 1.0653 - sparse_categorical_accuracy: 0.8947\n",
      "Epoch 10/10\n",
      "3/3 [==============================] - 1s 171ms/step - loss: 1.2786 - sparse_categorical_accuracy: 0.8421\n"
     ]
    },
    {
     "name": "stderr",
     "output_type": "stream",
     "text": [
      "\r",
      "8it [02:07, 15.66s/it]"
     ]
    },
    {
     "name": "stdout",
     "output_type": "stream",
     "text": [
      "Epoch 1/10\n",
      "3/3 [==============================] - 1s 172ms/step - loss: 1.2300 - sparse_categorical_accuracy: 0.6316\n",
      "Epoch 2/10\n",
      "3/3 [==============================] - 1s 168ms/step - loss: 0.9712 - sparse_categorical_accuracy: 0.8947\n",
      "Epoch 3/10\n",
      "3/3 [==============================] - 0s 165ms/step - loss: 1.4007 - sparse_categorical_accuracy: 0.7368\n",
      "Epoch 4/10\n",
      "3/3 [==============================] - 0s 166ms/step - loss: 1.5922 - sparse_categorical_accuracy: 0.7368\n",
      "Epoch 5/10\n",
      "3/3 [==============================] - 0s 163ms/step - loss: 1.8120 - sparse_categorical_accuracy: 0.6842\n",
      "Epoch 6/10\n",
      "3/3 [==============================] - 0s 166ms/step - loss: 1.3532 - sparse_categorical_accuracy: 0.8947\n",
      "Epoch 7/10\n",
      "3/3 [==============================] - 0s 165ms/step - loss: 1.5758 - sparse_categorical_accuracy: 0.7895\n",
      "Epoch 8/10\n",
      "3/3 [==============================] - 0s 165ms/step - loss: 1.3734 - sparse_categorical_accuracy: 0.8421\n",
      "Epoch 9/10\n",
      "3/3 [==============================] - 0s 164ms/step - loss: 1.7127 - sparse_categorical_accuracy: 0.6316\n",
      "Epoch 10/10\n",
      "3/3 [==============================] - 0s 164ms/step - loss: 1.1901 - sparse_categorical_accuracy: 0.8421\n"
     ]
    },
    {
     "name": "stderr",
     "output_type": "stream",
     "text": [
      "\r",
      "9it [02:22, 15.52s/it]"
     ]
    },
    {
     "name": "stdout",
     "output_type": "stream",
     "text": [
      "Epoch 1/10\n",
      "3/3 [==============================] - 1s 168ms/step - loss: 1.1763 - sparse_categorical_accuracy: 0.6316\n",
      "Epoch 2/10\n",
      "3/3 [==============================] - 0s 159ms/step - loss: 1.0646 - sparse_categorical_accuracy: 0.7368\n",
      "Epoch 3/10\n",
      "3/3 [==============================] - 0s 165ms/step - loss: 1.1753 - sparse_categorical_accuracy: 0.7368\n",
      "Epoch 4/10\n",
      "3/3 [==============================] - 0s 160ms/step - loss: 1.1953 - sparse_categorical_accuracy: 0.8421\n",
      "Epoch 5/10\n",
      "3/3 [==============================] - 0s 165ms/step - loss: 1.4347 - sparse_categorical_accuracy: 0.7368\n",
      "Epoch 6/10\n",
      "3/3 [==============================] - 0s 165ms/step - loss: 1.2887 - sparse_categorical_accuracy: 0.8947\n",
      "Epoch 7/10\n",
      "3/3 [==============================] - 1s 175ms/step - loss: 1.2447 - sparse_categorical_accuracy: 0.8947\n",
      "Epoch 8/10\n",
      "3/3 [==============================] - 0s 161ms/step - loss: 1.0526 - sparse_categorical_accuracy: 0.9474\n",
      "Epoch 9/10\n",
      "3/3 [==============================] - 0s 166ms/step - loss: 1.0158 - sparse_categorical_accuracy: 0.9474\n",
      "Epoch 10/10\n",
      "3/3 [==============================] - 0s 165ms/step - loss: 1.2928 - sparse_categorical_accuracy: 0.8421\n"
     ]
    },
    {
     "name": "stderr",
     "output_type": "stream",
     "text": [
      "\r",
      "10it [02:37, 15.42s/it]"
     ]
    },
    {
     "name": "stdout",
     "output_type": "stream",
     "text": [
      "Epoch 1/10\n",
      "3/3 [==============================] - 1s 168ms/step - loss: 1.5480 - sparse_categorical_accuracy: 0.3684\n",
      "Epoch 2/10\n",
      "3/3 [==============================] - 0s 160ms/step - loss: 1.3456 - sparse_categorical_accuracy: 0.6316\n",
      "Epoch 3/10\n",
      "3/3 [==============================] - 0s 162ms/step - loss: 1.0897 - sparse_categorical_accuracy: 0.7895\n",
      "Epoch 4/10\n",
      "3/3 [==============================] - 0s 159ms/step - loss: 1.1978 - sparse_categorical_accuracy: 0.7895\n",
      "Epoch 5/10\n",
      "3/3 [==============================] - 0s 164ms/step - loss: 1.7928 - sparse_categorical_accuracy: 0.7368\n",
      "Epoch 6/10\n",
      "3/3 [==============================] - 0s 164ms/step - loss: 1.5644 - sparse_categorical_accuracy: 0.8421\n",
      "Epoch 7/10\n",
      "3/3 [==============================] - 0s 160ms/step - loss: 1.2531 - sparse_categorical_accuracy: 0.9474\n",
      "Epoch 8/10\n",
      "3/3 [==============================] - 0s 166ms/step - loss: 1.2956 - sparse_categorical_accuracy: 0.8947\n",
      "Epoch 9/10\n",
      "3/3 [==============================] - 0s 164ms/step - loss: 1.0443 - sparse_categorical_accuracy: 0.9474\n",
      "Epoch 10/10\n",
      "3/3 [==============================] - 0s 163ms/step - loss: 0.8826 - sparse_categorical_accuracy: 1.0000\n"
     ]
    },
    {
     "name": "stderr",
     "output_type": "stream",
     "text": [
      "\r",
      "11it [02:52, 15.34s/it]"
     ]
    },
    {
     "name": "stdout",
     "output_type": "stream",
     "text": [
      "Epoch 1/10\n",
      "3/3 [==============================] - 0s 165ms/step - loss: 1.2103 - sparse_categorical_accuracy: 0.5789\n",
      "Epoch 2/10\n",
      "3/3 [==============================] - 0s 160ms/step - loss: 0.8909 - sparse_categorical_accuracy: 0.8947\n",
      "Epoch 3/10\n",
      "3/3 [==============================] - 0s 164ms/step - loss: 1.1769 - sparse_categorical_accuracy: 0.8421\n",
      "Epoch 4/10\n",
      "3/3 [==============================] - 0s 162ms/step - loss: 1.4617 - sparse_categorical_accuracy: 0.8947\n",
      "Epoch 5/10\n",
      "3/3 [==============================] - 0s 160ms/step - loss: 1.3093 - sparse_categorical_accuracy: 0.7895\n",
      "Epoch 6/10\n",
      "3/3 [==============================] - 0s 159ms/step - loss: 1.5079 - sparse_categorical_accuracy: 0.8421\n",
      "Epoch 7/10\n",
      "3/3 [==============================] - 0s 164ms/step - loss: 1.5289 - sparse_categorical_accuracy: 0.7895\n",
      "Epoch 8/10\n",
      "3/3 [==============================] - 1s 171ms/step - loss: 1.1966 - sparse_categorical_accuracy: 0.8421\n",
      "Epoch 9/10\n",
      "3/3 [==============================] - 0s 163ms/step - loss: 1.3894 - sparse_categorical_accuracy: 0.7368\n",
      "Epoch 10/10\n",
      "3/3 [==============================] - 0s 164ms/step - loss: 1.6924 - sparse_categorical_accuracy: 0.5263\n"
     ]
    },
    {
     "name": "stderr",
     "output_type": "stream",
     "text": [
      "\r",
      "12it [03:07, 15.32s/it]"
     ]
    },
    {
     "name": "stdout",
     "output_type": "stream",
     "text": [
      "Epoch 1/10\n",
      "3/3 [==============================] - 1s 170ms/step - loss: 1.3567 - sparse_categorical_accuracy: 0.4737\n",
      "Epoch 2/10\n",
      "3/3 [==============================] - 0s 162ms/step - loss: 1.3739 - sparse_categorical_accuracy: 0.5789\n",
      "Epoch 3/10\n",
      "3/3 [==============================] - 0s 158ms/step - loss: 1.3892 - sparse_categorical_accuracy: 0.6842\n",
      "Epoch 4/10\n",
      "3/3 [==============================] - 0s 158ms/step - loss: 1.1978 - sparse_categorical_accuracy: 0.8947\n",
      "Epoch 5/10\n",
      "3/3 [==============================] - 0s 163ms/step - loss: 1.3757 - sparse_categorical_accuracy: 0.8947\n",
      "Epoch 6/10\n",
      "3/3 [==============================] - 0s 159ms/step - loss: 1.6474 - sparse_categorical_accuracy: 0.7895\n",
      "Epoch 7/10\n",
      "3/3 [==============================] - 0s 158ms/step - loss: 1.5281 - sparse_categorical_accuracy: 0.8421\n",
      "Epoch 8/10\n",
      "3/3 [==============================] - 0s 164ms/step - loss: 1.3307 - sparse_categorical_accuracy: 0.8947\n",
      "Epoch 9/10\n",
      "3/3 [==============================] - 0s 162ms/step - loss: 1.2211 - sparse_categorical_accuracy: 0.8947\n",
      "Epoch 10/10\n",
      "3/3 [==============================] - 0s 165ms/step - loss: 1.2212 - sparse_categorical_accuracy: 0.7895\n"
     ]
    },
    {
     "name": "stderr",
     "output_type": "stream",
     "text": [
      "\r",
      "13it [03:23, 15.26s/it]"
     ]
    },
    {
     "name": "stdout",
     "output_type": "stream",
     "text": [
      "Epoch 1/10\n",
      "3/3 [==============================] - 0s 162ms/step - loss: 1.1318 - sparse_categorical_accuracy: 0.6316\n",
      "Epoch 2/10\n",
      "3/3 [==============================] - 0s 161ms/step - loss: 1.0151 - sparse_categorical_accuracy: 0.8421\n",
      "Epoch 3/10\n",
      "3/3 [==============================] - 0s 160ms/step - loss: 1.1202 - sparse_categorical_accuracy: 0.7895\n",
      "Epoch 4/10\n",
      "3/3 [==============================] - 0s 163ms/step - loss: 1.0763 - sparse_categorical_accuracy: 0.8947\n",
      "Epoch 5/10\n",
      "3/3 [==============================] - 0s 160ms/step - loss: 0.9951 - sparse_categorical_accuracy: 0.9474\n",
      "Epoch 6/10\n",
      "3/3 [==============================] - 0s 165ms/step - loss: 1.0519 - sparse_categorical_accuracy: 1.0000\n",
      "Epoch 7/10\n",
      "3/3 [==============================] - 1s 187ms/step - loss: 1.0717 - sparse_categorical_accuracy: 1.0000\n",
      "Epoch 8/10\n",
      "3/3 [==============================] - 0s 166ms/step - loss: 1.4834 - sparse_categorical_accuracy: 0.7895\n",
      "Epoch 9/10\n",
      "3/3 [==============================] - 0s 160ms/step - loss: 0.9671 - sparse_categorical_accuracy: 0.9474\n",
      "Epoch 10/10\n",
      "3/3 [==============================] - 0s 165ms/step - loss: 1.1603 - sparse_categorical_accuracy: 0.8947\n"
     ]
    },
    {
     "name": "stderr",
     "output_type": "stream",
     "text": [
      "\r",
      "14it [03:38, 15.28s/it]"
     ]
    },
    {
     "name": "stdout",
     "output_type": "stream",
     "text": [
      "Epoch 1/10\n",
      "3/3 [==============================] - 1s 169ms/step - loss: 1.5183 - sparse_categorical_accuracy: 0.4211\n",
      "Epoch 2/10\n",
      "3/3 [==============================] - 0s 162ms/step - loss: 1.2700 - sparse_categorical_accuracy: 0.5263\n",
      "Epoch 3/10\n",
      "3/3 [==============================] - 0s 159ms/step - loss: 1.2464 - sparse_categorical_accuracy: 0.7368\n",
      "Epoch 4/10\n",
      "3/3 [==============================] - 0s 164ms/step - loss: 1.3579 - sparse_categorical_accuracy: 0.6842\n",
      "Epoch 5/10\n",
      "3/3 [==============================] - 1s 170ms/step - loss: 1.6409 - sparse_categorical_accuracy: 0.7368\n",
      "Epoch 6/10\n",
      "3/3 [==============================] - 1s 183ms/step - loss: 1.4511 - sparse_categorical_accuracy: 0.8421\n",
      "Epoch 7/10\n",
      "3/3 [==============================] - 0s 165ms/step - loss: 1.4307 - sparse_categorical_accuracy: 0.8947\n",
      "Epoch 8/10\n",
      "3/3 [==============================] - 0s 164ms/step - loss: 1.3334 - sparse_categorical_accuracy: 0.8421\n",
      "Epoch 9/10\n",
      "3/3 [==============================] - 1s 168ms/step - loss: 1.1105 - sparse_categorical_accuracy: 1.0000\n",
      "Epoch 10/10\n",
      "3/3 [==============================] - 0s 163ms/step - loss: 1.2348 - sparse_categorical_accuracy: 0.8421\n"
     ]
    },
    {
     "name": "stderr",
     "output_type": "stream",
     "text": [
      "\r",
      "15it [03:53, 15.33s/it]"
     ]
    },
    {
     "name": "stdout",
     "output_type": "stream",
     "text": [
      "Epoch 1/10\n",
      "3/3 [==============================] - 1s 182ms/step - loss: 1.1048 - sparse_categorical_accuracy: 0.6316\n",
      "Epoch 2/10\n",
      "3/3 [==============================] - 1s 177ms/step - loss: 1.0820 - sparse_categorical_accuracy: 0.8421\n",
      "Epoch 3/10\n",
      "3/3 [==============================] - 1s 180ms/step - loss: 1.1557 - sparse_categorical_accuracy: 0.7895\n",
      "Epoch 4/10\n",
      "3/3 [==============================] - 1s 191ms/step - loss: 1.9318 - sparse_categorical_accuracy: 0.6316\n",
      "Epoch 5/10\n",
      "3/3 [==============================] - 1s 180ms/step - loss: 1.5290 - sparse_categorical_accuracy: 0.7895\n",
      "Epoch 6/10\n",
      "3/3 [==============================] - 1s 178ms/step - loss: 1.6056 - sparse_categorical_accuracy: 0.7368\n",
      "Epoch 7/10\n",
      "3/3 [==============================] - 1s 182ms/step - loss: 1.4682 - sparse_categorical_accuracy: 0.9474\n",
      "Epoch 8/10\n",
      "3/3 [==============================] - 1s 183ms/step - loss: 1.5008 - sparse_categorical_accuracy: 0.9474\n",
      "Epoch 9/10\n",
      "3/3 [==============================] - 1s 183ms/step - loss: 1.5199 - sparse_categorical_accuracy: 0.9474\n",
      "Epoch 10/10\n",
      "3/3 [==============================] - 1s 182ms/step - loss: 1.5284 - sparse_categorical_accuracy: 0.8421\n"
     ]
    },
    {
     "name": "stderr",
     "output_type": "stream",
     "text": [
      "\r",
      "16it [04:12, 16.25s/it]"
     ]
    },
    {
     "name": "stdout",
     "output_type": "stream",
     "text": [
      "Epoch 1/10\n",
      "3/3 [==============================] - 1s 182ms/step - loss: 1.1326 - sparse_categorical_accuracy: 0.6842\n",
      "Epoch 2/10\n",
      "3/3 [==============================] - 1s 183ms/step - loss: 1.0263 - sparse_categorical_accuracy: 0.7368\n",
      "Epoch 3/10\n",
      "3/3 [==============================] - 1s 182ms/step - loss: 1.0269 - sparse_categorical_accuracy: 0.8421\n",
      "Epoch 4/10\n",
      "3/3 [==============================] - 1s 177ms/step - loss: 1.0009 - sparse_categorical_accuracy: 0.8947\n",
      "Epoch 5/10\n",
      "3/3 [==============================] - 1s 182ms/step - loss: 1.0628 - sparse_categorical_accuracy: 0.9474\n",
      "Epoch 6/10\n",
      "3/3 [==============================] - 1s 182ms/step - loss: 1.4180 - sparse_categorical_accuracy: 0.8421\n",
      "Epoch 7/10\n",
      "3/3 [==============================] - 1s 182ms/step - loss: 1.2691 - sparse_categorical_accuracy: 0.8421\n",
      "Epoch 8/10\n",
      "3/3 [==============================] - 1s 177ms/step - loss: 1.2986 - sparse_categorical_accuracy: 0.7895\n",
      "Epoch 9/10\n",
      "3/3 [==============================] - 1s 177ms/step - loss: 1.0198 - sparse_categorical_accuracy: 0.8947\n",
      "Epoch 10/10\n",
      "3/3 [==============================] - 1s 176ms/step - loss: 1.4286 - sparse_categorical_accuracy: 0.7368\n"
     ]
    },
    {
     "name": "stderr",
     "output_type": "stream",
     "text": [
      "\r",
      "17it [04:28, 16.20s/it]"
     ]
    },
    {
     "name": "stdout",
     "output_type": "stream",
     "text": [
      "Epoch 1/10\n",
      "3/3 [==============================] - 1s 188ms/step - loss: 0.7553 - sparse_categorical_accuracy: 0.8947\n",
      "Epoch 2/10\n",
      "3/3 [==============================] - 1s 178ms/step - loss: 0.9136 - sparse_categorical_accuracy: 0.8421\n",
      "Epoch 3/10\n",
      "3/3 [==============================] - 1s 177ms/step - loss: 0.9499 - sparse_categorical_accuracy: 0.8421\n",
      "Epoch 4/10\n",
      "3/3 [==============================] - 1s 181ms/step - loss: 1.1410 - sparse_categorical_accuracy: 0.7895\n",
      "Epoch 5/10\n",
      "3/3 [==============================] - 1s 176ms/step - loss: 0.9325 - sparse_categorical_accuracy: 0.8947\n",
      "Epoch 6/10\n",
      "3/3 [==============================] - 1s 177ms/step - loss: 1.0150 - sparse_categorical_accuracy: 0.8947\n",
      "Epoch 7/10\n",
      "3/3 [==============================] - 1s 182ms/step - loss: 0.9914 - sparse_categorical_accuracy: 0.9474\n",
      "Epoch 8/10\n",
      "3/3 [==============================] - 1s 189ms/step - loss: 0.9305 - sparse_categorical_accuracy: 0.9474\n",
      "Epoch 9/10\n",
      "3/3 [==============================] - 1s 177ms/step - loss: 0.9037 - sparse_categorical_accuracy: 0.8947\n",
      "Epoch 10/10\n",
      "3/3 [==============================] - 1s 172ms/step - loss: 0.9947 - sparse_categorical_accuracy: 0.8421\n"
     ]
    },
    {
     "name": "stderr",
     "output_type": "stream",
     "text": [
      "\r",
      "18it [04:44, 16.20s/it]"
     ]
    },
    {
     "name": "stdout",
     "output_type": "stream",
     "text": [
      "Epoch 1/10\n",
      "3/3 [==============================] - 1s 183ms/step - loss: 1.0512 - sparse_categorical_accuracy: 0.6316\n",
      "Epoch 2/10\n",
      "3/3 [==============================] - 1s 177ms/step - loss: 1.1880 - sparse_categorical_accuracy: 0.6842\n",
      "Epoch 3/10\n",
      "3/3 [==============================] - 1s 177ms/step - loss: 1.0561 - sparse_categorical_accuracy: 0.7895\n",
      "Epoch 4/10\n",
      "3/3 [==============================] - 1s 172ms/step - loss: 1.0581 - sparse_categorical_accuracy: 0.8947\n",
      "Epoch 5/10\n",
      "3/3 [==============================] - 1s 177ms/step - loss: 1.0157 - sparse_categorical_accuracy: 0.8947\n",
      "Epoch 6/10\n",
      "3/3 [==============================] - 1s 177ms/step - loss: 1.2985 - sparse_categorical_accuracy: 0.7895\n",
      "Epoch 7/10\n",
      "3/3 [==============================] - 1s 177ms/step - loss: 1.4289 - sparse_categorical_accuracy: 0.7368\n",
      "Epoch 8/10\n",
      "3/3 [==============================] - 1s 177ms/step - loss: 1.3769 - sparse_categorical_accuracy: 0.7895\n",
      "Epoch 9/10\n",
      "3/3 [==============================] - 1s 177ms/step - loss: 1.4607 - sparse_categorical_accuracy: 0.7368\n",
      "Epoch 10/10\n",
      "3/3 [==============================] - 1s 177ms/step - loss: 1.7292 - sparse_categorical_accuracy: 0.6316\n"
     ]
    },
    {
     "name": "stderr",
     "output_type": "stream",
     "text": [
      "\r",
      "19it [05:00, 16.14s/it]"
     ]
    },
    {
     "name": "stdout",
     "output_type": "stream",
     "text": [
      "Epoch 1/10\n",
      "3/3 [==============================] - 1s 177ms/step - loss: 1.1114 - sparse_categorical_accuracy: 0.5789\n",
      "Epoch 2/10\n",
      "3/3 [==============================] - 1s 173ms/step - loss: 1.0741 - sparse_categorical_accuracy: 0.7368\n",
      "Epoch 3/10\n",
      "3/3 [==============================] - 1s 177ms/step - loss: 1.3319 - sparse_categorical_accuracy: 0.7895\n",
      "Epoch 4/10\n",
      "3/3 [==============================] - 1s 168ms/step - loss: 1.4157 - sparse_categorical_accuracy: 0.8947\n",
      "Epoch 5/10\n",
      "3/3 [==============================] - 1s 176ms/step - loss: 1.7752 - sparse_categorical_accuracy: 0.8421\n",
      "Epoch 6/10\n",
      "3/3 [==============================] - 1s 176ms/step - loss: 1.7829 - sparse_categorical_accuracy: 0.8421\n",
      "Epoch 7/10\n",
      "3/3 [==============================] - 1s 175ms/step - loss: 1.6886 - sparse_categorical_accuracy: 0.7895\n",
      "Epoch 8/10\n",
      "3/3 [==============================] - 1s 172ms/step - loss: 1.5668 - sparse_categorical_accuracy: 0.7895\n",
      "Epoch 9/10\n",
      "3/3 [==============================] - 1s 177ms/step - loss: 1.4652 - sparse_categorical_accuracy: 0.7895\n",
      "Epoch 10/10\n",
      "3/3 [==============================] - 1s 174ms/step - loss: 1.4722 - sparse_categorical_accuracy: 0.8421\n"
     ]
    },
    {
     "name": "stderr",
     "output_type": "stream",
     "text": [
      "20it [05:16, 15.83s/it]\n",
      "0it [00:00, ?it/s]"
     ]
    },
    {
     "name": "stdout",
     "output_type": "stream",
     "text": [
      "Epoch 1/10\n",
      "2/2 [==============================] - 0s 70ms/step - loss: 1.4832 - sparse_categorical_accuracy: 0.4545\n",
      "Epoch 2/10\n",
      "2/2 [==============================] - 0s 57ms/step - loss: 1.1255 - sparse_categorical_accuracy: 0.7273\n",
      "Epoch 3/10\n",
      "2/2 [==============================] - 0s 60ms/step - loss: 1.0442 - sparse_categorical_accuracy: 0.7273\n",
      "Epoch 4/10\n",
      "2/2 [==============================] - 0s 65ms/step - loss: 1.1544 - sparse_categorical_accuracy: 0.5455\n",
      "Epoch 5/10\n",
      "2/2 [==============================] - 0s 63ms/step - loss: 1.1278 - sparse_categorical_accuracy: 0.9091\n",
      "Epoch 6/10\n",
      "2/2 [==============================] - 0s 57ms/step - loss: 1.0883 - sparse_categorical_accuracy: 0.9091\n",
      "Epoch 7/10\n",
      "2/2 [==============================] - 0s 60ms/step - loss: 1.1361 - sparse_categorical_accuracy: 1.0000\n",
      "Epoch 8/10\n",
      "2/2 [==============================] - 0s 63ms/step - loss: 1.3080 - sparse_categorical_accuracy: 1.0000\n",
      "Epoch 9/10\n",
      "2/2 [==============================] - 0s 63ms/step - loss: 1.1591 - sparse_categorical_accuracy: 0.9091\n",
      "Epoch 10/10\n",
      "2/2 [==============================] - 0s 71ms/step - loss: 1.2187 - sparse_categorical_accuracy: 1.0000\n"
     ]
    },
    {
     "name": "stderr",
     "output_type": "stream",
     "text": [
      "\r",
      "1it [00:11, 11.88s/it]"
     ]
    },
    {
     "name": "stdout",
     "output_type": "stream",
     "text": [
      "Epoch 1/10\n",
      "2/2 [==============================] - 0s 83ms/step - loss: 1.2000 - sparse_categorical_accuracy: 0.5455\n",
      "Epoch 2/10\n",
      "2/2 [==============================] - 0s 66ms/step - loss: 1.1785 - sparse_categorical_accuracy: 0.7273\n",
      "Epoch 3/10\n",
      "2/2 [==============================] - 0s 63ms/step - loss: 1.0509 - sparse_categorical_accuracy: 0.7273\n",
      "Epoch 4/10\n",
      "2/2 [==============================] - 0s 56ms/step - loss: 1.1094 - sparse_categorical_accuracy: 0.7273\n",
      "Epoch 5/10\n",
      "2/2 [==============================] - 0s 61ms/step - loss: 1.0678 - sparse_categorical_accuracy: 0.9091\n",
      "Epoch 6/10\n",
      "2/2 [==============================] - 0s 65ms/step - loss: 1.0897 - sparse_categorical_accuracy: 0.9091\n",
      "Epoch 7/10\n",
      "2/2 [==============================] - 0s 65ms/step - loss: 1.8563 - sparse_categorical_accuracy: 0.5455\n",
      "Epoch 8/10\n",
      "2/2 [==============================] - 0s 56ms/step - loss: 1.2938 - sparse_categorical_accuracy: 1.0000\n",
      "Epoch 9/10\n",
      "2/2 [==============================] - 0s 59ms/step - loss: 1.6719 - sparse_categorical_accuracy: 0.6364\n",
      "Epoch 10/10\n",
      "2/2 [==============================] - 0s 63ms/step - loss: 1.5833 - sparse_categorical_accuracy: 0.9091\n"
     ]
    },
    {
     "name": "stderr",
     "output_type": "stream",
     "text": [
      "\r",
      "2it [00:23, 11.87s/it]"
     ]
    },
    {
     "name": "stdout",
     "output_type": "stream",
     "text": [
      "Epoch 1/10\n",
      "2/2 [==============================] - 0s 62ms/step - loss: 1.3674 - sparse_categorical_accuracy: 0.4545\n",
      "Epoch 2/10\n",
      "2/2 [==============================] - 0s 62ms/step - loss: 1.0643 - sparse_categorical_accuracy: 0.7273\n",
      "Epoch 3/10\n",
      "2/2 [==============================] - 0s 58ms/step - loss: 1.1647 - sparse_categorical_accuracy: 0.6364\n",
      "Epoch 4/10\n",
      "2/2 [==============================] - 0s 60ms/step - loss: 1.1777 - sparse_categorical_accuracy: 0.8182\n",
      "Epoch 5/10\n",
      "2/2 [==============================] - 0s 57ms/step - loss: 1.0826 - sparse_categorical_accuracy: 0.9091\n",
      "Epoch 6/10\n",
      "2/2 [==============================] - 0s 61ms/step - loss: 1.2797 - sparse_categorical_accuracy: 0.9091\n",
      "Epoch 7/10\n",
      "2/2 [==============================] - 0s 64ms/step - loss: 1.4664 - sparse_categorical_accuracy: 0.8182\n",
      "Epoch 8/10\n",
      "2/2 [==============================] - 0s 57ms/step - loss: 1.1436 - sparse_categorical_accuracy: 1.0000\n",
      "Epoch 9/10\n",
      "2/2 [==============================] - 0s 65ms/step - loss: 1.0628 - sparse_categorical_accuracy: 0.9091\n",
      "Epoch 10/10\n",
      "2/2 [==============================] - 0s 57ms/step - loss: 2.1848 - sparse_categorical_accuracy: 0.7273\n"
     ]
    },
    {
     "name": "stderr",
     "output_type": "stream",
     "text": [
      "\r",
      "3it [00:35, 11.85s/it]"
     ]
    },
    {
     "name": "stdout",
     "output_type": "stream",
     "text": [
      "Epoch 1/10\n",
      "2/2 [==============================] - 0s 59ms/step - loss: 1.3555 - sparse_categorical_accuracy: 0.5455\n",
      "Epoch 2/10\n",
      "2/2 [==============================] - 0s 64ms/step - loss: 1.2100 - sparse_categorical_accuracy: 0.6364\n",
      "Epoch 3/10\n",
      "2/2 [==============================] - 0s 58ms/step - loss: 0.8459 - sparse_categorical_accuracy: 0.9091\n",
      "Epoch 4/10\n",
      "2/2 [==============================] - 0s 62ms/step - loss: 1.0551 - sparse_categorical_accuracy: 0.8182\n",
      "Epoch 5/10\n",
      "2/2 [==============================] - 0s 54ms/step - loss: 0.8770 - sparse_categorical_accuracy: 1.0000\n",
      "Epoch 6/10\n",
      "2/2 [==============================] - 0s 67ms/step - loss: 1.0618 - sparse_categorical_accuracy: 0.9091\n",
      "Epoch 7/10\n",
      "2/2 [==============================] - 0s 59ms/step - loss: 0.9616 - sparse_categorical_accuracy: 1.0000\n",
      "Epoch 8/10\n",
      "2/2 [==============================] - 0s 56ms/step - loss: 1.0257 - sparse_categorical_accuracy: 1.0000\n",
      "Epoch 9/10\n",
      "2/2 [==============================] - 0s 58ms/step - loss: 1.2813 - sparse_categorical_accuracy: 0.9091\n",
      "Epoch 10/10\n",
      "2/2 [==============================] - 0s 65ms/step - loss: 1.4077 - sparse_categorical_accuracy: 0.8182\n"
     ]
    },
    {
     "name": "stderr",
     "output_type": "stream",
     "text": [
      "\r",
      "4it [00:47, 11.80s/it]"
     ]
    },
    {
     "name": "stdout",
     "output_type": "stream",
     "text": [
      "Epoch 1/10\n",
      "2/2 [==============================] - 0s 68ms/step - loss: 1.0172 - sparse_categorical_accuracy: 0.6364\n",
      "Epoch 2/10\n",
      "2/2 [==============================] - 0s 57ms/step - loss: 0.7990 - sparse_categorical_accuracy: 0.9091\n",
      "Epoch 3/10\n",
      "2/2 [==============================] - 0s 63ms/step - loss: 0.8875 - sparse_categorical_accuracy: 0.8182\n",
      "Epoch 4/10\n",
      "2/2 [==============================] - 0s 56ms/step - loss: 0.8306 - sparse_categorical_accuracy: 0.9091\n",
      "Epoch 5/10\n",
      "2/2 [==============================] - 0s 64ms/step - loss: 1.5138 - sparse_categorical_accuracy: 0.6364\n",
      "Epoch 6/10\n",
      "2/2 [==============================] - 0s 58ms/step - loss: 0.9951 - sparse_categorical_accuracy: 1.0000\n",
      "Epoch 7/10\n",
      "2/2 [==============================] - 0s 57ms/step - loss: 1.2100 - sparse_categorical_accuracy: 0.7273\n",
      "Epoch 8/10\n",
      "2/2 [==============================] - 0s 57ms/step - loss: 1.0748 - sparse_categorical_accuracy: 0.9091\n",
      "Epoch 9/10\n",
      "2/2 [==============================] - 0s 56ms/step - loss: 1.0140 - sparse_categorical_accuracy: 1.0000\n",
      "Epoch 10/10\n",
      "2/2 [==============================] - 0s 56ms/step - loss: 1.0632 - sparse_categorical_accuracy: 1.0000\n"
     ]
    },
    {
     "name": "stderr",
     "output_type": "stream",
     "text": [
      "\r",
      "5it [00:58, 11.78s/it]"
     ]
    },
    {
     "name": "stdout",
     "output_type": "stream",
     "text": [
      "Epoch 1/10\n",
      "2/2 [==============================] - 0s 61ms/step - loss: 1.2752 - sparse_categorical_accuracy: 0.4545\n",
      "Epoch 2/10\n",
      "2/2 [==============================] - 0s 58ms/step - loss: 1.5012 - sparse_categorical_accuracy: 0.5455\n",
      "Epoch 3/10\n",
      "2/2 [==============================] - 0s 56ms/step - loss: 1.1717 - sparse_categorical_accuracy: 0.6364\n",
      "Epoch 4/10\n",
      "2/2 [==============================] - 0s 56ms/step - loss: 0.9017 - sparse_categorical_accuracy: 0.9091\n",
      "Epoch 5/10\n",
      "2/2 [==============================] - 0s 57ms/step - loss: 1.0673 - sparse_categorical_accuracy: 1.0000\n",
      "Epoch 6/10\n",
      "2/2 [==============================] - 0s 65ms/step - loss: 1.3291 - sparse_categorical_accuracy: 0.9091\n",
      "Epoch 7/10\n",
      "2/2 [==============================] - 0s 64ms/step - loss: 1.2777 - sparse_categorical_accuracy: 0.9091\n",
      "Epoch 8/10\n",
      "2/2 [==============================] - 0s 60ms/step - loss: 1.2293 - sparse_categorical_accuracy: 0.9091\n",
      "Epoch 9/10\n",
      "2/2 [==============================] - 0s 67ms/step - loss: 1.3568 - sparse_categorical_accuracy: 0.9091\n",
      "Epoch 10/10\n",
      "2/2 [==============================] - 0s 57ms/step - loss: 1.3307 - sparse_categorical_accuracy: 0.9091\n"
     ]
    },
    {
     "name": "stderr",
     "output_type": "stream",
     "text": [
      "\r",
      "6it [01:10, 11.75s/it]"
     ]
    },
    {
     "name": "stdout",
     "output_type": "stream",
     "text": [
      "Epoch 1/10\n",
      "2/2 [==============================] - 0s 61ms/step - loss: 1.4226 - sparse_categorical_accuracy: 0.5455\n",
      "Epoch 2/10\n",
      "2/2 [==============================] - 0s 56ms/step - loss: 1.6140 - sparse_categorical_accuracy: 0.7273\n",
      "Epoch 3/10\n",
      "2/2 [==============================] - 0s 55ms/step - loss: 1.7295 - sparse_categorical_accuracy: 0.6364\n",
      "Epoch 4/10\n",
      "2/2 [==============================] - 0s 60ms/step - loss: 1.3278 - sparse_categorical_accuracy: 0.5455\n",
      "Epoch 5/10\n",
      "2/2 [==============================] - 0s 66ms/step - loss: 1.3963 - sparse_categorical_accuracy: 0.7273\n",
      "Epoch 6/10\n",
      "2/2 [==============================] - 0s 58ms/step - loss: 2.1669 - sparse_categorical_accuracy: 0.2727\n",
      "Epoch 7/10\n",
      "2/2 [==============================] - 0s 64ms/step - loss: 1.2835 - sparse_categorical_accuracy: 0.8182\n",
      "Epoch 8/10\n",
      "2/2 [==============================] - 0s 58ms/step - loss: 1.7938 - sparse_categorical_accuracy: 0.6364\n",
      "Epoch 9/10\n",
      "2/2 [==============================] - 0s 63ms/step - loss: 1.2199 - sparse_categorical_accuracy: 0.9091\n",
      "Epoch 10/10\n",
      "2/2 [==============================] - 0s 65ms/step - loss: 1.2469 - sparse_categorical_accuracy: 1.0000\n"
     ]
    },
    {
     "name": "stderr",
     "output_type": "stream",
     "text": [
      "\r",
      "7it [01:22, 11.74s/it]"
     ]
    },
    {
     "name": "stdout",
     "output_type": "stream",
     "text": [
      "Epoch 1/10\n",
      "2/2 [==============================] - 0s 67ms/step - loss: 0.7772 - sparse_categorical_accuracy: 0.9091\n",
      "Epoch 2/10\n",
      "2/2 [==============================] - 0s 56ms/step - loss: 1.0131 - sparse_categorical_accuracy: 0.8182\n",
      "Epoch 3/10\n",
      "2/2 [==============================] - 0s 62ms/step - loss: 0.6522 - sparse_categorical_accuracy: 1.0000\n",
      "Epoch 4/10\n",
      "2/2 [==============================] - 0s 56ms/step - loss: 0.7599 - sparse_categorical_accuracy: 1.0000\n",
      "Epoch 5/10\n",
      "2/2 [==============================] - 0s 63ms/step - loss: 1.6427 - sparse_categorical_accuracy: 0.6364\n",
      "Epoch 6/10\n",
      "2/2 [==============================] - 0s 54ms/step - loss: 1.0063 - sparse_categorical_accuracy: 0.8182\n",
      "Epoch 7/10\n",
      "2/2 [==============================] - 0s 55ms/step - loss: 0.8812 - sparse_categorical_accuracy: 1.0000\n",
      "Epoch 8/10\n",
      "2/2 [==============================] - 0s 64ms/step - loss: 1.2418 - sparse_categorical_accuracy: 0.8182\n",
      "Epoch 9/10\n",
      "2/2 [==============================] - 0s 57ms/step - loss: 1.1217 - sparse_categorical_accuracy: 0.9091\n",
      "Epoch 10/10\n",
      "2/2 [==============================] - 0s 60ms/step - loss: 1.2644 - sparse_categorical_accuracy: 0.9091\n"
     ]
    },
    {
     "name": "stderr",
     "output_type": "stream",
     "text": [
      "\r",
      "8it [01:33, 11.70s/it]"
     ]
    },
    {
     "name": "stdout",
     "output_type": "stream",
     "text": [
      "Epoch 1/10\n",
      "2/2 [==============================] - 0s 61ms/step - loss: 1.4521 - sparse_categorical_accuracy: 0.4545\n",
      "Epoch 2/10\n",
      "2/2 [==============================] - 0s 56ms/step - loss: 1.0782 - sparse_categorical_accuracy: 0.7273\n",
      "Epoch 3/10\n",
      "2/2 [==============================] - 0s 56ms/step - loss: 0.6914 - sparse_categorical_accuracy: 1.0000\n",
      "Epoch 4/10\n",
      "2/2 [==============================] - 0s 63ms/step - loss: 0.9248 - sparse_categorical_accuracy: 0.8182\n",
      "Epoch 5/10\n",
      "2/2 [==============================] - 0s 57ms/step - loss: 1.1534 - sparse_categorical_accuracy: 0.9091\n",
      "Epoch 6/10\n",
      "2/2 [==============================] - 0s 64ms/step - loss: 1.3482 - sparse_categorical_accuracy: 0.8182\n",
      "Epoch 7/10\n",
      "2/2 [==============================] - 0s 55ms/step - loss: 1.6065 - sparse_categorical_accuracy: 0.7273\n",
      "Epoch 8/10\n",
      "2/2 [==============================] - 0s 57ms/step - loss: 1.6779 - sparse_categorical_accuracy: 0.7273\n",
      "Epoch 9/10\n",
      "2/2 [==============================] - 0s 56ms/step - loss: 1.6473 - sparse_categorical_accuracy: 0.8182\n",
      "Epoch 10/10\n",
      "2/2 [==============================] - 0s 58ms/step - loss: 1.5991 - sparse_categorical_accuracy: 0.8182\n"
     ]
    },
    {
     "name": "stderr",
     "output_type": "stream",
     "text": [
      "\r",
      "9it [01:45, 11.70s/it]"
     ]
    },
    {
     "name": "stdout",
     "output_type": "stream",
     "text": [
      "Epoch 1/10\n",
      "2/2 [==============================] - 0s 62ms/step - loss: 1.3757 - sparse_categorical_accuracy: 0.4545\n",
      "Epoch 2/10\n",
      "2/2 [==============================] - 0s 72ms/step - loss: 1.2289 - sparse_categorical_accuracy: 0.6364\n",
      "Epoch 3/10\n",
      "2/2 [==============================] - 0s 62ms/step - loss: 0.9257 - sparse_categorical_accuracy: 0.9091\n",
      "Epoch 4/10\n",
      "2/2 [==============================] - 0s 60ms/step - loss: 1.0293 - sparse_categorical_accuracy: 0.8182\n",
      "Epoch 5/10\n",
      "2/2 [==============================] - 0s 55ms/step - loss: 0.9809 - sparse_categorical_accuracy: 0.9091\n",
      "Epoch 6/10\n",
      "2/2 [==============================] - 0s 56ms/step - loss: 1.3786 - sparse_categorical_accuracy: 0.8182\n",
      "Epoch 7/10\n",
      "2/2 [==============================] - 0s 62ms/step - loss: 1.2609 - sparse_categorical_accuracy: 0.9091\n",
      "Epoch 8/10\n",
      "2/2 [==============================] - 0s 54ms/step - loss: 1.3794 - sparse_categorical_accuracy: 0.9091\n",
      "Epoch 9/10\n",
      "2/2 [==============================] - 0s 61ms/step - loss: 1.7205 - sparse_categorical_accuracy: 0.9091\n",
      "Epoch 10/10\n",
      "2/2 [==============================] - 0s 63ms/step - loss: 2.1601 - sparse_categorical_accuracy: 0.7273\n"
     ]
    },
    {
     "name": "stderr",
     "output_type": "stream",
     "text": [
      "\r",
      "10it [01:57, 11.71s/it]"
     ]
    },
    {
     "name": "stdout",
     "output_type": "stream",
     "text": [
      "Epoch 1/10\n",
      "2/2 [==============================] - 0s 64ms/step - loss: 1.1518 - sparse_categorical_accuracy: 0.5455\n",
      "Epoch 2/10\n",
      "2/2 [==============================] - 0s 56ms/step - loss: 1.0156 - sparse_categorical_accuracy: 0.6364\n",
      "Epoch 3/10\n",
      "2/2 [==============================] - 0s 63ms/step - loss: 0.9446 - sparse_categorical_accuracy: 0.7273\n",
      "Epoch 4/10\n",
      "2/2 [==============================] - 0s 56ms/step - loss: 0.9722 - sparse_categorical_accuracy: 0.9091\n",
      "Epoch 5/10\n",
      "2/2 [==============================] - 0s 56ms/step - loss: 1.1158 - sparse_categorical_accuracy: 0.9091\n",
      "Epoch 6/10\n",
      "2/2 [==============================] - 0s 59ms/step - loss: 1.1578 - sparse_categorical_accuracy: 0.9091\n",
      "Epoch 7/10\n",
      "2/2 [==============================] - 0s 61ms/step - loss: 0.9804 - sparse_categorical_accuracy: 1.0000\n",
      "Epoch 8/10\n",
      "2/2 [==============================] - 0s 61ms/step - loss: 1.2885 - sparse_categorical_accuracy: 0.7273\n",
      "Epoch 9/10\n",
      "2/2 [==============================] - 0s 57ms/step - loss: 1.0383 - sparse_categorical_accuracy: 1.0000\n",
      "Epoch 10/10\n",
      "2/2 [==============================] - 0s 56ms/step - loss: 1.4498 - sparse_categorical_accuracy: 0.9091\n"
     ]
    },
    {
     "name": "stderr",
     "output_type": "stream",
     "text": [
      "\r",
      "11it [02:09, 11.72s/it]"
     ]
    },
    {
     "name": "stdout",
     "output_type": "stream",
     "text": [
      "Epoch 1/10\n",
      "2/2 [==============================] - 0s 80ms/step - loss: 1.0948 - sparse_categorical_accuracy: 0.6364\n",
      "Epoch 2/10\n",
      "2/2 [==============================] - 0s 71ms/step - loss: 0.8528 - sparse_categorical_accuracy: 0.9091\n",
      "Epoch 3/10\n",
      "2/2 [==============================] - 0s 67ms/step - loss: 0.9987 - sparse_categorical_accuracy: 0.8182\n",
      "Epoch 4/10\n",
      "2/2 [==============================] - 0s 75ms/step - loss: 1.4571 - sparse_categorical_accuracy: 0.6364\n",
      "Epoch 5/10\n",
      "2/2 [==============================] - 0s 74ms/step - loss: 1.5152 - sparse_categorical_accuracy: 0.6364\n",
      "Epoch 6/10\n",
      "2/2 [==============================] - 0s 73ms/step - loss: 1.4614 - sparse_categorical_accuracy: 0.9091\n",
      "Epoch 7/10\n",
      "2/2 [==============================] - 0s 67ms/step - loss: 1.1546 - sparse_categorical_accuracy: 0.9091\n",
      "Epoch 8/10\n",
      "2/2 [==============================] - 0s 67ms/step - loss: 1.2089 - sparse_categorical_accuracy: 0.9091\n",
      "Epoch 9/10\n",
      "2/2 [==============================] - 0s 70ms/step - loss: 1.1901 - sparse_categorical_accuracy: 1.0000\n",
      "Epoch 10/10\n",
      "2/2 [==============================] - 0s 67ms/step - loss: 1.8512 - sparse_categorical_accuracy: 0.7273\n"
     ]
    },
    {
     "name": "stderr",
     "output_type": "stream",
     "text": [
      "12it [02:23, 11.99s/it]\n",
      "0it [00:00, ?it/s]"
     ]
    },
    {
     "name": "stdout",
     "output_type": "stream",
     "text": [
      "Epoch 1/10\n",
      "13/13 [==============================] - 5s 380ms/step - loss: 1.8546 - sparse_categorical_accuracy: 0.4563\n",
      "Epoch 2/10\n",
      "13/13 [==============================] - 5s 376ms/step - loss: 1.8634 - sparse_categorical_accuracy: 0.4369\n",
      "Epoch 3/10\n",
      "13/13 [==============================] - 5s 377ms/step - loss: 1.4425 - sparse_categorical_accuracy: 0.5049\n",
      "Epoch 4/10\n",
      "13/13 [==============================] - 5s 380ms/step - loss: 1.3673 - sparse_categorical_accuracy: 0.5243\n",
      "Epoch 5/10\n",
      "13/13 [==============================] - 5s 377ms/step - loss: 1.3647 - sparse_categorical_accuracy: 0.4563\n",
      "Epoch 6/10\n",
      "13/13 [==============================] - 5s 376ms/step - loss: 1.2654 - sparse_categorical_accuracy: 0.5437\n",
      "Epoch 7/10\n",
      "13/13 [==============================] - 5s 376ms/step - loss: 1.3076 - sparse_categorical_accuracy: 0.5340\n",
      "Epoch 8/10\n",
      "13/13 [==============================] - 5s 377ms/step - loss: 1.2143 - sparse_categorical_accuracy: 0.5340\n",
      "Epoch 9/10\n",
      "13/13 [==============================] - 5s 376ms/step - loss: 1.2262 - sparse_categorical_accuracy: 0.5049\n",
      "Epoch 10/10\n",
      "13/13 [==============================] - 5s 378ms/step - loss: 1.2299 - sparse_categorical_accuracy: 0.5340\n"
     ]
    },
    {
     "name": "stderr",
     "output_type": "stream",
     "text": [
      "\r",
      "1it [01:00, 60.10s/it]"
     ]
    },
    {
     "name": "stdout",
     "output_type": "stream",
     "text": [
      "Epoch 1/10\n",
      "13/13 [==============================] - 5s 373ms/step - loss: 1.6239 - sparse_categorical_accuracy: 0.4272\n",
      "Epoch 2/10\n",
      "13/13 [==============================] - 5s 374ms/step - loss: 1.6236 - sparse_categorical_accuracy: 0.4563\n",
      "Epoch 3/10\n",
      "13/13 [==============================] - 5s 374ms/step - loss: 1.3145 - sparse_categorical_accuracy: 0.6117\n",
      "Epoch 4/10\n",
      "13/13 [==============================] - 5s 377ms/step - loss: 1.3748 - sparse_categorical_accuracy: 0.4660\n",
      "Epoch 5/10\n",
      "13/13 [==============================] - 5s 375ms/step - loss: 1.2719 - sparse_categorical_accuracy: 0.5146\n",
      "Epoch 6/10\n",
      "13/13 [==============================] - 5s 375ms/step - loss: 1.1903 - sparse_categorical_accuracy: 0.5243\n",
      "Epoch 7/10\n",
      "13/13 [==============================] - 5s 374ms/step - loss: 1.2761 - sparse_categorical_accuracy: 0.5049\n",
      "Epoch 8/10\n",
      "13/13 [==============================] - 5s 379ms/step - loss: 1.1838 - sparse_categorical_accuracy: 0.5340\n",
      "Epoch 9/10\n",
      "13/13 [==============================] - 5s 376ms/step - loss: 1.2662 - sparse_categorical_accuracy: 0.4563\n",
      "Epoch 10/10\n",
      "13/13 [==============================] - 5s 378ms/step - loss: 1.1438 - sparse_categorical_accuracy: 0.4951\n"
     ]
    },
    {
     "name": "stderr",
     "output_type": "stream",
     "text": [
      "\r",
      "2it [01:59, 59.98s/it]"
     ]
    },
    {
     "name": "stdout",
     "output_type": "stream",
     "text": [
      "Epoch 1/10\n",
      "13/13 [==============================] - 5s 372ms/step - loss: 1.6741 - sparse_categorical_accuracy: 0.5340\n",
      "Epoch 2/10\n",
      "13/13 [==============================] - 5s 374ms/step - loss: 1.7207 - sparse_categorical_accuracy: 0.5437\n",
      "Epoch 3/10\n",
      "13/13 [==============================] - 5s 372ms/step - loss: 1.4840 - sparse_categorical_accuracy: 0.5146\n",
      "Epoch 4/10\n",
      "13/13 [==============================] - 5s 383ms/step - loss: 1.3961 - sparse_categorical_accuracy: 0.4660\n",
      "Epoch 5/10\n",
      "13/13 [==============================] - 5s 372ms/step - loss: 1.2221 - sparse_categorical_accuracy: 0.5340\n",
      "Epoch 6/10\n",
      "13/13 [==============================] - 5s 374ms/step - loss: 1.3720 - sparse_categorical_accuracy: 0.4854\n",
      "Epoch 7/10\n",
      "13/13 [==============================] - 5s 374ms/step - loss: 1.3118 - sparse_categorical_accuracy: 0.4854\n",
      "Epoch 8/10\n",
      "13/13 [==============================] - 5s 374ms/step - loss: 1.2146 - sparse_categorical_accuracy: 0.5728\n",
      "Epoch 9/10\n",
      "13/13 [==============================] - 5s 374ms/step - loss: 1.1260 - sparse_categorical_accuracy: 0.5825\n",
      "Epoch 10/10\n",
      "13/13 [==============================] - 5s 378ms/step - loss: 1.2060 - sparse_categorical_accuracy: 0.5534\n"
     ]
    },
    {
     "name": "stderr",
     "output_type": "stream",
     "text": [
      "\r",
      "3it [02:59, 59.89s/it]"
     ]
    },
    {
     "name": "stdout",
     "output_type": "stream",
     "text": [
      "Epoch 1/10\n",
      "13/13 [==============================] - 5s 370ms/step - loss: 1.6231 - sparse_categorical_accuracy: 0.5146\n",
      "Epoch 2/10\n",
      "13/13 [==============================] - 5s 371ms/step - loss: 1.6634 - sparse_categorical_accuracy: 0.5146\n",
      "Epoch 3/10\n",
      "13/13 [==============================] - 5s 370ms/step - loss: 1.4012 - sparse_categorical_accuracy: 0.5728\n",
      "Epoch 4/10\n",
      "13/13 [==============================] - 5s 374ms/step - loss: 1.4803 - sparse_categorical_accuracy: 0.4660\n",
      "Epoch 5/10\n",
      "13/13 [==============================] - 5s 371ms/step - loss: 1.1609 - sparse_categorical_accuracy: 0.6019\n",
      "Epoch 6/10\n",
      "13/13 [==============================] - 5s 371ms/step - loss: 1.3184 - sparse_categorical_accuracy: 0.4757\n",
      "Epoch 7/10\n",
      "13/13 [==============================] - 5s 371ms/step - loss: 1.2987 - sparse_categorical_accuracy: 0.4175\n",
      "Epoch 8/10\n",
      "13/13 [==============================] - 5s 377ms/step - loss: 1.4179 - sparse_categorical_accuracy: 0.4854\n",
      "Epoch 9/10\n",
      "13/13 [==============================] - 5s 373ms/step - loss: 1.3183 - sparse_categorical_accuracy: 0.5146\n",
      "Epoch 10/10\n",
      "13/13 [==============================] - 5s 378ms/step - loss: 1.3245 - sparse_categorical_accuracy: 0.5243\n"
     ]
    },
    {
     "name": "stderr",
     "output_type": "stream",
     "text": [
      "\r",
      "4it [03:58, 59.70s/it]"
     ]
    },
    {
     "name": "stdout",
     "output_type": "stream",
     "text": [
      "Epoch 1/10\n",
      "13/13 [==============================] - 5s 370ms/step - loss: 1.6292 - sparse_categorical_accuracy: 0.5437\n",
      "Epoch 2/10\n",
      "13/13 [==============================] - 5s 369ms/step - loss: 1.5433 - sparse_categorical_accuracy: 0.5922\n",
      "Epoch 3/10\n",
      "13/13 [==============================] - 5s 370ms/step - loss: 1.2903 - sparse_categorical_accuracy: 0.6019\n",
      "Epoch 4/10\n",
      "13/13 [==============================] - 5s 369ms/step - loss: 1.2553 - sparse_categorical_accuracy: 0.5146\n",
      "Epoch 5/10\n",
      "13/13 [==============================] - 5s 372ms/step - loss: 1.2140 - sparse_categorical_accuracy: 0.5146\n",
      "Epoch 6/10\n",
      "13/13 [==============================] - 5s 373ms/step - loss: 1.1464 - sparse_categorical_accuracy: 0.6019\n",
      "Epoch 7/10\n",
      "13/13 [==============================] - 5s 369ms/step - loss: 1.3620 - sparse_categorical_accuracy: 0.4854\n",
      "Epoch 8/10\n",
      "13/13 [==============================] - 5s 370ms/step - loss: 1.2563 - sparse_categorical_accuracy: 0.5728\n",
      "Epoch 9/10\n",
      "13/13 [==============================] - 5s 370ms/step - loss: 1.1418 - sparse_categorical_accuracy: 0.5728\n",
      "Epoch 10/10\n",
      "13/13 [==============================] - 5s 374ms/step - loss: 1.1983 - sparse_categorical_accuracy: 0.5146\n"
     ]
    },
    {
     "name": "stderr",
     "output_type": "stream",
     "text": [
      "\r",
      "5it [04:57, 59.56s/it]"
     ]
    },
    {
     "name": "stdout",
     "output_type": "stream",
     "text": [
      "Epoch 1/10\n",
      "13/13 [==============================] - 5s 369ms/step - loss: 1.8646 - sparse_categorical_accuracy: 0.4854\n",
      "Epoch 2/10\n",
      "13/13 [==============================] - 5s 367ms/step - loss: 1.8999 - sparse_categorical_accuracy: 0.5243\n",
      "Epoch 3/10\n",
      "13/13 [==============================] - 5s 368ms/step - loss: 1.4781 - sparse_categorical_accuracy: 0.5340\n",
      "Epoch 4/10\n",
      "13/13 [==============================] - 5s 368ms/step - loss: 1.3038 - sparse_categorical_accuracy: 0.5825\n",
      "Epoch 5/10\n",
      "13/13 [==============================] - 5s 372ms/step - loss: 1.3887 - sparse_categorical_accuracy: 0.5049\n",
      "Epoch 6/10\n",
      "13/13 [==============================] - 5s 368ms/step - loss: 1.2776 - sparse_categorical_accuracy: 0.5243\n",
      "Epoch 7/10\n",
      "13/13 [==============================] - 5s 368ms/step - loss: 1.2709 - sparse_categorical_accuracy: 0.4757\n",
      "Epoch 8/10\n",
      "13/13 [==============================] - 5s 369ms/step - loss: 1.2429 - sparse_categorical_accuracy: 0.5146\n",
      "Epoch 9/10\n",
      "13/13 [==============================] - 5s 370ms/step - loss: 1.2993 - sparse_categorical_accuracy: 0.4757\n",
      "Epoch 10/10\n",
      "13/13 [==============================] - 5s 370ms/step - loss: 1.1987 - sparse_categorical_accuracy: 0.5728\n"
     ]
    },
    {
     "name": "stderr",
     "output_type": "stream",
     "text": [
      "\r",
      "6it [05:56, 59.34s/it]"
     ]
    },
    {
     "name": "stdout",
     "output_type": "stream",
     "text": [
      "Epoch 1/10\n",
      "13/13 [==============================] - 5s 369ms/step - loss: 1.6674 - sparse_categorical_accuracy: 0.4660\n",
      "Epoch 2/10\n",
      "13/13 [==============================] - 5s 367ms/step - loss: 1.6229 - sparse_categorical_accuracy: 0.5728\n",
      "Epoch 3/10\n",
      "13/13 [==============================] - 5s 368ms/step - loss: 1.3041 - sparse_categorical_accuracy: 0.5631\n",
      "Epoch 4/10\n",
      "13/13 [==============================] - 5s 368ms/step - loss: 1.2795 - sparse_categorical_accuracy: 0.5049\n",
      "Epoch 5/10\n",
      "13/13 [==============================] - 5s 373ms/step - loss: 1.3087 - sparse_categorical_accuracy: 0.4951\n",
      "Epoch 6/10\n",
      "13/13 [==============================] - 5s 368ms/step - loss: 1.2632 - sparse_categorical_accuracy: 0.4951\n",
      "Epoch 7/10\n",
      "13/13 [==============================] - 5s 368ms/step - loss: 1.2902 - sparse_categorical_accuracy: 0.5049\n",
      "Epoch 8/10\n",
      "13/13 [==============================] - 5s 367ms/step - loss: 1.3203 - sparse_categorical_accuracy: 0.4369\n",
      "Epoch 9/10\n",
      "13/13 [==============================] - 5s 367ms/step - loss: 1.2236 - sparse_categorical_accuracy: 0.5631\n",
      "Epoch 10/10\n",
      "13/13 [==============================] - 5s 368ms/step - loss: 1.0767 - sparse_categorical_accuracy: 0.5437\n"
     ]
    },
    {
     "name": "stderr",
     "output_type": "stream",
     "text": [
      "\r",
      "7it [06:55, 59.15s/it]"
     ]
    },
    {
     "name": "stdout",
     "output_type": "stream",
     "text": [
      "Epoch 1/10\n",
      "13/13 [==============================] - 5s 365ms/step - loss: 1.7433 - sparse_categorical_accuracy: 0.5146\n",
      "Epoch 2/10\n",
      "13/13 [==============================] - 5s 365ms/step - loss: 1.8434 - sparse_categorical_accuracy: 0.4951\n",
      "Epoch 3/10\n",
      "13/13 [==============================] - 5s 364ms/step - loss: 1.4737 - sparse_categorical_accuracy: 0.4854\n",
      "Epoch 4/10\n",
      "13/13 [==============================] - 5s 365ms/step - loss: 1.3066 - sparse_categorical_accuracy: 0.4757\n",
      "Epoch 5/10\n",
      "13/13 [==============================] - 5s 366ms/step - loss: 1.2549 - sparse_categorical_accuracy: 0.5146\n",
      "Epoch 6/10\n",
      "13/13 [==============================] - 5s 369ms/step - loss: 1.1976 - sparse_categorical_accuracy: 0.5631\n",
      "Epoch 7/10\n",
      "13/13 [==============================] - 5s 366ms/step - loss: 1.2466 - sparse_categorical_accuracy: 0.4951\n",
      "Epoch 8/10\n",
      "13/13 [==============================] - 5s 365ms/step - loss: 1.2321 - sparse_categorical_accuracy: 0.4951\n",
      "Epoch 9/10\n",
      "13/13 [==============================] - 5s 369ms/step - loss: 1.1024 - sparse_categorical_accuracy: 0.5922\n",
      "Epoch 10/10\n",
      "13/13 [==============================] - 5s 366ms/step - loss: 1.2252 - sparse_categorical_accuracy: 0.5146\n"
     ]
    },
    {
     "name": "stderr",
     "output_type": "stream",
     "text": [
      "\r",
      "8it [07:53, 58.93s/it]"
     ]
    },
    {
     "name": "stdout",
     "output_type": "stream",
     "text": [
      "Epoch 1/10\n",
      "13/13 [==============================] - 5s 363ms/step - loss: 1.7104 - sparse_categorical_accuracy: 0.5437\n",
      "Epoch 2/10\n",
      "13/13 [==============================] - 5s 362ms/step - loss: 1.5194 - sparse_categorical_accuracy: 0.5534\n",
      "Epoch 3/10\n",
      "13/13 [==============================] - 5s 363ms/step - loss: 1.3285 - sparse_categorical_accuracy: 0.5631\n",
      "Epoch 4/10\n",
      "13/13 [==============================] - 5s 365ms/step - loss: 1.2564 - sparse_categorical_accuracy: 0.5243\n",
      "Epoch 5/10\n",
      "13/13 [==============================] - 5s 364ms/step - loss: 1.1767 - sparse_categorical_accuracy: 0.6019\n",
      "Epoch 6/10\n",
      "13/13 [==============================] - 5s 370ms/step - loss: 1.1219 - sparse_categorical_accuracy: 0.5922\n",
      "Epoch 7/10\n",
      "13/13 [==============================] - 5s 365ms/step - loss: 1.0603 - sparse_categorical_accuracy: 0.6311\n",
      "Epoch 8/10\n",
      "13/13 [==============================] - 5s 364ms/step - loss: 1.1014 - sparse_categorical_accuracy: 0.5243\n",
      "Epoch 9/10\n",
      "13/13 [==============================] - 5s 365ms/step - loss: 1.2381 - sparse_categorical_accuracy: 0.5243\n",
      "Epoch 10/10\n",
      "13/13 [==============================] - 5s 365ms/step - loss: 1.2374 - sparse_categorical_accuracy: 0.5340\n"
     ]
    },
    {
     "name": "stderr",
     "output_type": "stream",
     "text": [
      "\r",
      "9it [08:52, 58.71s/it]"
     ]
    },
    {
     "name": "stdout",
     "output_type": "stream",
     "text": [
      "Epoch 1/10\n",
      "13/13 [==============================] - 5s 365ms/step - loss: 1.6096 - sparse_categorical_accuracy: 0.5437\n",
      "Epoch 2/10\n",
      "13/13 [==============================] - 5s 362ms/step - loss: 1.6620 - sparse_categorical_accuracy: 0.5243\n",
      "Epoch 3/10\n",
      "13/13 [==============================] - 5s 362ms/step - loss: 1.4206 - sparse_categorical_accuracy: 0.5340\n",
      "Epoch 4/10\n",
      "13/13 [==============================] - 5s 362ms/step - loss: 1.2573 - sparse_categorical_accuracy: 0.5631\n",
      "Epoch 5/10\n",
      "13/13 [==============================] - 5s 362ms/step - loss: 1.0989 - sparse_categorical_accuracy: 0.6117\n",
      "Epoch 6/10\n",
      "13/13 [==============================] - 5s 363ms/step - loss: 1.3360 - sparse_categorical_accuracy: 0.4369\n",
      "Epoch 7/10\n",
      "13/13 [==============================] - 5s 367ms/step - loss: 1.1238 - sparse_categorical_accuracy: 0.5437\n",
      "Epoch 8/10\n",
      "13/13 [==============================] - 5s 364ms/step - loss: 1.2490 - sparse_categorical_accuracy: 0.5049\n",
      "Epoch 9/10\n",
      "13/13 [==============================] - 5s 362ms/step - loss: 1.2419 - sparse_categorical_accuracy: 0.4466\n",
      "Epoch 10/10\n",
      "13/13 [==============================] - 5s 367ms/step - loss: 1.1641 - sparse_categorical_accuracy: 0.4660\n"
     ]
    },
    {
     "name": "stderr",
     "output_type": "stream",
     "text": [
      "\r",
      "10it [09:50, 58.48s/it]"
     ]
    },
    {
     "name": "stdout",
     "output_type": "stream",
     "text": [
      "Epoch 1/10\n",
      "13/13 [==============================] - 5s 367ms/step - loss: 1.6299 - sparse_categorical_accuracy: 0.5049\n",
      "Epoch 2/10\n",
      "13/13 [==============================] - 5s 357ms/step - loss: 1.5872 - sparse_categorical_accuracy: 0.5437\n",
      "Epoch 3/10\n",
      "13/13 [==============================] - 5s 359ms/step - loss: 1.3064 - sparse_categorical_accuracy: 0.6214\n",
      "Epoch 4/10\n",
      "13/13 [==============================] - 5s 359ms/step - loss: 1.2285 - sparse_categorical_accuracy: 0.6117\n",
      "Epoch 5/10\n",
      "13/13 [==============================] - 5s 360ms/step - loss: 1.2590 - sparse_categorical_accuracy: 0.5243\n",
      "Epoch 6/10\n",
      "13/13 [==============================] - 5s 359ms/step - loss: 1.1748 - sparse_categorical_accuracy: 0.5631\n",
      "Epoch 7/10\n",
      "13/13 [==============================] - 5s 364ms/step - loss: 1.1535 - sparse_categorical_accuracy: 0.5534\n",
      "Epoch 8/10\n",
      "13/13 [==============================] - 5s 361ms/step - loss: 1.1144 - sparse_categorical_accuracy: 0.6117\n",
      "Epoch 9/10\n",
      "13/13 [==============================] - 5s 359ms/step - loss: 1.0057 - sparse_categorical_accuracy: 0.6602\n",
      "Epoch 10/10\n",
      "13/13 [==============================] - 5s 360ms/step - loss: 1.0661 - sparse_categorical_accuracy: 0.6019\n"
     ]
    },
    {
     "name": "stderr",
     "output_type": "stream",
     "text": [
      "\r",
      "11it [10:47, 58.20s/it]"
     ]
    },
    {
     "name": "stdout",
     "output_type": "stream",
     "text": [
      "Epoch 1/10\n",
      "13/13 [==============================] - 5s 357ms/step - loss: 1.6896 - sparse_categorical_accuracy: 0.4660\n",
      "Epoch 2/10\n",
      "13/13 [==============================] - 5s 362ms/step - loss: 1.5803 - sparse_categorical_accuracy: 0.5728\n",
      "Epoch 3/10\n",
      "13/13 [==============================] - 5s 362ms/step - loss: 1.4641 - sparse_categorical_accuracy: 0.4854\n",
      "Epoch 4/10\n",
      "13/13 [==============================] - 5s 358ms/step - loss: 1.3258 - sparse_categorical_accuracy: 0.5437\n",
      "Epoch 5/10\n",
      "13/13 [==============================] - 5s 357ms/step - loss: 1.2016 - sparse_categorical_accuracy: 0.5146\n",
      "Epoch 6/10\n",
      "13/13 [==============================] - 5s 358ms/step - loss: 1.2301 - sparse_categorical_accuracy: 0.5243\n",
      "Epoch 7/10\n",
      "13/13 [==============================] - 5s 360ms/step - loss: 1.1493 - sparse_categorical_accuracy: 0.5146\n",
      "Epoch 8/10\n",
      "13/13 [==============================] - 5s 362ms/step - loss: 1.3264 - sparse_categorical_accuracy: 0.4175\n",
      "Epoch 9/10\n",
      "13/13 [==============================] - 5s 360ms/step - loss: 1.2236 - sparse_categorical_accuracy: 0.4951\n",
      "Epoch 10/10\n",
      "13/13 [==============================] - 5s 360ms/step - loss: 1.1371 - sparse_categorical_accuracy: 0.4951\n"
     ]
    },
    {
     "name": "stderr",
     "output_type": "stream",
     "text": [
      "\r",
      "12it [11:45, 57.97s/it]"
     ]
    },
    {
     "name": "stdout",
     "output_type": "stream",
     "text": [
      "Epoch 1/10\n",
      "13/13 [==============================] - 5s 356ms/step - loss: 1.8115 - sparse_categorical_accuracy: 0.5825\n",
      "Epoch 2/10\n",
      "13/13 [==============================] - 5s 360ms/step - loss: 1.6835 - sparse_categorical_accuracy: 0.5534\n",
      "Epoch 3/10\n",
      "13/13 [==============================] - 5s 356ms/step - loss: 1.3618 - sparse_categorical_accuracy: 0.5825\n",
      "Epoch 4/10\n",
      "13/13 [==============================] - 5s 356ms/step - loss: 1.2416 - sparse_categorical_accuracy: 0.5437\n",
      "Epoch 5/10\n",
      "13/13 [==============================] - 5s 357ms/step - loss: 1.2265 - sparse_categorical_accuracy: 0.5631\n",
      "Epoch 6/10\n",
      "13/13 [==============================] - 5s 356ms/step - loss: 1.1628 - sparse_categorical_accuracy: 0.6117\n",
      "Epoch 7/10\n",
      "13/13 [==============================] - 5s 355ms/step - loss: 1.1319 - sparse_categorical_accuracy: 0.5534\n",
      "Epoch 8/10\n",
      "13/13 [==============================] - 5s 362ms/step - loss: 1.1507 - sparse_categorical_accuracy: 0.4563\n",
      "Epoch 9/10\n",
      "13/13 [==============================] - 5s 356ms/step - loss: 1.1873 - sparse_categorical_accuracy: 0.4854\n",
      "Epoch 10/10\n",
      "13/13 [==============================] - 5s 356ms/step - loss: 1.1083 - sparse_categorical_accuracy: 0.5534\n"
     ]
    },
    {
     "name": "stderr",
     "output_type": "stream",
     "text": [
      "\r",
      "13it [12:42, 57.73s/it]"
     ]
    },
    {
     "name": "stdout",
     "output_type": "stream",
     "text": [
      "Epoch 1/10\n",
      "13/13 [==============================] - 5s 356ms/step - loss: 1.6701 - sparse_categorical_accuracy: 0.5340\n",
      "Epoch 2/10\n",
      "13/13 [==============================] - 5s 358ms/step - loss: 1.7641 - sparse_categorical_accuracy: 0.5049\n",
      "Epoch 3/10\n",
      "13/13 [==============================] - 5s 362ms/step - loss: 1.4818 - sparse_categorical_accuracy: 0.5243\n",
      "Epoch 4/10\n",
      "13/13 [==============================] - 5s 360ms/step - loss: 1.2436 - sparse_categorical_accuracy: 0.5728\n",
      "Epoch 5/10\n",
      "13/13 [==============================] - 5s 359ms/step - loss: 1.3509 - sparse_categorical_accuracy: 0.4854\n",
      "Epoch 6/10\n",
      "13/13 [==============================] - 5s 359ms/step - loss: 1.2266 - sparse_categorical_accuracy: 0.5534\n",
      "Epoch 7/10\n",
      "13/13 [==============================] - 5s 358ms/step - loss: 1.3448 - sparse_categorical_accuracy: 0.5243\n",
      "Epoch 8/10\n",
      "13/13 [==============================] - 5s 359ms/step - loss: 1.1996 - sparse_categorical_accuracy: 0.5728\n",
      "Epoch 9/10\n",
      "13/13 [==============================] - 5s 362ms/step - loss: 1.2529 - sparse_categorical_accuracy: 0.4951\n",
      "Epoch 10/10\n",
      "13/13 [==============================] - 5s 359ms/step - loss: 1.2149 - sparse_categorical_accuracy: 0.5340\n"
     ]
    },
    {
     "name": "stderr",
     "output_type": "stream",
     "text": [
      "\r",
      "14it [13:39, 57.63s/it]"
     ]
    },
    {
     "name": "stdout",
     "output_type": "stream",
     "text": [
      "Epoch 1/10\n",
      "13/13 [==============================] - 5s 363ms/step - loss: 1.7671 - sparse_categorical_accuracy: 0.5049\n",
      "Epoch 2/10\n",
      "13/13 [==============================] - 5s 357ms/step - loss: 1.7445 - sparse_categorical_accuracy: 0.5146\n",
      "Epoch 3/10\n",
      "13/13 [==============================] - 5s 355ms/step - loss: 1.5951 - sparse_categorical_accuracy: 0.5049\n",
      "Epoch 4/10\n",
      "13/13 [==============================] - 5s 364ms/step - loss: 1.3238 - sparse_categorical_accuracy: 0.6311\n",
      "Epoch 5/10\n",
      "13/13 [==============================] - 5s 357ms/step - loss: 1.2873 - sparse_categorical_accuracy: 0.5437\n",
      "Epoch 6/10\n",
      "13/13 [==============================] - 5s 357ms/step - loss: 1.1519 - sparse_categorical_accuracy: 0.6117\n",
      "Epoch 7/10\n",
      "13/13 [==============================] - 5s 362ms/step - loss: 1.1614 - sparse_categorical_accuracy: 0.5534\n",
      "Epoch 8/10\n",
      "13/13 [==============================] - 5s 364ms/step - loss: 1.2246 - sparse_categorical_accuracy: 0.5243\n",
      "Epoch 9/10\n",
      "13/13 [==============================] - 5s 357ms/step - loss: 1.1848 - sparse_categorical_accuracy: 0.4951\n",
      "Epoch 10/10\n",
      "13/13 [==============================] - 5s 362ms/step - loss: 1.1487 - sparse_categorical_accuracy: 0.5340\n"
     ]
    },
    {
     "name": "stderr",
     "output_type": "stream",
     "text": [
      "\r",
      "15it [14:37, 57.61s/it]"
     ]
    },
    {
     "name": "stdout",
     "output_type": "stream",
     "text": [
      "Epoch 1/10\n",
      "13/13 [==============================] - 5s 387ms/step - loss: 1.6541 - sparse_categorical_accuracy: 0.4854\n",
      "Epoch 2/10\n",
      "13/13 [==============================] - 5s 385ms/step - loss: 1.6138 - sparse_categorical_accuracy: 0.5534\n",
      "Epoch 3/10\n",
      "13/13 [==============================] - 5s 387ms/step - loss: 1.2677 - sparse_categorical_accuracy: 0.6117\n",
      "Epoch 4/10\n",
      "13/13 [==============================] - 5s 391ms/step - loss: 1.2442 - sparse_categorical_accuracy: 0.5243\n",
      "Epoch 5/10\n",
      "13/13 [==============================] - 5s 387ms/step - loss: 1.3725 - sparse_categorical_accuracy: 0.4660\n",
      "Epoch 6/10\n",
      "13/13 [==============================] - 5s 386ms/step - loss: 1.1832 - sparse_categorical_accuracy: 0.4660\n",
      "Epoch 7/10\n",
      "13/13 [==============================] - 5s 387ms/step - loss: 1.1129 - sparse_categorical_accuracy: 0.5049\n",
      "Epoch 8/10\n",
      "13/13 [==============================] - 5s 387ms/step - loss: 1.2442 - sparse_categorical_accuracy: 0.4272\n",
      "Epoch 9/10\n",
      "13/13 [==============================] - 5s 390ms/step - loss: 1.1876 - sparse_categorical_accuracy: 0.5437\n",
      "Epoch 10/10\n",
      "13/13 [==============================] - 5s 386ms/step - loss: 1.0856 - sparse_categorical_accuracy: 0.5728\n"
     ]
    },
    {
     "name": "stderr",
     "output_type": "stream",
     "text": [
      "\r",
      "16it [15:41, 59.56s/it]"
     ]
    },
    {
     "name": "stdout",
     "output_type": "stream",
     "text": [
      "Epoch 1/10\n",
      "13/13 [==============================] - 5s 383ms/step - loss: 1.6432 - sparse_categorical_accuracy: 0.4466\n",
      "Epoch 2/10\n",
      "13/13 [==============================] - 5s 383ms/step - loss: 1.7521 - sparse_categorical_accuracy: 0.4757\n",
      "Epoch 3/10\n",
      "13/13 [==============================] - 5s 388ms/step - loss: 1.3412 - sparse_categorical_accuracy: 0.5340\n",
      "Epoch 4/10\n",
      "13/13 [==============================] - 5s 393ms/step - loss: 1.1777 - sparse_categorical_accuracy: 0.5922\n",
      "Epoch 5/10\n",
      "13/13 [==============================] - 5s 387ms/step - loss: 1.2174 - sparse_categorical_accuracy: 0.5825\n",
      "Epoch 6/10\n",
      "13/13 [==============================] - 5s 385ms/step - loss: 1.1760 - sparse_categorical_accuracy: 0.5728\n",
      "Epoch 7/10\n",
      "13/13 [==============================] - 5s 388ms/step - loss: 1.2213 - sparse_categorical_accuracy: 0.4757\n",
      "Epoch 8/10\n",
      "13/13 [==============================] - 5s 387ms/step - loss: 1.2045 - sparse_categorical_accuracy: 0.5049\n",
      "Epoch 9/10\n",
      "13/13 [==============================] - 5s 389ms/step - loss: 1.1298 - sparse_categorical_accuracy: 0.5922\n",
      "Epoch 10/10\n",
      "13/13 [==============================] - 5s 385ms/step - loss: 1.1734 - sparse_categorical_accuracy: 0.5437\n"
     ]
    },
    {
     "name": "stderr",
     "output_type": "stream",
     "text": [
      "\r",
      "17it [16:42, 60.17s/it]"
     ]
    },
    {
     "name": "stdout",
     "output_type": "stream",
     "text": [
      "Epoch 1/10\n",
      "13/13 [==============================] - 5s 383ms/step - loss: 1.7888 - sparse_categorical_accuracy: 0.4951\n",
      "Epoch 2/10\n",
      "13/13 [==============================] - 5s 391ms/step - loss: 1.6684 - sparse_categorical_accuracy: 0.5243\n",
      "Epoch 3/10\n",
      "13/13 [==============================] - 5s 387ms/step - loss: 1.4481 - sparse_categorical_accuracy: 0.5049\n",
      "Epoch 4/10\n",
      "13/13 [==============================] - 5s 383ms/step - loss: 1.4836 - sparse_categorical_accuracy: 0.4757\n",
      "Epoch 5/10\n",
      "13/13 [==============================] - 5s 383ms/step - loss: 1.3373 - sparse_categorical_accuracy: 0.4660\n",
      "Epoch 6/10\n",
      "13/13 [==============================] - 5s 383ms/step - loss: 1.3075 - sparse_categorical_accuracy: 0.5825\n",
      "Epoch 7/10\n",
      "13/13 [==============================] - 5s 382ms/step - loss: 1.2236 - sparse_categorical_accuracy: 0.5728\n",
      "Epoch 8/10\n",
      "13/13 [==============================] - 5s 385ms/step - loss: 1.1969 - sparse_categorical_accuracy: 0.5631\n",
      "Epoch 9/10\n",
      "13/13 [==============================] - 5s 385ms/step - loss: 1.2368 - sparse_categorical_accuracy: 0.5243\n",
      "Epoch 10/10\n",
      "13/13 [==============================] - 5s 381ms/step - loss: 1.1554 - sparse_categorical_accuracy: 0.4951\n"
     ]
    },
    {
     "name": "stderr",
     "output_type": "stream",
     "text": [
      "\r",
      "18it [17:44, 60.50s/it]"
     ]
    },
    {
     "name": "stdout",
     "output_type": "stream",
     "text": [
      "Epoch 1/10\n",
      "13/13 [==============================] - 5s 380ms/step - loss: 1.6341 - sparse_categorical_accuracy: 0.5825\n",
      "Epoch 2/10\n",
      "13/13 [==============================] - 5s 380ms/step - loss: 1.5839 - sparse_categorical_accuracy: 0.5825\n",
      "Epoch 3/10\n",
      "13/13 [==============================] - 5s 384ms/step - loss: 1.5285 - sparse_categorical_accuracy: 0.4951\n",
      "Epoch 4/10\n",
      "13/13 [==============================] - 5s 379ms/step - loss: 1.3593 - sparse_categorical_accuracy: 0.5728\n",
      "Epoch 5/10\n",
      "13/13 [==============================] - 5s 380ms/step - loss: 1.2781 - sparse_categorical_accuracy: 0.5049\n",
      "Epoch 6/10\n",
      "13/13 [==============================] - 5s 380ms/step - loss: 1.4271 - sparse_categorical_accuracy: 0.5631\n",
      "Epoch 7/10\n",
      "13/13 [==============================] - 5s 380ms/step - loss: 1.2229 - sparse_categorical_accuracy: 0.5437\n",
      "Epoch 8/10\n",
      "13/13 [==============================] - 5s 382ms/step - loss: 1.2361 - sparse_categorical_accuracy: 0.5340\n",
      "Epoch 9/10\n",
      "13/13 [==============================] - 5s 385ms/step - loss: 1.1496 - sparse_categorical_accuracy: 0.5728\n",
      "Epoch 10/10\n",
      "13/13 [==============================] - 5s 381ms/step - loss: 1.2242 - sparse_categorical_accuracy: 0.5534\n"
     ]
    },
    {
     "name": "stderr",
     "output_type": "stream",
     "text": [
      "\r",
      "19it [18:44, 60.58s/it]"
     ]
    },
    {
     "name": "stdout",
     "output_type": "stream",
     "text": [
      "Epoch 1/10\n",
      "13/13 [==============================] - 5s 377ms/step - loss: 1.5985 - sparse_categorical_accuracy: 0.5728\n",
      "Epoch 2/10\n",
      "13/13 [==============================] - 5s 379ms/step - loss: 1.8343 - sparse_categorical_accuracy: 0.5146\n",
      "Epoch 3/10\n",
      "13/13 [==============================] - 5s 381ms/step - loss: 1.3274 - sparse_categorical_accuracy: 0.6117\n",
      "Epoch 4/10\n",
      "13/13 [==============================] - 5s 377ms/step - loss: 1.4541 - sparse_categorical_accuracy: 0.4660\n",
      "Epoch 5/10\n",
      "13/13 [==============================] - 5s 377ms/step - loss: 1.3069 - sparse_categorical_accuracy: 0.5146\n",
      "Epoch 6/10\n",
      "13/13 [==============================] - 5s 376ms/step - loss: 1.3691 - sparse_categorical_accuracy: 0.4757\n",
      "Epoch 7/10\n",
      "13/13 [==============================] - 5s 379ms/step - loss: 1.3461 - sparse_categorical_accuracy: 0.4951\n",
      "Epoch 8/10\n",
      "13/13 [==============================] - 5s 378ms/step - loss: 1.2434 - sparse_categorical_accuracy: 0.3883\n",
      "Epoch 9/10\n",
      "13/13 [==============================] - 5s 381ms/step - loss: 1.1922 - sparse_categorical_accuracy: 0.5049\n",
      "Epoch 10/10\n",
      "13/13 [==============================] - 5s 377ms/step - loss: 1.2464 - sparse_categorical_accuracy: 0.4369\n"
     ]
    },
    {
     "name": "stderr",
     "output_type": "stream",
     "text": [
      "\r",
      "20it [19:45, 60.50s/it]"
     ]
    },
    {
     "name": "stdout",
     "output_type": "stream",
     "text": [
      "Epoch 1/10\n",
      "13/13 [==============================] - 5s 377ms/step - loss: 1.7271 - sparse_categorical_accuracy: 0.4951\n",
      "Epoch 2/10\n",
      "13/13 [==============================] - 5s 378ms/step - loss: 1.6658 - sparse_categorical_accuracy: 0.5728\n",
      "Epoch 3/10\n",
      "13/13 [==============================] - 5s 379ms/step - loss: 1.4362 - sparse_categorical_accuracy: 0.4951\n",
      "Epoch 4/10\n",
      "13/13 [==============================] - 5s 375ms/step - loss: 1.2589 - sparse_categorical_accuracy: 0.5922\n",
      "Epoch 5/10\n",
      "13/13 [==============================] - 5s 376ms/step - loss: 1.4222 - sparse_categorical_accuracy: 0.4466\n",
      "Epoch 6/10\n",
      "13/13 [==============================] - 5s 375ms/step - loss: 1.3899 - sparse_categorical_accuracy: 0.4757\n",
      "Epoch 7/10\n",
      "13/13 [==============================] - 5s 375ms/step - loss: 1.2363 - sparse_categorical_accuracy: 0.5631\n",
      "Epoch 8/10\n",
      "13/13 [==============================] - 5s 376ms/step - loss: 1.4001 - sparse_categorical_accuracy: 0.3883\n",
      "Epoch 9/10\n",
      "13/13 [==============================] - 5s 380ms/step - loss: 1.2125 - sparse_categorical_accuracy: 0.5243\n",
      "Epoch 10/10\n",
      "13/13 [==============================] - 5s 374ms/step - loss: 1.1927 - sparse_categorical_accuracy: 0.4466\n"
     ]
    },
    {
     "name": "stderr",
     "output_type": "stream",
     "text": [
      "\r",
      "21it [20:45, 60.36s/it]"
     ]
    },
    {
     "name": "stdout",
     "output_type": "stream",
     "text": [
      "Epoch 1/10\n",
      "13/13 [==============================] - 5s 374ms/step - loss: 1.6716 - sparse_categorical_accuracy: 0.4369\n",
      "Epoch 2/10\n",
      "13/13 [==============================] - 5s 375ms/step - loss: 1.7149 - sparse_categorical_accuracy: 0.4757\n",
      "Epoch 3/10\n",
      "13/13 [==============================] - 5s 378ms/step - loss: 1.3269 - sparse_categorical_accuracy: 0.4951\n",
      "Epoch 4/10\n",
      "13/13 [==============================] - 5s 374ms/step - loss: 1.2814 - sparse_categorical_accuracy: 0.5631\n",
      "Epoch 5/10\n",
      "13/13 [==============================] - 5s 374ms/step - loss: 1.1856 - sparse_categorical_accuracy: 0.5534\n",
      "Epoch 6/10\n",
      "13/13 [==============================] - 5s 374ms/step - loss: 1.1827 - sparse_categorical_accuracy: 0.5728\n",
      "Epoch 7/10\n",
      "13/13 [==============================] - 5s 374ms/step - loss: 1.1036 - sparse_categorical_accuracy: 0.6019\n",
      "Epoch 8/10\n",
      "13/13 [==============================] - 5s 375ms/step - loss: 1.2575 - sparse_categorical_accuracy: 0.4369\n",
      "Epoch 9/10\n",
      "13/13 [==============================] - 5s 379ms/step - loss: 1.0914 - sparse_categorical_accuracy: 0.5437\n",
      "Epoch 10/10\n",
      "13/13 [==============================] - 5s 378ms/step - loss: 1.0407 - sparse_categorical_accuracy: 0.6214\n"
     ]
    },
    {
     "name": "stderr",
     "output_type": "stream",
     "text": [
      "\r",
      "22it [21:45, 60.21s/it]"
     ]
    },
    {
     "name": "stdout",
     "output_type": "stream",
     "text": [
      "Epoch 1/10\n",
      "13/13 [==============================] - 5s 376ms/step - loss: 1.7923 - sparse_categorical_accuracy: 0.4466\n",
      "Epoch 2/10\n",
      "13/13 [==============================] - 5s 375ms/step - loss: 1.7636 - sparse_categorical_accuracy: 0.4369\n",
      "Epoch 3/10\n",
      "13/13 [==============================] - 5s 376ms/step - loss: 1.4950 - sparse_categorical_accuracy: 0.5534\n",
      "Epoch 4/10\n",
      "13/13 [==============================] - 5s 374ms/step - loss: 1.3215 - sparse_categorical_accuracy: 0.5922\n",
      "Epoch 5/10\n",
      "13/13 [==============================] - 5s 374ms/step - loss: 1.3300 - sparse_categorical_accuracy: 0.5049\n",
      "Epoch 6/10\n",
      "13/13 [==============================] - 5s 374ms/step - loss: 1.1747 - sparse_categorical_accuracy: 0.5534\n",
      "Epoch 7/10\n",
      "13/13 [==============================] - 5s 374ms/step - loss: 1.2044 - sparse_categorical_accuracy: 0.5825\n",
      "Epoch 8/10\n",
      "13/13 [==============================] - 5s 379ms/step - loss: 1.2342 - sparse_categorical_accuracy: 0.5243\n",
      "Epoch 9/10\n",
      "13/13 [==============================] - 5s 379ms/step - loss: 1.1053 - sparse_categorical_accuracy: 0.6019\n",
      "Epoch 10/10\n",
      "13/13 [==============================] - 5s 375ms/step - loss: 1.1544 - sparse_categorical_accuracy: 0.5534\n"
     ]
    },
    {
     "name": "stderr",
     "output_type": "stream",
     "text": [
      "\r",
      "23it [22:44, 60.07s/it]"
     ]
    },
    {
     "name": "stdout",
     "output_type": "stream",
     "text": [
      "Epoch 1/10\n",
      "13/13 [==============================] - 5s 372ms/step - loss: 1.5419 - sparse_categorical_accuracy: 0.5243\n",
      "Epoch 2/10\n",
      "13/13 [==============================] - 5s 372ms/step - loss: 1.6022 - sparse_categorical_accuracy: 0.5049\n",
      "Epoch 3/10\n",
      "13/13 [==============================] - 5s 376ms/step - loss: 1.3134 - sparse_categorical_accuracy: 0.5534\n",
      "Epoch 4/10\n",
      "13/13 [==============================] - 5s 372ms/step - loss: 1.4084 - sparse_categorical_accuracy: 0.4466\n",
      "Epoch 5/10\n",
      "13/13 [==============================] - 5s 371ms/step - loss: 1.3109 - sparse_categorical_accuracy: 0.4951\n",
      "Epoch 6/10\n",
      "13/13 [==============================] - 5s 371ms/step - loss: 1.1470 - sparse_categorical_accuracy: 0.5534\n",
      "Epoch 7/10\n",
      "13/13 [==============================] - 5s 371ms/step - loss: 1.1619 - sparse_categorical_accuracy: 0.5825\n",
      "Epoch 8/10\n",
      "13/13 [==============================] - 5s 371ms/step - loss: 1.1948 - sparse_categorical_accuracy: 0.4951\n",
      "Epoch 9/10\n",
      "13/13 [==============================] - 5s 379ms/step - loss: 1.1107 - sparse_categorical_accuracy: 0.5437\n",
      "Epoch 10/10\n",
      "13/13 [==============================] - 5s 372ms/step - loss: 1.1790 - sparse_categorical_accuracy: 0.4757\n"
     ]
    },
    {
     "name": "stderr",
     "output_type": "stream",
     "text": [
      "\r",
      "24it [23:45, 60.35s/it]"
     ]
    },
    {
     "name": "stdout",
     "output_type": "stream",
     "text": [
      "Epoch 1/10\n",
      "13/13 [==============================] - 5s 369ms/step - loss: 1.5904 - sparse_categorical_accuracy: 0.5340\n",
      "Epoch 2/10\n",
      "13/13 [==============================] - 5s 368ms/step - loss: 1.4536 - sparse_categorical_accuracy: 0.6117\n",
      "Epoch 3/10\n",
      "13/13 [==============================] - 5s 371ms/step - loss: 1.4609 - sparse_categorical_accuracy: 0.4757\n",
      "Epoch 4/10\n",
      "13/13 [==============================] - 5s 375ms/step - loss: 1.3722 - sparse_categorical_accuracy: 0.4951\n",
      "Epoch 5/10\n",
      "13/13 [==============================] - 5s 371ms/step - loss: 1.2428 - sparse_categorical_accuracy: 0.6117\n",
      "Epoch 6/10\n",
      "13/13 [==============================] - 5s 370ms/step - loss: 1.3408 - sparse_categorical_accuracy: 0.4369\n",
      "Epoch 7/10\n",
      "13/13 [==============================] - 5s 369ms/step - loss: 1.2097 - sparse_categorical_accuracy: 0.5437\n",
      "Epoch 8/10\n",
      "13/13 [==============================] - 5s 371ms/step - loss: 1.2096 - sparse_categorical_accuracy: 0.5631\n",
      "Epoch 9/10\n",
      "13/13 [==============================] - 5s 367ms/step - loss: 1.1641 - sparse_categorical_accuracy: 0.5437\n",
      "Epoch 10/10\n",
      "13/13 [==============================] - 5s 373ms/step - loss: 1.1817 - sparse_categorical_accuracy: 0.5146\n"
     ]
    },
    {
     "name": "stderr",
     "output_type": "stream",
     "text": [
      "\r",
      "25it [24:44, 59.97s/it]"
     ]
    },
    {
     "name": "stdout",
     "output_type": "stream",
     "text": [
      "Epoch 1/10\n",
      "13/13 [==============================] - 5s 367ms/step - loss: 1.7674 - sparse_categorical_accuracy: 0.3786\n",
      "Epoch 2/10\n",
      "13/13 [==============================] - 5s 366ms/step - loss: 1.6805 - sparse_categorical_accuracy: 0.4757\n",
      "Epoch 3/10\n",
      "13/13 [==============================] - 5s 368ms/step - loss: 1.3623 - sparse_categorical_accuracy: 0.5146\n",
      "Epoch 4/10\n",
      "13/13 [==============================] - 5s 371ms/step - loss: 1.3784 - sparse_categorical_accuracy: 0.5049\n",
      "Epoch 5/10\n",
      "13/13 [==============================] - 5s 367ms/step - loss: 1.1201 - sparse_categorical_accuracy: 0.5728\n",
      "Epoch 6/10\n",
      "13/13 [==============================] - 5s 366ms/step - loss: 1.2346 - sparse_categorical_accuracy: 0.5728\n",
      "Epoch 7/10\n",
      "13/13 [==============================] - 5s 367ms/step - loss: 1.2151 - sparse_categorical_accuracy: 0.5340\n",
      "Epoch 8/10\n",
      "13/13 [==============================] - 5s 367ms/step - loss: 1.1858 - sparse_categorical_accuracy: 0.5146\n",
      "Epoch 9/10\n",
      "13/13 [==============================] - 5s 369ms/step - loss: 1.1679 - sparse_categorical_accuracy: 0.5243\n",
      "Epoch 10/10\n",
      "13/13 [==============================] - 5s 373ms/step - loss: 1.1230 - sparse_categorical_accuracy: 0.5631\n"
     ]
    },
    {
     "name": "stderr",
     "output_type": "stream",
     "text": [
      "\r",
      "26it [25:43, 59.56s/it]"
     ]
    },
    {
     "name": "stdout",
     "output_type": "stream",
     "text": [
      "Epoch 1/10\n",
      "13/13 [==============================] - 5s 366ms/step - loss: 1.5758 - sparse_categorical_accuracy: 0.5146\n",
      "Epoch 2/10\n",
      "13/13 [==============================] - 5s 366ms/step - loss: 1.6426 - sparse_categorical_accuracy: 0.5243\n",
      "Epoch 3/10\n",
      "13/13 [==============================] - 5s 365ms/step - loss: 1.3220 - sparse_categorical_accuracy: 0.6019\n",
      "Epoch 4/10\n",
      "13/13 [==============================] - 5s 376ms/step - loss: 1.5588 - sparse_categorical_accuracy: 0.4854\n",
      "Epoch 5/10\n",
      "13/13 [==============================] - 5s 367ms/step - loss: 1.3755 - sparse_categorical_accuracy: 0.5243\n",
      "Epoch 6/10\n",
      "13/13 [==============================] - 5s 367ms/step - loss: 1.2207 - sparse_categorical_accuracy: 0.4854\n",
      "Epoch 7/10\n",
      "13/13 [==============================] - 5s 367ms/step - loss: 1.2476 - sparse_categorical_accuracy: 0.5437\n",
      "Epoch 8/10\n",
      "13/13 [==============================] - 5s 366ms/step - loss: 1.1744 - sparse_categorical_accuracy: 0.4854\n",
      "Epoch 9/10\n",
      "13/13 [==============================] - 5s 366ms/step - loss: 1.1590 - sparse_categorical_accuracy: 0.5243\n",
      "Epoch 10/10\n",
      "13/13 [==============================] - 5s 380ms/step - loss: 1.2124 - sparse_categorical_accuracy: 0.5437\n"
     ]
    },
    {
     "name": "stderr",
     "output_type": "stream",
     "text": [
      "\r",
      "27it [26:42, 59.33s/it]"
     ]
    },
    {
     "name": "stdout",
     "output_type": "stream",
     "text": [
      "Epoch 1/10\n",
      "13/13 [==============================] - 5s 365ms/step - loss: 1.6023 - sparse_categorical_accuracy: 0.5146\n",
      "Epoch 2/10\n",
      "13/13 [==============================] - 5s 363ms/step - loss: 1.6842 - sparse_categorical_accuracy: 0.5146\n",
      "Epoch 3/10\n",
      "13/13 [==============================] - 5s 363ms/step - loss: 1.5279 - sparse_categorical_accuracy: 0.5243\n",
      "Epoch 4/10\n",
      "13/13 [==============================] - 5s 364ms/step - loss: 1.3743 - sparse_categorical_accuracy: 0.5243\n",
      "Epoch 5/10\n",
      "13/13 [==============================] - 5s 369ms/step - loss: 1.3146 - sparse_categorical_accuracy: 0.5243\n",
      "Epoch 6/10\n",
      "13/13 [==============================] - 5s 363ms/step - loss: 1.1560 - sparse_categorical_accuracy: 0.5049\n",
      "Epoch 7/10\n",
      "13/13 [==============================] - 5s 363ms/step - loss: 1.3288 - sparse_categorical_accuracy: 0.5049\n",
      "Epoch 8/10\n",
      "13/13 [==============================] - 5s 363ms/step - loss: 1.2657 - sparse_categorical_accuracy: 0.5146\n",
      "Epoch 9/10\n",
      "13/13 [==============================] - 5s 365ms/step - loss: 1.2754 - sparse_categorical_accuracy: 0.5049\n",
      "Epoch 10/10\n",
      "13/13 [==============================] - 5s 362ms/step - loss: 1.3203 - sparse_categorical_accuracy: 0.4660\n"
     ]
    },
    {
     "name": "stderr",
     "output_type": "stream",
     "text": [
      "\r",
      "28it [27:40, 58.97s/it]"
     ]
    },
    {
     "name": "stdout",
     "output_type": "stream",
     "text": [
      "Epoch 1/10\n",
      "13/13 [==============================] - 5s 367ms/step - loss: 1.5103 - sparse_categorical_accuracy: 0.5243\n",
      "Epoch 2/10\n",
      "13/13 [==============================] - 5s 366ms/step - loss: 1.4699 - sparse_categorical_accuracy: 0.6019\n",
      "Epoch 3/10\n",
      "13/13 [==============================] - 5s 365ms/step - loss: 1.3628 - sparse_categorical_accuracy: 0.4660\n",
      "Epoch 4/10\n",
      "13/13 [==============================] - 5s 366ms/step - loss: 1.2231 - sparse_categorical_accuracy: 0.5728\n",
      "Epoch 5/10\n",
      "13/13 [==============================] - 5s 370ms/step - loss: 1.1957 - sparse_categorical_accuracy: 0.5146\n",
      "Epoch 6/10\n",
      "13/13 [==============================] - 5s 365ms/step - loss: 1.2558 - sparse_categorical_accuracy: 0.4951\n",
      "Epoch 7/10\n",
      "13/13 [==============================] - 5s 364ms/step - loss: 1.1663 - sparse_categorical_accuracy: 0.4757\n",
      "Epoch 8/10\n",
      "13/13 [==============================] - 5s 365ms/step - loss: 1.0870 - sparse_categorical_accuracy: 0.5825\n",
      "Epoch 9/10\n",
      "13/13 [==============================] - 5s 365ms/step - loss: 1.0744 - sparse_categorical_accuracy: 0.5825\n",
      "Epoch 10/10\n",
      "13/13 [==============================] - 5s 365ms/step - loss: 1.1172 - sparse_categorical_accuracy: 0.5437\n"
     ]
    },
    {
     "name": "stderr",
     "output_type": "stream",
     "text": [
      "\r",
      "29it [28:38, 58.80s/it]"
     ]
    },
    {
     "name": "stdout",
     "output_type": "stream",
     "text": [
      "Epoch 1/10\n",
      "13/13 [==============================] - 5s 373ms/step - loss: 1.5250 - sparse_categorical_accuracy: 0.5825\n",
      "Epoch 2/10\n",
      "13/13 [==============================] - 5s 366ms/step - loss: 1.5040 - sparse_categorical_accuracy: 0.5631\n",
      "Epoch 3/10\n",
      "13/13 [==============================] - 5s 369ms/step - loss: 1.4206 - sparse_categorical_accuracy: 0.4660\n",
      "Epoch 4/10\n",
      "13/13 [==============================] - 5s 369ms/step - loss: 1.2132 - sparse_categorical_accuracy: 0.5243\n",
      "Epoch 5/10\n",
      "13/13 [==============================] - 5s 368ms/step - loss: 1.2331 - sparse_categorical_accuracy: 0.5437\n",
      "Epoch 6/10\n",
      "13/13 [==============================] - 5s 369ms/step - loss: 1.0634 - sparse_categorical_accuracy: 0.5631\n",
      "Epoch 7/10\n",
      "13/13 [==============================] - 5s 374ms/step - loss: 1.1241 - sparse_categorical_accuracy: 0.5340\n",
      "Epoch 8/10\n",
      "13/13 [==============================] - 5s 370ms/step - loss: 1.0974 - sparse_categorical_accuracy: 0.5437\n",
      "Epoch 9/10\n",
      "13/13 [==============================] - 5s 367ms/step - loss: 1.1554 - sparse_categorical_accuracy: 0.4660\n",
      "Epoch 10/10\n",
      "13/13 [==============================] - 5s 366ms/step - loss: 1.1899 - sparse_categorical_accuracy: 0.5049\n"
     ]
    },
    {
     "name": "stderr",
     "output_type": "stream",
     "text": [
      "\r",
      "30it [29:38, 58.94s/it]"
     ]
    },
    {
     "name": "stdout",
     "output_type": "stream",
     "text": [
      "Epoch 1/10\n",
      "13/13 [==============================] - 5s 373ms/step - loss: 1.7479 - sparse_categorical_accuracy: 0.5534\n",
      "Epoch 2/10\n",
      "13/13 [==============================] - 5s 367ms/step - loss: 1.3782 - sparse_categorical_accuracy: 0.6505\n",
      "Epoch 3/10\n",
      "13/13 [==============================] - 5s 369ms/step - loss: 1.4013 - sparse_categorical_accuracy: 0.5534\n",
      "Epoch 4/10\n",
      "13/13 [==============================] - 5s 367ms/step - loss: 1.2308 - sparse_categorical_accuracy: 0.5340\n",
      "Epoch 5/10\n",
      "13/13 [==============================] - 5s 367ms/step - loss: 1.1985 - sparse_categorical_accuracy: 0.5922\n",
      "Epoch 6/10\n",
      "13/13 [==============================] - 5s 371ms/step - loss: 1.1482 - sparse_categorical_accuracy: 0.6019\n",
      "Epoch 7/10\n",
      "13/13 [==============================] - 5s 368ms/step - loss: 1.2101 - sparse_categorical_accuracy: 0.5243\n",
      "Epoch 8/10\n",
      "13/13 [==============================] - 5s 367ms/step - loss: 1.2037 - sparse_categorical_accuracy: 0.5146\n",
      "Epoch 9/10\n",
      "13/13 [==============================] - 5s 367ms/step - loss: 1.0599 - sparse_categorical_accuracy: 0.5922\n",
      "Epoch 10/10\n",
      "13/13 [==============================] - 5s 365ms/step - loss: 1.1131 - sparse_categorical_accuracy: 0.6019\n"
     ]
    },
    {
     "name": "stderr",
     "output_type": "stream",
     "text": [
      "\r",
      "31it [30:36, 58.92s/it]"
     ]
    },
    {
     "name": "stdout",
     "output_type": "stream",
     "text": [
      "Epoch 1/10\n",
      "13/13 [==============================] - 5s 373ms/step - loss: 1.8438 - sparse_categorical_accuracy: 0.4466\n",
      "Epoch 2/10\n",
      "13/13 [==============================] - 5s 371ms/step - loss: 1.7040 - sparse_categorical_accuracy: 0.5049\n",
      "Epoch 3/10\n",
      "13/13 [==============================] - 5s 372ms/step - loss: 1.3280 - sparse_categorical_accuracy: 0.5146\n",
      "Epoch 4/10\n",
      "13/13 [==============================] - 5s 372ms/step - loss: 1.2685 - sparse_categorical_accuracy: 0.5437\n",
      "Epoch 5/10\n",
      "13/13 [==============================] - 5s 374ms/step - loss: 1.2655 - sparse_categorical_accuracy: 0.5631\n",
      "Epoch 6/10\n",
      "13/13 [==============================] - 5s 379ms/step - loss: 1.1421 - sparse_categorical_accuracy: 0.5243\n",
      "Epoch 7/10\n",
      "13/13 [==============================] - 5s 374ms/step - loss: 1.2377 - sparse_categorical_accuracy: 0.4466\n",
      "Epoch 8/10\n",
      "13/13 [==============================] - 5s 372ms/step - loss: 1.2040 - sparse_categorical_accuracy: 0.4951\n",
      "Epoch 9/10\n",
      "13/13 [==============================] - 5s 372ms/step - loss: 1.1357 - sparse_categorical_accuracy: 0.5825\n",
      "Epoch 10/10\n",
      "13/13 [==============================] - 5s 372ms/step - loss: 1.1806 - sparse_categorical_accuracy: 0.4369\n"
     ]
    },
    {
     "name": "stderr",
     "output_type": "stream",
     "text": [
      "\r",
      "32it [31:36, 59.15s/it]"
     ]
    },
    {
     "name": "stdout",
     "output_type": "stream",
     "text": [
      "Epoch 1/10\n",
      "13/13 [==============================] - 5s 376ms/step - loss: 1.7352 - sparse_categorical_accuracy: 0.4854\n",
      "Epoch 2/10\n",
      "13/13 [==============================] - 5s 373ms/step - loss: 1.7271 - sparse_categorical_accuracy: 0.5049\n",
      "Epoch 3/10\n",
      "13/13 [==============================] - 5s 373ms/step - loss: 1.6016 - sparse_categorical_accuracy: 0.5437\n",
      "Epoch 4/10\n",
      "13/13 [==============================] - 5s 371ms/step - loss: 1.2708 - sparse_categorical_accuracy: 0.5631\n",
      "Epoch 5/10\n",
      "13/13 [==============================] - 5s 371ms/step - loss: 1.2091 - sparse_categorical_accuracy: 0.5146\n",
      "Epoch 6/10\n",
      "13/13 [==============================] - 5s 376ms/step - loss: 1.2067 - sparse_categorical_accuracy: 0.5340\n",
      "Epoch 7/10\n",
      "13/13 [==============================] - 5s 372ms/step - loss: 1.3069 - sparse_categorical_accuracy: 0.4563\n",
      "Epoch 8/10\n",
      "13/13 [==============================] - 5s 370ms/step - loss: 1.2128 - sparse_categorical_accuracy: 0.5146\n",
      "Epoch 9/10\n",
      "13/13 [==============================] - 5s 375ms/step - loss: 1.2585 - sparse_categorical_accuracy: 0.4466\n",
      "Epoch 10/10\n",
      "13/13 [==============================] - 5s 370ms/step - loss: 1.2155 - sparse_categorical_accuracy: 0.4369\n"
     ]
    },
    {
     "name": "stderr",
     "output_type": "stream",
     "text": [
      "\r",
      "33it [32:36, 59.30s/it]"
     ]
    },
    {
     "name": "stdout",
     "output_type": "stream",
     "text": [
      "Epoch 1/10\n",
      "13/13 [==============================] - 5s 407ms/step - loss: 1.6961 - sparse_categorical_accuracy: 0.4757\n",
      "Epoch 2/10\n",
      "13/13 [==============================] - 5s 403ms/step - loss: 1.8481 - sparse_categorical_accuracy: 0.4854\n",
      "Epoch 3/10\n",
      "13/13 [==============================] - 5s 403ms/step - loss: 1.3178 - sparse_categorical_accuracy: 0.5631\n",
      "Epoch 4/10\n",
      "13/13 [==============================] - 5s 409ms/step - loss: 1.2435 - sparse_categorical_accuracy: 0.5437\n",
      "Epoch 5/10\n",
      "13/13 [==============================] - 5s 402ms/step - loss: 1.1873 - sparse_categorical_accuracy: 0.5049\n",
      "Epoch 6/10\n",
      "13/13 [==============================] - 5s 402ms/step - loss: 1.3327 - sparse_categorical_accuracy: 0.4951\n",
      "Epoch 7/10\n",
      "13/13 [==============================] - 5s 403ms/step - loss: 1.2854 - sparse_categorical_accuracy: 0.4951\n",
      "Epoch 8/10\n",
      "13/13 [==============================] - 5s 404ms/step - loss: 1.1075 - sparse_categorical_accuracy: 0.5728\n",
      "Epoch 9/10\n",
      "13/13 [==============================] - 5s 411ms/step - loss: 1.1905 - sparse_categorical_accuracy: 0.4854\n",
      "Epoch 10/10\n",
      "13/13 [==============================] - 5s 406ms/step - loss: 1.2272 - sparse_categorical_accuracy: 0.4660\n"
     ]
    },
    {
     "name": "stderr",
     "output_type": "stream",
     "text": [
      "\r",
      "34it [33:53, 64.66s/it]"
     ]
    },
    {
     "name": "stdout",
     "output_type": "stream",
     "text": [
      "Epoch 1/10\n",
      "13/13 [==============================] - 5s 400ms/step - loss: 1.4753 - sparse_categorical_accuracy: 0.5728\n",
      "Epoch 2/10\n",
      "13/13 [==============================] - 5s 399ms/step - loss: 1.3805 - sparse_categorical_accuracy: 0.6214\n",
      "Epoch 3/10\n",
      "13/13 [==============================] - 5s 403ms/step - loss: 1.3894 - sparse_categorical_accuracy: 0.4660\n",
      "Epoch 4/10\n",
      "13/13 [==============================] - 5s 401ms/step - loss: 1.4527 - sparse_categorical_accuracy: 0.4854\n",
      "Epoch 5/10\n",
      "13/13 [==============================] - 5s 398ms/step - loss: 1.3419 - sparse_categorical_accuracy: 0.4951\n",
      "Epoch 6/10\n",
      "13/13 [==============================] - 5s 401ms/step - loss: 1.2629 - sparse_categorical_accuracy: 0.4951\n",
      "Epoch 7/10\n",
      "13/13 [==============================] - 5s 401ms/step - loss: 1.2406 - sparse_categorical_accuracy: 0.5146\n",
      "Epoch 8/10\n",
      "13/13 [==============================] - 5s 406ms/step - loss: 1.1044 - sparse_categorical_accuracy: 0.5825\n",
      "Epoch 9/10\n",
      "13/13 [==============================] - 5s 401ms/step - loss: 1.2162 - sparse_categorical_accuracy: 0.4563\n",
      "Epoch 10/10\n",
      "13/13 [==============================] - 5s 398ms/step - loss: 1.0842 - sparse_categorical_accuracy: 0.5825\n"
     ]
    },
    {
     "name": "stderr",
     "output_type": "stream",
     "text": [
      "\r",
      "35it [34:57, 64.37s/it]"
     ]
    },
    {
     "name": "stdout",
     "output_type": "stream",
     "text": [
      "Epoch 1/10\n",
      "13/13 [==============================] - 5s 396ms/step - loss: 1.6785 - sparse_categorical_accuracy: 0.5243\n",
      "Epoch 2/10\n",
      "13/13 [==============================] - 5s 397ms/step - loss: 1.6003 - sparse_categorical_accuracy: 0.5534\n",
      "Epoch 3/10\n",
      "13/13 [==============================] - 5s 401ms/step - loss: 1.5323 - sparse_categorical_accuracy: 0.4854\n",
      "Epoch 4/10\n",
      "13/13 [==============================] - 5s 398ms/step - loss: 1.3601 - sparse_categorical_accuracy: 0.6019\n",
      "Epoch 5/10\n",
      "13/13 [==============================] - 5s 396ms/step - loss: 1.2701 - sparse_categorical_accuracy: 0.5340\n",
      "Epoch 6/10\n",
      "13/13 [==============================] - 5s 397ms/step - loss: 1.1302 - sparse_categorical_accuracy: 0.5728\n",
      "Epoch 7/10\n",
      "13/13 [==============================] - 5s 397ms/step - loss: 1.1129 - sparse_categorical_accuracy: 0.6019\n",
      "Epoch 8/10\n",
      "13/13 [==============================] - 5s 405ms/step - loss: 1.2388 - sparse_categorical_accuracy: 0.4951\n",
      "Epoch 9/10\n",
      "13/13 [==============================] - 5s 398ms/step - loss: 1.2255 - sparse_categorical_accuracy: 0.4854\n",
      "Epoch 10/10\n",
      "13/13 [==============================] - 5s 399ms/step - loss: 1.1500 - sparse_categorical_accuracy: 0.5922\n"
     ]
    },
    {
     "name": "stderr",
     "output_type": "stream",
     "text": [
      "\r",
      "36it [36:00, 64.08s/it]"
     ]
    },
    {
     "name": "stdout",
     "output_type": "stream",
     "text": [
      "Epoch 1/10\n",
      "13/13 [==============================] - 5s 395ms/step - loss: 1.5995 - sparse_categorical_accuracy: 0.5534\n",
      "Epoch 2/10\n",
      "13/13 [==============================] - 5s 398ms/step - loss: 1.7279 - sparse_categorical_accuracy: 0.4951\n",
      "Epoch 3/10\n",
      "13/13 [==============================] - 5s 395ms/step - loss: 1.4113 - sparse_categorical_accuracy: 0.5534\n",
      "Epoch 4/10\n",
      "13/13 [==============================] - 5s 395ms/step - loss: 1.2700 - sparse_categorical_accuracy: 0.5922\n",
      "Epoch 5/10\n",
      "13/13 [==============================] - 5s 393ms/step - loss: 1.3509 - sparse_categorical_accuracy: 0.5243\n",
      "Epoch 6/10\n",
      "13/13 [==============================] - 5s 395ms/step - loss: 1.3454 - sparse_categorical_accuracy: 0.4951\n",
      "Epoch 7/10\n",
      "13/13 [==============================] - 5s 398ms/step - loss: 1.2256 - sparse_categorical_accuracy: 0.5437\n",
      "Epoch 8/10\n",
      "13/13 [==============================] - 5s 394ms/step - loss: 1.2354 - sparse_categorical_accuracy: 0.5825\n",
      "Epoch 9/10\n",
      "13/13 [==============================] - 5s 392ms/step - loss: 1.2276 - sparse_categorical_accuracy: 0.5728\n",
      "Epoch 10/10\n",
      "13/13 [==============================] - 5s 394ms/step - loss: 1.1918 - sparse_categorical_accuracy: 0.5340\n"
     ]
    },
    {
     "name": "stderr",
     "output_type": "stream",
     "text": [
      "\r",
      "37it [37:03, 63.74s/it]"
     ]
    },
    {
     "name": "stdout",
     "output_type": "stream",
     "text": [
      "Epoch 1/10\n",
      "13/13 [==============================] - 5s 393ms/step - loss: 1.6842 - sparse_categorical_accuracy: 0.4660\n",
      "Epoch 2/10\n",
      "13/13 [==============================] - 5s 393ms/step - loss: 1.5890 - sparse_categorical_accuracy: 0.5534\n",
      "Epoch 3/10\n",
      "13/13 [==============================] - 5s 392ms/step - loss: 1.4699 - sparse_categorical_accuracy: 0.5146\n",
      "Epoch 4/10\n",
      "13/13 [==============================] - 5s 395ms/step - loss: 1.3064 - sparse_categorical_accuracy: 0.5631\n",
      "Epoch 5/10\n",
      "13/13 [==============================] - 5s 390ms/step - loss: 1.3637 - sparse_categorical_accuracy: 0.5049\n",
      "Epoch 6/10\n",
      "13/13 [==============================] - 5s 392ms/step - loss: 1.3309 - sparse_categorical_accuracy: 0.4563\n",
      "Epoch 7/10\n",
      "13/13 [==============================] - 5s 401ms/step - loss: 1.3398 - sparse_categorical_accuracy: 0.4854\n",
      "Epoch 8/10\n",
      "13/13 [==============================] - 5s 393ms/step - loss: 1.3208 - sparse_categorical_accuracy: 0.4854\n",
      "Epoch 9/10\n",
      "13/13 [==============================] - 5s 390ms/step - loss: 1.2177 - sparse_categorical_accuracy: 0.5049\n",
      "Epoch 10/10\n",
      "13/13 [==============================] - 5s 392ms/step - loss: 1.2283 - sparse_categorical_accuracy: 0.5825\n"
     ]
    },
    {
     "name": "stderr",
     "output_type": "stream",
     "text": [
      "\r",
      "38it [38:06, 63.40s/it]"
     ]
    },
    {
     "name": "stdout",
     "output_type": "stream",
     "text": [
      "Epoch 1/10\n",
      "13/13 [==============================] - 5s 395ms/step - loss: 1.5066 - sparse_categorical_accuracy: 0.5922\n",
      "Epoch 2/10\n",
      "13/13 [==============================] - 5s 389ms/step - loss: 1.4949 - sparse_categorical_accuracy: 0.5243\n",
      "Epoch 3/10\n",
      "13/13 [==============================] - 5s 390ms/step - loss: 1.4356 - sparse_categorical_accuracy: 0.4660\n",
      "Epoch 4/10\n",
      "13/13 [==============================] - 5s 389ms/step - loss: 1.1838 - sparse_categorical_accuracy: 0.5922\n",
      "Epoch 5/10\n",
      "13/13 [==============================] - 5s 388ms/step - loss: 1.3694 - sparse_categorical_accuracy: 0.5825\n",
      "Epoch 6/10\n",
      "13/13 [==============================] - 5s 392ms/step - loss: 1.2021 - sparse_categorical_accuracy: 0.5049\n",
      "Epoch 7/10\n",
      "13/13 [==============================] - 5s 390ms/step - loss: 1.0957 - sparse_categorical_accuracy: 0.6117\n",
      "Epoch 8/10\n",
      "13/13 [==============================] - 5s 389ms/step - loss: 1.1697 - sparse_categorical_accuracy: 0.4854\n",
      "Epoch 9/10\n",
      "13/13 [==============================] - 5s 390ms/step - loss: 1.2614 - sparse_categorical_accuracy: 0.5340\n",
      "Epoch 10/10\n",
      "13/13 [==============================] - 5s 390ms/step - loss: 1.0829 - sparse_categorical_accuracy: 0.5534\n"
     ]
    },
    {
     "name": "stderr",
     "output_type": "stream",
     "text": [
      "\r",
      "39it [39:08, 63.00s/it]"
     ]
    },
    {
     "name": "stdout",
     "output_type": "stream",
     "text": [
      "Epoch 1/10\n",
      "13/13 [==============================] - 5s 392ms/step - loss: 1.8181 - sparse_categorical_accuracy: 0.4854\n",
      "Epoch 2/10\n",
      "13/13 [==============================] - 5s 386ms/step - loss: 1.7513 - sparse_categorical_accuracy: 0.4466\n",
      "Epoch 3/10\n",
      "13/13 [==============================] - 5s 387ms/step - loss: 1.5856 - sparse_categorical_accuracy: 0.3786\n",
      "Epoch 4/10\n",
      "13/13 [==============================] - 5s 386ms/step - loss: 1.2448 - sparse_categorical_accuracy: 0.5825\n",
      "Epoch 5/10\n",
      "13/13 [==============================] - 5s 387ms/step - loss: 1.1486 - sparse_categorical_accuracy: 0.6311\n",
      "Epoch 6/10\n",
      "13/13 [==============================] - 5s 393ms/step - loss: 1.3747 - sparse_categorical_accuracy: 0.5922\n",
      "Epoch 7/10\n",
      "13/13 [==============================] - 5s 388ms/step - loss: 1.3604 - sparse_categorical_accuracy: 0.4757\n",
      "Epoch 8/10\n",
      "13/13 [==============================] - 5s 386ms/step - loss: 1.2183 - sparse_categorical_accuracy: 0.5340\n",
      "Epoch 9/10\n",
      "13/13 [==============================] - 5s 385ms/step - loss: 1.1325 - sparse_categorical_accuracy: 0.5728\n",
      "Epoch 10/10\n",
      "13/13 [==============================] - 5s 387ms/step - loss: 1.1237 - sparse_categorical_accuracy: 0.5631\n"
     ]
    },
    {
     "name": "stderr",
     "output_type": "stream",
     "text": [
      "\r",
      "40it [40:10, 62.68s/it]"
     ]
    },
    {
     "name": "stdout",
     "output_type": "stream",
     "text": [
      "Epoch 1/10\n",
      "13/13 [==============================] - 5s 391ms/step - loss: 1.6382 - sparse_categorical_accuracy: 0.5049\n",
      "Epoch 2/10\n",
      "13/13 [==============================] - 5s 386ms/step - loss: 1.5623 - sparse_categorical_accuracy: 0.5340\n",
      "Epoch 3/10\n",
      "13/13 [==============================] - 5s 384ms/step - loss: 1.2664 - sparse_categorical_accuracy: 0.5631\n",
      "Epoch 4/10\n",
      "13/13 [==============================] - 5s 386ms/step - loss: 1.3409 - sparse_categorical_accuracy: 0.5631\n",
      "Epoch 5/10\n",
      "13/13 [==============================] - 5s 385ms/step - loss: 1.3346 - sparse_categorical_accuracy: 0.5049\n",
      "Epoch 6/10\n",
      "13/13 [==============================] - 5s 389ms/step - loss: 1.2794 - sparse_categorical_accuracy: 0.4854\n",
      "Epoch 7/10\n",
      "13/13 [==============================] - 5s 386ms/step - loss: 1.2020 - sparse_categorical_accuracy: 0.5243\n",
      "Epoch 8/10\n",
      "13/13 [==============================] - 5s 389ms/step - loss: 1.1684 - sparse_categorical_accuracy: 0.5340\n",
      "Epoch 9/10\n",
      "13/13 [==============================] - 5s 386ms/step - loss: 1.1863 - sparse_categorical_accuracy: 0.5243\n",
      "Epoch 10/10\n",
      "13/13 [==============================] - 5s 391ms/step - loss: 0.9943 - sparse_categorical_accuracy: 0.6408\n"
     ]
    },
    {
     "name": "stderr",
     "output_type": "stream",
     "text": [
      "\r",
      "41it [41:11, 62.41s/it]"
     ]
    },
    {
     "name": "stdout",
     "output_type": "stream",
     "text": [
      "Epoch 1/10\n",
      "13/13 [==============================] - 5s 386ms/step - loss: 1.6751 - sparse_categorical_accuracy: 0.5437\n",
      "Epoch 2/10\n",
      "13/13 [==============================] - 5s 383ms/step - loss: 1.7076 - sparse_categorical_accuracy: 0.5825\n",
      "Epoch 3/10\n",
      "13/13 [==============================] - 5s 385ms/step - loss: 1.5631 - sparse_categorical_accuracy: 0.4466\n",
      "Epoch 4/10\n",
      "13/13 [==============================] - 5s 386ms/step - loss: 1.3796 - sparse_categorical_accuracy: 0.5631\n",
      "Epoch 5/10\n",
      "13/13 [==============================] - 5s 385ms/step - loss: 1.3794 - sparse_categorical_accuracy: 0.5534\n",
      "Epoch 6/10\n",
      "13/13 [==============================] - 5s 393ms/step - loss: 1.2847 - sparse_categorical_accuracy: 0.5243\n",
      "Epoch 7/10\n",
      "13/13 [==============================] - 5s 384ms/step - loss: 1.1581 - sparse_categorical_accuracy: 0.5437\n",
      "Epoch 8/10\n",
      "13/13 [==============================] - 5s 385ms/step - loss: 1.2490 - sparse_categorical_accuracy: 0.4854\n",
      "Epoch 9/10\n",
      "13/13 [==============================] - 5s 386ms/step - loss: 1.3330 - sparse_categorical_accuracy: 0.5437\n",
      "Epoch 10/10\n",
      "13/13 [==============================] - 5s 386ms/step - loss: 1.2818 - sparse_categorical_accuracy: 0.4563\n"
     ]
    },
    {
     "name": "stderr",
     "output_type": "stream",
     "text": [
      "\r",
      "42it [42:13, 62.14s/it]"
     ]
    },
    {
     "name": "stdout",
     "output_type": "stream",
     "text": [
      "Epoch 1/10\n",
      "13/13 [==============================] - 5s 382ms/step - loss: 1.5953 - sparse_categorical_accuracy: 0.5728\n",
      "Epoch 2/10\n",
      "13/13 [==============================] - 5s 383ms/step - loss: 1.5918 - sparse_categorical_accuracy: 0.6019\n",
      "Epoch 3/10\n",
      "13/13 [==============================] - 5s 385ms/step - loss: 1.3983 - sparse_categorical_accuracy: 0.5340\n",
      "Epoch 4/10\n",
      "13/13 [==============================] - 5s 383ms/step - loss: 1.3384 - sparse_categorical_accuracy: 0.5340\n",
      "Epoch 5/10\n",
      "13/13 [==============================] - 5s 383ms/step - loss: 1.3846 - sparse_categorical_accuracy: 0.4466\n",
      "Epoch 6/10\n",
      "13/13 [==============================] - 5s 387ms/step - loss: 1.4128 - sparse_categorical_accuracy: 0.4466\n",
      "Epoch 7/10\n",
      "13/13 [==============================] - 5s 383ms/step - loss: 1.1988 - sparse_categorical_accuracy: 0.5922\n",
      "Epoch 8/10\n",
      "13/13 [==============================] - 5s 384ms/step - loss: 1.1790 - sparse_categorical_accuracy: 0.5146\n",
      "Epoch 9/10\n",
      "13/13 [==============================] - 5s 382ms/step - loss: 1.2336 - sparse_categorical_accuracy: 0.5631\n",
      "Epoch 10/10\n",
      "13/13 [==============================] - 5s 383ms/step - loss: 1.2154 - sparse_categorical_accuracy: 0.5340\n"
     ]
    },
    {
     "name": "stderr",
     "output_type": "stream",
     "text": [
      "\r",
      "43it [43:14, 61.84s/it]"
     ]
    },
    {
     "name": "stdout",
     "output_type": "stream",
     "text": [
      "Epoch 1/10\n",
      "13/13 [==============================] - 5s 369ms/step - loss: 1.5518 - sparse_categorical_accuracy: 0.5243\n",
      "Epoch 2/10\n",
      "13/13 [==============================] - 5s 369ms/step - loss: 1.7484 - sparse_categorical_accuracy: 0.4272\n",
      "Epoch 3/10\n",
      "13/13 [==============================] - 5s 370ms/step - loss: 1.4584 - sparse_categorical_accuracy: 0.5243\n",
      "Epoch 4/10\n",
      "13/13 [==============================] - 5s 369ms/step - loss: 1.2949 - sparse_categorical_accuracy: 0.5049\n",
      "Epoch 5/10\n",
      "13/13 [==============================] - 5s 371ms/step - loss: 1.2497 - sparse_categorical_accuracy: 0.5340\n",
      "Epoch 6/10\n",
      "13/13 [==============================] - 5s 376ms/step - loss: 1.2210 - sparse_categorical_accuracy: 0.4660\n",
      "Epoch 7/10\n",
      "13/13 [==============================] - 5s 370ms/step - loss: 1.2981 - sparse_categorical_accuracy: 0.4272\n",
      "Epoch 8/10\n",
      "13/13 [==============================] - 5s 369ms/step - loss: 1.1141 - sparse_categorical_accuracy: 0.5437\n",
      "Epoch 9/10\n",
      "13/13 [==============================] - 5s 370ms/step - loss: 1.1926 - sparse_categorical_accuracy: 0.4757\n",
      "Epoch 10/10\n",
      "13/13 [==============================] - 5s 369ms/step - loss: 1.1880 - sparse_categorical_accuracy: 0.5340\n"
     ]
    },
    {
     "name": "stderr",
     "output_type": "stream",
     "text": [
      "\r",
      "44it [44:13, 61.09s/it]"
     ]
    },
    {
     "name": "stdout",
     "output_type": "stream",
     "text": [
      "Epoch 1/10\n",
      "13/13 [==============================] - 5s 375ms/step - loss: 1.7347 - sparse_categorical_accuracy: 0.5340\n",
      "Epoch 2/10\n",
      "13/13 [==============================] - 5s 367ms/step - loss: 1.6342 - sparse_categorical_accuracy: 0.5825\n",
      "Epoch 3/10\n",
      "13/13 [==============================] - 5s 367ms/step - loss: 1.3045 - sparse_categorical_accuracy: 0.5631\n",
      "Epoch 4/10\n",
      "13/13 [==============================] - 5s 367ms/step - loss: 1.2790 - sparse_categorical_accuracy: 0.5146\n",
      "Epoch 5/10\n",
      "13/13 [==============================] - 5s 366ms/step - loss: 1.2523 - sparse_categorical_accuracy: 0.5243\n",
      "Epoch 6/10\n",
      "13/13 [==============================] - 5s 372ms/step - loss: 1.0789 - sparse_categorical_accuracy: 0.5728\n",
      "Epoch 7/10\n",
      "13/13 [==============================] - 5s 369ms/step - loss: 1.1988 - sparse_categorical_accuracy: 0.4951\n",
      "Epoch 8/10\n",
      "13/13 [==============================] - 5s 367ms/step - loss: 1.2292 - sparse_categorical_accuracy: 0.5243\n",
      "Epoch 9/10\n",
      "13/13 [==============================] - 5s 372ms/step - loss: 1.3324 - sparse_categorical_accuracy: 0.4951\n",
      "Epoch 10/10\n",
      "13/13 [==============================] - 5s 368ms/step - loss: 1.2145 - sparse_categorical_accuracy: 0.5534\n"
     ]
    },
    {
     "name": "stderr",
     "output_type": "stream",
     "text": [
      "\r",
      "45it [45:13, 60.54s/it]"
     ]
    },
    {
     "name": "stdout",
     "output_type": "stream",
     "text": [
      "Epoch 1/10\n",
      "13/13 [==============================] - 5s 369ms/step - loss: 1.6874 - sparse_categorical_accuracy: 0.5049\n",
      "Epoch 2/10\n",
      "13/13 [==============================] - 5s 366ms/step - loss: 1.7221 - sparse_categorical_accuracy: 0.5437\n",
      "Epoch 3/10\n",
      "13/13 [==============================] - 5s 364ms/step - loss: 1.5600 - sparse_categorical_accuracy: 0.4854\n",
      "Epoch 4/10\n",
      "13/13 [==============================] - 5s 365ms/step - loss: 1.2417 - sparse_categorical_accuracy: 0.5631\n",
      "Epoch 5/10\n",
      "13/13 [==============================] - 5s 366ms/step - loss: 1.4845 - sparse_categorical_accuracy: 0.4175\n",
      "Epoch 6/10\n",
      "13/13 [==============================] - 5s 375ms/step - loss: 1.4350 - sparse_categorical_accuracy: 0.4272\n",
      "Epoch 7/10\n",
      "13/13 [==============================] - 5s 366ms/step - loss: 1.1500 - sparse_categorical_accuracy: 0.6311\n",
      "Epoch 8/10\n",
      "13/13 [==============================] - 5s 366ms/step - loss: 1.2311 - sparse_categorical_accuracy: 0.5534\n",
      "Epoch 9/10\n",
      "13/13 [==============================] - 5s 365ms/step - loss: 1.1683 - sparse_categorical_accuracy: 0.5146\n",
      "Epoch 10/10\n",
      "13/13 [==============================] - 5s 366ms/step - loss: 1.2791 - sparse_categorical_accuracy: 0.5146\n"
     ]
    },
    {
     "name": "stderr",
     "output_type": "stream",
     "text": [
      "\r",
      "46it [46:11, 60.02s/it]"
     ]
    },
    {
     "name": "stdout",
     "output_type": "stream",
     "text": [
      "Epoch 1/10\n",
      "13/13 [==============================] - 5s 367ms/step - loss: 1.6787 - sparse_categorical_accuracy: 0.4854\n",
      "Epoch 2/10\n",
      "13/13 [==============================] - 5s 363ms/step - loss: 1.6770 - sparse_categorical_accuracy: 0.4951\n",
      "Epoch 3/10\n",
      "13/13 [==============================] - 5s 362ms/step - loss: 1.4174 - sparse_categorical_accuracy: 0.5340\n",
      "Epoch 4/10\n",
      "13/13 [==============================] - 5s 361ms/step - loss: 1.2659 - sparse_categorical_accuracy: 0.5243\n",
      "Epoch 5/10\n",
      "13/13 [==============================] - 5s 370ms/step - loss: 1.3337 - sparse_categorical_accuracy: 0.5243\n",
      "Epoch 6/10\n",
      "13/13 [==============================] - 5s 373ms/step - loss: 1.0705 - sparse_categorical_accuracy: 0.6505\n",
      "Epoch 7/10\n",
      "13/13 [==============================] - 5s 371ms/step - loss: 1.2006 - sparse_categorical_accuracy: 0.5728\n",
      "Epoch 8/10\n",
      "13/13 [==============================] - 5s 366ms/step - loss: 1.2762 - sparse_categorical_accuracy: 0.5340\n",
      "Epoch 9/10\n",
      "13/13 [==============================] - 5s 364ms/step - loss: 1.2546 - sparse_categorical_accuracy: 0.4951\n",
      "Epoch 10/10\n",
      "13/13 [==============================] - 5s 364ms/step - loss: 1.1513 - sparse_categorical_accuracy: 0.5534\n"
     ]
    },
    {
     "name": "stderr",
     "output_type": "stream",
     "text": [
      "\r",
      "47it [47:10, 59.63s/it]"
     ]
    },
    {
     "name": "stdout",
     "output_type": "stream",
     "text": [
      "Epoch 1/10\n",
      "13/13 [==============================] - 5s 371ms/step - loss: 1.6893 - sparse_categorical_accuracy: 0.4660\n",
      "Epoch 2/10\n",
      "13/13 [==============================] - 5s 365ms/step - loss: 1.6975 - sparse_categorical_accuracy: 0.5728\n",
      "Epoch 3/10\n",
      "13/13 [==============================] - 5s 370ms/step - loss: 1.3987 - sparse_categorical_accuracy: 0.6019\n",
      "Epoch 4/10\n",
      "13/13 [==============================] - 5s 366ms/step - loss: 1.3645 - sparse_categorical_accuracy: 0.6019\n",
      "Epoch 5/10\n",
      "13/13 [==============================] - 5s 366ms/step - loss: 1.3233 - sparse_categorical_accuracy: 0.4951\n",
      "Epoch 6/10\n",
      "13/13 [==============================] - 5s 366ms/step - loss: 1.2124 - sparse_categorical_accuracy: 0.5631\n",
      "Epoch 7/10\n",
      "13/13 [==============================] - 5s 368ms/step - loss: 1.3105 - sparse_categorical_accuracy: 0.4757\n",
      "Epoch 8/10\n",
      "13/13 [==============================] - 5s 360ms/step - loss: 1.2275 - sparse_categorical_accuracy: 0.5146\n",
      "Epoch 9/10\n",
      "13/13 [==============================] - 5s 361ms/step - loss: 1.2670 - sparse_categorical_accuracy: 0.3883\n",
      "Epoch 10/10\n",
      "13/13 [==============================] - 5s 360ms/step - loss: 1.0421 - sparse_categorical_accuracy: 0.6117\n"
     ]
    },
    {
     "name": "stderr",
     "output_type": "stream",
     "text": [
      "\r",
      "48it [48:09, 59.33s/it]"
     ]
    },
    {
     "name": "stdout",
     "output_type": "stream",
     "text": [
      "Epoch 1/10\n",
      "13/13 [==============================] - 5s 365ms/step - loss: 1.7051 - sparse_categorical_accuracy: 0.4369\n",
      "Epoch 2/10\n",
      "13/13 [==============================] - 5s 361ms/step - loss: 1.5873 - sparse_categorical_accuracy: 0.5340\n",
      "Epoch 3/10\n",
      "13/13 [==============================] - 5s 361ms/step - loss: 1.4375 - sparse_categorical_accuracy: 0.5437\n",
      "Epoch 4/10\n",
      "13/13 [==============================] - 5s 361ms/step - loss: 1.2190 - sparse_categorical_accuracy: 0.5922\n",
      "Epoch 5/10\n",
      "13/13 [==============================] - 5s 362ms/step - loss: 1.1945 - sparse_categorical_accuracy: 0.4951\n",
      "Epoch 6/10\n",
      "13/13 [==============================] - 5s 361ms/step - loss: 1.1033 - sparse_categorical_accuracy: 0.6019\n",
      "Epoch 7/10\n",
      "13/13 [==============================] - 5s 362ms/step - loss: 1.2041 - sparse_categorical_accuracy: 0.5534\n",
      "Epoch 8/10\n",
      "13/13 [==============================] - 5s 365ms/step - loss: 1.0550 - sparse_categorical_accuracy: 0.5825\n",
      "Epoch 9/10\n",
      "13/13 [==============================] - 5s 360ms/step - loss: 1.1169 - sparse_categorical_accuracy: 0.5631\n",
      "Epoch 10/10\n",
      "13/13 [==============================] - 5s 361ms/step - loss: 1.0884 - sparse_categorical_accuracy: 0.5631\n"
     ]
    },
    {
     "name": "stderr",
     "output_type": "stream",
     "text": [
      "\r",
      "49it [49:07, 59.04s/it]"
     ]
    },
    {
     "name": "stdout",
     "output_type": "stream",
     "text": [
      "Epoch 1/10\n",
      "13/13 [==============================] - 5s 365ms/step - loss: 1.5504 - sparse_categorical_accuracy: 0.5146\n",
      "Epoch 2/10\n",
      "13/13 [==============================] - 5s 369ms/step - loss: 1.6410 - sparse_categorical_accuracy: 0.4854\n",
      "Epoch 3/10\n",
      "13/13 [==============================] - 5s 365ms/step - loss: 1.3758 - sparse_categorical_accuracy: 0.5146\n",
      "Epoch 4/10\n",
      "13/13 [==============================] - 5s 365ms/step - loss: 1.2460 - sparse_categorical_accuracy: 0.5340\n",
      "Epoch 5/10\n",
      "13/13 [==============================] - 5s 365ms/step - loss: 1.2875 - sparse_categorical_accuracy: 0.5243\n",
      "Epoch 6/10\n",
      "13/13 [==============================] - 5s 365ms/step - loss: 1.4031 - sparse_categorical_accuracy: 0.4563\n",
      "Epoch 7/10\n",
      "13/13 [==============================] - 5s 370ms/step - loss: 1.2265 - sparse_categorical_accuracy: 0.4757\n",
      "Epoch 8/10\n",
      "13/13 [==============================] - 5s 370ms/step - loss: 1.1935 - sparse_categorical_accuracy: 0.5534\n",
      "Epoch 9/10\n",
      "13/13 [==============================] - 5s 365ms/step - loss: 1.2263 - sparse_categorical_accuracy: 0.5437\n",
      "Epoch 10/10\n",
      "13/13 [==============================] - 5s 365ms/step - loss: 1.1880 - sparse_categorical_accuracy: 0.5728\n"
     ]
    },
    {
     "name": "stderr",
     "output_type": "stream",
     "text": [
      "\r",
      "50it [50:06, 58.98s/it]"
     ]
    },
    {
     "name": "stdout",
     "output_type": "stream",
     "text": [
      "Epoch 1/10\n",
      "13/13 [==============================] - 5s 368ms/step - loss: 1.7011 - sparse_categorical_accuracy: 0.5437\n",
      "Epoch 2/10\n",
      "13/13 [==============================] - 5s 373ms/step - loss: 1.6607 - sparse_categorical_accuracy: 0.5437\n",
      "Epoch 3/10\n",
      "13/13 [==============================] - 5s 368ms/step - loss: 1.4306 - sparse_categorical_accuracy: 0.4757\n",
      "Epoch 4/10\n",
      "13/13 [==============================] - 5s 367ms/step - loss: 1.3614 - sparse_categorical_accuracy: 0.4854\n",
      "Epoch 5/10\n",
      "13/13 [==============================] - 5s 369ms/step - loss: 1.2353 - sparse_categorical_accuracy: 0.5922\n",
      "Epoch 6/10\n",
      "13/13 [==============================] - 5s 368ms/step - loss: 1.1138 - sparse_categorical_accuracy: 0.5825\n",
      "Epoch 7/10\n",
      "13/13 [==============================] - 5s 369ms/step - loss: 1.2247 - sparse_categorical_accuracy: 0.5049\n",
      "Epoch 8/10\n",
      "13/13 [==============================] - 5s 372ms/step - loss: 1.0589 - sparse_categorical_accuracy: 0.5534\n",
      "Epoch 9/10\n",
      "13/13 [==============================] - 5s 369ms/step - loss: 1.1018 - sparse_categorical_accuracy: 0.5049\n",
      "Epoch 10/10\n",
      "13/13 [==============================] - 5s 367ms/step - loss: 1.0821 - sparse_categorical_accuracy: 0.5340\n"
     ]
    },
    {
     "name": "stderr",
     "output_type": "stream",
     "text": [
      "\r",
      "51it [51:06, 59.14s/it]"
     ]
    },
    {
     "name": "stdout",
     "output_type": "stream",
     "text": [
      "Epoch 1/10\n",
      "13/13 [==============================] - 5s 373ms/step - loss: 1.6746 - sparse_categorical_accuracy: 0.5243\n",
      "Epoch 2/10\n",
      "13/13 [==============================] - 5s 371ms/step - loss: 1.7643 - sparse_categorical_accuracy: 0.6019\n",
      "Epoch 3/10\n",
      "13/13 [==============================] - 5s 370ms/step - loss: 1.5648 - sparse_categorical_accuracy: 0.4563\n",
      "Epoch 4/10\n",
      "13/13 [==============================] - 5s 367ms/step - loss: 1.3791 - sparse_categorical_accuracy: 0.5340\n",
      "Epoch 5/10\n",
      "13/13 [==============================] - 5s 369ms/step - loss: 1.2911 - sparse_categorical_accuracy: 0.5631\n",
      "Epoch 6/10\n",
      "13/13 [==============================] - 5s 370ms/step - loss: 1.2208 - sparse_categorical_accuracy: 0.5437\n",
      "Epoch 7/10\n",
      "13/13 [==============================] - 5s 372ms/step - loss: 1.2042 - sparse_categorical_accuracy: 0.4854\n",
      "Epoch 8/10\n",
      "13/13 [==============================] - 5s 372ms/step - loss: 1.2656 - sparse_categorical_accuracy: 0.5049\n",
      "Epoch 9/10\n",
      "13/13 [==============================] - 5s 369ms/step - loss: 1.2148 - sparse_categorical_accuracy: 0.4660\n",
      "Epoch 10/10\n",
      "13/13 [==============================] - 5s 370ms/step - loss: 1.1418 - sparse_categorical_accuracy: 0.4854\n"
     ]
    },
    {
     "name": "stderr",
     "output_type": "stream",
     "text": [
      "\r",
      "52it [52:05, 59.28s/it]"
     ]
    },
    {
     "name": "stdout",
     "output_type": "stream",
     "text": [
      "Epoch 1/10\n",
      "13/13 [==============================] - 6s 443ms/step - loss: 1.5937 - sparse_categorical_accuracy: 0.4951\n",
      "Epoch 2/10\n",
      "13/13 [==============================] - 6s 431ms/step - loss: 1.6558 - sparse_categorical_accuracy: 0.5340\n",
      "Epoch 3/10\n",
      "13/13 [==============================] - 6s 430ms/step - loss: 1.4451 - sparse_categorical_accuracy: 0.4757\n",
      "Epoch 4/10\n",
      "13/13 [==============================] - 6s 435ms/step - loss: 1.2942 - sparse_categorical_accuracy: 0.5146\n",
      "Epoch 5/10\n",
      "13/13 [==============================] - 6s 432ms/step - loss: 1.1182 - sparse_categorical_accuracy: 0.5922\n",
      "Epoch 6/10\n",
      "13/13 [==============================] - 6s 432ms/step - loss: 1.1463 - sparse_categorical_accuracy: 0.5146\n",
      "Epoch 7/10\n",
      "13/13 [==============================] - 6s 430ms/step - loss: 1.0369 - sparse_categorical_accuracy: 0.6117\n",
      "Epoch 8/10\n",
      "13/13 [==============================] - 6s 430ms/step - loss: 1.0737 - sparse_categorical_accuracy: 0.5631\n",
      "Epoch 9/10\n",
      "13/13 [==============================] - 6s 437ms/step - loss: 1.1737 - sparse_categorical_accuracy: 0.5340\n",
      "Epoch 10/10\n",
      "13/13 [==============================] - 6s 432ms/step - loss: 1.0928 - sparse_categorical_accuracy: 0.5340\n"
     ]
    },
    {
     "name": "stderr",
     "output_type": "stream",
     "text": [
      "\r",
      "53it [53:33, 67.81s/it]"
     ]
    },
    {
     "name": "stdout",
     "output_type": "stream",
     "text": [
      "Epoch 1/10\n",
      "13/13 [==============================] - 6s 430ms/step - loss: 1.8300 - sparse_categorical_accuracy: 0.5049\n",
      "Epoch 2/10\n",
      "13/13 [==============================] - 6s 429ms/step - loss: 1.7466 - sparse_categorical_accuracy: 0.5437\n",
      "Epoch 3/10\n",
      "13/13 [==============================] - 6s 432ms/step - loss: 1.3318 - sparse_categorical_accuracy: 0.5631\n",
      "Epoch 4/10\n",
      "13/13 [==============================] - 6s 428ms/step - loss: 1.2976 - sparse_categorical_accuracy: 0.4563\n",
      "Epoch 5/10\n",
      "13/13 [==============================] - 6s 430ms/step - loss: 1.2682 - sparse_categorical_accuracy: 0.4951\n",
      "Epoch 6/10\n",
      "13/13 [==============================] - 6s 428ms/step - loss: 1.2233 - sparse_categorical_accuracy: 0.5243\n",
      "Epoch 7/10\n",
      "13/13 [==============================] - 6s 428ms/step - loss: 1.2108 - sparse_categorical_accuracy: 0.5243\n",
      "Epoch 8/10\n",
      "13/13 [==============================] - 6s 436ms/step - loss: 1.2572 - sparse_categorical_accuracy: 0.5340\n",
      "Epoch 9/10\n",
      "13/13 [==============================] - 6s 429ms/step - loss: 1.1013 - sparse_categorical_accuracy: 0.5922\n",
      "Epoch 10/10\n",
      "13/13 [==============================] - 6s 428ms/step - loss: 1.2181 - sparse_categorical_accuracy: 0.4466\n"
     ]
    },
    {
     "name": "stderr",
     "output_type": "stream",
     "text": [
      "\r",
      "54it [54:41, 67.84s/it]"
     ]
    },
    {
     "name": "stdout",
     "output_type": "stream",
     "text": [
      "Epoch 1/10\n",
      "13/13 [==============================] - 5s 413ms/step - loss: 1.4969 - sparse_categorical_accuracy: 0.4951\n",
      "Epoch 2/10\n",
      "13/13 [==============================] - 5s 416ms/step - loss: 1.7000 - sparse_categorical_accuracy: 0.5631\n",
      "Epoch 3/10\n",
      "13/13 [==============================] - 5s 411ms/step - loss: 1.4999 - sparse_categorical_accuracy: 0.5728\n",
      "Epoch 4/10\n",
      "13/13 [==============================] - 5s 410ms/step - loss: 1.3363 - sparse_categorical_accuracy: 0.5049\n",
      "Epoch 5/10\n",
      "13/13 [==============================] - 5s 411ms/step - loss: 1.4913 - sparse_categorical_accuracy: 0.4951\n",
      "Epoch 6/10\n",
      "13/13 [==============================] - 5s 411ms/step - loss: 1.3857 - sparse_categorical_accuracy: 0.4660\n",
      "Epoch 7/10\n",
      "13/13 [==============================] - 5s 416ms/step - loss: 1.4228 - sparse_categorical_accuracy: 0.4466\n",
      "Epoch 8/10\n",
      "13/13 [==============================] - 5s 411ms/step - loss: 1.3695 - sparse_categorical_accuracy: 0.3883\n",
      "Epoch 9/10\n",
      "13/13 [==============================] - 5s 412ms/step - loss: 1.1342 - sparse_categorical_accuracy: 0.5534\n",
      "Epoch 10/10\n",
      "13/13 [==============================] - 5s 410ms/step - loss: 1.2116 - sparse_categorical_accuracy: 0.4854\n"
     ]
    },
    {
     "name": "stderr",
     "output_type": "stream",
     "text": [
      "\r",
      "55it [55:46, 67.12s/it]"
     ]
    },
    {
     "name": "stdout",
     "output_type": "stream",
     "text": [
      "Epoch 1/10\n",
      "13/13 [==============================] - 5s 413ms/step - loss: 1.7297 - sparse_categorical_accuracy: 0.4660\n",
      "Epoch 2/10\n",
      "13/13 [==============================] - 5s 406ms/step - loss: 1.6684 - sparse_categorical_accuracy: 0.5534\n",
      "Epoch 3/10\n",
      "13/13 [==============================] - 5s 412ms/step - loss: 1.4573 - sparse_categorical_accuracy: 0.5243\n",
      "Epoch 4/10\n",
      "13/13 [==============================] - 5s 407ms/step - loss: 1.2714 - sparse_categorical_accuracy: 0.4951\n",
      "Epoch 5/10\n",
      "13/13 [==============================] - 5s 410ms/step - loss: 1.2902 - sparse_categorical_accuracy: 0.4466\n",
      "Epoch 6/10\n",
      "13/13 [==============================] - 5s 412ms/step - loss: 1.2845 - sparse_categorical_accuracy: 0.4854\n",
      "Epoch 7/10\n",
      "13/13 [==============================] - 5s 405ms/step - loss: 1.0787 - sparse_categorical_accuracy: 0.5922\n",
      "Epoch 8/10\n",
      "13/13 [==============================] - 5s 407ms/step - loss: 1.1508 - sparse_categorical_accuracy: 0.4660\n",
      "Epoch 9/10\n",
      "13/13 [==============================] - 5s 406ms/step - loss: 1.1557 - sparse_categorical_accuracy: 0.5922\n",
      "Epoch 10/10\n",
      "13/13 [==============================] - 5s 405ms/step - loss: 1.0087 - sparse_categorical_accuracy: 0.6505\n"
     ]
    },
    {
     "name": "stderr",
     "output_type": "stream",
     "text": [
      "\r",
      "56it [56:51, 66.50s/it]"
     ]
    },
    {
     "name": "stdout",
     "output_type": "stream",
     "text": [
      "Epoch 1/10\n",
      "13/13 [==============================] - 5s 404ms/step - loss: 1.7793 - sparse_categorical_accuracy: 0.5049\n",
      "Epoch 2/10\n",
      "13/13 [==============================] - 5s 401ms/step - loss: 1.8306 - sparse_categorical_accuracy: 0.5243\n",
      "Epoch 3/10\n",
      "13/13 [==============================] - 5s 401ms/step - loss: 1.5638 - sparse_categorical_accuracy: 0.5340\n",
      "Epoch 4/10\n",
      "13/13 [==============================] - 5s 401ms/step - loss: 1.4067 - sparse_categorical_accuracy: 0.4466\n",
      "Epoch 5/10\n",
      "13/13 [==============================] - 5s 406ms/step - loss: 1.2751 - sparse_categorical_accuracy: 0.5243\n",
      "Epoch 6/10\n",
      "13/13 [==============================] - 5s 402ms/step - loss: 1.2585 - sparse_categorical_accuracy: 0.5825\n",
      "Epoch 7/10\n",
      "13/13 [==============================] - 5s 405ms/step - loss: 1.2446 - sparse_categorical_accuracy: 0.5437\n",
      "Epoch 8/10\n",
      "13/13 [==============================] - 5s 402ms/step - loss: 1.2294 - sparse_categorical_accuracy: 0.5049\n",
      "Epoch 9/10\n",
      "13/13 [==============================] - 5s 407ms/step - loss: 1.2549 - sparse_categorical_accuracy: 0.5049\n",
      "Epoch 10/10\n",
      "13/13 [==============================] - 5s 403ms/step - loss: 1.2153 - sparse_categorical_accuracy: 0.5437\n"
     ]
    },
    {
     "name": "stderr",
     "output_type": "stream",
     "text": [
      "\r",
      "57it [57:56, 65.87s/it]"
     ]
    },
    {
     "name": "stdout",
     "output_type": "stream",
     "text": [
      "Epoch 1/10\n",
      "13/13 [==============================] - 5s 399ms/step - loss: 1.7120 - sparse_categorical_accuracy: 0.5243\n",
      "Epoch 2/10\n",
      "13/13 [==============================] - 5s 397ms/step - loss: 1.5926 - sparse_categorical_accuracy: 0.5728\n",
      "Epoch 3/10\n",
      "13/13 [==============================] - 5s 397ms/step - loss: 1.3171 - sparse_categorical_accuracy: 0.5922\n",
      "Epoch 4/10\n",
      "13/13 [==============================] - 5s 399ms/step - loss: 1.3219 - sparse_categorical_accuracy: 0.4466\n",
      "Epoch 5/10\n",
      "13/13 [==============================] - 5s 402ms/step - loss: 1.3235 - sparse_categorical_accuracy: 0.4951\n",
      "Epoch 6/10\n",
      "13/13 [==============================] - 5s 399ms/step - loss: 1.3643 - sparse_categorical_accuracy: 0.4078\n",
      "Epoch 7/10\n",
      "13/13 [==============================] - 5s 397ms/step - loss: 1.2770 - sparse_categorical_accuracy: 0.4854\n",
      "Epoch 8/10\n",
      "13/13 [==============================] - 5s 397ms/step - loss: 1.2536 - sparse_categorical_accuracy: 0.5049\n",
      "Epoch 9/10\n",
      "13/13 [==============================] - 5s 399ms/step - loss: 1.1160 - sparse_categorical_accuracy: 0.5340\n",
      "Epoch 10/10\n",
      "13/13 [==============================] - 5s 402ms/step - loss: 1.1898 - sparse_categorical_accuracy: 0.5631\n"
     ]
    },
    {
     "name": "stderr",
     "output_type": "stream",
     "text": [
      "\r",
      "58it [58:59, 65.22s/it]"
     ]
    },
    {
     "name": "stdout",
     "output_type": "stream",
     "text": [
      "Epoch 1/10\n",
      "13/13 [==============================] - 5s 390ms/step - loss: 1.7123 - sparse_categorical_accuracy: 0.5049\n",
      "Epoch 2/10\n",
      "13/13 [==============================] - 5s 389ms/step - loss: 1.6790 - sparse_categorical_accuracy: 0.6117\n",
      "Epoch 3/10\n",
      "13/13 [==============================] - 5s 397ms/step - loss: 1.5126 - sparse_categorical_accuracy: 0.4660\n",
      "Epoch 4/10\n",
      "13/13 [==============================] - 5s 393ms/step - loss: 1.4058 - sparse_categorical_accuracy: 0.4563\n",
      "Epoch 5/10\n",
      "13/13 [==============================] - 5s 387ms/step - loss: 1.3452 - sparse_categorical_accuracy: 0.5049\n",
      "Epoch 6/10\n",
      "13/13 [==============================] - 5s 388ms/step - loss: 1.2586 - sparse_categorical_accuracy: 0.5631\n",
      "Epoch 7/10\n",
      "13/13 [==============================] - 5s 388ms/step - loss: 1.2141 - sparse_categorical_accuracy: 0.5631\n",
      "Epoch 8/10\n",
      "13/13 [==============================] - 5s 392ms/step - loss: 1.3489 - sparse_categorical_accuracy: 0.4660\n",
      "Epoch 9/10\n",
      "13/13 [==============================] - 5s 387ms/step - loss: 1.3938 - sparse_categorical_accuracy: 0.5243\n",
      "Epoch 10/10\n",
      "13/13 [==============================] - 5s 393ms/step - loss: 1.2239 - sparse_categorical_accuracy: 0.5146\n"
     ]
    },
    {
     "name": "stderr",
     "output_type": "stream",
     "text": [
      "\r",
      "59it [1:00:02, 64.36s/it]"
     ]
    },
    {
     "name": "stdout",
     "output_type": "stream",
     "text": [
      "Epoch 1/10\n",
      "13/13 [==============================] - 5s 387ms/step - loss: 1.6277 - sparse_categorical_accuracy: 0.4757\n",
      "Epoch 2/10\n",
      "13/13 [==============================] - 5s 383ms/step - loss: 1.4835 - sparse_categorical_accuracy: 0.6408\n",
      "Epoch 3/10\n",
      "13/13 [==============================] - 5s 384ms/step - loss: 1.3480 - sparse_categorical_accuracy: 0.5243\n",
      "Epoch 4/10\n",
      "13/13 [==============================] - 5s 389ms/step - loss: 1.3059 - sparse_categorical_accuracy: 0.5437\n",
      "Epoch 5/10\n",
      "13/13 [==============================] - 5s 384ms/step - loss: 1.2045 - sparse_categorical_accuracy: 0.5922\n",
      "Epoch 6/10\n",
      "13/13 [==============================] - 5s 383ms/step - loss: 1.2990 - sparse_categorical_accuracy: 0.4951\n",
      "Epoch 7/10\n",
      "13/13 [==============================] - 5s 384ms/step - loss: 1.3009 - sparse_categorical_accuracy: 0.5340\n",
      "Epoch 8/10\n",
      "13/13 [==============================] - 5s 384ms/step - loss: 1.2636 - sparse_categorical_accuracy: 0.4757\n",
      "Epoch 9/10\n",
      "13/13 [==============================] - 5s 387ms/step - loss: 1.2413 - sparse_categorical_accuracy: 0.4854\n",
      "Epoch 10/10\n",
      "13/13 [==============================] - 5s 384ms/step - loss: 1.2516 - sparse_categorical_accuracy: 0.5146\n"
     ]
    },
    {
     "name": "stderr",
     "output_type": "stream",
     "text": [
      "\r",
      "60it [1:01:04, 63.61s/it]"
     ]
    },
    {
     "name": "stdout",
     "output_type": "stream",
     "text": [
      "Epoch 1/10\n",
      "13/13 [==============================] - 5s 384ms/step - loss: 1.5478 - sparse_categorical_accuracy: 0.5631\n",
      "Epoch 2/10\n",
      "13/13 [==============================] - 5s 379ms/step - loss: 1.5448 - sparse_categorical_accuracy: 0.5631\n",
      "Epoch 3/10\n",
      "13/13 [==============================] - 5s 378ms/step - loss: 1.4692 - sparse_categorical_accuracy: 0.5146\n",
      "Epoch 4/10\n",
      "13/13 [==============================] - 5s 383ms/step - loss: 1.4302 - sparse_categorical_accuracy: 0.5340\n",
      "Epoch 5/10\n",
      "13/13 [==============================] - 5s 379ms/step - loss: 1.2548 - sparse_categorical_accuracy: 0.6408\n",
      "Epoch 6/10\n",
      "13/13 [==============================] - 5s 378ms/step - loss: 1.3014 - sparse_categorical_accuracy: 0.4563\n",
      "Epoch 7/10\n",
      "13/13 [==============================] - 5s 382ms/step - loss: 1.2876 - sparse_categorical_accuracy: 0.4660\n",
      "Epoch 8/10\n",
      "13/13 [==============================] - 5s 380ms/step - loss: 1.1684 - sparse_categorical_accuracy: 0.5437\n",
      "Epoch 9/10\n",
      "13/13 [==============================] - 5s 382ms/step - loss: 1.2556 - sparse_categorical_accuracy: 0.4563\n",
      "Epoch 10/10\n",
      "13/13 [==============================] - 5s 379ms/step - loss: 1.0813 - sparse_categorical_accuracy: 0.6019\n"
     ]
    },
    {
     "name": "stderr",
     "output_type": "stream",
     "text": [
      "\r",
      "61it [1:02:05, 62.81s/it]"
     ]
    },
    {
     "name": "stdout",
     "output_type": "stream",
     "text": [
      "Epoch 1/10\n",
      "13/13 [==============================] - 5s 380ms/step - loss: 1.7292 - sparse_categorical_accuracy: 0.4660\n",
      "Epoch 2/10\n",
      "13/13 [==============================] - 5s 378ms/step - loss: 1.6718 - sparse_categorical_accuracy: 0.4757\n",
      "Epoch 3/10\n",
      "13/13 [==============================] - 5s 376ms/step - loss: 1.3727 - sparse_categorical_accuracy: 0.4951\n",
      "Epoch 4/10\n",
      "13/13 [==============================] - 5s 379ms/step - loss: 1.2990 - sparse_categorical_accuracy: 0.5437\n",
      "Epoch 5/10\n",
      "13/13 [==============================] - 5s 380ms/step - loss: 1.1808 - sparse_categorical_accuracy: 0.4951\n",
      "Epoch 6/10\n",
      "13/13 [==============================] - 5s 379ms/step - loss: 1.0410 - sparse_categorical_accuracy: 0.6505\n",
      "Epoch 7/10\n",
      "13/13 [==============================] - 5s 379ms/step - loss: 1.0781 - sparse_categorical_accuracy: 0.6019\n",
      "Epoch 8/10\n",
      "13/13 [==============================] - 5s 379ms/step - loss: 1.1072 - sparse_categorical_accuracy: 0.5049\n",
      "Epoch 9/10\n",
      "13/13 [==============================] - 5s 383ms/step - loss: 1.1879 - sparse_categorical_accuracy: 0.5631\n",
      "Epoch 10/10\n",
      "13/13 [==============================] - 5s 379ms/step - loss: 1.0479 - sparse_categorical_accuracy: 0.5825\n"
     ]
    },
    {
     "name": "stderr",
     "output_type": "stream",
     "text": [
      "\r",
      "62it [1:03:06, 62.30s/it]"
     ]
    },
    {
     "name": "stdout",
     "output_type": "stream",
     "text": [
      "Epoch 1/10\n",
      "13/13 [==============================] - 5s 373ms/step - loss: 1.7832 - sparse_categorical_accuracy: 0.4563\n",
      "Epoch 2/10\n",
      "13/13 [==============================] - 5s 369ms/step - loss: 1.6217 - sparse_categorical_accuracy: 0.5146\n",
      "Epoch 3/10\n",
      "13/13 [==============================] - 5s 372ms/step - loss: 1.3837 - sparse_categorical_accuracy: 0.4757\n",
      "Epoch 4/10\n",
      "13/13 [==============================] - 5s 370ms/step - loss: 1.3814 - sparse_categorical_accuracy: 0.4951\n",
      "Epoch 5/10\n",
      "13/13 [==============================] - 5s 372ms/step - loss: 1.3323 - sparse_categorical_accuracy: 0.4951\n",
      "Epoch 6/10\n",
      "13/13 [==============================] - 5s 371ms/step - loss: 1.1858 - sparse_categorical_accuracy: 0.5437\n",
      "Epoch 7/10\n",
      "13/13 [==============================] - 5s 376ms/step - loss: 1.3140 - sparse_categorical_accuracy: 0.4951\n",
      "Epoch 8/10\n",
      "13/13 [==============================] - 5s 371ms/step - loss: 1.1177 - sparse_categorical_accuracy: 0.5534\n",
      "Epoch 9/10\n",
      "13/13 [==============================] - 5s 378ms/step - loss: 1.3208 - sparse_categorical_accuracy: 0.4466\n",
      "Epoch 10/10\n",
      "13/13 [==============================] - 5s 370ms/step - loss: 1.3029 - sparse_categorical_accuracy: 0.5146\n"
     ]
    },
    {
     "name": "stderr",
     "output_type": "stream",
     "text": [
      "\r",
      "63it [1:04:06, 61.62s/it]"
     ]
    },
    {
     "name": "stdout",
     "output_type": "stream",
     "text": [
      "Epoch 1/10\n",
      "13/13 [==============================] - 5s 369ms/step - loss: 1.5494 - sparse_categorical_accuracy: 0.5146\n",
      "Epoch 2/10\n",
      "13/13 [==============================] - 5s 366ms/step - loss: 1.5658 - sparse_categorical_accuracy: 0.5825\n",
      "Epoch 3/10\n",
      "13/13 [==============================] - 5s 366ms/step - loss: 1.3946 - sparse_categorical_accuracy: 0.4466\n",
      "Epoch 4/10\n",
      "13/13 [==============================] - 5s 370ms/step - loss: 1.2703 - sparse_categorical_accuracy: 0.5146\n",
      "Epoch 5/10\n",
      "13/13 [==============================] - 5s 365ms/step - loss: 1.3068 - sparse_categorical_accuracy: 0.5146\n",
      "Epoch 6/10\n",
      "13/13 [==============================] - 5s 364ms/step - loss: 1.2733 - sparse_categorical_accuracy: 0.5243\n",
      "Epoch 7/10\n",
      "13/13 [==============================] - 5s 365ms/step - loss: 1.1923 - sparse_categorical_accuracy: 0.5340\n",
      "Epoch 8/10\n",
      "13/13 [==============================] - 5s 365ms/step - loss: 1.2056 - sparse_categorical_accuracy: 0.5534\n",
      "Epoch 9/10\n",
      "13/13 [==============================] - 5s 366ms/step - loss: 1.3177 - sparse_categorical_accuracy: 0.4466\n",
      "Epoch 10/10\n",
      "13/13 [==============================] - 5s 370ms/step - loss: 1.1144 - sparse_categorical_accuracy: 0.5825\n"
     ]
    },
    {
     "name": "stderr",
     "output_type": "stream",
     "text": [
      "\r",
      "64it [1:05:05, 60.86s/it]"
     ]
    },
    {
     "name": "stdout",
     "output_type": "stream",
     "text": [
      "Epoch 1/10\n",
      "13/13 [==============================] - 5s 366ms/step - loss: 1.6835 - sparse_categorical_accuracy: 0.5146\n",
      "Epoch 2/10\n",
      "13/13 [==============================] - 5s 364ms/step - loss: 1.5659 - sparse_categorical_accuracy: 0.5631\n",
      "Epoch 3/10\n",
      "13/13 [==============================] - 5s 366ms/step - loss: 1.4438 - sparse_categorical_accuracy: 0.5146\n",
      "Epoch 4/10\n",
      "13/13 [==============================] - 5s 368ms/step - loss: 1.4247 - sparse_categorical_accuracy: 0.4757\n",
      "Epoch 5/10\n",
      "13/13 [==============================] - 5s 365ms/step - loss: 1.2200 - sparse_categorical_accuracy: 0.5534\n",
      "Epoch 6/10\n",
      "13/13 [==============================] - 5s 365ms/step - loss: 1.3733 - sparse_categorical_accuracy: 0.4951\n",
      "Epoch 7/10\n",
      "13/13 [==============================] - 5s 370ms/step - loss: 1.2891 - sparse_categorical_accuracy: 0.5437\n",
      "Epoch 8/10\n",
      "13/13 [==============================] - 5s 367ms/step - loss: 1.3230 - sparse_categorical_accuracy: 0.4757\n",
      "Epoch 9/10\n",
      "13/13 [==============================] - 5s 365ms/step - loss: 1.4199 - sparse_categorical_accuracy: 0.4757\n",
      "Epoch 10/10\n",
      "13/13 [==============================] - 5s 370ms/step - loss: 1.3441 - sparse_categorical_accuracy: 0.4563\n"
     ]
    },
    {
     "name": "stderr",
     "output_type": "stream",
     "text": [
      "\r",
      "65it [1:06:04, 60.34s/it]"
     ]
    },
    {
     "name": "stdout",
     "output_type": "stream",
     "text": [
      "Epoch 1/10\n",
      "13/13 [==============================] - 5s 371ms/step - loss: 1.6169 - sparse_categorical_accuracy: 0.4660\n",
      "Epoch 2/10\n",
      "13/13 [==============================] - 5s 367ms/step - loss: 1.7052 - sparse_categorical_accuracy: 0.5437\n",
      "Epoch 3/10\n",
      "13/13 [==============================] - 5s 364ms/step - loss: 1.4108 - sparse_categorical_accuracy: 0.5534\n",
      "Epoch 4/10\n",
      "13/13 [==============================] - 5s 372ms/step - loss: 1.3309 - sparse_categorical_accuracy: 0.5437\n",
      "Epoch 5/10\n",
      "13/13 [==============================] - 5s 368ms/step - loss: 1.1712 - sparse_categorical_accuracy: 0.6019\n",
      "Epoch 6/10\n",
      "13/13 [==============================] - 5s 366ms/step - loss: 1.2885 - sparse_categorical_accuracy: 0.4660\n",
      "Epoch 7/10\n",
      "13/13 [==============================] - 5s 365ms/step - loss: 1.2806 - sparse_categorical_accuracy: 0.4466\n",
      "Epoch 8/10\n",
      "13/13 [==============================] - 5s 366ms/step - loss: 1.2302 - sparse_categorical_accuracy: 0.4951\n",
      "Epoch 9/10\n",
      "13/13 [==============================] - 5s 364ms/step - loss: 1.1807 - sparse_categorical_accuracy: 0.5437\n",
      "Epoch 10/10\n",
      "13/13 [==============================] - 5s 370ms/step - loss: 1.1997 - sparse_categorical_accuracy: 0.5340\n"
     ]
    },
    {
     "name": "stderr",
     "output_type": "stream",
     "text": [
      "\r",
      "66it [1:07:03, 60.02s/it]"
     ]
    },
    {
     "name": "stdout",
     "output_type": "stream",
     "text": [
      "Epoch 1/10\n",
      "13/13 [==============================] - 5s 369ms/step - loss: 1.5500 - sparse_categorical_accuracy: 0.5340\n",
      "Epoch 2/10\n",
      "13/13 [==============================] - 5s 367ms/step - loss: 1.7883 - sparse_categorical_accuracy: 0.4951\n",
      "Epoch 3/10\n",
      "13/13 [==============================] - 5s 367ms/step - loss: 1.3928 - sparse_categorical_accuracy: 0.5340\n",
      "Epoch 4/10\n",
      "13/13 [==============================] - 5s 366ms/step - loss: 1.3253 - sparse_categorical_accuracy: 0.4660\n",
      "Epoch 5/10\n",
      "13/13 [==============================] - 5s 375ms/step - loss: 1.1664 - sparse_categorical_accuracy: 0.5437\n",
      "Epoch 6/10\n",
      "13/13 [==============================] - 5s 370ms/step - loss: 1.1415 - sparse_categorical_accuracy: 0.5437\n",
      "Epoch 7/10\n",
      "13/13 [==============================] - 5s 371ms/step - loss: 1.2172 - sparse_categorical_accuracy: 0.5049\n",
      "Epoch 8/10\n",
      "13/13 [==============================] - 5s 373ms/step - loss: 1.1729 - sparse_categorical_accuracy: 0.5340\n",
      "Epoch 9/10\n",
      "13/13 [==============================] - 5s 366ms/step - loss: 1.0666 - sparse_categorical_accuracy: 0.6019\n",
      "Epoch 10/10\n",
      "13/13 [==============================] - 5s 371ms/step - loss: 1.1668 - sparse_categorical_accuracy: 0.5340\n"
     ]
    },
    {
     "name": "stderr",
     "output_type": "stream",
     "text": [
      "\r",
      "67it [1:08:03, 59.88s/it]"
     ]
    },
    {
     "name": "stdout",
     "output_type": "stream",
     "text": [
      "Epoch 1/10\n",
      "13/13 [==============================] - 5s 365ms/step - loss: 1.6887 - sparse_categorical_accuracy: 0.5243\n",
      "Epoch 2/10\n",
      "13/13 [==============================] - 5s 361ms/step - loss: 1.8024 - sparse_categorical_accuracy: 0.4951\n",
      "Epoch 3/10\n",
      "13/13 [==============================] - 5s 362ms/step - loss: 1.4208 - sparse_categorical_accuracy: 0.5825\n",
      "Epoch 4/10\n",
      "13/13 [==============================] - 5s 365ms/step - loss: 1.2409 - sparse_categorical_accuracy: 0.5922\n",
      "Epoch 5/10\n",
      "13/13 [==============================] - 5s 369ms/step - loss: 1.3422 - sparse_categorical_accuracy: 0.5243\n",
      "Epoch 6/10\n",
      "13/13 [==============================] - 5s 365ms/step - loss: 1.2955 - sparse_categorical_accuracy: 0.4660\n",
      "Epoch 7/10\n",
      "13/13 [==============================] - 5s 364ms/step - loss: 1.3027 - sparse_categorical_accuracy: 0.4951\n",
      "Epoch 8/10\n",
      "13/13 [==============================] - 5s 364ms/step - loss: 1.2317 - sparse_categorical_accuracy: 0.5728\n",
      "Epoch 9/10\n",
      "13/13 [==============================] - 5s 364ms/step - loss: 1.1969 - sparse_categorical_accuracy: 0.5631\n",
      "Epoch 10/10\n",
      "13/13 [==============================] - 5s 364ms/step - loss: 1.2622 - sparse_categorical_accuracy: 0.4466\n"
     ]
    },
    {
     "name": "stderr",
     "output_type": "stream",
     "text": [
      "\r",
      "68it [1:09:02, 59.59s/it]"
     ]
    },
    {
     "name": "stdout",
     "output_type": "stream",
     "text": [
      "Epoch 1/10\n",
      "13/13 [==============================] - 5s 362ms/step - loss: 1.6461 - sparse_categorical_accuracy: 0.5728\n",
      "Epoch 2/10\n",
      "13/13 [==============================] - 5s 362ms/step - loss: 1.5371 - sparse_categorical_accuracy: 0.5825\n",
      "Epoch 3/10\n",
      "13/13 [==============================] - 5s 361ms/step - loss: 1.4036 - sparse_categorical_accuracy: 0.5825\n",
      "Epoch 4/10\n",
      "13/13 [==============================] - 5s 361ms/step - loss: 1.3352 - sparse_categorical_accuracy: 0.5631\n",
      "Epoch 5/10\n",
      "13/13 [==============================] - 5s 369ms/step - loss: 1.3209 - sparse_categorical_accuracy: 0.5049\n",
      "Epoch 6/10\n",
      "13/13 [==============================] - 5s 365ms/step - loss: 1.1638 - sparse_categorical_accuracy: 0.6214\n",
      "Epoch 7/10\n",
      "13/13 [==============================] - 5s 363ms/step - loss: 1.1550 - sparse_categorical_accuracy: 0.5340\n",
      "Epoch 8/10\n",
      "13/13 [==============================] - 5s 368ms/step - loss: 1.2347 - sparse_categorical_accuracy: 0.5146\n",
      "Epoch 9/10\n",
      "13/13 [==============================] - 5s 362ms/step - loss: 1.2255 - sparse_categorical_accuracy: 0.4854\n",
      "Epoch 10/10\n",
      "13/13 [==============================] - 5s 362ms/step - loss: 1.1332 - sparse_categorical_accuracy: 0.5728\n"
     ]
    },
    {
     "name": "stderr",
     "output_type": "stream",
     "text": [
      "\r",
      "69it [1:10:00, 59.31s/it]"
     ]
    },
    {
     "name": "stdout",
     "output_type": "stream",
     "text": [
      "Epoch 1/10\n",
      "13/13 [==============================] - 5s 370ms/step - loss: 1.7799 - sparse_categorical_accuracy: 0.5049\n",
      "Epoch 2/10\n",
      "13/13 [==============================] - 5s 367ms/step - loss: 1.7112 - sparse_categorical_accuracy: 0.5437\n",
      "Epoch 3/10\n",
      "13/13 [==============================] - 5s 368ms/step - loss: 1.4308 - sparse_categorical_accuracy: 0.5146\n",
      "Epoch 4/10\n",
      "13/13 [==============================] - 5s 366ms/step - loss: 1.4814 - sparse_categorical_accuracy: 0.4660\n",
      "Epoch 5/10\n",
      "13/13 [==============================] - 5s 366ms/step - loss: 1.3492 - sparse_categorical_accuracy: 0.4951\n",
      "Epoch 6/10\n",
      "13/13 [==============================] - 5s 370ms/step - loss: 1.2587 - sparse_categorical_accuracy: 0.4854\n",
      "Epoch 7/10\n",
      "13/13 [==============================] - 5s 366ms/step - loss: 1.2510 - sparse_categorical_accuracy: 0.4951\n",
      "Epoch 8/10\n",
      "13/13 [==============================] - 5s 365ms/step - loss: 1.1608 - sparse_categorical_accuracy: 0.4757\n",
      "Epoch 9/10\n",
      "13/13 [==============================] - 5s 366ms/step - loss: 1.0984 - sparse_categorical_accuracy: 0.5728\n",
      "Epoch 10/10\n",
      "13/13 [==============================] - 5s 366ms/step - loss: 1.0543 - sparse_categorical_accuracy: 0.5728\n"
     ]
    },
    {
     "name": "stderr",
     "output_type": "stream",
     "text": [
      "\r",
      "70it [1:10:59, 59.27s/it]"
     ]
    },
    {
     "name": "stdout",
     "output_type": "stream",
     "text": [
      "Epoch 1/10\n",
      "13/13 [==============================] - 5s 367ms/step - loss: 1.5568 - sparse_categorical_accuracy: 0.5437\n",
      "Epoch 2/10\n",
      "13/13 [==============================] - 5s 365ms/step - loss: 1.5137 - sparse_categorical_accuracy: 0.5340\n",
      "Epoch 3/10\n",
      "13/13 [==============================] - 5s 365ms/step - loss: 1.4026 - sparse_categorical_accuracy: 0.5437\n",
      "Epoch 4/10\n",
      "13/13 [==============================] - 5s 365ms/step - loss: 1.3001 - sparse_categorical_accuracy: 0.5243\n",
      "Epoch 5/10\n",
      "13/13 [==============================] - 5s 366ms/step - loss: 1.2223 - sparse_categorical_accuracy: 0.5049\n",
      "Epoch 6/10\n",
      "13/13 [==============================] - 5s 371ms/step - loss: 1.1627 - sparse_categorical_accuracy: 0.5437\n",
      "Epoch 7/10\n",
      "13/13 [==============================] - 5s 364ms/step - loss: 1.3452 - sparse_categorical_accuracy: 0.5243\n",
      "Epoch 8/10\n",
      "13/13 [==============================] - 5s 370ms/step - loss: 1.2290 - sparse_categorical_accuracy: 0.5146\n",
      "Epoch 9/10\n",
      "13/13 [==============================] - 5s 366ms/step - loss: 1.0713 - sparse_categorical_accuracy: 0.5631\n",
      "Epoch 10/10\n",
      "13/13 [==============================] - 5s 363ms/step - loss: 1.1906 - sparse_categorical_accuracy: 0.5049\n"
     ]
    },
    {
     "name": "stderr",
     "output_type": "stream",
     "text": [
      "\r",
      "71it [1:11:59, 59.25s/it]"
     ]
    },
    {
     "name": "stdout",
     "output_type": "stream",
     "text": [
      "Epoch 1/10\n",
      "13/13 [==============================] - 5s 374ms/step - loss: 1.5874 - sparse_categorical_accuracy: 0.5049\n",
      "Epoch 2/10\n",
      "13/13 [==============================] - 5s 370ms/step - loss: 1.5211 - sparse_categorical_accuracy: 0.5631\n",
      "Epoch 3/10\n",
      "13/13 [==============================] - 5s 370ms/step - loss: 1.3716 - sparse_categorical_accuracy: 0.5243\n",
      "Epoch 4/10\n",
      "13/13 [==============================] - 5s 371ms/step - loss: 1.2629 - sparse_categorical_accuracy: 0.4369\n",
      "Epoch 5/10\n",
      "13/13 [==============================] - 5s 369ms/step - loss: 1.2615 - sparse_categorical_accuracy: 0.5534\n",
      "Epoch 6/10\n",
      "13/13 [==============================] - 5s 378ms/step - loss: 1.1928 - sparse_categorical_accuracy: 0.5340\n",
      "Epoch 7/10\n",
      "13/13 [==============================] - 5s 370ms/step - loss: 1.0159 - sparse_categorical_accuracy: 0.5728\n",
      "Epoch 8/10\n",
      "13/13 [==============================] - 5s 371ms/step - loss: 1.1767 - sparse_categorical_accuracy: 0.5437\n",
      "Epoch 9/10\n",
      "13/13 [==============================] - 5s 370ms/step - loss: 1.1053 - sparse_categorical_accuracy: 0.5922\n",
      "Epoch 10/10\n",
      "13/13 [==============================] - 5s 371ms/step - loss: 1.0280 - sparse_categorical_accuracy: 0.5728\n"
     ]
    },
    {
     "name": "stderr",
     "output_type": "stream",
     "text": [
      "\r",
      "72it [1:12:59, 59.49s/it]"
     ]
    },
    {
     "name": "stdout",
     "output_type": "stream",
     "text": [
      "Epoch 1/10\n",
      "13/13 [==============================] - 5s 374ms/step - loss: 1.5467 - sparse_categorical_accuracy: 0.4854\n",
      "Epoch 2/10\n",
      "13/13 [==============================] - 5s 372ms/step - loss: 1.5413 - sparse_categorical_accuracy: 0.5631\n",
      "Epoch 3/10\n",
      "13/13 [==============================] - 5s 375ms/step - loss: 1.3735 - sparse_categorical_accuracy: 0.5243\n",
      "Epoch 4/10\n",
      "13/13 [==============================] - 5s 375ms/step - loss: 1.1644 - sparse_categorical_accuracy: 0.5631\n",
      "Epoch 5/10\n",
      "13/13 [==============================] - 5s 371ms/step - loss: 1.2446 - sparse_categorical_accuracy: 0.4951\n",
      "Epoch 6/10\n",
      "13/13 [==============================] - 5s 380ms/step - loss: 1.2285 - sparse_categorical_accuracy: 0.5631\n",
      "Epoch 7/10\n",
      "13/13 [==============================] - 5s 372ms/step - loss: 1.1743 - sparse_categorical_accuracy: 0.4854\n",
      "Epoch 8/10\n",
      "13/13 [==============================] - 5s 378ms/step - loss: 1.1484 - sparse_categorical_accuracy: 0.5146\n",
      "Epoch 9/10\n",
      "13/13 [==============================] - 5s 372ms/step - loss: 1.1749 - sparse_categorical_accuracy: 0.5728\n",
      "Epoch 10/10\n",
      "13/13 [==============================] - 5s 373ms/step - loss: 1.1031 - sparse_categorical_accuracy: 0.5243\n"
     ]
    },
    {
     "name": "stderr",
     "output_type": "stream",
     "text": [
      "\r",
      "73it [1:13:59, 59.71s/it]"
     ]
    },
    {
     "name": "stdout",
     "output_type": "stream",
     "text": [
      "Epoch 1/10\n",
      "13/13 [==============================] - 6s 431ms/step - loss: 1.6264 - sparse_categorical_accuracy: 0.4757\n",
      "Epoch 2/10\n",
      "13/13 [==============================] - 6s 426ms/step - loss: 1.6356 - sparse_categorical_accuracy: 0.5825\n",
      "Epoch 3/10\n",
      "13/13 [==============================] - 6s 425ms/step - loss: 1.4846 - sparse_categorical_accuracy: 0.5631\n",
      "Epoch 4/10\n",
      "13/13 [==============================] - 6s 426ms/step - loss: 1.2717 - sparse_categorical_accuracy: 0.5049\n",
      "Epoch 5/10\n",
      "13/13 [==============================] - 6s 431ms/step - loss: 1.4208 - sparse_categorical_accuracy: 0.4369\n",
      "Epoch 6/10\n",
      "13/13 [==============================] - 6s 426ms/step - loss: 1.2360 - sparse_categorical_accuracy: 0.5243\n",
      "Epoch 7/10\n",
      "13/13 [==============================] - 6s 424ms/step - loss: 1.3028 - sparse_categorical_accuracy: 0.5243\n",
      "Epoch 8/10\n",
      "13/13 [==============================] - 6s 425ms/step - loss: 1.2498 - sparse_categorical_accuracy: 0.5049\n",
      "Epoch 9/10\n",
      "13/13 [==============================] - 6s 424ms/step - loss: 1.2603 - sparse_categorical_accuracy: 0.4951\n",
      "Epoch 10/10\n",
      "13/13 [==============================] - 6s 426ms/step - loss: 1.2575 - sparse_categorical_accuracy: 0.5243\n"
     ]
    },
    {
     "name": "stderr",
     "output_type": "stream",
     "text": [
      "\r",
      "74it [1:15:38, 71.52s/it]"
     ]
    },
    {
     "name": "stdout",
     "output_type": "stream",
     "text": [
      "Epoch 1/10\n",
      "13/13 [==============================] - 6s 426ms/step - loss: 1.8081 - sparse_categorical_accuracy: 0.4466\n",
      "Epoch 2/10\n",
      "13/13 [==============================] - 5s 420ms/step - loss: 1.4939 - sparse_categorical_accuracy: 0.5825\n",
      "Epoch 3/10\n",
      "13/13 [==============================] - 5s 422ms/step - loss: 1.4554 - sparse_categorical_accuracy: 0.4951\n",
      "Epoch 4/10\n",
      "13/13 [==============================] - 6s 430ms/step - loss: 1.3178 - sparse_categorical_accuracy: 0.5243\n",
      "Epoch 5/10\n",
      "13/13 [==============================] - 6s 424ms/step - loss: 1.3120 - sparse_categorical_accuracy: 0.5437\n",
      "Epoch 6/10\n",
      "13/13 [==============================] - 5s 421ms/step - loss: 1.2328 - sparse_categorical_accuracy: 0.5243\n",
      "Epoch 7/10\n",
      "13/13 [==============================] - 5s 420ms/step - loss: 1.2360 - sparse_categorical_accuracy: 0.4563\n",
      "Epoch 8/10\n",
      "13/13 [==============================] - 5s 423ms/step - loss: 1.1690 - sparse_categorical_accuracy: 0.6311\n",
      "Epoch 9/10\n",
      "13/13 [==============================] - 6s 428ms/step - loss: 1.1041 - sparse_categorical_accuracy: 0.5534\n",
      "Epoch 10/10\n",
      "13/13 [==============================] - 5s 422ms/step - loss: 1.0968 - sparse_categorical_accuracy: 0.6019\n"
     ]
    },
    {
     "name": "stderr",
     "output_type": "stream",
     "text": [
      "\r",
      "75it [1:16:45, 70.22s/it]"
     ]
    },
    {
     "name": "stdout",
     "output_type": "stream",
     "text": [
      "Epoch 1/10\n",
      "13/13 [==============================] - 5s 420ms/step - loss: 1.7771 - sparse_categorical_accuracy: 0.4951\n",
      "Epoch 2/10\n",
      "13/13 [==============================] - 5s 414ms/step - loss: 1.7444 - sparse_categorical_accuracy: 0.6117\n",
      "Epoch 3/10\n",
      "13/13 [==============================] - 5s 418ms/step - loss: 1.5298 - sparse_categorical_accuracy: 0.5243\n",
      "Epoch 4/10\n",
      "13/13 [==============================] - 5s 415ms/step - loss: 1.6047 - sparse_categorical_accuracy: 0.4078\n",
      "Epoch 5/10\n",
      "13/13 [==============================] - 5s 415ms/step - loss: 1.2953 - sparse_categorical_accuracy: 0.5534\n",
      "Epoch 6/10\n",
      "13/13 [==============================] - 5s 415ms/step - loss: 1.3242 - sparse_categorical_accuracy: 0.4660\n",
      "Epoch 7/10\n",
      "13/13 [==============================] - 5s 416ms/step - loss: 1.2528 - sparse_categorical_accuracy: 0.5340\n",
      "Epoch 8/10\n",
      "13/13 [==============================] - 5s 423ms/step - loss: 1.3506 - sparse_categorical_accuracy: 0.5631\n",
      "Epoch 9/10\n",
      "13/13 [==============================] - 5s 416ms/step - loss: 1.2630 - sparse_categorical_accuracy: 0.5146\n",
      "Epoch 10/10\n",
      "13/13 [==============================] - 5s 420ms/step - loss: 1.1418 - sparse_categorical_accuracy: 0.5437\n"
     ]
    },
    {
     "name": "stderr",
     "output_type": "stream",
     "text": [
      "\r",
      "76it [1:17:51, 69.04s/it]"
     ]
    },
    {
     "name": "stdout",
     "output_type": "stream",
     "text": [
      "Epoch 1/10\n",
      "13/13 [==============================] - 5s 414ms/step - loss: 1.5703 - sparse_categorical_accuracy: 0.5243\n",
      "Epoch 2/10\n",
      "13/13 [==============================] - 5s 415ms/step - loss: 1.7370 - sparse_categorical_accuracy: 0.4951\n",
      "Epoch 3/10\n",
      "13/13 [==============================] - 5s 410ms/step - loss: 1.5586 - sparse_categorical_accuracy: 0.4272\n",
      "Epoch 4/10\n",
      "13/13 [==============================] - 5s 410ms/step - loss: 1.2921 - sparse_categorical_accuracy: 0.5631\n",
      "Epoch 5/10\n",
      "13/13 [==============================] - 5s 411ms/step - loss: 1.3582 - sparse_categorical_accuracy: 0.4466\n",
      "Epoch 6/10\n",
      "13/13 [==============================] - 5s 412ms/step - loss: 1.3044 - sparse_categorical_accuracy: 0.5437\n",
      "Epoch 7/10\n",
      "13/13 [==============================] - 5s 416ms/step - loss: 1.1811 - sparse_categorical_accuracy: 0.5437\n",
      "Epoch 8/10\n",
      "13/13 [==============================] - 5s 412ms/step - loss: 1.3245 - sparse_categorical_accuracy: 0.4369\n",
      "Epoch 9/10\n",
      "13/13 [==============================] - 5s 412ms/step - loss: 1.2097 - sparse_categorical_accuracy: 0.4757\n",
      "Epoch 10/10\n",
      "13/13 [==============================] - 5s 414ms/step - loss: 1.3025 - sparse_categorical_accuracy: 0.5534\n"
     ]
    },
    {
     "name": "stderr",
     "output_type": "stream",
     "text": [
      "\r",
      "77it [1:18:57, 68.07s/it]"
     ]
    },
    {
     "name": "stdout",
     "output_type": "stream",
     "text": [
      "Epoch 1/10\n",
      "13/13 [==============================] - 5s 416ms/step - loss: 1.7200 - sparse_categorical_accuracy: 0.4757\n",
      "Epoch 2/10\n",
      "13/13 [==============================] - 5s 408ms/step - loss: 1.6571 - sparse_categorical_accuracy: 0.5437\n",
      "Epoch 3/10\n",
      "13/13 [==============================] - 5s 406ms/step - loss: 1.3095 - sparse_categorical_accuracy: 0.5243\n",
      "Epoch 4/10\n",
      "13/13 [==============================] - 5s 408ms/step - loss: 1.2375 - sparse_categorical_accuracy: 0.5534\n",
      "Epoch 5/10\n",
      "13/13 [==============================] - 5s 408ms/step - loss: 1.2039 - sparse_categorical_accuracy: 0.5437\n",
      "Epoch 6/10\n",
      "13/13 [==============================] - 5s 413ms/step - loss: 1.1950 - sparse_categorical_accuracy: 0.5825\n",
      "Epoch 7/10\n",
      "13/13 [==============================] - 5s 415ms/step - loss: 1.2731 - sparse_categorical_accuracy: 0.5049\n",
      "Epoch 8/10\n",
      "13/13 [==============================] - 5s 412ms/step - loss: 1.1470 - sparse_categorical_accuracy: 0.5728\n",
      "Epoch 9/10\n",
      "13/13 [==============================] - 5s 407ms/step - loss: 1.2185 - sparse_categorical_accuracy: 0.5243\n",
      "Epoch 10/10\n",
      "13/13 [==============================] - 5s 408ms/step - loss: 1.0928 - sparse_categorical_accuracy: 0.6019\n"
     ]
    },
    {
     "name": "stderr",
     "output_type": "stream",
     "text": [
      "\r",
      "78it [1:20:03, 67.31s/it]"
     ]
    },
    {
     "name": "stdout",
     "output_type": "stream",
     "text": [
      "Epoch 1/10\n",
      "13/13 [==============================] - 5s 405ms/step - loss: 1.7736 - sparse_categorical_accuracy: 0.4854\n",
      "Epoch 2/10\n",
      "13/13 [==============================] - 5s 402ms/step - loss: 1.6271 - sparse_categorical_accuracy: 0.4660\n",
      "Epoch 3/10\n",
      "13/13 [==============================] - 5s 403ms/step - loss: 1.3944 - sparse_categorical_accuracy: 0.5825\n",
      "Epoch 4/10\n",
      "13/13 [==============================] - 5s 403ms/step - loss: 1.4130 - sparse_categorical_accuracy: 0.4951\n",
      "Epoch 5/10\n",
      "13/13 [==============================] - 5s 402ms/step - loss: 1.2374 - sparse_categorical_accuracy: 0.4951\n",
      "Epoch 6/10\n",
      "13/13 [==============================] - 5s 408ms/step - loss: 1.2566 - sparse_categorical_accuracy: 0.5049\n",
      "Epoch 7/10\n",
      "13/13 [==============================] - 5s 402ms/step - loss: 1.2692 - sparse_categorical_accuracy: 0.4369\n",
      "Epoch 8/10\n",
      "13/13 [==============================] - 5s 402ms/step - loss: 1.2755 - sparse_categorical_accuracy: 0.4757\n",
      "Epoch 9/10\n",
      "13/13 [==============================] - 5s 405ms/step - loss: 1.1148 - sparse_categorical_accuracy: 0.4951\n",
      "Epoch 10/10\n",
      "13/13 [==============================] - 5s 408ms/step - loss: 1.1013 - sparse_categorical_accuracy: 0.5437\n"
     ]
    },
    {
     "name": "stderr",
     "output_type": "stream",
     "text": [
      "\r",
      "79it [1:21:07, 66.51s/it]"
     ]
    },
    {
     "name": "stdout",
     "output_type": "stream",
     "text": [
      "Epoch 1/10\n",
      "13/13 [==============================] - 5s 402ms/step - loss: 1.6387 - sparse_categorical_accuracy: 0.5437\n",
      "Epoch 2/10\n",
      "13/13 [==============================] - 5s 399ms/step - loss: 1.6775 - sparse_categorical_accuracy: 0.5146\n",
      "Epoch 3/10\n",
      "13/13 [==============================] - 5s 401ms/step - loss: 1.3566 - sparse_categorical_accuracy: 0.6117\n",
      "Epoch 4/10\n",
      "13/13 [==============================] - 5s 399ms/step - loss: 1.3735 - sparse_categorical_accuracy: 0.4660\n",
      "Epoch 5/10\n",
      "13/13 [==============================] - 5s 405ms/step - loss: 1.3218 - sparse_categorical_accuracy: 0.5631\n",
      "Epoch 6/10\n",
      "13/13 [==============================] - 5s 407ms/step - loss: 1.3715 - sparse_categorical_accuracy: 0.3981\n",
      "Epoch 7/10\n",
      "13/13 [==============================] - 5s 404ms/step - loss: 1.1744 - sparse_categorical_accuracy: 0.5340\n",
      "Epoch 8/10\n",
      "13/13 [==============================] - 5s 399ms/step - loss: 1.2359 - sparse_categorical_accuracy: 0.4854\n",
      "Epoch 9/10\n",
      "13/13 [==============================] - 5s 400ms/step - loss: 1.1889 - sparse_categorical_accuracy: 0.5631\n",
      "Epoch 10/10\n",
      "13/13 [==============================] - 5s 404ms/step - loss: 1.1750 - sparse_categorical_accuracy: 0.5340\n"
     ]
    },
    {
     "name": "stderr",
     "output_type": "stream",
     "text": [
      "\r",
      "80it [1:22:12, 65.89s/it]"
     ]
    },
    {
     "name": "stdout",
     "output_type": "stream",
     "text": [
      "Epoch 1/10\n",
      "13/13 [==============================] - 5s 406ms/step - loss: 1.6710 - sparse_categorical_accuracy: 0.5340\n",
      "Epoch 2/10\n",
      "13/13 [==============================] - 5s 398ms/step - loss: 1.7059 - sparse_categorical_accuracy: 0.5922\n",
      "Epoch 3/10\n",
      "13/13 [==============================] - 5s 401ms/step - loss: 1.4459 - sparse_categorical_accuracy: 0.5243\n",
      "Epoch 4/10\n",
      "13/13 [==============================] - 5s 399ms/step - loss: 1.3954 - sparse_categorical_accuracy: 0.4563\n",
      "Epoch 5/10\n",
      "13/13 [==============================] - 5s 402ms/step - loss: 1.3390 - sparse_categorical_accuracy: 0.5340\n",
      "Epoch 6/10\n",
      "13/13 [==============================] - 5s 397ms/step - loss: 1.2469 - sparse_categorical_accuracy: 0.5243\n",
      "Epoch 7/10\n",
      "13/13 [==============================] - 5s 397ms/step - loss: 1.2760 - sparse_categorical_accuracy: 0.4660\n",
      "Epoch 8/10\n",
      "13/13 [==============================] - 5s 398ms/step - loss: 1.1323 - sparse_categorical_accuracy: 0.5049\n",
      "Epoch 9/10\n",
      "13/13 [==============================] - 5s 401ms/step - loss: 1.1563 - sparse_categorical_accuracy: 0.5631\n",
      "Epoch 10/10\n",
      "13/13 [==============================] - 5s 398ms/step - loss: 1.1810 - sparse_categorical_accuracy: 0.5146\n"
     ]
    },
    {
     "name": "stderr",
     "output_type": "stream",
     "text": [
      "\r",
      "81it [1:23:16, 65.37s/it]"
     ]
    },
    {
     "name": "stdout",
     "output_type": "stream",
     "text": [
      "Epoch 1/10\n",
      "13/13 [==============================] - 5s 405ms/step - loss: 1.7593 - sparse_categorical_accuracy: 0.4466\n",
      "Epoch 2/10\n",
      "13/13 [==============================] - 5s 398ms/step - loss: 1.6350 - sparse_categorical_accuracy: 0.4757\n",
      "Epoch 3/10\n",
      "13/13 [==============================] - 5s 399ms/step - loss: 1.4157 - sparse_categorical_accuracy: 0.5340\n",
      "Epoch 4/10\n",
      "13/13 [==============================] - 5s 401ms/step - loss: 1.3452 - sparse_categorical_accuracy: 0.4854\n",
      "Epoch 5/10\n",
      "13/13 [==============================] - 5s 402ms/step - loss: 1.0980 - sparse_categorical_accuracy: 0.5825\n",
      "Epoch 6/10\n",
      "13/13 [==============================] - 5s 397ms/step - loss: 1.1044 - sparse_categorical_accuracy: 0.5437\n",
      "Epoch 7/10\n",
      "13/13 [==============================] - 5s 396ms/step - loss: 1.1861 - sparse_categorical_accuracy: 0.5437\n",
      "Epoch 8/10\n",
      "13/13 [==============================] - 5s 399ms/step - loss: 1.1182 - sparse_categorical_accuracy: 0.5534\n",
      "Epoch 9/10\n",
      "13/13 [==============================] - 5s 398ms/step - loss: 1.0709 - sparse_categorical_accuracy: 0.5728\n",
      "Epoch 10/10\n",
      "13/13 [==============================] - 5s 397ms/step - loss: 1.1933 - sparse_categorical_accuracy: 0.4660\n"
     ]
    },
    {
     "name": "stderr",
     "output_type": "stream",
     "text": [
      "\r",
      "82it [1:24:20, 64.99s/it]"
     ]
    },
    {
     "name": "stdout",
     "output_type": "stream",
     "text": [
      "Epoch 1/10\n",
      "13/13 [==============================] - 5s 396ms/step - loss: 1.7819 - sparse_categorical_accuracy: 0.5049\n",
      "Epoch 2/10\n",
      "13/13 [==============================] - 5s 393ms/step - loss: 1.6251 - sparse_categorical_accuracy: 0.5340\n",
      "Epoch 3/10\n",
      "13/13 [==============================] - 5s 397ms/step - loss: 1.2732 - sparse_categorical_accuracy: 0.5437\n",
      "Epoch 4/10\n",
      "13/13 [==============================] - 5s 393ms/step - loss: 1.2658 - sparse_categorical_accuracy: 0.5340\n",
      "Epoch 5/10\n",
      "13/13 [==============================] - 5s 393ms/step - loss: 1.0898 - sparse_categorical_accuracy: 0.6117\n",
      "Epoch 6/10\n",
      "13/13 [==============================] - 5s 393ms/step - loss: 1.3253 - sparse_categorical_accuracy: 0.5049\n",
      "Epoch 7/10\n",
      "13/13 [==============================] - 5s 393ms/step - loss: 1.2568 - sparse_categorical_accuracy: 0.4854\n",
      "Epoch 8/10\n",
      "13/13 [==============================] - 5s 397ms/step - loss: 1.2403 - sparse_categorical_accuracy: 0.5631\n",
      "Epoch 9/10\n",
      "13/13 [==============================] - 5s 393ms/step - loss: 1.1354 - sparse_categorical_accuracy: 0.5340\n",
      "Epoch 10/10\n",
      "13/13 [==============================] - 5s 394ms/step - loss: 1.1061 - sparse_categorical_accuracy: 0.5534\n"
     ]
    },
    {
     "name": "stderr",
     "output_type": "stream",
     "text": [
      "\r",
      "83it [1:25:23, 64.46s/it]"
     ]
    },
    {
     "name": "stdout",
     "output_type": "stream",
     "text": [
      "Epoch 1/10\n",
      "13/13 [==============================] - 5s 388ms/step - loss: 1.5667 - sparse_categorical_accuracy: 0.5728\n",
      "Epoch 2/10\n",
      "13/13 [==============================] - 5s 388ms/step - loss: 1.7396 - sparse_categorical_accuracy: 0.5437\n",
      "Epoch 3/10\n",
      "13/13 [==============================] - 5s 394ms/step - loss: 1.3764 - sparse_categorical_accuracy: 0.5922\n",
      "Epoch 4/10\n",
      "13/13 [==============================] - 5s 386ms/step - loss: 1.2338 - sparse_categorical_accuracy: 0.5922\n",
      "Epoch 5/10\n",
      "13/13 [==============================] - 5s 386ms/step - loss: 1.1735 - sparse_categorical_accuracy: 0.5631\n",
      "Epoch 6/10\n",
      "13/13 [==============================] - 5s 388ms/step - loss: 1.1785 - sparse_categorical_accuracy: 0.5049\n",
      "Epoch 7/10\n",
      "13/13 [==============================] - 5s 402ms/step - loss: 1.2432 - sparse_categorical_accuracy: 0.5534\n",
      "Epoch 8/10\n",
      "13/13 [==============================] - 5s 390ms/step - loss: 1.2278 - sparse_categorical_accuracy: 0.5534\n",
      "Epoch 9/10\n",
      "13/13 [==============================] - 5s 389ms/step - loss: 1.2069 - sparse_categorical_accuracy: 0.4951\n",
      "Epoch 10/10\n",
      "13/13 [==============================] - 5s 390ms/step - loss: 1.1754 - sparse_categorical_accuracy: 0.4854\n"
     ]
    },
    {
     "name": "stderr",
     "output_type": "stream",
     "text": [
      "\r",
      "84it [1:26:26, 63.92s/it]"
     ]
    },
    {
     "name": "stdout",
     "output_type": "stream",
     "text": [
      "Epoch 1/10\n",
      "13/13 [==============================] - 5s 387ms/step - loss: 1.7361 - sparse_categorical_accuracy: 0.4951\n",
      "Epoch 2/10\n",
      "13/13 [==============================] - 5s 379ms/step - loss: 1.7453 - sparse_categorical_accuracy: 0.4466\n",
      "Epoch 3/10\n",
      "13/13 [==============================] - 5s 383ms/step - loss: 1.5534 - sparse_categorical_accuracy: 0.5146\n",
      "Epoch 4/10\n",
      "13/13 [==============================] - 5s 376ms/step - loss: 1.3538 - sparse_categorical_accuracy: 0.4660\n",
      "Epoch 5/10\n",
      "13/13 [==============================] - 5s 378ms/step - loss: 1.3392 - sparse_categorical_accuracy: 0.4757\n",
      "Epoch 6/10\n",
      "13/13 [==============================] - 5s 376ms/step - loss: 1.1575 - sparse_categorical_accuracy: 0.5728\n",
      "Epoch 7/10\n",
      "13/13 [==============================] - 5s 383ms/step - loss: 1.1928 - sparse_categorical_accuracy: 0.5631\n",
      "Epoch 8/10\n",
      "13/13 [==============================] - 5s 376ms/step - loss: 1.3327 - sparse_categorical_accuracy: 0.5243\n",
      "Epoch 9/10\n",
      "13/13 [==============================] - 5s 376ms/step - loss: 1.3488 - sparse_categorical_accuracy: 0.5049\n",
      "Epoch 10/10\n",
      "13/13 [==============================] - 5s 376ms/step - loss: 1.2265 - sparse_categorical_accuracy: 0.4757\n"
     ]
    },
    {
     "name": "stderr",
     "output_type": "stream",
     "text": [
      "\r",
      "85it [1:27:27, 63.04s/it]"
     ]
    },
    {
     "name": "stdout",
     "output_type": "stream",
     "text": [
      "Epoch 1/10\n",
      "13/13 [==============================] - 5s 385ms/step - loss: 1.9240 - sparse_categorical_accuracy: 0.4272\n",
      "Epoch 2/10\n",
      "13/13 [==============================] - 5s 377ms/step - loss: 1.6665 - sparse_categorical_accuracy: 0.5243\n",
      "Epoch 3/10\n",
      "13/13 [==============================] - 5s 381ms/step - loss: 1.3880 - sparse_categorical_accuracy: 0.5825\n",
      "Epoch 4/10\n",
      "13/13 [==============================] - 5s 374ms/step - loss: 1.4568 - sparse_categorical_accuracy: 0.4563\n",
      "Epoch 5/10\n",
      "13/13 [==============================] - 5s 375ms/step - loss: 1.4112 - sparse_categorical_accuracy: 0.4854\n",
      "Epoch 6/10\n",
      "13/13 [==============================] - 5s 376ms/step - loss: 1.3722 - sparse_categorical_accuracy: 0.4854\n",
      "Epoch 7/10\n",
      "13/13 [==============================] - 5s 379ms/step - loss: 1.2763 - sparse_categorical_accuracy: 0.5049\n",
      "Epoch 8/10\n",
      "13/13 [==============================] - 5s 374ms/step - loss: 1.1924 - sparse_categorical_accuracy: 0.4951\n",
      "Epoch 9/10\n",
      "13/13 [==============================] - 5s 375ms/step - loss: 1.1081 - sparse_categorical_accuracy: 0.5825\n",
      "Epoch 10/10\n",
      "13/13 [==============================] - 5s 376ms/step - loss: 1.1943 - sparse_categorical_accuracy: 0.5146\n"
     ]
    },
    {
     "name": "stderr",
     "output_type": "stream",
     "text": [
      "\r",
      "86it [1:28:28, 62.35s/it]"
     ]
    },
    {
     "name": "stdout",
     "output_type": "stream",
     "text": [
      "Epoch 1/10\n",
      "13/13 [==============================] - 5s 379ms/step - loss: 1.5820 - sparse_categorical_accuracy: 0.4854\n",
      "Epoch 2/10\n",
      "13/13 [==============================] - 5s 372ms/step - loss: 1.5076 - sparse_categorical_accuracy: 0.6117\n",
      "Epoch 3/10\n",
      "13/13 [==============================] - 5s 375ms/step - loss: 1.3372 - sparse_categorical_accuracy: 0.5243\n",
      "Epoch 4/10\n",
      "13/13 [==============================] - 5s 372ms/step - loss: 1.2982 - sparse_categorical_accuracy: 0.5146\n",
      "Epoch 5/10\n",
      "13/13 [==============================] - 5s 375ms/step - loss: 1.2811 - sparse_categorical_accuracy: 0.5340\n",
      "Epoch 6/10\n",
      "13/13 [==============================] - 5s 374ms/step - loss: 1.3051 - sparse_categorical_accuracy: 0.4466\n",
      "Epoch 7/10\n",
      "13/13 [==============================] - 5s 379ms/step - loss: 1.1827 - sparse_categorical_accuracy: 0.5146\n",
      "Epoch 8/10\n",
      "13/13 [==============================] - 5s 374ms/step - loss: 1.3025 - sparse_categorical_accuracy: 0.4660\n",
      "Epoch 9/10\n",
      "13/13 [==============================] - 5s 388ms/step - loss: 1.2092 - sparse_categorical_accuracy: 0.5243\n",
      "Epoch 10/10\n",
      "13/13 [==============================] - 5s 375ms/step - loss: 1.1903 - sparse_categorical_accuracy: 0.4854\n"
     ]
    },
    {
     "name": "stderr",
     "output_type": "stream",
     "text": [
      "\r",
      "87it [1:29:28, 61.85s/it]"
     ]
    },
    {
     "name": "stdout",
     "output_type": "stream",
     "text": [
      "Epoch 1/10\n",
      "13/13 [==============================] - 5s 377ms/step - loss: 1.7516 - sparse_categorical_accuracy: 0.5146\n",
      "Epoch 2/10\n",
      "13/13 [==============================] - 5s 376ms/step - loss: 1.7410 - sparse_categorical_accuracy: 0.5049\n",
      "Epoch 3/10\n",
      "13/13 [==============================] - 5s 380ms/step - loss: 1.4103 - sparse_categorical_accuracy: 0.4854\n",
      "Epoch 4/10\n",
      "13/13 [==============================] - 5s 373ms/step - loss: 1.3221 - sparse_categorical_accuracy: 0.4951\n",
      "Epoch 5/10\n",
      "13/13 [==============================] - 5s 375ms/step - loss: 1.2620 - sparse_categorical_accuracy: 0.4951\n",
      "Epoch 6/10\n",
      "13/13 [==============================] - 5s 371ms/step - loss: 1.2948 - sparse_categorical_accuracy: 0.5922\n",
      "Epoch 7/10\n",
      "13/13 [==============================] - 5s 376ms/step - loss: 1.2471 - sparse_categorical_accuracy: 0.5243\n",
      "Epoch 8/10\n",
      "13/13 [==============================] - 5s 372ms/step - loss: 1.2157 - sparse_categorical_accuracy: 0.4757\n",
      "Epoch 9/10\n",
      "13/13 [==============================] - 5s 372ms/step - loss: 1.2826 - sparse_categorical_accuracy: 0.4854\n",
      "Epoch 10/10\n",
      "13/13 [==============================] - 5s 372ms/step - loss: 1.1435 - sparse_categorical_accuracy: 0.6019\n"
     ]
    },
    {
     "name": "stderr",
     "output_type": "stream",
     "text": [
      "\r",
      "88it [1:30:29, 61.41s/it]"
     ]
    },
    {
     "name": "stdout",
     "output_type": "stream",
     "text": [
      "Epoch 1/10\n",
      "13/13 [==============================] - 5s 372ms/step - loss: 1.7623 - sparse_categorical_accuracy: 0.5049\n",
      "Epoch 2/10\n",
      "13/13 [==============================] - 5s 370ms/step - loss: 1.7687 - sparse_categorical_accuracy: 0.4660\n",
      "Epoch 3/10\n",
      "13/13 [==============================] - 5s 376ms/step - loss: 1.3605 - sparse_categorical_accuracy: 0.5631\n",
      "Epoch 4/10\n",
      "13/13 [==============================] - 5s 370ms/step - loss: 1.3934 - sparse_categorical_accuracy: 0.4951\n",
      "Epoch 5/10\n",
      "13/13 [==============================] - 5s 371ms/step - loss: 1.2959 - sparse_categorical_accuracy: 0.4951\n",
      "Epoch 6/10\n",
      "13/13 [==============================] - 5s 369ms/step - loss: 1.2502 - sparse_categorical_accuracy: 0.5631\n",
      "Epoch 7/10\n",
      "13/13 [==============================] - 5s 374ms/step - loss: 1.0649 - sparse_categorical_accuracy: 0.6602\n",
      "Epoch 8/10\n",
      "13/13 [==============================] - 5s 369ms/step - loss: 1.1137 - sparse_categorical_accuracy: 0.5631\n",
      "Epoch 9/10\n",
      "13/13 [==============================] - 5s 371ms/step - loss: 1.2694 - sparse_categorical_accuracy: 0.4854\n",
      "Epoch 10/10\n",
      "13/13 [==============================] - 5s 375ms/step - loss: 1.1737 - sparse_categorical_accuracy: 0.4951\n"
     ]
    },
    {
     "name": "stderr",
     "output_type": "stream",
     "text": [
      "\r",
      "89it [1:31:29, 61.00s/it]"
     ]
    },
    {
     "name": "stdout",
     "output_type": "stream",
     "text": [
      "Epoch 1/10\n",
      "13/13 [==============================] - 5s 373ms/step - loss: 1.7484 - sparse_categorical_accuracy: 0.4466\n",
      "Epoch 2/10\n",
      "13/13 [==============================] - 5s 375ms/step - loss: 1.7336 - sparse_categorical_accuracy: 0.4757\n",
      "Epoch 3/10\n",
      "13/13 [==============================] - 5s 379ms/step - loss: 1.5588 - sparse_categorical_accuracy: 0.4369\n",
      "Epoch 4/10\n",
      "13/13 [==============================] - 5s 370ms/step - loss: 1.4020 - sparse_categorical_accuracy: 0.4369\n",
      "Epoch 5/10\n",
      "13/13 [==============================] - 5s 371ms/step - loss: 1.2805 - sparse_categorical_accuracy: 0.5340\n",
      "Epoch 6/10\n",
      "13/13 [==============================] - 5s 371ms/step - loss: 1.2136 - sparse_categorical_accuracy: 0.5437\n",
      "Epoch 7/10\n",
      "13/13 [==============================] - 5s 376ms/step - loss: 1.0900 - sparse_categorical_accuracy: 0.5922\n",
      "Epoch 8/10\n",
      "13/13 [==============================] - 5s 370ms/step - loss: 1.2062 - sparse_categorical_accuracy: 0.4854\n",
      "Epoch 9/10\n",
      "13/13 [==============================] - 5s 372ms/step - loss: 1.1464 - sparse_categorical_accuracy: 0.6019\n",
      "Epoch 10/10\n",
      "13/13 [==============================] - 5s 372ms/step - loss: 1.3052 - sparse_categorical_accuracy: 0.4854\n"
     ]
    },
    {
     "name": "stderr",
     "output_type": "stream",
     "text": [
      "\r",
      "90it [1:32:29, 60.77s/it]"
     ]
    },
    {
     "name": "stdout",
     "output_type": "stream",
     "text": [
      "Epoch 1/10\n",
      "13/13 [==============================] - 5s 384ms/step - loss: 1.6266 - sparse_categorical_accuracy: 0.4757\n",
      "Epoch 2/10\n",
      "13/13 [==============================] - 5s 379ms/step - loss: 1.7128 - sparse_categorical_accuracy: 0.4369\n",
      "Epoch 3/10\n",
      "13/13 [==============================] - 5s 384ms/step - loss: 1.4325 - sparse_categorical_accuracy: 0.5534\n",
      "Epoch 4/10\n",
      "13/13 [==============================] - 5s 379ms/step - loss: 1.2570 - sparse_categorical_accuracy: 0.5243\n",
      "Epoch 5/10\n",
      "13/13 [==============================] - 5s 381ms/step - loss: 1.2293 - sparse_categorical_accuracy: 0.5631\n",
      "Epoch 6/10\n",
      "13/13 [==============================] - 5s 379ms/step - loss: 1.1712 - sparse_categorical_accuracy: 0.5437\n",
      "Epoch 7/10\n",
      "13/13 [==============================] - 5s 383ms/step - loss: 1.2600 - sparse_categorical_accuracy: 0.4175\n",
      "Epoch 8/10\n",
      "13/13 [==============================] - 5s 379ms/step - loss: 1.2858 - sparse_categorical_accuracy: 0.5049\n",
      "Epoch 9/10\n",
      "13/13 [==============================] - 5s 380ms/step - loss: 1.1388 - sparse_categorical_accuracy: 0.5825\n",
      "Epoch 10/10\n",
      "13/13 [==============================] - 5s 378ms/step - loss: 1.2512 - sparse_categorical_accuracy: 0.4660\n"
     ]
    },
    {
     "name": "stderr",
     "output_type": "stream",
     "text": [
      "\r",
      "91it [1:33:31, 60.96s/it]"
     ]
    },
    {
     "name": "stdout",
     "output_type": "stream",
     "text": [
      "Epoch 1/10\n",
      "13/13 [==============================] - 5s 379ms/step - loss: 1.5977 - sparse_categorical_accuracy: 0.5049\n",
      "Epoch 2/10\n",
      "13/13 [==============================] - 5s 379ms/step - loss: 1.7082 - sparse_categorical_accuracy: 0.5049\n",
      "Epoch 3/10\n",
      "13/13 [==============================] - 5s 379ms/step - loss: 1.4906 - sparse_categorical_accuracy: 0.4951\n",
      "Epoch 4/10\n",
      "13/13 [==============================] - 5s 379ms/step - loss: 1.2753 - sparse_categorical_accuracy: 0.5631\n",
      "Epoch 5/10\n",
      "13/13 [==============================] - 5s 376ms/step - loss: 1.2650 - sparse_categorical_accuracy: 0.5243\n",
      "Epoch 6/10\n",
      "13/13 [==============================] - 5s 379ms/step - loss: 1.1167 - sparse_categorical_accuracy: 0.5437\n",
      "Epoch 7/10\n",
      "13/13 [==============================] - 5s 383ms/step - loss: 1.1258 - sparse_categorical_accuracy: 0.5534\n",
      "Epoch 8/10\n",
      "13/13 [==============================] - 5s 380ms/step - loss: 1.1812 - sparse_categorical_accuracy: 0.5340\n",
      "Epoch 9/10\n",
      "13/13 [==============================] - 5s 376ms/step - loss: 1.1850 - sparse_categorical_accuracy: 0.5243\n",
      "Epoch 10/10\n",
      "13/13 [==============================] - 5s 378ms/step - loss: 1.0933 - sparse_categorical_accuracy: 0.6214\n"
     ]
    },
    {
     "name": "stderr",
     "output_type": "stream",
     "text": [
      "\r",
      "92it [1:34:32, 61.08s/it]"
     ]
    },
    {
     "name": "stdout",
     "output_type": "stream",
     "text": [
      "Epoch 1/10\n",
      "13/13 [==============================] - 5s 376ms/step - loss: 1.7421 - sparse_categorical_accuracy: 0.4660\n",
      "Epoch 2/10\n",
      "13/13 [==============================] - 5s 382ms/step - loss: 1.6486 - sparse_categorical_accuracy: 0.5049\n",
      "Epoch 3/10\n",
      "13/13 [==============================] - 5s 376ms/step - loss: 1.2848 - sparse_categorical_accuracy: 0.6019\n",
      "Epoch 4/10\n",
      "13/13 [==============================] - 5s 376ms/step - loss: 1.1304 - sparse_categorical_accuracy: 0.5534\n",
      "Epoch 5/10\n",
      "13/13 [==============================] - 5s 378ms/step - loss: 1.1160 - sparse_categorical_accuracy: 0.5340\n",
      "Epoch 6/10\n",
      "13/13 [==============================] - 5s 376ms/step - loss: 1.1044 - sparse_categorical_accuracy: 0.5146\n",
      "Epoch 7/10\n",
      "13/13 [==============================] - 5s 383ms/step - loss: 1.1289 - sparse_categorical_accuracy: 0.5825\n",
      "Epoch 8/10\n",
      "13/13 [==============================] - 5s 380ms/step - loss: 1.2048 - sparse_categorical_accuracy: 0.5049\n",
      "Epoch 9/10\n",
      "13/13 [==============================] - 5s 376ms/step - loss: 1.1277 - sparse_categorical_accuracy: 0.6408\n",
      "Epoch 10/10\n",
      "13/13 [==============================] - 5s 376ms/step - loss: 1.2016 - sparse_categorical_accuracy: 0.5631\n"
     ]
    },
    {
     "name": "stderr",
     "output_type": "stream",
     "text": [
      "\r",
      "93it [1:35:34, 61.37s/it]"
     ]
    },
    {
     "name": "stdout",
     "output_type": "stream",
     "text": [
      "Epoch 1/10\n",
      "13/13 [==============================] - 5s 382ms/step - loss: 1.5292 - sparse_categorical_accuracy: 0.5534\n",
      "Epoch 2/10\n",
      "13/13 [==============================] - 5s 390ms/step - loss: 1.5104 - sparse_categorical_accuracy: 0.4563\n",
      "Epoch 3/10\n",
      "13/13 [==============================] - 5s 381ms/step - loss: 1.3157 - sparse_categorical_accuracy: 0.4951\n",
      "Epoch 4/10\n",
      "13/13 [==============================] - 5s 382ms/step - loss: 1.3392 - sparse_categorical_accuracy: 0.4854\n",
      "Epoch 5/10\n",
      "13/13 [==============================] - 5s 383ms/step - loss: 1.2945 - sparse_categorical_accuracy: 0.4951\n",
      "Epoch 6/10\n",
      "13/13 [==============================] - 5s 379ms/step - loss: 1.1788 - sparse_categorical_accuracy: 0.5146\n",
      "Epoch 7/10\n",
      "13/13 [==============================] - 5s 388ms/step - loss: 1.0948 - sparse_categorical_accuracy: 0.5631\n",
      "Epoch 8/10\n",
      "13/13 [==============================] - 5s 380ms/step - loss: 1.1086 - sparse_categorical_accuracy: 0.5631\n",
      "Epoch 9/10\n",
      "13/13 [==============================] - 5s 381ms/step - loss: 1.1646 - sparse_categorical_accuracy: 0.4660\n",
      "Epoch 10/10\n",
      "13/13 [==============================] - 5s 383ms/step - loss: 1.1479 - sparse_categorical_accuracy: 0.4563\n"
     ]
    },
    {
     "name": "stderr",
     "output_type": "stream",
     "text": [
      "\r",
      "94it [1:36:36, 61.52s/it]"
     ]
    },
    {
     "name": "stdout",
     "output_type": "stream",
     "text": [
      "Epoch 1/10\n",
      "13/13 [==============================] - 5s 381ms/step - loss: 1.7098 - sparse_categorical_accuracy: 0.4757\n",
      "Epoch 2/10\n",
      "13/13 [==============================] - 5s 384ms/step - loss: 1.6495 - sparse_categorical_accuracy: 0.5825\n",
      "Epoch 3/10\n",
      "13/13 [==============================] - 5s 377ms/step - loss: 1.4246 - sparse_categorical_accuracy: 0.5437\n",
      "Epoch 4/10\n",
      "13/13 [==============================] - 5s 379ms/step - loss: 1.2518 - sparse_categorical_accuracy: 0.5728\n",
      "Epoch 5/10\n",
      "13/13 [==============================] - 5s 379ms/step - loss: 1.2482 - sparse_categorical_accuracy: 0.5049\n",
      "Epoch 6/10\n",
      "13/13 [==============================] - 5s 381ms/step - loss: 1.1930 - sparse_categorical_accuracy: 0.5049\n",
      "Epoch 7/10\n",
      "13/13 [==============================] - 5s 379ms/step - loss: 1.2724 - sparse_categorical_accuracy: 0.3981\n",
      "Epoch 8/10\n",
      "13/13 [==============================] - 5s 380ms/step - loss: 1.1733 - sparse_categorical_accuracy: 0.5922\n",
      "Epoch 9/10\n",
      "13/13 [==============================] - 5s 379ms/step - loss: 1.1434 - sparse_categorical_accuracy: 0.4951\n",
      "Epoch 10/10\n",
      "13/13 [==============================] - 5s 380ms/step - loss: 1.0152 - sparse_categorical_accuracy: 0.5728\n"
     ]
    },
    {
     "name": "stderr",
     "output_type": "stream",
     "text": [
      "\r",
      "95it [1:38:24, 75.49s/it]"
     ]
    },
    {
     "name": "stdout",
     "output_type": "stream",
     "text": [
      "Epoch 1/10\n",
      "13/13 [==============================] - 6s 433ms/step - loss: 1.6839 - sparse_categorical_accuracy: 0.4175\n",
      "Epoch 2/10\n",
      "13/13 [==============================] - 5s 418ms/step - loss: 1.4674 - sparse_categorical_accuracy: 0.5922\n",
      "Epoch 3/10\n",
      "13/13 [==============================] - 5s 417ms/step - loss: 1.2828 - sparse_categorical_accuracy: 0.5631\n",
      "Epoch 4/10\n",
      "13/13 [==============================] - 5s 421ms/step - loss: 1.2895 - sparse_categorical_accuracy: 0.5340\n",
      "Epoch 5/10\n",
      "13/13 [==============================] - 5s 418ms/step - loss: 1.1352 - sparse_categorical_accuracy: 0.5825\n",
      "Epoch 6/10\n",
      "13/13 [==============================] - 5s 417ms/step - loss: 1.2183 - sparse_categorical_accuracy: 0.5049\n",
      "Epoch 7/10\n",
      "13/13 [==============================] - 5s 416ms/step - loss: 1.3492 - sparse_categorical_accuracy: 0.4272\n",
      "Epoch 8/10\n",
      "13/13 [==============================] - 5s 420ms/step - loss: 1.1820 - sparse_categorical_accuracy: 0.4757\n",
      "Epoch 9/10\n",
      "13/13 [==============================] - 5s 417ms/step - loss: 1.2501 - sparse_categorical_accuracy: 0.4272\n",
      "Epoch 10/10\n",
      "13/13 [==============================] - 5s 417ms/step - loss: 1.2547 - sparse_categorical_accuracy: 0.3981\n"
     ]
    },
    {
     "name": "stderr",
     "output_type": "stream",
     "text": [
      "\r",
      "96it [1:39:32, 73.17s/it]"
     ]
    },
    {
     "name": "stdout",
     "output_type": "stream",
     "text": [
      "Epoch 1/10\n",
      "13/13 [==============================] - 5s 416ms/step - loss: 1.4183 - sparse_categorical_accuracy: 0.6311\n",
      "Epoch 2/10\n",
      "13/13 [==============================] - 5s 419ms/step - loss: 1.7042 - sparse_categorical_accuracy: 0.5146\n",
      "Epoch 3/10\n",
      "13/13 [==============================] - 5s 421ms/step - loss: 1.3561 - sparse_categorical_accuracy: 0.4854\n",
      "Epoch 4/10\n",
      "13/13 [==============================] - 5s 416ms/step - loss: 1.4376 - sparse_categorical_accuracy: 0.4951\n",
      "Epoch 5/10\n",
      "13/13 [==============================] - 5s 415ms/step - loss: 1.2976 - sparse_categorical_accuracy: 0.4757\n",
      "Epoch 6/10\n",
      "13/13 [==============================] - 5s 415ms/step - loss: 1.3008 - sparse_categorical_accuracy: 0.4660\n",
      "Epoch 7/10\n",
      "13/13 [==============================] - 5s 419ms/step - loss: 1.1386 - sparse_categorical_accuracy: 0.5728\n",
      "Epoch 8/10\n",
      "13/13 [==============================] - 5s 414ms/step - loss: 1.1023 - sparse_categorical_accuracy: 0.5922\n",
      "Epoch 9/10\n",
      "13/13 [==============================] - 5s 414ms/step - loss: 1.2446 - sparse_categorical_accuracy: 0.4660\n",
      "Epoch 10/10\n",
      "13/13 [==============================] - 5s 415ms/step - loss: 1.1589 - sparse_categorical_accuracy: 0.5825\n"
     ]
    },
    {
     "name": "stderr",
     "output_type": "stream",
     "text": [
      "\r",
      "97it [1:40:38, 71.20s/it]"
     ]
    },
    {
     "name": "stdout",
     "output_type": "stream",
     "text": [
      "Epoch 1/10\n",
      "13/13 [==============================] - 5s 412ms/step - loss: 1.7234 - sparse_categorical_accuracy: 0.5049\n",
      "Epoch 2/10\n",
      "13/13 [==============================] - 5s 415ms/step - loss: 1.7384 - sparse_categorical_accuracy: 0.5437\n",
      "Epoch 3/10\n",
      "13/13 [==============================] - 5s 416ms/step - loss: 1.4048 - sparse_categorical_accuracy: 0.5340\n",
      "Epoch 4/10\n",
      "13/13 [==============================] - 5s 416ms/step - loss: 1.3019 - sparse_categorical_accuracy: 0.5243\n",
      "Epoch 5/10\n",
      "13/13 [==============================] - 5s 411ms/step - loss: 1.3099 - sparse_categorical_accuracy: 0.5049\n",
      "Epoch 6/10\n",
      "13/13 [==============================] - 5s 415ms/step - loss: 1.2781 - sparse_categorical_accuracy: 0.5049\n",
      "Epoch 7/10\n",
      "13/13 [==============================] - 5s 411ms/step - loss: 1.2658 - sparse_categorical_accuracy: 0.5340\n",
      "Epoch 8/10\n",
      "13/13 [==============================] - 5s 410ms/step - loss: 1.3034 - sparse_categorical_accuracy: 0.5049\n",
      "Epoch 9/10\n",
      "13/13 [==============================] - 5s 412ms/step - loss: 1.1428 - sparse_categorical_accuracy: 0.5728\n",
      "Epoch 10/10\n",
      "13/13 [==============================] - 5s 413ms/step - loss: 1.0732 - sparse_categorical_accuracy: 0.6311\n"
     ]
    },
    {
     "name": "stderr",
     "output_type": "stream",
     "text": [
      "\r",
      "98it [1:41:44, 69.69s/it]"
     ]
    },
    {
     "name": "stdout",
     "output_type": "stream",
     "text": [
      "Epoch 1/10\n",
      "13/13 [==============================] - 5s 418ms/step - loss: 1.6762 - sparse_categorical_accuracy: 0.5146\n",
      "Epoch 2/10\n",
      "13/13 [==============================] - 5s 409ms/step - loss: 1.6099 - sparse_categorical_accuracy: 0.6019\n",
      "Epoch 3/10\n",
      "13/13 [==============================] - 5s 410ms/step - loss: 1.3163 - sparse_categorical_accuracy: 0.5534\n",
      "Epoch 4/10\n",
      "13/13 [==============================] - 5s 408ms/step - loss: 1.1895 - sparse_categorical_accuracy: 0.5340\n",
      "Epoch 5/10\n",
      "13/13 [==============================] - 5s 412ms/step - loss: 1.2926 - sparse_categorical_accuracy: 0.5146\n",
      "Epoch 6/10\n",
      "13/13 [==============================] - 5s 409ms/step - loss: 1.3066 - sparse_categorical_accuracy: 0.5437\n",
      "Epoch 7/10\n",
      "13/13 [==============================] - 5s 409ms/step - loss: 1.1545 - sparse_categorical_accuracy: 0.5825\n",
      "Epoch 8/10\n",
      "13/13 [==============================] - 5s 412ms/step - loss: 1.2531 - sparse_categorical_accuracy: 0.5534\n",
      "Epoch 9/10\n",
      "13/13 [==============================] - 5s 406ms/step - loss: 1.2636 - sparse_categorical_accuracy: 0.4854\n",
      "Epoch 10/10\n",
      "13/13 [==============================] - 5s 408ms/step - loss: 1.2520 - sparse_categorical_accuracy: 0.4175\n"
     ]
    },
    {
     "name": "stderr",
     "output_type": "stream",
     "text": [
      "\r",
      "99it [1:42:50, 68.46s/it]"
     ]
    },
    {
     "name": "stdout",
     "output_type": "stream",
     "text": [
      "Epoch 1/10\n",
      "13/13 [==============================] - 5s 411ms/step - loss: 1.5811 - sparse_categorical_accuracy: 0.6117\n",
      "Epoch 2/10\n",
      "13/13 [==============================] - 5s 407ms/step - loss: 1.8546 - sparse_categorical_accuracy: 0.5243\n",
      "Epoch 3/10\n",
      "13/13 [==============================] - 5s 404ms/step - loss: 1.5135 - sparse_categorical_accuracy: 0.3981\n",
      "Epoch 4/10\n",
      "13/13 [==============================] - 5s 410ms/step - loss: 1.3897 - sparse_categorical_accuracy: 0.4466\n",
      "Epoch 5/10\n",
      "13/13 [==============================] - 5s 416ms/step - loss: 1.2875 - sparse_categorical_accuracy: 0.5146\n",
      "Epoch 6/10\n",
      "13/13 [==============================] - 5s 415ms/step - loss: 1.2909 - sparse_categorical_accuracy: 0.4466\n",
      "Epoch 7/10\n",
      "13/13 [==============================] - 6s 428ms/step - loss: 1.1872 - sparse_categorical_accuracy: 0.6019\n",
      "Epoch 8/10\n",
      "13/13 [==============================] - 5s 409ms/step - loss: 1.3200 - sparse_categorical_accuracy: 0.4951\n",
      "Epoch 9/10\n",
      "13/13 [==============================] - 5s 409ms/step - loss: 1.1952 - sparse_categorical_accuracy: 0.6019\n",
      "Epoch 10/10\n",
      "13/13 [==============================] - 5s 410ms/step - loss: 1.2773 - sparse_categorical_accuracy: 0.5146\n"
     ]
    },
    {
     "name": "stderr",
     "output_type": "stream",
     "text": [
      "\r",
      "100it [1:43:56, 67.73s/it]"
     ]
    },
    {
     "name": "stdout",
     "output_type": "stream",
     "text": [
      "Epoch 1/10\n",
      "13/13 [==============================] - 5s 410ms/step - loss: 1.6706 - sparse_categorical_accuracy: 0.5631\n",
      "Epoch 2/10\n",
      "13/13 [==============================] - 5s 403ms/step - loss: 1.6884 - sparse_categorical_accuracy: 0.5631\n",
      "Epoch 3/10\n",
      "13/13 [==============================] - 5s 410ms/step - loss: 1.5813 - sparse_categorical_accuracy: 0.4951\n",
      "Epoch 4/10\n",
      "13/13 [==============================] - 5s 411ms/step - loss: 1.3830 - sparse_categorical_accuracy: 0.5146\n",
      "Epoch 5/10\n",
      "13/13 [==============================] - 5s 404ms/step - loss: 1.2469 - sparse_categorical_accuracy: 0.5243\n",
      "Epoch 6/10\n",
      "13/13 [==============================] - 5s 402ms/step - loss: 1.2555 - sparse_categorical_accuracy: 0.5728\n",
      "Epoch 7/10\n",
      "13/13 [==============================] - 5s 403ms/step - loss: 1.2115 - sparse_categorical_accuracy: 0.5243\n",
      "Epoch 8/10\n",
      "13/13 [==============================] - 5s 402ms/step - loss: 1.1951 - sparse_categorical_accuracy: 0.5728\n",
      "Epoch 9/10\n",
      "13/13 [==============================] - 5s 402ms/step - loss: 1.2012 - sparse_categorical_accuracy: 0.4854\n",
      "Epoch 10/10\n",
      "13/13 [==============================] - 5s 406ms/step - loss: 1.2414 - sparse_categorical_accuracy: 0.4951\n"
     ]
    },
    {
     "name": "stderr",
     "output_type": "stream",
     "text": [
      "\r",
      "101it [1:45:04, 67.66s/it]"
     ]
    },
    {
     "name": "stdout",
     "output_type": "stream",
     "text": [
      "Epoch 1/10\n",
      "13/13 [==============================] - 5s 413ms/step - loss: 1.5796 - sparse_categorical_accuracy: 0.5534\n",
      "Epoch 2/10\n",
      "13/13 [==============================] - 5s 406ms/step - loss: 1.6440 - sparse_categorical_accuracy: 0.4660\n",
      "Epoch 3/10\n",
      "13/13 [==============================] - 5s 401ms/step - loss: 1.4330 - sparse_categorical_accuracy: 0.5340\n",
      "Epoch 4/10\n",
      "13/13 [==============================] - 5s 402ms/step - loss: 1.2937 - sparse_categorical_accuracy: 0.5437\n",
      "Epoch 5/10\n",
      "13/13 [==============================] - 5s 402ms/step - loss: 1.1908 - sparse_categorical_accuracy: 0.6311\n",
      "Epoch 6/10\n",
      "13/13 [==============================] - 5s 402ms/step - loss: 1.3256 - sparse_categorical_accuracy: 0.5631\n",
      "Epoch 7/10\n",
      "13/13 [==============================] - 5s 408ms/step - loss: 1.2641 - sparse_categorical_accuracy: 0.5728\n",
      "Epoch 8/10\n",
      "13/13 [==============================] - 5s 406ms/step - loss: 1.2058 - sparse_categorical_accuracy: 0.4951\n",
      "Epoch 9/10\n",
      "13/13 [==============================] - 5s 401ms/step - loss: 1.3068 - sparse_categorical_accuracy: 0.5146\n",
      "Epoch 10/10\n",
      "13/13 [==============================] - 5s 401ms/step - loss: 1.2154 - sparse_categorical_accuracy: 0.4757\n"
     ]
    },
    {
     "name": "stderr",
     "output_type": "stream",
     "text": [
      "\r",
      "102it [1:46:09, 66.99s/it]"
     ]
    },
    {
     "name": "stdout",
     "output_type": "stream",
     "text": [
      "Epoch 1/10\n",
      "13/13 [==============================] - 5s 405ms/step - loss: 1.6113 - sparse_categorical_accuracy: 0.5631\n",
      "Epoch 2/10\n",
      "13/13 [==============================] - 5s 402ms/step - loss: 1.7449 - sparse_categorical_accuracy: 0.4951\n",
      "Epoch 3/10\n",
      "13/13 [==============================] - 5s 403ms/step - loss: 1.4710 - sparse_categorical_accuracy: 0.5631\n",
      "Epoch 4/10\n",
      "13/13 [==============================] - 5s 402ms/step - loss: 1.3246 - sparse_categorical_accuracy: 0.5534\n",
      "Epoch 5/10\n",
      "13/13 [==============================] - 5s 402ms/step - loss: 1.3955 - sparse_categorical_accuracy: 0.5340\n",
      "Epoch 6/10\n",
      "13/13 [==============================] - 5s 402ms/step - loss: 1.3199 - sparse_categorical_accuracy: 0.4951\n",
      "Epoch 7/10\n",
      "13/13 [==============================] - 5s 401ms/step - loss: 1.2497 - sparse_categorical_accuracy: 0.4854\n",
      "Epoch 8/10\n",
      "13/13 [==============================] - 5s 402ms/step - loss: 1.2438 - sparse_categorical_accuracy: 0.5437\n",
      "Epoch 9/10\n",
      "13/13 [==============================] - 5s 402ms/step - loss: 1.1718 - sparse_categorical_accuracy: 0.5631\n",
      "Epoch 10/10\n",
      "13/13 [==============================] - 5s 402ms/step - loss: 1.1463 - sparse_categorical_accuracy: 0.6117\n"
     ]
    },
    {
     "name": "stderr",
     "output_type": "stream",
     "text": [
      "\r",
      "103it [1:47:14, 66.29s/it]"
     ]
    },
    {
     "name": "stdout",
     "output_type": "stream",
     "text": [
      "Epoch 1/10\n",
      "13/13 [==============================] - 5s 403ms/step - loss: 1.8032 - sparse_categorical_accuracy: 0.4563\n",
      "Epoch 2/10\n",
      "13/13 [==============================] - 5s 399ms/step - loss: 1.7193 - sparse_categorical_accuracy: 0.5534\n",
      "Epoch 3/10\n",
      "13/13 [==============================] - 5s 399ms/step - loss: 1.3637 - sparse_categorical_accuracy: 0.5534\n",
      "Epoch 4/10\n",
      "13/13 [==============================] - 5s 400ms/step - loss: 1.4440 - sparse_categorical_accuracy: 0.5243\n",
      "Epoch 5/10\n",
      "13/13 [==============================] - 5s 405ms/step - loss: 1.3708 - sparse_categorical_accuracy: 0.4175\n",
      "Epoch 6/10\n",
      "13/13 [==============================] - 5s 398ms/step - loss: 1.2414 - sparse_categorical_accuracy: 0.5340\n",
      "Epoch 7/10\n",
      "13/13 [==============================] - 5s 403ms/step - loss: 1.1841 - sparse_categorical_accuracy: 0.5243\n",
      "Epoch 8/10\n",
      "13/13 [==============================] - 5s 399ms/step - loss: 1.1602 - sparse_categorical_accuracy: 0.5243\n",
      "Epoch 9/10\n",
      "13/13 [==============================] - 5s 401ms/step - loss: 1.2205 - sparse_categorical_accuracy: 0.5146\n",
      "Epoch 10/10\n",
      "13/13 [==============================] - 5s 400ms/step - loss: 1.1719 - sparse_categorical_accuracy: 0.4951\n"
     ]
    },
    {
     "name": "stderr",
     "output_type": "stream",
     "text": [
      "104it [1:48:18, 62.49s/it]\n"
     ]
    }
   ],
   "source": [
    "run_nr = 1\n",
    "side = [\"LEFT\", \"RIGHT\"]\n",
    "syn_list = ['ADNP', 'ANKRD11', 'CDK13', 'DEAF1', 'DYRK1A', 'EHMT1', 'FBXO11', 'SON', 'WAC', 'YY1', 'KDVS']\n",
    "\n",
    "results_file = open(\"results/pointnet_results_binary_run_split_faces{}.txt\".format(run_nr), \"w\")\n",
    "\n",
    "for syn in syn_list:\n",
    "    data, labels = load_data(syn)\n",
    "    \n",
    "    data_left, data_right = split_data(data)\n",
    "    \n",
    "    for s, data in enumerate([data_left, data_right]):\n",
    "        results_file.write(\"Syndrome {} with {} patients and {} controls - {}\\n\".format(syn, labels.tolist().count(1), labels.tolist().count(0), side[s]))\n",
    "  \n",
    "        all_y, all_probs, all_preds = [], [], [] \n",
    "\n",
    "        loo = LeaveOneOut()\n",
    "        for train_index, test_index in tqdm(loo.split(data)):\n",
    "            X_train, X_test = np.array(data[train_index]), data[test_index]\n",
    "            y_train, y_test = np.array(labels[train_index]), labels[test_index]\n",
    "\n",
    "            model = generate_model()\n",
    "            model.fit(x=X_train, y=y_train, batch_size=BATCH_SIZE, epochs=10, shuffle=True)\n",
    "\n",
    "            y_pred_array = model.predict(X_test)\n",
    "            y_pred = tf.math.argmax(y_pred_array, -1).numpy()\n",
    "\n",
    "            all_y.append(y_test[0])\n",
    "            all_probs.append(y_pred_array[0][1])\n",
    "            all_preds.append(y_pred) \n",
    "\n",
    "        aroc = roc_auc_score(all_y, all_probs)\n",
    "        tn, fp, fn, tp = confusion_matrix(all_y, all_preds).ravel()\n",
    "        spec = tn / (tn+fp)  \n",
    "        sens = tp / (tp+fn)\n",
    "\n",
    "        results_file.write(\"AROC: {:.4f}, spec: {:.4f}, sens: {:.4f}\\n\\n\".format(aroc, spec, sens))\n",
    "\n",
    "    \n",
    "results_file.close()"
   ]
  },
  {
   "cell_type": "code",
   "execution_count": null,
   "metadata": {},
   "outputs": [],
   "source": []
  }
 ],
 "metadata": {
  "kernelspec": {
   "display_name": "Python 3",
   "language": "python",
   "name": "python3"
  },
  "language_info": {
   "codemirror_mode": {
    "name": "ipython",
    "version": 3
   },
   "file_extension": ".py",
   "mimetype": "text/x-python",
   "name": "python",
   "nbconvert_exporter": "python",
   "pygments_lexer": "ipython3",
   "version": "3.7.7"
  }
 },
 "nbformat": 4,
 "nbformat_minor": 4
}
