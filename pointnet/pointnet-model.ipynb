{
 "cells": [
  {
   "cell_type": "code",
   "execution_count": 1,
   "metadata": {},
   "outputs": [],
   "source": [
    "from os import listdir\n",
    "from os.path import join, isfile\n",
    "import trimesh\n",
    "import numpy as np #1.16.4 otherwise futurewarning tensorflow\n",
    "import tensorflow as tf\n",
    "from tensorflow import keras\n",
    "from tensorflow.keras import layers\n",
    "import matplotlib.pyplot as plt\n",
    "import csv\n",
    "from tqdm import tqdm\n",
    "from sklearn.model_selection import LeaveOneOut\n",
    "import cv2"
   ]
  },
  {
   "cell_type": "code",
   "execution_count": 2,
   "metadata": {},
   "outputs": [],
   "source": [
    "NUM_CLASSES = 11\n",
    "BATCH_SIZE = 8\n",
    "NUM_POINTS = 510"
   ]
  },
  {
   "cell_type": "markdown",
   "metadata": {},
   "source": [
    "# Data"
   ]
  },
  {
   "cell_type": "code",
   "execution_count": 3,
   "metadata": {},
   "outputs": [],
   "source": [
    "def load_data():\n",
    "    data = []\n",
    "    labels = []\n",
    "\n",
    "    GENERAL_DIR = r\"H:\\Genetica Projecten\\Facial Recognition\\Studenten en Onderzoekers\\Fien\" \n",
    "    syn_list = ['ADNP', 'ANKRD11', 'CDK13', 'DEAF1', 'DYRK1A', 'EHMT1', 'FBXO11', 'SON', 'WAC', 'YY1', 'KDVS']\n",
    "    file = GENERAL_DIR+ \"\\\\features_facereader_landmarks_patient_groups.csv\"\n",
    "    class_map = {}\n",
    "    \n",
    "    for index, syn in enumerate(syn_list):\n",
    "        class_map[index] = syn\n",
    "        \n",
    "        files = [f for f in listdir(GENERAL_DIR +\"\\\\{}\\\\{}-all-photos\".format(syn, syn)) if \"jpg\" in f]\n",
    "\n",
    "        with open(file, newline='') as csvfile:\n",
    "            reader = csv.reader(csvfile, delimiter=',')\n",
    "            for row in reader:\n",
    "                if row[0] in files:\n",
    "                    fr_rep = [float(f) for f in row[1:]]\n",
    "                    if not all(v == 0 for v in fr_rep):\n",
    "\n",
    "                        rep = []\n",
    "                        i = 1\n",
    "                        while i < len(row[1:]):\n",
    "                            rep.append([float(row[i]), float(row[i+1]), float(row[i+2])])\n",
    "                            i+=3  \n",
    "                        data.append(rep)\n",
    "                        labels.append(index)\n",
    "                        \n",
    "    \n",
    "    return np.array(data), np.array(labels), class_map"
   ]
  },
  {
   "cell_type": "code",
   "execution_count": 4,
   "metadata": {},
   "outputs": [],
   "source": [
    "def augment(points, label):\n",
    "    points += tf.random.uniform(points.shape, -0.005, 0.005, dtype=tf.float64)\n",
    "    points = tf.random.shuffle(points)\n",
    "    return points, label"
   ]
  },
  {
   "cell_type": "code",
   "execution_count": 5,
   "metadata": {},
   "outputs": [
    {
     "name": "stdout",
     "output_type": "stream",
     "text": [
      "(221, 510, 3)\n",
      "(221,)\n"
     ]
    },
    {
     "data": {
      "image/png": "[encoded data removed]",
      "text/plain": [
       "<Figure size 432x288 with 1 Axes>"
      ]
     },
     "metadata": {
      "needs_background": "light"
     },
     "output_type": "display_data"
    }
   ],
   "source": [
    "data, labels, class_map = load_data()\n",
    "\n",
    "print(data.shape)\n",
    "print(labels.shape)\n",
    "\n",
    "plt.hist(labels)\n",
    "plt.show()"
   ]
  },
  {
   "cell_type": "markdown",
   "metadata": {},
   "source": [
    "# Model"
   ]
  },
  {
   "cell_type": "code",
   "execution_count": 6,
   "metadata": {},
   "outputs": [],
   "source": [
    "def conv_bn(x, filters):\n",
    "    x = layers.Conv1D(filters, kernel_size=1, padding='valid')(x)\n",
    "    x = layers.BatchNormalization(momentum=0.0)(x)\n",
    "    return layers.Activation(\"relu\")(x)\n",
    "\n",
    "def dense_bn(x, filters):\n",
    "    x = layers.Dense(filters)(x)\n",
    "    x = layers.BatchNormalization(momentum=0.0)(x)\n",
    "    return layers.Activation(\"relu\")(x)"
   ]
  },
  {
   "cell_type": "code",
   "execution_count": 7,
   "metadata": {},
   "outputs": [],
   "source": [
    "class OrthogonalRegularizer(keras.regularizers.Regularizer):\n",
    "    def __init__(self, num_features, l2reg=0.001):\n",
    "        self.num_features = num_features\n",
    "        self.l2reg = l2reg\n",
    "        self.eye = tf.eye(num_features)\n",
    "        \n",
    "    def __call__(self, x):\n",
    "        x = tf.reshape(x, (-1, self.num_features, self.num_features))\n",
    "        xxt = tf.tensordot(x, x, axes=(2,2))\n",
    "        xxt = tf.reshape(xxt, (-1, self.num_features, self.num_features))\n",
    "        return tf.reduce_sum(self.l2reg * tf.square(xxt - self.eye))"
   ]
  },
  {
   "cell_type": "code",
   "execution_count": 8,
   "metadata": {},
   "outputs": [],
   "source": [
    "def tnet(inputs, num_features):\n",
    "    bias = keras.initializers.Constant(np.eye(num_features).flatten())\n",
    "    reg = OrthogonalRegularizer(num_features)\n",
    "    \n",
    "    x = conv_bn(inputs, 32)\n",
    "    x = conv_bn(x, 64)\n",
    "    x = conv_bn(x, 512)\n",
    "    x = layers.GlobalMaxPooling1D()(x)\n",
    "    x = dense_bn(x, 256)\n",
    "    x = dense_bn(x, 128)\n",
    "    x = layers.Dense(\n",
    "        num_features * num_features, \n",
    "        kernel_initializer=\"zeros\",\n",
    "        bias_initializer=bias,\n",
    "        activity_regularizer=reg)(x)\n",
    "    \n",
    "    feat_T = layers.Reshape((num_features, num_features))(x)\n",
    "    \n",
    "    return layers.Dot(axes=(2,1))([inputs, feat_T])"
   ]
  },
  {
   "cell_type": "code",
   "execution_count": 9,
   "metadata": {},
   "outputs": [
    {
     "name": "stdout",
     "output_type": "stream",
     "text": [
      "WARNING:tensorflow:From C:\\MyPrograms\\Anaconda3\\envs\\ai-thesis\\lib\\site-packages\\tensorflow\\python\\ops\\resource_variable_ops.py:435: colocate_with (from tensorflow.python.framework.ops) is deprecated and will be removed in a future version.\n",
      "Instructions for updating:\n",
      "Colocations handled automatically by placer.\n",
      "WARNING:tensorflow:From C:\\MyPrograms\\Anaconda3\\envs\\ai-thesis\\lib\\site-packages\\tensorflow\\python\\keras\\layers\\core.py:143: calling dropout (from tensorflow.python.ops.nn_ops) with keep_prob is deprecated and will be removed in a future version.\n",
      "Instructions for updating:\n",
      "Please use `rate` instead of `keep_prob`. Rate should be set to `rate = 1 - keep_prob`.\n",
      "__________________________________________________________________________________________________\n",
      "Layer (type)                    Output Shape         Param #     Connected to                     \n",
      "==================================================================================================\n",
      "input_1 (InputLayer)            (None, 510, 3)       0                                            \n",
      "__________________________________________________________________________________________________\n",
      "conv1d (Conv1D)                 (None, 510, 32)      128         input_1[0][0]                    \n",
      "__________________________________________________________________________________________________\n",
      "batch_normalization_v1 (BatchNo (None, 510, 32)      128         conv1d[0][0]                     \n",
      "__________________________________________________________________________________________________\n",
      "activation (Activation)         (None, 510, 32)      0           batch_normalization_v1[0][0]     \n",
      "__________________________________________________________________________________________________\n",
      "conv1d_1 (Conv1D)               (None, 510, 64)      2112        activation[0][0]                 \n",
      "__________________________________________________________________________________________________\n",
      "batch_normalization_v1_1 (Batch (None, 510, 64)      256         conv1d_1[0][0]                   \n",
      "__________________________________________________________________________________________________\n",
      "activation_1 (Activation)       (None, 510, 64)      0           batch_normalization_v1_1[0][0]   \n",
      "__________________________________________________________________________________________________\n",
      "conv1d_2 (Conv1D)               (None, 510, 512)     33280       activation_1[0][0]               \n",
      "__________________________________________________________________________________________________\n",
      "batch_normalization_v1_2 (Batch (None, 510, 512)     2048        conv1d_2[0][0]                   \n",
      "__________________________________________________________________________________________________\n",
      "activation_2 (Activation)       (None, 510, 512)     0           batch_normalization_v1_2[0][0]   \n",
      "__________________________________________________________________________________________________\n",
      "global_max_pooling1d (GlobalMax (None, 512)          0           activation_2[0][0]               \n",
      "__________________________________________________________________________________________________\n",
      "dense (Dense)                   (None, 256)          131328      global_max_pooling1d[0][0]       \n",
      "__________________________________________________________________________________________________\n",
      "batch_normalization_v1_3 (Batch (None, 256)          1024        dense[0][0]                      \n",
      "__________________________________________________________________________________________________\n",
      "activation_3 (Activation)       (None, 256)          0           batch_normalization_v1_3[0][0]   \n",
      "__________________________________________________________________________________________________\n",
      "dense_1 (Dense)                 (None, 128)          32896       activation_3[0][0]               \n",
      "__________________________________________________________________________________________________\n",
      "batch_normalization_v1_4 (Batch (None, 128)          512         dense_1[0][0]                    \n",
      "__________________________________________________________________________________________________\n",
      "activation_4 (Activation)       (None, 128)          0           batch_normalization_v1_4[0][0]   \n",
      "__________________________________________________________________________________________________\n",
      "dense_2 (Dense)                 (None, 9)            1161        activation_4[0][0]               \n",
      "__________________________________________________________________________________________________\n",
      "reshape (Reshape)               (None, 3, 3)         0           dense_2[0][0]                    \n",
      "__________________________________________________________________________________________________\n",
      "dot (Dot)                       (None, 510, 3)       0           input_1[0][0]                    \n",
      "                                                                 reshape[0][0]                    \n",
      "__________________________________________________________________________________________________\n",
      "conv1d_3 (Conv1D)               (None, 510, 32)      128         dot[0][0]                        \n",
      "__________________________________________________________________________________________________\n",
      "batch_normalization_v1_5 (Batch (None, 510, 32)      128         conv1d_3[0][0]                   \n",
      "__________________________________________________________________________________________________\n",
      "activation_5 (Activation)       (None, 510, 32)      0           batch_normalization_v1_5[0][0]   \n",
      "__________________________________________________________________________________________________\n",
      "conv1d_4 (Conv1D)               (None, 510, 32)      1056        activation_5[0][0]               \n",
      "__________________________________________________________________________________________________\n",
      "batch_normalization_v1_6 (Batch (None, 510, 32)      128         conv1d_4[0][0]                   \n",
      "__________________________________________________________________________________________________\n",
      "activation_6 (Activation)       (None, 510, 32)      0           batch_normalization_v1_6[0][0]   \n",
      "__________________________________________________________________________________________________\n",
      "conv1d_5 (Conv1D)               (None, 510, 32)      1056        activation_6[0][0]               \n",
      "__________________________________________________________________________________________________\n",
      "batch_normalization_v1_7 (Batch (None, 510, 32)      128         conv1d_5[0][0]                   \n",
      "__________________________________________________________________________________________________\n",
      "activation_7 (Activation)       (None, 510, 32)      0           batch_normalization_v1_7[0][0]   \n",
      "__________________________________________________________________________________________________\n",
      "conv1d_6 (Conv1D)               (None, 510, 64)      2112        activation_7[0][0]               \n",
      "__________________________________________________________________________________________________\n",
      "batch_normalization_v1_8 (Batch (None, 510, 64)      256         conv1d_6[0][0]                   \n",
      "__________________________________________________________________________________________________\n",
      "activation_8 (Activation)       (None, 510, 64)      0           batch_normalization_v1_8[0][0]   \n",
      "__________________________________________________________________________________________________\n",
      "conv1d_7 (Conv1D)               (None, 510, 512)     33280       activation_8[0][0]               \n",
      "__________________________________________________________________________________________________\n",
      "batch_normalization_v1_9 (Batch (None, 510, 512)     2048        conv1d_7[0][0]                   \n",
      "__________________________________________________________________________________________________\n",
      "activation_9 (Activation)       (None, 510, 512)     0           batch_normalization_v1_9[0][0]   \n",
      "__________________________________________________________________________________________________\n",
      "global_max_pooling1d_1 (GlobalM (None, 512)          0           activation_9[0][0]               \n",
      "__________________________________________________________________________________________________\n",
      "dense_3 (Dense)                 (None, 256)          131328      global_max_pooling1d_1[0][0]     \n",
      "__________________________________________________________________________________________________\n",
      "batch_normalization_v1_10 (Batc (None, 256)          1024        dense_3[0][0]                    \n",
      "__________________________________________________________________________________________________\n",
      "activation_10 (Activation)      (None, 256)          0           batch_normalization_v1_10[0][0]  \n",
      "__________________________________________________________________________________________________\n",
      "dense_4 (Dense)                 (None, 128)          32896       activation_10[0][0]              \n",
      "__________________________________________________________________________________________________\n",
      "batch_normalization_v1_11 (Batc (None, 128)          512         dense_4[0][0]                    \n",
      "__________________________________________________________________________________________________\n",
      "activation_11 (Activation)      (None, 128)          0           batch_normalization_v1_11[0][0]  \n",
      "__________________________________________________________________________________________________\n",
      "dense_5 (Dense)                 (None, 1024)         132096      activation_11[0][0]              \n",
      "__________________________________________________________________________________________________\n",
      "reshape_1 (Reshape)             (None, 32, 32)       0           dense_5[0][0]                    \n",
      "__________________________________________________________________________________________________\n",
      "dot_1 (Dot)                     (None, 510, 32)      0           activation_6[0][0]               \n",
      "                                                                 reshape_1[0][0]                  \n",
      "__________________________________________________________________________________________________\n",
      "conv1d_8 (Conv1D)               (None, 510, 32)      1056        dot_1[0][0]                      \n",
      "__________________________________________________________________________________________________\n",
      "batch_normalization_v1_12 (Batc (None, 510, 32)      128         conv1d_8[0][0]                   \n",
      "__________________________________________________________________________________________________\n",
      "activation_12 (Activation)      (None, 510, 32)      0           batch_normalization_v1_12[0][0]  \n",
      "__________________________________________________________________________________________________\n",
      "conv1d_9 (Conv1D)               (None, 510, 64)      2112        activation_12[0][0]              \n",
      "__________________________________________________________________________________________________\n",
      "batch_normalization_v1_13 (Batc (None, 510, 64)      256         conv1d_9[0][0]                   \n",
      "__________________________________________________________________________________________________\n",
      "activation_13 (Activation)      (None, 510, 64)      0           batch_normalization_v1_13[0][0]  \n",
      "__________________________________________________________________________________________________\n",
      "conv1d_10 (Conv1D)              (None, 510, 512)     33280       activation_13[0][0]              \n",
      "__________________________________________________________________________________________________\n",
      "batch_normalization_v1_14 (Batc (None, 510, 512)     2048        conv1d_10[0][0]                  \n",
      "__________________________________________________________________________________________________\n",
      "activation_14 (Activation)      (None, 510, 512)     0           batch_normalization_v1_14[0][0]  \n",
      "__________________________________________________________________________________________________\n",
      "global_max_pooling1d_2 (GlobalM (None, 512)          0           activation_14[0][0]              \n",
      "__________________________________________________________________________________________________\n",
      "dense_6 (Dense)                 (None, 256)          131328      global_max_pooling1d_2[0][0]     \n",
      "__________________________________________________________________________________________________\n",
      "batch_normalization_v1_15 (Batc (None, 256)          1024        dense_6[0][0]                    \n",
      "__________________________________________________________________________________________________\n",
      "activation_15 (Activation)      (None, 256)          0           batch_normalization_v1_15[0][0]  \n",
      "__________________________________________________________________________________________________\n",
      "dropout (Dropout)               (None, 256)          0           activation_15[0][0]              \n",
      "__________________________________________________________________________________________________\n",
      "dense_7 (Dense)                 (None, 128)          32896       dropout[0][0]                    \n",
      "__________________________________________________________________________________________________\n",
      "batch_normalization_v1_16 (Batc (None, 128)          512         dense_7[0][0]                    \n",
      "__________________________________________________________________________________________________\n",
      "activation_16 (Activation)      (None, 128)          0           batch_normalization_v1_16[0][0]  \n",
      "__________________________________________________________________________________________________\n",
      "dropout_1 (Dropout)             (None, 128)          0           activation_16[0][0]              \n",
      "__________________________________________________________________________________________________\n",
      "dense_8 (Dense)                 (None, 11)           1419        dropout_1[0][0]                  \n",
      "==================================================================================================\n",
      "Total params: 749,108\n",
      "Trainable params: 743,028\n",
      "Non-trainable params: 6,080\n",
      "__________________________________________________________________________________________________\n"
     ]
    }
   ],
   "source": [
    "# model\n",
    "\n",
    "inputs = keras.Input(shape=(NUM_POINTS, 3))\n",
    "\n",
    "x = tnet(inputs, 3)\n",
    "x = conv_bn(x, 32)\n",
    "x = conv_bn(x, 32)\n",
    "x = tnet(x, 32)\n",
    "x = conv_bn(x, 32)\n",
    "x = conv_bn(x, 64)\n",
    "x = conv_bn(x, 512)\n",
    "x = layers.GlobalMaxPooling1D()(x)\n",
    "x = dense_bn(x, 256)\n",
    "x = layers.Dropout(rate=0.3)(x)\n",
    "x = dense_bn(x, 128)\n",
    "x = layers.Dropout(rate=0.3)(x)\n",
    "\n",
    "outputs = layers.Dense(NUM_CLASSES, activation=\"softmax\")(x)\n",
    "\n",
    "model = keras.Model(inputs=inputs, outputs=outputs, name=\"pointnet\")\n",
    "model.summary()"
   ]
  },
  {
   "cell_type": "code",
   "execution_count": 10,
   "metadata": {},
   "outputs": [],
   "source": [
    "model.compile(\n",
    "    loss=\"sparse_categorical_crossentropy\",\n",
    "    optimizer=keras.optimizers.Adam(lr=0.001),\n",
    "    metrics=[\"sparse_categorical_accuracy\"])"
   ]
  },
  {
   "cell_type": "markdown",
   "metadata": {},
   "source": [
    "# Training"
   ]
  },
  {
   "cell_type": "code",
   "execution_count": 11,
   "metadata": {},
   "outputs": [],
   "source": [
    "def gradCAM(model, X_test, y_test, intensity=0.5, res=250):\n",
    "    \n",
    "#     fig = plt.figure()\n",
    "#     ax = fig.gca(projection='3d')\n",
    "#     print\n",
    "#     ax.plot(X_test[0][:][0], X_test[0][:][1], X_test[0][:][2])\n",
    "#     ax.legend()\n",
    "#     plt.show()\n",
    "\n",
    "    y_pred_array = model.predict(X_test)\n",
    "    y_pred = tf.math.argmax(y_pred_array, -1).eval(session=tf.Session())\n",
    "    \n",
    "    with tf.GradientTape() as tape:\n",
    "        last_conv_layer = model.layers[-13]\n",
    "        iterate = tf.keras.Model([model.inputs], [model.output, last_conv_layer.output])\n",
    "        model_out, last_conv_layer = iterate(X_test)\n",
    "        class_out = model_out[:, np.argmax(model_out[0])]\n",
    "        grads = tape.gradient(class_out, last_conv_layer)\n",
    "        pooled_grads = K.mean(grads, axis=(0, 1, 2))\n",
    "        \n",
    "    heatmap = tf.reduce_mean(tf.multiply(pooled_grads, last_conv_layer), axis=-1)\n",
    "    heatmap = np.maximum(heatmap, 0)\n",
    "    heatmap /= np.max(heatmap)\n",
    "    heatmap = heatmap.reshape((8,8))\n",
    "    \n",
    "    cv2.imshow(cv2.resize(heatmap, (res, res)))"
   ]
  },
  {
   "cell_type": "code",
   "execution_count": null,
   "metadata": {},
   "outputs": [
    {
     "name": "stderr",
     "output_type": "stream",
     "text": [
      "\r",
      "0it [00:00, ?it/s]"
     ]
    },
    {
     "name": "stdout",
     "output_type": "stream",
     "text": [
      "WARNING:tensorflow:From C:\\MyPrograms\\Anaconda3\\envs\\ai-thesis\\lib\\site-packages\\tensorflow\\python\\ops\\math_ops.py:3066: to_int32 (from tensorflow.python.ops.math_ops) is deprecated and will be removed in a future version.\n",
      "Instructions for updating:\n",
      "Use tf.cast instead.\n",
      "WARNING:tensorflow:From C:\\MyPrograms\\Anaconda3\\envs\\ai-thesis\\lib\\site-packages\\tensorflow\\python\\ops\\math_grad.py:102: div (from tensorflow.python.ops.math_ops) is deprecated and will be removed in a future version.\n",
      "Instructions for updating:\n",
      "Deprecated in favor of operator or tf.math.divide.\n",
      "Epoch 1/10\n",
      "220/220 [==============================] - 13s 58ms/sample - loss: 3.2985 - sparse_categorical_accuracy: 0.2455\n",
      "Epoch 2/10\n",
      "220/220 [==============================] - 11s 48ms/sample - loss: 2.9111 - sparse_categorical_accuracy: 0.2909\n",
      "Epoch 3/10\n",
      "220/220 [==============================] - 11s 48ms/sample - loss: 2.7085 - sparse_categorical_accuracy: 0.2773\n",
      "Epoch 4/10\n",
      "220/220 [==============================] - 11s 48ms/sample - loss: 2.5223 - sparse_categorical_accuracy: 0.3273\n",
      "Epoch 5/10\n",
      "220/220 [==============================] - 11s 49ms/sample - loss: 2.3995 - sparse_categorical_accuracy: 0.3182\n",
      "Epoch 6/10\n",
      "220/220 [==============================] - 11s 48ms/sample - loss: 2.4900 - sparse_categorical_accuracy: 0.3227\n",
      "Epoch 7/10\n",
      "220/220 [==============================] - 11s 48ms/sample - loss: 2.4279 - sparse_categorical_accuracy: 0.3727\n",
      "Epoch 8/10\n",
      "220/220 [==============================] - 11s 48ms/sample - loss: 2.3718 - sparse_categorical_accuracy: 0.3773\n",
      "Epoch 9/10\n",
      "220/220 [==============================] - 11s 48ms/sample - loss: 2.2656 - sparse_categorical_accuracy: 0.3682\n",
      "Epoch 10/10\n",
      "220/220 [==============================] - 11s 48ms/sample - loss: 2.2090 - sparse_categorical_accuracy: 0.3727\n"
     ]
    },
    {
     "name": "stderr",
     "output_type": "stream",
     "text": [
      "\r",
      "1it [01:55, 115.48s/it]"
     ]
    },
    {
     "name": "stdout",
     "output_type": "stream",
     "text": [
      "Epoch 1/10\n",
      "220/220 [==============================] - 13s 58ms/sample - loss: 2.4147 - sparse_categorical_accuracy: 0.3545\n",
      "Epoch 2/10\n",
      "220/220 [==============================] - 11s 48ms/sample - loss: 2.2851 - sparse_categorical_accuracy: 0.3636\n",
      "Epoch 3/10\n",
      "220/220 [==============================] - 11s 49ms/sample - loss: 2.4036 - sparse_categorical_accuracy: 0.3318\n",
      "Epoch 4/10\n",
      "220/220 [==============================] - 11s 48ms/sample - loss: 2.4132 - sparse_categorical_accuracy: 0.3182\n",
      "Epoch 5/10\n",
      "220/220 [==============================] - 11s 49ms/sample - loss: 2.3042 - sparse_categorical_accuracy: 0.3773\n",
      "Epoch 6/10\n",
      "220/220 [==============================] - 11s 48ms/sample - loss: 2.3600 - sparse_categorical_accuracy: 0.3591\n",
      "Epoch 7/10\n",
      "220/220 [==============================] - 11s 48ms/sample - loss: 2.3144 - sparse_categorical_accuracy: 0.3773\n",
      "Epoch 8/10\n",
      "220/220 [==============================] - 11s 48ms/sample - loss: 2.3680 - sparse_categorical_accuracy: 0.3727\n",
      "Epoch 9/10\n",
      "220/220 [==============================] - 11s 48ms/sample - loss: 2.2692 - sparse_categorical_accuracy: 0.3455\n",
      "Epoch 10/10\n",
      "220/220 [==============================] - 11s 48ms/sample - loss: 2.3567 - sparse_categorical_accuracy: 0.3773\n"
     ]
    },
    {
     "name": "stderr",
     "output_type": "stream",
     "text": [
      "\r",
      "2it [03:51, 115.70s/it]"
     ]
    },
    {
     "name": "stdout",
     "output_type": "stream",
     "text": [
      "Epoch 1/10\n",
      "220/220 [==============================] - 13s 58ms/sample - loss: 2.3696 - sparse_categorical_accuracy: 0.3818\n",
      "Epoch 2/10\n",
      "220/220 [==============================] - 11s 48ms/sample - loss: 2.2531 - sparse_categorical_accuracy: 0.3727\n",
      "Epoch 3/10\n",
      "220/220 [==============================] - 11s 48ms/sample - loss: 2.2488 - sparse_categorical_accuracy: 0.3773\n",
      "Epoch 4/10\n",
      "220/220 [==============================] - 11s 48ms/sample - loss: 2.3021 - sparse_categorical_accuracy: 0.3409\n",
      "Epoch 5/10\n",
      "220/220 [==============================] - 11s 48ms/sample - loss: 2.2053 - sparse_categorical_accuracy: 0.3500\n",
      "Epoch 6/10\n",
      "220/220 [==============================] - 11s 49ms/sample - loss: 2.1918 - sparse_categorical_accuracy: 0.3591\n",
      "Epoch 7/10\n",
      "220/220 [==============================] - 11s 48ms/sample - loss: 2.1724 - sparse_categorical_accuracy: 0.3727\n",
      "Epoch 8/10\n",
      "220/220 [==============================] - 11s 48ms/sample - loss: 2.2643 - sparse_categorical_accuracy: 0.3636\n",
      "Epoch 9/10\n",
      "220/220 [==============================] - 11s 48ms/sample - loss: 2.2307 - sparse_categorical_accuracy: 0.3909\n",
      "Epoch 10/10\n",
      "220/220 [==============================] - 11s 48ms/sample - loss: 2.2478 - sparse_categorical_accuracy: 0.3864\n"
     ]
    },
    {
     "name": "stderr",
     "output_type": "stream",
     "text": [
      "\r",
      "3it [05:48, 116.05s/it]"
     ]
    },
    {
     "name": "stdout",
     "output_type": "stream",
     "text": [
      "Epoch 1/10\n",
      "220/220 [==============================] - 13s 59ms/sample - loss: 2.2737 - sparse_categorical_accuracy: 0.3909\n",
      "Epoch 2/10\n",
      "220/220 [==============================] - 11s 48ms/sample - loss: 2.2931 - sparse_categorical_accuracy: 0.3591\n",
      "Epoch 3/10\n",
      "220/220 [==============================] - 11s 48ms/sample - loss: 2.2813 - sparse_categorical_accuracy: 0.3773\n",
      "Epoch 4/10\n",
      "220/220 [==============================] - 11s 48ms/sample - loss: 2.3480 - sparse_categorical_accuracy: 0.3727\n",
      "Epoch 5/10\n",
      "220/220 [==============================] - 11s 48ms/sample - loss: 2.1839 - sparse_categorical_accuracy: 0.3955\n",
      "Epoch 6/10\n",
      "220/220 [==============================] - 11s 49ms/sample - loss: 2.1388 - sparse_categorical_accuracy: 0.4045\n",
      "Epoch 7/10\n",
      "220/220 [==============================] - 11s 48ms/sample - loss: 2.1521 - sparse_categorical_accuracy: 0.3955\n",
      "Epoch 8/10\n",
      "220/220 [==============================] - 11s 49ms/sample - loss: 2.0957 - sparse_categorical_accuracy: 0.4227\n",
      "Epoch 9/10\n",
      "220/220 [==============================] - 11s 48ms/sample - loss: 2.1305 - sparse_categorical_accuracy: 0.3818\n",
      "Epoch 10/10\n",
      "220/220 [==============================] - 11s 48ms/sample - loss: 2.0928 - sparse_categorical_accuracy: 0.4091\n"
     ]
    },
    {
     "name": "stderr",
     "output_type": "stream",
     "text": [
      "\r",
      "4it [07:47, 116.82s/it]"
     ]
    },
    {
     "name": "stdout",
     "output_type": "stream",
     "text": [
      "Epoch 1/10\n",
      "220/220 [==============================] - 13s 60ms/sample - loss: 2.2042 - sparse_categorical_accuracy: 0.4045\n",
      "Epoch 2/10\n",
      "220/220 [==============================] - 11s 49ms/sample - loss: 2.1881 - sparse_categorical_accuracy: 0.4045\n",
      "Epoch 3/10\n",
      "220/220 [==============================] - 11s 48ms/sample - loss: 2.1929 - sparse_categorical_accuracy: 0.3864\n",
      "Epoch 4/10\n",
      "220/220 [==============================] - 11s 48ms/sample - loss: 2.1646 - sparse_categorical_accuracy: 0.4227\n",
      "Epoch 5/10\n",
      "220/220 [==============================] - 11s 49ms/sample - loss: 2.2446 - sparse_categorical_accuracy: 0.3909\n",
      "Epoch 6/10\n",
      "220/220 [==============================] - 11s 49ms/sample - loss: 2.2369 - sparse_categorical_accuracy: 0.3591\n",
      "Epoch 7/10\n",
      "220/220 [==============================] - 11s 48ms/sample - loss: 2.7307 - sparse_categorical_accuracy: 0.3727\n",
      "Epoch 8/10\n",
      "220/220 [==============================] - 11s 49ms/sample - loss: 2.4579 - sparse_categorical_accuracy: 0.3500\n",
      "Epoch 9/10\n",
      "220/220 [==============================] - 11s 49ms/sample - loss: 2.2990 - sparse_categorical_accuracy: 0.3773\n",
      "Epoch 10/10\n",
      "220/220 [==============================] - 11s 48ms/sample - loss: 2.2492 - sparse_categorical_accuracy: 0.4182\n"
     ]
    },
    {
     "name": "stderr",
     "output_type": "stream",
     "text": [
      "\r",
      "5it [09:46, 117.65s/it]"
     ]
    },
    {
     "name": "stdout",
     "output_type": "stream",
     "text": [
      "Epoch 1/10\n",
      "220/220 [==============================] - 13s 60ms/sample - loss: 2.3033 - sparse_categorical_accuracy: 0.3864\n",
      "Epoch 2/10\n",
      "220/220 [==============================] - 11s 50ms/sample - loss: 2.1601 - sparse_categorical_accuracy: 0.3682\n",
      "Epoch 3/10\n",
      "220/220 [==============================] - 11s 49ms/sample - loss: 2.2007 - sparse_categorical_accuracy: 0.3591\n",
      "Epoch 4/10\n",
      "220/220 [==============================] - 11s 49ms/sample - loss: 2.4054 - sparse_categorical_accuracy: 0.3227\n",
      "Epoch 5/10\n",
      "220/220 [==============================] - 11s 49ms/sample - loss: 2.2301 - sparse_categorical_accuracy: 0.4091\n",
      "Epoch 6/10\n",
      "220/220 [==============================] - 11s 49ms/sample - loss: 2.2413 - sparse_categorical_accuracy: 0.3909\n",
      "Epoch 7/10\n",
      "220/220 [==============================] - 11s 49ms/sample - loss: 2.2502 - sparse_categorical_accuracy: 0.3682\n",
      "Epoch 8/10\n",
      "220/220 [==============================] - 11s 49ms/sample - loss: 2.2743 - sparse_categorical_accuracy: 0.3955\n",
      "Epoch 9/10\n",
      "220/220 [==============================] - 11s 49ms/sample - loss: 2.1707 - sparse_categorical_accuracy: 0.3955\n",
      "Epoch 10/10\n",
      "220/220 [==============================] - 11s 49ms/sample - loss: 2.1542 - sparse_categorical_accuracy: 0.4227\n"
     ]
    },
    {
     "name": "stderr",
     "output_type": "stream",
     "text": [
      "\r",
      "6it [11:47, 118.69s/it]"
     ]
    },
    {
     "name": "stdout",
     "output_type": "stream",
     "text": [
      "Epoch 1/10\n",
      "220/220 [==============================] - 13s 60ms/sample - loss: 2.4877 - sparse_categorical_accuracy: 0.3455\n",
      "Epoch 2/10\n",
      "220/220 [==============================] - 11s 49ms/sample - loss: 2.2553 - sparse_categorical_accuracy: 0.3727\n",
      "Epoch 3/10\n",
      "220/220 [==============================] - 11s 49ms/sample - loss: 2.2095 - sparse_categorical_accuracy: 0.4045\n",
      "Epoch 4/10\n",
      "220/220 [==============================] - 11s 49ms/sample - loss: 2.2006 - sparse_categorical_accuracy: 0.4000\n",
      "Epoch 5/10\n",
      "220/220 [==============================] - 11s 49ms/sample - loss: 2.2682 - sparse_categorical_accuracy: 0.3909\n",
      "Epoch 6/10\n",
      "220/220 [==============================] - 11s 49ms/sample - loss: 2.2168 - sparse_categorical_accuracy: 0.3864\n",
      "Epoch 7/10\n",
      "220/220 [==============================] - 11s 49ms/sample - loss: 2.1242 - sparse_categorical_accuracy: 0.4000\n",
      "Epoch 8/10\n",
      "220/220 [==============================] - 11s 49ms/sample - loss: 2.1428 - sparse_categorical_accuracy: 0.4045\n",
      "Epoch 9/10\n",
      "220/220 [==============================] - 11s 49ms/sample - loss: 2.1682 - sparse_categorical_accuracy: 0.3864\n",
      "Epoch 10/10\n",
      "220/220 [==============================] - 11s 49ms/sample - loss: 2.2620 - sparse_categorical_accuracy: 0.3909\n"
     ]
    },
    {
     "name": "stderr",
     "output_type": "stream",
     "text": [
      "\r",
      "7it [13:49, 119.67s/it]"
     ]
    },
    {
     "name": "stdout",
     "output_type": "stream",
     "text": [
      "Epoch 1/10\n",
      "220/220 [==============================] - 13s 60ms/sample - loss: 2.1540 - sparse_categorical_accuracy: 0.4045\n",
      "Epoch 2/10\n",
      "220/220 [==============================] - 11s 49ms/sample - loss: 2.0906 - sparse_categorical_accuracy: 0.4000\n",
      "Epoch 3/10\n",
      "220/220 [==============================] - 11s 49ms/sample - loss: 2.0496 - sparse_categorical_accuracy: 0.4136\n",
      "Epoch 4/10\n",
      "220/220 [==============================] - 11s 49ms/sample - loss: 2.1692 - sparse_categorical_accuracy: 0.3955\n",
      "Epoch 5/10\n",
      "220/220 [==============================] - 11s 49ms/sample - loss: 2.1163 - sparse_categorical_accuracy: 0.3909\n",
      "Epoch 6/10\n",
      "220/220 [==============================] - 11s 49ms/sample - loss: 2.0950 - sparse_categorical_accuracy: 0.4000\n",
      "Epoch 7/10\n",
      "220/220 [==============================] - 11s 50ms/sample - loss: 2.1310 - sparse_categorical_accuracy: 0.4136\n",
      "Epoch 8/10\n",
      "220/220 [==============================] - 11s 49ms/sample - loss: 2.1335 - sparse_categorical_accuracy: 0.3955\n",
      "Epoch 9/10\n",
      "220/220 [==============================] - 11s 49ms/sample - loss: 2.2107 - sparse_categorical_accuracy: 0.4000\n",
      "Epoch 10/10\n",
      "220/220 [==============================] - 11s 49ms/sample - loss: 2.1717 - sparse_categorical_accuracy: 0.4000\n"
     ]
    },
    {
     "name": "stderr",
     "output_type": "stream",
     "text": [
      "\r",
      "8it [15:53, 120.87s/it]"
     ]
    },
    {
     "name": "stdout",
     "output_type": "stream",
     "text": [
      "Epoch 1/10\n",
      "220/220 [==============================] - 13s 61ms/sample - loss: 2.2345 - sparse_categorical_accuracy: 0.4045\n",
      "Epoch 2/10\n",
      "220/220 [==============================] - 11s 49ms/sample - loss: 2.2046 - sparse_categorical_accuracy: 0.3909\n",
      "Epoch 3/10\n",
      "220/220 [==============================] - 11s 49ms/sample - loss: 2.1442 - sparse_categorical_accuracy: 0.4136\n",
      "Epoch 4/10\n",
      "220/220 [==============================] - 11s 49ms/sample - loss: 2.2001 - sparse_categorical_accuracy: 0.3727\n",
      "Epoch 5/10\n",
      "220/220 [==============================] - 11s 49ms/sample - loss: 2.1228 - sparse_categorical_accuracy: 0.3773\n",
      "Epoch 6/10\n",
      "220/220 [==============================] - 11s 50ms/sample - loss: 2.1154 - sparse_categorical_accuracy: 0.4000\n",
      "Epoch 7/10\n",
      "220/220 [==============================] - 11s 49ms/sample - loss: 2.1410 - sparse_categorical_accuracy: 0.4091\n",
      "Epoch 8/10\n",
      "220/220 [==============================] - 11s 49ms/sample - loss: 2.1141 - sparse_categorical_accuracy: 0.4000\n",
      "Epoch 9/10\n",
      "220/220 [==============================] - 11s 49ms/sample - loss: 2.1423 - sparse_categorical_accuracy: 0.4091\n",
      "Epoch 10/10\n",
      "220/220 [==============================] - 11s 49ms/sample - loss: 2.1029 - sparse_categorical_accuracy: 0.4045\n"
     ]
    },
    {
     "name": "stderr",
     "output_type": "stream",
     "text": [
      "\r",
      "9it [17:58, 122.01s/it]"
     ]
    },
    {
     "name": "stdout",
     "output_type": "stream",
     "text": [
      "Epoch 1/10\n",
      "220/220 [==============================] - 13s 61ms/sample - loss: 2.1163 - sparse_categorical_accuracy: 0.3955\n",
      "Epoch 2/10\n",
      "220/220 [==============================] - 11s 49ms/sample - loss: 2.0194 - sparse_categorical_accuracy: 0.4500\n",
      "Epoch 3/10\n",
      "220/220 [==============================] - 11s 49ms/sample - loss: 2.1781 - sparse_categorical_accuracy: 0.3818\n",
      "Epoch 4/10\n",
      "220/220 [==============================] - 11s 50ms/sample - loss: 2.1700 - sparse_categorical_accuracy: 0.4000\n",
      "Epoch 5/10\n",
      "220/220 [==============================] - 11s 49ms/sample - loss: 2.1304 - sparse_categorical_accuracy: 0.4000\n",
      "Epoch 6/10\n",
      "220/220 [==============================] - 11s 50ms/sample - loss: 2.1209 - sparse_categorical_accuracy: 0.4045\n",
      "Epoch 7/10\n",
      "220/220 [==============================] - 11s 50ms/sample - loss: 2.0487 - sparse_categorical_accuracy: 0.4045\n",
      "Epoch 8/10\n",
      "220/220 [==============================] - 11s 49ms/sample - loss: 2.0633 - sparse_categorical_accuracy: 0.4273\n",
      "Epoch 9/10\n",
      "220/220 [==============================] - 11s 49ms/sample - loss: 2.1167 - sparse_categorical_accuracy: 0.4091\n",
      "Epoch 10/10\n",
      "220/220 [==============================] - 11s 49ms/sample - loss: 2.1424 - sparse_categorical_accuracy: 0.4136\n"
     ]
    },
    {
     "name": "stderr",
     "output_type": "stream",
     "text": [
      "\r",
      "10it [20:05, 123.61s/it]"
     ]
    },
    {
     "name": "stdout",
     "output_type": "stream",
     "text": [
      "Epoch 1/10\n",
      "220/220 [==============================] - 14s 62ms/sample - loss: 2.0628 - sparse_categorical_accuracy: 0.4136\n",
      "Epoch 2/10\n",
      "220/220 [==============================] - 11s 50ms/sample - loss: 2.1246 - sparse_categorical_accuracy: 0.3818\n",
      "Epoch 3/10\n",
      "220/220 [==============================] - 11s 50ms/sample - loss: 2.1055 - sparse_categorical_accuracy: 0.4045\n",
      "Epoch 4/10\n",
      "220/220 [==============================] - 11s 50ms/sample - loss: 2.0697 - sparse_categorical_accuracy: 0.4136\n",
      "Epoch 5/10\n",
      "220/220 [==============================] - 11s 50ms/sample - loss: 2.0334 - sparse_categorical_accuracy: 0.4000\n",
      "Epoch 6/10\n",
      "220/220 [==============================] - 11s 50ms/sample - loss: 2.0925 - sparse_categorical_accuracy: 0.3909\n",
      "Epoch 7/10\n",
      "220/220 [==============================] - 11s 50ms/sample - loss: 2.1137 - sparse_categorical_accuracy: 0.4136\n",
      "Epoch 8/10\n",
      "220/220 [==============================] - 11s 50ms/sample - loss: 2.0966 - sparse_categorical_accuracy: 0.4182\n",
      "Epoch 9/10\n",
      "220/220 [==============================] - 11s 50ms/sample - loss: 2.1610 - sparse_categorical_accuracy: 0.4000\n",
      "Epoch 10/10\n",
      "220/220 [==============================] - 11s 50ms/sample - loss: 2.0854 - sparse_categorical_accuracy: 0.4182\n"
     ]
    },
    {
     "name": "stderr",
     "output_type": "stream",
     "text": [
      "\r",
      "11it [22:14, 125.17s/it]"
     ]
    },
    {
     "name": "stdout",
     "output_type": "stream",
     "text": [
      "Epoch 1/10\n",
      "220/220 [==============================] - 14s 62ms/sample - loss: 2.2206 - sparse_categorical_accuracy: 0.3909\n",
      "Epoch 2/10\n",
      "220/220 [==============================] - 11s 50ms/sample - loss: 2.0911 - sparse_categorical_accuracy: 0.4091\n",
      "Epoch 3/10\n",
      "220/220 [==============================] - 11s 50ms/sample - loss: 2.0353 - sparse_categorical_accuracy: 0.4273\n",
      "Epoch 4/10\n",
      "220/220 [==============================] - 11s 51ms/sample - loss: 2.0020 - sparse_categorical_accuracy: 0.4227\n",
      "Epoch 5/10\n",
      "220/220 [==============================] - 11s 51ms/sample - loss: 2.1832 - sparse_categorical_accuracy: 0.3864\n",
      "Epoch 6/10\n",
      "220/220 [==============================] - 11s 50ms/sample - loss: 2.0800 - sparse_categorical_accuracy: 0.4091\n",
      "Epoch 7/10\n",
      "220/220 [==============================] - 11s 50ms/sample - loss: 2.1115 - sparse_categorical_accuracy: 0.4182\n",
      "Epoch 8/10\n",
      "220/220 [==============================] - 11s 50ms/sample - loss: 2.0523 - sparse_categorical_accuracy: 0.4182\n",
      "Epoch 9/10\n",
      "220/220 [==============================] - 11s 50ms/sample - loss: 2.1694 - sparse_categorical_accuracy: 0.3773\n",
      "Epoch 10/10\n",
      "220/220 [==============================] - 11s 51ms/sample - loss: 2.0920 - sparse_categorical_accuracy: 0.4091\n"
     ]
    },
    {
     "name": "stderr",
     "output_type": "stream",
     "text": [
      "\r",
      "12it [24:25, 126.87s/it]"
     ]
    },
    {
     "name": "stdout",
     "output_type": "stream",
     "text": [
      "Epoch 1/10\n",
      "220/220 [==============================] - 14s 63ms/sample - loss: 2.0883 - sparse_categorical_accuracy: 0.4227\n",
      "Epoch 2/10\n",
      "220/220 [==============================] - 11s 51ms/sample - loss: 2.1162 - sparse_categorical_accuracy: 0.3909\n",
      "Epoch 3/10\n",
      "220/220 [==============================] - 11s 52ms/sample - loss: 2.1279 - sparse_categorical_accuracy: 0.3864\n",
      "Epoch 4/10\n",
      "220/220 [==============================] - 11s 51ms/sample - loss: 2.1041 - sparse_categorical_accuracy: 0.4000\n",
      "Epoch 5/10\n",
      "220/220 [==============================] - 11s 51ms/sample - loss: 2.0761 - sparse_categorical_accuracy: 0.3818\n",
      "Epoch 6/10\n",
      "220/220 [==============================] - 11s 51ms/sample - loss: 2.0758 - sparse_categorical_accuracy: 0.3909\n",
      "Epoch 7/10\n",
      "220/220 [==============================] - 11s 51ms/sample - loss: 2.0502 - sparse_categorical_accuracy: 0.4091\n",
      "Epoch 8/10\n",
      "220/220 [==============================] - 11s 51ms/sample - loss: 2.1652 - sparse_categorical_accuracy: 0.4000\n",
      "Epoch 9/10\n",
      "220/220 [==============================] - 11s 51ms/sample - loss: 2.1351 - sparse_categorical_accuracy: 0.3773\n",
      "Epoch 10/10\n",
      "220/220 [==============================] - 11s 51ms/sample - loss: 2.1070 - sparse_categorical_accuracy: 0.4000\n"
     ]
    },
    {
     "name": "stderr",
     "output_type": "stream",
     "text": [
      "\r",
      "13it [26:39, 128.97s/it]"
     ]
    },
    {
     "name": "stdout",
     "output_type": "stream",
     "text": [
      "Epoch 1/10\n",
      "220/220 [==============================] - 14s 63ms/sample - loss: 2.0954 - sparse_categorical_accuracy: 0.3909\n",
      "Epoch 2/10\n",
      "220/220 [==============================] - 11s 51ms/sample - loss: 2.0383 - sparse_categorical_accuracy: 0.4000\n",
      "Epoch 3/10\n",
      "220/220 [==============================] - 11s 51ms/sample - loss: 2.1683 - sparse_categorical_accuracy: 0.3727\n",
      "Epoch 4/10\n",
      "220/220 [==============================] - 11s 51ms/sample - loss: 2.0407 - sparse_categorical_accuracy: 0.4364\n",
      "Epoch 5/10\n",
      "220/220 [==============================] - 11s 51ms/sample - loss: 2.0291 - sparse_categorical_accuracy: 0.4227\n",
      "Epoch 6/10\n",
      "220/220 [==============================] - 11s 51ms/sample - loss: 2.0217 - sparse_categorical_accuracy: 0.4182\n",
      "Epoch 7/10\n",
      "220/220 [==============================] - 11s 51ms/sample - loss: 2.0687 - sparse_categorical_accuracy: 0.4182\n",
      "Epoch 8/10\n",
      "220/220 [==============================] - 11s 51ms/sample - loss: 2.0187 - sparse_categorical_accuracy: 0.4091\n",
      "Epoch 9/10\n",
      "220/220 [==============================] - 11s 51ms/sample - loss: 1.9690 - sparse_categorical_accuracy: 0.4227\n",
      "Epoch 10/10\n",
      "220/220 [==============================] - 11s 51ms/sample - loss: 2.0578 - sparse_categorical_accuracy: 0.4227\n"
     ]
    },
    {
     "name": "stderr",
     "output_type": "stream",
     "text": [
      "\r",
      "14it [28:53, 130.62s/it]"
     ]
    },
    {
     "name": "stdout",
     "output_type": "stream",
     "text": [
      "Epoch 1/10\n",
      "220/220 [==============================] - 14s 65ms/sample - loss: 2.1176 - sparse_categorical_accuracy: 0.4182\n",
      "Epoch 2/10\n",
      "220/220 [==============================] - 11s 51ms/sample - loss: 2.0789 - sparse_categorical_accuracy: 0.3909\n",
      "Epoch 3/10\n",
      "220/220 [==============================] - 11s 51ms/sample - loss: 2.0317 - sparse_categorical_accuracy: 0.4318\n",
      "Epoch 4/10\n",
      "220/220 [==============================] - 11s 51ms/sample - loss: 1.9700 - sparse_categorical_accuracy: 0.4136\n",
      "Epoch 5/10\n",
      "220/220 [==============================] - 11s 51ms/sample - loss: 2.0898 - sparse_categorical_accuracy: 0.4091\n",
      "Epoch 6/10\n",
      "220/220 [==============================] - 11s 51ms/sample - loss: 2.0100 - sparse_categorical_accuracy: 0.4136\n",
      "Epoch 7/10\n",
      "220/220 [==============================] - 11s 52ms/sample - loss: 2.0066 - sparse_categorical_accuracy: 0.4318\n",
      "Epoch 8/10\n",
      "220/220 [==============================] - 11s 51ms/sample - loss: 2.0350 - sparse_categorical_accuracy: 0.4136\n",
      "Epoch 9/10\n",
      "220/220 [==============================] - 11s 51ms/sample - loss: 1.9845 - sparse_categorical_accuracy: 0.4227\n",
      "Epoch 10/10\n",
      "220/220 [==============================] - 11s 51ms/sample - loss: 2.1424 - sparse_categorical_accuracy: 0.3909\n"
     ]
    },
    {
     "name": "stderr",
     "output_type": "stream",
     "text": [
      "\r",
      "15it [31:10, 132.51s/it]"
     ]
    },
    {
     "name": "stdout",
     "output_type": "stream",
     "text": [
      "Epoch 1/10\n",
      "220/220 [==============================] - 14s 65ms/sample - loss: 1.9931 - sparse_categorical_accuracy: 0.4273\n",
      "Epoch 2/10\n",
      "220/220 [==============================] - 11s 52ms/sample - loss: 2.0281 - sparse_categorical_accuracy: 0.4045\n",
      "Epoch 3/10\n",
      "220/220 [==============================] - 11s 52ms/sample - loss: 2.0236 - sparse_categorical_accuracy: 0.3773\n",
      "Epoch 4/10\n",
      "220/220 [==============================] - 11s 52ms/sample - loss: 2.0348 - sparse_categorical_accuracy: 0.4318\n",
      "Epoch 5/10\n",
      "220/220 [==============================] - 12s 53ms/sample - loss: 2.0936 - sparse_categorical_accuracy: 0.3955\n",
      "Epoch 6/10\n",
      "220/220 [==============================] - 11s 52ms/sample - loss: 1.9972 - sparse_categorical_accuracy: 0.4273\n",
      "Epoch 7/10\n",
      "220/220 [==============================] - 11s 52ms/sample - loss: 1.9571 - sparse_categorical_accuracy: 0.4091\n",
      "Epoch 8/10\n",
      "220/220 [==============================] - 11s 52ms/sample - loss: 2.0411 - sparse_categorical_accuracy: 0.4045\n",
      "Epoch 9/10\n",
      "220/220 [==============================] - 11s 52ms/sample - loss: 1.9562 - sparse_categorical_accuracy: 0.4318\n",
      "Epoch 10/10\n",
      "220/220 [==============================] - 12s 53ms/sample - loss: 2.0175 - sparse_categorical_accuracy: 0.3864\n"
     ]
    },
    {
     "name": "stderr",
     "output_type": "stream",
     "text": [
      "\r",
      "16it [33:31, 134.94s/it]"
     ]
    },
    {
     "name": "stdout",
     "output_type": "stream",
     "text": [
      "Epoch 1/10\n",
      "220/220 [==============================] - 14s 65ms/sample - loss: 1.9970 - sparse_categorical_accuracy: 0.4318\n",
      "Epoch 2/10\n",
      "220/220 [==============================] - 11s 52ms/sample - loss: 2.0045 - sparse_categorical_accuracy: 0.4091\n",
      "Epoch 3/10\n",
      "220/220 [==============================] - 12s 52ms/sample - loss: 1.9523 - sparse_categorical_accuracy: 0.4182\n",
      "Epoch 4/10\n",
      "220/220 [==============================] - 11s 52ms/sample - loss: 2.0161 - sparse_categorical_accuracy: 0.4409\n",
      "Epoch 5/10\n",
      "220/220 [==============================] - 11s 52ms/sample - loss: 2.0745 - sparse_categorical_accuracy: 0.4273\n",
      "Epoch 6/10\n",
      "220/220 [==============================] - 11s 52ms/sample - loss: 2.0938 - sparse_categorical_accuracy: 0.4182\n",
      "Epoch 7/10\n",
      "220/220 [==============================] - 11s 52ms/sample - loss: 2.0075 - sparse_categorical_accuracy: 0.4136\n",
      "Epoch 8/10\n",
      "220/220 [==============================] - 11s 52ms/sample - loss: 2.0300 - sparse_categorical_accuracy: 0.4136\n",
      "Epoch 9/10\n",
      "220/220 [==============================] - 12s 52ms/sample - loss: 1.9933 - sparse_categorical_accuracy: 0.4227\n",
      "Epoch 10/10\n",
      "220/220 [==============================] - 11s 52ms/sample - loss: 2.0211 - sparse_categorical_accuracy: 0.4091\n"
     ]
    },
    {
     "name": "stderr",
     "output_type": "stream",
     "text": [
      "\r",
      "17it [35:52, 136.84s/it]"
     ]
    },
    {
     "name": "stdout",
     "output_type": "stream",
     "text": [
      "Epoch 1/10\n",
      "220/220 [==============================] - 14s 66ms/sample - loss: 2.0599 - sparse_categorical_accuracy: 0.4136\n",
      "Epoch 2/10\n",
      "220/220 [==============================] - 12s 53ms/sample - loss: 2.0053 - sparse_categorical_accuracy: 0.4136\n",
      "Epoch 3/10\n",
      "220/220 [==============================] - 11s 52ms/sample - loss: 1.9595 - sparse_categorical_accuracy: 0.4318\n",
      "Epoch 4/10\n",
      "220/220 [==============================] - 11s 52ms/sample - loss: 2.0620 - sparse_categorical_accuracy: 0.4091\n",
      "Epoch 5/10\n",
      "220/220 [==============================] - 12s 52ms/sample - loss: 1.9723 - sparse_categorical_accuracy: 0.4227\n",
      "Epoch 6/10\n",
      "220/220 [==============================] - 12s 53ms/sample - loss: 1.9644 - sparse_categorical_accuracy: 0.4409\n",
      "Epoch 7/10\n",
      "220/220 [==============================] - 12s 53ms/sample - loss: 1.9932 - sparse_categorical_accuracy: 0.4136\n",
      "Epoch 8/10\n",
      "220/220 [==============================] - 12s 52ms/sample - loss: 2.0087 - sparse_categorical_accuracy: 0.3864\n",
      "Epoch 9/10\n",
      "220/220 [==============================] - 12s 52ms/sample - loss: 2.0279 - sparse_categorical_accuracy: 0.4000\n",
      "Epoch 10/10\n",
      "220/220 [==============================] - 11s 52ms/sample - loss: 1.9694 - sparse_categorical_accuracy: 0.3955\n"
     ]
    },
    {
     "name": "stderr",
     "output_type": "stream",
     "text": [
      "\r",
      "18it [38:16, 138.93s/it]"
     ]
    },
    {
     "name": "stdout",
     "output_type": "stream",
     "text": [
      "Epoch 1/10\n",
      "220/220 [==============================] - 15s 66ms/sample - loss: 2.1071 - sparse_categorical_accuracy: 0.4091\n",
      "Epoch 2/10\n",
      "220/220 [==============================] - 12s 53ms/sample - loss: 2.0529 - sparse_categorical_accuracy: 0.4273\n",
      "Epoch 3/10\n",
      "220/220 [==============================] - 12s 53ms/sample - loss: 1.9608 - sparse_categorical_accuracy: 0.4136\n",
      "Epoch 4/10\n",
      "220/220 [==============================] - 12s 53ms/sample - loss: 2.0009 - sparse_categorical_accuracy: 0.4091\n",
      "Epoch 5/10\n",
      "220/220 [==============================] - 12s 53ms/sample - loss: 1.9549 - sparse_categorical_accuracy: 0.4409\n",
      "Epoch 6/10\n",
      "220/220 [==============================] - 12s 53ms/sample - loss: 1.9742 - sparse_categorical_accuracy: 0.4045\n",
      "Epoch 7/10\n",
      "220/220 [==============================] - 12s 53ms/sample - loss: 1.9776 - sparse_categorical_accuracy: 0.4364\n",
      "Epoch 8/10\n",
      "220/220 [==============================] - 12s 53ms/sample - loss: 1.9730 - sparse_categorical_accuracy: 0.4409\n",
      "Epoch 9/10\n",
      "220/220 [==============================] - 12s 53ms/sample - loss: 1.9957 - sparse_categorical_accuracy: 0.4545\n",
      "Epoch 10/10\n",
      "220/220 [==============================] - 12s 53ms/sample - loss: 1.9630 - sparse_categorical_accuracy: 0.4409\n"
     ]
    },
    {
     "name": "stderr",
     "output_type": "stream",
     "text": [
      "\r",
      "19it [40:42, 141.12s/it]"
     ]
    },
    {
     "name": "stdout",
     "output_type": "stream",
     "text": [
      "Epoch 1/10\n",
      "220/220 [==============================] - 15s 67ms/sample - loss: 2.0626 - sparse_categorical_accuracy: 0.4409\n",
      "Epoch 2/10\n",
      "220/220 [==============================] - 12s 54ms/sample - loss: 1.9824 - sparse_categorical_accuracy: 0.4045\n",
      "Epoch 3/10\n",
      "220/220 [==============================] - 12s 53ms/sample - loss: 1.9926 - sparse_categorical_accuracy: 0.3818\n",
      "Epoch 4/10\n",
      "220/220 [==============================] - 12s 53ms/sample - loss: 1.9816 - sparse_categorical_accuracy: 0.4364\n",
      "Epoch 5/10\n",
      "220/220 [==============================] - 12s 53ms/sample - loss: 1.9863 - sparse_categorical_accuracy: 0.4182\n",
      "Epoch 6/10\n",
      "220/220 [==============================] - 12s 53ms/sample - loss: 1.9967 - sparse_categorical_accuracy: 0.3909\n",
      "Epoch 7/10\n",
      "220/220 [==============================] - 12s 53ms/sample - loss: 1.9331 - sparse_categorical_accuracy: 0.4591\n",
      "Epoch 8/10\n",
      "220/220 [==============================] - 12s 54ms/sample - loss: 2.0172 - sparse_categorical_accuracy: 0.4318\n",
      "Epoch 9/10\n",
      "220/220 [==============================] - 12s 53ms/sample - loss: 1.9644 - sparse_categorical_accuracy: 0.4182\n",
      "Epoch 10/10\n",
      "220/220 [==============================] - 12s 53ms/sample - loss: 1.9518 - sparse_categorical_accuracy: 0.4318\n"
     ]
    },
    {
     "name": "stderr",
     "output_type": "stream",
     "text": [
      "\r",
      "20it [43:12, 143.76s/it]"
     ]
    },
    {
     "name": "stdout",
     "output_type": "stream",
     "text": [
      "Epoch 1/10\n",
      "220/220 [==============================] - 15s 68ms/sample - loss: 1.9638 - sparse_categorical_accuracy: 0.4182\n",
      "Epoch 2/10\n",
      "220/220 [==============================] - 12s 54ms/sample - loss: 1.9929 - sparse_categorical_accuracy: 0.4045\n",
      "Epoch 3/10\n",
      "220/220 [==============================] - 12s 54ms/sample - loss: 1.9741 - sparse_categorical_accuracy: 0.4000\n",
      "Epoch 4/10\n",
      "220/220 [==============================] - 12s 53ms/sample - loss: 1.9780 - sparse_categorical_accuracy: 0.4318\n",
      "Epoch 5/10\n",
      "220/220 [==============================] - 12s 54ms/sample - loss: 2.0480 - sparse_categorical_accuracy: 0.3773\n",
      "Epoch 6/10\n",
      "220/220 [==============================] - 12s 53ms/sample - loss: 1.9088 - sparse_categorical_accuracy: 0.4091\n",
      "Epoch 7/10\n",
      "220/220 [==============================] - 12s 53ms/sample - loss: 1.9894 - sparse_categorical_accuracy: 0.3955\n",
      "Epoch 8/10\n",
      "220/220 [==============================] - 12s 54ms/sample - loss: 1.9459 - sparse_categorical_accuracy: 0.4409\n",
      "Epoch 9/10\n",
      "220/220 [==============================] - 12s 54ms/sample - loss: 2.0102 - sparse_categorical_accuracy: 0.4182\n",
      "Epoch 10/10\n",
      "220/220 [==============================] - 12s 54ms/sample - loss: 2.0017 - sparse_categorical_accuracy: 0.4227\n"
     ]
    },
    {
     "name": "stderr",
     "output_type": "stream",
     "text": [
      "\r",
      "21it [45:43, 145.97s/it]"
     ]
    },
    {
     "name": "stdout",
     "output_type": "stream",
     "text": [
      "Epoch 1/10\n",
      "220/220 [==============================] - 15s 68ms/sample - loss: 2.0082 - sparse_categorical_accuracy: 0.4182\n",
      "Epoch 2/10\n",
      "220/220 [==============================] - 12s 54ms/sample - loss: 1.9375 - sparse_categorical_accuracy: 0.4182\n",
      "Epoch 3/10\n",
      "220/220 [==============================] - 12s 55ms/sample - loss: 2.0263 - sparse_categorical_accuracy: 0.3955\n",
      "Epoch 4/10\n",
      "220/220 [==============================] - 12s 54ms/sample - loss: 1.9402 - sparse_categorical_accuracy: 0.4455\n",
      "Epoch 5/10\n",
      "220/220 [==============================] - 12s 54ms/sample - loss: 1.9972 - sparse_categorical_accuracy: 0.4409\n",
      "Epoch 6/10\n",
      "220/220 [==============================] - 12s 54ms/sample - loss: 1.9087 - sparse_categorical_accuracy: 0.4318\n",
      "Epoch 7/10\n",
      "220/220 [==============================] - 12s 54ms/sample - loss: 1.9767 - sparse_categorical_accuracy: 0.4455\n",
      "Epoch 8/10\n",
      "220/220 [==============================] - 12s 55ms/sample - loss: 1.9610 - sparse_categorical_accuracy: 0.4227\n",
      "Epoch 9/10\n",
      "220/220 [==============================] - 12s 54ms/sample - loss: 1.8834 - sparse_categorical_accuracy: 0.4682\n",
      "Epoch 10/10\n",
      "220/220 [==============================] - 12s 54ms/sample - loss: 1.9431 - sparse_categorical_accuracy: 0.4409\n"
     ]
    },
    {
     "name": "stderr",
     "output_type": "stream",
     "text": [
      "\r",
      "22it [48:16, 148.21s/it]"
     ]
    },
    {
     "name": "stdout",
     "output_type": "stream",
     "text": [
      "Epoch 1/10\n",
      "220/220 [==============================] - 15s 69ms/sample - loss: 1.9447 - sparse_categorical_accuracy: 0.4273\n",
      "Epoch 2/10\n",
      "220/220 [==============================] - 12s 54ms/sample - loss: 1.9370 - sparse_categorical_accuracy: 0.4273\n",
      "Epoch 3/10\n",
      "220/220 [==============================] - 12s 54ms/sample - loss: 1.9967 - sparse_categorical_accuracy: 0.4227\n",
      "Epoch 4/10\n",
      "220/220 [==============================] - 12s 54ms/sample - loss: 1.9033 - sparse_categorical_accuracy: 0.4409\n",
      "Epoch 5/10\n",
      "220/220 [==============================] - 12s 55ms/sample - loss: 1.9458 - sparse_categorical_accuracy: 0.4455\n",
      "Epoch 6/10\n",
      "220/220 [==============================] - 12s 54ms/sample - loss: 1.8817 - sparse_categorical_accuracy: 0.4636\n",
      "Epoch 7/10\n",
      "220/220 [==============================] - 12s 54ms/sample - loss: 1.9309 - sparse_categorical_accuracy: 0.4409\n",
      "Epoch 8/10\n",
      "220/220 [==============================] - 12s 54ms/sample - loss: 1.9714 - sparse_categorical_accuracy: 0.4136\n",
      "Epoch 9/10\n",
      "220/220 [==============================] - 12s 54ms/sample - loss: 1.9240 - sparse_categorical_accuracy: 0.4182\n",
      "Epoch 10/10\n",
      "220/220 [==============================] - 12s 55ms/sample - loss: 1.9559 - sparse_categorical_accuracy: 0.4364\n"
     ]
    },
    {
     "name": "stderr",
     "output_type": "stream",
     "text": [
      "\r",
      "23it [50:52, 150.36s/it]"
     ]
    },
    {
     "name": "stdout",
     "output_type": "stream",
     "text": [
      "Epoch 1/10\n",
      "220/220 [==============================] - 15s 69ms/sample - loss: 2.0201 - sparse_categorical_accuracy: 0.4273\n",
      "Epoch 2/10\n",
      "220/220 [==============================] - 12s 55ms/sample - loss: 1.9347 - sparse_categorical_accuracy: 0.4227\n",
      "Epoch 3/10\n",
      "220/220 [==============================] - 12s 55ms/sample - loss: 1.9069 - sparse_categorical_accuracy: 0.4409\n",
      "Epoch 4/10\n",
      "220/220 [==============================] - 12s 54ms/sample - loss: 1.8696 - sparse_categorical_accuracy: 0.4318\n",
      "Epoch 5/10\n",
      "220/220 [==============================] - 12s 55ms/sample - loss: 1.8898 - sparse_categorical_accuracy: 0.4273\n",
      "Epoch 6/10\n",
      "220/220 [==============================] - 12s 54ms/sample - loss: 2.0934 - sparse_categorical_accuracy: 0.4136\n",
      "Epoch 7/10\n",
      "220/220 [==============================] - 12s 55ms/sample - loss: 1.9551 - sparse_categorical_accuracy: 0.4182\n",
      "Epoch 8/10\n",
      "220/220 [==============================] - 12s 54ms/sample - loss: 1.8936 - sparse_categorical_accuracy: 0.4318\n",
      "Epoch 9/10\n",
      "220/220 [==============================] - 12s 54ms/sample - loss: 1.9022 - sparse_categorical_accuracy: 0.4273\n",
      "Epoch 10/10\n",
      "220/220 [==============================] - 12s 55ms/sample - loss: 1.9348 - sparse_categorical_accuracy: 0.4409\n"
     ]
    },
    {
     "name": "stderr",
     "output_type": "stream",
     "text": [
      "\r",
      "24it [53:30, 152.70s/it]"
     ]
    },
    {
     "name": "stdout",
     "output_type": "stream",
     "text": [
      "Epoch 1/10\n",
      "220/220 [==============================] - 16s 71ms/sample - loss: 1.9423 - sparse_categorical_accuracy: 0.4045\n",
      "Epoch 2/10\n",
      "220/220 [==============================] - 12s 56ms/sample - loss: 1.9429 - sparse_categorical_accuracy: 0.4409\n",
      "Epoch 3/10\n",
      "220/220 [==============================] - 12s 55ms/sample - loss: 2.0286 - sparse_categorical_accuracy: 0.3909\n",
      "Epoch 4/10\n",
      "220/220 [==============================] - 12s 56ms/sample - loss: 1.8732 - sparse_categorical_accuracy: 0.4682\n",
      "Epoch 5/10\n",
      "220/220 [==============================] - 12s 56ms/sample - loss: 1.9965 - sparse_categorical_accuracy: 0.4500\n",
      "Epoch 6/10\n",
      "220/220 [==============================] - 12s 56ms/sample - loss: 1.8941 - sparse_categorical_accuracy: 0.4273\n",
      "Epoch 7/10\n",
      "220/220 [==============================] - 12s 56ms/sample - loss: 1.8797 - sparse_categorical_accuracy: 0.4636\n",
      "Epoch 8/10\n",
      "220/220 [==============================] - 12s 56ms/sample - loss: 1.9232 - sparse_categorical_accuracy: 0.4182\n",
      "Epoch 9/10\n",
      "220/220 [==============================] - 12s 56ms/sample - loss: 1.8818 - sparse_categorical_accuracy: 0.4409\n",
      "Epoch 10/10\n",
      "220/220 [==============================] - 12s 56ms/sample - loss: 1.9469 - sparse_categorical_accuracy: 0.4318\n"
     ]
    },
    {
     "name": "stderr",
     "output_type": "stream",
     "text": [
      "\r",
      "25it [56:13, 155.90s/it]"
     ]
    },
    {
     "name": "stdout",
     "output_type": "stream",
     "text": [
      "Epoch 1/10\n",
      "220/220 [==============================] - 16s 71ms/sample - loss: 1.8976 - sparse_categorical_accuracy: 0.4273\n",
      "Epoch 2/10\n",
      "220/220 [==============================] - 12s 56ms/sample - loss: 1.9098 - sparse_categorical_accuracy: 0.4591\n",
      "Epoch 3/10\n",
      "220/220 [==============================] - 12s 56ms/sample - loss: 1.9342 - sparse_categorical_accuracy: 0.4091\n",
      "Epoch 4/10\n",
      "220/220 [==============================] - 12s 56ms/sample - loss: 1.9404 - sparse_categorical_accuracy: 0.4182\n",
      "Epoch 5/10\n",
      "220/220 [==============================] - 12s 56ms/sample - loss: 1.9209 - sparse_categorical_accuracy: 0.4364\n",
      "Epoch 6/10\n",
      "220/220 [==============================] - 12s 56ms/sample - loss: 1.8840 - sparse_categorical_accuracy: 0.4636\n",
      "Epoch 7/10\n",
      "220/220 [==============================] - 12s 56ms/sample - loss: 1.9274 - sparse_categorical_accuracy: 0.4318\n",
      "Epoch 8/10\n",
      "220/220 [==============================] - 12s 56ms/sample - loss: 1.8788 - sparse_categorical_accuracy: 0.4545\n",
      "Epoch 9/10\n",
      "220/220 [==============================] - 12s 56ms/sample - loss: 1.8900 - sparse_categorical_accuracy: 0.4273\n",
      "Epoch 10/10\n",
      "220/220 [==============================] - 12s 56ms/sample - loss: 1.8910 - sparse_categorical_accuracy: 0.4409\n"
     ]
    },
    {
     "name": "stderr",
     "output_type": "stream",
     "text": [
      "\r",
      "26it [59:00, 159.18s/it]"
     ]
    },
    {
     "name": "stdout",
     "output_type": "stream",
     "text": [
      "Epoch 1/10\n",
      "220/220 [==============================] - 16s 72ms/sample - loss: 1.9200 - sparse_categorical_accuracy: 0.4182\n",
      "Epoch 2/10\n",
      "220/220 [==============================] - 13s 57ms/sample - loss: 2.0068 - sparse_categorical_accuracy: 0.4318\n",
      "Epoch 3/10\n",
      "220/220 [==============================] - 12s 56ms/sample - loss: 1.8977 - sparse_categorical_accuracy: 0.4545\n",
      "Epoch 4/10\n",
      "220/220 [==============================] - 12s 56ms/sample - loss: 1.8855 - sparse_categorical_accuracy: 0.4591\n",
      "Epoch 5/10\n",
      "220/220 [==============================] - 12s 56ms/sample - loss: 1.8912 - sparse_categorical_accuracy: 0.4455\n",
      "Epoch 6/10\n",
      "220/220 [==============================] - 13s 57ms/sample - loss: 1.9000 - sparse_categorical_accuracy: 0.4636\n",
      "Epoch 7/10\n",
      "220/220 [==============================] - 12s 56ms/sample - loss: 1.8738 - sparse_categorical_accuracy: 0.4227\n",
      "Epoch 8/10\n",
      "220/220 [==============================] - 12s 56ms/sample - loss: 1.9090 - sparse_categorical_accuracy: 0.4273\n",
      "Epoch 9/10\n",
      "220/220 [==============================] - 12s 56ms/sample - loss: 1.9502 - sparse_categorical_accuracy: 0.4318\n",
      "Epoch 10/10\n",
      "220/220 [==============================] - 12s 56ms/sample - loss: 1.9008 - sparse_categorical_accuracy: 0.4364\n"
     ]
    },
    {
     "name": "stderr",
     "output_type": "stream",
     "text": [
      "\r",
      "27it [1:01:47, 161.61s/it]"
     ]
    },
    {
     "name": "stdout",
     "output_type": "stream",
     "text": [
      "Epoch 1/10\n",
      "220/220 [==============================] - 16s 72ms/sample - loss: 1.8433 - sparse_categorical_accuracy: 0.4636\n",
      "Epoch 2/10\n",
      "220/220 [==============================] - 12s 56ms/sample - loss: 1.9632 - sparse_categorical_accuracy: 0.4318\n",
      "Epoch 3/10\n",
      "220/220 [==============================] - 13s 57ms/sample - loss: 1.9858 - sparse_categorical_accuracy: 0.4091\n",
      "Epoch 4/10\n",
      "220/220 [==============================] - 12s 57ms/sample - loss: 1.8908 - sparse_categorical_accuracy: 0.4318\n",
      "Epoch 5/10\n",
      "220/220 [==============================] - 12s 56ms/sample - loss: 1.8492 - sparse_categorical_accuracy: 0.4409\n",
      "Epoch 6/10\n",
      "220/220 [==============================] - 12s 57ms/sample - loss: 1.9016 - sparse_categorical_accuracy: 0.4500\n",
      "Epoch 7/10\n",
      "220/220 [==============================] - 12s 57ms/sample - loss: 1.9112 - sparse_categorical_accuracy: 0.4409\n",
      "Epoch 8/10\n",
      "220/220 [==============================] - 13s 57ms/sample - loss: 1.8755 - sparse_categorical_accuracy: 0.4182\n",
      "Epoch 9/10\n",
      "220/220 [==============================] - 12s 57ms/sample - loss: 1.9774 - sparse_categorical_accuracy: 0.4682\n",
      "Epoch 10/10\n",
      "220/220 [==============================] - 12s 57ms/sample - loss: 2.0722 - sparse_categorical_accuracy: 0.4045\n"
     ]
    },
    {
     "name": "stderr",
     "output_type": "stream",
     "text": [
      "\r",
      "28it [1:04:37, 163.97s/it]"
     ]
    },
    {
     "name": "stdout",
     "output_type": "stream",
     "text": [
      "Epoch 1/10\n",
      "220/220 [==============================] - 16s 73ms/sample - loss: 1.9587 - sparse_categorical_accuracy: 0.4591\n",
      "Epoch 2/10\n",
      "220/220 [==============================] - 13s 57ms/sample - loss: 1.8907 - sparse_categorical_accuracy: 0.4455\n",
      "Epoch 3/10\n",
      "220/220 [==============================] - 13s 57ms/sample - loss: 1.8797 - sparse_categorical_accuracy: 0.4545\n",
      "Epoch 4/10\n",
      "220/220 [==============================] - 13s 57ms/sample - loss: 1.8494 - sparse_categorical_accuracy: 0.4682\n",
      "Epoch 5/10\n",
      "220/220 [==============================] - 13s 57ms/sample - loss: 1.9326 - sparse_categorical_accuracy: 0.4045\n",
      "Epoch 6/10\n",
      "220/220 [==============================] - 13s 57ms/sample - loss: 1.8346 - sparse_categorical_accuracy: 0.4136\n",
      "Epoch 7/10\n",
      "220/220 [==============================] - 13s 57ms/sample - loss: 1.8055 - sparse_categorical_accuracy: 0.4636\n",
      "Epoch 8/10\n",
      "220/220 [==============================] - 13s 58ms/sample - loss: 1.9169 - sparse_categorical_accuracy: 0.4455\n",
      "Epoch 9/10\n",
      "220/220 [==============================] - 13s 57ms/sample - loss: 1.8360 - sparse_categorical_accuracy: 0.4364\n",
      "Epoch 10/10\n",
      "220/220 [==============================] - 13s 57ms/sample - loss: 1.8826 - sparse_categorical_accuracy: 0.4318\n"
     ]
    },
    {
     "name": "stderr",
     "output_type": "stream",
     "text": [
      "\r",
      "29it [1:07:29, 166.49s/it]"
     ]
    },
    {
     "name": "stdout",
     "output_type": "stream",
     "text": [
      "Epoch 1/10\n",
      "220/220 [==============================] - 16s 73ms/sample - loss: 1.9260 - sparse_categorical_accuracy: 0.4364\n",
      "Epoch 2/10\n",
      "220/220 [==============================] - 13s 57ms/sample - loss: 1.8933 - sparse_categorical_accuracy: 0.4000\n",
      "Epoch 3/10\n",
      "220/220 [==============================] - 12s 57ms/sample - loss: 1.8818 - sparse_categorical_accuracy: 0.4545\n",
      "Epoch 4/10\n",
      "220/220 [==============================] - 13s 57ms/sample - loss: 1.8856 - sparse_categorical_accuracy: 0.4273\n",
      "Epoch 5/10\n",
      "220/220 [==============================] - 13s 57ms/sample - loss: 1.8209 - sparse_categorical_accuracy: 0.4727\n",
      "Epoch 6/10\n",
      "220/220 [==============================] - 13s 57ms/sample - loss: 1.8685 - sparse_categorical_accuracy: 0.4227\n",
      "Epoch 7/10\n",
      "220/220 [==============================] - 13s 57ms/sample - loss: 1.8470 - sparse_categorical_accuracy: 0.4318\n",
      "Epoch 8/10\n",
      "220/220 [==============================] - 13s 57ms/sample - loss: 1.9426 - sparse_categorical_accuracy: 0.4636\n",
      "Epoch 9/10\n",
      "220/220 [==============================] - 13s 57ms/sample - loss: 1.9788 - sparse_categorical_accuracy: 0.4091\n",
      "Epoch 10/10\n",
      "220/220 [==============================] - 12s 57ms/sample - loss: 2.0287 - sparse_categorical_accuracy: 0.4091\n"
     ]
    },
    {
     "name": "stderr",
     "output_type": "stream",
     "text": [
      "\r",
      "30it [1:10:23, 168.68s/it]"
     ]
    },
    {
     "name": "stdout",
     "output_type": "stream",
     "text": [
      "Epoch 1/10\n",
      "220/220 [==============================] - 16s 75ms/sample - loss: 1.8743 - sparse_categorical_accuracy: 0.4455\n",
      "Epoch 2/10\n",
      "220/220 [==============================] - 13s 58ms/sample - loss: 1.8576 - sparse_categorical_accuracy: 0.4455\n",
      "Epoch 3/10\n",
      "220/220 [==============================] - 13s 58ms/sample - loss: 1.8870 - sparse_categorical_accuracy: 0.4455\n",
      "Epoch 4/10\n",
      "220/220 [==============================] - 13s 58ms/sample - loss: 1.9857 - sparse_categorical_accuracy: 0.4136\n",
      "Epoch 5/10\n",
      "220/220 [==============================] - 13s 59ms/sample - loss: 1.7731 - sparse_categorical_accuracy: 0.4545\n",
      "Epoch 6/10\n",
      "220/220 [==============================] - 13s 58ms/sample - loss: 1.8720 - sparse_categorical_accuracy: 0.4273\n",
      "Epoch 7/10\n",
      "220/220 [==============================] - 13s 58ms/sample - loss: 1.9198 - sparse_categorical_accuracy: 0.4273\n",
      "Epoch 8/10\n",
      "220/220 [==============================] - 13s 58ms/sample - loss: 1.9578 - sparse_categorical_accuracy: 0.4318\n",
      "Epoch 9/10\n",
      "220/220 [==============================] - 13s 59ms/sample - loss: 1.8526 - sparse_categorical_accuracy: 0.4318\n",
      "Epoch 10/10\n",
      "220/220 [==============================] - 13s 58ms/sample - loss: 1.8673 - sparse_categorical_accuracy: 0.4273\n"
     ]
    },
    {
     "name": "stderr",
     "output_type": "stream",
     "text": [
      "\r",
      "31it [1:13:23, 172.11s/it]"
     ]
    },
    {
     "name": "stdout",
     "output_type": "stream",
     "text": [
      "Epoch 1/10\n",
      "220/220 [==============================] - 17s 76ms/sample - loss: 1.9792 - sparse_categorical_accuracy: 0.4136\n",
      "Epoch 2/10\n",
      "220/220 [==============================] - 13s 59ms/sample - loss: 1.9542 - sparse_categorical_accuracy: 0.4636\n",
      "Epoch 3/10\n",
      "220/220 [==============================] - 13s 59ms/sample - loss: 1.8454 - sparse_categorical_accuracy: 0.4455\n",
      "Epoch 4/10\n",
      "220/220 [==============================] - 13s 59ms/sample - loss: 1.9400 - sparse_categorical_accuracy: 0.4545\n",
      "Epoch 5/10\n",
      "220/220 [==============================] - 13s 60ms/sample - loss: 1.8318 - sparse_categorical_accuracy: 0.4682\n",
      "Epoch 6/10\n",
      "220/220 [==============================] - 13s 59ms/sample - loss: 1.7914 - sparse_categorical_accuracy: 0.4591\n",
      "Epoch 7/10\n",
      "220/220 [==============================] - 13s 59ms/sample - loss: 1.8285 - sparse_categorical_accuracy: 0.4318\n",
      "Epoch 8/10\n",
      "220/220 [==============================] - 13s 59ms/sample - loss: 1.9799 - sparse_categorical_accuracy: 0.4091\n",
      "Epoch 9/10\n",
      "220/220 [==============================] - 13s 60ms/sample - loss: 2.0283 - sparse_categorical_accuracy: 0.4318\n",
      "Epoch 10/10\n",
      "220/220 [==============================] - 13s 59ms/sample - loss: 1.9377 - sparse_categorical_accuracy: 0.4773\n"
     ]
    },
    {
     "name": "stderr",
     "output_type": "stream",
     "text": [
      "\r",
      "32it [1:16:26, 175.32s/it]"
     ]
    },
    {
     "name": "stdout",
     "output_type": "stream",
     "text": [
      "Epoch 1/10\n",
      "220/220 [==============================] - 17s 77ms/sample - loss: 1.8643 - sparse_categorical_accuracy: 0.4591\n",
      "Epoch 2/10\n",
      "220/220 [==============================] - 13s 60ms/sample - loss: 1.7763 - sparse_categorical_accuracy: 0.4773\n",
      "Epoch 3/10\n",
      "220/220 [==============================] - 13s 60ms/sample - loss: 1.8887 - sparse_categorical_accuracy: 0.4727\n",
      "Epoch 4/10\n",
      "220/220 [==============================] - 13s 60ms/sample - loss: 1.7982 - sparse_categorical_accuracy: 0.4409\n",
      "Epoch 5/10\n",
      "220/220 [==============================] - 13s 60ms/sample - loss: 1.7996 - sparse_categorical_accuracy: 0.4818\n",
      "Epoch 6/10\n",
      "220/220 [==============================] - 13s 60ms/sample - loss: 1.8205 - sparse_categorical_accuracy: 0.4773\n",
      "Epoch 7/10\n",
      "220/220 [==============================] - 13s 60ms/sample - loss: 1.8247 - sparse_categorical_accuracy: 0.4636\n",
      "Epoch 8/10\n",
      "220/220 [==============================] - 13s 60ms/sample - loss: 1.9001 - sparse_categorical_accuracy: 0.4045\n",
      "Epoch 9/10\n",
      "220/220 [==============================] - 13s 61ms/sample - loss: 1.8190 - sparse_categorical_accuracy: 0.4545\n",
      "Epoch 10/10\n",
      "220/220 [==============================] - 13s 60ms/sample - loss: 1.8692 - sparse_categorical_accuracy: 0.4455\n"
     ]
    },
    {
     "name": "stderr",
     "output_type": "stream",
     "text": [
      "\r",
      "33it [1:19:32, 178.64s/it]"
     ]
    },
    {
     "name": "stdout",
     "output_type": "stream",
     "text": [
      "Epoch 1/10\n",
      "220/220 [==============================] - 17s 77ms/sample - loss: 1.7821 - sparse_categorical_accuracy: 0.4409\n",
      "Epoch 2/10\n",
      "220/220 [==============================] - 13s 59ms/sample - loss: 2.0300 - sparse_categorical_accuracy: 0.4364\n",
      "Epoch 3/10\n",
      "220/220 [==============================] - 13s 59ms/sample - loss: 1.9339 - sparse_categorical_accuracy: 0.4727\n",
      "Epoch 4/10\n",
      "220/220 [==============================] - 13s 60ms/sample - loss: 1.8371 - sparse_categorical_accuracy: 0.4409\n",
      "Epoch 5/10\n",
      "220/220 [==============================] - 13s 59ms/sample - loss: 1.8607 - sparse_categorical_accuracy: 0.4773\n",
      "Epoch 6/10\n",
      "220/220 [==============================] - 13s 59ms/sample - loss: 1.7772 - sparse_categorical_accuracy: 0.4727\n",
      "Epoch 7/10\n",
      "220/220 [==============================] - 13s 59ms/sample - loss: 1.8760 - sparse_categorical_accuracy: 0.4682\n",
      "Epoch 8/10\n",
      "220/220 [==============================] - 13s 59ms/sample - loss: 1.7865 - sparse_categorical_accuracy: 0.4955\n",
      "Epoch 9/10\n",
      "220/220 [==============================] - 13s 60ms/sample - loss: 1.9011 - sparse_categorical_accuracy: 0.4318\n",
      "Epoch 10/10\n",
      "220/220 [==============================] - 13s 59ms/sample - loss: 1.8974 - sparse_categorical_accuracy: 0.4455\n"
     ]
    },
    {
     "name": "stderr",
     "output_type": "stream",
     "text": [
      "\r",
      "34it [1:22:40, 181.27s/it]"
     ]
    },
    {
     "name": "stdout",
     "output_type": "stream",
     "text": [
      "Epoch 1/10\n",
      "220/220 [==============================] - 17s 77ms/sample - loss: 1.8158 - sparse_categorical_accuracy: 0.4682\n",
      "Epoch 2/10\n",
      "220/220 [==============================] - 13s 59ms/sample - loss: 1.8965 - sparse_categorical_accuracy: 0.4545\n",
      "Epoch 3/10\n",
      "220/220 [==============================] - 13s 60ms/sample - loss: 1.8075 - sparse_categorical_accuracy: 0.4591\n",
      "Epoch 4/10\n",
      "220/220 [==============================] - 13s 59ms/sample - loss: 1.9127 - sparse_categorical_accuracy: 0.4409\n",
      "Epoch 5/10\n",
      "220/220 [==============================] - 13s 59ms/sample - loss: 1.8445 - sparse_categorical_accuracy: 0.4364\n",
      "Epoch 6/10\n",
      "220/220 [==============================] - 13s 59ms/sample - loss: 1.8165 - sparse_categorical_accuracy: 0.4636\n",
      "Epoch 7/10\n",
      "220/220 [==============================] - 13s 59ms/sample - loss: 1.8614 - sparse_categorical_accuracy: 0.4636\n",
      "Epoch 8/10\n",
      "220/220 [==============================] - 13s 60ms/sample - loss: 1.9308 - sparse_categorical_accuracy: 0.4591\n",
      "Epoch 9/10\n",
      "220/220 [==============================] - 13s 60ms/sample - loss: 1.9195 - sparse_categorical_accuracy: 0.4273\n",
      "Epoch 10/10\n",
      "220/220 [==============================] - 13s 60ms/sample - loss: 1.9178 - sparse_categorical_accuracy: 0.4455\n"
     ]
    },
    {
     "name": "stderr",
     "output_type": "stream",
     "text": [
      "\r",
      "35it [1:25:50, 183.95s/it]"
     ]
    },
    {
     "name": "stdout",
     "output_type": "stream",
     "text": [
      "Epoch 1/10\n",
      "220/220 [==============================] - 17s 78ms/sample - loss: 1.9497 - sparse_categorical_accuracy: 0.4227\n",
      "Epoch 2/10\n",
      "220/220 [==============================] - 13s 60ms/sample - loss: 1.8840 - sparse_categorical_accuracy: 0.3955\n",
      "Epoch 3/10\n",
      "220/220 [==============================] - 13s 60ms/sample - loss: 1.8366 - sparse_categorical_accuracy: 0.4409\n",
      "Epoch 4/10\n",
      "220/220 [==============================] - 13s 60ms/sample - loss: 1.8119 - sparse_categorical_accuracy: 0.4500\n",
      "Epoch 5/10\n",
      "220/220 [==============================] - 13s 60ms/sample - loss: 1.8312 - sparse_categorical_accuracy: 0.4409\n",
      "Epoch 6/10\n",
      "220/220 [==============================] - 13s 60ms/sample - loss: 1.8559 - sparse_categorical_accuracy: 0.4545\n",
      "Epoch 7/10\n",
      "220/220 [==============================] - 13s 60ms/sample - loss: 1.8312 - sparse_categorical_accuracy: 0.4500\n",
      "Epoch 8/10\n",
      "220/220 [==============================] - 13s 60ms/sample - loss: 1.7852 - sparse_categorical_accuracy: 0.4727\n",
      "Epoch 9/10\n",
      "220/220 [==============================] - 13s 60ms/sample - loss: 1.8293 - sparse_categorical_accuracy: 0.4727\n",
      "Epoch 10/10\n",
      "220/220 [==============================] - 13s 60ms/sample - loss: 1.8413 - sparse_categorical_accuracy: 0.4636\n"
     ]
    },
    {
     "name": "stderr",
     "output_type": "stream",
     "text": [
      "\r",
      "36it [1:29:03, 186.72s/it]"
     ]
    },
    {
     "name": "stdout",
     "output_type": "stream",
     "text": [
      "Epoch 1/10\n",
      "220/220 [==============================] - 17s 78ms/sample - loss: 1.8078 - sparse_categorical_accuracy: 0.4773\n",
      "Epoch 2/10\n",
      "220/220 [==============================] - 13s 60ms/sample - loss: 1.8211 - sparse_categorical_accuracy: 0.4591\n",
      "Epoch 3/10\n",
      "220/220 [==============================] - 13s 60ms/sample - loss: 1.7942 - sparse_categorical_accuracy: 0.4864\n",
      "Epoch 4/10\n",
      "220/220 [==============================] - 13s 60ms/sample - loss: 1.7913 - sparse_categorical_accuracy: 0.4364\n",
      "Epoch 5/10\n",
      "220/220 [==============================] - 13s 60ms/sample - loss: 1.7914 - sparse_categorical_accuracy: 0.4545\n",
      "Epoch 6/10\n",
      "220/220 [==============================] - 13s 60ms/sample - loss: 1.8589 - sparse_categorical_accuracy: 0.4682\n",
      "Epoch 7/10\n",
      "220/220 [==============================] - 13s 60ms/sample - loss: 1.8708 - sparse_categorical_accuracy: 0.4409\n",
      "Epoch 8/10\n",
      "220/220 [==============================] - 13s 60ms/sample - loss: 1.7948 - sparse_categorical_accuracy: 0.4591\n",
      "Epoch 9/10\n",
      "220/220 [==============================] - 13s 60ms/sample - loss: 1.7608 - sparse_categorical_accuracy: 0.4864\n",
      "Epoch 10/10\n",
      "220/220 [==============================] - 13s 60ms/sample - loss: 1.8115 - sparse_categorical_accuracy: 0.4682\n"
     ]
    },
    {
     "name": "stderr",
     "output_type": "stream",
     "text": [
      "\r",
      "37it [1:32:18, 189.09s/it]"
     ]
    },
    {
     "name": "stdout",
     "output_type": "stream",
     "text": [
      "Epoch 1/10\n",
      "220/220 [==============================] - 18s 80ms/sample - loss: 1.9871 - sparse_categorical_accuracy: 0.4182\n",
      "Epoch 2/10\n",
      "220/220 [==============================] - 13s 61ms/sample - loss: 1.9178 - sparse_categorical_accuracy: 0.4227\n",
      "Epoch 3/10\n",
      "220/220 [==============================] - 13s 61ms/sample - loss: 1.8375 - sparse_categorical_accuracy: 0.4500\n",
      "Epoch 4/10\n",
      "220/220 [==============================] - 13s 61ms/sample - loss: 1.8136 - sparse_categorical_accuracy: 0.4727\n",
      "Epoch 5/10\n",
      "220/220 [==============================] - 14s 61ms/sample - loss: 1.8821 - sparse_categorical_accuracy: 0.4409\n",
      "Epoch 6/10\n",
      "220/220 [==============================] - 13s 61ms/sample - loss: 1.9934 - sparse_categorical_accuracy: 0.4273\n",
      "Epoch 7/10\n",
      "220/220 [==============================] - 13s 61ms/sample - loss: 1.9023 - sparse_categorical_accuracy: 0.4591\n",
      "Epoch 8/10\n",
      "220/220 [==============================] - 13s 61ms/sample - loss: 1.8800 - sparse_categorical_accuracy: 0.4818\n",
      "Epoch 9/10\n",
      "220/220 [==============================] - 14s 62ms/sample - loss: 1.9220 - sparse_categorical_accuracy: 0.4091\n",
      "Epoch 10/10\n",
      "220/220 [==============================] - 13s 61ms/sample - loss: 1.8923 - sparse_categorical_accuracy: 0.4318\n"
     ]
    },
    {
     "name": "stderr",
     "output_type": "stream",
     "text": [
      "\r",
      "38it [1:35:43, 193.87s/it]"
     ]
    },
    {
     "name": "stdout",
     "output_type": "stream",
     "text": [
      "Epoch 1/10\n",
      "220/220 [==============================] - 18s 82ms/sample - loss: 2.0148 - sparse_categorical_accuracy: 0.4227\n",
      "Epoch 2/10\n",
      "220/220 [==============================] - 14s 62ms/sample - loss: 1.8716 - sparse_categorical_accuracy: 0.4091\n",
      "Epoch 3/10\n",
      "220/220 [==============================] - 14s 63ms/sample - loss: 1.8087 - sparse_categorical_accuracy: 0.4773\n",
      "Epoch 4/10\n",
      "220/220 [==============================] - 14s 63ms/sample - loss: 1.8734 - sparse_categorical_accuracy: 0.4455\n",
      "Epoch 5/10\n",
      "220/220 [==============================] - 14s 62ms/sample - loss: 1.8790 - sparse_categorical_accuracy: 0.4682\n",
      "Epoch 6/10\n",
      "220/220 [==============================] - 14s 62ms/sample - loss: 1.7629 - sparse_categorical_accuracy: 0.4818\n",
      "Epoch 7/10\n",
      "220/220 [==============================] - 14s 63ms/sample - loss: 1.8044 - sparse_categorical_accuracy: 0.4727\n",
      "Epoch 8/10\n",
      "220/220 [==============================] - 14s 63ms/sample - loss: 1.9170 - sparse_categorical_accuracy: 0.4364\n",
      "Epoch 9/10\n",
      "220/220 [==============================] - 14s 63ms/sample - loss: 1.7658 - sparse_categorical_accuracy: 0.5182\n",
      "Epoch 10/10\n",
      "220/220 [==============================] - 14s 62ms/sample - loss: 1.7822 - sparse_categorical_accuracy: 0.4545\n"
     ]
    },
    {
     "name": "stderr",
     "output_type": "stream",
     "text": [
      "\r",
      "39it [1:39:10, 197.91s/it]"
     ]
    },
    {
     "name": "stdout",
     "output_type": "stream",
     "text": [
      "Epoch 1/10\n",
      "220/220 [==============================] - 18s 83ms/sample - loss: 1.7410 - sparse_categorical_accuracy: 0.4773\n",
      "Epoch 2/10\n",
      "220/220 [==============================] - 14s 63ms/sample - loss: 1.8447 - sparse_categorical_accuracy: 0.4818\n",
      "Epoch 3/10\n",
      "220/220 [==============================] - 14s 62ms/sample - loss: 1.8548 - sparse_categorical_accuracy: 0.4727\n",
      "Epoch 4/10\n",
      "220/220 [==============================] - 14s 62ms/sample - loss: 1.8653 - sparse_categorical_accuracy: 0.4591\n",
      "Epoch 5/10\n",
      "220/220 [==============================] - 14s 63ms/sample - loss: 1.8130 - sparse_categorical_accuracy: 0.4682\n",
      "Epoch 6/10\n",
      "220/220 [==============================] - 14s 62ms/sample - loss: 1.7290 - sparse_categorical_accuracy: 0.4864\n",
      "Epoch 7/10\n",
      "220/220 [==============================] - 14s 63ms/sample - loss: 1.8261 - sparse_categorical_accuracy: 0.4773\n",
      "Epoch 8/10\n",
      "220/220 [==============================] - 14s 62ms/sample - loss: 1.8068 - sparse_categorical_accuracy: 0.5000\n",
      "Epoch 9/10\n",
      "220/220 [==============================] - 14s 62ms/sample - loss: 1.8161 - sparse_categorical_accuracy: 0.4864\n",
      "Epoch 10/10\n",
      "220/220 [==============================] - 14s 63ms/sample - loss: 1.7549 - sparse_categorical_accuracy: 0.4818\n"
     ]
    },
    {
     "name": "stderr",
     "output_type": "stream",
     "text": [
      "\r",
      "40it [1:42:40, 201.44s/it]"
     ]
    },
    {
     "name": "stdout",
     "output_type": "stream",
     "text": [
      "Epoch 1/10\n",
      "220/220 [==============================] - 18s 83ms/sample - loss: 1.8662 - sparse_categorical_accuracy: 0.4773\n",
      "Epoch 2/10\n",
      "220/220 [==============================] - 14s 63ms/sample - loss: 1.7658 - sparse_categorical_accuracy: 0.4818\n",
      "Epoch 3/10\n",
      "220/220 [==============================] - 14s 64ms/sample - loss: 1.8472 - sparse_categorical_accuracy: 0.4818\n",
      "Epoch 4/10\n",
      "220/220 [==============================] - 14s 63ms/sample - loss: 1.8068 - sparse_categorical_accuracy: 0.4636\n",
      "Epoch 5/10\n",
      "220/220 [==============================] - 14s 63ms/sample - loss: 1.7517 - sparse_categorical_accuracy: 0.5000\n",
      "Epoch 6/10\n",
      "220/220 [==============================] - 14s 63ms/sample - loss: 1.7745 - sparse_categorical_accuracy: 0.4955\n",
      "Epoch 7/10\n",
      "220/220 [==============================] - 14s 63ms/sample - loss: 1.7894 - sparse_categorical_accuracy: 0.4227\n",
      "Epoch 8/10\n",
      "220/220 [==============================] - 14s 64ms/sample - loss: 1.7903 - sparse_categorical_accuracy: 0.5136\n",
      "Epoch 9/10\n",
      "220/220 [==============================] - 14s 63ms/sample - loss: 1.7569 - sparse_categorical_accuracy: 0.5091\n",
      "Epoch 10/10\n",
      "220/220 [==============================] - 14s 63ms/sample - loss: 1.8334 - sparse_categorical_accuracy: 0.4682\n"
     ]
    },
    {
     "name": "stderr",
     "output_type": "stream",
     "text": [
      "\r",
      "41it [1:46:14, 205.19s/it]"
     ]
    },
    {
     "name": "stdout",
     "output_type": "stream",
     "text": [
      "Epoch 1/10\n",
      "220/220 [==============================] - 18s 83ms/sample - loss: 1.8232 - sparse_categorical_accuracy: 0.4864\n",
      "Epoch 2/10\n",
      "220/220 [==============================] - 14s 63ms/sample - loss: 1.8414 - sparse_categorical_accuracy: 0.4591\n",
      "Epoch 3/10\n",
      "220/220 [==============================] - 14s 62ms/sample - loss: 1.9066 - sparse_categorical_accuracy: 0.4409\n",
      "Epoch 4/10\n",
      "220/220 [==============================] - 14s 62ms/sample - loss: 1.8516 - sparse_categorical_accuracy: 0.4818\n",
      "Epoch 5/10\n",
      "220/220 [==============================] - 14s 63ms/sample - loss: 1.7971 - sparse_categorical_accuracy: 0.4455\n",
      "Epoch 6/10\n",
      "220/220 [==============================] - 14s 62ms/sample - loss: 1.7895 - sparse_categorical_accuracy: 0.4909\n",
      "Epoch 7/10\n",
      "220/220 [==============================] - 14s 62ms/sample - loss: 1.8806 - sparse_categorical_accuracy: 0.4364\n",
      "Epoch 8/10\n",
      "220/220 [==============================] - 14s 62ms/sample - loss: 1.8371 - sparse_categorical_accuracy: 0.4591\n",
      "Epoch 9/10\n",
      "220/220 [==============================] - 14s 63ms/sample - loss: 1.8079 - sparse_categorical_accuracy: 0.4909\n",
      "Epoch 10/10\n",
      "220/220 [==============================] - 14s 63ms/sample - loss: 1.7907 - sparse_categorical_accuracy: 0.4864\n"
     ]
    },
    {
     "name": "stderr",
     "output_type": "stream",
     "text": [
      "\r",
      "42it [1:49:47, 207.75s/it]"
     ]
    },
    {
     "name": "stdout",
     "output_type": "stream",
     "text": [
      "Epoch 1/10\n",
      "220/220 [==============================] - 18s 84ms/sample - loss: 1.7791 - sparse_categorical_accuracy: 0.4909\n",
      "Epoch 2/10\n",
      "220/220 [==============================] - 14s 63ms/sample - loss: 1.7861 - sparse_categorical_accuracy: 0.4545\n",
      "Epoch 3/10\n",
      "220/220 [==============================] - 14s 64ms/sample - loss: 1.8310 - sparse_categorical_accuracy: 0.4591\n",
      "Epoch 4/10\n",
      "220/220 [==============================] - 14s 63ms/sample - loss: 1.7972 - sparse_categorical_accuracy: 0.4636\n",
      "Epoch 5/10\n",
      "220/220 [==============================] - 14s 63ms/sample - loss: 1.7993 - sparse_categorical_accuracy: 0.4591\n",
      "Epoch 6/10\n",
      "220/220 [==============================] - 14s 63ms/sample - loss: 1.7714 - sparse_categorical_accuracy: 0.4909\n",
      "Epoch 7/10\n",
      "220/220 [==============================] - 14s 64ms/sample - loss: 1.7940 - sparse_categorical_accuracy: 0.4500\n",
      "Epoch 8/10\n",
      "220/220 [==============================] - 14s 63ms/sample - loss: 1.7521 - sparse_categorical_accuracy: 0.4955\n",
      "Epoch 9/10\n",
      "220/220 [==============================] - 14s 63ms/sample - loss: 1.7214 - sparse_categorical_accuracy: 0.4909\n",
      "Epoch 10/10\n",
      "220/220 [==============================] - 14s 63ms/sample - loss: 1.8332 - sparse_categorical_accuracy: 0.4409\n"
     ]
    },
    {
     "name": "stderr",
     "output_type": "stream",
     "text": [
      "\r",
      "43it [1:53:26, 211.01s/it]"
     ]
    },
    {
     "name": "stdout",
     "output_type": "stream",
     "text": [
      "Epoch 1/10\n",
      "220/220 [==============================] - 18s 84ms/sample - loss: 1.8780 - sparse_categorical_accuracy: 0.4545\n",
      "Epoch 2/10\n",
      "220/220 [==============================] - 14s 63ms/sample - loss: 1.8389 - sparse_categorical_accuracy: 0.4455\n",
      "Epoch 3/10\n",
      "220/220 [==============================] - 14s 63ms/sample - loss: 1.7079 - sparse_categorical_accuracy: 0.5000\n",
      "Epoch 4/10\n",
      "220/220 [==============================] - 14s 63ms/sample - loss: 1.8372 - sparse_categorical_accuracy: 0.5000\n",
      "Epoch 5/10\n",
      "220/220 [==============================] - 14s 63ms/sample - loss: 1.7297 - sparse_categorical_accuracy: 0.4591\n",
      "Epoch 6/10\n",
      "220/220 [==============================] - 14s 62ms/sample - loss: 1.8204 - sparse_categorical_accuracy: 0.4727\n",
      "Epoch 7/10\n",
      "220/220 [==============================] - 14s 62ms/sample - loss: 1.8316 - sparse_categorical_accuracy: 0.4545\n",
      "Epoch 8/10\n",
      "220/220 [==============================] - 14s 62ms/sample - loss: 1.7657 - sparse_categorical_accuracy: 0.4591\n",
      "Epoch 9/10\n",
      "220/220 [==============================] - 14s 63ms/sample - loss: 1.8755 - sparse_categorical_accuracy: 0.4864\n",
      "Epoch 10/10\n",
      "220/220 [==============================] - 14s 62ms/sample - loss: 1.7837 - sparse_categorical_accuracy: 0.4955\n"
     ]
    },
    {
     "name": "stderr",
     "output_type": "stream",
     "text": [
      "\r",
      "44it [1:57:06, 213.68s/it]"
     ]
    },
    {
     "name": "stdout",
     "output_type": "stream",
     "text": [
      "Epoch 1/10\n",
      "220/220 [==============================] - 19s 84ms/sample - loss: 1.7346 - sparse_categorical_accuracy: 0.4818\n",
      "Epoch 2/10\n",
      "220/220 [==============================] - 14s 64ms/sample - loss: 1.8213 - sparse_categorical_accuracy: 0.4864\n",
      "Epoch 3/10\n",
      "220/220 [==============================] - 14s 63ms/sample - loss: 1.8291 - sparse_categorical_accuracy: 0.4545\n",
      "Epoch 4/10\n",
      "220/220 [==============================] - 14s 64ms/sample - loss: 1.8956 - sparse_categorical_accuracy: 0.4636\n",
      "Epoch 5/10\n",
      "220/220 [==============================] - 14s 64ms/sample - loss: 1.8191 - sparse_categorical_accuracy: 0.4591\n",
      "Epoch 6/10\n",
      "220/220 [==============================] - 14s 64ms/sample - loss: 1.8442 - sparse_categorical_accuracy: 0.4682\n",
      "Epoch 7/10\n",
      "220/220 [==============================] - 14s 63ms/sample - loss: 1.7887 - sparse_categorical_accuracy: 0.4864\n",
      "Epoch 8/10\n",
      "220/220 [==============================] - 14s 64ms/sample - loss: 1.8174 - sparse_categorical_accuracy: 0.4455\n",
      "Epoch 9/10\n",
      "220/220 [==============================] - 14s 64ms/sample - loss: 1.7491 - sparse_categorical_accuracy: 0.4955\n",
      "Epoch 10/10\n",
      "220/220 [==============================] - 14s 64ms/sample - loss: 1.7200 - sparse_categorical_accuracy: 0.4818\n"
     ]
    },
    {
     "name": "stderr",
     "output_type": "stream",
     "text": [
      "\r",
      "45it [2:00:50, 216.88s/it]"
     ]
    },
    {
     "name": "stdout",
     "output_type": "stream",
     "text": [
      "Epoch 1/10\n",
      "220/220 [==============================] - 19s 85ms/sample - loss: 1.9421 - sparse_categorical_accuracy: 0.4318\n",
      "Epoch 2/10\n",
      "220/220 [==============================] - 14s 64ms/sample - loss: 1.9230 - sparse_categorical_accuracy: 0.4318\n",
      "Epoch 3/10\n",
      "220/220 [==============================] - 14s 65ms/sample - loss: 1.7584 - sparse_categorical_accuracy: 0.4909\n",
      "Epoch 4/10\n",
      "220/220 [==============================] - 14s 64ms/sample - loss: 1.7545 - sparse_categorical_accuracy: 0.4864\n",
      "Epoch 5/10\n",
      "220/220 [==============================] - 14s 64ms/sample - loss: 1.8358 - sparse_categorical_accuracy: 0.4636\n",
      "Epoch 6/10\n",
      "220/220 [==============================] - 14s 64ms/sample - loss: 1.7317 - sparse_categorical_accuracy: 0.5136\n",
      "Epoch 7/10\n",
      "220/220 [==============================] - 14s 65ms/sample - loss: 1.8395 - sparse_categorical_accuracy: 0.4455\n",
      "Epoch 8/10\n",
      "220/220 [==============================] - 14s 64ms/sample - loss: 1.9324 - sparse_categorical_accuracy: 0.4273\n",
      "Epoch 9/10\n",
      "220/220 [==============================] - 14s 64ms/sample - loss: 1.9029 - sparse_categorical_accuracy: 0.4545\n",
      "Epoch 10/10\n",
      "220/220 [==============================] - 14s 64ms/sample - loss: 1.7679 - sparse_categorical_accuracy: 0.4864\n"
     ]
    },
    {
     "name": "stderr",
     "output_type": "stream",
     "text": [
      "\r",
      "46it [2:04:38, 220.23s/it]"
     ]
    },
    {
     "name": "stdout",
     "output_type": "stream",
     "text": [
      "Epoch 1/10\n",
      "220/220 [==============================] - 19s 86ms/sample - loss: 1.8400 - sparse_categorical_accuracy: 0.4682\n",
      "Epoch 2/10\n",
      "220/220 [==============================] - 14s 64ms/sample - loss: 1.8260 - sparse_categorical_accuracy: 0.4727\n",
      "Epoch 3/10\n",
      "220/220 [==============================] - 14s 64ms/sample - loss: 1.7901 - sparse_categorical_accuracy: 0.4591\n",
      "Epoch 4/10\n",
      "220/220 [==============================] - 14s 64ms/sample - loss: 1.8106 - sparse_categorical_accuracy: 0.4864\n",
      "Epoch 5/10\n",
      "220/220 [==============================] - 14s 64ms/sample - loss: 1.8156 - sparse_categorical_accuracy: 0.4818\n",
      "Epoch 6/10\n",
      "220/220 [==============================] - 14s 64ms/sample - loss: 1.8756 - sparse_categorical_accuracy: 0.4818\n",
      "Epoch 7/10\n",
      "220/220 [==============================] - 14s 64ms/sample - loss: 1.8079 - sparse_categorical_accuracy: 0.4818\n",
      "Epoch 8/10\n",
      "220/220 [==============================] - 14s 65ms/sample - loss: 1.7519 - sparse_categorical_accuracy: 0.4727\n",
      "Epoch 9/10\n",
      "220/220 [==============================] - 14s 64ms/sample - loss: 1.7629 - sparse_categorical_accuracy: 0.4864\n",
      "Epoch 10/10\n",
      "220/220 [==============================] - 14s 64ms/sample - loss: 1.7237 - sparse_categorical_accuracy: 0.5045\n"
     ]
    },
    {
     "name": "stderr",
     "output_type": "stream",
     "text": [
      "\r",
      "47it [2:08:27, 222.73s/it]"
     ]
    },
    {
     "name": "stdout",
     "output_type": "stream",
     "text": [
      "Epoch 1/10\n",
      "220/220 [==============================] - 21s 93ms/sample - loss: 1.8155 - sparse_categorical_accuracy: 0.4682\n",
      "Epoch 2/10\n",
      "220/220 [==============================] - 15s 66ms/sample - loss: 1.7693 - sparse_categorical_accuracy: 0.4818\n",
      "Epoch 3/10\n",
      "220/220 [==============================] - 15s 67ms/sample - loss: 1.7159 - sparse_categorical_accuracy: 0.4864\n",
      "Epoch 4/10\n",
      "220/220 [==============================] - 15s 66ms/sample - loss: 1.7236 - sparse_categorical_accuracy: 0.4591\n",
      "Epoch 5/10\n",
      "220/220 [==============================] - 15s 66ms/sample - loss: 1.7848 - sparse_categorical_accuracy: 0.4773\n",
      "Epoch 6/10\n",
      "220/220 [==============================] - 14s 66ms/sample - loss: 1.8098 - sparse_categorical_accuracy: 0.5273\n",
      "Epoch 7/10\n",
      "220/220 [==============================] - 15s 66ms/sample - loss: 1.7777 - sparse_categorical_accuracy: 0.5000\n",
      "Epoch 8/10\n",
      "220/220 [==============================] - 15s 66ms/sample - loss: 1.8553 - sparse_categorical_accuracy: 0.4682\n",
      "Epoch 9/10\n",
      "220/220 [==============================] - 14s 66ms/sample - loss: 1.7154 - sparse_categorical_accuracy: 0.4864\n",
      "Epoch 10/10\n",
      "220/220 [==============================] - 14s 66ms/sample - loss: 1.8144 - sparse_categorical_accuracy: 0.4682\n"
     ]
    },
    {
     "name": "stderr",
     "output_type": "stream",
     "text": [
      "\r",
      "48it [2:13:50, 252.73s/it]"
     ]
    },
    {
     "name": "stdout",
     "output_type": "stream",
     "text": [
      "Epoch 1/10\n",
      "220/220 [==============================] - 19s 88ms/sample - loss: 1.7704 - sparse_categorical_accuracy: 0.4636\n",
      "Epoch 2/10\n",
      "220/220 [==============================] - 14s 66ms/sample - loss: 1.8949 - sparse_categorical_accuracy: 0.4773\n",
      "Epoch 3/10\n",
      "220/220 [==============================] - 14s 65ms/sample - loss: 1.8176 - sparse_categorical_accuracy: 0.4455\n",
      "Epoch 4/10\n",
      "220/220 [==============================] - 14s 65ms/sample - loss: 1.8171 - sparse_categorical_accuracy: 0.4773\n",
      "Epoch 5/10\n",
      "220/220 [==============================] - 14s 65ms/sample - loss: 1.7583 - sparse_categorical_accuracy: 0.4818\n",
      "Epoch 6/10\n",
      "220/220 [==============================] - 14s 66ms/sample - loss: 1.6773 - sparse_categorical_accuracy: 0.5227\n",
      "Epoch 7/10\n",
      "220/220 [==============================] - 14s 65ms/sample - loss: 1.8274 - sparse_categorical_accuracy: 0.4545\n",
      "Epoch 8/10\n",
      "220/220 [==============================] - 14s 65ms/sample - loss: 1.8233 - sparse_categorical_accuracy: 0.4773\n",
      "Epoch 9/10\n",
      "220/220 [==============================] - 14s 65ms/sample - loss: 1.6982 - sparse_categorical_accuracy: 0.4864\n",
      "Epoch 10/10\n",
      "220/220 [==============================] - 15s 66ms/sample - loss: 1.7579 - sparse_categorical_accuracy: 0.4818\n"
     ]
    },
    {
     "name": "stderr",
     "output_type": "stream",
     "text": [
      "\r",
      "49it [2:18:09, 254.61s/it]"
     ]
    },
    {
     "name": "stdout",
     "output_type": "stream",
     "text": [
      "Epoch 1/10\n",
      "220/220 [==============================] - 20s 89ms/sample - loss: 1.7682 - sparse_categorical_accuracy: 0.5000\n",
      "Epoch 2/10\n",
      "220/220 [==============================] - 14s 65ms/sample - loss: 1.8630 - sparse_categorical_accuracy: 0.4500\n",
      "Epoch 3/10\n",
      "220/220 [==============================] - 14s 65ms/sample - loss: 1.8441 - sparse_categorical_accuracy: 0.4591\n",
      "Epoch 4/10\n",
      "220/220 [==============================] - 14s 65ms/sample - loss: 1.7607 - sparse_categorical_accuracy: 0.4727\n",
      "Epoch 5/10\n",
      "220/220 [==============================] - 14s 66ms/sample - loss: 1.7883 - sparse_categorical_accuracy: 0.4818\n",
      "Epoch 6/10\n",
      "220/220 [==============================] - 15s 66ms/sample - loss: 1.7390 - sparse_categorical_accuracy: 0.4864\n",
      "Epoch 7/10\n",
      "220/220 [==============================] - 14s 65ms/sample - loss: 1.7732 - sparse_categorical_accuracy: 0.4909\n",
      "Epoch 8/10\n",
      "220/220 [==============================] - 14s 65ms/sample - loss: 1.8472 - sparse_categorical_accuracy: 0.4682\n",
      "Epoch 9/10\n",
      "220/220 [==============================] - 14s 66ms/sample - loss: 1.7107 - sparse_categorical_accuracy: 0.4864\n",
      "Epoch 10/10\n",
      "220/220 [==============================] - 14s 66ms/sample - loss: 1.8404 - sparse_categorical_accuracy: 0.4455\n"
     ]
    },
    {
     "name": "stderr",
     "output_type": "stream",
     "text": [
      "\r",
      "50it [2:22:13, 251.54s/it]"
     ]
    },
    {
     "name": "stdout",
     "output_type": "stream",
     "text": [
      "Epoch 1/10\n",
      "220/220 [==============================] - 20s 91ms/sample - loss: 1.8307 - sparse_categorical_accuracy: 0.4909\n",
      "Epoch 2/10\n",
      "220/220 [==============================] - 15s 67ms/sample - loss: 1.8099 - sparse_categorical_accuracy: 0.4773\n",
      "Epoch 3/10\n",
      "220/220 [==============================] - 15s 67ms/sample - loss: 1.8000 - sparse_categorical_accuracy: 0.4773\n",
      "Epoch 4/10\n",
      "220/220 [==============================] - 15s 67ms/sample - loss: 1.7370 - sparse_categorical_accuracy: 0.4864\n",
      "Epoch 5/10\n",
      "220/220 [==============================] - 15s 67ms/sample - loss: 1.7418 - sparse_categorical_accuracy: 0.4727\n",
      "Epoch 6/10\n",
      "220/220 [==============================] - 15s 67ms/sample - loss: 1.8569 - sparse_categorical_accuracy: 0.4591\n",
      "Epoch 7/10\n",
      "220/220 [==============================] - 15s 67ms/sample - loss: 1.7069 - sparse_categorical_accuracy: 0.4773\n",
      "Epoch 8/10\n",
      "220/220 [==============================] - 15s 67ms/sample - loss: 1.7935 - sparse_categorical_accuracy: 0.4636\n",
      "Epoch 9/10\n",
      "220/220 [==============================] - 15s 68ms/sample - loss: 1.7633 - sparse_categorical_accuracy: 0.4773\n",
      "Epoch 10/10\n",
      "220/220 [==============================] - 15s 67ms/sample - loss: 1.8757 - sparse_categorical_accuracy: 0.4773\n"
     ]
    },
    {
     "name": "stderr",
     "output_type": "stream",
     "text": [
      "\r",
      "51it [2:26:23, 251.15s/it]"
     ]
    },
    {
     "name": "stdout",
     "output_type": "stream",
     "text": [
      "Epoch 1/10\n",
      "220/220 [==============================] - 20s 90ms/sample - loss: 1.8191 - sparse_categorical_accuracy: 0.4818\n",
      "Epoch 2/10\n",
      "220/220 [==============================] - 15s 66ms/sample - loss: 1.7341 - sparse_categorical_accuracy: 0.5000\n",
      "Epoch 3/10\n",
      "220/220 [==============================] - 15s 66ms/sample - loss: 1.8451 - sparse_categorical_accuracy: 0.4636\n",
      "Epoch 4/10\n",
      "220/220 [==============================] - 15s 67ms/sample - loss: 1.7565 - sparse_categorical_accuracy: 0.4773\n",
      "Epoch 5/10\n",
      "220/220 [==============================] - 15s 67ms/sample - loss: 1.7067 - sparse_categorical_accuracy: 0.4864\n",
      "Epoch 6/10\n",
      "220/220 [==============================] - 15s 66ms/sample - loss: 1.7475 - sparse_categorical_accuracy: 0.5136\n",
      "Epoch 7/10\n",
      "220/220 [==============================] - 15s 67ms/sample - loss: 1.7985 - sparse_categorical_accuracy: 0.4682\n",
      "Epoch 8/10\n",
      "220/220 [==============================] - 15s 67ms/sample - loss: 1.7031 - sparse_categorical_accuracy: 0.4636\n",
      "Epoch 9/10\n",
      "220/220 [==============================] - 15s 67ms/sample - loss: 1.8650 - sparse_categorical_accuracy: 0.4545\n",
      "Epoch 10/10\n",
      "220/220 [==============================] - 15s 67ms/sample - loss: 1.7380 - sparse_categorical_accuracy: 0.4909\n"
     ]
    },
    {
     "name": "stderr",
     "output_type": "stream",
     "text": [
      "\r",
      "52it [2:30:34, 251.04s/it]"
     ]
    },
    {
     "name": "stdout",
     "output_type": "stream",
     "text": [
      "Epoch 1/10\n",
      "220/220 [==============================] - 20s 91ms/sample - loss: 1.8136 - sparse_categorical_accuracy: 0.5045\n",
      "Epoch 2/10\n",
      "220/220 [==============================] - 15s 67ms/sample - loss: 1.7955 - sparse_categorical_accuracy: 0.4273\n",
      "Epoch 3/10\n",
      "220/220 [==============================] - 15s 67ms/sample - loss: 1.8006 - sparse_categorical_accuracy: 0.4636\n",
      "Epoch 4/10\n",
      "220/220 [==============================] - 15s 67ms/sample - loss: 1.7499 - sparse_categorical_accuracy: 0.4864\n",
      "Epoch 5/10\n",
      "220/220 [==============================] - 15s 67ms/sample - loss: 1.7077 - sparse_categorical_accuracy: 0.5000\n",
      "Epoch 6/10\n",
      "220/220 [==============================] - 15s 67ms/sample - loss: 1.7392 - sparse_categorical_accuracy: 0.5227\n",
      "Epoch 7/10\n",
      "220/220 [==============================] - 15s 67ms/sample - loss: 1.7049 - sparse_categorical_accuracy: 0.4818\n",
      "Epoch 8/10\n",
      "220/220 [==============================] - 15s 67ms/sample - loss: 1.7630 - sparse_categorical_accuracy: 0.4818\n",
      "Epoch 9/10\n",
      "220/220 [==============================] - 15s 67ms/sample - loss: 1.7180 - sparse_categorical_accuracy: 0.5227\n",
      "Epoch 10/10\n",
      "220/220 [==============================] - 15s 67ms/sample - loss: 1.7944 - sparse_categorical_accuracy: 0.4955\n"
     ]
    },
    {
     "name": "stderr",
     "output_type": "stream",
     "text": [
      "\r",
      "53it [2:34:48, 252.05s/it]"
     ]
    },
    {
     "name": "stdout",
     "output_type": "stream",
     "text": [
      "Epoch 1/10\n",
      "220/220 [==============================] - 20s 92ms/sample - loss: 1.8002 - sparse_categorical_accuracy: 0.4636\n",
      "Epoch 2/10\n",
      "220/220 [==============================] - 15s 68ms/sample - loss: 1.7237 - sparse_categorical_accuracy: 0.4955\n",
      "Epoch 3/10\n",
      "220/220 [==============================] - 15s 69ms/sample - loss: 1.7667 - sparse_categorical_accuracy: 0.5091\n",
      "Epoch 4/10\n",
      "220/220 [==============================] - 15s 68ms/sample - loss: 1.7930 - sparse_categorical_accuracy: 0.4682\n",
      "Epoch 5/10\n",
      "220/220 [==============================] - 15s 68ms/sample - loss: 1.7195 - sparse_categorical_accuracy: 0.4773\n",
      "Epoch 6/10\n",
      "220/220 [==============================] - 15s 68ms/sample - loss: 1.8641 - sparse_categorical_accuracy: 0.4727\n",
      "Epoch 7/10\n",
      "220/220 [==============================] - 15s 68ms/sample - loss: 1.7574 - sparse_categorical_accuracy: 0.4909\n",
      "Epoch 8/10\n",
      "220/220 [==============================] - 15s 68ms/sample - loss: 1.7274 - sparse_categorical_accuracy: 0.4773\n",
      "Epoch 9/10\n",
      "220/220 [==============================] - 15s 68ms/sample - loss: 1.6741 - sparse_categorical_accuracy: 0.5000\n",
      "Epoch 10/10\n",
      "220/220 [==============================] - 15s 68ms/sample - loss: 1.7614 - sparse_categorical_accuracy: 0.4818\n"
     ]
    },
    {
     "name": "stderr",
     "output_type": "stream",
     "text": [
      "\r",
      "54it [2:39:10, 254.83s/it]"
     ]
    },
    {
     "name": "stdout",
     "output_type": "stream",
     "text": [
      "Epoch 1/10\n",
      "220/220 [==============================] - 20s 92ms/sample - loss: 1.7574 - sparse_categorical_accuracy: 0.5182\n",
      "Epoch 2/10\n",
      "220/220 [==============================] - 15s 67ms/sample - loss: 1.7018 - sparse_categorical_accuracy: 0.5409\n",
      "Epoch 3/10\n",
      "220/220 [==============================] - 15s 67ms/sample - loss: 1.7136 - sparse_categorical_accuracy: 0.5000\n",
      "Epoch 4/10\n",
      "220/220 [==============================] - 15s 67ms/sample - loss: 1.7434 - sparse_categorical_accuracy: 0.4636\n",
      "Epoch 5/10\n",
      "220/220 [==============================] - 15s 69ms/sample - loss: 1.7750 - sparse_categorical_accuracy: 0.4636\n",
      "Epoch 6/10\n",
      "220/220 [==============================] - 15s 68ms/sample - loss: 1.6755 - sparse_categorical_accuracy: 0.5000\n",
      "Epoch 7/10\n",
      "220/220 [==============================] - 15s 67ms/sample - loss: 1.8249 - sparse_categorical_accuracy: 0.4364\n",
      "Epoch 8/10\n",
      "220/220 [==============================] - 15s 67ms/sample - loss: 1.8397 - sparse_categorical_accuracy: 0.4682\n",
      "Epoch 9/10\n",
      "220/220 [==============================] - 15s 67ms/sample - loss: 1.7535 - sparse_categorical_accuracy: 0.5091\n",
      "Epoch 10/10\n",
      "220/220 [==============================] - 15s 67ms/sample - loss: 1.7265 - sparse_categorical_accuracy: 0.4909\n"
     ]
    },
    {
     "name": "stderr",
     "output_type": "stream",
     "text": [
      "\r",
      "55it [2:43:40, 259.51s/it]"
     ]
    },
    {
     "name": "stdout",
     "output_type": "stream",
     "text": [
      "Epoch 1/10\n",
      "220/220 [==============================] - 20s 92ms/sample - loss: 1.8303 - sparse_categorical_accuracy: 0.4818\n",
      "Epoch 2/10\n",
      "220/220 [==============================] - 15s 68ms/sample - loss: 1.7882 - sparse_categorical_accuracy: 0.4773\n",
      "Epoch 3/10\n",
      "220/220 [==============================] - 15s 68ms/sample - loss: 1.7708 - sparse_categorical_accuracy: 0.4909\n",
      "Epoch 4/10\n",
      "220/220 [==============================] - 15s 68ms/sample - loss: 1.6939 - sparse_categorical_accuracy: 0.5045\n",
      "Epoch 5/10\n",
      "220/220 [==============================] - 15s 68ms/sample - loss: 1.7826 - sparse_categorical_accuracy: 0.5000\n",
      "Epoch 6/10\n",
      "220/220 [==============================] - 15s 68ms/sample - loss: 1.7496 - sparse_categorical_accuracy: 0.4818\n",
      "Epoch 7/10\n",
      "220/220 [==============================] - 15s 68ms/sample - loss: 1.7088 - sparse_categorical_accuracy: 0.5182\n",
      "Epoch 8/10\n",
      "220/220 [==============================] - 15s 68ms/sample - loss: 1.7499 - sparse_categorical_accuracy: 0.5136\n",
      "Epoch 9/10\n",
      "220/220 [==============================] - 15s 67ms/sample - loss: 1.7263 - sparse_categorical_accuracy: 0.5364\n",
      "Epoch 10/10\n",
      "220/220 [==============================] - 15s 68ms/sample - loss: 1.8288 - sparse_categorical_accuracy: 0.4591\n"
     ]
    },
    {
     "name": "stderr",
     "output_type": "stream",
     "text": [
      "\r",
      "56it [2:48:05, 261.02s/it]"
     ]
    },
    {
     "name": "stdout",
     "output_type": "stream",
     "text": [
      "Epoch 1/10\n",
      "220/220 [==============================] - 20s 91ms/sample - loss: 1.6832 - sparse_categorical_accuracy: 0.4818\n",
      "Epoch 2/10\n",
      "220/220 [==============================] - 15s 67ms/sample - loss: 1.8112 - sparse_categorical_accuracy: 0.4773\n",
      "Epoch 3/10\n",
      "220/220 [==============================] - 15s 67ms/sample - loss: 1.7667 - sparse_categorical_accuracy: 0.5045\n",
      "Epoch 4/10\n",
      "220/220 [==============================] - 15s 67ms/sample - loss: 1.7133 - sparse_categorical_accuracy: 0.5045\n",
      "Epoch 5/10\n",
      "220/220 [==============================] - 15s 67ms/sample - loss: 1.7845 - sparse_categorical_accuracy: 0.4955\n",
      "Epoch 6/10\n",
      "220/220 [==============================] - 15s 67ms/sample - loss: 1.7222 - sparse_categorical_accuracy: 0.5045\n",
      "Epoch 7/10\n",
      "220/220 [==============================] - 15s 67ms/sample - loss: 1.7507 - sparse_categorical_accuracy: 0.4955\n",
      "Epoch 8/10\n",
      "220/220 [==============================] - 15s 67ms/sample - loss: 1.6605 - sparse_categorical_accuracy: 0.5273\n",
      "Epoch 9/10\n",
      "220/220 [==============================] - 15s 67ms/sample - loss: 1.7316 - sparse_categorical_accuracy: 0.4909\n",
      "Epoch 10/10\n",
      "220/220 [==============================] - 15s 67ms/sample - loss: 1.7716 - sparse_categorical_accuracy: 0.4818\n"
     ]
    },
    {
     "name": "stderr",
     "output_type": "stream",
     "text": [
      "\r",
      "57it [2:52:31, 262.68s/it]"
     ]
    },
    {
     "name": "stdout",
     "output_type": "stream",
     "text": [
      "Epoch 1/10\n",
      "220/220 [==============================] - 21s 94ms/sample - loss: 1.7126 - sparse_categorical_accuracy: 0.4909\n",
      "Epoch 2/10\n",
      "220/220 [==============================] - 15s 69ms/sample - loss: 1.7374 - sparse_categorical_accuracy: 0.4955\n",
      "Epoch 3/10\n",
      "220/220 [==============================] - 15s 69ms/sample - loss: 1.8292 - sparse_categorical_accuracy: 0.5000\n",
      "Epoch 4/10\n",
      "220/220 [==============================] - 15s 69ms/sample - loss: 1.7902 - sparse_categorical_accuracy: 0.5045\n",
      "Epoch 5/10\n",
      "220/220 [==============================] - 15s 69ms/sample - loss: 1.7200 - sparse_categorical_accuracy: 0.5045\n",
      "Epoch 6/10\n",
      "220/220 [==============================] - 15s 69ms/sample - loss: 1.6194 - sparse_categorical_accuracy: 0.5273\n",
      "Epoch 7/10\n",
      "220/220 [==============================] - 15s 69ms/sample - loss: 1.7184 - sparse_categorical_accuracy: 0.4864\n",
      "Epoch 8/10\n",
      "220/220 [==============================] - 15s 69ms/sample - loss: 1.6422 - sparse_categorical_accuracy: 0.5091\n",
      "Epoch 9/10\n",
      "220/220 [==============================] - 15s 69ms/sample - loss: 1.8607 - sparse_categorical_accuracy: 0.4909\n",
      "Epoch 10/10\n",
      "220/220 [==============================] - 15s 69ms/sample - loss: 1.7871 - sparse_categorical_accuracy: 0.4545\n"
     ]
    },
    {
     "name": "stderr",
     "output_type": "stream",
     "text": [
      "\r",
      "58it [2:57:06, 266.44s/it]"
     ]
    },
    {
     "name": "stdout",
     "output_type": "stream",
     "text": [
      "Epoch 1/10\n",
      "220/220 [==============================] - 23s 103ms/sample - loss: 1.7887 - sparse_categorical_accuracy: 0.5045\n",
      "Epoch 2/10\n",
      "220/220 [==============================] - 16s 71ms/sample - loss: 1.7855 - sparse_categorical_accuracy: 0.4864\n",
      "Epoch 3/10\n",
      "220/220 [==============================] - 16s 71ms/sample - loss: 1.8075 - sparse_categorical_accuracy: 0.5000\n",
      "Epoch 4/10\n",
      "220/220 [==============================] - 16s 72ms/sample - loss: 1.8695 - sparse_categorical_accuracy: 0.4455\n",
      "Epoch 5/10\n",
      "220/220 [==============================] - 16s 71ms/sample - loss: 1.8618 - sparse_categorical_accuracy: 0.4636\n",
      "Epoch 6/10\n",
      "220/220 [==============================] - 16s 71ms/sample - loss: 1.7871 - sparse_categorical_accuracy: 0.4864\n",
      "Epoch 7/10\n",
      "220/220 [==============================] - 16s 72ms/sample - loss: 1.8397 - sparse_categorical_accuracy: 0.4682\n",
      "Epoch 8/10\n",
      "220/220 [==============================] - 16s 71ms/sample - loss: 1.7677 - sparse_categorical_accuracy: 0.4909\n",
      "Epoch 9/10\n",
      "220/220 [==============================] - 16s 71ms/sample - loss: 1.7328 - sparse_categorical_accuracy: 0.5045\n",
      "Epoch 10/10\n",
      "220/220 [==============================] - 16s 71ms/sample - loss: 1.7907 - sparse_categorical_accuracy: 0.5091\n"
     ]
    },
    {
     "name": "stderr",
     "output_type": "stream",
     "text": [
      "\r",
      "59it [3:05:37, 339.81s/it]"
     ]
    },
    {
     "name": "stdout",
     "output_type": "stream",
     "text": [
      "Epoch 1/10\n",
      "220/220 [==============================] - 22s 99ms/sample - loss: 1.8378 - sparse_categorical_accuracy: 0.4727\n",
      "Epoch 2/10\n",
      "220/220 [==============================] - 16s 72ms/sample - loss: 1.7829 - sparse_categorical_accuracy: 0.4818\n",
      "Epoch 3/10\n",
      "220/220 [==============================] - 16s 72ms/sample - loss: 1.7624 - sparse_categorical_accuracy: 0.4864\n",
      "Epoch 4/10\n",
      "220/220 [==============================] - 16s 72ms/sample - loss: 1.7643 - sparse_categorical_accuracy: 0.5136\n",
      "Epoch 5/10\n",
      "220/220 [==============================] - 16s 72ms/sample - loss: 1.8348 - sparse_categorical_accuracy: 0.4909\n",
      "Epoch 6/10\n",
      "220/220 [==============================] - 16s 72ms/sample - loss: 1.8586 - sparse_categorical_accuracy: 0.4818\n",
      "Epoch 7/10\n",
      "220/220 [==============================] - 16s 73ms/sample - loss: 1.7306 - sparse_categorical_accuracy: 0.4682\n",
      "Epoch 8/10\n",
      "220/220 [==============================] - 16s 72ms/sample - loss: 1.7003 - sparse_categorical_accuracy: 0.5136\n",
      "Epoch 9/10\n",
      "220/220 [==============================] - 16s 72ms/sample - loss: 1.8036 - sparse_categorical_accuracy: 0.4773\n",
      "Epoch 10/10\n",
      "220/220 [==============================] - 16s 71ms/sample - loss: 1.7837 - sparse_categorical_accuracy: 0.4955\n"
     ]
    },
    {
     "name": "stderr",
     "output_type": "stream",
     "text": [
      "\r",
      "60it [3:11:13, 338.63s/it]"
     ]
    },
    {
     "name": "stdout",
     "output_type": "stream",
     "text": [
      "Epoch 1/10\n",
      "220/220 [==============================] - 22s 102ms/sample - loss: 1.7648 - sparse_categorical_accuracy: 0.4864\n",
      "Epoch 2/10\n",
      "220/220 [==============================] - 16s 73ms/sample - loss: 1.8223 - sparse_categorical_accuracy: 0.4909\n",
      "Epoch 3/10\n",
      "220/220 [==============================] - 16s 73ms/sample - loss: 1.6874 - sparse_categorical_accuracy: 0.5091\n",
      "Epoch 4/10\n",
      "220/220 [==============================] - 16s 73ms/sample - loss: 1.7304 - sparse_categorical_accuracy: 0.4955\n",
      "Epoch 5/10\n",
      "220/220 [==============================] - 16s 74ms/sample - loss: 1.6819 - sparse_categorical_accuracy: 0.5182\n",
      "Epoch 6/10\n",
      "220/220 [==============================] - 16s 73ms/sample - loss: 1.7145 - sparse_categorical_accuracy: 0.5045\n",
      "Epoch 7/10\n",
      "220/220 [==============================] - 16s 74ms/sample - loss: 1.6642 - sparse_categorical_accuracy: 0.5273\n",
      "Epoch 8/10\n",
      "220/220 [==============================] - 16s 73ms/sample - loss: 1.6739 - sparse_categorical_accuracy: 0.5227\n",
      "Epoch 9/10\n",
      "220/220 [==============================] - 16s 74ms/sample - loss: 1.7058 - sparse_categorical_accuracy: 0.5000\n",
      "Epoch 10/10\n",
      "220/220 [==============================] - 16s 73ms/sample - loss: 1.7660 - sparse_categorical_accuracy: 0.4773\n"
     ]
    },
    {
     "name": "stderr",
     "output_type": "stream",
     "text": [
      "\r",
      "61it [3:16:11, 326.21s/it]"
     ]
    },
    {
     "name": "stdout",
     "output_type": "stream",
     "text": [
      "Epoch 1/10\n",
      "220/220 [==============================] - 22s 100ms/sample - loss: 1.6556 - sparse_categorical_accuracy: 0.5227\n",
      "Epoch 2/10\n",
      "220/220 [==============================] - 16s 72ms/sample - loss: 1.7231 - sparse_categorical_accuracy: 0.4955\n",
      "Epoch 3/10\n",
      "220/220 [==============================] - 16s 72ms/sample - loss: 1.6212 - sparse_categorical_accuracy: 0.5364\n",
      "Epoch 4/10\n",
      "220/220 [==============================] - 16s 72ms/sample - loss: 1.7154 - sparse_categorical_accuracy: 0.4909\n",
      "Epoch 5/10\n",
      "220/220 [==============================] - 16s 73ms/sample - loss: 1.8293 - sparse_categorical_accuracy: 0.4818\n",
      "Epoch 6/10\n",
      "220/220 [==============================] - 16s 72ms/sample - loss: 1.7903 - sparse_categorical_accuracy: 0.4864\n",
      "Epoch 7/10\n",
      "220/220 [==============================] - 16s 72ms/sample - loss: 1.7374 - sparse_categorical_accuracy: 0.4727\n",
      "Epoch 8/10\n",
      "220/220 [==============================] - 16s 72ms/sample - loss: 1.6993 - sparse_categorical_accuracy: 0.4955\n",
      "Epoch 9/10\n",
      "220/220 [==============================] - 16s 73ms/sample - loss: 1.7420 - sparse_categorical_accuracy: 0.5182\n",
      "Epoch 10/10\n",
      "220/220 [==============================] - 16s 72ms/sample - loss: 1.6603 - sparse_categorical_accuracy: 0.5182\n"
     ]
    },
    {
     "name": "stderr",
     "output_type": "stream",
     "text": [
      "\r",
      "62it [3:21:08, 317.48s/it]"
     ]
    },
    {
     "name": "stdout",
     "output_type": "stream",
     "text": [
      "Epoch 1/10\n",
      "220/220 [==============================] - 23s 103ms/sample - loss: 1.7706 - sparse_categorical_accuracy: 0.5045\n",
      "Epoch 2/10\n",
      "220/220 [==============================] - 16s 74ms/sample - loss: 1.7383 - sparse_categorical_accuracy: 0.5045\n",
      "Epoch 3/10\n",
      "220/220 [==============================] - 16s 74ms/sample - loss: 1.7558 - sparse_categorical_accuracy: 0.4773\n",
      "Epoch 4/10\n",
      "220/220 [==============================] - 16s 74ms/sample - loss: 1.6189 - sparse_categorical_accuracy: 0.5045\n",
      "Epoch 5/10\n",
      "220/220 [==============================] - 16s 74ms/sample - loss: 1.7081 - sparse_categorical_accuracy: 0.5091\n",
      "Epoch 6/10\n",
      "220/220 [==============================] - 16s 74ms/sample - loss: 1.7847 - sparse_categorical_accuracy: 0.4818\n",
      "Epoch 7/10\n",
      "220/220 [==============================] - 16s 73ms/sample - loss: 1.7883 - sparse_categorical_accuracy: 0.5045\n",
      "Epoch 8/10\n",
      "220/220 [==============================] - 16s 73ms/sample - loss: 1.6701 - sparse_categorical_accuracy: 0.5136\n",
      "Epoch 9/10\n",
      "220/220 [==============================] - 16s 74ms/sample - loss: 1.7457 - sparse_categorical_accuracy: 0.5000\n",
      "Epoch 10/10\n",
      "220/220 [==============================] - 16s 73ms/sample - loss: 1.7024 - sparse_categorical_accuracy: 0.4727\n"
     ]
    },
    {
     "name": "stderr",
     "output_type": "stream",
     "text": [
      "\r",
      "63it [3:26:18, 315.19s/it]"
     ]
    },
    {
     "name": "stdout",
     "output_type": "stream",
     "text": [
      "Epoch 1/10\n",
      "220/220 [==============================] - 22s 102ms/sample - loss: 1.7764 - sparse_categorical_accuracy: 0.4818\n",
      "Epoch 2/10\n",
      "220/220 [==============================] - 16s 73ms/sample - loss: 1.6790 - sparse_categorical_accuracy: 0.5091\n",
      "Epoch 3/10\n",
      "220/220 [==============================] - 16s 73ms/sample - loss: 1.7264 - sparse_categorical_accuracy: 0.5182\n",
      "Epoch 4/10\n",
      "220/220 [==============================] - 16s 74ms/sample - loss: 1.6983 - sparse_categorical_accuracy: 0.4955\n",
      "Epoch 5/10\n",
      "220/220 [==============================] - 16s 74ms/sample - loss: 1.7580 - sparse_categorical_accuracy: 0.4727\n",
      "Epoch 6/10\n",
      "220/220 [==============================] - 16s 74ms/sample - loss: 1.7280 - sparse_categorical_accuracy: 0.4818\n",
      "Epoch 7/10\n",
      "220/220 [==============================] - 16s 74ms/sample - loss: 1.6329 - sparse_categorical_accuracy: 0.5227\n",
      "Epoch 8/10\n",
      "220/220 [==============================] - 16s 74ms/sample - loss: 1.6788 - sparse_categorical_accuracy: 0.5182\n",
      "Epoch 9/10\n",
      "220/220 [==============================] - 16s 74ms/sample - loss: 1.6743 - sparse_categorical_accuracy: 0.5045\n",
      "Epoch 10/10\n",
      "220/220 [==============================] - 16s 73ms/sample - loss: 1.6760 - sparse_categorical_accuracy: 0.4909\n"
     ]
    },
    {
     "name": "stderr",
     "output_type": "stream",
     "text": [
      "\r",
      "64it [3:31:43, 318.15s/it]"
     ]
    },
    {
     "name": "stdout",
     "output_type": "stream",
     "text": [
      "Epoch 1/10\n",
      "220/220 [==============================] - 22s 102ms/sample - loss: 1.7574 - sparse_categorical_accuracy: 0.4818\n",
      "Epoch 2/10\n",
      "220/220 [==============================] - 16s 74ms/sample - loss: 1.6823 - sparse_categorical_accuracy: 0.5000\n",
      "Epoch 3/10\n",
      "220/220 [==============================] - 16s 74ms/sample - loss: 1.6513 - sparse_categorical_accuracy: 0.5364\n",
      "Epoch 4/10\n",
      "220/220 [==============================] - 16s 73ms/sample - loss: 1.7795 - sparse_categorical_accuracy: 0.4500\n",
      "Epoch 5/10\n",
      "220/220 [==============================] - 16s 73ms/sample - loss: 1.7152 - sparse_categorical_accuracy: 0.5182\n",
      "Epoch 6/10\n",
      "220/220 [==============================] - 16s 74ms/sample - loss: 1.6391 - sparse_categorical_accuracy: 0.5273\n",
      "Epoch 7/10\n",
      "220/220 [==============================] - 16s 73ms/sample - loss: 1.7559 - sparse_categorical_accuracy: 0.4636\n",
      "Epoch 8/10\n",
      "220/220 [==============================] - 16s 73ms/sample - loss: 1.6251 - sparse_categorical_accuracy: 0.4955\n",
      "Epoch 9/10\n",
      "220/220 [==============================] - 16s 74ms/sample - loss: 1.7501 - sparse_categorical_accuracy: 0.5182\n",
      "Epoch 10/10\n",
      "220/220 [==============================] - 16s 74ms/sample - loss: 1.7354 - sparse_categorical_accuracy: 0.4500\n"
     ]
    },
    {
     "name": "stderr",
     "output_type": "stream",
     "text": [
      "\r",
      "65it [3:37:27, 325.90s/it]"
     ]
    },
    {
     "name": "stdout",
     "output_type": "stream",
     "text": [
      "Epoch 1/10\n",
      "220/220 [==============================] - 23s 104ms/sample - loss: 1.7218 - sparse_categorical_accuracy: 0.5136\n",
      "Epoch 2/10\n",
      "220/220 [==============================] - 16s 74ms/sample - loss: 1.8324 - sparse_categorical_accuracy: 0.4818\n",
      "Epoch 3/10\n",
      "220/220 [==============================] - 16s 74ms/sample - loss: 1.6348 - sparse_categorical_accuracy: 0.5182\n",
      "Epoch 4/10\n",
      "220/220 [==============================] - 16s 74ms/sample - loss: 1.6630 - sparse_categorical_accuracy: 0.5455\n",
      "Epoch 5/10\n",
      "220/220 [==============================] - 16s 73ms/sample - loss: 1.8017 - sparse_categorical_accuracy: 0.5091\n",
      "Epoch 6/10\n",
      "220/220 [==============================] - 16s 74ms/sample - loss: 1.6431 - sparse_categorical_accuracy: 0.5045\n",
      "Epoch 7/10\n",
      "220/220 [==============================] - 16s 74ms/sample - loss: 1.7431 - sparse_categorical_accuracy: 0.5364\n",
      "Epoch 8/10\n",
      "220/220 [==============================] - 16s 74ms/sample - loss: 1.7760 - sparse_categorical_accuracy: 0.4682\n",
      "Epoch 9/10\n",
      "220/220 [==============================] - 16s 74ms/sample - loss: 1.6381 - sparse_categorical_accuracy: 0.5091\n",
      "Epoch 10/10\n",
      "220/220 [==============================] - 16s 74ms/sample - loss: 1.7181 - sparse_categorical_accuracy: 0.4727\n"
     ]
    },
    {
     "name": "stderr",
     "output_type": "stream",
     "text": [
      "\r",
      "66it [3:43:24, 335.50s/it]"
     ]
    },
    {
     "name": "stdout",
     "output_type": "stream",
     "text": [
      "Epoch 1/10\n",
      "220/220 [==============================] - 23s 103ms/sample - loss: 1.7372 - sparse_categorical_accuracy: 0.4773\n",
      "Epoch 2/10\n",
      "220/220 [==============================] - 16s 74ms/sample - loss: 1.6565 - sparse_categorical_accuracy: 0.4909\n",
      "Epoch 3/10\n",
      "220/220 [==============================] - 16s 73ms/sample - loss: 1.6935 - sparse_categorical_accuracy: 0.5136\n",
      "Epoch 4/10\n",
      "220/220 [==============================] - 16s 73ms/sample - loss: 1.6750 - sparse_categorical_accuracy: 0.5364\n",
      "Epoch 5/10\n",
      "220/220 [==============================] - 16s 73ms/sample - loss: 1.6850 - sparse_categorical_accuracy: 0.5227\n",
      "Epoch 6/10\n",
      "220/220 [==============================] - 16s 74ms/sample - loss: 1.7982 - sparse_categorical_accuracy: 0.4864\n",
      "Epoch 7/10\n",
      "220/220 [==============================] - 16s 74ms/sample - loss: 1.8046 - sparse_categorical_accuracy: 0.4636\n",
      "Epoch 8/10\n",
      "220/220 [==============================] - 16s 74ms/sample - loss: 1.7610 - sparse_categorical_accuracy: 0.4909\n",
      "Epoch 9/10\n",
      "220/220 [==============================] - 16s 73ms/sample - loss: 1.7513 - sparse_categorical_accuracy: 0.5045\n",
      "Epoch 10/10\n",
      "220/220 [==============================] - 16s 74ms/sample - loss: 1.6525 - sparse_categorical_accuracy: 0.5182\n"
     ]
    },
    {
     "name": "stderr",
     "output_type": "stream",
     "text": [
      "\r",
      "67it [3:49:19, 341.14s/it]"
     ]
    },
    {
     "name": "stdout",
     "output_type": "stream",
     "text": [
      "Epoch 1/10\n",
      "220/220 [==============================] - 23s 103ms/sample - loss: 1.8436 - sparse_categorical_accuracy: 0.4727\n",
      "Epoch 2/10\n",
      "220/220 [==============================] - 16s 74ms/sample - loss: 1.9011 - sparse_categorical_accuracy: 0.4500\n",
      "Epoch 3/10\n",
      "220/220 [==============================] - 16s 73ms/sample - loss: 1.8016 - sparse_categorical_accuracy: 0.4864\n",
      "Epoch 4/10\n",
      "220/220 [==============================] - 16s 74ms/sample - loss: 1.6490 - sparse_categorical_accuracy: 0.5136\n",
      "Epoch 5/10\n",
      "220/220 [==============================] - 16s 74ms/sample - loss: 1.7527 - sparse_categorical_accuracy: 0.5045\n",
      "Epoch 6/10\n",
      "220/220 [==============================] - 16s 75ms/sample - loss: 1.6313 - sparse_categorical_accuracy: 0.5636\n",
      "Epoch 7/10\n",
      "220/220 [==============================] - 16s 74ms/sample - loss: 1.5831 - sparse_categorical_accuracy: 0.5364\n",
      "Epoch 8/10\n",
      "220/220 [==============================] - 16s 74ms/sample - loss: 1.7205 - sparse_categorical_accuracy: 0.5000\n",
      "Epoch 9/10\n",
      "220/220 [==============================] - 16s 74ms/sample - loss: 1.6883 - sparse_categorical_accuracy: 0.4864\n",
      "Epoch 10/10\n",
      "220/220 [==============================] - 16s 73ms/sample - loss: 1.6884 - sparse_categorical_accuracy: 0.5182\n"
     ]
    },
    {
     "name": "stderr",
     "output_type": "stream",
     "text": [
      "\r",
      "68it [3:55:30, 350.11s/it]"
     ]
    },
    {
     "name": "stdout",
     "output_type": "stream",
     "text": [
      "Epoch 1/10\n",
      "220/220 [==============================] - 25s 113ms/sample - loss: 1.6649 - sparse_categorical_accuracy: 0.4955\n",
      "Epoch 2/10\n",
      "220/220 [==============================] - 16s 74ms/sample - loss: 1.7168 - sparse_categorical_accuracy: 0.5091\n",
      "Epoch 3/10\n",
      "220/220 [==============================] - 16s 74ms/sample - loss: 1.6596 - sparse_categorical_accuracy: 0.5045\n",
      "Epoch 4/10\n",
      "220/220 [==============================] - 16s 75ms/sample - loss: 1.6763 - sparse_categorical_accuracy: 0.5000\n",
      "Epoch 5/10\n",
      "220/220 [==============================] - 16s 74ms/sample - loss: 1.6574 - sparse_categorical_accuracy: 0.5500\n",
      "Epoch 6/10\n",
      "220/220 [==============================] - 16s 74ms/sample - loss: 1.6136 - sparse_categorical_accuracy: 0.5182\n",
      "Epoch 7/10\n",
      "220/220 [==============================] - 16s 74ms/sample - loss: 1.6331 - sparse_categorical_accuracy: 0.5227\n",
      "Epoch 8/10\n",
      "220/220 [==============================] - 17s 76ms/sample - loss: 1.6984 - sparse_categorical_accuracy: 0.4682\n",
      "Epoch 9/10\n",
      "220/220 [==============================] - 16s 74ms/sample - loss: 1.6567 - sparse_categorical_accuracy: 0.5545\n",
      "Epoch 10/10\n",
      "220/220 [==============================] - 16s 74ms/sample - loss: 1.7035 - sparse_categorical_accuracy: 0.5091\n"
     ]
    },
    {
     "name": "stderr",
     "output_type": "stream",
     "text": [
      "\r",
      "69it [4:01:56, 360.96s/it]"
     ]
    },
    {
     "name": "stdout",
     "output_type": "stream",
     "text": [
      "Epoch 1/10\n",
      "220/220 [==============================] - 24s 107ms/sample - loss: 1.7514 - sparse_categorical_accuracy: 0.4818\n",
      "Epoch 2/10\n",
      "220/220 [==============================] - 17s 77ms/sample - loss: 1.6752 - sparse_categorical_accuracy: 0.5091\n",
      "Epoch 3/10\n",
      "220/220 [==============================] - 17s 76ms/sample - loss: 1.7117 - sparse_categorical_accuracy: 0.5091\n",
      "Epoch 4/10\n",
      "220/220 [==============================] - 17s 76ms/sample - loss: 1.7410 - sparse_categorical_accuracy: 0.4955\n",
      "Epoch 5/10\n",
      "220/220 [==============================] - 17s 76ms/sample - loss: 1.6843 - sparse_categorical_accuracy: 0.4909\n",
      "Epoch 6/10\n",
      "220/220 [==============================] - 17s 77ms/sample - loss: 1.7223 - sparse_categorical_accuracy: 0.4909\n",
      "Epoch 7/10\n",
      "220/220 [==============================] - 17s 76ms/sample - loss: 1.6879 - sparse_categorical_accuracy: 0.4773\n",
      "Epoch 8/10\n",
      "220/220 [==============================] - 17s 76ms/sample - loss: 1.6785 - sparse_categorical_accuracy: 0.5273\n",
      "Epoch 9/10\n",
      "220/220 [==============================] - 17s 76ms/sample - loss: 1.7193 - sparse_categorical_accuracy: 0.5000\n",
      "Epoch 10/10\n",
      "220/220 [==============================] - 17s 77ms/sample - loss: 1.6148 - sparse_categorical_accuracy: 0.5318\n"
     ]
    },
    {
     "name": "stderr",
     "output_type": "stream",
     "text": [
      "\r",
      "70it [4:08:41, 374.02s/it]"
     ]
    },
    {
     "name": "stdout",
     "output_type": "stream",
     "text": [
      "Epoch 1/10\n",
      "220/220 [==============================] - 24s 107ms/sample - loss: 1.6146 - sparse_categorical_accuracy: 0.5364\n",
      "Epoch 2/10\n",
      "220/220 [==============================] - 17s 76ms/sample - loss: 1.6683 - sparse_categorical_accuracy: 0.4682\n",
      "Epoch 3/10\n",
      "220/220 [==============================] - 17s 76ms/sample - loss: 1.6540 - sparse_categorical_accuracy: 0.4909\n",
      "Epoch 4/10\n",
      "220/220 [==============================] - 17s 76ms/sample - loss: 1.7827 - sparse_categorical_accuracy: 0.4727\n",
      "Epoch 5/10\n",
      "220/220 [==============================] - 17s 76ms/sample - loss: 1.7619 - sparse_categorical_accuracy: 0.5091\n",
      "Epoch 6/10\n",
      "220/220 [==============================] - 17s 77ms/sample - loss: 1.6265 - sparse_categorical_accuracy: 0.5409\n",
      "Epoch 7/10\n",
      "220/220 [==============================] - 17s 76ms/sample - loss: 1.6920 - sparse_categorical_accuracy: 0.5591\n",
      "Epoch 8/10\n",
      "220/220 [==============================] - 17s 76ms/sample - loss: 1.6935 - sparse_categorical_accuracy: 0.4909\n",
      "Epoch 9/10\n",
      "220/220 [==============================] - 17s 76ms/sample - loss: 1.6676 - sparse_categorical_accuracy: 0.5227\n",
      "Epoch 10/10\n",
      "220/220 [==============================] - 17s 77ms/sample - loss: 1.5511 - sparse_categorical_accuracy: 0.5455\n"
     ]
    },
    {
     "name": "stderr",
     "output_type": "stream",
     "text": [
      "\r",
      "71it [4:15:36, 386.49s/it]"
     ]
    },
    {
     "name": "stdout",
     "output_type": "stream",
     "text": [
      "Epoch 1/10\n",
      "220/220 [==============================] - 24s 107ms/sample - loss: 1.7042 - sparse_categorical_accuracy: 0.5045\n",
      "Epoch 2/10\n",
      "220/220 [==============================] - 17s 75ms/sample - loss: 1.9036 - sparse_categorical_accuracy: 0.4591\n",
      "Epoch 3/10\n",
      "220/220 [==============================] - 17s 76ms/sample - loss: 1.6848 - sparse_categorical_accuracy: 0.4864\n",
      "Epoch 4/10\n",
      "220/220 [==============================] - 17s 75ms/sample - loss: 1.7504 - sparse_categorical_accuracy: 0.5091\n",
      "Epoch 5/10\n",
      "220/220 [==============================] - 16s 75ms/sample - loss: 1.7395 - sparse_categorical_accuracy: 0.4818\n",
      "Epoch 6/10\n",
      "220/220 [==============================] - 17s 76ms/sample - loss: 1.7036 - sparse_categorical_accuracy: 0.5091\n",
      "Epoch 7/10\n",
      "220/220 [==============================] - 16s 75ms/sample - loss: 1.7375 - sparse_categorical_accuracy: 0.4727\n",
      "Epoch 8/10\n",
      "220/220 [==============================] - 16s 75ms/sample - loss: 1.6504 - sparse_categorical_accuracy: 0.5545\n",
      "Epoch 9/10\n",
      "220/220 [==============================] - 16s 75ms/sample - loss: 1.6796 - sparse_categorical_accuracy: 0.5136\n",
      "Epoch 10/10\n",
      "220/220 [==============================] - 17s 76ms/sample - loss: 1.7413 - sparse_categorical_accuracy: 0.4773\n"
     ]
    },
    {
     "name": "stderr",
     "output_type": "stream",
     "text": [
      "\r",
      "72it [4:22:40, 397.74s/it]"
     ]
    },
    {
     "name": "stdout",
     "output_type": "stream",
     "text": [
      "Epoch 1/10\n",
      "220/220 [==============================] - 25s 112ms/sample - loss: 1.7325 - sparse_categorical_accuracy: 0.5227\n",
      "Epoch 2/10\n",
      "220/220 [==============================] - 18s 80ms/sample - loss: 1.5845 - sparse_categorical_accuracy: 0.5182\n",
      "Epoch 3/10\n",
      "220/220 [==============================] - 17s 78ms/sample - loss: 1.6044 - sparse_categorical_accuracy: 0.5136\n",
      "Epoch 4/10\n",
      "220/220 [==============================] - 17s 78ms/sample - loss: 1.6577 - sparse_categorical_accuracy: 0.5136\n",
      "Epoch 5/10\n",
      "220/220 [==============================] - 17s 78ms/sample - loss: 1.7321 - sparse_categorical_accuracy: 0.5136\n",
      "Epoch 6/10\n",
      "220/220 [==============================] - 17s 79ms/sample - loss: 1.6701 - sparse_categorical_accuracy: 0.5136\n",
      "Epoch 7/10\n",
      "220/220 [==============================] - 17s 78ms/sample - loss: 1.6748 - sparse_categorical_accuracy: 0.5000\n",
      "Epoch 8/10\n",
      "220/220 [==============================] - 17s 78ms/sample - loss: 1.7008 - sparse_categorical_accuracy: 0.5091\n",
      "Epoch 9/10\n",
      "220/220 [==============================] - 17s 79ms/sample - loss: 1.6949 - sparse_categorical_accuracy: 0.5227\n",
      "Epoch 10/10\n",
      "220/220 [==============================] - 17s 78ms/sample - loss: 1.6555 - sparse_categorical_accuracy: 0.5182\n"
     ]
    },
    {
     "name": "stderr",
     "output_type": "stream",
     "text": [
      "\r",
      "73it [4:30:04, 411.60s/it]"
     ]
    },
    {
     "name": "stdout",
     "output_type": "stream",
     "text": [
      "Epoch 1/10\n",
      "220/220 [==============================] - 26s 117ms/sample - loss: 1.7379 - sparse_categorical_accuracy: 0.5227\n",
      "Epoch 2/10\n",
      "220/220 [==============================] - 17s 79ms/sample - loss: 1.7194 - sparse_categorical_accuracy: 0.4591\n",
      "Epoch 3/10\n",
      "220/220 [==============================] - 18s 80ms/sample - loss: 1.6145 - sparse_categorical_accuracy: 0.5182\n",
      "Epoch 4/10\n",
      "220/220 [==============================] - 17s 79ms/sample - loss: 1.7167 - sparse_categorical_accuracy: 0.5091\n",
      "Epoch 5/10\n",
      "220/220 [==============================] - 17s 78ms/sample - loss: 1.6423 - sparse_categorical_accuracy: 0.5227\n",
      "Epoch 6/10\n",
      "220/220 [==============================] - 17s 79ms/sample - loss: 1.6895 - sparse_categorical_accuracy: 0.4727\n",
      "Epoch 7/10\n",
      "220/220 [==============================] - 17s 79ms/sample - loss: 1.7284 - sparse_categorical_accuracy: 0.5045\n",
      "Epoch 8/10\n",
      "220/220 [==============================] - 17s 79ms/sample - loss: 1.8221 - sparse_categorical_accuracy: 0.4955\n",
      "Epoch 9/10\n",
      "220/220 [==============================] - 17s 79ms/sample - loss: 1.6798 - sparse_categorical_accuracy: 0.5182\n",
      "Epoch 10/10\n",
      "220/220 [==============================] - 17s 79ms/sample - loss: 1.6425 - sparse_categorical_accuracy: 0.5455\n"
     ]
    },
    {
     "name": "stderr",
     "output_type": "stream",
     "text": [
      "\r",
      "74it [4:45:28, 565.16s/it]"
     ]
    },
    {
     "name": "stdout",
     "output_type": "stream",
     "text": [
      "Epoch 1/10\n",
      "220/220 [==============================] - 26s 117ms/sample - loss: 1.6390 - sparse_categorical_accuracy: 0.5091\n",
      "Epoch 2/10\n",
      "220/220 [==============================] - 18s 82ms/sample - loss: 1.6973 - sparse_categorical_accuracy: 0.5364\n",
      "Epoch 3/10\n",
      "220/220 [==============================] - 18s 81ms/sample - loss: 1.6860 - sparse_categorical_accuracy: 0.5227\n",
      "Epoch 4/10\n",
      "220/220 [==============================] - 18s 80ms/sample - loss: 1.5893 - sparse_categorical_accuracy: 0.5091\n",
      "Epoch 5/10\n",
      "220/220 [==============================] - 18s 81ms/sample - loss: 1.7646 - sparse_categorical_accuracy: 0.4409\n",
      "Epoch 6/10\n",
      "220/220 [==============================] - 18s 80ms/sample - loss: 1.6209 - sparse_categorical_accuracy: 0.5636\n",
      "Epoch 7/10\n",
      "220/220 [==============================] - 18s 80ms/sample - loss: 1.6840 - sparse_categorical_accuracy: 0.5182\n",
      "Epoch 8/10\n",
      "220/220 [==============================] - 18s 81ms/sample - loss: 1.6422 - sparse_categorical_accuracy: 0.5318\n",
      "Epoch 9/10\n",
      "220/220 [==============================] - 18s 81ms/sample - loss: 1.6795 - sparse_categorical_accuracy: 0.5091\n",
      "Epoch 10/10\n",
      "220/220 [==============================] - 18s 80ms/sample - loss: 1.5954 - sparse_categorical_accuracy: 0.5091\n"
     ]
    },
    {
     "name": "stderr",
     "output_type": "stream",
     "text": [
      "\r",
      "75it [4:53:26, 539.21s/it]"
     ]
    },
    {
     "name": "stdout",
     "output_type": "stream",
     "text": [
      "Epoch 1/10\n",
      "220/220 [==============================] - 26s 118ms/sample - loss: 1.6919 - sparse_categorical_accuracy: 0.5318\n",
      "Epoch 2/10\n",
      "220/220 [==============================] - 18s 82ms/sample - loss: 1.6996 - sparse_categorical_accuracy: 0.4773\n",
      "Epoch 3/10\n",
      "220/220 [==============================] - 18s 81ms/sample - loss: 1.7473 - sparse_categorical_accuracy: 0.5000\n",
      "Epoch 4/10\n",
      "220/220 [==============================] - 18s 81ms/sample - loss: 1.6834 - sparse_categorical_accuracy: 0.5045\n",
      "Epoch 5/10\n",
      "220/220 [==============================] - 18s 82ms/sample - loss: 1.6157 - sparse_categorical_accuracy: 0.5364\n",
      "Epoch 6/10\n",
      "220/220 [==============================] - 18s 81ms/sample - loss: 1.6433 - sparse_categorical_accuracy: 0.4955\n",
      "Epoch 7/10\n",
      "220/220 [==============================] - 18s 82ms/sample - loss: 1.7069 - sparse_categorical_accuracy: 0.5182\n",
      "Epoch 8/10\n",
      "220/220 [==============================] - 18s 82ms/sample - loss: 1.7540 - sparse_categorical_accuracy: 0.5000\n",
      "Epoch 9/10\n",
      "220/220 [==============================] - 18s 81ms/sample - loss: 1.7179 - sparse_categorical_accuracy: 0.5000\n",
      "Epoch 10/10\n",
      "220/220 [==============================] - 18s 81ms/sample - loss: 1.7535 - sparse_categorical_accuracy: 0.4818\n"
     ]
    },
    {
     "name": "stderr",
     "output_type": "stream",
     "text": [
      "\r",
      "76it [5:01:37, 524.64s/it]"
     ]
    },
    {
     "name": "stdout",
     "output_type": "stream",
     "text": [
      "Epoch 1/10\n",
      "220/220 [==============================] - 26s 118ms/sample - loss: 1.6669 - sparse_categorical_accuracy: 0.5409\n",
      "Epoch 2/10\n",
      "220/220 [==============================] - 18s 81ms/sample - loss: 1.5549 - sparse_categorical_accuracy: 0.5727\n",
      "Epoch 3/10\n",
      "220/220 [==============================] - 18s 81ms/sample - loss: 1.7803 - sparse_categorical_accuracy: 0.4818\n",
      "Epoch 4/10\n",
      "220/220 [==============================] - 18s 81ms/sample - loss: 1.6813 - sparse_categorical_accuracy: 0.5136\n",
      "Epoch 5/10\n",
      "220/220 [==============================] - 18s 81ms/sample - loss: 1.6630 - sparse_categorical_accuracy: 0.5273\n",
      "Epoch 6/10\n",
      "220/220 [==============================] - 18s 81ms/sample - loss: 1.6846 - sparse_categorical_accuracy: 0.4682\n",
      "Epoch 7/10\n",
      "220/220 [==============================] - 18s 81ms/sample - loss: 1.6317 - sparse_categorical_accuracy: 0.5409\n",
      "Epoch 8/10\n",
      "220/220 [==============================] - 18s 81ms/sample - loss: 1.5738 - sparse_categorical_accuracy: 0.5318\n",
      "Epoch 9/10\n",
      "220/220 [==============================] - 18s 81ms/sample - loss: 1.5913 - sparse_categorical_accuracy: 0.5182\n",
      "Epoch 10/10\n",
      "220/220 [==============================] - 18s 81ms/sample - loss: 1.7451 - sparse_categorical_accuracy: 0.5136\n"
     ]
    },
    {
     "name": "stderr",
     "output_type": "stream",
     "text": [
      "\r",
      "77it [5:10:02, 518.70s/it]"
     ]
    },
    {
     "name": "stdout",
     "output_type": "stream",
     "text": [
      "Epoch 1/10\n",
      "220/220 [==============================] - 26s 120ms/sample - loss: 1.8351 - sparse_categorical_accuracy: 0.5318\n",
      "Epoch 2/10\n",
      "220/220 [==============================] - 18s 82ms/sample - loss: 1.6181 - sparse_categorical_accuracy: 0.5364\n",
      "Epoch 3/10\n",
      "220/220 [==============================] - 18s 81ms/sample - loss: 1.8605 - sparse_categorical_accuracy: 0.4773\n",
      "Epoch 4/10\n",
      "220/220 [==============================] - 18s 81ms/sample - loss: 1.7481 - sparse_categorical_accuracy: 0.4773\n",
      "Epoch 5/10\n",
      "220/220 [==============================] - 18s 82ms/sample - loss: 1.7374 - sparse_categorical_accuracy: 0.4682\n",
      "Epoch 6/10\n",
      "220/220 [==============================] - 18s 82ms/sample - loss: 1.6446 - sparse_categorical_accuracy: 0.5000\n",
      "Epoch 7/10\n",
      "220/220 [==============================] - 18s 81ms/sample - loss: 1.6020 - sparse_categorical_accuracy: 0.5364\n",
      "Epoch 8/10\n",
      "220/220 [==============================] - 18s 81ms/sample - loss: 1.5888 - sparse_categorical_accuracy: 0.5409\n",
      "Epoch 9/10\n",
      "220/220 [==============================] - 18s 82ms/sample - loss: 1.5944 - sparse_categorical_accuracy: 0.5409\n",
      "Epoch 10/10\n",
      "220/220 [==============================] - 18s 81ms/sample - loss: 1.6019 - sparse_categorical_accuracy: 0.5591\n"
     ]
    },
    {
     "name": "stderr",
     "output_type": "stream",
     "text": [
      "\r",
      "78it [5:18:47, 520.74s/it]"
     ]
    },
    {
     "name": "stdout",
     "output_type": "stream",
     "text": [
      "Epoch 1/10\n",
      "220/220 [==============================] - 26s 120ms/sample - loss: 1.7228 - sparse_categorical_accuracy: 0.4636\n",
      "Epoch 2/10\n",
      "220/220 [==============================] - 18s 82ms/sample - loss: 1.6195 - sparse_categorical_accuracy: 0.5318\n",
      "Epoch 3/10\n",
      "220/220 [==============================] - 18s 82ms/sample - loss: 1.8722 - sparse_categorical_accuracy: 0.5091\n",
      "Epoch 4/10\n",
      "220/220 [==============================] - 18s 82ms/sample - loss: 1.8037 - sparse_categorical_accuracy: 0.5227\n",
      "Epoch 5/10\n",
      "220/220 [==============================] - 18s 82ms/sample - loss: 1.7372 - sparse_categorical_accuracy: 0.5091\n",
      "Epoch 6/10\n",
      "220/220 [==============================] - 18s 82ms/sample - loss: 1.5317 - sparse_categorical_accuracy: 0.5455\n",
      "Epoch 7/10\n",
      "220/220 [==============================] - 18s 82ms/sample - loss: 1.6653 - sparse_categorical_accuracy: 0.5136\n",
      "Epoch 8/10\n",
      "220/220 [==============================] - 18s 82ms/sample - loss: 1.6400 - sparse_categorical_accuracy: 0.4955\n",
      "Epoch 9/10\n",
      "220/220 [==============================] - 18s 83ms/sample - loss: 1.6052 - sparse_categorical_accuracy: 0.5227\n",
      "Epoch 10/10\n",
      "220/220 [==============================] - 18s 82ms/sample - loss: 1.7900 - sparse_categorical_accuracy: 0.4818\n"
     ]
    },
    {
     "name": "stderr",
     "output_type": "stream",
     "text": [
      "\r",
      "79it [5:27:47, 526.42s/it]"
     ]
    },
    {
     "name": "stdout",
     "output_type": "stream",
     "text": [
      "Epoch 1/10\n",
      "220/220 [==============================] - 27s 122ms/sample - loss: 1.6257 - sparse_categorical_accuracy: 0.4909\n",
      "Epoch 2/10\n",
      "220/220 [==============================] - 18s 82ms/sample - loss: 1.6286 - sparse_categorical_accuracy: 0.5318\n",
      "Epoch 3/10\n",
      "220/220 [==============================] - 18s 82ms/sample - loss: 1.6851 - sparse_categorical_accuracy: 0.5045\n",
      "Epoch 4/10\n",
      "220/220 [==============================] - 18s 82ms/sample - loss: 1.6737 - sparse_categorical_accuracy: 0.5318\n",
      "Epoch 5/10\n",
      "220/220 [==============================] - 18s 82ms/sample - loss: 1.6707 - sparse_categorical_accuracy: 0.5136\n",
      "Epoch 6/10\n",
      "220/220 [==============================] - 18s 82ms/sample - loss: 1.6267 - sparse_categorical_accuracy: 0.5500\n",
      "Epoch 7/10\n",
      "220/220 [==============================] - 18s 82ms/sample - loss: 1.6383 - sparse_categorical_accuracy: 0.5591\n",
      "Epoch 8/10\n",
      "220/220 [==============================] - 18s 82ms/sample - loss: 1.6223 - sparse_categorical_accuracy: 0.5182\n",
      "Epoch 9/10\n",
      "220/220 [==============================] - 18s 82ms/sample - loss: 1.5491 - sparse_categorical_accuracy: 0.5591\n",
      "Epoch 10/10\n",
      "220/220 [==============================] - 18s 82ms/sample - loss: 1.7789 - sparse_categorical_accuracy: 0.4773\n"
     ]
    },
    {
     "name": "stderr",
     "output_type": "stream",
     "text": [
      "\r",
      "80it [5:37:00, 534.47s/it]"
     ]
    },
    {
     "name": "stdout",
     "output_type": "stream",
     "text": [
      "Epoch 1/10\n",
      "220/220 [==============================] - 27s 122ms/sample - loss: 1.6169 - sparse_categorical_accuracy: 0.5136\n",
      "Epoch 2/10\n",
      "220/220 [==============================] - 18s 82ms/sample - loss: 1.6766 - sparse_categorical_accuracy: 0.5136\n",
      "Epoch 3/10\n",
      "220/220 [==============================] - 18s 82ms/sample - loss: 1.7178 - sparse_categorical_accuracy: 0.4955\n",
      "Epoch 4/10\n",
      "220/220 [==============================] - 18s 82ms/sample - loss: 1.6828 - sparse_categorical_accuracy: 0.5273\n",
      "Epoch 5/10\n",
      "220/220 [==============================] - 18s 82ms/sample - loss: 1.6527 - sparse_categorical_accuracy: 0.5455\n",
      "Epoch 6/10\n",
      "220/220 [==============================] - 19s 84ms/sample - loss: 1.5691 - sparse_categorical_accuracy: 0.5227\n",
      "Epoch 7/10\n",
      "220/220 [==============================] - 18s 84ms/sample - loss: 1.6659 - sparse_categorical_accuracy: 0.5364\n",
      "Epoch 8/10\n",
      "220/220 [==============================] - 19s 85ms/sample - loss: 1.7514 - sparse_categorical_accuracy: 0.4818\n",
      "Epoch 9/10\n",
      "220/220 [==============================] - 18s 82ms/sample - loss: 1.5885 - sparse_categorical_accuracy: 0.5409\n",
      "Epoch 10/10\n",
      "220/220 [==============================] - 18s 82ms/sample - loss: 1.5271 - sparse_categorical_accuracy: 0.5909\n"
     ]
    },
    {
     "name": "stderr",
     "output_type": "stream",
     "text": [
      "\r",
      "81it [5:46:27, 544.15s/it]"
     ]
    },
    {
     "name": "stdout",
     "output_type": "stream",
     "text": [
      "Epoch 1/10\n",
      "220/220 [==============================] - 26s 120ms/sample - loss: 1.6550 - sparse_categorical_accuracy: 0.5227\n",
      "Epoch 2/10\n",
      "220/220 [==============================] - 18s 81ms/sample - loss: 1.7036 - sparse_categorical_accuracy: 0.5182\n",
      "Epoch 3/10\n",
      "220/220 [==============================] - 18s 81ms/sample - loss: 1.6898 - sparse_categorical_accuracy: 0.4955\n",
      "Epoch 4/10\n",
      "220/220 [==============================] - 18s 81ms/sample - loss: 1.7482 - sparse_categorical_accuracy: 0.5045\n",
      "Epoch 5/10\n",
      "220/220 [==============================] - 18s 80ms/sample - loss: 1.6619 - sparse_categorical_accuracy: 0.5364\n",
      "Epoch 6/10\n",
      "220/220 [==============================] - 18s 81ms/sample - loss: 1.5912 - sparse_categorical_accuracy: 0.5636\n",
      "Epoch 7/10\n",
      "220/220 [==============================] - 18s 81ms/sample - loss: 1.6604 - sparse_categorical_accuracy: 0.5182\n",
      "Epoch 8/10\n",
      "220/220 [==============================] - 18s 81ms/sample - loss: 1.6695 - sparse_categorical_accuracy: 0.5136\n",
      "Epoch 9/10\n",
      "220/220 [==============================] - 18s 81ms/sample - loss: 1.6308 - sparse_categorical_accuracy: 0.5318\n",
      "Epoch 10/10\n",
      "220/220 [==============================] - 18s 81ms/sample - loss: 1.5337 - sparse_categorical_accuracy: 0.5636\n"
     ]
    },
    {
     "name": "stderr",
     "output_type": "stream",
     "text": [
      "\r",
      "82it [5:56:07, 555.01s/it]"
     ]
    },
    {
     "name": "stdout",
     "output_type": "stream",
     "text": [
      "Epoch 1/10\n",
      "220/220 [==============================] - 27s 122ms/sample - loss: 1.6780 - sparse_categorical_accuracy: 0.5455\n",
      "Epoch 2/10\n",
      "220/220 [==============================] - 18s 82ms/sample - loss: 1.6048 - sparse_categorical_accuracy: 0.5182\n",
      "Epoch 3/10\n",
      "220/220 [==============================] - 18s 82ms/sample - loss: 1.6428 - sparse_categorical_accuracy: 0.5545\n",
      "Epoch 4/10\n",
      "220/220 [==============================] - 18s 82ms/sample - loss: 1.5608 - sparse_categorical_accuracy: 0.5273\n",
      "Epoch 5/10\n",
      "220/220 [==============================] - 18s 82ms/sample - loss: 1.6057 - sparse_categorical_accuracy: 0.4909\n",
      "Epoch 6/10\n",
      "220/220 [==============================] - 18s 82ms/sample - loss: 1.7312 - sparse_categorical_accuracy: 0.5182\n",
      "Epoch 7/10\n",
      "220/220 [==============================] - 18s 83ms/sample - loss: 1.6332 - sparse_categorical_accuracy: 0.5136\n",
      "Epoch 8/10\n",
      "220/220 [==============================] - 18s 82ms/sample - loss: 1.6308 - sparse_categorical_accuracy: 0.5591\n",
      "Epoch 9/10\n",
      "220/220 [==============================] - 18s 82ms/sample - loss: 1.6537 - sparse_categorical_accuracy: 0.5409\n",
      "Epoch 10/10\n",
      "220/220 [==============================] - 18s 82ms/sample - loss: 1.5813 - sparse_categorical_accuracy: 0.5636\n"
     ]
    },
    {
     "name": "stderr",
     "output_type": "stream",
     "text": [
      "\r",
      "83it [6:05:51, 563.67s/it]"
     ]
    },
    {
     "name": "stdout",
     "output_type": "stream",
     "text": [
      "Epoch 1/10\n",
      "220/220 [==============================] - 27s 122ms/sample - loss: 1.6412 - sparse_categorical_accuracy: 0.5318\n",
      "Epoch 2/10\n",
      "220/220 [==============================] - 18s 82ms/sample - loss: 1.7435 - sparse_categorical_accuracy: 0.5273\n",
      "Epoch 3/10\n",
      "220/220 [==============================] - 18s 82ms/sample - loss: 1.6116 - sparse_categorical_accuracy: 0.5091\n",
      "Epoch 4/10\n",
      "220/220 [==============================] - 18s 82ms/sample - loss: 1.5547 - sparse_categorical_accuracy: 0.5591\n",
      "Epoch 5/10\n",
      "220/220 [==============================] - 18s 82ms/sample - loss: 1.5667 - sparse_categorical_accuracy: 0.5273\n",
      "Epoch 6/10\n",
      "220/220 [==============================] - 18s 82ms/sample - loss: 1.7356 - sparse_categorical_accuracy: 0.4818\n",
      "Epoch 7/10\n",
      "220/220 [==============================] - 18s 82ms/sample - loss: 1.6621 - sparse_categorical_accuracy: 0.5091\n",
      "Epoch 8/10\n",
      "220/220 [==============================] - 18s 82ms/sample - loss: 1.6242 - sparse_categorical_accuracy: 0.5091\n",
      "Epoch 9/10\n",
      "220/220 [==============================] - 18s 82ms/sample - loss: 1.6297 - sparse_categorical_accuracy: 0.5227\n",
      "Epoch 10/10\n",
      "220/220 [==============================] - 18s 81ms/sample - loss: 1.6243 - sparse_categorical_accuracy: 0.5318\n"
     ]
    },
    {
     "name": "stderr",
     "output_type": "stream",
     "text": [
      "\r",
      "84it [6:15:55, 575.63s/it]"
     ]
    },
    {
     "name": "stdout",
     "output_type": "stream",
     "text": [
      "Epoch 1/10\n",
      "220/220 [==============================] - 27s 124ms/sample - loss: 1.7391 - sparse_categorical_accuracy: 0.4818\n",
      "Epoch 2/10\n",
      "220/220 [==============================] - 18s 83ms/sample - loss: 1.7345 - sparse_categorical_accuracy: 0.5091\n",
      "Epoch 3/10\n",
      "220/220 [==============================] - 18s 83ms/sample - loss: 1.6494 - sparse_categorical_accuracy: 0.5364\n",
      "Epoch 4/10\n",
      "220/220 [==============================] - 18s 83ms/sample - loss: 1.5795 - sparse_categorical_accuracy: 0.5500\n",
      "Epoch 5/10\n",
      "220/220 [==============================] - 18s 83ms/sample - loss: 1.7192 - sparse_categorical_accuracy: 0.5273\n",
      "Epoch 6/10\n",
      "220/220 [==============================] - 18s 83ms/sample - loss: 1.6507 - sparse_categorical_accuracy: 0.5091\n",
      "Epoch 7/10\n",
      "220/220 [==============================] - 18s 83ms/sample - loss: 1.6108 - sparse_categorical_accuracy: 0.5364\n",
      "Epoch 8/10\n",
      "220/220 [==============================] - 18s 83ms/sample - loss: 1.6085 - sparse_categorical_accuracy: 0.5545\n",
      "Epoch 9/10\n",
      "220/220 [==============================] - 18s 83ms/sample - loss: 1.7480 - sparse_categorical_accuracy: 0.5045\n",
      "Epoch 10/10\n",
      "220/220 [==============================] - 18s 83ms/sample - loss: 1.6222 - sparse_categorical_accuracy: 0.5409\n"
     ]
    },
    {
     "name": "stderr",
     "output_type": "stream",
     "text": [
      "\r",
      "85it [6:26:14, 588.69s/it]"
     ]
    },
    {
     "name": "stdout",
     "output_type": "stream",
     "text": [
      "Epoch 1/10\n",
      "220/220 [==============================] - 27s 124ms/sample - loss: 1.6985 - sparse_categorical_accuracy: 0.5545\n",
      "Epoch 2/10\n",
      "220/220 [==============================] - 19s 85ms/sample - loss: 1.6276 - sparse_categorical_accuracy: 0.5318\n",
      "Epoch 3/10\n",
      "220/220 [==============================] - 18s 84ms/sample - loss: 1.6547 - sparse_categorical_accuracy: 0.5545\n",
      "Epoch 4/10\n",
      "220/220 [==============================] - 18s 84ms/sample - loss: 1.6370 - sparse_categorical_accuracy: 0.5136\n",
      "Epoch 5/10\n",
      "220/220 [==============================] - 19s 84ms/sample - loss: 1.6608 - sparse_categorical_accuracy: 0.5136\n",
      "Epoch 6/10\n",
      "220/220 [==============================] - 18s 84ms/sample - loss: 1.5546 - sparse_categorical_accuracy: 0.5682\n",
      "Epoch 7/10\n",
      "220/220 [==============================] - 18s 84ms/sample - loss: 1.6161 - sparse_categorical_accuracy: 0.5000\n",
      "Epoch 8/10\n",
      "220/220 [==============================] - 18s 84ms/sample - loss: 1.5455 - sparse_categorical_accuracy: 0.5864\n",
      "Epoch 9/10\n",
      "220/220 [==============================] - 18s 84ms/sample - loss: 1.6259 - sparse_categorical_accuracy: 0.5455\n",
      "Epoch 10/10\n",
      "220/220 [==============================] - 18s 83ms/sample - loss: 1.6156 - sparse_categorical_accuracy: 0.5364\n"
     ]
    },
    {
     "name": "stderr",
     "output_type": "stream",
     "text": [
      "\r",
      "86it [6:37:01, 606.24s/it]"
     ]
    },
    {
     "name": "stdout",
     "output_type": "stream",
     "text": [
      "Epoch 1/10\n",
      "220/220 [==============================] - 27s 124ms/sample - loss: 1.5700 - sparse_categorical_accuracy: 0.5182\n",
      "Epoch 2/10\n",
      "220/220 [==============================] - 19s 85ms/sample - loss: 1.6090 - sparse_categorical_accuracy: 0.5182\n",
      "Epoch 3/10\n",
      "220/220 [==============================] - 19s 85ms/sample - loss: 1.6215 - sparse_categorical_accuracy: 0.5364\n",
      "Epoch 4/10\n",
      "220/220 [==============================] - 19s 84ms/sample - loss: 1.5969 - sparse_categorical_accuracy: 0.5136\n",
      "Epoch 5/10\n",
      "220/220 [==============================] - 19s 84ms/sample - loss: 1.5912 - sparse_categorical_accuracy: 0.5545\n",
      "Epoch 6/10\n",
      "220/220 [==============================] - 19s 84ms/sample - loss: 1.6951 - sparse_categorical_accuracy: 0.4909\n",
      "Epoch 7/10\n",
      "220/220 [==============================] - 18s 84ms/sample - loss: 1.6738 - sparse_categorical_accuracy: 0.5000\n",
      "Epoch 8/10\n",
      "220/220 [==============================] - 19s 85ms/sample - loss: 1.6242 - sparse_categorical_accuracy: 0.5000\n",
      "Epoch 9/10\n",
      "220/220 [==============================] - 19s 85ms/sample - loss: 1.6790 - sparse_categorical_accuracy: 0.5091\n",
      "Epoch 10/10\n",
      "220/220 [==============================] - 18s 84ms/sample - loss: 1.6338 - sparse_categorical_accuracy: 0.5455\n"
     ]
    },
    {
     "name": "stderr",
     "output_type": "stream",
     "text": [
      "\r",
      "87it [6:48:13, 626.02s/it]"
     ]
    },
    {
     "name": "stdout",
     "output_type": "stream",
     "text": [
      "Epoch 1/10\n",
      "220/220 [==============================] - 27s 125ms/sample - loss: 1.6350 - sparse_categorical_accuracy: 0.5182\n",
      "Epoch 2/10\n",
      "220/220 [==============================] - 19s 84ms/sample - loss: 1.6010 - sparse_categorical_accuracy: 0.5182\n",
      "Epoch 3/10\n",
      "220/220 [==============================] - 18s 84ms/sample - loss: 1.5192 - sparse_categorical_accuracy: 0.5682\n",
      "Epoch 4/10\n",
      "220/220 [==============================] - 18s 83ms/sample - loss: 1.5035 - sparse_categorical_accuracy: 0.5909\n",
      "Epoch 5/10\n",
      "220/220 [==============================] - 19s 85ms/sample - loss: 1.7106 - sparse_categorical_accuracy: 0.4864\n",
      "Epoch 6/10\n",
      "220/220 [==============================] - 18s 84ms/sample - loss: 1.6587 - sparse_categorical_accuracy: 0.5136\n",
      "Epoch 7/10\n",
      "220/220 [==============================] - 18s 84ms/sample - loss: 1.6458 - sparse_categorical_accuracy: 0.5182\n",
      "Epoch 8/10\n",
      "220/220 [==============================] - 19s 84ms/sample - loss: 1.5720 - sparse_categorical_accuracy: 0.5455\n",
      "Epoch 9/10\n",
      "220/220 [==============================] - 18s 84ms/sample - loss: 1.7210 - sparse_categorical_accuracy: 0.5182\n",
      "Epoch 10/10\n",
      "220/220 [==============================] - 18s 84ms/sample - loss: 1.6325 - sparse_categorical_accuracy: 0.5591\n"
     ]
    },
    {
     "name": "stderr",
     "output_type": "stream",
     "text": [
      "\r",
      "88it [6:59:32, 641.99s/it]"
     ]
    },
    {
     "name": "stdout",
     "output_type": "stream",
     "text": [
      "Epoch 1/10\n",
      "220/220 [==============================] - 28s 127ms/sample - loss: 1.6600 - sparse_categorical_accuracy: 0.5000\n",
      "Epoch 2/10\n",
      "220/220 [==============================] - 19s 86ms/sample - loss: 1.5879 - sparse_categorical_accuracy: 0.5318\n",
      "Epoch 3/10\n",
      "220/220 [==============================] - 19s 85ms/sample - loss: 1.5780 - sparse_categorical_accuracy: 0.5273\n",
      "Epoch 4/10\n",
      "220/220 [==============================] - 19s 85ms/sample - loss: 1.6049 - sparse_categorical_accuracy: 0.5136\n",
      "Epoch 5/10\n",
      "220/220 [==============================] - 19s 86ms/sample - loss: 1.6986 - sparse_categorical_accuracy: 0.5182\n",
      "Epoch 6/10\n",
      "220/220 [==============================] - 19s 86ms/sample - loss: 1.5407 - sparse_categorical_accuracy: 0.5591\n",
      "Epoch 7/10\n",
      "220/220 [==============================] - 19s 85ms/sample - loss: 1.7185 - sparse_categorical_accuracy: 0.5500\n",
      "Epoch 8/10\n",
      "220/220 [==============================] - 19s 86ms/sample - loss: 1.6904 - sparse_categorical_accuracy: 0.4909\n",
      "Epoch 9/10\n",
      "220/220 [==============================] - 19s 85ms/sample - loss: 1.6425 - sparse_categorical_accuracy: 0.5273\n",
      "Epoch 10/10\n",
      "220/220 [==============================] - 19s 85ms/sample - loss: 1.4791 - sparse_categorical_accuracy: 0.5773\n"
     ]
    },
    {
     "name": "stderr",
     "output_type": "stream",
     "text": [
      "\r",
      "89it [7:11:50, 670.59s/it]"
     ]
    },
    {
     "name": "stdout",
     "output_type": "stream",
     "text": [
      "Epoch 1/10\n",
      "220/220 [==============================] - 28s 129ms/sample - loss: 1.6807 - sparse_categorical_accuracy: 0.5136\n",
      "Epoch 2/10\n",
      "220/220 [==============================] - 19s 85ms/sample - loss: 1.6733 - sparse_categorical_accuracy: 0.5182\n",
      "Epoch 3/10\n",
      "220/220 [==============================] - 19s 84ms/sample - loss: 1.6027 - sparse_categorical_accuracy: 0.5182\n",
      "Epoch 4/10\n",
      "220/220 [==============================] - 19s 85ms/sample - loss: 1.5863 - sparse_categorical_accuracy: 0.5364\n",
      "Epoch 5/10\n",
      "220/220 [==============================] - 19s 84ms/sample - loss: 1.5951 - sparse_categorical_accuracy: 0.5364\n",
      "Epoch 6/10\n",
      "220/220 [==============================] - 19s 85ms/sample - loss: 1.7477 - sparse_categorical_accuracy: 0.5045\n",
      "Epoch 7/10\n",
      "220/220 [==============================] - 19s 85ms/sample - loss: 1.5543 - sparse_categorical_accuracy: 0.5409\n",
      "Epoch 8/10\n",
      "220/220 [==============================] - 19s 85ms/sample - loss: 1.7212 - sparse_categorical_accuracy: 0.5136\n",
      "Epoch 9/10\n",
      "220/220 [==============================] - 19s 85ms/sample - loss: 1.8175 - sparse_categorical_accuracy: 0.5091\n",
      "Epoch 10/10\n",
      "220/220 [==============================] - 19s 85ms/sample - loss: 1.7009 - sparse_categorical_accuracy: 0.5364\n"
     ]
    },
    {
     "name": "stderr",
     "output_type": "stream",
     "text": [
      "\r",
      "90it [7:24:04, 689.77s/it]"
     ]
    },
    {
     "name": "stdout",
     "output_type": "stream",
     "text": [
      "Epoch 1/10\n",
      "220/220 [==============================] - 28s 129ms/sample - loss: 1.6418 - sparse_categorical_accuracy: 0.5364\n",
      "Epoch 2/10\n",
      "220/220 [==============================] - 19s 84ms/sample - loss: 1.6870 - sparse_categorical_accuracy: 0.5500\n",
      "Epoch 3/10\n",
      "220/220 [==============================] - 19s 84ms/sample - loss: 1.6887 - sparse_categorical_accuracy: 0.5364\n",
      "Epoch 4/10\n",
      "220/220 [==============================] - 19s 85ms/sample - loss: 1.6297 - sparse_categorical_accuracy: 0.5364\n",
      "Epoch 5/10\n",
      "220/220 [==============================] - 18s 84ms/sample - loss: 1.7438 - sparse_categorical_accuracy: 0.4818\n",
      "Epoch 6/10\n",
      "220/220 [==============================] - 19s 84ms/sample - loss: 1.6328 - sparse_categorical_accuracy: 0.5409\n",
      "Epoch 7/10\n",
      "220/220 [==============================] - 19s 85ms/sample - loss: 1.6068 - sparse_categorical_accuracy: 0.5045\n",
      "Epoch 8/10\n",
      "220/220 [==============================] - 19s 84ms/sample - loss: 1.5516 - sparse_categorical_accuracy: 0.5773\n",
      "Epoch 9/10\n",
      "220/220 [==============================] - 19s 86ms/sample - loss: 1.7263 - sparse_categorical_accuracy: 0.5318\n",
      "Epoch 10/10\n",
      "220/220 [==============================] - 19s 85ms/sample - loss: 1.6599 - sparse_categorical_accuracy: 0.5182\n"
     ]
    },
    {
     "name": "stderr",
     "output_type": "stream",
     "text": [
      "\r",
      "91it [7:36:12, 701.13s/it]"
     ]
    },
    {
     "name": "stdout",
     "output_type": "stream",
     "text": [
      "Epoch 1/10\n",
      "220/220 [==============================] - 30s 137ms/sample - loss: 1.6710 - sparse_categorical_accuracy: 0.5409\n",
      "Epoch 2/10\n",
      "220/220 [==============================] - 20s 90ms/sample - loss: 1.5710 - sparse_categorical_accuracy: 0.5273\n",
      "Epoch 3/10\n",
      "220/220 [==============================] - 20s 90ms/sample - loss: 1.5529 - sparse_categorical_accuracy: 0.5455\n",
      "Epoch 4/10\n",
      "220/220 [==============================] - 20s 90ms/sample - loss: 1.5984 - sparse_categorical_accuracy: 0.5909\n",
      "Epoch 5/10\n",
      "220/220 [==============================] - 20s 90ms/sample - loss: 1.6968 - sparse_categorical_accuracy: 0.4864\n",
      "Epoch 6/10\n",
      "220/220 [==============================] - 20s 91ms/sample - loss: 1.6250 - sparse_categorical_accuracy: 0.5455\n",
      "Epoch 7/10\n",
      "220/220 [==============================] - 20s 90ms/sample - loss: 1.5512 - sparse_categorical_accuracy: 0.5773\n",
      "Epoch 8/10\n",
      "220/220 [==============================] - 20s 90ms/sample - loss: 1.4564 - sparse_categorical_accuracy: 0.5409\n",
      "Epoch 9/10\n",
      "220/220 [==============================] - 20s 91ms/sample - loss: 1.5617 - sparse_categorical_accuracy: 0.5227\n",
      "Epoch 10/10\n",
      "220/220 [==============================] - 20s 90ms/sample - loss: 1.5740 - sparse_categorical_accuracy: 0.5045\n"
     ]
    },
    {
     "name": "stderr",
     "output_type": "stream",
     "text": [
      "\r",
      "92it [7:58:47, 897.27s/it]"
     ]
    },
    {
     "name": "stdout",
     "output_type": "stream",
     "text": [
      "Epoch 1/10\n",
      "220/220 [==============================] - 30s 137ms/sample - loss: 1.7170 - sparse_categorical_accuracy: 0.5136\n",
      "Epoch 2/10\n",
      "220/220 [==============================] - 20s 93ms/sample - loss: 1.5865 - sparse_categorical_accuracy: 0.5364\n",
      "Epoch 3/10\n",
      "220/220 [==============================] - 20s 91ms/sample - loss: 1.6082 - sparse_categorical_accuracy: 0.4955\n",
      "Epoch 4/10\n",
      "220/220 [==============================] - 20s 92ms/sample - loss: 1.6961 - sparse_categorical_accuracy: 0.5273\n",
      "Epoch 5/10\n",
      "220/220 [==============================] - 20s 92ms/sample - loss: 1.5708 - sparse_categorical_accuracy: 0.5636\n",
      "Epoch 6/10\n",
      "220/220 [==============================] - 20s 91ms/sample - loss: 1.5647 - sparse_categorical_accuracy: 0.5409\n",
      "Epoch 7/10\n",
      "220/220 [==============================] - 20s 91ms/sample - loss: 1.7205 - sparse_categorical_accuracy: 0.4955\n",
      "Epoch 8/10\n",
      "220/220 [==============================] - 20s 92ms/sample - loss: 1.6141 - sparse_categorical_accuracy: 0.5273\n",
      "Epoch 9/10\n",
      "220/220 [==============================] - 20s 91ms/sample - loss: 1.7554 - sparse_categorical_accuracy: 0.4909\n",
      "Epoch 10/10\n",
      "220/220 [==============================] - 20s 91ms/sample - loss: 1.6136 - sparse_categorical_accuracy: 0.5455\n"
     ]
    },
    {
     "name": "stderr",
     "output_type": "stream",
     "text": [
      "\r",
      "93it [8:12:46, 879.69s/it]"
     ]
    },
    {
     "name": "stdout",
     "output_type": "stream",
     "text": [
      "Epoch 1/10\n",
      "220/220 [==============================] - 32s 146ms/sample - loss: 1.5643 - sparse_categorical_accuracy: 0.5273\n",
      "Epoch 2/10\n",
      "220/220 [==============================] - 21s 93ms/sample - loss: 1.7088 - sparse_categorical_accuracy: 0.5227\n",
      "Epoch 3/10\n",
      "220/220 [==============================] - 20s 93ms/sample - loss: 1.5828 - sparse_categorical_accuracy: 0.5500\n",
      "Epoch 4/10\n",
      "220/220 [==============================] - 21s 93ms/sample - loss: 1.5432 - sparse_categorical_accuracy: 0.5591\n",
      "Epoch 5/10\n",
      "220/220 [==============================] - 20s 93ms/sample - loss: 1.6208 - sparse_categorical_accuracy: 0.5182\n",
      "Epoch 6/10\n",
      "220/220 [==============================] - 20s 93ms/sample - loss: 1.4959 - sparse_categorical_accuracy: 0.5682\n",
      "Epoch 7/10\n",
      "220/220 [==============================] - 20s 93ms/sample - loss: 1.5613 - sparse_categorical_accuracy: 0.5545\n",
      "Epoch 8/10\n",
      "220/220 [==============================] - 20s 93ms/sample - loss: 1.5931 - sparse_categorical_accuracy: 0.5364\n",
      "Epoch 9/10\n",
      "220/220 [==============================] - 20s 93ms/sample - loss: 1.5888 - sparse_categorical_accuracy: 0.5091\n",
      "Epoch 10/10\n",
      "220/220 [==============================] - 20s 93ms/sample - loss: 1.7574 - sparse_categorical_accuracy: 0.4909\n"
     ]
    },
    {
     "name": "stderr",
     "output_type": "stream",
     "text": [
      "\r",
      "94it [8:27:20, 878.19s/it]"
     ]
    },
    {
     "name": "stdout",
     "output_type": "stream",
     "text": [
      "Epoch 1/10\n",
      "220/220 [==============================] - 30s 138ms/sample - loss: 1.6953 - sparse_categorical_accuracy: 0.5364\n",
      "Epoch 2/10\n",
      "220/220 [==============================] - 20s 91ms/sample - loss: 1.6578 - sparse_categorical_accuracy: 0.5182\n",
      "Epoch 3/10\n",
      "220/220 [==============================] - 20s 91ms/sample - loss: 1.6202 - sparse_categorical_accuracy: 0.5273\n",
      "Epoch 4/10\n",
      "220/220 [==============================] - 20s 90ms/sample - loss: 1.5497 - sparse_categorical_accuracy: 0.5545\n",
      "Epoch 5/10\n",
      "220/220 [==============================] - 20s 90ms/sample - loss: 1.5680 - sparse_categorical_accuracy: 0.5500\n",
      "Epoch 6/10\n",
      "220/220 [==============================] - 20s 91ms/sample - loss: 1.6190 - sparse_categorical_accuracy: 0.5136\n",
      "Epoch 7/10\n",
      "220/220 [==============================] - 20s 90ms/sample - loss: 1.5210 - sparse_categorical_accuracy: 0.6045\n",
      "Epoch 8/10\n",
      "220/220 [==============================] - 20s 93ms/sample - loss: 1.5766 - sparse_categorical_accuracy: 0.5636\n",
      "Epoch 9/10\n",
      "220/220 [==============================] - 20s 91ms/sample - loss: 1.6740 - sparse_categorical_accuracy: 0.5091\n",
      "Epoch 10/10\n",
      "220/220 [==============================] - 20s 91ms/sample - loss: 1.6652 - sparse_categorical_accuracy: 0.5136\n"
     ]
    },
    {
     "name": "stderr",
     "output_type": "stream",
     "text": [
      "\r",
      "95it [8:42:00, 878.68s/it]"
     ]
    },
    {
     "name": "stdout",
     "output_type": "stream",
     "text": [
      "Epoch 1/10\n",
      "220/220 [==============================] - 30s 138ms/sample - loss: 1.5768 - sparse_categorical_accuracy: 0.5500\n",
      "Epoch 2/10\n",
      "220/220 [==============================] - 20s 92ms/sample - loss: 1.5563 - sparse_categorical_accuracy: 0.5455\n",
      "Epoch 3/10\n",
      "220/220 [==============================] - 20s 92ms/sample - loss: 1.5385 - sparse_categorical_accuracy: 0.5591\n",
      "Epoch 4/10\n",
      "220/220 [==============================] - 20s 91ms/sample - loss: 1.6142 - sparse_categorical_accuracy: 0.5364\n",
      "Epoch 5/10\n",
      "220/220 [==============================] - 20s 91ms/sample - loss: 1.5920 - sparse_categorical_accuracy: 0.5545\n",
      "Epoch 6/10\n",
      "220/220 [==============================] - 20s 91ms/sample - loss: 1.6928 - sparse_categorical_accuracy: 0.5182\n",
      "Epoch 7/10\n",
      "220/220 [==============================] - 20s 91ms/sample - loss: 1.6675 - sparse_categorical_accuracy: 0.5364\n",
      "Epoch 8/10\n",
      "220/220 [==============================] - 21s 94ms/sample - loss: 1.7217 - sparse_categorical_accuracy: 0.5000\n",
      "Epoch 9/10\n",
      "220/220 [==============================] - 20s 92ms/sample - loss: 1.6281 - sparse_categorical_accuracy: 0.5045\n",
      "Epoch 10/10\n",
      "220/220 [==============================] - 20s 91ms/sample - loss: 1.5531 - sparse_categorical_accuracy: 0.5591\n"
     ]
    },
    {
     "name": "stderr",
     "output_type": "stream",
     "text": [
      "\r",
      "96it [8:57:10, 888.05s/it]"
     ]
    },
    {
     "name": "stdout",
     "output_type": "stream",
     "text": [
      "Epoch 1/10\n",
      "220/220 [==============================] - 31s 143ms/sample - loss: 1.6660 - sparse_categorical_accuracy: 0.5364\n",
      "Epoch 2/10\n",
      "220/220 [==============================] - 21s 94ms/sample - loss: 1.6170 - sparse_categorical_accuracy: 0.5182\n",
      "Epoch 3/10\n",
      "220/220 [==============================] - 21s 93ms/sample - loss: 1.6653 - sparse_categorical_accuracy: 0.5455\n",
      "Epoch 4/10\n",
      "220/220 [==============================] - 21s 94ms/sample - loss: 1.5579 - sparse_categorical_accuracy: 0.5318\n",
      "Epoch 5/10\n",
      "220/220 [==============================] - 21s 94ms/sample - loss: 1.5901 - sparse_categorical_accuracy: 0.4909\n",
      "Epoch 6/10\n",
      "220/220 [==============================] - 20s 93ms/sample - loss: 1.6623 - sparse_categorical_accuracy: 0.5727\n",
      "Epoch 7/10\n",
      "220/220 [==============================] - 21s 94ms/sample - loss: 1.6358 - sparse_categorical_accuracy: 0.5727\n",
      "Epoch 8/10\n",
      "220/220 [==============================] - 20s 93ms/sample - loss: 1.6151 - sparse_categorical_accuracy: 0.5227\n",
      "Epoch 9/10\n",
      "220/220 [==============================] - 20s 93ms/sample - loss: 1.6585 - sparse_categorical_accuracy: 0.4682\n",
      "Epoch 10/10\n",
      "220/220 [==============================] - 21s 94ms/sample - loss: 1.5291 - sparse_categorical_accuracy: 0.5864\n"
     ]
    },
    {
     "name": "stderr",
     "output_type": "stream",
     "text": [
      "\r",
      "97it [9:12:39, 900.24s/it]"
     ]
    },
    {
     "name": "stdout",
     "output_type": "stream",
     "text": [
      "Epoch 1/10\n",
      "220/220 [==============================] - 31s 143ms/sample - loss: 1.5880 - sparse_categorical_accuracy: 0.5409\n",
      "Epoch 2/10\n",
      "220/220 [==============================] - 20s 93ms/sample - loss: 1.6292 - sparse_categorical_accuracy: 0.5136\n",
      "Epoch 3/10\n",
      "220/220 [==============================] - 21s 93ms/sample - loss: 1.6512 - sparse_categorical_accuracy: 0.5273\n",
      "Epoch 4/10\n",
      "220/220 [==============================] - 20s 92ms/sample - loss: 1.6395 - sparse_categorical_accuracy: 0.5455\n",
      "Epoch 5/10\n",
      "220/220 [==============================] - 20s 92ms/sample - loss: 1.6657 - sparse_categorical_accuracy: 0.5591\n",
      "Epoch 6/10\n",
      "220/220 [==============================] - 20s 93ms/sample - loss: 1.6804 - sparse_categorical_accuracy: 0.5182\n",
      "Epoch 7/10\n",
      "220/220 [==============================] - 20s 93ms/sample - loss: 1.6668 - sparse_categorical_accuracy: 0.5136\n",
      "Epoch 8/10\n",
      "220/220 [==============================] - 20s 92ms/sample - loss: 1.6407 - sparse_categorical_accuracy: 0.5455\n",
      "Epoch 9/10\n",
      "220/220 [==============================] - 20s 93ms/sample - loss: 1.5430 - sparse_categorical_accuracy: 0.5409\n",
      "Epoch 10/10\n",
      "220/220 [==============================] - 20s 93ms/sample - loss: 1.7253 - sparse_categorical_accuracy: 0.5136\n"
     ]
    },
    {
     "name": "stderr",
     "output_type": "stream",
     "text": [
      "\r",
      "98it [9:28:09, 909.40s/it]"
     ]
    },
    {
     "name": "stdout",
     "output_type": "stream",
     "text": [
      "Epoch 1/10\n",
      "220/220 [==============================] - 32s 145ms/sample - loss: 1.6452 - sparse_categorical_accuracy: 0.5182\n",
      "Epoch 2/10\n",
      "220/220 [==============================] - 20s 93ms/sample - loss: 1.5608 - sparse_categorical_accuracy: 0.5455\n",
      "Epoch 3/10\n",
      "220/220 [==============================] - 20s 93ms/sample - loss: 1.7042 - sparse_categorical_accuracy: 0.4864\n",
      "Epoch 4/10\n",
      "220/220 [==============================] - 20s 92ms/sample - loss: 1.5990 - sparse_categorical_accuracy: 0.5136\n",
      "Epoch 5/10\n",
      "220/220 [==============================] - 20s 92ms/sample - loss: 1.6243 - sparse_categorical_accuracy: 0.5455\n",
      "Epoch 6/10\n",
      "220/220 [==============================] - 20s 92ms/sample - loss: 1.5899 - sparse_categorical_accuracy: 0.5455\n",
      "Epoch 7/10\n",
      "220/220 [==============================] - 20s 92ms/sample - loss: 1.6341 - sparse_categorical_accuracy: 0.5364\n",
      "Epoch 8/10\n",
      "220/220 [==============================] - 20s 92ms/sample - loss: 1.5439 - sparse_categorical_accuracy: 0.5682\n",
      "Epoch 9/10\n",
      "220/220 [==============================] - 20s 92ms/sample - loss: 1.7143 - sparse_categorical_accuracy: 0.5045\n",
      "Epoch 10/10\n",
      "220/220 [==============================] - 20s 93ms/sample - loss: 1.5926 - sparse_categorical_accuracy: 0.5182\n"
     ]
    }
   ],
   "source": [
    "predictions = []\n",
    "predictions_probs = []\n",
    "\n",
    "loo = LeaveOneOut()\n",
    "i = 0\n",
    "for train_index, test_index in tqdm(loo.split(data)):\n",
    "    X_train, X_test = data[train_index], data[test_index]\n",
    "    y_train, y_test = labels[train_index], labels[test_index]\n",
    "    \n",
    "    model = keras.Model(inputs=inputs, outputs=outputs, name=\"pointnet{}\".format(i))\n",
    "    model.compile(\n",
    "    loss=\"sparse_categorical_crossentropy\",\n",
    "    optimizer=keras.optimizers.Adam(lr=0.001),\n",
    "    metrics=[\"sparse_categorical_accuracy\"])\n",
    "   \n",
    "    model.fit(x=X_train, y=y_train, batch_size=BATCH_SIZE, epochs=10, shuffle=True)\n",
    "    \n",
    "    y_pred_array = model.predict(X_test)\n",
    "    y_pred = tf.math.argmax(y_pred_array, -1).eval(session=tf.Session())\n",
    "    \n",
    "    predictions.append([y_test[0], y_pred[0]])\n",
    "    predictions_probs.append([y_test[0], y_pred_array[0]])\n",
    "    \n",
    "    #gradCAM(model, X_test, y_test)\n",
    "    \n",
    "    i+=1\n",
    "    "
   ]
  },
  {
   "cell_type": "markdown",
   "metadata": {},
   "source": [
    "print(predictions)\n",
    "print(predictions_probs)"
   ]
  },
  {
   "cell_type": "code",
   "execution_count": null,
   "metadata": {},
   "outputs": [],
   "source": [
    "\n",
    "confusion_matrix = np.zeros((11, 11))\n",
    "\n",
    "\n",
    "for [true, pred] in predictions:\n",
    "    confusion_matrix[pred][true] += 1\n",
    "    \n",
    "\n",
    "plt.figure()\n",
    "plt.imshow(confusion_matrix)\n",
    "plt.xlabel(\"True value\")\n",
    "plt.ylabel(\"Predicted value\")\n",
    "plt.colorbar()\n",
    "plt.show()\n"
   ]
  },
  {
   "cell_type": "code",
   "execution_count": null,
   "metadata": {},
   "outputs": [],
   "source": []
  }
 ],
 "metadata": {
  "kernelspec": {
   "display_name": "Python 3",
   "language": "python",
   "name": "python3"
  },
  "language_info": {
   "codemirror_mode": {
    "name": "ipython",
    "version": 3
   },
   "file_extension": ".py",
   "mimetype": "text/x-python",
   "name": "python",
   "nbconvert_exporter": "python",
   "pygments_lexer": "ipython3",
   "version": "3.6.10"
  }
 },
 "nbformat": 4,
 "nbformat_minor": 4
}
