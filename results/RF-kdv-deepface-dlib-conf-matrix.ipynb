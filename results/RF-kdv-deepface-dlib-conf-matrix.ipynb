{
 "cells": [
  {
   "cell_type": "markdown",
   "metadata": {},
   "source": [
    "### Trying different classifiers on data of KdV patients and ID controls\n",
    "Overview of this notebook:\n",
    "\n",
    "First the deepface representations of the cropped images are read in from an Excel file. The data is then plotted by using either t-sne or PCA for dimension reduction. It is clear that there aren't two clear clusters.\n",
    "\n",
    "In the rest of the notebook the following classifiers are tested: k-NN, SVM, Random Forest, Gradient Boosting, AdaBoost, Gaussian Naive Bayes. In the end also an ensemble of all these methods or some of them is tried. None outperforming the Gradient Boosting classifier. \n",
    "\n",
    "To normalize the data either Normalizer (unit form) or StandardScaler (z = (x - mean)/std) is used, without any specific difference in performance yet.  "
   ]
  },
  {
   "cell_type": "code",
   "execution_count": 1,
   "metadata": {},
   "outputs": [],
   "source": [
    "import pandas as pd\n",
    "import numpy as np\n",
    "import csv\n",
    "from tqdm import tqdm\n",
    "import itertools\n",
    "from sklearn.model_selection import cross_val_score, LeaveOneOut\n",
    "from sklearn.neighbors import KNeighborsClassifier\n",
    "from sklearn.preprocessing import Normalizer, StandardScaler\n",
    "from sklearn.ensemble import GradientBoostingClassifier, RandomForestClassifier, VotingClassifier, AdaBoostClassifier\n",
    "from sklearn.svm import SVC\n",
    "from sklearn.tree import DecisionTreeClassifier\n",
    "from sklearn.naive_bayes import GaussianNB\n",
    "from sklearn.metrics import roc_auc_score, accuracy_score, confusion_matrix, roc_curve\n",
    "from sklearn.manifold import TSNE\n",
    "from sklearn.decomposition import PCA\n",
    "%matplotlib inline\n",
    "import matplotlib.pyplot as plt\n",
    "from datetime import date\n",
    "from os.path import join \n",
    "import time\n",
    "from sklearn.model_selection import train_test_split\n",
    "from sklearn.metrics import confusion_matrix\n",
    "from sklearn.metrics import plot_confusion_matrix\n"
   ]
  },
  {
   "cell_type": "code",
   "execution_count": 2,
   "metadata": {},
   "outputs": [],
   "source": [
    "def read_rep(kdv_csv, ID_csv):\n",
    "    data = []\n",
    "    labels = []\n",
    "\n",
    "    for i, csv_file in enumerate([ID_csv, kdv_csv]):\n",
    "        with open (csv_file, newline='') as file:\n",
    "            reader = csv.reader(file, delimiter=',')\n",
    "            for row in reader:\n",
    "                rep = list(map(float, row[1:]))\n",
    "                data.append(rep)\n",
    "                labels.append(i)\n",
    "    \n",
    "    return np.array(data), np.array(labels)"
   ]
  },
  {
   "cell_type": "code",
   "execution_count": 3,
   "metadata": {},
   "outputs": [],
   "source": [
    "def plot_pca_tsne(data, labels, lowest_age = -1, highest_age = -1):\n",
    "    plt.figure(figsize=(12,6))\n",
    "    plt.plot([1,2])\n",
    "\n",
    "    # visualize data in tnse (men/women)\n",
    "    X_embedded_tsne = TSNE(n_components=2, init='pca').fit_transform(data)\n",
    "\n",
    "    plt.subplot(121)\n",
    "    unique = list(set(labels))\n",
    "    colors = [plt.cm.jet(float(i)/max(unique)) for i in unique]\n",
    "    for i, u in enumerate(unique):\n",
    "        xi = [X_embedded_tsne[j, 0] for j  in range(len(X_embedded_tsne[:,0])) if labels[j] == u]\n",
    "        yi = [X_embedded_tsne[j, 1] for j  in range(len(X_embedded_tsne[:,1])) if labels[j] == u]\n",
    "        plt.scatter(xi, yi, c=[colors[i]], label=str(u))\n",
    "    plt.legend()\n",
    "    plt.title(\"t-sne for age range {}-{}\".format(lowest_age, highest_age))\n",
    "\n",
    "    # visualize data in pca (men/women)\n",
    "    X_embedded_pca = PCA(n_components=2).fit_transform(data)\n",
    "\n",
    "    plt.subplot(122)\n",
    "    unique = list(set(labels))\n",
    "    colors = [plt.cm.jet(float(i)/max(unique)) for i in unique]\n",
    "    for i, u in enumerate(unique):\n",
    "        xi = [X_embedded_pca[j, 0] for j  in range(len(X_embedded_pca[:,0])) if labels[j] == u]\n",
    "        yi = [X_embedded_pca[j, 1] for j  in range(len(X_embedded_pca[:,1])) if labels[j] == u]\n",
    "        plt.scatter(xi, yi, c=[colors[i]], label=str(u))\n",
    "    plt.legend()\n",
    "    plt.title(\"pca for age range{}-{}\".format(lowest_age, highest_age))\n",
    "\n",
    "    plt.show()"
   ]
  },
  {
   "cell_type": "code",
   "execution_count": 4,
   "metadata": {},
   "outputs": [],
   "source": [
    "def plot_roc_curve(y_true, y_pred): \n",
    "    fpr, tpr, thresholds = roc_curve(y_true, y_pred)\n",
    "    plt.figure(1, figsize=(12,6))\n",
    "    roc_auc = roc_auc_score(y_true, y_pred)\n",
    "    plt.plot(fpr, tpr, lw=2, alpha=0.5, label='LOOCV ROC (AUC = %0.2f)' % (roc_auc))\n",
    "    plt.plot([0, 1], [0, 1], linestyle='--', lw=2, color='k', label='Chance level', alpha=.8)\n",
    "    plt.xlim([-0.05, 1.05])\n",
    "    plt.ylim([-0.05, 1.05])\n",
    "    plt.xlabel('False Positive Rate')\n",
    "    plt.ylabel('True Positive Rate')\n",
    "    plt.title('Receiver operating characteristic example')\n",
    "    plt.legend(loc=\"lower right\")\n",
    "    plt.grid()\n",
    "    plt.show()"
   ]
  },
  {
   "cell_type": "code",
   "execution_count": 5,
   "metadata": {},
   "outputs": [],
   "source": [
    "def calculate_metrics_loo(model, data, labels):\n",
    "    all_y, all_probs, all_preds = [], [], [] \n",
    "    loo = LeaveOneOut()\n",
    "    \n",
    "    for train, test in loo.split(data):\n",
    "        all_y.append(labels[test])\n",
    "        model = model.fit(data[train], labels[train])\n",
    "        all_probs.append(model.predict_proba(data[test].reshape(1, -1))[:,1])\n",
    "        all_preds.append(model.predict(data[test].reshape(1, -1)))\n",
    "        \n",
    "    aroc = roc_auc_score(all_y, all_probs)\n",
    "    tn, fp, fn, tp = confusion_matrix(all_y, all_preds).ravel()\n",
    "    spec = tn / (tn+fp)  \n",
    "    sens = tp / (tp+fn) \n",
    "    \n",
    "    return aroc, spec, sens "
   ]
  },
  {
   "cell_type": "code",
   "execution_count": 6,
   "metadata": {},
   "outputs": [],
   "source": [
    "def normalize(data, i):\n",
    "\n",
    "    if i == 0:\n",
    "        return data\n",
    "    \n",
    "    if i == 1:\n",
    "        return Normalizer().fit_transform(data)\n",
    "        \n",
    "    if i == 2:\n",
    "        return StandardScaler().fit_transform(data)\n",
    "        "
   ]
  },
  {
   "cell_type": "markdown",
   "metadata": {},
   "source": [
    "### Method 3: Random Forest"
   ]
  },
  {
   "cell_type": "code",
   "execution_count": 17,
   "metadata": {},
   "outputs": [],
   "source": [
    "def rf_classifier(data, labels):\n",
    "    best_aroc = 0\n",
    "    estimators = [5, 10, 20, 30, 40, 50, 60, 70, 80, 90, 100]\n",
    "    best_estimator_rf = 0\n",
    "    best_norm = -1\n",
    "    \n",
    "    trees = 100\n",
    "\n",
    "        \n",
    "    data = Normalizer().fit_transform(data)\n",
    "\n",
    "    # split train and test data\n",
    "    print(\"Confusion matrix with 10% test data\")\n",
    "    X_train, X_test, y_train, y_test = train_test_split(data, labels, test_size=0.1, random_state=42)\n",
    "    print(\"Shape of train data: {} and shape of test data: {}\".format(X_train.shape, X_test.shape))\n",
    "\n",
    "    model = RandomForestClassifier(n_estimators=trees)\n",
    "    model = model.fit(X_train, y_train)\n",
    "    y_pred = model.predict(X_test)\n",
    "\n",
    "    tn, fp, fn, tp = confusion_matrix(y_test, y_pred).ravel()\n",
    "    plot_confusion_matrix(model, X_test, y_test)\n",
    "    plt.show()\n",
    "\n",
    "    # print(\"Tn: {}, fp: {}, fn: {}, tp: {}\".format(tn, fp, fn , tp))\n",
    "    spec = tn / (tn+fp)  \n",
    "    sens = tp / (tp+fn) \n",
    "    print(\"Specificity: {}\".format(spec))\n",
    "    print(\"Sensitivity: {}\\n\\n\".format(sens))\n",
    "    \n",
    "#     counter = 0\n",
    "#     loo = LeaveOneOut()\n",
    "\n",
    "#     all_y = [] # y_true\n",
    "#     all_preds = [] # y_pred\n",
    "#     for train, test in loo.split(data):\n",
    "#         all_y.append(labels[test])\n",
    "#         model = RandomForestClassifier(n_estimators=trees)\n",
    "\n",
    "#         model = model.fit(data[train], labels[train])\n",
    "#         all_preds.append(model.predict(data[test].reshape(1, -1)))\n",
    "#         counter+=1\n",
    "        \n",
    "#     print(\"amount of leave one out: {}\".format(counter))\n",
    "#     print(\"amount of samples: {}\".format(data.shape))\n",
    "\n",
    "\n",
    "    \n",
    "    return best_estimator_rf, best_norm, 0, 0, 0"
   ]
  },
  {
   "cell_type": "code",
   "execution_count": 18,
   "metadata": {},
   "outputs": [],
   "source": [
    "def concatenate(data_df, labels_df, data_dlib, labels_dlib, data_combination, nr_feats):\n",
    "    # assert data has same shape and labels are exactly the same\n",
    "    assert data_df.shape[0] == data_dlib.shape[0]\n",
    "    assert labels_df.shape == labels_dlib.shape\n",
    "    match = [True for i, j in zip(labels_df, labels_dlib) if i == j]\n",
    "    assert False not in match\n",
    "    \n",
    "    if data_combination == 0:\n",
    "        # only deepface\n",
    "        data = data_df\n",
    "        labels = labels_df\n",
    "        \n",
    "    \n",
    "    if data_combination == 1:\n",
    "        # only dlib\n",
    "        data, labels  = [], []\n",
    "        for index, dlib_i in enumerate(data_dlib):\n",
    "            if len(dlib_i) == 2210: \n",
    "                #only if a face is found (otherwise there a fewer zeros)\n",
    "                data.append(dlib_i) # concatenation of 4096 deepface + 2210 dlib\n",
    "                labels.append(labels_df[index])\n",
    "                \n",
    "                \n",
    "    if data_combination == 2 or data_combination == 3 or data_combination == 4:\n",
    "        # deepface + dlib (all features) \n",
    "        data, labels  = [], []\n",
    "        for index, (df_i, dlib_i) in enumerate(zip(data_df, data_dlib)):\n",
    "            if len(dlib_i) == 2210: \n",
    "                #only if a face is found (otherwise there a fewer zeros)\n",
    "                data.append(df_i.tolist()+dlib_i) # concatenation of 4096 deepface + 2210 dlib\n",
    "                labels.append(labels_df[index])\n",
    "                \n",
    "                                               \n",
    "    if data_combination == 3:\n",
    "        # deepface + dlib (x most important features)\n",
    "        # data, labels are already filled from the above if statement\n",
    "                                               \n",
    "        # using a Random Forest the x most important features are used                                   \n",
    "        forest = RandomForestClassifier(n_estimators=10,random_state=0) # 10 has been found with best aroc scores\n",
    "        forest.fit(data, labels)\n",
    "        importances = forest.feature_importances_\n",
    "        std = np.std([tree.feature_importances_ for tree in forest.estimators_],axis=0)\n",
    "        indices = np.argsort(importances)[::-1]\n",
    "        indices = indices[0:nr_feats] # get 100 most important features\n",
    "\n",
    "        data2 = []\n",
    "        for row in data:\n",
    "            data2.append(np.array(row)[indices])                                \n",
    "        data = data2\n",
    "   \n",
    "    return 0, np.array(data), np.array(labels)\n",
    "    "
   ]
  },
  {
   "cell_type": "code",
   "execution_count": 19,
   "metadata": {},
   "outputs": [
    {
     "name": "stdout",
     "output_type": "stream",
     "text": [
      "DATA COMBINATION: 0\n",
      "\n",
      "Shape of the data is: (149, 4096)\n",
      "\n",
      "Confusion matrix with 10% test data\n",
      "Shape of train data: (134, 4096) and shape of test data: (15, 4096)\n"
     ]
    },
    {
     "data": {
      "image/png": "[encoded data removed]",
      "text/plain": [
       "<Figure size 432x288 with 2 Axes>"
      ]
     },
     "metadata": {
      "needs_background": "light"
     },
     "output_type": "display_data"
    },
    {
     "name": "stdout",
     "output_type": "stream",
     "text": [
      "Specificity: 0.8888888888888888\n",
      "Sensitivity: 0.6666666666666666\n",
      "\n",
      "\n",
      "DATA COMBINATION: 1\n",
      "\n",
      "Shape of the data is: (144, 2210)\n",
      "\n",
      "Confusion matrix with 10% test data\n",
      "Shape of train data: (129, 2210) and shape of test data: (15, 2210)\n"
     ]
    },
    {
     "data": {
      "image/png": "[encoded data removed]",
      "text/plain": [
       "<Figure size 432x288 with 2 Axes>"
      ]
     },
     "metadata": {
      "needs_background": "light"
     },
     "output_type": "display_data"
    },
    {
     "name": "stdout",
     "output_type": "stream",
     "text": [
      "Specificity: 0.7142857142857143\n",
      "Sensitivity: 0.75\n",
      "\n",
      "\n",
      "DATA COMBINATION: 2\n",
      "\n",
      "Shape of the data is: (144, 6306)\n",
      "\n",
      "Confusion matrix with 10% test data\n",
      "Shape of train data: (129, 6306) and shape of test data: (15, 6306)\n"
     ]
    },
    {
     "data": {
      "image/png": "[encoded data removed]",
      "text/plain": [
       "<Figure size 432x288 with 2 Axes>"
      ]
     },
     "metadata": {
      "needs_background": "light"
     },
     "output_type": "display_data"
    },
    {
     "name": "stdout",
     "output_type": "stream",
     "text": [
      "Specificity: 0.2857142857142857\n",
      "Sensitivity: 0.625\n",
      "\n",
      "\n",
      "DATA COMBINATION: 3\n",
      "\n",
      "Shape of the data is: (144, 500)\n",
      "\n",
      "Confusion matrix with 10% test data\n",
      "Shape of train data: (129, 500) and shape of test data: (15, 500)\n"
     ]
    },
    {
     "data": {
      "image/png": "[encoded data removed]",
      "text/plain": [
       "<Figure size 432x288 with 2 Axes>"
      ]
     },
     "metadata": {
      "needs_background": "light"
     },
     "output_type": "display_data"
    },
    {
     "name": "stdout",
     "output_type": "stream",
     "text": [
      "Specificity: 0.42857142857142855\n",
      "Sensitivity: 0.75\n",
      "\n",
      "\n",
      "done running main file, took 0.08 minutes\n"
     ]
    }
   ],
   "source": [
    "def main():    \n",
    "    \n",
    "    today = date.today()\n",
    "    start = time.time()\n",
    "    \n",
    "    data_dir = r\"H:\\Genetica Projecten\\Facial Recognition\\Studenten en Onderzoekers\\Fien\\kdv\\representations\\\\\"\n",
    "    #results_file = open(\"results/kdv-results-\" + str(today)+\".txt\", \"w\")\n",
    "\n",
    "    nr_feats = 500\n",
    "    \n",
    "    ### NOTHING NEEDS TO BE EDITED BELOW ###\n",
    "    \n",
    "    for data_combination in [0, 1, 2, 3]:\n",
    "        \n",
    "        #results_file.write(get_header(data_combination, nr_feats))\n",
    "        print(\"DATA COMBINATION: {}\\n\".format(data_combination))\n",
    "        age_ranges = [[1, 40]] # [[1, 3], [4, 16], [17, 40], [1, 40]] \n",
    "\n",
    "        for [low_age, high_age] in age_ranges:\n",
    "\n",
    "            method = \"dlib\"\n",
    "            kdv_csv = data_dir+\"\\kdv-patients-\"+method+\"-cropped-age-group-\"+str(low_age)+\"-\"+str(high_age)+\".csv\"  \n",
    "            ID_csv  = data_dir+\"\\ID-controls-\"+method+\"-cropped-age-group-\"+str(low_age)+\"-\"+str(high_age)+\".csv\"\n",
    "            data_dlib, labels_dlib = read_rep(kdv_csv, ID_csv)\n",
    "\n",
    "            method = \"deepface\"\n",
    "            kdv_csv = data_dir+\"\\kdv-patients-\"+method+\"-cropped-age-group-\"+str(low_age)+\"-\"+str(high_age)+\".csv\"  \n",
    "            ID_csv  = data_dir+\"ID-controls-\"+method+\"-cropped-age-group-\"+str(low_age)+\"-\"+str(high_age)+\".csv\"\n",
    "            data_df, labels_df = read_rep(kdv_csv, ID_csv)\n",
    "\n",
    "            \n",
    "            # data, labels depend on data_combination\n",
    "            nr_comps, data, labels = concatenate(data_df, labels_df, data_dlib, labels_dlib, data_combination, nr_feats)\n",
    "            \n",
    "            print(\"Shape of the data is: {}\\n\".format(data.shape))\n",
    "\n",
    "            #if data_combination == 4:\n",
    "            #    results_file.write(\"Nr of pca components used: {}\\n\".format(nr_comps))\n",
    "\n",
    "\n",
    "            # plot representation\n",
    "            # plot_pca_tsne(data, labels, low_age, high_age)\n",
    "\n",
    "            #results_file.write(\"CLASSIFIER RESULTS for kdv-control age group \" + str(low_age) + \"-\" + str(high_age) + \"\\n\")\n",
    "\n",
    "            n_trees_rf, rf_norm, rf_aroc, rf_spec, rf_sens = rf_classifier(data, labels)\n",
    "            \n",
    "            \n",
    "            #results_file.write(\"Random Forest classifier (trees = {}), normalize : {} \\n    AROC: {:.4f}, spec: {:.4f}, sens: {:.4f}\\n\".format(n_trees_rf, rf_norm, rf_aroc, rf_spec, rf_sens))\n",
    "\n",
    "#             n_trees_gr, gr_norm, gr_aroc, gr_spec, gr_sens = gr_classifier(data, labels)\n",
    "#             results_file.write(\"Gradient Boost classifier (trees = {}), normalize : {} \\n    AROC: {:.4f}, spec: {:.4f}, sens: {:.4f}\\n\".format(n_trees_gr, gr_norm, gr_aroc, gr_spec, gr_sens))\n",
    "\n",
    "#             n_trees_ada, ada_norm, ada_aroc, ada_spec, ada_sens = ada_classifier(data, labels)\n",
    "#             results_file.write(\"Ada Boost classifier (trees = {}), normalize : {} \\n    AROC: {:.4f}, spec: {:.4f}, sens: {:.4f}\\n\".format(n_trees_ada, ada_norm, ada_aroc, ada_spec, ada_sens))\n",
    "\n",
    "            #results_file.write(\"\\n\")\n",
    "\n",
    "    end = time.time()\n",
    "    #results_file.write(\"Running this whole file took {} seconds\".format(end-start))\n",
    "    #results_file.close()\n",
    "    print(\"done running main file, took {:.2f} minutes\".format((end-start)/60.00))\n",
    "    \n",
    "main()\n",
    "    "
   ]
  },
  {
   "cell_type": "markdown",
   "metadata": {},
   "source": [
    "### Method 7: VotingClassifier with GridSearch"
   ]
  },
  {
   "cell_type": "markdown",
   "metadata": {},
   "source": [
    "https://www.kaggle.com/rmferg/soft-voting-classifier\n",
    "from sklearn.model_selection import train_test_split, GridSearchCV\n",
    "\n",
    "X_train, X_test, y_train, y_test = train_test_split(data, labels, test_size=0.1, random_state=1)\n",
    "\n",
    "sc = StandardScaler()\n",
    "sc.fit(X_train)\n",
    "X_train_std = sc.transform(X_train)\n",
    "X_test_std = sc.transform(X_test)"
   ]
  },
  {
   "cell_type": "markdown",
   "metadata": {},
   "source": [
    "import time\n",
    "t0 = time.clock()\n",
    "\n",
    "tree = DecisionTreeClassifier(random_state=1)\n",
    "svm = SVC(probability=True, kernel='rbf')\n",
    "knn = KNeighborsClassifier(p=2, metric='minkowski')\n",
    "nb = GaussianNB()\n",
    "eclf = VotingClassifier(estimators=[('tree', tree), ('svm', svm), ('knn', knn),('nb', nb)], voting='soft')\n",
    "\n",
    "param_range10 = [.001, .01, 1, 10, 100]\n",
    "param_range1 = list(range(3, 8))\n",
    "param_grid = [{'svm__C':param_range10, 'svm__gamma':param_range10, 'tree__max_depth':param_range1, \n",
    "               'knn__n_neighbors':param_range1}]\n",
    "\n",
    "gs = GridSearchCV(estimator=eclf, param_grid=param_grid, scoring='accuracy', cv=5)\n",
    "gs = gs.fit(X_train_std, y_train)\n",
    "\n",
    "print('Best accuracy score: %.3f \\nBest parameters: %s' % (gs.best_score_, gs.best_params_))\n",
    "\n",
    "clf = gs.best_estimator_\n",
    "clf.fit(X_train_std, y_train)\n",
    "t1 = time.clock()\n",
    "print('Running time: %.3f' % (t1-t0))"
   ]
  },
  {
   "cell_type": "markdown",
   "metadata": {},
   "source": [
    "from sklearn.metrics import confusion_matrix\n",
    "\n",
    "y_pred = clf.predict(X_test_std)\n",
    "print('ROC AUC: %.3f \\nAccuracy: %.3f \\nConfusion Matrix:' % (roc_auc_score(y_true=y_test, y_score=y_pred),\n",
    "                                         accuracy_score(y_true=y_test, y_pred=y_pred)))\n",
    "print(confusion_matrix(y_true=y_test, y_pred=y_pred))"
   ]
  }
 ],
 "metadata": {
  "kernelspec": {
   "display_name": "Python 3",
   "language": "python",
   "name": "python3"
  },
  "language_info": {
   "codemirror_mode": {
    "name": "ipython",
    "version": 3
   },
   "file_extension": ".py",
   "mimetype": "text/x-python",
   "name": "python",
   "nbconvert_exporter": "python",
   "pygments_lexer": "ipython3",
   "version": "3.7.7"
  }
 },
 "nbformat": 4,
 "nbformat_minor": 4
}
