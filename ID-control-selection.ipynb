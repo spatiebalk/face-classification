{
 "cells": [
  {
   "cell_type": "markdown",
   "metadata": {},
   "source": [
    "# ID control selection\n",
    "This notebook selects fitting ID controls to patients with a specific syndrome. "
   ]
  },
  {
   "cell_type": "code",
   "execution_count": 1,
   "metadata": {},
   "outputs": [],
   "source": [
    "import pandas as pd\n",
    "import os\n",
    "import os.path\n",
    "from os import listdir\n",
    "from os.path import isfile, join\n",
    "import numpy as np\n",
    "import random\n",
    "from PIL import Image\n",
    "import matplotlib.pyplot as plt\n",
    "import openpyxl\n",
    "from tqdm import tqdm"
   ]
  },
  {
   "cell_type": "code",
   "execution_count": 2,
   "metadata": {},
   "outputs": [],
   "source": [
    "# open KdV excel sheet\n",
    "#kdv_file = r\"H:\\Genetica Projecten\\Facial Recognition\\Studenten en Onderzoekers\\Fien\\kdv-patients\\DatabasePatients_edit_nov_2017.xlsx\"\n",
    "def open_syn_excel(syn_name):\n",
    "    syn_file = r\"H:\\Genetica Projecten\\Facial Recognition\\Studenten en Onderzoekers\\Fien\\{}\\{}_Database.xlsx\".format(syn_name, syn_name)\n",
    "\n",
    "    assert os.path.exists(syn_file), \"This path doesn't exist.\"\n",
    "\n",
    "    df_syn = pd.read_excel(syn_file)\n",
    "    df_syn = df_syn[['Patient', 'Age on photo', 'Gender']]\n",
    "    df_syn.rename(columns={'Patient':'image','Age on photo':'age', 'Gender':'gender'},inplace=True)\n",
    "\n",
    "    index_with_nan = df_syn.index[df_syn.isnull().any(axis=1)]\n",
    "    df_syn.drop(index_with_nan,0, inplace=True)\n",
    "    #df_syn\n",
    "\n",
    "    ### check whether that image is actually present\n",
    "    syn_dir = r\"H:\\Genetica Projecten\\Facial Recognition\\Studenten en Onderzoekers\\Fien\\{}\\{}-all-photos\".format(syn_name, syn_name)\n",
    "    drop_indices = []\n",
    "\n",
    "    for index, row in df_syn.iterrows():\n",
    "        image = row['image']\n",
    "        files = [f for f in listdir(syn_dir) if (isfile(join(syn_dir, f)) and image.replace(\"ANKRD\",\"ANKRD11\" ) + \".jpg\" in f)]\n",
    "        if(len(files)==0):\n",
    "            drop_indices.append(index)\n",
    "\n",
    "    df_syn = df_syn.drop(drop_indices)\n",
    "    df_syn\n",
    "    \n",
    "    return df_syn"
   ]
  },
  {
   "cell_type": "code",
   "execution_count": 3,
   "metadata": {},
   "outputs": [],
   "source": [
    "# Make a histogram of all ages\n",
    "def make_hist(df_syn):\n",
    "    ages_syn = df_syn.age.values\n",
    "    plt.hist(ages_syn)\n",
    "    plt.xlabel(\"Age\")\n",
    "    plt.title(\"Syndromic patients patients\")\n",
    "    plt.show()"
   ]
  },
  {
   "cell_type": "code",
   "execution_count": 4,
   "metadata": {},
   "outputs": [],
   "source": [
    "# open ID control excel sheet\n",
    "def open_control_excel(syn_name):\n",
    "    ID_file = r\"H:\\Genetica Projecten\\Facial Recognition\\Studenten en Onderzoekers\\Fien\\ID-controls\\all_ID_controls_info_complete.xlsm\" \n",
    "    assert os.path.exists(ID_file), \"This path doesn't exist.\"\n",
    "\n",
    "    df_ID = pd.read_excel(ID_file)\n",
    "    df_ID = df_ID[['pnummer', 'frontal face image', 'agecorrected', 'gender']]\n",
    "    df_ID = df_ID[df_ID['frontal face image'].notnull()]\n",
    "    df_ID = df_ID.rename(columns={\"frontal face image\": \"image\", \"agecorrected\": \"age\"})\n",
    "\n",
    "    # print(df_ID.shape)\n",
    "    # df_ID.sample(2)\n",
    "    return df_ID"
   ]
  },
  {
   "cell_type": "code",
   "execution_count": 5,
   "metadata": {},
   "outputs": [],
   "source": [
    "def select_controls(df_syn, df_ID):\n",
    "    # empty object\n",
    "    df_select_syn = pd.DataFrame(columns=['image', 'age', 'gender'])\n",
    "    df_select_ID = pd.DataFrame(columns=['pnummer', 'image', 'age', 'gender'])\n",
    "\n",
    "    age_dif_list = []\n",
    "    low_age = 0\n",
    "    high_age = 100 # aka all patients, can be adjusted in case of age groups\n",
    "\n",
    "    # find control ID for each syndromic patients\n",
    "    for index, row in df_syn.iterrows():\n",
    "\n",
    "        age_syn = int(row['age'])\n",
    "\n",
    "        if  low_age <= age_syn <= high_age:\n",
    "\n",
    "            gender_syn = row['gender'].lower()\n",
    "\n",
    "            # find a control ID with exact same age\n",
    "            matches_ID = df_ID.loc[(df_ID['age'] == age_syn) & (df_ID['gender'] == gender_syn)]\n",
    "\n",
    "            # try different age differences\n",
    "            age_dif = [1, -1, 2, -2, 3, -3, 4, -4, 5, -5, 6, -6]\n",
    "            i = 0   \n",
    "            while matches_ID.shape[0] == 0:\n",
    "                matches_ID = df_ID.loc[(df_ID['age'] == age_syn + age_dif[i]) & (df_ID['gender'] == gender_syn)]\n",
    "                i+= 1\n",
    "                if i == len(age_dif):\n",
    "                    break\n",
    "\n",
    "            if(matches_ID.shape[0] ==0):\n",
    "                print(\"For patient {}, gender: {}, age: {}\".format(row['image'], row['gender'], row['age']))\n",
    "                print(\"No match found within {} and {} years\".format(max(age_dif), min(age_dif)))\n",
    "                continue\n",
    "\n",
    "            #age_dif_list.append(age_dif[i])\n",
    "\n",
    "            # a match is found, so append sy patient\n",
    "            df_select_syn = df_select_syn.append(row) \n",
    "\n",
    "            # pick a random control from this list to append to selected controls\n",
    "            random_index = random.randint(0, matches_ID.shape[0]-1)\n",
    "            select_ID = matches_ID.iloc[random_index]\n",
    "            df_select_ID = df_select_ID.append(select_ID)\n",
    "\n",
    "            # remove selected row from set of all controls \n",
    "            i = df_ID[(df_ID.image == select_ID.image) & (df_ID.pnummer == select_ID.pnummer)].index\n",
    "\n",
    "            OG_shape = df_ID.shape\n",
    "            df_ID = df_ID.drop(i)\n",
    "            new_shape = df_ID.shape  \n",
    "\n",
    "\n",
    "            if(OG_shape[0] - new_shape[0]> 1):\n",
    "                print(\"Error\")\n",
    "\n",
    "    print(\"Done finding all ID controls.\")\n",
    "    return df_select_syn, df_select_ID"
   ]
  },
  {
   "cell_type": "code",
   "execution_count": 6,
   "metadata": {},
   "outputs": [],
   "source": [
    "def save_info(syn_name, df_select_syn, df_select_ID):\n",
    "    syn_info_save = r\"H:\\Genetica Projecten\\Facial Recognition\\Studenten en Onderzoekers\\Fien\\{}\\{}_patients_info.xlsx\".format(syn_name, syn_name)\n",
    "    ID_info_save = r\"H:\\Genetica Projecten\\Facial Recognition\\Studenten en Onderzoekers\\Fien\\{}\\{}_matched_ID_controls_info.xlsx\".format(syn_name, syn_name)\n",
    "    df_select_syn.to_excel(syn_info_save)\n",
    "    df_select_ID.to_excel(ID_info_save)\n"
   ]
  },
  {
   "cell_type": "code",
   "execution_count": 7,
   "metadata": {},
   "outputs": [],
   "source": [
    "def empty_dir(directory):\n",
    "    files = [join(directory, f) for f in listdir(directory)]\n",
    "\n",
    "    for file in files:\n",
    "        os.remove(file)"
   ]
  },
  {
   "cell_type": "markdown",
   "metadata": {},
   "source": [
    "### Open Excel files and write the found images to a new directory"
   ]
  },
  {
   "cell_type": "code",
   "execution_count": 8,
   "metadata": {},
   "outputs": [],
   "source": [
    "def save_img_from_excel_controls(syn_name):\n",
    "    ID_dir = r\"H:\\Genetica Projecten\\Facial Recognition\\Studenten en Onderzoekers\\Fien\\ID-controls\"\n",
    "    select_ID_dir =  r\"H:\\Genetica Projecten\\Facial Recognition\\Studenten en Onderzoekers\\Fien\\{}\\{}-selected-ID-controls\".format(syn_name, syn_name)\n",
    "    empty_dir(select_ID_dir)\n",
    "    \n",
    "    ID_info_save = r\"H:\\Genetica Projecten\\Facial Recognition\\Studenten en Onderzoekers\\Fien\\{}\\{}_matched_ID_controls_info.xlsx\".format(syn_name, syn_name)\n",
    "    df_ID = pd.read_excel(ID_info_save)\n",
    "\n",
    "    for index,rows in df_ID.iterrows():\n",
    "        pnr = rows['pnummer']\n",
    "        image = rows['image']\n",
    "\n",
    "        files = [f for f in listdir(ID_dir) if (isfile(join(ID_dir, f)) & ((pnr + \"_small_\" + image.replace(\".JPG\", \"\")) in f))]\n",
    "        if(len(files)==1):\n",
    "            im = Image.open(join(ID_dir, files[0]))\n",
    "            im.save(join(select_ID_dir, files[0]))\n",
    "        else: \n",
    "            print(\"Manually find image for \" + str(pnr) + \"_small_\" + str(image.replace(\".JPG\", \"\")))   \n",
    "            print(\"in \" + str(ID_dir))\n",
    "\n",
    "    print(\"Done saving ID files.\")"
   ]
  },
  {
   "cell_type": "code",
   "execution_count": 9,
   "metadata": {},
   "outputs": [],
   "source": [
    "def save_img_from_excel_patients(syn_name):\n",
    "    \n",
    "    syn_dir = r\"H:\\Genetica Projecten\\Facial Recognition\\Studenten en Onderzoekers\\Fien\\{}\\{}-all-photos\".format(syn_name, syn_name)\n",
    "    select_syn_dir = r\"H:\\Genetica Projecten\\Facial Recognition\\Studenten en Onderzoekers\\Fien\\{}\\{}-patients\".format(syn_name, syn_name)\n",
    "    empty_dir(select_syn_dir)    \n",
    "    \n",
    "    syn_info_save = r\"H:\\Genetica Projecten\\Facial Recognition\\Studenten en Onderzoekers\\Fien\\{}\\{}_patients_info.xlsx\".format(syn_name, syn_name)\n",
    "    df_syn = pd.read_excel(syn_info_save)\n",
    "\n",
    "    for index,rows in df_syn.iterrows():\n",
    "        image = rows['image']\n",
    "        files = [f for f in listdir(syn_dir) if (isfile(join(syn_dir, f)) and image.replace(\"ANKRD\",\"ANKRD11\" ) + \".jpg\" in f)]\n",
    "        if(len(files)==1):\n",
    "            im = Image.open(join(syn_dir, files[0]))\n",
    "            im.save(join(select_syn_dir, files[0]))\n",
    "        else: \n",
    "            print(\"Manually find image for image: {}\".format(image))\n",
    "\n",
    "    print(\"Done saving syndrome files.\")"
   ]
  },
  {
   "cell_type": "markdown",
   "metadata": {},
   "source": [
    "## Write syndrome files and control files to txt "
   ]
  },
  {
   "cell_type": "code",
   "execution_count": 10,
   "metadata": {},
   "outputs": [],
   "source": [
    "def save_control_patients_info(syn_name, trial_nr):    \n",
    "    control_dir = r\"H:/Genetica Projecten/Facial Recognition/Studenten en Onderzoekers/Fien/{}/{}-selected-ID-controls\".format(syn_name, syn_name)\n",
    "    control_files = [f for f in listdir(join(control_dir)) if isfile(join(control_dir, f)) and \".jpg\" in f or \".JPG\" in f ]\n",
    "   \n",
    "    syn_dir = r\"H:/Genetica Projecten/Facial Recognition/Studenten en Onderzoekers/Fien/{}/{}-patients\".format(syn_name, syn_name)\n",
    "    syn_files = [f for f in listdir(join(syn_dir)) if isfile(join(syn_dir, f)) and \".jpg\" in f or \".JPG\" in f ]\n",
    "   \n",
    "    control_patient_info = open(\"results/{}/{}-patient-control-info-run-{}.txt\".format(syn_name, syn_name, trial_nr), \"w\")\n",
    "    \n",
    "    control_patient_info.write(\"Patients for syndrome {}\\n\".format(syn_name))\n",
    "    for syn in syn_files:\n",
    "        control_patient_info.write(syn + \"\\n\")\n",
    "   \n",
    "    control_patient_info.write(\"\\nControls for syndrome {}\\n\".format(syn_name))\n",
    "    for control in control_files:\n",
    "        control_patient_info.write(control + \"\\n\")\n",
    "    control_patient_info.close()\n"
   ]
  },
  {
   "cell_type": "code",
   "execution_count": 11,
   "metadata": {},
   "outputs": [
    {
     "name": "stderr",
     "output_type": "stream",
     "text": [
      "\r",
      "  0%|                                                   | 0/11 [00:00<?, ?it/s]"
     ]
    },
    {
     "name": "stdout",
     "output_type": "stream",
     "text": [
      "Selecting controls for trial 3 \n",
      "for syndromens: ['KDVS', 'ADNP', 'ANKRD11', 'CDK13', 'DEAF1', 'DYRK1A', 'EHMT1', 'FBXO11', 'SON', 'WAC', 'YY1']\n",
      "For patient kdvs_22, gender: F, age: 46\n",
      "No match found within 6 and -6 years\n"
     ]
    },
    {
     "name": "stderr",
     "output_type": "stream",
     "text": [
      "\r",
      "  0%|                                                   | 0/11 [00:03<?, ?it/s]"
     ]
    },
    {
     "name": "stdout",
     "output_type": "stream",
     "text": [
      "Done finding all ID controls.\n",
      "(74, 3)\n",
      "(74, 4)\n"
     ]
    },
    {
     "name": "stderr",
     "output_type": "stream",
     "text": [
      "\n"
     ]
    },
    {
     "ename": "TypeError",
     "evalue": "save_img_from_excel_controls() missing 1 required positional argument: 'ID_info_save'",
     "output_type": "error",
     "traceback": [
      "\u001b[1;31m---------------------------------------------------------------------------\u001b[0m",
      "\u001b[1;31mTypeError\u001b[0m                                 Traceback (most recent call last)",
      "\u001b[1;32m<ipython-input-11-074c3dbe4273>\u001b[0m in \u001b[0;36m<module>\u001b[1;34m\u001b[0m\n\u001b[0;32m     16\u001b[0m     \u001b[0msave_info\u001b[0m\u001b[1;33m(\u001b[0m\u001b[0msyn_name\u001b[0m\u001b[1;33m,\u001b[0m \u001b[0mdf_select_syn\u001b[0m\u001b[1;33m,\u001b[0m \u001b[0mdf_select_ID\u001b[0m\u001b[1;33m)\u001b[0m\u001b[1;33m\u001b[0m\u001b[1;33m\u001b[0m\u001b[0m\n\u001b[0;32m     17\u001b[0m \u001b[1;33m\u001b[0m\u001b[0m\n\u001b[1;32m---> 18\u001b[1;33m     \u001b[0msave_img_from_excel_controls\u001b[0m\u001b[1;33m(\u001b[0m\u001b[0msyn_name\u001b[0m\u001b[1;33m)\u001b[0m\u001b[1;33m\u001b[0m\u001b[1;33m\u001b[0m\u001b[0m\n\u001b[0m\u001b[0;32m     19\u001b[0m     \u001b[0msave_img_from_excel_patients\u001b[0m\u001b[1;33m(\u001b[0m\u001b[0msyn_name\u001b[0m\u001b[1;33m)\u001b[0m\u001b[1;33m\u001b[0m\u001b[1;33m\u001b[0m\u001b[0m\n\u001b[0;32m     20\u001b[0m \u001b[1;33m\u001b[0m\u001b[0m\n",
      "\u001b[1;31mTypeError\u001b[0m: save_img_from_excel_controls() missing 1 required positional argument: 'ID_info_save'"
     ]
    }
   ],
   "source": [
    "#MAIN\n",
    "\n",
    "trial_nr = 3\n",
    "syn_list = ['KDVS','ADNP', 'ANKRD11', 'CDK13', 'DEAF1', 'DYRK1A', 'EHMT1', 'FBXO11', 'SON', 'WAC', 'YY1']\n",
    "\n",
    "print(\"Selecting controls for trial {} \\nfor syndromens: {}\".format(trial_nr, syn_list))\n",
    "for syn_name in tqdm(syn_list):\n",
    "    df_syn = open_syn_excel(syn_name)\n",
    "    df_ID = open_control_excel(syn_name)\n",
    "    #make_hist(df_syn)\n",
    "    \n",
    "    df_select_syn, df_select_ID = select_controls(df_syn, df_ID)\n",
    "    print(df_select_syn.shape)\n",
    "    print(df_select_ID.shape)\n",
    "    \n",
    "    save_info(syn_name, df_select_syn, df_select_ID)\n",
    "    \n",
    "    save_img_from_excel_controls(syn_name)\n",
    "    save_img_from_excel_patients(syn_name)\n",
    "    \n",
    "    save_control_patients_info(syn_name, trial_nr)    \n",
    "\n",
    "\n"
   ]
  },
  {
   "cell_type": "code",
   "execution_count": null,
   "metadata": {},
   "outputs": [],
   "source": []
  }
 ],
 "metadata": {
  "kernelspec": {
   "display_name": "Python 3",
   "language": "python",
   "name": "python3"
  },
  "language_info": {
   "codemirror_mode": {
    "name": "ipython",
    "version": 3
   },
   "file_extension": ".py",
   "mimetype": "text/x-python",
   "name": "python",
   "nbconvert_exporter": "python",
   "pygments_lexer": "ipython3",
   "version": "3.6.10"
  }
 },
 "nbformat": 4,
 "nbformat_minor": 4
}
