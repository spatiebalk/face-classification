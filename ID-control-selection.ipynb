{
 "cells": [
  {
   "cell_type": "markdown",
   "metadata": {},
   "source": [
    "# ID control selection\n",
    "This notebook selects fitting ID controls to patients with a specific syndrome. \n",
    "\n",
    "\n",
    "Structure needed in GENERAL_DIR:\n",
    "\n",
    "- syn_name-patients\n",
    "\n",
    "- syn_name-all-photos\n",
    "\n",
    "- syn_name-selected-ID-controls\n",
    "\n",
    "- representations\n"
   ]
  },
  {
   "cell_type": "code",
   "execution_count": 1,
   "metadata": {},
   "outputs": [],
   "source": [
    "import pandas as pd\n",
    "import os\n",
    "import os.path\n",
    "from os import listdir\n",
    "from os.path import isfile, join\n",
    "import numpy as np\n",
    "import random\n",
    "from PIL import Image\n",
    "import matplotlib.pyplot as plt\n",
    "import openpyxl\n",
    "from tqdm import tqdm"
   ]
  },
  {
   "cell_type": "code",
   "execution_count": 2,
   "metadata": {},
   "outputs": [],
   "source": [
    "def open_syn_excel(syn_name):\n",
    "    syn_file = GENERAL_DIR + \"\\\\{}\\{}_Database.xlsx\".format(syn_name, syn_name)\n",
    "    assert os.path.exists(syn_file), \"This path doesn't exist.\"\n",
    "\n",
    "    df_syn = pd.read_excel(syn_file)\n",
    "    df_syn = df_syn[['Patient', 'Age on photo', 'Gender']]\n",
    "    df_syn.rename(columns={'Patient':'image','Age on photo':'age', 'Gender':'gender'},inplace=True)\n",
    "\n",
    "    index_with_nan = df_syn.index[df_syn.isnull().any(axis=1)]\n",
    "    df_syn.drop(index_with_nan,0, inplace=True)\n",
    "\n",
    "    ### check whether that image is actually present\n",
    "    syn_dir = GENERAL_DIR + \"\\\\{}\\{}-all-photos\".format(syn_name, syn_name)\n",
    "    drop_indices = []\n",
    "\n",
    "    for index, row in df_syn.iterrows():\n",
    "        image = row['image']\n",
    "        files = [f for f in listdir(syn_dir) if (isfile(join(syn_dir, f)) and image + \".jpg\" in f)]\n",
    "        if(len(files)==0):\n",
    "            drop_indices.append(index)\n",
    "\n",
    "    df_syn = df_syn.drop(drop_indices)\n",
    "    \n",
    "    return df_syn"
   ]
  },
  {
   "cell_type": "code",
   "execution_count": 3,
   "metadata": {},
   "outputs": [],
   "source": [
    "# Make a histogram of all ages\n",
    "def make_hist(df_syn):\n",
    "    ages_syn = df_syn.age.values\n",
    "    plt.hist(ages_syn)\n",
    "    plt.xlabel(\"Age\")\n",
    "    plt.title(\"Syndromic patients patients\")\n",
    "    plt.show()"
   ]
  },
  {
   "cell_type": "code",
   "execution_count": 4,
   "metadata": {},
   "outputs": [],
   "source": [
    "# open ID control excel sheet\n",
    "def open_control_excel(syn_name):\n",
    "    ID_file = join(GENERAL_DIR, \"\\\\ID-controls\\all_ID_controls_info_complete.xlsm\")\n",
    "    assert os.path.exists(ID_file), \"This path doesn't exist.\"\n",
    "\n",
    "    df_ID = pd.read_excel(ID_file)\n",
    "    df_ID = df_ID[['pnummer', 'frontal face image', 'agecorrected', 'gender']]\n",
    "    df_ID = df_ID[df_ID['frontal face image'].notnull()]\n",
    "    df_ID = df_ID.rename(columns={\"frontal face image\": \"image\", \"agecorrected\": \"age\"})\n",
    "\n",
    "    return df_ID"
   ]
  },
  {
   "cell_type": "code",
   "execution_count": 5,
   "metadata": {},
   "outputs": [],
   "source": [
    "def select_controls(df_syn, df_ID):\n",
    "    # empty object\n",
    "    df_select_syn = pd.DataFrame(columns=['image', 'age', 'gender'])\n",
    "    df_select_ID = pd.DataFrame(columns=['pnummer', 'image', 'age', 'gender'])\n",
    "\n",
    "    low_age = 0\n",
    "    high_age = 100 # aka all patients, can be adjusted in case of age groups\n",
    "\n",
    "    # find control ID for each syndromic patients\n",
    "    for index, row in df_syn.iterrows():\n",
    "\n",
    "        age_syn = int(row['age'])\n",
    "\n",
    "        if  low_age <= age_syn <= high_age:\n",
    "\n",
    "            gender_syn = row['gender'].lower()\n",
    "\n",
    "            # find a control ID with exact same age\n",
    "            matches_ID = df_ID.loc[(df_ID['age'] == age_syn) & (df_ID['gender'] == gender_syn)]\n",
    "\n",
    "            # try different age differences\n",
    "            age_dif = [1, -1, 2, -2, 3, -3, 4, -4, 5, -5, 6, -6]\n",
    "            i = 0   \n",
    "            while matches_ID.shape[0] == 0:\n",
    "                matches_ID = df_ID.loc[(df_ID['age'] == age_syn + age_dif[i]) & (df_ID['gender'] == gender_syn)]\n",
    "                i+= 1\n",
    "                if i == len(age_dif):\n",
    "                    break\n",
    "\n",
    "            if(matches_ID.shape[0] ==0):\n",
    "                print(\"For patient {}, gender: {}, age: {}\".format(row['image'], row['gender'], row['age']))\n",
    "                print(\"No match found within {} and {} years\".format(max(age_dif), min(age_dif)))\n",
    "                continue\n",
    "\n",
    "            # a match is found, so append sy patient\n",
    "            df_select_syn = df_select_syn.append(row) \n",
    "\n",
    "            # pick a random control from this list to append to selected controls\n",
    "            random_index = random.randint(0, matches_ID.shape[0]-1)\n",
    "            select_ID = matches_ID.iloc[random_index]\n",
    "            df_select_ID = df_select_ID.append(select_ID)\n",
    "\n",
    "            # remove selected row from set of all controls \n",
    "            i = df_ID[(df_ID.image == select_ID.image) & (df_ID.pnummer == select_ID.pnummer)].index\n",
    "\n",
    "            OG_shape = df_ID.shape\n",
    "            df_ID = df_ID.drop(i)\n",
    "            new_shape = df_ID.shape  \n",
    "\n",
    "            if(OG_shape[0] - new_shape[0]> 1):\n",
    "                print(\"Error\")\n",
    "\n",
    "    print(\"Done finding all ID controls.\")\n",
    "    return df_select_syn, df_select_ID"
   ]
  },
  {
   "cell_type": "code",
   "execution_count": 6,
   "metadata": {},
   "outputs": [],
   "source": [
    "def save_info(syn_name, df_select_syn, df_select_ID):\n",
    "    syn_info_save = join(GENERAL_DIR, \"\\\\{}\\{}_patients_info.xlsx\".format(syn_name, syn_name))\n",
    "    ID_info_save = join(GENERAL_DIR, \"\\\\{}\\{}_matched_ID_controls_info.xlsx\".format(syn_name, syn_name))\n",
    "    df_select_syn.to_excel(syn_info_save)\n",
    "    df_select_ID.to_excel(ID_info_save)\n"
   ]
  },
  {
   "cell_type": "code",
   "execution_count": 7,
   "metadata": {},
   "outputs": [],
   "source": [
    "def empty_dir(directory):\n",
    "    files = [join(directory, f) for f in listdir(directory)]\n",
    "\n",
    "    for file in files:\n",
    "        os.remove(file)"
   ]
  },
  {
   "cell_type": "markdown",
   "metadata": {},
   "source": [
    "### Open Excel files and write the found images to a new directory"
   ]
  },
  {
   "cell_type": "code",
   "execution_count": 8,
   "metadata": {},
   "outputs": [],
   "source": [
    "def save_img_from_excel_controls(syn_name):\n",
    "    ID_dir = join(GENERAL_DIR, \"\\\\ID-controls\")\n",
    "    select_ID_dir = join(GENERAL_DIR, \"\\\\{}\\{}-selected-ID-controls\".format(syn_name, syn_name))\n",
    "    empty_dir(select_ID_dir)\n",
    "    \n",
    "    ID_info_save = join(GENERAL_DIR, \"\\\\{}\\{}_matched_ID_controls_info.xlsx\".format(syn_name, syn_name))\n",
    "    df_ID = pd.read_excel(ID_info_save)\n",
    "\n",
    "    for index,rows in df_ID.iterrows():\n",
    "        pnr = rows['pnummer']\n",
    "        image = rows['image']\n",
    "\n",
    "        files = [f for f in listdir(ID_dir) if (isfile(join(ID_dir, f)) & ((pnr + \"_small_\" + image.replace(\".JPG\", \"\")) in f))]\n",
    "        if(len(files)==1):\n",
    "            im = Image.open(join(ID_dir, files[0]))\n",
    "            im.save(join(select_ID_dir, files[0]))\n",
    "        else: \n",
    "            print(\"Manually find image for \" + str(pnr) + \"_small_\" + str(image.replace(\".JPG\", \"\")))   \n",
    "            print(\"in \" + str(ID_dir))\n",
    "\n",
    "    print(\"Done saving ID files.\")"
   ]
  },
  {
   "cell_type": "code",
   "execution_count": 9,
   "metadata": {},
   "outputs": [],
   "source": [
    "def save_img_from_excel_patients(syn_name):\n",
    "    \n",
    "    syn_dir = GENERAL_DIR + \"\\\\{}\\{}-all-photos\".format(syn_name, syn_name)\n",
    "    select_syn_dir = GENERAL_DIR + \"\\\\{}\\{}-patients\".format(syn_name, syn_name)\n",
    "    empty_dir(select_syn_dir)    \n",
    "    \n",
    "    syn_info_save = GENERAL_DIR + \"\\\\{}\\{}_patients_info.xlsx\".format(syn_name, syn_name)\n",
    "    df_syn = pd.read_excel(syn_info_save)\n",
    "\n",
    "    for index,rows in df_syn.iterrows():\n",
    "        image = rows['image']\n",
    "        files = [f for f in listdir(syn_dir) if (isfile(join(syn_dir, f)) and image + \".jpg\" in f)]\n",
    "        if(len(files)==1):\n",
    "            im = Image.open(join(syn_dir, files[0]))\n",
    "            im.save(join(select_syn_dir, files[0]))\n",
    "        else: \n",
    "            print(\"Manually find image for image: {}\".format(image))\n",
    "\n",
    "    print(\"Done saving syndrome files.\")"
   ]
  },
  {
   "cell_type": "markdown",
   "metadata": {},
   "source": [
    "## Write syndrome files and control files to txt "
   ]
  },
  {
   "cell_type": "code",
   "execution_count": 10,
   "metadata": {},
   "outputs": [],
   "source": [
    "def save_control_patients_info(syn_name, trial_nr):    \n",
    "    control_dir = join(GENERAL_DIR, \"//{}/{}-selected-ID-controls\".format(syn_name, syn_name))\n",
    "    control_files = [f for f in listdir(join(control_dir)) if isfile(join(control_dir, f)) and \".jpg\" in f or \".JPG\" in f ]\n",
    "   \n",
    "    syn_dir = join(GENERAL_DIR, \"//{}/{}-patients\".format(syn_name, syn_name))\n",
    "    syn_files = [f for f in listdir(join(syn_dir)) if isfile(join(syn_dir, f)) and \".jpg\" in f or \".JPG\" in f ]\n",
    "   \n",
    "    control_patient_info = open(\"results/{}/{}-patient-control-info-run-{}.txt\".format(syn_name, syn_name, trial_nr), \"w\")\n",
    "    \n",
    "    control_patient_info.write(\"Patients for syndrome {}\\n\".format(syn_name))\n",
    "    for syn in syn_files:\n",
    "        control_patient_info.write(syn + \"\\n\")\n",
    "   \n",
    "    control_patient_info.write(\"\\nControls for syndrome {}\\n\".format(syn_name))\n",
    "    for control in control_files:\n",
    "        control_patient_info.write(control + \"\\n\")\n",
    "    control_patient_info.close()\n"
   ]
  },
  {
   "cell_type": "code",
   "execution_count": 11,
   "metadata": {},
   "outputs": [
    {
     "name": "stderr",
     "output_type": "stream",
     "text": [
      "\r",
      "  0%|                                                   | 0/11 [00:00<?, ?it/s]"
     ]
    },
    {
     "name": "stdout",
     "output_type": "stream",
     "text": [
      "Selecting controls for trial 3 \n",
      "for syndromens: ['KDVS', 'ADNP', 'ANKRD11', 'CDK13', 'DEAF1', 'DYRK1A', 'EHMT1', 'FBXO11', 'SON', 'WAC', 'YY1']\n",
      "For patient kdvs_22, gender: F, age: 46\n",
      "No match found within 6 and -6 years\n",
      "Done finding all ID controls.\n",
      "(74, 3)\n",
      "(74, 4)\n",
      "Done saving ID files.\n"
     ]
    },
    {
     "name": "stderr",
     "output_type": "stream",
     "text": [
      "\r",
      "  9%|███▉                                       | 1/11 [01:13<12:17, 73.72s/it]"
     ]
    },
    {
     "name": "stdout",
     "output_type": "stream",
     "text": [
      "Done saving syndrome files.\n",
      "For patient ADNP_39, gender: F, age: 85.0\n",
      "No match found within 6 and -6 years\n",
      "Done finding all ID controls.\n",
      "(27, 3)\n",
      "(27, 4)\n",
      "Done saving ID files.\n"
     ]
    },
    {
     "name": "stderr",
     "output_type": "stream",
     "text": [
      "\r",
      " 18%|███████▊                                   | 2/11 [01:24<08:14, 54.97s/it]"
     ]
    },
    {
     "name": "stdout",
     "output_type": "stream",
     "text": [
      "Done saving syndrome files.\n",
      "For patient ANKRD_19, gender: F, age: 38.0\n",
      "No match found within 6 and -6 years\n",
      "Done finding all ID controls.\n",
      "(24, 3)\n",
      "(24, 4)\n",
      "Done saving ID files.\n"
     ]
    },
    {
     "name": "stderr",
     "output_type": "stream",
     "text": [
      "\r",
      " 27%|███████████▋                               | 3/11 [01:44<05:54, 44.30s/it]"
     ]
    },
    {
     "name": "stdout",
     "output_type": "stream",
     "text": [
      "Done saving syndrome files.\n",
      "Done finding all ID controls.\n",
      "(29, 3)\n",
      "(29, 4)\n",
      "Done saving ID files.\n"
     ]
    },
    {
     "name": "stderr",
     "output_type": "stream",
     "text": [
      "\r",
      " 36%|███████████████▋                           | 4/11 [01:51<03:52, 33.26s/it]"
     ]
    },
    {
     "name": "stdout",
     "output_type": "stream",
     "text": [
      "Done saving syndrome files.\n",
      "Done finding all ID controls.\n",
      "(20, 3)\n",
      "(20, 4)\n",
      "Done saving ID files.\n"
     ]
    },
    {
     "name": "stderr",
     "output_type": "stream",
     "text": [
      "\r",
      " 45%|███████████████████▌                       | 5/11 [01:56<02:28, 24.80s/it]"
     ]
    },
    {
     "name": "stdout",
     "output_type": "stream",
     "text": [
      "Done saving syndrome files.\n",
      "Done finding all ID controls.\n",
      "(15, 3)\n",
      "(15, 4)\n",
      "Done saving ID files.\n"
     ]
    },
    {
     "name": "stderr",
     "output_type": "stream",
     "text": [
      "\r",
      " 55%|███████████████████████▍                   | 6/11 [02:01<01:34, 18.83s/it]"
     ]
    },
    {
     "name": "stdout",
     "output_type": "stream",
     "text": [
      "Done saving syndrome files.\n",
      "For patient EHMT1_20, gender: F, age: 41.0\n",
      "No match found within 6 and -6 years\n",
      "Done finding all ID controls.\n",
      "(38, 3)\n",
      "(38, 4)\n",
      "Done saving ID files.\n"
     ]
    },
    {
     "name": "stderr",
     "output_type": "stream",
     "text": [
      "\r",
      " 64%|███████████████████████████▎               | 7/11 [02:23<01:19, 19.75s/it]"
     ]
    },
    {
     "name": "stdout",
     "output_type": "stream",
     "text": [
      "Done saving syndrome files.\n",
      "For patient FBXO11_7, gender: Female, age: 7.0\n",
      "No match found within 6 and -6 years\n",
      "Done finding all ID controls.\n",
      "(18, 3)\n",
      "(18, 4)\n",
      "Done saving ID files.\n"
     ]
    },
    {
     "name": "stderr",
     "output_type": "stream",
     "text": [
      "\r",
      " 73%|███████████████████████████████▎           | 8/11 [02:45<01:01, 20.41s/it]"
     ]
    },
    {
     "name": "stdout",
     "output_type": "stream",
     "text": [
      "Done saving syndrome files.\n",
      "Done finding all ID controls.\n",
      "(19, 3)\n",
      "(19, 4)\n",
      "Done saving ID files.\n"
     ]
    },
    {
     "name": "stderr",
     "output_type": "stream",
     "text": [
      "\r",
      " 82%|███████████████████████████████████▏       | 9/11 [03:02<00:38, 19.38s/it]"
     ]
    },
    {
     "name": "stdout",
     "output_type": "stream",
     "text": [
      "Done saving syndrome files.\n",
      "Done finding all ID controls.\n",
      "(14, 3)\n",
      "(14, 4)\n",
      "Done saving ID files.\n"
     ]
    },
    {
     "name": "stderr",
     "output_type": "stream",
     "text": [
      "\r",
      " 91%|██████████████████████████████████████▏   | 10/11 [03:18<00:18, 18.34s/it]"
     ]
    },
    {
     "name": "stdout",
     "output_type": "stream",
     "text": [
      "Done saving syndrome files.\n",
      "Done finding all ID controls.\n",
      "(12, 3)\n",
      "(12, 4)\n",
      "Done saving ID files.\n"
     ]
    },
    {
     "name": "stderr",
     "output_type": "stream",
     "text": [
      "100%|██████████████████████████████████████████| 11/11 [03:33<00:00, 19.39s/it]"
     ]
    },
    {
     "name": "stdout",
     "output_type": "stream",
     "text": [
      "Done saving syndrome files.\n"
     ]
    },
    {
     "name": "stderr",
     "output_type": "stream",
     "text": [
      "\n"
     ]
    }
   ],
   "source": [
    "def main()\n",
    "    trial_nr = 3\n",
    "    syn_list = ['KDVS','ADNP', 'ANKRD11', 'CDK13', 'DEAF1', 'DYRK1A', 'EHMT1', 'FBXO11', 'SON', 'WAC', 'YY1']\n",
    "\n",
    "    print(\"Selecting controls for trial {} \\nfor syndromens: {}\".format(trial_nr, syn_list))\n",
    "    for syn_name in tqdm(syn_list):\n",
    "        df_syn = open_syn_excel(syn_name)\n",
    "        df_ID = open_control_excel(syn_name)\n",
    "        #make_hist(df_syn)\n",
    "\n",
    "        df_select_syn, df_select_ID = select_controls(df_syn, df_ID)\n",
    "        print(df_select_syn.shape)\n",
    "        print(df_select_ID.shape)\n",
    "\n",
    "        save_info(syn_name, df_select_syn, df_select_ID)\n",
    "\n",
    "        save_img_from_excel_controls(syn_name)\n",
    "        save_img_from_excel_patients(syn_name)\n",
    "\n",
    "        save_control_patients_info(syn_name, trial_nr)    \n",
    "\n",
    "#MAIN\n",
    "GENERAL_DIR = r\"H:\\Genetica Projecten\\Facial Recognition\\Studenten en Onderzoekers\\Fien\"     \n",
    "main()\n",
    "\n"
   ]
  },
  {
   "cell_type": "code",
   "execution_count": null,
   "metadata": {},
   "outputs": [],
   "source": []
  }
 ],
 "metadata": {
  "kernelspec": {
   "display_name": "Python 3",
   "language": "python",
   "name": "python3"
  },
  "language_info": {
   "codemirror_mode": {
    "name": "ipython",
    "version": 3
   },
   "file_extension": ".py",
   "mimetype": "text/x-python",
   "name": "python",
   "nbconvert_exporter": "python",
   "pygments_lexer": "ipython3",
   "version": "3.6.10"
  }
 },
 "nbformat": 4,
 "nbformat_minor": 4
}
