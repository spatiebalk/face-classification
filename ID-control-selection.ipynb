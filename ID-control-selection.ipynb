{
 "cells": [
  {
   "cell_type": "markdown",
   "metadata": {},
   "source": [
    "# ID control selection\n",
    "This notebook selects fitting ID controls to the KdV patients\n"
   ]
  },
  {
   "cell_type": "code",
   "execution_count": 1,
   "metadata": {},
   "outputs": [],
   "source": [
    "import pandas as pd\n",
    "import os\n",
    "import os.path\n",
    "from os import listdir\n",
    "from os.path import isfile, join\n",
    "import numpy as np\n",
    "import random\n",
    "from PIL import Image\n",
    "import matplotlib.pyplot as plt"
   ]
  },
  {
   "cell_type": "code",
   "execution_count": 2,
   "metadata": {},
   "outputs": [],
   "source": [
    "# CHANGE THIS CELL (including both)\n",
    "lowest_age = 13\n",
    "highest_age = 40"
   ]
  },
  {
   "cell_type": "code",
   "execution_count": 3,
   "metadata": {},
   "outputs": [
    {
     "name": "stdout",
     "output_type": "stream",
     "text": [
      "(75, 4)\n"
     ]
    },
    {
     "data": {
      "text/html": [
       "<div>\n",
       "<style scoped>\n",
       "    .dataframe tbody tr th:only-of-type {\n",
       "        vertical-align: middle;\n",
       "    }\n",
       "\n",
       "    .dataframe tbody tr th {\n",
       "        vertical-align: top;\n",
       "    }\n",
       "\n",
       "    .dataframe thead th {\n",
       "        text-align: right;\n",
       "    }\n",
       "</style>\n",
       "<table border=\"1\" class=\"dataframe\">\n",
       "  <thead>\n",
       "    <tr style=\"text-align: right;\">\n",
       "      <th></th>\n",
       "      <th>image</th>\n",
       "      <th>age</th>\n",
       "      <th>gender</th>\n",
       "      <th>etnicity</th>\n",
       "    </tr>\n",
       "  </thead>\n",
       "  <tbody>\n",
       "    <tr>\n",
       "      <th>29</th>\n",
       "      <td>kdvs_30</td>\n",
       "      <td>3</td>\n",
       "      <td>F</td>\n",
       "      <td>White</td>\n",
       "    </tr>\n",
       "    <tr>\n",
       "      <th>62</th>\n",
       "      <td>kdvs_63</td>\n",
       "      <td>16</td>\n",
       "      <td>F</td>\n",
       "      <td>White</td>\n",
       "    </tr>\n",
       "    <tr>\n",
       "      <th>49</th>\n",
       "      <td>kdvs_50</td>\n",
       "      <td>14</td>\n",
       "      <td>M</td>\n",
       "      <td>White</td>\n",
       "    </tr>\n",
       "    <tr>\n",
       "      <th>32</th>\n",
       "      <td>kdvs_33</td>\n",
       "      <td>2</td>\n",
       "      <td>F</td>\n",
       "      <td>White</td>\n",
       "    </tr>\n",
       "  </tbody>\n",
       "</table>\n",
       "</div>"
      ],
      "text/plain": [
       "      image  age gender etnicity\n",
       "29  kdvs_30    3      F    White\n",
       "62  kdvs_63   16      F    White\n",
       "49  kdvs_50   14      M    White\n",
       "32  kdvs_33    2      F    White"
      ]
     },
     "execution_count": 3,
     "metadata": {},
     "output_type": "execute_result"
    }
   ],
   "source": [
    "# open KdV excel sheet\n",
    "kdv_file = r\"H:\\Genetica Projecten\\Facial Recognition\\Studenten en Onderzoekers\\Fien\\kdv-patients\\DatabasePatients_edit_nov_2017.xlsx\"\n",
    "if not os.path.exists(kdv_file):\n",
    "    print(\"This path does not exist.\")\n",
    "\n",
    "df_kdv = pd.read_excel(kdv_file)\n",
    "df_kdv = df_kdv[['New_image_name', 'Age corrected in years', 'Gender', 'Etnicity ']]\n",
    "df_kdv = df_kdv.rename(columns={\"New_image_name\": \"image\", \"Age corrected in years\": \"age\", \"Gender\": \"gender\", \"Etnicity \": \"etnicity\"})\n",
    "print(df_kdv.shape)\n",
    "df_kdv.sample(4)"
   ]
  },
  {
   "cell_type": "code",
   "execution_count": 4,
   "metadata": {},
   "outputs": [
    {
     "name": "stdout",
     "output_type": "stream",
     "text": [
      "75\n"
     ]
    },
    {
     "data": {
      "image/png": "[encoded data removed]",
      "text/plain": [
       "<Figure size 432x288 with 1 Axes>"
      ]
     },
     "metadata": {
      "needs_background": "light"
     },
     "output_type": "display_data"
    }
   ],
   "source": [
    "# Make a histogram of all ages\n",
    "\n",
    "ages_kdv = df_kdv.age.values\n",
    "print(len(ages_kdv))\n",
    "plt.hist(ages_kdv)\n",
    "plt.xlabel(\"Age\")\n",
    "plt.title(\"KdV patients\")\n",
    "plt.show()"
   ]
  },
  {
   "cell_type": "code",
   "execution_count": 5,
   "metadata": {},
   "outputs": [
    {
     "name": "stdout",
     "output_type": "stream",
     "text": [
      "(74, 6)\n"
     ]
    },
    {
     "data": {
      "text/html": [
       "<div>\n",
       "<style scoped>\n",
       "    .dataframe tbody tr th:only-of-type {\n",
       "        vertical-align: middle;\n",
       "    }\n",
       "\n",
       "    .dataframe tbody tr th {\n",
       "        vertical-align: top;\n",
       "    }\n",
       "\n",
       "    .dataframe thead th {\n",
       "        text-align: right;\n",
       "    }\n",
       "</style>\n",
       "<table border=\"1\" class=\"dataframe\">\n",
       "  <thead>\n",
       "    <tr style=\"text-align: right;\">\n",
       "      <th></th>\n",
       "      <th>Unnamed: 0</th>\n",
       "      <th>pnummer</th>\n",
       "      <th>image</th>\n",
       "      <th>age</th>\n",
       "      <th>gender</th>\n",
       "      <th>etnicity</th>\n",
       "    </tr>\n",
       "  </thead>\n",
       "  <tbody>\n",
       "    <tr>\n",
       "      <th>15</th>\n",
       "      <td>259</td>\n",
       "      <td>P08-2230</td>\n",
       "      <td>P08-2230_F1_.JPG</td>\n",
       "      <td>15</td>\n",
       "      <td>f</td>\n",
       "      <td>eu</td>\n",
       "    </tr>\n",
       "    <tr>\n",
       "      <th>63</th>\n",
       "      <td>68</td>\n",
       "      <td>P04-1164</td>\n",
       "      <td>DSCN5787.JPG</td>\n",
       "      <td>6</td>\n",
       "      <td>m</td>\n",
       "      <td>eu</td>\n",
       "    </tr>\n",
       "    <tr>\n",
       "      <th>73</th>\n",
       "      <td>256</td>\n",
       "      <td>P08-1988</td>\n",
       "      <td>RIMG0594.JPG</td>\n",
       "      <td>6</td>\n",
       "      <td>f</td>\n",
       "      <td>eu</td>\n",
       "    </tr>\n",
       "    <tr>\n",
       "      <th>2</th>\n",
       "      <td>301</td>\n",
       "      <td>P09-0889</td>\n",
       "      <td>P09-0889_F1_.JPG</td>\n",
       "      <td>11</td>\n",
       "      <td>m</td>\n",
       "      <td>eu</td>\n",
       "    </tr>\n",
       "  </tbody>\n",
       "</table>\n",
       "</div>"
      ],
      "text/plain": [
       "    Unnamed: 0   pnummer             image  age gender etnicity\n",
       "15         259  P08-2230  P08-2230_F1_.JPG   15      f       eu\n",
       "63          68  P04-1164      DSCN5787.JPG    6      m       eu\n",
       "73         256  P08-1988      RIMG0594.JPG    6      f       eu\n",
       "2          301  P09-0889  P09-0889_F1_.JPG   11      m       eu"
      ]
     },
     "execution_count": 5,
     "metadata": {},
     "output_type": "execute_result"
    }
   ],
   "source": [
    "# open ID control excel sheet\n",
    "# location: H:\\Genetica Projecten\\Facial Recognition\\Studenten en Onderzoekers\\Fien\\ID Controls\\all_ID_controls_info_complete\n",
    "ID_control_file = r\"H:\\Genetica Projecten\\Facial Recognition\\Studenten en Onderzoekers\\Fien\\kdv_matched_ID_controls_info.xlsx\"  # all_ID_controls_info_complete.xlsm\"\n",
    "if not os.path.exists(ID_control_file):\n",
    "    print(\"This path does not exist.\")\n",
    "    \n",
    "df_ID_control = pd.read_excel(ID_control_file)\n",
    "# df_ID_control = df_ID_control[['pnummer', 'frontal face image', 'agecorrected', 'gender', 'etnicity']]\n",
    "# df_ID_control = df_ID_control[df_ID_control['frontal face image'].notnull()]\n",
    "# df_ID_control = df_ID_control.rename(columns={\"frontal face image\": \"image\", \"agecorrected\": \"age\"})\n",
    "# print(df_ID_control.shape)\n",
    "# print(df_ID_control.groupby(['etnicity']).count())\n",
    "\n",
    "# df_ID_control = df_ID_control[df_ID_control['etnicity']=='eu']\n",
    "print(df_ID_control.shape)\n",
    "df_ID_control.sample(4)\n"
   ]
  },
  {
   "cell_type": "code",
   "execution_count": 6,
   "metadata": {},
   "outputs": [],
   "source": [
    "# for each entry in KdV df find a matching ID control, save in new pandas dataframe\n",
    "\n",
    "# empty object\n",
    "df_selected_kdv = pd.DataFrame(columns=['pnummer', 'image', 'age', 'gender', 'etnicity'])\n",
    "df_selected_ID = pd.DataFrame(columns=['pnummer', 'image', 'age', 'gender', 'etnicity'])\n",
    "\n",
    "all_age_diff = []\n",
    "\n",
    "for index, row in df_kdv.iterrows():\n",
    "    # find comparable person in the ID_control file\n",
    "    kdv_age = int(row['age'])\n",
    "    \n",
    "    # Age group of 2 - 13 \n",
    "    if  lowest_age <= kdv_age <= highest_age:\n",
    "        df_selected_kdv = df_selected_kdv.append(row)\n",
    "        \n",
    "        kdv_gender = row['gender'].lower()\n",
    "\n",
    "        matched_ID_control = df_ID_control.loc[(df_ID_control['age'] == kdv_age) & (df_ID_control['gender'] == kdv_gender)]\n",
    "\n",
    "        age_diff = [1, -1, 2, -2, 3, -3, 4, -4, 5, -5, 6, -6]\n",
    "        i = 0\n",
    "        while matched_ID_control.shape[0] == 0:\n",
    "            matched_ID_control = df_ID_control.loc[(df_ID_control['age'] == kdv_age + age_diff[i]) & (df_ID_control['gender'] == kdv_gender)]\n",
    "            i+= 1\n",
    "            if i == len(age_diff):\n",
    "                break\n",
    "\n",
    "        if(matched_ID_control.shape[0] ==0):\n",
    "            print(\"No match found within {} and {} years\".format(max(age_diff), min(age_diff)))\n",
    "            continue\n",
    "\n",
    "        all_age_diff.append(age_diff[i])\n",
    "\n",
    "        # pick a random control from this list to append to selected controls\n",
    "        random_index = random.randint(0, matched_ID_control.shape[0]-1)\n",
    "        selected_ID = matched_ID_control.iloc[random_index]\n",
    "        df_selected_ID = df_selected_ID.append(selected_ID)\n",
    "\n",
    "        # remove selected row \n",
    "        i = df_ID_control[(df_ID_control.image == selected_ID.image) & (df_ID_control.pnummer == selected_ID.pnummer)].index\n",
    "\n",
    "        OG_shape = df_ID_control.shape\n",
    "        df_ID_control = df_ID_control.drop(i)\n",
    "        new_shape = df_ID_control.shape    \n",
    "\n",
    "        if(OG_shape[0] - new_shape[0]> 1):\n",
    "            print(\"Error\")"
   ]
  },
  {
   "cell_type": "code",
   "execution_count": 7,
   "metadata": {},
   "outputs": [
    {
     "name": "stdout",
     "output_type": "stream",
     "text": [
      "(19, 5)\n",
      "(19, 6)\n"
     ]
    }
   ],
   "source": [
    "print(df_selected_kdv.shape)\n",
    "print(df_selected_ID.shape)"
   ]
  },
  {
   "cell_type": "code",
   "execution_count": 8,
   "metadata": {},
   "outputs": [],
   "source": [
    "# save KdV data in a new Excel sheet \n",
    "# format: patient_ID_KdV - age - gender -ethnicity \n",
    "# location: H:\\Genetica Projecten\\Facial Recognition\\Studenten en Onderzoekers\\Fien\n",
    "\n",
    "df_selected_kdv.to_excel(r\"H:\\Genetica Projecten\\Facial Recognition\\Studenten en Onderzoekers\\Fien\\kdv_patients_info_age_group_\" + str(lowest_age) + \"_\" + str(highest_age) + \".xlsx\")\n",
    "\n",
    "\n",
    "# save ID control data in a new Excel sheet \n",
    "# format: patient_ID_control - age - gender -ethnicity - \n",
    "df_selected_ID.to_excel(r\"H:\\Genetica Projecten\\Facial Recognition\\Studenten en Onderzoekers\\Fien\\kdv_matched_ID_controls_info_age_group_\" + str(lowest_age) + \"_\" + str(highest_age) + \".xlsx\")\n"
   ]
  },
  {
   "cell_type": "markdown",
   "metadata": {},
   "source": [
    "### Open Excel files and write the found images to a new directory"
   ]
  },
  {
   "cell_type": "code",
   "execution_count": 9,
   "metadata": {},
   "outputs": [],
   "source": [
    "ID_file = r\"H:\\Genetica Projecten\\Facial Recognition\\Studenten en Onderzoekers\\Fien\\kdv_matched_ID_controls_info_age_group_\" + str(lowest_age) + \"_\" + str(highest_age) + \".xlsx\"\n",
    "ID_directory = r\"H:\\Genetica Projecten\\Facial Recognition\\Studenten en Onderzoekers\\Fien\\kdv-selected-ID-controls\"\n",
    "selected_ID_directory = r\"H:\\Genetica Projecten\\Facial Recognition\\Studenten en Onderzoekers\\Fien\\kdv-selected-ID-controls-age-group-\"+str(lowest_age) + \"-\" + str(highest_age)\n",
    "\n",
    "# open excel file\n",
    "df = pd.read_excel(ID_file)\n",
    "\n",
    "for index,rows in df.iterrows():\n",
    "    pnummer = rows['pnummer']\n",
    "    image = rows['image']\n",
    "    \n",
    "    files = [f for f in listdir(ID_directory) if (isfile(join(ID_directory, f)) & ((pnummer + \"_small_\" + image.replace(\".JPG\", \"\") + \"_crop_sized\") in f))]\n",
    "    if(len(files)==1):\n",
    "        im = Image.open(join(ID_directory, files[0]))\n",
    "        im.save(join(selected_ID_directory, files[0]))\n",
    "    else: \n",
    "        print(\"Manually find image for \" + str(pnummer) + \"_small_\" + str(image.replace(\".JPG\", \"\")) + \"_crop_sized\")   \n",
    "        print(\"in \" + str(ID_directory))\n"
   ]
  },
  {
   "cell_type": "code",
   "execution_count": 10,
   "metadata": {},
   "outputs": [],
   "source": [
    "kdv_file = r\"H:\\Genetica Projecten\\Facial Recognition\\Studenten en Onderzoekers\\Fien\\kdv_patients_info_age_group_\"+ str(lowest_age) + \"_\" + str(highest_age) + \".xlsx\"\n",
    "kdv_directory = r\"H:\\Genetica Projecten\\Facial Recognition\\Studenten en Onderzoekers\\Fien\\kdv-patients\"\n",
    "selected_kdv_directory = r\"H:\\Genetica Projecten\\Facial Recognition\\Studenten en Onderzoekers\\Fien\\kdv-patients-age-group-\"+str(lowest_age) + \"-\" + str(highest_age)\n",
    "\n",
    "df_kdv = pd.read_excel(kdv_file)\n",
    "\n",
    "for index,rows in df_kdv.iterrows():\n",
    "    image = rows['image']\n",
    "    \n",
    "    files = [f for f in listdir(kdv_directory) if (isfile(join(kdv_directory, f)) & ((image + \"_crop_sized\") in f))]\n",
    "    if(len(files)==1):\n",
    "        im = Image.open(join(kdv_directory, files[0]))\n",
    "        im.save(join(selected_kdv_directory, files[0]))\n",
    "    else: \n",
    "        print(\"Manually find image for image\" + _crop_sized)"
   ]
  },
  {
   "cell_type": "code",
   "execution_count": null,
   "metadata": {},
   "outputs": [],
   "source": []
  }
 ],
 "metadata": {
  "kernelspec": {
   "display_name": "Python 3",
   "language": "python",
   "name": "python3"
  },
  "language_info": {
   "codemirror_mode": {
    "name": "ipython",
    "version": 3
   },
   "file_extension": ".py",
   "mimetype": "text/x-python",
   "name": "python",
   "nbconvert_exporter": "python",
   "pygments_lexer": "ipython3",
   "version": "3.7.7"
  }
 },
 "nbformat": 4,
 "nbformat_minor": 4
}
