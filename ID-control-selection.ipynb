{
 "cells": [
  {
   "cell_type": "markdown",
   "metadata": {},
   "source": [
    "# ID control selection\n",
    "This notebook selects fitting ID controls to patients with a specific syndrome. "
   ]
  },
  {
   "cell_type": "raw",
   "metadata": {},
   "source": [
    "ADNP - check\n",
    "ANKRD11 - check\n",
    "CDK13 - check\n",
    "DEAF1 - check\n",
    "DYRK1A - check\n",
    "EHMT1 - check\n",
    "FBXO11 - check\n",
    "SON - check\n",
    "SPOP - check\n",
    "WAC - check\n",
    "YY1 - "
   ]
  },
  {
   "cell_type": "code",
   "execution_count": 1,
   "metadata": {},
   "outputs": [],
   "source": [
    "import pandas as pd\n",
    "import os\n",
    "import os.path\n",
    "from os import listdir\n",
    "from os.path import isfile, join\n",
    "import numpy as np\n",
    "import random\n",
    "from PIL import Image\n",
    "import matplotlib.pyplot as plt\n",
    "import openpyxl"
   ]
  },
  {
   "cell_type": "code",
   "execution_count": 2,
   "metadata": {},
   "outputs": [],
   "source": [
    "syn_name = \"YY1\""
   ]
  },
  {
   "cell_type": "code",
   "execution_count": 3,
   "metadata": {},
   "outputs": [
    {
     "data": {
      "text/html": [
       "<div>\n",
       "<style scoped>\n",
       "    .dataframe tbody tr th:only-of-type {\n",
       "        vertical-align: middle;\n",
       "    }\n",
       "\n",
       "    .dataframe tbody tr th {\n",
       "        vertical-align: top;\n",
       "    }\n",
       "\n",
       "    .dataframe thead th {\n",
       "        text-align: right;\n",
       "    }\n",
       "</style>\n",
       "<table border=\"1\" class=\"dataframe\">\n",
       "  <thead>\n",
       "    <tr style=\"text-align: right;\">\n",
       "      <th></th>\n",
       "      <th>image</th>\n",
       "      <th>age</th>\n",
       "      <th>gender</th>\n",
       "    </tr>\n",
       "  </thead>\n",
       "  <tbody>\n",
       "    <tr>\n",
       "      <th>0</th>\n",
       "      <td>YY1_1</td>\n",
       "      <td>2.0</td>\n",
       "      <td>M</td>\n",
       "    </tr>\n",
       "    <tr>\n",
       "      <th>1</th>\n",
       "      <td>YY1_2</td>\n",
       "      <td>15.0</td>\n",
       "      <td>M</td>\n",
       "    </tr>\n",
       "    <tr>\n",
       "      <th>2</th>\n",
       "      <td>YY1_3</td>\n",
       "      <td>5.0</td>\n",
       "      <td>F</td>\n",
       "    </tr>\n",
       "    <tr>\n",
       "      <th>3</th>\n",
       "      <td>YY1_4</td>\n",
       "      <td>39.0</td>\n",
       "      <td>F</td>\n",
       "    </tr>\n",
       "    <tr>\n",
       "      <th>4</th>\n",
       "      <td>YY1_5</td>\n",
       "      <td>17.0</td>\n",
       "      <td>F</td>\n",
       "    </tr>\n",
       "    <tr>\n",
       "      <th>5</th>\n",
       "      <td>YY1_6</td>\n",
       "      <td>7.0</td>\n",
       "      <td>M</td>\n",
       "    </tr>\n",
       "    <tr>\n",
       "      <th>6</th>\n",
       "      <td>YY1_7</td>\n",
       "      <td>1.0</td>\n",
       "      <td>M</td>\n",
       "    </tr>\n",
       "    <tr>\n",
       "      <th>7</th>\n",
       "      <td>YY1_8</td>\n",
       "      <td>25.0</td>\n",
       "      <td>F</td>\n",
       "    </tr>\n",
       "    <tr>\n",
       "      <th>8</th>\n",
       "      <td>YY1_9</td>\n",
       "      <td>9.0</td>\n",
       "      <td>M</td>\n",
       "    </tr>\n",
       "    <tr>\n",
       "      <th>9</th>\n",
       "      <td>YY1_10</td>\n",
       "      <td>1.0</td>\n",
       "      <td>F</td>\n",
       "    </tr>\n",
       "    <tr>\n",
       "      <th>10</th>\n",
       "      <td>YY1_19</td>\n",
       "      <td>9.0</td>\n",
       "      <td>F</td>\n",
       "    </tr>\n",
       "    <tr>\n",
       "      <th>11</th>\n",
       "      <td>YY1_22</td>\n",
       "      <td>4.0</td>\n",
       "      <td>F</td>\n",
       "    </tr>\n",
       "  </tbody>\n",
       "</table>\n",
       "</div>"
      ],
      "text/plain": [
       "     image   age gender\n",
       "0    YY1_1   2.0      M\n",
       "1    YY1_2  15.0      M\n",
       "2    YY1_3   5.0      F\n",
       "3    YY1_4  39.0      F\n",
       "4    YY1_5  17.0      F\n",
       "5    YY1_6   7.0      M\n",
       "6    YY1_7   1.0      M\n",
       "7    YY1_8  25.0      F\n",
       "8    YY1_9   9.0      M\n",
       "9   YY1_10   1.0      F\n",
       "10  YY1_19   9.0      F\n",
       "11  YY1_22   4.0      F"
      ]
     },
     "execution_count": 3,
     "metadata": {},
     "output_type": "execute_result"
    }
   ],
   "source": [
    "# open KdV excel sheet\n",
    "#kdv_file = r\"H:\\Genetica Projecten\\Facial Recognition\\Studenten en Onderzoekers\\Fien\\kdv-patients\\DatabasePatients_edit_nov_2017.xlsx\"\n",
    "syn_file = r\"H:\\Genetica Projecten\\Facial Recognition\\Studenten en Onderzoekers\\Fien\\{}\\{}_Database.xlsx\".format(syn_name, syn_name)\n",
    "\n",
    "assert os.path.exists(syn_file), \"This path doesn't exist.\"\n",
    "\n",
    "df_syn = pd.read_excel(syn_file)\n",
    "df_syn = df_syn[['Patient', 'Age on photo', 'Gender']]\n",
    "df_syn.rename(columns={'Patient':'image','Age on photo':'age', 'Gender':'gender'},inplace=True)\n",
    "\n",
    "index_with_nan = df_syn.index[df_syn.isnull().any(axis=1)]\n",
    "df_syn.drop(index_with_nan,0, inplace=True)\n",
    "#df_syn\n",
    "\n",
    "### check whether that image is actually present\n",
    "syn_dir = r\"H:\\Genetica Projecten\\Facial Recognition\\Studenten en Onderzoekers\\Fien\\{}\\{}-all-photos\".format(syn_name, syn_name)\n",
    "drop_indices = []\n",
    "\n",
    "for index, row in df_syn.iterrows():\n",
    "    image = row['image']\n",
    "    files = [f for f in listdir(syn_dir) if (isfile(join(syn_dir, f)) and image.replace(\"ANKRD\",\"ANKRD11\" ) + \".jpg\" in f)]\n",
    "    if(len(files)==0):\n",
    "        drop_indices.append(index)\n",
    "\n",
    "df_syn = df_syn.drop(drop_indices)\n",
    "df_syn"
   ]
  },
  {
   "cell_type": "code",
   "execution_count": 4,
   "metadata": {},
   "outputs": [
    {
     "name": "stdout",
     "output_type": "stream",
     "text": [
      "12\n"
     ]
    },
    {
     "data": {
      "image/png": "[encoded data removed]",
      "text/plain": [
       "<Figure size 432x288 with 1 Axes>"
      ]
     },
     "metadata": {
      "needs_background": "light"
     },
     "output_type": "display_data"
    }
   ],
   "source": [
    "# Make a histogram of all ages\n",
    "\n",
    "ages_syn = df_syn.age.values\n",
    "print(len(ages_syn))\n",
    "plt.hist(ages_syn)\n",
    "plt.xlabel(\"Age\")\n",
    "plt.title(\"Syndromic patients patients\")\n",
    "plt.show()"
   ]
  },
  {
   "cell_type": "code",
   "execution_count": 5,
   "metadata": {},
   "outputs": [
    {
     "name": "stdout",
     "output_type": "stream",
     "text": [
      "(381, 4)\n"
     ]
    },
    {
     "data": {
      "text/html": [
       "<div>\n",
       "<style scoped>\n",
       "    .dataframe tbody tr th:only-of-type {\n",
       "        vertical-align: middle;\n",
       "    }\n",
       "\n",
       "    .dataframe tbody tr th {\n",
       "        vertical-align: top;\n",
       "    }\n",
       "\n",
       "    .dataframe thead th {\n",
       "        text-align: right;\n",
       "    }\n",
       "</style>\n",
       "<table border=\"1\" class=\"dataframe\">\n",
       "  <thead>\n",
       "    <tr style=\"text-align: right;\">\n",
       "      <th></th>\n",
       "      <th>pnummer</th>\n",
       "      <th>image</th>\n",
       "      <th>age</th>\n",
       "      <th>gender</th>\n",
       "    </tr>\n",
       "  </thead>\n",
       "  <tbody>\n",
       "    <tr>\n",
       "      <th>94</th>\n",
       "      <td>P05-0824</td>\n",
       "      <td>DSCN7362.JPG</td>\n",
       "      <td>9</td>\n",
       "      <td>f</td>\n",
       "    </tr>\n",
       "    <tr>\n",
       "      <th>310</th>\n",
       "      <td>P09-2299</td>\n",
       "      <td>P09-2299_F1_.JPG</td>\n",
       "      <td>12</td>\n",
       "      <td>f</td>\n",
       "    </tr>\n",
       "  </tbody>\n",
       "</table>\n",
       "</div>"
      ],
      "text/plain": [
       "      pnummer             image age gender\n",
       "94   P05-0824      DSCN7362.JPG   9      f\n",
       "310  P09-2299  P09-2299_F1_.JPG  12      f"
      ]
     },
     "execution_count": 5,
     "metadata": {},
     "output_type": "execute_result"
    }
   ],
   "source": [
    "# open ID control excel sheet\n",
    "ID_file = r\"H:\\Genetica Projecten\\Facial Recognition\\Studenten en Onderzoekers\\Fien\\ID-controls\\all_ID_controls_info_complete.xlsm\" \n",
    "assert os.path.exists(ID_file), \"This path doesn't exist.\"\n",
    "\n",
    "df_ID = pd.read_excel(ID_file)\n",
    "df_ID = df_ID[['pnummer', 'frontal face image', 'agecorrected', 'gender']]\n",
    "df_ID = df_ID[df_ID['frontal face image'].notnull()]\n",
    "df_ID = df_ID.rename(columns={\"frontal face image\": \"image\", \"agecorrected\": \"age\"})\n",
    "\n",
    "print(df_ID.shape)\n",
    "df_ID.sample(2)"
   ]
  },
  {
   "cell_type": "code",
   "execution_count": 6,
   "metadata": {},
   "outputs": [
    {
     "name": "stdout",
     "output_type": "stream",
     "text": [
      "Done finding all ID controls.\n"
     ]
    }
   ],
   "source": [
    "# for each entry in KdV df find a matching ID control, save in new pandas dataframe\n",
    "\n",
    "# empty object\n",
    "df_select_syn = pd.DataFrame(columns=['image', 'age', 'gender'])\n",
    "df_select_ID = pd.DataFrame(columns=['pnummer', 'image', 'age', 'gender'])\n",
    "\n",
    "age_dif_list = []\n",
    "low_age = 0\n",
    "high_age = 100 # aka all patients, can be adjusted in case of age groups\n",
    "\n",
    "# find control ID for each syndromic patients\n",
    "for index, row in df_syn.iterrows():\n",
    "\n",
    "    age_syn = int(row['age'])\n",
    "    \n",
    "    if  low_age <= age_syn <= high_age:\n",
    "        \n",
    "        gender_syn = row['gender'].lower()\n",
    "    \n",
    "        # find a control ID with exact same age\n",
    "        matches_ID = df_ID.loc[(df_ID['age'] == age_syn) & (df_ID['gender'] == gender_syn)]\n",
    "        \n",
    "        # try different age differences\n",
    "        age_dif = [1, -1, 2, -2, 3, -3, 4, -4, 5, -5, 6, -6]\n",
    "        i = 0   \n",
    "        while matches_ID.shape[0] == 0:\n",
    "            matches_ID = df_ID.loc[(df_ID['age'] == age_syn + age_dif[i]) & (df_ID['gender'] == gender_syn)]\n",
    "            i+= 1\n",
    "            if i == len(age_dif):\n",
    "                break\n",
    "\n",
    "        if(matches_ID.shape[0] ==0):\n",
    "            print(\"For patient {}, gender: {}, age: {}\".format(row['image'], row['gender'], row['age']))\n",
    "            print(\"No match found within {} and {} years\".format(max(age_dif), min(age_dif)))\n",
    "            continue\n",
    "\n",
    "        #age_dif_list.append(age_dif[i])\n",
    "        \n",
    "        # a match is found, so append sy patient\n",
    "        df_select_syn = df_select_syn.append(row) \n",
    "\n",
    "        # pick a random control from this list to append to selected controls\n",
    "        random_index = random.randint(0, matches_ID.shape[0]-1)\n",
    "        select_ID = matches_ID.iloc[random_index]\n",
    "        df_select_ID = df_select_ID.append(select_ID)\n",
    "\n",
    "        # remove selected row from set of all controls \n",
    "        i = df_ID[(df_ID.image == select_ID.image) & (df_ID.pnummer == select_ID.pnummer)].index\n",
    "\n",
    "        OG_shape = df_ID.shape\n",
    "        df_ID = df_ID.drop(i)\n",
    "        new_shape = df_ID.shape  \n",
    "        \n",
    "\n",
    "        if(OG_shape[0] - new_shape[0]> 1):\n",
    "            print(\"Error\")\n",
    "            \n",
    "print(\"Done finding all ID controls.\")"
   ]
  },
  {
   "cell_type": "code",
   "execution_count": 7,
   "metadata": {},
   "outputs": [
    {
     "name": "stdout",
     "output_type": "stream",
     "text": [
      "(12, 3)\n",
      "(12, 4)\n"
     ]
    }
   ],
   "source": [
    "print(df_select_syn.shape)\n",
    "print(df_select_ID.shape)"
   ]
  },
  {
   "cell_type": "code",
   "execution_count": 8,
   "metadata": {},
   "outputs": [],
   "source": [
    "# save information to 2 Excel files\n",
    "syn_info_save = r\"H:\\Genetica Projecten\\Facial Recognition\\Studenten en Onderzoekers\\Fien\\{}\\{}_patients_info.xlsx\".format(syn_name, syn_name)\n",
    "ID_info_save = r\"H:\\Genetica Projecten\\Facial Recognition\\Studenten en Onderzoekers\\Fien\\{}\\{}_matched_ID_controls_info.xlsx\".format(syn_name, syn_name)\n",
    "df_select_syn.to_excel(syn_info_save)\n",
    "df_select_ID.to_excel(ID_info_save)\n"
   ]
  },
  {
   "cell_type": "markdown",
   "metadata": {},
   "source": [
    "### Open Excel files and write the found images to a new directory"
   ]
  },
  {
   "cell_type": "code",
   "execution_count": 9,
   "metadata": {},
   "outputs": [
    {
     "name": "stdout",
     "output_type": "stream",
     "text": [
      "Done saving ID files.\n"
     ]
    }
   ],
   "source": [
    "ID_dir = r\"H:\\Genetica Projecten\\Facial Recognition\\Studenten en Onderzoekers\\Fien\\ID-controls\"\n",
    "select_ID_dir =  r\"H:\\Genetica Projecten\\Facial Recognition\\Studenten en Onderzoekers\\Fien\\{}\\{}-selected-ID-controls\".format(syn_name, syn_name)\n",
    "\n",
    "# open excel file\n",
    "df_ID = pd.read_excel(ID_info_save)\n",
    "\n",
    "for index,rows in df_ID.iterrows():\n",
    "    pnr = rows['pnummer']\n",
    "    image = rows['image']\n",
    "    \n",
    "    files = [f for f in listdir(ID_dir) if (isfile(join(ID_dir, f)) & ((pnr + \"_small_\" + image.replace(\".JPG\", \"\")) in f))]\n",
    "    if(len(files)==1):\n",
    "        im = Image.open(join(ID_dir, files[0]))\n",
    "        im.save(join(select_ID_dir, files[0]))\n",
    "    else: \n",
    "        print(\"Manually find image for \" + str(pnr) + \"_small_\" + str(image.replace(\".JPG\", \"\")))   \n",
    "        print(\"in \" + str(ID_dir))\n",
    "        \n",
    "print(\"Done saving ID files.\")"
   ]
  },
  {
   "cell_type": "code",
   "execution_count": 10,
   "metadata": {},
   "outputs": [
    {
     "name": "stdout",
     "output_type": "stream",
     "text": [
      "Done saving syndrome files.\n"
     ]
    }
   ],
   "source": [
    "syn_dir = r\"H:\\Genetica Projecten\\Facial Recognition\\Studenten en Onderzoekers\\Fien\\{}\\{}-all-photos\".format(syn_name, syn_name)\n",
    "select_syn_dir = r\"H:\\Genetica Projecten\\Facial Recognition\\Studenten en Onderzoekers\\Fien\\{}\\{}-patients\".format(syn_name, syn_name)\n",
    "\n",
    "df_syn = pd.read_excel(syn_info_save)\n",
    "\n",
    "for index,rows in df_syn.iterrows():\n",
    "    image = rows['image']\n",
    "    files = [f for f in listdir(syn_dir) if (isfile(join(syn_dir, f)) and image.replace(\"ANKRD\",\"ANKRD11\" ) + \".jpg\" in f)]\n",
    "    if(len(files)==1):\n",
    "        im = Image.open(join(syn_dir, files[0]))\n",
    "        im.save(join(select_syn_dir, files[0]))\n",
    "    else: \n",
    "        print(\"Manually find image for image: {}\".format(image))\n",
    "        \n",
    "print(\"Done saving syndrome files.\")"
   ]
  },
  {
   "cell_type": "code",
   "execution_count": null,
   "metadata": {},
   "outputs": [],
   "source": []
  }
 ],
 "metadata": {
  "kernelspec": {
   "display_name": "Python 3",
   "language": "python",
   "name": "python3"
  },
  "language_info": {
   "codemirror_mode": {
    "name": "ipython",
    "version": 3
   },
   "file_extension": ".py",
   "mimetype": "text/x-python",
   "name": "python",
   "nbconvert_exporter": "python",
   "pygments_lexer": "ipython3",
   "version": "3.6.10"
  }
 },
 "nbformat": 4,
 "nbformat_minor": 4
}
