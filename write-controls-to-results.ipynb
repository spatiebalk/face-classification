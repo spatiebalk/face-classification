{
 "cells": [
  {
   "cell_type": "code",
   "execution_count": 11,
   "metadata": {},
   "outputs": [],
   "source": [
    "from os.path import isfile, join\n",
    "from os import listdir\n",
    "import os\n",
    "import glob"
   ]
  },
  {
   "cell_type": "code",
   "execution_count": 10,
   "metadata": {},
   "outputs": [],
   "source": [
    "# so open the current syn_name-selected-ID-controls\n",
    "# and write all the filenames to results/syn_name/syn_name_selected_controls_trial_1\n",
    "\n",
    "# now manually for once, but then integrated after control selection, \n",
    "# before control selection, empty syn_name-patients and syn_name-selected-ID-controls\n",
    "\n",
    "trial_nr = 2\n",
    "syn_list = ['KDVS','ADNP', 'ANKRD11', 'CDK13', 'DEAF1', 'DYRK1A', 'EHMT1', 'FBXO11', 'SON', 'SPOP', 'WAC', 'YY1']  # ['SPOP', 'WAC', 'YY1']\n",
    "for syn_name in syn_list:\n",
    "    \n",
    "    control_dir = r\"H:/Genetica Projecten/Facial Recognition/Studenten en Onderzoekers/Fien/{}/{}-selected-ID-controls\".format(syn_name, syn_name)\n",
    "    control_files = [f for f in listdir(join(control_dir)) if isfile(join(control_dir, f)) and \".jpg\" in f or \".JPG\" in f ]\n",
    "   \n",
    "    syn_dir = r\"H:/Genetica Projecten/Facial Recognition/Studenten en Onderzoekers/Fien/{}/{}-patients\".format(syn_name, syn_name)\n",
    "    syn_files = [f for f in listdir(join(syn_dir)) if isfile(join(syn_dir, f)) and \".jpg\" in f or \".JPG\" in f ]\n",
    "   \n",
    "    control_patient_info = open(\"results/{}/{}-patient-control-info-run-{}.txt\".format(syn_name, syn_name, trial_nr), \"w\")\n",
    "    \n",
    "    control_patient_info.write(\"Patients for syndrome {}\\n\".format(syn_name))\n",
    "    for syn in syn_files:\n",
    "        control_patient_info.write(syn + \"\\n\")\n",
    "   \n",
    "    control_patient_info.write(\"\\nControls for syndrome {}\\n\".format(syn_name))\n",
    "    for control in control_files:\n",
    "        control_patient_info.write(control + \"\\n\")\n",
    "    control_patient_info.close()\n"
   ]
  },
  {
   "cell_type": "code",
   "execution_count": 19,
   "metadata": {},
   "outputs": [],
   "source": [
    "directory = r\"H:\\Genetica Projecten\\Facial Recognition\\Studenten en Onderzoekers\\Fien\\ADNP\\representations-mag-weg\"\n",
    "\n",
    "files = [join(directory, f) for f in listdir(directory)]\n",
    "\n",
    "for file in files:\n",
    "    os.remove(file)"
   ]
  },
  {
   "cell_type": "code",
   "execution_count": null,
   "metadata": {},
   "outputs": [],
   "source": []
  }
 ],
 "metadata": {
  "kernelspec": {
   "display_name": "Python 3",
   "language": "python",
   "name": "python3"
  },
  "language_info": {
   "codemirror_mode": {
    "name": "ipython",
    "version": 3
   },
   "file_extension": ".py",
   "mimetype": "text/x-python",
   "name": "python",
   "nbconvert_exporter": "python",
   "pygments_lexer": "ipython3",
   "version": "3.6.10"
  }
 },
 "nbformat": 4,
 "nbformat_minor": 4
}
